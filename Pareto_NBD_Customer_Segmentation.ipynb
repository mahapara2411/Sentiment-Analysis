{
  "nbformat": 4,
  "nbformat_minor": 0,
  "metadata": {
    "colab": {
      "name": "BG-NBD Segmentation.ipynb",
      "provenance": [],
      "authorship_tag": "ABX9TyMZxZJ6j5ZWLqOo2VCkZ4q6",
      "include_colab_link": true
    },
    "kernelspec": {
      "name": "python3",
      "display_name": "Python 3"
    },
    "language_info": {
      "name": "python"
    }
  },
  "cells": [
    {
      "cell_type": "markdown",
      "metadata": {
        "id": "view-in-github",
        "colab_type": "text"
      },
      "source": [
        "<a href=\"https://colab.research.google.com/github/mahapara2411/Sentiment-Analysis/blob/master/Pareto_NBD_Customer_Segmentation.ipynb\" target=\"_parent\"><img src=\"https://colab.research.google.com/assets/colab-badge.svg\" alt=\"Open In Colab\"/></a>"
      ]
    },
    {
      "cell_type": "code",
      "source": [
        "!pip install lifetimes"
      ],
      "metadata": {
        "colab": {
          "base_uri": "https://localhost:8080/"
        },
        "id": "fUKWtBbQfGz0",
        "outputId": "ec014f71-d8f7-4626-e008-8b652216cb4e"
      },
      "execution_count": 1,
      "outputs": [
        {
          "output_type": "stream",
          "name": "stdout",
          "text": [
            "Looking in indexes: https://pypi.org/simple, https://us-python.pkg.dev/colab-wheels/public/simple/\n",
            "Collecting lifetimes\n",
            "  Downloading Lifetimes-0.11.3-py3-none-any.whl (584 kB)\n",
            "\u001b[K     |████████████████████████████████| 584 kB 4.9 MB/s \n",
            "\u001b[?25hRequirement already satisfied: pandas>=0.24.0 in /usr/local/lib/python3.7/dist-packages (from lifetimes) (1.3.5)\n",
            "Requirement already satisfied: scipy>=1.0.0 in /usr/local/lib/python3.7/dist-packages (from lifetimes) (1.7.3)\n",
            "Requirement already satisfied: dill>=0.2.6 in /usr/local/lib/python3.7/dist-packages (from lifetimes) (0.3.5.1)\n",
            "Requirement already satisfied: numpy>=1.10.0 in /usr/local/lib/python3.7/dist-packages (from lifetimes) (1.21.6)\n",
            "Requirement already satisfied: autograd>=1.2.0 in /usr/local/lib/python3.7/dist-packages (from lifetimes) (1.4)\n",
            "Requirement already satisfied: future>=0.15.2 in /usr/local/lib/python3.7/dist-packages (from autograd>=1.2.0->lifetimes) (0.16.0)\n",
            "Requirement already satisfied: python-dateutil>=2.7.3 in /usr/local/lib/python3.7/dist-packages (from pandas>=0.24.0->lifetimes) (2.8.2)\n",
            "Requirement already satisfied: pytz>=2017.3 in /usr/local/lib/python3.7/dist-packages (from pandas>=0.24.0->lifetimes) (2022.1)\n",
            "Requirement already satisfied: six>=1.5 in /usr/local/lib/python3.7/dist-packages (from python-dateutil>=2.7.3->pandas>=0.24.0->lifetimes) (1.15.0)\n",
            "Installing collected packages: lifetimes\n",
            "Successfully installed lifetimes-0.11.3\n"
          ]
        }
      ]
    },
    {
      "cell_type": "code",
      "execution_count": 2,
      "metadata": {
        "id": "HPqyS5s4XyGZ"
      },
      "outputs": [],
      "source": [
        "import re\n",
        "import matplotlib.pyplot as plt\n",
        "import pandas as pd\n",
        "import numpy as np\n",
        "import seaborn as sns\n",
        "import altair as alt\n",
        "import plotly.express as px\n",
        "import xlrd\n",
        "import pandas as pd\n",
        "import warnings\n",
        "import lifetimes\n",
        "import dill as pickle\n",
        "from sklearn.cluster import KMeans\n",
        "from lifetimes import ParetoNBDFitter, GammaGammaFitter\n",
        "from lifetimes.plotting import plot_frequency_recency_matrix\n",
        "from lifetimes.plotting import plot_probability_alive_matrix\n",
        "from lifetimes.plotting import plot_period_transactions\n",
        "from lifetimes.utils import calibration_and_holdout_data\n",
        "from lifetimes.plotting import plot_history_alive\n",
        "from lifetimes.plotting import plot_calibration_purchases_vs_holdout_purchases\n",
        "from sklearn.metrics import mean_squared_error, r2_score\n",
        "import math\n",
        "from math import sqrt\n",
        "warnings.filterwarnings(\"ignore\")\n",
        "import datetime\n",
        "np.random.seed(42)"
      ]
    },
    {
      "cell_type": "code",
      "source": [
        "data = pd.read_excel(\"Retail_cleaned_dataset.xlsx\")"
      ],
      "metadata": {
        "id": "Y5fbuFr3egAk"
      },
      "execution_count": 3,
      "outputs": []
    },
    {
      "cell_type": "code",
      "source": [
        "data[\"TotalPrice\"] = data[\"Quantity\"]*data[\"Price\"]"
      ],
      "metadata": {
        "id": "A3L4Ren_ejIC"
      },
      "execution_count": 4,
      "outputs": []
    },
    {
      "cell_type": "code",
      "source": [
        "data.head()"
      ],
      "metadata": {
        "colab": {
          "base_uri": "https://localhost:8080/",
          "height": 206
        },
        "id": "l6SPb0x_fENH",
        "outputId": "50fe1f0b-9182-4c7f-a8f8-61ce1b5458a2"
      },
      "execution_count": 5,
      "outputs": [
        {
          "output_type": "execute_result",
          "data": {
            "text/plain": [
              "   Invoice StockCode                          Description  Quantity  \\\n",
              "0   489434     85048  15CM CHRISTMAS GLASS BALL 20 LIGHTS        12   \n",
              "1   489434    79323P                   PINK CHERRY LIGHTS        12   \n",
              "2   489434    79323W                  WHITE CHERRY LIGHTS        12   \n",
              "3   489434     22041         RECORD FRAME 7\" SINGLE SIZE         48   \n",
              "4   489434     21232       STRAWBERRY CERAMIC TRINKET BOX        24   \n",
              "\n",
              "          InvoiceDate  Price  CustomerID         Country  TotalPrice  \n",
              "0 2019-12-01 07:45:00   6.95       13085  United Kingdom        83.4  \n",
              "1 2019-12-01 07:45:00   6.75       13085  United Kingdom        81.0  \n",
              "2 2019-12-01 07:45:00   6.75       13085  United Kingdom        81.0  \n",
              "3 2019-12-01 07:45:00   2.10       13085  United Kingdom       100.8  \n",
              "4 2019-12-01 07:45:00   1.25       13085  United Kingdom        30.0  "
            ],
            "text/html": [
              "\n",
              "  <div id=\"df-36f9599f-e8ca-4031-b534-c1c3aab5aba3\">\n",
              "    <div class=\"colab-df-container\">\n",
              "      <div>\n",
              "<style scoped>\n",
              "    .dataframe tbody tr th:only-of-type {\n",
              "        vertical-align: middle;\n",
              "    }\n",
              "\n",
              "    .dataframe tbody tr th {\n",
              "        vertical-align: top;\n",
              "    }\n",
              "\n",
              "    .dataframe thead th {\n",
              "        text-align: right;\n",
              "    }\n",
              "</style>\n",
              "<table border=\"1\" class=\"dataframe\">\n",
              "  <thead>\n",
              "    <tr style=\"text-align: right;\">\n",
              "      <th></th>\n",
              "      <th>Invoice</th>\n",
              "      <th>StockCode</th>\n",
              "      <th>Description</th>\n",
              "      <th>Quantity</th>\n",
              "      <th>InvoiceDate</th>\n",
              "      <th>Price</th>\n",
              "      <th>CustomerID</th>\n",
              "      <th>Country</th>\n",
              "      <th>TotalPrice</th>\n",
              "    </tr>\n",
              "  </thead>\n",
              "  <tbody>\n",
              "    <tr>\n",
              "      <th>0</th>\n",
              "      <td>489434</td>\n",
              "      <td>85048</td>\n",
              "      <td>15CM CHRISTMAS GLASS BALL 20 LIGHTS</td>\n",
              "      <td>12</td>\n",
              "      <td>2019-12-01 07:45:00</td>\n",
              "      <td>6.95</td>\n",
              "      <td>13085</td>\n",
              "      <td>United Kingdom</td>\n",
              "      <td>83.4</td>\n",
              "    </tr>\n",
              "    <tr>\n",
              "      <th>1</th>\n",
              "      <td>489434</td>\n",
              "      <td>79323P</td>\n",
              "      <td>PINK CHERRY LIGHTS</td>\n",
              "      <td>12</td>\n",
              "      <td>2019-12-01 07:45:00</td>\n",
              "      <td>6.75</td>\n",
              "      <td>13085</td>\n",
              "      <td>United Kingdom</td>\n",
              "      <td>81.0</td>\n",
              "    </tr>\n",
              "    <tr>\n",
              "      <th>2</th>\n",
              "      <td>489434</td>\n",
              "      <td>79323W</td>\n",
              "      <td>WHITE CHERRY LIGHTS</td>\n",
              "      <td>12</td>\n",
              "      <td>2019-12-01 07:45:00</td>\n",
              "      <td>6.75</td>\n",
              "      <td>13085</td>\n",
              "      <td>United Kingdom</td>\n",
              "      <td>81.0</td>\n",
              "    </tr>\n",
              "    <tr>\n",
              "      <th>3</th>\n",
              "      <td>489434</td>\n",
              "      <td>22041</td>\n",
              "      <td>RECORD FRAME 7\" SINGLE SIZE</td>\n",
              "      <td>48</td>\n",
              "      <td>2019-12-01 07:45:00</td>\n",
              "      <td>2.10</td>\n",
              "      <td>13085</td>\n",
              "      <td>United Kingdom</td>\n",
              "      <td>100.8</td>\n",
              "    </tr>\n",
              "    <tr>\n",
              "      <th>4</th>\n",
              "      <td>489434</td>\n",
              "      <td>21232</td>\n",
              "      <td>STRAWBERRY CERAMIC TRINKET BOX</td>\n",
              "      <td>24</td>\n",
              "      <td>2019-12-01 07:45:00</td>\n",
              "      <td>1.25</td>\n",
              "      <td>13085</td>\n",
              "      <td>United Kingdom</td>\n",
              "      <td>30.0</td>\n",
              "    </tr>\n",
              "  </tbody>\n",
              "</table>\n",
              "</div>\n",
              "      <button class=\"colab-df-convert\" onclick=\"convertToInteractive('df-36f9599f-e8ca-4031-b534-c1c3aab5aba3')\"\n",
              "              title=\"Convert this dataframe to an interactive table.\"\n",
              "              style=\"display:none;\">\n",
              "        \n",
              "  <svg xmlns=\"http://www.w3.org/2000/svg\" height=\"24px\"viewBox=\"0 0 24 24\"\n",
              "       width=\"24px\">\n",
              "    <path d=\"M0 0h24v24H0V0z\" fill=\"none\"/>\n",
              "    <path d=\"M18.56 5.44l.94 2.06.94-2.06 2.06-.94-2.06-.94-.94-2.06-.94 2.06-2.06.94zm-11 1L8.5 8.5l.94-2.06 2.06-.94-2.06-.94L8.5 2.5l-.94 2.06-2.06.94zm10 10l.94 2.06.94-2.06 2.06-.94-2.06-.94-.94-2.06-.94 2.06-2.06.94z\"/><path d=\"M17.41 7.96l-1.37-1.37c-.4-.4-.92-.59-1.43-.59-.52 0-1.04.2-1.43.59L10.3 9.45l-7.72 7.72c-.78.78-.78 2.05 0 2.83L4 21.41c.39.39.9.59 1.41.59.51 0 1.02-.2 1.41-.59l7.78-7.78 2.81-2.81c.8-.78.8-2.07 0-2.86zM5.41 20L4 18.59l7.72-7.72 1.47 1.35L5.41 20z\"/>\n",
              "  </svg>\n",
              "      </button>\n",
              "      \n",
              "  <style>\n",
              "    .colab-df-container {\n",
              "      display:flex;\n",
              "      flex-wrap:wrap;\n",
              "      gap: 12px;\n",
              "    }\n",
              "\n",
              "    .colab-df-convert {\n",
              "      background-color: #E8F0FE;\n",
              "      border: none;\n",
              "      border-radius: 50%;\n",
              "      cursor: pointer;\n",
              "      display: none;\n",
              "      fill: #1967D2;\n",
              "      height: 32px;\n",
              "      padding: 0 0 0 0;\n",
              "      width: 32px;\n",
              "    }\n",
              "\n",
              "    .colab-df-convert:hover {\n",
              "      background-color: #E2EBFA;\n",
              "      box-shadow: 0px 1px 2px rgba(60, 64, 67, 0.3), 0px 1px 3px 1px rgba(60, 64, 67, 0.15);\n",
              "      fill: #174EA6;\n",
              "    }\n",
              "\n",
              "    [theme=dark] .colab-df-convert {\n",
              "      background-color: #3B4455;\n",
              "      fill: #D2E3FC;\n",
              "    }\n",
              "\n",
              "    [theme=dark] .colab-df-convert:hover {\n",
              "      background-color: #434B5C;\n",
              "      box-shadow: 0px 1px 3px 1px rgba(0, 0, 0, 0.15);\n",
              "      filter: drop-shadow(0px 1px 2px rgba(0, 0, 0, 0.3));\n",
              "      fill: #FFFFFF;\n",
              "    }\n",
              "  </style>\n",
              "\n",
              "      <script>\n",
              "        const buttonEl =\n",
              "          document.querySelector('#df-36f9599f-e8ca-4031-b534-c1c3aab5aba3 button.colab-df-convert');\n",
              "        buttonEl.style.display =\n",
              "          google.colab.kernel.accessAllowed ? 'block' : 'none';\n",
              "\n",
              "        async function convertToInteractive(key) {\n",
              "          const element = document.querySelector('#df-36f9599f-e8ca-4031-b534-c1c3aab5aba3');\n",
              "          const dataTable =\n",
              "            await google.colab.kernel.invokeFunction('convertToInteractive',\n",
              "                                                     [key], {});\n",
              "          if (!dataTable) return;\n",
              "\n",
              "          const docLinkHtml = 'Like what you see? Visit the ' +\n",
              "            '<a target=\"_blank\" href=https://colab.research.google.com/notebooks/data_table.ipynb>data table notebook</a>'\n",
              "            + ' to learn more about interactive tables.';\n",
              "          element.innerHTML = '';\n",
              "          dataTable['output_type'] = 'display_data';\n",
              "          await google.colab.output.renderOutput(dataTable, element);\n",
              "          const docLink = document.createElement('div');\n",
              "          docLink.innerHTML = docLinkHtml;\n",
              "          element.appendChild(docLink);\n",
              "        }\n",
              "      </script>\n",
              "    </div>\n",
              "  </div>\n",
              "  "
            ]
          },
          "metadata": {},
          "execution_count": 5
        }
      ]
    },
    {
      "cell_type": "code",
      "source": [
        "rfm_summary = lifetimes.utils.summary_data_from_transaction_data(data, \"CustomerID\", \"InvoiceDate\", \"TotalPrice\")"
      ],
      "metadata": {
        "id": "OlqIkrQlfL54"
      },
      "execution_count": 6,
      "outputs": []
    },
    {
      "cell_type": "code",
      "source": [
        "rfm_summary.reset_index(inplace = True)"
      ],
      "metadata": {
        "id": "fR70aZNGfQ4f"
      },
      "execution_count": 7,
      "outputs": []
    },
    {
      "cell_type": "code",
      "source": [
        "#plotting the distribution\n",
        "plt.figure(figsize=(14,8))\n",
        "plt.subplot(221)\n",
        "sns.distplot(rfm_summary[\"frequency\"])\n",
        "plt.title(\"Frequency Distribution\")\n",
        "plt.subplot(222)\n",
        "sns.distplot(rfm_summary[\"recency\"])\n",
        "plt.title(\"Recency Distribution\")\n",
        "plt.subplot(223)\n",
        "sns.distplot(rfm_summary[\"T\"])\n",
        "plt.title(\"T Distribution\")\n",
        "plt.subplot(224)\n",
        "sns.distplot(rfm_summary[\"monetary_value\"])\n",
        "plt.title(\"Monetary Value Distribution\")\n",
        "plt.tight_layout()"
      ],
      "metadata": {
        "colab": {
          "base_uri": "https://localhost:8080/",
          "height": 585
        },
        "id": "ZS-JLxc9fTFv",
        "outputId": "dbac0dab-d998-455c-9412-b8bba054afac"
      },
      "execution_count": 8,
      "outputs": [
        {
          "output_type": "display_data",
          "data": {
            "text/plain": [
              "<Figure size 1008x576 with 4 Axes>"
            ],
            "image/png": "[encoded data removed]"
          },
          "metadata": {
            "needs_background": "light"
          }
        }
      ]
    },
    {
      "cell_type": "code",
      "source": [
        "plt.figure(figsize=(16,5))\n",
        "plt.subplot(141)\n",
        "sns.boxplot(rfm_summary[\"frequency\"], color = \"olive\")\n",
        "plt.title(\"Frequency\")\n",
        "plt.subplot(142)\n",
        "sns.boxplot(rfm_summary[\"recency\"])\n",
        "plt.title(\"Recency\")\n",
        "plt.subplot(143)\n",
        "sns.boxplot(rfm_summary[\"T\"])\n",
        "plt.title(\"T\")\n",
        "plt.subplot(144)\n",
        "sns.boxplot(rfm_summary[\"monetary_value\"], color = \"salmon\")\n",
        "\n",
        "plt.tight_layout()"
      ],
      "metadata": {
        "colab": {
          "base_uri": "https://localhost:8080/",
          "height": 369
        },
        "id": "-mXgvh1AfUuX",
        "outputId": "d38add3b-ee1e-47ba-f4f3-466766bb859f"
      },
      "execution_count": 9,
      "outputs": [
        {
          "output_type": "display_data",
          "data": {
            "text/plain": [
              "<Figure size 1152x360 with 4 Axes>"
            ],
            "image/png": "[encoded data removed]"
          },
          "metadata": {
            "needs_background": "light"
          }
        }
      ]
    },
    {
      "cell_type": "code",
      "source": [
        "rfm_summary.describe(percentiles = [0.01,0.1,0.25,0.50,0.75,0.90,0.99])"
      ],
      "metadata": {
        "colab": {
          "base_uri": "https://localhost:8080/",
          "height": 426
        },
        "id": "YnhFoM6jfXOL",
        "outputId": "ace9a78e-cc0c-4c0c-cdff-7a52b0567b1b"
      },
      "execution_count": 10,
      "outputs": [
        {
          "output_type": "execute_result",
          "data": {
            "text/plain": [
              "         CustomerID    frequency      recency            T  monetary_value\n",
              "count   5878.000000  5878.000000  5878.000000  5878.000000     5878.000000\n",
              "mean   15315.313542     4.632358   273.647669   474.551718      312.996561\n",
              "std     1715.572666     9.999783   259.242435   223.394778     2255.743170\n",
              "min    12346.000000     0.000000     0.000000     0.000000        0.000000\n",
              "1%     12405.770000     0.000000     0.000000    15.000000        0.000000\n",
              "10%    12936.700000     0.000000     0.000000    89.000000        0.000000\n",
              "25%    13833.250000     0.000000     0.000000   313.000000        0.000000\n",
              "50%    15314.500000     2.000000   221.000000   530.000000      207.117500\n",
              "75%    16797.750000     5.000000   512.000000   669.000000      368.045909\n",
              "90%    17696.300000    11.000000   668.000000   731.000000      591.139417\n",
              "99%    18228.230000    38.000000   733.000000   739.000000     1789.449437\n",
              "max    18287.000000   254.000000   739.000000   739.000000   168469.600000"
            ],
            "text/html": [
              "\n",
              "  <div id=\"df-fbcb9664-d4a0-40d5-8bc1-776917a08c6b\">\n",
              "    <div class=\"colab-df-container\">\n",
              "      <div>\n",
              "<style scoped>\n",
              "    .dataframe tbody tr th:only-of-type {\n",
              "        vertical-align: middle;\n",
              "    }\n",
              "\n",
              "    .dataframe tbody tr th {\n",
              "        vertical-align: top;\n",
              "    }\n",
              "\n",
              "    .dataframe thead th {\n",
              "        text-align: right;\n",
              "    }\n",
              "</style>\n",
              "<table border=\"1\" class=\"dataframe\">\n",
              "  <thead>\n",
              "    <tr style=\"text-align: right;\">\n",
              "      <th></th>\n",
              "      <th>CustomerID</th>\n",
              "      <th>frequency</th>\n",
              "      <th>recency</th>\n",
              "      <th>T</th>\n",
              "      <th>monetary_value</th>\n",
              "    </tr>\n",
              "  </thead>\n",
              "  <tbody>\n",
              "    <tr>\n",
              "      <th>count</th>\n",
              "      <td>5878.000000</td>\n",
              "      <td>5878.000000</td>\n",
              "      <td>5878.000000</td>\n",
              "      <td>5878.000000</td>\n",
              "      <td>5878.000000</td>\n",
              "    </tr>\n",
              "    <tr>\n",
              "      <th>mean</th>\n",
              "      <td>15315.313542</td>\n",
              "      <td>4.632358</td>\n",
              "      <td>273.647669</td>\n",
              "      <td>474.551718</td>\n",
              "      <td>312.996561</td>\n",
              "    </tr>\n",
              "    <tr>\n",
              "      <th>std</th>\n",
              "      <td>1715.572666</td>\n",
              "      <td>9.999783</td>\n",
              "      <td>259.242435</td>\n",
              "      <td>223.394778</td>\n",
              "      <td>2255.743170</td>\n",
              "    </tr>\n",
              "    <tr>\n",
              "      <th>min</th>\n",
              "      <td>12346.000000</td>\n",
              "      <td>0.000000</td>\n",
              "      <td>0.000000</td>\n",
              "      <td>0.000000</td>\n",
              "      <td>0.000000</td>\n",
              "    </tr>\n",
              "    <tr>\n",
              "      <th>1%</th>\n",
              "      <td>12405.770000</td>\n",
              "      <td>0.000000</td>\n",
              "      <td>0.000000</td>\n",
              "      <td>15.000000</td>\n",
              "      <td>0.000000</td>\n",
              "    </tr>\n",
              "    <tr>\n",
              "      <th>10%</th>\n",
              "      <td>12936.700000</td>\n",
              "      <td>0.000000</td>\n",
              "      <td>0.000000</td>\n",
              "      <td>89.000000</td>\n",
              "      <td>0.000000</td>\n",
              "    </tr>\n",
              "    <tr>\n",
              "      <th>25%</th>\n",
              "      <td>13833.250000</td>\n",
              "      <td>0.000000</td>\n",
              "      <td>0.000000</td>\n",
              "      <td>313.000000</td>\n",
              "      <td>0.000000</td>\n",
              "    </tr>\n",
              "    <tr>\n",
              "      <th>50%</th>\n",
              "      <td>15314.500000</td>\n",
              "      <td>2.000000</td>\n",
              "      <td>221.000000</td>\n",
              "      <td>530.000000</td>\n",
              "      <td>207.117500</td>\n",
              "    </tr>\n",
              "    <tr>\n",
              "      <th>75%</th>\n",
              "      <td>16797.750000</td>\n",
              "      <td>5.000000</td>\n",
              "      <td>512.000000</td>\n",
              "      <td>669.000000</td>\n",
              "      <td>368.045909</td>\n",
              "    </tr>\n",
              "    <tr>\n",
              "      <th>90%</th>\n",
              "      <td>17696.300000</td>\n",
              "      <td>11.000000</td>\n",
              "      <td>668.000000</td>\n",
              "      <td>731.000000</td>\n",
              "      <td>591.139417</td>\n",
              "    </tr>\n",
              "    <tr>\n",
              "      <th>99%</th>\n",
              "      <td>18228.230000</td>\n",
              "      <td>38.000000</td>\n",
              "      <td>733.000000</td>\n",
              "      <td>739.000000</td>\n",
              "      <td>1789.449437</td>\n",
              "    </tr>\n",
              "    <tr>\n",
              "      <th>max</th>\n",
              "      <td>18287.000000</td>\n",
              "      <td>254.000000</td>\n",
              "      <td>739.000000</td>\n",
              "      <td>739.000000</td>\n",
              "      <td>168469.600000</td>\n",
              "    </tr>\n",
              "  </tbody>\n",
              "</table>\n",
              "</div>\n",
              "      <button class=\"colab-df-convert\" onclick=\"convertToInteractive('df-fbcb9664-d4a0-40d5-8bc1-776917a08c6b')\"\n",
              "              title=\"Convert this dataframe to an interactive table.\"\n",
              "              style=\"display:none;\">\n",
              "        \n",
              "  <svg xmlns=\"http://www.w3.org/2000/svg\" height=\"24px\"viewBox=\"0 0 24 24\"\n",
              "       width=\"24px\">\n",
              "    <path d=\"M0 0h24v24H0V0z\" fill=\"none\"/>\n",
              "    <path d=\"M18.56 5.44l.94 2.06.94-2.06 2.06-.94-2.06-.94-.94-2.06-.94 2.06-2.06.94zm-11 1L8.5 8.5l.94-2.06 2.06-.94-2.06-.94L8.5 2.5l-.94 2.06-2.06.94zm10 10l.94 2.06.94-2.06 2.06-.94-2.06-.94-.94-2.06-.94 2.06-2.06.94z\"/><path d=\"M17.41 7.96l-1.37-1.37c-.4-.4-.92-.59-1.43-.59-.52 0-1.04.2-1.43.59L10.3 9.45l-7.72 7.72c-.78.78-.78 2.05 0 2.83L4 21.41c.39.39.9.59 1.41.59.51 0 1.02-.2 1.41-.59l7.78-7.78 2.81-2.81c.8-.78.8-2.07 0-2.86zM5.41 20L4 18.59l7.72-7.72 1.47 1.35L5.41 20z\"/>\n",
              "  </svg>\n",
              "      </button>\n",
              "      \n",
              "  <style>\n",
              "    .colab-df-container {\n",
              "      display:flex;\n",
              "      flex-wrap:wrap;\n",
              "      gap: 12px;\n",
              "    }\n",
              "\n",
              "    .colab-df-convert {\n",
              "      background-color: #E8F0FE;\n",
              "      border: none;\n",
              "      border-radius: 50%;\n",
              "      cursor: pointer;\n",
              "      display: none;\n",
              "      fill: #1967D2;\n",
              "      height: 32px;\n",
              "      padding: 0 0 0 0;\n",
              "      width: 32px;\n",
              "    }\n",
              "\n",
              "    .colab-df-convert:hover {\n",
              "      background-color: #E2EBFA;\n",
              "      box-shadow: 0px 1px 2px rgba(60, 64, 67, 0.3), 0px 1px 3px 1px rgba(60, 64, 67, 0.15);\n",
              "      fill: #174EA6;\n",
              "    }\n",
              "\n",
              "    [theme=dark] .colab-df-convert {\n",
              "      background-color: #3B4455;\n",
              "      fill: #D2E3FC;\n",
              "    }\n",
              "\n",
              "    [theme=dark] .colab-df-convert:hover {\n",
              "      background-color: #434B5C;\n",
              "      box-shadow: 0px 1px 3px 1px rgba(0, 0, 0, 0.15);\n",
              "      filter: drop-shadow(0px 1px 2px rgba(0, 0, 0, 0.3));\n",
              "      fill: #FFFFFF;\n",
              "    }\n",
              "  </style>\n",
              "\n",
              "      <script>\n",
              "        const buttonEl =\n",
              "          document.querySelector('#df-fbcb9664-d4a0-40d5-8bc1-776917a08c6b button.colab-df-convert');\n",
              "        buttonEl.style.display =\n",
              "          google.colab.kernel.accessAllowed ? 'block' : 'none';\n",
              "\n",
              "        async function convertToInteractive(key) {\n",
              "          const element = document.querySelector('#df-fbcb9664-d4a0-40d5-8bc1-776917a08c6b');\n",
              "          const dataTable =\n",
              "            await google.colab.kernel.invokeFunction('convertToInteractive',\n",
              "                                                     [key], {});\n",
              "          if (!dataTable) return;\n",
              "\n",
              "          const docLinkHtml = 'Like what you see? Visit the ' +\n",
              "            '<a target=\"_blank\" href=https://colab.research.google.com/notebooks/data_table.ipynb>data table notebook</a>'\n",
              "            + ' to learn more about interactive tables.';\n",
              "          element.innerHTML = '';\n",
              "          dataTable['output_type'] = 'display_data';\n",
              "          await google.colab.output.renderOutput(dataTable, element);\n",
              "          const docLink = document.createElement('div');\n",
              "          docLink.innerHTML = docLinkHtml;\n",
              "          element.appendChild(docLink);\n",
              "        }\n",
              "      </script>\n",
              "    </div>\n",
              "  </div>\n",
              "  "
            ]
          },
          "metadata": {},
          "execution_count": 10
        }
      ]
    },
    {
      "cell_type": "code",
      "source": [
        "rfm_summary.head()"
      ],
      "metadata": {
        "colab": {
          "base_uri": "https://localhost:8080/",
          "height": 206
        },
        "id": "n7PY-cgafOBd",
        "outputId": "f3afe1ed-29a4-4e82-a20c-03c94c07b0cc"
      },
      "execution_count": 11,
      "outputs": [
        {
          "output_type": "execute_result",
          "data": {
            "text/plain": [
              "   CustomerID  frequency  recency      T  monetary_value\n",
              "0       12346        7.0    401.0  726.0    11066.637143\n",
              "1       12347        7.0    402.0  404.0      615.714286\n",
              "2       12348        4.0    363.0  438.0      449.310000\n",
              "3       12349        3.0    571.0  589.0     1120.056667\n",
              "4       12350        0.0      0.0  310.0        0.000000"
            ],
            "text/html": [
              "\n",
              "  <div id=\"df-ddef50c1-cc78-4bda-9822-65e56addb827\">\n",
              "    <div class=\"colab-df-container\">\n",
              "      <div>\n",
              "<style scoped>\n",
              "    .dataframe tbody tr th:only-of-type {\n",
              "        vertical-align: middle;\n",
              "    }\n",
              "\n",
              "    .dataframe tbody tr th {\n",
              "        vertical-align: top;\n",
              "    }\n",
              "\n",
              "    .dataframe thead th {\n",
              "        text-align: right;\n",
              "    }\n",
              "</style>\n",
              "<table border=\"1\" class=\"dataframe\">\n",
              "  <thead>\n",
              "    <tr style=\"text-align: right;\">\n",
              "      <th></th>\n",
              "      <th>CustomerID</th>\n",
              "      <th>frequency</th>\n",
              "      <th>recency</th>\n",
              "      <th>T</th>\n",
              "      <th>monetary_value</th>\n",
              "    </tr>\n",
              "  </thead>\n",
              "  <tbody>\n",
              "    <tr>\n",
              "      <th>0</th>\n",
              "      <td>12346</td>\n",
              "      <td>7.0</td>\n",
              "      <td>401.0</td>\n",
              "      <td>726.0</td>\n",
              "      <td>11066.637143</td>\n",
              "    </tr>\n",
              "    <tr>\n",
              "      <th>1</th>\n",
              "      <td>12347</td>\n",
              "      <td>7.0</td>\n",
              "      <td>402.0</td>\n",
              "      <td>404.0</td>\n",
              "      <td>615.714286</td>\n",
              "    </tr>\n",
              "    <tr>\n",
              "      <th>2</th>\n",
              "      <td>12348</td>\n",
              "      <td>4.0</td>\n",
              "      <td>363.0</td>\n",
              "      <td>438.0</td>\n",
              "      <td>449.310000</td>\n",
              "    </tr>\n",
              "    <tr>\n",
              "      <th>3</th>\n",
              "      <td>12349</td>\n",
              "      <td>3.0</td>\n",
              "      <td>571.0</td>\n",
              "      <td>589.0</td>\n",
              "      <td>1120.056667</td>\n",
              "    </tr>\n",
              "    <tr>\n",
              "      <th>4</th>\n",
              "      <td>12350</td>\n",
              "      <td>0.0</td>\n",
              "      <td>0.0</td>\n",
              "      <td>310.0</td>\n",
              "      <td>0.000000</td>\n",
              "    </tr>\n",
              "  </tbody>\n",
              "</table>\n",
              "</div>\n",
              "      <button class=\"colab-df-convert\" onclick=\"convertToInteractive('df-ddef50c1-cc78-4bda-9822-65e56addb827')\"\n",
              "              title=\"Convert this dataframe to an interactive table.\"\n",
              "              style=\"display:none;\">\n",
              "        \n",
              "  <svg xmlns=\"http://www.w3.org/2000/svg\" height=\"24px\"viewBox=\"0 0 24 24\"\n",
              "       width=\"24px\">\n",
              "    <path d=\"M0 0h24v24H0V0z\" fill=\"none\"/>\n",
              "    <path d=\"M18.56 5.44l.94 2.06.94-2.06 2.06-.94-2.06-.94-.94-2.06-.94 2.06-2.06.94zm-11 1L8.5 8.5l.94-2.06 2.06-.94-2.06-.94L8.5 2.5l-.94 2.06-2.06.94zm10 10l.94 2.06.94-2.06 2.06-.94-2.06-.94-.94-2.06-.94 2.06-2.06.94z\"/><path d=\"M17.41 7.96l-1.37-1.37c-.4-.4-.92-.59-1.43-.59-.52 0-1.04.2-1.43.59L10.3 9.45l-7.72 7.72c-.78.78-.78 2.05 0 2.83L4 21.41c.39.39.9.59 1.41.59.51 0 1.02-.2 1.41-.59l7.78-7.78 2.81-2.81c.8-.78.8-2.07 0-2.86zM5.41 20L4 18.59l7.72-7.72 1.47 1.35L5.41 20z\"/>\n",
              "  </svg>\n",
              "      </button>\n",
              "      \n",
              "  <style>\n",
              "    .colab-df-container {\n",
              "      display:flex;\n",
              "      flex-wrap:wrap;\n",
              "      gap: 12px;\n",
              "    }\n",
              "\n",
              "    .colab-df-convert {\n",
              "      background-color: #E8F0FE;\n",
              "      border: none;\n",
              "      border-radius: 50%;\n",
              "      cursor: pointer;\n",
              "      display: none;\n",
              "      fill: #1967D2;\n",
              "      height: 32px;\n",
              "      padding: 0 0 0 0;\n",
              "      width: 32px;\n",
              "    }\n",
              "\n",
              "    .colab-df-convert:hover {\n",
              "      background-color: #E2EBFA;\n",
              "      box-shadow: 0px 1px 2px rgba(60, 64, 67, 0.3), 0px 1px 3px 1px rgba(60, 64, 67, 0.15);\n",
              "      fill: #174EA6;\n",
              "    }\n",
              "\n",
              "    [theme=dark] .colab-df-convert {\n",
              "      background-color: #3B4455;\n",
              "      fill: #D2E3FC;\n",
              "    }\n",
              "\n",
              "    [theme=dark] .colab-df-convert:hover {\n",
              "      background-color: #434B5C;\n",
              "      box-shadow: 0px 1px 3px 1px rgba(0, 0, 0, 0.15);\n",
              "      filter: drop-shadow(0px 1px 2px rgba(0, 0, 0, 0.3));\n",
              "      fill: #FFFFFF;\n",
              "    }\n",
              "  </style>\n",
              "\n",
              "      <script>\n",
              "        const buttonEl =\n",
              "          document.querySelector('#df-ddef50c1-cc78-4bda-9822-65e56addb827 button.colab-df-convert');\n",
              "        buttonEl.style.display =\n",
              "          google.colab.kernel.accessAllowed ? 'block' : 'none';\n",
              "\n",
              "        async function convertToInteractive(key) {\n",
              "          const element = document.querySelector('#df-ddef50c1-cc78-4bda-9822-65e56addb827');\n",
              "          const dataTable =\n",
              "            await google.colab.kernel.invokeFunction('convertToInteractive',\n",
              "                                                     [key], {});\n",
              "          if (!dataTable) return;\n",
              "\n",
              "          const docLinkHtml = 'Like what you see? Visit the ' +\n",
              "            '<a target=\"_blank\" href=https://colab.research.google.com/notebooks/data_table.ipynb>data table notebook</a>'\n",
              "            + ' to learn more about interactive tables.';\n",
              "          element.innerHTML = '';\n",
              "          dataTable['output_type'] = 'display_data';\n",
              "          await google.colab.output.renderOutput(dataTable, element);\n",
              "          const docLink = document.createElement('div');\n",
              "          docLink.innerHTML = docLinkHtml;\n",
              "          element.appendChild(docLink);\n",
              "        }\n",
              "      </script>\n",
              "    </div>\n",
              "  </div>\n",
              "  "
            ]
          },
          "metadata": {},
          "execution_count": 11
        }
      ]
    },
    {
      "cell_type": "markdown",
      "source": [
        "**Pareto/NBD Model**"
      ],
      "metadata": {
        "id": "iuv4vhI6g-6g"
      }
    },
    {
      "cell_type": "code",
      "source": [
        "def get_model(data, penalizer_val, time):\n",
        "    \n",
        "    pareto_result = data.copy()\n",
        "\n",
        "    pareto_model = ParetoNBDFitter(penalizer_coef = penalizer_val)\n",
        "    pareto_model.fit(pareto_result[\"frequency\"], pareto_result[\"recency\"], pareto_result[\"T\"])\n",
        "\n",
        "    #calculating the predicted_purchases\n",
        "\n",
        "    t = time\n",
        "\n",
        "    pareto_result[\"predicted_purchases\"] = pareto_model.conditional_expected_number_of_purchases_up_to_time(t, pareto_result[\"frequency\"], pareto_result[\"recency\"], pareto_result[\"T\"])\n",
        "\n",
        "\n",
        "    pareto_result[\"Actual_Purchases\"] = pareto_result[\"frequency\"]/pareto_result[\"recency\"]*time\n",
        "\n",
        "    #filling the null values\n",
        "    pareto_result[\"Actual_Purchases\"].fillna(0, inplace = True)\n",
        "\n",
        "\n",
        "    #calculating the error\n",
        "    pareto_result[\"Prediction_Error\"] = pareto_result[\"Actual_Purchases\"]-pareto_result[\"predicted_purchases\"]\n",
        "\n",
        "    #calcuating the purchase prediction error\n",
        "    pareto_mse_purchase = mean_squared_error(pareto_result[\"Actual_Purchases\"], pareto_result[\"predicted_purchases\"])\n",
        "    pareto_r2_purchase = r2_score(pareto_result[\"Actual_Purchases\"], pareto_result[\"predicted_purchases\"])\n",
        "    pareto_rmse_purchase = sqrt(mean_squared_error(pareto_result[\"Actual_Purchases\"], pareto_result[\"predicted_purchases\"]))\n",
        "    pareto_avg_error_purchase = pareto_result[\"Prediction_Error\"].mean()\n",
        "    \n",
        "    #printing the purchase prediction error\n",
        "    print(\"Predicted Purchase Mean Squared Error: %s\" %(pareto_mse_purchase))\n",
        "    print(\"Predicted Purchase R2 Score: %s\" %(pareto_r2_purchase))\n",
        "    print(\"Predicted Purchase Root Mean Squared Error: %s\" %(pareto_rmse_purchase))\n",
        "    print(\"Predicted Purchase Average Purchases Error: %s\" %(pareto_avg_error_purchase))\n",
        "    \n",
        "    \n",
        "    #plotting the prediction v/s actual purchase plot\n",
        "    plt.figure(figsize=(6,4))\n",
        "    plt.errorbar(pareto_result[\"Actual_Purchases\"], pareto_result[\"predicted_purchases\"], yerr=pareto_result[\"Prediction_Error\"], fmt='o', color='darkseagreen',\n",
        "                 ecolor='grey', elinewidth=1.5, capsize=0, alpha = 0.2);\n",
        "    plt.title(\"Prediction v/s Actual\")"
      ],
      "metadata": {
        "id": "jMQb76BKhEq7"
      },
      "execution_count": 12,
      "outputs": []
    },
    {
      "cell_type": "code",
      "source": [
        "get_model(rfm_summary, 0.001, 30)"
      ],
      "metadata": {
        "colab": {
          "base_uri": "https://localhost:8080/",
          "height": 350
        },
        "id": "pQtkdwfLhH_R",
        "outputId": "5bc06baf-4c67-440b-b524-d5d3a626afe2"
      },
      "execution_count": 13,
      "outputs": [
        {
          "output_type": "stream",
          "name": "stdout",
          "text": [
            "Predicted Purchase Mean Squared Error: 2.2178054572100874\n",
            "Predicted Purchase R2 Score: 0.060510353555273455\n",
            "Predicted Purchase Root Mean Squared Error: 1.4892298201453285\n",
            "Predicted Purchase Average Purchases Error: 0.23184043664196166\n"
          ]
        },
        {
          "output_type": "display_data",
          "data": {
            "text/plain": [
              "<Figure size 432x288 with 1 Axes>"
            ],
            "image/png": "[encoded data removed]"
          },
          "metadata": {
            "needs_background": "light"
          }
        }
      ]
    },
    {
      "cell_type": "code",
      "source": [
        "pareto_model = lifetimes.ParetoNBDFitter(penalizer_coef = 0.1)"
      ],
      "metadata": {
        "id": "YKmCqo2ehKXG"
      },
      "execution_count": 14,
      "outputs": []
    },
    {
      "cell_type": "code",
      "source": [
        "pareto_model.fit(rfm_summary[\"frequency\"],rfm_summary[\"recency\"],\n",
        "                rfm_summary[\"T\"])"
      ],
      "metadata": {
        "colab": {
          "base_uri": "https://localhost:8080/"
        },
        "id": "saa07EC9hL2c",
        "outputId": "17266931-fb79-49b9-a88b-bc9dd815963d"
      },
      "execution_count": 15,
      "outputs": [
        {
          "output_type": "execute_result",
          "data": {
            "text/plain": [
              "<lifetimes.ParetoNBDFitter: fitted with 5878 subjects, alpha: 72.03, beta: 385.66, r: 0.74, s: 0.18>"
            ]
          },
          "metadata": {},
          "execution_count": 15
        }
      ]
    },
    {
      "cell_type": "code",
      "source": [
        "plt.figure(figsize=(10,6))\n",
        "plot_frequency_recency_matrix(pareto_model)"
      ],
      "metadata": {
        "colab": {
          "base_uri": "https://localhost:8080/",
          "height": 436
        },
        "id": "vUg8v7LNhO-m",
        "outputId": "93636b9a-a038-4a94-df81-644b1763f3a7"
      },
      "execution_count": 16,
      "outputs": [
        {
          "output_type": "execute_result",
          "data": {
            "text/plain": [
              "<matplotlib.axes._subplots.AxesSubplot at 0x7f49631ef110>"
            ]
          },
          "metadata": {},
          "execution_count": 16
        },
        {
          "output_type": "display_data",
          "data": {
            "text/plain": [
              "<Figure size 720x432 with 2 Axes>"
            ],
            "image/png": "[encoded data removed]"
          },
          "metadata": {
            "needs_background": "light"
          }
        }
      ]
    },
    {
      "cell_type": "code",
      "source": [
        "plt.figure(figsize=(10,6))\n",
        "plot_probability_alive_matrix(pareto_model)"
      ],
      "metadata": {
        "colab": {
          "base_uri": "https://localhost:8080/",
          "height": 436
        },
        "id": "akDBIRZrhXFl",
        "outputId": "3d4c038c-a2a5-4ecc-d255-76edfa60f1bc"
      },
      "execution_count": 17,
      "outputs": [
        {
          "output_type": "execute_result",
          "data": {
            "text/plain": [
              "<matplotlib.axes._subplots.AxesSubplot at 0x7f4962dfa2d0>"
            ]
          },
          "metadata": {},
          "execution_count": 17
        },
        {
          "output_type": "display_data",
          "data": {
            "text/plain": [
              "<Figure size 720x432 with 2 Axes>"
            ],
            "image/png": "[encoded data removed]"
          },
          "metadata": {
            "needs_background": "light"
          }
        }
      ]
    },
    {
      "cell_type": "code",
      "source": [
        "pareto_result = rfm_summary.copy()"
      ],
      "metadata": {
        "id": "d-77tNt6hZfu"
      },
      "execution_count": 18,
      "outputs": []
    },
    {
      "cell_type": "code",
      "source": [
        "pareto_result[\"p_not_alive\"] = 1-pareto_model.conditional_probability_alive(pareto_result[\"frequency\"], pareto_result[\"recency\"], pareto_result[\"T\"])\n",
        "pareto_result[\"p_alive\"] = pareto_model.conditional_probability_alive(pareto_result[\"frequency\"], pareto_result[\"recency\"], pareto_result[\"T\"])"
      ],
      "metadata": {
        "id": "it9mWBAHhbz3"
      },
      "execution_count": 19,
      "outputs": []
    },
    {
      "cell_type": "code",
      "source": [
        "pareto_result.head()"
      ],
      "metadata": {
        "colab": {
          "base_uri": "https://localhost:8080/",
          "height": 206
        },
        "id": "Aen5J9piheJx",
        "outputId": "30a564b2-67c4-42d7-cb73-397e872f6af0"
      },
      "execution_count": 20,
      "outputs": [
        {
          "output_type": "execute_result",
          "data": {
            "text/plain": [
              "   CustomerID  frequency  recency      T  monetary_value  p_not_alive  \\\n",
              "0       12346        7.0    401.0  726.0    11066.637143     0.465187   \n",
              "1       12347        7.0    402.0  404.0      615.714286     0.000467   \n",
              "2       12348        4.0    363.0  438.0      449.310000     0.025307   \n",
              "3       12349        3.0    571.0  589.0     1120.056667     0.003551   \n",
              "4       12350        0.0      0.0  310.0        0.000000     0.167712   \n",
              "\n",
              "    p_alive  \n",
              "0  0.534813  \n",
              "1  0.999533  \n",
              "2  0.974693  \n",
              "3  0.996449  \n",
              "4  0.832288  "
            ],
            "text/html": [
              "\n",
              "  <div id=\"df-dca9403e-274d-4c6c-9f0c-71776e34a9fa\">\n",
              "    <div class=\"colab-df-container\">\n",
              "      <div>\n",
              "<style scoped>\n",
              "    .dataframe tbody tr th:only-of-type {\n",
              "        vertical-align: middle;\n",
              "    }\n",
              "\n",
              "    .dataframe tbody tr th {\n",
              "        vertical-align: top;\n",
              "    }\n",
              "\n",
              "    .dataframe thead th {\n",
              "        text-align: right;\n",
              "    }\n",
              "</style>\n",
              "<table border=\"1\" class=\"dataframe\">\n",
              "  <thead>\n",
              "    <tr style=\"text-align: right;\">\n",
              "      <th></th>\n",
              "      <th>CustomerID</th>\n",
              "      <th>frequency</th>\n",
              "      <th>recency</th>\n",
              "      <th>T</th>\n",
              "      <th>monetary_value</th>\n",
              "      <th>p_not_alive</th>\n",
              "      <th>p_alive</th>\n",
              "    </tr>\n",
              "  </thead>\n",
              "  <tbody>\n",
              "    <tr>\n",
              "      <th>0</th>\n",
              "      <td>12346</td>\n",
              "      <td>7.0</td>\n",
              "      <td>401.0</td>\n",
              "      <td>726.0</td>\n",
              "      <td>11066.637143</td>\n",
              "      <td>0.465187</td>\n",
              "      <td>0.534813</td>\n",
              "    </tr>\n",
              "    <tr>\n",
              "      <th>1</th>\n",
              "      <td>12347</td>\n",
              "      <td>7.0</td>\n",
              "      <td>402.0</td>\n",
              "      <td>404.0</td>\n",
              "      <td>615.714286</td>\n",
              "      <td>0.000467</td>\n",
              "      <td>0.999533</td>\n",
              "    </tr>\n",
              "    <tr>\n",
              "      <th>2</th>\n",
              "      <td>12348</td>\n",
              "      <td>4.0</td>\n",
              "      <td>363.0</td>\n",
              "      <td>438.0</td>\n",
              "      <td>449.310000</td>\n",
              "      <td>0.025307</td>\n",
              "      <td>0.974693</td>\n",
              "    </tr>\n",
              "    <tr>\n",
              "      <th>3</th>\n",
              "      <td>12349</td>\n",
              "      <td>3.0</td>\n",
              "      <td>571.0</td>\n",
              "      <td>589.0</td>\n",
              "      <td>1120.056667</td>\n",
              "      <td>0.003551</td>\n",
              "      <td>0.996449</td>\n",
              "    </tr>\n",
              "    <tr>\n",
              "      <th>4</th>\n",
              "      <td>12350</td>\n",
              "      <td>0.0</td>\n",
              "      <td>0.0</td>\n",
              "      <td>310.0</td>\n",
              "      <td>0.000000</td>\n",
              "      <td>0.167712</td>\n",
              "      <td>0.832288</td>\n",
              "    </tr>\n",
              "  </tbody>\n",
              "</table>\n",
              "</div>\n",
              "      <button class=\"colab-df-convert\" onclick=\"convertToInteractive('df-dca9403e-274d-4c6c-9f0c-71776e34a9fa')\"\n",
              "              title=\"Convert this dataframe to an interactive table.\"\n",
              "              style=\"display:none;\">\n",
              "        \n",
              "  <svg xmlns=\"http://www.w3.org/2000/svg\" height=\"24px\"viewBox=\"0 0 24 24\"\n",
              "       width=\"24px\">\n",
              "    <path d=\"M0 0h24v24H0V0z\" fill=\"none\"/>\n",
              "    <path d=\"M18.56 5.44l.94 2.06.94-2.06 2.06-.94-2.06-.94-.94-2.06-.94 2.06-2.06.94zm-11 1L8.5 8.5l.94-2.06 2.06-.94-2.06-.94L8.5 2.5l-.94 2.06-2.06.94zm10 10l.94 2.06.94-2.06 2.06-.94-2.06-.94-.94-2.06-.94 2.06-2.06.94z\"/><path d=\"M17.41 7.96l-1.37-1.37c-.4-.4-.92-.59-1.43-.59-.52 0-1.04.2-1.43.59L10.3 9.45l-7.72 7.72c-.78.78-.78 2.05 0 2.83L4 21.41c.39.39.9.59 1.41.59.51 0 1.02-.2 1.41-.59l7.78-7.78 2.81-2.81c.8-.78.8-2.07 0-2.86zM5.41 20L4 18.59l7.72-7.72 1.47 1.35L5.41 20z\"/>\n",
              "  </svg>\n",
              "      </button>\n",
              "      \n",
              "  <style>\n",
              "    .colab-df-container {\n",
              "      display:flex;\n",
              "      flex-wrap:wrap;\n",
              "      gap: 12px;\n",
              "    }\n",
              "\n",
              "    .colab-df-convert {\n",
              "      background-color: #E8F0FE;\n",
              "      border: none;\n",
              "      border-radius: 50%;\n",
              "      cursor: pointer;\n",
              "      display: none;\n",
              "      fill: #1967D2;\n",
              "      height: 32px;\n",
              "      padding: 0 0 0 0;\n",
              "      width: 32px;\n",
              "    }\n",
              "\n",
              "    .colab-df-convert:hover {\n",
              "      background-color: #E2EBFA;\n",
              "      box-shadow: 0px 1px 2px rgba(60, 64, 67, 0.3), 0px 1px 3px 1px rgba(60, 64, 67, 0.15);\n",
              "      fill: #174EA6;\n",
              "    }\n",
              "\n",
              "    [theme=dark] .colab-df-convert {\n",
              "      background-color: #3B4455;\n",
              "      fill: #D2E3FC;\n",
              "    }\n",
              "\n",
              "    [theme=dark] .colab-df-convert:hover {\n",
              "      background-color: #434B5C;\n",
              "      box-shadow: 0px 1px 3px 1px rgba(0, 0, 0, 0.15);\n",
              "      filter: drop-shadow(0px 1px 2px rgba(0, 0, 0, 0.3));\n",
              "      fill: #FFFFFF;\n",
              "    }\n",
              "  </style>\n",
              "\n",
              "      <script>\n",
              "        const buttonEl =\n",
              "          document.querySelector('#df-dca9403e-274d-4c6c-9f0c-71776e34a9fa button.colab-df-convert');\n",
              "        buttonEl.style.display =\n",
              "          google.colab.kernel.accessAllowed ? 'block' : 'none';\n",
              "\n",
              "        async function convertToInteractive(key) {\n",
              "          const element = document.querySelector('#df-dca9403e-274d-4c6c-9f0c-71776e34a9fa');\n",
              "          const dataTable =\n",
              "            await google.colab.kernel.invokeFunction('convertToInteractive',\n",
              "                                                     [key], {});\n",
              "          if (!dataTable) return;\n",
              "\n",
              "          const docLinkHtml = 'Like what you see? Visit the ' +\n",
              "            '<a target=\"_blank\" href=https://colab.research.google.com/notebooks/data_table.ipynb>data table notebook</a>'\n",
              "            + ' to learn more about interactive tables.';\n",
              "          element.innerHTML = '';\n",
              "          dataTable['output_type'] = 'display_data';\n",
              "          await google.colab.output.renderOutput(dataTable, element);\n",
              "          const docLink = document.createElement('div');\n",
              "          docLink.innerHTML = docLinkHtml;\n",
              "          element.appendChild(docLink);\n",
              "        }\n",
              "      </script>\n",
              "    </div>\n",
              "  </div>\n",
              "  "
            ]
          },
          "metadata": {},
          "execution_count": 20
        }
      ]
    },
    {
      "cell_type": "code",
      "source": [
        "t = 30\n",
        "pareto_result[\"predicted_purchases\"] = pareto_model.conditional_expected_number_of_purchases_up_to_time(t, pareto_result[\"frequency\"], pareto_result[\"recency\"], pareto_result[\"T\"])"
      ],
      "metadata": {
        "id": "GyTdDzyghhFE"
      },
      "execution_count": 21,
      "outputs": []
    },
    {
      "cell_type": "code",
      "source": [
        "pareto_result"
      ],
      "metadata": {
        "colab": {
          "base_uri": "https://localhost:8080/",
          "height": 424
        },
        "id": "_m6pa-IBhqv8",
        "outputId": "51aa84ff-b836-4498-cf1b-71fa3d3c84fc"
      },
      "execution_count": 22,
      "outputs": [
        {
          "output_type": "execute_result",
          "data": {
            "text/plain": [
              "      CustomerID  frequency  recency      T  monetary_value  p_not_alive  \\\n",
              "0          12346        7.0    401.0  726.0    11066.637143     0.465187   \n",
              "1          12347        7.0    402.0  404.0      615.714286     0.000467   \n",
              "2          12348        4.0    363.0  438.0      449.310000     0.025307   \n",
              "3          12349        3.0    571.0  589.0     1120.056667     0.003551   \n",
              "4          12350        0.0      0.0  310.0        0.000000     0.167712   \n",
              "...          ...        ...      ...    ...             ...          ...   \n",
              "5873       18283       18.0    656.0  659.0      142.666667     0.000541   \n",
              "5874       18284        0.0      0.0  431.0        0.000000     0.222904   \n",
              "5875       18285        0.0      0.0  661.0        0.000000     0.309941   \n",
              "5876       18286        1.0    248.0  724.0      833.480000     0.201957   \n",
              "5877       18287        5.0    529.0  571.0      622.276000     0.009873   \n",
              "\n",
              "       p_alive  predicted_purchases  \n",
              "0     0.534813             0.155209  \n",
              "1     0.999533             0.485818  \n",
              "2     0.974693             0.270791  \n",
              "3     0.996449             0.168606  \n",
              "4     0.832288             0.048093  \n",
              "...        ...                  ...  \n",
              "5873  0.999459             0.766602  \n",
              "5874  0.777096             0.034122  \n",
              "5875  0.690059             0.020808  \n",
              "5876  0.798043             0.052165  \n",
              "5877  0.990127             0.264345  \n",
              "\n",
              "[5878 rows x 8 columns]"
            ],
            "text/html": [
              "\n",
              "  <div id=\"df-9086f2cb-bdb8-4bea-81af-3d5f22c23eb8\">\n",
              "    <div class=\"colab-df-container\">\n",
              "      <div>\n",
              "<style scoped>\n",
              "    .dataframe tbody tr th:only-of-type {\n",
              "        vertical-align: middle;\n",
              "    }\n",
              "\n",
              "    .dataframe tbody tr th {\n",
              "        vertical-align: top;\n",
              "    }\n",
              "\n",
              "    .dataframe thead th {\n",
              "        text-align: right;\n",
              "    }\n",
              "</style>\n",
              "<table border=\"1\" class=\"dataframe\">\n",
              "  <thead>\n",
              "    <tr style=\"text-align: right;\">\n",
              "      <th></th>\n",
              "      <th>CustomerID</th>\n",
              "      <th>frequency</th>\n",
              "      <th>recency</th>\n",
              "      <th>T</th>\n",
              "      <th>monetary_value</th>\n",
              "      <th>p_not_alive</th>\n",
              "      <th>p_alive</th>\n",
              "      <th>predicted_purchases</th>\n",
              "    </tr>\n",
              "  </thead>\n",
              "  <tbody>\n",
              "    <tr>\n",
              "      <th>0</th>\n",
              "      <td>12346</td>\n",
              "      <td>7.0</td>\n",
              "      <td>401.0</td>\n",
              "      <td>726.0</td>\n",
              "      <td>11066.637143</td>\n",
              "      <td>0.465187</td>\n",
              "      <td>0.534813</td>\n",
              "      <td>0.155209</td>\n",
              "    </tr>\n",
              "    <tr>\n",
              "      <th>1</th>\n",
              "      <td>12347</td>\n",
              "      <td>7.0</td>\n",
              "      <td>402.0</td>\n",
              "      <td>404.0</td>\n",
              "      <td>615.714286</td>\n",
              "      <td>0.000467</td>\n",
              "      <td>0.999533</td>\n",
              "      <td>0.485818</td>\n",
              "    </tr>\n",
              "    <tr>\n",
              "      <th>2</th>\n",
              "      <td>12348</td>\n",
              "      <td>4.0</td>\n",
              "      <td>363.0</td>\n",
              "      <td>438.0</td>\n",
              "      <td>449.310000</td>\n",
              "      <td>0.025307</td>\n",
              "      <td>0.974693</td>\n",
              "      <td>0.270791</td>\n",
              "    </tr>\n",
              "    <tr>\n",
              "      <th>3</th>\n",
              "      <td>12349</td>\n",
              "      <td>3.0</td>\n",
              "      <td>571.0</td>\n",
              "      <td>589.0</td>\n",
              "      <td>1120.056667</td>\n",
              "      <td>0.003551</td>\n",
              "      <td>0.996449</td>\n",
              "      <td>0.168606</td>\n",
              "    </tr>\n",
              "    <tr>\n",
              "      <th>4</th>\n",
              "      <td>12350</td>\n",
              "      <td>0.0</td>\n",
              "      <td>0.0</td>\n",
              "      <td>310.0</td>\n",
              "      <td>0.000000</td>\n",
              "      <td>0.167712</td>\n",
              "      <td>0.832288</td>\n",
              "      <td>0.048093</td>\n",
              "    </tr>\n",
              "    <tr>\n",
              "      <th>...</th>\n",
              "      <td>...</td>\n",
              "      <td>...</td>\n",
              "      <td>...</td>\n",
              "      <td>...</td>\n",
              "      <td>...</td>\n",
              "      <td>...</td>\n",
              "      <td>...</td>\n",
              "      <td>...</td>\n",
              "    </tr>\n",
              "    <tr>\n",
              "      <th>5873</th>\n",
              "      <td>18283</td>\n",
              "      <td>18.0</td>\n",
              "      <td>656.0</td>\n",
              "      <td>659.0</td>\n",
              "      <td>142.666667</td>\n",
              "      <td>0.000541</td>\n",
              "      <td>0.999459</td>\n",
              "      <td>0.766602</td>\n",
              "    </tr>\n",
              "    <tr>\n",
              "      <th>5874</th>\n",
              "      <td>18284</td>\n",
              "      <td>0.0</td>\n",
              "      <td>0.0</td>\n",
              "      <td>431.0</td>\n",
              "      <td>0.000000</td>\n",
              "      <td>0.222904</td>\n",
              "      <td>0.777096</td>\n",
              "      <td>0.034122</td>\n",
              "    </tr>\n",
              "    <tr>\n",
              "      <th>5875</th>\n",
              "      <td>18285</td>\n",
              "      <td>0.0</td>\n",
              "      <td>0.0</td>\n",
              "      <td>661.0</td>\n",
              "      <td>0.000000</td>\n",
              "      <td>0.309941</td>\n",
              "      <td>0.690059</td>\n",
              "      <td>0.020808</td>\n",
              "    </tr>\n",
              "    <tr>\n",
              "      <th>5876</th>\n",
              "      <td>18286</td>\n",
              "      <td>1.0</td>\n",
              "      <td>248.0</td>\n",
              "      <td>724.0</td>\n",
              "      <td>833.480000</td>\n",
              "      <td>0.201957</td>\n",
              "      <td>0.798043</td>\n",
              "      <td>0.052165</td>\n",
              "    </tr>\n",
              "    <tr>\n",
              "      <th>5877</th>\n",
              "      <td>18287</td>\n",
              "      <td>5.0</td>\n",
              "      <td>529.0</td>\n",
              "      <td>571.0</td>\n",
              "      <td>622.276000</td>\n",
              "      <td>0.009873</td>\n",
              "      <td>0.990127</td>\n",
              "      <td>0.264345</td>\n",
              "    </tr>\n",
              "  </tbody>\n",
              "</table>\n",
              "<p>5878 rows × 8 columns</p>\n",
              "</div>\n",
              "      <button class=\"colab-df-convert\" onclick=\"convertToInteractive('df-9086f2cb-bdb8-4bea-81af-3d5f22c23eb8')\"\n",
              "              title=\"Convert this dataframe to an interactive table.\"\n",
              "              style=\"display:none;\">\n",
              "        \n",
              "  <svg xmlns=\"http://www.w3.org/2000/svg\" height=\"24px\"viewBox=\"0 0 24 24\"\n",
              "       width=\"24px\">\n",
              "    <path d=\"M0 0h24v24H0V0z\" fill=\"none\"/>\n",
              "    <path d=\"M18.56 5.44l.94 2.06.94-2.06 2.06-.94-2.06-.94-.94-2.06-.94 2.06-2.06.94zm-11 1L8.5 8.5l.94-2.06 2.06-.94-2.06-.94L8.5 2.5l-.94 2.06-2.06.94zm10 10l.94 2.06.94-2.06 2.06-.94-2.06-.94-.94-2.06-.94 2.06-2.06.94z\"/><path d=\"M17.41 7.96l-1.37-1.37c-.4-.4-.92-.59-1.43-.59-.52 0-1.04.2-1.43.59L10.3 9.45l-7.72 7.72c-.78.78-.78 2.05 0 2.83L4 21.41c.39.39.9.59 1.41.59.51 0 1.02-.2 1.41-.59l7.78-7.78 2.81-2.81c.8-.78.8-2.07 0-2.86zM5.41 20L4 18.59l7.72-7.72 1.47 1.35L5.41 20z\"/>\n",
              "  </svg>\n",
              "      </button>\n",
              "      \n",
              "  <style>\n",
              "    .colab-df-container {\n",
              "      display:flex;\n",
              "      flex-wrap:wrap;\n",
              "      gap: 12px;\n",
              "    }\n",
              "\n",
              "    .colab-df-convert {\n",
              "      background-color: #E8F0FE;\n",
              "      border: none;\n",
              "      border-radius: 50%;\n",
              "      cursor: pointer;\n",
              "      display: none;\n",
              "      fill: #1967D2;\n",
              "      height: 32px;\n",
              "      padding: 0 0 0 0;\n",
              "      width: 32px;\n",
              "    }\n",
              "\n",
              "    .colab-df-convert:hover {\n",
              "      background-color: #E2EBFA;\n",
              "      box-shadow: 0px 1px 2px rgba(60, 64, 67, 0.3), 0px 1px 3px 1px rgba(60, 64, 67, 0.15);\n",
              "      fill: #174EA6;\n",
              "    }\n",
              "\n",
              "    [theme=dark] .colab-df-convert {\n",
              "      background-color: #3B4455;\n",
              "      fill: #D2E3FC;\n",
              "    }\n",
              "\n",
              "    [theme=dark] .colab-df-convert:hover {\n",
              "      background-color: #434B5C;\n",
              "      box-shadow: 0px 1px 3px 1px rgba(0, 0, 0, 0.15);\n",
              "      filter: drop-shadow(0px 1px 2px rgba(0, 0, 0, 0.3));\n",
              "      fill: #FFFFFF;\n",
              "    }\n",
              "  </style>\n",
              "\n",
              "      <script>\n",
              "        const buttonEl =\n",
              "          document.querySelector('#df-9086f2cb-bdb8-4bea-81af-3d5f22c23eb8 button.colab-df-convert');\n",
              "        buttonEl.style.display =\n",
              "          google.colab.kernel.accessAllowed ? 'block' : 'none';\n",
              "\n",
              "        async function convertToInteractive(key) {\n",
              "          const element = document.querySelector('#df-9086f2cb-bdb8-4bea-81af-3d5f22c23eb8');\n",
              "          const dataTable =\n",
              "            await google.colab.kernel.invokeFunction('convertToInteractive',\n",
              "                                                     [key], {});\n",
              "          if (!dataTable) return;\n",
              "\n",
              "          const docLinkHtml = 'Like what you see? Visit the ' +\n",
              "            '<a target=\"_blank\" href=https://colab.research.google.com/notebooks/data_table.ipynb>data table notebook</a>'\n",
              "            + ' to learn more about interactive tables.';\n",
              "          element.innerHTML = '';\n",
              "          dataTable['output_type'] = 'display_data';\n",
              "          await google.colab.output.renderOutput(dataTable, element);\n",
              "          const docLink = document.createElement('div');\n",
              "          docLink.innerHTML = docLinkHtml;\n",
              "          element.appendChild(docLink);\n",
              "        }\n",
              "      </script>\n",
              "    </div>\n",
              "  </div>\n",
              "  "
            ]
          },
          "metadata": {},
          "execution_count": 22
        }
      ]
    },
    {
      "cell_type": "code",
      "source": [
        "plot_period_transactions(pareto_model)"
      ],
      "metadata": {
        "colab": {
          "base_uri": "https://localhost:8080/",
          "height": 309
        },
        "id": "Y19afL0fhsKc",
        "outputId": "1521e5c7-9864-4e1e-85ce-c5b80169218c"
      },
      "execution_count": 23,
      "outputs": [
        {
          "output_type": "execute_result",
          "data": {
            "text/plain": [
              "<matplotlib.axes._subplots.AxesSubplot at 0x7f4962bba250>"
            ]
          },
          "metadata": {},
          "execution_count": 23
        },
        {
          "output_type": "display_data",
          "data": {
            "text/plain": [
              "<Figure size 432x288 with 1 Axes>"
            ],
            "image/png": "[encoded data removed]"
          },
          "metadata": {
            "needs_background": "light"
          }
        }
      ]
    },
    {
      "cell_type": "code",
      "source": [
        "#dividing our dataset into training & holdout\n",
        "pareto_summary_cal_holdout = calibration_and_holdout_data(data, \"CustomerID\", \"InvoiceDate\", \n",
        "                                                   calibration_period_end = '2021-06-08',\n",
        "                                                  observation_period_end = '2021-12-09')"
      ],
      "metadata": {
        "id": "pP7FMrpJhtkR"
      },
      "execution_count": 24,
      "outputs": []
    },
    {
      "cell_type": "code",
      "source": [
        "pareto_summary_cal_holdout.head()"
      ],
      "metadata": {
        "colab": {
          "base_uri": "https://localhost:8080/",
          "height": 238
        },
        "id": "SITA9iL1hv5G",
        "outputId": "5438df6d-8472-4e19-b343-b06441eb8ad4"
      },
      "execution_count": 25,
      "outputs": [
        {
          "output_type": "execute_result",
          "data": {
            "text/plain": [
              "            frequency_cal  recency_cal  T_cal  frequency_holdout  \\\n",
              "CustomerID                                                         \n",
              "12346                 7.0        401.0  542.0                0.0   \n",
              "12347                 3.0        158.0  220.0                4.0   \n",
              "12348                 3.0        190.0  254.0                1.0   \n",
              "12349                 2.0        182.0  405.0                1.0   \n",
              "12350                 0.0          0.0  126.0                0.0   \n",
              "\n",
              "            duration_holdout  \n",
              "CustomerID                    \n",
              "12346                  184.0  \n",
              "12347                  184.0  \n",
              "12348                  184.0  \n",
              "12349                  184.0  \n",
              "12350                  184.0  "
            ],
            "text/html": [
              "\n",
              "  <div id=\"df-f43a4ba0-394b-48f4-9717-c2c4094a5383\">\n",
              "    <div class=\"colab-df-container\">\n",
              "      <div>\n",
              "<style scoped>\n",
              "    .dataframe tbody tr th:only-of-type {\n",
              "        vertical-align: middle;\n",
              "    }\n",
              "\n",
              "    .dataframe tbody tr th {\n",
              "        vertical-align: top;\n",
              "    }\n",
              "\n",
              "    .dataframe thead th {\n",
              "        text-align: right;\n",
              "    }\n",
              "</style>\n",
              "<table border=\"1\" class=\"dataframe\">\n",
              "  <thead>\n",
              "    <tr style=\"text-align: right;\">\n",
              "      <th></th>\n",
              "      <th>frequency_cal</th>\n",
              "      <th>recency_cal</th>\n",
              "      <th>T_cal</th>\n",
              "      <th>frequency_holdout</th>\n",
              "      <th>duration_holdout</th>\n",
              "    </tr>\n",
              "    <tr>\n",
              "      <th>CustomerID</th>\n",
              "      <th></th>\n",
              "      <th></th>\n",
              "      <th></th>\n",
              "      <th></th>\n",
              "      <th></th>\n",
              "    </tr>\n",
              "  </thead>\n",
              "  <tbody>\n",
              "    <tr>\n",
              "      <th>12346</th>\n",
              "      <td>7.0</td>\n",
              "      <td>401.0</td>\n",
              "      <td>542.0</td>\n",
              "      <td>0.0</td>\n",
              "      <td>184.0</td>\n",
              "    </tr>\n",
              "    <tr>\n",
              "      <th>12347</th>\n",
              "      <td>3.0</td>\n",
              "      <td>158.0</td>\n",
              "      <td>220.0</td>\n",
              "      <td>4.0</td>\n",
              "      <td>184.0</td>\n",
              "    </tr>\n",
              "    <tr>\n",
              "      <th>12348</th>\n",
              "      <td>3.0</td>\n",
              "      <td>190.0</td>\n",
              "      <td>254.0</td>\n",
              "      <td>1.0</td>\n",
              "      <td>184.0</td>\n",
              "    </tr>\n",
              "    <tr>\n",
              "      <th>12349</th>\n",
              "      <td>2.0</td>\n",
              "      <td>182.0</td>\n",
              "      <td>405.0</td>\n",
              "      <td>1.0</td>\n",
              "      <td>184.0</td>\n",
              "    </tr>\n",
              "    <tr>\n",
              "      <th>12350</th>\n",
              "      <td>0.0</td>\n",
              "      <td>0.0</td>\n",
              "      <td>126.0</td>\n",
              "      <td>0.0</td>\n",
              "      <td>184.0</td>\n",
              "    </tr>\n",
              "  </tbody>\n",
              "</table>\n",
              "</div>\n",
              "      <button class=\"colab-df-convert\" onclick=\"convertToInteractive('df-f43a4ba0-394b-48f4-9717-c2c4094a5383')\"\n",
              "              title=\"Convert this dataframe to an interactive table.\"\n",
              "              style=\"display:none;\">\n",
              "        \n",
              "  <svg xmlns=\"http://www.w3.org/2000/svg\" height=\"24px\"viewBox=\"0 0 24 24\"\n",
              "       width=\"24px\">\n",
              "    <path d=\"M0 0h24v24H0V0z\" fill=\"none\"/>\n",
              "    <path d=\"M18.56 5.44l.94 2.06.94-2.06 2.06-.94-2.06-.94-.94-2.06-.94 2.06-2.06.94zm-11 1L8.5 8.5l.94-2.06 2.06-.94-2.06-.94L8.5 2.5l-.94 2.06-2.06.94zm10 10l.94 2.06.94-2.06 2.06-.94-2.06-.94-.94-2.06-.94 2.06-2.06.94z\"/><path d=\"M17.41 7.96l-1.37-1.37c-.4-.4-.92-.59-1.43-.59-.52 0-1.04.2-1.43.59L10.3 9.45l-7.72 7.72c-.78.78-.78 2.05 0 2.83L4 21.41c.39.39.9.59 1.41.59.51 0 1.02-.2 1.41-.59l7.78-7.78 2.81-2.81c.8-.78.8-2.07 0-2.86zM5.41 20L4 18.59l7.72-7.72 1.47 1.35L5.41 20z\"/>\n",
              "  </svg>\n",
              "      </button>\n",
              "      \n",
              "  <style>\n",
              "    .colab-df-container {\n",
              "      display:flex;\n",
              "      flex-wrap:wrap;\n",
              "      gap: 12px;\n",
              "    }\n",
              "\n",
              "    .colab-df-convert {\n",
              "      background-color: #E8F0FE;\n",
              "      border: none;\n",
              "      border-radius: 50%;\n",
              "      cursor: pointer;\n",
              "      display: none;\n",
              "      fill: #1967D2;\n",
              "      height: 32px;\n",
              "      padding: 0 0 0 0;\n",
              "      width: 32px;\n",
              "    }\n",
              "\n",
              "    .colab-df-convert:hover {\n",
              "      background-color: #E2EBFA;\n",
              "      box-shadow: 0px 1px 2px rgba(60, 64, 67, 0.3), 0px 1px 3px 1px rgba(60, 64, 67, 0.15);\n",
              "      fill: #174EA6;\n",
              "    }\n",
              "\n",
              "    [theme=dark] .colab-df-convert {\n",
              "      background-color: #3B4455;\n",
              "      fill: #D2E3FC;\n",
              "    }\n",
              "\n",
              "    [theme=dark] .colab-df-convert:hover {\n",
              "      background-color: #434B5C;\n",
              "      box-shadow: 0px 1px 3px 1px rgba(0, 0, 0, 0.15);\n",
              "      filter: drop-shadow(0px 1px 2px rgba(0, 0, 0, 0.3));\n",
              "      fill: #FFFFFF;\n",
              "    }\n",
              "  </style>\n",
              "\n",
              "      <script>\n",
              "        const buttonEl =\n",
              "          document.querySelector('#df-f43a4ba0-394b-48f4-9717-c2c4094a5383 button.colab-df-convert');\n",
              "        buttonEl.style.display =\n",
              "          google.colab.kernel.accessAllowed ? 'block' : 'none';\n",
              "\n",
              "        async function convertToInteractive(key) {\n",
              "          const element = document.querySelector('#df-f43a4ba0-394b-48f4-9717-c2c4094a5383');\n",
              "          const dataTable =\n",
              "            await google.colab.kernel.invokeFunction('convertToInteractive',\n",
              "                                                     [key], {});\n",
              "          if (!dataTable) return;\n",
              "\n",
              "          const docLinkHtml = 'Like what you see? Visit the ' +\n",
              "            '<a target=\"_blank\" href=https://colab.research.google.com/notebooks/data_table.ipynb>data table notebook</a>'\n",
              "            + ' to learn more about interactive tables.';\n",
              "          element.innerHTML = '';\n",
              "          dataTable['output_type'] = 'display_data';\n",
              "          await google.colab.output.renderOutput(dataTable, element);\n",
              "          const docLink = document.createElement('div');\n",
              "          docLink.innerHTML = docLinkHtml;\n",
              "          element.appendChild(docLink);\n",
              "        }\n",
              "      </script>\n",
              "    </div>\n",
              "  </div>\n",
              "  "
            ]
          },
          "metadata": {},
          "execution_count": 25
        }
      ]
    },
    {
      "cell_type": "code",
      "source": [
        "pareto_model.fit(pareto_summary_cal_holdout[\"frequency_cal\"],\n",
        "               pareto_summary_cal_holdout[\"recency_cal\"],\n",
        "               pareto_summary_cal_holdout[\"T_cal\"])"
      ],
      "metadata": {
        "colab": {
          "base_uri": "https://localhost:8080/"
        },
        "id": "NsNm0O_uhxXg",
        "outputId": "92554992-89dd-46b7-d38c-f286b1e8917e"
      },
      "execution_count": 26,
      "outputs": [
        {
          "output_type": "execute_result",
          "data": {
            "text/plain": [
              "<lifetimes.ParetoNBDFitter: fitted with 4960 subjects, alpha: 74.85, beta: 1619.38, r: 0.75, s: 0.69>"
            ]
          },
          "metadata": {},
          "execution_count": 26
        }
      ]
    },
    {
      "cell_type": "code",
      "source": [
        "plot_calibration_purchases_vs_holdout_purchases(pareto_model, pareto_summary_cal_holdout)"
      ],
      "metadata": {
        "colab": {
          "base_uri": "https://localhost:8080/",
          "height": 312
        },
        "id": "xW4M29uch1ce",
        "outputId": "4d4c9c25-f12a-4980-844f-035a43c0bcc5"
      },
      "execution_count": 27,
      "outputs": [
        {
          "output_type": "execute_result",
          "data": {
            "text/plain": [
              "<matplotlib.axes._subplots.AxesSubplot at 0x7f4962b6bb90>"
            ]
          },
          "metadata": {},
          "execution_count": 27
        },
        {
          "output_type": "display_data",
          "data": {
            "text/plain": [
              "<Figure size 432x288 with 1 Axes>"
            ],
            "image/png": "[encoded data removed]"
          },
          "metadata": {
            "needs_background": "light"
          }
        }
      ]
    },
    {
      "cell_type": "code",
      "source": [
        "pareto_summary_cal_holdout.head()"
      ],
      "metadata": {
        "colab": {
          "base_uri": "https://localhost:8080/",
          "height": 238
        },
        "id": "9bYUgkg_h270",
        "outputId": "77c8344a-a81e-47bf-b5e8-adc53183da73"
      },
      "execution_count": 28,
      "outputs": [
        {
          "output_type": "execute_result",
          "data": {
            "text/plain": [
              "            frequency_cal  recency_cal  T_cal  frequency_holdout  \\\n",
              "CustomerID                                                         \n",
              "12346                 7.0        401.0  542.0                0.0   \n",
              "12347                 3.0        158.0  220.0                4.0   \n",
              "12348                 3.0        190.0  254.0                1.0   \n",
              "12349                 2.0        182.0  405.0                1.0   \n",
              "12350                 0.0          0.0  126.0                0.0   \n",
              "\n",
              "            duration_holdout  \n",
              "CustomerID                    \n",
              "12346                  184.0  \n",
              "12347                  184.0  \n",
              "12348                  184.0  \n",
              "12349                  184.0  \n",
              "12350                  184.0  "
            ],
            "text/html": [
              "\n",
              "  <div id=\"df-07816377-07c1-431e-82ae-46d7a7c370e9\">\n",
              "    <div class=\"colab-df-container\">\n",
              "      <div>\n",
              "<style scoped>\n",
              "    .dataframe tbody tr th:only-of-type {\n",
              "        vertical-align: middle;\n",
              "    }\n",
              "\n",
              "    .dataframe tbody tr th {\n",
              "        vertical-align: top;\n",
              "    }\n",
              "\n",
              "    .dataframe thead th {\n",
              "        text-align: right;\n",
              "    }\n",
              "</style>\n",
              "<table border=\"1\" class=\"dataframe\">\n",
              "  <thead>\n",
              "    <tr style=\"text-align: right;\">\n",
              "      <th></th>\n",
              "      <th>frequency_cal</th>\n",
              "      <th>recency_cal</th>\n",
              "      <th>T_cal</th>\n",
              "      <th>frequency_holdout</th>\n",
              "      <th>duration_holdout</th>\n",
              "    </tr>\n",
              "    <tr>\n",
              "      <th>CustomerID</th>\n",
              "      <th></th>\n",
              "      <th></th>\n",
              "      <th></th>\n",
              "      <th></th>\n",
              "      <th></th>\n",
              "    </tr>\n",
              "  </thead>\n",
              "  <tbody>\n",
              "    <tr>\n",
              "      <th>12346</th>\n",
              "      <td>7.0</td>\n",
              "      <td>401.0</td>\n",
              "      <td>542.0</td>\n",
              "      <td>0.0</td>\n",
              "      <td>184.0</td>\n",
              "    </tr>\n",
              "    <tr>\n",
              "      <th>12347</th>\n",
              "      <td>3.0</td>\n",
              "      <td>158.0</td>\n",
              "      <td>220.0</td>\n",
              "      <td>4.0</td>\n",
              "      <td>184.0</td>\n",
              "    </tr>\n",
              "    <tr>\n",
              "      <th>12348</th>\n",
              "      <td>3.0</td>\n",
              "      <td>190.0</td>\n",
              "      <td>254.0</td>\n",
              "      <td>1.0</td>\n",
              "      <td>184.0</td>\n",
              "    </tr>\n",
              "    <tr>\n",
              "      <th>12349</th>\n",
              "      <td>2.0</td>\n",
              "      <td>182.0</td>\n",
              "      <td>405.0</td>\n",
              "      <td>1.0</td>\n",
              "      <td>184.0</td>\n",
              "    </tr>\n",
              "    <tr>\n",
              "      <th>12350</th>\n",
              "      <td>0.0</td>\n",
              "      <td>0.0</td>\n",
              "      <td>126.0</td>\n",
              "      <td>0.0</td>\n",
              "      <td>184.0</td>\n",
              "    </tr>\n",
              "  </tbody>\n",
              "</table>\n",
              "</div>\n",
              "      <button class=\"colab-df-convert\" onclick=\"convertToInteractive('df-07816377-07c1-431e-82ae-46d7a7c370e9')\"\n",
              "              title=\"Convert this dataframe to an interactive table.\"\n",
              "              style=\"display:none;\">\n",
              "        \n",
              "  <svg xmlns=\"http://www.w3.org/2000/svg\" height=\"24px\"viewBox=\"0 0 24 24\"\n",
              "       width=\"24px\">\n",
              "    <path d=\"M0 0h24v24H0V0z\" fill=\"none\"/>\n",
              "    <path d=\"M18.56 5.44l.94 2.06.94-2.06 2.06-.94-2.06-.94-.94-2.06-.94 2.06-2.06.94zm-11 1L8.5 8.5l.94-2.06 2.06-.94-2.06-.94L8.5 2.5l-.94 2.06-2.06.94zm10 10l.94 2.06.94-2.06 2.06-.94-2.06-.94-.94-2.06-.94 2.06-2.06.94z\"/><path d=\"M17.41 7.96l-1.37-1.37c-.4-.4-.92-.59-1.43-.59-.52 0-1.04.2-1.43.59L10.3 9.45l-7.72 7.72c-.78.78-.78 2.05 0 2.83L4 21.41c.39.39.9.59 1.41.59.51 0 1.02-.2 1.41-.59l7.78-7.78 2.81-2.81c.8-.78.8-2.07 0-2.86zM5.41 20L4 18.59l7.72-7.72 1.47 1.35L5.41 20z\"/>\n",
              "  </svg>\n",
              "      </button>\n",
              "      \n",
              "  <style>\n",
              "    .colab-df-container {\n",
              "      display:flex;\n",
              "      flex-wrap:wrap;\n",
              "      gap: 12px;\n",
              "    }\n",
              "\n",
              "    .colab-df-convert {\n",
              "      background-color: #E8F0FE;\n",
              "      border: none;\n",
              "      border-radius: 50%;\n",
              "      cursor: pointer;\n",
              "      display: none;\n",
              "      fill: #1967D2;\n",
              "      height: 32px;\n",
              "      padding: 0 0 0 0;\n",
              "      width: 32px;\n",
              "    }\n",
              "\n",
              "    .colab-df-convert:hover {\n",
              "      background-color: #E2EBFA;\n",
              "      box-shadow: 0px 1px 2px rgba(60, 64, 67, 0.3), 0px 1px 3px 1px rgba(60, 64, 67, 0.15);\n",
              "      fill: #174EA6;\n",
              "    }\n",
              "\n",
              "    [theme=dark] .colab-df-convert {\n",
              "      background-color: #3B4455;\n",
              "      fill: #D2E3FC;\n",
              "    }\n",
              "\n",
              "    [theme=dark] .colab-df-convert:hover {\n",
              "      background-color: #434B5C;\n",
              "      box-shadow: 0px 1px 3px 1px rgba(0, 0, 0, 0.15);\n",
              "      filter: drop-shadow(0px 1px 2px rgba(0, 0, 0, 0.3));\n",
              "      fill: #FFFFFF;\n",
              "    }\n",
              "  </style>\n",
              "\n",
              "      <script>\n",
              "        const buttonEl =\n",
              "          document.querySelector('#df-07816377-07c1-431e-82ae-46d7a7c370e9 button.colab-df-convert');\n",
              "        buttonEl.style.display =\n",
              "          google.colab.kernel.accessAllowed ? 'block' : 'none';\n",
              "\n",
              "        async function convertToInteractive(key) {\n",
              "          const element = document.querySelector('#df-07816377-07c1-431e-82ae-46d7a7c370e9');\n",
              "          const dataTable =\n",
              "            await google.colab.kernel.invokeFunction('convertToInteractive',\n",
              "                                                     [key], {});\n",
              "          if (!dataTable) return;\n",
              "\n",
              "          const docLinkHtml = 'Like what you see? Visit the ' +\n",
              "            '<a target=\"_blank\" href=https://colab.research.google.com/notebooks/data_table.ipynb>data table notebook</a>'\n",
              "            + ' to learn more about interactive tables.';\n",
              "          element.innerHTML = '';\n",
              "          dataTable['output_type'] = 'display_data';\n",
              "          await google.colab.output.renderOutput(dataTable, element);\n",
              "          const docLink = document.createElement('div');\n",
              "          docLink.innerHTML = docLinkHtml;\n",
              "          element.appendChild(docLink);\n",
              "        }\n",
              "      </script>\n",
              "    </div>\n",
              "  </div>\n",
              "  "
            ]
          },
          "metadata": {},
          "execution_count": 28
        }
      ]
    },
    {
      "cell_type": "code",
      "source": [
        "pareto_result[\"actual30\"] = pareto_result[\"frequency\"]/pareto_result[\"recency\"]*30"
      ],
      "metadata": {
        "id": "IE02msbSh46X"
      },
      "execution_count": 29,
      "outputs": []
    },
    {
      "cell_type": "code",
      "source": [
        "pareto_result[\"actual30\"].fillna(0, inplace = True)"
      ],
      "metadata": {
        "id": "EOg1cuooh6yJ"
      },
      "execution_count": 30,
      "outputs": []
    },
    {
      "cell_type": "code",
      "source": [
        "pareto_result[\"error\"] = pareto_result[\"actual30\"]-pareto_result[\"predicted_purchases\"]"
      ],
      "metadata": {
        "id": "DiRcf39ch8Nc"
      },
      "execution_count": 31,
      "outputs": []
    },
    {
      "cell_type": "code",
      "source": [
        "pareto_result.head()"
      ],
      "metadata": {
        "colab": {
          "base_uri": "https://localhost:8080/",
          "height": 206
        },
        "id": "TVM04TkGh-Fy",
        "outputId": "abebebda-c60b-48df-e4a4-905b39b56ab5"
      },
      "execution_count": 32,
      "outputs": [
        {
          "output_type": "execute_result",
          "data": {
            "text/plain": [
              "   CustomerID  frequency  recency      T  monetary_value  p_not_alive  \\\n",
              "0       12346        7.0    401.0  726.0    11066.637143     0.465187   \n",
              "1       12347        7.0    402.0  404.0      615.714286     0.000467   \n",
              "2       12348        4.0    363.0  438.0      449.310000     0.025307   \n",
              "3       12349        3.0    571.0  589.0     1120.056667     0.003551   \n",
              "4       12350        0.0      0.0  310.0        0.000000     0.167712   \n",
              "\n",
              "    p_alive  predicted_purchases  actual30     error  \n",
              "0  0.534813             0.155209  0.523691  0.368482  \n",
              "1  0.999533             0.485818  0.522388  0.036570  \n",
              "2  0.974693             0.270791  0.330579  0.059788  \n",
              "3  0.996449             0.168606  0.157618 -0.010988  \n",
              "4  0.832288             0.048093  0.000000 -0.048093  "
            ],
            "text/html": [
              "\n",
              "  <div id=\"df-1a3fce13-f306-4f65-b2a5-64b30636f037\">\n",
              "    <div class=\"colab-df-container\">\n",
              "      <div>\n",
              "<style scoped>\n",
              "    .dataframe tbody tr th:only-of-type {\n",
              "        vertical-align: middle;\n",
              "    }\n",
              "\n",
              "    .dataframe tbody tr th {\n",
              "        vertical-align: top;\n",
              "    }\n",
              "\n",
              "    .dataframe thead th {\n",
              "        text-align: right;\n",
              "    }\n",
              "</style>\n",
              "<table border=\"1\" class=\"dataframe\">\n",
              "  <thead>\n",
              "    <tr style=\"text-align: right;\">\n",
              "      <th></th>\n",
              "      <th>CustomerID</th>\n",
              "      <th>frequency</th>\n",
              "      <th>recency</th>\n",
              "      <th>T</th>\n",
              "      <th>monetary_value</th>\n",
              "      <th>p_not_alive</th>\n",
              "      <th>p_alive</th>\n",
              "      <th>predicted_purchases</th>\n",
              "      <th>actual30</th>\n",
              "      <th>error</th>\n",
              "    </tr>\n",
              "  </thead>\n",
              "  <tbody>\n",
              "    <tr>\n",
              "      <th>0</th>\n",
              "      <td>12346</td>\n",
              "      <td>7.0</td>\n",
              "      <td>401.0</td>\n",
              "      <td>726.0</td>\n",
              "      <td>11066.637143</td>\n",
              "      <td>0.465187</td>\n",
              "      <td>0.534813</td>\n",
              "      <td>0.155209</td>\n",
              "      <td>0.523691</td>\n",
              "      <td>0.368482</td>\n",
              "    </tr>\n",
              "    <tr>\n",
              "      <th>1</th>\n",
              "      <td>12347</td>\n",
              "      <td>7.0</td>\n",
              "      <td>402.0</td>\n",
              "      <td>404.0</td>\n",
              "      <td>615.714286</td>\n",
              "      <td>0.000467</td>\n",
              "      <td>0.999533</td>\n",
              "      <td>0.485818</td>\n",
              "      <td>0.522388</td>\n",
              "      <td>0.036570</td>\n",
              "    </tr>\n",
              "    <tr>\n",
              "      <th>2</th>\n",
              "      <td>12348</td>\n",
              "      <td>4.0</td>\n",
              "      <td>363.0</td>\n",
              "      <td>438.0</td>\n",
              "      <td>449.310000</td>\n",
              "      <td>0.025307</td>\n",
              "      <td>0.974693</td>\n",
              "      <td>0.270791</td>\n",
              "      <td>0.330579</td>\n",
              "      <td>0.059788</td>\n",
              "    </tr>\n",
              "    <tr>\n",
              "      <th>3</th>\n",
              "      <td>12349</td>\n",
              "      <td>3.0</td>\n",
              "      <td>571.0</td>\n",
              "      <td>589.0</td>\n",
              "      <td>1120.056667</td>\n",
              "      <td>0.003551</td>\n",
              "      <td>0.996449</td>\n",
              "      <td>0.168606</td>\n",
              "      <td>0.157618</td>\n",
              "      <td>-0.010988</td>\n",
              "    </tr>\n",
              "    <tr>\n",
              "      <th>4</th>\n",
              "      <td>12350</td>\n",
              "      <td>0.0</td>\n",
              "      <td>0.0</td>\n",
              "      <td>310.0</td>\n",
              "      <td>0.000000</td>\n",
              "      <td>0.167712</td>\n",
              "      <td>0.832288</td>\n",
              "      <td>0.048093</td>\n",
              "      <td>0.000000</td>\n",
              "      <td>-0.048093</td>\n",
              "    </tr>\n",
              "  </tbody>\n",
              "</table>\n",
              "</div>\n",
              "      <button class=\"colab-df-convert\" onclick=\"convertToInteractive('df-1a3fce13-f306-4f65-b2a5-64b30636f037')\"\n",
              "              title=\"Convert this dataframe to an interactive table.\"\n",
              "              style=\"display:none;\">\n",
              "        \n",
              "  <svg xmlns=\"http://www.w3.org/2000/svg\" height=\"24px\"viewBox=\"0 0 24 24\"\n",
              "       width=\"24px\">\n",
              "    <path d=\"M0 0h24v24H0V0z\" fill=\"none\"/>\n",
              "    <path d=\"M18.56 5.44l.94 2.06.94-2.06 2.06-.94-2.06-.94-.94-2.06-.94 2.06-2.06.94zm-11 1L8.5 8.5l.94-2.06 2.06-.94-2.06-.94L8.5 2.5l-.94 2.06-2.06.94zm10 10l.94 2.06.94-2.06 2.06-.94-2.06-.94-.94-2.06-.94 2.06-2.06.94z\"/><path d=\"M17.41 7.96l-1.37-1.37c-.4-.4-.92-.59-1.43-.59-.52 0-1.04.2-1.43.59L10.3 9.45l-7.72 7.72c-.78.78-.78 2.05 0 2.83L4 21.41c.39.39.9.59 1.41.59.51 0 1.02-.2 1.41-.59l7.78-7.78 2.81-2.81c.8-.78.8-2.07 0-2.86zM5.41 20L4 18.59l7.72-7.72 1.47 1.35L5.41 20z\"/>\n",
              "  </svg>\n",
              "      </button>\n",
              "      \n",
              "  <style>\n",
              "    .colab-df-container {\n",
              "      display:flex;\n",
              "      flex-wrap:wrap;\n",
              "      gap: 12px;\n",
              "    }\n",
              "\n",
              "    .colab-df-convert {\n",
              "      background-color: #E8F0FE;\n",
              "      border: none;\n",
              "      border-radius: 50%;\n",
              "      cursor: pointer;\n",
              "      display: none;\n",
              "      fill: #1967D2;\n",
              "      height: 32px;\n",
              "      padding: 0 0 0 0;\n",
              "      width: 32px;\n",
              "    }\n",
              "\n",
              "    .colab-df-convert:hover {\n",
              "      background-color: #E2EBFA;\n",
              "      box-shadow: 0px 1px 2px rgba(60, 64, 67, 0.3), 0px 1px 3px 1px rgba(60, 64, 67, 0.15);\n",
              "      fill: #174EA6;\n",
              "    }\n",
              "\n",
              "    [theme=dark] .colab-df-convert {\n",
              "      background-color: #3B4455;\n",
              "      fill: #D2E3FC;\n",
              "    }\n",
              "\n",
              "    [theme=dark] .colab-df-convert:hover {\n",
              "      background-color: #434B5C;\n",
              "      box-shadow: 0px 1px 3px 1px rgba(0, 0, 0, 0.15);\n",
              "      filter: drop-shadow(0px 1px 2px rgba(0, 0, 0, 0.3));\n",
              "      fill: #FFFFFF;\n",
              "    }\n",
              "  </style>\n",
              "\n",
              "      <script>\n",
              "        const buttonEl =\n",
              "          document.querySelector('#df-1a3fce13-f306-4f65-b2a5-64b30636f037 button.colab-df-convert');\n",
              "        buttonEl.style.display =\n",
              "          google.colab.kernel.accessAllowed ? 'block' : 'none';\n",
              "\n",
              "        async function convertToInteractive(key) {\n",
              "          const element = document.querySelector('#df-1a3fce13-f306-4f65-b2a5-64b30636f037');\n",
              "          const dataTable =\n",
              "            await google.colab.kernel.invokeFunction('convertToInteractive',\n",
              "                                                     [key], {});\n",
              "          if (!dataTable) return;\n",
              "\n",
              "          const docLinkHtml = 'Like what you see? Visit the ' +\n",
              "            '<a target=\"_blank\" href=https://colab.research.google.com/notebooks/data_table.ipynb>data table notebook</a>'\n",
              "            + ' to learn more about interactive tables.';\n",
              "          element.innerHTML = '';\n",
              "          dataTable['output_type'] = 'display_data';\n",
              "          await google.colab.output.renderOutput(dataTable, element);\n",
              "          const docLink = document.createElement('div');\n",
              "          docLink.innerHTML = docLinkHtml;\n",
              "          element.appendChild(docLink);\n",
              "        }\n",
              "      </script>\n",
              "    </div>\n",
              "  </div>\n",
              "  "
            ]
          },
          "metadata": {},
          "execution_count": 32
        }
      ]
    },
    {
      "cell_type": "code",
      "source": [
        "def get_metrics(true, predicted, error):\n",
        "    \n",
        "    print(\"Mean Squared Error: %s\"%(mean_squared_error(true, predicted)))\n",
        "    print(\"Root Mean Squared Error: %s\"%(sqrt(mean_squared_error(true, predicted))))\n",
        "    print(\"R2 Score: %s\"%(r2_score(true, predicted)))\n",
        "    \n",
        "    sns.scatterplot(true, predicted, size = error, color = \"darkolivegreen\")\n",
        "    plt.title(\"Actual Purchase v/s Predicted Purchase\")\n",
        "    plt.show()"
      ],
      "metadata": {
        "id": "gUd7xR8_h_oW"
      },
      "execution_count": 33,
      "outputs": []
    },
    {
      "cell_type": "code",
      "source": [
        "get_metrics(pareto_result[\"actual30\"], pareto_result[\"predicted_purchases\"], pareto_result[\"error\"])"
      ],
      "metadata": {
        "colab": {
          "base_uri": "https://localhost:8080/",
          "height": 347
        },
        "id": "5LAUErGTiCAH",
        "outputId": "ff587801-f586-4c01-ebb6-6fb2ef22a8fb"
      },
      "execution_count": 34,
      "outputs": [
        {
          "output_type": "stream",
          "name": "stdout",
          "text": [
            "Mean Squared Error: 2.2178118875611887\n",
            "Root Mean Squared Error: 1.489231979095664\n",
            "R2 Score: 0.060507629579523825\n"
          ]
        },
        {
          "output_type": "display_data",
          "data": {
            "text/plain": [
              "<Figure size 432x288 with 1 Axes>"
            ],
            "image/png": "[encoded data removed]"
          },
          "metadata": {
            "needs_background": "light"
          }
        }
      ]
    },
    {
      "cell_type": "code",
      "source": [
        "#Get the history alive plot to check whether the customer is alive or not\n",
        "\n",
        "def get_history_alive(t_, data_, id_):\n",
        "    \n",
        "    individual_alive = data[data[\"CustomerID\"] == id_]\n",
        "    plot_history_alive(pareto_model, t = t_, transactions = individual_alive, datetime_col = \"InvoiceDate\",\n",
        "                  freq = \"D\")"
      ],
      "metadata": {
        "id": "i3J-ZzoLiGTJ"
      },
      "execution_count": 35,
      "outputs": []
    },
    {
      "cell_type": "code",
      "source": [
        "get_history_alive(30, data, 12358.0)"
      ],
      "metadata": {
        "colab": {
          "base_uri": "https://localhost:8080/",
          "height": 281
        },
        "id": "2jQu1giNiH4f",
        "outputId": "996fc328-3c1e-4dc6-fbe1-052807577fb3"
      },
      "execution_count": 36,
      "outputs": [
        {
          "output_type": "display_data",
          "data": {
            "text/plain": [
              "<Figure size 432x288 with 1 Axes>"
            ],
            "image/png": "[encoded data removed]"
          },
          "metadata": {
            "needs_background": "light"
          }
        }
      ]
    },
    {
      "cell_type": "markdown",
      "source": [
        "**GAMMA-GAMMA MODEL**"
      ],
      "metadata": {
        "id": "7VNvGXLIiLzR"
      }
    },
    {
      "cell_type": "code",
      "source": [
        "idx = pareto_result[(pareto_result[\"frequency\"] <= 0.0)]"
      ],
      "metadata": {
        "id": "ZJSMxrFViJPW"
      },
      "execution_count": 37,
      "outputs": []
    },
    {
      "cell_type": "code",
      "source": [
        "idx = idx.index"
      ],
      "metadata": {
        "id": "Y6IlMMn-iP9L"
      },
      "execution_count": 38,
      "outputs": []
    },
    {
      "cell_type": "code",
      "source": [
        "ggf_filter = pareto_result.drop(idx, axis = 0)"
      ],
      "metadata": {
        "id": "0tEqG443iRLP"
      },
      "execution_count": 39,
      "outputs": []
    },
    {
      "cell_type": "code",
      "source": [
        "m_idx = ggf_filter[(ggf_filter[\"monetary_value\"] <= 0.0)].index"
      ],
      "metadata": {
        "id": "FSo0K6fMiSaa"
      },
      "execution_count": 40,
      "outputs": []
    },
    {
      "cell_type": "code",
      "source": [
        "ggf_filter = ggf_filter.drop(m_idx, axis = 0)"
      ],
      "metadata": {
        "id": "ZXcoLlOhiTyF"
      },
      "execution_count": 41,
      "outputs": []
    },
    {
      "cell_type": "code",
      "source": [
        "ggf_filter.reset_index().drop(\"index\", axis = 1, inplace = True)"
      ],
      "metadata": {
        "id": "n8070QNyiVKf"
      },
      "execution_count": 42,
      "outputs": []
    },
    {
      "cell_type": "code",
      "source": [
        "plt.figure(figsize=(6,5))\n",
        "sns.heatmap(ggf_filter[[\"frequency\", \"monetary_value\"]].corr(), annot = True, cbar = False)"
      ],
      "metadata": {
        "colab": {
          "base_uri": "https://localhost:8080/",
          "height": 338
        },
        "id": "xraEe9AXiWgy",
        "outputId": "53a91db3-7191-41b2-db12-52d0e7c6df20"
      },
      "execution_count": 43,
      "outputs": [
        {
          "output_type": "execute_result",
          "data": {
            "text/plain": [
              "<matplotlib.axes._subplots.AxesSubplot at 0x7f4962f00890>"
            ]
          },
          "metadata": {},
          "execution_count": 43
        },
        {
          "output_type": "display_data",
          "data": {
            "text/plain": [
              "<Figure size 432x360 with 1 Axes>"
            ],
            "image/png": "[encoded data removed]"
          },
          "metadata": {
            "needs_background": "light"
          }
        }
      ]
    },
    {
      "cell_type": "code",
      "source": [
        "ggf_model =  lifetimes.GammaGammaFitter(penalizer_coef=0.1)"
      ],
      "metadata": {
        "id": "sxGQ0F3IiZzb"
      },
      "execution_count": 44,
      "outputs": []
    },
    {
      "cell_type": "code",
      "source": [
        "ggf_model.fit(ggf_filter[\"frequency\"], ggf_filter[\"monetary_value\"])"
      ],
      "metadata": {
        "colab": {
          "base_uri": "https://localhost:8080/"
        },
        "id": "1YuJjsfuiaMy",
        "outputId": "da38219d-820c-4d62-a462-ffb5ce348785"
      },
      "execution_count": 45,
      "outputs": [
        {
          "output_type": "execute_result",
          "data": {
            "text/plain": [
              "<lifetimes.GammaGammaFitter: fitted with 4189 subjects, p: 1.02, q: 0.18, v: 0.93>"
            ]
          },
          "metadata": {},
          "execution_count": 45
        }
      ]
    },
    {
      "cell_type": "code",
      "source": [
        "ggf_model.summary"
      ],
      "metadata": {
        "colab": {
          "base_uri": "https://localhost:8080/",
          "height": 144
        },
        "id": "nlfMXMHJibgz",
        "outputId": "dae2a516-051b-46e7-987e-882d22b033cb"
      },
      "execution_count": 46,
      "outputs": [
        {
          "output_type": "execute_result",
          "data": {
            "text/plain": [
              "       coef  se(coef)  lower 95% bound  upper 95% bound\n",
              "p  1.019926  0.024531         0.971846         1.068006\n",
              "q  0.179152  0.002996         0.173280         0.185023\n",
              "v  0.933467  0.025489         0.883508         0.983426"
            ],
            "text/html": [
              "\n",
              "  <div id=\"df-d7d4a8c9-c68c-46a5-a852-3eb0cf0480d6\">\n",
              "    <div class=\"colab-df-container\">\n",
              "      <div>\n",
              "<style scoped>\n",
              "    .dataframe tbody tr th:only-of-type {\n",
              "        vertical-align: middle;\n",
              "    }\n",
              "\n",
              "    .dataframe tbody tr th {\n",
              "        vertical-align: top;\n",
              "    }\n",
              "\n",
              "    .dataframe thead th {\n",
              "        text-align: right;\n",
              "    }\n",
              "</style>\n",
              "<table border=\"1\" class=\"dataframe\">\n",
              "  <thead>\n",
              "    <tr style=\"text-align: right;\">\n",
              "      <th></th>\n",
              "      <th>coef</th>\n",
              "      <th>se(coef)</th>\n",
              "      <th>lower 95% bound</th>\n",
              "      <th>upper 95% bound</th>\n",
              "    </tr>\n",
              "  </thead>\n",
              "  <tbody>\n",
              "    <tr>\n",
              "      <th>p</th>\n",
              "      <td>1.019926</td>\n",
              "      <td>0.024531</td>\n",
              "      <td>0.971846</td>\n",
              "      <td>1.068006</td>\n",
              "    </tr>\n",
              "    <tr>\n",
              "      <th>q</th>\n",
              "      <td>0.179152</td>\n",
              "      <td>0.002996</td>\n",
              "      <td>0.173280</td>\n",
              "      <td>0.185023</td>\n",
              "    </tr>\n",
              "    <tr>\n",
              "      <th>v</th>\n",
              "      <td>0.933467</td>\n",
              "      <td>0.025489</td>\n",
              "      <td>0.883508</td>\n",
              "      <td>0.983426</td>\n",
              "    </tr>\n",
              "  </tbody>\n",
              "</table>\n",
              "</div>\n",
              "      <button class=\"colab-df-convert\" onclick=\"convertToInteractive('df-d7d4a8c9-c68c-46a5-a852-3eb0cf0480d6')\"\n",
              "              title=\"Convert this dataframe to an interactive table.\"\n",
              "              style=\"display:none;\">\n",
              "        \n",
              "  <svg xmlns=\"http://www.w3.org/2000/svg\" height=\"24px\"viewBox=\"0 0 24 24\"\n",
              "       width=\"24px\">\n",
              "    <path d=\"M0 0h24v24H0V0z\" fill=\"none\"/>\n",
              "    <path d=\"M18.56 5.44l.94 2.06.94-2.06 2.06-.94-2.06-.94-.94-2.06-.94 2.06-2.06.94zm-11 1L8.5 8.5l.94-2.06 2.06-.94-2.06-.94L8.5 2.5l-.94 2.06-2.06.94zm10 10l.94 2.06.94-2.06 2.06-.94-2.06-.94-.94-2.06-.94 2.06-2.06.94z\"/><path d=\"M17.41 7.96l-1.37-1.37c-.4-.4-.92-.59-1.43-.59-.52 0-1.04.2-1.43.59L10.3 9.45l-7.72 7.72c-.78.78-.78 2.05 0 2.83L4 21.41c.39.39.9.59 1.41.59.51 0 1.02-.2 1.41-.59l7.78-7.78 2.81-2.81c.8-.78.8-2.07 0-2.86zM5.41 20L4 18.59l7.72-7.72 1.47 1.35L5.41 20z\"/>\n",
              "  </svg>\n",
              "      </button>\n",
              "      \n",
              "  <style>\n",
              "    .colab-df-container {\n",
              "      display:flex;\n",
              "      flex-wrap:wrap;\n",
              "      gap: 12px;\n",
              "    }\n",
              "\n",
              "    .colab-df-convert {\n",
              "      background-color: #E8F0FE;\n",
              "      border: none;\n",
              "      border-radius: 50%;\n",
              "      cursor: pointer;\n",
              "      display: none;\n",
              "      fill: #1967D2;\n",
              "      height: 32px;\n",
              "      padding: 0 0 0 0;\n",
              "      width: 32px;\n",
              "    }\n",
              "\n",
              "    .colab-df-convert:hover {\n",
              "      background-color: #E2EBFA;\n",
              "      box-shadow: 0px 1px 2px rgba(60, 64, 67, 0.3), 0px 1px 3px 1px rgba(60, 64, 67, 0.15);\n",
              "      fill: #174EA6;\n",
              "    }\n",
              "\n",
              "    [theme=dark] .colab-df-convert {\n",
              "      background-color: #3B4455;\n",
              "      fill: #D2E3FC;\n",
              "    }\n",
              "\n",
              "    [theme=dark] .colab-df-convert:hover {\n",
              "      background-color: #434B5C;\n",
              "      box-shadow: 0px 1px 3px 1px rgba(0, 0, 0, 0.15);\n",
              "      filter: drop-shadow(0px 1px 2px rgba(0, 0, 0, 0.3));\n",
              "      fill: #FFFFFF;\n",
              "    }\n",
              "  </style>\n",
              "\n",
              "      <script>\n",
              "        const buttonEl =\n",
              "          document.querySelector('#df-d7d4a8c9-c68c-46a5-a852-3eb0cf0480d6 button.colab-df-convert');\n",
              "        buttonEl.style.display =\n",
              "          google.colab.kernel.accessAllowed ? 'block' : 'none';\n",
              "\n",
              "        async function convertToInteractive(key) {\n",
              "          const element = document.querySelector('#df-d7d4a8c9-c68c-46a5-a852-3eb0cf0480d6');\n",
              "          const dataTable =\n",
              "            await google.colab.kernel.invokeFunction('convertToInteractive',\n",
              "                                                     [key], {});\n",
              "          if (!dataTable) return;\n",
              "\n",
              "          const docLinkHtml = 'Like what you see? Visit the ' +\n",
              "            '<a target=\"_blank\" href=https://colab.research.google.com/notebooks/data_table.ipynb>data table notebook</a>'\n",
              "            + ' to learn more about interactive tables.';\n",
              "          element.innerHTML = '';\n",
              "          dataTable['output_type'] = 'display_data';\n",
              "          await google.colab.output.renderOutput(dataTable, element);\n",
              "          const docLink = document.createElement('div');\n",
              "          docLink.innerHTML = docLinkHtml;\n",
              "          element.appendChild(docLink);\n",
              "        }\n",
              "      </script>\n",
              "    </div>\n",
              "  </div>\n",
              "  "
            ]
          },
          "metadata": {},
          "execution_count": 46
        }
      ]
    },
    {
      "cell_type": "code",
      "source": [
        "ggf_filter[\"expected_avg_sales_\"] = ggf_model.conditional_expected_average_profit(ggf_filter[\"frequency\"],\n",
        "                                                                                     ggf_filter[\"monetary_value\"])"
      ],
      "metadata": {
        "id": "EW7QZWxoicxb"
      },
      "execution_count": 47,
      "outputs": []
    },
    {
      "cell_type": "code",
      "source": [
        "ggf_filter.head()"
      ],
      "metadata": {
        "colab": {
          "base_uri": "https://localhost:8080/",
          "height": 206
        },
        "id": "Qn0IGFKKmVgP",
        "outputId": "62569655-98e0-4f56-ff91-aee1b37f3eac"
      },
      "execution_count": 48,
      "outputs": [
        {
          "output_type": "execute_result",
          "data": {
            "text/plain": [
              "   CustomerID  frequency  recency      T  monetary_value  p_not_alive  \\\n",
              "0       12346        7.0    401.0  726.0    11066.637143     0.465187   \n",
              "1       12347        7.0    402.0  404.0      615.714286     0.000467   \n",
              "2       12348        4.0    363.0  438.0      449.310000     0.025307   \n",
              "3       12349        3.0    571.0  589.0     1120.056667     0.003551   \n",
              "6       12352        8.0    356.0  392.0      338.261250     0.012357   \n",
              "\n",
              "    p_alive  predicted_purchases  actual30     error  expected_avg_sales_  \n",
              "0  0.534813             0.155209  0.523691  0.368482         12504.444869  \n",
              "1  0.999533             0.485818  0.522388  0.036570           695.851861  \n",
              "2  0.974693             0.270791  0.330579  0.059788           562.775388  \n",
              "3  0.996449             0.168606  0.157618 -0.010988          1531.122915  \n",
              "6  0.987643             0.556060  0.674157  0.118098           376.226899  "
            ],
            "text/html": [
              "\n",
              "  <div id=\"df-ab3c29c3-0485-4b5d-8b1e-32e131aaad99\">\n",
              "    <div class=\"colab-df-container\">\n",
              "      <div>\n",
              "<style scoped>\n",
              "    .dataframe tbody tr th:only-of-type {\n",
              "        vertical-align: middle;\n",
              "    }\n",
              "\n",
              "    .dataframe tbody tr th {\n",
              "        vertical-align: top;\n",
              "    }\n",
              "\n",
              "    .dataframe thead th {\n",
              "        text-align: right;\n",
              "    }\n",
              "</style>\n",
              "<table border=\"1\" class=\"dataframe\">\n",
              "  <thead>\n",
              "    <tr style=\"text-align: right;\">\n",
              "      <th></th>\n",
              "      <th>CustomerID</th>\n",
              "      <th>frequency</th>\n",
              "      <th>recency</th>\n",
              "      <th>T</th>\n",
              "      <th>monetary_value</th>\n",
              "      <th>p_not_alive</th>\n",
              "      <th>p_alive</th>\n",
              "      <th>predicted_purchases</th>\n",
              "      <th>actual30</th>\n",
              "      <th>error</th>\n",
              "      <th>expected_avg_sales_</th>\n",
              "    </tr>\n",
              "  </thead>\n",
              "  <tbody>\n",
              "    <tr>\n",
              "      <th>0</th>\n",
              "      <td>12346</td>\n",
              "      <td>7.0</td>\n",
              "      <td>401.0</td>\n",
              "      <td>726.0</td>\n",
              "      <td>11066.637143</td>\n",
              "      <td>0.465187</td>\n",
              "      <td>0.534813</td>\n",
              "      <td>0.155209</td>\n",
              "      <td>0.523691</td>\n",
              "      <td>0.368482</td>\n",
              "      <td>12504.444869</td>\n",
              "    </tr>\n",
              "    <tr>\n",
              "      <th>1</th>\n",
              "      <td>12347</td>\n",
              "      <td>7.0</td>\n",
              "      <td>402.0</td>\n",
              "      <td>404.0</td>\n",
              "      <td>615.714286</td>\n",
              "      <td>0.000467</td>\n",
              "      <td>0.999533</td>\n",
              "      <td>0.485818</td>\n",
              "      <td>0.522388</td>\n",
              "      <td>0.036570</td>\n",
              "      <td>695.851861</td>\n",
              "    </tr>\n",
              "    <tr>\n",
              "      <th>2</th>\n",
              "      <td>12348</td>\n",
              "      <td>4.0</td>\n",
              "      <td>363.0</td>\n",
              "      <td>438.0</td>\n",
              "      <td>449.310000</td>\n",
              "      <td>0.025307</td>\n",
              "      <td>0.974693</td>\n",
              "      <td>0.270791</td>\n",
              "      <td>0.330579</td>\n",
              "      <td>0.059788</td>\n",
              "      <td>562.775388</td>\n",
              "    </tr>\n",
              "    <tr>\n",
              "      <th>3</th>\n",
              "      <td>12349</td>\n",
              "      <td>3.0</td>\n",
              "      <td>571.0</td>\n",
              "      <td>589.0</td>\n",
              "      <td>1120.056667</td>\n",
              "      <td>0.003551</td>\n",
              "      <td>0.996449</td>\n",
              "      <td>0.168606</td>\n",
              "      <td>0.157618</td>\n",
              "      <td>-0.010988</td>\n",
              "      <td>1531.122915</td>\n",
              "    </tr>\n",
              "    <tr>\n",
              "      <th>6</th>\n",
              "      <td>12352</td>\n",
              "      <td>8.0</td>\n",
              "      <td>356.0</td>\n",
              "      <td>392.0</td>\n",
              "      <td>338.261250</td>\n",
              "      <td>0.012357</td>\n",
              "      <td>0.987643</td>\n",
              "      <td>0.556060</td>\n",
              "      <td>0.674157</td>\n",
              "      <td>0.118098</td>\n",
              "      <td>376.226899</td>\n",
              "    </tr>\n",
              "  </tbody>\n",
              "</table>\n",
              "</div>\n",
              "      <button class=\"colab-df-convert\" onclick=\"convertToInteractive('df-ab3c29c3-0485-4b5d-8b1e-32e131aaad99')\"\n",
              "              title=\"Convert this dataframe to an interactive table.\"\n",
              "              style=\"display:none;\">\n",
              "        \n",
              "  <svg xmlns=\"http://www.w3.org/2000/svg\" height=\"24px\"viewBox=\"0 0 24 24\"\n",
              "       width=\"24px\">\n",
              "    <path d=\"M0 0h24v24H0V0z\" fill=\"none\"/>\n",
              "    <path d=\"M18.56 5.44l.94 2.06.94-2.06 2.06-.94-2.06-.94-.94-2.06-.94 2.06-2.06.94zm-11 1L8.5 8.5l.94-2.06 2.06-.94-2.06-.94L8.5 2.5l-.94 2.06-2.06.94zm10 10l.94 2.06.94-2.06 2.06-.94-2.06-.94-.94-2.06-.94 2.06-2.06.94z\"/><path d=\"M17.41 7.96l-1.37-1.37c-.4-.4-.92-.59-1.43-.59-.52 0-1.04.2-1.43.59L10.3 9.45l-7.72 7.72c-.78.78-.78 2.05 0 2.83L4 21.41c.39.39.9.59 1.41.59.51 0 1.02-.2 1.41-.59l7.78-7.78 2.81-2.81c.8-.78.8-2.07 0-2.86zM5.41 20L4 18.59l7.72-7.72 1.47 1.35L5.41 20z\"/>\n",
              "  </svg>\n",
              "      </button>\n",
              "      \n",
              "  <style>\n",
              "    .colab-df-container {\n",
              "      display:flex;\n",
              "      flex-wrap:wrap;\n",
              "      gap: 12px;\n",
              "    }\n",
              "\n",
              "    .colab-df-convert {\n",
              "      background-color: #E8F0FE;\n",
              "      border: none;\n",
              "      border-radius: 50%;\n",
              "      cursor: pointer;\n",
              "      display: none;\n",
              "      fill: #1967D2;\n",
              "      height: 32px;\n",
              "      padding: 0 0 0 0;\n",
              "      width: 32px;\n",
              "    }\n",
              "\n",
              "    .colab-df-convert:hover {\n",
              "      background-color: #E2EBFA;\n",
              "      box-shadow: 0px 1px 2px rgba(60, 64, 67, 0.3), 0px 1px 3px 1px rgba(60, 64, 67, 0.15);\n",
              "      fill: #174EA6;\n",
              "    }\n",
              "\n",
              "    [theme=dark] .colab-df-convert {\n",
              "      background-color: #3B4455;\n",
              "      fill: #D2E3FC;\n",
              "    }\n",
              "\n",
              "    [theme=dark] .colab-df-convert:hover {\n",
              "      background-color: #434B5C;\n",
              "      box-shadow: 0px 1px 3px 1px rgba(0, 0, 0, 0.15);\n",
              "      filter: drop-shadow(0px 1px 2px rgba(0, 0, 0, 0.3));\n",
              "      fill: #FFFFFF;\n",
              "    }\n",
              "  </style>\n",
              "\n",
              "      <script>\n",
              "        const buttonEl =\n",
              "          document.querySelector('#df-ab3c29c3-0485-4b5d-8b1e-32e131aaad99 button.colab-df-convert');\n",
              "        buttonEl.style.display =\n",
              "          google.colab.kernel.accessAllowed ? 'block' : 'none';\n",
              "\n",
              "        async function convertToInteractive(key) {\n",
              "          const element = document.querySelector('#df-ab3c29c3-0485-4b5d-8b1e-32e131aaad99');\n",
              "          const dataTable =\n",
              "            await google.colab.kernel.invokeFunction('convertToInteractive',\n",
              "                                                     [key], {});\n",
              "          if (!dataTable) return;\n",
              "\n",
              "          const docLinkHtml = 'Like what you see? Visit the ' +\n",
              "            '<a target=\"_blank\" href=https://colab.research.google.com/notebooks/data_table.ipynb>data table notebook</a>'\n",
              "            + ' to learn more about interactive tables.';\n",
              "          element.innerHTML = '';\n",
              "          dataTable['output_type'] = 'display_data';\n",
              "          await google.colab.output.renderOutput(dataTable, element);\n",
              "          const docLink = document.createElement('div');\n",
              "          docLink.innerHTML = docLinkHtml;\n",
              "          element.appendChild(docLink);\n",
              "        }\n",
              "      </script>\n",
              "    </div>\n",
              "  </div>\n",
              "  "
            ]
          },
          "metadata": {},
          "execution_count": 48
        }
      ]
    },
    {
      "cell_type": "code",
      "source": [
        "print(\"Mean Squared Error: %s\" %(mean_squared_error(ggf_filter[\"monetary_value\"], ggf_filter[\"expected_avg_sales_\"])))\n",
        "print(\"Root Mean Squared Error: %s\" %(sqrt(mean_squared_error(ggf_filter[\"monetary_value\"], ggf_filter[\"expected_avg_sales_\"]))))\n",
        "print(\"R2 Score: %s\" %(r2_score(ggf_filter[\"monetary_value\"], ggf_filter[\"expected_avg_sales_\"])))"
      ],
      "metadata": {
        "colab": {
          "base_uri": "https://localhost:8080/"
        },
        "id": "uD6O-GMfifGX",
        "outputId": "af080f80-a9db-4696-d8d0-e8c941e8f3cf"
      },
      "execution_count": 49,
      "outputs": [
        {
          "output_type": "stream",
          "name": "stdout",
          "text": [
            "Mean Squared Error: 118447363.6217067\n",
            "Root Mean Squared Error: 10883.352591077195\n",
            "R2 Score: -15.721908585813079\n"
          ]
        }
      ]
    },
    {
      "cell_type": "code",
      "source": [
        "ggf_filter[\"predicted_clv\"] = ggf_model.customer_lifetime_value(pareto_model,\n",
        "                                                       ggf_filter[\"frequency\"],\n",
        "                                                       ggf_filter[\"recency\"],\n",
        "                                                       ggf_filter[\"T\"],\n",
        "                                                       ggf_filter[\"monetary_value\"],\n",
        "                                                       time = 30,\n",
        "                                                       freq = 'D',\n",
        "                                                       discount_rate = 0.01)"
      ],
      "metadata": {
        "id": "_jN_F13dig5U"
      },
      "execution_count": 50,
      "outputs": []
    },
    {
      "cell_type": "code",
      "source": [
        "#Top 5 customers with high CLV\n",
        "ggf_filter[[\"CustomerID\", \"predicted_clv\"]].sort_values(by = \"predicted_clv\", ascending = False).head(5)"
      ],
      "metadata": {
        "colab": {
          "base_uri": "https://localhost:8080/",
          "height": 206
        },
        "id": "TET-oInOiiVg",
        "outputId": "58d0ef7c-a420-4527-f71a-0d46db0a0a2e"
      },
      "execution_count": 51,
      "outputs": [
        {
          "output_type": "execute_result",
          "data": {
            "text/plain": [
              "      CustomerID  predicted_clv\n",
              "4061       16446   3.636526e+06\n",
              "5692       18102   5.048913e+05\n",
              "2277       14646   4.537431e+05\n",
              "189        12536   3.626072e+05\n",
              "5050       17450   2.876695e+05"
            ],
            "text/html": [
              "\n",
              "  <div id=\"df-0a83333c-801a-48bf-b48a-a4f9f63996b0\">\n",
              "    <div class=\"colab-df-container\">\n",
              "      <div>\n",
              "<style scoped>\n",
              "    .dataframe tbody tr th:only-of-type {\n",
              "        vertical-align: middle;\n",
              "    }\n",
              "\n",
              "    .dataframe tbody tr th {\n",
              "        vertical-align: top;\n",
              "    }\n",
              "\n",
              "    .dataframe thead th {\n",
              "        text-align: right;\n",
              "    }\n",
              "</style>\n",
              "<table border=\"1\" class=\"dataframe\">\n",
              "  <thead>\n",
              "    <tr style=\"text-align: right;\">\n",
              "      <th></th>\n",
              "      <th>CustomerID</th>\n",
              "      <th>predicted_clv</th>\n",
              "    </tr>\n",
              "  </thead>\n",
              "  <tbody>\n",
              "    <tr>\n",
              "      <th>4061</th>\n",
              "      <td>16446</td>\n",
              "      <td>3.636526e+06</td>\n",
              "    </tr>\n",
              "    <tr>\n",
              "      <th>5692</th>\n",
              "      <td>18102</td>\n",
              "      <td>5.048913e+05</td>\n",
              "    </tr>\n",
              "    <tr>\n",
              "      <th>2277</th>\n",
              "      <td>14646</td>\n",
              "      <td>4.537431e+05</td>\n",
              "    </tr>\n",
              "    <tr>\n",
              "      <th>189</th>\n",
              "      <td>12536</td>\n",
              "      <td>3.626072e+05</td>\n",
              "    </tr>\n",
              "    <tr>\n",
              "      <th>5050</th>\n",
              "      <td>17450</td>\n",
              "      <td>2.876695e+05</td>\n",
              "    </tr>\n",
              "  </tbody>\n",
              "</table>\n",
              "</div>\n",
              "      <button class=\"colab-df-convert\" onclick=\"convertToInteractive('df-0a83333c-801a-48bf-b48a-a4f9f63996b0')\"\n",
              "              title=\"Convert this dataframe to an interactive table.\"\n",
              "              style=\"display:none;\">\n",
              "        \n",
              "  <svg xmlns=\"http://www.w3.org/2000/svg\" height=\"24px\"viewBox=\"0 0 24 24\"\n",
              "       width=\"24px\">\n",
              "    <path d=\"M0 0h24v24H0V0z\" fill=\"none\"/>\n",
              "    <path d=\"M18.56 5.44l.94 2.06.94-2.06 2.06-.94-2.06-.94-.94-2.06-.94 2.06-2.06.94zm-11 1L8.5 8.5l.94-2.06 2.06-.94-2.06-.94L8.5 2.5l-.94 2.06-2.06.94zm10 10l.94 2.06.94-2.06 2.06-.94-2.06-.94-.94-2.06-.94 2.06-2.06.94z\"/><path d=\"M17.41 7.96l-1.37-1.37c-.4-.4-.92-.59-1.43-.59-.52 0-1.04.2-1.43.59L10.3 9.45l-7.72 7.72c-.78.78-.78 2.05 0 2.83L4 21.41c.39.39.9.59 1.41.59.51 0 1.02-.2 1.41-.59l7.78-7.78 2.81-2.81c.8-.78.8-2.07 0-2.86zM5.41 20L4 18.59l7.72-7.72 1.47 1.35L5.41 20z\"/>\n",
              "  </svg>\n",
              "      </button>\n",
              "      \n",
              "  <style>\n",
              "    .colab-df-container {\n",
              "      display:flex;\n",
              "      flex-wrap:wrap;\n",
              "      gap: 12px;\n",
              "    }\n",
              "\n",
              "    .colab-df-convert {\n",
              "      background-color: #E8F0FE;\n",
              "      border: none;\n",
              "      border-radius: 50%;\n",
              "      cursor: pointer;\n",
              "      display: none;\n",
              "      fill: #1967D2;\n",
              "      height: 32px;\n",
              "      padding: 0 0 0 0;\n",
              "      width: 32px;\n",
              "    }\n",
              "\n",
              "    .colab-df-convert:hover {\n",
              "      background-color: #E2EBFA;\n",
              "      box-shadow: 0px 1px 2px rgba(60, 64, 67, 0.3), 0px 1px 3px 1px rgba(60, 64, 67, 0.15);\n",
              "      fill: #174EA6;\n",
              "    }\n",
              "\n",
              "    [theme=dark] .colab-df-convert {\n",
              "      background-color: #3B4455;\n",
              "      fill: #D2E3FC;\n",
              "    }\n",
              "\n",
              "    [theme=dark] .colab-df-convert:hover {\n",
              "      background-color: #434B5C;\n",
              "      box-shadow: 0px 1px 3px 1px rgba(0, 0, 0, 0.15);\n",
              "      filter: drop-shadow(0px 1px 2px rgba(0, 0, 0, 0.3));\n",
              "      fill: #FFFFFF;\n",
              "    }\n",
              "  </style>\n",
              "\n",
              "      <script>\n",
              "        const buttonEl =\n",
              "          document.querySelector('#df-0a83333c-801a-48bf-b48a-a4f9f63996b0 button.colab-df-convert');\n",
              "        buttonEl.style.display =\n",
              "          google.colab.kernel.accessAllowed ? 'block' : 'none';\n",
              "\n",
              "        async function convertToInteractive(key) {\n",
              "          const element = document.querySelector('#df-0a83333c-801a-48bf-b48a-a4f9f63996b0');\n",
              "          const dataTable =\n",
              "            await google.colab.kernel.invokeFunction('convertToInteractive',\n",
              "                                                     [key], {});\n",
              "          if (!dataTable) return;\n",
              "\n",
              "          const docLinkHtml = 'Like what you see? Visit the ' +\n",
              "            '<a target=\"_blank\" href=https://colab.research.google.com/notebooks/data_table.ipynb>data table notebook</a>'\n",
              "            + ' to learn more about interactive tables.';\n",
              "          element.innerHTML = '';\n",
              "          dataTable['output_type'] = 'display_data';\n",
              "          await google.colab.output.renderOutput(dataTable, element);\n",
              "          const docLink = document.createElement('div');\n",
              "          docLink.innerHTML = docLinkHtml;\n",
              "          element.appendChild(docLink);\n",
              "        }\n",
              "      </script>\n",
              "    </div>\n",
              "  </div>\n",
              "  "
            ]
          },
          "metadata": {},
          "execution_count": 51
        }
      ]
    },
    {
      "cell_type": "code",
      "source": [
        "# Assuming 5% of Profit Margin\n",
        "ggf_filter[\"profit_margin\"] = ggf_filter[\"predicted_clv\"]*0.05"
      ],
      "metadata": {
        "id": "Vq20TYYBml4M"
      },
      "execution_count": 52,
      "outputs": []
    },
    {
      "cell_type": "code",
      "source": [
        "ggf_filter.reset_index().drop(\"index\", axis = 1, inplace = True)"
      ],
      "metadata": {
        "id": "DkWFi-dFikwV"
      },
      "execution_count": 53,
      "outputs": []
    },
    {
      "cell_type": "code",
      "source": [
        "#exporting the result to csv\n",
        "ggf_filter.to_csv(\"customer_lifetime_value_prediction.csv\")"
      ],
      "metadata": {
        "id": "9NesTCRkimeY"
      },
      "execution_count": 54,
      "outputs": []
    },
    {
      "cell_type": "markdown",
      "source": [
        "**CUSTOMER SEGMENTATION USING PREDICTED CLV**"
      ],
      "metadata": {
        "id": "Ufh1XRyCirN2"
      }
    },
    {
      "cell_type": "code",
      "source": [
        "ggf_filter.head()"
      ],
      "metadata": {
        "colab": {
          "base_uri": "https://localhost:8080/",
          "height": 270
        },
        "id": "2xbfZMOMi85u",
        "outputId": "224e51db-c451-4c23-9354-07310bc165ee"
      },
      "execution_count": 55,
      "outputs": [
        {
          "output_type": "execute_result",
          "data": {
            "text/plain": [
              "   CustomerID  frequency  recency      T  monetary_value  p_not_alive  \\\n",
              "0       12346        7.0    401.0  726.0    11066.637143     0.465187   \n",
              "1       12347        7.0    402.0  404.0      615.714286     0.000467   \n",
              "2       12348        4.0    363.0  438.0      449.310000     0.025307   \n",
              "3       12349        3.0    571.0  589.0     1120.056667     0.003551   \n",
              "6       12352        8.0    356.0  392.0      338.261250     0.012357   \n",
              "\n",
              "    p_alive  predicted_purchases  actual30     error  expected_avg_sales_  \\\n",
              "0  0.534813             0.155209  0.523691  0.368482         12504.444869   \n",
              "1  0.999533             0.485818  0.522388  0.036570           695.851861   \n",
              "2  0.974693             0.270791  0.330579  0.059788           562.775388   \n",
              "3  0.996449             0.168606  0.157618 -0.010988          1531.122915   \n",
              "6  0.987643             0.556060  0.674157  0.118098           376.226899   \n",
              "\n",
              "   predicted_clv  profit_margin  \n",
              "0   35175.087513    1758.754376  \n",
              "1    7680.254014     384.012701  \n",
              "2    3430.871570     171.543579  \n",
              "3    5920.276687     296.013834  \n",
              "6    4723.422157     236.171108  "
            ],
            "text/html": [
              "\n",
              "  <div id=\"df-26ecc9d5-e6c2-4101-9d85-0eb52f58ade2\">\n",
              "    <div class=\"colab-df-container\">\n",
              "      <div>\n",
              "<style scoped>\n",
              "    .dataframe tbody tr th:only-of-type {\n",
              "        vertical-align: middle;\n",
              "    }\n",
              "\n",
              "    .dataframe tbody tr th {\n",
              "        vertical-align: top;\n",
              "    }\n",
              "\n",
              "    .dataframe thead th {\n",
              "        text-align: right;\n",
              "    }\n",
              "</style>\n",
              "<table border=\"1\" class=\"dataframe\">\n",
              "  <thead>\n",
              "    <tr style=\"text-align: right;\">\n",
              "      <th></th>\n",
              "      <th>CustomerID</th>\n",
              "      <th>frequency</th>\n",
              "      <th>recency</th>\n",
              "      <th>T</th>\n",
              "      <th>monetary_value</th>\n",
              "      <th>p_not_alive</th>\n",
              "      <th>p_alive</th>\n",
              "      <th>predicted_purchases</th>\n",
              "      <th>actual30</th>\n",
              "      <th>error</th>\n",
              "      <th>expected_avg_sales_</th>\n",
              "      <th>predicted_clv</th>\n",
              "      <th>profit_margin</th>\n",
              "    </tr>\n",
              "  </thead>\n",
              "  <tbody>\n",
              "    <tr>\n",
              "      <th>0</th>\n",
              "      <td>12346</td>\n",
              "      <td>7.0</td>\n",
              "      <td>401.0</td>\n",
              "      <td>726.0</td>\n",
              "      <td>11066.637143</td>\n",
              "      <td>0.465187</td>\n",
              "      <td>0.534813</td>\n",
              "      <td>0.155209</td>\n",
              "      <td>0.523691</td>\n",
              "      <td>0.368482</td>\n",
              "      <td>12504.444869</td>\n",
              "      <td>35175.087513</td>\n",
              "      <td>1758.754376</td>\n",
              "    </tr>\n",
              "    <tr>\n",
              "      <th>1</th>\n",
              "      <td>12347</td>\n",
              "      <td>7.0</td>\n",
              "      <td>402.0</td>\n",
              "      <td>404.0</td>\n",
              "      <td>615.714286</td>\n",
              "      <td>0.000467</td>\n",
              "      <td>0.999533</td>\n",
              "      <td>0.485818</td>\n",
              "      <td>0.522388</td>\n",
              "      <td>0.036570</td>\n",
              "      <td>695.851861</td>\n",
              "      <td>7680.254014</td>\n",
              "      <td>384.012701</td>\n",
              "    </tr>\n",
              "    <tr>\n",
              "      <th>2</th>\n",
              "      <td>12348</td>\n",
              "      <td>4.0</td>\n",
              "      <td>363.0</td>\n",
              "      <td>438.0</td>\n",
              "      <td>449.310000</td>\n",
              "      <td>0.025307</td>\n",
              "      <td>0.974693</td>\n",
              "      <td>0.270791</td>\n",
              "      <td>0.330579</td>\n",
              "      <td>0.059788</td>\n",
              "      <td>562.775388</td>\n",
              "      <td>3430.871570</td>\n",
              "      <td>171.543579</td>\n",
              "    </tr>\n",
              "    <tr>\n",
              "      <th>3</th>\n",
              "      <td>12349</td>\n",
              "      <td>3.0</td>\n",
              "      <td>571.0</td>\n",
              "      <td>589.0</td>\n",
              "      <td>1120.056667</td>\n",
              "      <td>0.003551</td>\n",
              "      <td>0.996449</td>\n",
              "      <td>0.168606</td>\n",
              "      <td>0.157618</td>\n",
              "      <td>-0.010988</td>\n",
              "      <td>1531.122915</td>\n",
              "      <td>5920.276687</td>\n",
              "      <td>296.013834</td>\n",
              "    </tr>\n",
              "    <tr>\n",
              "      <th>6</th>\n",
              "      <td>12352</td>\n",
              "      <td>8.0</td>\n",
              "      <td>356.0</td>\n",
              "      <td>392.0</td>\n",
              "      <td>338.261250</td>\n",
              "      <td>0.012357</td>\n",
              "      <td>0.987643</td>\n",
              "      <td>0.556060</td>\n",
              "      <td>0.674157</td>\n",
              "      <td>0.118098</td>\n",
              "      <td>376.226899</td>\n",
              "      <td>4723.422157</td>\n",
              "      <td>236.171108</td>\n",
              "    </tr>\n",
              "  </tbody>\n",
              "</table>\n",
              "</div>\n",
              "      <button class=\"colab-df-convert\" onclick=\"convertToInteractive('df-26ecc9d5-e6c2-4101-9d85-0eb52f58ade2')\"\n",
              "              title=\"Convert this dataframe to an interactive table.\"\n",
              "              style=\"display:none;\">\n",
              "        \n",
              "  <svg xmlns=\"http://www.w3.org/2000/svg\" height=\"24px\"viewBox=\"0 0 24 24\"\n",
              "       width=\"24px\">\n",
              "    <path d=\"M0 0h24v24H0V0z\" fill=\"none\"/>\n",
              "    <path d=\"M18.56 5.44l.94 2.06.94-2.06 2.06-.94-2.06-.94-.94-2.06-.94 2.06-2.06.94zm-11 1L8.5 8.5l.94-2.06 2.06-.94-2.06-.94L8.5 2.5l-.94 2.06-2.06.94zm10 10l.94 2.06.94-2.06 2.06-.94-2.06-.94-.94-2.06-.94 2.06-2.06.94z\"/><path d=\"M17.41 7.96l-1.37-1.37c-.4-.4-.92-.59-1.43-.59-.52 0-1.04.2-1.43.59L10.3 9.45l-7.72 7.72c-.78.78-.78 2.05 0 2.83L4 21.41c.39.39.9.59 1.41.59.51 0 1.02-.2 1.41-.59l7.78-7.78 2.81-2.81c.8-.78.8-2.07 0-2.86zM5.41 20L4 18.59l7.72-7.72 1.47 1.35L5.41 20z\"/>\n",
              "  </svg>\n",
              "      </button>\n",
              "      \n",
              "  <style>\n",
              "    .colab-df-container {\n",
              "      display:flex;\n",
              "      flex-wrap:wrap;\n",
              "      gap: 12px;\n",
              "    }\n",
              "\n",
              "    .colab-df-convert {\n",
              "      background-color: #E8F0FE;\n",
              "      border: none;\n",
              "      border-radius: 50%;\n",
              "      cursor: pointer;\n",
              "      display: none;\n",
              "      fill: #1967D2;\n",
              "      height: 32px;\n",
              "      padding: 0 0 0 0;\n",
              "      width: 32px;\n",
              "    }\n",
              "\n",
              "    .colab-df-convert:hover {\n",
              "      background-color: #E2EBFA;\n",
              "      box-shadow: 0px 1px 2px rgba(60, 64, 67, 0.3), 0px 1px 3px 1px rgba(60, 64, 67, 0.15);\n",
              "      fill: #174EA6;\n",
              "    }\n",
              "\n",
              "    [theme=dark] .colab-df-convert {\n",
              "      background-color: #3B4455;\n",
              "      fill: #D2E3FC;\n",
              "    }\n",
              "\n",
              "    [theme=dark] .colab-df-convert:hover {\n",
              "      background-color: #434B5C;\n",
              "      box-shadow: 0px 1px 3px 1px rgba(0, 0, 0, 0.15);\n",
              "      filter: drop-shadow(0px 1px 2px rgba(0, 0, 0, 0.3));\n",
              "      fill: #FFFFFF;\n",
              "    }\n",
              "  </style>\n",
              "\n",
              "      <script>\n",
              "        const buttonEl =\n",
              "          document.querySelector('#df-26ecc9d5-e6c2-4101-9d85-0eb52f58ade2 button.colab-df-convert');\n",
              "        buttonEl.style.display =\n",
              "          google.colab.kernel.accessAllowed ? 'block' : 'none';\n",
              "\n",
              "        async function convertToInteractive(key) {\n",
              "          const element = document.querySelector('#df-26ecc9d5-e6c2-4101-9d85-0eb52f58ade2');\n",
              "          const dataTable =\n",
              "            await google.colab.kernel.invokeFunction('convertToInteractive',\n",
              "                                                     [key], {});\n",
              "          if (!dataTable) return;\n",
              "\n",
              "          const docLinkHtml = 'Like what you see? Visit the ' +\n",
              "            '<a target=\"_blank\" href=https://colab.research.google.com/notebooks/data_table.ipynb>data table notebook</a>'\n",
              "            + ' to learn more about interactive tables.';\n",
              "          element.innerHTML = '';\n",
              "          dataTable['output_type'] = 'display_data';\n",
              "          await google.colab.output.renderOutput(dataTable, element);\n",
              "          const docLink = document.createElement('div');\n",
              "          docLink.innerHTML = docLinkHtml;\n",
              "          element.appendChild(docLink);\n",
              "        }\n",
              "      </script>\n",
              "    </div>\n",
              "  </div>\n",
              "  "
            ]
          },
          "metadata": {},
          "execution_count": 55
        }
      ]
    },
    {
      "cell_type": "code",
      "source": [
        "col = [\"predicted_purchases\", \"expected_avg_sales_\", \"predicted_clv\", \"profit_margin\"]"
      ],
      "metadata": {
        "id": "6P2DWFkEi-Px"
      },
      "execution_count": 56,
      "outputs": []
    },
    {
      "cell_type": "code",
      "source": [
        "sns.pairplot(ggf_filter[col], diag_kind = \"kde\")"
      ],
      "metadata": {
        "colab": {
          "base_uri": "https://localhost:8080/",
          "height": 743
        },
        "id": "jbxAdTWEi_v_",
        "outputId": "3d5edb16-5e8c-49e0-e262-bafa72f2d5dd"
      },
      "execution_count": 57,
      "outputs": [
        {
          "output_type": "execute_result",
          "data": {
            "text/plain": [
              "<seaborn.axisgrid.PairGrid at 0x7f494fb18ed0>"
            ]
          },
          "metadata": {},
          "execution_count": 57
        },
        {
          "output_type": "display_data",
          "data": {
            "text/plain": [
              "<Figure size 720x720 with 20 Axes>"
            ],
            "image/png": "[encoded data removed]"
          },
          "metadata": {
            "needs_background": "light"
          }
        }
      ]
    },
    {
      "cell_type": "code",
      "source": [
        "new_df = ggf_filter[col]\n",
        "print(new_df)"
      ],
      "metadata": {
        "id": "0Y278u3tjBKz",
        "colab": {
          "base_uri": "https://localhost:8080/"
        },
        "outputId": "9d1b5c24-ba5d-4366-a1c2-5567ac4e7376"
      },
      "execution_count": 58,
      "outputs": [
        {
          "output_type": "stream",
          "name": "stdout",
          "text": [
            "      predicted_purchases  expected_avg_sales_  predicted_clv  profit_margin\n",
            "0                0.155209         12504.444869   35175.087513    1758.754376\n",
            "1                0.485818           695.851861    7680.254014     384.012701\n",
            "2                0.270791           562.775388    3430.871570     171.543579\n",
            "3                0.168606          1531.122915    5920.276687     296.013834\n",
            "6                0.556060           376.226899    4723.422157     236.171108\n",
            "...                   ...                  ...            ...            ...\n",
            "5871             0.076241           418.843596     715.310041      35.765502\n",
            "5872             0.261352           403.576306    2349.822315     117.491116\n",
            "5873             0.766602           149.398389    2635.503904     131.775195\n",
            "5876             0.052165          4274.910277    4670.126802     233.506340\n",
            "5877             0.264345           741.876901    4471.721302     223.586065\n",
            "\n",
            "[4189 rows x 4 columns]\n"
          ]
        }
      ]
    },
    {
      "cell_type": "code",
      "source": [
        "inertia = []\n",
        "\n",
        "for i in range(1, 11):\n",
        "    kmeans  = KMeans(n_clusters = i, init = 'k-means++', random_state = 42)\n",
        "    kmeans.fit(new_df)\n",
        "    inertia.append(kmeans.inertia_)"
      ],
      "metadata": {
        "id": "fJweCgBLjDOw"
      },
      "execution_count": 59,
      "outputs": []
    },
    {
      "cell_type": "code",
      "source": [
        "plt.figure(figsize = (10,8))\n",
        "plt.plot(range(1, 11), inertia, marker = 'o', linestyle = '-.',color='red')\n",
        "plt.xlabel('Number of Clusters')\n",
        "plt.ylabel('Inertia')\n",
        "plt.title('K-means Clustering')\n",
        "plt.show()"
      ],
      "metadata": {
        "colab": {
          "base_uri": "https://localhost:8080/",
          "height": 513
        },
        "id": "OoSPqhf4ibeB",
        "outputId": "86097784-f996-47b6-b8ff-c12c2c88b160"
      },
      "execution_count": 60,
      "outputs": [
        {
          "output_type": "display_data",
          "data": {
            "text/plain": [
              "<Figure size 720x576 with 1 Axes>"
            ],
            "image/png": "[encoded data removed]"
          },
          "metadata": {
            "needs_background": "light"
          }
        }
      ]
    },
    {
      "cell_type": "code",
      "source": [
        "kmeans = KMeans(n_clusters = 4, init = 'k-means++', random_state = 42)"
      ],
      "metadata": {
        "id": "jpCt1ko27ZRJ"
      },
      "execution_count": 61,
      "outputs": []
    },
    {
      "cell_type": "code",
      "source": [
        "labels=kmeans.fit(new_df)"
      ],
      "metadata": {
        "id": "Yn-SjCCX7c4O"
      },
      "execution_count": 62,
      "outputs": []
    },
    {
      "cell_type": "code",
      "source": [
        "df_segm_kmeans= new_df.copy()\n",
        "df_segm_kmeans['Segment K-means'] = kmeans.labels_"
      ],
      "metadata": {
        "id": "bvYzvnVG7pmE"
      },
      "execution_count": 63,
      "outputs": []
    },
    {
      "cell_type": "code",
      "source": [
        "df_segm_analysis = df_segm_kmeans.groupby(['Segment K-means']).mean()\n",
        "df_segm_analysis"
      ],
      "metadata": {
        "colab": {
          "base_uri": "https://localhost:8080/",
          "height": 206
        },
        "id": "mgaSCJ6m73iF",
        "outputId": "29fcf0f3-7eb1-4153-afe9-349b3b1e3ea1"
      },
      "execution_count": 64,
      "outputs": [
        {
          "output_type": "execute_result",
          "data": {
            "text/plain": [
              "                 predicted_purchases  expected_avg_sales_  predicted_clv  \\\n",
              "Segment K-means                                                            \n",
              "0                           0.324033           758.436149   4.105923e+03   \n",
              "1                           0.187433        863116.959561   3.636526e+06   \n",
              "2                           3.103728         22851.858246   3.334814e+05   \n",
              "3                           2.046050          4194.432976   7.971578e+04   \n",
              "\n",
              "                 profit_margin  \n",
              "Segment K-means                 \n",
              "0                   205.296136  \n",
              "1                181826.302865  \n",
              "2                 16674.070021  \n",
              "3                  3985.789230  "
            ],
            "text/html": [
              "\n",
              "  <div id=\"df-ba57055f-badf-4aff-83f3-9a5cd5dbef9c\">\n",
              "    <div class=\"colab-df-container\">\n",
              "      <div>\n",
              "<style scoped>\n",
              "    .dataframe tbody tr th:only-of-type {\n",
              "        vertical-align: middle;\n",
              "    }\n",
              "\n",
              "    .dataframe tbody tr th {\n",
              "        vertical-align: top;\n",
              "    }\n",
              "\n",
              "    .dataframe thead th {\n",
              "        text-align: right;\n",
              "    }\n",
              "</style>\n",
              "<table border=\"1\" class=\"dataframe\">\n",
              "  <thead>\n",
              "    <tr style=\"text-align: right;\">\n",
              "      <th></th>\n",
              "      <th>predicted_purchases</th>\n",
              "      <th>expected_avg_sales_</th>\n",
              "      <th>predicted_clv</th>\n",
              "      <th>profit_margin</th>\n",
              "    </tr>\n",
              "    <tr>\n",
              "      <th>Segment K-means</th>\n",
              "      <th></th>\n",
              "      <th></th>\n",
              "      <th></th>\n",
              "      <th></th>\n",
              "    </tr>\n",
              "  </thead>\n",
              "  <tbody>\n",
              "    <tr>\n",
              "      <th>0</th>\n",
              "      <td>0.324033</td>\n",
              "      <td>758.436149</td>\n",
              "      <td>4.105923e+03</td>\n",
              "      <td>205.296136</td>\n",
              "    </tr>\n",
              "    <tr>\n",
              "      <th>1</th>\n",
              "      <td>0.187433</td>\n",
              "      <td>863116.959561</td>\n",
              "      <td>3.636526e+06</td>\n",
              "      <td>181826.302865</td>\n",
              "    </tr>\n",
              "    <tr>\n",
              "      <th>2</th>\n",
              "      <td>3.103728</td>\n",
              "      <td>22851.858246</td>\n",
              "      <td>3.334814e+05</td>\n",
              "      <td>16674.070021</td>\n",
              "    </tr>\n",
              "    <tr>\n",
              "      <th>3</th>\n",
              "      <td>2.046050</td>\n",
              "      <td>4194.432976</td>\n",
              "      <td>7.971578e+04</td>\n",
              "      <td>3985.789230</td>\n",
              "    </tr>\n",
              "  </tbody>\n",
              "</table>\n",
              "</div>\n",
              "      <button class=\"colab-df-convert\" onclick=\"convertToInteractive('df-ba57055f-badf-4aff-83f3-9a5cd5dbef9c')\"\n",
              "              title=\"Convert this dataframe to an interactive table.\"\n",
              "              style=\"display:none;\">\n",
              "        \n",
              "  <svg xmlns=\"http://www.w3.org/2000/svg\" height=\"24px\"viewBox=\"0 0 24 24\"\n",
              "       width=\"24px\">\n",
              "    <path d=\"M0 0h24v24H0V0z\" fill=\"none\"/>\n",
              "    <path d=\"M18.56 5.44l.94 2.06.94-2.06 2.06-.94-2.06-.94-.94-2.06-.94 2.06-2.06.94zm-11 1L8.5 8.5l.94-2.06 2.06-.94-2.06-.94L8.5 2.5l-.94 2.06-2.06.94zm10 10l.94 2.06.94-2.06 2.06-.94-2.06-.94-.94-2.06-.94 2.06-2.06.94z\"/><path d=\"M17.41 7.96l-1.37-1.37c-.4-.4-.92-.59-1.43-.59-.52 0-1.04.2-1.43.59L10.3 9.45l-7.72 7.72c-.78.78-.78 2.05 0 2.83L4 21.41c.39.39.9.59 1.41.59.51 0 1.02-.2 1.41-.59l7.78-7.78 2.81-2.81c.8-.78.8-2.07 0-2.86zM5.41 20L4 18.59l7.72-7.72 1.47 1.35L5.41 20z\"/>\n",
              "  </svg>\n",
              "      </button>\n",
              "      \n",
              "  <style>\n",
              "    .colab-df-container {\n",
              "      display:flex;\n",
              "      flex-wrap:wrap;\n",
              "      gap: 12px;\n",
              "    }\n",
              "\n",
              "    .colab-df-convert {\n",
              "      background-color: #E8F0FE;\n",
              "      border: none;\n",
              "      border-radius: 50%;\n",
              "      cursor: pointer;\n",
              "      display: none;\n",
              "      fill: #1967D2;\n",
              "      height: 32px;\n",
              "      padding: 0 0 0 0;\n",
              "      width: 32px;\n",
              "    }\n",
              "\n",
              "    .colab-df-convert:hover {\n",
              "      background-color: #E2EBFA;\n",
              "      box-shadow: 0px 1px 2px rgba(60, 64, 67, 0.3), 0px 1px 3px 1px rgba(60, 64, 67, 0.15);\n",
              "      fill: #174EA6;\n",
              "    }\n",
              "\n",
              "    [theme=dark] .colab-df-convert {\n",
              "      background-color: #3B4455;\n",
              "      fill: #D2E3FC;\n",
              "    }\n",
              "\n",
              "    [theme=dark] .colab-df-convert:hover {\n",
              "      background-color: #434B5C;\n",
              "      box-shadow: 0px 1px 3px 1px rgba(0, 0, 0, 0.15);\n",
              "      filter: drop-shadow(0px 1px 2px rgba(0, 0, 0, 0.3));\n",
              "      fill: #FFFFFF;\n",
              "    }\n",
              "  </style>\n",
              "\n",
              "      <script>\n",
              "        const buttonEl =\n",
              "          document.querySelector('#df-ba57055f-badf-4aff-83f3-9a5cd5dbef9c button.colab-df-convert');\n",
              "        buttonEl.style.display =\n",
              "          google.colab.kernel.accessAllowed ? 'block' : 'none';\n",
              "\n",
              "        async function convertToInteractive(key) {\n",
              "          const element = document.querySelector('#df-ba57055f-badf-4aff-83f3-9a5cd5dbef9c');\n",
              "          const dataTable =\n",
              "            await google.colab.kernel.invokeFunction('convertToInteractive',\n",
              "                                                     [key], {});\n",
              "          if (!dataTable) return;\n",
              "\n",
              "          const docLinkHtml = 'Like what you see? Visit the ' +\n",
              "            '<a target=\"_blank\" href=https://colab.research.google.com/notebooks/data_table.ipynb>data table notebook</a>'\n",
              "            + ' to learn more about interactive tables.';\n",
              "          element.innerHTML = '';\n",
              "          dataTable['output_type'] = 'display_data';\n",
              "          await google.colab.output.renderOutput(dataTable, element);\n",
              "          const docLink = document.createElement('div');\n",
              "          docLink.innerHTML = docLinkHtml;\n",
              "          element.appendChild(docLink);\n",
              "        }\n",
              "      </script>\n",
              "    </div>\n",
              "  </div>\n",
              "  "
            ]
          },
          "metadata": {},
          "execution_count": 64
        }
      ]
    },
    {
      "cell_type": "code",
      "source": [
        "df_segm_analysis.rename({0:'Low',\n",
        "                         1:'Very-High',\n",
        "                         2:'High',\n",
        "                         3:'Medium'})"
      ],
      "metadata": {
        "id": "UcvW_RGN0MuT",
        "colab": {
          "base_uri": "https://localhost:8080/",
          "height": 206
        },
        "outputId": "e3b42fcd-a832-431d-cd56-7b8688fc5fc2"
      },
      "execution_count": 65,
      "outputs": [
        {
          "output_type": "execute_result",
          "data": {
            "text/plain": [
              "                 predicted_purchases  expected_avg_sales_  predicted_clv  \\\n",
              "Segment K-means                                                            \n",
              "Low                         0.324033           758.436149   4.105923e+03   \n",
              "Very-High                   0.187433        863116.959561   3.636526e+06   \n",
              "High                        3.103728         22851.858246   3.334814e+05   \n",
              "Medium                      2.046050          4194.432976   7.971578e+04   \n",
              "\n",
              "                 profit_margin  \n",
              "Segment K-means                 \n",
              "Low                 205.296136  \n",
              "Very-High        181826.302865  \n",
              "High              16674.070021  \n",
              "Medium             3985.789230  "
            ],
            "text/html": [
              "\n",
              "  <div id=\"df-fa474901-b965-4bda-859d-1b7676cbdcb4\">\n",
              "    <div class=\"colab-df-container\">\n",
              "      <div>\n",
              "<style scoped>\n",
              "    .dataframe tbody tr th:only-of-type {\n",
              "        vertical-align: middle;\n",
              "    }\n",
              "\n",
              "    .dataframe tbody tr th {\n",
              "        vertical-align: top;\n",
              "    }\n",
              "\n",
              "    .dataframe thead th {\n",
              "        text-align: right;\n",
              "    }\n",
              "</style>\n",
              "<table border=\"1\" class=\"dataframe\">\n",
              "  <thead>\n",
              "    <tr style=\"text-align: right;\">\n",
              "      <th></th>\n",
              "      <th>predicted_purchases</th>\n",
              "      <th>expected_avg_sales_</th>\n",
              "      <th>predicted_clv</th>\n",
              "      <th>profit_margin</th>\n",
              "    </tr>\n",
              "    <tr>\n",
              "      <th>Segment K-means</th>\n",
              "      <th></th>\n",
              "      <th></th>\n",
              "      <th></th>\n",
              "      <th></th>\n",
              "    </tr>\n",
              "  </thead>\n",
              "  <tbody>\n",
              "    <tr>\n",
              "      <th>Low</th>\n",
              "      <td>0.324033</td>\n",
              "      <td>758.436149</td>\n",
              "      <td>4.105923e+03</td>\n",
              "      <td>205.296136</td>\n",
              "    </tr>\n",
              "    <tr>\n",
              "      <th>Very-High</th>\n",
              "      <td>0.187433</td>\n",
              "      <td>863116.959561</td>\n",
              "      <td>3.636526e+06</td>\n",
              "      <td>181826.302865</td>\n",
              "    </tr>\n",
              "    <tr>\n",
              "      <th>High</th>\n",
              "      <td>3.103728</td>\n",
              "      <td>22851.858246</td>\n",
              "      <td>3.334814e+05</td>\n",
              "      <td>16674.070021</td>\n",
              "    </tr>\n",
              "    <tr>\n",
              "      <th>Medium</th>\n",
              "      <td>2.046050</td>\n",
              "      <td>4194.432976</td>\n",
              "      <td>7.971578e+04</td>\n",
              "      <td>3985.789230</td>\n",
              "    </tr>\n",
              "  </tbody>\n",
              "</table>\n",
              "</div>\n",
              "      <button class=\"colab-df-convert\" onclick=\"convertToInteractive('df-fa474901-b965-4bda-859d-1b7676cbdcb4')\"\n",
              "              title=\"Convert this dataframe to an interactive table.\"\n",
              "              style=\"display:none;\">\n",
              "        \n",
              "  <svg xmlns=\"http://www.w3.org/2000/svg\" height=\"24px\"viewBox=\"0 0 24 24\"\n",
              "       width=\"24px\">\n",
              "    <path d=\"M0 0h24v24H0V0z\" fill=\"none\"/>\n",
              "    <path d=\"M18.56 5.44l.94 2.06.94-2.06 2.06-.94-2.06-.94-.94-2.06-.94 2.06-2.06.94zm-11 1L8.5 8.5l.94-2.06 2.06-.94-2.06-.94L8.5 2.5l-.94 2.06-2.06.94zm10 10l.94 2.06.94-2.06 2.06-.94-2.06-.94-.94-2.06-.94 2.06-2.06.94z\"/><path d=\"M17.41 7.96l-1.37-1.37c-.4-.4-.92-.59-1.43-.59-.52 0-1.04.2-1.43.59L10.3 9.45l-7.72 7.72c-.78.78-.78 2.05 0 2.83L4 21.41c.39.39.9.59 1.41.59.51 0 1.02-.2 1.41-.59l7.78-7.78 2.81-2.81c.8-.78.8-2.07 0-2.86zM5.41 20L4 18.59l7.72-7.72 1.47 1.35L5.41 20z\"/>\n",
              "  </svg>\n",
              "      </button>\n",
              "      \n",
              "  <style>\n",
              "    .colab-df-container {\n",
              "      display:flex;\n",
              "      flex-wrap:wrap;\n",
              "      gap: 12px;\n",
              "    }\n",
              "\n",
              "    .colab-df-convert {\n",
              "      background-color: #E8F0FE;\n",
              "      border: none;\n",
              "      border-radius: 50%;\n",
              "      cursor: pointer;\n",
              "      display: none;\n",
              "      fill: #1967D2;\n",
              "      height: 32px;\n",
              "      padding: 0 0 0 0;\n",
              "      width: 32px;\n",
              "    }\n",
              "\n",
              "    .colab-df-convert:hover {\n",
              "      background-color: #E2EBFA;\n",
              "      box-shadow: 0px 1px 2px rgba(60, 64, 67, 0.3), 0px 1px 3px 1px rgba(60, 64, 67, 0.15);\n",
              "      fill: #174EA6;\n",
              "    }\n",
              "\n",
              "    [theme=dark] .colab-df-convert {\n",
              "      background-color: #3B4455;\n",
              "      fill: #D2E3FC;\n",
              "    }\n",
              "\n",
              "    [theme=dark] .colab-df-convert:hover {\n",
              "      background-color: #434B5C;\n",
              "      box-shadow: 0px 1px 3px 1px rgba(0, 0, 0, 0.15);\n",
              "      filter: drop-shadow(0px 1px 2px rgba(0, 0, 0, 0.3));\n",
              "      fill: #FFFFFF;\n",
              "    }\n",
              "  </style>\n",
              "\n",
              "      <script>\n",
              "        const buttonEl =\n",
              "          document.querySelector('#df-fa474901-b965-4bda-859d-1b7676cbdcb4 button.colab-df-convert');\n",
              "        buttonEl.style.display =\n",
              "          google.colab.kernel.accessAllowed ? 'block' : 'none';\n",
              "\n",
              "        async function convertToInteractive(key) {\n",
              "          const element = document.querySelector('#df-fa474901-b965-4bda-859d-1b7676cbdcb4');\n",
              "          const dataTable =\n",
              "            await google.colab.kernel.invokeFunction('convertToInteractive',\n",
              "                                                     [key], {});\n",
              "          if (!dataTable) return;\n",
              "\n",
              "          const docLinkHtml = 'Like what you see? Visit the ' +\n",
              "            '<a target=\"_blank\" href=https://colab.research.google.com/notebooks/data_table.ipynb>data table notebook</a>'\n",
              "            + ' to learn more about interactive tables.';\n",
              "          element.innerHTML = '';\n",
              "          dataTable['output_type'] = 'display_data';\n",
              "          await google.colab.output.renderOutput(dataTable, element);\n",
              "          const docLink = document.createElement('div');\n",
              "          docLink.innerHTML = docLinkHtml;\n",
              "          element.appendChild(docLink);\n",
              "        }\n",
              "      </script>\n",
              "    </div>\n",
              "  </div>\n",
              "  "
            ]
          },
          "metadata": {},
          "execution_count": 65
        }
      ]
    },
    {
      "cell_type": "code",
      "source": [
        "# Add the segment labels to our table\n",
        "df_segm_kmeans['Labels'] = df_segm_kmeans['Segment K-means'].map({0:'Low',\n",
        "                                                                  1:'Very-High',\n",
        "                                                                  2:'High',\n",
        "                                                                  3:'Medium'})"
      ],
      "metadata": {
        "id": "h-ybfk58p-Zb"
      },
      "execution_count": 66,
      "outputs": []
    },
    {
      "cell_type": "code",
      "source": [
        "df_segm_kmeans.head()"
      ],
      "metadata": {
        "colab": {
          "base_uri": "https://localhost:8080/",
          "height": 206
        },
        "id": "Su9hndwuqJpk",
        "outputId": "044ca864-5e43-404c-eee2-8c51df478449"
      },
      "execution_count": 67,
      "outputs": [
        {
          "output_type": "execute_result",
          "data": {
            "text/plain": [
              "   predicted_purchases  expected_avg_sales_  predicted_clv  profit_margin  \\\n",
              "0             0.155209         12504.444869   35175.087513    1758.754376   \n",
              "1             0.485818           695.851861    7680.254014     384.012701   \n",
              "2             0.270791           562.775388    3430.871570     171.543579   \n",
              "3             0.168606          1531.122915    5920.276687     296.013834   \n",
              "6             0.556060           376.226899    4723.422157     236.171108   \n",
              "\n",
              "   Segment K-means Labels  \n",
              "0                0    Low  \n",
              "1                0    Low  \n",
              "2                0    Low  \n",
              "3                0    Low  \n",
              "6                0    Low  "
            ],
            "text/html": [
              "\n",
              "  <div id=\"df-17030648-e848-404a-94ff-5d6396e15be3\">\n",
              "    <div class=\"colab-df-container\">\n",
              "      <div>\n",
              "<style scoped>\n",
              "    .dataframe tbody tr th:only-of-type {\n",
              "        vertical-align: middle;\n",
              "    }\n",
              "\n",
              "    .dataframe tbody tr th {\n",
              "        vertical-align: top;\n",
              "    }\n",
              "\n",
              "    .dataframe thead th {\n",
              "        text-align: right;\n",
              "    }\n",
              "</style>\n",
              "<table border=\"1\" class=\"dataframe\">\n",
              "  <thead>\n",
              "    <tr style=\"text-align: right;\">\n",
              "      <th></th>\n",
              "      <th>predicted_purchases</th>\n",
              "      <th>expected_avg_sales_</th>\n",
              "      <th>predicted_clv</th>\n",
              "      <th>profit_margin</th>\n",
              "      <th>Segment K-means</th>\n",
              "      <th>Labels</th>\n",
              "    </tr>\n",
              "  </thead>\n",
              "  <tbody>\n",
              "    <tr>\n",
              "      <th>0</th>\n",
              "      <td>0.155209</td>\n",
              "      <td>12504.444869</td>\n",
              "      <td>35175.087513</td>\n",
              "      <td>1758.754376</td>\n",
              "      <td>0</td>\n",
              "      <td>Low</td>\n",
              "    </tr>\n",
              "    <tr>\n",
              "      <th>1</th>\n",
              "      <td>0.485818</td>\n",
              "      <td>695.851861</td>\n",
              "      <td>7680.254014</td>\n",
              "      <td>384.012701</td>\n",
              "      <td>0</td>\n",
              "      <td>Low</td>\n",
              "    </tr>\n",
              "    <tr>\n",
              "      <th>2</th>\n",
              "      <td>0.270791</td>\n",
              "      <td>562.775388</td>\n",
              "      <td>3430.871570</td>\n",
              "      <td>171.543579</td>\n",
              "      <td>0</td>\n",
              "      <td>Low</td>\n",
              "    </tr>\n",
              "    <tr>\n",
              "      <th>3</th>\n",
              "      <td>0.168606</td>\n",
              "      <td>1531.122915</td>\n",
              "      <td>5920.276687</td>\n",
              "      <td>296.013834</td>\n",
              "      <td>0</td>\n",
              "      <td>Low</td>\n",
              "    </tr>\n",
              "    <tr>\n",
              "      <th>6</th>\n",
              "      <td>0.556060</td>\n",
              "      <td>376.226899</td>\n",
              "      <td>4723.422157</td>\n",
              "      <td>236.171108</td>\n",
              "      <td>0</td>\n",
              "      <td>Low</td>\n",
              "    </tr>\n",
              "  </tbody>\n",
              "</table>\n",
              "</div>\n",
              "      <button class=\"colab-df-convert\" onclick=\"convertToInteractive('df-17030648-e848-404a-94ff-5d6396e15be3')\"\n",
              "              title=\"Convert this dataframe to an interactive table.\"\n",
              "              style=\"display:none;\">\n",
              "        \n",
              "  <svg xmlns=\"http://www.w3.org/2000/svg\" height=\"24px\"viewBox=\"0 0 24 24\"\n",
              "       width=\"24px\">\n",
              "    <path d=\"M0 0h24v24H0V0z\" fill=\"none\"/>\n",
              "    <path d=\"M18.56 5.44l.94 2.06.94-2.06 2.06-.94-2.06-.94-.94-2.06-.94 2.06-2.06.94zm-11 1L8.5 8.5l.94-2.06 2.06-.94-2.06-.94L8.5 2.5l-.94 2.06-2.06.94zm10 10l.94 2.06.94-2.06 2.06-.94-2.06-.94-.94-2.06-.94 2.06-2.06.94z\"/><path d=\"M17.41 7.96l-1.37-1.37c-.4-.4-.92-.59-1.43-.59-.52 0-1.04.2-1.43.59L10.3 9.45l-7.72 7.72c-.78.78-.78 2.05 0 2.83L4 21.41c.39.39.9.59 1.41.59.51 0 1.02-.2 1.41-.59l7.78-7.78 2.81-2.81c.8-.78.8-2.07 0-2.86zM5.41 20L4 18.59l7.72-7.72 1.47 1.35L5.41 20z\"/>\n",
              "  </svg>\n",
              "      </button>\n",
              "      \n",
              "  <style>\n",
              "    .colab-df-container {\n",
              "      display:flex;\n",
              "      flex-wrap:wrap;\n",
              "      gap: 12px;\n",
              "    }\n",
              "\n",
              "    .colab-df-convert {\n",
              "      background-color: #E8F0FE;\n",
              "      border: none;\n",
              "      border-radius: 50%;\n",
              "      cursor: pointer;\n",
              "      display: none;\n",
              "      fill: #1967D2;\n",
              "      height: 32px;\n",
              "      padding: 0 0 0 0;\n",
              "      width: 32px;\n",
              "    }\n",
              "\n",
              "    .colab-df-convert:hover {\n",
              "      background-color: #E2EBFA;\n",
              "      box-shadow: 0px 1px 2px rgba(60, 64, 67, 0.3), 0px 1px 3px 1px rgba(60, 64, 67, 0.15);\n",
              "      fill: #174EA6;\n",
              "    }\n",
              "\n",
              "    [theme=dark] .colab-df-convert {\n",
              "      background-color: #3B4455;\n",
              "      fill: #D2E3FC;\n",
              "    }\n",
              "\n",
              "    [theme=dark] .colab-df-convert:hover {\n",
              "      background-color: #434B5C;\n",
              "      box-shadow: 0px 1px 3px 1px rgba(0, 0, 0, 0.15);\n",
              "      filter: drop-shadow(0px 1px 2px rgba(0, 0, 0, 0.3));\n",
              "      fill: #FFFFFF;\n",
              "    }\n",
              "  </style>\n",
              "\n",
              "      <script>\n",
              "        const buttonEl =\n",
              "          document.querySelector('#df-17030648-e848-404a-94ff-5d6396e15be3 button.colab-df-convert');\n",
              "        buttonEl.style.display =\n",
              "          google.colab.kernel.accessAllowed ? 'block' : 'none';\n",
              "\n",
              "        async function convertToInteractive(key) {\n",
              "          const element = document.querySelector('#df-17030648-e848-404a-94ff-5d6396e15be3');\n",
              "          const dataTable =\n",
              "            await google.colab.kernel.invokeFunction('convertToInteractive',\n",
              "                                                     [key], {});\n",
              "          if (!dataTable) return;\n",
              "\n",
              "          const docLinkHtml = 'Like what you see? Visit the ' +\n",
              "            '<a target=\"_blank\" href=https://colab.research.google.com/notebooks/data_table.ipynb>data table notebook</a>'\n",
              "            + ' to learn more about interactive tables.';\n",
              "          element.innerHTML = '';\n",
              "          dataTable['output_type'] = 'display_data';\n",
              "          await google.colab.output.renderOutput(dataTable, element);\n",
              "          const docLink = document.createElement('div');\n",
              "          docLink.innerHTML = docLinkHtml;\n",
              "          element.appendChild(docLink);\n",
              "        }\n",
              "      </script>\n",
              "    </div>\n",
              "  </div>\n",
              "  "
            ]
          },
          "metadata": {},
          "execution_count": 67
        }
      ]
    },
    {
      "cell_type": "code",
      "source": [
        "ggf_filter = pd.concat([ggf_filter,df_segm_kmeans['Segment K-means'],df_segm_kmeans['Labels']], axis = 1)"
      ],
      "metadata": {
        "id": "rNeyBWTTw1qT"
      },
      "execution_count": 68,
      "outputs": []
    },
    {
      "cell_type": "code",
      "source": [
        "ggf_filter.head()"
      ],
      "metadata": {
        "colab": {
          "base_uri": "https://localhost:8080/",
          "height": 288
        },
        "id": "rMorhxjXyYSu",
        "outputId": "d90ccd17-435c-45fb-bd32-ee8255de3133"
      },
      "execution_count": 69,
      "outputs": [
        {
          "output_type": "execute_result",
          "data": {
            "text/plain": [
              "   CustomerID  frequency  recency      T  monetary_value  p_not_alive  \\\n",
              "0       12346        7.0    401.0  726.0    11066.637143     0.465187   \n",
              "1       12347        7.0    402.0  404.0      615.714286     0.000467   \n",
              "2       12348        4.0    363.0  438.0      449.310000     0.025307   \n",
              "3       12349        3.0    571.0  589.0     1120.056667     0.003551   \n",
              "6       12352        8.0    356.0  392.0      338.261250     0.012357   \n",
              "\n",
              "    p_alive  predicted_purchases  actual30     error  expected_avg_sales_  \\\n",
              "0  0.534813             0.155209  0.523691  0.368482         12504.444869   \n",
              "1  0.999533             0.485818  0.522388  0.036570           695.851861   \n",
              "2  0.974693             0.270791  0.330579  0.059788           562.775388   \n",
              "3  0.996449             0.168606  0.157618 -0.010988          1531.122915   \n",
              "6  0.987643             0.556060  0.674157  0.118098           376.226899   \n",
              "\n",
              "   predicted_clv  profit_margin  Segment K-means Labels  \n",
              "0   35175.087513    1758.754376                0    Low  \n",
              "1    7680.254014     384.012701                0    Low  \n",
              "2    3430.871570     171.543579                0    Low  \n",
              "3    5920.276687     296.013834                0    Low  \n",
              "6    4723.422157     236.171108                0    Low  "
            ],
            "text/html": [
              "\n",
              "  <div id=\"df-dc2092fc-e48d-4ca1-98eb-bd54c81f28a3\">\n",
              "    <div class=\"colab-df-container\">\n",
              "      <div>\n",
              "<style scoped>\n",
              "    .dataframe tbody tr th:only-of-type {\n",
              "        vertical-align: middle;\n",
              "    }\n",
              "\n",
              "    .dataframe tbody tr th {\n",
              "        vertical-align: top;\n",
              "    }\n",
              "\n",
              "    .dataframe thead th {\n",
              "        text-align: right;\n",
              "    }\n",
              "</style>\n",
              "<table border=\"1\" class=\"dataframe\">\n",
              "  <thead>\n",
              "    <tr style=\"text-align: right;\">\n",
              "      <th></th>\n",
              "      <th>CustomerID</th>\n",
              "      <th>frequency</th>\n",
              "      <th>recency</th>\n",
              "      <th>T</th>\n",
              "      <th>monetary_value</th>\n",
              "      <th>p_not_alive</th>\n",
              "      <th>p_alive</th>\n",
              "      <th>predicted_purchases</th>\n",
              "      <th>actual30</th>\n",
              "      <th>error</th>\n",
              "      <th>expected_avg_sales_</th>\n",
              "      <th>predicted_clv</th>\n",
              "      <th>profit_margin</th>\n",
              "      <th>Segment K-means</th>\n",
              "      <th>Labels</th>\n",
              "    </tr>\n",
              "  </thead>\n",
              "  <tbody>\n",
              "    <tr>\n",
              "      <th>0</th>\n",
              "      <td>12346</td>\n",
              "      <td>7.0</td>\n",
              "      <td>401.0</td>\n",
              "      <td>726.0</td>\n",
              "      <td>11066.637143</td>\n",
              "      <td>0.465187</td>\n",
              "      <td>0.534813</td>\n",
              "      <td>0.155209</td>\n",
              "      <td>0.523691</td>\n",
              "      <td>0.368482</td>\n",
              "      <td>12504.444869</td>\n",
              "      <td>35175.087513</td>\n",
              "      <td>1758.754376</td>\n",
              "      <td>0</td>\n",
              "      <td>Low</td>\n",
              "    </tr>\n",
              "    <tr>\n",
              "      <th>1</th>\n",
              "      <td>12347</td>\n",
              "      <td>7.0</td>\n",
              "      <td>402.0</td>\n",
              "      <td>404.0</td>\n",
              "      <td>615.714286</td>\n",
              "      <td>0.000467</td>\n",
              "      <td>0.999533</td>\n",
              "      <td>0.485818</td>\n",
              "      <td>0.522388</td>\n",
              "      <td>0.036570</td>\n",
              "      <td>695.851861</td>\n",
              "      <td>7680.254014</td>\n",
              "      <td>384.012701</td>\n",
              "      <td>0</td>\n",
              "      <td>Low</td>\n",
              "    </tr>\n",
              "    <tr>\n",
              "      <th>2</th>\n",
              "      <td>12348</td>\n",
              "      <td>4.0</td>\n",
              "      <td>363.0</td>\n",
              "      <td>438.0</td>\n",
              "      <td>449.310000</td>\n",
              "      <td>0.025307</td>\n",
              "      <td>0.974693</td>\n",
              "      <td>0.270791</td>\n",
              "      <td>0.330579</td>\n",
              "      <td>0.059788</td>\n",
              "      <td>562.775388</td>\n",
              "      <td>3430.871570</td>\n",
              "      <td>171.543579</td>\n",
              "      <td>0</td>\n",
              "      <td>Low</td>\n",
              "    </tr>\n",
              "    <tr>\n",
              "      <th>3</th>\n",
              "      <td>12349</td>\n",
              "      <td>3.0</td>\n",
              "      <td>571.0</td>\n",
              "      <td>589.0</td>\n",
              "      <td>1120.056667</td>\n",
              "      <td>0.003551</td>\n",
              "      <td>0.996449</td>\n",
              "      <td>0.168606</td>\n",
              "      <td>0.157618</td>\n",
              "      <td>-0.010988</td>\n",
              "      <td>1531.122915</td>\n",
              "      <td>5920.276687</td>\n",
              "      <td>296.013834</td>\n",
              "      <td>0</td>\n",
              "      <td>Low</td>\n",
              "    </tr>\n",
              "    <tr>\n",
              "      <th>6</th>\n",
              "      <td>12352</td>\n",
              "      <td>8.0</td>\n",
              "      <td>356.0</td>\n",
              "      <td>392.0</td>\n",
              "      <td>338.261250</td>\n",
              "      <td>0.012357</td>\n",
              "      <td>0.987643</td>\n",
              "      <td>0.556060</td>\n",
              "      <td>0.674157</td>\n",
              "      <td>0.118098</td>\n",
              "      <td>376.226899</td>\n",
              "      <td>4723.422157</td>\n",
              "      <td>236.171108</td>\n",
              "      <td>0</td>\n",
              "      <td>Low</td>\n",
              "    </tr>\n",
              "  </tbody>\n",
              "</table>\n",
              "</div>\n",
              "      <button class=\"colab-df-convert\" onclick=\"convertToInteractive('df-dc2092fc-e48d-4ca1-98eb-bd54c81f28a3')\"\n",
              "              title=\"Convert this dataframe to an interactive table.\"\n",
              "              style=\"display:none;\">\n",
              "        \n",
              "  <svg xmlns=\"http://www.w3.org/2000/svg\" height=\"24px\"viewBox=\"0 0 24 24\"\n",
              "       width=\"24px\">\n",
              "    <path d=\"M0 0h24v24H0V0z\" fill=\"none\"/>\n",
              "    <path d=\"M18.56 5.44l.94 2.06.94-2.06 2.06-.94-2.06-.94-.94-2.06-.94 2.06-2.06.94zm-11 1L8.5 8.5l.94-2.06 2.06-.94-2.06-.94L8.5 2.5l-.94 2.06-2.06.94zm10 10l.94 2.06.94-2.06 2.06-.94-2.06-.94-.94-2.06-.94 2.06-2.06.94z\"/><path d=\"M17.41 7.96l-1.37-1.37c-.4-.4-.92-.59-1.43-.59-.52 0-1.04.2-1.43.59L10.3 9.45l-7.72 7.72c-.78.78-.78 2.05 0 2.83L4 21.41c.39.39.9.59 1.41.59.51 0 1.02-.2 1.41-.59l7.78-7.78 2.81-2.81c.8-.78.8-2.07 0-2.86zM5.41 20L4 18.59l7.72-7.72 1.47 1.35L5.41 20z\"/>\n",
              "  </svg>\n",
              "      </button>\n",
              "      \n",
              "  <style>\n",
              "    .colab-df-container {\n",
              "      display:flex;\n",
              "      flex-wrap:wrap;\n",
              "      gap: 12px;\n",
              "    }\n",
              "\n",
              "    .colab-df-convert {\n",
              "      background-color: #E8F0FE;\n",
              "      border: none;\n",
              "      border-radius: 50%;\n",
              "      cursor: pointer;\n",
              "      display: none;\n",
              "      fill: #1967D2;\n",
              "      height: 32px;\n",
              "      padding: 0 0 0 0;\n",
              "      width: 32px;\n",
              "    }\n",
              "\n",
              "    .colab-df-convert:hover {\n",
              "      background-color: #E2EBFA;\n",
              "      box-shadow: 0px 1px 2px rgba(60, 64, 67, 0.3), 0px 1px 3px 1px rgba(60, 64, 67, 0.15);\n",
              "      fill: #174EA6;\n",
              "    }\n",
              "\n",
              "    [theme=dark] .colab-df-convert {\n",
              "      background-color: #3B4455;\n",
              "      fill: #D2E3FC;\n",
              "    }\n",
              "\n",
              "    [theme=dark] .colab-df-convert:hover {\n",
              "      background-color: #434B5C;\n",
              "      box-shadow: 0px 1px 3px 1px rgba(0, 0, 0, 0.15);\n",
              "      filter: drop-shadow(0px 1px 2px rgba(0, 0, 0, 0.3));\n",
              "      fill: #FFFFFF;\n",
              "    }\n",
              "  </style>\n",
              "\n",
              "      <script>\n",
              "        const buttonEl =\n",
              "          document.querySelector('#df-dc2092fc-e48d-4ca1-98eb-bd54c81f28a3 button.colab-df-convert');\n",
              "        buttonEl.style.display =\n",
              "          google.colab.kernel.accessAllowed ? 'block' : 'none';\n",
              "\n",
              "        async function convertToInteractive(key) {\n",
              "          const element = document.querySelector('#df-dc2092fc-e48d-4ca1-98eb-bd54c81f28a3');\n",
              "          const dataTable =\n",
              "            await google.colab.kernel.invokeFunction('convertToInteractive',\n",
              "                                                     [key], {});\n",
              "          if (!dataTable) return;\n",
              "\n",
              "          const docLinkHtml = 'Like what you see? Visit the ' +\n",
              "            '<a target=\"_blank\" href=https://colab.research.google.com/notebooks/data_table.ipynb>data table notebook</a>'\n",
              "            + ' to learn more about interactive tables.';\n",
              "          element.innerHTML = '';\n",
              "          dataTable['output_type'] = 'display_data';\n",
              "          await google.colab.output.renderOutput(dataTable, element);\n",
              "          const docLink = document.createElement('div');\n",
              "          docLink.innerHTML = docLinkHtml;\n",
              "          element.appendChild(docLink);\n",
              "        }\n",
              "      </script>\n",
              "    </div>\n",
              "  </div>\n",
              "  "
            ]
          },
          "metadata": {},
          "execution_count": 69
        }
      ]
    },
    {
      "cell_type": "code",
      "source": [
        "ggf_filter.groupby('Labels').CustomerID.count()/ggf_filter.CustomerID.count()*100"
      ],
      "metadata": {
        "id": "N50zfeJMnMP2",
        "outputId": "15342626-036d-420b-c943-9ec8dcbb66a4",
        "colab": {
          "base_uri": "https://localhost:8080/"
        }
      },
      "execution_count": 70,
      "outputs": [
        {
          "output_type": "execute_result",
          "data": {
            "text/plain": [
              "Labels\n",
              "High          0.190976\n",
              "Low          98.925758\n",
              "Medium        0.859394\n",
              "Very-High     0.023872\n",
              "Name: CustomerID, dtype: float64"
            ]
          },
          "metadata": {},
          "execution_count": 70
        }
      ]
    },
    {
      "cell_type": "code",
      "source": [
        "ggf_filter.to_csv(\"Segmentation_result.csv\")"
      ],
      "metadata": {
        "id": "PnLdPz4xnx-z"
      },
      "execution_count": 71,
      "outputs": []
    },
    {
      "cell_type": "code",
      "source": [
        "from sklearn.decomposition import PCA\n",
        "pca = PCA()\n",
        "pca.fit(new_df)"
      ],
      "metadata": {
        "id": "h2DRjF_mzj6x",
        "outputId": "d151fb4e-2d61-44e6-c7a5-9b55025ea9d1",
        "colab": {
          "base_uri": "https://localhost:8080/"
        }
      },
      "execution_count": 73,
      "outputs": [
        {
          "output_type": "execute_result",
          "data": {
            "text/plain": [
              "PCA()"
            ]
          },
          "metadata": {},
          "execution_count": 73
        }
      ]
    },
    {
      "cell_type": "code",
      "source": [
        "pca.explained_variance_ratio_\n",
        "pca.explained_variance_ratio_.cumsum()"
      ],
      "metadata": {
        "id": "Vw3iI8xrz97y",
        "outputId": "b957393f-1e3f-453a-ba6e-33506157e6e0",
        "colab": {
          "base_uri": "https://localhost:8080/"
        }
      },
      "execution_count": 74,
      "outputs": [
        {
          "output_type": "execute_result",
          "data": {
            "text/plain": [
              "array([0.99665854, 1.        , 1.        , 1.        ])"
            ]
          },
          "metadata": {},
          "execution_count": 74
        }
      ]
    },
    {
      "cell_type": "code",
      "source": [
        "plt.figure(figsize=(10,8))\n",
        "plt.plot(range(1,5), pca.explained_variance_ratio_.cumsum(), marker='x', linestyle=\"--\")\n",
        "plt.title('Explained variance by components')\n",
        "plt.xlabel('number of components')\n",
        "plt.ylabel('cumculative explained variance')"
      ],
      "metadata": {
        "id": "7IjC5O2x0C9C",
        "outputId": "78735aa0-d80a-46dc-cd85-7a356129d06b",
        "colab": {
          "base_uri": "https://localhost:8080/",
          "height": 530
        }
      },
      "execution_count": 77,
      "outputs": [
        {
          "output_type": "execute_result",
          "data": {
            "text/plain": [
              "Text(0, 0.5, 'cumculative explained variance')"
            ]
          },
          "metadata": {},
          "execution_count": 77
        },
        {
          "output_type": "display_data",
          "data": {
            "text/plain": [
              "<Figure size 720x576 with 1 Axes>"
            ],
            "image/png": "[encoded data removed]"
          },
          "metadata": {
            "needs_background": "light"
          }
        }
      ]
    },
    {
      "cell_type": "code",
      "source": [
        "# as rule of thumb, we take the number of components that account for 80% of the explained variance\n",
        "pca2 = PCA(n_components=2)"
      ],
      "metadata": {
        "id": "gzfzUhD_0XJc"
      },
      "execution_count": 78,
      "outputs": []
    },
    {
      "cell_type": "code",
      "source": [
        "pca2.fit(new_df)"
      ],
      "metadata": {
        "id": "M6wNGrx90gfJ",
        "outputId": "6b594967-24bc-4ef5-b04c-a96082442e7e",
        "colab": {
          "base_uri": "https://localhost:8080/"
        }
      },
      "execution_count": 79,
      "outputs": [
        {
          "output_type": "execute_result",
          "data": {
            "text/plain": [
              "PCA(n_components=2)"
            ]
          },
          "metadata": {},
          "execution_count": 79
        }
      ]
    },
    {
      "cell_type": "code",
      "source": [
        "pca2.transform(new_df)\n",
        "score_pca2 = pca2.transform(new_df)"
      ],
      "metadata": {
        "id": "jKxuENt30j4j"
      },
      "execution_count": 80,
      "outputs": []
    },
    {
      "cell_type": "code",
      "source": [
        "wcss = []\n",
        "for i in range(1,11):\n",
        "    kmeans_pca = KMeans(n_clusters = i, init = 'k-means++', random_state=42)\n",
        "    kmeans_pca.fit(score_pca2)\n",
        "    wcss.append(kmeans_pca.inertia_)"
      ],
      "metadata": {
        "id": "9HL4c4Dj0rXa"
      },
      "execution_count": 82,
      "outputs": []
    },
    {
      "cell_type": "code",
      "source": [
        "plt.figure(figsize=(10,8))\n",
        "plt.plot(range(1,11), wcss, marker='x', linestyle='--')"
      ],
      "metadata": {
        "id": "VA6TDUXX0t76",
        "outputId": "db167f69-daa0-4ef0-afad-047c6ccf3d3f",
        "colab": {
          "base_uri": "https://localhost:8080/",
          "height": 511
        }
      },
      "execution_count": 83,
      "outputs": [
        {
          "output_type": "execute_result",
          "data": {
            "text/plain": [
              "[<matplotlib.lines.Line2D at 0x7f49615aead0>]"
            ]
          },
          "metadata": {},
          "execution_count": 83
        },
        {
          "output_type": "display_data",
          "data": {
            "text/plain": [
              "<Figure size 720x576 with 1 Axes>"
            ],
            "image/png": "[encoded data removed]"
          },
          "metadata": {
            "needs_background": "light"
          }
        }
      ]
    },
    {
      "cell_type": "code",
      "source": [
        "# from the graph above, we choose 3 as the number of clusters since the curve becomes smoother after 3\n",
        "kmeans_pca = KMeans(n_clusters= 3, init='k-means++', random_state= 20)"
      ],
      "metadata": {
        "id": "FmQNzLP_0IEs"
      },
      "execution_count": 84,
      "outputs": []
    },
    {
      "cell_type": "code",
      "source": [
        "kmeans_pca.fit_transform(score_pca2)"
      ],
      "metadata": {
        "id": "_TvAC65g041_",
        "outputId": "4847b086-4670-4097-9fc8-82b4b92be04b",
        "colab": {
          "base_uri": "https://localhost:8080/"
        }
      },
      "execution_count": 85,
      "outputs": [
        {
          "output_type": "execute_result",
          "data": {
            "text/plain": [
              "array([[3.27064878e+04, 3.70482048e+06, 2.66030646e+05],\n",
              "       [3.00736763e+03, 3.73432903e+06, 2.94057955e+05],\n",
              "       [1.26851817e+03, 3.73849954e+06, 2.98312622e+05],\n",
              "       ...,\n",
              "       [2.14190489e+03, 3.73936980e+06, 2.99133462e+05],\n",
              "       [3.48868780e+03, 3.73643722e+06, 2.96864611e+05],\n",
              "       [2.11240697e+02, 3.73744418e+06, 2.97261344e+05]])"
            ]
          },
          "metadata": {},
          "execution_count": 85
        }
      ]
    },
    {
      "cell_type": "code",
      "source": [
        "pd.DataFrame(score_pca2)"
      ],
      "metadata": {
        "id": "oC_CqvGj07uE",
        "outputId": "67f4a1b6-bdb8-41b3-db26-2ff6415c4e17",
        "colab": {
          "base_uri": "https://localhost:8080/",
          "height": 424
        }
      },
      "execution_count": 86,
      "outputs": [
        {
          "output_type": "execute_result",
          "data": {
            "text/plain": [
              "                 0            1\n",
              "0     30756.836178 -4917.885008\n",
              "1      1322.416127   642.112203\n",
              "2     -2859.948086  -150.310188\n",
              "3      -216.785340  -555.301936\n",
              "4     -1636.997699   312.352156\n",
              "...            ...          ...\n",
              "4184  -5545.447807  -599.217443\n",
              "4185  -3951.119997  -229.540041\n",
              "4186  -3726.984257    80.601233\n",
              "4187   -843.931871 -3505.189771\n",
              "4188  -1803.754331   -99.234857\n",
              "\n",
              "[4189 rows x 2 columns]"
            ],
            "text/html": [
              "\n",
              "  <div id=\"df-0421f05b-878e-401a-b79e-1f4a1d93d89b\">\n",
              "    <div class=\"colab-df-container\">\n",
              "      <div>\n",
              "<style scoped>\n",
              "    .dataframe tbody tr th:only-of-type {\n",
              "        vertical-align: middle;\n",
              "    }\n",
              "\n",
              "    .dataframe tbody tr th {\n",
              "        vertical-align: top;\n",
              "    }\n",
              "\n",
              "    .dataframe thead th {\n",
              "        text-align: right;\n",
              "    }\n",
              "</style>\n",
              "<table border=\"1\" class=\"dataframe\">\n",
              "  <thead>\n",
              "    <tr style=\"text-align: right;\">\n",
              "      <th></th>\n",
              "      <th>0</th>\n",
              "      <th>1</th>\n",
              "    </tr>\n",
              "  </thead>\n",
              "  <tbody>\n",
              "    <tr>\n",
              "      <th>0</th>\n",
              "      <td>30756.836178</td>\n",
              "      <td>-4917.885008</td>\n",
              "    </tr>\n",
              "    <tr>\n",
              "      <th>1</th>\n",
              "      <td>1322.416127</td>\n",
              "      <td>642.112203</td>\n",
              "    </tr>\n",
              "    <tr>\n",
              "      <th>2</th>\n",
              "      <td>-2859.948086</td>\n",
              "      <td>-150.310188</td>\n",
              "    </tr>\n",
              "    <tr>\n",
              "      <th>3</th>\n",
              "      <td>-216.785340</td>\n",
              "      <td>-555.301936</td>\n",
              "    </tr>\n",
              "    <tr>\n",
              "      <th>4</th>\n",
              "      <td>-1636.997699</td>\n",
              "      <td>312.352156</td>\n",
              "    </tr>\n",
              "    <tr>\n",
              "      <th>...</th>\n",
              "      <td>...</td>\n",
              "      <td>...</td>\n",
              "    </tr>\n",
              "    <tr>\n",
              "      <th>4184</th>\n",
              "      <td>-5545.447807</td>\n",
              "      <td>-599.217443</td>\n",
              "    </tr>\n",
              "    <tr>\n",
              "      <th>4185</th>\n",
              "      <td>-3951.119997</td>\n",
              "      <td>-229.540041</td>\n",
              "    </tr>\n",
              "    <tr>\n",
              "      <th>4186</th>\n",
              "      <td>-3726.984257</td>\n",
              "      <td>80.601233</td>\n",
              "    </tr>\n",
              "    <tr>\n",
              "      <th>4187</th>\n",
              "      <td>-843.931871</td>\n",
              "      <td>-3505.189771</td>\n",
              "    </tr>\n",
              "    <tr>\n",
              "      <th>4188</th>\n",
              "      <td>-1803.754331</td>\n",
              "      <td>-99.234857</td>\n",
              "    </tr>\n",
              "  </tbody>\n",
              "</table>\n",
              "<p>4189 rows × 2 columns</p>\n",
              "</div>\n",
              "      <button class=\"colab-df-convert\" onclick=\"convertToInteractive('df-0421f05b-878e-401a-b79e-1f4a1d93d89b')\"\n",
              "              title=\"Convert this dataframe to an interactive table.\"\n",
              "              style=\"display:none;\">\n",
              "        \n",
              "  <svg xmlns=\"http://www.w3.org/2000/svg\" height=\"24px\"viewBox=\"0 0 24 24\"\n",
              "       width=\"24px\">\n",
              "    <path d=\"M0 0h24v24H0V0z\" fill=\"none\"/>\n",
              "    <path d=\"M18.56 5.44l.94 2.06.94-2.06 2.06-.94-2.06-.94-.94-2.06-.94 2.06-2.06.94zm-11 1L8.5 8.5l.94-2.06 2.06-.94-2.06-.94L8.5 2.5l-.94 2.06-2.06.94zm10 10l.94 2.06.94-2.06 2.06-.94-2.06-.94-.94-2.06-.94 2.06-2.06.94z\"/><path d=\"M17.41 7.96l-1.37-1.37c-.4-.4-.92-.59-1.43-.59-.52 0-1.04.2-1.43.59L10.3 9.45l-7.72 7.72c-.78.78-.78 2.05 0 2.83L4 21.41c.39.39.9.59 1.41.59.51 0 1.02-.2 1.41-.59l7.78-7.78 2.81-2.81c.8-.78.8-2.07 0-2.86zM5.41 20L4 18.59l7.72-7.72 1.47 1.35L5.41 20z\"/>\n",
              "  </svg>\n",
              "      </button>\n",
              "      \n",
              "  <style>\n",
              "    .colab-df-container {\n",
              "      display:flex;\n",
              "      flex-wrap:wrap;\n",
              "      gap: 12px;\n",
              "    }\n",
              "\n",
              "    .colab-df-convert {\n",
              "      background-color: #E8F0FE;\n",
              "      border: none;\n",
              "      border-radius: 50%;\n",
              "      cursor: pointer;\n",
              "      display: none;\n",
              "      fill: #1967D2;\n",
              "      height: 32px;\n",
              "      padding: 0 0 0 0;\n",
              "      width: 32px;\n",
              "    }\n",
              "\n",
              "    .colab-df-convert:hover {\n",
              "      background-color: #E2EBFA;\n",
              "      box-shadow: 0px 1px 2px rgba(60, 64, 67, 0.3), 0px 1px 3px 1px rgba(60, 64, 67, 0.15);\n",
              "      fill: #174EA6;\n",
              "    }\n",
              "\n",
              "    [theme=dark] .colab-df-convert {\n",
              "      background-color: #3B4455;\n",
              "      fill: #D2E3FC;\n",
              "    }\n",
              "\n",
              "    [theme=dark] .colab-df-convert:hover {\n",
              "      background-color: #434B5C;\n",
              "      box-shadow: 0px 1px 3px 1px rgba(0, 0, 0, 0.15);\n",
              "      filter: drop-shadow(0px 1px 2px rgba(0, 0, 0, 0.3));\n",
              "      fill: #FFFFFF;\n",
              "    }\n",
              "  </style>\n",
              "\n",
              "      <script>\n",
              "        const buttonEl =\n",
              "          document.querySelector('#df-0421f05b-878e-401a-b79e-1f4a1d93d89b button.colab-df-convert');\n",
              "        buttonEl.style.display =\n",
              "          google.colab.kernel.accessAllowed ? 'block' : 'none';\n",
              "\n",
              "        async function convertToInteractive(key) {\n",
              "          const element = document.querySelector('#df-0421f05b-878e-401a-b79e-1f4a1d93d89b');\n",
              "          const dataTable =\n",
              "            await google.colab.kernel.invokeFunction('convertToInteractive',\n",
              "                                                     [key], {});\n",
              "          if (!dataTable) return;\n",
              "\n",
              "          const docLinkHtml = 'Like what you see? Visit the ' +\n",
              "            '<a target=\"_blank\" href=https://colab.research.google.com/notebooks/data_table.ipynb>data table notebook</a>'\n",
              "            + ' to learn more about interactive tables.';\n",
              "          element.innerHTML = '';\n",
              "          dataTable['output_type'] = 'display_data';\n",
              "          await google.colab.output.renderOutput(dataTable, element);\n",
              "          const docLink = document.createElement('div');\n",
              "          docLink.innerHTML = docLinkHtml;\n",
              "          element.appendChild(docLink);\n",
              "        }\n",
              "      </script>\n",
              "    </div>\n",
              "  </div>\n",
              "  "
            ]
          },
          "metadata": {},
          "execution_count": 86
        }
      ]
    },
    {
      "cell_type": "code",
      "source": [
        "df2_pca_kmeans = pd.concat([ggf_filter.reset_index(drop=True), \\\n",
        "    pd.DataFrame(score_pca2)], axis=1)\n",
        "df2_pca_kmeans.columns.values[-2:] = ['pc1', 'pc2']\n",
        "\n",
        "df2_pca_kmeans['cluster'] = kmeans_pca.labels_"
      ],
      "metadata": {
        "id": "XbJx_pNi0-UV"
      },
      "execution_count": 89,
      "outputs": []
    },
    {
      "cell_type": "code",
      "source": [
        "df2_pca_kmeans.head()"
      ],
      "metadata": {
        "id": "9Tn8QGYw1UCz",
        "outputId": "a51060a2-6d11-4c87-c754-a822677b6b4e",
        "colab": {
          "base_uri": "https://localhost:8080/",
          "height": 288
        }
      },
      "execution_count": 90,
      "outputs": [
        {
          "output_type": "execute_result",
          "data": {
            "text/plain": [
              "   CustomerID  frequency  recency      T  monetary_value  p_not_alive  \\\n",
              "0       12346        7.0    401.0  726.0    11066.637143     0.465187   \n",
              "1       12347        7.0    402.0  404.0      615.714286     0.000467   \n",
              "2       12348        4.0    363.0  438.0      449.310000     0.025307   \n",
              "3       12349        3.0    571.0  589.0     1120.056667     0.003551   \n",
              "4       12352        8.0    356.0  392.0      338.261250     0.012357   \n",
              "\n",
              "    p_alive  predicted_purchases  actual30     error  expected_avg_sales_  \\\n",
              "0  0.534813             0.155209  0.523691  0.368482         12504.444869   \n",
              "1  0.999533             0.485818  0.522388  0.036570           695.851861   \n",
              "2  0.974693             0.270791  0.330579  0.059788           562.775388   \n",
              "3  0.996449             0.168606  0.157618 -0.010988          1531.122915   \n",
              "4  0.987643             0.556060  0.674157  0.118098           376.226899   \n",
              "\n",
              "   predicted_clv  profit_margin  Segment K-means Labels           pc1  \\\n",
              "0   35175.087513    1758.754376                0    Low  30756.836178   \n",
              "1    7680.254014     384.012701                0    Low   1322.416127   \n",
              "2    3430.871570     171.543579                0    Low  -2859.948086   \n",
              "3    5920.276687     296.013834                0    Low   -216.785340   \n",
              "4    4723.422157     236.171108                0    Low  -1636.997699   \n",
              "\n",
              "           pc2  cluster  \n",
              "0 -4917.885008        0  \n",
              "1   642.112203        0  \n",
              "2  -150.310188        0  \n",
              "3  -555.301936        0  \n",
              "4   312.352156        0  "
            ],
            "text/html": [
              "\n",
              "  <div id=\"df-4df22f50-ad64-4ee1-beae-8729b00d4112\">\n",
              "    <div class=\"colab-df-container\">\n",
              "      <div>\n",
              "<style scoped>\n",
              "    .dataframe tbody tr th:only-of-type {\n",
              "        vertical-align: middle;\n",
              "    }\n",
              "\n",
              "    .dataframe tbody tr th {\n",
              "        vertical-align: top;\n",
              "    }\n",
              "\n",
              "    .dataframe thead th {\n",
              "        text-align: right;\n",
              "    }\n",
              "</style>\n",
              "<table border=\"1\" class=\"dataframe\">\n",
              "  <thead>\n",
              "    <tr style=\"text-align: right;\">\n",
              "      <th></th>\n",
              "      <th>CustomerID</th>\n",
              "      <th>frequency</th>\n",
              "      <th>recency</th>\n",
              "      <th>T</th>\n",
              "      <th>monetary_value</th>\n",
              "      <th>p_not_alive</th>\n",
              "      <th>p_alive</th>\n",
              "      <th>predicted_purchases</th>\n",
              "      <th>actual30</th>\n",
              "      <th>error</th>\n",
              "      <th>expected_avg_sales_</th>\n",
              "      <th>predicted_clv</th>\n",
              "      <th>profit_margin</th>\n",
              "      <th>Segment K-means</th>\n",
              "      <th>Labels</th>\n",
              "      <th>pc1</th>\n",
              "      <th>pc2</th>\n",
              "      <th>cluster</th>\n",
              "    </tr>\n",
              "  </thead>\n",
              "  <tbody>\n",
              "    <tr>\n",
              "      <th>0</th>\n",
              "      <td>12346</td>\n",
              "      <td>7.0</td>\n",
              "      <td>401.0</td>\n",
              "      <td>726.0</td>\n",
              "      <td>11066.637143</td>\n",
              "      <td>0.465187</td>\n",
              "      <td>0.534813</td>\n",
              "      <td>0.155209</td>\n",
              "      <td>0.523691</td>\n",
              "      <td>0.368482</td>\n",
              "      <td>12504.444869</td>\n",
              "      <td>35175.087513</td>\n",
              "      <td>1758.754376</td>\n",
              "      <td>0</td>\n",
              "      <td>Low</td>\n",
              "      <td>30756.836178</td>\n",
              "      <td>-4917.885008</td>\n",
              "      <td>0</td>\n",
              "    </tr>\n",
              "    <tr>\n",
              "      <th>1</th>\n",
              "      <td>12347</td>\n",
              "      <td>7.0</td>\n",
              "      <td>402.0</td>\n",
              "      <td>404.0</td>\n",
              "      <td>615.714286</td>\n",
              "      <td>0.000467</td>\n",
              "      <td>0.999533</td>\n",
              "      <td>0.485818</td>\n",
              "      <td>0.522388</td>\n",
              "      <td>0.036570</td>\n",
              "      <td>695.851861</td>\n",
              "      <td>7680.254014</td>\n",
              "      <td>384.012701</td>\n",
              "      <td>0</td>\n",
              "      <td>Low</td>\n",
              "      <td>1322.416127</td>\n",
              "      <td>642.112203</td>\n",
              "      <td>0</td>\n",
              "    </tr>\n",
              "    <tr>\n",
              "      <th>2</th>\n",
              "      <td>12348</td>\n",
              "      <td>4.0</td>\n",
              "      <td>363.0</td>\n",
              "      <td>438.0</td>\n",
              "      <td>449.310000</td>\n",
              "      <td>0.025307</td>\n",
              "      <td>0.974693</td>\n",
              "      <td>0.270791</td>\n",
              "      <td>0.330579</td>\n",
              "      <td>0.059788</td>\n",
              "      <td>562.775388</td>\n",
              "      <td>3430.871570</td>\n",
              "      <td>171.543579</td>\n",
              "      <td>0</td>\n",
              "      <td>Low</td>\n",
              "      <td>-2859.948086</td>\n",
              "      <td>-150.310188</td>\n",
              "      <td>0</td>\n",
              "    </tr>\n",
              "    <tr>\n",
              "      <th>3</th>\n",
              "      <td>12349</td>\n",
              "      <td>3.0</td>\n",
              "      <td>571.0</td>\n",
              "      <td>589.0</td>\n",
              "      <td>1120.056667</td>\n",
              "      <td>0.003551</td>\n",
              "      <td>0.996449</td>\n",
              "      <td>0.168606</td>\n",
              "      <td>0.157618</td>\n",
              "      <td>-0.010988</td>\n",
              "      <td>1531.122915</td>\n",
              "      <td>5920.276687</td>\n",
              "      <td>296.013834</td>\n",
              "      <td>0</td>\n",
              "      <td>Low</td>\n",
              "      <td>-216.785340</td>\n",
              "      <td>-555.301936</td>\n",
              "      <td>0</td>\n",
              "    </tr>\n",
              "    <tr>\n",
              "      <th>4</th>\n",
              "      <td>12352</td>\n",
              "      <td>8.0</td>\n",
              "      <td>356.0</td>\n",
              "      <td>392.0</td>\n",
              "      <td>338.261250</td>\n",
              "      <td>0.012357</td>\n",
              "      <td>0.987643</td>\n",
              "      <td>0.556060</td>\n",
              "      <td>0.674157</td>\n",
              "      <td>0.118098</td>\n",
              "      <td>376.226899</td>\n",
              "      <td>4723.422157</td>\n",
              "      <td>236.171108</td>\n",
              "      <td>0</td>\n",
              "      <td>Low</td>\n",
              "      <td>-1636.997699</td>\n",
              "      <td>312.352156</td>\n",
              "      <td>0</td>\n",
              "    </tr>\n",
              "  </tbody>\n",
              "</table>\n",
              "</div>\n",
              "      <button class=\"colab-df-convert\" onclick=\"convertToInteractive('df-4df22f50-ad64-4ee1-beae-8729b00d4112')\"\n",
              "              title=\"Convert this dataframe to an interactive table.\"\n",
              "              style=\"display:none;\">\n",
              "        \n",
              "  <svg xmlns=\"http://www.w3.org/2000/svg\" height=\"24px\"viewBox=\"0 0 24 24\"\n",
              "       width=\"24px\">\n",
              "    <path d=\"M0 0h24v24H0V0z\" fill=\"none\"/>\n",
              "    <path d=\"M18.56 5.44l.94 2.06.94-2.06 2.06-.94-2.06-.94-.94-2.06-.94 2.06-2.06.94zm-11 1L8.5 8.5l.94-2.06 2.06-.94-2.06-.94L8.5 2.5l-.94 2.06-2.06.94zm10 10l.94 2.06.94-2.06 2.06-.94-2.06-.94-.94-2.06-.94 2.06-2.06.94z\"/><path d=\"M17.41 7.96l-1.37-1.37c-.4-.4-.92-.59-1.43-.59-.52 0-1.04.2-1.43.59L10.3 9.45l-7.72 7.72c-.78.78-.78 2.05 0 2.83L4 21.41c.39.39.9.59 1.41.59.51 0 1.02-.2 1.41-.59l7.78-7.78 2.81-2.81c.8-.78.8-2.07 0-2.86zM5.41 20L4 18.59l7.72-7.72 1.47 1.35L5.41 20z\"/>\n",
              "  </svg>\n",
              "      </button>\n",
              "      \n",
              "  <style>\n",
              "    .colab-df-container {\n",
              "      display:flex;\n",
              "      flex-wrap:wrap;\n",
              "      gap: 12px;\n",
              "    }\n",
              "\n",
              "    .colab-df-convert {\n",
              "      background-color: #E8F0FE;\n",
              "      border: none;\n",
              "      border-radius: 50%;\n",
              "      cursor: pointer;\n",
              "      display: none;\n",
              "      fill: #1967D2;\n",
              "      height: 32px;\n",
              "      padding: 0 0 0 0;\n",
              "      width: 32px;\n",
              "    }\n",
              "\n",
              "    .colab-df-convert:hover {\n",
              "      background-color: #E2EBFA;\n",
              "      box-shadow: 0px 1px 2px rgba(60, 64, 67, 0.3), 0px 1px 3px 1px rgba(60, 64, 67, 0.15);\n",
              "      fill: #174EA6;\n",
              "    }\n",
              "\n",
              "    [theme=dark] .colab-df-convert {\n",
              "      background-color: #3B4455;\n",
              "      fill: #D2E3FC;\n",
              "    }\n",
              "\n",
              "    [theme=dark] .colab-df-convert:hover {\n",
              "      background-color: #434B5C;\n",
              "      box-shadow: 0px 1px 3px 1px rgba(0, 0, 0, 0.15);\n",
              "      filter: drop-shadow(0px 1px 2px rgba(0, 0, 0, 0.3));\n",
              "      fill: #FFFFFF;\n",
              "    }\n",
              "  </style>\n",
              "\n",
              "      <script>\n",
              "        const buttonEl =\n",
              "          document.querySelector('#df-4df22f50-ad64-4ee1-beae-8729b00d4112 button.colab-df-convert');\n",
              "        buttonEl.style.display =\n",
              "          google.colab.kernel.accessAllowed ? 'block' : 'none';\n",
              "\n",
              "        async function convertToInteractive(key) {\n",
              "          const element = document.querySelector('#df-4df22f50-ad64-4ee1-beae-8729b00d4112');\n",
              "          const dataTable =\n",
              "            await google.colab.kernel.invokeFunction('convertToInteractive',\n",
              "                                                     [key], {});\n",
              "          if (!dataTable) return;\n",
              "\n",
              "          const docLinkHtml = 'Like what you see? Visit the ' +\n",
              "            '<a target=\"_blank\" href=https://colab.research.google.com/notebooks/data_table.ipynb>data table notebook</a>'\n",
              "            + ' to learn more about interactive tables.';\n",
              "          element.innerHTML = '';\n",
              "          dataTable['output_type'] = 'display_data';\n",
              "          await google.colab.output.renderOutput(dataTable, element);\n",
              "          const docLink = document.createElement('div');\n",
              "          docLink.innerHTML = docLinkHtml;\n",
              "          element.appendChild(docLink);\n",
              "        }\n",
              "      </script>\n",
              "    </div>\n",
              "  </div>\n",
              "  "
            ]
          },
          "metadata": {},
          "execution_count": 90
        }
      ]
    },
    {
      "cell_type": "code",
      "source": [
        "df2_pca_kmeans['cluster'] = df2_pca_kmeans['cluster'].map({0:'First', 1:'Second', 2:'Third'})\n",
        "df2_pca_kmeans.head()"
      ],
      "metadata": {
        "id": "8E0UpG9m2DA-",
        "outputId": "6aaea43e-0f81-46c9-f87b-38a2f23ca810",
        "colab": {
          "base_uri": "https://localhost:8080/",
          "height": 288
        }
      },
      "execution_count": 91,
      "outputs": [
        {
          "output_type": "execute_result",
          "data": {
            "text/plain": [
              "   CustomerID  frequency  recency      T  monetary_value  p_not_alive  \\\n",
              "0       12346        7.0    401.0  726.0    11066.637143     0.465187   \n",
              "1       12347        7.0    402.0  404.0      615.714286     0.000467   \n",
              "2       12348        4.0    363.0  438.0      449.310000     0.025307   \n",
              "3       12349        3.0    571.0  589.0     1120.056667     0.003551   \n",
              "4       12352        8.0    356.0  392.0      338.261250     0.012357   \n",
              "\n",
              "    p_alive  predicted_purchases  actual30     error  expected_avg_sales_  \\\n",
              "0  0.534813             0.155209  0.523691  0.368482         12504.444869   \n",
              "1  0.999533             0.485818  0.522388  0.036570           695.851861   \n",
              "2  0.974693             0.270791  0.330579  0.059788           562.775388   \n",
              "3  0.996449             0.168606  0.157618 -0.010988          1531.122915   \n",
              "4  0.987643             0.556060  0.674157  0.118098           376.226899   \n",
              "\n",
              "   predicted_clv  profit_margin  Segment K-means Labels           pc1  \\\n",
              "0   35175.087513    1758.754376                0    Low  30756.836178   \n",
              "1    7680.254014     384.012701                0    Low   1322.416127   \n",
              "2    3430.871570     171.543579                0    Low  -2859.948086   \n",
              "3    5920.276687     296.013834                0    Low   -216.785340   \n",
              "4    4723.422157     236.171108                0    Low  -1636.997699   \n",
              "\n",
              "           pc2 cluster  \n",
              "0 -4917.885008   First  \n",
              "1   642.112203   First  \n",
              "2  -150.310188   First  \n",
              "3  -555.301936   First  \n",
              "4   312.352156   First  "
            ],
            "text/html": [
              "\n",
              "  <div id=\"df-78d34aaa-fabe-48e3-9391-9e2fb9373dec\">\n",
              "    <div class=\"colab-df-container\">\n",
              "      <div>\n",
              "<style scoped>\n",
              "    .dataframe tbody tr th:only-of-type {\n",
              "        vertical-align: middle;\n",
              "    }\n",
              "\n",
              "    .dataframe tbody tr th {\n",
              "        vertical-align: top;\n",
              "    }\n",
              "\n",
              "    .dataframe thead th {\n",
              "        text-align: right;\n",
              "    }\n",
              "</style>\n",
              "<table border=\"1\" class=\"dataframe\">\n",
              "  <thead>\n",
              "    <tr style=\"text-align: right;\">\n",
              "      <th></th>\n",
              "      <th>CustomerID</th>\n",
              "      <th>frequency</th>\n",
              "      <th>recency</th>\n",
              "      <th>T</th>\n",
              "      <th>monetary_value</th>\n",
              "      <th>p_not_alive</th>\n",
              "      <th>p_alive</th>\n",
              "      <th>predicted_purchases</th>\n",
              "      <th>actual30</th>\n",
              "      <th>error</th>\n",
              "      <th>expected_avg_sales_</th>\n",
              "      <th>predicted_clv</th>\n",
              "      <th>profit_margin</th>\n",
              "      <th>Segment K-means</th>\n",
              "      <th>Labels</th>\n",
              "      <th>pc1</th>\n",
              "      <th>pc2</th>\n",
              "      <th>cluster</th>\n",
              "    </tr>\n",
              "  </thead>\n",
              "  <tbody>\n",
              "    <tr>\n",
              "      <th>0</th>\n",
              "      <td>12346</td>\n",
              "      <td>7.0</td>\n",
              "      <td>401.0</td>\n",
              "      <td>726.0</td>\n",
              "      <td>11066.637143</td>\n",
              "      <td>0.465187</td>\n",
              "      <td>0.534813</td>\n",
              "      <td>0.155209</td>\n",
              "      <td>0.523691</td>\n",
              "      <td>0.368482</td>\n",
              "      <td>12504.444869</td>\n",
              "      <td>35175.087513</td>\n",
              "      <td>1758.754376</td>\n",
              "      <td>0</td>\n",
              "      <td>Low</td>\n",
              "      <td>30756.836178</td>\n",
              "      <td>-4917.885008</td>\n",
              "      <td>First</td>\n",
              "    </tr>\n",
              "    <tr>\n",
              "      <th>1</th>\n",
              "      <td>12347</td>\n",
              "      <td>7.0</td>\n",
              "      <td>402.0</td>\n",
              "      <td>404.0</td>\n",
              "      <td>615.714286</td>\n",
              "      <td>0.000467</td>\n",
              "      <td>0.999533</td>\n",
              "      <td>0.485818</td>\n",
              "      <td>0.522388</td>\n",
              "      <td>0.036570</td>\n",
              "      <td>695.851861</td>\n",
              "      <td>7680.254014</td>\n",
              "      <td>384.012701</td>\n",
              "      <td>0</td>\n",
              "      <td>Low</td>\n",
              "      <td>1322.416127</td>\n",
              "      <td>642.112203</td>\n",
              "      <td>First</td>\n",
              "    </tr>\n",
              "    <tr>\n",
              "      <th>2</th>\n",
              "      <td>12348</td>\n",
              "      <td>4.0</td>\n",
              "      <td>363.0</td>\n",
              "      <td>438.0</td>\n",
              "      <td>449.310000</td>\n",
              "      <td>0.025307</td>\n",
              "      <td>0.974693</td>\n",
              "      <td>0.270791</td>\n",
              "      <td>0.330579</td>\n",
              "      <td>0.059788</td>\n",
              "      <td>562.775388</td>\n",
              "      <td>3430.871570</td>\n",
              "      <td>171.543579</td>\n",
              "      <td>0</td>\n",
              "      <td>Low</td>\n",
              "      <td>-2859.948086</td>\n",
              "      <td>-150.310188</td>\n",
              "      <td>First</td>\n",
              "    </tr>\n",
              "    <tr>\n",
              "      <th>3</th>\n",
              "      <td>12349</td>\n",
              "      <td>3.0</td>\n",
              "      <td>571.0</td>\n",
              "      <td>589.0</td>\n",
              "      <td>1120.056667</td>\n",
              "      <td>0.003551</td>\n",
              "      <td>0.996449</td>\n",
              "      <td>0.168606</td>\n",
              "      <td>0.157618</td>\n",
              "      <td>-0.010988</td>\n",
              "      <td>1531.122915</td>\n",
              "      <td>5920.276687</td>\n",
              "      <td>296.013834</td>\n",
              "      <td>0</td>\n",
              "      <td>Low</td>\n",
              "      <td>-216.785340</td>\n",
              "      <td>-555.301936</td>\n",
              "      <td>First</td>\n",
              "    </tr>\n",
              "    <tr>\n",
              "      <th>4</th>\n",
              "      <td>12352</td>\n",
              "      <td>8.0</td>\n",
              "      <td>356.0</td>\n",
              "      <td>392.0</td>\n",
              "      <td>338.261250</td>\n",
              "      <td>0.012357</td>\n",
              "      <td>0.987643</td>\n",
              "      <td>0.556060</td>\n",
              "      <td>0.674157</td>\n",
              "      <td>0.118098</td>\n",
              "      <td>376.226899</td>\n",
              "      <td>4723.422157</td>\n",
              "      <td>236.171108</td>\n",
              "      <td>0</td>\n",
              "      <td>Low</td>\n",
              "      <td>-1636.997699</td>\n",
              "      <td>312.352156</td>\n",
              "      <td>First</td>\n",
              "    </tr>\n",
              "  </tbody>\n",
              "</table>\n",
              "</div>\n",
              "      <button class=\"colab-df-convert\" onclick=\"convertToInteractive('df-78d34aaa-fabe-48e3-9391-9e2fb9373dec')\"\n",
              "              title=\"Convert this dataframe to an interactive table.\"\n",
              "              style=\"display:none;\">\n",
              "        \n",
              "  <svg xmlns=\"http://www.w3.org/2000/svg\" height=\"24px\"viewBox=\"0 0 24 24\"\n",
              "       width=\"24px\">\n",
              "    <path d=\"M0 0h24v24H0V0z\" fill=\"none\"/>\n",
              "    <path d=\"M18.56 5.44l.94 2.06.94-2.06 2.06-.94-2.06-.94-.94-2.06-.94 2.06-2.06.94zm-11 1L8.5 8.5l.94-2.06 2.06-.94-2.06-.94L8.5 2.5l-.94 2.06-2.06.94zm10 10l.94 2.06.94-2.06 2.06-.94-2.06-.94-.94-2.06-.94 2.06-2.06.94z\"/><path d=\"M17.41 7.96l-1.37-1.37c-.4-.4-.92-.59-1.43-.59-.52 0-1.04.2-1.43.59L10.3 9.45l-7.72 7.72c-.78.78-.78 2.05 0 2.83L4 21.41c.39.39.9.59 1.41.59.51 0 1.02-.2 1.41-.59l7.78-7.78 2.81-2.81c.8-.78.8-2.07 0-2.86zM5.41 20L4 18.59l7.72-7.72 1.47 1.35L5.41 20z\"/>\n",
              "  </svg>\n",
              "      </button>\n",
              "      \n",
              "  <style>\n",
              "    .colab-df-container {\n",
              "      display:flex;\n",
              "      flex-wrap:wrap;\n",
              "      gap: 12px;\n",
              "    }\n",
              "\n",
              "    .colab-df-convert {\n",
              "      background-color: #E8F0FE;\n",
              "      border: none;\n",
              "      border-radius: 50%;\n",
              "      cursor: pointer;\n",
              "      display: none;\n",
              "      fill: #1967D2;\n",
              "      height: 32px;\n",
              "      padding: 0 0 0 0;\n",
              "      width: 32px;\n",
              "    }\n",
              "\n",
              "    .colab-df-convert:hover {\n",
              "      background-color: #E2EBFA;\n",
              "      box-shadow: 0px 1px 2px rgba(60, 64, 67, 0.3), 0px 1px 3px 1px rgba(60, 64, 67, 0.15);\n",
              "      fill: #174EA6;\n",
              "    }\n",
              "\n",
              "    [theme=dark] .colab-df-convert {\n",
              "      background-color: #3B4455;\n",
              "      fill: #D2E3FC;\n",
              "    }\n",
              "\n",
              "    [theme=dark] .colab-df-convert:hover {\n",
              "      background-color: #434B5C;\n",
              "      box-shadow: 0px 1px 3px 1px rgba(0, 0, 0, 0.15);\n",
              "      filter: drop-shadow(0px 1px 2px rgba(0, 0, 0, 0.3));\n",
              "      fill: #FFFFFF;\n",
              "    }\n",
              "  </style>\n",
              "\n",
              "      <script>\n",
              "        const buttonEl =\n",
              "          document.querySelector('#df-78d34aaa-fabe-48e3-9391-9e2fb9373dec button.colab-df-convert');\n",
              "        buttonEl.style.display =\n",
              "          google.colab.kernel.accessAllowed ? 'block' : 'none';\n",
              "\n",
              "        async function convertToInteractive(key) {\n",
              "          const element = document.querySelector('#df-78d34aaa-fabe-48e3-9391-9e2fb9373dec');\n",
              "          const dataTable =\n",
              "            await google.colab.kernel.invokeFunction('convertToInteractive',\n",
              "                                                     [key], {});\n",
              "          if (!dataTable) return;\n",
              "\n",
              "          const docLinkHtml = 'Like what you see? Visit the ' +\n",
              "            '<a target=\"_blank\" href=https://colab.research.google.com/notebooks/data_table.ipynb>data table notebook</a>'\n",
              "            + ' to learn more about interactive tables.';\n",
              "          element.innerHTML = '';\n",
              "          dataTable['output_type'] = 'display_data';\n",
              "          await google.colab.output.renderOutput(dataTable, element);\n",
              "          const docLink = document.createElement('div');\n",
              "          docLink.innerHTML = docLinkHtml;\n",
              "          element.appendChild(docLink);\n",
              "        }\n",
              "      </script>\n",
              "    </div>\n",
              "  </div>\n",
              "  "
            ]
          },
          "metadata": {},
          "execution_count": 91
        }
      ]
    },
    {
      "cell_type": "code",
      "source": [
        "plt.figure(figsize = (10,8))\n",
        "sns.scatterplot(x='pc2', y='pc1', data=df2_pca_kmeans, hue='cluster', hue_order=['First', 'Second','Third'])"
      ],
      "metadata": {
        "id": "SwQVJs0L2F_D",
        "outputId": "683fe631-77db-4c31-ebf0-9ed641290fdb",
        "colab": {
          "base_uri": "https://localhost:8080/",
          "height": 525
        }
      },
      "execution_count": 92,
      "outputs": [
        {
          "output_type": "execute_result",
          "data": {
            "text/plain": [
              "<matplotlib.axes._subplots.AxesSubplot at 0x7f4952571b10>"
            ]
          },
          "metadata": {},
          "execution_count": 92
        },
        {
          "output_type": "display_data",
          "data": {
            "text/plain": [
              "<Figure size 720x576 with 1 Axes>"
            ],
            "image/png": "[encoded data removed]"
          },
          "metadata": {
            "needs_background": "light"
          }
        }
      ]
    },
    {
      "cell_type": "code",
      "source": [
        "plt.figure(figsize = (8,8))\n",
        "pie = df2_pca_kmeans.groupby(['cluster']).size().to_frame().reset_index()\n",
        "pie.rename(columns={0: 'count'}, inplace=True)\n",
        "\n",
        "pie_labels = ['first cluster', 'second cluster', 'third cluster']\n",
        "plt.pie(pie['count'], labels=pie_labels)\n",
        "plt.show()"
      ],
      "metadata": {
        "id": "iB4Djbn72LDV",
        "outputId": "7dd1b255-feda-4dbb-89be-fc2ef1020cd0",
        "colab": {
          "base_uri": "https://localhost:8080/",
          "height": 466
        }
      },
      "execution_count": 93,
      "outputs": [
        {
          "output_type": "display_data",
          "data": {
            "text/plain": [
              "<Figure size 576x576 with 1 Axes>"
            ],
            "image/png": "[encoded data removed]"
          },
          "metadata": {}
        }
      ]
    },
    {
      "cell_type": "code",
      "source": [
        "df2_pca_kmeans.groupby('cluster').CustomerID.count()/df2_pca_kmeans.CustomerID.count()*100"
      ],
      "metadata": {
        "id": "W7fnqVGm2Vso",
        "outputId": "4900c6bd-5dcb-462f-c0d2-1bfcfbd8f287",
        "colab": {
          "base_uri": "https://localhost:8080/"
        }
      },
      "execution_count": 95,
      "outputs": [
        {
          "output_type": "execute_result",
          "data": {
            "text/plain": [
              "cluster\n",
              "First     99.737407\n",
              "Second     0.023872\n",
              "Third      0.238720\n",
              "Name: CustomerID, dtype: float64"
            ]
          },
          "metadata": {},
          "execution_count": 95
        }
      ]
    }
  ]
}