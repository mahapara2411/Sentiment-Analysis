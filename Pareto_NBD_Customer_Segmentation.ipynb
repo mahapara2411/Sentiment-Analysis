{
  "nbformat": 4,
  "nbformat_minor": 0,
  "metadata": {
    "colab": {
      "name": "BG-NBD Segmentation.ipynb",
      "provenance": [],
      "authorship_tag": "ABX9TyMZ2d+vO3dDk16bBW7vabDg",
      "include_colab_link": true
    },
    "kernelspec": {
      "name": "python3",
      "display_name": "Python 3"
    },
    "language_info": {
      "name": "python"
    }
  },
  "cells": [
    {
      "cell_type": "markdown",
      "metadata": {
        "id": "view-in-github",
        "colab_type": "text"
      },
      "source": [
        "<a href=\"https://colab.research.google.com/github/mahapara2411/Sentiment-Analysis/blob/master/Pareto_NBD_Customer_Segmentation.ipynb\" target=\"_parent\"><img src=\"https://colab.research.google.com/assets/colab-badge.svg\" alt=\"Open In Colab\"/></a>"
      ]
    },
    {
      "cell_type": "code",
      "source": [
        "!pip install lifetimes"
      ],
      "metadata": {
        "colab": {
          "base_uri": "https://localhost:8080/"
        },
        "id": "fUKWtBbQfGz0",
        "outputId": "fce3a94f-6f8c-4fd5-d97e-9c60b625fabc"
      },
      "execution_count": 294,
      "outputs": [
        {
          "output_type": "stream",
          "name": "stdout",
          "text": [
            "Looking in indexes: https://pypi.org/simple, https://us-python.pkg.dev/colab-wheels/public/simple/\n",
            "Requirement already satisfied: lifetimes in /usr/local/lib/python3.7/dist-packages (0.11.3)\n",
            "Requirement already satisfied: dill>=0.2.6 in /usr/local/lib/python3.7/dist-packages (from lifetimes) (0.3.5.1)\n",
            "Requirement already satisfied: autograd>=1.2.0 in /usr/local/lib/python3.7/dist-packages (from lifetimes) (1.4)\n",
            "Requirement already satisfied: numpy>=1.10.0 in /usr/local/lib/python3.7/dist-packages (from lifetimes) (1.21.6)\n",
            "Requirement already satisfied: pandas>=0.24.0 in /usr/local/lib/python3.7/dist-packages (from lifetimes) (1.3.5)\n",
            "Requirement already satisfied: scipy>=1.0.0 in /usr/local/lib/python3.7/dist-packages (from lifetimes) (1.7.3)\n",
            "Requirement already satisfied: future>=0.15.2 in /usr/local/lib/python3.7/dist-packages (from autograd>=1.2.0->lifetimes) (0.16.0)\n",
            "Requirement already satisfied: python-dateutil>=2.7.3 in /usr/local/lib/python3.7/dist-packages (from pandas>=0.24.0->lifetimes) (2.8.2)\n",
            "Requirement already satisfied: pytz>=2017.3 in /usr/local/lib/python3.7/dist-packages (from pandas>=0.24.0->lifetimes) (2022.2.1)\n",
            "Requirement already satisfied: six>=1.5 in /usr/local/lib/python3.7/dist-packages (from python-dateutil>=2.7.3->pandas>=0.24.0->lifetimes) (1.15.0)\n"
          ]
        }
      ]
    },
    {
      "cell_type": "code",
      "execution_count": 295,
      "metadata": {
        "id": "HPqyS5s4XyGZ"
      },
      "outputs": [],
      "source": [
        "import re\n",
        "import matplotlib.pyplot as plt\n",
        "import pandas as pd\n",
        "import numpy as np\n",
        "import seaborn as sns\n",
        "import altair as alt\n",
        "import plotly.express as px\n",
        "import xlrd\n",
        "import pandas as pd\n",
        "import warnings\n",
        "import lifetimes\n",
        "import dill as pickle\n",
        "from sklearn.cluster import KMeans\n",
        "from lifetimes import ParetoNBDFitter, GammaGammaFitter\n",
        "from lifetimes.plotting import plot_frequency_recency_matrix\n",
        "from lifetimes.plotting import plot_probability_alive_matrix\n",
        "from lifetimes.plotting import plot_period_transactions\n",
        "from lifetimes.utils import calibration_and_holdout_data\n",
        "from lifetimes.plotting import plot_history_alive\n",
        "from lifetimes.plotting import plot_calibration_purchases_vs_holdout_purchases\n",
        "from sklearn.metrics import mean_squared_error, r2_score\n",
        "import math\n",
        "from math import sqrt\n",
        "warnings.filterwarnings(\"ignore\")\n",
        "import datetime\n",
        "np.random.seed(42)"
      ]
    },
    {
      "cell_type": "code",
      "source": [
        "data = pd.read_excel(\"Retail_cleaned_dataset.xlsx\")"
      ],
      "metadata": {
        "id": "Y5fbuFr3egAk"
      },
      "execution_count": 296,
      "outputs": []
    },
    {
      "cell_type": "code",
      "source": [
        "data[\"TotalPrice\"] = data[\"Quantity\"]*data[\"Price\"]\n",
        "data['InvoiceDate'] = pd.to_datetime(data['InvoiceDate']).dt.date"
      ],
      "metadata": {
        "id": "A3L4Ren_ejIC"
      },
      "execution_count": 297,
      "outputs": []
    },
    {
      "cell_type": "code",
      "source": [
        "print(data['InvoiceDate'].min())\n",
        "print(data['InvoiceDate'].max())"
      ],
      "metadata": {
        "id": "bWLH77cFv65q",
        "outputId": "b317a166-bf82-4294-84ed-26e973225749",
        "colab": {
          "base_uri": "https://localhost:8080/"
        }
      },
      "execution_count": 298,
      "outputs": [
        {
          "output_type": "stream",
          "name": "stdout",
          "text": [
            "2019-12-01\n",
            "2021-12-09\n"
          ]
        }
      ]
    },
    {
      "cell_type": "code",
      "source": [
        "data.head()"
      ],
      "metadata": {
        "colab": {
          "base_uri": "https://localhost:8080/",
          "height": 206
        },
        "id": "l6SPb0x_fENH",
        "outputId": "c729a04e-8ea7-40be-8dc5-f11f4137ffbe"
      },
      "execution_count": 299,
      "outputs": [
        {
          "output_type": "execute_result",
          "data": {
            "text/plain": [
              "   Invoice StockCode                          Description  Quantity  \\\n",
              "0   489434     85048  15CM CHRISTMAS GLASS BALL 20 LIGHTS        12   \n",
              "1   489434    79323P                   PINK CHERRY LIGHTS        12   \n",
              "2   489434    79323W                  WHITE CHERRY LIGHTS        12   \n",
              "3   489434     22041         RECORD FRAME 7\" SINGLE SIZE         48   \n",
              "4   489434     21232       STRAWBERRY CERAMIC TRINKET BOX        24   \n",
              "\n",
              "  InvoiceDate  Price  CustomerID         Country  TotalPrice  \n",
              "0  2019-12-01   6.95       13085  United Kingdom        83.4  \n",
              "1  2019-12-01   6.75       13085  United Kingdom        81.0  \n",
              "2  2019-12-01   6.75       13085  United Kingdom        81.0  \n",
              "3  2019-12-01   2.10       13085  United Kingdom       100.8  \n",
              "4  2019-12-01   1.25       13085  United Kingdom        30.0  "
            ],
            "text/html": [
              "\n",
              "  <div id=\"df-4e263d6f-0c37-4e52-aab7-f7e1345ef1d2\">\n",
              "    <div class=\"colab-df-container\">\n",
              "      <div>\n",
              "<style scoped>\n",
              "    .dataframe tbody tr th:only-of-type {\n",
              "        vertical-align: middle;\n",
              "    }\n",
              "\n",
              "    .dataframe tbody tr th {\n",
              "        vertical-align: top;\n",
              "    }\n",
              "\n",
              "    .dataframe thead th {\n",
              "        text-align: right;\n",
              "    }\n",
              "</style>\n",
              "<table border=\"1\" class=\"dataframe\">\n",
              "  <thead>\n",
              "    <tr style=\"text-align: right;\">\n",
              "      <th></th>\n",
              "      <th>Invoice</th>\n",
              "      <th>StockCode</th>\n",
              "      <th>Description</th>\n",
              "      <th>Quantity</th>\n",
              "      <th>InvoiceDate</th>\n",
              "      <th>Price</th>\n",
              "      <th>CustomerID</th>\n",
              "      <th>Country</th>\n",
              "      <th>TotalPrice</th>\n",
              "    </tr>\n",
              "  </thead>\n",
              "  <tbody>\n",
              "    <tr>\n",
              "      <th>0</th>\n",
              "      <td>489434</td>\n",
              "      <td>85048</td>\n",
              "      <td>15CM CHRISTMAS GLASS BALL 20 LIGHTS</td>\n",
              "      <td>12</td>\n",
              "      <td>2019-12-01</td>\n",
              "      <td>6.95</td>\n",
              "      <td>13085</td>\n",
              "      <td>United Kingdom</td>\n",
              "      <td>83.4</td>\n",
              "    </tr>\n",
              "    <tr>\n",
              "      <th>1</th>\n",
              "      <td>489434</td>\n",
              "      <td>79323P</td>\n",
              "      <td>PINK CHERRY LIGHTS</td>\n",
              "      <td>12</td>\n",
              "      <td>2019-12-01</td>\n",
              "      <td>6.75</td>\n",
              "      <td>13085</td>\n",
              "      <td>United Kingdom</td>\n",
              "      <td>81.0</td>\n",
              "    </tr>\n",
              "    <tr>\n",
              "      <th>2</th>\n",
              "      <td>489434</td>\n",
              "      <td>79323W</td>\n",
              "      <td>WHITE CHERRY LIGHTS</td>\n",
              "      <td>12</td>\n",
              "      <td>2019-12-01</td>\n",
              "      <td>6.75</td>\n",
              "      <td>13085</td>\n",
              "      <td>United Kingdom</td>\n",
              "      <td>81.0</td>\n",
              "    </tr>\n",
              "    <tr>\n",
              "      <th>3</th>\n",
              "      <td>489434</td>\n",
              "      <td>22041</td>\n",
              "      <td>RECORD FRAME 7\" SINGLE SIZE</td>\n",
              "      <td>48</td>\n",
              "      <td>2019-12-01</td>\n",
              "      <td>2.10</td>\n",
              "      <td>13085</td>\n",
              "      <td>United Kingdom</td>\n",
              "      <td>100.8</td>\n",
              "    </tr>\n",
              "    <tr>\n",
              "      <th>4</th>\n",
              "      <td>489434</td>\n",
              "      <td>21232</td>\n",
              "      <td>STRAWBERRY CERAMIC TRINKET BOX</td>\n",
              "      <td>24</td>\n",
              "      <td>2019-12-01</td>\n",
              "      <td>1.25</td>\n",
              "      <td>13085</td>\n",
              "      <td>United Kingdom</td>\n",
              "      <td>30.0</td>\n",
              "    </tr>\n",
              "  </tbody>\n",
              "</table>\n",
              "</div>\n",
              "      <button class=\"colab-df-convert\" onclick=\"convertToInteractive('df-4e263d6f-0c37-4e52-aab7-f7e1345ef1d2')\"\n",
              "              title=\"Convert this dataframe to an interactive table.\"\n",
              "              style=\"display:none;\">\n",
              "        \n",
              "  <svg xmlns=\"http://www.w3.org/2000/svg\" height=\"24px\"viewBox=\"0 0 24 24\"\n",
              "       width=\"24px\">\n",
              "    <path d=\"M0 0h24v24H0V0z\" fill=\"none\"/>\n",
              "    <path d=\"M18.56 5.44l.94 2.06.94-2.06 2.06-.94-2.06-.94-.94-2.06-.94 2.06-2.06.94zm-11 1L8.5 8.5l.94-2.06 2.06-.94-2.06-.94L8.5 2.5l-.94 2.06-2.06.94zm10 10l.94 2.06.94-2.06 2.06-.94-2.06-.94-.94-2.06-.94 2.06-2.06.94z\"/><path d=\"M17.41 7.96l-1.37-1.37c-.4-.4-.92-.59-1.43-.59-.52 0-1.04.2-1.43.59L10.3 9.45l-7.72 7.72c-.78.78-.78 2.05 0 2.83L4 21.41c.39.39.9.59 1.41.59.51 0 1.02-.2 1.41-.59l7.78-7.78 2.81-2.81c.8-.78.8-2.07 0-2.86zM5.41 20L4 18.59l7.72-7.72 1.47 1.35L5.41 20z\"/>\n",
              "  </svg>\n",
              "      </button>\n",
              "      \n",
              "  <style>\n",
              "    .colab-df-container {\n",
              "      display:flex;\n",
              "      flex-wrap:wrap;\n",
              "      gap: 12px;\n",
              "    }\n",
              "\n",
              "    .colab-df-convert {\n",
              "      background-color: #E8F0FE;\n",
              "      border: none;\n",
              "      border-radius: 50%;\n",
              "      cursor: pointer;\n",
              "      display: none;\n",
              "      fill: #1967D2;\n",
              "      height: 32px;\n",
              "      padding: 0 0 0 0;\n",
              "      width: 32px;\n",
              "    }\n",
              "\n",
              "    .colab-df-convert:hover {\n",
              "      background-color: #E2EBFA;\n",
              "      box-shadow: 0px 1px 2px rgba(60, 64, 67, 0.3), 0px 1px 3px 1px rgba(60, 64, 67, 0.15);\n",
              "      fill: #174EA6;\n",
              "    }\n",
              "\n",
              "    [theme=dark] .colab-df-convert {\n",
              "      background-color: #3B4455;\n",
              "      fill: #D2E3FC;\n",
              "    }\n",
              "\n",
              "    [theme=dark] .colab-df-convert:hover {\n",
              "      background-color: #434B5C;\n",
              "      box-shadow: 0px 1px 3px 1px rgba(0, 0, 0, 0.15);\n",
              "      filter: drop-shadow(0px 1px 2px rgba(0, 0, 0, 0.3));\n",
              "      fill: #FFFFFF;\n",
              "    }\n",
              "  </style>\n",
              "\n",
              "      <script>\n",
              "        const buttonEl =\n",
              "          document.querySelector('#df-4e263d6f-0c37-4e52-aab7-f7e1345ef1d2 button.colab-df-convert');\n",
              "        buttonEl.style.display =\n",
              "          google.colab.kernel.accessAllowed ? 'block' : 'none';\n",
              "\n",
              "        async function convertToInteractive(key) {\n",
              "          const element = document.querySelector('#df-4e263d6f-0c37-4e52-aab7-f7e1345ef1d2');\n",
              "          const dataTable =\n",
              "            await google.colab.kernel.invokeFunction('convertToInteractive',\n",
              "                                                     [key], {});\n",
              "          if (!dataTable) return;\n",
              "\n",
              "          const docLinkHtml = 'Like what you see? Visit the ' +\n",
              "            '<a target=\"_blank\" href=https://colab.research.google.com/notebooks/data_table.ipynb>data table notebook</a>'\n",
              "            + ' to learn more about interactive tables.';\n",
              "          element.innerHTML = '';\n",
              "          dataTable['output_type'] = 'display_data';\n",
              "          await google.colab.output.renderOutput(dataTable, element);\n",
              "          const docLink = document.createElement('div');\n",
              "          docLink.innerHTML = docLinkHtml;\n",
              "          element.appendChild(docLink);\n",
              "        }\n",
              "      </script>\n",
              "    </div>\n",
              "  </div>\n",
              "  "
            ]
          },
          "metadata": {},
          "execution_count": 299
        }
      ]
    },
    {
      "cell_type": "code",
      "source": [
        "# number of customers\n",
        "data['CustomerID'].nunique()"
      ],
      "metadata": {
        "id": "Tr5y8y-zwDiJ",
        "outputId": "53321171-1b81-4c9b-9b5b-2db2989f4fe3",
        "colab": {
          "base_uri": "https://localhost:8080/"
        }
      },
      "execution_count": 300,
      "outputs": [
        {
          "output_type": "execute_result",
          "data": {
            "text/plain": [
              "5878"
            ]
          },
          "metadata": {},
          "execution_count": 300
        }
      ]
    },
    {
      "cell_type": "code",
      "source": [
        "# number of transactions\n",
        "data.shape"
      ],
      "metadata": {
        "id": "hq87g6pQwAkg",
        "outputId": "ef9bc75f-284c-476c-8bc2-b914aaebc4b1",
        "colab": {
          "base_uri": "https://localhost:8080/"
        }
      },
      "execution_count": 301,
      "outputs": [
        {
          "output_type": "execute_result",
          "data": {
            "text/plain": [
              "(779428, 9)"
            ]
          },
          "metadata": {},
          "execution_count": 301
        }
      ]
    },
    {
      "cell_type": "code",
      "source": [
        "cust = data.groupby(['CustomerID']).agg({\n",
        "    'Invoice': 'count',\n",
        "    'TotalPrice': 'sum'\n",
        "}).reset_index()"
      ],
      "metadata": {
        "id": "7mZ3RwAcwKt2"
      },
      "execution_count": 302,
      "outputs": []
    },
    {
      "cell_type": "code",
      "source": [
        "cust.describe()"
      ],
      "metadata": {
        "id": "fL3K2569wLKO",
        "outputId": "65b33d90-4e9e-47d9-e8d3-9079ccba349c",
        "colab": {
          "base_uri": "https://localhost:8080/",
          "height": 300
        }
      },
      "execution_count": 303,
      "outputs": [
        {
          "output_type": "execute_result",
          "data": {
            "text/plain": [
              "         CustomerID       Invoice     TotalPrice\n",
              "count   5878.000000   5878.000000    5878.000000\n",
              "mean   15315.313542    132.600885    2955.906009\n",
              "std     1715.572666    342.191398   14440.853611\n",
              "min    12346.000000      1.000000       2.950000\n",
              "25%    13833.250000     20.000000     342.280000\n",
              "50%    15314.500000     52.000000     867.740000\n",
              "75%    16797.750000    138.000000    2248.305000\n",
              "max    18287.000000  12435.000000  580987.040000"
            ],
            "text/html": [
              "\n",
              "  <div id=\"df-4f6be4f5-6487-4a6d-ba7d-6c730becba44\">\n",
              "    <div class=\"colab-df-container\">\n",
              "      <div>\n",
              "<style scoped>\n",
              "    .dataframe tbody tr th:only-of-type {\n",
              "        vertical-align: middle;\n",
              "    }\n",
              "\n",
              "    .dataframe tbody tr th {\n",
              "        vertical-align: top;\n",
              "    }\n",
              "\n",
              "    .dataframe thead th {\n",
              "        text-align: right;\n",
              "    }\n",
              "</style>\n",
              "<table border=\"1\" class=\"dataframe\">\n",
              "  <thead>\n",
              "    <tr style=\"text-align: right;\">\n",
              "      <th></th>\n",
              "      <th>CustomerID</th>\n",
              "      <th>Invoice</th>\n",
              "      <th>TotalPrice</th>\n",
              "    </tr>\n",
              "  </thead>\n",
              "  <tbody>\n",
              "    <tr>\n",
              "      <th>count</th>\n",
              "      <td>5878.000000</td>\n",
              "      <td>5878.000000</td>\n",
              "      <td>5878.000000</td>\n",
              "    </tr>\n",
              "    <tr>\n",
              "      <th>mean</th>\n",
              "      <td>15315.313542</td>\n",
              "      <td>132.600885</td>\n",
              "      <td>2955.906009</td>\n",
              "    </tr>\n",
              "    <tr>\n",
              "      <th>std</th>\n",
              "      <td>1715.572666</td>\n",
              "      <td>342.191398</td>\n",
              "      <td>14440.853611</td>\n",
              "    </tr>\n",
              "    <tr>\n",
              "      <th>min</th>\n",
              "      <td>12346.000000</td>\n",
              "      <td>1.000000</td>\n",
              "      <td>2.950000</td>\n",
              "    </tr>\n",
              "    <tr>\n",
              "      <th>25%</th>\n",
              "      <td>13833.250000</td>\n",
              "      <td>20.000000</td>\n",
              "      <td>342.280000</td>\n",
              "    </tr>\n",
              "    <tr>\n",
              "      <th>50%</th>\n",
              "      <td>15314.500000</td>\n",
              "      <td>52.000000</td>\n",
              "      <td>867.740000</td>\n",
              "    </tr>\n",
              "    <tr>\n",
              "      <th>75%</th>\n",
              "      <td>16797.750000</td>\n",
              "      <td>138.000000</td>\n",
              "      <td>2248.305000</td>\n",
              "    </tr>\n",
              "    <tr>\n",
              "      <th>max</th>\n",
              "      <td>18287.000000</td>\n",
              "      <td>12435.000000</td>\n",
              "      <td>580987.040000</td>\n",
              "    </tr>\n",
              "  </tbody>\n",
              "</table>\n",
              "</div>\n",
              "      <button class=\"colab-df-convert\" onclick=\"convertToInteractive('df-4f6be4f5-6487-4a6d-ba7d-6c730becba44')\"\n",
              "              title=\"Convert this dataframe to an interactive table.\"\n",
              "              style=\"display:none;\">\n",
              "        \n",
              "  <svg xmlns=\"http://www.w3.org/2000/svg\" height=\"24px\"viewBox=\"0 0 24 24\"\n",
              "       width=\"24px\">\n",
              "    <path d=\"M0 0h24v24H0V0z\" fill=\"none\"/>\n",
              "    <path d=\"M18.56 5.44l.94 2.06.94-2.06 2.06-.94-2.06-.94-.94-2.06-.94 2.06-2.06.94zm-11 1L8.5 8.5l.94-2.06 2.06-.94-2.06-.94L8.5 2.5l-.94 2.06-2.06.94zm10 10l.94 2.06.94-2.06 2.06-.94-2.06-.94-.94-2.06-.94 2.06-2.06.94z\"/><path d=\"M17.41 7.96l-1.37-1.37c-.4-.4-.92-.59-1.43-.59-.52 0-1.04.2-1.43.59L10.3 9.45l-7.72 7.72c-.78.78-.78 2.05 0 2.83L4 21.41c.39.39.9.59 1.41.59.51 0 1.02-.2 1.41-.59l7.78-7.78 2.81-2.81c.8-.78.8-2.07 0-2.86zM5.41 20L4 18.59l7.72-7.72 1.47 1.35L5.41 20z\"/>\n",
              "  </svg>\n",
              "      </button>\n",
              "      \n",
              "  <style>\n",
              "    .colab-df-container {\n",
              "      display:flex;\n",
              "      flex-wrap:wrap;\n",
              "      gap: 12px;\n",
              "    }\n",
              "\n",
              "    .colab-df-convert {\n",
              "      background-color: #E8F0FE;\n",
              "      border: none;\n",
              "      border-radius: 50%;\n",
              "      cursor: pointer;\n",
              "      display: none;\n",
              "      fill: #1967D2;\n",
              "      height: 32px;\n",
              "      padding: 0 0 0 0;\n",
              "      width: 32px;\n",
              "    }\n",
              "\n",
              "    .colab-df-convert:hover {\n",
              "      background-color: #E2EBFA;\n",
              "      box-shadow: 0px 1px 2px rgba(60, 64, 67, 0.3), 0px 1px 3px 1px rgba(60, 64, 67, 0.15);\n",
              "      fill: #174EA6;\n",
              "    }\n",
              "\n",
              "    [theme=dark] .colab-df-convert {\n",
              "      background-color: #3B4455;\n",
              "      fill: #D2E3FC;\n",
              "    }\n",
              "\n",
              "    [theme=dark] .colab-df-convert:hover {\n",
              "      background-color: #434B5C;\n",
              "      box-shadow: 0px 1px 3px 1px rgba(0, 0, 0, 0.15);\n",
              "      filter: drop-shadow(0px 1px 2px rgba(0, 0, 0, 0.3));\n",
              "      fill: #FFFFFF;\n",
              "    }\n",
              "  </style>\n",
              "\n",
              "      <script>\n",
              "        const buttonEl =\n",
              "          document.querySelector('#df-4f6be4f5-6487-4a6d-ba7d-6c730becba44 button.colab-df-convert');\n",
              "        buttonEl.style.display =\n",
              "          google.colab.kernel.accessAllowed ? 'block' : 'none';\n",
              "\n",
              "        async function convertToInteractive(key) {\n",
              "          const element = document.querySelector('#df-4f6be4f5-6487-4a6d-ba7d-6c730becba44');\n",
              "          const dataTable =\n",
              "            await google.colab.kernel.invokeFunction('convertToInteractive',\n",
              "                                                     [key], {});\n",
              "          if (!dataTable) return;\n",
              "\n",
              "          const docLinkHtml = 'Like what you see? Visit the ' +\n",
              "            '<a target=\"_blank\" href=https://colab.research.google.com/notebooks/data_table.ipynb>data table notebook</a>'\n",
              "            + ' to learn more about interactive tables.';\n",
              "          element.innerHTML = '';\n",
              "          dataTable['output_type'] = 'display_data';\n",
              "          await google.colab.output.renderOutput(dataTable, element);\n",
              "          const docLink = document.createElement('div');\n",
              "          docLink.innerHTML = docLinkHtml;\n",
              "          element.appendChild(docLink);\n",
              "        }\n",
              "      </script>\n",
              "    </div>\n",
              "  </div>\n",
              "  "
            ]
          },
          "metadata": {},
          "execution_count": 303
        }
      ]
    },
    {
      "cell_type": "code",
      "source": [
        "rfm_summary = lifetimes.utils.summary_data_from_transaction_data(data, \"CustomerID\", \"InvoiceDate\", \"TotalPrice\")"
      ],
      "metadata": {
        "id": "OlqIkrQlfL54"
      },
      "execution_count": 304,
      "outputs": []
    },
    {
      "cell_type": "code",
      "source": [
        "rfm_summary.reset_index(inplace = True)"
      ],
      "metadata": {
        "id": "fR70aZNGfQ4f"
      },
      "execution_count": 305,
      "outputs": []
    },
    {
      "cell_type": "code",
      "source": [
        "#plotting the distribution\n",
        "plt.figure(figsize=(14,8))\n",
        "plt.subplot(221)\n",
        "sns.distplot(rfm_summary[\"frequency\"])\n",
        "plt.title(\"Frequency Distribution\")\n",
        "plt.subplot(222)\n",
        "sns.distplot(rfm_summary[\"recency\"])\n",
        "plt.title(\"Recency Distribution\")\n",
        "plt.subplot(223)\n",
        "sns.distplot(rfm_summary[\"T\"])\n",
        "plt.title(\"T Distribution\")\n",
        "plt.subplot(224)\n",
        "sns.distplot(rfm_summary[\"monetary_value\"])\n",
        "plt.title(\"Monetary Value Distribution\")\n",
        "plt.tight_layout()"
      ],
      "metadata": {
        "colab": {
          "base_uri": "https://localhost:8080/",
          "height": 585
        },
        "id": "ZS-JLxc9fTFv",
        "outputId": "26f78d4c-97b1-4ecb-9229-7bd1e5800d73"
      },
      "execution_count": 306,
      "outputs": [
        {
          "output_type": "display_data",
          "data": {
            "text/plain": [
              "<Figure size 1008x576 with 4 Axes>"
            ],
            "image/png": "[encoded data removed]"
          },
          "metadata": {
            "needs_background": "light"
          }
        }
      ]
    },
    {
      "cell_type": "code",
      "source": [
        "plt.figure(figsize=(16,5))\n",
        "plt.subplot(141)\n",
        "sns.boxplot(rfm_summary[\"frequency\"], color = \"olive\")\n",
        "plt.title(\"Frequency\")\n",
        "plt.subplot(142)\n",
        "sns.boxplot(rfm_summary[\"recency\"])\n",
        "plt.title(\"Recency\")\n",
        "plt.subplot(143)\n",
        "sns.boxplot(rfm_summary[\"T\"])\n",
        "plt.title(\"T\")\n",
        "plt.subplot(144)\n",
        "sns.boxplot(rfm_summary[\"monetary_value\"], color = \"salmon\")\n",
        "\n",
        "plt.tight_layout()"
      ],
      "metadata": {
        "colab": {
          "base_uri": "https://localhost:8080/",
          "height": 369
        },
        "id": "-mXgvh1AfUuX",
        "outputId": "3a2b87c7-f336-4f58-ebc0-d2cd8b489c11"
      },
      "execution_count": 307,
      "outputs": [
        {
          "output_type": "display_data",
          "data": {
            "text/plain": [
              "<Figure size 1152x360 with 4 Axes>"
            ],
            "image/png": "[encoded data removed]"
          },
          "metadata": {
            "needs_background": "light"
          }
        }
      ]
    },
    {
      "cell_type": "code",
      "source": [
        "rfm_summary.describe(percentiles = [0.01,0.1,0.25,0.50,0.75,0.90,0.99])"
      ],
      "metadata": {
        "colab": {
          "base_uri": "https://localhost:8080/",
          "height": 426
        },
        "id": "YnhFoM6jfXOL",
        "outputId": "00d7cb44-8f29-4e3d-cdd4-33395cc1f8af"
      },
      "execution_count": 308,
      "outputs": [
        {
          "output_type": "execute_result",
          "data": {
            "text/plain": [
              "         CustomerID    frequency      recency            T  monetary_value\n",
              "count   5878.000000  5878.000000  5878.000000  5878.000000     5878.000000\n",
              "mean   15315.313542     4.632358   273.647669   474.551718      312.996561\n",
              "std     1715.572666     9.999783   259.242435   223.394778     2255.743170\n",
              "min    12346.000000     0.000000     0.000000     0.000000        0.000000\n",
              "1%     12405.770000     0.000000     0.000000    15.000000        0.000000\n",
              "10%    12936.700000     0.000000     0.000000    89.000000        0.000000\n",
              "25%    13833.250000     0.000000     0.000000   313.000000        0.000000\n",
              "50%    15314.500000     2.000000   221.000000   530.000000      207.117500\n",
              "75%    16797.750000     5.000000   512.000000   669.000000      368.045909\n",
              "90%    17696.300000    11.000000   668.000000   731.000000      591.139417\n",
              "99%    18228.230000    38.000000   733.000000   739.000000     1789.449437\n",
              "max    18287.000000   254.000000   739.000000   739.000000   168469.600000"
            ],
            "text/html": [
              "\n",
              "  <div id=\"df-e570bc72-37b7-47d9-b11d-fb00579fd669\">\n",
              "    <div class=\"colab-df-container\">\n",
              "      <div>\n",
              "<style scoped>\n",
              "    .dataframe tbody tr th:only-of-type {\n",
              "        vertical-align: middle;\n",
              "    }\n",
              "\n",
              "    .dataframe tbody tr th {\n",
              "        vertical-align: top;\n",
              "    }\n",
              "\n",
              "    .dataframe thead th {\n",
              "        text-align: right;\n",
              "    }\n",
              "</style>\n",
              "<table border=\"1\" class=\"dataframe\">\n",
              "  <thead>\n",
              "    <tr style=\"text-align: right;\">\n",
              "      <th></th>\n",
              "      <th>CustomerID</th>\n",
              "      <th>frequency</th>\n",
              "      <th>recency</th>\n",
              "      <th>T</th>\n",
              "      <th>monetary_value</th>\n",
              "    </tr>\n",
              "  </thead>\n",
              "  <tbody>\n",
              "    <tr>\n",
              "      <th>count</th>\n",
              "      <td>5878.000000</td>\n",
              "      <td>5878.000000</td>\n",
              "      <td>5878.000000</td>\n",
              "      <td>5878.000000</td>\n",
              "      <td>5878.000000</td>\n",
              "    </tr>\n",
              "    <tr>\n",
              "      <th>mean</th>\n",
              "      <td>15315.313542</td>\n",
              "      <td>4.632358</td>\n",
              "      <td>273.647669</td>\n",
              "      <td>474.551718</td>\n",
              "      <td>312.996561</td>\n",
              "    </tr>\n",
              "    <tr>\n",
              "      <th>std</th>\n",
              "      <td>1715.572666</td>\n",
              "      <td>9.999783</td>\n",
              "      <td>259.242435</td>\n",
              "      <td>223.394778</td>\n",
              "      <td>2255.743170</td>\n",
              "    </tr>\n",
              "    <tr>\n",
              "      <th>min</th>\n",
              "      <td>12346.000000</td>\n",
              "      <td>0.000000</td>\n",
              "      <td>0.000000</td>\n",
              "      <td>0.000000</td>\n",
              "      <td>0.000000</td>\n",
              "    </tr>\n",
              "    <tr>\n",
              "      <th>1%</th>\n",
              "      <td>12405.770000</td>\n",
              "      <td>0.000000</td>\n",
              "      <td>0.000000</td>\n",
              "      <td>15.000000</td>\n",
              "      <td>0.000000</td>\n",
              "    </tr>\n",
              "    <tr>\n",
              "      <th>10%</th>\n",
              "      <td>12936.700000</td>\n",
              "      <td>0.000000</td>\n",
              "      <td>0.000000</td>\n",
              "      <td>89.000000</td>\n",
              "      <td>0.000000</td>\n",
              "    </tr>\n",
              "    <tr>\n",
              "      <th>25%</th>\n",
              "      <td>13833.250000</td>\n",
              "      <td>0.000000</td>\n",
              "      <td>0.000000</td>\n",
              "      <td>313.000000</td>\n",
              "      <td>0.000000</td>\n",
              "    </tr>\n",
              "    <tr>\n",
              "      <th>50%</th>\n",
              "      <td>15314.500000</td>\n",
              "      <td>2.000000</td>\n",
              "      <td>221.000000</td>\n",
              "      <td>530.000000</td>\n",
              "      <td>207.117500</td>\n",
              "    </tr>\n",
              "    <tr>\n",
              "      <th>75%</th>\n",
              "      <td>16797.750000</td>\n",
              "      <td>5.000000</td>\n",
              "      <td>512.000000</td>\n",
              "      <td>669.000000</td>\n",
              "      <td>368.045909</td>\n",
              "    </tr>\n",
              "    <tr>\n",
              "      <th>90%</th>\n",
              "      <td>17696.300000</td>\n",
              "      <td>11.000000</td>\n",
              "      <td>668.000000</td>\n",
              "      <td>731.000000</td>\n",
              "      <td>591.139417</td>\n",
              "    </tr>\n",
              "    <tr>\n",
              "      <th>99%</th>\n",
              "      <td>18228.230000</td>\n",
              "      <td>38.000000</td>\n",
              "      <td>733.000000</td>\n",
              "      <td>739.000000</td>\n",
              "      <td>1789.449437</td>\n",
              "    </tr>\n",
              "    <tr>\n",
              "      <th>max</th>\n",
              "      <td>18287.000000</td>\n",
              "      <td>254.000000</td>\n",
              "      <td>739.000000</td>\n",
              "      <td>739.000000</td>\n",
              "      <td>168469.600000</td>\n",
              "    </tr>\n",
              "  </tbody>\n",
              "</table>\n",
              "</div>\n",
              "      <button class=\"colab-df-convert\" onclick=\"convertToInteractive('df-e570bc72-37b7-47d9-b11d-fb00579fd669')\"\n",
              "              title=\"Convert this dataframe to an interactive table.\"\n",
              "              style=\"display:none;\">\n",
              "        \n",
              "  <svg xmlns=\"http://www.w3.org/2000/svg\" height=\"24px\"viewBox=\"0 0 24 24\"\n",
              "       width=\"24px\">\n",
              "    <path d=\"M0 0h24v24H0V0z\" fill=\"none\"/>\n",
              "    <path d=\"M18.56 5.44l.94 2.06.94-2.06 2.06-.94-2.06-.94-.94-2.06-.94 2.06-2.06.94zm-11 1L8.5 8.5l.94-2.06 2.06-.94-2.06-.94L8.5 2.5l-.94 2.06-2.06.94zm10 10l.94 2.06.94-2.06 2.06-.94-2.06-.94-.94-2.06-.94 2.06-2.06.94z\"/><path d=\"M17.41 7.96l-1.37-1.37c-.4-.4-.92-.59-1.43-.59-.52 0-1.04.2-1.43.59L10.3 9.45l-7.72 7.72c-.78.78-.78 2.05 0 2.83L4 21.41c.39.39.9.59 1.41.59.51 0 1.02-.2 1.41-.59l7.78-7.78 2.81-2.81c.8-.78.8-2.07 0-2.86zM5.41 20L4 18.59l7.72-7.72 1.47 1.35L5.41 20z\"/>\n",
              "  </svg>\n",
              "      </button>\n",
              "      \n",
              "  <style>\n",
              "    .colab-df-container {\n",
              "      display:flex;\n",
              "      flex-wrap:wrap;\n",
              "      gap: 12px;\n",
              "    }\n",
              "\n",
              "    .colab-df-convert {\n",
              "      background-color: #E8F0FE;\n",
              "      border: none;\n",
              "      border-radius: 50%;\n",
              "      cursor: pointer;\n",
              "      display: none;\n",
              "      fill: #1967D2;\n",
              "      height: 32px;\n",
              "      padding: 0 0 0 0;\n",
              "      width: 32px;\n",
              "    }\n",
              "\n",
              "    .colab-df-convert:hover {\n",
              "      background-color: #E2EBFA;\n",
              "      box-shadow: 0px 1px 2px rgba(60, 64, 67, 0.3), 0px 1px 3px 1px rgba(60, 64, 67, 0.15);\n",
              "      fill: #174EA6;\n",
              "    }\n",
              "\n",
              "    [theme=dark] .colab-df-convert {\n",
              "      background-color: #3B4455;\n",
              "      fill: #D2E3FC;\n",
              "    }\n",
              "\n",
              "    [theme=dark] .colab-df-convert:hover {\n",
              "      background-color: #434B5C;\n",
              "      box-shadow: 0px 1px 3px 1px rgba(0, 0, 0, 0.15);\n",
              "      filter: drop-shadow(0px 1px 2px rgba(0, 0, 0, 0.3));\n",
              "      fill: #FFFFFF;\n",
              "    }\n",
              "  </style>\n",
              "\n",
              "      <script>\n",
              "        const buttonEl =\n",
              "          document.querySelector('#df-e570bc72-37b7-47d9-b11d-fb00579fd669 button.colab-df-convert');\n",
              "        buttonEl.style.display =\n",
              "          google.colab.kernel.accessAllowed ? 'block' : 'none';\n",
              "\n",
              "        async function convertToInteractive(key) {\n",
              "          const element = document.querySelector('#df-e570bc72-37b7-47d9-b11d-fb00579fd669');\n",
              "          const dataTable =\n",
              "            await google.colab.kernel.invokeFunction('convertToInteractive',\n",
              "                                                     [key], {});\n",
              "          if (!dataTable) return;\n",
              "\n",
              "          const docLinkHtml = 'Like what you see? Visit the ' +\n",
              "            '<a target=\"_blank\" href=https://colab.research.google.com/notebooks/data_table.ipynb>data table notebook</a>'\n",
              "            + ' to learn more about interactive tables.';\n",
              "          element.innerHTML = '';\n",
              "          dataTable['output_type'] = 'display_data';\n",
              "          await google.colab.output.renderOutput(dataTable, element);\n",
              "          const docLink = document.createElement('div');\n",
              "          docLink.innerHTML = docLinkHtml;\n",
              "          element.appendChild(docLink);\n",
              "        }\n",
              "      </script>\n",
              "    </div>\n",
              "  </div>\n",
              "  "
            ]
          },
          "metadata": {},
          "execution_count": 308
        }
      ]
    },
    {
      "cell_type": "code",
      "source": [
        "rfm_summary.head()"
      ],
      "metadata": {
        "colab": {
          "base_uri": "https://localhost:8080/",
          "height": 206
        },
        "id": "n7PY-cgafOBd",
        "outputId": "d0b4b7f1-ac30-4971-fce6-f72512377c29"
      },
      "execution_count": 309,
      "outputs": [
        {
          "output_type": "execute_result",
          "data": {
            "text/plain": [
              "   CustomerID  frequency  recency      T  monetary_value\n",
              "0       12346        7.0    401.0  726.0    11066.637143\n",
              "1       12347        7.0    402.0  404.0      615.714286\n",
              "2       12348        4.0    363.0  438.0      449.310000\n",
              "3       12349        3.0    571.0  589.0     1120.056667\n",
              "4       12350        0.0      0.0  310.0        0.000000"
            ],
            "text/html": [
              "\n",
              "  <div id=\"df-034f41a7-6042-4b26-91f6-513c85d60e33\">\n",
              "    <div class=\"colab-df-container\">\n",
              "      <div>\n",
              "<style scoped>\n",
              "    .dataframe tbody tr th:only-of-type {\n",
              "        vertical-align: middle;\n",
              "    }\n",
              "\n",
              "    .dataframe tbody tr th {\n",
              "        vertical-align: top;\n",
              "    }\n",
              "\n",
              "    .dataframe thead th {\n",
              "        text-align: right;\n",
              "    }\n",
              "</style>\n",
              "<table border=\"1\" class=\"dataframe\">\n",
              "  <thead>\n",
              "    <tr style=\"text-align: right;\">\n",
              "      <th></th>\n",
              "      <th>CustomerID</th>\n",
              "      <th>frequency</th>\n",
              "      <th>recency</th>\n",
              "      <th>T</th>\n",
              "      <th>monetary_value</th>\n",
              "    </tr>\n",
              "  </thead>\n",
              "  <tbody>\n",
              "    <tr>\n",
              "      <th>0</th>\n",
              "      <td>12346</td>\n",
              "      <td>7.0</td>\n",
              "      <td>401.0</td>\n",
              "      <td>726.0</td>\n",
              "      <td>11066.637143</td>\n",
              "    </tr>\n",
              "    <tr>\n",
              "      <th>1</th>\n",
              "      <td>12347</td>\n",
              "      <td>7.0</td>\n",
              "      <td>402.0</td>\n",
              "      <td>404.0</td>\n",
              "      <td>615.714286</td>\n",
              "    </tr>\n",
              "    <tr>\n",
              "      <th>2</th>\n",
              "      <td>12348</td>\n",
              "      <td>4.0</td>\n",
              "      <td>363.0</td>\n",
              "      <td>438.0</td>\n",
              "      <td>449.310000</td>\n",
              "    </tr>\n",
              "    <tr>\n",
              "      <th>3</th>\n",
              "      <td>12349</td>\n",
              "      <td>3.0</td>\n",
              "      <td>571.0</td>\n",
              "      <td>589.0</td>\n",
              "      <td>1120.056667</td>\n",
              "    </tr>\n",
              "    <tr>\n",
              "      <th>4</th>\n",
              "      <td>12350</td>\n",
              "      <td>0.0</td>\n",
              "      <td>0.0</td>\n",
              "      <td>310.0</td>\n",
              "      <td>0.000000</td>\n",
              "    </tr>\n",
              "  </tbody>\n",
              "</table>\n",
              "</div>\n",
              "      <button class=\"colab-df-convert\" onclick=\"convertToInteractive('df-034f41a7-6042-4b26-91f6-513c85d60e33')\"\n",
              "              title=\"Convert this dataframe to an interactive table.\"\n",
              "              style=\"display:none;\">\n",
              "        \n",
              "  <svg xmlns=\"http://www.w3.org/2000/svg\" height=\"24px\"viewBox=\"0 0 24 24\"\n",
              "       width=\"24px\">\n",
              "    <path d=\"M0 0h24v24H0V0z\" fill=\"none\"/>\n",
              "    <path d=\"M18.56 5.44l.94 2.06.94-2.06 2.06-.94-2.06-.94-.94-2.06-.94 2.06-2.06.94zm-11 1L8.5 8.5l.94-2.06 2.06-.94-2.06-.94L8.5 2.5l-.94 2.06-2.06.94zm10 10l.94 2.06.94-2.06 2.06-.94-2.06-.94-.94-2.06-.94 2.06-2.06.94z\"/><path d=\"M17.41 7.96l-1.37-1.37c-.4-.4-.92-.59-1.43-.59-.52 0-1.04.2-1.43.59L10.3 9.45l-7.72 7.72c-.78.78-.78 2.05 0 2.83L4 21.41c.39.39.9.59 1.41.59.51 0 1.02-.2 1.41-.59l7.78-7.78 2.81-2.81c.8-.78.8-2.07 0-2.86zM5.41 20L4 18.59l7.72-7.72 1.47 1.35L5.41 20z\"/>\n",
              "  </svg>\n",
              "      </button>\n",
              "      \n",
              "  <style>\n",
              "    .colab-df-container {\n",
              "      display:flex;\n",
              "      flex-wrap:wrap;\n",
              "      gap: 12px;\n",
              "    }\n",
              "\n",
              "    .colab-df-convert {\n",
              "      background-color: #E8F0FE;\n",
              "      border: none;\n",
              "      border-radius: 50%;\n",
              "      cursor: pointer;\n",
              "      display: none;\n",
              "      fill: #1967D2;\n",
              "      height: 32px;\n",
              "      padding: 0 0 0 0;\n",
              "      width: 32px;\n",
              "    }\n",
              "\n",
              "    .colab-df-convert:hover {\n",
              "      background-color: #E2EBFA;\n",
              "      box-shadow: 0px 1px 2px rgba(60, 64, 67, 0.3), 0px 1px 3px 1px rgba(60, 64, 67, 0.15);\n",
              "      fill: #174EA6;\n",
              "    }\n",
              "\n",
              "    [theme=dark] .colab-df-convert {\n",
              "      background-color: #3B4455;\n",
              "      fill: #D2E3FC;\n",
              "    }\n",
              "\n",
              "    [theme=dark] .colab-df-convert:hover {\n",
              "      background-color: #434B5C;\n",
              "      box-shadow: 0px 1px 3px 1px rgba(0, 0, 0, 0.15);\n",
              "      filter: drop-shadow(0px 1px 2px rgba(0, 0, 0, 0.3));\n",
              "      fill: #FFFFFF;\n",
              "    }\n",
              "  </style>\n",
              "\n",
              "      <script>\n",
              "        const buttonEl =\n",
              "          document.querySelector('#df-034f41a7-6042-4b26-91f6-513c85d60e33 button.colab-df-convert');\n",
              "        buttonEl.style.display =\n",
              "          google.colab.kernel.accessAllowed ? 'block' : 'none';\n",
              "\n",
              "        async function convertToInteractive(key) {\n",
              "          const element = document.querySelector('#df-034f41a7-6042-4b26-91f6-513c85d60e33');\n",
              "          const dataTable =\n",
              "            await google.colab.kernel.invokeFunction('convertToInteractive',\n",
              "                                                     [key], {});\n",
              "          if (!dataTable) return;\n",
              "\n",
              "          const docLinkHtml = 'Like what you see? Visit the ' +\n",
              "            '<a target=\"_blank\" href=https://colab.research.google.com/notebooks/data_table.ipynb>data table notebook</a>'\n",
              "            + ' to learn more about interactive tables.';\n",
              "          element.innerHTML = '';\n",
              "          dataTable['output_type'] = 'display_data';\n",
              "          await google.colab.output.renderOutput(dataTable, element);\n",
              "          const docLink = document.createElement('div');\n",
              "          docLink.innerHTML = docLinkHtml;\n",
              "          element.appendChild(docLink);\n",
              "        }\n",
              "      </script>\n",
              "    </div>\n",
              "  </div>\n",
              "  "
            ]
          },
          "metadata": {},
          "execution_count": 309
        }
      ]
    },
    {
      "cell_type": "markdown",
      "source": [
        "**Pareto/NBD Model**"
      ],
      "metadata": {
        "id": "iuv4vhI6g-6g"
      }
    },
    {
      "cell_type": "code",
      "source": [
        "def get_model(data, penalizer_val, time):\n",
        "    \n",
        "    pareto_result = data.copy()\n",
        "\n",
        "    pareto_model = ParetoNBDFitter(penalizer_coef = penalizer_val)\n",
        "    pareto_model.fit(pareto_result[\"frequency\"], pareto_result[\"recency\"], pareto_result[\"T\"])\n",
        "\n",
        "    #calculating the predicted_purchases\n",
        "\n",
        "    t = time\n",
        "\n",
        "    pareto_result[\"predicted_purchases\"] = pareto_model.conditional_expected_number_of_purchases_up_to_time(t, pareto_result[\"frequency\"], pareto_result[\"recency\"], pareto_result[\"T\"])\n",
        "\n",
        "\n",
        "    pareto_result[\"Actual_Purchases\"] = pareto_result[\"frequency\"]/pareto_result[\"recency\"]*time\n",
        "\n",
        "    #filling the null values\n",
        "    pareto_result[\"Actual_Purchases\"].fillna(0, inplace = True)\n",
        "\n",
        "\n",
        "    #calculating the error\n",
        "    pareto_result[\"Prediction_Error\"] = pareto_result[\"Actual_Purchases\"]-pareto_result[\"predicted_purchases\"]\n",
        "\n",
        "    #calcuating the purchase prediction error\n",
        "    pareto_mse_purchase = mean_squared_error(pareto_result[\"Actual_Purchases\"], pareto_result[\"predicted_purchases\"])\n",
        "    pareto_r2_purchase = r2_score(pareto_result[\"Actual_Purchases\"], pareto_result[\"predicted_purchases\"])\n",
        "    pareto_rmse_purchase = sqrt(mean_squared_error(pareto_result[\"Actual_Purchases\"], pareto_result[\"predicted_purchases\"]))\n",
        "    pareto_avg_error_purchase = pareto_result[\"Prediction_Error\"].mean()\n",
        "    \n",
        "    #printing the purchase prediction error\n",
        "    print(\"Predicted Purchase Mean Squared Error: %s\" %(pareto_mse_purchase))\n",
        "    print(\"Predicted Purchase R2 Score: %s\" %(pareto_r2_purchase))\n",
        "    print(\"Predicted Purchase Root Mean Squared Error: %s\" %(pareto_rmse_purchase))\n",
        "    print(\"Predicted Purchase Average Purchases Error: %s\" %(pareto_avg_error_purchase))\n",
        "    \n",
        "    \n",
        "    #plotting the prediction v/s actual purchase plot\n",
        "    plt.figure(figsize=(6,4))\n",
        "    plt.errorbar(pareto_result[\"Actual_Purchases\"], pareto_result[\"predicted_purchases\"], yerr=pareto_result[\"Prediction_Error\"], fmt='o', color='darkseagreen',\n",
        "                 ecolor='grey', elinewidth=1.5, capsize=0, alpha = 0.2);\n",
        "    plt.title(\"Prediction v/s Actual\")"
      ],
      "metadata": {
        "id": "jMQb76BKhEq7"
      },
      "execution_count": 310,
      "outputs": []
    },
    {
      "cell_type": "code",
      "source": [
        "get_model(rfm_summary, 0.001, 30)"
      ],
      "metadata": {
        "colab": {
          "base_uri": "https://localhost:8080/",
          "height": 350
        },
        "id": "pQtkdwfLhH_R",
        "outputId": "4df6f983-9342-4f5f-dad2-58b0ceb713a6"
      },
      "execution_count": 311,
      "outputs": [
        {
          "output_type": "stream",
          "name": "stdout",
          "text": [
            "Predicted Purchase Mean Squared Error: 2.2178054572100874\n",
            "Predicted Purchase R2 Score: 0.060510353555273455\n",
            "Predicted Purchase Root Mean Squared Error: 1.4892298201453285\n",
            "Predicted Purchase Average Purchases Error: 0.23184043664196166\n"
          ]
        },
        {
          "output_type": "display_data",
          "data": {
            "text/plain": [
              "<Figure size 432x288 with 1 Axes>"
            ],
            "image/png": "[encoded data removed]"
          },
          "metadata": {
            "needs_background": "light"
          }
        }
      ]
    },
    {
      "cell_type": "code",
      "source": [
        "pareto_model = lifetimes.ParetoNBDFitter(penalizer_coef = 0.1)"
      ],
      "metadata": {
        "id": "YKmCqo2ehKXG"
      },
      "execution_count": 312,
      "outputs": []
    },
    {
      "cell_type": "code",
      "source": [
        "pareto_model.fit(rfm_summary[\"frequency\"],rfm_summary[\"recency\"],\n",
        "                rfm_summary[\"T\"])"
      ],
      "metadata": {
        "colab": {
          "base_uri": "https://localhost:8080/"
        },
        "id": "saa07EC9hL2c",
        "outputId": "0f2ce4b1-4313-43c6-b4ae-9253bca1e356"
      },
      "execution_count": 313,
      "outputs": [
        {
          "output_type": "execute_result",
          "data": {
            "text/plain": [
              "<lifetimes.ParetoNBDFitter: fitted with 5878 subjects, alpha: 72.03, beta: 385.66, r: 0.74, s: 0.18>"
            ]
          },
          "metadata": {},
          "execution_count": 313
        }
      ]
    },
    {
      "cell_type": "code",
      "source": [
        "plt.figure(figsize=(10,6))\n",
        "plot_frequency_recency_matrix(pareto_model)"
      ],
      "metadata": {
        "colab": {
          "base_uri": "https://localhost:8080/",
          "height": 436
        },
        "id": "vUg8v7LNhO-m",
        "outputId": "df0f100f-4eae-4b6c-c351-2b4f318c2ba5"
      },
      "execution_count": 314,
      "outputs": [
        {
          "output_type": "execute_result",
          "data": {
            "text/plain": [
              "<matplotlib.axes._subplots.AxesSubplot at 0x7fc37a2f38d0>"
            ]
          },
          "metadata": {},
          "execution_count": 314
        },
        {
          "output_type": "display_data",
          "data": {
            "text/plain": [
              "<Figure size 720x432 with 2 Axes>"
            ],
            "image/png": "[encoded data removed]"
          },
          "metadata": {
            "needs_background": "light"
          }
        }
      ]
    },
    {
      "cell_type": "code",
      "source": [
        "plt.figure(figsize=(10,6))\n",
        "plot_probability_alive_matrix(pareto_model)"
      ],
      "metadata": {
        "colab": {
          "base_uri": "https://localhost:8080/",
          "height": 436
        },
        "id": "akDBIRZrhXFl",
        "outputId": "5547bc0f-bba4-4f86-9529-befdcc9a4f88"
      },
      "execution_count": 315,
      "outputs": [
        {
          "output_type": "execute_result",
          "data": {
            "text/plain": [
              "<matplotlib.axes._subplots.AxesSubplot at 0x7fc3775fef10>"
            ]
          },
          "metadata": {},
          "execution_count": 315
        },
        {
          "output_type": "display_data",
          "data": {
            "text/plain": [
              "<Figure size 720x432 with 2 Axes>"
            ],
            "image/png": "[encoded data removed]"
          },
          "metadata": {
            "needs_background": "light"
          }
        }
      ]
    },
    {
      "cell_type": "code",
      "source": [
        "pareto_result = rfm_summary.copy()"
      ],
      "metadata": {
        "id": "d-77tNt6hZfu"
      },
      "execution_count": 316,
      "outputs": []
    },
    {
      "cell_type": "code",
      "source": [
        "pareto_result[\"p_not_alive\"] = 1-pareto_model.conditional_probability_alive(pareto_result[\"frequency\"], pareto_result[\"recency\"], pareto_result[\"T\"])\n",
        "pareto_result[\"p_alive\"] = pareto_model.conditional_probability_alive(pareto_result[\"frequency\"], pareto_result[\"recency\"], pareto_result[\"T\"])"
      ],
      "metadata": {
        "id": "it9mWBAHhbz3"
      },
      "execution_count": 317,
      "outputs": []
    },
    {
      "cell_type": "code",
      "source": [
        "pareto_result.head()"
      ],
      "metadata": {
        "colab": {
          "base_uri": "https://localhost:8080/",
          "height": 206
        },
        "id": "Aen5J9piheJx",
        "outputId": "47b73545-d73f-40df-fee5-8416527ef8aa"
      },
      "execution_count": 318,
      "outputs": [
        {
          "output_type": "execute_result",
          "data": {
            "text/plain": [
              "   CustomerID  frequency  recency      T  monetary_value  p_not_alive  \\\n",
              "0       12346        7.0    401.0  726.0    11066.637143     0.465187   \n",
              "1       12347        7.0    402.0  404.0      615.714286     0.000467   \n",
              "2       12348        4.0    363.0  438.0      449.310000     0.025307   \n",
              "3       12349        3.0    571.0  589.0     1120.056667     0.003551   \n",
              "4       12350        0.0      0.0  310.0        0.000000     0.167712   \n",
              "\n",
              "    p_alive  \n",
              "0  0.534813  \n",
              "1  0.999533  \n",
              "2  0.974693  \n",
              "3  0.996449  \n",
              "4  0.832288  "
            ],
            "text/html": [
              "\n",
              "  <div id=\"df-190ae3de-b933-4ec9-a42f-82308231e972\">\n",
              "    <div class=\"colab-df-container\">\n",
              "      <div>\n",
              "<style scoped>\n",
              "    .dataframe tbody tr th:only-of-type {\n",
              "        vertical-align: middle;\n",
              "    }\n",
              "\n",
              "    .dataframe tbody tr th {\n",
              "        vertical-align: top;\n",
              "    }\n",
              "\n",
              "    .dataframe thead th {\n",
              "        text-align: right;\n",
              "    }\n",
              "</style>\n",
              "<table border=\"1\" class=\"dataframe\">\n",
              "  <thead>\n",
              "    <tr style=\"text-align: right;\">\n",
              "      <th></th>\n",
              "      <th>CustomerID</th>\n",
              "      <th>frequency</th>\n",
              "      <th>recency</th>\n",
              "      <th>T</th>\n",
              "      <th>monetary_value</th>\n",
              "      <th>p_not_alive</th>\n",
              "      <th>p_alive</th>\n",
              "    </tr>\n",
              "  </thead>\n",
              "  <tbody>\n",
              "    <tr>\n",
              "      <th>0</th>\n",
              "      <td>12346</td>\n",
              "      <td>7.0</td>\n",
              "      <td>401.0</td>\n",
              "      <td>726.0</td>\n",
              "      <td>11066.637143</td>\n",
              "      <td>0.465187</td>\n",
              "      <td>0.534813</td>\n",
              "    </tr>\n",
              "    <tr>\n",
              "      <th>1</th>\n",
              "      <td>12347</td>\n",
              "      <td>7.0</td>\n",
              "      <td>402.0</td>\n",
              "      <td>404.0</td>\n",
              "      <td>615.714286</td>\n",
              "      <td>0.000467</td>\n",
              "      <td>0.999533</td>\n",
              "    </tr>\n",
              "    <tr>\n",
              "      <th>2</th>\n",
              "      <td>12348</td>\n",
              "      <td>4.0</td>\n",
              "      <td>363.0</td>\n",
              "      <td>438.0</td>\n",
              "      <td>449.310000</td>\n",
              "      <td>0.025307</td>\n",
              "      <td>0.974693</td>\n",
              "    </tr>\n",
              "    <tr>\n",
              "      <th>3</th>\n",
              "      <td>12349</td>\n",
              "      <td>3.0</td>\n",
              "      <td>571.0</td>\n",
              "      <td>589.0</td>\n",
              "      <td>1120.056667</td>\n",
              "      <td>0.003551</td>\n",
              "      <td>0.996449</td>\n",
              "    </tr>\n",
              "    <tr>\n",
              "      <th>4</th>\n",
              "      <td>12350</td>\n",
              "      <td>0.0</td>\n",
              "      <td>0.0</td>\n",
              "      <td>310.0</td>\n",
              "      <td>0.000000</td>\n",
              "      <td>0.167712</td>\n",
              "      <td>0.832288</td>\n",
              "    </tr>\n",
              "  </tbody>\n",
              "</table>\n",
              "</div>\n",
              "      <button class=\"colab-df-convert\" onclick=\"convertToInteractive('df-190ae3de-b933-4ec9-a42f-82308231e972')\"\n",
              "              title=\"Convert this dataframe to an interactive table.\"\n",
              "              style=\"display:none;\">\n",
              "        \n",
              "  <svg xmlns=\"http://www.w3.org/2000/svg\" height=\"24px\"viewBox=\"0 0 24 24\"\n",
              "       width=\"24px\">\n",
              "    <path d=\"M0 0h24v24H0V0z\" fill=\"none\"/>\n",
              "    <path d=\"M18.56 5.44l.94 2.06.94-2.06 2.06-.94-2.06-.94-.94-2.06-.94 2.06-2.06.94zm-11 1L8.5 8.5l.94-2.06 2.06-.94-2.06-.94L8.5 2.5l-.94 2.06-2.06.94zm10 10l.94 2.06.94-2.06 2.06-.94-2.06-.94-.94-2.06-.94 2.06-2.06.94z\"/><path d=\"M17.41 7.96l-1.37-1.37c-.4-.4-.92-.59-1.43-.59-.52 0-1.04.2-1.43.59L10.3 9.45l-7.72 7.72c-.78.78-.78 2.05 0 2.83L4 21.41c.39.39.9.59 1.41.59.51 0 1.02-.2 1.41-.59l7.78-7.78 2.81-2.81c.8-.78.8-2.07 0-2.86zM5.41 20L4 18.59l7.72-7.72 1.47 1.35L5.41 20z\"/>\n",
              "  </svg>\n",
              "      </button>\n",
              "      \n",
              "  <style>\n",
              "    .colab-df-container {\n",
              "      display:flex;\n",
              "      flex-wrap:wrap;\n",
              "      gap: 12px;\n",
              "    }\n",
              "\n",
              "    .colab-df-convert {\n",
              "      background-color: #E8F0FE;\n",
              "      border: none;\n",
              "      border-radius: 50%;\n",
              "      cursor: pointer;\n",
              "      display: none;\n",
              "      fill: #1967D2;\n",
              "      height: 32px;\n",
              "      padding: 0 0 0 0;\n",
              "      width: 32px;\n",
              "    }\n",
              "\n",
              "    .colab-df-convert:hover {\n",
              "      background-color: #E2EBFA;\n",
              "      box-shadow: 0px 1px 2px rgba(60, 64, 67, 0.3), 0px 1px 3px 1px rgba(60, 64, 67, 0.15);\n",
              "      fill: #174EA6;\n",
              "    }\n",
              "\n",
              "    [theme=dark] .colab-df-convert {\n",
              "      background-color: #3B4455;\n",
              "      fill: #D2E3FC;\n",
              "    }\n",
              "\n",
              "    [theme=dark] .colab-df-convert:hover {\n",
              "      background-color: #434B5C;\n",
              "      box-shadow: 0px 1px 3px 1px rgba(0, 0, 0, 0.15);\n",
              "      filter: drop-shadow(0px 1px 2px rgba(0, 0, 0, 0.3));\n",
              "      fill: #FFFFFF;\n",
              "    }\n",
              "  </style>\n",
              "\n",
              "      <script>\n",
              "        const buttonEl =\n",
              "          document.querySelector('#df-190ae3de-b933-4ec9-a42f-82308231e972 button.colab-df-convert');\n",
              "        buttonEl.style.display =\n",
              "          google.colab.kernel.accessAllowed ? 'block' : 'none';\n",
              "\n",
              "        async function convertToInteractive(key) {\n",
              "          const element = document.querySelector('#df-190ae3de-b933-4ec9-a42f-82308231e972');\n",
              "          const dataTable =\n",
              "            await google.colab.kernel.invokeFunction('convertToInteractive',\n",
              "                                                     [key], {});\n",
              "          if (!dataTable) return;\n",
              "\n",
              "          const docLinkHtml = 'Like what you see? Visit the ' +\n",
              "            '<a target=\"_blank\" href=https://colab.research.google.com/notebooks/data_table.ipynb>data table notebook</a>'\n",
              "            + ' to learn more about interactive tables.';\n",
              "          element.innerHTML = '';\n",
              "          dataTable['output_type'] = 'display_data';\n",
              "          await google.colab.output.renderOutput(dataTable, element);\n",
              "          const docLink = document.createElement('div');\n",
              "          docLink.innerHTML = docLinkHtml;\n",
              "          element.appendChild(docLink);\n",
              "        }\n",
              "      </script>\n",
              "    </div>\n",
              "  </div>\n",
              "  "
            ]
          },
          "metadata": {},
          "execution_count": 318
        }
      ]
    },
    {
      "cell_type": "code",
      "source": [
        "t = 30\n",
        "pareto_result[\"predicted_purchases\"] = pareto_model.conditional_expected_number_of_purchases_up_to_time(t, pareto_result[\"frequency\"], pareto_result[\"recency\"], pareto_result[\"T\"])"
      ],
      "metadata": {
        "id": "GyTdDzyghhFE"
      },
      "execution_count": 319,
      "outputs": []
    },
    {
      "cell_type": "code",
      "source": [
        "pareto_result"
      ],
      "metadata": {
        "colab": {
          "base_uri": "https://localhost:8080/",
          "height": 424
        },
        "id": "_m6pa-IBhqv8",
        "outputId": "69f23ec3-e5b1-4055-8a3a-494fb1041b35"
      },
      "execution_count": 320,
      "outputs": [
        {
          "output_type": "execute_result",
          "data": {
            "text/plain": [
              "      CustomerID  frequency  recency      T  monetary_value  p_not_alive  \\\n",
              "0          12346        7.0    401.0  726.0    11066.637143     0.465187   \n",
              "1          12347        7.0    402.0  404.0      615.714286     0.000467   \n",
              "2          12348        4.0    363.0  438.0      449.310000     0.025307   \n",
              "3          12349        3.0    571.0  589.0     1120.056667     0.003551   \n",
              "4          12350        0.0      0.0  310.0        0.000000     0.167712   \n",
              "...          ...        ...      ...    ...             ...          ...   \n",
              "5873       18283       18.0    656.0  659.0      142.666667     0.000541   \n",
              "5874       18284        0.0      0.0  431.0        0.000000     0.222904   \n",
              "5875       18285        0.0      0.0  661.0        0.000000     0.309941   \n",
              "5876       18286        1.0    248.0  724.0      833.480000     0.201957   \n",
              "5877       18287        5.0    529.0  571.0      622.276000     0.009873   \n",
              "\n",
              "       p_alive  predicted_purchases  \n",
              "0     0.534813             0.155209  \n",
              "1     0.999533             0.485818  \n",
              "2     0.974693             0.270791  \n",
              "3     0.996449             0.168606  \n",
              "4     0.832288             0.048093  \n",
              "...        ...                  ...  \n",
              "5873  0.999459             0.766602  \n",
              "5874  0.777096             0.034122  \n",
              "5875  0.690059             0.020808  \n",
              "5876  0.798043             0.052165  \n",
              "5877  0.990127             0.264345  \n",
              "\n",
              "[5878 rows x 8 columns]"
            ],
            "text/html": [
              "\n",
              "  <div id=\"df-0f453569-ca9c-4271-ab05-2f2479c969b5\">\n",
              "    <div class=\"colab-df-container\">\n",
              "      <div>\n",
              "<style scoped>\n",
              "    .dataframe tbody tr th:only-of-type {\n",
              "        vertical-align: middle;\n",
              "    }\n",
              "\n",
              "    .dataframe tbody tr th {\n",
              "        vertical-align: top;\n",
              "    }\n",
              "\n",
              "    .dataframe thead th {\n",
              "        text-align: right;\n",
              "    }\n",
              "</style>\n",
              "<table border=\"1\" class=\"dataframe\">\n",
              "  <thead>\n",
              "    <tr style=\"text-align: right;\">\n",
              "      <th></th>\n",
              "      <th>CustomerID</th>\n",
              "      <th>frequency</th>\n",
              "      <th>recency</th>\n",
              "      <th>T</th>\n",
              "      <th>monetary_value</th>\n",
              "      <th>p_not_alive</th>\n",
              "      <th>p_alive</th>\n",
              "      <th>predicted_purchases</th>\n",
              "    </tr>\n",
              "  </thead>\n",
              "  <tbody>\n",
              "    <tr>\n",
              "      <th>0</th>\n",
              "      <td>12346</td>\n",
              "      <td>7.0</td>\n",
              "      <td>401.0</td>\n",
              "      <td>726.0</td>\n",
              "      <td>11066.637143</td>\n",
              "      <td>0.465187</td>\n",
              "      <td>0.534813</td>\n",
              "      <td>0.155209</td>\n",
              "    </tr>\n",
              "    <tr>\n",
              "      <th>1</th>\n",
              "      <td>12347</td>\n",
              "      <td>7.0</td>\n",
              "      <td>402.0</td>\n",
              "      <td>404.0</td>\n",
              "      <td>615.714286</td>\n",
              "      <td>0.000467</td>\n",
              "      <td>0.999533</td>\n",
              "      <td>0.485818</td>\n",
              "    </tr>\n",
              "    <tr>\n",
              "      <th>2</th>\n",
              "      <td>12348</td>\n",
              "      <td>4.0</td>\n",
              "      <td>363.0</td>\n",
              "      <td>438.0</td>\n",
              "      <td>449.310000</td>\n",
              "      <td>0.025307</td>\n",
              "      <td>0.974693</td>\n",
              "      <td>0.270791</td>\n",
              "    </tr>\n",
              "    <tr>\n",
              "      <th>3</th>\n",
              "      <td>12349</td>\n",
              "      <td>3.0</td>\n",
              "      <td>571.0</td>\n",
              "      <td>589.0</td>\n",
              "      <td>1120.056667</td>\n",
              "      <td>0.003551</td>\n",
              "      <td>0.996449</td>\n",
              "      <td>0.168606</td>\n",
              "    </tr>\n",
              "    <tr>\n",
              "      <th>4</th>\n",
              "      <td>12350</td>\n",
              "      <td>0.0</td>\n",
              "      <td>0.0</td>\n",
              "      <td>310.0</td>\n",
              "      <td>0.000000</td>\n",
              "      <td>0.167712</td>\n",
              "      <td>0.832288</td>\n",
              "      <td>0.048093</td>\n",
              "    </tr>\n",
              "    <tr>\n",
              "      <th>...</th>\n",
              "      <td>...</td>\n",
              "      <td>...</td>\n",
              "      <td>...</td>\n",
              "      <td>...</td>\n",
              "      <td>...</td>\n",
              "      <td>...</td>\n",
              "      <td>...</td>\n",
              "      <td>...</td>\n",
              "    </tr>\n",
              "    <tr>\n",
              "      <th>5873</th>\n",
              "      <td>18283</td>\n",
              "      <td>18.0</td>\n",
              "      <td>656.0</td>\n",
              "      <td>659.0</td>\n",
              "      <td>142.666667</td>\n",
              "      <td>0.000541</td>\n",
              "      <td>0.999459</td>\n",
              "      <td>0.766602</td>\n",
              "    </tr>\n",
              "    <tr>\n",
              "      <th>5874</th>\n",
              "      <td>18284</td>\n",
              "      <td>0.0</td>\n",
              "      <td>0.0</td>\n",
              "      <td>431.0</td>\n",
              "      <td>0.000000</td>\n",
              "      <td>0.222904</td>\n",
              "      <td>0.777096</td>\n",
              "      <td>0.034122</td>\n",
              "    </tr>\n",
              "    <tr>\n",
              "      <th>5875</th>\n",
              "      <td>18285</td>\n",
              "      <td>0.0</td>\n",
              "      <td>0.0</td>\n",
              "      <td>661.0</td>\n",
              "      <td>0.000000</td>\n",
              "      <td>0.309941</td>\n",
              "      <td>0.690059</td>\n",
              "      <td>0.020808</td>\n",
              "    </tr>\n",
              "    <tr>\n",
              "      <th>5876</th>\n",
              "      <td>18286</td>\n",
              "      <td>1.0</td>\n",
              "      <td>248.0</td>\n",
              "      <td>724.0</td>\n",
              "      <td>833.480000</td>\n",
              "      <td>0.201957</td>\n",
              "      <td>0.798043</td>\n",
              "      <td>0.052165</td>\n",
              "    </tr>\n",
              "    <tr>\n",
              "      <th>5877</th>\n",
              "      <td>18287</td>\n",
              "      <td>5.0</td>\n",
              "      <td>529.0</td>\n",
              "      <td>571.0</td>\n",
              "      <td>622.276000</td>\n",
              "      <td>0.009873</td>\n",
              "      <td>0.990127</td>\n",
              "      <td>0.264345</td>\n",
              "    </tr>\n",
              "  </tbody>\n",
              "</table>\n",
              "<p>5878 rows × 8 columns</p>\n",
              "</div>\n",
              "      <button class=\"colab-df-convert\" onclick=\"convertToInteractive('df-0f453569-ca9c-4271-ab05-2f2479c969b5')\"\n",
              "              title=\"Convert this dataframe to an interactive table.\"\n",
              "              style=\"display:none;\">\n",
              "        \n",
              "  <svg xmlns=\"http://www.w3.org/2000/svg\" height=\"24px\"viewBox=\"0 0 24 24\"\n",
              "       width=\"24px\">\n",
              "    <path d=\"M0 0h24v24H0V0z\" fill=\"none\"/>\n",
              "    <path d=\"M18.56 5.44l.94 2.06.94-2.06 2.06-.94-2.06-.94-.94-2.06-.94 2.06-2.06.94zm-11 1L8.5 8.5l.94-2.06 2.06-.94-2.06-.94L8.5 2.5l-.94 2.06-2.06.94zm10 10l.94 2.06.94-2.06 2.06-.94-2.06-.94-.94-2.06-.94 2.06-2.06.94z\"/><path d=\"M17.41 7.96l-1.37-1.37c-.4-.4-.92-.59-1.43-.59-.52 0-1.04.2-1.43.59L10.3 9.45l-7.72 7.72c-.78.78-.78 2.05 0 2.83L4 21.41c.39.39.9.59 1.41.59.51 0 1.02-.2 1.41-.59l7.78-7.78 2.81-2.81c.8-.78.8-2.07 0-2.86zM5.41 20L4 18.59l7.72-7.72 1.47 1.35L5.41 20z\"/>\n",
              "  </svg>\n",
              "      </button>\n",
              "      \n",
              "  <style>\n",
              "    .colab-df-container {\n",
              "      display:flex;\n",
              "      flex-wrap:wrap;\n",
              "      gap: 12px;\n",
              "    }\n",
              "\n",
              "    .colab-df-convert {\n",
              "      background-color: #E8F0FE;\n",
              "      border: none;\n",
              "      border-radius: 50%;\n",
              "      cursor: pointer;\n",
              "      display: none;\n",
              "      fill: #1967D2;\n",
              "      height: 32px;\n",
              "      padding: 0 0 0 0;\n",
              "      width: 32px;\n",
              "    }\n",
              "\n",
              "    .colab-df-convert:hover {\n",
              "      background-color: #E2EBFA;\n",
              "      box-shadow: 0px 1px 2px rgba(60, 64, 67, 0.3), 0px 1px 3px 1px rgba(60, 64, 67, 0.15);\n",
              "      fill: #174EA6;\n",
              "    }\n",
              "\n",
              "    [theme=dark] .colab-df-convert {\n",
              "      background-color: #3B4455;\n",
              "      fill: #D2E3FC;\n",
              "    }\n",
              "\n",
              "    [theme=dark] .colab-df-convert:hover {\n",
              "      background-color: #434B5C;\n",
              "      box-shadow: 0px 1px 3px 1px rgba(0, 0, 0, 0.15);\n",
              "      filter: drop-shadow(0px 1px 2px rgba(0, 0, 0, 0.3));\n",
              "      fill: #FFFFFF;\n",
              "    }\n",
              "  </style>\n",
              "\n",
              "      <script>\n",
              "        const buttonEl =\n",
              "          document.querySelector('#df-0f453569-ca9c-4271-ab05-2f2479c969b5 button.colab-df-convert');\n",
              "        buttonEl.style.display =\n",
              "          google.colab.kernel.accessAllowed ? 'block' : 'none';\n",
              "\n",
              "        async function convertToInteractive(key) {\n",
              "          const element = document.querySelector('#df-0f453569-ca9c-4271-ab05-2f2479c969b5');\n",
              "          const dataTable =\n",
              "            await google.colab.kernel.invokeFunction('convertToInteractive',\n",
              "                                                     [key], {});\n",
              "          if (!dataTable) return;\n",
              "\n",
              "          const docLinkHtml = 'Like what you see? Visit the ' +\n",
              "            '<a target=\"_blank\" href=https://colab.research.google.com/notebooks/data_table.ipynb>data table notebook</a>'\n",
              "            + ' to learn more about interactive tables.';\n",
              "          element.innerHTML = '';\n",
              "          dataTable['output_type'] = 'display_data';\n",
              "          await google.colab.output.renderOutput(dataTable, element);\n",
              "          const docLink = document.createElement('div');\n",
              "          docLink.innerHTML = docLinkHtml;\n",
              "          element.appendChild(docLink);\n",
              "        }\n",
              "      </script>\n",
              "    </div>\n",
              "  </div>\n",
              "  "
            ]
          },
          "metadata": {},
          "execution_count": 320
        }
      ]
    },
    {
      "cell_type": "code",
      "source": [
        "plot_period_transactions(pareto_model)"
      ],
      "metadata": {
        "colab": {
          "base_uri": "https://localhost:8080/",
          "height": 309
        },
        "id": "Y19afL0fhsKc",
        "outputId": "260768c4-207e-4fa2-ad70-0532f332996b"
      },
      "execution_count": 321,
      "outputs": [
        {
          "output_type": "execute_result",
          "data": {
            "text/plain": [
              "<matplotlib.axes._subplots.AxesSubplot at 0x7fc373507610>"
            ]
          },
          "metadata": {},
          "execution_count": 321
        },
        {
          "output_type": "display_data",
          "data": {
            "text/plain": [
              "<Figure size 432x288 with 1 Axes>"
            ],
            "image/png": "[encoded data removed]"
          },
          "metadata": {
            "needs_background": "light"
          }
        }
      ]
    },
    {
      "cell_type": "code",
      "source": [
        "#dividing our dataset into training & holdout\n",
        "pareto_summary_cal_holdout = calibration_and_holdout_data(data, \"CustomerID\", \"InvoiceDate\", \n",
        "                                                   calibration_period_end = '2021-06-08',\n",
        "                                                  observation_period_end = '2021-12-09')"
      ],
      "metadata": {
        "id": "pP7FMrpJhtkR"
      },
      "execution_count": 322,
      "outputs": []
    },
    {
      "cell_type": "code",
      "source": [
        "pareto_summary_cal_holdout.head()"
      ],
      "metadata": {
        "colab": {
          "base_uri": "https://localhost:8080/",
          "height": 238
        },
        "id": "SITA9iL1hv5G",
        "outputId": "b054b013-3cef-4c73-b647-cc9d0902776e"
      },
      "execution_count": 323,
      "outputs": [
        {
          "output_type": "execute_result",
          "data": {
            "text/plain": [
              "            frequency_cal  recency_cal  T_cal  frequency_holdout  \\\n",
              "CustomerID                                                         \n",
              "12346                 7.0        401.0  542.0                0.0   \n",
              "12347                 3.0        158.0  220.0                4.0   \n",
              "12348                 3.0        190.0  254.0                1.0   \n",
              "12349                 2.0        182.0  405.0                1.0   \n",
              "12350                 0.0          0.0  126.0                0.0   \n",
              "\n",
              "            duration_holdout  \n",
              "CustomerID                    \n",
              "12346                  184.0  \n",
              "12347                  184.0  \n",
              "12348                  184.0  \n",
              "12349                  184.0  \n",
              "12350                  184.0  "
            ],
            "text/html": [
              "\n",
              "  <div id=\"df-315d064d-d22b-45c6-bb2a-77328ea501f7\">\n",
              "    <div class=\"colab-df-container\">\n",
              "      <div>\n",
              "<style scoped>\n",
              "    .dataframe tbody tr th:only-of-type {\n",
              "        vertical-align: middle;\n",
              "    }\n",
              "\n",
              "    .dataframe tbody tr th {\n",
              "        vertical-align: top;\n",
              "    }\n",
              "\n",
              "    .dataframe thead th {\n",
              "        text-align: right;\n",
              "    }\n",
              "</style>\n",
              "<table border=\"1\" class=\"dataframe\">\n",
              "  <thead>\n",
              "    <tr style=\"text-align: right;\">\n",
              "      <th></th>\n",
              "      <th>frequency_cal</th>\n",
              "      <th>recency_cal</th>\n",
              "      <th>T_cal</th>\n",
              "      <th>frequency_holdout</th>\n",
              "      <th>duration_holdout</th>\n",
              "    </tr>\n",
              "    <tr>\n",
              "      <th>CustomerID</th>\n",
              "      <th></th>\n",
              "      <th></th>\n",
              "      <th></th>\n",
              "      <th></th>\n",
              "      <th></th>\n",
              "    </tr>\n",
              "  </thead>\n",
              "  <tbody>\n",
              "    <tr>\n",
              "      <th>12346</th>\n",
              "      <td>7.0</td>\n",
              "      <td>401.0</td>\n",
              "      <td>542.0</td>\n",
              "      <td>0.0</td>\n",
              "      <td>184.0</td>\n",
              "    </tr>\n",
              "    <tr>\n",
              "      <th>12347</th>\n",
              "      <td>3.0</td>\n",
              "      <td>158.0</td>\n",
              "      <td>220.0</td>\n",
              "      <td>4.0</td>\n",
              "      <td>184.0</td>\n",
              "    </tr>\n",
              "    <tr>\n",
              "      <th>12348</th>\n",
              "      <td>3.0</td>\n",
              "      <td>190.0</td>\n",
              "      <td>254.0</td>\n",
              "      <td>1.0</td>\n",
              "      <td>184.0</td>\n",
              "    </tr>\n",
              "    <tr>\n",
              "      <th>12349</th>\n",
              "      <td>2.0</td>\n",
              "      <td>182.0</td>\n",
              "      <td>405.0</td>\n",
              "      <td>1.0</td>\n",
              "      <td>184.0</td>\n",
              "    </tr>\n",
              "    <tr>\n",
              "      <th>12350</th>\n",
              "      <td>0.0</td>\n",
              "      <td>0.0</td>\n",
              "      <td>126.0</td>\n",
              "      <td>0.0</td>\n",
              "      <td>184.0</td>\n",
              "    </tr>\n",
              "  </tbody>\n",
              "</table>\n",
              "</div>\n",
              "      <button class=\"colab-df-convert\" onclick=\"convertToInteractive('df-315d064d-d22b-45c6-bb2a-77328ea501f7')\"\n",
              "              title=\"Convert this dataframe to an interactive table.\"\n",
              "              style=\"display:none;\">\n",
              "        \n",
              "  <svg xmlns=\"http://www.w3.org/2000/svg\" height=\"24px\"viewBox=\"0 0 24 24\"\n",
              "       width=\"24px\">\n",
              "    <path d=\"M0 0h24v24H0V0z\" fill=\"none\"/>\n",
              "    <path d=\"M18.56 5.44l.94 2.06.94-2.06 2.06-.94-2.06-.94-.94-2.06-.94 2.06-2.06.94zm-11 1L8.5 8.5l.94-2.06 2.06-.94-2.06-.94L8.5 2.5l-.94 2.06-2.06.94zm10 10l.94 2.06.94-2.06 2.06-.94-2.06-.94-.94-2.06-.94 2.06-2.06.94z\"/><path d=\"M17.41 7.96l-1.37-1.37c-.4-.4-.92-.59-1.43-.59-.52 0-1.04.2-1.43.59L10.3 9.45l-7.72 7.72c-.78.78-.78 2.05 0 2.83L4 21.41c.39.39.9.59 1.41.59.51 0 1.02-.2 1.41-.59l7.78-7.78 2.81-2.81c.8-.78.8-2.07 0-2.86zM5.41 20L4 18.59l7.72-7.72 1.47 1.35L5.41 20z\"/>\n",
              "  </svg>\n",
              "      </button>\n",
              "      \n",
              "  <style>\n",
              "    .colab-df-container {\n",
              "      display:flex;\n",
              "      flex-wrap:wrap;\n",
              "      gap: 12px;\n",
              "    }\n",
              "\n",
              "    .colab-df-convert {\n",
              "      background-color: #E8F0FE;\n",
              "      border: none;\n",
              "      border-radius: 50%;\n",
              "      cursor: pointer;\n",
              "      display: none;\n",
              "      fill: #1967D2;\n",
              "      height: 32px;\n",
              "      padding: 0 0 0 0;\n",
              "      width: 32px;\n",
              "    }\n",
              "\n",
              "    .colab-df-convert:hover {\n",
              "      background-color: #E2EBFA;\n",
              "      box-shadow: 0px 1px 2px rgba(60, 64, 67, 0.3), 0px 1px 3px 1px rgba(60, 64, 67, 0.15);\n",
              "      fill: #174EA6;\n",
              "    }\n",
              "\n",
              "    [theme=dark] .colab-df-convert {\n",
              "      background-color: #3B4455;\n",
              "      fill: #D2E3FC;\n",
              "    }\n",
              "\n",
              "    [theme=dark] .colab-df-convert:hover {\n",
              "      background-color: #434B5C;\n",
              "      box-shadow: 0px 1px 3px 1px rgba(0, 0, 0, 0.15);\n",
              "      filter: drop-shadow(0px 1px 2px rgba(0, 0, 0, 0.3));\n",
              "      fill: #FFFFFF;\n",
              "    }\n",
              "  </style>\n",
              "\n",
              "      <script>\n",
              "        const buttonEl =\n",
              "          document.querySelector('#df-315d064d-d22b-45c6-bb2a-77328ea501f7 button.colab-df-convert');\n",
              "        buttonEl.style.display =\n",
              "          google.colab.kernel.accessAllowed ? 'block' : 'none';\n",
              "\n",
              "        async function convertToInteractive(key) {\n",
              "          const element = document.querySelector('#df-315d064d-d22b-45c6-bb2a-77328ea501f7');\n",
              "          const dataTable =\n",
              "            await google.colab.kernel.invokeFunction('convertToInteractive',\n",
              "                                                     [key], {});\n",
              "          if (!dataTable) return;\n",
              "\n",
              "          const docLinkHtml = 'Like what you see? Visit the ' +\n",
              "            '<a target=\"_blank\" href=https://colab.research.google.com/notebooks/data_table.ipynb>data table notebook</a>'\n",
              "            + ' to learn more about interactive tables.';\n",
              "          element.innerHTML = '';\n",
              "          dataTable['output_type'] = 'display_data';\n",
              "          await google.colab.output.renderOutput(dataTable, element);\n",
              "          const docLink = document.createElement('div');\n",
              "          docLink.innerHTML = docLinkHtml;\n",
              "          element.appendChild(docLink);\n",
              "        }\n",
              "      </script>\n",
              "    </div>\n",
              "  </div>\n",
              "  "
            ]
          },
          "metadata": {},
          "execution_count": 323
        }
      ]
    },
    {
      "cell_type": "code",
      "source": [
        "pareto_model.fit(pareto_summary_cal_holdout[\"frequency_cal\"],\n",
        "               pareto_summary_cal_holdout[\"recency_cal\"],\n",
        "               pareto_summary_cal_holdout[\"T_cal\"])"
      ],
      "metadata": {
        "colab": {
          "base_uri": "https://localhost:8080/"
        },
        "id": "NsNm0O_uhxXg",
        "outputId": "2d9a3810-0ebc-4648-e7e7-099f5c48bb11"
      },
      "execution_count": 324,
      "outputs": [
        {
          "output_type": "execute_result",
          "data": {
            "text/plain": [
              "<lifetimes.ParetoNBDFitter: fitted with 4966 subjects, alpha: 74.34, beta: 1657.15, r: 0.74, s: 0.69>"
            ]
          },
          "metadata": {},
          "execution_count": 324
        }
      ]
    },
    {
      "cell_type": "code",
      "source": [
        "plot_calibration_purchases_vs_holdout_purchases(pareto_model, pareto_summary_cal_holdout)"
      ],
      "metadata": {
        "colab": {
          "base_uri": "https://localhost:8080/",
          "height": 312
        },
        "id": "xW4M29uch1ce",
        "outputId": "57abffb4-ec37-4bd0-920a-43c1dd325707"
      },
      "execution_count": 325,
      "outputs": [
        {
          "output_type": "execute_result",
          "data": {
            "text/plain": [
              "<matplotlib.axes._subplots.AxesSubplot at 0x7fc37c049e10>"
            ]
          },
          "metadata": {},
          "execution_count": 325
        },
        {
          "output_type": "display_data",
          "data": {
            "text/plain": [
              "<Figure size 432x288 with 1 Axes>"
            ],
            "image/png": "[encoded data removed]"
          },
          "metadata": {
            "needs_background": "light"
          }
        }
      ]
    },
    {
      "cell_type": "code",
      "source": [
        "pareto_summary_cal_holdout.head()"
      ],
      "metadata": {
        "colab": {
          "base_uri": "https://localhost:8080/",
          "height": 238
        },
        "id": "9bYUgkg_h270",
        "outputId": "8862e805-7bb6-406d-998c-0a3d905e6605"
      },
      "execution_count": 326,
      "outputs": [
        {
          "output_type": "execute_result",
          "data": {
            "text/plain": [
              "            frequency_cal  recency_cal  T_cal  frequency_holdout  \\\n",
              "CustomerID                                                         \n",
              "12346                 7.0        401.0  542.0                0.0   \n",
              "12347                 3.0        158.0  220.0                4.0   \n",
              "12348                 3.0        190.0  254.0                1.0   \n",
              "12349                 2.0        182.0  405.0                1.0   \n",
              "12350                 0.0          0.0  126.0                0.0   \n",
              "\n",
              "            duration_holdout  \n",
              "CustomerID                    \n",
              "12346                  184.0  \n",
              "12347                  184.0  \n",
              "12348                  184.0  \n",
              "12349                  184.0  \n",
              "12350                  184.0  "
            ],
            "text/html": [
              "\n",
              "  <div id=\"df-89a3095f-aa5c-48ef-9441-9405095f7fa0\">\n",
              "    <div class=\"colab-df-container\">\n",
              "      <div>\n",
              "<style scoped>\n",
              "    .dataframe tbody tr th:only-of-type {\n",
              "        vertical-align: middle;\n",
              "    }\n",
              "\n",
              "    .dataframe tbody tr th {\n",
              "        vertical-align: top;\n",
              "    }\n",
              "\n",
              "    .dataframe thead th {\n",
              "        text-align: right;\n",
              "    }\n",
              "</style>\n",
              "<table border=\"1\" class=\"dataframe\">\n",
              "  <thead>\n",
              "    <tr style=\"text-align: right;\">\n",
              "      <th></th>\n",
              "      <th>frequency_cal</th>\n",
              "      <th>recency_cal</th>\n",
              "      <th>T_cal</th>\n",
              "      <th>frequency_holdout</th>\n",
              "      <th>duration_holdout</th>\n",
              "    </tr>\n",
              "    <tr>\n",
              "      <th>CustomerID</th>\n",
              "      <th></th>\n",
              "      <th></th>\n",
              "      <th></th>\n",
              "      <th></th>\n",
              "      <th></th>\n",
              "    </tr>\n",
              "  </thead>\n",
              "  <tbody>\n",
              "    <tr>\n",
              "      <th>12346</th>\n",
              "      <td>7.0</td>\n",
              "      <td>401.0</td>\n",
              "      <td>542.0</td>\n",
              "      <td>0.0</td>\n",
              "      <td>184.0</td>\n",
              "    </tr>\n",
              "    <tr>\n",
              "      <th>12347</th>\n",
              "      <td>3.0</td>\n",
              "      <td>158.0</td>\n",
              "      <td>220.0</td>\n",
              "      <td>4.0</td>\n",
              "      <td>184.0</td>\n",
              "    </tr>\n",
              "    <tr>\n",
              "      <th>12348</th>\n",
              "      <td>3.0</td>\n",
              "      <td>190.0</td>\n",
              "      <td>254.0</td>\n",
              "      <td>1.0</td>\n",
              "      <td>184.0</td>\n",
              "    </tr>\n",
              "    <tr>\n",
              "      <th>12349</th>\n",
              "      <td>2.0</td>\n",
              "      <td>182.0</td>\n",
              "      <td>405.0</td>\n",
              "      <td>1.0</td>\n",
              "      <td>184.0</td>\n",
              "    </tr>\n",
              "    <tr>\n",
              "      <th>12350</th>\n",
              "      <td>0.0</td>\n",
              "      <td>0.0</td>\n",
              "      <td>126.0</td>\n",
              "      <td>0.0</td>\n",
              "      <td>184.0</td>\n",
              "    </tr>\n",
              "  </tbody>\n",
              "</table>\n",
              "</div>\n",
              "      <button class=\"colab-df-convert\" onclick=\"convertToInteractive('df-89a3095f-aa5c-48ef-9441-9405095f7fa0')\"\n",
              "              title=\"Convert this dataframe to an interactive table.\"\n",
              "              style=\"display:none;\">\n",
              "        \n",
              "  <svg xmlns=\"http://www.w3.org/2000/svg\" height=\"24px\"viewBox=\"0 0 24 24\"\n",
              "       width=\"24px\">\n",
              "    <path d=\"M0 0h24v24H0V0z\" fill=\"none\"/>\n",
              "    <path d=\"M18.56 5.44l.94 2.06.94-2.06 2.06-.94-2.06-.94-.94-2.06-.94 2.06-2.06.94zm-11 1L8.5 8.5l.94-2.06 2.06-.94-2.06-.94L8.5 2.5l-.94 2.06-2.06.94zm10 10l.94 2.06.94-2.06 2.06-.94-2.06-.94-.94-2.06-.94 2.06-2.06.94z\"/><path d=\"M17.41 7.96l-1.37-1.37c-.4-.4-.92-.59-1.43-.59-.52 0-1.04.2-1.43.59L10.3 9.45l-7.72 7.72c-.78.78-.78 2.05 0 2.83L4 21.41c.39.39.9.59 1.41.59.51 0 1.02-.2 1.41-.59l7.78-7.78 2.81-2.81c.8-.78.8-2.07 0-2.86zM5.41 20L4 18.59l7.72-7.72 1.47 1.35L5.41 20z\"/>\n",
              "  </svg>\n",
              "      </button>\n",
              "      \n",
              "  <style>\n",
              "    .colab-df-container {\n",
              "      display:flex;\n",
              "      flex-wrap:wrap;\n",
              "      gap: 12px;\n",
              "    }\n",
              "\n",
              "    .colab-df-convert {\n",
              "      background-color: #E8F0FE;\n",
              "      border: none;\n",
              "      border-radius: 50%;\n",
              "      cursor: pointer;\n",
              "      display: none;\n",
              "      fill: #1967D2;\n",
              "      height: 32px;\n",
              "      padding: 0 0 0 0;\n",
              "      width: 32px;\n",
              "    }\n",
              "\n",
              "    .colab-df-convert:hover {\n",
              "      background-color: #E2EBFA;\n",
              "      box-shadow: 0px 1px 2px rgba(60, 64, 67, 0.3), 0px 1px 3px 1px rgba(60, 64, 67, 0.15);\n",
              "      fill: #174EA6;\n",
              "    }\n",
              "\n",
              "    [theme=dark] .colab-df-convert {\n",
              "      background-color: #3B4455;\n",
              "      fill: #D2E3FC;\n",
              "    }\n",
              "\n",
              "    [theme=dark] .colab-df-convert:hover {\n",
              "      background-color: #434B5C;\n",
              "      box-shadow: 0px 1px 3px 1px rgba(0, 0, 0, 0.15);\n",
              "      filter: drop-shadow(0px 1px 2px rgba(0, 0, 0, 0.3));\n",
              "      fill: #FFFFFF;\n",
              "    }\n",
              "  </style>\n",
              "\n",
              "      <script>\n",
              "        const buttonEl =\n",
              "          document.querySelector('#df-89a3095f-aa5c-48ef-9441-9405095f7fa0 button.colab-df-convert');\n",
              "        buttonEl.style.display =\n",
              "          google.colab.kernel.accessAllowed ? 'block' : 'none';\n",
              "\n",
              "        async function convertToInteractive(key) {\n",
              "          const element = document.querySelector('#df-89a3095f-aa5c-48ef-9441-9405095f7fa0');\n",
              "          const dataTable =\n",
              "            await google.colab.kernel.invokeFunction('convertToInteractive',\n",
              "                                                     [key], {});\n",
              "          if (!dataTable) return;\n",
              "\n",
              "          const docLinkHtml = 'Like what you see? Visit the ' +\n",
              "            '<a target=\"_blank\" href=https://colab.research.google.com/notebooks/data_table.ipynb>data table notebook</a>'\n",
              "            + ' to learn more about interactive tables.';\n",
              "          element.innerHTML = '';\n",
              "          dataTable['output_type'] = 'display_data';\n",
              "          await google.colab.output.renderOutput(dataTable, element);\n",
              "          const docLink = document.createElement('div');\n",
              "          docLink.innerHTML = docLinkHtml;\n",
              "          element.appendChild(docLink);\n",
              "        }\n",
              "      </script>\n",
              "    </div>\n",
              "  </div>\n",
              "  "
            ]
          },
          "metadata": {},
          "execution_count": 326
        }
      ]
    },
    {
      "cell_type": "code",
      "source": [
        "pareto_result[\"actual30\"] = pareto_result[\"frequency\"]/pareto_result[\"recency\"]*30"
      ],
      "metadata": {
        "id": "IE02msbSh46X"
      },
      "execution_count": 327,
      "outputs": []
    },
    {
      "cell_type": "code",
      "source": [
        "pareto_result[\"actual30\"].fillna(0, inplace = True)"
      ],
      "metadata": {
        "id": "EOg1cuooh6yJ"
      },
      "execution_count": 328,
      "outputs": []
    },
    {
      "cell_type": "code",
      "source": [
        "pareto_result[\"error\"] = pareto_result[\"actual30\"]-pareto_result[\"predicted_purchases\"]"
      ],
      "metadata": {
        "id": "DiRcf39ch8Nc"
      },
      "execution_count": 329,
      "outputs": []
    },
    {
      "cell_type": "code",
      "source": [
        "pareto_result.head()"
      ],
      "metadata": {
        "colab": {
          "base_uri": "https://localhost:8080/",
          "height": 206
        },
        "id": "TVM04TkGh-Fy",
        "outputId": "044d18d4-d78c-4eba-d2b0-78daaf6e6e8c"
      },
      "execution_count": 330,
      "outputs": [
        {
          "output_type": "execute_result",
          "data": {
            "text/plain": [
              "   CustomerID  frequency  recency      T  monetary_value  p_not_alive  \\\n",
              "0       12346        7.0    401.0  726.0    11066.637143     0.465187   \n",
              "1       12347        7.0    402.0  404.0      615.714286     0.000467   \n",
              "2       12348        4.0    363.0  438.0      449.310000     0.025307   \n",
              "3       12349        3.0    571.0  589.0     1120.056667     0.003551   \n",
              "4       12350        0.0      0.0  310.0        0.000000     0.167712   \n",
              "\n",
              "    p_alive  predicted_purchases  actual30     error  \n",
              "0  0.534813             0.155209  0.523691  0.368482  \n",
              "1  0.999533             0.485818  0.522388  0.036570  \n",
              "2  0.974693             0.270791  0.330579  0.059788  \n",
              "3  0.996449             0.168606  0.157618 -0.010988  \n",
              "4  0.832288             0.048093  0.000000 -0.048093  "
            ],
            "text/html": [
              "\n",
              "  <div id=\"df-840c7566-f3cc-4396-a379-d310fc89b92d\">\n",
              "    <div class=\"colab-df-container\">\n",
              "      <div>\n",
              "<style scoped>\n",
              "    .dataframe tbody tr th:only-of-type {\n",
              "        vertical-align: middle;\n",
              "    }\n",
              "\n",
              "    .dataframe tbody tr th {\n",
              "        vertical-align: top;\n",
              "    }\n",
              "\n",
              "    .dataframe thead th {\n",
              "        text-align: right;\n",
              "    }\n",
              "</style>\n",
              "<table border=\"1\" class=\"dataframe\">\n",
              "  <thead>\n",
              "    <tr style=\"text-align: right;\">\n",
              "      <th></th>\n",
              "      <th>CustomerID</th>\n",
              "      <th>frequency</th>\n",
              "      <th>recency</th>\n",
              "      <th>T</th>\n",
              "      <th>monetary_value</th>\n",
              "      <th>p_not_alive</th>\n",
              "      <th>p_alive</th>\n",
              "      <th>predicted_purchases</th>\n",
              "      <th>actual30</th>\n",
              "      <th>error</th>\n",
              "    </tr>\n",
              "  </thead>\n",
              "  <tbody>\n",
              "    <tr>\n",
              "      <th>0</th>\n",
              "      <td>12346</td>\n",
              "      <td>7.0</td>\n",
              "      <td>401.0</td>\n",
              "      <td>726.0</td>\n",
              "      <td>11066.637143</td>\n",
              "      <td>0.465187</td>\n",
              "      <td>0.534813</td>\n",
              "      <td>0.155209</td>\n",
              "      <td>0.523691</td>\n",
              "      <td>0.368482</td>\n",
              "    </tr>\n",
              "    <tr>\n",
              "      <th>1</th>\n",
              "      <td>12347</td>\n",
              "      <td>7.0</td>\n",
              "      <td>402.0</td>\n",
              "      <td>404.0</td>\n",
              "      <td>615.714286</td>\n",
              "      <td>0.000467</td>\n",
              "      <td>0.999533</td>\n",
              "      <td>0.485818</td>\n",
              "      <td>0.522388</td>\n",
              "      <td>0.036570</td>\n",
              "    </tr>\n",
              "    <tr>\n",
              "      <th>2</th>\n",
              "      <td>12348</td>\n",
              "      <td>4.0</td>\n",
              "      <td>363.0</td>\n",
              "      <td>438.0</td>\n",
              "      <td>449.310000</td>\n",
              "      <td>0.025307</td>\n",
              "      <td>0.974693</td>\n",
              "      <td>0.270791</td>\n",
              "      <td>0.330579</td>\n",
              "      <td>0.059788</td>\n",
              "    </tr>\n",
              "    <tr>\n",
              "      <th>3</th>\n",
              "      <td>12349</td>\n",
              "      <td>3.0</td>\n",
              "      <td>571.0</td>\n",
              "      <td>589.0</td>\n",
              "      <td>1120.056667</td>\n",
              "      <td>0.003551</td>\n",
              "      <td>0.996449</td>\n",
              "      <td>0.168606</td>\n",
              "      <td>0.157618</td>\n",
              "      <td>-0.010988</td>\n",
              "    </tr>\n",
              "    <tr>\n",
              "      <th>4</th>\n",
              "      <td>12350</td>\n",
              "      <td>0.0</td>\n",
              "      <td>0.0</td>\n",
              "      <td>310.0</td>\n",
              "      <td>0.000000</td>\n",
              "      <td>0.167712</td>\n",
              "      <td>0.832288</td>\n",
              "      <td>0.048093</td>\n",
              "      <td>0.000000</td>\n",
              "      <td>-0.048093</td>\n",
              "    </tr>\n",
              "  </tbody>\n",
              "</table>\n",
              "</div>\n",
              "      <button class=\"colab-df-convert\" onclick=\"convertToInteractive('df-840c7566-f3cc-4396-a379-d310fc89b92d')\"\n",
              "              title=\"Convert this dataframe to an interactive table.\"\n",
              "              style=\"display:none;\">\n",
              "        \n",
              "  <svg xmlns=\"http://www.w3.org/2000/svg\" height=\"24px\"viewBox=\"0 0 24 24\"\n",
              "       width=\"24px\">\n",
              "    <path d=\"M0 0h24v24H0V0z\" fill=\"none\"/>\n",
              "    <path d=\"M18.56 5.44l.94 2.06.94-2.06 2.06-.94-2.06-.94-.94-2.06-.94 2.06-2.06.94zm-11 1L8.5 8.5l.94-2.06 2.06-.94-2.06-.94L8.5 2.5l-.94 2.06-2.06.94zm10 10l.94 2.06.94-2.06 2.06-.94-2.06-.94-.94-2.06-.94 2.06-2.06.94z\"/><path d=\"M17.41 7.96l-1.37-1.37c-.4-.4-.92-.59-1.43-.59-.52 0-1.04.2-1.43.59L10.3 9.45l-7.72 7.72c-.78.78-.78 2.05 0 2.83L4 21.41c.39.39.9.59 1.41.59.51 0 1.02-.2 1.41-.59l7.78-7.78 2.81-2.81c.8-.78.8-2.07 0-2.86zM5.41 20L4 18.59l7.72-7.72 1.47 1.35L5.41 20z\"/>\n",
              "  </svg>\n",
              "      </button>\n",
              "      \n",
              "  <style>\n",
              "    .colab-df-container {\n",
              "      display:flex;\n",
              "      flex-wrap:wrap;\n",
              "      gap: 12px;\n",
              "    }\n",
              "\n",
              "    .colab-df-convert {\n",
              "      background-color: #E8F0FE;\n",
              "      border: none;\n",
              "      border-radius: 50%;\n",
              "      cursor: pointer;\n",
              "      display: none;\n",
              "      fill: #1967D2;\n",
              "      height: 32px;\n",
              "      padding: 0 0 0 0;\n",
              "      width: 32px;\n",
              "    }\n",
              "\n",
              "    .colab-df-convert:hover {\n",
              "      background-color: #E2EBFA;\n",
              "      box-shadow: 0px 1px 2px rgba(60, 64, 67, 0.3), 0px 1px 3px 1px rgba(60, 64, 67, 0.15);\n",
              "      fill: #174EA6;\n",
              "    }\n",
              "\n",
              "    [theme=dark] .colab-df-convert {\n",
              "      background-color: #3B4455;\n",
              "      fill: #D2E3FC;\n",
              "    }\n",
              "\n",
              "    [theme=dark] .colab-df-convert:hover {\n",
              "      background-color: #434B5C;\n",
              "      box-shadow: 0px 1px 3px 1px rgba(0, 0, 0, 0.15);\n",
              "      filter: drop-shadow(0px 1px 2px rgba(0, 0, 0, 0.3));\n",
              "      fill: #FFFFFF;\n",
              "    }\n",
              "  </style>\n",
              "\n",
              "      <script>\n",
              "        const buttonEl =\n",
              "          document.querySelector('#df-840c7566-f3cc-4396-a379-d310fc89b92d button.colab-df-convert');\n",
              "        buttonEl.style.display =\n",
              "          google.colab.kernel.accessAllowed ? 'block' : 'none';\n",
              "\n",
              "        async function convertToInteractive(key) {\n",
              "          const element = document.querySelector('#df-840c7566-f3cc-4396-a379-d310fc89b92d');\n",
              "          const dataTable =\n",
              "            await google.colab.kernel.invokeFunction('convertToInteractive',\n",
              "                                                     [key], {});\n",
              "          if (!dataTable) return;\n",
              "\n",
              "          const docLinkHtml = 'Like what you see? Visit the ' +\n",
              "            '<a target=\"_blank\" href=https://colab.research.google.com/notebooks/data_table.ipynb>data table notebook</a>'\n",
              "            + ' to learn more about interactive tables.';\n",
              "          element.innerHTML = '';\n",
              "          dataTable['output_type'] = 'display_data';\n",
              "          await google.colab.output.renderOutput(dataTable, element);\n",
              "          const docLink = document.createElement('div');\n",
              "          docLink.innerHTML = docLinkHtml;\n",
              "          element.appendChild(docLink);\n",
              "        }\n",
              "      </script>\n",
              "    </div>\n",
              "  </div>\n",
              "  "
            ]
          },
          "metadata": {},
          "execution_count": 330
        }
      ]
    },
    {
      "cell_type": "code",
      "source": [
        "def get_metrics(true, predicted, error):\n",
        "    \n",
        "    print(\"Mean Squared Error: %s\"%(mean_squared_error(true, predicted)))\n",
        "    print(\"Root Mean Squared Error: %s\"%(sqrt(mean_squared_error(true, predicted))))\n",
        "    print(\"R2 Score: %s\"%(r2_score(true, predicted)))\n",
        "    \n",
        "    sns.scatterplot(true, predicted, size = error, color = \"darkolivegreen\")\n",
        "    plt.title(\"Actual Purchase v/s Predicted Purchase\")\n",
        "    plt.show()"
      ],
      "metadata": {
        "id": "gUd7xR8_h_oW"
      },
      "execution_count": 331,
      "outputs": []
    },
    {
      "cell_type": "code",
      "source": [
        "get_metrics(pareto_result[\"actual30\"], pareto_result[\"predicted_purchases\"], pareto_result[\"error\"])"
      ],
      "metadata": {
        "colab": {
          "base_uri": "https://localhost:8080/",
          "height": 347
        },
        "id": "5LAUErGTiCAH",
        "outputId": "f0f26218-3c93-4d09-dba1-da0cb6ca120f"
      },
      "execution_count": 332,
      "outputs": [
        {
          "output_type": "stream",
          "name": "stdout",
          "text": [
            "Mean Squared Error: 2.2178118875611887\n",
            "Root Mean Squared Error: 1.489231979095664\n",
            "R2 Score: 0.060507629579523825\n"
          ]
        },
        {
          "output_type": "display_data",
          "data": {
            "text/plain": [
              "<Figure size 432x288 with 1 Axes>"
            ],
            "image/png": "[encoded data removed]"
          },
          "metadata": {
            "needs_background": "light"
          }
        }
      ]
    },
    {
      "cell_type": "code",
      "source": [
        "#Get the history alive plot to check whether the customer is alive or not\n",
        "\n",
        "def get_history_alive(t_, data_, id_):\n",
        "    \n",
        "    individual_alive = data[data[\"CustomerID\"] == id_]\n",
        "    plot_history_alive(pareto_model, t = t_, transactions = individual_alive, datetime_col = \"InvoiceDate\",\n",
        "                  freq = \"D\")"
      ],
      "metadata": {
        "id": "i3J-ZzoLiGTJ"
      },
      "execution_count": 333,
      "outputs": []
    },
    {
      "cell_type": "code",
      "source": [
        "get_history_alive(30, data, 12358.0)"
      ],
      "metadata": {
        "colab": {
          "base_uri": "https://localhost:8080/",
          "height": 281
        },
        "id": "2jQu1giNiH4f",
        "outputId": "d876596e-c941-43ca-e273-547171062f59"
      },
      "execution_count": 334,
      "outputs": [
        {
          "output_type": "display_data",
          "data": {
            "text/plain": [
              "<Figure size 432x288 with 1 Axes>"
            ],
            "image/png": "[encoded data removed]"
          },
          "metadata": {
            "needs_background": "light"
          }
        }
      ]
    },
    {
      "cell_type": "markdown",
      "source": [
        "**GAMMA-GAMMA MODEL**"
      ],
      "metadata": {
        "id": "7VNvGXLIiLzR"
      }
    },
    {
      "cell_type": "code",
      "source": [
        "returning_customers_summary = pareto_result[pareto_result['frequency']>0]"
      ],
      "metadata": {
        "id": "0h_WhrQw6jKr"
      },
      "execution_count": 335,
      "outputs": []
    },
    {
      "cell_type": "code",
      "source": [
        "# 64% customer left\n",
        "len(returning_customers_summary)/len(pareto_result)"
      ],
      "metadata": {
        "id": "-3rnMLNM6pfj",
        "outputId": "8cc2cb61-202f-4ce4-cdfb-0091ff8b3b87",
        "colab": {
          "base_uri": "https://localhost:8080/"
        }
      },
      "execution_count": 336,
      "outputs": [
        {
          "output_type": "execute_result",
          "data": {
            "text/plain": [
              "0.7126573664511738"
            ]
          },
          "metadata": {},
          "execution_count": 336
        }
      ]
    },
    {
      "cell_type": "code",
      "source": [
        "ggf_model  =  lifetimes.GammaGammaFitter(penalizer_coef=0.1)"
      ],
      "metadata": {
        "id": "sxGQ0F3IiZzb"
      },
      "execution_count": 337,
      "outputs": []
    },
    {
      "cell_type": "code",
      "source": [
        "ggf_model .fit(returning_customers_summary[\"frequency\"], returning_customers_summary[\"monetary_value\"])"
      ],
      "metadata": {
        "colab": {
          "base_uri": "https://localhost:8080/"
        },
        "id": "1YuJjsfuiaMy",
        "outputId": "7512bd23-1901-49b8-fe5c-656761c221f1"
      },
      "execution_count": 338,
      "outputs": [
        {
          "output_type": "execute_result",
          "data": {
            "text/plain": [
              "<lifetimes.GammaGammaFitter: fitted with 4189 subjects, p: 1.02, q: 0.18, v: 0.93>"
            ]
          },
          "metadata": {},
          "execution_count": 338
        }
      ]
    },
    {
      "cell_type": "code",
      "source": [
        "ggf_model .summary"
      ],
      "metadata": {
        "colab": {
          "base_uri": "https://localhost:8080/",
          "height": 144
        },
        "id": "nlfMXMHJibgz",
        "outputId": "ab2f65dd-c833-4271-f08f-dd7333f54694"
      },
      "execution_count": 339,
      "outputs": [
        {
          "output_type": "execute_result",
          "data": {
            "text/plain": [
              "       coef  se(coef)  lower 95% bound  upper 95% bound\n",
              "p  1.019926  0.024531         0.971846         1.068006\n",
              "q  0.179152  0.002996         0.173280         0.185023\n",
              "v  0.933467  0.025489         0.883508         0.983426"
            ],
            "text/html": [
              "\n",
              "  <div id=\"df-c3e5b76a-1fc0-4eb2-952e-ef242127fe8e\">\n",
              "    <div class=\"colab-df-container\">\n",
              "      <div>\n",
              "<style scoped>\n",
              "    .dataframe tbody tr th:only-of-type {\n",
              "        vertical-align: middle;\n",
              "    }\n",
              "\n",
              "    .dataframe tbody tr th {\n",
              "        vertical-align: top;\n",
              "    }\n",
              "\n",
              "    .dataframe thead th {\n",
              "        text-align: right;\n",
              "    }\n",
              "</style>\n",
              "<table border=\"1\" class=\"dataframe\">\n",
              "  <thead>\n",
              "    <tr style=\"text-align: right;\">\n",
              "      <th></th>\n",
              "      <th>coef</th>\n",
              "      <th>se(coef)</th>\n",
              "      <th>lower 95% bound</th>\n",
              "      <th>upper 95% bound</th>\n",
              "    </tr>\n",
              "  </thead>\n",
              "  <tbody>\n",
              "    <tr>\n",
              "      <th>p</th>\n",
              "      <td>1.019926</td>\n",
              "      <td>0.024531</td>\n",
              "      <td>0.971846</td>\n",
              "      <td>1.068006</td>\n",
              "    </tr>\n",
              "    <tr>\n",
              "      <th>q</th>\n",
              "      <td>0.179152</td>\n",
              "      <td>0.002996</td>\n",
              "      <td>0.173280</td>\n",
              "      <td>0.185023</td>\n",
              "    </tr>\n",
              "    <tr>\n",
              "      <th>v</th>\n",
              "      <td>0.933467</td>\n",
              "      <td>0.025489</td>\n",
              "      <td>0.883508</td>\n",
              "      <td>0.983426</td>\n",
              "    </tr>\n",
              "  </tbody>\n",
              "</table>\n",
              "</div>\n",
              "      <button class=\"colab-df-convert\" onclick=\"convertToInteractive('df-c3e5b76a-1fc0-4eb2-952e-ef242127fe8e')\"\n",
              "              title=\"Convert this dataframe to an interactive table.\"\n",
              "              style=\"display:none;\">\n",
              "        \n",
              "  <svg xmlns=\"http://www.w3.org/2000/svg\" height=\"24px\"viewBox=\"0 0 24 24\"\n",
              "       width=\"24px\">\n",
              "    <path d=\"M0 0h24v24H0V0z\" fill=\"none\"/>\n",
              "    <path d=\"M18.56 5.44l.94 2.06.94-2.06 2.06-.94-2.06-.94-.94-2.06-.94 2.06-2.06.94zm-11 1L8.5 8.5l.94-2.06 2.06-.94-2.06-.94L8.5 2.5l-.94 2.06-2.06.94zm10 10l.94 2.06.94-2.06 2.06-.94-2.06-.94-.94-2.06-.94 2.06-2.06.94z\"/><path d=\"M17.41 7.96l-1.37-1.37c-.4-.4-.92-.59-1.43-.59-.52 0-1.04.2-1.43.59L10.3 9.45l-7.72 7.72c-.78.78-.78 2.05 0 2.83L4 21.41c.39.39.9.59 1.41.59.51 0 1.02-.2 1.41-.59l7.78-7.78 2.81-2.81c.8-.78.8-2.07 0-2.86zM5.41 20L4 18.59l7.72-7.72 1.47 1.35L5.41 20z\"/>\n",
              "  </svg>\n",
              "      </button>\n",
              "      \n",
              "  <style>\n",
              "    .colab-df-container {\n",
              "      display:flex;\n",
              "      flex-wrap:wrap;\n",
              "      gap: 12px;\n",
              "    }\n",
              "\n",
              "    .colab-df-convert {\n",
              "      background-color: #E8F0FE;\n",
              "      border: none;\n",
              "      border-radius: 50%;\n",
              "      cursor: pointer;\n",
              "      display: none;\n",
              "      fill: #1967D2;\n",
              "      height: 32px;\n",
              "      padding: 0 0 0 0;\n",
              "      width: 32px;\n",
              "    }\n",
              "\n",
              "    .colab-df-convert:hover {\n",
              "      background-color: #E2EBFA;\n",
              "      box-shadow: 0px 1px 2px rgba(60, 64, 67, 0.3), 0px 1px 3px 1px rgba(60, 64, 67, 0.15);\n",
              "      fill: #174EA6;\n",
              "    }\n",
              "\n",
              "    [theme=dark] .colab-df-convert {\n",
              "      background-color: #3B4455;\n",
              "      fill: #D2E3FC;\n",
              "    }\n",
              "\n",
              "    [theme=dark] .colab-df-convert:hover {\n",
              "      background-color: #434B5C;\n",
              "      box-shadow: 0px 1px 3px 1px rgba(0, 0, 0, 0.15);\n",
              "      filter: drop-shadow(0px 1px 2px rgba(0, 0, 0, 0.3));\n",
              "      fill: #FFFFFF;\n",
              "    }\n",
              "  </style>\n",
              "\n",
              "      <script>\n",
              "        const buttonEl =\n",
              "          document.querySelector('#df-c3e5b76a-1fc0-4eb2-952e-ef242127fe8e button.colab-df-convert');\n",
              "        buttonEl.style.display =\n",
              "          google.colab.kernel.accessAllowed ? 'block' : 'none';\n",
              "\n",
              "        async function convertToInteractive(key) {\n",
              "          const element = document.querySelector('#df-c3e5b76a-1fc0-4eb2-952e-ef242127fe8e');\n",
              "          const dataTable =\n",
              "            await google.colab.kernel.invokeFunction('convertToInteractive',\n",
              "                                                     [key], {});\n",
              "          if (!dataTable) return;\n",
              "\n",
              "          const docLinkHtml = 'Like what you see? Visit the ' +\n",
              "            '<a target=\"_blank\" href=https://colab.research.google.com/notebooks/data_table.ipynb>data table notebook</a>'\n",
              "            + ' to learn more about interactive tables.';\n",
              "          element.innerHTML = '';\n",
              "          dataTable['output_type'] = 'display_data';\n",
              "          await google.colab.output.renderOutput(dataTable, element);\n",
              "          const docLink = document.createElement('div');\n",
              "          docLink.innerHTML = docLinkHtml;\n",
              "          element.appendChild(docLink);\n",
              "        }\n",
              "      </script>\n",
              "    </div>\n",
              "  </div>\n",
              "  "
            ]
          },
          "metadata": {},
          "execution_count": 339
        }
      ]
    },
    {
      "cell_type": "code",
      "source": [
        "returning_customers_summary[\"expected_avg_sales_\"] = ggf_model.conditional_expected_average_profit(returning_customers_summary[\"frequency\"],\\\n",
        "                                                                                     returning_customers_summary[\"monetary_value\"])"
      ],
      "metadata": {
        "id": "CzGBsiR8-MXr"
      },
      "execution_count": 340,
      "outputs": []
    },
    {
      "cell_type": "code",
      "source": [
        "returning_customers_summary.head()"
      ],
      "metadata": {
        "colab": {
          "base_uri": "https://localhost:8080/",
          "height": 206
        },
        "id": "Qn0IGFKKmVgP",
        "outputId": "4ceeed24-1ea9-47f0-ad4b-9cc3d451ec65"
      },
      "execution_count": 341,
      "outputs": [
        {
          "output_type": "execute_result",
          "data": {
            "text/plain": [
              "   CustomerID  frequency  recency      T  monetary_value  p_not_alive  \\\n",
              "0       12346        7.0    401.0  726.0    11066.637143     0.465187   \n",
              "1       12347        7.0    402.0  404.0      615.714286     0.000467   \n",
              "2       12348        4.0    363.0  438.0      449.310000     0.025307   \n",
              "3       12349        3.0    571.0  589.0     1120.056667     0.003551   \n",
              "6       12352        8.0    356.0  392.0      338.261250     0.012357   \n",
              "\n",
              "    p_alive  predicted_purchases  actual30     error  expected_avg_sales_  \n",
              "0  0.534813             0.155209  0.523691  0.368482         12504.444869  \n",
              "1  0.999533             0.485818  0.522388  0.036570           695.851861  \n",
              "2  0.974693             0.270791  0.330579  0.059788           562.775388  \n",
              "3  0.996449             0.168606  0.157618 -0.010988          1531.122915  \n",
              "6  0.987643             0.556060  0.674157  0.118098           376.226899  "
            ],
            "text/html": [
              "\n",
              "  <div id=\"df-66afd229-4c5e-45fd-a3d9-75f51e021710\">\n",
              "    <div class=\"colab-df-container\">\n",
              "      <div>\n",
              "<style scoped>\n",
              "    .dataframe tbody tr th:only-of-type {\n",
              "        vertical-align: middle;\n",
              "    }\n",
              "\n",
              "    .dataframe tbody tr th {\n",
              "        vertical-align: top;\n",
              "    }\n",
              "\n",
              "    .dataframe thead th {\n",
              "        text-align: right;\n",
              "    }\n",
              "</style>\n",
              "<table border=\"1\" class=\"dataframe\">\n",
              "  <thead>\n",
              "    <tr style=\"text-align: right;\">\n",
              "      <th></th>\n",
              "      <th>CustomerID</th>\n",
              "      <th>frequency</th>\n",
              "      <th>recency</th>\n",
              "      <th>T</th>\n",
              "      <th>monetary_value</th>\n",
              "      <th>p_not_alive</th>\n",
              "      <th>p_alive</th>\n",
              "      <th>predicted_purchases</th>\n",
              "      <th>actual30</th>\n",
              "      <th>error</th>\n",
              "      <th>expected_avg_sales_</th>\n",
              "    </tr>\n",
              "  </thead>\n",
              "  <tbody>\n",
              "    <tr>\n",
              "      <th>0</th>\n",
              "      <td>12346</td>\n",
              "      <td>7.0</td>\n",
              "      <td>401.0</td>\n",
              "      <td>726.0</td>\n",
              "      <td>11066.637143</td>\n",
              "      <td>0.465187</td>\n",
              "      <td>0.534813</td>\n",
              "      <td>0.155209</td>\n",
              "      <td>0.523691</td>\n",
              "      <td>0.368482</td>\n",
              "      <td>12504.444869</td>\n",
              "    </tr>\n",
              "    <tr>\n",
              "      <th>1</th>\n",
              "      <td>12347</td>\n",
              "      <td>7.0</td>\n",
              "      <td>402.0</td>\n",
              "      <td>404.0</td>\n",
              "      <td>615.714286</td>\n",
              "      <td>0.000467</td>\n",
              "      <td>0.999533</td>\n",
              "      <td>0.485818</td>\n",
              "      <td>0.522388</td>\n",
              "      <td>0.036570</td>\n",
              "      <td>695.851861</td>\n",
              "    </tr>\n",
              "    <tr>\n",
              "      <th>2</th>\n",
              "      <td>12348</td>\n",
              "      <td>4.0</td>\n",
              "      <td>363.0</td>\n",
              "      <td>438.0</td>\n",
              "      <td>449.310000</td>\n",
              "      <td>0.025307</td>\n",
              "      <td>0.974693</td>\n",
              "      <td>0.270791</td>\n",
              "      <td>0.330579</td>\n",
              "      <td>0.059788</td>\n",
              "      <td>562.775388</td>\n",
              "    </tr>\n",
              "    <tr>\n",
              "      <th>3</th>\n",
              "      <td>12349</td>\n",
              "      <td>3.0</td>\n",
              "      <td>571.0</td>\n",
              "      <td>589.0</td>\n",
              "      <td>1120.056667</td>\n",
              "      <td>0.003551</td>\n",
              "      <td>0.996449</td>\n",
              "      <td>0.168606</td>\n",
              "      <td>0.157618</td>\n",
              "      <td>-0.010988</td>\n",
              "      <td>1531.122915</td>\n",
              "    </tr>\n",
              "    <tr>\n",
              "      <th>6</th>\n",
              "      <td>12352</td>\n",
              "      <td>8.0</td>\n",
              "      <td>356.0</td>\n",
              "      <td>392.0</td>\n",
              "      <td>338.261250</td>\n",
              "      <td>0.012357</td>\n",
              "      <td>0.987643</td>\n",
              "      <td>0.556060</td>\n",
              "      <td>0.674157</td>\n",
              "      <td>0.118098</td>\n",
              "      <td>376.226899</td>\n",
              "    </tr>\n",
              "  </tbody>\n",
              "</table>\n",
              "</div>\n",
              "      <button class=\"colab-df-convert\" onclick=\"convertToInteractive('df-66afd229-4c5e-45fd-a3d9-75f51e021710')\"\n",
              "              title=\"Convert this dataframe to an interactive table.\"\n",
              "              style=\"display:none;\">\n",
              "        \n",
              "  <svg xmlns=\"http://www.w3.org/2000/svg\" height=\"24px\"viewBox=\"0 0 24 24\"\n",
              "       width=\"24px\">\n",
              "    <path d=\"M0 0h24v24H0V0z\" fill=\"none\"/>\n",
              "    <path d=\"M18.56 5.44l.94 2.06.94-2.06 2.06-.94-2.06-.94-.94-2.06-.94 2.06-2.06.94zm-11 1L8.5 8.5l.94-2.06 2.06-.94-2.06-.94L8.5 2.5l-.94 2.06-2.06.94zm10 10l.94 2.06.94-2.06 2.06-.94-2.06-.94-.94-2.06-.94 2.06-2.06.94z\"/><path d=\"M17.41 7.96l-1.37-1.37c-.4-.4-.92-.59-1.43-.59-.52 0-1.04.2-1.43.59L10.3 9.45l-7.72 7.72c-.78.78-.78 2.05 0 2.83L4 21.41c.39.39.9.59 1.41.59.51 0 1.02-.2 1.41-.59l7.78-7.78 2.81-2.81c.8-.78.8-2.07 0-2.86zM5.41 20L4 18.59l7.72-7.72 1.47 1.35L5.41 20z\"/>\n",
              "  </svg>\n",
              "      </button>\n",
              "      \n",
              "  <style>\n",
              "    .colab-df-container {\n",
              "      display:flex;\n",
              "      flex-wrap:wrap;\n",
              "      gap: 12px;\n",
              "    }\n",
              "\n",
              "    .colab-df-convert {\n",
              "      background-color: #E8F0FE;\n",
              "      border: none;\n",
              "      border-radius: 50%;\n",
              "      cursor: pointer;\n",
              "      display: none;\n",
              "      fill: #1967D2;\n",
              "      height: 32px;\n",
              "      padding: 0 0 0 0;\n",
              "      width: 32px;\n",
              "    }\n",
              "\n",
              "    .colab-df-convert:hover {\n",
              "      background-color: #E2EBFA;\n",
              "      box-shadow: 0px 1px 2px rgba(60, 64, 67, 0.3), 0px 1px 3px 1px rgba(60, 64, 67, 0.15);\n",
              "      fill: #174EA6;\n",
              "    }\n",
              "\n",
              "    [theme=dark] .colab-df-convert {\n",
              "      background-color: #3B4455;\n",
              "      fill: #D2E3FC;\n",
              "    }\n",
              "\n",
              "    [theme=dark] .colab-df-convert:hover {\n",
              "      background-color: #434B5C;\n",
              "      box-shadow: 0px 1px 3px 1px rgba(0, 0, 0, 0.15);\n",
              "      filter: drop-shadow(0px 1px 2px rgba(0, 0, 0, 0.3));\n",
              "      fill: #FFFFFF;\n",
              "    }\n",
              "  </style>\n",
              "\n",
              "      <script>\n",
              "        const buttonEl =\n",
              "          document.querySelector('#df-66afd229-4c5e-45fd-a3d9-75f51e021710 button.colab-df-convert');\n",
              "        buttonEl.style.display =\n",
              "          google.colab.kernel.accessAllowed ? 'block' : 'none';\n",
              "\n",
              "        async function convertToInteractive(key) {\n",
              "          const element = document.querySelector('#df-66afd229-4c5e-45fd-a3d9-75f51e021710');\n",
              "          const dataTable =\n",
              "            await google.colab.kernel.invokeFunction('convertToInteractive',\n",
              "                                                     [key], {});\n",
              "          if (!dataTable) return;\n",
              "\n",
              "          const docLinkHtml = 'Like what you see? Visit the ' +\n",
              "            '<a target=\"_blank\" href=https://colab.research.google.com/notebooks/data_table.ipynb>data table notebook</a>'\n",
              "            + ' to learn more about interactive tables.';\n",
              "          element.innerHTML = '';\n",
              "          dataTable['output_type'] = 'display_data';\n",
              "          await google.colab.output.renderOutput(dataTable, element);\n",
              "          const docLink = document.createElement('div');\n",
              "          docLink.innerHTML = docLinkHtml;\n",
              "          element.appendChild(docLink);\n",
              "        }\n",
              "      </script>\n",
              "    </div>\n",
              "  </div>\n",
              "  "
            ]
          },
          "metadata": {},
          "execution_count": 341
        }
      ]
    },
    {
      "cell_type": "code",
      "source": [
        "print(\"Mean Squared Error: %s\" %(mean_squared_error(returning_customers_summary[\"monetary_value\"], returning_customers_summary[\"expected_avg_sales_\"])))\n",
        "print(\"Root Mean Squared Error: %s\" %(sqrt(mean_squared_error(returning_customers_summary[\"monetary_value\"], returning_customers_summary[\"expected_avg_sales_\"]))))\n",
        "print(\"R2 Score: %s\" %(r2_score(returning_customers_summary[\"monetary_value\"], returning_customers_summary[\"expected_avg_sales_\"])))"
      ],
      "metadata": {
        "colab": {
          "base_uri": "https://localhost:8080/"
        },
        "id": "uD6O-GMfifGX",
        "outputId": "a74a4181-f175-4831-ad6a-aaf35a72f14f"
      },
      "execution_count": 342,
      "outputs": [
        {
          "output_type": "stream",
          "name": "stdout",
          "text": [
            "Mean Squared Error: 118447363.6217067\n",
            "Root Mean Squared Error: 10883.352591077195\n",
            "R2 Score: -15.721908585813079\n"
          ]
        }
      ]
    },
    {
      "cell_type": "code",
      "source": [
        "returning_customers_summary[\"predicted_clv\"] = ggf_model.customer_lifetime_value(pareto_model,\n",
        "                                                       returning_customers_summary[\"frequency\"],\n",
        "                                                       returning_customers_summary[\"recency\"],\n",
        "                                                       returning_customers_summary[\"T\"],\n",
        "                                                       returning_customers_summary[\"monetary_value\"],\n",
        "                                                       time = 30,\n",
        "                                                       freq = 'D',\n",
        "                                                       discount_rate = 0.01)"
      ],
      "metadata": {
        "id": "_jN_F13dig5U"
      },
      "execution_count": 343,
      "outputs": []
    },
    {
      "cell_type": "code",
      "source": [
        "#Top 5 customers with high CLV\n",
        "returning_customers_summary[[\"CustomerID\", \"predicted_clv\"]].sort_values(by = \"predicted_clv\", ascending = False).head(5)"
      ],
      "metadata": {
        "colab": {
          "base_uri": "https://localhost:8080/",
          "height": 206
        },
        "id": "TET-oInOiiVg",
        "outputId": "a7905d9d-974a-45bd-c265-a60f3e94e5f5"
      },
      "execution_count": 344,
      "outputs": [
        {
          "output_type": "execute_result",
          "data": {
            "text/plain": [
              "      CustomerID  predicted_clv\n",
              "4061       16446   3.648665e+06\n",
              "5692       18102   5.063031e+05\n",
              "2277       14646   4.550215e+05\n",
              "189        12536   3.649551e+05\n",
              "5050       17450   2.887334e+05"
            ],
            "text/html": [
              "\n",
              "  <div id=\"df-4304332d-3df7-4a46-b645-86be1fd3f650\">\n",
              "    <div class=\"colab-df-container\">\n",
              "      <div>\n",
              "<style scoped>\n",
              "    .dataframe tbody tr th:only-of-type {\n",
              "        vertical-align: middle;\n",
              "    }\n",
              "\n",
              "    .dataframe tbody tr th {\n",
              "        vertical-align: top;\n",
              "    }\n",
              "\n",
              "    .dataframe thead th {\n",
              "        text-align: right;\n",
              "    }\n",
              "</style>\n",
              "<table border=\"1\" class=\"dataframe\">\n",
              "  <thead>\n",
              "    <tr style=\"text-align: right;\">\n",
              "      <th></th>\n",
              "      <th>CustomerID</th>\n",
              "      <th>predicted_clv</th>\n",
              "    </tr>\n",
              "  </thead>\n",
              "  <tbody>\n",
              "    <tr>\n",
              "      <th>4061</th>\n",
              "      <td>16446</td>\n",
              "      <td>3.648665e+06</td>\n",
              "    </tr>\n",
              "    <tr>\n",
              "      <th>5692</th>\n",
              "      <td>18102</td>\n",
              "      <td>5.063031e+05</td>\n",
              "    </tr>\n",
              "    <tr>\n",
              "      <th>2277</th>\n",
              "      <td>14646</td>\n",
              "      <td>4.550215e+05</td>\n",
              "    </tr>\n",
              "    <tr>\n",
              "      <th>189</th>\n",
              "      <td>12536</td>\n",
              "      <td>3.649551e+05</td>\n",
              "    </tr>\n",
              "    <tr>\n",
              "      <th>5050</th>\n",
              "      <td>17450</td>\n",
              "      <td>2.887334e+05</td>\n",
              "    </tr>\n",
              "  </tbody>\n",
              "</table>\n",
              "</div>\n",
              "      <button class=\"colab-df-convert\" onclick=\"convertToInteractive('df-4304332d-3df7-4a46-b645-86be1fd3f650')\"\n",
              "              title=\"Convert this dataframe to an interactive table.\"\n",
              "              style=\"display:none;\">\n",
              "        \n",
              "  <svg xmlns=\"http://www.w3.org/2000/svg\" height=\"24px\"viewBox=\"0 0 24 24\"\n",
              "       width=\"24px\">\n",
              "    <path d=\"M0 0h24v24H0V0z\" fill=\"none\"/>\n",
              "    <path d=\"M18.56 5.44l.94 2.06.94-2.06 2.06-.94-2.06-.94-.94-2.06-.94 2.06-2.06.94zm-11 1L8.5 8.5l.94-2.06 2.06-.94-2.06-.94L8.5 2.5l-.94 2.06-2.06.94zm10 10l.94 2.06.94-2.06 2.06-.94-2.06-.94-.94-2.06-.94 2.06-2.06.94z\"/><path d=\"M17.41 7.96l-1.37-1.37c-.4-.4-.92-.59-1.43-.59-.52 0-1.04.2-1.43.59L10.3 9.45l-7.72 7.72c-.78.78-.78 2.05 0 2.83L4 21.41c.39.39.9.59 1.41.59.51 0 1.02-.2 1.41-.59l7.78-7.78 2.81-2.81c.8-.78.8-2.07 0-2.86zM5.41 20L4 18.59l7.72-7.72 1.47 1.35L5.41 20z\"/>\n",
              "  </svg>\n",
              "      </button>\n",
              "      \n",
              "  <style>\n",
              "    .colab-df-container {\n",
              "      display:flex;\n",
              "      flex-wrap:wrap;\n",
              "      gap: 12px;\n",
              "    }\n",
              "\n",
              "    .colab-df-convert {\n",
              "      background-color: #E8F0FE;\n",
              "      border: none;\n",
              "      border-radius: 50%;\n",
              "      cursor: pointer;\n",
              "      display: none;\n",
              "      fill: #1967D2;\n",
              "      height: 32px;\n",
              "      padding: 0 0 0 0;\n",
              "      width: 32px;\n",
              "    }\n",
              "\n",
              "    .colab-df-convert:hover {\n",
              "      background-color: #E2EBFA;\n",
              "      box-shadow: 0px 1px 2px rgba(60, 64, 67, 0.3), 0px 1px 3px 1px rgba(60, 64, 67, 0.15);\n",
              "      fill: #174EA6;\n",
              "    }\n",
              "\n",
              "    [theme=dark] .colab-df-convert {\n",
              "      background-color: #3B4455;\n",
              "      fill: #D2E3FC;\n",
              "    }\n",
              "\n",
              "    [theme=dark] .colab-df-convert:hover {\n",
              "      background-color: #434B5C;\n",
              "      box-shadow: 0px 1px 3px 1px rgba(0, 0, 0, 0.15);\n",
              "      filter: drop-shadow(0px 1px 2px rgba(0, 0, 0, 0.3));\n",
              "      fill: #FFFFFF;\n",
              "    }\n",
              "  </style>\n",
              "\n",
              "      <script>\n",
              "        const buttonEl =\n",
              "          document.querySelector('#df-4304332d-3df7-4a46-b645-86be1fd3f650 button.colab-df-convert');\n",
              "        buttonEl.style.display =\n",
              "          google.colab.kernel.accessAllowed ? 'block' : 'none';\n",
              "\n",
              "        async function convertToInteractive(key) {\n",
              "          const element = document.querySelector('#df-4304332d-3df7-4a46-b645-86be1fd3f650');\n",
              "          const dataTable =\n",
              "            await google.colab.kernel.invokeFunction('convertToInteractive',\n",
              "                                                     [key], {});\n",
              "          if (!dataTable) return;\n",
              "\n",
              "          const docLinkHtml = 'Like what you see? Visit the ' +\n",
              "            '<a target=\"_blank\" href=https://colab.research.google.com/notebooks/data_table.ipynb>data table notebook</a>'\n",
              "            + ' to learn more about interactive tables.';\n",
              "          element.innerHTML = '';\n",
              "          dataTable['output_type'] = 'display_data';\n",
              "          await google.colab.output.renderOutput(dataTable, element);\n",
              "          const docLink = document.createElement('div');\n",
              "          docLink.innerHTML = docLinkHtml;\n",
              "          element.appendChild(docLink);\n",
              "        }\n",
              "      </script>\n",
              "    </div>\n",
              "  </div>\n",
              "  "
            ]
          },
          "metadata": {},
          "execution_count": 344
        }
      ]
    },
    {
      "cell_type": "code",
      "source": [
        "# Assuming 5% of Profit Margin\n",
        "returning_customers_summary[\"profit_margin\"] = returning_customers_summary[\"predicted_clv\"]*0.05"
      ],
      "metadata": {
        "id": "Vq20TYYBml4M"
      },
      "execution_count": 345,
      "outputs": []
    },
    {
      "cell_type": "code",
      "source": [
        "returning_customers_summary.reset_index().drop(\"index\", axis = 1, inplace = True)"
      ],
      "metadata": {
        "id": "DkWFi-dFikwV"
      },
      "execution_count": 346,
      "outputs": []
    },
    {
      "cell_type": "code",
      "source": [
        "#exporting the result to csv\n",
        "returning_customers_summary.to_csv(\"customer_lifetime_value_prediction.csv\")"
      ],
      "metadata": {
        "id": "9NesTCRkimeY"
      },
      "execution_count": 347,
      "outputs": []
    },
    {
      "cell_type": "markdown",
      "source": [
        "**CUSTOMER SEGMENTATION USING PREDICTED CLV**"
      ],
      "metadata": {
        "id": "Ufh1XRyCirN2"
      }
    },
    {
      "cell_type": "code",
      "source": [
        "returning_customers_summary.head()"
      ],
      "metadata": {
        "colab": {
          "base_uri": "https://localhost:8080/",
          "height": 270
        },
        "id": "2xbfZMOMi85u",
        "outputId": "24fd48d9-89a5-47d5-ae84-c0f33a1c51cf"
      },
      "execution_count": 348,
      "outputs": [
        {
          "output_type": "execute_result",
          "data": {
            "text/plain": [
              "   CustomerID  frequency  recency      T  monetary_value  p_not_alive  \\\n",
              "0       12346        7.0    401.0  726.0    11066.637143     0.465187   \n",
              "1       12347        7.0    402.0  404.0      615.714286     0.000467   \n",
              "2       12348        4.0    363.0  438.0      449.310000     0.025307   \n",
              "3       12349        3.0    571.0  589.0     1120.056667     0.003551   \n",
              "6       12352        8.0    356.0  392.0      338.261250     0.012357   \n",
              "\n",
              "    p_alive  predicted_purchases  actual30     error  expected_avg_sales_  \\\n",
              "0  0.534813             0.155209  0.523691  0.368482         12504.444869   \n",
              "1  0.999533             0.485818  0.522388  0.036570           695.851861   \n",
              "2  0.974693             0.270791  0.330579  0.059788           562.775388   \n",
              "3  0.996449             0.168606  0.157618 -0.010988          1531.122915   \n",
              "6  0.987643             0.556060  0.674157  0.118098           376.226899   \n",
              "\n",
              "   predicted_clv  profit_margin  \n",
              "0   35772.183774    1788.609189  \n",
              "1    7706.961492     385.348075  \n",
              "2    3444.569575     172.228479  \n",
              "3    5935.296147     296.764807  \n",
              "6    4742.312084     237.115604  "
            ],
            "text/html": [
              "\n",
              "  <div id=\"df-2232a53e-5b48-4946-bc24-77bd71f33a7c\">\n",
              "    <div class=\"colab-df-container\">\n",
              "      <div>\n",
              "<style scoped>\n",
              "    .dataframe tbody tr th:only-of-type {\n",
              "        vertical-align: middle;\n",
              "    }\n",
              "\n",
              "    .dataframe tbody tr th {\n",
              "        vertical-align: top;\n",
              "    }\n",
              "\n",
              "    .dataframe thead th {\n",
              "        text-align: right;\n",
              "    }\n",
              "</style>\n",
              "<table border=\"1\" class=\"dataframe\">\n",
              "  <thead>\n",
              "    <tr style=\"text-align: right;\">\n",
              "      <th></th>\n",
              "      <th>CustomerID</th>\n",
              "      <th>frequency</th>\n",
              "      <th>recency</th>\n",
              "      <th>T</th>\n",
              "      <th>monetary_value</th>\n",
              "      <th>p_not_alive</th>\n",
              "      <th>p_alive</th>\n",
              "      <th>predicted_purchases</th>\n",
              "      <th>actual30</th>\n",
              "      <th>error</th>\n",
              "      <th>expected_avg_sales_</th>\n",
              "      <th>predicted_clv</th>\n",
              "      <th>profit_margin</th>\n",
              "    </tr>\n",
              "  </thead>\n",
              "  <tbody>\n",
              "    <tr>\n",
              "      <th>0</th>\n",
              "      <td>12346</td>\n",
              "      <td>7.0</td>\n",
              "      <td>401.0</td>\n",
              "      <td>726.0</td>\n",
              "      <td>11066.637143</td>\n",
              "      <td>0.465187</td>\n",
              "      <td>0.534813</td>\n",
              "      <td>0.155209</td>\n",
              "      <td>0.523691</td>\n",
              "      <td>0.368482</td>\n",
              "      <td>12504.444869</td>\n",
              "      <td>35772.183774</td>\n",
              "      <td>1788.609189</td>\n",
              "    </tr>\n",
              "    <tr>\n",
              "      <th>1</th>\n",
              "      <td>12347</td>\n",
              "      <td>7.0</td>\n",
              "      <td>402.0</td>\n",
              "      <td>404.0</td>\n",
              "      <td>615.714286</td>\n",
              "      <td>0.000467</td>\n",
              "      <td>0.999533</td>\n",
              "      <td>0.485818</td>\n",
              "      <td>0.522388</td>\n",
              "      <td>0.036570</td>\n",
              "      <td>695.851861</td>\n",
              "      <td>7706.961492</td>\n",
              "      <td>385.348075</td>\n",
              "    </tr>\n",
              "    <tr>\n",
              "      <th>2</th>\n",
              "      <td>12348</td>\n",
              "      <td>4.0</td>\n",
              "      <td>363.0</td>\n",
              "      <td>438.0</td>\n",
              "      <td>449.310000</td>\n",
              "      <td>0.025307</td>\n",
              "      <td>0.974693</td>\n",
              "      <td>0.270791</td>\n",
              "      <td>0.330579</td>\n",
              "      <td>0.059788</td>\n",
              "      <td>562.775388</td>\n",
              "      <td>3444.569575</td>\n",
              "      <td>172.228479</td>\n",
              "    </tr>\n",
              "    <tr>\n",
              "      <th>3</th>\n",
              "      <td>12349</td>\n",
              "      <td>3.0</td>\n",
              "      <td>571.0</td>\n",
              "      <td>589.0</td>\n",
              "      <td>1120.056667</td>\n",
              "      <td>0.003551</td>\n",
              "      <td>0.996449</td>\n",
              "      <td>0.168606</td>\n",
              "      <td>0.157618</td>\n",
              "      <td>-0.010988</td>\n",
              "      <td>1531.122915</td>\n",
              "      <td>5935.296147</td>\n",
              "      <td>296.764807</td>\n",
              "    </tr>\n",
              "    <tr>\n",
              "      <th>6</th>\n",
              "      <td>12352</td>\n",
              "      <td>8.0</td>\n",
              "      <td>356.0</td>\n",
              "      <td>392.0</td>\n",
              "      <td>338.261250</td>\n",
              "      <td>0.012357</td>\n",
              "      <td>0.987643</td>\n",
              "      <td>0.556060</td>\n",
              "      <td>0.674157</td>\n",
              "      <td>0.118098</td>\n",
              "      <td>376.226899</td>\n",
              "      <td>4742.312084</td>\n",
              "      <td>237.115604</td>\n",
              "    </tr>\n",
              "  </tbody>\n",
              "</table>\n",
              "</div>\n",
              "      <button class=\"colab-df-convert\" onclick=\"convertToInteractive('df-2232a53e-5b48-4946-bc24-77bd71f33a7c')\"\n",
              "              title=\"Convert this dataframe to an interactive table.\"\n",
              "              style=\"display:none;\">\n",
              "        \n",
              "  <svg xmlns=\"http://www.w3.org/2000/svg\" height=\"24px\"viewBox=\"0 0 24 24\"\n",
              "       width=\"24px\">\n",
              "    <path d=\"M0 0h24v24H0V0z\" fill=\"none\"/>\n",
              "    <path d=\"M18.56 5.44l.94 2.06.94-2.06 2.06-.94-2.06-.94-.94-2.06-.94 2.06-2.06.94zm-11 1L8.5 8.5l.94-2.06 2.06-.94-2.06-.94L8.5 2.5l-.94 2.06-2.06.94zm10 10l.94 2.06.94-2.06 2.06-.94-2.06-.94-.94-2.06-.94 2.06-2.06.94z\"/><path d=\"M17.41 7.96l-1.37-1.37c-.4-.4-.92-.59-1.43-.59-.52 0-1.04.2-1.43.59L10.3 9.45l-7.72 7.72c-.78.78-.78 2.05 0 2.83L4 21.41c.39.39.9.59 1.41.59.51 0 1.02-.2 1.41-.59l7.78-7.78 2.81-2.81c.8-.78.8-2.07 0-2.86zM5.41 20L4 18.59l7.72-7.72 1.47 1.35L5.41 20z\"/>\n",
              "  </svg>\n",
              "      </button>\n",
              "      \n",
              "  <style>\n",
              "    .colab-df-container {\n",
              "      display:flex;\n",
              "      flex-wrap:wrap;\n",
              "      gap: 12px;\n",
              "    }\n",
              "\n",
              "    .colab-df-convert {\n",
              "      background-color: #E8F0FE;\n",
              "      border: none;\n",
              "      border-radius: 50%;\n",
              "      cursor: pointer;\n",
              "      display: none;\n",
              "      fill: #1967D2;\n",
              "      height: 32px;\n",
              "      padding: 0 0 0 0;\n",
              "      width: 32px;\n",
              "    }\n",
              "\n",
              "    .colab-df-convert:hover {\n",
              "      background-color: #E2EBFA;\n",
              "      box-shadow: 0px 1px 2px rgba(60, 64, 67, 0.3), 0px 1px 3px 1px rgba(60, 64, 67, 0.15);\n",
              "      fill: #174EA6;\n",
              "    }\n",
              "\n",
              "    [theme=dark] .colab-df-convert {\n",
              "      background-color: #3B4455;\n",
              "      fill: #D2E3FC;\n",
              "    }\n",
              "\n",
              "    [theme=dark] .colab-df-convert:hover {\n",
              "      background-color: #434B5C;\n",
              "      box-shadow: 0px 1px 3px 1px rgba(0, 0, 0, 0.15);\n",
              "      filter: drop-shadow(0px 1px 2px rgba(0, 0, 0, 0.3));\n",
              "      fill: #FFFFFF;\n",
              "    }\n",
              "  </style>\n",
              "\n",
              "      <script>\n",
              "        const buttonEl =\n",
              "          document.querySelector('#df-2232a53e-5b48-4946-bc24-77bd71f33a7c button.colab-df-convert');\n",
              "        buttonEl.style.display =\n",
              "          google.colab.kernel.accessAllowed ? 'block' : 'none';\n",
              "\n",
              "        async function convertToInteractive(key) {\n",
              "          const element = document.querySelector('#df-2232a53e-5b48-4946-bc24-77bd71f33a7c');\n",
              "          const dataTable =\n",
              "            await google.colab.kernel.invokeFunction('convertToInteractive',\n",
              "                                                     [key], {});\n",
              "          if (!dataTable) return;\n",
              "\n",
              "          const docLinkHtml = 'Like what you see? Visit the ' +\n",
              "            '<a target=\"_blank\" href=https://colab.research.google.com/notebooks/data_table.ipynb>data table notebook</a>'\n",
              "            + ' to learn more about interactive tables.';\n",
              "          element.innerHTML = '';\n",
              "          dataTable['output_type'] = 'display_data';\n",
              "          await google.colab.output.renderOutput(dataTable, element);\n",
              "          const docLink = document.createElement('div');\n",
              "          docLink.innerHTML = docLinkHtml;\n",
              "          element.appendChild(docLink);\n",
              "        }\n",
              "      </script>\n",
              "    </div>\n",
              "  </div>\n",
              "  "
            ]
          },
          "metadata": {},
          "execution_count": 348
        }
      ]
    },
    {
      "cell_type": "code",
      "source": [
        "col = [\"predicted_purchases\", \"expected_avg_sales_\", \"predicted_clv\", \"profit_margin\"]"
      ],
      "metadata": {
        "id": "6P2DWFkEi-Px"
      },
      "execution_count": 349,
      "outputs": []
    },
    {
      "cell_type": "code",
      "source": [
        "sns.pairplot(returning_customers_summary[col], diag_kind = \"kde\")"
      ],
      "metadata": {
        "colab": {
          "base_uri": "https://localhost:8080/",
          "height": 743
        },
        "id": "jbxAdTWEi_v_",
        "outputId": "d0c38267-c5b2-47d1-96bc-9b892a969eb8"
      },
      "execution_count": 350,
      "outputs": [
        {
          "output_type": "execute_result",
          "data": {
            "text/plain": [
              "<seaborn.axisgrid.PairGrid at 0x7fc37ae0cf50>"
            ]
          },
          "metadata": {},
          "execution_count": 350
        },
        {
          "output_type": "display_data",
          "data": {
            "text/plain": [
              "<Figure size 720x720 with 20 Axes>"
            ],
            "image/png": "[encoded data removed]"
          },
          "metadata": {
            "needs_background": "light"
          }
        }
      ]
    },
    {
      "cell_type": "code",
      "source": [
        "new_df = returning_customers_summary[col]\n",
        "print(new_df)"
      ],
      "metadata": {
        "id": "0Y278u3tjBKz",
        "colab": {
          "base_uri": "https://localhost:8080/"
        },
        "outputId": "055fb3a3-afc3-4fa3-d9df-e26fadce2df8"
      },
      "execution_count": 351,
      "outputs": [
        {
          "output_type": "stream",
          "name": "stdout",
          "text": [
            "      predicted_purchases  expected_avg_sales_  predicted_clv  profit_margin\n",
            "0                0.155209         12504.444869   35772.183774    1788.609189\n",
            "1                0.485818           695.851861    7706.961492     385.348075\n",
            "2                0.270791           562.775388    3444.569575     172.228479\n",
            "3                0.168606          1531.122915    5935.296147     296.764807\n",
            "6                0.556060           376.226899    4742.312084     237.115604\n",
            "...                   ...                  ...            ...            ...\n",
            "5871             0.076241           418.843596     717.724659      35.886233\n",
            "5872             0.261352           403.576306    2360.076127     118.003806\n",
            "5873             0.766602           149.398389    2643.111517     132.155576\n",
            "5876             0.052165          4274.910277    4711.693787     235.584689\n",
            "5877             0.264345           741.876901    4485.643822     224.282191\n",
            "\n",
            "[4189 rows x 4 columns]\n"
          ]
        }
      ]
    },
    {
      "cell_type": "code",
      "source": [
        "inertia = []\n",
        "\n",
        "for i in range(1, 11):\n",
        "    kmeans  = KMeans(n_clusters = i, init = 'k-means++', random_state = 42)\n",
        "    kmeans.fit(new_df)\n",
        "    inertia.append(kmeans.inertia_)"
      ],
      "metadata": {
        "id": "fJweCgBLjDOw"
      },
      "execution_count": 352,
      "outputs": []
    },
    {
      "cell_type": "code",
      "source": [
        "plt.figure(figsize = (10,8))\n",
        "plt.plot(range(1, 11), inertia, marker = 'o', linestyle = '-.',color='red')\n",
        "plt.xlabel('Number of Clusters')\n",
        "plt.ylabel('Inertia')\n",
        "plt.title('K-means Clustering')\n",
        "plt.show()"
      ],
      "metadata": {
        "colab": {
          "base_uri": "https://localhost:8080/",
          "height": 513
        },
        "id": "OoSPqhf4ibeB",
        "outputId": "9998fee2-2fec-47b4-e880-0b0c070b0fbf"
      },
      "execution_count": 353,
      "outputs": [
        {
          "output_type": "display_data",
          "data": {
            "text/plain": [
              "<Figure size 720x576 with 1 Axes>"
            ],
            "image/png": "[encoded data removed]"
          },
          "metadata": {
            "needs_background": "light"
          }
        }
      ]
    },
    {
      "cell_type": "code",
      "source": [
        "kmeans = KMeans(n_clusters = 4, init = 'k-means++', random_state = 42)"
      ],
      "metadata": {
        "id": "jpCt1ko27ZRJ"
      },
      "execution_count": 354,
      "outputs": []
    },
    {
      "cell_type": "code",
      "source": [
        "labels=kmeans.fit(new_df)"
      ],
      "metadata": {
        "id": "Yn-SjCCX7c4O"
      },
      "execution_count": 355,
      "outputs": []
    },
    {
      "cell_type": "code",
      "source": [
        "df_segm_kmeans= new_df.copy()\n",
        "df_segm_kmeans['Segment K-means'] = kmeans.labels_"
      ],
      "metadata": {
        "id": "bvYzvnVG7pmE"
      },
      "execution_count": 356,
      "outputs": []
    },
    {
      "cell_type": "code",
      "source": [
        "df_segm_analysis = df_segm_kmeans.groupby(['Segment K-means']).mean()\n",
        "df_segm_analysis"
      ],
      "metadata": {
        "colab": {
          "base_uri": "https://localhost:8080/",
          "height": 206
        },
        "id": "mgaSCJ6m73iF",
        "outputId": "47072000-2187-4b2c-9857-171bd6a9b929"
      },
      "execution_count": 357,
      "outputs": [
        {
          "output_type": "execute_result",
          "data": {
            "text/plain": [
              "                 predicted_purchases  expected_avg_sales_  predicted_clv  \\\n",
              "Segment K-means                                                            \n",
              "0                           0.324033           758.436149   4.125287e+03   \n",
              "1                           0.187433        863116.959561   3.648665e+06   \n",
              "2                           3.103728         22851.858246   3.348881e+05   \n",
              "3                           2.046050          4194.432976   8.002331e+04   \n",
              "\n",
              "                 profit_margin  \n",
              "Segment K-means                 \n",
              "0                   206.264339  \n",
              "1                182433.244475  \n",
              "2                 16744.406225  \n",
              "3                  4001.165689  "
            ],
            "text/html": [
              "\n",
              "  <div id=\"df-e8cb6659-0979-48b5-88c0-005f616d5fa0\">\n",
              "    <div class=\"colab-df-container\">\n",
              "      <div>\n",
              "<style scoped>\n",
              "    .dataframe tbody tr th:only-of-type {\n",
              "        vertical-align: middle;\n",
              "    }\n",
              "\n",
              "    .dataframe tbody tr th {\n",
              "        vertical-align: top;\n",
              "    }\n",
              "\n",
              "    .dataframe thead th {\n",
              "        text-align: right;\n",
              "    }\n",
              "</style>\n",
              "<table border=\"1\" class=\"dataframe\">\n",
              "  <thead>\n",
              "    <tr style=\"text-align: right;\">\n",
              "      <th></th>\n",
              "      <th>predicted_purchases</th>\n",
              "      <th>expected_avg_sales_</th>\n",
              "      <th>predicted_clv</th>\n",
              "      <th>profit_margin</th>\n",
              "    </tr>\n",
              "    <tr>\n",
              "      <th>Segment K-means</th>\n",
              "      <th></th>\n",
              "      <th></th>\n",
              "      <th></th>\n",
              "      <th></th>\n",
              "    </tr>\n",
              "  </thead>\n",
              "  <tbody>\n",
              "    <tr>\n",
              "      <th>0</th>\n",
              "      <td>0.324033</td>\n",
              "      <td>758.436149</td>\n",
              "      <td>4.125287e+03</td>\n",
              "      <td>206.264339</td>\n",
              "    </tr>\n",
              "    <tr>\n",
              "      <th>1</th>\n",
              "      <td>0.187433</td>\n",
              "      <td>863116.959561</td>\n",
              "      <td>3.648665e+06</td>\n",
              "      <td>182433.244475</td>\n",
              "    </tr>\n",
              "    <tr>\n",
              "      <th>2</th>\n",
              "      <td>3.103728</td>\n",
              "      <td>22851.858246</td>\n",
              "      <td>3.348881e+05</td>\n",
              "      <td>16744.406225</td>\n",
              "    </tr>\n",
              "    <tr>\n",
              "      <th>3</th>\n",
              "      <td>2.046050</td>\n",
              "      <td>4194.432976</td>\n",
              "      <td>8.002331e+04</td>\n",
              "      <td>4001.165689</td>\n",
              "    </tr>\n",
              "  </tbody>\n",
              "</table>\n",
              "</div>\n",
              "      <button class=\"colab-df-convert\" onclick=\"convertToInteractive('df-e8cb6659-0979-48b5-88c0-005f616d5fa0')\"\n",
              "              title=\"Convert this dataframe to an interactive table.\"\n",
              "              style=\"display:none;\">\n",
              "        \n",
              "  <svg xmlns=\"http://www.w3.org/2000/svg\" height=\"24px\"viewBox=\"0 0 24 24\"\n",
              "       width=\"24px\">\n",
              "    <path d=\"M0 0h24v24H0V0z\" fill=\"none\"/>\n",
              "    <path d=\"M18.56 5.44l.94 2.06.94-2.06 2.06-.94-2.06-.94-.94-2.06-.94 2.06-2.06.94zm-11 1L8.5 8.5l.94-2.06 2.06-.94-2.06-.94L8.5 2.5l-.94 2.06-2.06.94zm10 10l.94 2.06.94-2.06 2.06-.94-2.06-.94-.94-2.06-.94 2.06-2.06.94z\"/><path d=\"M17.41 7.96l-1.37-1.37c-.4-.4-.92-.59-1.43-.59-.52 0-1.04.2-1.43.59L10.3 9.45l-7.72 7.72c-.78.78-.78 2.05 0 2.83L4 21.41c.39.39.9.59 1.41.59.51 0 1.02-.2 1.41-.59l7.78-7.78 2.81-2.81c.8-.78.8-2.07 0-2.86zM5.41 20L4 18.59l7.72-7.72 1.47 1.35L5.41 20z\"/>\n",
              "  </svg>\n",
              "      </button>\n",
              "      \n",
              "  <style>\n",
              "    .colab-df-container {\n",
              "      display:flex;\n",
              "      flex-wrap:wrap;\n",
              "      gap: 12px;\n",
              "    }\n",
              "\n",
              "    .colab-df-convert {\n",
              "      background-color: #E8F0FE;\n",
              "      border: none;\n",
              "      border-radius: 50%;\n",
              "      cursor: pointer;\n",
              "      display: none;\n",
              "      fill: #1967D2;\n",
              "      height: 32px;\n",
              "      padding: 0 0 0 0;\n",
              "      width: 32px;\n",
              "    }\n",
              "\n",
              "    .colab-df-convert:hover {\n",
              "      background-color: #E2EBFA;\n",
              "      box-shadow: 0px 1px 2px rgba(60, 64, 67, 0.3), 0px 1px 3px 1px rgba(60, 64, 67, 0.15);\n",
              "      fill: #174EA6;\n",
              "    }\n",
              "\n",
              "    [theme=dark] .colab-df-convert {\n",
              "      background-color: #3B4455;\n",
              "      fill: #D2E3FC;\n",
              "    }\n",
              "\n",
              "    [theme=dark] .colab-df-convert:hover {\n",
              "      background-color: #434B5C;\n",
              "      box-shadow: 0px 1px 3px 1px rgba(0, 0, 0, 0.15);\n",
              "      filter: drop-shadow(0px 1px 2px rgba(0, 0, 0, 0.3));\n",
              "      fill: #FFFFFF;\n",
              "    }\n",
              "  </style>\n",
              "\n",
              "      <script>\n",
              "        const buttonEl =\n",
              "          document.querySelector('#df-e8cb6659-0979-48b5-88c0-005f616d5fa0 button.colab-df-convert');\n",
              "        buttonEl.style.display =\n",
              "          google.colab.kernel.accessAllowed ? 'block' : 'none';\n",
              "\n",
              "        async function convertToInteractive(key) {\n",
              "          const element = document.querySelector('#df-e8cb6659-0979-48b5-88c0-005f616d5fa0');\n",
              "          const dataTable =\n",
              "            await google.colab.kernel.invokeFunction('convertToInteractive',\n",
              "                                                     [key], {});\n",
              "          if (!dataTable) return;\n",
              "\n",
              "          const docLinkHtml = 'Like what you see? Visit the ' +\n",
              "            '<a target=\"_blank\" href=https://colab.research.google.com/notebooks/data_table.ipynb>data table notebook</a>'\n",
              "            + ' to learn more about interactive tables.';\n",
              "          element.innerHTML = '';\n",
              "          dataTable['output_type'] = 'display_data';\n",
              "          await google.colab.output.renderOutput(dataTable, element);\n",
              "          const docLink = document.createElement('div');\n",
              "          docLink.innerHTML = docLinkHtml;\n",
              "          element.appendChild(docLink);\n",
              "        }\n",
              "      </script>\n",
              "    </div>\n",
              "  </div>\n",
              "  "
            ]
          },
          "metadata": {},
          "execution_count": 357
        }
      ]
    },
    {
      "cell_type": "code",
      "source": [
        "df_segm_analysis.rename({0:'Low',\n",
        "                         1:'Very-High',\n",
        "                         2:'High',\n",
        "                         3:'Medium'})"
      ],
      "metadata": {
        "id": "UcvW_RGN0MuT",
        "colab": {
          "base_uri": "https://localhost:8080/",
          "height": 206
        },
        "outputId": "d0f37b16-23c2-4ebd-ad33-1727335b50fb"
      },
      "execution_count": 358,
      "outputs": [
        {
          "output_type": "execute_result",
          "data": {
            "text/plain": [
              "                 predicted_purchases  expected_avg_sales_  predicted_clv  \\\n",
              "Segment K-means                                                            \n",
              "Low                         0.324033           758.436149   4.125287e+03   \n",
              "Very-High                   0.187433        863116.959561   3.648665e+06   \n",
              "High                        3.103728         22851.858246   3.348881e+05   \n",
              "Medium                      2.046050          4194.432976   8.002331e+04   \n",
              "\n",
              "                 profit_margin  \n",
              "Segment K-means                 \n",
              "Low                 206.264339  \n",
              "Very-High        182433.244475  \n",
              "High              16744.406225  \n",
              "Medium             4001.165689  "
            ],
            "text/html": [
              "\n",
              "  <div id=\"df-52d7bac2-f696-40e7-ae02-744575de97ab\">\n",
              "    <div class=\"colab-df-container\">\n",
              "      <div>\n",
              "<style scoped>\n",
              "    .dataframe tbody tr th:only-of-type {\n",
              "        vertical-align: middle;\n",
              "    }\n",
              "\n",
              "    .dataframe tbody tr th {\n",
              "        vertical-align: top;\n",
              "    }\n",
              "\n",
              "    .dataframe thead th {\n",
              "        text-align: right;\n",
              "    }\n",
              "</style>\n",
              "<table border=\"1\" class=\"dataframe\">\n",
              "  <thead>\n",
              "    <tr style=\"text-align: right;\">\n",
              "      <th></th>\n",
              "      <th>predicted_purchases</th>\n",
              "      <th>expected_avg_sales_</th>\n",
              "      <th>predicted_clv</th>\n",
              "      <th>profit_margin</th>\n",
              "    </tr>\n",
              "    <tr>\n",
              "      <th>Segment K-means</th>\n",
              "      <th></th>\n",
              "      <th></th>\n",
              "      <th></th>\n",
              "      <th></th>\n",
              "    </tr>\n",
              "  </thead>\n",
              "  <tbody>\n",
              "    <tr>\n",
              "      <th>Low</th>\n",
              "      <td>0.324033</td>\n",
              "      <td>758.436149</td>\n",
              "      <td>4.125287e+03</td>\n",
              "      <td>206.264339</td>\n",
              "    </tr>\n",
              "    <tr>\n",
              "      <th>Very-High</th>\n",
              "      <td>0.187433</td>\n",
              "      <td>863116.959561</td>\n",
              "      <td>3.648665e+06</td>\n",
              "      <td>182433.244475</td>\n",
              "    </tr>\n",
              "    <tr>\n",
              "      <th>High</th>\n",
              "      <td>3.103728</td>\n",
              "      <td>22851.858246</td>\n",
              "      <td>3.348881e+05</td>\n",
              "      <td>16744.406225</td>\n",
              "    </tr>\n",
              "    <tr>\n",
              "      <th>Medium</th>\n",
              "      <td>2.046050</td>\n",
              "      <td>4194.432976</td>\n",
              "      <td>8.002331e+04</td>\n",
              "      <td>4001.165689</td>\n",
              "    </tr>\n",
              "  </tbody>\n",
              "</table>\n",
              "</div>\n",
              "      <button class=\"colab-df-convert\" onclick=\"convertToInteractive('df-52d7bac2-f696-40e7-ae02-744575de97ab')\"\n",
              "              title=\"Convert this dataframe to an interactive table.\"\n",
              "              style=\"display:none;\">\n",
              "        \n",
              "  <svg xmlns=\"http://www.w3.org/2000/svg\" height=\"24px\"viewBox=\"0 0 24 24\"\n",
              "       width=\"24px\">\n",
              "    <path d=\"M0 0h24v24H0V0z\" fill=\"none\"/>\n",
              "    <path d=\"M18.56 5.44l.94 2.06.94-2.06 2.06-.94-2.06-.94-.94-2.06-.94 2.06-2.06.94zm-11 1L8.5 8.5l.94-2.06 2.06-.94-2.06-.94L8.5 2.5l-.94 2.06-2.06.94zm10 10l.94 2.06.94-2.06 2.06-.94-2.06-.94-.94-2.06-.94 2.06-2.06.94z\"/><path d=\"M17.41 7.96l-1.37-1.37c-.4-.4-.92-.59-1.43-.59-.52 0-1.04.2-1.43.59L10.3 9.45l-7.72 7.72c-.78.78-.78 2.05 0 2.83L4 21.41c.39.39.9.59 1.41.59.51 0 1.02-.2 1.41-.59l7.78-7.78 2.81-2.81c.8-.78.8-2.07 0-2.86zM5.41 20L4 18.59l7.72-7.72 1.47 1.35L5.41 20z\"/>\n",
              "  </svg>\n",
              "      </button>\n",
              "      \n",
              "  <style>\n",
              "    .colab-df-container {\n",
              "      display:flex;\n",
              "      flex-wrap:wrap;\n",
              "      gap: 12px;\n",
              "    }\n",
              "\n",
              "    .colab-df-convert {\n",
              "      background-color: #E8F0FE;\n",
              "      border: none;\n",
              "      border-radius: 50%;\n",
              "      cursor: pointer;\n",
              "      display: none;\n",
              "      fill: #1967D2;\n",
              "      height: 32px;\n",
              "      padding: 0 0 0 0;\n",
              "      width: 32px;\n",
              "    }\n",
              "\n",
              "    .colab-df-convert:hover {\n",
              "      background-color: #E2EBFA;\n",
              "      box-shadow: 0px 1px 2px rgba(60, 64, 67, 0.3), 0px 1px 3px 1px rgba(60, 64, 67, 0.15);\n",
              "      fill: #174EA6;\n",
              "    }\n",
              "\n",
              "    [theme=dark] .colab-df-convert {\n",
              "      background-color: #3B4455;\n",
              "      fill: #D2E3FC;\n",
              "    }\n",
              "\n",
              "    [theme=dark] .colab-df-convert:hover {\n",
              "      background-color: #434B5C;\n",
              "      box-shadow: 0px 1px 3px 1px rgba(0, 0, 0, 0.15);\n",
              "      filter: drop-shadow(0px 1px 2px rgba(0, 0, 0, 0.3));\n",
              "      fill: #FFFFFF;\n",
              "    }\n",
              "  </style>\n",
              "\n",
              "      <script>\n",
              "        const buttonEl =\n",
              "          document.querySelector('#df-52d7bac2-f696-40e7-ae02-744575de97ab button.colab-df-convert');\n",
              "        buttonEl.style.display =\n",
              "          google.colab.kernel.accessAllowed ? 'block' : 'none';\n",
              "\n",
              "        async function convertToInteractive(key) {\n",
              "          const element = document.querySelector('#df-52d7bac2-f696-40e7-ae02-744575de97ab');\n",
              "          const dataTable =\n",
              "            await google.colab.kernel.invokeFunction('convertToInteractive',\n",
              "                                                     [key], {});\n",
              "          if (!dataTable) return;\n",
              "\n",
              "          const docLinkHtml = 'Like what you see? Visit the ' +\n",
              "            '<a target=\"_blank\" href=https://colab.research.google.com/notebooks/data_table.ipynb>data table notebook</a>'\n",
              "            + ' to learn more about interactive tables.';\n",
              "          element.innerHTML = '';\n",
              "          dataTable['output_type'] = 'display_data';\n",
              "          await google.colab.output.renderOutput(dataTable, element);\n",
              "          const docLink = document.createElement('div');\n",
              "          docLink.innerHTML = docLinkHtml;\n",
              "          element.appendChild(docLink);\n",
              "        }\n",
              "      </script>\n",
              "    </div>\n",
              "  </div>\n",
              "  "
            ]
          },
          "metadata": {},
          "execution_count": 358
        }
      ]
    },
    {
      "cell_type": "code",
      "source": [
        "# Add the segment labels to our table\n",
        "df_segm_kmeans['Labels'] = df_segm_kmeans['Segment K-means'].map({0:'Low',\n",
        "                                                                  1:'Very-High',\n",
        "                                                                  2:'High',\n",
        "                                                                  3:'Medium'})"
      ],
      "metadata": {
        "id": "h-ybfk58p-Zb"
      },
      "execution_count": 359,
      "outputs": []
    },
    {
      "cell_type": "code",
      "source": [
        "df_segm_kmeans.head()"
      ],
      "metadata": {
        "colab": {
          "base_uri": "https://localhost:8080/",
          "height": 206
        },
        "id": "Su9hndwuqJpk",
        "outputId": "05ab9edc-a7b5-4eb3-9495-ba67322542f2"
      },
      "execution_count": 360,
      "outputs": [
        {
          "output_type": "execute_result",
          "data": {
            "text/plain": [
              "   predicted_purchases  expected_avg_sales_  predicted_clv  profit_margin  \\\n",
              "0             0.155209         12504.444869   35772.183774    1788.609189   \n",
              "1             0.485818           695.851861    7706.961492     385.348075   \n",
              "2             0.270791           562.775388    3444.569575     172.228479   \n",
              "3             0.168606          1531.122915    5935.296147     296.764807   \n",
              "6             0.556060           376.226899    4742.312084     237.115604   \n",
              "\n",
              "   Segment K-means Labels  \n",
              "0                0    Low  \n",
              "1                0    Low  \n",
              "2                0    Low  \n",
              "3                0    Low  \n",
              "6                0    Low  "
            ],
            "text/html": [
              "\n",
              "  <div id=\"df-84f17cad-a21d-4468-be07-831f9d870d04\">\n",
              "    <div class=\"colab-df-container\">\n",
              "      <div>\n",
              "<style scoped>\n",
              "    .dataframe tbody tr th:only-of-type {\n",
              "        vertical-align: middle;\n",
              "    }\n",
              "\n",
              "    .dataframe tbody tr th {\n",
              "        vertical-align: top;\n",
              "    }\n",
              "\n",
              "    .dataframe thead th {\n",
              "        text-align: right;\n",
              "    }\n",
              "</style>\n",
              "<table border=\"1\" class=\"dataframe\">\n",
              "  <thead>\n",
              "    <tr style=\"text-align: right;\">\n",
              "      <th></th>\n",
              "      <th>predicted_purchases</th>\n",
              "      <th>expected_avg_sales_</th>\n",
              "      <th>predicted_clv</th>\n",
              "      <th>profit_margin</th>\n",
              "      <th>Segment K-means</th>\n",
              "      <th>Labels</th>\n",
              "    </tr>\n",
              "  </thead>\n",
              "  <tbody>\n",
              "    <tr>\n",
              "      <th>0</th>\n",
              "      <td>0.155209</td>\n",
              "      <td>12504.444869</td>\n",
              "      <td>35772.183774</td>\n",
              "      <td>1788.609189</td>\n",
              "      <td>0</td>\n",
              "      <td>Low</td>\n",
              "    </tr>\n",
              "    <tr>\n",
              "      <th>1</th>\n",
              "      <td>0.485818</td>\n",
              "      <td>695.851861</td>\n",
              "      <td>7706.961492</td>\n",
              "      <td>385.348075</td>\n",
              "      <td>0</td>\n",
              "      <td>Low</td>\n",
              "    </tr>\n",
              "    <tr>\n",
              "      <th>2</th>\n",
              "      <td>0.270791</td>\n",
              "      <td>562.775388</td>\n",
              "      <td>3444.569575</td>\n",
              "      <td>172.228479</td>\n",
              "      <td>0</td>\n",
              "      <td>Low</td>\n",
              "    </tr>\n",
              "    <tr>\n",
              "      <th>3</th>\n",
              "      <td>0.168606</td>\n",
              "      <td>1531.122915</td>\n",
              "      <td>5935.296147</td>\n",
              "      <td>296.764807</td>\n",
              "      <td>0</td>\n",
              "      <td>Low</td>\n",
              "    </tr>\n",
              "    <tr>\n",
              "      <th>6</th>\n",
              "      <td>0.556060</td>\n",
              "      <td>376.226899</td>\n",
              "      <td>4742.312084</td>\n",
              "      <td>237.115604</td>\n",
              "      <td>0</td>\n",
              "      <td>Low</td>\n",
              "    </tr>\n",
              "  </tbody>\n",
              "</table>\n",
              "</div>\n",
              "      <button class=\"colab-df-convert\" onclick=\"convertToInteractive('df-84f17cad-a21d-4468-be07-831f9d870d04')\"\n",
              "              title=\"Convert this dataframe to an interactive table.\"\n",
              "              style=\"display:none;\">\n",
              "        \n",
              "  <svg xmlns=\"http://www.w3.org/2000/svg\" height=\"24px\"viewBox=\"0 0 24 24\"\n",
              "       width=\"24px\">\n",
              "    <path d=\"M0 0h24v24H0V0z\" fill=\"none\"/>\n",
              "    <path d=\"M18.56 5.44l.94 2.06.94-2.06 2.06-.94-2.06-.94-.94-2.06-.94 2.06-2.06.94zm-11 1L8.5 8.5l.94-2.06 2.06-.94-2.06-.94L8.5 2.5l-.94 2.06-2.06.94zm10 10l.94 2.06.94-2.06 2.06-.94-2.06-.94-.94-2.06-.94 2.06-2.06.94z\"/><path d=\"M17.41 7.96l-1.37-1.37c-.4-.4-.92-.59-1.43-.59-.52 0-1.04.2-1.43.59L10.3 9.45l-7.72 7.72c-.78.78-.78 2.05 0 2.83L4 21.41c.39.39.9.59 1.41.59.51 0 1.02-.2 1.41-.59l7.78-7.78 2.81-2.81c.8-.78.8-2.07 0-2.86zM5.41 20L4 18.59l7.72-7.72 1.47 1.35L5.41 20z\"/>\n",
              "  </svg>\n",
              "      </button>\n",
              "      \n",
              "  <style>\n",
              "    .colab-df-container {\n",
              "      display:flex;\n",
              "      flex-wrap:wrap;\n",
              "      gap: 12px;\n",
              "    }\n",
              "\n",
              "    .colab-df-convert {\n",
              "      background-color: #E8F0FE;\n",
              "      border: none;\n",
              "      border-radius: 50%;\n",
              "      cursor: pointer;\n",
              "      display: none;\n",
              "      fill: #1967D2;\n",
              "      height: 32px;\n",
              "      padding: 0 0 0 0;\n",
              "      width: 32px;\n",
              "    }\n",
              "\n",
              "    .colab-df-convert:hover {\n",
              "      background-color: #E2EBFA;\n",
              "      box-shadow: 0px 1px 2px rgba(60, 64, 67, 0.3), 0px 1px 3px 1px rgba(60, 64, 67, 0.15);\n",
              "      fill: #174EA6;\n",
              "    }\n",
              "\n",
              "    [theme=dark] .colab-df-convert {\n",
              "      background-color: #3B4455;\n",
              "      fill: #D2E3FC;\n",
              "    }\n",
              "\n",
              "    [theme=dark] .colab-df-convert:hover {\n",
              "      background-color: #434B5C;\n",
              "      box-shadow: 0px 1px 3px 1px rgba(0, 0, 0, 0.15);\n",
              "      filter: drop-shadow(0px 1px 2px rgba(0, 0, 0, 0.3));\n",
              "      fill: #FFFFFF;\n",
              "    }\n",
              "  </style>\n",
              "\n",
              "      <script>\n",
              "        const buttonEl =\n",
              "          document.querySelector('#df-84f17cad-a21d-4468-be07-831f9d870d04 button.colab-df-convert');\n",
              "        buttonEl.style.display =\n",
              "          google.colab.kernel.accessAllowed ? 'block' : 'none';\n",
              "\n",
              "        async function convertToInteractive(key) {\n",
              "          const element = document.querySelector('#df-84f17cad-a21d-4468-be07-831f9d870d04');\n",
              "          const dataTable =\n",
              "            await google.colab.kernel.invokeFunction('convertToInteractive',\n",
              "                                                     [key], {});\n",
              "          if (!dataTable) return;\n",
              "\n",
              "          const docLinkHtml = 'Like what you see? Visit the ' +\n",
              "            '<a target=\"_blank\" href=https://colab.research.google.com/notebooks/data_table.ipynb>data table notebook</a>'\n",
              "            + ' to learn more about interactive tables.';\n",
              "          element.innerHTML = '';\n",
              "          dataTable['output_type'] = 'display_data';\n",
              "          await google.colab.output.renderOutput(dataTable, element);\n",
              "          const docLink = document.createElement('div');\n",
              "          docLink.innerHTML = docLinkHtml;\n",
              "          element.appendChild(docLink);\n",
              "        }\n",
              "      </script>\n",
              "    </div>\n",
              "  </div>\n",
              "  "
            ]
          },
          "metadata": {},
          "execution_count": 360
        }
      ]
    },
    {
      "cell_type": "code",
      "source": [
        "ggf_filter = pd.concat([returning_customers_summary,df_segm_kmeans['Segment K-means'],df_segm_kmeans['Labels']], axis = 1)"
      ],
      "metadata": {
        "id": "rNeyBWTTw1qT"
      },
      "execution_count": 361,
      "outputs": []
    },
    {
      "cell_type": "code",
      "source": [
        "ggf_filter.head()"
      ],
      "metadata": {
        "colab": {
          "base_uri": "https://localhost:8080/",
          "height": 288
        },
        "id": "rMorhxjXyYSu",
        "outputId": "d69e29fb-bb26-42e7-8968-df0e7bae13cc"
      },
      "execution_count": 362,
      "outputs": [
        {
          "output_type": "execute_result",
          "data": {
            "text/plain": [
              "   CustomerID  frequency  recency      T  monetary_value  p_not_alive  \\\n",
              "0       12346        7.0    401.0  726.0    11066.637143     0.465187   \n",
              "1       12347        7.0    402.0  404.0      615.714286     0.000467   \n",
              "2       12348        4.0    363.0  438.0      449.310000     0.025307   \n",
              "3       12349        3.0    571.0  589.0     1120.056667     0.003551   \n",
              "6       12352        8.0    356.0  392.0      338.261250     0.012357   \n",
              "\n",
              "    p_alive  predicted_purchases  actual30     error  expected_avg_sales_  \\\n",
              "0  0.534813             0.155209  0.523691  0.368482         12504.444869   \n",
              "1  0.999533             0.485818  0.522388  0.036570           695.851861   \n",
              "2  0.974693             0.270791  0.330579  0.059788           562.775388   \n",
              "3  0.996449             0.168606  0.157618 -0.010988          1531.122915   \n",
              "6  0.987643             0.556060  0.674157  0.118098           376.226899   \n",
              "\n",
              "   predicted_clv  profit_margin  Segment K-means Labels  \n",
              "0   35772.183774    1788.609189                0    Low  \n",
              "1    7706.961492     385.348075                0    Low  \n",
              "2    3444.569575     172.228479                0    Low  \n",
              "3    5935.296147     296.764807                0    Low  \n",
              "6    4742.312084     237.115604                0    Low  "
            ],
            "text/html": [
              "\n",
              "  <div id=\"df-b9e6574c-d44f-4ec2-9e03-374016edc724\">\n",
              "    <div class=\"colab-df-container\">\n",
              "      <div>\n",
              "<style scoped>\n",
              "    .dataframe tbody tr th:only-of-type {\n",
              "        vertical-align: middle;\n",
              "    }\n",
              "\n",
              "    .dataframe tbody tr th {\n",
              "        vertical-align: top;\n",
              "    }\n",
              "\n",
              "    .dataframe thead th {\n",
              "        text-align: right;\n",
              "    }\n",
              "</style>\n",
              "<table border=\"1\" class=\"dataframe\">\n",
              "  <thead>\n",
              "    <tr style=\"text-align: right;\">\n",
              "      <th></th>\n",
              "      <th>CustomerID</th>\n",
              "      <th>frequency</th>\n",
              "      <th>recency</th>\n",
              "      <th>T</th>\n",
              "      <th>monetary_value</th>\n",
              "      <th>p_not_alive</th>\n",
              "      <th>p_alive</th>\n",
              "      <th>predicted_purchases</th>\n",
              "      <th>actual30</th>\n",
              "      <th>error</th>\n",
              "      <th>expected_avg_sales_</th>\n",
              "      <th>predicted_clv</th>\n",
              "      <th>profit_margin</th>\n",
              "      <th>Segment K-means</th>\n",
              "      <th>Labels</th>\n",
              "    </tr>\n",
              "  </thead>\n",
              "  <tbody>\n",
              "    <tr>\n",
              "      <th>0</th>\n",
              "      <td>12346</td>\n",
              "      <td>7.0</td>\n",
              "      <td>401.0</td>\n",
              "      <td>726.0</td>\n",
              "      <td>11066.637143</td>\n",
              "      <td>0.465187</td>\n",
              "      <td>0.534813</td>\n",
              "      <td>0.155209</td>\n",
              "      <td>0.523691</td>\n",
              "      <td>0.368482</td>\n",
              "      <td>12504.444869</td>\n",
              "      <td>35772.183774</td>\n",
              "      <td>1788.609189</td>\n",
              "      <td>0</td>\n",
              "      <td>Low</td>\n",
              "    </tr>\n",
              "    <tr>\n",
              "      <th>1</th>\n",
              "      <td>12347</td>\n",
              "      <td>7.0</td>\n",
              "      <td>402.0</td>\n",
              "      <td>404.0</td>\n",
              "      <td>615.714286</td>\n",
              "      <td>0.000467</td>\n",
              "      <td>0.999533</td>\n",
              "      <td>0.485818</td>\n",
              "      <td>0.522388</td>\n",
              "      <td>0.036570</td>\n",
              "      <td>695.851861</td>\n",
              "      <td>7706.961492</td>\n",
              "      <td>385.348075</td>\n",
              "      <td>0</td>\n",
              "      <td>Low</td>\n",
              "    </tr>\n",
              "    <tr>\n",
              "      <th>2</th>\n",
              "      <td>12348</td>\n",
              "      <td>4.0</td>\n",
              "      <td>363.0</td>\n",
              "      <td>438.0</td>\n",
              "      <td>449.310000</td>\n",
              "      <td>0.025307</td>\n",
              "      <td>0.974693</td>\n",
              "      <td>0.270791</td>\n",
              "      <td>0.330579</td>\n",
              "      <td>0.059788</td>\n",
              "      <td>562.775388</td>\n",
              "      <td>3444.569575</td>\n",
              "      <td>172.228479</td>\n",
              "      <td>0</td>\n",
              "      <td>Low</td>\n",
              "    </tr>\n",
              "    <tr>\n",
              "      <th>3</th>\n",
              "      <td>12349</td>\n",
              "      <td>3.0</td>\n",
              "      <td>571.0</td>\n",
              "      <td>589.0</td>\n",
              "      <td>1120.056667</td>\n",
              "      <td>0.003551</td>\n",
              "      <td>0.996449</td>\n",
              "      <td>0.168606</td>\n",
              "      <td>0.157618</td>\n",
              "      <td>-0.010988</td>\n",
              "      <td>1531.122915</td>\n",
              "      <td>5935.296147</td>\n",
              "      <td>296.764807</td>\n",
              "      <td>0</td>\n",
              "      <td>Low</td>\n",
              "    </tr>\n",
              "    <tr>\n",
              "      <th>6</th>\n",
              "      <td>12352</td>\n",
              "      <td>8.0</td>\n",
              "      <td>356.0</td>\n",
              "      <td>392.0</td>\n",
              "      <td>338.261250</td>\n",
              "      <td>0.012357</td>\n",
              "      <td>0.987643</td>\n",
              "      <td>0.556060</td>\n",
              "      <td>0.674157</td>\n",
              "      <td>0.118098</td>\n",
              "      <td>376.226899</td>\n",
              "      <td>4742.312084</td>\n",
              "      <td>237.115604</td>\n",
              "      <td>0</td>\n",
              "      <td>Low</td>\n",
              "    </tr>\n",
              "  </tbody>\n",
              "</table>\n",
              "</div>\n",
              "      <button class=\"colab-df-convert\" onclick=\"convertToInteractive('df-b9e6574c-d44f-4ec2-9e03-374016edc724')\"\n",
              "              title=\"Convert this dataframe to an interactive table.\"\n",
              "              style=\"display:none;\">\n",
              "        \n",
              "  <svg xmlns=\"http://www.w3.org/2000/svg\" height=\"24px\"viewBox=\"0 0 24 24\"\n",
              "       width=\"24px\">\n",
              "    <path d=\"M0 0h24v24H0V0z\" fill=\"none\"/>\n",
              "    <path d=\"M18.56 5.44l.94 2.06.94-2.06 2.06-.94-2.06-.94-.94-2.06-.94 2.06-2.06.94zm-11 1L8.5 8.5l.94-2.06 2.06-.94-2.06-.94L8.5 2.5l-.94 2.06-2.06.94zm10 10l.94 2.06.94-2.06 2.06-.94-2.06-.94-.94-2.06-.94 2.06-2.06.94z\"/><path d=\"M17.41 7.96l-1.37-1.37c-.4-.4-.92-.59-1.43-.59-.52 0-1.04.2-1.43.59L10.3 9.45l-7.72 7.72c-.78.78-.78 2.05 0 2.83L4 21.41c.39.39.9.59 1.41.59.51 0 1.02-.2 1.41-.59l7.78-7.78 2.81-2.81c.8-.78.8-2.07 0-2.86zM5.41 20L4 18.59l7.72-7.72 1.47 1.35L5.41 20z\"/>\n",
              "  </svg>\n",
              "      </button>\n",
              "      \n",
              "  <style>\n",
              "    .colab-df-container {\n",
              "      display:flex;\n",
              "      flex-wrap:wrap;\n",
              "      gap: 12px;\n",
              "    }\n",
              "\n",
              "    .colab-df-convert {\n",
              "      background-color: #E8F0FE;\n",
              "      border: none;\n",
              "      border-radius: 50%;\n",
              "      cursor: pointer;\n",
              "      display: none;\n",
              "      fill: #1967D2;\n",
              "      height: 32px;\n",
              "      padding: 0 0 0 0;\n",
              "      width: 32px;\n",
              "    }\n",
              "\n",
              "    .colab-df-convert:hover {\n",
              "      background-color: #E2EBFA;\n",
              "      box-shadow: 0px 1px 2px rgba(60, 64, 67, 0.3), 0px 1px 3px 1px rgba(60, 64, 67, 0.15);\n",
              "      fill: #174EA6;\n",
              "    }\n",
              "\n",
              "    [theme=dark] .colab-df-convert {\n",
              "      background-color: #3B4455;\n",
              "      fill: #D2E3FC;\n",
              "    }\n",
              "\n",
              "    [theme=dark] .colab-df-convert:hover {\n",
              "      background-color: #434B5C;\n",
              "      box-shadow: 0px 1px 3px 1px rgba(0, 0, 0, 0.15);\n",
              "      filter: drop-shadow(0px 1px 2px rgba(0, 0, 0, 0.3));\n",
              "      fill: #FFFFFF;\n",
              "    }\n",
              "  </style>\n",
              "\n",
              "      <script>\n",
              "        const buttonEl =\n",
              "          document.querySelector('#df-b9e6574c-d44f-4ec2-9e03-374016edc724 button.colab-df-convert');\n",
              "        buttonEl.style.display =\n",
              "          google.colab.kernel.accessAllowed ? 'block' : 'none';\n",
              "\n",
              "        async function convertToInteractive(key) {\n",
              "          const element = document.querySelector('#df-b9e6574c-d44f-4ec2-9e03-374016edc724');\n",
              "          const dataTable =\n",
              "            await google.colab.kernel.invokeFunction('convertToInteractive',\n",
              "                                                     [key], {});\n",
              "          if (!dataTable) return;\n",
              "\n",
              "          const docLinkHtml = 'Like what you see? Visit the ' +\n",
              "            '<a target=\"_blank\" href=https://colab.research.google.com/notebooks/data_table.ipynb>data table notebook</a>'\n",
              "            + ' to learn more about interactive tables.';\n",
              "          element.innerHTML = '';\n",
              "          dataTable['output_type'] = 'display_data';\n",
              "          await google.colab.output.renderOutput(dataTable, element);\n",
              "          const docLink = document.createElement('div');\n",
              "          docLink.innerHTML = docLinkHtml;\n",
              "          element.appendChild(docLink);\n",
              "        }\n",
              "      </script>\n",
              "    </div>\n",
              "  </div>\n",
              "  "
            ]
          },
          "metadata": {},
          "execution_count": 362
        }
      ]
    },
    {
      "cell_type": "code",
      "source": [
        "ggf_filter.groupby('Labels').CustomerID.count()/ggf_filter.CustomerID.count()*100"
      ],
      "metadata": {
        "id": "N50zfeJMnMP2",
        "outputId": "1e96db6d-ec1a-47ba-ae15-c4de5dc0a258",
        "colab": {
          "base_uri": "https://localhost:8080/"
        }
      },
      "execution_count": 363,
      "outputs": [
        {
          "output_type": "execute_result",
          "data": {
            "text/plain": [
              "Labels\n",
              "High          0.190976\n",
              "Low          98.925758\n",
              "Medium        0.859394\n",
              "Very-High     0.023872\n",
              "Name: CustomerID, dtype: float64"
            ]
          },
          "metadata": {},
          "execution_count": 363
        }
      ]
    },
    {
      "cell_type": "code",
      "source": [
        "ggf_filter.to_csv(\"Segmentation_result.csv\")"
      ],
      "metadata": {
        "id": "PnLdPz4xnx-z"
      },
      "execution_count": 364,
      "outputs": []
    },
    {
      "cell_type": "markdown",
      "source": [
        "**Machine Learning: Xgboost and Lightgbm Algorithm**"
      ],
      "metadata": {
        "id": "qRa8I2xVuxdG"
      }
    },
    {
      "cell_type": "code",
      "source": [
        "123data.InvoiceDate"
      ],
      "metadata": {
        "id": "1sy-AHlTuywN",
        "outputId": "66ed273c-a30f-436d-c5ac-b8919f0ee8ae",
        "colab": {
          "base_uri": "https://localhost:8080/",
          "height": 131
        }
      },
      "execution_count": 365,
      "outputs": [
        {
          "output_type": "error",
          "ename": "SyntaxError",
          "evalue": "ignored",
          "traceback": [
            "\u001b[0;36m  File \u001b[0;32m\"<ipython-input-365-ae61043718bc>\"\u001b[0;36m, line \u001b[0;32m1\u001b[0m\n\u001b[0;31m    123data.InvoiceDate\u001b[0m\n\u001b[0m          ^\u001b[0m\n\u001b[0;31mSyntaxError\u001b[0m\u001b[0;31m:\u001b[0m invalid syntax\n"
          ]
        }
      ]
    },
    {
      "cell_type": "code",
      "source": [
        "import datetime\n",
        "\n",
        "dfnew_train = data[data.InvoiceDate <= datetime.date(2021, 6, 8)]\n",
        "dfnew_test = data[data.InvoiceDate > datetime.date(2021, 6, 8)]\n",
        "\n",
        "maxdate = dfnew_train.InvoiceDate.max()\n",
        "mindate = dfnew_train.InvoiceDate.min()\n",
        "\n",
        "dfnew_train['duration'] =  (maxdate - dfnew_train.InvoiceDate)/np.timedelta64(1, 'D')\n",
        "# get time duration between the last transaction to now\n",
        "dfsum1 = dfnew_train.groupby(['CustomerID'])['duration'].min().reset_index()\n",
        "dfsum1.rename(columns = {'duration':'latetime'}, inplace = True)\n",
        "\n",
        "# get time duration between the first transaction to now\n",
        "dfsum2 = dfnew_train.groupby(['CustomerID'])['duration'].max().reset_index()\n",
        "dfsum2.rename(columns = {'duration':'earlytime'}, inplace = True)\n",
        "\n",
        "# get transaction frequency (whole history)\n",
        "dfsum3 = dfnew_train.groupby(['CustomerID'])['InvoiceDate'].nunique().reset_index()\n",
        "dfsum3.rename(columns={'InvoiceDate': 'freq'}, inplace=True)\n",
        "# get transaction frequency (recent 3 months history)\n",
        "dfsum4 = dfnew_train[dfnew_train.duration<91].groupby(['CustomerID'])['InvoiceDate'].nunique().reset_index()\n",
        "dfsum4.rename(columns={'InvoiceDate': 'freq_3m'}, inplace=True)\n",
        "\n",
        "dfsum = pd.merge(dfsum1, dfsum2, on=['CustomerID'], how='outer')\n",
        "dfsum = pd.merge(dfsum, dfsum3, on=['CustomerID'], how='outer')\n",
        "dfsum = pd.merge(dfsum, dfsum4, on=['CustomerID'], how='outer')\n",
        "\n",
        "# get target: number of transactions in test set\n",
        "dfsum_target = dfnew_test.groupby(['CustomerID'])['InvoiceDate'].nunique().reset_index()\n",
        "dfsum_target.rename(columns={'InvoiceDate': 'target'}, inplace=True)\n",
        "dfsum = pd.merge(dfsum, dfsum_target, on=['CustomerID'], how='left')\n",
        "dfsum  = dfsum.fillna(0).sort_values(['target'], ascending = False)"
      ],
      "metadata": {
        "id": "YJrLrYsWu9Jk"
      },
      "execution_count": null,
      "outputs": []
    },
    {
      "cell_type": "code",
      "source": [
        "dfsum.head(10)"
      ],
      "metadata": {
        "id": "00RAKEr9vHzF"
      },
      "execution_count": null,
      "outputs": []
    },
    {
      "cell_type": "markdown",
      "source": [
        "**XG Boost Model**"
      ],
      "metadata": {
        "id": "XIw4KkUJvNrO"
      }
    },
    {
      "cell_type": "code",
      "source": [
        "import xgboost as xgb\n",
        "from sklearn.model_selection import train_test_split\n",
        "from sklearn.metrics import mean_squared_error\n",
        "\n",
        "xgb_model = xgb.XGBRegressor(n_estimators=2200, objective='reg:linear', max_depth = 3)\n",
        " \n",
        "predictors = ['latetime','earlytime', 'freq','freq_3m']\n",
        "X = dfsum[predictors]\n",
        "y = dfsum.target\n",
        "\n",
        "x_trains, x_valids, y_train, y_valid = train_test_split(X, y, test_size=0.3, random_state=12)\n",
        "\n",
        "xgb_model.fit(x_trains, y_train)"
      ],
      "metadata": {
        "id": "5YTLtsl6vJeZ"
      },
      "execution_count": null,
      "outputs": []
    },
    {
      "cell_type": "code",
      "source": [
        "y_pred = xgb_model.predict(x_valids)\n",
        "rmse = mean_squared_error(y_valid, y_pred)**(1/2)\n",
        "print('RMSE on test set: ', rmse)"
      ],
      "metadata": {
        "id": "PjKzKUUkvQ42"
      },
      "execution_count": null,
      "outputs": []
    },
    {
      "cell_type": "code",
      "source": [
        "xgb_model2 = xgb.XGBRegressor(n_estimators=2200, objective='reg:linear', max_depth = 3)\n",
        "xgb_model2.fit(X, y)\n",
        "y_pred2 = xgb_model2.predict(X)\n",
        "print('RMSE: ', mean_squared_error(y, y_pred2)**(1/2))\n",
        "print('SMAPE', smape(y, y_pred2))\n",
        "print('R2: ', r2_score(y, y_pred2))"
      ],
      "metadata": {
        "id": "Lr97Kh4DvS7s"
      },
      "execution_count": null,
      "outputs": []
    },
    {
      "cell_type": "markdown",
      "source": [
        "**Feature Importance**"
      ],
      "metadata": {
        "id": "L0wYKcGlvXfY"
      }
    },
    {
      "cell_type": "code",
      "source": [
        "xgb.plot_importance(xgb_model, importance_type='gain')"
      ],
      "metadata": {
        "id": "F3CxMgEDvZrj"
      },
      "execution_count": null,
      "outputs": []
    },
    {
      "cell_type": "code",
      "source": [
        "xgb.plot_importance(xgb_model, importance_type='weight')"
      ],
      "metadata": {
        "id": "7NMevomLvimI"
      },
      "execution_count": null,
      "outputs": []
    },
    {
      "cell_type": "code",
      "source": [
        "import lightgbm as lgb\n",
        "\n",
        "lgbparams = {\n",
        "    'n_estimators': 2200, \n",
        "    'boosting_type': 'gbdt',\n",
        "    'objective': 'regression',\n",
        "    'metric': 'mse',    \n",
        "    'max_depth': 3, \n",
        "    'learning_rate': 0.02\n",
        "}\n",
        "\n",
        "lgb_model = lgb.LGBMRegressor(**lgbparams)\n",
        " \n",
        "predictors = ['latetime','earlytime', 'freq','freq_3m']\n",
        "X = dfsum[predictors]\n",
        "y = dfsum.target\n",
        "\n",
        "x_trains, x_valids, y_train, y_valid = train_test_split(X, y, test_size=0.3, random_state=12)\n",
        "\n",
        "lgb_model.fit(x_trains, y_train)"
      ],
      "metadata": {
        "id": "NvJqGb6fvlPb"
      },
      "execution_count": null,
      "outputs": []
    },
    {
      "cell_type": "code",
      "source": [
        "y_pred = lgb_model.predict(x_valids)\n",
        "rmse = mean_squared_error(y_valid, y_pred)**(1/2)\n",
        "print('RMSE on test set: ', rmse)"
      ],
      "metadata": {
        "id": "NZAfAnnFvlsF"
      },
      "execution_count": null,
      "outputs": []
    },
    {
      "cell_type": "code",
      "source": [
        "lgb.plot_importance(lgb_model, importance_type='gain')"
      ],
      "metadata": {
        "id": "A2vmtHBvvq9T"
      },
      "execution_count": null,
      "outputs": []
    },
    {
      "cell_type": "code",
      "source": [
        "lgb.plot_importance(lgb_model) # defualt: weight"
      ],
      "metadata": {
        "id": "gUU4EzpwvrTp"
      },
      "execution_count": null,
      "outputs": []
    },
    {
      "cell_type": "code",
      "source": [
        "lgb_model2 = lgb.LGBMRegressor(**lgbparams)\n",
        "lgb_model2.fit(X, y)\n",
        "y_pred3 = lgb_model2.predict(X)\n",
        "print('RMSE: ', mean_squared_error(y, y_pred3)**(1/2))\n",
        "print('SMAPE', smape(y, y_pred3))\n",
        "print('R2: ', r2_score(y, y_pred3))"
      ],
      "metadata": {
        "id": "RpHMXOr5vuwf"
      },
      "execution_count": null,
      "outputs": []
    }
  ]
}