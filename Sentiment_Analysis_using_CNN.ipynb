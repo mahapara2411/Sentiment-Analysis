{
  "nbformat": 4,
  "nbformat_minor": 0,
  "metadata": {
    "colab": {
      "name": "Sentiment Analysis using CNN.ipynb",
      "provenance": [],
      "collapsed_sections": [],
      "authorship_tag": "ABX9TyOr1vqBD9G2xCMipu9GE/L4",
      "include_colab_link": true
    },
    "kernelspec": {
      "name": "python3",
      "display_name": "Python 3"
    }
  },
  "cells": [
    {
      "cell_type": "markdown",
      "metadata": {
        "id": "view-in-github",
        "colab_type": "text"
      },
      "source": [
        "<a href=\"https://colab.research.google.com/github/mahapara2411/Sentiment-Analysis/blob/master/Sentiment_Analysis_using_CNN.ipynb\" target=\"_parent\"><img src=\"https://colab.research.google.com/assets/colab-badge.svg\" alt=\"Open In Colab\"/></a>"
      ]
    },
    {
      "cell_type": "code",
      "metadata": {
        "id": "Pv2-gyrbQPsg",
        "colab_type": "code",
        "colab": {}
      },
      "source": [
        "import numpy as np\n",
        "import pandas as pd\n",
        "import pickle\n",
        "from collections import defaultdict\n",
        "import re\n",
        "from bs4 import BeautifulSoup\n",
        "import sys\n",
        "import os\n",
        "os.environ['KERAS_BACKEND']='theano' # Why theano why not\n",
        "from keras.preprocessing.text import Tokenizer\n",
        "from keras.preprocessing.sequence import pad_sequences\n",
        "from keras.utils.np_utils import to_categorical\n",
        "from keras.layers import Embedding\n",
        "from keras.layers import Dense, Input, Flatten\n",
        "from keras.layers import Conv1D, MaxPooling1D, Embedding, Dropout\n",
        "from keras.models import Model\n",
        "from keras.callbacks import ModelCheckpoint\n",
        "import matplotlib.pyplot as plt\n",
        "plt.switch_backend('agg')\n",
        "%matplotlib inline"
      ],
      "execution_count": 83,
      "outputs": []
    },
    {
      "cell_type": "code",
      "metadata": {
        "id": "iOKm4VrSRKrh",
        "colab_type": "code",
        "colab": {
          "resources": {
            "http://localhost:8080/nbextensions/google.colab/files.js": {
              "data": "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",
              "ok": true,
              "headers": [
                [
                  "content-type",
                  "application/javascript"
                ]
              ],
              "status": 200,
              "status_text": ""
            }
          },
          "base_uri": "https://localhost:8080/",
          "height": 72
        },
        "outputId": "f10185ea-1299-4fe5-f99c-3c6bc6ced628"
      },
      "source": [
        "#Upload the Dataset\n",
        "from google.colab import files\n",
        "uploaded = files.upload()"
      ],
      "execution_count": 84,
      "outputs": [
        {
          "output_type": "display_data",
          "data": {
            "text/html": [
              "\n",
              "     <input type=\"file\" id=\"files-cc6c1752-838f-4eed-a15b-178b5765c367\" name=\"files[]\" multiple disabled\n",
              "        style=\"border:none\" />\n",
              "     <output id=\"result-cc6c1752-838f-4eed-a15b-178b5765c367\">\n",
              "      Upload widget is only available when the cell has been executed in the\n",
              "      current browser session. Please rerun this cell to enable.\n",
              "      </output>\n",
              "      <script src=\"/nbextensions/google.colab/files.js\"></script> "
            ],
            "text/plain": [
              "<IPython.core.display.HTML object>"
            ]
          },
          "metadata": {
            "tags": []
          }
        },
        {
          "output_type": "stream",
          "text": [
            "Saving Demo1 clean.csv to Demo1 clean (3).csv\n"
          ],
          "name": "stdout"
        }
      ]
    },
    {
      "cell_type": "code",
      "metadata": {
        "id": "K806ZobaRcxX",
        "colab_type": "code",
        "colab": {}
      },
      "source": [
        "# Dataset is now stored in a Pandas Dataframe\n",
        "import io\n",
        "data = pd.read_csv(io.BytesIO(uploaded['Demo1 clean.csv']))"
      ],
      "execution_count": 85,
      "outputs": []
    },
    {
      "cell_type": "code",
      "metadata": {
        "id": "hPPZi3Q2R-il",
        "colab_type": "code",
        "colab": {
          "base_uri": "https://localhost:8080/",
          "height": 408
        },
        "outputId": "1dfa7e46-3aff-4327-f72c-f698ba1b425d"
      },
      "source": [
        "data.head()"
      ],
      "execution_count": 86,
      "outputs": [
        {
          "output_type": "execute_result",
          "data": {
            "text/html": [
              "<div>\n",
              "<style scoped>\n",
              "    .dataframe tbody tr th:only-of-type {\n",
              "        vertical-align: middle;\n",
              "    }\n",
              "\n",
              "    .dataframe tbody tr th {\n",
              "        vertical-align: top;\n",
              "    }\n",
              "\n",
              "    .dataframe thead th {\n",
              "        text-align: right;\n",
              "    }\n",
              "</style>\n",
              "<table border=\"1\" class=\"dataframe\">\n",
              "  <thead>\n",
              "    <tr style=\"text-align: right;\">\n",
              "      <th></th>\n",
              "      <th>Unnamed: 0</th>\n",
              "      <th>Hotel_id</th>\n",
              "      <th>Hotel</th>\n",
              "      <th>Title</th>\n",
              "      <th>Users</th>\n",
              "      <th>Reviews</th>\n",
              "      <th>Text_Clean</th>\n",
              "      <th>Rating</th>\n",
              "      <th>tokens</th>\n",
              "      <th>Sentiment</th>\n",
              "    </tr>\n",
              "  </thead>\n",
              "  <tbody>\n",
              "    <tr>\n",
              "      <th>0</th>\n",
              "      <td>0</td>\n",
              "      <td>AVwc252WIN2L1WUfpqLP</td>\n",
              "      <td>Rancho Valencia Resort Spa</td>\n",
              "      <td>Best romantic vacation ever!!!!</td>\n",
              "      <td>Paula</td>\n",
              "      <td>Our experience at Rancho Valencia was absolute...</td>\n",
              "      <td>experience rancho valencia absolutely perfect ...</td>\n",
              "      <td>5</td>\n",
              "      <td>['experience', 'rancho', 'valencia', 'absolute...</td>\n",
              "      <td>Positive</td>\n",
              "    </tr>\n",
              "    <tr>\n",
              "      <th>1</th>\n",
              "      <td>1</td>\n",
              "      <td>AVwc252WIN2L1WUfpqLP</td>\n",
              "      <td>Rancho Valencia Resort Spa</td>\n",
              "      <td>Sweet sweet serenity</td>\n",
              "      <td>D</td>\n",
              "      <td>Amazing place. Everyone was extremely warm and...</td>\n",
              "      <td>amazing place everyone extremely warm welcomin...</td>\n",
              "      <td>5</td>\n",
              "      <td>['amazing', 'place', 'everyone', 'extremely', ...</td>\n",
              "      <td>Positive</td>\n",
              "    </tr>\n",
              "    <tr>\n",
              "      <th>2</th>\n",
              "      <td>2</td>\n",
              "      <td>AVwc252WIN2L1WUfpqLP</td>\n",
              "      <td>Rancho Valencia Resort Spa</td>\n",
              "      <td>Amazing Property and Experience</td>\n",
              "      <td>Ron</td>\n",
              "      <td>We booked a 3 night stay at Rancho Valencia to...</td>\n",
              "      <td>booked 3 night stay rancho valencia play tenni...</td>\n",
              "      <td>5</td>\n",
              "      <td>['booked', '3', 'night', 'stay', 'rancho', 'va...</td>\n",
              "      <td>Positive</td>\n",
              "    </tr>\n",
              "    <tr>\n",
              "      <th>3</th>\n",
              "      <td>3</td>\n",
              "      <td>AVwdOclqIN2L1WUfti38</td>\n",
              "      <td>Aloft Arundel Mills</td>\n",
              "      <td>Never again...beware, if you want sleep.</td>\n",
              "      <td>jaeem2016</td>\n",
              "      <td>Currently in bed writing this for the past hr ...</td>\n",
              "      <td>currently bed writing past hr 12 dogs barking ...</td>\n",
              "      <td>2</td>\n",
              "      <td>['currently', 'bed', 'writing', 'past', 'hr', ...</td>\n",
              "      <td>Negative</td>\n",
              "    </tr>\n",
              "    <tr>\n",
              "      <th>4</th>\n",
              "      <td>4</td>\n",
              "      <td>AVwdOclqIN2L1WUfti38</td>\n",
              "      <td>Aloft Arundel Mills</td>\n",
              "      <td>ALWAYS GREAT STAY...</td>\n",
              "      <td>MamaNiaOne</td>\n",
              "      <td>I live in Md and the Aloft is my Home away fro...</td>\n",
              "      <td>live md aloft home away homewe stayed 1 night ...</td>\n",
              "      <td>5</td>\n",
              "      <td>['live', 'md', 'aloft', 'home', 'away', 'homew...</td>\n",
              "      <td>Positive</td>\n",
              "    </tr>\n",
              "  </tbody>\n",
              "</table>\n",
              "</div>"
            ],
            "text/plain": [
              "   Unnamed: 0  ... Sentiment\n",
              "0           0  ...  Positive\n",
              "1           1  ...  Positive\n",
              "2           2  ...  Positive\n",
              "3           3  ...  Negative\n",
              "4           4  ...  Positive\n",
              "\n",
              "[5 rows x 10 columns]"
            ]
          },
          "metadata": {
            "tags": []
          },
          "execution_count": 86
        }
      ]
    },
    {
      "cell_type": "code",
      "metadata": {
        "id": "msAXR0ZkaHaX",
        "colab_type": "code",
        "colab": {}
      },
      "source": [
        "data['Sentiment'] = data['Sentiment'].apply(lambda x: 0 if x == 'Negative' else 1)\n"
      ],
      "execution_count": 87,
      "outputs": []
    },
    {
      "cell_type": "code",
      "metadata": {
        "id": "KOIVdOfNaRQU",
        "colab_type": "code",
        "colab": {
          "base_uri": "https://localhost:8080/",
          "height": 1000
        },
        "outputId": "54ab6d7e-f3de-491b-f7f6-3b56955519ee"
      },
      "source": [
        "data.head(50)"
      ],
      "execution_count": 88,
      "outputs": [
        {
          "output_type": "execute_result",
          "data": {
            "text/html": [
              "<div>\n",
              "<style scoped>\n",
              "    .dataframe tbody tr th:only-of-type {\n",
              "        vertical-align: middle;\n",
              "    }\n",
              "\n",
              "    .dataframe tbody tr th {\n",
              "        vertical-align: top;\n",
              "    }\n",
              "\n",
              "    .dataframe thead th {\n",
              "        text-align: right;\n",
              "    }\n",
              "</style>\n",
              "<table border=\"1\" class=\"dataframe\">\n",
              "  <thead>\n",
              "    <tr style=\"text-align: right;\">\n",
              "      <th></th>\n",
              "      <th>Unnamed: 0</th>\n",
              "      <th>Hotel_id</th>\n",
              "      <th>Hotel</th>\n",
              "      <th>Title</th>\n",
              "      <th>Users</th>\n",
              "      <th>Reviews</th>\n",
              "      <th>Text_Clean</th>\n",
              "      <th>Rating</th>\n",
              "      <th>tokens</th>\n",
              "      <th>Sentiment</th>\n",
              "    </tr>\n",
              "  </thead>\n",
              "  <tbody>\n",
              "    <tr>\n",
              "      <th>0</th>\n",
              "      <td>0</td>\n",
              "      <td>AVwc252WIN2L1WUfpqLP</td>\n",
              "      <td>Rancho Valencia Resort Spa</td>\n",
              "      <td>Best romantic vacation ever!!!!</td>\n",
              "      <td>Paula</td>\n",
              "      <td>Our experience at Rancho Valencia was absolute...</td>\n",
              "      <td>experience rancho valencia absolutely perfect ...</td>\n",
              "      <td>5</td>\n",
              "      <td>['experience', 'rancho', 'valencia', 'absolute...</td>\n",
              "      <td>1</td>\n",
              "    </tr>\n",
              "    <tr>\n",
              "      <th>1</th>\n",
              "      <td>1</td>\n",
              "      <td>AVwc252WIN2L1WUfpqLP</td>\n",
              "      <td>Rancho Valencia Resort Spa</td>\n",
              "      <td>Sweet sweet serenity</td>\n",
              "      <td>D</td>\n",
              "      <td>Amazing place. Everyone was extremely warm and...</td>\n",
              "      <td>amazing place everyone extremely warm welcomin...</td>\n",
              "      <td>5</td>\n",
              "      <td>['amazing', 'place', 'everyone', 'extremely', ...</td>\n",
              "      <td>1</td>\n",
              "    </tr>\n",
              "    <tr>\n",
              "      <th>2</th>\n",
              "      <td>2</td>\n",
              "      <td>AVwc252WIN2L1WUfpqLP</td>\n",
              "      <td>Rancho Valencia Resort Spa</td>\n",
              "      <td>Amazing Property and Experience</td>\n",
              "      <td>Ron</td>\n",
              "      <td>We booked a 3 night stay at Rancho Valencia to...</td>\n",
              "      <td>booked 3 night stay rancho valencia play tenni...</td>\n",
              "      <td>5</td>\n",
              "      <td>['booked', '3', 'night', 'stay', 'rancho', 'va...</td>\n",
              "      <td>1</td>\n",
              "    </tr>\n",
              "    <tr>\n",
              "      <th>3</th>\n",
              "      <td>3</td>\n",
              "      <td>AVwdOclqIN2L1WUfti38</td>\n",
              "      <td>Aloft Arundel Mills</td>\n",
              "      <td>Never again...beware, if you want sleep.</td>\n",
              "      <td>jaeem2016</td>\n",
              "      <td>Currently in bed writing this for the past hr ...</td>\n",
              "      <td>currently bed writing past hr 12 dogs barking ...</td>\n",
              "      <td>2</td>\n",
              "      <td>['currently', 'bed', 'writing', 'past', 'hr', ...</td>\n",
              "      <td>0</td>\n",
              "    </tr>\n",
              "    <tr>\n",
              "      <th>4</th>\n",
              "      <td>4</td>\n",
              "      <td>AVwdOclqIN2L1WUfti38</td>\n",
              "      <td>Aloft Arundel Mills</td>\n",
              "      <td>ALWAYS GREAT STAY...</td>\n",
              "      <td>MamaNiaOne</td>\n",
              "      <td>I live in Md and the Aloft is my Home away fro...</td>\n",
              "      <td>live md aloft home away homewe stayed 1 night ...</td>\n",
              "      <td>5</td>\n",
              "      <td>['live', 'md', 'aloft', 'home', 'away', 'homew...</td>\n",
              "      <td>1</td>\n",
              "    </tr>\n",
              "    <tr>\n",
              "      <th>5</th>\n",
              "      <td>5</td>\n",
              "      <td>AVwdOclqIN2L1WUfti38</td>\n",
              "      <td>Aloft Arundel Mills</td>\n",
              "      <td>Wonderful stay</td>\n",
              "      <td>kevan777</td>\n",
              "      <td>I stayed here with my family for my daughters ...</td>\n",
              "      <td>stayed family daughters wedding accommodating ...</td>\n",
              "      <td>5</td>\n",
              "      <td>['stayed', 'family', 'daughters', 'wedding', '...</td>\n",
              "      <td>1</td>\n",
              "    </tr>\n",
              "    <tr>\n",
              "      <th>6</th>\n",
              "      <td>6</td>\n",
              "      <td>AVwdOclqIN2L1WUfti38</td>\n",
              "      <td>Aloft Arundel Mills</td>\n",
              "      <td>Worth the money</td>\n",
              "      <td>Princess F</td>\n",
              "      <td>Beautiful rooms and the nicest people working ...</td>\n",
              "      <td>beautiful rooms nicest people working front de...</td>\n",
              "      <td>5</td>\n",
              "      <td>['beautiful', 'rooms', 'nicest', 'people', 'wo...</td>\n",
              "      <td>1</td>\n",
              "    </tr>\n",
              "    <tr>\n",
              "      <th>7</th>\n",
              "      <td>7</td>\n",
              "      <td>AVwdOclqIN2L1WUfti38</td>\n",
              "      <td>Aloft Arundel Mills</td>\n",
              "      <td>Great Hotel Experiece!</td>\n",
              "      <td>DebMurphy57</td>\n",
              "      <td>We stayed here while visiting Maryland Live!. ...</td>\n",
              "      <td>stayed visiting maryland live cute hotel great...</td>\n",
              "      <td>5</td>\n",
              "      <td>['stayed', 'visiting', 'maryland', 'live', 'cu...</td>\n",
              "      <td>1</td>\n",
              "    </tr>\n",
              "    <tr>\n",
              "      <th>8</th>\n",
              "      <td>8</td>\n",
              "      <td>AVwdOclqIN2L1WUfti38</td>\n",
              "      <td>Aloft Arundel Mills</td>\n",
              "      <td>Short stay for business.</td>\n",
              "      <td>kayleighwillswim1224</td>\n",
              "      <td>I travel a lot with my job, so I'm constantly ...</td>\n",
              "      <td>travel lot job im constantly staying hotels co...</td>\n",
              "      <td>5</td>\n",
              "      <td>['travel', 'lot', 'job', 'im', 'constantly', '...</td>\n",
              "      <td>1</td>\n",
              "    </tr>\n",
              "    <tr>\n",
              "      <th>9</th>\n",
              "      <td>9</td>\n",
              "      <td>AVwePiAX_7pvs4fzBSAl</td>\n",
              "      <td>Hampton Inn Suites PortlandVancouver</td>\n",
              "      <td>Amazing employees and facilities</td>\n",
              "      <td>KristyWM</td>\n",
              "      <td>In my line of work, I use meeting space in hot...</td>\n",
              "      <td>line work use meeting space hotels often 15 ye...</td>\n",
              "      <td>5</td>\n",
              "      <td>['line', 'work', 'use', 'meeting', 'space', 'h...</td>\n",
              "      <td>1</td>\n",
              "    </tr>\n",
              "    <tr>\n",
              "      <th>10</th>\n",
              "      <td>10</td>\n",
              "      <td>AVwePiAX_7pvs4fzBSAl</td>\n",
              "      <td>Hampton Inn Suites PortlandVancouver</td>\n",
              "      <td>I loved our stay here</td>\n",
              "      <td>B M</td>\n",
              "      <td>The staff is very friendly and helpful. The ro...</td>\n",
              "      <td>staff friendly helpful rooms large nicely furn...</td>\n",
              "      <td>5</td>\n",
              "      <td>['staff', 'friendly', 'helpful', 'rooms', 'lar...</td>\n",
              "      <td>1</td>\n",
              "    </tr>\n",
              "    <tr>\n",
              "      <th>11</th>\n",
              "      <td>11</td>\n",
              "      <td>AVwePiAX_7pvs4fzBSAl</td>\n",
              "      <td>Hampton Inn Suites PortlandVancouver</td>\n",
              "      <td>Hampton Inn - Vancouver WA</td>\n",
              "      <td>Cathleen S</td>\n",
              "      <td>Very friendly staff, great free breakfast item...</td>\n",
              "      <td>friendly staff great free breakfast items morn...</td>\n",
              "      <td>5</td>\n",
              "      <td>['friendly', 'staff', 'great', 'free', 'breakf...</td>\n",
              "      <td>1</td>\n",
              "    </tr>\n",
              "    <tr>\n",
              "      <th>12</th>\n",
              "      <td>12</td>\n",
              "      <td>AVwePiAX_7pvs4fzBSAl</td>\n",
              "      <td>Hampton Inn Suites PortlandVancouver</td>\n",
              "      <td>Perfection</td>\n",
              "      <td>1fiesty</td>\n",
              "      <td>Upon arriving I see modern yet elegant decor w...</td>\n",
              "      <td>upon arriving see modern yet elegant decor ple...</td>\n",
              "      <td>5</td>\n",
              "      <td>['upon', 'arriving', 'see', 'modern', 'yet', '...</td>\n",
              "      <td>1</td>\n",
              "    </tr>\n",
              "    <tr>\n",
              "      <th>13</th>\n",
              "      <td>13</td>\n",
              "      <td>AVwePiAX_7pvs4fzBSAl</td>\n",
              "      <td>Hampton Inn Suites PortlandVancouver</td>\n",
              "      <td>Good hotel. Worth checking out.</td>\n",
              "      <td>810michellemm</td>\n",
              "      <td>This is a nice hotel with great staff. I have ...</td>\n",
              "      <td>nice hotel great staff young children entire s...</td>\n",
              "      <td>5</td>\n",
              "      <td>['nice', 'hotel', 'great', 'staff', 'young', '...</td>\n",
              "      <td>1</td>\n",
              "    </tr>\n",
              "    <tr>\n",
              "      <th>14</th>\n",
              "      <td>14</td>\n",
              "      <td>AVwePiAX_7pvs4fzBSAl</td>\n",
              "      <td>Hampton Inn Suites PortlandVancouver</td>\n",
              "      <td>Excellent!</td>\n",
              "      <td>travelchick1113</td>\n",
              "      <td>Beautiful property and every staff member I en...</td>\n",
              "      <td>beautiful property every staff member encounte...</td>\n",
              "      <td>5</td>\n",
              "      <td>['beautiful', 'property', 'every', 'staff', 'm...</td>\n",
              "      <td>1</td>\n",
              "    </tr>\n",
              "    <tr>\n",
              "      <th>15</th>\n",
              "      <td>15</td>\n",
              "      <td>AVwdUKE3_7pvs4fz4lE-</td>\n",
              "      <td>Hotel Phillips</td>\n",
              "      <td>Very pleased</td>\n",
              "      <td>AimlessinMe</td>\n",
              "      <td>Old hotel with many remaining architectural ch...</td>\n",
              "      <td>old hotel many remaining architectural charms ...</td>\n",
              "      <td>4</td>\n",
              "      <td>['old', 'hotel', 'many', 'remaining', 'archite...</td>\n",
              "      <td>1</td>\n",
              "    </tr>\n",
              "    <tr>\n",
              "      <th>16</th>\n",
              "      <td>16</td>\n",
              "      <td>AVwdUKE3_7pvs4fz4lE-</td>\n",
              "      <td>Hotel Phillips</td>\n",
              "      <td>Excellent Stay</td>\n",
              "      <td>Tabitha K</td>\n",
              "      <td>Very comfortable room. Our son came and they h...</td>\n",
              "      <td>comfortable room son came couch pulled queen s...</td>\n",
              "      <td>5</td>\n",
              "      <td>['comfortable', 'room', 'son', 'came', 'couch'...</td>\n",
              "      <td>1</td>\n",
              "    </tr>\n",
              "    <tr>\n",
              "      <th>17</th>\n",
              "      <td>17</td>\n",
              "      <td>AVwdUKE3_7pvs4fz4lE-</td>\n",
              "      <td>Hotel Phillips</td>\n",
              "      <td>Beautiful lobby but rooms need help</td>\n",
              "      <td>Yamachaser</td>\n",
              "      <td>Stayed here for second time recently. Gorgeous...</td>\n",
              "      <td>stayed second time recently gorgeous lobby fri...</td>\n",
              "      <td>3</td>\n",
              "      <td>['stayed', 'second', 'time', 'recently', 'gorg...</td>\n",
              "      <td>0</td>\n",
              "    </tr>\n",
              "    <tr>\n",
              "      <th>18</th>\n",
              "      <td>18</td>\n",
              "      <td>AVwdUKE3_7pvs4fz4lE-</td>\n",
              "      <td>Hotel Phillips</td>\n",
              "      <td>Hotel's 1920s charm and elegance remain fresh</td>\n",
              "      <td>Rbuffington</td>\n",
              "      <td>My husband and I always try to stay at the Hot...</td>\n",
              "      <td>husband always try stay hotel phillips kansas ...</td>\n",
              "      <td>5</td>\n",
              "      <td>['husband', 'always', 'try', 'stay', 'hotel', ...</td>\n",
              "      <td>1</td>\n",
              "    </tr>\n",
              "    <tr>\n",
              "      <th>19</th>\n",
              "      <td>19</td>\n",
              "      <td>AVwdUKE3_7pvs4fz4lE-</td>\n",
              "      <td>Hotel Phillips</td>\n",
              "      <td>Excellent stay</td>\n",
              "      <td>Nick F</td>\n",
              "      <td>Just stayed one night but very happy. Nice, co...</td>\n",
              "      <td>stayed one night happy nice comfortable top fl...</td>\n",
              "      <td>4</td>\n",
              "      <td>['stayed', 'one', 'night', 'happy', 'nice', 'c...</td>\n",
              "      <td>1</td>\n",
              "    </tr>\n",
              "    <tr>\n",
              "      <th>20</th>\n",
              "      <td>20</td>\n",
              "      <td>AVweQyWNkufWRAb5BZeg</td>\n",
              "      <td>The Inn at Solvang</td>\n",
              "      <td>Thank you, Garth Brooks!</td>\n",
              "      <td>sxk158</td>\n",
              "      <td>Everything was sold out in State College for G...</td>\n",
              "      <td>everything sold state college garths concerts ...</td>\n",
              "      <td>5</td>\n",
              "      <td>['everything', 'sold', 'state', 'college', 'ga...</td>\n",
              "      <td>1</td>\n",
              "    </tr>\n",
              "    <tr>\n",
              "      <th>21</th>\n",
              "      <td>21</td>\n",
              "      <td>AVweQDZpIN2L1WUf3TA9</td>\n",
              "      <td>Econolodge</td>\n",
              "      <td>Extended stay</td>\n",
              "      <td>tcolt45</td>\n",
              "      <td>I work here in Perry about 6 days out of the w...</td>\n",
              "      <td>work perry 6 days week people friendly willing...</td>\n",
              "      <td>5</td>\n",
              "      <td>['work', 'perry', '6', 'days', 'week', 'people...</td>\n",
              "      <td>1</td>\n",
              "    </tr>\n",
              "    <tr>\n",
              "      <th>22</th>\n",
              "      <td>22</td>\n",
              "      <td>AVwdQ0dy_7pvs4fz4BqX</td>\n",
              "      <td>Hotel Zelos</td>\n",
              "      <td>Convenient, cute and moderately comfrotable</td>\n",
              "      <td>C</td>\n",
              "      <td>The hotel is just one of many that are on this...</td>\n",
              "      <td>hotel one many new trend firmer pillows mattre...</td>\n",
              "      <td>5</td>\n",
              "      <td>['hotel', 'one', 'many', 'new', 'trend', 'firm...</td>\n",
              "      <td>1</td>\n",
              "    </tr>\n",
              "    <tr>\n",
              "      <th>23</th>\n",
              "      <td>23</td>\n",
              "      <td>AVwdQ0dy_7pvs4fz4BqX</td>\n",
              "      <td>Hotel Zelos</td>\n",
              "      <td>Perfectly fine hotel for a visit to SF</td>\n",
              "      <td>David</td>\n",
              "      <td>excellent location near convention center. fri...</td>\n",
              "      <td>excellent location near convention center frie...</td>\n",
              "      <td>4</td>\n",
              "      <td>['excellent', 'location', 'near', 'convention'...</td>\n",
              "      <td>1</td>\n",
              "    </tr>\n",
              "    <tr>\n",
              "      <th>24</th>\n",
              "      <td>24</td>\n",
              "      <td>AVwdQ0dy_7pvs4fz4BqX</td>\n",
              "      <td>Hotel Zelos</td>\n",
              "      <td>Great Staff!</td>\n",
              "      <td>Lindsay</td>\n",
              "      <td>Hotel Zelos was a great place to stay in San F...</td>\n",
              "      <td>hotel zelos great place stay san francisco sta...</td>\n",
              "      <td>5</td>\n",
              "      <td>['hotel', 'zelos', 'great', 'place', 'stay', '...</td>\n",
              "      <td>1</td>\n",
              "    </tr>\n",
              "    <tr>\n",
              "      <th>25</th>\n",
              "      <td>25</td>\n",
              "      <td>AVwdQ0dy_7pvs4fz4BqX</td>\n",
              "      <td>Hotel Zelos</td>\n",
              "      <td>Not so good, not so bad</td>\n",
              "      <td>Maxence Z</td>\n",
              "      <td>Pros: the location is awesome, the room size i...</td>\n",
              "      <td>pros location awesome room size great bathroom...</td>\n",
              "      <td>3</td>\n",
              "      <td>['pros', 'location', 'awesome', 'room', 'size'...</td>\n",
              "      <td>0</td>\n",
              "    </tr>\n",
              "    <tr>\n",
              "      <th>26</th>\n",
              "      <td>26</td>\n",
              "      <td>AVwdKLPU_7pvs4fz23YA</td>\n",
              "      <td>EconoLodge</td>\n",
              "      <td>DO NOT stay here!!!!!!!!!!!</td>\n",
              "      <td>Tunaphat</td>\n",
              "      <td>After getting the bait and switch I decided I'...</td>\n",
              "      <td>getting bait switch decided id rather stay any...</td>\n",
              "      <td>1</td>\n",
              "      <td>['getting', 'bait', 'switch', 'decided', 'id',...</td>\n",
              "      <td>0</td>\n",
              "    </tr>\n",
              "    <tr>\n",
              "      <th>27</th>\n",
              "      <td>27</td>\n",
              "      <td>AVwdKLPU_7pvs4fz23YA</td>\n",
              "      <td>EconoLodge</td>\n",
              "      <td>Filthy hotel and crooked people who own it!</td>\n",
              "      <td>hoosierladyus48</td>\n",
              "      <td>We had no choice but to stay here when a torna...</td>\n",
              "      <td>choice stay tornado hit area vineland without ...</td>\n",
              "      <td>1</td>\n",
              "      <td>['choice', 'stay', 'tornado', 'hit', 'area', '...</td>\n",
              "      <td>0</td>\n",
              "    </tr>\n",
              "    <tr>\n",
              "      <th>28</th>\n",
              "      <td>28</td>\n",
              "      <td>AWE7dKHFIxWefVJwyLgA</td>\n",
              "      <td>Hampton Inn Suites National HarborAlexandria Area</td>\n",
              "      <td>THE DC TRIP</td>\n",
              "      <td>A verified traveler</td>\n",
              "      <td>Hotel is in the perfect spot at the perfect pr...</td>\n",
              "      <td>hotel perfect spot perfect price perfect view ...</td>\n",
              "      <td>4</td>\n",
              "      <td>['hotel', 'perfect', 'spot', 'perfect', 'price...</td>\n",
              "      <td>1</td>\n",
              "    </tr>\n",
              "    <tr>\n",
              "      <th>29</th>\n",
              "      <td>29</td>\n",
              "      <td>AWE7dKHFIxWefVJwyLgA</td>\n",
              "      <td>Hampton Inn Suites National HarborAlexandria Area</td>\n",
              "      <td>Nice location</td>\n",
              "      <td>A verified traveler</td>\n",
              "      <td>Excellent experience. Will come again and book...</td>\n",
              "      <td>excellent experience come book stay future</td>\n",
              "      <td>5</td>\n",
              "      <td>['excellent', 'experience', 'come', 'book', 's...</td>\n",
              "      <td>1</td>\n",
              "    </tr>\n",
              "    <tr>\n",
              "      <th>30</th>\n",
              "      <td>30</td>\n",
              "      <td>AWE7dKHFIxWefVJwyLgA</td>\n",
              "      <td>Hampton Inn Suites National HarborAlexandria Area</td>\n",
              "      <td>Hampton Inn</td>\n",
              "      <td>A verified traveler</td>\n",
              "      <td>heat in room did not work properly, tv remote ...</td>\n",
              "      <td>heat room work properly tv remote broken exces...</td>\n",
              "      <td>2</td>\n",
              "      <td>['heat', 'room', 'work', 'properly', 'tv', 're...</td>\n",
              "      <td>0</td>\n",
              "    </tr>\n",
              "    <tr>\n",
              "      <th>31</th>\n",
              "      <td>31</td>\n",
              "      <td>AWE7dKHFIxWefVJwyLgA</td>\n",
              "      <td>Hampton Inn Suites National HarborAlexandria Area</td>\n",
              "      <td>Gracious and helpful staff</td>\n",
              "      <td>Lorraine</td>\n",
              "      <td>Even though we were having problems, i.e. Feat...</td>\n",
              "      <td>even though problems ie feather allergy flat t...</td>\n",
              "      <td>5</td>\n",
              "      <td>['even', 'though', 'problems', 'ie', 'feather'...</td>\n",
              "      <td>1</td>\n",
              "    </tr>\n",
              "    <tr>\n",
              "      <th>32</th>\n",
              "      <td>32</td>\n",
              "      <td>AWE7dKHFIxWefVJwyLgA</td>\n",
              "      <td>Hampton Inn Suites National HarborAlexandria Area</td>\n",
              "      <td>beautiful, convenient location</td>\n",
              "      <td>A verified traveler</td>\n",
              "      <td>Brand new hotel in brand new retail area on th...</td>\n",
              "      <td>brand new hotel brand new retail area water ea...</td>\n",
              "      <td>4</td>\n",
              "      <td>['brand', 'new', 'hotel', 'brand', 'new', 'ret...</td>\n",
              "      <td>1</td>\n",
              "    </tr>\n",
              "    <tr>\n",
              "      <th>33</th>\n",
              "      <td>33</td>\n",
              "      <td>AWE7dKHFIxWefVJwyLgA</td>\n",
              "      <td>Hampton Inn Suites National HarborAlexandria Area</td>\n",
              "      <td>great!!!!!!</td>\n",
              "      <td>Walter</td>\n",
              "      <td>It was a great stay</td>\n",
              "      <td>great stay</td>\n",
              "      <td>5</td>\n",
              "      <td>['great', 'stay']</td>\n",
              "      <td>1</td>\n",
              "    </tr>\n",
              "    <tr>\n",
              "      <th>34</th>\n",
              "      <td>34</td>\n",
              "      <td>AWE7dKHFIxWefVJwyLgA</td>\n",
              "      <td>Hampton Inn Suites National HarborAlexandria Area</td>\n",
              "      <td>Awesome Stay</td>\n",
              "      <td>A verified traveler</td>\n",
              "      <td>My sister came into town so we decided to go t...</td>\n",
              "      <td>sister came town decided go national harbor ni...</td>\n",
              "      <td>4</td>\n",
              "      <td>['sister', 'came', 'town', 'decided', 'go', 'n...</td>\n",
              "      <td>1</td>\n",
              "    </tr>\n",
              "    <tr>\n",
              "      <th>35</th>\n",
              "      <td>35</td>\n",
              "      <td>AWE7dKHFIxWefVJwyLgA</td>\n",
              "      <td>Hampton Inn Suites National HarborAlexandria Area</td>\n",
              "      <td>Reasonable price for exceptional hotel</td>\n",
              "      <td>A verified traveler</td>\n",
              "      <td>Free breakfast! Attentive staff Fantastic loca...</td>\n",
              "      <td>free breakfast attentive staff fantastic location</td>\n",
              "      <td>5</td>\n",
              "      <td>['free', 'breakfast', 'attentive', 'staff', 'f...</td>\n",
              "      <td>1</td>\n",
              "    </tr>\n",
              "    <tr>\n",
              "      <th>36</th>\n",
              "      <td>36</td>\n",
              "      <td>AWE7dKHFIxWefVJwyLgA</td>\n",
              "      <td>Hampton Inn Suites National HarborAlexandria Area</td>\n",
              "      <td>Excellent!</td>\n",
              "      <td>Gene</td>\n",
              "      <td>Excellent experience. Due to a mix-up on my pa...</td>\n",
              "      <td>excellent experience due mixup part online tra...</td>\n",
              "      <td>5</td>\n",
              "      <td>['excellent', 'experience', 'due', 'mixup', 'p...</td>\n",
              "      <td>1</td>\n",
              "    </tr>\n",
              "    <tr>\n",
              "      <th>37</th>\n",
              "      <td>37</td>\n",
              "      <td>AWE7dKHFIxWefVJwyLgA</td>\n",
              "      <td>Hampton Inn Suites National HarborAlexandria Area</td>\n",
              "      <td>Great Room</td>\n",
              "      <td>A verified traveler</td>\n",
              "      <td>The room was really big and clean. The staff w...</td>\n",
              "      <td>room really big clean staff great hotel offers...</td>\n",
              "      <td>5</td>\n",
              "      <td>['room', 'really', 'big', 'clean', 'staff', 'g...</td>\n",
              "      <td>1</td>\n",
              "    </tr>\n",
              "    <tr>\n",
              "      <th>38</th>\n",
              "      <td>38</td>\n",
              "      <td>AWE7dKHFIxWefVJwyLgA</td>\n",
              "      <td>Hampton Inn Suites National HarborAlexandria Area</td>\n",
              "      <td>GREAT LOCATION</td>\n",
              "      <td>A verified traveler</td>\n",
              "      <td>THE LOCATION OF THE HOTEL WAS OUTSTANDING. BUT...</td>\n",
              "      <td>location hotel outstanding additional cost par...</td>\n",
              "      <td>4</td>\n",
              "      <td>['location', 'hotel', 'outstanding', 'addition...</td>\n",
              "      <td>1</td>\n",
              "    </tr>\n",
              "    <tr>\n",
              "      <th>39</th>\n",
              "      <td>39</td>\n",
              "      <td>AWE7dKHFIxWefVJwyLgA</td>\n",
              "      <td>Hampton Inn Suites National HarborAlexandria Area</td>\n",
              "      <td>great stay</td>\n",
              "      <td>A verified traveler</td>\n",
              "      <td>was too quick, but very nice area</td>\n",
              "      <td>quick nice area</td>\n",
              "      <td>4</td>\n",
              "      <td>['quick', 'nice', 'area']</td>\n",
              "      <td>1</td>\n",
              "    </tr>\n",
              "    <tr>\n",
              "      <th>40</th>\n",
              "      <td>40</td>\n",
              "      <td>AWE7dKHFIxWefVJwyLgA</td>\n",
              "      <td>Hampton Inn Suites National HarborAlexandria Area</td>\n",
              "      <td>Best</td>\n",
              "      <td>A verified traveler</td>\n",
              "      <td>clean, good area, very kind crew, easy to park</td>\n",
              "      <td>clean good area kind crew easy park</td>\n",
              "      <td>4</td>\n",
              "      <td>['clean', 'good', 'area', 'kind', 'crew', 'eas...</td>\n",
              "      <td>1</td>\n",
              "    </tr>\n",
              "    <tr>\n",
              "      <th>41</th>\n",
              "      <td>41</td>\n",
              "      <td>AWE7dKHFIxWefVJwyLgA</td>\n",
              "      <td>Hampton Inn Suites National HarborAlexandria Area</td>\n",
              "      <td>Easter Get Away</td>\n",
              "      <td>A verified traveler</td>\n",
              "      <td>We had a great overnight trip to the National ...</td>\n",
              "      <td>great overnight trip national harbor near dc s...</td>\n",
              "      <td>4</td>\n",
              "      <td>['great', 'overnight', 'trip', 'national', 'ha...</td>\n",
              "      <td>1</td>\n",
              "    </tr>\n",
              "    <tr>\n",
              "      <th>42</th>\n",
              "      <td>42</td>\n",
              "      <td>AWE7dKHFIxWefVJwyLgA</td>\n",
              "      <td>Hampton Inn Suites National HarborAlexandria Area</td>\n",
              "      <td>Hampton inn</td>\n",
              "      <td>Chi</td>\n",
              "      <td>I loved my stay VIP service all the way. I did...</td>\n",
              "      <td>loved stay vip service way didnt want leave ho...</td>\n",
              "      <td>5</td>\n",
              "      <td>['loved', 'stay', 'vip', 'service', 'way', 'di...</td>\n",
              "      <td>1</td>\n",
              "    </tr>\n",
              "    <tr>\n",
              "      <th>43</th>\n",
              "      <td>43</td>\n",
              "      <td>AWE7dKHFIxWefVJwyLgA</td>\n",
              "      <td>Hampton Inn Suites National HarborAlexandria Area</td>\n",
              "      <td>Overall it was good but AC sucks!!</td>\n",
              "      <td>Reyes</td>\n",
              "      <td>The only problem I have was their sensorize IN...</td>\n",
              "      <td>problem sensorize inncom thermostat air condit...</td>\n",
              "      <td>5</td>\n",
              "      <td>['problem', 'sensorize', 'inncom', 'thermostat...</td>\n",
              "      <td>1</td>\n",
              "    </tr>\n",
              "    <tr>\n",
              "      <th>44</th>\n",
              "      <td>44</td>\n",
              "      <td>AWE7dKHFIxWefVJwyLgA</td>\n",
              "      <td>Hampton Inn Suites National HarborAlexandria Area</td>\n",
              "      <td>Extremely comfortable</td>\n",
              "      <td>Sarah</td>\n",
              "      <td>Convenient and comfortable. Staff is great, br...</td>\n",
              "      <td>convenient comfortable staff great breakfast w...</td>\n",
              "      <td>5</td>\n",
              "      <td>['convenient', 'comfortable', 'staff', 'great'...</td>\n",
              "      <td>1</td>\n",
              "    </tr>\n",
              "    <tr>\n",
              "      <th>45</th>\n",
              "      <td>45</td>\n",
              "      <td>AWE7dKHFIxWefVJwyLgA</td>\n",
              "      <td>Hampton Inn Suites National HarborAlexandria Area</td>\n",
              "      <td>TV sucks</td>\n",
              "      <td>A verified traveler</td>\n",
              "      <td>I was really disappointed with the TV service....</td>\n",
              "      <td>really disappointed tv service channels poor q...</td>\n",
              "      <td>3</td>\n",
              "      <td>['really', 'disappointed', 'tv', 'service', 'c...</td>\n",
              "      <td>0</td>\n",
              "    </tr>\n",
              "    <tr>\n",
              "      <th>46</th>\n",
              "      <td>46</td>\n",
              "      <td>AWE7dKHFIxWefVJwyLgA</td>\n",
              "      <td>Hampton Inn Suites National HarborAlexandria Area</td>\n",
              "      <td>Will definately stay there again</td>\n",
              "      <td>Vera S. Potts-Anderson</td>\n",
              "      <td>Awesome, Overall</td>\n",
              "      <td>awesome overall</td>\n",
              "      <td>5</td>\n",
              "      <td>['awesome', 'overall']</td>\n",
              "      <td>1</td>\n",
              "    </tr>\n",
              "    <tr>\n",
              "      <th>47</th>\n",
              "      <td>47</td>\n",
              "      <td>AWE7dKHFIxWefVJwyLgA</td>\n",
              "      <td>Hampton Inn Suites National HarborAlexandria Area</td>\n",
              "      <td>Great conference stay</td>\n",
              "      <td>Ron</td>\n",
              "      <td>Better with more extras like breakfast. Prefer...</td>\n",
              "      <td>better extras like breakfast preferred place s...</td>\n",
              "      <td>5</td>\n",
              "      <td>['better', 'extras', 'like', 'breakfast', 'pre...</td>\n",
              "      <td>1</td>\n",
              "    </tr>\n",
              "    <tr>\n",
              "      <th>48</th>\n",
              "      <td>48</td>\n",
              "      <td>AWE7dKHFIxWefVJwyLgA</td>\n",
              "      <td>Hampton Inn Suites National HarborAlexandria Area</td>\n",
              "      <td>Nice</td>\n",
              "      <td>A verified traveler</td>\n",
              "      <td>Very good experience. Staff was great. Enjoyed...</td>\n",
              "      <td>good experience staff great enjoyed times espe...</td>\n",
              "      <td>4</td>\n",
              "      <td>['good', 'experience', 'staff', 'great', 'enjo...</td>\n",
              "      <td>1</td>\n",
              "    </tr>\n",
              "    <tr>\n",
              "      <th>49</th>\n",
              "      <td>49</td>\n",
              "      <td>AWE7dKHFIxWefVJwyLgA</td>\n",
              "      <td>Hampton Inn Suites National HarborAlexandria Area</td>\n",
              "      <td>More than Expected</td>\n",
              "      <td>Mitch</td>\n",
              "      <td>The hotel is located near all the attractions ...</td>\n",
              "      <td>hotel located near attractions harbor provided...</td>\n",
              "      <td>5</td>\n",
              "      <td>['hotel', 'located', 'near', 'attractions', 'h...</td>\n",
              "      <td>1</td>\n",
              "    </tr>\n",
              "  </tbody>\n",
              "</table>\n",
              "</div>"
            ],
            "text/plain": [
              "    Unnamed: 0  ... Sentiment\n",
              "0            0  ...         1\n",
              "1            1  ...         1\n",
              "2            2  ...         1\n",
              "3            3  ...         0\n",
              "4            4  ...         1\n",
              "5            5  ...         1\n",
              "6            6  ...         1\n",
              "7            7  ...         1\n",
              "8            8  ...         1\n",
              "9            9  ...         1\n",
              "10          10  ...         1\n",
              "11          11  ...         1\n",
              "12          12  ...         1\n",
              "13          13  ...         1\n",
              "14          14  ...         1\n",
              "15          15  ...         1\n",
              "16          16  ...         1\n",
              "17          17  ...         0\n",
              "18          18  ...         1\n",
              "19          19  ...         1\n",
              "20          20  ...         1\n",
              "21          21  ...         1\n",
              "22          22  ...         1\n",
              "23          23  ...         1\n",
              "24          24  ...         1\n",
              "25          25  ...         0\n",
              "26          26  ...         0\n",
              "27          27  ...         0\n",
              "28          28  ...         1\n",
              "29          29  ...         1\n",
              "30          30  ...         0\n",
              "31          31  ...         1\n",
              "32          32  ...         1\n",
              "33          33  ...         1\n",
              "34          34  ...         1\n",
              "35          35  ...         1\n",
              "36          36  ...         1\n",
              "37          37  ...         1\n",
              "38          38  ...         1\n",
              "39          39  ...         1\n",
              "40          40  ...         1\n",
              "41          41  ...         1\n",
              "42          42  ...         1\n",
              "43          43  ...         1\n",
              "44          44  ...         1\n",
              "45          45  ...         0\n",
              "46          46  ...         1\n",
              "47          47  ...         1\n",
              "48          48  ...         1\n",
              "49          49  ...         1\n",
              "\n",
              "[50 rows x 10 columns]"
            ]
          },
          "metadata": {
            "tags": []
          },
          "execution_count": 88
        }
      ]
    },
    {
      "cell_type": "code",
      "metadata": {
        "id": "uDOHc3U2bjve",
        "colab_type": "code",
        "colab": {}
      },
      "source": [
        "def clean_str(string):\n",
        "    string = re.sub(r\"\\\\\", \"\", string)\n",
        "    string = re.sub(r\"\\'\", \"\", string)\n",
        "    string = re.sub(r\"\\\"\", \"\", string)\n",
        "    return string"
      ],
      "execution_count": 89,
      "outputs": []
    },
    {
      "cell_type": "code",
      "metadata": {
        "id": "NMPwuZYSXhkJ",
        "colab_type": "code",
        "colab": {}
      },
      "source": [
        "MAX_SEQUENCE_LENGTH = 1000\n",
        "MAX_NB_WORDS = 20000\n",
        "EMBEDDING_DIM = 100\n",
        "VALIDATION_SPLIT = 0.2"
      ],
      "execution_count": 90,
      "outputs": []
    },
    {
      "cell_type": "code",
      "metadata": {
        "id": "OE8j4nWPXppK",
        "colab_type": "code",
        "colab": {
          "base_uri": "https://localhost:8080/",
          "height": 204
        },
        "outputId": "fcd97ee3-fcac-4b4c-ea9e-bee89392ce17"
      },
      "source": [
        "pd.isnull(data).any()\n"
      ],
      "execution_count": 91,
      "outputs": [
        {
          "output_type": "execute_result",
          "data": {
            "text/plain": [
              "Unnamed: 0    False\n",
              "Hotel_id      False\n",
              "Hotel         False\n",
              "Title          True\n",
              "Users         False\n",
              "Reviews        True\n",
              "Text_Clean     True\n",
              "Rating        False\n",
              "tokens        False\n",
              "Sentiment     False\n",
              "dtype: bool"
            ]
          },
          "metadata": {
            "tags": []
          },
          "execution_count": 91
        }
      ]
    },
    {
      "cell_type": "code",
      "metadata": {
        "id": "sfrgHJjfYETK",
        "colab_type": "code",
        "colab": {}
      },
      "source": [
        "#Filing the missing Review with 'na'\n",
        "data['Reviews'] = data['Reviews'].fillna('').apply(str)\n",
        "data['Title'] = data['Title'].fillna('').apply(str)\n",
        "data['Text_Clean'] = data['Text_Clean'].fillna('').apply(str)"
      ],
      "execution_count": 92,
      "outputs": []
    },
    {
      "cell_type": "code",
      "metadata": {
        "id": "MPuTanxzX4WE",
        "colab_type": "code",
        "colab": {
          "base_uri": "https://localhost:8080/",
          "height": 102
        },
        "outputId": "c1b1584d-f902-44de-a989-711965bccbf9"
      },
      "source": [
        "data = data.dropna()\n",
        "data = data.reset_index(drop=True)\n",
        "print('Shape of dataset ',data.shape)\n",
        "print(data.columns)\n",
        "print('No. of unique classes',len(set(data['Sentiment'])))\n"
      ],
      "execution_count": 93,
      "outputs": [
        {
          "output_type": "stream",
          "text": [
            "Shape of dataset  (9999, 10)\n",
            "Index(['Unnamed: 0', 'Hotel_id', 'Hotel', 'Title', 'Users', 'Reviews',\n",
            "       'Text_Clean', 'Rating', 'tokens', 'Sentiment'],\n",
            "      dtype='object')\n",
            "No. of unique classes 2\n"
          ],
          "name": "stdout"
        }
      ]
    },
    {
      "cell_type": "code",
      "metadata": {
        "id": "QOLZ77mfagvP",
        "colab_type": "code",
        "colab": {}
      },
      "source": [
        "macronum=sorted(set(data['Sentiment']))\n",
        "macro_to_id = dict((note, number) for number, note in enumerate(macronum))\n",
        "\n",
        "def fun(i):\n",
        "    return macro_to_id[i]\n",
        "\n",
        "data['Sentiment']=data['Sentiment'].apply(fun)"
      ],
      "execution_count": 94,
      "outputs": []
    },
    {
      "cell_type": "code",
      "metadata": {
        "id": "uOYYBzV1asvg",
        "colab_type": "code",
        "colab": {}
      },
      "source": [
        "texts = []\n",
        "labels = []\n",
        "\n",
        "\n",
        "for idx in range(data.Text_Clean.shape[0]):\n",
        "    text = BeautifulSoup(data.Text_Clean[idx])\n",
        "    texts.append(clean_str(str(text.get_text().encode())))\n",
        "\n",
        "for idx in data['Sentiment']:\n",
        "    labels.append(idx)"
      ],
      "execution_count": 95,
      "outputs": []
    },
    {
      "cell_type": "code",
      "metadata": {
        "id": "4t1cJmtHbeqn",
        "colab_type": "code",
        "colab": {
          "base_uri": "https://localhost:8080/",
          "height": 34
        },
        "outputId": "61f24c34-8d4b-495c-dd98-b2548c03d882"
      },
      "source": [
        "\n",
        "tokenizer = Tokenizer(num_words=MAX_NB_WORDS)\n",
        "tokenizer.fit_on_texts(texts)\n",
        "sequences = tokenizer.texts_to_sequences(texts)\n",
        "\n",
        "word_index = tokenizer.word_index\n",
        "print('Number of Unique Tokens',len(word_index))"
      ],
      "execution_count": 96,
      "outputs": [
        {
          "output_type": "stream",
          "text": [
            "Number of Unique Tokens 20921\n"
          ],
          "name": "stdout"
        }
      ]
    },
    {
      "cell_type": "code",
      "metadata": {
        "id": "AjVOCHwXb7De",
        "colab_type": "code",
        "colab": {
          "base_uri": "https://localhost:8080/",
          "height": 51
        },
        "outputId": "9a7a4443-5605-4233-f334-72a59f124d35"
      },
      "source": [
        "data = pad_sequences(sequences, maxlen=MAX_SEQUENCE_LENGTH)\n",
        "\n",
        "labels = to_categorical(np.asarray(labels))\n",
        "print('Shape of Data Tensor:', data.shape)\n",
        "print('Shape of Label Tensor:', labels.shape)\n",
        "\n",
        "indices = np.arange(data.shape[0])\n",
        "np.random.shuffle(indices)\n",
        "data = data[indices]\n",
        "labels = labels[indices]\n",
        "nb_validation_samples = int(VALIDATION_SPLIT * data.shape[0])\n",
        "\n",
        "x_train = data[:-nb_validation_samples]\n",
        "y_train = labels[:-nb_validation_samples]\n",
        "x_val = data[-nb_validation_samples:]\n",
        "y_val = labels[-nb_validation_samples:]"
      ],
      "execution_count": 97,
      "outputs": [
        {
          "output_type": "stream",
          "text": [
            "Shape of Data Tensor: (9999, 1000)\n",
            "Shape of Label Tensor: (9999, 2)\n"
          ],
          "name": "stdout"
        }
      ]
    },
    {
      "cell_type": "code",
      "metadata": {
        "id": "aFovTk4Kh6g-",
        "colab_type": "code",
        "colab": {
          "base_uri": "https://localhost:8080/",
          "height": 357
        },
        "outputId": "a03c5b21-0f30-4e5a-fce6-55e80fc38f05"
      },
      "source": [
        "!wget http://nlp.stanford.edu/data/glove.6B.zip\n"
      ],
      "execution_count": 98,
      "outputs": [
        {
          "output_type": "stream",
          "text": [
            "--2020-08-19 08:04:35--  http://nlp.stanford.edu/data/glove.6B.zip\n",
            "Resolving nlp.stanford.edu (nlp.stanford.edu)... 171.64.67.140\n",
            "Connecting to nlp.stanford.edu (nlp.stanford.edu)|171.64.67.140|:80... connected.\n",
            "HTTP request sent, awaiting response... 302 Found\n",
            "Location: https://nlp.stanford.edu/data/glove.6B.zip [following]\n",
            "--2020-08-19 08:04:35--  https://nlp.stanford.edu/data/glove.6B.zip\n",
            "Connecting to nlp.stanford.edu (nlp.stanford.edu)|171.64.67.140|:443... connected.\n",
            "HTTP request sent, awaiting response... 301 Moved Permanently\n",
            "Location: http://downloads.cs.stanford.edu/nlp/data/glove.6B.zip [following]\n",
            "--2020-08-19 08:04:36--  http://downloads.cs.stanford.edu/nlp/data/glove.6B.zip\n",
            "Resolving downloads.cs.stanford.edu (downloads.cs.stanford.edu)... 171.64.64.22\n",
            "Connecting to downloads.cs.stanford.edu (downloads.cs.stanford.edu)|171.64.64.22|:80... connected.\n",
            "HTTP request sent, awaiting response... 200 OK\n",
            "Length: 862182613 (822M) [application/zip]\n",
            "Saving to: ‘glove.6B.zip.1’\n",
            "\n",
            "glove.6B.zip.1      100%[===================>] 822.24M  2.26MB/s    in 6m 29s  \n",
            "\n",
            "2020-08-19 08:11:06 (2.11 MB/s) - ‘glove.6B.zip.1’ saved [862182613/862182613]\n",
            "\n"
          ],
          "name": "stdout"
        }
      ]
    },
    {
      "cell_type": "code",
      "metadata": {
        "id": "fpY9la5ah788",
        "colab_type": "code",
        "colab": {
          "base_uri": "https://localhost:8080/",
          "height": 102
        },
        "outputId": "fdb7a349-2988-4af3-d2bf-a04f0cf075f5"
      },
      "source": [
        "!unzip glove*.zip\n"
      ],
      "execution_count": 99,
      "outputs": [
        {
          "output_type": "stream",
          "text": [
            "Archive:  glove.6B.zip\n",
            "replace glove.6B.50d.txt? [y]es, [n]o, [A]ll, [N]one, [r]ename: n\n",
            "replace glove.6B.100d.txt? [y]es, [n]o, [A]ll, [N]one, [r]ename: y\n",
            "  inflating: glove.6B.100d.txt       \n",
            "replace glove.6B.200d.txt? [y]es, [n]o, [A]ll, [N]one, [r]ename: "
          ],
          "name": "stdout"
        }
      ]
    },
    {
      "cell_type": "code",
      "metadata": {
        "id": "3xpVlQaOiAYU",
        "colab_type": "code",
        "colab": {
          "base_uri": "https://localhost:8080/",
          "height": 102
        },
        "outputId": "fd34cfeb-b4e7-4baf-8a85-b2abc93cf7c5"
      },
      "source": [
        "!ls\n",
        "!pwd"
      ],
      "execution_count": 100,
      "outputs": [
        {
          "output_type": "stream",
          "text": [
            " accuracy_cnn.png      'Demo1 clean.csv'    glove.6B.50d.txt   model_cnn.hdf5\n",
            "'Demo1 clean (1).csv'   glove.6B.100d.txt   glove.6B.zip       sample_data\n",
            "'Demo1 clean (2).csv'   glove.6B.200d.txt   glove.6B.zip.1\n",
            "'Demo1 clean (3).csv'   glove.6B.300d.txt   loss_cnn.png\n",
            "/content\n"
          ],
          "name": "stdout"
        }
      ]
    },
    {
      "cell_type": "code",
      "metadata": {
        "id": "FLVcNONYiQc2",
        "colab_type": "code",
        "colab": {
          "base_uri": "https://localhost:8080/",
          "height": 51
        },
        "outputId": "73977f4f-ee20-4f42-af99-1ecb693a6dc5"
      },
      "source": [
        "print('Indexing word vectors.')\n",
        "\n",
        "embeddings_index = {}\n",
        "f = open('glove.6B.100d.txt', encoding='utf-8')\n",
        "for line in f:\n",
        "    values = line.split()\n",
        "    word = values[0]\n",
        "    coefs = np.asarray(values[1:], dtype='float32')\n",
        "    embeddings_index[word] = coefs\n",
        "f.close()\n",
        "\n",
        "print('Total %s word vectors in Glove 6B 100d..' % len(embeddings_index))"
      ],
      "execution_count": 101,
      "outputs": [
        {
          "output_type": "stream",
          "text": [
            "Indexing word vectors.\n",
            "Total 400000 word vectors in Glove 6B 100d..\n"
          ],
          "name": "stdout"
        }
      ]
    },
    {
      "cell_type": "code",
      "metadata": {
        "id": "cnmMQ7VNijER",
        "colab_type": "code",
        "colab": {}
      },
      "source": [
        "embedding_matrix = np.random.random((len(word_index) + 1, EMBEDDING_DIM))\n",
        "for word, i in word_index.items():\n",
        "    embedding_vector = embeddings_index.get(word)\n",
        "    if embedding_vector is not None:\n",
        "        # words not found in embedding index will be all-zeros.\n",
        "        embedding_matrix[i] = embedding_vector\n",
        "\n",
        "embedding_layer = Embedding(len(word_index) + 1,\n",
        "                            EMBEDDING_DIM,weights=[embedding_matrix],\n",
        "                            input_length=MAX_SEQUENCE_LENGTH,trainable=True)"
      ],
      "execution_count": 102,
      "outputs": []
    },
    {
      "cell_type": "code",
      "metadata": {
        "id": "7QifIsPTijqK",
        "colab_type": "code",
        "colab": {
          "base_uri": "https://localhost:8080/",
          "height": 544
        },
        "outputId": "0a50bcd3-eb7e-4c8b-f697-a846af44e7af"
      },
      "source": [
        "sequence_input = Input(shape=(MAX_SEQUENCE_LENGTH,), dtype='int32')\n",
        "embedded_sequences = embedding_layer(sequence_input)\n",
        "l_cov1= Conv1D(128, 5, activation='relu')(embedded_sequences)\n",
        "l_pool1 = MaxPooling1D(5)(l_cov1)\n",
        "l_cov2 = Conv1D(128, 5, activation='relu')(l_pool1)\n",
        "l_pool2 = MaxPooling1D(5)(l_cov2)\n",
        "l_cov3 = Conv1D(128, 5, activation='relu')(l_pool2)\n",
        "l_pool3 = MaxPooling1D(35)(l_cov3)  # global max pooling\n",
        "l_flat = Flatten()(l_pool3)\n",
        "l_dense = Dense(128, activation='relu')(l_flat)\n",
        "preds = Dense(len(macronum), activation='softmax')(l_dense)\n",
        "\n",
        "model = Model(sequence_input, preds)\n",
        "model.compile(loss='categorical_crossentropy',\n",
        "              optimizer='rmsprop',\n",
        "              metrics=['acc'])\n",
        "\n",
        "print(\"Simplified convolutional neural network\")\n",
        "model.summary()\n",
        "cp=ModelCheckpoint('model_cnn.hdf5',monitor='val_acc',verbose=1,save_best_only=True)\n"
      ],
      "execution_count": 103,
      "outputs": [
        {
          "output_type": "stream",
          "text": [
            "Simplified convolutional neural network\n",
            "Model: \"functional_3\"\n",
            "_________________________________________________________________\n",
            "Layer (type)                 Output Shape              Param #   \n",
            "=================================================================\n",
            "input_2 (InputLayer)         [(None, 1000)]            0         \n",
            "_________________________________________________________________\n",
            "embedding_1 (Embedding)      (None, 1000, 100)         2092200   \n",
            "_________________________________________________________________\n",
            "conv1d_3 (Conv1D)            (None, 996, 128)          64128     \n",
            "_________________________________________________________________\n",
            "max_pooling1d_3 (MaxPooling1 (None, 199, 128)          0         \n",
            "_________________________________________________________________\n",
            "conv1d_4 (Conv1D)            (None, 195, 128)          82048     \n",
            "_________________________________________________________________\n",
            "max_pooling1d_4 (MaxPooling1 (None, 39, 128)           0         \n",
            "_________________________________________________________________\n",
            "conv1d_5 (Conv1D)            (None, 35, 128)           82048     \n",
            "_________________________________________________________________\n",
            "max_pooling1d_5 (MaxPooling1 (None, 1, 128)            0         \n",
            "_________________________________________________________________\n",
            "flatten_1 (Flatten)          (None, 128)               0         \n",
            "_________________________________________________________________\n",
            "dense_2 (Dense)              (None, 128)               16512     \n",
            "_________________________________________________________________\n",
            "dense_3 (Dense)              (None, 2)                 258       \n",
            "=================================================================\n",
            "Total params: 2,337,194\n",
            "Trainable params: 2,337,194\n",
            "Non-trainable params: 0\n",
            "_________________________________________________________________\n"
          ],
          "name": "stdout"
        }
      ]
    },
    {
      "cell_type": "code",
      "metadata": {
        "id": "hpniPx83imzm",
        "colab_type": "code",
        "colab": {
          "base_uri": "https://localhost:8080/",
          "height": 493
        },
        "outputId": "c4f8f28d-f7ee-48c2-9a56-7694e0e1c714"
      },
      "source": [
        "history=model.fit(x_train, y_train, validation_data=(x_val, y_val),epochs=7, batch_size=32,callbacks=[cp])\n"
      ],
      "execution_count": 104,
      "outputs": [
        {
          "output_type": "stream",
          "text": [
            "Epoch 1/7\n",
            "250/250 [==============================] - ETA: 0s - loss: 0.4968 - acc: 0.7750\n",
            "Epoch 00001: val_acc improved from -inf to 0.82441, saving model to model_cnn.hdf5\n",
            "250/250 [==============================] - 80s 320ms/step - loss: 0.4968 - acc: 0.7750 - val_loss: 0.4159 - val_acc: 0.8244\n",
            "Epoch 2/7\n",
            "250/250 [==============================] - ETA: 0s - loss: 0.3774 - acc: 0.8404\n",
            "Epoch 00002: val_acc did not improve from 0.82441\n",
            "250/250 [==============================] - 80s 320ms/step - loss: 0.3774 - acc: 0.8404 - val_loss: 0.4777 - val_acc: 0.7919\n",
            "Epoch 3/7\n",
            "250/250 [==============================] - ETA: 0s - loss: 0.3016 - acc: 0.8744\n",
            "Epoch 00003: val_acc improved from 0.82441 to 0.83742, saving model to model_cnn.hdf5\n",
            "250/250 [==============================] - 81s 323ms/step - loss: 0.3016 - acc: 0.8744 - val_loss: 0.3820 - val_acc: 0.8374\n",
            "Epoch 4/7\n",
            "250/250 [==============================] - ETA: 0s - loss: 0.2218 - acc: 0.9111\n",
            "Epoch 00004: val_acc improved from 0.83742 to 0.83842, saving model to model_cnn.hdf5\n",
            "250/250 [==============================] - 80s 322ms/step - loss: 0.2218 - acc: 0.9111 - val_loss: 0.4199 - val_acc: 0.8384\n",
            "Epoch 5/7\n",
            "250/250 [==============================] - ETA: 0s - loss: 0.1510 - acc: 0.9433\n",
            "Epoch 00005: val_acc did not improve from 0.83842\n",
            "250/250 [==============================] - 79s 318ms/step - loss: 0.1510 - acc: 0.9433 - val_loss: 0.9956 - val_acc: 0.8254\n",
            "Epoch 6/7\n",
            "250/250 [==============================] - ETA: 0s - loss: 0.1073 - acc: 0.9617\n",
            "Epoch 00006: val_acc did not improve from 0.83842\n",
            "250/250 [==============================] - 79s 317ms/step - loss: 0.1073 - acc: 0.9617 - val_loss: 0.7571 - val_acc: 0.8314\n",
            "Epoch 7/7\n",
            "250/250 [==============================] - ETA: 0s - loss: 0.0890 - acc: 0.9721\n",
            "Epoch 00007: val_acc did not improve from 0.83842\n",
            "250/250 [==============================] - 79s 317ms/step - loss: 0.0890 - acc: 0.9721 - val_loss: 0.8268 - val_acc: 0.8319\n"
          ],
          "name": "stdout"
        }
      ]
    },
    {
      "cell_type": "code",
      "metadata": {
        "id": "xNn7Y7kait9s",
        "colab_type": "code",
        "colab": {
          "base_uri": "https://localhost:8080/",
          "height": 302
        },
        "outputId": "ad40e96a-bb40-4f9e-a5af-de985e3c23ad"
      },
      "source": [
        "fig1 = plt.figure()\n",
        "plt.plot(history.history['loss'],'r',linewidth=3.0)\n",
        "plt.plot(history.history['val_loss'],'b',linewidth=3.0)\n",
        "plt.legend(['Training loss', 'Validation Loss'],fontsize=18)\n",
        "plt.xlabel('Epochs ',fontsize=16)\n",
        "plt.ylabel('Loss',fontsize=16)\n",
        "plt.title('Loss Curves :CNN',fontsize=16)\n",
        "fig1.savefig('loss_cnn.png')\n",
        "plt.show()"
      ],
      "execution_count": 105,
      "outputs": [
        {
          "output_type": "display_data",
          "data": {
            "image/png": "[encoded data removed]",
            "text/plain": [
              "<Figure size 432x288 with 1 Axes>"
            ]
          },
          "metadata": {
            "tags": [],
            "needs_background": "light"
          }
        }
      ]
    },
    {
      "cell_type": "code",
      "metadata": {
        "id": "GepMXqEzivJC",
        "colab_type": "code",
        "colab": {
          "base_uri": "https://localhost:8080/",
          "height": 302
        },
        "outputId": "ea118583-d13f-4431-f288-a6833fdf4977"
      },
      "source": [
        "fig2=plt.figure()\n",
        "plt.plot(history.history['acc'],'r',linewidth=3.0)\n",
        "plt.plot(history.history['val_acc'],'b',linewidth=3.0)\n",
        "plt.legend(['Training Accuracy', 'Validation Accuracy'],fontsize=18)\n",
        "plt.xlabel('Epochs ',fontsize=16)\n",
        "plt.ylabel('Accuracy',fontsize=16)\n",
        "plt.title('Accuracy Curves : CNN',fontsize=16)\n",
        "fig2.savefig('accuracy_cnn.png')\n",
        "plt.show()"
      ],
      "execution_count": 106,
      "outputs": [
        {
          "output_type": "display_data",
          "data": {
            "image/png": "[encoded data removed]",
            "text/plain": [
              "<Figure size 432x288 with 1 Axes>"
            ]
          },
          "metadata": {
            "tags": [],
            "needs_background": "light"
          }
        }
      ]
    },
    {
      "cell_type": "code",
      "metadata": {
        "id": "iYmsHIrW7ghL",
        "colab_type": "code",
        "colab": {
          "base_uri": "https://localhost:8080/",
          "height": 1000
        },
        "outputId": "d34a2096-9795-45ea-a384-171af99b9962"
      },
      "source": [
        "from tensorflow.keras.utils import plot_model\n",
        "plot_model(model, to_file='cnn_model.png')"
      ],
      "execution_count": 114,
      "outputs": [
        {
          "output_type": "execute_result",
          "data": {
            "image/png": "[encoded data removed]",
            "text/plain": [
              "<IPython.core.display.Image object>"
            ]
          },
          "metadata": {
            "tags": []
          },
          "execution_count": 114
        }
      ]
    }
  ]
}