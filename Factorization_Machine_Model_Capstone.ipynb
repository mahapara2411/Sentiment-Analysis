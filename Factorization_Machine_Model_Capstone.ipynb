{
  "nbformat": 4,
  "nbformat_minor": 0,
  "metadata": {
    "colab": {
      "name": "Factorization Machine Model.ipynb",
      "provenance": [],
      "collapsed_sections": [],
      "authorship_tag": "ABX9TyPe8TSlCUc9Y2fqdi7BoJ/A",
      "include_colab_link": true
    },
    "kernelspec": {
      "name": "python3",
      "display_name": "Python 3"
    }
  },
  "cells": [
    {
      "cell_type": "markdown",
      "metadata": {
        "id": "view-in-github",
        "colab_type": "text"
      },
      "source": [
        "<a href=\"https://colab.research.google.com/github/mahapara2411/Sentiment-Analysis/blob/master/Factorization_Machine_Model_Capstone.ipynb\" target=\"_parent\"><img src=\"https://colab.research.google.com/assets/colab-badge.svg\" alt=\"Open In Colab\"/></a>"
      ]
    },
    {
      "cell_type": "code",
      "metadata": {
        "id": "C9ssVGsPz7l_",
        "colab_type": "code",
        "colab": {
          "base_uri": "https://localhost:8080/",
          "height": 312
        },
        "outputId": "eb88d4b6-4ad7-43c3-e472-593b5d61f810"
      },
      "source": [
        "!pip install watermark\n",
        "\n"
      ],
      "execution_count": 1,
      "outputs": [
        {
          "output_type": "stream",
          "text": [
            "Collecting watermark\n",
            "  Downloading https://files.pythonhosted.org/packages/60/fe/3ed83b6122e70dce6fe269dfd763103c333f168bf91037add73ea4fe81c2/watermark-2.0.2-py2.py3-none-any.whl\n",
            "Requirement already satisfied: ipython in /usr/local/lib/python3.6/dist-packages (from watermark) (5.5.0)\n",
            "Requirement already satisfied: setuptools>=18.5 in /usr/local/lib/python3.6/dist-packages (from ipython->watermark) (49.6.0)\n",
            "Requirement already satisfied: prompt-toolkit<2.0.0,>=1.0.4 in /usr/local/lib/python3.6/dist-packages (from ipython->watermark) (1.0.18)\n",
            "Requirement already satisfied: simplegeneric>0.8 in /usr/local/lib/python3.6/dist-packages (from ipython->watermark) (0.8.1)\n",
            "Requirement already satisfied: decorator in /usr/local/lib/python3.6/dist-packages (from ipython->watermark) (4.4.2)\n",
            "Requirement already satisfied: traitlets>=4.2 in /usr/local/lib/python3.6/dist-packages (from ipython->watermark) (4.3.3)\n",
            "Requirement already satisfied: pickleshare in /usr/local/lib/python3.6/dist-packages (from ipython->watermark) (0.7.5)\n",
            "Requirement already satisfied: pexpect; sys_platform != \"win32\" in /usr/local/lib/python3.6/dist-packages (from ipython->watermark) (4.8.0)\n",
            "Requirement already satisfied: pygments in /usr/local/lib/python3.6/dist-packages (from ipython->watermark) (2.1.3)\n",
            "Requirement already satisfied: wcwidth in /usr/local/lib/python3.6/dist-packages (from prompt-toolkit<2.0.0,>=1.0.4->ipython->watermark) (0.2.5)\n",
            "Requirement already satisfied: six>=1.9.0 in /usr/local/lib/python3.6/dist-packages (from prompt-toolkit<2.0.0,>=1.0.4->ipython->watermark) (1.15.0)\n",
            "Requirement already satisfied: ipython-genutils in /usr/local/lib/python3.6/dist-packages (from traitlets>=4.2->ipython->watermark) (0.2.0)\n",
            "Requirement already satisfied: ptyprocess>=0.5 in /usr/local/lib/python3.6/dist-packages (from pexpect; sys_platform != \"win32\"->ipython->watermark) (0.6.0)\n",
            "Installing collected packages: watermark\n",
            "Successfully installed watermark-2.0.2\n"
          ],
          "name": "stdout"
        }
      ]
    },
    {
      "cell_type": "code",
      "metadata": {
        "id": "GZsnW8p1veAB",
        "colab_type": "code",
        "colab": {
          "base_uri": "https://localhost:8080/",
          "height": 190
        },
        "outputId": "6e887d2f-bda0-4aef-f099-6bdb14f3c133"
      },
      "source": [
        "# Importing Necessary libraries\n",
        "%matplotlib inline\n",
        "%load_ext watermark\n",
        "%load_ext autoreload\n",
        "%autoreload 2\n",
        "%config InlineBackend.figure_format = 'retina'\n",
        "\n",
        "import numpy as np\n",
        "import pandas as pd\n",
        "import matplotlib.pyplot as plt\n",
        "from sklearn.metrics import roc_auc_score\n",
        "from sklearn.linear_model import LogisticRegression\n",
        "from sklearn.model_selection import train_test_split\n",
        "from sklearn.feature_extraction.text import TfidfVectorizer\n",
        "\n",
        "%watermark -a 'Ethen' -d -t -v -p numba,numpy,pandas,sklearn,matplotlib"
      ],
      "execution_count": 2,
      "outputs": [
        {
          "output_type": "stream",
          "text": [
            "Ethen 2020-09-05 04:10:41 \n",
            "\n",
            "CPython 3.6.9\n",
            "IPython 5.5.0\n",
            "\n",
            "numba 0.48.0\n",
            "numpy 1.18.5\n",
            "pandas 1.0.5\n",
            "sklearn 0.0\n",
            "matplotlib 3.2.2\n"
          ],
          "name": "stdout"
        }
      ]
    },
    {
      "cell_type": "code",
      "metadata": {
        "id": "F8hjP49C0F-9",
        "colab_type": "code",
        "colab": {
          "resources": {
            "http://localhost:8080/nbextensions/google.colab/files.js": {
              "data": "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",
              "ok": true,
              "headers": [
                [
                  "content-type",
                  "application/javascript"
                ]
              ],
              "status": 200,
              "status_text": ""
            }
          },
          "base_uri": "https://localhost:8080/",
          "height": 72
        },
        "outputId": "d416c282-c45d-469c-9047-56050b247460"
      },
      "source": [
        "#Upload the Dataset\n",
        "from google.colab import files\n",
        "uploaded = files.upload()"
      ],
      "execution_count": 3,
      "outputs": [
        {
          "output_type": "display_data",
          "data": {
            "text/html": [
              "\n",
              "     <input type=\"file\" id=\"files-3ec18250-cdbe-4e83-acaf-7849ae6e3383\" name=\"files[]\" multiple disabled\n",
              "        style=\"border:none\" />\n",
              "     <output id=\"result-3ec18250-cdbe-4e83-acaf-7849ae6e3383\">\n",
              "      Upload widget is only available when the cell has been executed in the\n",
              "      current browser session. Please rerun this cell to enable.\n",
              "      </output>\n",
              "      <script src=\"/nbextensions/google.colab/files.js\"></script> "
            ],
            "text/plain": [
              "<IPython.core.display.HTML object>"
            ]
          },
          "metadata": {
            "tags": []
          }
        },
        {
          "output_type": "stream",
          "text": [
            "Saving hotel_data_clean.csv to hotel_data_clean.csv\n"
          ],
          "name": "stdout"
        }
      ]
    },
    {
      "cell_type": "code",
      "metadata": {
        "id": "3LZuLtSK0ii6",
        "colab_type": "code",
        "colab": {}
      },
      "source": [
        "# Dataset is now stored in a Pandas Dataframe\n",
        "import io\n",
        "data = pd.read_csv(io.BytesIO(uploaded['hotel_data_clean.csv']))"
      ],
      "execution_count": 4,
      "outputs": []
    },
    {
      "cell_type": "code",
      "metadata": {
        "id": "5rjQUn-E1UY0",
        "colab_type": "code",
        "colab": {}
      },
      "source": [
        "# Print Multiple statements in same line\n",
        "from IPython.core.interactiveshell import InteractiveShell\n",
        "InteractiveShell.ast_node_interactivity=\"all\""
      ],
      "execution_count": 5,
      "outputs": []
    },
    {
      "cell_type": "code",
      "metadata": {
        "id": "_mwIPyRmeQMJ",
        "colab_type": "code",
        "colab": {
          "base_uri": "https://localhost:8080/",
          "height": 890
        },
        "outputId": "ec68fba3-6e4b-4aac-c6ed-6ae1cf497cf0"
      },
      "source": [
        "#Explore Data\n",
        "data.shape\n",
        "type(data)\n",
        "data.size\n",
        "data.shape\n",
        "data.head()\n",
        "data.tail()\n",
        "data.info()"
      ],
      "execution_count": 6,
      "outputs": [
        {
          "output_type": "execute_result",
          "data": {
            "text/plain": [
              "(24180, 11)"
            ]
          },
          "metadata": {
            "tags": []
          },
          "execution_count": 6
        },
        {
          "output_type": "execute_result",
          "data": {
            "text/plain": [
              "pandas.core.frame.DataFrame"
            ]
          },
          "metadata": {
            "tags": []
          },
          "execution_count": 6
        },
        {
          "output_type": "execute_result",
          "data": {
            "text/plain": [
              "265980"
            ]
          },
          "metadata": {
            "tags": []
          },
          "execution_count": 6
        },
        {
          "output_type": "execute_result",
          "data": {
            "text/plain": [
              "(24180, 11)"
            ]
          },
          "metadata": {
            "tags": []
          },
          "execution_count": 6
        },
        {
          "output_type": "execute_result",
          "data": {
            "text/html": [
              "<div>\n",
              "<style scoped>\n",
              "    .dataframe tbody tr th:only-of-type {\n",
              "        vertical-align: middle;\n",
              "    }\n",
              "\n",
              "    .dataframe tbody tr th {\n",
              "        vertical-align: top;\n",
              "    }\n",
              "\n",
              "    .dataframe thead th {\n",
              "        text-align: right;\n",
              "    }\n",
              "</style>\n",
              "<table border=\"1\" class=\"dataframe\">\n",
              "  <thead>\n",
              "    <tr style=\"text-align: right;\">\n",
              "      <th></th>\n",
              "      <th>Index</th>\n",
              "      <th>Hotel_id</th>\n",
              "      <th>Hotel</th>\n",
              "      <th>Title</th>\n",
              "      <th>Users</th>\n",
              "      <th>Reviews</th>\n",
              "      <th>Text_Clean</th>\n",
              "      <th>Rating</th>\n",
              "      <th>tokens</th>\n",
              "      <th>Sentiment</th>\n",
              "      <th>User_id</th>\n",
              "    </tr>\n",
              "  </thead>\n",
              "  <tbody>\n",
              "    <tr>\n",
              "      <th>0</th>\n",
              "      <td>0</td>\n",
              "      <td>0</td>\n",
              "      <td>La Quinta</td>\n",
              "      <td>This hotel is a dump! Upon ch...</td>\n",
              "      <td>margierodriguez.mcqueen</td>\n",
              "      <td>This hotel is a dump! Upon checking in was tol...</td>\n",
              "      <td>hotel dump upon checking told place booked fol...</td>\n",
              "      <td>1.0</td>\n",
              "      <td>['hotel', 'dump', 'upon', 'checking', 'told', ...</td>\n",
              "      <td>Negative</td>\n",
              "      <td>15400</td>\n",
              "    </tr>\n",
              "    <tr>\n",
              "      <th>1</th>\n",
              "      <td>1</td>\n",
              "      <td>1</td>\n",
              "      <td>The Point</td>\n",
              "      <td>How to Feel like you are truly Royalty!</td>\n",
              "      <td>DrThought</td>\n",
              "      <td>After having stayed at The Point for five days...</td>\n",
              "      <td>stayed point five days back june 2011 wife ele...</td>\n",
              "      <td>5.0</td>\n",
              "      <td>['stayed', 'point', 'five', 'days', 'back', 'j...</td>\n",
              "      <td>Positive</td>\n",
              "      <td>3702</td>\n",
              "    </tr>\n",
              "    <tr>\n",
              "      <th>2</th>\n",
              "      <td>2</td>\n",
              "      <td>1</td>\n",
              "      <td>The Point</td>\n",
              "      <td>Not to be missed</td>\n",
              "      <td>Dushi110</td>\n",
              "      <td>The Point exceeds perfection. From the moment ...</td>\n",
              "      <td>point exceeds perfection moment arrive prepare...</td>\n",
              "      <td>5.0</td>\n",
              "      <td>['point', 'exceeds', 'perfection', 'moment', '...</td>\n",
              "      <td>Positive</td>\n",
              "      <td>3738</td>\n",
              "    </tr>\n",
              "    <tr>\n",
              "      <th>3</th>\n",
              "      <td>3</td>\n",
              "      <td>1</td>\n",
              "      <td>The Point</td>\n",
              "      <td>The most amazing place....</td>\n",
              "      <td>GracieLouNY</td>\n",
              "      <td>My review is long overdue but I tell so many p...</td>\n",
              "      <td>review long overdue tell many people place fel...</td>\n",
              "      <td>5.0</td>\n",
              "      <td>['review', 'long', 'overdue', 'tell', 'many', ...</td>\n",
              "      <td>Positive</td>\n",
              "      <td>4593</td>\n",
              "    </tr>\n",
              "    <tr>\n",
              "      <th>4</th>\n",
              "      <td>4</td>\n",
              "      <td>1</td>\n",
              "      <td>The Point</td>\n",
              "      <td>Lack of maintenance</td>\n",
              "      <td>Guillen</td>\n",
              "      <td>We were picked up from the airport in a car wh...</td>\n",
              "      <td>picked airport car vacuum cleaned long time mi...</td>\n",
              "      <td>2.0</td>\n",
              "      <td>['picked', 'airport', 'car', 'vacuum', 'cleane...</td>\n",
              "      <td>Negative</td>\n",
              "      <td>4657</td>\n",
              "    </tr>\n",
              "  </tbody>\n",
              "</table>\n",
              "</div>"
            ],
            "text/plain": [
              "   Index  Hotel_id  ... Sentiment User_id\n",
              "0      0         0  ...  Negative   15400\n",
              "1      1         1  ...  Positive    3702\n",
              "2      2         1  ...  Positive    3738\n",
              "3      3         1  ...  Positive    4593\n",
              "4      4         1  ...  Negative    4657\n",
              "\n",
              "[5 rows x 11 columns]"
            ]
          },
          "metadata": {
            "tags": []
          },
          "execution_count": 6
        },
        {
          "output_type": "execute_result",
          "data": {
            "text/html": [
              "<div>\n",
              "<style scoped>\n",
              "    .dataframe tbody tr th:only-of-type {\n",
              "        vertical-align: middle;\n",
              "    }\n",
              "\n",
              "    .dataframe tbody tr th {\n",
              "        vertical-align: top;\n",
              "    }\n",
              "\n",
              "    .dataframe thead th {\n",
              "        text-align: right;\n",
              "    }\n",
              "</style>\n",
              "<table border=\"1\" class=\"dataframe\">\n",
              "  <thead>\n",
              "    <tr style=\"text-align: right;\">\n",
              "      <th></th>\n",
              "      <th>Index</th>\n",
              "      <th>Hotel_id</th>\n",
              "      <th>Hotel</th>\n",
              "      <th>Title</th>\n",
              "      <th>Users</th>\n",
              "      <th>Reviews</th>\n",
              "      <th>Text_Clean</th>\n",
              "      <th>Rating</th>\n",
              "      <th>tokens</th>\n",
              "      <th>Sentiment</th>\n",
              "      <th>User_id</th>\n",
              "    </tr>\n",
              "  </thead>\n",
              "  <tbody>\n",
              "    <tr>\n",
              "      <th>24175</th>\n",
              "      <td>24175</td>\n",
              "      <td>3128</td>\n",
              "      <td>Polynesian Plaza</td>\n",
              "      <td>Unprofessional</td>\n",
              "      <td>Sharon T</td>\n",
              "      <td>I booked this hotel for mid October months ago...</td>\n",
              "      <td>booked hotel mid october months ago early octo...</td>\n",
              "      <td>1.0</td>\n",
              "      <td>['booked', 'hotel', 'mid', 'october', 'months'...</td>\n",
              "      <td>Negative</td>\n",
              "      <td>10476</td>\n",
              "    </tr>\n",
              "    <tr>\n",
              "      <th>24176</th>\n",
              "      <td>24176</td>\n",
              "      <td>3128</td>\n",
              "      <td>Polynesian Plaza</td>\n",
              "      <td>worst ever !</td>\n",
              "      <td>Shaun F</td>\n",
              "      <td>We had a one night stay at your hotel, Sept. 1...</td>\n",
              "      <td>one night stay hotel sept 19 2015 worst hotel ...</td>\n",
              "      <td>1.0</td>\n",
              "      <td>['one', 'night', 'stay', 'hotel', 'sept', '19'...</td>\n",
              "      <td>Negative</td>\n",
              "      <td>10490</td>\n",
              "    </tr>\n",
              "    <tr>\n",
              "      <th>24177</th>\n",
              "      <td>24177</td>\n",
              "      <td>3128</td>\n",
              "      <td>Polynesian Plaza</td>\n",
              "      <td>Location!</td>\n",
              "      <td>Steph K</td>\n",
              "      <td>Positives: Location! It is on the main strip, ...</td>\n",
              "      <td>positives location main strip next hard rock c...</td>\n",
              "      <td>3.0</td>\n",
              "      <td>['positives', 'location', 'main', 'strip', 'ne...</td>\n",
              "      <td>Negative</td>\n",
              "      <td>10799</td>\n",
              "    </tr>\n",
              "    <tr>\n",
              "      <th>24178</th>\n",
              "      <td>24178</td>\n",
              "      <td>3128</td>\n",
              "      <td>Polynesian Plaza</td>\n",
              "      <td>Polynesian Plaza, Honolulu</td>\n",
              "      <td>Vernon G</td>\n",
              "      <td>Not exactly a five-star hotel but right in the...</td>\n",
              "      <td>exactly fivestar hotel right heart waikiki sho...</td>\n",
              "      <td>4.0</td>\n",
              "      <td>['exactly', 'fivestar', 'hotel', 'right', 'hea...</td>\n",
              "      <td>Positive</td>\n",
              "      <td>11901</td>\n",
              "    </tr>\n",
              "    <tr>\n",
              "      <th>24179</th>\n",
              "      <td>24179</td>\n",
              "      <td>3128</td>\n",
              "      <td>Polynesian Plaza</td>\n",
              "      <td>IN SEVERE NEED OF UPDATE - OVERHAUL</td>\n",
              "      <td>fordpipefitter</td>\n",
              "      <td>We spent 2 weeks in this hotel due to the cost...</td>\n",
              "      <td>spent 2 weeks hotel due cost normal hotels sta...</td>\n",
              "      <td>2.0</td>\n",
              "      <td>['spent', '2', 'weeks', 'hotel', 'due', 'cost'...</td>\n",
              "      <td>Negative</td>\n",
              "      <td>13911</td>\n",
              "    </tr>\n",
              "  </tbody>\n",
              "</table>\n",
              "</div>"
            ],
            "text/plain": [
              "       Index  Hotel_id  ... Sentiment User_id\n",
              "24175  24175      3128  ...  Negative   10476\n",
              "24176  24176      3128  ...  Negative   10490\n",
              "24177  24177      3128  ...  Negative   10799\n",
              "24178  24178      3128  ...  Positive   11901\n",
              "24179  24179      3128  ...  Negative   13911\n",
              "\n",
              "[5 rows x 11 columns]"
            ]
          },
          "metadata": {
            "tags": []
          },
          "execution_count": 6
        },
        {
          "output_type": "stream",
          "text": [
            "<class 'pandas.core.frame.DataFrame'>\n",
            "RangeIndex: 24180 entries, 0 to 24179\n",
            "Data columns (total 11 columns):\n",
            " #   Column      Non-Null Count  Dtype  \n",
            "---  ------      --------------  -----  \n",
            " 0   Index       24180 non-null  int64  \n",
            " 1   Hotel_id    24180 non-null  int64  \n",
            " 2   Hotel       24180 non-null  object \n",
            " 3   Title       24119 non-null  object \n",
            " 4   Users       24180 non-null  object \n",
            " 5   Reviews     24179 non-null  object \n",
            " 6   Text_Clean  24177 non-null  object \n",
            " 7   Rating      24151 non-null  float64\n",
            " 8   tokens      24180 non-null  object \n",
            " 9   Sentiment   24180 non-null  object \n",
            " 10  User_id     24180 non-null  int64  \n",
            "dtypes: float64(1), int64(3), object(7)\n",
            "memory usage: 2.0+ MB\n"
          ],
          "name": "stdout"
        }
      ]
    },
    {
      "cell_type": "code",
      "metadata": {
        "id": "CHCTyNzl1okC",
        "colab_type": "code",
        "colab": {}
      },
      "source": [
        "data['Sentiment'] = data['Sentiment'].apply(lambda x: 0 if x == 'Negative' else 1)"
      ],
      "execution_count": 7,
      "outputs": []
    },
    {
      "cell_type": "code",
      "metadata": {
        "id": "ZcgI-bb81118",
        "colab_type": "code",
        "colab": {
          "base_uri": "https://localhost:8080/",
          "height": 289
        },
        "outputId": "da027649-1a2b-4a39-aa03-c26df94b4122"
      },
      "source": [
        "data.head()"
      ],
      "execution_count": 8,
      "outputs": [
        {
          "output_type": "execute_result",
          "data": {
            "text/html": [
              "<div>\n",
              "<style scoped>\n",
              "    .dataframe tbody tr th:only-of-type {\n",
              "        vertical-align: middle;\n",
              "    }\n",
              "\n",
              "    .dataframe tbody tr th {\n",
              "        vertical-align: top;\n",
              "    }\n",
              "\n",
              "    .dataframe thead th {\n",
              "        text-align: right;\n",
              "    }\n",
              "</style>\n",
              "<table border=\"1\" class=\"dataframe\">\n",
              "  <thead>\n",
              "    <tr style=\"text-align: right;\">\n",
              "      <th></th>\n",
              "      <th>Index</th>\n",
              "      <th>Hotel_id</th>\n",
              "      <th>Hotel</th>\n",
              "      <th>Title</th>\n",
              "      <th>Users</th>\n",
              "      <th>Reviews</th>\n",
              "      <th>Text_Clean</th>\n",
              "      <th>Rating</th>\n",
              "      <th>tokens</th>\n",
              "      <th>Sentiment</th>\n",
              "      <th>User_id</th>\n",
              "    </tr>\n",
              "  </thead>\n",
              "  <tbody>\n",
              "    <tr>\n",
              "      <th>0</th>\n",
              "      <td>0</td>\n",
              "      <td>0</td>\n",
              "      <td>La Quinta</td>\n",
              "      <td>This hotel is a dump! Upon ch...</td>\n",
              "      <td>margierodriguez.mcqueen</td>\n",
              "      <td>This hotel is a dump! Upon checking in was tol...</td>\n",
              "      <td>hotel dump upon checking told place booked fol...</td>\n",
              "      <td>1.0</td>\n",
              "      <td>['hotel', 'dump', 'upon', 'checking', 'told', ...</td>\n",
              "      <td>0</td>\n",
              "      <td>15400</td>\n",
              "    </tr>\n",
              "    <tr>\n",
              "      <th>1</th>\n",
              "      <td>1</td>\n",
              "      <td>1</td>\n",
              "      <td>The Point</td>\n",
              "      <td>How to Feel like you are truly Royalty!</td>\n",
              "      <td>DrThought</td>\n",
              "      <td>After having stayed at The Point for five days...</td>\n",
              "      <td>stayed point five days back june 2011 wife ele...</td>\n",
              "      <td>5.0</td>\n",
              "      <td>['stayed', 'point', 'five', 'days', 'back', 'j...</td>\n",
              "      <td>1</td>\n",
              "      <td>3702</td>\n",
              "    </tr>\n",
              "    <tr>\n",
              "      <th>2</th>\n",
              "      <td>2</td>\n",
              "      <td>1</td>\n",
              "      <td>The Point</td>\n",
              "      <td>Not to be missed</td>\n",
              "      <td>Dushi110</td>\n",
              "      <td>The Point exceeds perfection. From the moment ...</td>\n",
              "      <td>point exceeds perfection moment arrive prepare...</td>\n",
              "      <td>5.0</td>\n",
              "      <td>['point', 'exceeds', 'perfection', 'moment', '...</td>\n",
              "      <td>1</td>\n",
              "      <td>3738</td>\n",
              "    </tr>\n",
              "    <tr>\n",
              "      <th>3</th>\n",
              "      <td>3</td>\n",
              "      <td>1</td>\n",
              "      <td>The Point</td>\n",
              "      <td>The most amazing place....</td>\n",
              "      <td>GracieLouNY</td>\n",
              "      <td>My review is long overdue but I tell so many p...</td>\n",
              "      <td>review long overdue tell many people place fel...</td>\n",
              "      <td>5.0</td>\n",
              "      <td>['review', 'long', 'overdue', 'tell', 'many', ...</td>\n",
              "      <td>1</td>\n",
              "      <td>4593</td>\n",
              "    </tr>\n",
              "    <tr>\n",
              "      <th>4</th>\n",
              "      <td>4</td>\n",
              "      <td>1</td>\n",
              "      <td>The Point</td>\n",
              "      <td>Lack of maintenance</td>\n",
              "      <td>Guillen</td>\n",
              "      <td>We were picked up from the airport in a car wh...</td>\n",
              "      <td>picked airport car vacuum cleaned long time mi...</td>\n",
              "      <td>2.0</td>\n",
              "      <td>['picked', 'airport', 'car', 'vacuum', 'cleane...</td>\n",
              "      <td>0</td>\n",
              "      <td>4657</td>\n",
              "    </tr>\n",
              "  </tbody>\n",
              "</table>\n",
              "</div>"
            ],
            "text/plain": [
              "   Index  Hotel_id  ... Sentiment User_id\n",
              "0      0         0  ...         0   15400\n",
              "1      1         1  ...         1    3702\n",
              "2      2         1  ...         1    3738\n",
              "3      3         1  ...         1    4593\n",
              "4      4         1  ...         0    4657\n",
              "\n",
              "[5 rows x 11 columns]"
            ]
          },
          "metadata": {
            "tags": []
          },
          "execution_count": 8
        }
      ]
    },
    {
      "cell_type": "code",
      "metadata": {
        "id": "w7_k0AVV1_TV",
        "colab_type": "code",
        "colab": {
          "base_uri": "https://localhost:8080/",
          "height": 416
        },
        "outputId": "119c9b91-56a7-414e-c779-4aa476ba904f"
      },
      "source": [
        "# Checking for missing values\n",
        "pd.isnull(data).any()\n",
        "pd.isnull(data).sum()"
      ],
      "execution_count": 9,
      "outputs": [
        {
          "output_type": "execute_result",
          "data": {
            "text/plain": [
              "Index         False\n",
              "Hotel_id      False\n",
              "Hotel         False\n",
              "Title          True\n",
              "Users         False\n",
              "Reviews        True\n",
              "Text_Clean     True\n",
              "Rating         True\n",
              "tokens        False\n",
              "Sentiment     False\n",
              "User_id       False\n",
              "dtype: bool"
            ]
          },
          "metadata": {
            "tags": []
          },
          "execution_count": 9
        },
        {
          "output_type": "execute_result",
          "data": {
            "text/plain": [
              "Index          0\n",
              "Hotel_id       0\n",
              "Hotel          0\n",
              "Title         61\n",
              "Users          0\n",
              "Reviews        1\n",
              "Text_Clean     3\n",
              "Rating        29\n",
              "tokens         0\n",
              "Sentiment      0\n",
              "User_id        0\n",
              "dtype: int64"
            ]
          },
          "metadata": {
            "tags": []
          },
          "execution_count": 9
        }
      ]
    },
    {
      "cell_type": "code",
      "metadata": {
        "id": "0CJTlEWQ2F4x",
        "colab_type": "code",
        "colab": {}
      },
      "source": [
        "#Filing the missing Review with 'na'\n",
        "data['Reviews'] = data['Reviews'].fillna('').apply(str)\n",
        "data['Title'] = data['Title'].fillna('').apply(str)\n",
        "data['Text_Clean'] = data['Text_Clean'].fillna('').apply(str)\n",
        "data['Rating'] = data['Rating'].fillna('').apply(str)\n",
        "\n"
      ],
      "execution_count": 10,
      "outputs": []
    },
    {
      "cell_type": "code",
      "metadata": {
        "id": "AnnM0wTE2Kx3",
        "colab_type": "code",
        "colab": {
          "base_uri": "https://localhost:8080/",
          "height": 104
        },
        "outputId": "e107a32b-b747-4e0e-ffa1-0ce4e81bb551"
      },
      "source": [
        "data = data.dropna()\n",
        "data = data.reset_index(drop=True)\n",
        "print('Shape of dataset ',data.shape)\n",
        "print(data.columns)\n",
        "print('No. of unique classes',len(set(data['Sentiment'])))"
      ],
      "execution_count": 11,
      "outputs": [
        {
          "output_type": "stream",
          "text": [
            "Shape of dataset  (24180, 11)\n",
            "Index(['Index', 'Hotel_id', 'Hotel', 'Title', 'Users', 'Reviews', 'Text_Clean',\n",
            "       'Rating', 'tokens', 'Sentiment', 'User_id'],\n",
            "      dtype='object')\n",
            "No. of unique classes 2\n"
          ],
          "name": "stdout"
        }
      ]
    },
    {
      "cell_type": "code",
      "metadata": {
        "id": "uok5UPl02PLW",
        "colab_type": "code",
        "colab": {}
      },
      "source": [
        "# Deriving the feature and the label\n",
        "X = data['Text_Clean']\n",
        "y = data['Sentiment'].values"
      ],
      "execution_count": 12,
      "outputs": []
    },
    {
      "cell_type": "code",
      "metadata": {
        "id": "ufUZOE5f2_mp",
        "colab_type": "code",
        "colab": {}
      },
      "source": [
        "# split X and y into training and testing sets\n",
        "X_train, X_test, y_train, y_test = train_test_split(\n",
        "    X, y, test_size = 0.25, random_state = 1)"
      ],
      "execution_count": 13,
      "outputs": []
    },
    {
      "cell_type": "code",
      "metadata": {
        "id": "S06Skz6b3FUJ",
        "colab_type": "code",
        "colab": {
          "base_uri": "https://localhost:8080/",
          "height": 52
        },
        "outputId": "e26c2118-c16c-4d7a-beed-271e52b2cf75"
      },
      "source": [
        "# convert both sets' text column to document-term matrix;\n",
        "tfidf = TfidfVectorizer(min_df = 2, max_df = 0.5)\n",
        "X_train_dtm = tfidf.fit_transform(X_train)\n",
        "X_test_dtm = tfidf.transform(X_test)\n",
        "X_train_dtm"
      ],
      "execution_count": 14,
      "outputs": [
        {
          "output_type": "execute_result",
          "data": {
            "text/plain": [
              "<18135x14844 sparse matrix of type '<class 'numpy.float64'>'\n",
              "\twith 643855 stored elements in Compressed Sparse Row format>"
            ]
          },
          "metadata": {
            "tags": []
          },
          "execution_count": 14
        }
      ]
    },
    {
      "cell_type": "code",
      "metadata": {
        "id": "ohIWqPaz3U4y",
        "colab_type": "code",
        "colab": {}
      },
      "source": [
        "import numpy as np\n",
        "from numba import njit\n",
        "from tqdm import trange\n",
        "from sklearn.base import BaseEstimator, ClassifierMixin"
      ],
      "execution_count": 15,
      "outputs": []
    },
    {
      "cell_type": "code",
      "metadata": {
        "id": "OJd5RQ073a_Q",
        "colab_type": "code",
        "colab": {}
      },
      "source": [
        "class FactorizationMachineClassifier(BaseEstimator, ClassifierMixin):\n",
        "    \"\"\"\n",
        "    Factorization Machine [1]_ using Stochastic Gradient Descent.\n",
        "    For binary classification only.\n",
        "\n",
        "    Parameters\n",
        "    ----------\n",
        "    n_iter : int, default 10\n",
        "        Number of iterations to train the algorithm.\n",
        "\n",
        "    n_factors : int, default 10\n",
        "        Number/dimension of features' latent factors.\n",
        "\n",
        "    learning_rate : float, default 0.1\n",
        "        Learning rate for the gradient descent optimizer.\n",
        "\n",
        "    reg_coef : float, default 0.01\n",
        "        Regularization strength for weights/coefficients.\n",
        "\n",
        "    reg_factors : float, default 0.01\n",
        "        Regularization strength for features' latent factors.\n",
        "\n",
        "    random_state : int, default 1234\n",
        "        Seed for the randomly initialized features latent factors\n",
        "\n",
        "    verbose : bool, default True\n",
        "        Whether to print progress bar while training.\n",
        "\n",
        "    Attributes\n",
        "    ----------\n",
        "    intercept_ : double\n",
        "        Intercept term, w0 based on the original notations.\n",
        "\n",
        "    coef_ : 1d ndarray, shape [n_features,]\n",
        "        Coefficients, w based on the original notations.\n",
        "\n",
        "    feature_factors_ : 2d ndarray, shape [n_factors, n_features]\n",
        "        Latent factors for all features. v based on the original\n",
        "        notations. The learned factors can be viewed as the\n",
        "        embeddings for each features. If a pair of features tends\n",
        "        to co-occur often, then their embeddings should be\n",
        "        close/similar (in terms of cosine similarity) to each other.\n",
        "\n",
        "    history_ : list\n",
        "        Loss function's history at each iteration, useful\n",
        "        for evaluating whether the algorithm converged or not.\n",
        "\n",
        "    References\n",
        "    ----------\n",
        "    .. [1] `S. Rendle Factorization Machines (2010)\n",
        "            <http://www.csie.ntu.edu.tw/~b97053/paper/Rendle2010FM.pdf>`_ \n",
        "    \"\"\"\n",
        "\n",
        "    def __init__(self, n_iter = 10, n_factors = 10,\n",
        "                 learning_rate = 0.1, reg_coef = 0.01,\n",
        "                 reg_factors = 0.01, random_state = 1234, verbose = False):\n",
        "        self.n_iter = n_iter\n",
        "        self.verbose = verbose\n",
        "        self.reg_coef = reg_coef\n",
        "        self.n_factors = n_factors\n",
        "        self.reg_factors = reg_factors\n",
        "        self.random_state = random_state\n",
        "        self.learning_rate = learning_rate\n",
        "\n",
        "    def fit(self, X, y):\n",
        "        \"\"\"\n",
        "        Fit the model to the input data and label.\n",
        "\n",
        "        Parameters\n",
        "        ----------\n",
        "        X : scipy sparse csr_matrix, shape [n_samples, n_features]\n",
        "            Data in sparse matrix format.\n",
        "\n",
        "        y : 1d ndarray, shape [n_samples,]\n",
        "            Training data's corresponding label.\n",
        "\n",
        "        Returns\n",
        "        -------\n",
        "        self\n",
        "        \"\"\"\n",
        "\n",
        "        n_samples, n_features = X.shape\n",
        "        self.coef_ = np.zeros(n_features)\n",
        "        self.intercept_ = 0.0\n",
        "\n",
        "        # the factors are often initialized with a mean of 0 and standard deviation\n",
        "        # of 1 / sqrt(number of latent factor specified)\n",
        "        np.random.seed(self.random_state)\n",
        "        self.feature_factors_ = np.random.normal(\n",
        "            scale = 1 / np.sqrt(self.n_factors), size = (self.n_factors, n_features))\n",
        "        \n",
        "        # the gradient is implemented in a way that requires\n",
        "        # the negative class to be labeled as -1 instead of 0\n",
        "        y = y.copy().astype(np.int32)\n",
        "        y[y == 0] = -1\n",
        "\n",
        "        loop = range(self.n_iter)\n",
        "        if self.verbose:\n",
        "            loop = trange(self.n_iter)\n",
        "\n",
        "        self.history_ = []\n",
        "        for _ in loop:\n",
        "            loss = _sgd_update(X.data, X.indptr, X.indices,\n",
        "                               y, n_samples, n_features,\n",
        "                               self.intercept_, self.coef_,\n",
        "                               self.feature_factors_, self.n_factors,\n",
        "                               self.learning_rate, self.reg_coef, self.reg_factors)\n",
        "            self.history_.append(loss)\n",
        "\n",
        "        return self\n",
        "\n",
        "    def predict_proba(self, X):\n",
        "        \"\"\"\n",
        "        Probability estimates. The returned estimates for\n",
        "        all classes are ordered by the label of classes.\n",
        "\n",
        "        Paramters\n",
        "        ---------\n",
        "        X : scipy sparse csr_matrix, shape [n_samples, n_features]\n",
        "            Data in sparse matrix format.\n",
        "\n",
        "        Returns\n",
        "        -------\n",
        "        proba : 2d ndarray, shape [n_samples, n_classes]\n",
        "            The probability of the sample for each class in the model.\n",
        "        \"\"\"\n",
        "        pred = self._predict(X)\n",
        "        pred_proba = 1.0 / (1.0 + np.exp(-pred))\n",
        "        proba = np.vstack((1 - pred_proba, pred_proba)).T\n",
        "        return proba\n",
        "\n",
        "    def _predict(self, X):\n",
        "        \"\"\"Similar to _predict_instance but vectorized for all samples\"\"\"\n",
        "        linear_output = X * self.coef_\n",
        "        v = self.feature_factors_.T\n",
        "        term = (X * v) ** 2 - (X.power(2) * (v ** 2))\n",
        "        factor_output = 0.5 * np.sum(term, axis = 1)\n",
        "        return self.intercept_ + linear_output + factor_output\n",
        "\n",
        "    def predict(self, X):\n",
        "        \"\"\"\n",
        "        Predict class labels for samples in X.\n",
        "\n",
        "        Parameters\n",
        "        ----------\n",
        "        X : scipy sparse csr_matrix, shape [n_samples, n_features]\n",
        "            Data in sparse matrix format.\n",
        "\n",
        "        Returns\n",
        "        -------\n",
        "        Predicted class label per sample.\n",
        "        \"\"\"\n",
        "        pred_proba = self.predict_proba(X)[:, 1]\n",
        "        return pred_proba.round().astype(np.int)\n",
        "\n",
        "\n",
        "@njit\n",
        "def _sgd_update(data, indptr, indices, y, n_samples, n_features,\n",
        "                w0, w, v, n_factors, learning_rate, reg_w, reg_v):\n",
        "    \"\"\"\n",
        "    Compute the loss of the current iteration and update\n",
        "    gradients accordingly.\n",
        "    \"\"\"\n",
        "    loss = 0.0\n",
        "    for i in range(n_samples):\n",
        "        pred, summed = _predict_instance(data, indptr, indices, w0, w, v, n_factors, i)\n",
        "        \n",
        "        # calculate loss and its gradient\n",
        "        loss += _log_loss(pred, y[i])\n",
        "        loss_gradient = -y[i] / (np.exp(y[i] * pred) + 1.0)\n",
        "    \n",
        "        # update bias/intercept term\n",
        "        w0 -= learning_rate * loss_gradient\n",
        "\n",
        "        # update weight\n",
        "        for index in range(indptr[i], indptr[i + 1]):\n",
        "            feature = indices[index]\n",
        "            w[feature] -= learning_rate * (loss_gradient * data[index] + 2 * reg_w * w[feature])\n",
        "\n",
        "        # update factor\n",
        "        for factor in range(n_factors):\n",
        "            for index in range(indptr[i], indptr[i + 1]):\n",
        "                feature = indices[index]\n",
        "                term = summed[factor] - v[factor, feature] * data[index]\n",
        "                v_gradient = loss_gradient * data[index] * term\n",
        "                v[factor, feature] -= learning_rate * (v_gradient + 2 * reg_v * v[factor, feature])\n",
        "    \n",
        "    loss /= n_samples\n",
        "    return loss\n",
        "\n",
        "\n",
        "@njit\n",
        "def _predict_instance(data, indptr, indices, w0, w, v, n_factors, i):\n",
        "    \"\"\"predicting a single instance\"\"\"\n",
        "    summed = np.zeros(n_factors)\n",
        "    summed_squared = np.zeros(n_factors)\n",
        "\n",
        "    # linear output w * x\n",
        "    pred = w0\n",
        "    for index in range(indptr[i], indptr[i + 1]):\n",
        "        feature = indices[index]\n",
        "        pred += w[feature] * data[index]\n",
        "\n",
        "    # factor output\n",
        "    for factor in range(n_factors):\n",
        "        for index in range(indptr[i], indptr[i + 1]):\n",
        "            feature = indices[index]\n",
        "            term = v[factor, feature] * data[index]\n",
        "            summed[factor] += term\n",
        "            summed_squared[factor] += term * term\n",
        "\n",
        "        pred += 0.5 * (summed[factor] * summed[factor] - summed_squared[factor])\n",
        "    \n",
        "    # summed is the independent term that can be re-used\n",
        "    # during the gradient update stage\n",
        "    return pred, summed\n",
        "\n",
        "\n",
        "@njit\n",
        "def _log_loss(pred, y):\n",
        "    \"\"\"\n",
        "    negative log likelihood of the\n",
        "    current prediction and label, y.\n",
        "    \"\"\"\n",
        "    return np.log(np.exp(-pred * y) + 1.0)"
      ],
      "execution_count": 16,
      "outputs": []
    },
    {
      "cell_type": "code",
      "metadata": {
        "id": "B0ntb-795pBx",
        "colab_type": "code",
        "colab": {
          "base_uri": "https://localhost:8080/",
          "height": 69
        },
        "outputId": "2a18c613-1223-44b0-9c39-29ea5c83ed59"
      },
      "source": [
        "fm = FactorizationMachineClassifier(n_iter = 30, learning_rate = 0.1)\n",
        "fm.fit(X_train_dtm, y_train)"
      ],
      "execution_count": 17,
      "outputs": [
        {
          "output_type": "execute_result",
          "data": {
            "text/plain": [
              "FactorizationMachineClassifier(learning_rate=0.1, n_factors=10, n_iter=30,\n",
              "                               random_state=1234, reg_coef=0.01,\n",
              "                               reg_factors=0.01, verbose=False)"
            ]
          },
          "metadata": {
            "tags": []
          },
          "execution_count": 17
        }
      ]
    },
    {
      "cell_type": "code",
      "metadata": {
        "id": "J6JrRLOc5vYj",
        "colab_type": "code",
        "colab": {
          "base_uri": "https://localhost:8080/",
          "height": 426
        },
        "outputId": "22d5d430-60fc-40c9-98de-c59c3a9837e3"
      },
      "source": [
        "# change default style figure and font size\n",
        "plt.rcParams['figure.figsize'] = 8, 6\n",
        "plt.rcParams['font.size'] = 12\n",
        "\n",
        "# one quick way to check that we've implemented\n",
        "# the gradient descent is to ensure that the loss\n",
        "# curve is steadily decreasing\n",
        "plt.plot(fm.history_)\n",
        "plt.title('Loss Curve Per Iteration')\n",
        "plt.xlabel('Iterations')\n",
        "plt.ylabel('Loss')\n",
        "plt.show()"
      ],
      "execution_count": 18,
      "outputs": [
        {
          "output_type": "execute_result",
          "data": {
            "text/plain": [
              "[<matplotlib.lines.Line2D at 0x7f642ec33940>]"
            ]
          },
          "metadata": {
            "tags": []
          },
          "execution_count": 18
        },
        {
          "output_type": "execute_result",
          "data": {
            "text/plain": [
              "Text(0.5, 1.0, 'Loss Curve Per Iteration')"
            ]
          },
          "metadata": {
            "tags": []
          },
          "execution_count": 18
        },
        {
          "output_type": "execute_result",
          "data": {
            "text/plain": [
              "Text(0.5, 0, 'Iterations')"
            ]
          },
          "metadata": {
            "tags": []
          },
          "execution_count": 18
        },
        {
          "output_type": "execute_result",
          "data": {
            "text/plain": [
              "Text(0, 0.5, 'Loss')"
            ]
          },
          "metadata": {
            "tags": []
          },
          "execution_count": 18
        },
        {
          "output_type": "display_data",
          "data": {
            "image/png": "[encoded data removed]",
            "text/plain": [
              "<Figure size 576x432 with 1 Axes>"
            ]
          },
          "metadata": {
            "tags": [],
            "image/png": {
              "width": 512,
              "height": 392
            },
            "needs_background": "light"
          }
        }
      ]
    },
    {
      "cell_type": "code",
      "metadata": {
        "id": "k4PcIxMa51PY",
        "colab_type": "code",
        "colab": {
          "base_uri": "https://localhost:8080/",
          "height": 34
        },
        "outputId": "956e6f36-2397-4fac-a454-56c7a3180804"
      },
      "source": [
        "# predict on the test set and output the auc score\n",
        "y_pred_prob = fm.predict_proba(X_test_dtm)[:, 1]\n",
        "auc = roc_auc_score(y_test, y_pred_prob)\n",
        "print('auc', auc)"
      ],
      "execution_count": 19,
      "outputs": [
        {
          "output_type": "stream",
          "text": [
            "auc 0.9009830168134636\n"
          ],
          "name": "stdout"
        }
      ]
    },
    {
      "cell_type": "code",
      "metadata": {
        "id": "4Y5hutVW57TJ",
        "colab_type": "code",
        "colab": {
          "base_uri": "https://localhost:8080/",
          "height": 104
        },
        "outputId": "29d29310-c064-4083-8375-bb57460dddde"
      },
      "source": [
        "# we can compare it with a logistic regression,\n",
        "logreg = LogisticRegression()\n",
        "logreg.fit(X_train_dtm, y_train)\n",
        "y_pred_prob = logreg.predict_proba(X_test_dtm)[:, 1]\n",
        "auc = roc_auc_score(y_test, y_pred_prob)\n",
        "print('auc', auc)"
      ],
      "execution_count": 20,
      "outputs": [
        {
          "output_type": "execute_result",
          "data": {
            "text/plain": [
              "LogisticRegression(C=1.0, class_weight=None, dual=False, fit_intercept=True,\n",
              "                   intercept_scaling=1, l1_ratio=None, max_iter=100,\n",
              "                   multi_class='auto', n_jobs=None, penalty='l2',\n",
              "                   random_state=None, solver='lbfgs', tol=0.0001, verbose=0,\n",
              "                   warm_start=False)"
            ]
          },
          "metadata": {
            "tags": []
          },
          "execution_count": 20
        },
        {
          "output_type": "stream",
          "text": [
            "auc 0.9137533765400492\n"
          ],
          "name": "stdout"
        }
      ]
    }
  ]
}