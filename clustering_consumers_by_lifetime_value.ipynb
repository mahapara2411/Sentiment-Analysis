{
  "cells": [
    {
      "cell_type": "markdown",
      "metadata": {
        "id": "view-in-github",
        "colab_type": "text"
      },
      "source": [
        "<a href=\"https://colab.research.google.com/github/mahapara2411/Sentiment-Analysis/blob/master/clustering_consumers_by_lifetime_value.ipynb\" target=\"_parent\"><img src=\"https://colab.research.google.com/assets/colab-badge.svg\" alt=\"Open In Colab\"/></a>"
      ]
    },
    {
      "cell_type": "markdown",
      "id": "3a6e86a5",
      "metadata": {
        "papermill": {
          "duration": 0.057691,
          "end_time": "2021-11-09T00:07:54.761905",
          "exception": false,
          "start_time": "2021-11-09T00:07:54.704214",
          "status": "completed"
        },
        "tags": [],
        "id": "3a6e86a5"
      },
      "source": [
        "The purpose of this case study is to explore the Lifetimes library, created by Cameron Davidson-Pilon, in its application for the prediction and calculation of the Lifetime value for each consumer of a Brazilian E-commerce, for its subsequent segmentation in order to optimize of resources and commercial efforts for the company.\n",
        "\n",
        "## What is the CLTV/CLV?\n",
        "\n",
        "Better known as Customer Lifetime Value, this is a metric from the marketing world which, in short, reflects the profit that a certain customer will provide us in a given period of time. This allows us to get out of the subjectivism of how much a client is worth, and land that value in a more workable field related to the profitability that it brings to the company."
      ]
    },
    {
      "cell_type": "code",
      "source": [
        "!pip install lifetimes"
      ],
      "metadata": {
        "colab": {
          "base_uri": "https://localhost:8080/"
        },
        "id": "l7kTyf8iU3wX",
        "outputId": "cc8dbc48-6807-41ee-d288-fdf99ba40a89"
      },
      "id": "l7kTyf8iU3wX",
      "execution_count": 3,
      "outputs": [
        {
          "output_type": "stream",
          "name": "stdout",
          "text": [
            "Looking in indexes: https://pypi.org/simple, https://us-python.pkg.dev/colab-wheels/public/simple/\n",
            "Collecting lifetimes\n",
            "  Downloading Lifetimes-0.11.3-py3-none-any.whl (584 kB)\n",
            "\u001b[K     |████████████████████████████████| 584 kB 7.3 MB/s \n",
            "\u001b[?25hRequirement already satisfied: scipy>=1.0.0 in /usr/local/lib/python3.7/dist-packages (from lifetimes) (1.7.3)\n",
            "Requirement already satisfied: numpy>=1.10.0 in /usr/local/lib/python3.7/dist-packages (from lifetimes) (1.21.6)\n",
            "Requirement already satisfied: pandas>=0.24.0 in /usr/local/lib/python3.7/dist-packages (from lifetimes) (1.3.5)\n",
            "Requirement already satisfied: dill>=0.2.6 in /usr/local/lib/python3.7/dist-packages (from lifetimes) (0.3.5.1)\n",
            "Requirement already satisfied: autograd>=1.2.0 in /usr/local/lib/python3.7/dist-packages (from lifetimes) (1.4)\n",
            "Requirement already satisfied: future>=0.15.2 in /usr/local/lib/python3.7/dist-packages (from autograd>=1.2.0->lifetimes) (0.16.0)\n",
            "Requirement already satisfied: pytz>=2017.3 in /usr/local/lib/python3.7/dist-packages (from pandas>=0.24.0->lifetimes) (2022.2.1)\n",
            "Requirement already satisfied: python-dateutil>=2.7.3 in /usr/local/lib/python3.7/dist-packages (from pandas>=0.24.0->lifetimes) (2.8.2)\n",
            "Requirement already satisfied: six>=1.5 in /usr/local/lib/python3.7/dist-packages (from python-dateutil>=2.7.3->pandas>=0.24.0->lifetimes) (1.15.0)\n",
            "Installing collected packages: lifetimes\n",
            "Successfully installed lifetimes-0.11.3\n"
          ]
        }
      ]
    },
    {
      "cell_type": "markdown",
      "id": "fca8a234",
      "metadata": {
        "papermill": {
          "duration": 0.057316,
          "end_time": "2021-11-09T00:07:54.876693",
          "exception": false,
          "start_time": "2021-11-09T00:07:54.819377",
          "status": "completed"
        },
        "tags": [],
        "id": "fca8a234"
      },
      "source": [
        "<center><img src=\"https://www.wearemarketing.com/uploads/media/default/0001/21/033ed59c7fa7a026804f9507fa7fc3a390390667.jpeg\" width=\"800\"></center>"
      ]
    },
    {
      "cell_type": "markdown",
      "id": "6d197b99",
      "metadata": {
        "_cell_guid": "b1076dfc-b9ad-4769-8c92-a6c4dae69d19",
        "_uuid": "8f2839f25d086af736a60e9eeb907d3b93b6e0e5",
        "papermill": {
          "duration": 0.058953,
          "end_time": "2021-11-09T00:07:54.993670",
          "exception": false,
          "start_time": "2021-11-09T00:07:54.934717",
          "status": "completed"
        },
        "tags": [],
        "id": "6d197b99"
      },
      "source": [
        "### Why should we care it?\n",
        "\n",
        "- It allows us to segment our clients according to their contributions.\n",
        "- Identify patterns of behavior in our target audience.\n",
        "- It enables better management of commercial investment for each consumer.\n",
        "- Make an approximate prediction about future income to the company.\n",
        "- Improve more personalized loyalty programs.\n",
        "\n",
        "Therefore we can understand that improving the CLTV means increasing the amount of time in which this consumer is spending money in our company."
      ]
    },
    {
      "cell_type": "markdown",
      "id": "6d7f7101",
      "metadata": {
        "papermill": {
          "duration": 0.057236,
          "end_time": "2021-11-09T00:07:55.108686",
          "exception": false,
          "start_time": "2021-11-09T00:07:55.051450",
          "status": "completed"
        },
        "tags": [],
        "id": "6d7f7101"
      },
      "source": [
        "### What is its formula?\n",
        "\n",
        "There are several ways to calculate this indicator, which vary by the periods of time with which one works or the expert who is dealing with the subject. But to facilitate its understanding we will use the most intuitive of them:\n",
        "\n",
        "> CLTV = Average spending x  Frequency of purchase x Lifetime of client\n",
        "\n"
      ]
    },
    {
      "cell_type": "markdown",
      "id": "dce752e8",
      "metadata": {
        "papermill": {
          "duration": 0.059791,
          "end_time": "2021-11-09T00:07:55.225311",
          "exception": false,
          "start_time": "2021-11-09T00:07:55.165520",
          "status": "completed"
        },
        "tags": [],
        "id": "dce752e8"
      },
      "source": [
        "## Briefing\n",
        "\n",
        "Now that we have seen a little theory about this powerful metric and how its implementation can bring great benefits in the short and long term for our company, it is time to see the case that we will discuss today.\n",
        "\n",
        "### Objective\n",
        "\n",
        "Our main objective is to calculate the Lifetime Value per customer so that, based on them, segments can be created based on the profitability they bring to the company.\n",
        "\n",
        "### Data information\n",
        "\n",
        "The dataset we will work with was provided by Olist Store, the largest department store in Brazilian marketplaces. Olist connects small businesses from all over Brazil to channels without hassle and with a single contract. Therefore, our dataset contains a large number of purchases made between the 2016-2018 periods in different stores that used the Olist service.\n",
        "\n",
        "- **Reliability:** High, the data is completely real and has been anonymized for the safety of the users.\n",
        "\n",
        "- **Bias:** In advance, understand that the transactions belonging to different stores, with such varied items and segments, will not follow a standard pattern and the most probable is that they will not have a normal distribution. But to explore the subject and verify the scope of the Lifetimes library it will be quite useful.\n",
        "\n",
        "- **License:** CC BY-NC-SA 4.0.\n",
        "\n",
        "- **Repository:** Kaggle.\n",
        "\n",
        "- **Link:** https://www.kaggle.com/olistbr/brazilian-ecommerce\n",
        "\n",
        "Now that we have the data, our next step is to prepare it for analysis."
      ]
    },
    {
      "cell_type": "markdown",
      "id": "fb0cb673",
      "metadata": {
        "papermill": {
          "duration": 0.123138,
          "end_time": "2021-11-09T00:07:55.411152",
          "exception": false,
          "start_time": "2021-11-09T00:07:55.288014",
          "status": "completed"
        },
        "tags": [],
        "id": "fb0cb673"
      },
      "source": [
        "## Preprocess\n",
        "\n",
        "### Importing libraries"
      ]
    },
    {
      "cell_type": "code",
      "execution_count": 4,
      "id": "ecfaea8c",
      "metadata": {
        "execution": {
          "iopub.execute_input": "2021-11-09T00:07:55.545814Z",
          "iopub.status.busy": "2021-11-09T00:07:55.545059Z",
          "iopub.status.idle": "2021-11-09T00:08:12.588457Z",
          "shell.execute_reply": "2021-11-09T00:08:12.589188Z",
          "shell.execute_reply.started": "2021-11-09T00:04:53.062701Z"
        },
        "papermill": {
          "duration": 17.120661,
          "end_time": "2021-11-09T00:08:12.589504",
          "exception": false,
          "start_time": "2021-11-09T00:07:55.468843",
          "status": "completed"
        },
        "tags": [],
        "colab": {
          "base_uri": "https://localhost:8080/"
        },
        "id": "ecfaea8c",
        "outputId": "cf694ea5-fd93-4bca-dbfa-4d549d1c9b88"
      },
      "outputs": [
        {
          "output_type": "stream",
          "name": "stdout",
          "text": [
            "Looking in indexes: https://pypi.org/simple, https://us-python.pkg.dev/colab-wheels/public/simple/\n",
            "Requirement already satisfied: lifetimes in /usr/local/lib/python3.7/dist-packages (0.11.3)\n",
            "Requirement already satisfied: numpy>=1.10.0 in /usr/local/lib/python3.7/dist-packages (from lifetimes) (1.21.6)\n",
            "Requirement already satisfied: autograd>=1.2.0 in /usr/local/lib/python3.7/dist-packages (from lifetimes) (1.4)\n",
            "Requirement already satisfied: pandas>=0.24.0 in /usr/local/lib/python3.7/dist-packages (from lifetimes) (1.3.5)\n",
            "Requirement already satisfied: scipy>=1.0.0 in /usr/local/lib/python3.7/dist-packages (from lifetimes) (1.7.3)\n",
            "Requirement already satisfied: dill>=0.2.6 in /usr/local/lib/python3.7/dist-packages (from lifetimes) (0.3.5.1)\n",
            "Requirement already satisfied: future>=0.15.2 in /usr/local/lib/python3.7/dist-packages (from autograd>=1.2.0->lifetimes) (0.16.0)\n",
            "Requirement already satisfied: python-dateutil>=2.7.3 in /usr/local/lib/python3.7/dist-packages (from pandas>=0.24.0->lifetimes) (2.8.2)\n",
            "Requirement already satisfied: pytz>=2017.3 in /usr/local/lib/python3.7/dist-packages (from pandas>=0.24.0->lifetimes) (2022.2.1)\n",
            "Requirement already satisfied: six>=1.5 in /usr/local/lib/python3.7/dist-packages (from python-dateutil>=2.7.3->pandas>=0.24.0->lifetimes) (1.15.0)\n"
          ]
        }
      ],
      "source": [
        "!pip install lifetimes\n",
        "import pandas as pd\n",
        "import lifetimes\n",
        "from datetime import datetime\n",
        "import plotly.express as px\n",
        "import seaborn as sns\n",
        "import matplotlib.pyplot as plt\n",
        "import numpy as np"
      ]
    },
    {
      "cell_type": "markdown",
      "id": "8b00eb50",
      "metadata": {
        "papermill": {
          "duration": 0.066441,
          "end_time": "2021-11-09T00:08:12.720042",
          "exception": false,
          "start_time": "2021-11-09T00:08:12.653601",
          "status": "completed"
        },
        "tags": [],
        "id": "8b00eb50"
      },
      "source": [
        "### First look to our datasets\n",
        "\n",
        "Let's start with a first look at the data we have, in this case we will only use the Orders, Customer and Payments datasets. Since these three contain the variables that we will need to make use of the Lifetimes library and its models."
      ]
    },
    {
      "cell_type": "code",
      "execution_count": 5,
      "id": "72359c55",
      "metadata": {
        "execution": {
          "iopub.execute_input": "2021-11-09T00:08:12.853974Z",
          "iopub.status.busy": "2021-11-09T00:08:12.853252Z",
          "iopub.status.idle": "2021-11-09T00:08:14.310869Z",
          "shell.execute_reply": "2021-11-09T00:08:14.311417Z",
          "shell.execute_reply.started": "2021-11-09T00:05:08.330395Z"
        },
        "papermill": {
          "duration": 1.528671,
          "end_time": "2021-11-09T00:08:14.311629",
          "exception": false,
          "start_time": "2021-11-09T00:08:12.782958",
          "status": "completed"
        },
        "tags": [],
        "id": "72359c55"
      },
      "outputs": [],
      "source": [
        "data = pd.read_excel(\"Retail_cleaned_dataset.xlsx\")"
      ]
    },
    {
      "cell_type": "code",
      "execution_count": 6,
      "id": "9ed842ba",
      "metadata": {
        "execution": {
          "iopub.execute_input": "2021-11-09T00:08:14.444405Z",
          "iopub.status.busy": "2021-11-09T00:08:14.443644Z",
          "iopub.status.idle": "2021-11-09T00:08:14.469182Z",
          "shell.execute_reply": "2021-11-09T00:08:14.469735Z",
          "shell.execute_reply.started": "2021-11-09T00:05:09.588207Z"
        },
        "papermill": {
          "duration": 0.094136,
          "end_time": "2021-11-09T00:08:14.469920",
          "exception": false,
          "start_time": "2021-11-09T00:08:14.375784",
          "status": "completed"
        },
        "tags": [],
        "colab": {
          "base_uri": "https://localhost:8080/",
          "height": 206
        },
        "id": "9ed842ba",
        "outputId": "50c4eb44-0b8f-4ad4-9fc0-c5248f06c06c"
      },
      "outputs": [
        {
          "output_type": "execute_result",
          "data": {
            "text/plain": [
              "   Invoice StockCode                          Description  Quantity  \\\n",
              "0   489434     85048  15CM CHRISTMAS GLASS BALL 20 LIGHTS        12   \n",
              "1   489434    79323P                   PINK CHERRY LIGHTS        12   \n",
              "2   489434    79323W                  WHITE CHERRY LIGHTS        12   \n",
              "3   489434     22041         RECORD FRAME 7\" SINGLE SIZE         48   \n",
              "4   489434     21232       STRAWBERRY CERAMIC TRINKET BOX        24   \n",
              "\n",
              "          InvoiceDate  Price  CustomerID         Country  \n",
              "0 2019-12-01 07:45:00   6.95       13085  United Kingdom  \n",
              "1 2019-12-01 07:45:00   6.75       13085  United Kingdom  \n",
              "2 2019-12-01 07:45:00   6.75       13085  United Kingdom  \n",
              "3 2019-12-01 07:45:00   2.10       13085  United Kingdom  \n",
              "4 2019-12-01 07:45:00   1.25       13085  United Kingdom  "
            ],
            "text/html": [
              "\n",
              "  <div id=\"df-db31b27e-2260-4db8-9fec-a0e530251f0e\">\n",
              "    <div class=\"colab-df-container\">\n",
              "      <div>\n",
              "<style scoped>\n",
              "    .dataframe tbody tr th:only-of-type {\n",
              "        vertical-align: middle;\n",
              "    }\n",
              "\n",
              "    .dataframe tbody tr th {\n",
              "        vertical-align: top;\n",
              "    }\n",
              "\n",
              "    .dataframe thead th {\n",
              "        text-align: right;\n",
              "    }\n",
              "</style>\n",
              "<table border=\"1\" class=\"dataframe\">\n",
              "  <thead>\n",
              "    <tr style=\"text-align: right;\">\n",
              "      <th></th>\n",
              "      <th>Invoice</th>\n",
              "      <th>StockCode</th>\n",
              "      <th>Description</th>\n",
              "      <th>Quantity</th>\n",
              "      <th>InvoiceDate</th>\n",
              "      <th>Price</th>\n",
              "      <th>CustomerID</th>\n",
              "      <th>Country</th>\n",
              "    </tr>\n",
              "  </thead>\n",
              "  <tbody>\n",
              "    <tr>\n",
              "      <th>0</th>\n",
              "      <td>489434</td>\n",
              "      <td>85048</td>\n",
              "      <td>15CM CHRISTMAS GLASS BALL 20 LIGHTS</td>\n",
              "      <td>12</td>\n",
              "      <td>2019-12-01 07:45:00</td>\n",
              "      <td>6.95</td>\n",
              "      <td>13085</td>\n",
              "      <td>United Kingdom</td>\n",
              "    </tr>\n",
              "    <tr>\n",
              "      <th>1</th>\n",
              "      <td>489434</td>\n",
              "      <td>79323P</td>\n",
              "      <td>PINK CHERRY LIGHTS</td>\n",
              "      <td>12</td>\n",
              "      <td>2019-12-01 07:45:00</td>\n",
              "      <td>6.75</td>\n",
              "      <td>13085</td>\n",
              "      <td>United Kingdom</td>\n",
              "    </tr>\n",
              "    <tr>\n",
              "      <th>2</th>\n",
              "      <td>489434</td>\n",
              "      <td>79323W</td>\n",
              "      <td>WHITE CHERRY LIGHTS</td>\n",
              "      <td>12</td>\n",
              "      <td>2019-12-01 07:45:00</td>\n",
              "      <td>6.75</td>\n",
              "      <td>13085</td>\n",
              "      <td>United Kingdom</td>\n",
              "    </tr>\n",
              "    <tr>\n",
              "      <th>3</th>\n",
              "      <td>489434</td>\n",
              "      <td>22041</td>\n",
              "      <td>RECORD FRAME 7\" SINGLE SIZE</td>\n",
              "      <td>48</td>\n",
              "      <td>2019-12-01 07:45:00</td>\n",
              "      <td>2.10</td>\n",
              "      <td>13085</td>\n",
              "      <td>United Kingdom</td>\n",
              "    </tr>\n",
              "    <tr>\n",
              "      <th>4</th>\n",
              "      <td>489434</td>\n",
              "      <td>21232</td>\n",
              "      <td>STRAWBERRY CERAMIC TRINKET BOX</td>\n",
              "      <td>24</td>\n",
              "      <td>2019-12-01 07:45:00</td>\n",
              "      <td>1.25</td>\n",
              "      <td>13085</td>\n",
              "      <td>United Kingdom</td>\n",
              "    </tr>\n",
              "  </tbody>\n",
              "</table>\n",
              "</div>\n",
              "      <button class=\"colab-df-convert\" onclick=\"convertToInteractive('df-db31b27e-2260-4db8-9fec-a0e530251f0e')\"\n",
              "              title=\"Convert this dataframe to an interactive table.\"\n",
              "              style=\"display:none;\">\n",
              "        \n",
              "  <svg xmlns=\"http://www.w3.org/2000/svg\" height=\"24px\"viewBox=\"0 0 24 24\"\n",
              "       width=\"24px\">\n",
              "    <path d=\"M0 0h24v24H0V0z\" fill=\"none\"/>\n",
              "    <path d=\"M18.56 5.44l.94 2.06.94-2.06 2.06-.94-2.06-.94-.94-2.06-.94 2.06-2.06.94zm-11 1L8.5 8.5l.94-2.06 2.06-.94-2.06-.94L8.5 2.5l-.94 2.06-2.06.94zm10 10l.94 2.06.94-2.06 2.06-.94-2.06-.94-.94-2.06-.94 2.06-2.06.94z\"/><path d=\"M17.41 7.96l-1.37-1.37c-.4-.4-.92-.59-1.43-.59-.52 0-1.04.2-1.43.59L10.3 9.45l-7.72 7.72c-.78.78-.78 2.05 0 2.83L4 21.41c.39.39.9.59 1.41.59.51 0 1.02-.2 1.41-.59l7.78-7.78 2.81-2.81c.8-.78.8-2.07 0-2.86zM5.41 20L4 18.59l7.72-7.72 1.47 1.35L5.41 20z\"/>\n",
              "  </svg>\n",
              "      </button>\n",
              "      \n",
              "  <style>\n",
              "    .colab-df-container {\n",
              "      display:flex;\n",
              "      flex-wrap:wrap;\n",
              "      gap: 12px;\n",
              "    }\n",
              "\n",
              "    .colab-df-convert {\n",
              "      background-color: #E8F0FE;\n",
              "      border: none;\n",
              "      border-radius: 50%;\n",
              "      cursor: pointer;\n",
              "      display: none;\n",
              "      fill: #1967D2;\n",
              "      height: 32px;\n",
              "      padding: 0 0 0 0;\n",
              "      width: 32px;\n",
              "    }\n",
              "\n",
              "    .colab-df-convert:hover {\n",
              "      background-color: #E2EBFA;\n",
              "      box-shadow: 0px 1px 2px rgba(60, 64, 67, 0.3), 0px 1px 3px 1px rgba(60, 64, 67, 0.15);\n",
              "      fill: #174EA6;\n",
              "    }\n",
              "\n",
              "    [theme=dark] .colab-df-convert {\n",
              "      background-color: #3B4455;\n",
              "      fill: #D2E3FC;\n",
              "    }\n",
              "\n",
              "    [theme=dark] .colab-df-convert:hover {\n",
              "      background-color: #434B5C;\n",
              "      box-shadow: 0px 1px 3px 1px rgba(0, 0, 0, 0.15);\n",
              "      filter: drop-shadow(0px 1px 2px rgba(0, 0, 0, 0.3));\n",
              "      fill: #FFFFFF;\n",
              "    }\n",
              "  </style>\n",
              "\n",
              "      <script>\n",
              "        const buttonEl =\n",
              "          document.querySelector('#df-db31b27e-2260-4db8-9fec-a0e530251f0e button.colab-df-convert');\n",
              "        buttonEl.style.display =\n",
              "          google.colab.kernel.accessAllowed ? 'block' : 'none';\n",
              "\n",
              "        async function convertToInteractive(key) {\n",
              "          const element = document.querySelector('#df-db31b27e-2260-4db8-9fec-a0e530251f0e');\n",
              "          const dataTable =\n",
              "            await google.colab.kernel.invokeFunction('convertToInteractive',\n",
              "                                                     [key], {});\n",
              "          if (!dataTable) return;\n",
              "\n",
              "          const docLinkHtml = 'Like what you see? Visit the ' +\n",
              "            '<a target=\"_blank\" href=https://colab.research.google.com/notebooks/data_table.ipynb>data table notebook</a>'\n",
              "            + ' to learn more about interactive tables.';\n",
              "          element.innerHTML = '';\n",
              "          dataTable['output_type'] = 'display_data';\n",
              "          await google.colab.output.renderOutput(dataTable, element);\n",
              "          const docLink = document.createElement('div');\n",
              "          docLink.innerHTML = docLinkHtml;\n",
              "          element.appendChild(docLink);\n",
              "        }\n",
              "      </script>\n",
              "    </div>\n",
              "  </div>\n",
              "  "
            ]
          },
          "metadata": {},
          "execution_count": 6
        }
      ],
      "source": [
        "data.head(5)"
      ]
    },
    {
      "cell_type": "markdown",
      "id": "0bbb0c9d",
      "metadata": {
        "papermill": {
          "duration": 0.066804,
          "end_time": "2021-11-09T00:08:14.908777",
          "exception": false,
          "start_time": "2021-11-09T00:08:14.841973",
          "status": "completed"
        },
        "tags": [],
        "id": "0bbb0c9d"
      },
      "source": [
        "We can see that in the Orders dataset we have a column called *order_status* which includes the current status of each order. We are only interested in working with the orders that have been concluded so far, so we must filter them.\n"
      ]
    },
    {
      "cell_type": "markdown",
      "id": "19ca559f",
      "metadata": {
        "papermill": {
          "duration": 0.088996,
          "end_time": "2021-11-09T00:08:15.439557",
          "exception": false,
          "start_time": "2021-11-09T00:08:15.350561",
          "status": "completed"
        },
        "tags": [],
        "id": "19ca559f"
      },
      "source": [
        "We are left with a sample of 96,478 completed orders.\n",
        "\n",
        "### Merging our data\n",
        "\n",
        "Let's start with merging the three datasets into one from which we can extract the variables we need."
      ]
    },
    {
      "cell_type": "markdown",
      "id": "31c3276e",
      "metadata": {
        "papermill": {
          "duration": 0.069675,
          "end_time": "2021-11-09T00:08:16.208729",
          "exception": false,
          "start_time": "2021-11-09T00:08:16.139054",
          "status": "completed"
        },
        "tags": [],
        "id": "31c3276e"
      },
      "source": [
        "Here we have the final merge, but it is necessary to make a differentiation between the variables that we have: **order_id** clearly refers to the code of the order carried out, on the other hand we have **customer_id** which is the code assigned to the user by purchase (that is, the code varies from session to session, even if the person is the same) and finally **customer_unique_id** which actually reflects the user as a person, which is what we need to calculate their respective CLTV. Due to that we will proceed to eliminate the other two columns that do not serve us for the case."
      ]
    },
    {
      "cell_type": "markdown",
      "id": "f323d518",
      "metadata": {
        "papermill": {
          "duration": 0.067368,
          "end_time": "2021-11-09T00:08:17.271024",
          "exception": false,
          "start_time": "2021-11-09T00:08:17.203656",
          "status": "completed"
        },
        "tags": [],
        "id": "f323d518"
      },
      "source": [
        "We can see that our unique users are 93357, it is to each of them that we must calculate new variables. This is where an important point about the *Lifetimes* library comes in, and that is that to make use of its models it is necessary to present 4 specific variables called recency, frequency, T and monetary value. Do not worry, I will proceed to explain what each one of them is about:\n",
        "\n",
        "- **Frequency:** Represents the number of repeat purchases the customer has made. This means that it’s one less than the total number of purchases.\n",
        "- **Recency:** Represents the age of the customer when they made their most recent purchases. This is equal to the duration between a customer’s first purchase and their latest purchase. (Thus if they have made only 1 purchase, the recency is 0.)\n",
        "- **T:** Represents the age of the customer in whatever time units chosen. This is equal to the duration between a customer’s first purchase and the end of the period under study.\n",
        "- **Monetary value:** Represents the average value of a given customer’s purchases. This is equal to the sum of all a customer’s purchases divided by the total number of purchases. Note that the denominator here is different than the frequency described above.\n",
        "\n",
        "Now that we know which variables we are going to use, if we see our created dataset again we have everything to calculate them, that will be our next step.\n",
        "\n",
        "## Feature Engineering\n",
        "\n",
        "Let's start by formatting our date variable and exploring its minimum (first purchase) and maximum (last purchase) values."
      ]
    },
    {
      "cell_type": "code",
      "execution_count": 7,
      "id": "5fd2f488",
      "metadata": {
        "execution": {
          "iopub.execute_input": "2021-11-09T00:08:17.411401Z",
          "iopub.status.busy": "2021-11-09T00:08:17.410643Z",
          "iopub.status.idle": "2021-11-09T00:08:17.555389Z",
          "shell.execute_reply": "2021-11-09T00:08:17.555870Z",
          "shell.execute_reply.started": "2021-11-09T00:05:10.236951Z"
        },
        "papermill": {
          "duration": 0.216967,
          "end_time": "2021-11-09T00:08:17.556055",
          "exception": false,
          "start_time": "2021-11-09T00:08:17.339088",
          "status": "completed"
        },
        "tags": [],
        "id": "5fd2f488"
      },
      "outputs": [],
      "source": [
        "data[\"Total Amount\"] = data[\"Quantity\"]*data[\"Price\"]\n",
        "data['InvoiceDate'] = data.InvoiceDate.dt.date"
      ]
    },
    {
      "cell_type": "code",
      "source": [
        "data['InvoiceDate'] = pd.to_datetime(data['InvoiceDate'])\n",
        "data['InvoiceDate'].describe()"
      ],
      "metadata": {
        "colab": {
          "base_uri": "https://localhost:8080/"
        },
        "id": "KKHB4CLXWPcA",
        "outputId": "c2c87d07-d8d9-44f7-8777-9449f0c7f098"
      },
      "id": "KKHB4CLXWPcA",
      "execution_count": 9,
      "outputs": [
        {
          "output_type": "execute_result",
          "data": {
            "text/plain": [
              "count                  779428\n",
              "unique                    604\n",
              "top       2021-11-06 00:00:00\n",
              "freq                     3340\n",
              "first     2019-12-01 00:00:00\n",
              "last      2021-12-09 00:00:00\n",
              "Name: InvoiceDate, dtype: object"
            ]
          },
          "metadata": {},
          "execution_count": 9
        }
      ]
    },
    {
      "cell_type": "code",
      "execution_count": 10,
      "id": "4e7ac03b",
      "metadata": {
        "execution": {
          "iopub.execute_input": "2021-11-09T00:08:17.699999Z",
          "iopub.status.busy": "2021-11-09T00:08:17.699257Z",
          "iopub.status.idle": "2021-11-09T00:08:17.705507Z",
          "shell.execute_reply": "2021-11-09T00:08:17.704761Z",
          "shell.execute_reply.started": "2021-11-09T00:05:10.386813Z"
        },
        "papermill": {
          "duration": 0.079576,
          "end_time": "2021-11-09T00:08:17.705668",
          "exception": false,
          "start_time": "2021-11-09T00:08:17.626092",
          "status": "completed"
        },
        "tags": [],
        "id": "4e7ac03b"
      },
      "outputs": [],
      "source": [
        "# The last purchase made in the dataset was on August 29, 2018, so we will use that date as our current \n",
        "# date to simulate an immediate study of the company's transactions.\n",
        "\n",
        "today = '2021-12-09'\n",
        "date_today = datetime.strptime(today, '%Y-%m-%d')"
      ]
    },
    {
      "cell_type": "markdown",
      "id": "38096a2a",
      "metadata": {
        "papermill": {
          "duration": 0.066934,
          "end_time": "2021-11-09T00:08:17.840204",
          "exception": false,
          "start_time": "2021-11-09T00:08:17.773270",
          "status": "completed"
        },
        "tags": [],
        "id": "38096a2a"
      },
      "source": [
        "### Creating Recency\n",
        "\n",
        "We will group by user in a new table."
      ]
    },
    {
      "cell_type": "code",
      "execution_count": 11,
      "id": "8d5240f1",
      "metadata": {
        "execution": {
          "iopub.execute_input": "2021-11-09T00:08:18.003480Z",
          "iopub.status.busy": "2021-11-09T00:08:17.994158Z",
          "iopub.status.idle": "2021-11-09T00:08:18.326731Z",
          "shell.execute_reply": "2021-11-09T00:08:18.325981Z",
          "shell.execute_reply.started": "2021-11-09T00:05:10.393539Z"
        },
        "papermill": {
          "duration": 0.417725,
          "end_time": "2021-11-09T00:08:18.326896",
          "exception": false,
          "start_time": "2021-11-09T00:08:17.909171",
          "status": "completed"
        },
        "tags": [],
        "id": "8d5240f1"
      },
      "outputs": [],
      "source": [
        "r = data.groupby('CustomerID').agg(['min', 'max'])['InvoiceDate']\n",
        "r['recency'] = r['max'] - r['min']"
      ]
    },
    {
      "cell_type": "markdown",
      "id": "867c3e57",
      "metadata": {
        "papermill": {
          "duration": 0.069968,
          "end_time": "2021-11-09T00:08:18.465215",
          "exception": false,
          "start_time": "2021-11-09T00:08:18.395247",
          "status": "completed"
        },
        "tags": [],
        "id": "867c3e57"
      },
      "source": [
        "### Creating T\n",
        "This same table helps us to create our variable T."
      ]
    },
    {
      "cell_type": "code",
      "execution_count": 12,
      "id": "f17c4669",
      "metadata": {
        "execution": {
          "iopub.execute_input": "2021-11-09T00:08:18.606373Z",
          "iopub.status.busy": "2021-11-09T00:08:18.605648Z",
          "iopub.status.idle": "2021-11-09T00:08:18.622803Z",
          "shell.execute_reply": "2021-11-09T00:08:18.622072Z",
          "shell.execute_reply.started": "2021-11-09T00:05:10.720683Z"
        },
        "papermill": {
          "duration": 0.089791,
          "end_time": "2021-11-09T00:08:18.622956",
          "exception": false,
          "start_time": "2021-11-09T00:08:18.533165",
          "status": "completed"
        },
        "tags": [],
        "colab": {
          "base_uri": "https://localhost:8080/",
          "height": 455
        },
        "id": "f17c4669",
        "outputId": "78ab5766-e747-4b59-f72b-c009e409a7b9"
      },
      "outputs": [
        {
          "output_type": "execute_result",
          "data": {
            "text/plain": [
              "            recency        T\n",
              "CustomerID                  \n",
              "12346      401 days 726 days\n",
              "12347      402 days 404 days\n",
              "12348      363 days 438 days\n",
              "12349      571 days 589 days\n",
              "12350        0 days 310 days\n",
              "...             ...      ...\n",
              "18283      656 days 659 days\n",
              "18284        0 days 431 days\n",
              "18285        0 days 661 days\n",
              "18286      248 days 724 days\n",
              "18287      529 days 571 days\n",
              "\n",
              "[5878 rows x 2 columns]"
            ],
            "text/html": [
              "\n",
              "  <div id=\"df-4dddd1fe-1830-49ac-9d5b-7fb71c9330c2\">\n",
              "    <div class=\"colab-df-container\">\n",
              "      <div>\n",
              "<style scoped>\n",
              "    .dataframe tbody tr th:only-of-type {\n",
              "        vertical-align: middle;\n",
              "    }\n",
              "\n",
              "    .dataframe tbody tr th {\n",
              "        vertical-align: top;\n",
              "    }\n",
              "\n",
              "    .dataframe thead th {\n",
              "        text-align: right;\n",
              "    }\n",
              "</style>\n",
              "<table border=\"1\" class=\"dataframe\">\n",
              "  <thead>\n",
              "    <tr style=\"text-align: right;\">\n",
              "      <th></th>\n",
              "      <th>recency</th>\n",
              "      <th>T</th>\n",
              "    </tr>\n",
              "    <tr>\n",
              "      <th>CustomerID</th>\n",
              "      <th></th>\n",
              "      <th></th>\n",
              "    </tr>\n",
              "  </thead>\n",
              "  <tbody>\n",
              "    <tr>\n",
              "      <th>12346</th>\n",
              "      <td>401 days</td>\n",
              "      <td>726 days</td>\n",
              "    </tr>\n",
              "    <tr>\n",
              "      <th>12347</th>\n",
              "      <td>402 days</td>\n",
              "      <td>404 days</td>\n",
              "    </tr>\n",
              "    <tr>\n",
              "      <th>12348</th>\n",
              "      <td>363 days</td>\n",
              "      <td>438 days</td>\n",
              "    </tr>\n",
              "    <tr>\n",
              "      <th>12349</th>\n",
              "      <td>571 days</td>\n",
              "      <td>589 days</td>\n",
              "    </tr>\n",
              "    <tr>\n",
              "      <th>12350</th>\n",
              "      <td>0 days</td>\n",
              "      <td>310 days</td>\n",
              "    </tr>\n",
              "    <tr>\n",
              "      <th>...</th>\n",
              "      <td>...</td>\n",
              "      <td>...</td>\n",
              "    </tr>\n",
              "    <tr>\n",
              "      <th>18283</th>\n",
              "      <td>656 days</td>\n",
              "      <td>659 days</td>\n",
              "    </tr>\n",
              "    <tr>\n",
              "      <th>18284</th>\n",
              "      <td>0 days</td>\n",
              "      <td>431 days</td>\n",
              "    </tr>\n",
              "    <tr>\n",
              "      <th>18285</th>\n",
              "      <td>0 days</td>\n",
              "      <td>661 days</td>\n",
              "    </tr>\n",
              "    <tr>\n",
              "      <th>18286</th>\n",
              "      <td>248 days</td>\n",
              "      <td>724 days</td>\n",
              "    </tr>\n",
              "    <tr>\n",
              "      <th>18287</th>\n",
              "      <td>529 days</td>\n",
              "      <td>571 days</td>\n",
              "    </tr>\n",
              "  </tbody>\n",
              "</table>\n",
              "<p>5878 rows × 2 columns</p>\n",
              "</div>\n",
              "      <button class=\"colab-df-convert\" onclick=\"convertToInteractive('df-4dddd1fe-1830-49ac-9d5b-7fb71c9330c2')\"\n",
              "              title=\"Convert this dataframe to an interactive table.\"\n",
              "              style=\"display:none;\">\n",
              "        \n",
              "  <svg xmlns=\"http://www.w3.org/2000/svg\" height=\"24px\"viewBox=\"0 0 24 24\"\n",
              "       width=\"24px\">\n",
              "    <path d=\"M0 0h24v24H0V0z\" fill=\"none\"/>\n",
              "    <path d=\"M18.56 5.44l.94 2.06.94-2.06 2.06-.94-2.06-.94-.94-2.06-.94 2.06-2.06.94zm-11 1L8.5 8.5l.94-2.06 2.06-.94-2.06-.94L8.5 2.5l-.94 2.06-2.06.94zm10 10l.94 2.06.94-2.06 2.06-.94-2.06-.94-.94-2.06-.94 2.06-2.06.94z\"/><path d=\"M17.41 7.96l-1.37-1.37c-.4-.4-.92-.59-1.43-.59-.52 0-1.04.2-1.43.59L10.3 9.45l-7.72 7.72c-.78.78-.78 2.05 0 2.83L4 21.41c.39.39.9.59 1.41.59.51 0 1.02-.2 1.41-.59l7.78-7.78 2.81-2.81c.8-.78.8-2.07 0-2.86zM5.41 20L4 18.59l7.72-7.72 1.47 1.35L5.41 20z\"/>\n",
              "  </svg>\n",
              "      </button>\n",
              "      \n",
              "  <style>\n",
              "    .colab-df-container {\n",
              "      display:flex;\n",
              "      flex-wrap:wrap;\n",
              "      gap: 12px;\n",
              "    }\n",
              "\n",
              "    .colab-df-convert {\n",
              "      background-color: #E8F0FE;\n",
              "      border: none;\n",
              "      border-radius: 50%;\n",
              "      cursor: pointer;\n",
              "      display: none;\n",
              "      fill: #1967D2;\n",
              "      height: 32px;\n",
              "      padding: 0 0 0 0;\n",
              "      width: 32px;\n",
              "    }\n",
              "\n",
              "    .colab-df-convert:hover {\n",
              "      background-color: #E2EBFA;\n",
              "      box-shadow: 0px 1px 2px rgba(60, 64, 67, 0.3), 0px 1px 3px 1px rgba(60, 64, 67, 0.15);\n",
              "      fill: #174EA6;\n",
              "    }\n",
              "\n",
              "    [theme=dark] .colab-df-convert {\n",
              "      background-color: #3B4455;\n",
              "      fill: #D2E3FC;\n",
              "    }\n",
              "\n",
              "    [theme=dark] .colab-df-convert:hover {\n",
              "      background-color: #434B5C;\n",
              "      box-shadow: 0px 1px 3px 1px rgba(0, 0, 0, 0.15);\n",
              "      filter: drop-shadow(0px 1px 2px rgba(0, 0, 0, 0.3));\n",
              "      fill: #FFFFFF;\n",
              "    }\n",
              "  </style>\n",
              "\n",
              "      <script>\n",
              "        const buttonEl =\n",
              "          document.querySelector('#df-4dddd1fe-1830-49ac-9d5b-7fb71c9330c2 button.colab-df-convert');\n",
              "        buttonEl.style.display =\n",
              "          google.colab.kernel.accessAllowed ? 'block' : 'none';\n",
              "\n",
              "        async function convertToInteractive(key) {\n",
              "          const element = document.querySelector('#df-4dddd1fe-1830-49ac-9d5b-7fb71c9330c2');\n",
              "          const dataTable =\n",
              "            await google.colab.kernel.invokeFunction('convertToInteractive',\n",
              "                                                     [key], {});\n",
              "          if (!dataTable) return;\n",
              "\n",
              "          const docLinkHtml = 'Like what you see? Visit the ' +\n",
              "            '<a target=\"_blank\" href=https://colab.research.google.com/notebooks/data_table.ipynb>data table notebook</a>'\n",
              "            + ' to learn more about interactive tables.';\n",
              "          element.innerHTML = '';\n",
              "          dataTable['output_type'] = 'display_data';\n",
              "          await google.colab.output.renderOutput(dataTable, element);\n",
              "          const docLink = document.createElement('div');\n",
              "          docLink.innerHTML = docLinkHtml;\n",
              "          element.appendChild(docLink);\n",
              "        }\n",
              "      </script>\n",
              "    </div>\n",
              "  </div>\n",
              "  "
            ]
          },
          "metadata": {},
          "execution_count": 12
        }
      ],
      "source": [
        "r['T'] = date_today - r['min']\n",
        "r = r[['recency', 'T']]\n",
        "\n",
        "# Let's take a look at our new variables\n",
        "r"
      ]
    },
    {
      "cell_type": "markdown",
      "id": "9f46b598",
      "metadata": {
        "papermill": {
          "duration": 0.071433,
          "end_time": "2021-11-09T00:08:18.764159",
          "exception": false,
          "start_time": "2021-11-09T00:08:18.692726",
          "status": "completed"
        },
        "tags": [],
        "id": "9f46b598"
      },
      "source": [
        "### Creating Frequency\n",
        "As before we will group by unique user to create this variable."
      ]
    },
    {
      "cell_type": "code",
      "execution_count": 14,
      "id": "619c4ae2",
      "metadata": {
        "execution": {
          "iopub.execute_input": "2021-11-09T00:08:18.925227Z",
          "iopub.status.busy": "2021-11-09T00:08:18.924437Z",
          "iopub.status.idle": "2021-11-09T00:08:19.216596Z",
          "shell.execute_reply": "2021-11-09T00:08:19.217157Z",
          "shell.execute_reply.started": "2021-11-09T00:05:10.741207Z"
        },
        "papermill": {
          "duration": 0.384295,
          "end_time": "2021-11-09T00:08:19.217363",
          "exception": false,
          "start_time": "2021-11-09T00:08:18.833068",
          "status": "completed"
        },
        "tags": [],
        "id": "619c4ae2"
      },
      "outputs": [],
      "source": [
        "aggregations = {\n",
        "    'InvoiceDate':'count',\n",
        "    'Total Amount': 'sum'}\n",
        "f = data.groupby('CustomerID').agg(aggregations)\n",
        "f['frequency'] = f['InvoiceDate'] - 1\n",
        "f = f[['frequency']]"
      ]
    },
    {
      "cell_type": "code",
      "execution_count": 15,
      "id": "d0724634",
      "metadata": {
        "execution": {
          "iopub.execute_input": "2021-11-09T00:08:19.359640Z",
          "iopub.status.busy": "2021-11-09T00:08:19.358912Z",
          "iopub.status.idle": "2021-11-09T00:08:19.465797Z",
          "shell.execute_reply": "2021-11-09T00:08:19.466492Z",
          "shell.execute_reply.started": "2021-11-09T00:05:11.025326Z"
        },
        "papermill": {
          "duration": 0.178624,
          "end_time": "2021-11-09T00:08:19.466677",
          "exception": false,
          "start_time": "2021-11-09T00:08:19.288053",
          "status": "completed"
        },
        "tags": [],
        "colab": {
          "base_uri": "https://localhost:8080/",
          "height": 455
        },
        "id": "d0724634",
        "outputId": "fb293a1c-f1bf-408f-dca5-6c64df577119"
      },
      "outputs": [
        {
          "output_type": "execute_result",
          "data": {
            "text/plain": [
              "            recency        T  frequency\n",
              "CustomerID                             \n",
              "12346      401 days 726 days         33\n",
              "12347      402 days 404 days        221\n",
              "12348      363 days 438 days         50\n",
              "12349      571 days 589 days        174\n",
              "12350        0 days 310 days         16\n",
              "...             ...      ...        ...\n",
              "18283      656 days 659 days        937\n",
              "18284        0 days 431 days         27\n",
              "18285        0 days 661 days         11\n",
              "18286      248 days 724 days         66\n",
              "18287      529 days 571 days        154\n",
              "\n",
              "[5878 rows x 3 columns]"
            ],
            "text/html": [
              "\n",
              "  <div id=\"df-035c3033-0c8c-430a-96c0-4e8bd71c24bc\">\n",
              "    <div class=\"colab-df-container\">\n",
              "      <div>\n",
              "<style scoped>\n",
              "    .dataframe tbody tr th:only-of-type {\n",
              "        vertical-align: middle;\n",
              "    }\n",
              "\n",
              "    .dataframe tbody tr th {\n",
              "        vertical-align: top;\n",
              "    }\n",
              "\n",
              "    .dataframe thead th {\n",
              "        text-align: right;\n",
              "    }\n",
              "</style>\n",
              "<table border=\"1\" class=\"dataframe\">\n",
              "  <thead>\n",
              "    <tr style=\"text-align: right;\">\n",
              "      <th></th>\n",
              "      <th>recency</th>\n",
              "      <th>T</th>\n",
              "      <th>frequency</th>\n",
              "    </tr>\n",
              "    <tr>\n",
              "      <th>CustomerID</th>\n",
              "      <th></th>\n",
              "      <th></th>\n",
              "      <th></th>\n",
              "    </tr>\n",
              "  </thead>\n",
              "  <tbody>\n",
              "    <tr>\n",
              "      <th>12346</th>\n",
              "      <td>401 days</td>\n",
              "      <td>726 days</td>\n",
              "      <td>33</td>\n",
              "    </tr>\n",
              "    <tr>\n",
              "      <th>12347</th>\n",
              "      <td>402 days</td>\n",
              "      <td>404 days</td>\n",
              "      <td>221</td>\n",
              "    </tr>\n",
              "    <tr>\n",
              "      <th>12348</th>\n",
              "      <td>363 days</td>\n",
              "      <td>438 days</td>\n",
              "      <td>50</td>\n",
              "    </tr>\n",
              "    <tr>\n",
              "      <th>12349</th>\n",
              "      <td>571 days</td>\n",
              "      <td>589 days</td>\n",
              "      <td>174</td>\n",
              "    </tr>\n",
              "    <tr>\n",
              "      <th>12350</th>\n",
              "      <td>0 days</td>\n",
              "      <td>310 days</td>\n",
              "      <td>16</td>\n",
              "    </tr>\n",
              "    <tr>\n",
              "      <th>...</th>\n",
              "      <td>...</td>\n",
              "      <td>...</td>\n",
              "      <td>...</td>\n",
              "    </tr>\n",
              "    <tr>\n",
              "      <th>18283</th>\n",
              "      <td>656 days</td>\n",
              "      <td>659 days</td>\n",
              "      <td>937</td>\n",
              "    </tr>\n",
              "    <tr>\n",
              "      <th>18284</th>\n",
              "      <td>0 days</td>\n",
              "      <td>431 days</td>\n",
              "      <td>27</td>\n",
              "    </tr>\n",
              "    <tr>\n",
              "      <th>18285</th>\n",
              "      <td>0 days</td>\n",
              "      <td>661 days</td>\n",
              "      <td>11</td>\n",
              "    </tr>\n",
              "    <tr>\n",
              "      <th>18286</th>\n",
              "      <td>248 days</td>\n",
              "      <td>724 days</td>\n",
              "      <td>66</td>\n",
              "    </tr>\n",
              "    <tr>\n",
              "      <th>18287</th>\n",
              "      <td>529 days</td>\n",
              "      <td>571 days</td>\n",
              "      <td>154</td>\n",
              "    </tr>\n",
              "  </tbody>\n",
              "</table>\n",
              "<p>5878 rows × 3 columns</p>\n",
              "</div>\n",
              "      <button class=\"colab-df-convert\" onclick=\"convertToInteractive('df-035c3033-0c8c-430a-96c0-4e8bd71c24bc')\"\n",
              "              title=\"Convert this dataframe to an interactive table.\"\n",
              "              style=\"display:none;\">\n",
              "        \n",
              "  <svg xmlns=\"http://www.w3.org/2000/svg\" height=\"24px\"viewBox=\"0 0 24 24\"\n",
              "       width=\"24px\">\n",
              "    <path d=\"M0 0h24v24H0V0z\" fill=\"none\"/>\n",
              "    <path d=\"M18.56 5.44l.94 2.06.94-2.06 2.06-.94-2.06-.94-.94-2.06-.94 2.06-2.06.94zm-11 1L8.5 8.5l.94-2.06 2.06-.94-2.06-.94L8.5 2.5l-.94 2.06-2.06.94zm10 10l.94 2.06.94-2.06 2.06-.94-2.06-.94-.94-2.06-.94 2.06-2.06.94z\"/><path d=\"M17.41 7.96l-1.37-1.37c-.4-.4-.92-.59-1.43-.59-.52 0-1.04.2-1.43.59L10.3 9.45l-7.72 7.72c-.78.78-.78 2.05 0 2.83L4 21.41c.39.39.9.59 1.41.59.51 0 1.02-.2 1.41-.59l7.78-7.78 2.81-2.81c.8-.78.8-2.07 0-2.86zM5.41 20L4 18.59l7.72-7.72 1.47 1.35L5.41 20z\"/>\n",
              "  </svg>\n",
              "      </button>\n",
              "      \n",
              "  <style>\n",
              "    .colab-df-container {\n",
              "      display:flex;\n",
              "      flex-wrap:wrap;\n",
              "      gap: 12px;\n",
              "    }\n",
              "\n",
              "    .colab-df-convert {\n",
              "      background-color: #E8F0FE;\n",
              "      border: none;\n",
              "      border-radius: 50%;\n",
              "      cursor: pointer;\n",
              "      display: none;\n",
              "      fill: #1967D2;\n",
              "      height: 32px;\n",
              "      padding: 0 0 0 0;\n",
              "      width: 32px;\n",
              "    }\n",
              "\n",
              "    .colab-df-convert:hover {\n",
              "      background-color: #E2EBFA;\n",
              "      box-shadow: 0px 1px 2px rgba(60, 64, 67, 0.3), 0px 1px 3px 1px rgba(60, 64, 67, 0.15);\n",
              "      fill: #174EA6;\n",
              "    }\n",
              "\n",
              "    [theme=dark] .colab-df-convert {\n",
              "      background-color: #3B4455;\n",
              "      fill: #D2E3FC;\n",
              "    }\n",
              "\n",
              "    [theme=dark] .colab-df-convert:hover {\n",
              "      background-color: #434B5C;\n",
              "      box-shadow: 0px 1px 3px 1px rgba(0, 0, 0, 0.15);\n",
              "      filter: drop-shadow(0px 1px 2px rgba(0, 0, 0, 0.3));\n",
              "      fill: #FFFFFF;\n",
              "    }\n",
              "  </style>\n",
              "\n",
              "      <script>\n",
              "        const buttonEl =\n",
              "          document.querySelector('#df-035c3033-0c8c-430a-96c0-4e8bd71c24bc button.colab-df-convert');\n",
              "        buttonEl.style.display =\n",
              "          google.colab.kernel.accessAllowed ? 'block' : 'none';\n",
              "\n",
              "        async function convertToInteractive(key) {\n",
              "          const element = document.querySelector('#df-035c3033-0c8c-430a-96c0-4e8bd71c24bc');\n",
              "          const dataTable =\n",
              "            await google.colab.kernel.invokeFunction('convertToInteractive',\n",
              "                                                     [key], {});\n",
              "          if (!dataTable) return;\n",
              "\n",
              "          const docLinkHtml = 'Like what you see? Visit the ' +\n",
              "            '<a target=\"_blank\" href=https://colab.research.google.com/notebooks/data_table.ipynb>data table notebook</a>'\n",
              "            + ' to learn more about interactive tables.';\n",
              "          element.innerHTML = '';\n",
              "          dataTable['output_type'] = 'display_data';\n",
              "          await google.colab.output.renderOutput(dataTable, element);\n",
              "          const docLink = document.createElement('div');\n",
              "          docLink.innerHTML = docLinkHtml;\n",
              "          element.appendChild(docLink);\n",
              "        }\n",
              "      </script>\n",
              "    </div>\n",
              "  </div>\n",
              "  "
            ]
          },
          "metadata": {},
          "execution_count": 15
        }
      ],
      "source": [
        "# Let's create our final table joining both\n",
        "\n",
        "rf = pd.merge(r,f, left_index=True, right_index=True)\n",
        "rf"
      ]
    },
    {
      "cell_type": "markdown",
      "id": "29b9137a",
      "metadata": {
        "papermill": {
          "duration": 0.070746,
          "end_time": "2021-11-09T00:08:19.607337",
          "exception": false,
          "start_time": "2021-11-09T00:08:19.536591",
          "status": "completed"
        },
        "tags": [],
        "id": "29b9137a"
      },
      "source": [
        "For our convenience, the *Lifetimes* library includes a module that takes care of this cumbersome process automatically. We will work with this table created by the library, since it includes the variable **monetary_value** and allows us to define the period of time with which we want to work (in our case we will choose weekly since our dataset belongs to different industries, this is a regular period of time)."
      ]
    },
    {
      "cell_type": "code",
      "execution_count": 17,
      "id": "bd395064",
      "metadata": {
        "execution": {
          "iopub.execute_input": "2021-11-09T00:08:19.761768Z",
          "iopub.status.busy": "2021-11-09T00:08:19.760775Z",
          "iopub.status.idle": "2021-11-09T00:08:20.757098Z",
          "shell.execute_reply": "2021-11-09T00:08:20.757632Z",
          "shell.execute_reply.started": "2021-11-09T00:05:11.129504Z"
        },
        "papermill": {
          "duration": 1.079739,
          "end_time": "2021-11-09T00:08:20.757821",
          "exception": false,
          "start_time": "2021-11-09T00:08:19.678082",
          "status": "completed"
        },
        "tags": [],
        "colab": {
          "base_uri": "https://localhost:8080/",
          "height": 455
        },
        "id": "bd395064",
        "outputId": "250aac4f-68f2-4a01-c091-a179ecac677d"
      },
      "outputs": [
        {
          "output_type": "execute_result",
          "data": {
            "text/plain": [
              "            frequency  recency      T  monetary_value\n",
              "CustomerID                                           \n",
              "12346             7.0     58.0  104.0    11066.637143\n",
              "12347             7.0     58.0   58.0      615.714286\n",
              "12348             4.0     52.0   63.0      449.310000\n",
              "12349             3.0     81.0   84.0     1120.056667\n",
              "12350             0.0      0.0   44.0        0.000000\n",
              "...               ...      ...    ...             ...\n",
              "18283            18.0     94.0   94.0      142.666667\n",
              "18284             0.0      0.0   62.0        0.000000\n",
              "18285             0.0      0.0   94.0        0.000000\n",
              "18286             1.0     35.0  103.0      833.480000\n",
              "18287             5.0     76.0   82.0      622.276000\n",
              "\n",
              "[5878 rows x 4 columns]"
            ],
            "text/html": [
              "\n",
              "  <div id=\"df-d6024f78-aaf7-4a23-951e-a7366015076c\">\n",
              "    <div class=\"colab-df-container\">\n",
              "      <div>\n",
              "<style scoped>\n",
              "    .dataframe tbody tr th:only-of-type {\n",
              "        vertical-align: middle;\n",
              "    }\n",
              "\n",
              "    .dataframe tbody tr th {\n",
              "        vertical-align: top;\n",
              "    }\n",
              "\n",
              "    .dataframe thead th {\n",
              "        text-align: right;\n",
              "    }\n",
              "</style>\n",
              "<table border=\"1\" class=\"dataframe\">\n",
              "  <thead>\n",
              "    <tr style=\"text-align: right;\">\n",
              "      <th></th>\n",
              "      <th>frequency</th>\n",
              "      <th>recency</th>\n",
              "      <th>T</th>\n",
              "      <th>monetary_value</th>\n",
              "    </tr>\n",
              "    <tr>\n",
              "      <th>CustomerID</th>\n",
              "      <th></th>\n",
              "      <th></th>\n",
              "      <th></th>\n",
              "      <th></th>\n",
              "    </tr>\n",
              "  </thead>\n",
              "  <tbody>\n",
              "    <tr>\n",
              "      <th>12346</th>\n",
              "      <td>7.0</td>\n",
              "      <td>58.0</td>\n",
              "      <td>104.0</td>\n",
              "      <td>11066.637143</td>\n",
              "    </tr>\n",
              "    <tr>\n",
              "      <th>12347</th>\n",
              "      <td>7.0</td>\n",
              "      <td>58.0</td>\n",
              "      <td>58.0</td>\n",
              "      <td>615.714286</td>\n",
              "    </tr>\n",
              "    <tr>\n",
              "      <th>12348</th>\n",
              "      <td>4.0</td>\n",
              "      <td>52.0</td>\n",
              "      <td>63.0</td>\n",
              "      <td>449.310000</td>\n",
              "    </tr>\n",
              "    <tr>\n",
              "      <th>12349</th>\n",
              "      <td>3.0</td>\n",
              "      <td>81.0</td>\n",
              "      <td>84.0</td>\n",
              "      <td>1120.056667</td>\n",
              "    </tr>\n",
              "    <tr>\n",
              "      <th>12350</th>\n",
              "      <td>0.0</td>\n",
              "      <td>0.0</td>\n",
              "      <td>44.0</td>\n",
              "      <td>0.000000</td>\n",
              "    </tr>\n",
              "    <tr>\n",
              "      <th>...</th>\n",
              "      <td>...</td>\n",
              "      <td>...</td>\n",
              "      <td>...</td>\n",
              "      <td>...</td>\n",
              "    </tr>\n",
              "    <tr>\n",
              "      <th>18283</th>\n",
              "      <td>18.0</td>\n",
              "      <td>94.0</td>\n",
              "      <td>94.0</td>\n",
              "      <td>142.666667</td>\n",
              "    </tr>\n",
              "    <tr>\n",
              "      <th>18284</th>\n",
              "      <td>0.0</td>\n",
              "      <td>0.0</td>\n",
              "      <td>62.0</td>\n",
              "      <td>0.000000</td>\n",
              "    </tr>\n",
              "    <tr>\n",
              "      <th>18285</th>\n",
              "      <td>0.0</td>\n",
              "      <td>0.0</td>\n",
              "      <td>94.0</td>\n",
              "      <td>0.000000</td>\n",
              "    </tr>\n",
              "    <tr>\n",
              "      <th>18286</th>\n",
              "      <td>1.0</td>\n",
              "      <td>35.0</td>\n",
              "      <td>103.0</td>\n",
              "      <td>833.480000</td>\n",
              "    </tr>\n",
              "    <tr>\n",
              "      <th>18287</th>\n",
              "      <td>5.0</td>\n",
              "      <td>76.0</td>\n",
              "      <td>82.0</td>\n",
              "      <td>622.276000</td>\n",
              "    </tr>\n",
              "  </tbody>\n",
              "</table>\n",
              "<p>5878 rows × 4 columns</p>\n",
              "</div>\n",
              "      <button class=\"colab-df-convert\" onclick=\"convertToInteractive('df-d6024f78-aaf7-4a23-951e-a7366015076c')\"\n",
              "              title=\"Convert this dataframe to an interactive table.\"\n",
              "              style=\"display:none;\">\n",
              "        \n",
              "  <svg xmlns=\"http://www.w3.org/2000/svg\" height=\"24px\"viewBox=\"0 0 24 24\"\n",
              "       width=\"24px\">\n",
              "    <path d=\"M0 0h24v24H0V0z\" fill=\"none\"/>\n",
              "    <path d=\"M18.56 5.44l.94 2.06.94-2.06 2.06-.94-2.06-.94-.94-2.06-.94 2.06-2.06.94zm-11 1L8.5 8.5l.94-2.06 2.06-.94-2.06-.94L8.5 2.5l-.94 2.06-2.06.94zm10 10l.94 2.06.94-2.06 2.06-.94-2.06-.94-.94-2.06-.94 2.06-2.06.94z\"/><path d=\"M17.41 7.96l-1.37-1.37c-.4-.4-.92-.59-1.43-.59-.52 0-1.04.2-1.43.59L10.3 9.45l-7.72 7.72c-.78.78-.78 2.05 0 2.83L4 21.41c.39.39.9.59 1.41.59.51 0 1.02-.2 1.41-.59l7.78-7.78 2.81-2.81c.8-.78.8-2.07 0-2.86zM5.41 20L4 18.59l7.72-7.72 1.47 1.35L5.41 20z\"/>\n",
              "  </svg>\n",
              "      </button>\n",
              "      \n",
              "  <style>\n",
              "    .colab-df-container {\n",
              "      display:flex;\n",
              "      flex-wrap:wrap;\n",
              "      gap: 12px;\n",
              "    }\n",
              "\n",
              "    .colab-df-convert {\n",
              "      background-color: #E8F0FE;\n",
              "      border: none;\n",
              "      border-radius: 50%;\n",
              "      cursor: pointer;\n",
              "      display: none;\n",
              "      fill: #1967D2;\n",
              "      height: 32px;\n",
              "      padding: 0 0 0 0;\n",
              "      width: 32px;\n",
              "    }\n",
              "\n",
              "    .colab-df-convert:hover {\n",
              "      background-color: #E2EBFA;\n",
              "      box-shadow: 0px 1px 2px rgba(60, 64, 67, 0.3), 0px 1px 3px 1px rgba(60, 64, 67, 0.15);\n",
              "      fill: #174EA6;\n",
              "    }\n",
              "\n",
              "    [theme=dark] .colab-df-convert {\n",
              "      background-color: #3B4455;\n",
              "      fill: #D2E3FC;\n",
              "    }\n",
              "\n",
              "    [theme=dark] .colab-df-convert:hover {\n",
              "      background-color: #434B5C;\n",
              "      box-shadow: 0px 1px 3px 1px rgba(0, 0, 0, 0.15);\n",
              "      filter: drop-shadow(0px 1px 2px rgba(0, 0, 0, 0.3));\n",
              "      fill: #FFFFFF;\n",
              "    }\n",
              "  </style>\n",
              "\n",
              "      <script>\n",
              "        const buttonEl =\n",
              "          document.querySelector('#df-d6024f78-aaf7-4a23-951e-a7366015076c button.colab-df-convert');\n",
              "        buttonEl.style.display =\n",
              "          google.colab.kernel.accessAllowed ? 'block' : 'none';\n",
              "\n",
              "        async function convertToInteractive(key) {\n",
              "          const element = document.querySelector('#df-d6024f78-aaf7-4a23-951e-a7366015076c');\n",
              "          const dataTable =\n",
              "            await google.colab.kernel.invokeFunction('convertToInteractive',\n",
              "                                                     [key], {});\n",
              "          if (!dataTable) return;\n",
              "\n",
              "          const docLinkHtml = 'Like what you see? Visit the ' +\n",
              "            '<a target=\"_blank\" href=https://colab.research.google.com/notebooks/data_table.ipynb>data table notebook</a>'\n",
              "            + ' to learn more about interactive tables.';\n",
              "          element.innerHTML = '';\n",
              "          dataTable['output_type'] = 'display_data';\n",
              "          await google.colab.output.renderOutput(dataTable, element);\n",
              "          const docLink = document.createElement('div');\n",
              "          docLink.innerHTML = docLinkHtml;\n",
              "          element.appendChild(docLink);\n",
              "        }\n",
              "      </script>\n",
              "    </div>\n",
              "  </div>\n",
              "  "
            ]
          },
          "metadata": {},
          "execution_count": 17
        }
      ],
      "source": [
        "from lifetimes.utils import summary_data_from_transaction_data\n",
        "\n",
        "rfm = summary_data_from_transaction_data(data, customer_id_col='CustomerID', datetime_col='InvoiceDate', \n",
        "                                    monetary_value_col ='Total Amount', observation_period_end='2021-12-09', \n",
        "                                    datetime_format='%Y-%m-%d', freq='W')\n",
        "rfm"
      ]
    },
    {
      "cell_type": "markdown",
      "id": "b5c506af",
      "metadata": {
        "papermill": {
          "duration": 0.075968,
          "end_time": "2021-11-09T00:08:20.905369",
          "exception": false,
          "start_time": "2021-11-09T00:08:20.829401",
          "status": "completed"
        },
        "tags": [],
        "id": "b5c506af"
      },
      "source": [
        "## Visualizing our customers"
      ]
    },
    {
      "cell_type": "code",
      "execution_count": 18,
      "id": "fca963f3",
      "metadata": {
        "execution": {
          "iopub.execute_input": "2021-11-09T00:08:21.060969Z",
          "iopub.status.busy": "2021-11-09T00:08:21.059871Z",
          "iopub.status.idle": "2021-11-09T00:08:23.038926Z",
          "shell.execute_reply": "2021-11-09T00:08:23.039471Z",
          "shell.execute_reply.started": "2021-11-09T00:05:12.060587Z"
        },
        "papermill": {
          "duration": 2.058499,
          "end_time": "2021-11-09T00:08:23.039661",
          "exception": false,
          "start_time": "2021-11-09T00:08:20.981162",
          "status": "completed"
        },
        "tags": [],
        "colab": {
          "base_uri": "https://localhost:8080/",
          "height": 542
        },
        "id": "fca963f3",
        "outputId": "438aa0a8-66f4-4201-aea9-c42a4c7794e4"
      },
      "outputs": [
        {
          "output_type": "display_data",
          "data": {
            "text/html": [
              "<html>\n",
              "<head><meta charset=\"utf-8\" /></head>\n",
              "<body>\n",
              "    <div>            <script src=\"https://cdnjs.cloudflare.com/ajax/libs/mathjax/2.7.5/MathJax.js?config=TeX-AMS-MML_SVG\"></script><script type=\"text/javascript\">if (window.MathJax) {MathJax.Hub.Config({SVG: {font: \"STIX-Web\"}});}</script>                <script type=\"text/javascript\">window.PlotlyConfig = {MathJaxConfig: 'local'};</script>\n",
              "        <script src=\"https://cdn.plot.ly/plotly-2.8.3.min.js\"></script>                <div id=\"8bd023bf-274f-43a5-800a-e886a732cd7f\" class=\"plotly-graph-div\" style=\"height:525px; width:100%;\"></div>            <script type=\"text/javascript\">                                    window.PLOTLYENV=window.PLOTLYENV || {};                                    if (document.getElementById(\"8bd023bf-274f-43a5-800a-e886a732cd7f\")) {                    Plotly.newPlot(                        \"8bd023bf-274f-43a5-800a-e886a732cd7f\",                        [{\"alignmentgroup\":\"True\",\"bingroup\":\"x\",\"hovertemplate\":\"Frequency=%{x}<br>count=%{y}<extra></extra>\",\"legendgroup\":\"\",\"marker\":{\"color\":\"indianred\",\"opacity\":0.8,\"pattern\":{\"shape\":\"\"}},\"name\":\"\",\"offsetgroup\":\"\",\"orientation\":\"v\",\"showlegend\":false,\"x\":[7.0,7.0,4.0,3.0,0.0,0.0,8.0,1.0,0.0,1.0,5.0,1.0,4.0,9.0,7.0,3.0,9.0,1.0,3.0,0.0,0.0,0.0,0.0,2.0,4.0,3.0,2.0,2.0,2.0,1.0,1.0,3.0,1.0,3.0,7.0,3.0,4.0,1.0,0.0,1.0,0.0,7.0,2.0,0.0,4.0,0.0,4.0,1.0,13.0,0.0,1.0,0.0,6.0,0.0,0.0,5.0,1.0,0.0,0.0,4.0,4.0,6.0,5.0,1.0,0.0,5.0,3.0,3.0,19.0,0.0,19.0,3.0,1.0,0.0,5.0,13.0,9.0,2.0,1.0,1.0,2.0,6.0,5.0,0.0,20.0,2.0,8.0,2.0,5.0,0.0,30.0,1.0,1.0,1.0,0.0,0.0,0.0,4.0,1.0,0.0,0.0,0.0,5.0,4.0,6.0,0.0,0.0,3.0,8.0,2.0,4.0,3.0,0.0,0.0,1.0,1.0,3.0,6.0,1.0,0.0,0.0,4.0,1.0,0.0,44.0,18.0,3.0,25.0,1.0,15.0,8.0,0.0,0.0,6.0,11.0,4.0,17.0,9.0,0.0,0.0,0.0,2.0,0.0,19.0,0.0,2.0,1.0,8.0,0.0,0.0,2.0,1.0,0.0,14.0,0.0,4.0,0.0,3.0,0.0,0.0,3.0,0.0,0.0,7.0,0.0,0.0,0.0,1.0,0.0,3.0,3.0,4.0,1.0,4.0,0.0,1.0,22.0,15.0,2.0,2.0,4.0,5.0,0.0,8.0,1.0,0.0,1.0,0.0,1.0,1.0,0.0,1.0,5.0,29.0,2.0,1.0,0.0,0.0,1.0,1.0,2.0,0.0,2.0,0.0,0.0,1.0,11.0,0.0,0.0,1.0,7.0,0.0,1.0,2.0,0.0,8.0,0.0,0.0,0.0,0.0,12.0,0.0,19.0,0.0,1.0,1.0,4.0,0.0,1.0,7.0,4.0,3.0,0.0,1.0,0.0,3.0,26.0,8.0,1.0,3.0,0.0,2.0,4.0,0.0,2.0,2.0,2.0,13.0,0.0,1.0,3.0,9.0,12.0,20.0,5.0,0.0,0.0,1.0,3.0,0.0,0.0,0.0,8.0,3.0,0.0,0.0,7.0,0.0,6.0,2.0,0.0,0.0,9.0,2.0,30.0,0.0,6.0,1.0,3.0,8.0,6.0,2.0,1.0,1.0,4.0,1.0,6.0,1.0,3.0,0.0,9.0,1.0,2.0,1.0,0.0,2.0,10.0,3.0,7.0,1.0,30.0,3.0,6.0,0.0,3.0,1.0,2.0,3.0,0.0,7.0,2.0,0.0,0.0,0.0,0.0,18.0,1.0,10.0,2.0,0.0,0.0,9.0,2.0,6.0,0.0,1.0,2.0,3.0,1.0,8.0,1.0,15.0,3.0,3.0,39.0,42.0,16.0,5.0,4.0,0.0,0.0,0.0,1.0,0.0,6.0,0.0,6.0,2.0,6.0,1.0,2.0,0.0,0.0,3.0,4.0,0.0,3.0,6.0,10.0,0.0,17.0,27.0,2.0,1.0,20.0,0.0,11.0,0.0,1.0,2.0,0.0,1.0,22.0,7.0,3.0,2.0,6.0,3.0,10.0,8.0,4.0,0.0,0.0,14.0,0.0,3.0,2.0,1.0,0.0,0.0,0.0,3.0,0.0,0.0,0.0,0.0,7.0,2.0,0.0,25.0,89.0,6.0,0.0,0.0,0.0,5.0,2.0,7.0,0.0,7.0,6.0,7.0,0.0,1.0,1.0,1.0,0.0,5.0,8.0,0.0,0.0,0.0,1.0,0.0,0.0,0.0,0.0,6.0,0.0,0.0,8.0,13.0,0.0,1.0,10.0,3.0,2.0,2.0,0.0,3.0,3.0,2.0,1.0,3.0,1.0,2.0,1.0,0.0,0.0,1.0,3.0,0.0,1.0,0.0,5.0,0.0,1.0,3.0,3.0,0.0,4.0,2.0,1.0,3.0,0.0,2.0,0.0,1.0,1.0,2.0,0.0,0.0,10.0,1.0,1.0,14.0,0.0,1.0,11.0,2.0,5.0,2.0,4.0,1.0,1.0,0.0,0.0,30.0,13.0,1.0,9.0,25.0,6.0,35.0,3.0,22.0,3.0,2.0,0.0,1.0,0.0,5.0,0.0,1.0,0.0,6.0,6.0,2.0,5.0,5.0,0.0,0.0,0.0,0.0,1.0,5.0,1.0,3.0,2.0,12.0,7.0,0.0,2.0,2.0,11.0,2.0,1.0,4.0,3.0,19.0,1.0,2.0,1.0,0.0,1.0,1.0,0.0,1.0,1.0,0.0,1.0,3.0,1.0,9.0,0.0,0.0,0.0,1.0,3.0,1.0,0.0,0.0,19.0,0.0,0.0,1.0,1.0,1.0,1.0,4.0,6.0,9.0,0.0,4.0,12.0,0.0,3.0,6.0,4.0,0.0,5.0,2.0,39.0,0.0,2.0,9.0,2.0,3.0,0.0,9.0,0.0,1.0,36.0,6.0,6.0,0.0,12.0,2.0,8.0,0.0,14.0,1.0,0.0,2.0,1.0,1.0,1.0,0.0,4.0,8.0,15.0,2.0,14.0,2.0,1.0,0.0,10.0,3.0,10.0,1.0,0.0,3.0,0.0,1.0,9.0,0.0,0.0,0.0,2.0,0.0,0.0,4.0,65.0,3.0,0.0,1.0,3.0,6.0,2.0,4.0,0.0,20.0,1.0,7.0,0.0,0.0,1.0,6.0,4.0,0.0,26.0,6.0,2.0,0.0,6.0,2.0,0.0,0.0,7.0,2.0,2.0,3.0,32.0,2.0,2.0,33.0,3.0,0.0,0.0,2.0,0.0,1.0,0.0,9.0,23.0,9.0,8.0,1.0,0.0,21.0,5.0,1.0,15.0,0.0,2.0,1.0,0.0,8.0,16.0,1.0,4.0,1.0,4.0,4.0,1.0,2.0,2.0,0.0,10.0,2.0,3.0,1.0,3.0,2.0,0.0,10.0,2.0,2.0,18.0,8.0,3.0,30.0,1.0,5.0,0.0,2.0,0.0,1.0,2.0,8.0,0.0,0.0,0.0,0.0,5.0,4.0,1.0,2.0,1.0,29.0,3.0,0.0,0.0,1.0,3.0,0.0,0.0,9.0,52.0,5.0,3.0,22.0,15.0,2.0,0.0,4.0,0.0,0.0,0.0,81.0,20.0,1.0,11.0,34.0,11.0,0.0,0.0,21.0,22.0,0.0,3.0,30.0,2.0,8.0,0.0,1.0,8.0,1.0,2.0,10.0,0.0,0.0,33.0,0.0,8.0,0.0,17.0,7.0,0.0,0.0,0.0,1.0,1.0,3.0,0.0,11.0,0.0,0.0,1.0,0.0,5.0,0.0,2.0,5.0,1.0,8.0,14.0,6.0,6.0,4.0,14.0,0.0,0.0,1.0,6.0,0.0,3.0,17.0,3.0,1.0,2.0,6.0,0.0,2.0,5.0,2.0,7.0,4.0,3.0,0.0,1.0,15.0,0.0,1.0,2.0,1.0,4.0,4.0,2.0,0.0,2.0,0.0,9.0,10.0,1.0,0.0,1.0,20.0,0.0,0.0,0.0,0.0,14.0,8.0,0.0,2.0,1.0,0.0,1.0,2.0,0.0,4.0,0.0,1.0,0.0,5.0,0.0,7.0,49.0,2.0,3.0,6.0,9.0,0.0,0.0,10.0,3.0,7.0,10.0,0.0,8.0,1.0,9.0,6.0,0.0,0.0,3.0,0.0,0.0,4.0,1.0,0.0,5.0,1.0,14.0,1.0,0.0,0.0,0.0,27.0,6.0,3.0,1.0,0.0,1.0,0.0,5.0,4.0,6.0,0.0,5.0,2.0,0.0,1.0,9.0,3.0,1.0,7.0,1.0,0.0,1.0,3.0,0.0,2.0,0.0,4.0,5.0,0.0,1.0,2.0,31.0,0.0,4.0,18.0,26.0,9.0,20.0,0.0,0.0,1.0,0.0,0.0,1.0,4.0,6.0,3.0,0.0,5.0,0.0,3.0,3.0,0.0,5.0,0.0,2.0,4.0,0.0,0.0,10.0,4.0,5.0,2.0,3.0,5.0,5.0,0.0,2.0,2.0,3.0,1.0,0.0,3.0,15.0,0.0,2.0,3.0,5.0,4.0,1.0,0.0,10.0,2.0,0.0,8.0,14.0,2.0,39.0,4.0,1.0,0.0,4.0,10.0,0.0,0.0,17.0,0.0,5.0,5.0,0.0,0.0,2.0,4.0,0.0,0.0,3.0,0.0,8.0,0.0,0.0,1.0,0.0,4.0,0.0,0.0,0.0,1.0,0.0,0.0,0.0,0.0,0.0,3.0,0.0,1.0,3.0,1.0,6.0,2.0,0.0,1.0,0.0,0.0,3.0,0.0,0.0,1.0,0.0,5.0,1.0,1.0,2.0,1.0,2.0,0.0,11.0,4.0,0.0,9.0,0.0,1.0,0.0,1.0,2.0,0.0,0.0,0.0,3.0,18.0,2.0,1.0,9.0,1.0,2.0,0.0,3.0,2.0,1.0,5.0,1.0,2.0,66.0,8.0,0.0,0.0,2.0,5.0,2.0,2.0,4.0,23.0,0.0,1.0,5.0,0.0,0.0,0.0,4.0,20.0,5.0,1.0,3.0,1.0,6.0,1.0,2.0,4.0,8.0,0.0,6.0,0.0,2.0,2.0,1.0,2.0,4.0,1.0,0.0,10.0,1.0,10.0,0.0,12.0,10.0,2.0,2.0,0.0,5.0,5.0,1.0,15.0,1.0,1.0,5.0,4.0,4.0,1.0,3.0,1.0,64.0,0.0,1.0,3.0,1.0,5.0,2.0,3.0,4.0,9.0,3.0,3.0,1.0,8.0,1.0,0.0,2.0,7.0,2.0,4.0,17.0,3.0,0.0,26.0,2.0,1.0,0.0,9.0,1.0,5.0,0.0,4.0,3.0,2.0,4.0,4.0,0.0,3.0,4.0,3.0,1.0,7.0,9.0,0.0,3.0,2.0,3.0,5.0,3.0,2.0,0.0,1.0,10.0,1.0,0.0,4.0,4.0,1.0,0.0,9.0,1.0,0.0,4.0,0.0,1.0,23.0,0.0,5.0,1.0,11.0,6.0,1.0,1.0,16.0,1.0,4.0,1.0,4.0,0.0,2.0,7.0,0.0,1.0,12.0,0.0,5.0,8.0,1.0,11.0,3.0,1.0,0.0,9.0,6.0,1.0,24.0,2.0,4.0,2.0,0.0,3.0,0.0,24.0,0.0,4.0,0.0,4.0,27.0,9.0,0.0,4.0,0.0,1.0,1.0,1.0,2.0,2.0,0.0,2.0,7.0,5.0,16.0,6.0,3.0,11.0,1.0,2.0,1.0,0.0,3.0,19.0,1.0,3.0,3.0,0.0,0.0,1.0,2.0,1.0,0.0,0.0,13.0,9.0,0.0,2.0,5.0,7.0,1.0,7.0,0.0,1.0,0.0,0.0,0.0,9.0,0.0,0.0,1.0,6.0,0.0,18.0,6.0,5.0,7.0,14.0,3.0,4.0,2.0,0.0,1.0,0.0,2.0,1.0,8.0,3.0,0.0,0.0,6.0,5.0,5.0,8.0,2.0,4.0,0.0,9.0,4.0,3.0,1.0,6.0,10.0,0.0,0.0,6.0,3.0,2.0,3.0,0.0,34.0,2.0,0.0,0.0,2.0,1.0,0.0,1.0,1.0,1.0,0.0,2.0,9.0,3.0,0.0,0.0,3.0,4.0,2.0,0.0,0.0,1.0,0.0,0.0,4.0,8.0,62.0,14.0,2.0,0.0,1.0,1.0,8.0,0.0,0.0,1.0,7.0,6.0,1.0,3.0,0.0,11.0,2.0,7.0,1.0,2.0,0.0,15.0,0.0,7.0,1.0,10.0,3.0,1.0,5.0,4.0,0.0,6.0,1.0,5.0,15.0,2.0,1.0,1.0,0.0,1.0,2.0,11.0,5.0,0.0,0.0,1.0,4.0,2.0,9.0,6.0,1.0,1.0,0.0,1.0,7.0,10.0,0.0,6.0,3.0,2.0,6.0,19.0,0.0,14.0,1.0,4.0,4.0,4.0,2.0,4.0,0.0,0.0,44.0,0.0,17.0,3.0,6.0,6.0,1.0,0.0,0.0,0.0,42.0,3.0,0.0,2.0,2.0,12.0,3.0,13.0,1.0,5.0,5.0,0.0,0.0,0.0,1.0,2.0,0.0,0.0,3.0,0.0,2.0,79.0,8.0,2.0,0.0,17.0,2.0,6.0,1.0,0.0,2.0,4.0,2.0,1.0,1.0,2.0,7.0,2.0,6.0,1.0,1.0,0.0,5.0,2.0,5.0,1.0,6.0,11.0,1.0,0.0,2.0,0.0,0.0,0.0,17.0,1.0,1.0,1.0,6.0,1.0,1.0,5.0,0.0,0.0,0.0,15.0,0.0,0.0,0.0,3.0,0.0,7.0,4.0,0.0,6.0,0.0,0.0,34.0,3.0,10.0,4.0,0.0,1.0,3.0,1.0,8.0,3.0,0.0,3.0,0.0,2.0,1.0,9.0,11.0,15.0,2.0,7.0,5.0,12.0,0.0,2.0,3.0,0.0,13.0,29.0,4.0,10.0,6.0,1.0,0.0,0.0,4.0,5.0,10.0,2.0,5.0,0.0,1.0,5.0,0.0,2.0,1.0,1.0,5.0,11.0,4.0,0.0,1.0,0.0,0.0,0.0,3.0,1.0,16.0,0.0,0.0,1.0,0.0,3.0,1.0,1.0,3.0,3.0,3.0,2.0,0.0,5.0,2.0,0.0,1.0,3.0,8.0,1.0,7.0,0.0,1.0,0.0,2.0,2.0,1.0,0.0,6.0,3.0,13.0,0.0,0.0,0.0,1.0,5.0,0.0,3.0,5.0,3.0,2.0,10.0,11.0,1.0,2.0,4.0,2.0,4.0,5.0,1.0,0.0,2.0,15.0,1.0,2.0,0.0,1.0,0.0,31.0,1.0,13.0,1.0,0.0,1.0,10.0,3.0,0.0,1.0,5.0,4.0,0.0,8.0,17.0,10.0,20.0,0.0,1.0,7.0,4.0,0.0,3.0,2.0,17.0,5.0,13.0,1.0,1.0,2.0,28.0,4.0,7.0,1.0,0.0,8.0,4.0,6.0,0.0,0.0,2.0,0.0,1.0,0.0,4.0,2.0,0.0,10.0,0.0,0.0,2.0,3.0,6.0,1.0,1.0,2.0,6.0,1.0,0.0,0.0,1.0,14.0,38.0,15.0,0.0,1.0,8.0,0.0,5.0,4.0,1.0,30.0,0.0,0.0,1.0,8.0,12.0,0.0,10.0,1.0,9.0,1.0,33.0,1.0,3.0,0.0,2.0,21.0,16.0,1.0,0.0,27.0,2.0,19.0,6.0,13.0,2.0,0.0,1.0,3.0,1.0,0.0,6.0,0.0,0.0,0.0,5.0,0.0,5.0,8.0,1.0,4.0,7.0,1.0,8.0,0.0,24.0,0.0,2.0,12.0,0.0,0.0,1.0,21.0,0.0,0.0,0.0,11.0,1.0,0.0,18.0,0.0,12.0,4.0,4.0,4.0,0.0,10.0,3.0,0.0,30.0,3.0,9.0,14.0,6.0,1.0,4.0,0.0,0.0,1.0,3.0,2.0,0.0,0.0,2.0,1.0,5.0,2.0,7.0,3.0,0.0,10.0,2.0,8.0,20.0,4.0,0.0,1.0,3.0,1.0,3.0,1.0,0.0,0.0,6.0,8.0,6.0,1.0,0.0,1.0,1.0,5.0,0.0,5.0,0.0,75.0,4.0,0.0,17.0,6.0,6.0,1.0,4.0,1.0,0.0,1.0,7.0,1.0,1.0,1.0,1.0,2.0,4.0,0.0,7.0,3.0,8.0,6.0,1.0,30.0,1.0,3.0,1.0,0.0,0.0,4.0,0.0,5.0,14.0,0.0,14.0,0.0,2.0,23.0,4.0,0.0,0.0,8.0,3.0,0.0,9.0,2.0,0.0,3.0,7.0,2.0,0.0,1.0,14.0,14.0,14.0,1.0,0.0,4.0,8.0,4.0,21.0,0.0,2.0,2.0,13.0,0.0,2.0,8.0,3.0,4.0,9.0,2.0,5.0,1.0,3.0,4.0,6.0,3.0,6.0,4.0,1.0,2.0,18.0,2.0,1.0,1.0,16.0,0.0,1.0,2.0,4.0,2.0,6.0,1.0,3.0,0.0,1.0,0.0,0.0,3.0,8.0,21.0,0.0,1.0,1.0,7.0,0.0,5.0,3.0,0.0,1.0,0.0,0.0,0.0,1.0,3.0,3.0,0.0,4.0,5.0,7.0,0.0,1.0,0.0,0.0,20.0,3.0,2.0,7.0,5.0,1.0,0.0,5.0,7.0,13.0,10.0,7.0,0.0,4.0,1.0,3.0,36.0,23.0,0.0,3.0,2.0,1.0,2.0,2.0,5.0,8.0,0.0,10.0,0.0,1.0,10.0,1.0,7.0,3.0,0.0,0.0,0.0,4.0,6.0,2.0,1.0,1.0,0.0,2.0,5.0,0.0,13.0,0.0,1.0,4.0,0.0,11.0,1.0,3.0,2.0,1.0,0.0,10.0,5.0,3.0,19.0,0.0,3.0,0.0,0.0,0.0,2.0,0.0,2.0,2.0,1.0,2.0,1.0,0.0,1.0,2.0,2.0,0.0,0.0,1.0,6.0,1.0,0.0,12.0,0.0,1.0,4.0,0.0,1.0,0.0,0.0,2.0,0.0,1.0,0.0,3.0,0.0,1.0,1.0,2.0,0.0,2.0,0.0,2.0,15.0,4.0,9.0,0.0,0.0,0.0,0.0,18.0,5.0,16.0,1.0,7.0,2.0,21.0,0.0,5.0,11.0,0.0,0.0,5.0,10.0,7.0,7.0,0.0,2.0,3.0,5.0,22.0,1.0,0.0,2.0,6.0,3.0,5.0,18.0,2.0,0.0,2.0,12.0,3.0,4.0,0.0,1.0,3.0,5.0,0.0,4.0,0.0,1.0,4.0,0.0,3.0,11.0,10.0,5.0,4.0,0.0,0.0,4.0,4.0,1.0,6.0,6.0,11.0,3.0,0.0,4.0,3.0,7.0,0.0,0.0,1.0,7.0,11.0,9.0,3.0,1.0,9.0,12.0,10.0,0.0,3.0,2.0,1.0,8.0,1.0,1.0,3.0,0.0,6.0,3.0,3.0,3.0,4.0,9.0,1.0,3.0,0.0,1.0,5.0,0.0,3.0,1.0,1.0,5.0,9.0,2.0,2.0,6.0,1.0,9.0,6.0,2.0,1.0,8.0,4.0,3.0,15.0,6.0,9.0,3.0,0.0,1.0,4.0,6.0,5.0,8.0,9.0,0.0,1.0,0.0,1.0,1.0,0.0,7.0,0.0,7.0,16.0,0.0,90.0,0.0,2.0,15.0,0.0,10.0,9.0,25.0,8.0,0.0,1.0,4.0,1.0,10.0,12.0,0.0,29.0,2.0,0.0,10.0,6.0,5.0,3.0,3.0,4.0,2.0,6.0,3.0,5.0,2.0,0.0,2.0,0.0,34.0,2.0,22.0,1.0,1.0,4.0,3.0,1.0,0.0,3.0,1.0,0.0,9.0,9.0,0.0,0.0,0.0,6.0,0.0,0.0,0.0,1.0,0.0,7.0,6.0,3.0,0.0,8.0,0.0,0.0,16.0,1.0,2.0,6.0,1.0,6.0,0.0,4.0,1.0,1.0,1.0,0.0,0.0,0.0,0.0,2.0,101.0,11.0,9.0,9.0,1.0,1.0,0.0,0.0,0.0,4.0,4.0,1.0,4.0,1.0,1.0,8.0,0.0,9.0,4.0,9.0,10.0,0.0,4.0,1.0,0.0,5.0,0.0,0.0,3.0,0.0,1.0,0.0,0.0,6.0,9.0,0.0,0.0,4.0,5.0,2.0,60.0,1.0,11.0,7.0,0.0,7.0,0.0,10.0,0.0,6.0,4.0,5.0,1.0,8.0,1.0,0.0,6.0,0.0,1.0,5.0,0.0,43.0,0.0,4.0,1.0,1.0,3.0,6.0,0.0,1.0,10.0,0.0,0.0,2.0,47.0,4.0,5.0,0.0,5.0,4.0,1.0,2.0,25.0,0.0,3.0,3.0,11.0,5.0,0.0,1.0,7.0,0.0,3.0,3.0,4.0,10.0,27.0,0.0,8.0,0.0,0.0,1.0,4.0,22.0,12.0,10.0,3.0,20.0,3.0,7.0,2.0,0.0,0.0,4.0,2.0,0.0,2.0,9.0,0.0,2.0,0.0,1.0,0.0,1.0,6.0,2.0,17.0,12.0,3.0,35.0,0.0,3.0,8.0,24.0,10.0,6.0,0.0,0.0,10.0,9.0,2.0,0.0,8.0,0.0,0.0,1.0,0.0,1.0,5.0,21.0,2.0,0.0,6.0,2.0,0.0,2.0,1.0,0.0,2.0,10.0,0.0,1.0,16.0,7.0,1.0,0.0,0.0,0.0,2.0,11.0,0.0,1.0,1.0,1.0,0.0,0.0,2.0,1.0,0.0,0.0,2.0,0.0,9.0,0.0,0.0,1.0,9.0,0.0,25.0,0.0,6.0,1.0,15.0,0.0,0.0,2.0,0.0,6.0,1.0,1.0,5.0,0.0,12.0,0.0,0.0,2.0,0.0,1.0,0.0,6.0,5.0,3.0,8.0,4.0,0.0,1.0,9.0,23.0,1.0,12.0,5.0,0.0,1.0,0.0,0.0,6.0,1.0,1.0,8.0,1.0,2.0,1.0,11.0,3.0,0.0,7.0,0.0,0.0,2.0,0.0,22.0,2.0,2.0,11.0,4.0,10.0,4.0,1.0,4.0,0.0,3.0,0.0,8.0,1.0,0.0,2.0,16.0,13.0,9.0,5.0,4.0,8.0,2.0,1.0,0.0,2.0,1.0,1.0,20.0,0.0,2.0,0.0,8.0,4.0,0.0,2.0,0.0,0.0,0.0,0.0,2.0,3.0,0.0,2.0,2.0,22.0,7.0,7.0,13.0,0.0,0.0,11.0,2.0,4.0,3.0,7.0,0.0,10.0,1.0,2.0,2.0,94.0,4.0,7.0,9.0,7.0,0.0,7.0,0.0,1.0,1.0,1.0,0.0,2.0,1.0,0.0,0.0,1.0,4.0,4.0,1.0,0.0,3.0,1.0,7.0,1.0,0.0,1.0,0.0,3.0,0.0,11.0,0.0,0.0,5.0,5.0,3.0,0.0,0.0,21.0,2.0,1.0,0.0,0.0,1.0,5.0,3.0,1.0,18.0,3.0,10.0,0.0,0.0,4.0,3.0,1.0,0.0,9.0,1.0,1.0,2.0,0.0,1.0,4.0,0.0,8.0,0.0,0.0,1.0,0.0,0.0,4.0,1.0,1.0,6.0,6.0,0.0,1.0,0.0,0.0,0.0,4.0,1.0,0.0,3.0,3.0,0.0,0.0,0.0,8.0,4.0,0.0,52.0,1.0,0.0,1.0,2.0,0.0,1.0,2.0,9.0,1.0,9.0,3.0,0.0,2.0,0.0,0.0,10.0,3.0,17.0,10.0,1.0,4.0,8.0,4.0,0.0,7.0,11.0,6.0,9.0,12.0,0.0,2.0,0.0,8.0,69.0,0.0,1.0,1.0,5.0,27.0,1.0,24.0,0.0,3.0,0.0,3.0,8.0,0.0,2.0,1.0,2.0,0.0,4.0,12.0,15.0,0.0,59.0,7.0,0.0,3.0,4.0,0.0,3.0,3.0,0.0,2.0,3.0,0.0,7.0,2.0,0.0,2.0,1.0,34.0,7.0,1.0,11.0,0.0,0.0,1.0,0.0,1.0,0.0,1.0,5.0,0.0,1.0,2.0,19.0,1.0,7.0,0.0,1.0,0.0,0.0,6.0,4.0,1.0,1.0,1.0,5.0,4.0,7.0,2.0,2.0,5.0,4.0,0.0,2.0,11.0,1.0,3.0,5.0,0.0,0.0,0.0,1.0,9.0,4.0,3.0,13.0,1.0,1.0,4.0,19.0,0.0,0.0,4.0,4.0,9.0,1.0,2.0,1.0,0.0,1.0,6.0,5.0,4.0,1.0,21.0,3.0,1.0,0.0,0.0,2.0,10.0,1.0,11.0,0.0,1.0,0.0,2.0,4.0,1.0,22.0,3.0,0.0,0.0,1.0,8.0,0.0,0.0,3.0,0.0,1.0,0.0,0.0,4.0,6.0,1.0,0.0,0.0,0.0,0.0,12.0,2.0,4.0,6.0,2.0,3.0,0.0,4.0,12.0,0.0,36.0,0.0,1.0,4.0,0.0,25.0,0.0,1.0,5.0,4.0,9.0,0.0,5.0,0.0,13.0,0.0,1.0,3.0,2.0,5.0,0.0,2.0,1.0,1.0,1.0,7.0,5.0,1.0,0.0,19.0,1.0,5.0,3.0,9.0,4.0,4.0,0.0,0.0,7.0,5.0,0.0,0.0,0.0,1.0,0.0,0.0,10.0,0.0,3.0,2.0,1.0,11.0,10.0,0.0,1.0,2.0,6.0,2.0,2.0,2.0,16.0,0.0,18.0,4.0,5.0,2.0,6.0,1.0,1.0,1.0,2.0,18.0,3.0,2.0,0.0,1.0,3.0,4.0,4.0,1.0,2.0,12.0,21.0,5.0,0.0,1.0,0.0,2.0,1.0,1.0,4.0,2.0,14.0,0.0,2.0,0.0,0.0,0.0,4.0,8.0,4.0,20.0,32.0,0.0,0.0,0.0,0.0,9.0,2.0,21.0,6.0,0.0,13.0,0.0,2.0,8.0,0.0,8.0,0.0,0.0,3.0,0.0,97.0,11.0,0.0,2.0,1.0,0.0,0.0,0.0,0.0,0.0,6.0,1.0,2.0,0.0,6.0,4.0,0.0,0.0,10.0,1.0,1.0,3.0,0.0,2.0,0.0,0.0,0.0,0.0,5.0,0.0,1.0,0.0,0.0,2.0,0.0,2.0,3.0,0.0,1.0,1.0,8.0,0.0,6.0,0.0,1.0,12.0,29.0,3.0,0.0,3.0,1.0,1.0,1.0,6.0,6.0,8.0,1.0,6.0,7.0,0.0,4.0,14.0,1.0,0.0,2.0,2.0,1.0,7.0,10.0,4.0,9.0,3.0,2.0,0.0,0.0,0.0,4.0,1.0,0.0,6.0,4.0,9.0,0.0,1.0,0.0,1.0,2.0,7.0,1.0,5.0,1.0,0.0,1.0,2.0,3.0,0.0,0.0,8.0,3.0,0.0,4.0,2.0,0.0,5.0,0.0,1.0,0.0,5.0,8.0,5.0,2.0,1.0,3.0,6.0,1.0,3.0,1.0,1.0,0.0,1.0,1.0,8.0,0.0,2.0,1.0,0.0,2.0,2.0,2.0,0.0,12.0,1.0,1.0,2.0,3.0,1.0,2.0,0.0,1.0,5.0,6.0,1.0,0.0,8.0,0.0,1.0,1.0,0.0,1.0,3.0,0.0,0.0,31.0,3.0,2.0,1.0,2.0,0.0,2.0,0.0,4.0,0.0,0.0,2.0,0.0,2.0,0.0,3.0,0.0,14.0,5.0,5.0,5.0,0.0,0.0,3.0,7.0,0.0,3.0,1.0,7.0,4.0,0.0,0.0,8.0,26.0,0.0,3.0,1.0,8.0,1.0,3.0,4.0,5.0,0.0,3.0,0.0,0.0,4.0,3.0,25.0,13.0,0.0,1.0,0.0,12.0,1.0,0.0,11.0,1.0,14.0,1.0,3.0,0.0,17.0,0.0,10.0,4.0,1.0,9.0,2.0,0.0,4.0,0.0,0.0,3.0,0.0,1.0,0.0,1.0,1.0,19.0,1.0,0.0,22.0,0.0,7.0,9.0,4.0,1.0,0.0,0.0,27.0,0.0,0.0,0.0,0.0,0.0,6.0,2.0,5.0,1.0,1.0,1.0,0.0,2.0,7.0,19.0,11.0,7.0,4.0,4.0,0.0,0.0,3.0,0.0,4.0,7.0,24.0,2.0,0.0,5.0,0.0,2.0,6.0,0.0,1.0,3.0,2.0,0.0,0.0,4.0,0.0,8.0,1.0,1.0,2.0,3.0,24.0,15.0,1.0,0.0,8.0,16.0,8.0,3.0,0.0,0.0,22.0,1.0,0.0,2.0,34.0,0.0,2.0,2.0,0.0,3.0,2.0,9.0,7.0,3.0,7.0,2.0,1.0,16.0,2.0,2.0,0.0,7.0,12.0,1.0,0.0,3.0,4.0,4.0,2.0,24.0,11.0,0.0,1.0,1.0,2.0,4.0,0.0,1.0,3.0,1.0,3.0,4.0,1.0,1.0,0.0,3.0,0.0,7.0,2.0,11.0,7.0,1.0,0.0,3.0,4.0,1.0,0.0,0.0,3.0,1.0,6.0,0.0,8.0,12.0,3.0,2.0,2.0,2.0,3.0,9.0,8.0,1.0,1.0,2.0,0.0,0.0,7.0,0.0,2.0,1.0,3.0,0.0,0.0,22.0,2.0,11.0,0.0,0.0,0.0,0.0,2.0,1.0,0.0,4.0,0.0,2.0,3.0,8.0,1.0,0.0,1.0,11.0,3.0,4.0,2.0,10.0,4.0,0.0,30.0,1.0,0.0,8.0,3.0,2.0,0.0,0.0,13.0,1.0,2.0,4.0,0.0,8.0,0.0,3.0,0.0,0.0,5.0,36.0,0.0,0.0,1.0,0.0,3.0,0.0,3.0,0.0,8.0,1.0,1.0,16.0,6.0,8.0,0.0,7.0,16.0,3.0,5.0,0.0,6.0,0.0,0.0,1.0,1.0,5.0,0.0,2.0,31.0,34.0,0.0,2.0,0.0,1.0,5.0,1.0,0.0,5.0,0.0,1.0,2.0,2.0,3.0,0.0,1.0,11.0,3.0,1.0,0.0,4.0,0.0,4.0,1.0,7.0,0.0,6.0,16.0,5.0,2.0,3.0,3.0,2.0,0.0,3.0,11.0,21.0,2.0,3.0,20.0,6.0,7.0,6.0,11.0,1.0,4.0,4.0,0.0,2.0,0.0,7.0,0.0,1.0,5.0,2.0,1.0,0.0,2.0,19.0,0.0,1.0,0.0,2.0,0.0,0.0,4.0,3.0,0.0,1.0,27.0,2.0,1.0,8.0,1.0,0.0,0.0,10.0,0.0,4.0,0.0,5.0,0.0,2.0,0.0,17.0,5.0,38.0,1.0,12.0,0.0,16.0,9.0,9.0,4.0,6.0,4.0,0.0,28.0,0.0,1.0,2.0,0.0,2.0,0.0,15.0,0.0,1.0,1.0,1.0,3.0,0.0,1.0,5.0,1.0,1.0,12.0,2.0,2.0,2.0,7.0,2.0,0.0,0.0,0.0,1.0,0.0,0.0,22.0,0.0,3.0,5.0,0.0,10.0,0.0,0.0,7.0,2.0,1.0,0.0,14.0,5.0,5.0,0.0,0.0,0.0,11.0,3.0,2.0,1.0,4.0,3.0,0.0,0.0,0.0,0.0,0.0,0.0,0.0,0.0,0.0,0.0,7.0,2.0,1.0,0.0,1.0,0.0,8.0,14.0,0.0,0.0,0.0,1.0,3.0,3.0,1.0,0.0,2.0,1.0,9.0,2.0,3.0,17.0,0.0,16.0,1.0,1.0,3.0,0.0,3.0,0.0,0.0,1.0,0.0,10.0,0.0,10.0,0.0,4.0,1.0,16.0,3.0,1.0,6.0,0.0,5.0,1.0,2.0,0.0,3.0,19.0,0.0,6.0,24.0,5.0,1.0,6.0,2.0,1.0,6.0,0.0,2.0,4.0,2.0,0.0,6.0,14.0,0.0,0.0,0.0,0.0,7.0,3.0,8.0,1.0,6.0,13.0,3.0,7.0,27.0,4.0,43.0,4.0,2.0,9.0,4.0,3.0,21.0,1.0,1.0,0.0,2.0,1.0,0.0,0.0,14.0,0.0,61.0,0.0,1.0,5.0,23.0,4.0,0.0,3.0,4.0,2.0,1.0,6.0,1.0,5.0,7.0,0.0,6.0,0.0,0.0,2.0,4.0,2.0,0.0,0.0,4.0,3.0,0.0,0.0,6.0,0.0,11.0,2.0,0.0,6.0,0.0,0.0,5.0,4.0,2.0,0.0,0.0,1.0,3.0,2.0,0.0,0.0,1.0,7.0,0.0,1.0,2.0,3.0,7.0,0.0,2.0,0.0,11.0,9.0,4.0,1.0,1.0,0.0,1.0,4.0,0.0,9.0,0.0,3.0,0.0,13.0,6.0,0.0,3.0,2.0,20.0,7.0,4.0,0.0,6.0,3.0,2.0,3.0,0.0,2.0,0.0,0.0,11.0,0.0,2.0,0.0,7.0,1.0,3.0,5.0,0.0,3.0,12.0,14.0,1.0,9.0,2.0,3.0,7.0,1.0,41.0,4.0,1.0,3.0,0.0,2.0,4.0,2.0,1.0,0.0,11.0,0.0,18.0,3.0,4.0,1.0,2.0,9.0,0.0,10.0,3.0,16.0,2.0,7.0,3.0,1.0,39.0,0.0,4.0,2.0,0.0,1.0,3.0,45.0,3.0,18.0,0.0,5.0,5.0,6.0,6.0,3.0,6.0,1.0,0.0,10.0,0.0,8.0,3.0,5.0,2.0,22.0,10.0,4.0,1.0,7.0,15.0,0.0,1.0,0.0,0.0,0.0,7.0,1.0,6.0,8.0,4.0,6.0,5.0,2.0,6.0,11.0,0.0,9.0,8.0,28.0,2.0,3.0,0.0,3.0,0.0,0.0,1.0,11.0,0.0,8.0,1.0,1.0,4.0,12.0,4.0,2.0,1.0,5.0,1.0,3.0,5.0,8.0,2.0,8.0,0.0,0.0,0.0,4.0,1.0,14.0,12.0,1.0,1.0,2.0,1.0,0.0,0.0,4.0,2.0,0.0,0.0,6.0,2.0,14.0,2.0,0.0,11.0,1.0,0.0,5.0,0.0,0.0,1.0,10.0,10.0,0.0,0.0,0.0,0.0,9.0,0.0,1.0,0.0,2.0,2.0,0.0,2.0,8.0,0.0,2.0,2.0,7.0,2.0,0.0,1.0,4.0,0.0,0.0,3.0,0.0,4.0,9.0,0.0,3.0,3.0,0.0,6.0,0.0,2.0,0.0,0.0,6.0,0.0,0.0,5.0,2.0,6.0,1.0,1.0,1.0,0.0,1.0,2.0,1.0,11.0,4.0,0.0,0.0,4.0,4.0,1.0,1.0,1.0,10.0,20.0,14.0,0.0,3.0,4.0,3.0,9.0,12.0,0.0,6.0,2.0,0.0,0.0,0.0,2.0,5.0,3.0,1.0,3.0,1.0,0.0,9.0,5.0,0.0,7.0,12.0,1.0,26.0,4.0,0.0,4.0,3.0,4.0,15.0,5.0,3.0,3.0,0.0,1.0,13.0,3.0,2.0,2.0,6.0,3.0,0.0,3.0,1.0,4.0,0.0,1.0,1.0,2.0,3.0,0.0,1.0,1.0,6.0,3.0,4.0,2.0,4.0,0.0,3.0,1.0,3.0,2.0,21.0,4.0,10.0,0.0,0.0,1.0,2.0,7.0,20.0,1.0,0.0,0.0,1.0,2.0,11.0,0.0,11.0,0.0,3.0,4.0,1.0,4.0,2.0,7.0,0.0,4.0,6.0,0.0,2.0,69.0,0.0,1.0,0.0,6.0,1.0,1.0,0.0,6.0,1.0,0.0,1.0,11.0,0.0,1.0,1.0,4.0,0.0,5.0,4.0,4.0,0.0,15.0,2.0,1.0,2.0,1.0,1.0,2.0,2.0,1.0,1.0,2.0,9.0,11.0,0.0,29.0,0.0,2.0,2.0,2.0,3.0,2.0,1.0,14.0,6.0,2.0,3.0,9.0,3.0,1.0,3.0,5.0,3.0,0.0,10.0,1.0,0.0,0.0,0.0,0.0,0.0,1.0,4.0,0.0,1.0,2.0,1.0,0.0,1.0,0.0,6.0,0.0,1.0,4.0,16.0,0.0,7.0,7.0,0.0,0.0,9.0,0.0,0.0,1.0,0.0,0.0,0.0,5.0,5.0,2.0,9.0,0.0,0.0,3.0,3.0,5.0,1.0,1.0,22.0,1.0,43.0,1.0,1.0,0.0,3.0,0.0,10.0,4.0,2.0,0.0,2.0,0.0,0.0,1.0,9.0,0.0,0.0,1.0,0.0,1.0,1.0,3.0,0.0,0.0,29.0,17.0,6.0,1.0,13.0,7.0,2.0,16.0,1.0,35.0,0.0,7.0,1.0,0.0,5.0,0.0,3.0,4.0,1.0,1.0,4.0,16.0,9.0,2.0,1.0,2.0,1.0,0.0,0.0,0.0,0.0,0.0,1.0,4.0,1.0,2.0,0.0,3.0,3.0,1.0,0.0,17.0,7.0,0.0,4.0,3.0,0.0,0.0,0.0,12.0,2.0,1.0,1.0,1.0,0.0,1.0,20.0,1.0,6.0,0.0,5.0,8.0,0.0,2.0,0.0,1.0,0.0,3.0,3.0,5.0,3.0,0.0,3.0,1.0,4.0,12.0,0.0,6.0,1.0,0.0,5.0,1.0,5.0,5.0,0.0,3.0,3.0,13.0,3.0,0.0,1.0,2.0,1.0,1.0,0.0,0.0,3.0,2.0,0.0,4.0,0.0,11.0,1.0,7.0,12.0,25.0,3.0,4.0,0.0,5.0,3.0,0.0,0.0,0.0,0.0,1.0,1.0,11.0,1.0,16.0,2.0,17.0,0.0,1.0,1.0,5.0,1.0,11.0,2.0,2.0,6.0,4.0,0.0,29.0,0.0,13.0,0.0,3.0,1.0,3.0,1.0,3.0,4.0,0.0,0.0,3.0,0.0,1.0,5.0,21.0,24.0,3.0,1.0,22.0,2.0,3.0,0.0,11.0,18.0,8.0,9.0,24.0,2.0,1.0,2.0,11.0,4.0,13.0,2.0,0.0,21.0,3.0,0.0,11.0,5.0,3.0,3.0,16.0,2.0,0.0,3.0,0.0,1.0,11.0,3.0,1.0,0.0,1.0,0.0,0.0,13.0,12.0,6.0,15.0,40.0,1.0,12.0,1.0,4.0,0.0,0.0,0.0,16.0,6.0,6.0,1.0,0.0,1.0,0.0,0.0,2.0,1.0,12.0,1.0,0.0,11.0,8.0,2.0,8.0,9.0,2.0,2.0,7.0,14.0,1.0,4.0,1.0,47.0,2.0,1.0,34.0,0.0,4.0,0.0,0.0,3.0,4.0,0.0,3.0,12.0,3.0,0.0,12.0,2.0,0.0,4.0,2.0,1.0,0.0,3.0,1.0,0.0,1.0,4.0,3.0,5.0,1.0,8.0,1.0,1.0,2.0,9.0,35.0,1.0,3.0,11.0,9.0,0.0,0.0,0.0,0.0,6.0,2.0,4.0,0.0,3.0,1.0,1.0,3.0,0.0,4.0,4.0,1.0,5.0,3.0,8.0,3.0,38.0,1.0,11.0,2.0,26.0,1.0,0.0,2.0,1.0,2.0,0.0,0.0,2.0,1.0,1.0,1.0,2.0,0.0,9.0,5.0,2.0,4.0,2.0,2.0,1.0,0.0,2.0,0.0,2.0,3.0,0.0,4.0,5.0,11.0,0.0,8.0,0.0,5.0,0.0,6.0,0.0,2.0,15.0,2.0,3.0,0.0,2.0,2.0,5.0,2.0,10.0,5.0,1.0,1.0,4.0,0.0,1.0,4.0,7.0,2.0,0.0,0.0,2.0,18.0,13.0,5.0,8.0,0.0,0.0,5.0,1.0,9.0,1.0,0.0,10.0,3.0,1.0,13.0,18.0,0.0,2.0,0.0,28.0,2.0,0.0,4.0,2.0,25.0,6.0,1.0,21.0,2.0,7.0,4.0,2.0,1.0,0.0,7.0,2.0,7.0,0.0,7.0,4.0,0.0,22.0,4.0,3.0,6.0,5.0,9.0,1.0,3.0,0.0,18.0,4.0,0.0,1.0,0.0,0.0,6.0,2.0,0.0,0.0,0.0,0.0,6.0,0.0,1.0,2.0,0.0,0.0,1.0,0.0,1.0,2.0,0.0,2.0,1.0,8.0,2.0,0.0,10.0,8.0,15.0,4.0,9.0,1.0,5.0,1.0,0.0,12.0,1.0,7.0,2.0,3.0,1.0,1.0,17.0,5.0,2.0,3.0,1.0,7.0,5.0,0.0,0.0,0.0,2.0,0.0,2.0,2.0,0.0,19.0,5.0,8.0,1.0,5.0,1.0,2.0,2.0,3.0,2.0,7.0,2.0,6.0,0.0,5.0,4.0,3.0,4.0,3.0,0.0,0.0,1.0,0.0,1.0,4.0,4.0,7.0,10.0,4.0,3.0,4.0,6.0,15.0,10.0,3.0,0.0,0.0,4.0,0.0,0.0,0.0,2.0,8.0,0.0,8.0,5.0,9.0,2.0,0.0,0.0,1.0,44.0,11.0,1.0,11.0,0.0,3.0,0.0,9.0,5.0,0.0,0.0,0.0,5.0,5.0,4.0,8.0,1.0,24.0,5.0,0.0,3.0,0.0,11.0,16.0,9.0,0.0,1.0,6.0,10.0,6.0,2.0,0.0,0.0,6.0,0.0,0.0,0.0,1.0,0.0,8.0,0.0,5.0,2.0,1.0,0.0,4.0,7.0,6.0,0.0,0.0,0.0,1.0,0.0,0.0,3.0,2.0,0.0,0.0,6.0,4.0,0.0,0.0,3.0,1.0,10.0,2.0,7.0,0.0,4.0,6.0,17.0,0.0,1.0,3.0,1.0,1.0,2.0,12.0,8.0,0.0,0.0,5.0,0.0,2.0,0.0,0.0,5.0,0.0,16.0,4.0,4.0,16.0,0.0,5.0,3.0,4.0,5.0,1.0,2.0,0.0,2.0,1.0,1.0,2.0,5.0,0.0,3.0,2.0,0.0,0.0,5.0,9.0,2.0,1.0,5.0,1.0,1.0,1.0,1.0,11.0,4.0,4.0,11.0,0.0,6.0,2.0,0.0,0.0,0.0,2.0,0.0,1.0,3.0,0.0,3.0,6.0,2.0,0.0,0.0,0.0,2.0,0.0,12.0,2.0,11.0,5.0,0.0,0.0,1.0,17.0,1.0,13.0,3.0,5.0,2.0,0.0,0.0,2.0,11.0,12.0,1.0,12.0,21.0,1.0,2.0,0.0,7.0,11.0,2.0,26.0,3.0,0.0,9.0,4.0,59.0,2.0,1.0,1.0,0.0,1.0,0.0,1.0,2.0,1.0,0.0,2.0,3.0,3.0,0.0,1.0,4.0,0.0,0.0,8.0,0.0,0.0,1.0,3.0,0.0,9.0,0.0,1.0,0.0,3.0,0.0,1.0,0.0,0.0,1.0,1.0,0.0,0.0,5.0,4.0,0.0,7.0,1.0,1.0,17.0,7.0,8.0,6.0,0.0,1.0,15.0,0.0,1.0,0.0,0.0,4.0,5.0,1.0,1.0,4.0,0.0,0.0,0.0,16.0,9.0,1.0,2.0,1.0,5.0,2.0,0.0,15.0,35.0,0.0,1.0,0.0,0.0,5.0,4.0,4.0,11.0,10.0,2.0,1.0,1.0,0.0,2.0,3.0,0.0,4.0,0.0,2.0,1.0,0.0,3.0,16.0,2.0,14.0,2.0,3.0,5.0,1.0,6.0,22.0,0.0,8.0,4.0,5.0,9.0,0.0,3.0,1.0,0.0,4.0,0.0,4.0,1.0,3.0,3.0,6.0,1.0,24.0,12.0,1.0,0.0,10.0,0.0,3.0,3.0,26.0,6.0,2.0,3.0,3.0,52.0,0.0,0.0,2.0,26.0,5.0,1.0,2.0,0.0,4.0,1.0,9.0,40.0,0.0,0.0,2.0,1.0,0.0,0.0,7.0,1.0,2.0,6.0,0.0,20.0,1.0,18.0,2.0,9.0,0.0,2.0,6.0,4.0,4.0,15.0,1.0,5.0,0.0,14.0,0.0,2.0,16.0,4.0,2.0,10.0,2.0,1.0,6.0,0.0,30.0,4.0,3.0,0.0,6.0,1.0,6.0,0.0,4.0,0.0,4.0,0.0,2.0,0.0,13.0,0.0,2.0,1.0,1.0,10.0,11.0,26.0,4.0,1.0,9.0,0.0,1.0,13.0,1.0,1.0,14.0,1.0,1.0,6.0,2.0,5.0,1.0,0.0,2.0,13.0,10.0,0.0,3.0,1.0,0.0,0.0,1.0,1.0,1.0,0.0,1.0,3.0,1.0,3.0,1.0,0.0,0.0,0.0,1.0,6.0,15.0,2.0,0.0,0.0,2.0,3.0,1.0,0.0,1.0,2.0,0.0,3.0,1.0,14.0,3.0,0.0,1.0,7.0,1.0,1.0,49.0,16.0,2.0,1.0,8.0,4.0,0.0,1.0,14.0,0.0,4.0,4.0,1.0,1.0,2.0,10.0,3.0,6.0,1.0,10.0,2.0,0.0,0.0,4.0,0.0,2.0,1.0,0.0,3.0,5.0,0.0,1.0,0.0,0.0,2.0,1.0,3.0,1.0,6.0,0.0,8.0,3.0,4.0,4.0,1.0,3.0,0.0,0.0,7.0,3.0,6.0,1.0,2.0,0.0,1.0,8.0,0.0,0.0,0.0,4.0,9.0,2.0,0.0,0.0,37.0,1.0,4.0,3.0,4.0,19.0,4.0,0.0,5.0,6.0,0.0,0.0,6.0,14.0,2.0,7.0,0.0,9.0,3.0,1.0,12.0,4.0,0.0,0.0,0.0,1.0,12.0,3.0,5.0,0.0,0.0,0.0,2.0,7.0,4.0,24.0,16.0,10.0,0.0,5.0,3.0,0.0,10.0,0.0,0.0,5.0,0.0,6.0,3.0,7.0,0.0,0.0,0.0,9.0,1.0,6.0,5.0,8.0,2.0,0.0,1.0,1.0,3.0,4.0,4.0,1.0,16.0,11.0,1.0,3.0,1.0,0.0,12.0,11.0,2.0,0.0,8.0,4.0,0.0,1.0,12.0,1.0,1.0,15.0,3.0,0.0,4.0,7.0,1.0,9.0,0.0,4.0,5.0,11.0,1.0,55.0,9.0,31.0,1.0,5.0,2.0,3.0,10.0,2.0,0.0,11.0,6.0,0.0,0.0,1.0,15.0,3.0,10.0,0.0,2.0,4.0,21.0,0.0,0.0,1.0,12.0,0.0,5.0,3.0,1.0,10.0,19.0,7.0,3.0,4.0,0.0,1.0,0.0,3.0,4.0,1.0,19.0,0.0,1.0,13.0,9.0,0.0,4.0,6.0,2.0,10.0,5.0,0.0,4.0,0.0,18.0,4.0,6.0,1.0,5.0,23.0,2.0,1.0,8.0,17.0,5.0,1.0,10.0,0.0,6.0,1.0,2.0,0.0,0.0,2.0,8.0,0.0,0.0,2.0,11.0,2.0,49.0,7.0,3.0,4.0,0.0,0.0,2.0,4.0,3.0,0.0,1.0,5.0,14.0,3.0,3.0,1.0,1.0,8.0,0.0,1.0,2.0,0.0,2.0,1.0,1.0,0.0,2.0,0.0,2.0,1.0,3.0,1.0,1.0,15.0,0.0,1.0,0.0,0.0,1.0,6.0,6.0,0.0,15.0,7.0,2.0,8.0,0.0,2.0,1.0,0.0,2.0,2.0,15.0,1.0,36.0,4.0,4.0,1.0,0.0,5.0,4.0,0.0,11.0,0.0,0.0,1.0,0.0,0.0,1.0,0.0,3.0,3.0,4.0,2.0,0.0,0.0,0.0,1.0,2.0,0.0,6.0,11.0,0.0,0.0,101.0,0.0,1.0,0.0,1.0,0.0,1.0,25.0,6.0,9.0,5.0,3.0,2.0,4.0,0.0,3.0,18.0,26.0,0.0,2.0,16.0,3.0,11.0,4.0,34.0,2.0,11.0,0.0,5.0,9.0,4.0,0.0,14.0,2.0,0.0,2.0,0.0,1.0,0.0,2.0,0.0,0.0,5.0,13.0,0.0,5.0,0.0,22.0,4.0,1.0,0.0,1.0,0.0,14.0,0.0,0.0,7.0,3.0,0.0,0.0,1.0,0.0,0.0,0.0,9.0,0.0,0.0,4.0,0.0,0.0,0.0,3.0,12.0,0.0,0.0,1.0,2.0,1.0,1.0,39.0,9.0,0.0,2.0,5.0,0.0,4.0,0.0,2.0,10.0,12.0,10.0,2.0,0.0,2.0,4.0,0.0,5.0,0.0,0.0,12.0,3.0,0.0,0.0,0.0,1.0,0.0,0.0,53.0,5.0,3.0,1.0,0.0,16.0,3.0,0.0,0.0,1.0,0.0,2.0,60.0,2.0,3.0,1.0,26.0,6.0,1.0,3.0,18.0,0.0,0.0,0.0,0.0,5.0,21.0,0.0,1.0,3.0,2.0,3.0,0.0,0.0,0.0,4.0,0.0,0.0,4.0,8.0,0.0,5.0,1.0,0.0,0.0,10.0,1.0,1.0,5.0,2.0,2.0,0.0,4.0,3.0,0.0,0.0,1.0,3.0,0.0,18.0,6.0,0.0,1.0,0.0,0.0,0.0,0.0,6.0,3.0,3.0,0.0,0.0,0.0,4.0,0.0,4.0,1.0,0.0,0.0,0.0,1.0,0.0,0.0,0.0,1.0,2.0,9.0,13.0,0.0,3.0,1.0,32.0,1.0,2.0,14.0,0.0,0.0,0.0,1.0,1.0,1.0,6.0,0.0,1.0,0.0,12.0,1.0,2.0,2.0,2.0,1.0,25.0,5.0,1.0,8.0,16.0,2.0,0.0,0.0,9.0,0.0,4.0,0.0,7.0,1.0,18.0,0.0,17.0,3.0,3.0,1.0,2.0,0.0,0.0,1.0,3.0,0.0,13.0,0.0,0.0,0.0,0.0,16.0,7.0,8.0,4.0,5.0,9.0,0.0,0.0,0.0,4.0,53.0,0.0,0.0,0.0,3.0,0.0,2.0,35.0,1.0,0.0,3.0,0.0,0.0,0.0,11.0,0.0,23.0,0.0,0.0,1.0,5.0,2.0,0.0,3.0,0.0,2.0,0.0,0.0,2.0,0.0,0.0,0.0,1.0,8.0,4.0,0.0,0.0,1.0,0.0,1.0,1.0,1.0,17.0,10.0,1.0,1.0,0.0,6.0,2.0,5.0,0.0,0.0,4.0,2.0,1.0,0.0,1.0,0.0,2.0,5.0,0.0,0.0,0.0,0.0,0.0,2.0,15.0,0.0,8.0,8.0,33.0,4.0,1.0,0.0,0.0,7.0,10.0,6.0,5.0,3.0,0.0,1.0,0.0,0.0,0.0,0.0,5.0,2.0,4.0,1.0,0.0,2.0,5.0,0.0,3.0,0.0,15.0,0.0,0.0,0.0,1.0,3.0,2.0,1.0,0.0,0.0,0.0,0.0,6.0,4.0,1.0,0.0,2.0,4.0,0.0,3.0,3.0,15.0,5.0,5.0,0.0,24.0,0.0,23.0,24.0,1.0,1.0,26.0,8.0,23.0,3.0,0.0,0.0,2.0,9.0,4.0,0.0,5.0,0.0,16.0,6.0,0.0,1.0,14.0,2.0,2.0,1.0,0.0,0.0,6.0,6.0,0.0,0.0,1.0,0.0,10.0,4.0,6.0,19.0,1.0,2.0,2.0,0.0,1.0,0.0,0.0,5.0,0.0,2.0,1.0,8.0,3.0,0.0,1.0,5.0,3.0,1.0,0.0,1.0,1.0,1.0,18.0,0.0,0.0,1.0,5.0],\"xaxis\":\"x\",\"yaxis\":\"y\",\"type\":\"histogram\"},{\"alignmentgroup\":\"True\",\"hovertemplate\":\"Frequency=%{x}<extra></extra>\",\"legendgroup\":\"\",\"marker\":{\"color\":\"indianred\"},\"name\":\"\",\"offsetgroup\":\"\",\"scalegroup\":\"x\",\"showlegend\":false,\"x\":[7.0,7.0,4.0,3.0,0.0,0.0,8.0,1.0,0.0,1.0,5.0,1.0,4.0,9.0,7.0,3.0,9.0,1.0,3.0,0.0,0.0,0.0,0.0,2.0,4.0,3.0,2.0,2.0,2.0,1.0,1.0,3.0,1.0,3.0,7.0,3.0,4.0,1.0,0.0,1.0,0.0,7.0,2.0,0.0,4.0,0.0,4.0,1.0,13.0,0.0,1.0,0.0,6.0,0.0,0.0,5.0,1.0,0.0,0.0,4.0,4.0,6.0,5.0,1.0,0.0,5.0,3.0,3.0,19.0,0.0,19.0,3.0,1.0,0.0,5.0,13.0,9.0,2.0,1.0,1.0,2.0,6.0,5.0,0.0,20.0,2.0,8.0,2.0,5.0,0.0,30.0,1.0,1.0,1.0,0.0,0.0,0.0,4.0,1.0,0.0,0.0,0.0,5.0,4.0,6.0,0.0,0.0,3.0,8.0,2.0,4.0,3.0,0.0,0.0,1.0,1.0,3.0,6.0,1.0,0.0,0.0,4.0,1.0,0.0,44.0,18.0,3.0,25.0,1.0,15.0,8.0,0.0,0.0,6.0,11.0,4.0,17.0,9.0,0.0,0.0,0.0,2.0,0.0,19.0,0.0,2.0,1.0,8.0,0.0,0.0,2.0,1.0,0.0,14.0,0.0,4.0,0.0,3.0,0.0,0.0,3.0,0.0,0.0,7.0,0.0,0.0,0.0,1.0,0.0,3.0,3.0,4.0,1.0,4.0,0.0,1.0,22.0,15.0,2.0,2.0,4.0,5.0,0.0,8.0,1.0,0.0,1.0,0.0,1.0,1.0,0.0,1.0,5.0,29.0,2.0,1.0,0.0,0.0,1.0,1.0,2.0,0.0,2.0,0.0,0.0,1.0,11.0,0.0,0.0,1.0,7.0,0.0,1.0,2.0,0.0,8.0,0.0,0.0,0.0,0.0,12.0,0.0,19.0,0.0,1.0,1.0,4.0,0.0,1.0,7.0,4.0,3.0,0.0,1.0,0.0,3.0,26.0,8.0,1.0,3.0,0.0,2.0,4.0,0.0,2.0,2.0,2.0,13.0,0.0,1.0,3.0,9.0,12.0,20.0,5.0,0.0,0.0,1.0,3.0,0.0,0.0,0.0,8.0,3.0,0.0,0.0,7.0,0.0,6.0,2.0,0.0,0.0,9.0,2.0,30.0,0.0,6.0,1.0,3.0,8.0,6.0,2.0,1.0,1.0,4.0,1.0,6.0,1.0,3.0,0.0,9.0,1.0,2.0,1.0,0.0,2.0,10.0,3.0,7.0,1.0,30.0,3.0,6.0,0.0,3.0,1.0,2.0,3.0,0.0,7.0,2.0,0.0,0.0,0.0,0.0,18.0,1.0,10.0,2.0,0.0,0.0,9.0,2.0,6.0,0.0,1.0,2.0,3.0,1.0,8.0,1.0,15.0,3.0,3.0,39.0,42.0,16.0,5.0,4.0,0.0,0.0,0.0,1.0,0.0,6.0,0.0,6.0,2.0,6.0,1.0,2.0,0.0,0.0,3.0,4.0,0.0,3.0,6.0,10.0,0.0,17.0,27.0,2.0,1.0,20.0,0.0,11.0,0.0,1.0,2.0,0.0,1.0,22.0,7.0,3.0,2.0,6.0,3.0,10.0,8.0,4.0,0.0,0.0,14.0,0.0,3.0,2.0,1.0,0.0,0.0,0.0,3.0,0.0,0.0,0.0,0.0,7.0,2.0,0.0,25.0,89.0,6.0,0.0,0.0,0.0,5.0,2.0,7.0,0.0,7.0,6.0,7.0,0.0,1.0,1.0,1.0,0.0,5.0,8.0,0.0,0.0,0.0,1.0,0.0,0.0,0.0,0.0,6.0,0.0,0.0,8.0,13.0,0.0,1.0,10.0,3.0,2.0,2.0,0.0,3.0,3.0,2.0,1.0,3.0,1.0,2.0,1.0,0.0,0.0,1.0,3.0,0.0,1.0,0.0,5.0,0.0,1.0,3.0,3.0,0.0,4.0,2.0,1.0,3.0,0.0,2.0,0.0,1.0,1.0,2.0,0.0,0.0,10.0,1.0,1.0,14.0,0.0,1.0,11.0,2.0,5.0,2.0,4.0,1.0,1.0,0.0,0.0,30.0,13.0,1.0,9.0,25.0,6.0,35.0,3.0,22.0,3.0,2.0,0.0,1.0,0.0,5.0,0.0,1.0,0.0,6.0,6.0,2.0,5.0,5.0,0.0,0.0,0.0,0.0,1.0,5.0,1.0,3.0,2.0,12.0,7.0,0.0,2.0,2.0,11.0,2.0,1.0,4.0,3.0,19.0,1.0,2.0,1.0,0.0,1.0,1.0,0.0,1.0,1.0,0.0,1.0,3.0,1.0,9.0,0.0,0.0,0.0,1.0,3.0,1.0,0.0,0.0,19.0,0.0,0.0,1.0,1.0,1.0,1.0,4.0,6.0,9.0,0.0,4.0,12.0,0.0,3.0,6.0,4.0,0.0,5.0,2.0,39.0,0.0,2.0,9.0,2.0,3.0,0.0,9.0,0.0,1.0,36.0,6.0,6.0,0.0,12.0,2.0,8.0,0.0,14.0,1.0,0.0,2.0,1.0,1.0,1.0,0.0,4.0,8.0,15.0,2.0,14.0,2.0,1.0,0.0,10.0,3.0,10.0,1.0,0.0,3.0,0.0,1.0,9.0,0.0,0.0,0.0,2.0,0.0,0.0,4.0,65.0,3.0,0.0,1.0,3.0,6.0,2.0,4.0,0.0,20.0,1.0,7.0,0.0,0.0,1.0,6.0,4.0,0.0,26.0,6.0,2.0,0.0,6.0,2.0,0.0,0.0,7.0,2.0,2.0,3.0,32.0,2.0,2.0,33.0,3.0,0.0,0.0,2.0,0.0,1.0,0.0,9.0,23.0,9.0,8.0,1.0,0.0,21.0,5.0,1.0,15.0,0.0,2.0,1.0,0.0,8.0,16.0,1.0,4.0,1.0,4.0,4.0,1.0,2.0,2.0,0.0,10.0,2.0,3.0,1.0,3.0,2.0,0.0,10.0,2.0,2.0,18.0,8.0,3.0,30.0,1.0,5.0,0.0,2.0,0.0,1.0,2.0,8.0,0.0,0.0,0.0,0.0,5.0,4.0,1.0,2.0,1.0,29.0,3.0,0.0,0.0,1.0,3.0,0.0,0.0,9.0,52.0,5.0,3.0,22.0,15.0,2.0,0.0,4.0,0.0,0.0,0.0,81.0,20.0,1.0,11.0,34.0,11.0,0.0,0.0,21.0,22.0,0.0,3.0,30.0,2.0,8.0,0.0,1.0,8.0,1.0,2.0,10.0,0.0,0.0,33.0,0.0,8.0,0.0,17.0,7.0,0.0,0.0,0.0,1.0,1.0,3.0,0.0,11.0,0.0,0.0,1.0,0.0,5.0,0.0,2.0,5.0,1.0,8.0,14.0,6.0,6.0,4.0,14.0,0.0,0.0,1.0,6.0,0.0,3.0,17.0,3.0,1.0,2.0,6.0,0.0,2.0,5.0,2.0,7.0,4.0,3.0,0.0,1.0,15.0,0.0,1.0,2.0,1.0,4.0,4.0,2.0,0.0,2.0,0.0,9.0,10.0,1.0,0.0,1.0,20.0,0.0,0.0,0.0,0.0,14.0,8.0,0.0,2.0,1.0,0.0,1.0,2.0,0.0,4.0,0.0,1.0,0.0,5.0,0.0,7.0,49.0,2.0,3.0,6.0,9.0,0.0,0.0,10.0,3.0,7.0,10.0,0.0,8.0,1.0,9.0,6.0,0.0,0.0,3.0,0.0,0.0,4.0,1.0,0.0,5.0,1.0,14.0,1.0,0.0,0.0,0.0,27.0,6.0,3.0,1.0,0.0,1.0,0.0,5.0,4.0,6.0,0.0,5.0,2.0,0.0,1.0,9.0,3.0,1.0,7.0,1.0,0.0,1.0,3.0,0.0,2.0,0.0,4.0,5.0,0.0,1.0,2.0,31.0,0.0,4.0,18.0,26.0,9.0,20.0,0.0,0.0,1.0,0.0,0.0,1.0,4.0,6.0,3.0,0.0,5.0,0.0,3.0,3.0,0.0,5.0,0.0,2.0,4.0,0.0,0.0,10.0,4.0,5.0,2.0,3.0,5.0,5.0,0.0,2.0,2.0,3.0,1.0,0.0,3.0,15.0,0.0,2.0,3.0,5.0,4.0,1.0,0.0,10.0,2.0,0.0,8.0,14.0,2.0,39.0,4.0,1.0,0.0,4.0,10.0,0.0,0.0,17.0,0.0,5.0,5.0,0.0,0.0,2.0,4.0,0.0,0.0,3.0,0.0,8.0,0.0,0.0,1.0,0.0,4.0,0.0,0.0,0.0,1.0,0.0,0.0,0.0,0.0,0.0,3.0,0.0,1.0,3.0,1.0,6.0,2.0,0.0,1.0,0.0,0.0,3.0,0.0,0.0,1.0,0.0,5.0,1.0,1.0,2.0,1.0,2.0,0.0,11.0,4.0,0.0,9.0,0.0,1.0,0.0,1.0,2.0,0.0,0.0,0.0,3.0,18.0,2.0,1.0,9.0,1.0,2.0,0.0,3.0,2.0,1.0,5.0,1.0,2.0,66.0,8.0,0.0,0.0,2.0,5.0,2.0,2.0,4.0,23.0,0.0,1.0,5.0,0.0,0.0,0.0,4.0,20.0,5.0,1.0,3.0,1.0,6.0,1.0,2.0,4.0,8.0,0.0,6.0,0.0,2.0,2.0,1.0,2.0,4.0,1.0,0.0,10.0,1.0,10.0,0.0,12.0,10.0,2.0,2.0,0.0,5.0,5.0,1.0,15.0,1.0,1.0,5.0,4.0,4.0,1.0,3.0,1.0,64.0,0.0,1.0,3.0,1.0,5.0,2.0,3.0,4.0,9.0,3.0,3.0,1.0,8.0,1.0,0.0,2.0,7.0,2.0,4.0,17.0,3.0,0.0,26.0,2.0,1.0,0.0,9.0,1.0,5.0,0.0,4.0,3.0,2.0,4.0,4.0,0.0,3.0,4.0,3.0,1.0,7.0,9.0,0.0,3.0,2.0,3.0,5.0,3.0,2.0,0.0,1.0,10.0,1.0,0.0,4.0,4.0,1.0,0.0,9.0,1.0,0.0,4.0,0.0,1.0,23.0,0.0,5.0,1.0,11.0,6.0,1.0,1.0,16.0,1.0,4.0,1.0,4.0,0.0,2.0,7.0,0.0,1.0,12.0,0.0,5.0,8.0,1.0,11.0,3.0,1.0,0.0,9.0,6.0,1.0,24.0,2.0,4.0,2.0,0.0,3.0,0.0,24.0,0.0,4.0,0.0,4.0,27.0,9.0,0.0,4.0,0.0,1.0,1.0,1.0,2.0,2.0,0.0,2.0,7.0,5.0,16.0,6.0,3.0,11.0,1.0,2.0,1.0,0.0,3.0,19.0,1.0,3.0,3.0,0.0,0.0,1.0,2.0,1.0,0.0,0.0,13.0,9.0,0.0,2.0,5.0,7.0,1.0,7.0,0.0,1.0,0.0,0.0,0.0,9.0,0.0,0.0,1.0,6.0,0.0,18.0,6.0,5.0,7.0,14.0,3.0,4.0,2.0,0.0,1.0,0.0,2.0,1.0,8.0,3.0,0.0,0.0,6.0,5.0,5.0,8.0,2.0,4.0,0.0,9.0,4.0,3.0,1.0,6.0,10.0,0.0,0.0,6.0,3.0,2.0,3.0,0.0,34.0,2.0,0.0,0.0,2.0,1.0,0.0,1.0,1.0,1.0,0.0,2.0,9.0,3.0,0.0,0.0,3.0,4.0,2.0,0.0,0.0,1.0,0.0,0.0,4.0,8.0,62.0,14.0,2.0,0.0,1.0,1.0,8.0,0.0,0.0,1.0,7.0,6.0,1.0,3.0,0.0,11.0,2.0,7.0,1.0,2.0,0.0,15.0,0.0,7.0,1.0,10.0,3.0,1.0,5.0,4.0,0.0,6.0,1.0,5.0,15.0,2.0,1.0,1.0,0.0,1.0,2.0,11.0,5.0,0.0,0.0,1.0,4.0,2.0,9.0,6.0,1.0,1.0,0.0,1.0,7.0,10.0,0.0,6.0,3.0,2.0,6.0,19.0,0.0,14.0,1.0,4.0,4.0,4.0,2.0,4.0,0.0,0.0,44.0,0.0,17.0,3.0,6.0,6.0,1.0,0.0,0.0,0.0,42.0,3.0,0.0,2.0,2.0,12.0,3.0,13.0,1.0,5.0,5.0,0.0,0.0,0.0,1.0,2.0,0.0,0.0,3.0,0.0,2.0,79.0,8.0,2.0,0.0,17.0,2.0,6.0,1.0,0.0,2.0,4.0,2.0,1.0,1.0,2.0,7.0,2.0,6.0,1.0,1.0,0.0,5.0,2.0,5.0,1.0,6.0,11.0,1.0,0.0,2.0,0.0,0.0,0.0,17.0,1.0,1.0,1.0,6.0,1.0,1.0,5.0,0.0,0.0,0.0,15.0,0.0,0.0,0.0,3.0,0.0,7.0,4.0,0.0,6.0,0.0,0.0,34.0,3.0,10.0,4.0,0.0,1.0,3.0,1.0,8.0,3.0,0.0,3.0,0.0,2.0,1.0,9.0,11.0,15.0,2.0,7.0,5.0,12.0,0.0,2.0,3.0,0.0,13.0,29.0,4.0,10.0,6.0,1.0,0.0,0.0,4.0,5.0,10.0,2.0,5.0,0.0,1.0,5.0,0.0,2.0,1.0,1.0,5.0,11.0,4.0,0.0,1.0,0.0,0.0,0.0,3.0,1.0,16.0,0.0,0.0,1.0,0.0,3.0,1.0,1.0,3.0,3.0,3.0,2.0,0.0,5.0,2.0,0.0,1.0,3.0,8.0,1.0,7.0,0.0,1.0,0.0,2.0,2.0,1.0,0.0,6.0,3.0,13.0,0.0,0.0,0.0,1.0,5.0,0.0,3.0,5.0,3.0,2.0,10.0,11.0,1.0,2.0,4.0,2.0,4.0,5.0,1.0,0.0,2.0,15.0,1.0,2.0,0.0,1.0,0.0,31.0,1.0,13.0,1.0,0.0,1.0,10.0,3.0,0.0,1.0,5.0,4.0,0.0,8.0,17.0,10.0,20.0,0.0,1.0,7.0,4.0,0.0,3.0,2.0,17.0,5.0,13.0,1.0,1.0,2.0,28.0,4.0,7.0,1.0,0.0,8.0,4.0,6.0,0.0,0.0,2.0,0.0,1.0,0.0,4.0,2.0,0.0,10.0,0.0,0.0,2.0,3.0,6.0,1.0,1.0,2.0,6.0,1.0,0.0,0.0,1.0,14.0,38.0,15.0,0.0,1.0,8.0,0.0,5.0,4.0,1.0,30.0,0.0,0.0,1.0,8.0,12.0,0.0,10.0,1.0,9.0,1.0,33.0,1.0,3.0,0.0,2.0,21.0,16.0,1.0,0.0,27.0,2.0,19.0,6.0,13.0,2.0,0.0,1.0,3.0,1.0,0.0,6.0,0.0,0.0,0.0,5.0,0.0,5.0,8.0,1.0,4.0,7.0,1.0,8.0,0.0,24.0,0.0,2.0,12.0,0.0,0.0,1.0,21.0,0.0,0.0,0.0,11.0,1.0,0.0,18.0,0.0,12.0,4.0,4.0,4.0,0.0,10.0,3.0,0.0,30.0,3.0,9.0,14.0,6.0,1.0,4.0,0.0,0.0,1.0,3.0,2.0,0.0,0.0,2.0,1.0,5.0,2.0,7.0,3.0,0.0,10.0,2.0,8.0,20.0,4.0,0.0,1.0,3.0,1.0,3.0,1.0,0.0,0.0,6.0,8.0,6.0,1.0,0.0,1.0,1.0,5.0,0.0,5.0,0.0,75.0,4.0,0.0,17.0,6.0,6.0,1.0,4.0,1.0,0.0,1.0,7.0,1.0,1.0,1.0,1.0,2.0,4.0,0.0,7.0,3.0,8.0,6.0,1.0,30.0,1.0,3.0,1.0,0.0,0.0,4.0,0.0,5.0,14.0,0.0,14.0,0.0,2.0,23.0,4.0,0.0,0.0,8.0,3.0,0.0,9.0,2.0,0.0,3.0,7.0,2.0,0.0,1.0,14.0,14.0,14.0,1.0,0.0,4.0,8.0,4.0,21.0,0.0,2.0,2.0,13.0,0.0,2.0,8.0,3.0,4.0,9.0,2.0,5.0,1.0,3.0,4.0,6.0,3.0,6.0,4.0,1.0,2.0,18.0,2.0,1.0,1.0,16.0,0.0,1.0,2.0,4.0,2.0,6.0,1.0,3.0,0.0,1.0,0.0,0.0,3.0,8.0,21.0,0.0,1.0,1.0,7.0,0.0,5.0,3.0,0.0,1.0,0.0,0.0,0.0,1.0,3.0,3.0,0.0,4.0,5.0,7.0,0.0,1.0,0.0,0.0,20.0,3.0,2.0,7.0,5.0,1.0,0.0,5.0,7.0,13.0,10.0,7.0,0.0,4.0,1.0,3.0,36.0,23.0,0.0,3.0,2.0,1.0,2.0,2.0,5.0,8.0,0.0,10.0,0.0,1.0,10.0,1.0,7.0,3.0,0.0,0.0,0.0,4.0,6.0,2.0,1.0,1.0,0.0,2.0,5.0,0.0,13.0,0.0,1.0,4.0,0.0,11.0,1.0,3.0,2.0,1.0,0.0,10.0,5.0,3.0,19.0,0.0,3.0,0.0,0.0,0.0,2.0,0.0,2.0,2.0,1.0,2.0,1.0,0.0,1.0,2.0,2.0,0.0,0.0,1.0,6.0,1.0,0.0,12.0,0.0,1.0,4.0,0.0,1.0,0.0,0.0,2.0,0.0,1.0,0.0,3.0,0.0,1.0,1.0,2.0,0.0,2.0,0.0,2.0,15.0,4.0,9.0,0.0,0.0,0.0,0.0,18.0,5.0,16.0,1.0,7.0,2.0,21.0,0.0,5.0,11.0,0.0,0.0,5.0,10.0,7.0,7.0,0.0,2.0,3.0,5.0,22.0,1.0,0.0,2.0,6.0,3.0,5.0,18.0,2.0,0.0,2.0,12.0,3.0,4.0,0.0,1.0,3.0,5.0,0.0,4.0,0.0,1.0,4.0,0.0,3.0,11.0,10.0,5.0,4.0,0.0,0.0,4.0,4.0,1.0,6.0,6.0,11.0,3.0,0.0,4.0,3.0,7.0,0.0,0.0,1.0,7.0,11.0,9.0,3.0,1.0,9.0,12.0,10.0,0.0,3.0,2.0,1.0,8.0,1.0,1.0,3.0,0.0,6.0,3.0,3.0,3.0,4.0,9.0,1.0,3.0,0.0,1.0,5.0,0.0,3.0,1.0,1.0,5.0,9.0,2.0,2.0,6.0,1.0,9.0,6.0,2.0,1.0,8.0,4.0,3.0,15.0,6.0,9.0,3.0,0.0,1.0,4.0,6.0,5.0,8.0,9.0,0.0,1.0,0.0,1.0,1.0,0.0,7.0,0.0,7.0,16.0,0.0,90.0,0.0,2.0,15.0,0.0,10.0,9.0,25.0,8.0,0.0,1.0,4.0,1.0,10.0,12.0,0.0,29.0,2.0,0.0,10.0,6.0,5.0,3.0,3.0,4.0,2.0,6.0,3.0,5.0,2.0,0.0,2.0,0.0,34.0,2.0,22.0,1.0,1.0,4.0,3.0,1.0,0.0,3.0,1.0,0.0,9.0,9.0,0.0,0.0,0.0,6.0,0.0,0.0,0.0,1.0,0.0,7.0,6.0,3.0,0.0,8.0,0.0,0.0,16.0,1.0,2.0,6.0,1.0,6.0,0.0,4.0,1.0,1.0,1.0,0.0,0.0,0.0,0.0,2.0,101.0,11.0,9.0,9.0,1.0,1.0,0.0,0.0,0.0,4.0,4.0,1.0,4.0,1.0,1.0,8.0,0.0,9.0,4.0,9.0,10.0,0.0,4.0,1.0,0.0,5.0,0.0,0.0,3.0,0.0,1.0,0.0,0.0,6.0,9.0,0.0,0.0,4.0,5.0,2.0,60.0,1.0,11.0,7.0,0.0,7.0,0.0,10.0,0.0,6.0,4.0,5.0,1.0,8.0,1.0,0.0,6.0,0.0,1.0,5.0,0.0,43.0,0.0,4.0,1.0,1.0,3.0,6.0,0.0,1.0,10.0,0.0,0.0,2.0,47.0,4.0,5.0,0.0,5.0,4.0,1.0,2.0,25.0,0.0,3.0,3.0,11.0,5.0,0.0,1.0,7.0,0.0,3.0,3.0,4.0,10.0,27.0,0.0,8.0,0.0,0.0,1.0,4.0,22.0,12.0,10.0,3.0,20.0,3.0,7.0,2.0,0.0,0.0,4.0,2.0,0.0,2.0,9.0,0.0,2.0,0.0,1.0,0.0,1.0,6.0,2.0,17.0,12.0,3.0,35.0,0.0,3.0,8.0,24.0,10.0,6.0,0.0,0.0,10.0,9.0,2.0,0.0,8.0,0.0,0.0,1.0,0.0,1.0,5.0,21.0,2.0,0.0,6.0,2.0,0.0,2.0,1.0,0.0,2.0,10.0,0.0,1.0,16.0,7.0,1.0,0.0,0.0,0.0,2.0,11.0,0.0,1.0,1.0,1.0,0.0,0.0,2.0,1.0,0.0,0.0,2.0,0.0,9.0,0.0,0.0,1.0,9.0,0.0,25.0,0.0,6.0,1.0,15.0,0.0,0.0,2.0,0.0,6.0,1.0,1.0,5.0,0.0,12.0,0.0,0.0,2.0,0.0,1.0,0.0,6.0,5.0,3.0,8.0,4.0,0.0,1.0,9.0,23.0,1.0,12.0,5.0,0.0,1.0,0.0,0.0,6.0,1.0,1.0,8.0,1.0,2.0,1.0,11.0,3.0,0.0,7.0,0.0,0.0,2.0,0.0,22.0,2.0,2.0,11.0,4.0,10.0,4.0,1.0,4.0,0.0,3.0,0.0,8.0,1.0,0.0,2.0,16.0,13.0,9.0,5.0,4.0,8.0,2.0,1.0,0.0,2.0,1.0,1.0,20.0,0.0,2.0,0.0,8.0,4.0,0.0,2.0,0.0,0.0,0.0,0.0,2.0,3.0,0.0,2.0,2.0,22.0,7.0,7.0,13.0,0.0,0.0,11.0,2.0,4.0,3.0,7.0,0.0,10.0,1.0,2.0,2.0,94.0,4.0,7.0,9.0,7.0,0.0,7.0,0.0,1.0,1.0,1.0,0.0,2.0,1.0,0.0,0.0,1.0,4.0,4.0,1.0,0.0,3.0,1.0,7.0,1.0,0.0,1.0,0.0,3.0,0.0,11.0,0.0,0.0,5.0,5.0,3.0,0.0,0.0,21.0,2.0,1.0,0.0,0.0,1.0,5.0,3.0,1.0,18.0,3.0,10.0,0.0,0.0,4.0,3.0,1.0,0.0,9.0,1.0,1.0,2.0,0.0,1.0,4.0,0.0,8.0,0.0,0.0,1.0,0.0,0.0,4.0,1.0,1.0,6.0,6.0,0.0,1.0,0.0,0.0,0.0,4.0,1.0,0.0,3.0,3.0,0.0,0.0,0.0,8.0,4.0,0.0,52.0,1.0,0.0,1.0,2.0,0.0,1.0,2.0,9.0,1.0,9.0,3.0,0.0,2.0,0.0,0.0,10.0,3.0,17.0,10.0,1.0,4.0,8.0,4.0,0.0,7.0,11.0,6.0,9.0,12.0,0.0,2.0,0.0,8.0,69.0,0.0,1.0,1.0,5.0,27.0,1.0,24.0,0.0,3.0,0.0,3.0,8.0,0.0,2.0,1.0,2.0,0.0,4.0,12.0,15.0,0.0,59.0,7.0,0.0,3.0,4.0,0.0,3.0,3.0,0.0,2.0,3.0,0.0,7.0,2.0,0.0,2.0,1.0,34.0,7.0,1.0,11.0,0.0,0.0,1.0,0.0,1.0,0.0,1.0,5.0,0.0,1.0,2.0,19.0,1.0,7.0,0.0,1.0,0.0,0.0,6.0,4.0,1.0,1.0,1.0,5.0,4.0,7.0,2.0,2.0,5.0,4.0,0.0,2.0,11.0,1.0,3.0,5.0,0.0,0.0,0.0,1.0,9.0,4.0,3.0,13.0,1.0,1.0,4.0,19.0,0.0,0.0,4.0,4.0,9.0,1.0,2.0,1.0,0.0,1.0,6.0,5.0,4.0,1.0,21.0,3.0,1.0,0.0,0.0,2.0,10.0,1.0,11.0,0.0,1.0,0.0,2.0,4.0,1.0,22.0,3.0,0.0,0.0,1.0,8.0,0.0,0.0,3.0,0.0,1.0,0.0,0.0,4.0,6.0,1.0,0.0,0.0,0.0,0.0,12.0,2.0,4.0,6.0,2.0,3.0,0.0,4.0,12.0,0.0,36.0,0.0,1.0,4.0,0.0,25.0,0.0,1.0,5.0,4.0,9.0,0.0,5.0,0.0,13.0,0.0,1.0,3.0,2.0,5.0,0.0,2.0,1.0,1.0,1.0,7.0,5.0,1.0,0.0,19.0,1.0,5.0,3.0,9.0,4.0,4.0,0.0,0.0,7.0,5.0,0.0,0.0,0.0,1.0,0.0,0.0,10.0,0.0,3.0,2.0,1.0,11.0,10.0,0.0,1.0,2.0,6.0,2.0,2.0,2.0,16.0,0.0,18.0,4.0,5.0,2.0,6.0,1.0,1.0,1.0,2.0,18.0,3.0,2.0,0.0,1.0,3.0,4.0,4.0,1.0,2.0,12.0,21.0,5.0,0.0,1.0,0.0,2.0,1.0,1.0,4.0,2.0,14.0,0.0,2.0,0.0,0.0,0.0,4.0,8.0,4.0,20.0,32.0,0.0,0.0,0.0,0.0,9.0,2.0,21.0,6.0,0.0,13.0,0.0,2.0,8.0,0.0,8.0,0.0,0.0,3.0,0.0,97.0,11.0,0.0,2.0,1.0,0.0,0.0,0.0,0.0,0.0,6.0,1.0,2.0,0.0,6.0,4.0,0.0,0.0,10.0,1.0,1.0,3.0,0.0,2.0,0.0,0.0,0.0,0.0,5.0,0.0,1.0,0.0,0.0,2.0,0.0,2.0,3.0,0.0,1.0,1.0,8.0,0.0,6.0,0.0,1.0,12.0,29.0,3.0,0.0,3.0,1.0,1.0,1.0,6.0,6.0,8.0,1.0,6.0,7.0,0.0,4.0,14.0,1.0,0.0,2.0,2.0,1.0,7.0,10.0,4.0,9.0,3.0,2.0,0.0,0.0,0.0,4.0,1.0,0.0,6.0,4.0,9.0,0.0,1.0,0.0,1.0,2.0,7.0,1.0,5.0,1.0,0.0,1.0,2.0,3.0,0.0,0.0,8.0,3.0,0.0,4.0,2.0,0.0,5.0,0.0,1.0,0.0,5.0,8.0,5.0,2.0,1.0,3.0,6.0,1.0,3.0,1.0,1.0,0.0,1.0,1.0,8.0,0.0,2.0,1.0,0.0,2.0,2.0,2.0,0.0,12.0,1.0,1.0,2.0,3.0,1.0,2.0,0.0,1.0,5.0,6.0,1.0,0.0,8.0,0.0,1.0,1.0,0.0,1.0,3.0,0.0,0.0,31.0,3.0,2.0,1.0,2.0,0.0,2.0,0.0,4.0,0.0,0.0,2.0,0.0,2.0,0.0,3.0,0.0,14.0,5.0,5.0,5.0,0.0,0.0,3.0,7.0,0.0,3.0,1.0,7.0,4.0,0.0,0.0,8.0,26.0,0.0,3.0,1.0,8.0,1.0,3.0,4.0,5.0,0.0,3.0,0.0,0.0,4.0,3.0,25.0,13.0,0.0,1.0,0.0,12.0,1.0,0.0,11.0,1.0,14.0,1.0,3.0,0.0,17.0,0.0,10.0,4.0,1.0,9.0,2.0,0.0,4.0,0.0,0.0,3.0,0.0,1.0,0.0,1.0,1.0,19.0,1.0,0.0,22.0,0.0,7.0,9.0,4.0,1.0,0.0,0.0,27.0,0.0,0.0,0.0,0.0,0.0,6.0,2.0,5.0,1.0,1.0,1.0,0.0,2.0,7.0,19.0,11.0,7.0,4.0,4.0,0.0,0.0,3.0,0.0,4.0,7.0,24.0,2.0,0.0,5.0,0.0,2.0,6.0,0.0,1.0,3.0,2.0,0.0,0.0,4.0,0.0,8.0,1.0,1.0,2.0,3.0,24.0,15.0,1.0,0.0,8.0,16.0,8.0,3.0,0.0,0.0,22.0,1.0,0.0,2.0,34.0,0.0,2.0,2.0,0.0,3.0,2.0,9.0,7.0,3.0,7.0,2.0,1.0,16.0,2.0,2.0,0.0,7.0,12.0,1.0,0.0,3.0,4.0,4.0,2.0,24.0,11.0,0.0,1.0,1.0,2.0,4.0,0.0,1.0,3.0,1.0,3.0,4.0,1.0,1.0,0.0,3.0,0.0,7.0,2.0,11.0,7.0,1.0,0.0,3.0,4.0,1.0,0.0,0.0,3.0,1.0,6.0,0.0,8.0,12.0,3.0,2.0,2.0,2.0,3.0,9.0,8.0,1.0,1.0,2.0,0.0,0.0,7.0,0.0,2.0,1.0,3.0,0.0,0.0,22.0,2.0,11.0,0.0,0.0,0.0,0.0,2.0,1.0,0.0,4.0,0.0,2.0,3.0,8.0,1.0,0.0,1.0,11.0,3.0,4.0,2.0,10.0,4.0,0.0,30.0,1.0,0.0,8.0,3.0,2.0,0.0,0.0,13.0,1.0,2.0,4.0,0.0,8.0,0.0,3.0,0.0,0.0,5.0,36.0,0.0,0.0,1.0,0.0,3.0,0.0,3.0,0.0,8.0,1.0,1.0,16.0,6.0,8.0,0.0,7.0,16.0,3.0,5.0,0.0,6.0,0.0,0.0,1.0,1.0,5.0,0.0,2.0,31.0,34.0,0.0,2.0,0.0,1.0,5.0,1.0,0.0,5.0,0.0,1.0,2.0,2.0,3.0,0.0,1.0,11.0,3.0,1.0,0.0,4.0,0.0,4.0,1.0,7.0,0.0,6.0,16.0,5.0,2.0,3.0,3.0,2.0,0.0,3.0,11.0,21.0,2.0,3.0,20.0,6.0,7.0,6.0,11.0,1.0,4.0,4.0,0.0,2.0,0.0,7.0,0.0,1.0,5.0,2.0,1.0,0.0,2.0,19.0,0.0,1.0,0.0,2.0,0.0,0.0,4.0,3.0,0.0,1.0,27.0,2.0,1.0,8.0,1.0,0.0,0.0,10.0,0.0,4.0,0.0,5.0,0.0,2.0,0.0,17.0,5.0,38.0,1.0,12.0,0.0,16.0,9.0,9.0,4.0,6.0,4.0,0.0,28.0,0.0,1.0,2.0,0.0,2.0,0.0,15.0,0.0,1.0,1.0,1.0,3.0,0.0,1.0,5.0,1.0,1.0,12.0,2.0,2.0,2.0,7.0,2.0,0.0,0.0,0.0,1.0,0.0,0.0,22.0,0.0,3.0,5.0,0.0,10.0,0.0,0.0,7.0,2.0,1.0,0.0,14.0,5.0,5.0,0.0,0.0,0.0,11.0,3.0,2.0,1.0,4.0,3.0,0.0,0.0,0.0,0.0,0.0,0.0,0.0,0.0,0.0,0.0,7.0,2.0,1.0,0.0,1.0,0.0,8.0,14.0,0.0,0.0,0.0,1.0,3.0,3.0,1.0,0.0,2.0,1.0,9.0,2.0,3.0,17.0,0.0,16.0,1.0,1.0,3.0,0.0,3.0,0.0,0.0,1.0,0.0,10.0,0.0,10.0,0.0,4.0,1.0,16.0,3.0,1.0,6.0,0.0,5.0,1.0,2.0,0.0,3.0,19.0,0.0,6.0,24.0,5.0,1.0,6.0,2.0,1.0,6.0,0.0,2.0,4.0,2.0,0.0,6.0,14.0,0.0,0.0,0.0,0.0,7.0,3.0,8.0,1.0,6.0,13.0,3.0,7.0,27.0,4.0,43.0,4.0,2.0,9.0,4.0,3.0,21.0,1.0,1.0,0.0,2.0,1.0,0.0,0.0,14.0,0.0,61.0,0.0,1.0,5.0,23.0,4.0,0.0,3.0,4.0,2.0,1.0,6.0,1.0,5.0,7.0,0.0,6.0,0.0,0.0,2.0,4.0,2.0,0.0,0.0,4.0,3.0,0.0,0.0,6.0,0.0,11.0,2.0,0.0,6.0,0.0,0.0,5.0,4.0,2.0,0.0,0.0,1.0,3.0,2.0,0.0,0.0,1.0,7.0,0.0,1.0,2.0,3.0,7.0,0.0,2.0,0.0,11.0,9.0,4.0,1.0,1.0,0.0,1.0,4.0,0.0,9.0,0.0,3.0,0.0,13.0,6.0,0.0,3.0,2.0,20.0,7.0,4.0,0.0,6.0,3.0,2.0,3.0,0.0,2.0,0.0,0.0,11.0,0.0,2.0,0.0,7.0,1.0,3.0,5.0,0.0,3.0,12.0,14.0,1.0,9.0,2.0,3.0,7.0,1.0,41.0,4.0,1.0,3.0,0.0,2.0,4.0,2.0,1.0,0.0,11.0,0.0,18.0,3.0,4.0,1.0,2.0,9.0,0.0,10.0,3.0,16.0,2.0,7.0,3.0,1.0,39.0,0.0,4.0,2.0,0.0,1.0,3.0,45.0,3.0,18.0,0.0,5.0,5.0,6.0,6.0,3.0,6.0,1.0,0.0,10.0,0.0,8.0,3.0,5.0,2.0,22.0,10.0,4.0,1.0,7.0,15.0,0.0,1.0,0.0,0.0,0.0,7.0,1.0,6.0,8.0,4.0,6.0,5.0,2.0,6.0,11.0,0.0,9.0,8.0,28.0,2.0,3.0,0.0,3.0,0.0,0.0,1.0,11.0,0.0,8.0,1.0,1.0,4.0,12.0,4.0,2.0,1.0,5.0,1.0,3.0,5.0,8.0,2.0,8.0,0.0,0.0,0.0,4.0,1.0,14.0,12.0,1.0,1.0,2.0,1.0,0.0,0.0,4.0,2.0,0.0,0.0,6.0,2.0,14.0,2.0,0.0,11.0,1.0,0.0,5.0,0.0,0.0,1.0,10.0,10.0,0.0,0.0,0.0,0.0,9.0,0.0,1.0,0.0,2.0,2.0,0.0,2.0,8.0,0.0,2.0,2.0,7.0,2.0,0.0,1.0,4.0,0.0,0.0,3.0,0.0,4.0,9.0,0.0,3.0,3.0,0.0,6.0,0.0,2.0,0.0,0.0,6.0,0.0,0.0,5.0,2.0,6.0,1.0,1.0,1.0,0.0,1.0,2.0,1.0,11.0,4.0,0.0,0.0,4.0,4.0,1.0,1.0,1.0,10.0,20.0,14.0,0.0,3.0,4.0,3.0,9.0,12.0,0.0,6.0,2.0,0.0,0.0,0.0,2.0,5.0,3.0,1.0,3.0,1.0,0.0,9.0,5.0,0.0,7.0,12.0,1.0,26.0,4.0,0.0,4.0,3.0,4.0,15.0,5.0,3.0,3.0,0.0,1.0,13.0,3.0,2.0,2.0,6.0,3.0,0.0,3.0,1.0,4.0,0.0,1.0,1.0,2.0,3.0,0.0,1.0,1.0,6.0,3.0,4.0,2.0,4.0,0.0,3.0,1.0,3.0,2.0,21.0,4.0,10.0,0.0,0.0,1.0,2.0,7.0,20.0,1.0,0.0,0.0,1.0,2.0,11.0,0.0,11.0,0.0,3.0,4.0,1.0,4.0,2.0,7.0,0.0,4.0,6.0,0.0,2.0,69.0,0.0,1.0,0.0,6.0,1.0,1.0,0.0,6.0,1.0,0.0,1.0,11.0,0.0,1.0,1.0,4.0,0.0,5.0,4.0,4.0,0.0,15.0,2.0,1.0,2.0,1.0,1.0,2.0,2.0,1.0,1.0,2.0,9.0,11.0,0.0,29.0,0.0,2.0,2.0,2.0,3.0,2.0,1.0,14.0,6.0,2.0,3.0,9.0,3.0,1.0,3.0,5.0,3.0,0.0,10.0,1.0,0.0,0.0,0.0,0.0,0.0,1.0,4.0,0.0,1.0,2.0,1.0,0.0,1.0,0.0,6.0,0.0,1.0,4.0,16.0,0.0,7.0,7.0,0.0,0.0,9.0,0.0,0.0,1.0,0.0,0.0,0.0,5.0,5.0,2.0,9.0,0.0,0.0,3.0,3.0,5.0,1.0,1.0,22.0,1.0,43.0,1.0,1.0,0.0,3.0,0.0,10.0,4.0,2.0,0.0,2.0,0.0,0.0,1.0,9.0,0.0,0.0,1.0,0.0,1.0,1.0,3.0,0.0,0.0,29.0,17.0,6.0,1.0,13.0,7.0,2.0,16.0,1.0,35.0,0.0,7.0,1.0,0.0,5.0,0.0,3.0,4.0,1.0,1.0,4.0,16.0,9.0,2.0,1.0,2.0,1.0,0.0,0.0,0.0,0.0,0.0,1.0,4.0,1.0,2.0,0.0,3.0,3.0,1.0,0.0,17.0,7.0,0.0,4.0,3.0,0.0,0.0,0.0,12.0,2.0,1.0,1.0,1.0,0.0,1.0,20.0,1.0,6.0,0.0,5.0,8.0,0.0,2.0,0.0,1.0,0.0,3.0,3.0,5.0,3.0,0.0,3.0,1.0,4.0,12.0,0.0,6.0,1.0,0.0,5.0,1.0,5.0,5.0,0.0,3.0,3.0,13.0,3.0,0.0,1.0,2.0,1.0,1.0,0.0,0.0,3.0,2.0,0.0,4.0,0.0,11.0,1.0,7.0,12.0,25.0,3.0,4.0,0.0,5.0,3.0,0.0,0.0,0.0,0.0,1.0,1.0,11.0,1.0,16.0,2.0,17.0,0.0,1.0,1.0,5.0,1.0,11.0,2.0,2.0,6.0,4.0,0.0,29.0,0.0,13.0,0.0,3.0,1.0,3.0,1.0,3.0,4.0,0.0,0.0,3.0,0.0,1.0,5.0,21.0,24.0,3.0,1.0,22.0,2.0,3.0,0.0,11.0,18.0,8.0,9.0,24.0,2.0,1.0,2.0,11.0,4.0,13.0,2.0,0.0,21.0,3.0,0.0,11.0,5.0,3.0,3.0,16.0,2.0,0.0,3.0,0.0,1.0,11.0,3.0,1.0,0.0,1.0,0.0,0.0,13.0,12.0,6.0,15.0,40.0,1.0,12.0,1.0,4.0,0.0,0.0,0.0,16.0,6.0,6.0,1.0,0.0,1.0,0.0,0.0,2.0,1.0,12.0,1.0,0.0,11.0,8.0,2.0,8.0,9.0,2.0,2.0,7.0,14.0,1.0,4.0,1.0,47.0,2.0,1.0,34.0,0.0,4.0,0.0,0.0,3.0,4.0,0.0,3.0,12.0,3.0,0.0,12.0,2.0,0.0,4.0,2.0,1.0,0.0,3.0,1.0,0.0,1.0,4.0,3.0,5.0,1.0,8.0,1.0,1.0,2.0,9.0,35.0,1.0,3.0,11.0,9.0,0.0,0.0,0.0,0.0,6.0,2.0,4.0,0.0,3.0,1.0,1.0,3.0,0.0,4.0,4.0,1.0,5.0,3.0,8.0,3.0,38.0,1.0,11.0,2.0,26.0,1.0,0.0,2.0,1.0,2.0,0.0,0.0,2.0,1.0,1.0,1.0,2.0,0.0,9.0,5.0,2.0,4.0,2.0,2.0,1.0,0.0,2.0,0.0,2.0,3.0,0.0,4.0,5.0,11.0,0.0,8.0,0.0,5.0,0.0,6.0,0.0,2.0,15.0,2.0,3.0,0.0,2.0,2.0,5.0,2.0,10.0,5.0,1.0,1.0,4.0,0.0,1.0,4.0,7.0,2.0,0.0,0.0,2.0,18.0,13.0,5.0,8.0,0.0,0.0,5.0,1.0,9.0,1.0,0.0,10.0,3.0,1.0,13.0,18.0,0.0,2.0,0.0,28.0,2.0,0.0,4.0,2.0,25.0,6.0,1.0,21.0,2.0,7.0,4.0,2.0,1.0,0.0,7.0,2.0,7.0,0.0,7.0,4.0,0.0,22.0,4.0,3.0,6.0,5.0,9.0,1.0,3.0,0.0,18.0,4.0,0.0,1.0,0.0,0.0,6.0,2.0,0.0,0.0,0.0,0.0,6.0,0.0,1.0,2.0,0.0,0.0,1.0,0.0,1.0,2.0,0.0,2.0,1.0,8.0,2.0,0.0,10.0,8.0,15.0,4.0,9.0,1.0,5.0,1.0,0.0,12.0,1.0,7.0,2.0,3.0,1.0,1.0,17.0,5.0,2.0,3.0,1.0,7.0,5.0,0.0,0.0,0.0,2.0,0.0,2.0,2.0,0.0,19.0,5.0,8.0,1.0,5.0,1.0,2.0,2.0,3.0,2.0,7.0,2.0,6.0,0.0,5.0,4.0,3.0,4.0,3.0,0.0,0.0,1.0,0.0,1.0,4.0,4.0,7.0,10.0,4.0,3.0,4.0,6.0,15.0,10.0,3.0,0.0,0.0,4.0,0.0,0.0,0.0,2.0,8.0,0.0,8.0,5.0,9.0,2.0,0.0,0.0,1.0,44.0,11.0,1.0,11.0,0.0,3.0,0.0,9.0,5.0,0.0,0.0,0.0,5.0,5.0,4.0,8.0,1.0,24.0,5.0,0.0,3.0,0.0,11.0,16.0,9.0,0.0,1.0,6.0,10.0,6.0,2.0,0.0,0.0,6.0,0.0,0.0,0.0,1.0,0.0,8.0,0.0,5.0,2.0,1.0,0.0,4.0,7.0,6.0,0.0,0.0,0.0,1.0,0.0,0.0,3.0,2.0,0.0,0.0,6.0,4.0,0.0,0.0,3.0,1.0,10.0,2.0,7.0,0.0,4.0,6.0,17.0,0.0,1.0,3.0,1.0,1.0,2.0,12.0,8.0,0.0,0.0,5.0,0.0,2.0,0.0,0.0,5.0,0.0,16.0,4.0,4.0,16.0,0.0,5.0,3.0,4.0,5.0,1.0,2.0,0.0,2.0,1.0,1.0,2.0,5.0,0.0,3.0,2.0,0.0,0.0,5.0,9.0,2.0,1.0,5.0,1.0,1.0,1.0,1.0,11.0,4.0,4.0,11.0,0.0,6.0,2.0,0.0,0.0,0.0,2.0,0.0,1.0,3.0,0.0,3.0,6.0,2.0,0.0,0.0,0.0,2.0,0.0,12.0,2.0,11.0,5.0,0.0,0.0,1.0,17.0,1.0,13.0,3.0,5.0,2.0,0.0,0.0,2.0,11.0,12.0,1.0,12.0,21.0,1.0,2.0,0.0,7.0,11.0,2.0,26.0,3.0,0.0,9.0,4.0,59.0,2.0,1.0,1.0,0.0,1.0,0.0,1.0,2.0,1.0,0.0,2.0,3.0,3.0,0.0,1.0,4.0,0.0,0.0,8.0,0.0,0.0,1.0,3.0,0.0,9.0,0.0,1.0,0.0,3.0,0.0,1.0,0.0,0.0,1.0,1.0,0.0,0.0,5.0,4.0,0.0,7.0,1.0,1.0,17.0,7.0,8.0,6.0,0.0,1.0,15.0,0.0,1.0,0.0,0.0,4.0,5.0,1.0,1.0,4.0,0.0,0.0,0.0,16.0,9.0,1.0,2.0,1.0,5.0,2.0,0.0,15.0,35.0,0.0,1.0,0.0,0.0,5.0,4.0,4.0,11.0,10.0,2.0,1.0,1.0,0.0,2.0,3.0,0.0,4.0,0.0,2.0,1.0,0.0,3.0,16.0,2.0,14.0,2.0,3.0,5.0,1.0,6.0,22.0,0.0,8.0,4.0,5.0,9.0,0.0,3.0,1.0,0.0,4.0,0.0,4.0,1.0,3.0,3.0,6.0,1.0,24.0,12.0,1.0,0.0,10.0,0.0,3.0,3.0,26.0,6.0,2.0,3.0,3.0,52.0,0.0,0.0,2.0,26.0,5.0,1.0,2.0,0.0,4.0,1.0,9.0,40.0,0.0,0.0,2.0,1.0,0.0,0.0,7.0,1.0,2.0,6.0,0.0,20.0,1.0,18.0,2.0,9.0,0.0,2.0,6.0,4.0,4.0,15.0,1.0,5.0,0.0,14.0,0.0,2.0,16.0,4.0,2.0,10.0,2.0,1.0,6.0,0.0,30.0,4.0,3.0,0.0,6.0,1.0,6.0,0.0,4.0,0.0,4.0,0.0,2.0,0.0,13.0,0.0,2.0,1.0,1.0,10.0,11.0,26.0,4.0,1.0,9.0,0.0,1.0,13.0,1.0,1.0,14.0,1.0,1.0,6.0,2.0,5.0,1.0,0.0,2.0,13.0,10.0,0.0,3.0,1.0,0.0,0.0,1.0,1.0,1.0,0.0,1.0,3.0,1.0,3.0,1.0,0.0,0.0,0.0,1.0,6.0,15.0,2.0,0.0,0.0,2.0,3.0,1.0,0.0,1.0,2.0,0.0,3.0,1.0,14.0,3.0,0.0,1.0,7.0,1.0,1.0,49.0,16.0,2.0,1.0,8.0,4.0,0.0,1.0,14.0,0.0,4.0,4.0,1.0,1.0,2.0,10.0,3.0,6.0,1.0,10.0,2.0,0.0,0.0,4.0,0.0,2.0,1.0,0.0,3.0,5.0,0.0,1.0,0.0,0.0,2.0,1.0,3.0,1.0,6.0,0.0,8.0,3.0,4.0,4.0,1.0,3.0,0.0,0.0,7.0,3.0,6.0,1.0,2.0,0.0,1.0,8.0,0.0,0.0,0.0,4.0,9.0,2.0,0.0,0.0,37.0,1.0,4.0,3.0,4.0,19.0,4.0,0.0,5.0,6.0,0.0,0.0,6.0,14.0,2.0,7.0,0.0,9.0,3.0,1.0,12.0,4.0,0.0,0.0,0.0,1.0,12.0,3.0,5.0,0.0,0.0,0.0,2.0,7.0,4.0,24.0,16.0,10.0,0.0,5.0,3.0,0.0,10.0,0.0,0.0,5.0,0.0,6.0,3.0,7.0,0.0,0.0,0.0,9.0,1.0,6.0,5.0,8.0,2.0,0.0,1.0,1.0,3.0,4.0,4.0,1.0,16.0,11.0,1.0,3.0,1.0,0.0,12.0,11.0,2.0,0.0,8.0,4.0,0.0,1.0,12.0,1.0,1.0,15.0,3.0,0.0,4.0,7.0,1.0,9.0,0.0,4.0,5.0,11.0,1.0,55.0,9.0,31.0,1.0,5.0,2.0,3.0,10.0,2.0,0.0,11.0,6.0,0.0,0.0,1.0,15.0,3.0,10.0,0.0,2.0,4.0,21.0,0.0,0.0,1.0,12.0,0.0,5.0,3.0,1.0,10.0,19.0,7.0,3.0,4.0,0.0,1.0,0.0,3.0,4.0,1.0,19.0,0.0,1.0,13.0,9.0,0.0,4.0,6.0,2.0,10.0,5.0,0.0,4.0,0.0,18.0,4.0,6.0,1.0,5.0,23.0,2.0,1.0,8.0,17.0,5.0,1.0,10.0,0.0,6.0,1.0,2.0,0.0,0.0,2.0,8.0,0.0,0.0,2.0,11.0,2.0,49.0,7.0,3.0,4.0,0.0,0.0,2.0,4.0,3.0,0.0,1.0,5.0,14.0,3.0,3.0,1.0,1.0,8.0,0.0,1.0,2.0,0.0,2.0,1.0,1.0,0.0,2.0,0.0,2.0,1.0,3.0,1.0,1.0,15.0,0.0,1.0,0.0,0.0,1.0,6.0,6.0,0.0,15.0,7.0,2.0,8.0,0.0,2.0,1.0,0.0,2.0,2.0,15.0,1.0,36.0,4.0,4.0,1.0,0.0,5.0,4.0,0.0,11.0,0.0,0.0,1.0,0.0,0.0,1.0,0.0,3.0,3.0,4.0,2.0,0.0,0.0,0.0,1.0,2.0,0.0,6.0,11.0,0.0,0.0,101.0,0.0,1.0,0.0,1.0,0.0,1.0,25.0,6.0,9.0,5.0,3.0,2.0,4.0,0.0,3.0,18.0,26.0,0.0,2.0,16.0,3.0,11.0,4.0,34.0,2.0,11.0,0.0,5.0,9.0,4.0,0.0,14.0,2.0,0.0,2.0,0.0,1.0,0.0,2.0,0.0,0.0,5.0,13.0,0.0,5.0,0.0,22.0,4.0,1.0,0.0,1.0,0.0,14.0,0.0,0.0,7.0,3.0,0.0,0.0,1.0,0.0,0.0,0.0,9.0,0.0,0.0,4.0,0.0,0.0,0.0,3.0,12.0,0.0,0.0,1.0,2.0,1.0,1.0,39.0,9.0,0.0,2.0,5.0,0.0,4.0,0.0,2.0,10.0,12.0,10.0,2.0,0.0,2.0,4.0,0.0,5.0,0.0,0.0,12.0,3.0,0.0,0.0,0.0,1.0,0.0,0.0,53.0,5.0,3.0,1.0,0.0,16.0,3.0,0.0,0.0,1.0,0.0,2.0,60.0,2.0,3.0,1.0,26.0,6.0,1.0,3.0,18.0,0.0,0.0,0.0,0.0,5.0,21.0,0.0,1.0,3.0,2.0,3.0,0.0,0.0,0.0,4.0,0.0,0.0,4.0,8.0,0.0,5.0,1.0,0.0,0.0,10.0,1.0,1.0,5.0,2.0,2.0,0.0,4.0,3.0,0.0,0.0,1.0,3.0,0.0,18.0,6.0,0.0,1.0,0.0,0.0,0.0,0.0,6.0,3.0,3.0,0.0,0.0,0.0,4.0,0.0,4.0,1.0,0.0,0.0,0.0,1.0,0.0,0.0,0.0,1.0,2.0,9.0,13.0,0.0,3.0,1.0,32.0,1.0,2.0,14.0,0.0,0.0,0.0,1.0,1.0,1.0,6.0,0.0,1.0,0.0,12.0,1.0,2.0,2.0,2.0,1.0,25.0,5.0,1.0,8.0,16.0,2.0,0.0,0.0,9.0,0.0,4.0,0.0,7.0,1.0,18.0,0.0,17.0,3.0,3.0,1.0,2.0,0.0,0.0,1.0,3.0,0.0,13.0,0.0,0.0,0.0,0.0,16.0,7.0,8.0,4.0,5.0,9.0,0.0,0.0,0.0,4.0,53.0,0.0,0.0,0.0,3.0,0.0,2.0,35.0,1.0,0.0,3.0,0.0,0.0,0.0,11.0,0.0,23.0,0.0,0.0,1.0,5.0,2.0,0.0,3.0,0.0,2.0,0.0,0.0,2.0,0.0,0.0,0.0,1.0,8.0,4.0,0.0,0.0,1.0,0.0,1.0,1.0,1.0,17.0,10.0,1.0,1.0,0.0,6.0,2.0,5.0,0.0,0.0,4.0,2.0,1.0,0.0,1.0,0.0,2.0,5.0,0.0,0.0,0.0,0.0,0.0,2.0,15.0,0.0,8.0,8.0,33.0,4.0,1.0,0.0,0.0,7.0,10.0,6.0,5.0,3.0,0.0,1.0,0.0,0.0,0.0,0.0,5.0,2.0,4.0,1.0,0.0,2.0,5.0,0.0,3.0,0.0,15.0,0.0,0.0,0.0,1.0,3.0,2.0,1.0,0.0,0.0,0.0,0.0,6.0,4.0,1.0,0.0,2.0,4.0,0.0,3.0,3.0,15.0,5.0,5.0,0.0,24.0,0.0,23.0,24.0,1.0,1.0,26.0,8.0,23.0,3.0,0.0,0.0,2.0,9.0,4.0,0.0,5.0,0.0,16.0,6.0,0.0,1.0,14.0,2.0,2.0,1.0,0.0,0.0,6.0,6.0,0.0,0.0,1.0,0.0,10.0,4.0,6.0,19.0,1.0,2.0,2.0,0.0,1.0,0.0,0.0,5.0,0.0,2.0,1.0,8.0,3.0,0.0,1.0,5.0,3.0,1.0,0.0,1.0,1.0,1.0,18.0,0.0,0.0,1.0,5.0],\"xaxis\":\"x2\",\"yaxis\":\"y2\",\"type\":\"violin\"}],                        {\"template\":{\"data\":{\"bar\":[{\"error_x\":{\"color\":\"#2a3f5f\"},\"error_y\":{\"color\":\"#2a3f5f\"},\"marker\":{\"line\":{\"color\":\"#E5ECF6\",\"width\":0.5},\"pattern\":{\"fillmode\":\"overlay\",\"size\":10,\"solidity\":0.2}},\"type\":\"bar\"}],\"barpolar\":[{\"marker\":{\"line\":{\"color\":\"#E5ECF6\",\"width\":0.5},\"pattern\":{\"fillmode\":\"overlay\",\"size\":10,\"solidity\":0.2}},\"type\":\"barpolar\"}],\"carpet\":[{\"aaxis\":{\"endlinecolor\":\"#2a3f5f\",\"gridcolor\":\"white\",\"linecolor\":\"white\",\"minorgridcolor\":\"white\",\"startlinecolor\":\"#2a3f5f\"},\"baxis\":{\"endlinecolor\":\"#2a3f5f\",\"gridcolor\":\"white\",\"linecolor\":\"white\",\"minorgridcolor\":\"white\",\"startlinecolor\":\"#2a3f5f\"},\"type\":\"carpet\"}],\"choropleth\":[{\"colorbar\":{\"outlinewidth\":0,\"ticks\":\"\"},\"type\":\"choropleth\"}],\"contour\":[{\"colorbar\":{\"outlinewidth\":0,\"ticks\":\"\"},\"colorscale\":[[0.0,\"#0d0887\"],[0.1111111111111111,\"#46039f\"],[0.2222222222222222,\"#7201a8\"],[0.3333333333333333,\"#9c179e\"],[0.4444444444444444,\"#bd3786\"],[0.5555555555555556,\"#d8576b\"],[0.6666666666666666,\"#ed7953\"],[0.7777777777777778,\"#fb9f3a\"],[0.8888888888888888,\"#fdca26\"],[1.0,\"#f0f921\"]],\"type\":\"contour\"}],\"contourcarpet\":[{\"colorbar\":{\"outlinewidth\":0,\"ticks\":\"\"},\"type\":\"contourcarpet\"}],\"heatmap\":[{\"colorbar\":{\"outlinewidth\":0,\"ticks\":\"\"},\"colorscale\":[[0.0,\"#0d0887\"],[0.1111111111111111,\"#46039f\"],[0.2222222222222222,\"#7201a8\"],[0.3333333333333333,\"#9c179e\"],[0.4444444444444444,\"#bd3786\"],[0.5555555555555556,\"#d8576b\"],[0.6666666666666666,\"#ed7953\"],[0.7777777777777778,\"#fb9f3a\"],[0.8888888888888888,\"#fdca26\"],[1.0,\"#f0f921\"]],\"type\":\"heatmap\"}],\"heatmapgl\":[{\"colorbar\":{\"outlinewidth\":0,\"ticks\":\"\"},\"colorscale\":[[0.0,\"#0d0887\"],[0.1111111111111111,\"#46039f\"],[0.2222222222222222,\"#7201a8\"],[0.3333333333333333,\"#9c179e\"],[0.4444444444444444,\"#bd3786\"],[0.5555555555555556,\"#d8576b\"],[0.6666666666666666,\"#ed7953\"],[0.7777777777777778,\"#fb9f3a\"],[0.8888888888888888,\"#fdca26\"],[1.0,\"#f0f921\"]],\"type\":\"heatmapgl\"}],\"histogram\":[{\"marker\":{\"pattern\":{\"fillmode\":\"overlay\",\"size\":10,\"solidity\":0.2}},\"type\":\"histogram\"}],\"histogram2d\":[{\"colorbar\":{\"outlinewidth\":0,\"ticks\":\"\"},\"colorscale\":[[0.0,\"#0d0887\"],[0.1111111111111111,\"#46039f\"],[0.2222222222222222,\"#7201a8\"],[0.3333333333333333,\"#9c179e\"],[0.4444444444444444,\"#bd3786\"],[0.5555555555555556,\"#d8576b\"],[0.6666666666666666,\"#ed7953\"],[0.7777777777777778,\"#fb9f3a\"],[0.8888888888888888,\"#fdca26\"],[1.0,\"#f0f921\"]],\"type\":\"histogram2d\"}],\"histogram2dcontour\":[{\"colorbar\":{\"outlinewidth\":0,\"ticks\":\"\"},\"colorscale\":[[0.0,\"#0d0887\"],[0.1111111111111111,\"#46039f\"],[0.2222222222222222,\"#7201a8\"],[0.3333333333333333,\"#9c179e\"],[0.4444444444444444,\"#bd3786\"],[0.5555555555555556,\"#d8576b\"],[0.6666666666666666,\"#ed7953\"],[0.7777777777777778,\"#fb9f3a\"],[0.8888888888888888,\"#fdca26\"],[1.0,\"#f0f921\"]],\"type\":\"histogram2dcontour\"}],\"mesh3d\":[{\"colorbar\":{\"outlinewidth\":0,\"ticks\":\"\"},\"type\":\"mesh3d\"}],\"parcoords\":[{\"line\":{\"colorbar\":{\"outlinewidth\":0,\"ticks\":\"\"}},\"type\":\"parcoords\"}],\"pie\":[{\"automargin\":true,\"type\":\"pie\"}],\"scatter\":[{\"marker\":{\"colorbar\":{\"outlinewidth\":0,\"ticks\":\"\"}},\"type\":\"scatter\"}],\"scatter3d\":[{\"line\":{\"colorbar\":{\"outlinewidth\":0,\"ticks\":\"\"}},\"marker\":{\"colorbar\":{\"outlinewidth\":0,\"ticks\":\"\"}},\"type\":\"scatter3d\"}],\"scattercarpet\":[{\"marker\":{\"colorbar\":{\"outlinewidth\":0,\"ticks\":\"\"}},\"type\":\"scattercarpet\"}],\"scattergeo\":[{\"marker\":{\"colorbar\":{\"outlinewidth\":0,\"ticks\":\"\"}},\"type\":\"scattergeo\"}],\"scattergl\":[{\"marker\":{\"colorbar\":{\"outlinewidth\":0,\"ticks\":\"\"}},\"type\":\"scattergl\"}],\"scattermapbox\":[{\"marker\":{\"colorbar\":{\"outlinewidth\":0,\"ticks\":\"\"}},\"type\":\"scattermapbox\"}],\"scatterpolar\":[{\"marker\":{\"colorbar\":{\"outlinewidth\":0,\"ticks\":\"\"}},\"type\":\"scatterpolar\"}],\"scatterpolargl\":[{\"marker\":{\"colorbar\":{\"outlinewidth\":0,\"ticks\":\"\"}},\"type\":\"scatterpolargl\"}],\"scatterternary\":[{\"marker\":{\"colorbar\":{\"outlinewidth\":0,\"ticks\":\"\"}},\"type\":\"scatterternary\"}],\"surface\":[{\"colorbar\":{\"outlinewidth\":0,\"ticks\":\"\"},\"colorscale\":[[0.0,\"#0d0887\"],[0.1111111111111111,\"#46039f\"],[0.2222222222222222,\"#7201a8\"],[0.3333333333333333,\"#9c179e\"],[0.4444444444444444,\"#bd3786\"],[0.5555555555555556,\"#d8576b\"],[0.6666666666666666,\"#ed7953\"],[0.7777777777777778,\"#fb9f3a\"],[0.8888888888888888,\"#fdca26\"],[1.0,\"#f0f921\"]],\"type\":\"surface\"}],\"table\":[{\"cells\":{\"fill\":{\"color\":\"#EBF0F8\"},\"line\":{\"color\":\"white\"}},\"header\":{\"fill\":{\"color\":\"#C8D4E3\"},\"line\":{\"color\":\"white\"}},\"type\":\"table\"}]},\"layout\":{\"annotationdefaults\":{\"arrowcolor\":\"#2a3f5f\",\"arrowhead\":0,\"arrowwidth\":1},\"autotypenumbers\":\"strict\",\"coloraxis\":{\"colorbar\":{\"outlinewidth\":0,\"ticks\":\"\"}},\"colorscale\":{\"diverging\":[[0,\"#8e0152\"],[0.1,\"#c51b7d\"],[0.2,\"#de77ae\"],[0.3,\"#f1b6da\"],[0.4,\"#fde0ef\"],[0.5,\"#f7f7f7\"],[0.6,\"#e6f5d0\"],[0.7,\"#b8e186\"],[0.8,\"#7fbc41\"],[0.9,\"#4d9221\"],[1,\"#276419\"]],\"sequential\":[[0.0,\"#0d0887\"],[0.1111111111111111,\"#46039f\"],[0.2222222222222222,\"#7201a8\"],[0.3333333333333333,\"#9c179e\"],[0.4444444444444444,\"#bd3786\"],[0.5555555555555556,\"#d8576b\"],[0.6666666666666666,\"#ed7953\"],[0.7777777777777778,\"#fb9f3a\"],[0.8888888888888888,\"#fdca26\"],[1.0,\"#f0f921\"]],\"sequentialminus\":[[0.0,\"#0d0887\"],[0.1111111111111111,\"#46039f\"],[0.2222222222222222,\"#7201a8\"],[0.3333333333333333,\"#9c179e\"],[0.4444444444444444,\"#bd3786\"],[0.5555555555555556,\"#d8576b\"],[0.6666666666666666,\"#ed7953\"],[0.7777777777777778,\"#fb9f3a\"],[0.8888888888888888,\"#fdca26\"],[1.0,\"#f0f921\"]]},\"colorway\":[\"#636efa\",\"#EF553B\",\"#00cc96\",\"#ab63fa\",\"#FFA15A\",\"#19d3f3\",\"#FF6692\",\"#B6E880\",\"#FF97FF\",\"#FECB52\"],\"font\":{\"color\":\"#2a3f5f\"},\"geo\":{\"bgcolor\":\"white\",\"lakecolor\":\"white\",\"landcolor\":\"#E5ECF6\",\"showlakes\":true,\"showland\":true,\"subunitcolor\":\"white\"},\"hoverlabel\":{\"align\":\"left\"},\"hovermode\":\"closest\",\"mapbox\":{\"style\":\"light\"},\"paper_bgcolor\":\"white\",\"plot_bgcolor\":\"#E5ECF6\",\"polar\":{\"angularaxis\":{\"gridcolor\":\"white\",\"linecolor\":\"white\",\"ticks\":\"\"},\"bgcolor\":\"#E5ECF6\",\"radialaxis\":{\"gridcolor\":\"white\",\"linecolor\":\"white\",\"ticks\":\"\"}},\"scene\":{\"xaxis\":{\"backgroundcolor\":\"#E5ECF6\",\"gridcolor\":\"white\",\"gridwidth\":2,\"linecolor\":\"white\",\"showbackground\":true,\"ticks\":\"\",\"zerolinecolor\":\"white\"},\"yaxis\":{\"backgroundcolor\":\"#E5ECF6\",\"gridcolor\":\"white\",\"gridwidth\":2,\"linecolor\":\"white\",\"showbackground\":true,\"ticks\":\"\",\"zerolinecolor\":\"white\"},\"zaxis\":{\"backgroundcolor\":\"#E5ECF6\",\"gridcolor\":\"white\",\"gridwidth\":2,\"linecolor\":\"white\",\"showbackground\":true,\"ticks\":\"\",\"zerolinecolor\":\"white\"}},\"shapedefaults\":{\"line\":{\"color\":\"#2a3f5f\"}},\"ternary\":{\"aaxis\":{\"gridcolor\":\"white\",\"linecolor\":\"white\",\"ticks\":\"\"},\"baxis\":{\"gridcolor\":\"white\",\"linecolor\":\"white\",\"ticks\":\"\"},\"bgcolor\":\"#E5ECF6\",\"caxis\":{\"gridcolor\":\"white\",\"linecolor\":\"white\",\"ticks\":\"\"}},\"title\":{\"x\":0.05},\"xaxis\":{\"automargin\":true,\"gridcolor\":\"white\",\"linecolor\":\"white\",\"ticks\":\"\",\"title\":{\"standoff\":15},\"zerolinecolor\":\"white\",\"zerolinewidth\":2},\"yaxis\":{\"automargin\":true,\"gridcolor\":\"white\",\"linecolor\":\"white\",\"ticks\":\"\",\"title\":{\"standoff\":15},\"zerolinecolor\":\"white\",\"zerolinewidth\":2}}},\"xaxis\":{\"anchor\":\"y\",\"domain\":[0.0,1.0],\"title\":{\"text\":\"Frequency\"}},\"yaxis\":{\"anchor\":\"x\",\"domain\":[0.0,0.8316],\"title\":{\"text\":\"count\"}},\"xaxis2\":{\"anchor\":\"y2\",\"domain\":[0.0,1.0],\"matches\":\"x\",\"showticklabels\":false,\"showgrid\":true},\"yaxis2\":{\"anchor\":\"x2\",\"domain\":[0.8416,1.0],\"matches\":\"y2\",\"showticklabels\":false,\"showline\":false,\"ticks\":\"\",\"showgrid\":false},\"legend\":{\"tracegroupgap\":0},\"title\":{\"text\":\"Frequency of purchase\"},\"barmode\":\"relative\"},                        {\"responsive\": true}                    ).then(function(){\n",
              "                            \n",
              "var gd = document.getElementById('8bd023bf-274f-43a5-800a-e886a732cd7f');\n",
              "var x = new MutationObserver(function (mutations, observer) {{\n",
              "        var display = window.getComputedStyle(gd).display;\n",
              "        if (!display || display === 'none') {{\n",
              "            console.log([gd, 'removed!']);\n",
              "            Plotly.purge(gd);\n",
              "            observer.disconnect();\n",
              "        }}\n",
              "}});\n",
              "\n",
              "// Listen for the removal of the full notebook cells\n",
              "var notebookContainer = gd.closest('#notebook-container');\n",
              "if (notebookContainer) {{\n",
              "    x.observe(notebookContainer, {childList: true});\n",
              "}}\n",
              "\n",
              "// Listen for the clearing of the current output cell\n",
              "var outputEl = gd.closest('.output');\n",
              "if (outputEl) {{\n",
              "    x.observe(outputEl, {childList: true});\n",
              "}}\n",
              "\n",
              "                        })                };                            </script>        </div>\n",
              "</body>\n",
              "</html>"
            ]
          },
          "metadata": {}
        }
      ],
      "source": [
        "px.histogram(rfm, x=rfm['frequency'],title='Frequency of purchase',\n",
        "                   labels={'frequency':'Frequency'}, \n",
        "                   opacity=0.8, marginal='violin',\n",
        "                   color_discrete_sequence=['indianred'])"
      ]
    },
    {
      "cell_type": "markdown",
      "id": "ef957a84",
      "metadata": {
        "papermill": {
          "duration": 0.089222,
          "end_time": "2021-11-09T00:08:23.221643",
          "exception": false,
          "start_time": "2021-11-09T00:08:23.132421",
          "status": "completed"
        },
        "tags": [],
        "id": "ef957a84"
      },
      "source": [
        "Here we find an important point which can influence our model, the vast majority of buyers only made one transaction in their entire lifetime in the company (remember that frequency is calculated by subtracting the number of purchases minus 1)."
      ]
    },
    {
      "cell_type": "code",
      "execution_count": 19,
      "id": "792ff67c",
      "metadata": {
        "execution": {
          "iopub.execute_input": "2021-11-09T00:08:23.410140Z",
          "iopub.status.busy": "2021-11-09T00:08:23.408964Z",
          "iopub.status.idle": "2021-11-09T00:08:24.020146Z",
          "shell.execute_reply": "2021-11-09T00:08:24.020699Z",
          "shell.execute_reply.started": "2021-11-09T00:05:13.864124Z"
        },
        "papermill": {
          "duration": 0.709891,
          "end_time": "2021-11-09T00:08:24.020881",
          "exception": false,
          "start_time": "2021-11-09T00:08:23.310990",
          "status": "completed"
        },
        "tags": [],
        "colab": {
          "base_uri": "https://localhost:8080/",
          "height": 542
        },
        "id": "792ff67c",
        "outputId": "579c5406-3412-4188-db85-5d7cb9319219"
      },
      "outputs": [
        {
          "output_type": "display_data",
          "data": {
            "text/html": [
              "<html>\n",
              "<head><meta charset=\"utf-8\" /></head>\n",
              "<body>\n",
              "    <div>            <script src=\"https://cdnjs.cloudflare.com/ajax/libs/mathjax/2.7.5/MathJax.js?config=TeX-AMS-MML_SVG\"></script><script type=\"text/javascript\">if (window.MathJax) {MathJax.Hub.Config({SVG: {font: \"STIX-Web\"}});}</script>                <script type=\"text/javascript\">window.PlotlyConfig = {MathJaxConfig: 'local'};</script>\n",
              "        <script src=\"https://cdn.plot.ly/plotly-2.8.3.min.js\"></script>                <div id=\"322090b8-1f40-4d3a-bcca-b06a9b189ab2\" class=\"plotly-graph-div\" style=\"height:525px; width:100%;\"></div>            <script type=\"text/javascript\">                                    window.PLOTLYENV=window.PLOTLYENV || {};                                    if (document.getElementById(\"322090b8-1f40-4d3a-bcca-b06a9b189ab2\")) {                    Plotly.newPlot(                        \"322090b8-1f40-4d3a-bcca-b06a9b189ab2\",                        [{\"alignmentgroup\":\"True\",\"bingroup\":\"x\",\"hovertemplate\":\"Recency=%{x}<br>count=%{y}<extra></extra>\",\"legendgroup\":\"\",\"marker\":{\"color\":\"indianred\",\"opacity\":0.8,\"pattern\":{\"shape\":\"\"}},\"name\":\"\",\"nbinsx\":50,\"offsetgroup\":\"\",\"orientation\":\"v\",\"showlegend\":false,\"x\":[58.0,58.0,52.0,81.0,0.0,0.0,51.0,29.0,0.0,50.0,58.0,50.0,105.0,97.0,87.0,57.0,106.0,19.0,15.0,0.0,0.0,0.0,0.0,33.0,89.0,86.0,32.0,52.0,80.0,13.0,4.0,39.0,62.0,64.0,92.0,16.0,24.0,13.0,0.0,4.0,0.0,81.0,37.0,0.0,92.0,0.0,51.0,22.0,83.0,0.0,14.0,0.0,75.0,0.0,0.0,50.0,67.0,0.0,0.0,97.0,31.0,66.0,70.0,28.0,0.0,66.0,48.0,35.0,72.0,0.0,105.0,74.0,4.0,0.0,70.0,89.0,66.0,55.0,53.0,67.0,50.0,36.0,77.0,0.0,94.0,19.0,68.0,42.0,94.0,0.0,105.0,18.0,6.0,37.0,0.0,0.0,0.0,21.0,57.0,0.0,0.0,0.0,60.0,46.0,75.0,0.0,0.0,52.0,93.0,30.0,53.0,60.0,0.0,0.0,9.0,40.0,26.0,43.0,22.0,0.0,0.0,71.0,2.0,0.0,105.0,99.0,23.0,93.0,50.0,70.0,86.0,0.0,0.0,68.0,84.0,11.0,95.0,92.0,0.0,0.0,0.0,10.0,0.0,105.0,0.0,49.0,4.0,80.0,0.0,0.0,80.0,5.0,0.0,93.0,0.0,30.0,0.0,82.0,0.0,0.0,64.0,0.0,0.0,85.0,0.0,0.0,0.0,54.0,0.0,75.0,23.0,16.0,59.0,28.0,0.0,1.0,102.0,95.0,21.0,13.0,64.0,44.0,0.0,84.0,96.0,0.0,16.0,0.0,14.0,2.0,0.0,50.0,99.0,102.0,36.0,22.0,0.0,0.0,26.0,4.0,43.0,0.0,18.0,0.0,0.0,1.0,59.0,0.0,0.0,15.0,101.0,0.0,2.0,19.0,0.0,61.0,0.0,0.0,0.0,0.0,92.0,0.0,36.0,0.0,11.0,6.0,34.0,0.0,10.0,70.0,100.0,60.0,0.0,47.0,0.0,48.0,105.0,40.0,17.0,101.0,0.0,79.0,95.0,0.0,13.0,61.0,16.0,87.0,0.0,28.0,35.0,92.0,78.0,101.0,31.0,0.0,0.0,26.0,11.0,0.0,0.0,0.0,92.0,15.0,0.0,0.0,96.0,0.0,90.0,41.0,0.0,0.0,78.0,27.0,96.0,0.0,61.0,10.0,55.0,44.0,19.0,8.0,5.0,5.0,91.0,7.0,67.0,2.0,52.0,0.0,68.0,86.0,56.0,9.0,0.0,11.0,69.0,81.0,91.0,6.0,96.0,78.0,85.0,0.0,18.0,15.0,54.0,41.0,0.0,78.0,9.0,0.0,0.0,0.0,0.0,88.0,7.0,103.0,50.0,0.0,0.0,95.0,16.0,94.0,0.0,38.0,56.0,25.0,4.0,66.0,16.0,94.0,32.0,16.0,102.0,106.0,103.0,29.0,9.0,0.0,0.0,0.0,14.0,0.0,56.0,0.0,57.0,50.0,94.0,11.0,20.0,0.0,0.0,30.0,79.0,0.0,88.0,23.0,74.0,0.0,99.0,102.0,15.0,10.0,100.0,0.0,104.0,0.0,19.0,62.0,0.0,8.0,72.0,63.0,9.0,9.0,75.0,30.0,85.0,93.0,45.0,0.0,0.0,89.0,0.0,66.0,6.0,3.0,0.0,0.0,0.0,45.0,0.0,0.0,0.0,0.0,77.0,29.0,0.0,105.0,105.0,74.0,0.0,0.0,0.0,49.0,10.0,59.0,0.0,28.0,89.0,98.0,0.0,1.0,3.0,33.0,0.0,25.0,58.0,0.0,0.0,0.0,35.0,0.0,0.0,0.0,0.0,56.0,0.0,0.0,83.0,100.0,0.0,32.0,73.0,11.0,75.0,53.0,0.0,58.0,9.0,90.0,32.0,36.0,39.0,9.0,6.0,0.0,0.0,9.0,59.0,0.0,30.0,0.0,53.0,0.0,5.0,42.0,22.0,0.0,61.0,67.0,21.0,24.0,0.0,27.0,0.0,7.0,11.0,22.0,0.0,0.0,105.0,56.0,2.0,86.0,0.0,18.0,103.0,5.0,19.0,31.0,19.0,29.0,9.0,0.0,0.0,44.0,98.0,56.0,80.0,105.0,76.0,73.0,95.0,95.0,81.0,3.0,0.0,52.0,0.0,80.0,0.0,54.0,0.0,77.0,93.0,4.0,8.0,68.0,0.0,0.0,0.0,0.0,10.0,77.0,53.0,64.0,32.0,99.0,30.0,0.0,35.0,51.0,58.0,57.0,24.0,80.0,76.0,99.0,4.0,7.0,28.0,0.0,4.0,10.0,0.0,9.0,21.0,0.0,5.0,18.0,52.0,68.0,0.0,0.0,0.0,6.0,49.0,28.0,0.0,0.0,38.0,0.0,0.0,22.0,16.0,9.0,15.0,65.0,87.0,86.0,0.0,6.0,105.0,0.0,63.0,78.0,86.0,0.0,23.0,102.0,105.0,0.0,73.0,91.0,84.0,45.0,0.0,73.0,0.0,13.0,103.0,18.0,101.0,0.0,87.0,9.0,103.0,0.0,91.0,4.0,0.0,33.0,6.0,46.0,53.0,0.0,33.0,103.0,101.0,3.0,99.0,10.0,74.0,0.0,38.0,60.0,103.0,26.0,0.0,36.0,0.0,15.0,73.0,0.0,0.0,0.0,4.0,0.0,0.0,104.0,104.0,36.0,0.0,53.0,43.0,65.0,51.0,49.0,0.0,83.0,15.0,52.0,0.0,0.0,4.0,37.0,88.0,0.0,104.0,84.0,53.0,0.0,91.0,37.0,0.0,0.0,84.0,23.0,7.0,89.0,104.0,17.0,16.0,102.0,40.0,0.0,0.0,57.0,0.0,40.0,0.0,84.0,104.0,61.0,78.0,8.0,0.0,91.0,51.0,14.0,104.0,0.0,66.0,16.0,0.0,104.0,82.0,3.0,71.0,51.0,21.0,59.0,10.0,49.0,52.0,0.0,85.0,30.0,20.0,4.0,20.0,20.0,0.0,58.0,55.0,61.0,99.0,95.0,48.0,102.0,5.0,64.0,0.0,50.0,0.0,14.0,19.0,52.0,0.0,0.0,0.0,0.0,82.0,25.0,2.0,52.0,45.0,78.0,78.0,0.0,0.0,3.0,30.0,0.0,0.0,104.0,106.0,59.0,61.0,103.0,85.0,60.0,0.0,84.0,0.0,0.0,0.0,105.0,70.0,100.0,85.0,66.0,53.0,0.0,0.0,101.0,45.0,0.0,64.0,83.0,76.0,93.0,0.0,40.0,90.0,9.0,71.0,102.0,0.0,0.0,89.0,0.0,84.0,0.0,86.0,60.0,0.0,0.0,0.0,21.0,9.0,42.0,0.0,91.0,0.0,0.0,11.0,0.0,93.0,0.0,27.0,47.0,42.0,97.0,71.0,54.0,60.0,55.0,92.0,0.0,0.0,15.0,80.0,0.0,13.0,101.0,39.0,21.0,48.0,39.0,0.0,48.0,65.0,42.0,85.0,42.0,15.0,0.0,26.0,88.0,0.0,14.0,52.0,19.0,53.0,72.0,71.0,0.0,40.0,0.0,103.0,103.0,22.0,0.0,52.0,99.0,0.0,0.0,0.0,0.0,90.0,39.0,0.0,12.0,41.0,0.0,13.0,27.0,0.0,84.0,0.0,41.0,0.0,86.0,0.0,61.0,105.0,15.0,20.0,48.0,102.0,0.0,0.0,48.0,85.0,97.0,94.0,0.0,104.0,6.0,73.0,32.0,0.0,0.0,77.0,0.0,0.0,71.0,17.0,0.0,66.0,13.0,103.0,17.0,0.0,0.0,0.0,89.0,33.0,88.0,9.0,0.0,12.0,0.0,82.0,35.0,79.0,0.0,80.0,61.0,0.0,55.0,72.0,10.0,9.0,85.0,6.0,0.0,33.0,79.0,0.0,72.0,0.0,55.0,91.0,0.0,3.0,48.0,59.0,0.0,31.0,101.0,105.0,36.0,105.0,0.0,0.0,9.0,0.0,0.0,35.0,83.0,75.0,81.0,0.0,75.0,0.0,55.0,83.0,0.0,86.0,0.0,15.0,32.0,0.0,0.0,73.0,70.0,40.0,65.0,31.0,62.0,76.0,0.0,37.0,58.0,27.0,53.0,0.0,46.0,90.0,0.0,68.0,82.0,55.0,53.0,20.0,0.0,102.0,10.0,0.0,86.0,95.0,5.0,104.0,57.0,2.0,0.0,12.0,75.0,0.0,0.0,98.0,0.0,101.0,81.0,0.0,0.0,35.0,81.0,0.0,0.0,79.0,0.0,88.0,0.0,0.0,30.0,0.0,19.0,0.0,0.0,0.0,9.0,0.0,0.0,0.0,0.0,0.0,53.0,0.0,49.0,38.0,21.0,60.0,56.0,0.0,26.0,0.0,0.0,23.0,0.0,0.0,18.0,0.0,96.0,5.0,50.0,19.0,35.0,15.0,0.0,102.0,65.0,0.0,67.0,0.0,3.0,0.0,67.0,31.0,0.0,0.0,0.0,22.0,106.0,34.0,42.0,88.0,37.0,8.0,0.0,63.0,101.0,30.0,93.0,29.0,12.0,105.0,102.0,0.0,0.0,7.0,67.0,37.0,99.0,95.0,102.0,0.0,3.0,89.0,0.0,0.0,0.0,68.0,104.0,100.0,72.0,10.0,9.0,84.0,5.0,28.0,83.0,70.0,0.0,25.0,0.0,39.0,4.0,49.0,11.0,33.0,19.0,0.0,34.0,2.0,103.0,0.0,82.0,86.0,30.0,33.0,0.0,101.0,28.0,7.0,54.0,9.0,3.0,80.0,68.0,80.0,20.0,64.0,4.0,105.0,0.0,2.0,7.0,13.0,95.0,37.0,16.0,67.0,93.0,30.0,39.0,38.0,99.0,57.0,0.0,57.0,72.0,11.0,97.0,96.0,27.0,0.0,98.0,12.0,2.0,0.0,104.0,50.0,56.0,0.0,36.0,54.0,40.0,76.0,85.0,0.0,23.0,21.0,21.0,57.0,71.0,103.0,0.0,46.0,76.0,88.0,82.0,57.0,18.0,0.0,52.0,95.0,1.0,0.0,52.0,25.0,33.0,0.0,93.0,18.0,0.0,76.0,0.0,12.0,74.0,0.0,11.0,3.0,91.0,72.0,27.0,20.0,50.0,7.0,86.0,22.0,59.0,0.0,53.0,51.0,0.0,49.0,85.0,0.0,10.0,89.0,1.0,101.0,9.0,5.0,0.0,62.0,87.0,8.0,84.0,56.0,85.0,16.0,0.0,59.0,0.0,103.0,0.0,84.0,0.0,22.0,104.0,100.0,0.0,92.0,0.0,15.0,32.0,75.0,53.0,30.0,0.0,86.0,34.0,103.0,104.0,95.0,33.0,77.0,62.0,18.0,1.0,0.0,86.0,106.0,46.0,72.0,71.0,0.0,0.0,27.0,40.0,51.0,0.0,0.0,99.0,92.0,0.0,29.0,76.0,52.0,18.0,65.0,0.0,18.0,0.0,0.0,0.0,101.0,0.0,0.0,18.0,83.0,0.0,92.0,40.0,24.0,84.0,95.0,96.0,36.0,25.0,0.0,51.0,0.0,14.0,31.0,101.0,13.0,0.0,0.0,85.0,49.0,38.0,96.0,49.0,87.0,0.0,99.0,68.0,62.0,28.0,95.0,65.0,0.0,0.0,82.0,66.0,17.0,96.0,0.0,104.0,51.0,0.0,0.0,61.0,2.0,0.0,19.0,11.0,16.0,0.0,35.0,105.0,20.0,0.0,0.0,48.0,9.0,31.0,0.0,0.0,54.0,0.0,0.0,57.0,52.0,105.0,78.0,35.0,0.0,12.0,57.0,92.0,0.0,0.0,14.0,12.0,88.0,46.0,39.0,0.0,100.0,83.0,73.0,52.0,25.0,0.0,51.0,0.0,64.0,7.0,80.0,19.0,51.0,73.0,56.0,0.0,37.0,9.0,100.0,99.0,36.0,4.0,4.0,0.0,46.0,13.0,101.0,104.0,0.0,0.0,72.0,71.0,21.0,44.0,37.0,28.0,55.0,0.0,8.0,92.0,80.0,0.0,57.0,64.0,40.0,9.0,104.0,0.0,104.0,5.0,77.0,87.0,69.0,53.0,82.0,0.0,0.0,106.0,0.0,103.0,44.0,84.0,89.0,37.0,0.0,0.0,0.0,105.0,66.0,0.0,57.0,67.0,103.0,26.0,63.0,5.0,53.0,88.0,0.0,0.0,0.0,6.0,51.0,0.0,0.0,36.0,0.0,30.0,105.0,75.0,61.0,0.0,75.0,52.0,58.0,11.0,0.0,53.0,13.0,22.0,4.0,8.0,9.0,99.0,62.0,92.0,6.0,46.0,0.0,63.0,37.0,80.0,5.0,101.0,86.0,15.0,0.0,12.0,0.0,0.0,0.0,102.0,57.0,35.0,14.0,88.0,2.0,15.0,82.0,0.0,0.0,0.0,87.0,0.0,0.0,0.0,54.0,0.0,91.0,82.0,0.0,83.0,0.0,0.0,99.0,34.0,64.0,26.0,0.0,29.0,12.0,15.0,53.0,50.0,0.0,33.0,0.0,27.0,4.0,81.0,96.0,100.0,29.0,75.0,45.0,95.0,0.0,87.0,78.0,0.0,77.0,92.0,9.0,104.0,66.0,2.0,0.0,0.0,65.0,85.0,105.0,29.0,78.0,0.0,41.0,101.0,0.0,90.0,13.0,37.0,63.0,91.0,14.0,0.0,37.0,0.0,0.0,0.0,28.0,14.0,85.0,0.0,0.0,3.0,0.0,31.0,20.0,29.0,69.0,18.0,46.0,17.0,0.0,10.0,6.0,0.0,51.0,18.0,75.0,11.0,91.0,0.0,5.0,0.0,8.0,33.0,33.0,0.0,84.0,19.0,100.0,0.0,0.0,0.0,12.0,94.0,0.0,54.0,13.0,33.0,17.0,72.0,103.0,10.0,32.0,38.0,34.0,51.0,62.0,7.0,0.0,59.0,41.0,6.0,33.0,0.0,36.0,0.0,88.0,7.0,95.0,19.0,0.0,76.0,93.0,67.0,0.0,4.0,95.0,85.0,0.0,92.0,100.0,101.0,95.0,0.0,3.0,86.0,71.0,0.0,18.0,62.0,99.0,21.0,101.0,2.0,5.0,18.0,104.0,75.0,64.0,3.0,0.0,56.0,30.0,77.0,0.0,0.0,38.0,0.0,18.0,0.0,73.0,71.0,0.0,77.0,0.0,0.0,13.0,74.0,63.0,37.0,35.0,39.0,17.0,22.0,0.0,0.0,12.0,101.0,104.0,104.0,0.0,19.0,83.0,0.0,80.0,85.0,77.0,100.0,0.0,0.0,34.0,94.0,84.0,0.0,96.0,11.0,86.0,11.0,105.0,53.0,51.0,0.0,88.0,41.0,102.0,10.0,0.0,90.0,34.0,103.0,42.0,94.0,6.0,0.0,5.0,51.0,7.0,0.0,38.0,0.0,0.0,0.0,76.0,0.0,50.0,75.0,80.0,100.0,61.0,4.0,102.0,0.0,105.0,0.0,105.0,59.0,0.0,0.0,6.0,102.0,0.0,0.0,0.0,13.0,23.0,0.0,102.0,0.0,79.0,5.0,58.0,69.0,0.0,97.0,102.0,0.0,106.0,32.0,91.0,105.0,48.0,23.0,14.0,0.0,0.0,49.0,8.0,47.0,0.0,0.0,10.0,62.0,44.0,70.0,83.0,58.0,0.0,26.0,87.0,49.0,105.0,48.0,0.0,9.0,70.0,4.0,15.0,39.0,0.0,0.0,80.0,98.0,80.0,26.0,0.0,46.0,6.0,83.0,0.0,65.0,0.0,105.0,89.0,0.0,102.0,13.0,73.0,17.0,54.0,1.0,0.0,17.0,91.0,21.0,2.0,2.0,90.0,6.0,103.0,0.0,82.0,12.0,81.0,25.0,1.0,77.0,21.0,22.0,10.0,0.0,0.0,31.0,0.0,40.0,55.0,0.0,104.0,0.0,47.0,99.0,62.0,0.0,0.0,98.0,45.0,0.0,75.0,35.0,0.0,105.0,90.0,23.0,0.0,66.0,97.0,85.0,96.0,51.0,0.0,36.0,103.0,59.0,75.0,0.0,69.0,46.0,81.0,0.0,25.0,62.0,38.0,59.0,92.0,16.0,60.0,16.0,38.0,32.0,85.0,5.0,77.0,61.0,31.0,58.0,99.0,56.0,74.0,13.0,67.0,0.0,7.0,19.0,39.0,29.0,38.0,12.0,8.0,0.0,19.0,0.0,0.0,62.0,84.0,104.0,0.0,11.0,4.0,33.0,0.0,65.0,71.0,0.0,14.0,0.0,0.0,0.0,26.0,73.0,28.0,0.0,31.0,80.0,102.0,0.0,23.0,0.0,0.0,95.0,15.0,89.0,102.0,102.0,27.0,0.0,40.0,103.0,104.0,89.0,104.0,0.0,99.0,22.0,37.0,103.0,104.0,0.0,78.0,44.0,4.0,49.0,9.0,90.0,92.0,0.0,78.0,0.0,46.0,65.0,46.0,85.0,30.0,0.0,0.0,0.0,69.0,67.0,33.0,18.0,41.0,0.0,41.0,77.0,0.0,101.0,0.0,1.0,56.0,0.0,79.0,12.0,37.0,54.0,26.0,0.0,100.0,64.0,39.0,71.0,0.0,54.0,0.0,0.0,0.0,22.0,0.0,17.0,31.0,3.0,38.0,1.0,0.0,5.0,9.0,9.0,0.0,0.0,7.0,15.0,41.0,0.0,38.0,0.0,3.0,33.0,0.0,23.0,0.0,0.0,51.0,0.0,10.0,0.0,63.0,0.0,57.0,52.0,18.0,0.0,2.0,0.0,11.0,97.0,75.0,60.0,0.0,0.0,0.0,0.0,86.0,96.0,30.0,18.0,40.0,69.0,103.0,0.0,72.0,98.0,0.0,0.0,24.0,104.0,71.0,49.0,0.0,55.0,47.0,40.0,103.0,3.0,0.0,15.0,54.0,85.0,91.0,103.0,68.0,0.0,43.0,89.0,83.0,45.0,0.0,14.0,55.0,12.0,0.0,7.0,0.0,65.0,31.0,0.0,52.0,104.0,99.0,70.0,46.0,0.0,0.0,55.0,54.0,51.0,59.0,61.0,90.0,73.0,0.0,51.0,9.0,19.0,0.0,0.0,71.0,88.0,78.0,53.0,57.0,9.0,65.0,100.0,103.0,0.0,38.0,59.0,21.0,84.0,29.0,76.0,48.0,0.0,98.0,51.0,69.0,101.0,74.0,64.0,65.0,96.0,0.0,6.0,50.0,0.0,57.0,3.0,28.0,27.0,91.0,101.0,87.0,46.0,52.0,73.0,63.0,14.0,20.0,42.0,25.0,33.0,102.0,84.0,101.0,74.0,0.0,8.0,17.0,78.0,67.0,95.0,77.0,0.0,15.0,0.0,6.0,41.0,0.0,95.0,0.0,55.0,101.0,0.0,105.0,0.0,7.0,94.0,0.0,66.0,84.0,91.0,84.0,0.0,81.0,89.0,4.0,104.0,92.0,0.0,102.0,64.0,0.0,104.0,8.0,84.0,61.0,68.0,94.0,63.0,70.0,6.0,95.0,13.0,0.0,11.0,0.0,104.0,15.0,96.0,12.0,43.0,54.0,60.0,11.0,0.0,86.0,23.0,0.0,89.0,74.0,0.0,0.0,0.0,102.0,0.0,0.0,0.0,76.0,0.0,88.0,70.0,52.0,0.0,44.0,0.0,0.0,44.0,28.0,4.0,101.0,52.0,95.0,0.0,60.0,75.0,17.0,12.0,0.0,0.0,0.0,0.0,52.0,105.0,102.0,104.0,86.0,17.0,22.0,0.0,0.0,0.0,22.0,43.0,2.0,77.0,42.0,11.0,98.0,0.0,81.0,78.0,75.0,101.0,0.0,85.0,6.0,0.0,63.0,0.0,0.0,15.0,0.0,33.0,0.0,0.0,88.0,95.0,0.0,0.0,80.0,95.0,69.0,105.0,46.0,45.0,97.0,0.0,80.0,0.0,105.0,0.0,84.0,62.0,60.0,16.0,44.0,2.0,0.0,101.0,0.0,2.0,76.0,0.0,104.0,0.0,71.0,65.0,3.0,64.0,58.0,0.0,53.0,87.0,0.0,0.0,51.0,101.0,83.0,69.0,0.0,52.0,22.0,35.0,64.0,64.0,0.0,53.0,26.0,68.0,37.0,0.0,31.0,59.0,0.0,7.0,44.0,64.0,97.0,104.0,0.0,87.0,0.0,0.0,20.0,65.0,103.0,103.0,36.0,56.0,104.0,95.0,96.0,57.0,0.0,0.0,36.0,17.0,0.0,48.0,104.0,0.0,73.0,0.0,39.0,0.0,36.0,39.0,23.0,103.0,55.0,18.0,105.0,0.0,57.0,99.0,104.0,65.0,58.0,0.0,0.0,79.0,75.0,2.0,0.0,88.0,0.0,0.0,6.0,0.0,54.0,93.0,104.0,59.0,0.0,66.0,32.0,0.0,55.0,51.0,0.0,21.0,78.0,0.0,16.0,103.0,60.0,16.0,0.0,0.0,0.0,45.0,57.0,0.0,26.0,6.0,3.0,0.0,0.0,52.0,1.0,0.0,0.0,84.0,0.0,102.0,0.0,0.0,73.0,70.0,0.0,104.0,0.0,86.0,98.0,55.0,0.0,0.0,19.0,0.0,87.0,52.0,37.0,19.0,0.0,55.0,0.0,0.0,34.0,0.0,5.0,0.0,61.0,82.0,94.0,94.0,45.0,0.0,2.0,90.0,87.0,16.0,77.0,58.0,0.0,8.0,0.0,0.0,56.0,13.0,3.0,85.0,45.0,41.0,39.0,97.0,38.0,0.0,78.0,0.0,0.0,60.0,0.0,97.0,37.0,87.0,84.0,83.0,87.0,70.0,3.0,83.0,0.0,77.0,0.0,98.0,17.0,0.0,105.0,66.0,79.0,60.0,102.0,61.0,106.0,21.0,60.0,0.0,48.0,6.0,32.0,92.0,0.0,30.0,0.0,84.0,27.0,0.0,47.0,0.0,0.0,0.0,0.0,58.0,41.0,0.0,87.0,93.0,103.0,76.0,103.0,102.0,0.0,0.0,69.0,75.0,37.0,61.0,83.0,0.0,86.0,55.0,33.0,8.0,106.0,96.0,64.0,92.0,78.0,0.0,71.0,0.0,51.0,25.0,16.0,0.0,56.0,31.0,0.0,0.0,55.0,72.0,33.0,3.0,0.0,51.0,46.0,78.0,11.0,0.0,45.0,0.0,47.0,0.0,90.0,0.0,0.0,79.0,28.0,36.0,0.0,0.0,97.0,58.0,99.0,0.0,0.0,56.0,84.0,33.0,23.0,104.0,44.0,74.0,0.0,0.0,102.0,98.0,61.0,0.0,85.0,1.0,36.0,17.0,0.0,52.0,39.0,0.0,74.0,0.0,0.0,25.0,0.0,0.0,97.0,23.0,44.0,103.0,56.0,0.0,17.0,0.0,0.0,0.0,34.0,35.0,0.0,87.0,62.0,0.0,0.0,0.0,84.0,30.0,0.0,104.0,58.0,0.0,22.0,2.0,0.0,3.0,74.0,27.0,19.0,32.0,53.0,0.0,47.0,0.0,0.0,70.0,95.0,96.0,60.0,76.0,53.0,85.0,55.0,0.0,82.0,104.0,67.0,46.0,80.0,0.0,16.0,0.0,53.0,103.0,0.0,39.0,57.0,72.0,100.0,15.0,98.0,0.0,44.0,0.0,65.0,103.0,0.0,39.0,4.0,35.0,0.0,66.0,89.0,99.0,0.0,106.0,77.0,0.0,44.0,54.0,0.0,76.0,82.0,0.0,51.0,68.0,0.0,96.0,52.0,0.0,50.0,33.0,104.0,75.0,11.0,73.0,0.0,0.0,38.0,0.0,8.0,0.0,7.0,17.0,0.0,86.0,35.0,102.0,26.0,83.0,0.0,82.0,0.0,0.0,52.0,83.0,2.0,8.0,12.0,86.0,36.0,20.0,12.0,70.0,66.0,81.0,0.0,7.0,56.0,102.0,27.0,89.0,0.0,0.0,0.0,34.0,72.0,89.0,90.0,84.0,21.0,65.0,52.0,80.0,0.0,0.0,34.0,56.0,58.0,45.0,14.0,23.0,0.0,14.0,56.0,24.0,64.0,30.0,103.0,34.0,19.0,0.0,0.0,74.0,76.0,13.0,99.0,0.0,57.0,0.0,5.0,104.0,51.0,62.0,9.0,0.0,0.0,24.0,89.0,0.0,0.0,50.0,0.0,49.0,0.0,0.0,33.0,34.0,13.0,0.0,0.0,0.0,0.0,102.0,32.0,96.0,72.0,5.0,99.0,0.0,98.0,30.0,0.0,73.0,0.0,32.0,80.0,0.0,105.0,0.0,42.0,103.0,86.0,74.0,0.0,75.0,0.0,101.0,0.0,6.0,38.0,19.0,60.0,0.0,50.0,43.0,20.0,2.0,35.0,80.0,76.0,0.0,97.0,68.0,33.0,39.0,58.0,73.0,48.0,0.0,0.0,85.0,62.0,0.0,0.0,0.0,4.0,0.0,0.0,24.0,0.0,32.0,22.0,10.0,99.0,85.0,0.0,51.0,86.0,66.0,45.0,60.0,17.0,85.0,0.0,96.0,82.0,82.0,62.0,96.0,59.0,19.0,7.0,25.0,91.0,43.0,24.0,0.0,67.0,84.0,52.0,23.0,18.0,53.0,101.0,69.0,87.0,0.0,2.0,0.0,53.0,54.0,15.0,46.0,57.0,53.0,0.0,18.0,0.0,0.0,0.0,102.0,89.0,85.0,92.0,101.0,0.0,0.0,0.0,0.0,91.0,8.0,105.0,90.0,0.0,57.0,0.0,57.0,51.0,0.0,85.0,0.0,0.0,18.0,0.0,106.0,92.0,0.0,33.0,8.0,0.0,0.0,0.0,0.0,0.0,86.0,56.0,15.0,0.0,80.0,58.0,0.0,0.0,98.0,4.0,16.0,21.0,0.0,3.0,0.0,0.0,0.0,0.0,87.0,0.0,53.0,0.0,0.0,11.0,0.0,15.0,10.0,0.0,4.0,2.0,60.0,0.0,69.0,0.0,4.0,56.0,104.0,4.0,0.0,26.0,42.0,17.0,22.0,92.0,82.0,96.0,53.0,35.0,53.0,0.0,75.0,83.0,71.0,0.0,26.0,4.0,6.0,33.0,105.0,53.0,103.0,61.0,91.0,0.0,0.0,0.0,72.0,1.0,0.0,61.0,102.0,103.0,0.0,67.0,0.0,9.0,11.0,67.0,16.0,63.0,34.0,0.0,55.0,61.0,39.0,0.0,0.0,74.0,22.0,0.0,7.0,34.0,0.0,88.0,0.0,23.0,0.0,43.0,97.0,50.0,84.0,30.0,38.0,81.0,2.0,101.0,7.0,8.0,0.0,74.0,8.0,97.0,0.0,31.0,54.0,0.0,35.0,22.0,47.0,0.0,92.0,5.0,46.0,50.0,42.0,51.0,33.0,0.0,24.0,69.0,27.0,36.0,0.0,65.0,0.0,53.0,11.0,0.0,24.0,51.0,0.0,0.0,101.0,93.0,21.0,49.0,56.0,0.0,79.0,0.0,61.0,0.0,0.0,9.0,0.0,76.0,0.0,80.0,0.0,103.0,75.0,105.0,102.0,0.0,0.0,70.0,96.0,0.0,20.0,7.0,89.0,101.0,0.0,0.0,101.0,103.0,0.0,11.0,1.0,77.0,52.0,83.0,15.0,65.0,0.0,7.0,0.0,0.0,10.0,75.0,94.0,103.0,0.0,1.0,0.0,94.0,9.0,0.0,95.0,7.0,93.0,84.0,55.0,0.0,101.0,0.0,53.0,70.0,3.0,74.0,10.0,0.0,39.0,0.0,0.0,18.0,0.0,52.0,0.0,32.0,25.0,96.0,45.0,0.0,104.0,0.0,89.0,104.0,74.0,58.0,0.0,0.0,103.0,0.0,0.0,0.0,0.0,0.0,93.0,54.0,94.0,31.0,3.0,48.0,0.0,10.0,78.0,88.0,103.0,85.0,100.0,41.0,0.0,0.0,82.0,0.0,52.0,42.0,88.0,28.0,0.0,93.0,0.0,15.0,63.0,0.0,8.0,32.0,13.0,0.0,0.0,31.0,0.0,57.0,77.0,53.0,60.0,24.0,104.0,104.0,82.0,0.0,94.0,83.0,52.0,55.0,0.0,0.0,97.0,4.0,0.0,27.0,104.0,0.0,15.0,14.0,0.0,50.0,2.0,86.0,84.0,20.0,62.0,49.0,10.0,103.0,12.0,86.0,0.0,37.0,32.0,53.0,0.0,68.0,97.0,33.0,67.0,103.0,90.0,0.0,13.0,13.0,58.0,37.0,0.0,9.0,7.0,16.0,80.0,56.0,3.0,3.0,0.0,35.0,0.0,78.0,87.0,92.0,38.0,11.0,0.0,86.0,67.0,4.0,0.0,0.0,32.0,37.0,36.0,0.0,81.0,95.0,46.0,37.0,59.0,68.0,23.0,104.0,77.0,12.0,51.0,27.0,0.0,0.0,46.0,0.0,71.0,13.0,69.0,0.0,0.0,105.0,59.0,93.0,0.0,0.0,0.0,0.0,16.0,30.0,0.0,63.0,0.0,8.0,7.0,55.0,44.0,0.0,19.0,105.0,83.0,77.0,9.0,84.0,52.0,0.0,101.0,76.0,0.0,86.0,30.0,28.0,0.0,0.0,96.0,9.0,28.0,53.0,0.0,66.0,0.0,62.0,0.0,0.0,33.0,101.0,0.0,0.0,23.0,0.0,24.0,0.0,31.0,0.0,97.0,58.0,13.0,106.0,39.0,59.0,0.0,87.0,104.0,27.0,69.0,0.0,74.0,0.0,0.0,2.0,7.0,55.0,0.0,89.0,89.0,103.0,0.0,13.0,0.0,57.0,84.0,55.0,0.0,47.0,0.0,10.0,25.0,40.0,60.0,0.0,29.0,99.0,70.0,5.0,0.0,38.0,0.0,86.0,31.0,104.0,0.0,78.0,88.0,81.0,27.0,49.0,73.0,9.0,0.0,90.0,28.0,101.0,32.0,88.0,62.0,71.0,85.0,52.0,89.0,4.0,84.0,28.0,0.0,18.0,0.0,83.0,0.0,3.0,105.0,52.0,11.0,0.0,73.0,90.0,0.0,6.0,0.0,38.0,0.0,0.0,51.0,41.0,0.0,60.0,102.0,16.0,17.0,94.0,19.0,0.0,0.0,96.0,0.0,87.0,0.0,101.0,0.0,48.0,0.0,103.0,49.0,104.0,58.0,102.0,0.0,99.0,95.0,102.0,99.0,51.0,95.0,0.0,103.0,0.0,49.0,59.0,0.0,77.0,0.0,91.0,0.0,6.0,2.0,25.0,45.0,0.0,7.0,76.0,5.0,43.0,85.0,76.0,21.0,64.0,82.0,30.0,0.0,0.0,0.0,17.0,0.0,0.0,104.0,0.0,77.0,76.0,0.0,98.0,0.0,0.0,61.0,30.0,3.0,0.0,98.0,15.0,79.0,0.0,0.0,0.0,102.0,70.0,63.0,50.0,82.0,66.0,0.0,0.0,0.0,0.0,0.0,0.0,0.0,0.0,0.0,0.0,40.0,9.0,1.0,0.0,13.0,0.0,63.0,40.0,0.0,0.0,0.0,4.0,65.0,54.0,18.0,0.0,60.0,8.0,94.0,53.0,27.0,103.0,0.0,91.0,25.0,56.0,68.0,0.0,9.0,0.0,0.0,3.0,0.0,103.0,0.0,103.0,0.0,75.0,42.0,103.0,21.0,9.0,35.0,0.0,55.0,4.0,81.0,0.0,66.0,86.0,0.0,102.0,106.0,62.0,50.0,52.0,91.0,51.0,87.0,0.0,65.0,5.0,83.0,0.0,44.0,101.0,0.0,0.0,0.0,0.0,101.0,30.0,62.0,25.0,71.0,87.0,20.0,24.0,105.0,71.0,105.0,92.0,7.0,57.0,94.0,99.0,97.0,7.0,22.0,0.0,31.0,57.0,0.0,0.0,87.0,0.0,100.0,0.0,22.0,10.0,68.0,30.0,0.0,77.0,55.0,28.0,30.0,78.0,16.0,62.0,64.0,0.0,54.0,0.0,0.0,25.0,68.0,32.0,0.0,0.0,82.0,67.0,0.0,0.0,98.0,0.0,72.0,14.0,0.0,76.0,0.0,0.0,14.0,16.0,17.0,0.0,0.0,2.0,88.0,37.0,0.0,0.0,9.0,30.0,0.0,56.0,4.0,52.0,88.0,0.0,41.0,0.0,95.0,97.0,43.0,2.0,18.0,0.0,6.0,67.0,0.0,84.0,0.0,54.0,0.0,92.0,85.0,0.0,70.0,12.0,99.0,96.0,51.0,0.0,24.0,78.0,69.0,69.0,0.0,28.0,0.0,0.0,81.0,0.0,57.0,0.0,102.0,52.0,73.0,51.0,0.0,60.0,52.0,101.0,98.0,71.0,14.0,28.0,98.0,12.0,88.0,74.0,46.0,87.0,0.0,30.0,102.0,54.0,47.0,0.0,104.0,0.0,82.0,42.0,77.0,20.0,60.0,97.0,0.0,73.0,23.0,104.0,8.0,30.0,65.0,3.0,96.0,0.0,72.0,4.0,0.0,38.0,47.0,104.0,10.0,87.0,0.0,59.0,12.0,68.0,67.0,29.0,85.0,37.0,0.0,62.0,0.0,81.0,48.0,21.0,79.0,101.0,37.0,52.0,10.0,98.0,104.0,0.0,25.0,0.0,0.0,0.0,36.0,51.0,34.0,104.0,59.0,54.0,64.0,102.0,73.0,90.0,0.0,87.0,65.0,105.0,50.0,93.0,0.0,38.0,0.0,0.0,6.0,76.0,0.0,64.0,58.0,3.0,47.0,90.0,30.0,44.0,2.0,69.0,4.0,31.0,73.0,95.0,12.0,61.0,0.0,0.0,0.0,58.0,8.0,58.0,90.0,3.0,23.0,34.0,30.0,0.0,0.0,27.0,18.0,0.0,0.0,96.0,36.0,96.0,47.0,0.0,85.0,27.0,0.0,61.0,0.0,0.0,1.0,57.0,86.0,0.0,0.0,0.0,0.0,92.0,0.0,1.0,0.0,64.0,62.0,0.0,57.0,82.0,0.0,88.0,55.0,92.0,52.0,0.0,21.0,75.0,0.0,0.0,15.0,0.0,69.0,101.0,0.0,8.0,14.0,0.0,60.0,0.0,36.0,0.0,0.0,86.0,0.0,0.0,32.0,21.0,99.0,19.0,33.0,5.0,0.0,7.0,11.0,30.0,61.0,66.0,0.0,0.0,72.0,96.0,5.0,54.0,7.0,98.0,96.0,102.0,0.0,45.0,93.0,30.0,80.0,43.0,0.0,26.0,30.0,0.0,0.0,0.0,64.0,84.0,15.0,56.0,73.0,63.0,0.0,89.0,56.0,0.0,58.0,58.0,3.0,105.0,75.0,0.0,51.0,49.0,56.0,94.0,12.0,9.0,57.0,0.0,18.0,102.0,100.0,50.0,62.0,84.0,20.0,0.0,82.0,4.0,75.0,0.0,1.0,50.0,9.0,10.0,0.0,4.0,21.0,85.0,71.0,81.0,51.0,45.0,0.0,32.0,20.0,23.0,42.0,106.0,33.0,96.0,0.0,0.0,14.0,53.0,92.0,79.0,15.0,0.0,0.0,1.0,90.0,60.0,0.0,99.0,0.0,58.0,88.0,46.0,96.0,91.0,90.0,0.0,54.0,80.0,0.0,13.0,98.0,0.0,28.0,0.0,39.0,3.0,12.0,0.0,89.0,12.0,0.0,54.0,95.0,0.0,9.0,7.0,11.0,0.0,69.0,80.0,104.0,0.0,82.0,54.0,29.0,75.0,39.0,12.0,73.0,93.0,9.0,2.0,81.0,79.0,75.0,0.0,80.0,0.0,8.0,67.0,30.0,26.0,17.0,3.0,87.0,32.0,58.0,70.0,97.0,54.0,23.0,30.0,20.0,26.0,0.0,60.0,5.0,0.0,0.0,0.0,0.0,0.0,2.0,94.0,0.0,12.0,16.0,8.0,0.0,52.0,0.0,78.0,0.0,39.0,72.0,98.0,0.0,27.0,77.0,0.0,0.0,62.0,0.0,0.0,3.0,0.0,0.0,0.0,46.0,90.0,5.0,70.0,0.0,0.0,70.0,89.0,65.0,34.0,2.0,98.0,35.0,105.0,59.0,49.0,0.0,49.0,0.0,60.0,87.0,7.0,0.0,96.0,0.0,0.0,8.0,76.0,0.0,0.0,49.0,0.0,21.0,31.0,22.0,0.0,0.0,88.0,90.0,90.0,18.0,72.0,98.0,67.0,96.0,17.0,105.0,0.0,101.0,7.0,0.0,98.0,0.0,27.0,40.0,20.0,31.0,103.0,86.0,86.0,21.0,29.0,84.0,14.0,0.0,0.0,0.0,0.0,0.0,43.0,84.0,14.0,56.0,0.0,27.0,54.0,2.0,0.0,102.0,98.0,0.0,90.0,102.0,0.0,0.0,0.0,102.0,83.0,50.0,2.0,1.0,0.0,4.0,82.0,30.0,34.0,0.0,64.0,100.0,0.0,57.0,0.0,20.0,0.0,42.0,56.0,106.0,33.0,0.0,50.0,17.0,39.0,38.0,0.0,88.0,4.0,0.0,24.0,14.0,31.0,66.0,0.0,29.0,27.0,65.0,54.0,0.0,85.0,58.0,25.0,5.0,0.0,0.0,54.0,78.0,0.0,64.0,0.0,82.0,8.0,67.0,95.0,102.0,35.0,35.0,0.0,97.0,26.0,0.0,0.0,0.0,0.0,86.0,31.0,88.0,8.0,102.0,19.0,38.0,0.0,6.0,5.0,55.0,34.0,40.0,26.0,70.0,82.0,26.0,0.0,104.0,0.0,98.0,0.0,9.0,1.0,54.0,20.0,26.0,84.0,0.0,0.0,16.0,0.0,4.0,51.0,104.0,105.0,46.0,8.0,104.0,11.0,34.0,0.0,92.0,102.0,105.0,56.0,101.0,65.0,69.0,52.0,102.0,52.0,102.0,99.0,0.0,103.0,92.0,0.0,61.0,55.0,46.0,31.0,29.0,39.0,0.0,101.0,0.0,9.0,94.0,33.0,74.0,0.0,52.0,0.0,0.0,96.0,81.0,23.0,32.0,104.0,5.0,102.0,20.0,27.0,0.0,0.0,0.0,39.0,88.0,60.0,13.0,0.0,3.0,0.0,0.0,18.0,78.0,20.0,13.0,0.0,80.0,98.0,67.0,60.0,99.0,43.0,97.0,85.0,62.0,50.0,79.0,28.0,105.0,44.0,43.0,103.0,0.0,86.0,0.0,0.0,43.0,78.0,0.0,5.0,101.0,61.0,0.0,89.0,46.0,0.0,49.0,25.0,3.0,0.0,16.0,7.0,0.0,36.0,80.0,19.0,69.0,25.0,83.0,33.0,1.0,4.0,28.0,85.0,12.0,36.0,62.0,28.0,0.0,0.0,0.0,0.0,73.0,54.0,71.0,0.0,28.0,3.0,33.0,99.0,0.0,39.0,89.0,64.0,63.0,76.0,31.0,67.0,94.0,10.0,95.0,29.0,98.0,3.0,0.0,84.0,82.0,55.0,0.0,0.0,6.0,24.0,31.0,3.0,61.0,0.0,51.0,71.0,30.0,65.0,22.0,54.0,23.0,0.0,3.0,0.0,29.0,22.0,0.0,36.0,55.0,95.0,0.0,91.0,0.0,28.0,0.0,66.0,0.0,36.0,78.0,76.0,53.0,0.0,101.0,43.0,53.0,15.0,105.0,105.0,2.0,4.0,86.0,0.0,2.0,78.0,56.0,7.0,0.0,0.0,55.0,58.0,103.0,70.0,71.0,0.0,0.0,12.0,4.0,100.0,52.0,0.0,80.0,56.0,51.0,98.0,46.0,0.0,77.0,0.0,95.0,9.0,0.0,22.0,36.0,85.0,22.0,6.0,56.0,74.0,104.0,81.0,6.0,51.0,0.0,93.0,23.0,98.0,0.0,30.0,59.0,0.0,101.0,37.0,58.0,74.0,45.0,90.0,24.0,88.0,0.0,99.0,71.0,0.0,6.0,0.0,0.0,87.0,59.0,0.0,0.0,0.0,0.0,33.0,0.0,14.0,21.0,0.0,0.0,10.0,0.0,6.0,12.0,0.0,34.0,84.0,64.0,25.0,0.0,62.0,79.0,102.0,92.0,105.0,53.0,20.0,29.0,0.0,94.0,16.0,56.0,5.0,42.0,8.0,1.0,89.0,80.0,26.0,54.0,17.0,91.0,55.0,0.0,0.0,0.0,89.0,0.0,8.0,22.0,0.0,105.0,99.0,103.0,15.0,21.0,58.0,40.0,16.0,83.0,34.0,93.0,20.0,79.0,0.0,81.0,26.0,45.0,71.0,70.0,0.0,0.0,55.0,0.0,59.0,82.0,35.0,99.0,101.0,45.0,67.0,93.0,82.0,92.0,84.0,62.0,0.0,0.0,31.0,0.0,0.0,0.0,22.0,94.0,0.0,23.0,18.0,103.0,39.0,0.0,0.0,1.0,87.0,101.0,43.0,94.0,0.0,14.0,0.0,102.0,100.0,0.0,0.0,0.0,72.0,90.0,99.0,80.0,52.0,87.0,8.0,0.0,32.0,0.0,72.0,103.0,90.0,0.0,14.0,101.0,77.0,61.0,23.0,0.0,0.0,78.0,0.0,0.0,0.0,21.0,0.0,92.0,0.0,67.0,63.0,54.0,0.0,18.0,47.0,104.0,0.0,0.0,0.0,8.0,0.0,0.0,54.0,59.0,0.0,0.0,44.0,44.0,0.0,0.0,10.0,5.0,88.0,48.0,81.0,0.0,38.0,57.0,98.0,0.0,38.0,64.0,14.0,12.0,21.0,82.0,97.0,0.0,0.0,51.0,0.0,33.0,0.0,0.0,103.0,0.0,104.0,87.0,89.0,101.0,0.0,40.0,94.0,34.0,63.0,24.0,10.0,0.0,75.0,3.0,54.0,93.0,18.0,0.0,36.0,68.0,0.0,0.0,55.0,90.0,77.0,43.0,14.0,23.0,1.0,2.0,43.0,103.0,90.0,84.0,102.0,0.0,100.0,37.0,0.0,0.0,0.0,50.0,0.0,38.0,87.0,0.0,50.0,53.0,73.0,0.0,0.0,0.0,12.0,0.0,100.0,33.0,98.0,42.0,0.0,0.0,55.0,97.0,55.0,95.0,86.0,91.0,10.0,0.0,0.0,51.0,96.0,89.0,6.0,67.0,103.0,2.0,99.0,0.0,75.0,90.0,52.0,106.0,30.0,0.0,40.0,83.0,106.0,97.0,70.0,28.0,0.0,52.0,0.0,37.0,52.0,10.0,0.0,56.0,58.0,71.0,0.0,38.0,73.0,0.0,0.0,97.0,0.0,0.0,6.0,91.0,0.0,90.0,0.0,38.0,0.0,31.0,0.0,51.0,0.0,0.0,14.0,47.0,0.0,0.0,43.0,59.0,0.0,55.0,5.0,54.0,101.0,55.0,88.0,104.0,0.0,16.0,104.0,0.0,5.0,0.0,0.0,78.0,67.0,13.0,86.0,42.0,0.0,0.0,0.0,57.0,43.0,9.0,82.0,21.0,85.0,3.0,0.0,102.0,63.0,0.0,6.0,0.0,0.0,84.0,81.0,51.0,98.0,101.0,52.0,18.0,22.0,0.0,103.0,89.0,0.0,19.0,0.0,15.0,43.0,0.0,22.0,89.0,60.0,91.0,55.0,42.0,54.0,97.0,104.0,86.0,0.0,89.0,64.0,96.0,99.0,0.0,71.0,54.0,0.0,54.0,0.0,50.0,91.0,60.0,90.0,66.0,1.0,105.0,95.0,3.0,0.0,101.0,0.0,14.0,103.0,99.0,87.0,25.0,34.0,65.0,102.0,0.0,0.0,14.0,77.0,72.0,64.0,64.0,0.0,54.0,2.0,93.0,105.0,0.0,0.0,20.0,11.0,0.0,0.0,57.0,56.0,20.0,85.0,0.0,102.0,59.0,99.0,21.0,57.0,0.0,50.0,78.0,29.0,103.0,105.0,23.0,99.0,0.0,100.0,0.0,49.0,96.0,50.0,50.0,74.0,49.0,6.0,93.0,0.0,106.0,43.0,63.0,0.0,102.0,42.0,12.0,0.0,105.0,0.0,56.0,0.0,56.0,0.0,90.0,0.0,4.0,19.0,4.0,21.0,104.0,62.0,15.0,7.0,72.0,0.0,13.0,87.0,52.0,3.0,85.0,1.0,32.0,82.0,65.0,44.0,10.0,0.0,53.0,101.0,67.0,0.0,63.0,7.0,0.0,0.0,49.0,5.0,32.0,0.0,52.0,13.0,13.0,50.0,7.0,0.0,0.0,0.0,22.0,81.0,84.0,39.0,0.0,0.0,55.0,48.0,31.0,0.0,39.0,2.0,0.0,3.0,5.0,67.0,63.0,0.0,7.0,65.0,1.0,57.0,105.0,100.0,58.0,78.0,75.0,52.0,0.0,28.0,104.0,0.0,58.0,31.0,1.0,11.0,10.0,102.0,23.0,10.0,13.0,105.0,61.0,0.0,0.0,85.0,0.0,73.0,39.0,0.0,16.0,83.0,0.0,54.0,0.0,0.0,76.0,41.0,24.0,4.0,68.0,0.0,81.0,69.0,21.0,81.0,25.0,103.0,0.0,0.0,81.0,102.0,23.0,4.0,8.0,0.0,3.0,62.0,0.0,0.0,0.0,70.0,94.0,9.0,0.0,0.0,104.0,4.0,45.0,82.0,24.0,105.0,55.0,0.0,97.0,52.0,0.0,0.0,77.0,83.0,6.0,89.0,0.0,105.0,74.0,3.0,101.0,53.0,0.0,0.0,0.0,20.0,88.0,93.0,66.0,0.0,0.0,0.0,82.0,81.0,28.0,105.0,95.0,41.0,0.0,50.0,39.0,0.0,97.0,0.0,0.0,59.0,0.0,99.0,101.0,101.0,0.0,0.0,0.0,59.0,9.0,104.0,52.0,43.0,23.0,0.0,12.0,11.0,30.0,77.0,88.0,19.0,95.0,72.0,87.0,46.0,47.0,0.0,73.0,36.0,12.0,0.0,58.0,8.0,0.0,26.0,53.0,85.0,8.0,88.0,86.0,0.0,75.0,85.0,5.0,82.0,0.0,52.0,91.0,90.0,42.0,104.0,87.0,103.0,48.0,98.0,70.0,14.0,91.0,24.0,0.0,93.0,75.0,0.0,0.0,13.0,92.0,27.0,59.0,0.0,60.0,78.0,99.0,0.0,0.0,12.0,104.0,0.0,53.0,55.0,10.0,82.0,98.0,79.0,33.0,62.0,0.0,40.0,0.0,23.0,27.0,56.0,102.0,0.0,59.0,31.0,79.0,0.0,40.0,36.0,10.0,36.0,42.0,0.0,65.0,0.0,84.0,85.0,17.0,32.0,84.0,71.0,15.0,7.0,87.0,103.0,44.0,22.0,90.0,0.0,54.0,11.0,53.0,0.0,0.0,53.0,22.0,0.0,0.0,34.0,104.0,2.0,99.0,78.0,81.0,90.0,0.0,0.0,56.0,98.0,41.0,0.0,57.0,104.0,97.0,12.0,76.0,55.0,26.0,82.0,0.0,48.0,11.0,0.0,17.0,3.0,13.0,0.0,63.0,0.0,73.0,33.0,31.0,8.0,55.0,74.0,0.0,1.0,0.0,0.0,12.0,54.0,101.0,0.0,101.0,43.0,35.0,92.0,0.0,52.0,77.0,0.0,45.0,5.0,103.0,2.0,63.0,74.0,8.0,6.0,0.0,99.0,59.0,0.0,94.0,0.0,0.0,20.0,0.0,0.0,19.0,0.0,88.0,23.0,51.0,41.0,0.0,0.0,0.0,5.0,3.0,0.0,17.0,86.0,0.0,0.0,105.0,0.0,16.0,0.0,3.0,0.0,18.0,93.0,60.0,52.0,45.0,103.0,47.0,79.0,0.0,40.0,91.0,104.0,0.0,51.0,104.0,34.0,85.0,59.0,102.0,84.0,101.0,0.0,63.0,54.0,70.0,0.0,92.0,10.0,0.0,40.0,0.0,50.0,0.0,52.0,0.0,0.0,93.0,105.0,0.0,80.0,0.0,100.0,58.0,6.0,0.0,14.0,0.0,57.0,0.0,0.0,57.0,69.0,0.0,0.0,70.0,0.0,0.0,0.0,87.0,0.0,0.0,51.0,0.0,0.0,0.0,10.0,97.0,0.0,0.0,15.0,46.0,1.0,50.0,104.0,64.0,0.0,38.0,57.0,0.0,64.0,0.0,76.0,102.0,87.0,76.0,26.0,0.0,51.0,85.0,0.0,51.0,0.0,0.0,98.0,81.0,0.0,0.0,0.0,4.0,0.0,0.0,105.0,91.0,52.0,23.0,0.0,103.0,67.0,0.0,0.0,87.0,0.0,68.0,103.0,79.0,32.0,49.0,99.0,94.0,6.0,20.0,81.0,0.0,0.0,0.0,0.0,55.0,68.0,0.0,53.0,53.0,32.0,32.0,0.0,0.0,0.0,85.0,0.0,0.0,53.0,103.0,0.0,71.0,52.0,0.0,0.0,72.0,15.0,24.0,12.0,52.0,49.0,0.0,103.0,51.0,0.0,0.0,7.0,100.0,0.0,90.0,59.0,0.0,28.0,0.0,0.0,0.0,0.0,92.0,50.0,45.0,0.0,0.0,0.0,73.0,0.0,34.0,1.0,0.0,0.0,0.0,5.0,0.0,0.0,0.0,51.0,50.0,98.0,84.0,0.0,38.0,32.0,97.0,69.0,49.0,79.0,0.0,0.0,0.0,41.0,22.0,5.0,13.0,0.0,65.0,0.0,58.0,47.0,43.0,94.0,7.0,23.0,102.0,60.0,34.0,78.0,103.0,48.0,0.0,0.0,89.0,0.0,68.0,0.0,12.0,19.0,68.0,0.0,104.0,59.0,64.0,32.0,14.0,0.0,0.0,53.0,43.0,0.0,92.0,0.0,0.0,0.0,0.0,105.0,75.0,88.0,41.0,71.0,102.0,0.0,0.0,0.0,94.0,106.0,0.0,0.0,0.0,52.0,0.0,69.0,75.0,56.0,0.0,77.0,0.0,0.0,0.0,49.0,0.0,53.0,0.0,0.0,1.0,20.0,70.0,0.0,41.0,0.0,55.0,0.0,0.0,6.0,0.0,0.0,0.0,14.0,87.0,55.0,0.0,0.0,1.0,0.0,27.0,9.0,3.0,102.0,103.0,11.0,9.0,0.0,84.0,24.0,73.0,0.0,0.0,70.0,31.0,51.0,0.0,12.0,0.0,47.0,52.0,0.0,0.0,0.0,0.0,0.0,12.0,80.0,0.0,95.0,93.0,102.0,75.0,85.0,0.0,0.0,100.0,76.0,94.0,19.0,102.0,0.0,7.0,0.0,0.0,0.0,0.0,87.0,78.0,76.0,31.0,0.0,39.0,85.0,0.0,76.0,0.0,47.0,0.0,0.0,0.0,16.0,83.0,17.0,6.0,0.0,0.0,0.0,0.0,55.0,36.0,50.0,0.0,3.0,76.0,0.0,71.0,64.0,105.0,72.0,53.0,0.0,104.0,0.0,105.0,86.0,38.0,3.0,103.0,74.0,73.0,16.0,0.0,0.0,21.0,82.0,19.0,0.0,29.0,0.0,87.0,90.0,0.0,11.0,91.0,84.0,31.0,10.0,0.0,0.0,91.0,96.0,0.0,0.0,52.0,0.0,88.0,16.0,102.0,79.0,8.0,66.0,32.0,0.0,13.0,0.0,0.0,85.0,0.0,57.0,18.0,92.0,84.0,0.0,22.0,98.0,63.0,48.0,0.0,16.0,56.0,17.0,94.0,0.0,0.0,35.0,76.0],\"xaxis\":\"x\",\"yaxis\":\"y\",\"type\":\"histogram\"},{\"alignmentgroup\":\"True\",\"hovertemplate\":\"Recency=%{x}<extra></extra>\",\"legendgroup\":\"\",\"marker\":{\"color\":\"indianred\"},\"name\":\"\",\"offsetgroup\":\"\",\"scalegroup\":\"x\",\"showlegend\":false,\"x\":[58.0,58.0,52.0,81.0,0.0,0.0,51.0,29.0,0.0,50.0,58.0,50.0,105.0,97.0,87.0,57.0,106.0,19.0,15.0,0.0,0.0,0.0,0.0,33.0,89.0,86.0,32.0,52.0,80.0,13.0,4.0,39.0,62.0,64.0,92.0,16.0,24.0,13.0,0.0,4.0,0.0,81.0,37.0,0.0,92.0,0.0,51.0,22.0,83.0,0.0,14.0,0.0,75.0,0.0,0.0,50.0,67.0,0.0,0.0,97.0,31.0,66.0,70.0,28.0,0.0,66.0,48.0,35.0,72.0,0.0,105.0,74.0,4.0,0.0,70.0,89.0,66.0,55.0,53.0,67.0,50.0,36.0,77.0,0.0,94.0,19.0,68.0,42.0,94.0,0.0,105.0,18.0,6.0,37.0,0.0,0.0,0.0,21.0,57.0,0.0,0.0,0.0,60.0,46.0,75.0,0.0,0.0,52.0,93.0,30.0,53.0,60.0,0.0,0.0,9.0,40.0,26.0,43.0,22.0,0.0,0.0,71.0,2.0,0.0,105.0,99.0,23.0,93.0,50.0,70.0,86.0,0.0,0.0,68.0,84.0,11.0,95.0,92.0,0.0,0.0,0.0,10.0,0.0,105.0,0.0,49.0,4.0,80.0,0.0,0.0,80.0,5.0,0.0,93.0,0.0,30.0,0.0,82.0,0.0,0.0,64.0,0.0,0.0,85.0,0.0,0.0,0.0,54.0,0.0,75.0,23.0,16.0,59.0,28.0,0.0,1.0,102.0,95.0,21.0,13.0,64.0,44.0,0.0,84.0,96.0,0.0,16.0,0.0,14.0,2.0,0.0,50.0,99.0,102.0,36.0,22.0,0.0,0.0,26.0,4.0,43.0,0.0,18.0,0.0,0.0,1.0,59.0,0.0,0.0,15.0,101.0,0.0,2.0,19.0,0.0,61.0,0.0,0.0,0.0,0.0,92.0,0.0,36.0,0.0,11.0,6.0,34.0,0.0,10.0,70.0,100.0,60.0,0.0,47.0,0.0,48.0,105.0,40.0,17.0,101.0,0.0,79.0,95.0,0.0,13.0,61.0,16.0,87.0,0.0,28.0,35.0,92.0,78.0,101.0,31.0,0.0,0.0,26.0,11.0,0.0,0.0,0.0,92.0,15.0,0.0,0.0,96.0,0.0,90.0,41.0,0.0,0.0,78.0,27.0,96.0,0.0,61.0,10.0,55.0,44.0,19.0,8.0,5.0,5.0,91.0,7.0,67.0,2.0,52.0,0.0,68.0,86.0,56.0,9.0,0.0,11.0,69.0,81.0,91.0,6.0,96.0,78.0,85.0,0.0,18.0,15.0,54.0,41.0,0.0,78.0,9.0,0.0,0.0,0.0,0.0,88.0,7.0,103.0,50.0,0.0,0.0,95.0,16.0,94.0,0.0,38.0,56.0,25.0,4.0,66.0,16.0,94.0,32.0,16.0,102.0,106.0,103.0,29.0,9.0,0.0,0.0,0.0,14.0,0.0,56.0,0.0,57.0,50.0,94.0,11.0,20.0,0.0,0.0,30.0,79.0,0.0,88.0,23.0,74.0,0.0,99.0,102.0,15.0,10.0,100.0,0.0,104.0,0.0,19.0,62.0,0.0,8.0,72.0,63.0,9.0,9.0,75.0,30.0,85.0,93.0,45.0,0.0,0.0,89.0,0.0,66.0,6.0,3.0,0.0,0.0,0.0,45.0,0.0,0.0,0.0,0.0,77.0,29.0,0.0,105.0,105.0,74.0,0.0,0.0,0.0,49.0,10.0,59.0,0.0,28.0,89.0,98.0,0.0,1.0,3.0,33.0,0.0,25.0,58.0,0.0,0.0,0.0,35.0,0.0,0.0,0.0,0.0,56.0,0.0,0.0,83.0,100.0,0.0,32.0,73.0,11.0,75.0,53.0,0.0,58.0,9.0,90.0,32.0,36.0,39.0,9.0,6.0,0.0,0.0,9.0,59.0,0.0,30.0,0.0,53.0,0.0,5.0,42.0,22.0,0.0,61.0,67.0,21.0,24.0,0.0,27.0,0.0,7.0,11.0,22.0,0.0,0.0,105.0,56.0,2.0,86.0,0.0,18.0,103.0,5.0,19.0,31.0,19.0,29.0,9.0,0.0,0.0,44.0,98.0,56.0,80.0,105.0,76.0,73.0,95.0,95.0,81.0,3.0,0.0,52.0,0.0,80.0,0.0,54.0,0.0,77.0,93.0,4.0,8.0,68.0,0.0,0.0,0.0,0.0,10.0,77.0,53.0,64.0,32.0,99.0,30.0,0.0,35.0,51.0,58.0,57.0,24.0,80.0,76.0,99.0,4.0,7.0,28.0,0.0,4.0,10.0,0.0,9.0,21.0,0.0,5.0,18.0,52.0,68.0,0.0,0.0,0.0,6.0,49.0,28.0,0.0,0.0,38.0,0.0,0.0,22.0,16.0,9.0,15.0,65.0,87.0,86.0,0.0,6.0,105.0,0.0,63.0,78.0,86.0,0.0,23.0,102.0,105.0,0.0,73.0,91.0,84.0,45.0,0.0,73.0,0.0,13.0,103.0,18.0,101.0,0.0,87.0,9.0,103.0,0.0,91.0,4.0,0.0,33.0,6.0,46.0,53.0,0.0,33.0,103.0,101.0,3.0,99.0,10.0,74.0,0.0,38.0,60.0,103.0,26.0,0.0,36.0,0.0,15.0,73.0,0.0,0.0,0.0,4.0,0.0,0.0,104.0,104.0,36.0,0.0,53.0,43.0,65.0,51.0,49.0,0.0,83.0,15.0,52.0,0.0,0.0,4.0,37.0,88.0,0.0,104.0,84.0,53.0,0.0,91.0,37.0,0.0,0.0,84.0,23.0,7.0,89.0,104.0,17.0,16.0,102.0,40.0,0.0,0.0,57.0,0.0,40.0,0.0,84.0,104.0,61.0,78.0,8.0,0.0,91.0,51.0,14.0,104.0,0.0,66.0,16.0,0.0,104.0,82.0,3.0,71.0,51.0,21.0,59.0,10.0,49.0,52.0,0.0,85.0,30.0,20.0,4.0,20.0,20.0,0.0,58.0,55.0,61.0,99.0,95.0,48.0,102.0,5.0,64.0,0.0,50.0,0.0,14.0,19.0,52.0,0.0,0.0,0.0,0.0,82.0,25.0,2.0,52.0,45.0,78.0,78.0,0.0,0.0,3.0,30.0,0.0,0.0,104.0,106.0,59.0,61.0,103.0,85.0,60.0,0.0,84.0,0.0,0.0,0.0,105.0,70.0,100.0,85.0,66.0,53.0,0.0,0.0,101.0,45.0,0.0,64.0,83.0,76.0,93.0,0.0,40.0,90.0,9.0,71.0,102.0,0.0,0.0,89.0,0.0,84.0,0.0,86.0,60.0,0.0,0.0,0.0,21.0,9.0,42.0,0.0,91.0,0.0,0.0,11.0,0.0,93.0,0.0,27.0,47.0,42.0,97.0,71.0,54.0,60.0,55.0,92.0,0.0,0.0,15.0,80.0,0.0,13.0,101.0,39.0,21.0,48.0,39.0,0.0,48.0,65.0,42.0,85.0,42.0,15.0,0.0,26.0,88.0,0.0,14.0,52.0,19.0,53.0,72.0,71.0,0.0,40.0,0.0,103.0,103.0,22.0,0.0,52.0,99.0,0.0,0.0,0.0,0.0,90.0,39.0,0.0,12.0,41.0,0.0,13.0,27.0,0.0,84.0,0.0,41.0,0.0,86.0,0.0,61.0,105.0,15.0,20.0,48.0,102.0,0.0,0.0,48.0,85.0,97.0,94.0,0.0,104.0,6.0,73.0,32.0,0.0,0.0,77.0,0.0,0.0,71.0,17.0,0.0,66.0,13.0,103.0,17.0,0.0,0.0,0.0,89.0,33.0,88.0,9.0,0.0,12.0,0.0,82.0,35.0,79.0,0.0,80.0,61.0,0.0,55.0,72.0,10.0,9.0,85.0,6.0,0.0,33.0,79.0,0.0,72.0,0.0,55.0,91.0,0.0,3.0,48.0,59.0,0.0,31.0,101.0,105.0,36.0,105.0,0.0,0.0,9.0,0.0,0.0,35.0,83.0,75.0,81.0,0.0,75.0,0.0,55.0,83.0,0.0,86.0,0.0,15.0,32.0,0.0,0.0,73.0,70.0,40.0,65.0,31.0,62.0,76.0,0.0,37.0,58.0,27.0,53.0,0.0,46.0,90.0,0.0,68.0,82.0,55.0,53.0,20.0,0.0,102.0,10.0,0.0,86.0,95.0,5.0,104.0,57.0,2.0,0.0,12.0,75.0,0.0,0.0,98.0,0.0,101.0,81.0,0.0,0.0,35.0,81.0,0.0,0.0,79.0,0.0,88.0,0.0,0.0,30.0,0.0,19.0,0.0,0.0,0.0,9.0,0.0,0.0,0.0,0.0,0.0,53.0,0.0,49.0,38.0,21.0,60.0,56.0,0.0,26.0,0.0,0.0,23.0,0.0,0.0,18.0,0.0,96.0,5.0,50.0,19.0,35.0,15.0,0.0,102.0,65.0,0.0,67.0,0.0,3.0,0.0,67.0,31.0,0.0,0.0,0.0,22.0,106.0,34.0,42.0,88.0,37.0,8.0,0.0,63.0,101.0,30.0,93.0,29.0,12.0,105.0,102.0,0.0,0.0,7.0,67.0,37.0,99.0,95.0,102.0,0.0,3.0,89.0,0.0,0.0,0.0,68.0,104.0,100.0,72.0,10.0,9.0,84.0,5.0,28.0,83.0,70.0,0.0,25.0,0.0,39.0,4.0,49.0,11.0,33.0,19.0,0.0,34.0,2.0,103.0,0.0,82.0,86.0,30.0,33.0,0.0,101.0,28.0,7.0,54.0,9.0,3.0,80.0,68.0,80.0,20.0,64.0,4.0,105.0,0.0,2.0,7.0,13.0,95.0,37.0,16.0,67.0,93.0,30.0,39.0,38.0,99.0,57.0,0.0,57.0,72.0,11.0,97.0,96.0,27.0,0.0,98.0,12.0,2.0,0.0,104.0,50.0,56.0,0.0,36.0,54.0,40.0,76.0,85.0,0.0,23.0,21.0,21.0,57.0,71.0,103.0,0.0,46.0,76.0,88.0,82.0,57.0,18.0,0.0,52.0,95.0,1.0,0.0,52.0,25.0,33.0,0.0,93.0,18.0,0.0,76.0,0.0,12.0,74.0,0.0,11.0,3.0,91.0,72.0,27.0,20.0,50.0,7.0,86.0,22.0,59.0,0.0,53.0,51.0,0.0,49.0,85.0,0.0,10.0,89.0,1.0,101.0,9.0,5.0,0.0,62.0,87.0,8.0,84.0,56.0,85.0,16.0,0.0,59.0,0.0,103.0,0.0,84.0,0.0,22.0,104.0,100.0,0.0,92.0,0.0,15.0,32.0,75.0,53.0,30.0,0.0,86.0,34.0,103.0,104.0,95.0,33.0,77.0,62.0,18.0,1.0,0.0,86.0,106.0,46.0,72.0,71.0,0.0,0.0,27.0,40.0,51.0,0.0,0.0,99.0,92.0,0.0,29.0,76.0,52.0,18.0,65.0,0.0,18.0,0.0,0.0,0.0,101.0,0.0,0.0,18.0,83.0,0.0,92.0,40.0,24.0,84.0,95.0,96.0,36.0,25.0,0.0,51.0,0.0,14.0,31.0,101.0,13.0,0.0,0.0,85.0,49.0,38.0,96.0,49.0,87.0,0.0,99.0,68.0,62.0,28.0,95.0,65.0,0.0,0.0,82.0,66.0,17.0,96.0,0.0,104.0,51.0,0.0,0.0,61.0,2.0,0.0,19.0,11.0,16.0,0.0,35.0,105.0,20.0,0.0,0.0,48.0,9.0,31.0,0.0,0.0,54.0,0.0,0.0,57.0,52.0,105.0,78.0,35.0,0.0,12.0,57.0,92.0,0.0,0.0,14.0,12.0,88.0,46.0,39.0,0.0,100.0,83.0,73.0,52.0,25.0,0.0,51.0,0.0,64.0,7.0,80.0,19.0,51.0,73.0,56.0,0.0,37.0,9.0,100.0,99.0,36.0,4.0,4.0,0.0,46.0,13.0,101.0,104.0,0.0,0.0,72.0,71.0,21.0,44.0,37.0,28.0,55.0,0.0,8.0,92.0,80.0,0.0,57.0,64.0,40.0,9.0,104.0,0.0,104.0,5.0,77.0,87.0,69.0,53.0,82.0,0.0,0.0,106.0,0.0,103.0,44.0,84.0,89.0,37.0,0.0,0.0,0.0,105.0,66.0,0.0,57.0,67.0,103.0,26.0,63.0,5.0,53.0,88.0,0.0,0.0,0.0,6.0,51.0,0.0,0.0,36.0,0.0,30.0,105.0,75.0,61.0,0.0,75.0,52.0,58.0,11.0,0.0,53.0,13.0,22.0,4.0,8.0,9.0,99.0,62.0,92.0,6.0,46.0,0.0,63.0,37.0,80.0,5.0,101.0,86.0,15.0,0.0,12.0,0.0,0.0,0.0,102.0,57.0,35.0,14.0,88.0,2.0,15.0,82.0,0.0,0.0,0.0,87.0,0.0,0.0,0.0,54.0,0.0,91.0,82.0,0.0,83.0,0.0,0.0,99.0,34.0,64.0,26.0,0.0,29.0,12.0,15.0,53.0,50.0,0.0,33.0,0.0,27.0,4.0,81.0,96.0,100.0,29.0,75.0,45.0,95.0,0.0,87.0,78.0,0.0,77.0,92.0,9.0,104.0,66.0,2.0,0.0,0.0,65.0,85.0,105.0,29.0,78.0,0.0,41.0,101.0,0.0,90.0,13.0,37.0,63.0,91.0,14.0,0.0,37.0,0.0,0.0,0.0,28.0,14.0,85.0,0.0,0.0,3.0,0.0,31.0,20.0,29.0,69.0,18.0,46.0,17.0,0.0,10.0,6.0,0.0,51.0,18.0,75.0,11.0,91.0,0.0,5.0,0.0,8.0,33.0,33.0,0.0,84.0,19.0,100.0,0.0,0.0,0.0,12.0,94.0,0.0,54.0,13.0,33.0,17.0,72.0,103.0,10.0,32.0,38.0,34.0,51.0,62.0,7.0,0.0,59.0,41.0,6.0,33.0,0.0,36.0,0.0,88.0,7.0,95.0,19.0,0.0,76.0,93.0,67.0,0.0,4.0,95.0,85.0,0.0,92.0,100.0,101.0,95.0,0.0,3.0,86.0,71.0,0.0,18.0,62.0,99.0,21.0,101.0,2.0,5.0,18.0,104.0,75.0,64.0,3.0,0.0,56.0,30.0,77.0,0.0,0.0,38.0,0.0,18.0,0.0,73.0,71.0,0.0,77.0,0.0,0.0,13.0,74.0,63.0,37.0,35.0,39.0,17.0,22.0,0.0,0.0,12.0,101.0,104.0,104.0,0.0,19.0,83.0,0.0,80.0,85.0,77.0,100.0,0.0,0.0,34.0,94.0,84.0,0.0,96.0,11.0,86.0,11.0,105.0,53.0,51.0,0.0,88.0,41.0,102.0,10.0,0.0,90.0,34.0,103.0,42.0,94.0,6.0,0.0,5.0,51.0,7.0,0.0,38.0,0.0,0.0,0.0,76.0,0.0,50.0,75.0,80.0,100.0,61.0,4.0,102.0,0.0,105.0,0.0,105.0,59.0,0.0,0.0,6.0,102.0,0.0,0.0,0.0,13.0,23.0,0.0,102.0,0.0,79.0,5.0,58.0,69.0,0.0,97.0,102.0,0.0,106.0,32.0,91.0,105.0,48.0,23.0,14.0,0.0,0.0,49.0,8.0,47.0,0.0,0.0,10.0,62.0,44.0,70.0,83.0,58.0,0.0,26.0,87.0,49.0,105.0,48.0,0.0,9.0,70.0,4.0,15.0,39.0,0.0,0.0,80.0,98.0,80.0,26.0,0.0,46.0,6.0,83.0,0.0,65.0,0.0,105.0,89.0,0.0,102.0,13.0,73.0,17.0,54.0,1.0,0.0,17.0,91.0,21.0,2.0,2.0,90.0,6.0,103.0,0.0,82.0,12.0,81.0,25.0,1.0,77.0,21.0,22.0,10.0,0.0,0.0,31.0,0.0,40.0,55.0,0.0,104.0,0.0,47.0,99.0,62.0,0.0,0.0,98.0,45.0,0.0,75.0,35.0,0.0,105.0,90.0,23.0,0.0,66.0,97.0,85.0,96.0,51.0,0.0,36.0,103.0,59.0,75.0,0.0,69.0,46.0,81.0,0.0,25.0,62.0,38.0,59.0,92.0,16.0,60.0,16.0,38.0,32.0,85.0,5.0,77.0,61.0,31.0,58.0,99.0,56.0,74.0,13.0,67.0,0.0,7.0,19.0,39.0,29.0,38.0,12.0,8.0,0.0,19.0,0.0,0.0,62.0,84.0,104.0,0.0,11.0,4.0,33.0,0.0,65.0,71.0,0.0,14.0,0.0,0.0,0.0,26.0,73.0,28.0,0.0,31.0,80.0,102.0,0.0,23.0,0.0,0.0,95.0,15.0,89.0,102.0,102.0,27.0,0.0,40.0,103.0,104.0,89.0,104.0,0.0,99.0,22.0,37.0,103.0,104.0,0.0,78.0,44.0,4.0,49.0,9.0,90.0,92.0,0.0,78.0,0.0,46.0,65.0,46.0,85.0,30.0,0.0,0.0,0.0,69.0,67.0,33.0,18.0,41.0,0.0,41.0,77.0,0.0,101.0,0.0,1.0,56.0,0.0,79.0,12.0,37.0,54.0,26.0,0.0,100.0,64.0,39.0,71.0,0.0,54.0,0.0,0.0,0.0,22.0,0.0,17.0,31.0,3.0,38.0,1.0,0.0,5.0,9.0,9.0,0.0,0.0,7.0,15.0,41.0,0.0,38.0,0.0,3.0,33.0,0.0,23.0,0.0,0.0,51.0,0.0,10.0,0.0,63.0,0.0,57.0,52.0,18.0,0.0,2.0,0.0,11.0,97.0,75.0,60.0,0.0,0.0,0.0,0.0,86.0,96.0,30.0,18.0,40.0,69.0,103.0,0.0,72.0,98.0,0.0,0.0,24.0,104.0,71.0,49.0,0.0,55.0,47.0,40.0,103.0,3.0,0.0,15.0,54.0,85.0,91.0,103.0,68.0,0.0,43.0,89.0,83.0,45.0,0.0,14.0,55.0,12.0,0.0,7.0,0.0,65.0,31.0,0.0,52.0,104.0,99.0,70.0,46.0,0.0,0.0,55.0,54.0,51.0,59.0,61.0,90.0,73.0,0.0,51.0,9.0,19.0,0.0,0.0,71.0,88.0,78.0,53.0,57.0,9.0,65.0,100.0,103.0,0.0,38.0,59.0,21.0,84.0,29.0,76.0,48.0,0.0,98.0,51.0,69.0,101.0,74.0,64.0,65.0,96.0,0.0,6.0,50.0,0.0,57.0,3.0,28.0,27.0,91.0,101.0,87.0,46.0,52.0,73.0,63.0,14.0,20.0,42.0,25.0,33.0,102.0,84.0,101.0,74.0,0.0,8.0,17.0,78.0,67.0,95.0,77.0,0.0,15.0,0.0,6.0,41.0,0.0,95.0,0.0,55.0,101.0,0.0,105.0,0.0,7.0,94.0,0.0,66.0,84.0,91.0,84.0,0.0,81.0,89.0,4.0,104.0,92.0,0.0,102.0,64.0,0.0,104.0,8.0,84.0,61.0,68.0,94.0,63.0,70.0,6.0,95.0,13.0,0.0,11.0,0.0,104.0,15.0,96.0,12.0,43.0,54.0,60.0,11.0,0.0,86.0,23.0,0.0,89.0,74.0,0.0,0.0,0.0,102.0,0.0,0.0,0.0,76.0,0.0,88.0,70.0,52.0,0.0,44.0,0.0,0.0,44.0,28.0,4.0,101.0,52.0,95.0,0.0,60.0,75.0,17.0,12.0,0.0,0.0,0.0,0.0,52.0,105.0,102.0,104.0,86.0,17.0,22.0,0.0,0.0,0.0,22.0,43.0,2.0,77.0,42.0,11.0,98.0,0.0,81.0,78.0,75.0,101.0,0.0,85.0,6.0,0.0,63.0,0.0,0.0,15.0,0.0,33.0,0.0,0.0,88.0,95.0,0.0,0.0,80.0,95.0,69.0,105.0,46.0,45.0,97.0,0.0,80.0,0.0,105.0,0.0,84.0,62.0,60.0,16.0,44.0,2.0,0.0,101.0,0.0,2.0,76.0,0.0,104.0,0.0,71.0,65.0,3.0,64.0,58.0,0.0,53.0,87.0,0.0,0.0,51.0,101.0,83.0,69.0,0.0,52.0,22.0,35.0,64.0,64.0,0.0,53.0,26.0,68.0,37.0,0.0,31.0,59.0,0.0,7.0,44.0,64.0,97.0,104.0,0.0,87.0,0.0,0.0,20.0,65.0,103.0,103.0,36.0,56.0,104.0,95.0,96.0,57.0,0.0,0.0,36.0,17.0,0.0,48.0,104.0,0.0,73.0,0.0,39.0,0.0,36.0,39.0,23.0,103.0,55.0,18.0,105.0,0.0,57.0,99.0,104.0,65.0,58.0,0.0,0.0,79.0,75.0,2.0,0.0,88.0,0.0,0.0,6.0,0.0,54.0,93.0,104.0,59.0,0.0,66.0,32.0,0.0,55.0,51.0,0.0,21.0,78.0,0.0,16.0,103.0,60.0,16.0,0.0,0.0,0.0,45.0,57.0,0.0,26.0,6.0,3.0,0.0,0.0,52.0,1.0,0.0,0.0,84.0,0.0,102.0,0.0,0.0,73.0,70.0,0.0,104.0,0.0,86.0,98.0,55.0,0.0,0.0,19.0,0.0,87.0,52.0,37.0,19.0,0.0,55.0,0.0,0.0,34.0,0.0,5.0,0.0,61.0,82.0,94.0,94.0,45.0,0.0,2.0,90.0,87.0,16.0,77.0,58.0,0.0,8.0,0.0,0.0,56.0,13.0,3.0,85.0,45.0,41.0,39.0,97.0,38.0,0.0,78.0,0.0,0.0,60.0,0.0,97.0,37.0,87.0,84.0,83.0,87.0,70.0,3.0,83.0,0.0,77.0,0.0,98.0,17.0,0.0,105.0,66.0,79.0,60.0,102.0,61.0,106.0,21.0,60.0,0.0,48.0,6.0,32.0,92.0,0.0,30.0,0.0,84.0,27.0,0.0,47.0,0.0,0.0,0.0,0.0,58.0,41.0,0.0,87.0,93.0,103.0,76.0,103.0,102.0,0.0,0.0,69.0,75.0,37.0,61.0,83.0,0.0,86.0,55.0,33.0,8.0,106.0,96.0,64.0,92.0,78.0,0.0,71.0,0.0,51.0,25.0,16.0,0.0,56.0,31.0,0.0,0.0,55.0,72.0,33.0,3.0,0.0,51.0,46.0,78.0,11.0,0.0,45.0,0.0,47.0,0.0,90.0,0.0,0.0,79.0,28.0,36.0,0.0,0.0,97.0,58.0,99.0,0.0,0.0,56.0,84.0,33.0,23.0,104.0,44.0,74.0,0.0,0.0,102.0,98.0,61.0,0.0,85.0,1.0,36.0,17.0,0.0,52.0,39.0,0.0,74.0,0.0,0.0,25.0,0.0,0.0,97.0,23.0,44.0,103.0,56.0,0.0,17.0,0.0,0.0,0.0,34.0,35.0,0.0,87.0,62.0,0.0,0.0,0.0,84.0,30.0,0.0,104.0,58.0,0.0,22.0,2.0,0.0,3.0,74.0,27.0,19.0,32.0,53.0,0.0,47.0,0.0,0.0,70.0,95.0,96.0,60.0,76.0,53.0,85.0,55.0,0.0,82.0,104.0,67.0,46.0,80.0,0.0,16.0,0.0,53.0,103.0,0.0,39.0,57.0,72.0,100.0,15.0,98.0,0.0,44.0,0.0,65.0,103.0,0.0,39.0,4.0,35.0,0.0,66.0,89.0,99.0,0.0,106.0,77.0,0.0,44.0,54.0,0.0,76.0,82.0,0.0,51.0,68.0,0.0,96.0,52.0,0.0,50.0,33.0,104.0,75.0,11.0,73.0,0.0,0.0,38.0,0.0,8.0,0.0,7.0,17.0,0.0,86.0,35.0,102.0,26.0,83.0,0.0,82.0,0.0,0.0,52.0,83.0,2.0,8.0,12.0,86.0,36.0,20.0,12.0,70.0,66.0,81.0,0.0,7.0,56.0,102.0,27.0,89.0,0.0,0.0,0.0,34.0,72.0,89.0,90.0,84.0,21.0,65.0,52.0,80.0,0.0,0.0,34.0,56.0,58.0,45.0,14.0,23.0,0.0,14.0,56.0,24.0,64.0,30.0,103.0,34.0,19.0,0.0,0.0,74.0,76.0,13.0,99.0,0.0,57.0,0.0,5.0,104.0,51.0,62.0,9.0,0.0,0.0,24.0,89.0,0.0,0.0,50.0,0.0,49.0,0.0,0.0,33.0,34.0,13.0,0.0,0.0,0.0,0.0,102.0,32.0,96.0,72.0,5.0,99.0,0.0,98.0,30.0,0.0,73.0,0.0,32.0,80.0,0.0,105.0,0.0,42.0,103.0,86.0,74.0,0.0,75.0,0.0,101.0,0.0,6.0,38.0,19.0,60.0,0.0,50.0,43.0,20.0,2.0,35.0,80.0,76.0,0.0,97.0,68.0,33.0,39.0,58.0,73.0,48.0,0.0,0.0,85.0,62.0,0.0,0.0,0.0,4.0,0.0,0.0,24.0,0.0,32.0,22.0,10.0,99.0,85.0,0.0,51.0,86.0,66.0,45.0,60.0,17.0,85.0,0.0,96.0,82.0,82.0,62.0,96.0,59.0,19.0,7.0,25.0,91.0,43.0,24.0,0.0,67.0,84.0,52.0,23.0,18.0,53.0,101.0,69.0,87.0,0.0,2.0,0.0,53.0,54.0,15.0,46.0,57.0,53.0,0.0,18.0,0.0,0.0,0.0,102.0,89.0,85.0,92.0,101.0,0.0,0.0,0.0,0.0,91.0,8.0,105.0,90.0,0.0,57.0,0.0,57.0,51.0,0.0,85.0,0.0,0.0,18.0,0.0,106.0,92.0,0.0,33.0,8.0,0.0,0.0,0.0,0.0,0.0,86.0,56.0,15.0,0.0,80.0,58.0,0.0,0.0,98.0,4.0,16.0,21.0,0.0,3.0,0.0,0.0,0.0,0.0,87.0,0.0,53.0,0.0,0.0,11.0,0.0,15.0,10.0,0.0,4.0,2.0,60.0,0.0,69.0,0.0,4.0,56.0,104.0,4.0,0.0,26.0,42.0,17.0,22.0,92.0,82.0,96.0,53.0,35.0,53.0,0.0,75.0,83.0,71.0,0.0,26.0,4.0,6.0,33.0,105.0,53.0,103.0,61.0,91.0,0.0,0.0,0.0,72.0,1.0,0.0,61.0,102.0,103.0,0.0,67.0,0.0,9.0,11.0,67.0,16.0,63.0,34.0,0.0,55.0,61.0,39.0,0.0,0.0,74.0,22.0,0.0,7.0,34.0,0.0,88.0,0.0,23.0,0.0,43.0,97.0,50.0,84.0,30.0,38.0,81.0,2.0,101.0,7.0,8.0,0.0,74.0,8.0,97.0,0.0,31.0,54.0,0.0,35.0,22.0,47.0,0.0,92.0,5.0,46.0,50.0,42.0,51.0,33.0,0.0,24.0,69.0,27.0,36.0,0.0,65.0,0.0,53.0,11.0,0.0,24.0,51.0,0.0,0.0,101.0,93.0,21.0,49.0,56.0,0.0,79.0,0.0,61.0,0.0,0.0,9.0,0.0,76.0,0.0,80.0,0.0,103.0,75.0,105.0,102.0,0.0,0.0,70.0,96.0,0.0,20.0,7.0,89.0,101.0,0.0,0.0,101.0,103.0,0.0,11.0,1.0,77.0,52.0,83.0,15.0,65.0,0.0,7.0,0.0,0.0,10.0,75.0,94.0,103.0,0.0,1.0,0.0,94.0,9.0,0.0,95.0,7.0,93.0,84.0,55.0,0.0,101.0,0.0,53.0,70.0,3.0,74.0,10.0,0.0,39.0,0.0,0.0,18.0,0.0,52.0,0.0,32.0,25.0,96.0,45.0,0.0,104.0,0.0,89.0,104.0,74.0,58.0,0.0,0.0,103.0,0.0,0.0,0.0,0.0,0.0,93.0,54.0,94.0,31.0,3.0,48.0,0.0,10.0,78.0,88.0,103.0,85.0,100.0,41.0,0.0,0.0,82.0,0.0,52.0,42.0,88.0,28.0,0.0,93.0,0.0,15.0,63.0,0.0,8.0,32.0,13.0,0.0,0.0,31.0,0.0,57.0,77.0,53.0,60.0,24.0,104.0,104.0,82.0,0.0,94.0,83.0,52.0,55.0,0.0,0.0,97.0,4.0,0.0,27.0,104.0,0.0,15.0,14.0,0.0,50.0,2.0,86.0,84.0,20.0,62.0,49.0,10.0,103.0,12.0,86.0,0.0,37.0,32.0,53.0,0.0,68.0,97.0,33.0,67.0,103.0,90.0,0.0,13.0,13.0,58.0,37.0,0.0,9.0,7.0,16.0,80.0,56.0,3.0,3.0,0.0,35.0,0.0,78.0,87.0,92.0,38.0,11.0,0.0,86.0,67.0,4.0,0.0,0.0,32.0,37.0,36.0,0.0,81.0,95.0,46.0,37.0,59.0,68.0,23.0,104.0,77.0,12.0,51.0,27.0,0.0,0.0,46.0,0.0,71.0,13.0,69.0,0.0,0.0,105.0,59.0,93.0,0.0,0.0,0.0,0.0,16.0,30.0,0.0,63.0,0.0,8.0,7.0,55.0,44.0,0.0,19.0,105.0,83.0,77.0,9.0,84.0,52.0,0.0,101.0,76.0,0.0,86.0,30.0,28.0,0.0,0.0,96.0,9.0,28.0,53.0,0.0,66.0,0.0,62.0,0.0,0.0,33.0,101.0,0.0,0.0,23.0,0.0,24.0,0.0,31.0,0.0,97.0,58.0,13.0,106.0,39.0,59.0,0.0,87.0,104.0,27.0,69.0,0.0,74.0,0.0,0.0,2.0,7.0,55.0,0.0,89.0,89.0,103.0,0.0,13.0,0.0,57.0,84.0,55.0,0.0,47.0,0.0,10.0,25.0,40.0,60.0,0.0,29.0,99.0,70.0,5.0,0.0,38.0,0.0,86.0,31.0,104.0,0.0,78.0,88.0,81.0,27.0,49.0,73.0,9.0,0.0,90.0,28.0,101.0,32.0,88.0,62.0,71.0,85.0,52.0,89.0,4.0,84.0,28.0,0.0,18.0,0.0,83.0,0.0,3.0,105.0,52.0,11.0,0.0,73.0,90.0,0.0,6.0,0.0,38.0,0.0,0.0,51.0,41.0,0.0,60.0,102.0,16.0,17.0,94.0,19.0,0.0,0.0,96.0,0.0,87.0,0.0,101.0,0.0,48.0,0.0,103.0,49.0,104.0,58.0,102.0,0.0,99.0,95.0,102.0,99.0,51.0,95.0,0.0,103.0,0.0,49.0,59.0,0.0,77.0,0.0,91.0,0.0,6.0,2.0,25.0,45.0,0.0,7.0,76.0,5.0,43.0,85.0,76.0,21.0,64.0,82.0,30.0,0.0,0.0,0.0,17.0,0.0,0.0,104.0,0.0,77.0,76.0,0.0,98.0,0.0,0.0,61.0,30.0,3.0,0.0,98.0,15.0,79.0,0.0,0.0,0.0,102.0,70.0,63.0,50.0,82.0,66.0,0.0,0.0,0.0,0.0,0.0,0.0,0.0,0.0,0.0,0.0,40.0,9.0,1.0,0.0,13.0,0.0,63.0,40.0,0.0,0.0,0.0,4.0,65.0,54.0,18.0,0.0,60.0,8.0,94.0,53.0,27.0,103.0,0.0,91.0,25.0,56.0,68.0,0.0,9.0,0.0,0.0,3.0,0.0,103.0,0.0,103.0,0.0,75.0,42.0,103.0,21.0,9.0,35.0,0.0,55.0,4.0,81.0,0.0,66.0,86.0,0.0,102.0,106.0,62.0,50.0,52.0,91.0,51.0,87.0,0.0,65.0,5.0,83.0,0.0,44.0,101.0,0.0,0.0,0.0,0.0,101.0,30.0,62.0,25.0,71.0,87.0,20.0,24.0,105.0,71.0,105.0,92.0,7.0,57.0,94.0,99.0,97.0,7.0,22.0,0.0,31.0,57.0,0.0,0.0,87.0,0.0,100.0,0.0,22.0,10.0,68.0,30.0,0.0,77.0,55.0,28.0,30.0,78.0,16.0,62.0,64.0,0.0,54.0,0.0,0.0,25.0,68.0,32.0,0.0,0.0,82.0,67.0,0.0,0.0,98.0,0.0,72.0,14.0,0.0,76.0,0.0,0.0,14.0,16.0,17.0,0.0,0.0,2.0,88.0,37.0,0.0,0.0,9.0,30.0,0.0,56.0,4.0,52.0,88.0,0.0,41.0,0.0,95.0,97.0,43.0,2.0,18.0,0.0,6.0,67.0,0.0,84.0,0.0,54.0,0.0,92.0,85.0,0.0,70.0,12.0,99.0,96.0,51.0,0.0,24.0,78.0,69.0,69.0,0.0,28.0,0.0,0.0,81.0,0.0,57.0,0.0,102.0,52.0,73.0,51.0,0.0,60.0,52.0,101.0,98.0,71.0,14.0,28.0,98.0,12.0,88.0,74.0,46.0,87.0,0.0,30.0,102.0,54.0,47.0,0.0,104.0,0.0,82.0,42.0,77.0,20.0,60.0,97.0,0.0,73.0,23.0,104.0,8.0,30.0,65.0,3.0,96.0,0.0,72.0,4.0,0.0,38.0,47.0,104.0,10.0,87.0,0.0,59.0,12.0,68.0,67.0,29.0,85.0,37.0,0.0,62.0,0.0,81.0,48.0,21.0,79.0,101.0,37.0,52.0,10.0,98.0,104.0,0.0,25.0,0.0,0.0,0.0,36.0,51.0,34.0,104.0,59.0,54.0,64.0,102.0,73.0,90.0,0.0,87.0,65.0,105.0,50.0,93.0,0.0,38.0,0.0,0.0,6.0,76.0,0.0,64.0,58.0,3.0,47.0,90.0,30.0,44.0,2.0,69.0,4.0,31.0,73.0,95.0,12.0,61.0,0.0,0.0,0.0,58.0,8.0,58.0,90.0,3.0,23.0,34.0,30.0,0.0,0.0,27.0,18.0,0.0,0.0,96.0,36.0,96.0,47.0,0.0,85.0,27.0,0.0,61.0,0.0,0.0,1.0,57.0,86.0,0.0,0.0,0.0,0.0,92.0,0.0,1.0,0.0,64.0,62.0,0.0,57.0,82.0,0.0,88.0,55.0,92.0,52.0,0.0,21.0,75.0,0.0,0.0,15.0,0.0,69.0,101.0,0.0,8.0,14.0,0.0,60.0,0.0,36.0,0.0,0.0,86.0,0.0,0.0,32.0,21.0,99.0,19.0,33.0,5.0,0.0,7.0,11.0,30.0,61.0,66.0,0.0,0.0,72.0,96.0,5.0,54.0,7.0,98.0,96.0,102.0,0.0,45.0,93.0,30.0,80.0,43.0,0.0,26.0,30.0,0.0,0.0,0.0,64.0,84.0,15.0,56.0,73.0,63.0,0.0,89.0,56.0,0.0,58.0,58.0,3.0,105.0,75.0,0.0,51.0,49.0,56.0,94.0,12.0,9.0,57.0,0.0,18.0,102.0,100.0,50.0,62.0,84.0,20.0,0.0,82.0,4.0,75.0,0.0,1.0,50.0,9.0,10.0,0.0,4.0,21.0,85.0,71.0,81.0,51.0,45.0,0.0,32.0,20.0,23.0,42.0,106.0,33.0,96.0,0.0,0.0,14.0,53.0,92.0,79.0,15.0,0.0,0.0,1.0,90.0,60.0,0.0,99.0,0.0,58.0,88.0,46.0,96.0,91.0,90.0,0.0,54.0,80.0,0.0,13.0,98.0,0.0,28.0,0.0,39.0,3.0,12.0,0.0,89.0,12.0,0.0,54.0,95.0,0.0,9.0,7.0,11.0,0.0,69.0,80.0,104.0,0.0,82.0,54.0,29.0,75.0,39.0,12.0,73.0,93.0,9.0,2.0,81.0,79.0,75.0,0.0,80.0,0.0,8.0,67.0,30.0,26.0,17.0,3.0,87.0,32.0,58.0,70.0,97.0,54.0,23.0,30.0,20.0,26.0,0.0,60.0,5.0,0.0,0.0,0.0,0.0,0.0,2.0,94.0,0.0,12.0,16.0,8.0,0.0,52.0,0.0,78.0,0.0,39.0,72.0,98.0,0.0,27.0,77.0,0.0,0.0,62.0,0.0,0.0,3.0,0.0,0.0,0.0,46.0,90.0,5.0,70.0,0.0,0.0,70.0,89.0,65.0,34.0,2.0,98.0,35.0,105.0,59.0,49.0,0.0,49.0,0.0,60.0,87.0,7.0,0.0,96.0,0.0,0.0,8.0,76.0,0.0,0.0,49.0,0.0,21.0,31.0,22.0,0.0,0.0,88.0,90.0,90.0,18.0,72.0,98.0,67.0,96.0,17.0,105.0,0.0,101.0,7.0,0.0,98.0,0.0,27.0,40.0,20.0,31.0,103.0,86.0,86.0,21.0,29.0,84.0,14.0,0.0,0.0,0.0,0.0,0.0,43.0,84.0,14.0,56.0,0.0,27.0,54.0,2.0,0.0,102.0,98.0,0.0,90.0,102.0,0.0,0.0,0.0,102.0,83.0,50.0,2.0,1.0,0.0,4.0,82.0,30.0,34.0,0.0,64.0,100.0,0.0,57.0,0.0,20.0,0.0,42.0,56.0,106.0,33.0,0.0,50.0,17.0,39.0,38.0,0.0,88.0,4.0,0.0,24.0,14.0,31.0,66.0,0.0,29.0,27.0,65.0,54.0,0.0,85.0,58.0,25.0,5.0,0.0,0.0,54.0,78.0,0.0,64.0,0.0,82.0,8.0,67.0,95.0,102.0,35.0,35.0,0.0,97.0,26.0,0.0,0.0,0.0,0.0,86.0,31.0,88.0,8.0,102.0,19.0,38.0,0.0,6.0,5.0,55.0,34.0,40.0,26.0,70.0,82.0,26.0,0.0,104.0,0.0,98.0,0.0,9.0,1.0,54.0,20.0,26.0,84.0,0.0,0.0,16.0,0.0,4.0,51.0,104.0,105.0,46.0,8.0,104.0,11.0,34.0,0.0,92.0,102.0,105.0,56.0,101.0,65.0,69.0,52.0,102.0,52.0,102.0,99.0,0.0,103.0,92.0,0.0,61.0,55.0,46.0,31.0,29.0,39.0,0.0,101.0,0.0,9.0,94.0,33.0,74.0,0.0,52.0,0.0,0.0,96.0,81.0,23.0,32.0,104.0,5.0,102.0,20.0,27.0,0.0,0.0,0.0,39.0,88.0,60.0,13.0,0.0,3.0,0.0,0.0,18.0,78.0,20.0,13.0,0.0,80.0,98.0,67.0,60.0,99.0,43.0,97.0,85.0,62.0,50.0,79.0,28.0,105.0,44.0,43.0,103.0,0.0,86.0,0.0,0.0,43.0,78.0,0.0,5.0,101.0,61.0,0.0,89.0,46.0,0.0,49.0,25.0,3.0,0.0,16.0,7.0,0.0,36.0,80.0,19.0,69.0,25.0,83.0,33.0,1.0,4.0,28.0,85.0,12.0,36.0,62.0,28.0,0.0,0.0,0.0,0.0,73.0,54.0,71.0,0.0,28.0,3.0,33.0,99.0,0.0,39.0,89.0,64.0,63.0,76.0,31.0,67.0,94.0,10.0,95.0,29.0,98.0,3.0,0.0,84.0,82.0,55.0,0.0,0.0,6.0,24.0,31.0,3.0,61.0,0.0,51.0,71.0,30.0,65.0,22.0,54.0,23.0,0.0,3.0,0.0,29.0,22.0,0.0,36.0,55.0,95.0,0.0,91.0,0.0,28.0,0.0,66.0,0.0,36.0,78.0,76.0,53.0,0.0,101.0,43.0,53.0,15.0,105.0,105.0,2.0,4.0,86.0,0.0,2.0,78.0,56.0,7.0,0.0,0.0,55.0,58.0,103.0,70.0,71.0,0.0,0.0,12.0,4.0,100.0,52.0,0.0,80.0,56.0,51.0,98.0,46.0,0.0,77.0,0.0,95.0,9.0,0.0,22.0,36.0,85.0,22.0,6.0,56.0,74.0,104.0,81.0,6.0,51.0,0.0,93.0,23.0,98.0,0.0,30.0,59.0,0.0,101.0,37.0,58.0,74.0,45.0,90.0,24.0,88.0,0.0,99.0,71.0,0.0,6.0,0.0,0.0,87.0,59.0,0.0,0.0,0.0,0.0,33.0,0.0,14.0,21.0,0.0,0.0,10.0,0.0,6.0,12.0,0.0,34.0,84.0,64.0,25.0,0.0,62.0,79.0,102.0,92.0,105.0,53.0,20.0,29.0,0.0,94.0,16.0,56.0,5.0,42.0,8.0,1.0,89.0,80.0,26.0,54.0,17.0,91.0,55.0,0.0,0.0,0.0,89.0,0.0,8.0,22.0,0.0,105.0,99.0,103.0,15.0,21.0,58.0,40.0,16.0,83.0,34.0,93.0,20.0,79.0,0.0,81.0,26.0,45.0,71.0,70.0,0.0,0.0,55.0,0.0,59.0,82.0,35.0,99.0,101.0,45.0,67.0,93.0,82.0,92.0,84.0,62.0,0.0,0.0,31.0,0.0,0.0,0.0,22.0,94.0,0.0,23.0,18.0,103.0,39.0,0.0,0.0,1.0,87.0,101.0,43.0,94.0,0.0,14.0,0.0,102.0,100.0,0.0,0.0,0.0,72.0,90.0,99.0,80.0,52.0,87.0,8.0,0.0,32.0,0.0,72.0,103.0,90.0,0.0,14.0,101.0,77.0,61.0,23.0,0.0,0.0,78.0,0.0,0.0,0.0,21.0,0.0,92.0,0.0,67.0,63.0,54.0,0.0,18.0,47.0,104.0,0.0,0.0,0.0,8.0,0.0,0.0,54.0,59.0,0.0,0.0,44.0,44.0,0.0,0.0,10.0,5.0,88.0,48.0,81.0,0.0,38.0,57.0,98.0,0.0,38.0,64.0,14.0,12.0,21.0,82.0,97.0,0.0,0.0,51.0,0.0,33.0,0.0,0.0,103.0,0.0,104.0,87.0,89.0,101.0,0.0,40.0,94.0,34.0,63.0,24.0,10.0,0.0,75.0,3.0,54.0,93.0,18.0,0.0,36.0,68.0,0.0,0.0,55.0,90.0,77.0,43.0,14.0,23.0,1.0,2.0,43.0,103.0,90.0,84.0,102.0,0.0,100.0,37.0,0.0,0.0,0.0,50.0,0.0,38.0,87.0,0.0,50.0,53.0,73.0,0.0,0.0,0.0,12.0,0.0,100.0,33.0,98.0,42.0,0.0,0.0,55.0,97.0,55.0,95.0,86.0,91.0,10.0,0.0,0.0,51.0,96.0,89.0,6.0,67.0,103.0,2.0,99.0,0.0,75.0,90.0,52.0,106.0,30.0,0.0,40.0,83.0,106.0,97.0,70.0,28.0,0.0,52.0,0.0,37.0,52.0,10.0,0.0,56.0,58.0,71.0,0.0,38.0,73.0,0.0,0.0,97.0,0.0,0.0,6.0,91.0,0.0,90.0,0.0,38.0,0.0,31.0,0.0,51.0,0.0,0.0,14.0,47.0,0.0,0.0,43.0,59.0,0.0,55.0,5.0,54.0,101.0,55.0,88.0,104.0,0.0,16.0,104.0,0.0,5.0,0.0,0.0,78.0,67.0,13.0,86.0,42.0,0.0,0.0,0.0,57.0,43.0,9.0,82.0,21.0,85.0,3.0,0.0,102.0,63.0,0.0,6.0,0.0,0.0,84.0,81.0,51.0,98.0,101.0,52.0,18.0,22.0,0.0,103.0,89.0,0.0,19.0,0.0,15.0,43.0,0.0,22.0,89.0,60.0,91.0,55.0,42.0,54.0,97.0,104.0,86.0,0.0,89.0,64.0,96.0,99.0,0.0,71.0,54.0,0.0,54.0,0.0,50.0,91.0,60.0,90.0,66.0,1.0,105.0,95.0,3.0,0.0,101.0,0.0,14.0,103.0,99.0,87.0,25.0,34.0,65.0,102.0,0.0,0.0,14.0,77.0,72.0,64.0,64.0,0.0,54.0,2.0,93.0,105.0,0.0,0.0,20.0,11.0,0.0,0.0,57.0,56.0,20.0,85.0,0.0,102.0,59.0,99.0,21.0,57.0,0.0,50.0,78.0,29.0,103.0,105.0,23.0,99.0,0.0,100.0,0.0,49.0,96.0,50.0,50.0,74.0,49.0,6.0,93.0,0.0,106.0,43.0,63.0,0.0,102.0,42.0,12.0,0.0,105.0,0.0,56.0,0.0,56.0,0.0,90.0,0.0,4.0,19.0,4.0,21.0,104.0,62.0,15.0,7.0,72.0,0.0,13.0,87.0,52.0,3.0,85.0,1.0,32.0,82.0,65.0,44.0,10.0,0.0,53.0,101.0,67.0,0.0,63.0,7.0,0.0,0.0,49.0,5.0,32.0,0.0,52.0,13.0,13.0,50.0,7.0,0.0,0.0,0.0,22.0,81.0,84.0,39.0,0.0,0.0,55.0,48.0,31.0,0.0,39.0,2.0,0.0,3.0,5.0,67.0,63.0,0.0,7.0,65.0,1.0,57.0,105.0,100.0,58.0,78.0,75.0,52.0,0.0,28.0,104.0,0.0,58.0,31.0,1.0,11.0,10.0,102.0,23.0,10.0,13.0,105.0,61.0,0.0,0.0,85.0,0.0,73.0,39.0,0.0,16.0,83.0,0.0,54.0,0.0,0.0,76.0,41.0,24.0,4.0,68.0,0.0,81.0,69.0,21.0,81.0,25.0,103.0,0.0,0.0,81.0,102.0,23.0,4.0,8.0,0.0,3.0,62.0,0.0,0.0,0.0,70.0,94.0,9.0,0.0,0.0,104.0,4.0,45.0,82.0,24.0,105.0,55.0,0.0,97.0,52.0,0.0,0.0,77.0,83.0,6.0,89.0,0.0,105.0,74.0,3.0,101.0,53.0,0.0,0.0,0.0,20.0,88.0,93.0,66.0,0.0,0.0,0.0,82.0,81.0,28.0,105.0,95.0,41.0,0.0,50.0,39.0,0.0,97.0,0.0,0.0,59.0,0.0,99.0,101.0,101.0,0.0,0.0,0.0,59.0,9.0,104.0,52.0,43.0,23.0,0.0,12.0,11.0,30.0,77.0,88.0,19.0,95.0,72.0,87.0,46.0,47.0,0.0,73.0,36.0,12.0,0.0,58.0,8.0,0.0,26.0,53.0,85.0,8.0,88.0,86.0,0.0,75.0,85.0,5.0,82.0,0.0,52.0,91.0,90.0,42.0,104.0,87.0,103.0,48.0,98.0,70.0,14.0,91.0,24.0,0.0,93.0,75.0,0.0,0.0,13.0,92.0,27.0,59.0,0.0,60.0,78.0,99.0,0.0,0.0,12.0,104.0,0.0,53.0,55.0,10.0,82.0,98.0,79.0,33.0,62.0,0.0,40.0,0.0,23.0,27.0,56.0,102.0,0.0,59.0,31.0,79.0,0.0,40.0,36.0,10.0,36.0,42.0,0.0,65.0,0.0,84.0,85.0,17.0,32.0,84.0,71.0,15.0,7.0,87.0,103.0,44.0,22.0,90.0,0.0,54.0,11.0,53.0,0.0,0.0,53.0,22.0,0.0,0.0,34.0,104.0,2.0,99.0,78.0,81.0,90.0,0.0,0.0,56.0,98.0,41.0,0.0,57.0,104.0,97.0,12.0,76.0,55.0,26.0,82.0,0.0,48.0,11.0,0.0,17.0,3.0,13.0,0.0,63.0,0.0,73.0,33.0,31.0,8.0,55.0,74.0,0.0,1.0,0.0,0.0,12.0,54.0,101.0,0.0,101.0,43.0,35.0,92.0,0.0,52.0,77.0,0.0,45.0,5.0,103.0,2.0,63.0,74.0,8.0,6.0,0.0,99.0,59.0,0.0,94.0,0.0,0.0,20.0,0.0,0.0,19.0,0.0,88.0,23.0,51.0,41.0,0.0,0.0,0.0,5.0,3.0,0.0,17.0,86.0,0.0,0.0,105.0,0.0,16.0,0.0,3.0,0.0,18.0,93.0,60.0,52.0,45.0,103.0,47.0,79.0,0.0,40.0,91.0,104.0,0.0,51.0,104.0,34.0,85.0,59.0,102.0,84.0,101.0,0.0,63.0,54.0,70.0,0.0,92.0,10.0,0.0,40.0,0.0,50.0,0.0,52.0,0.0,0.0,93.0,105.0,0.0,80.0,0.0,100.0,58.0,6.0,0.0,14.0,0.0,57.0,0.0,0.0,57.0,69.0,0.0,0.0,70.0,0.0,0.0,0.0,87.0,0.0,0.0,51.0,0.0,0.0,0.0,10.0,97.0,0.0,0.0,15.0,46.0,1.0,50.0,104.0,64.0,0.0,38.0,57.0,0.0,64.0,0.0,76.0,102.0,87.0,76.0,26.0,0.0,51.0,85.0,0.0,51.0,0.0,0.0,98.0,81.0,0.0,0.0,0.0,4.0,0.0,0.0,105.0,91.0,52.0,23.0,0.0,103.0,67.0,0.0,0.0,87.0,0.0,68.0,103.0,79.0,32.0,49.0,99.0,94.0,6.0,20.0,81.0,0.0,0.0,0.0,0.0,55.0,68.0,0.0,53.0,53.0,32.0,32.0,0.0,0.0,0.0,85.0,0.0,0.0,53.0,103.0,0.0,71.0,52.0,0.0,0.0,72.0,15.0,24.0,12.0,52.0,49.0,0.0,103.0,51.0,0.0,0.0,7.0,100.0,0.0,90.0,59.0,0.0,28.0,0.0,0.0,0.0,0.0,92.0,50.0,45.0,0.0,0.0,0.0,73.0,0.0,34.0,1.0,0.0,0.0,0.0,5.0,0.0,0.0,0.0,51.0,50.0,98.0,84.0,0.0,38.0,32.0,97.0,69.0,49.0,79.0,0.0,0.0,0.0,41.0,22.0,5.0,13.0,0.0,65.0,0.0,58.0,47.0,43.0,94.0,7.0,23.0,102.0,60.0,34.0,78.0,103.0,48.0,0.0,0.0,89.0,0.0,68.0,0.0,12.0,19.0,68.0,0.0,104.0,59.0,64.0,32.0,14.0,0.0,0.0,53.0,43.0,0.0,92.0,0.0,0.0,0.0,0.0,105.0,75.0,88.0,41.0,71.0,102.0,0.0,0.0,0.0,94.0,106.0,0.0,0.0,0.0,52.0,0.0,69.0,75.0,56.0,0.0,77.0,0.0,0.0,0.0,49.0,0.0,53.0,0.0,0.0,1.0,20.0,70.0,0.0,41.0,0.0,55.0,0.0,0.0,6.0,0.0,0.0,0.0,14.0,87.0,55.0,0.0,0.0,1.0,0.0,27.0,9.0,3.0,102.0,103.0,11.0,9.0,0.0,84.0,24.0,73.0,0.0,0.0,70.0,31.0,51.0,0.0,12.0,0.0,47.0,52.0,0.0,0.0,0.0,0.0,0.0,12.0,80.0,0.0,95.0,93.0,102.0,75.0,85.0,0.0,0.0,100.0,76.0,94.0,19.0,102.0,0.0,7.0,0.0,0.0,0.0,0.0,87.0,78.0,76.0,31.0,0.0,39.0,85.0,0.0,76.0,0.0,47.0,0.0,0.0,0.0,16.0,83.0,17.0,6.0,0.0,0.0,0.0,0.0,55.0,36.0,50.0,0.0,3.0,76.0,0.0,71.0,64.0,105.0,72.0,53.0,0.0,104.0,0.0,105.0,86.0,38.0,3.0,103.0,74.0,73.0,16.0,0.0,0.0,21.0,82.0,19.0,0.0,29.0,0.0,87.0,90.0,0.0,11.0,91.0,84.0,31.0,10.0,0.0,0.0,91.0,96.0,0.0,0.0,52.0,0.0,88.0,16.0,102.0,79.0,8.0,66.0,32.0,0.0,13.0,0.0,0.0,85.0,0.0,57.0,18.0,92.0,84.0,0.0,22.0,98.0,63.0,48.0,0.0,16.0,56.0,17.0,94.0,0.0,0.0,35.0,76.0],\"xaxis\":\"x2\",\"yaxis\":\"y2\",\"type\":\"violin\"}],                        {\"template\":{\"data\":{\"bar\":[{\"error_x\":{\"color\":\"#2a3f5f\"},\"error_y\":{\"color\":\"#2a3f5f\"},\"marker\":{\"line\":{\"color\":\"#E5ECF6\",\"width\":0.5},\"pattern\":{\"fillmode\":\"overlay\",\"size\":10,\"solidity\":0.2}},\"type\":\"bar\"}],\"barpolar\":[{\"marker\":{\"line\":{\"color\":\"#E5ECF6\",\"width\":0.5},\"pattern\":{\"fillmode\":\"overlay\",\"size\":10,\"solidity\":0.2}},\"type\":\"barpolar\"}],\"carpet\":[{\"aaxis\":{\"endlinecolor\":\"#2a3f5f\",\"gridcolor\":\"white\",\"linecolor\":\"white\",\"minorgridcolor\":\"white\",\"startlinecolor\":\"#2a3f5f\"},\"baxis\":{\"endlinecolor\":\"#2a3f5f\",\"gridcolor\":\"white\",\"linecolor\":\"white\",\"minorgridcolor\":\"white\",\"startlinecolor\":\"#2a3f5f\"},\"type\":\"carpet\"}],\"choropleth\":[{\"colorbar\":{\"outlinewidth\":0,\"ticks\":\"\"},\"type\":\"choropleth\"}],\"contour\":[{\"colorbar\":{\"outlinewidth\":0,\"ticks\":\"\"},\"colorscale\":[[0.0,\"#0d0887\"],[0.1111111111111111,\"#46039f\"],[0.2222222222222222,\"#7201a8\"],[0.3333333333333333,\"#9c179e\"],[0.4444444444444444,\"#bd3786\"],[0.5555555555555556,\"#d8576b\"],[0.6666666666666666,\"#ed7953\"],[0.7777777777777778,\"#fb9f3a\"],[0.8888888888888888,\"#fdca26\"],[1.0,\"#f0f921\"]],\"type\":\"contour\"}],\"contourcarpet\":[{\"colorbar\":{\"outlinewidth\":0,\"ticks\":\"\"},\"type\":\"contourcarpet\"}],\"heatmap\":[{\"colorbar\":{\"outlinewidth\":0,\"ticks\":\"\"},\"colorscale\":[[0.0,\"#0d0887\"],[0.1111111111111111,\"#46039f\"],[0.2222222222222222,\"#7201a8\"],[0.3333333333333333,\"#9c179e\"],[0.4444444444444444,\"#bd3786\"],[0.5555555555555556,\"#d8576b\"],[0.6666666666666666,\"#ed7953\"],[0.7777777777777778,\"#fb9f3a\"],[0.8888888888888888,\"#fdca26\"],[1.0,\"#f0f921\"]],\"type\":\"heatmap\"}],\"heatmapgl\":[{\"colorbar\":{\"outlinewidth\":0,\"ticks\":\"\"},\"colorscale\":[[0.0,\"#0d0887\"],[0.1111111111111111,\"#46039f\"],[0.2222222222222222,\"#7201a8\"],[0.3333333333333333,\"#9c179e\"],[0.4444444444444444,\"#bd3786\"],[0.5555555555555556,\"#d8576b\"],[0.6666666666666666,\"#ed7953\"],[0.7777777777777778,\"#fb9f3a\"],[0.8888888888888888,\"#fdca26\"],[1.0,\"#f0f921\"]],\"type\":\"heatmapgl\"}],\"histogram\":[{\"marker\":{\"pattern\":{\"fillmode\":\"overlay\",\"size\":10,\"solidity\":0.2}},\"type\":\"histogram\"}],\"histogram2d\":[{\"colorbar\":{\"outlinewidth\":0,\"ticks\":\"\"},\"colorscale\":[[0.0,\"#0d0887\"],[0.1111111111111111,\"#46039f\"],[0.2222222222222222,\"#7201a8\"],[0.3333333333333333,\"#9c179e\"],[0.4444444444444444,\"#bd3786\"],[0.5555555555555556,\"#d8576b\"],[0.6666666666666666,\"#ed7953\"],[0.7777777777777778,\"#fb9f3a\"],[0.8888888888888888,\"#fdca26\"],[1.0,\"#f0f921\"]],\"type\":\"histogram2d\"}],\"histogram2dcontour\":[{\"colorbar\":{\"outlinewidth\":0,\"ticks\":\"\"},\"colorscale\":[[0.0,\"#0d0887\"],[0.1111111111111111,\"#46039f\"],[0.2222222222222222,\"#7201a8\"],[0.3333333333333333,\"#9c179e\"],[0.4444444444444444,\"#bd3786\"],[0.5555555555555556,\"#d8576b\"],[0.6666666666666666,\"#ed7953\"],[0.7777777777777778,\"#fb9f3a\"],[0.8888888888888888,\"#fdca26\"],[1.0,\"#f0f921\"]],\"type\":\"histogram2dcontour\"}],\"mesh3d\":[{\"colorbar\":{\"outlinewidth\":0,\"ticks\":\"\"},\"type\":\"mesh3d\"}],\"parcoords\":[{\"line\":{\"colorbar\":{\"outlinewidth\":0,\"ticks\":\"\"}},\"type\":\"parcoords\"}],\"pie\":[{\"automargin\":true,\"type\":\"pie\"}],\"scatter\":[{\"marker\":{\"colorbar\":{\"outlinewidth\":0,\"ticks\":\"\"}},\"type\":\"scatter\"}],\"scatter3d\":[{\"line\":{\"colorbar\":{\"outlinewidth\":0,\"ticks\":\"\"}},\"marker\":{\"colorbar\":{\"outlinewidth\":0,\"ticks\":\"\"}},\"type\":\"scatter3d\"}],\"scattercarpet\":[{\"marker\":{\"colorbar\":{\"outlinewidth\":0,\"ticks\":\"\"}},\"type\":\"scattercarpet\"}],\"scattergeo\":[{\"marker\":{\"colorbar\":{\"outlinewidth\":0,\"ticks\":\"\"}},\"type\":\"scattergeo\"}],\"scattergl\":[{\"marker\":{\"colorbar\":{\"outlinewidth\":0,\"ticks\":\"\"}},\"type\":\"scattergl\"}],\"scattermapbox\":[{\"marker\":{\"colorbar\":{\"outlinewidth\":0,\"ticks\":\"\"}},\"type\":\"scattermapbox\"}],\"scatterpolar\":[{\"marker\":{\"colorbar\":{\"outlinewidth\":0,\"ticks\":\"\"}},\"type\":\"scatterpolar\"}],\"scatterpolargl\":[{\"marker\":{\"colorbar\":{\"outlinewidth\":0,\"ticks\":\"\"}},\"type\":\"scatterpolargl\"}],\"scatterternary\":[{\"marker\":{\"colorbar\":{\"outlinewidth\":0,\"ticks\":\"\"}},\"type\":\"scatterternary\"}],\"surface\":[{\"colorbar\":{\"outlinewidth\":0,\"ticks\":\"\"},\"colorscale\":[[0.0,\"#0d0887\"],[0.1111111111111111,\"#46039f\"],[0.2222222222222222,\"#7201a8\"],[0.3333333333333333,\"#9c179e\"],[0.4444444444444444,\"#bd3786\"],[0.5555555555555556,\"#d8576b\"],[0.6666666666666666,\"#ed7953\"],[0.7777777777777778,\"#fb9f3a\"],[0.8888888888888888,\"#fdca26\"],[1.0,\"#f0f921\"]],\"type\":\"surface\"}],\"table\":[{\"cells\":{\"fill\":{\"color\":\"#EBF0F8\"},\"line\":{\"color\":\"white\"}},\"header\":{\"fill\":{\"color\":\"#C8D4E3\"},\"line\":{\"color\":\"white\"}},\"type\":\"table\"}]},\"layout\":{\"annotationdefaults\":{\"arrowcolor\":\"#2a3f5f\",\"arrowhead\":0,\"arrowwidth\":1},\"autotypenumbers\":\"strict\",\"coloraxis\":{\"colorbar\":{\"outlinewidth\":0,\"ticks\":\"\"}},\"colorscale\":{\"diverging\":[[0,\"#8e0152\"],[0.1,\"#c51b7d\"],[0.2,\"#de77ae\"],[0.3,\"#f1b6da\"],[0.4,\"#fde0ef\"],[0.5,\"#f7f7f7\"],[0.6,\"#e6f5d0\"],[0.7,\"#b8e186\"],[0.8,\"#7fbc41\"],[0.9,\"#4d9221\"],[1,\"#276419\"]],\"sequential\":[[0.0,\"#0d0887\"],[0.1111111111111111,\"#46039f\"],[0.2222222222222222,\"#7201a8\"],[0.3333333333333333,\"#9c179e\"],[0.4444444444444444,\"#bd3786\"],[0.5555555555555556,\"#d8576b\"],[0.6666666666666666,\"#ed7953\"],[0.7777777777777778,\"#fb9f3a\"],[0.8888888888888888,\"#fdca26\"],[1.0,\"#f0f921\"]],\"sequentialminus\":[[0.0,\"#0d0887\"],[0.1111111111111111,\"#46039f\"],[0.2222222222222222,\"#7201a8\"],[0.3333333333333333,\"#9c179e\"],[0.4444444444444444,\"#bd3786\"],[0.5555555555555556,\"#d8576b\"],[0.6666666666666666,\"#ed7953\"],[0.7777777777777778,\"#fb9f3a\"],[0.8888888888888888,\"#fdca26\"],[1.0,\"#f0f921\"]]},\"colorway\":[\"#636efa\",\"#EF553B\",\"#00cc96\",\"#ab63fa\",\"#FFA15A\",\"#19d3f3\",\"#FF6692\",\"#B6E880\",\"#FF97FF\",\"#FECB52\"],\"font\":{\"color\":\"#2a3f5f\"},\"geo\":{\"bgcolor\":\"white\",\"lakecolor\":\"white\",\"landcolor\":\"#E5ECF6\",\"showlakes\":true,\"showland\":true,\"subunitcolor\":\"white\"},\"hoverlabel\":{\"align\":\"left\"},\"hovermode\":\"closest\",\"mapbox\":{\"style\":\"light\"},\"paper_bgcolor\":\"white\",\"plot_bgcolor\":\"#E5ECF6\",\"polar\":{\"angularaxis\":{\"gridcolor\":\"white\",\"linecolor\":\"white\",\"ticks\":\"\"},\"bgcolor\":\"#E5ECF6\",\"radialaxis\":{\"gridcolor\":\"white\",\"linecolor\":\"white\",\"ticks\":\"\"}},\"scene\":{\"xaxis\":{\"backgroundcolor\":\"#E5ECF6\",\"gridcolor\":\"white\",\"gridwidth\":2,\"linecolor\":\"white\",\"showbackground\":true,\"ticks\":\"\",\"zerolinecolor\":\"white\"},\"yaxis\":{\"backgroundcolor\":\"#E5ECF6\",\"gridcolor\":\"white\",\"gridwidth\":2,\"linecolor\":\"white\",\"showbackground\":true,\"ticks\":\"\",\"zerolinecolor\":\"white\"},\"zaxis\":{\"backgroundcolor\":\"#E5ECF6\",\"gridcolor\":\"white\",\"gridwidth\":2,\"linecolor\":\"white\",\"showbackground\":true,\"ticks\":\"\",\"zerolinecolor\":\"white\"}},\"shapedefaults\":{\"line\":{\"color\":\"#2a3f5f\"}},\"ternary\":{\"aaxis\":{\"gridcolor\":\"white\",\"linecolor\":\"white\",\"ticks\":\"\"},\"baxis\":{\"gridcolor\":\"white\",\"linecolor\":\"white\",\"ticks\":\"\"},\"bgcolor\":\"#E5ECF6\",\"caxis\":{\"gridcolor\":\"white\",\"linecolor\":\"white\",\"ticks\":\"\"}},\"title\":{\"x\":0.05},\"xaxis\":{\"automargin\":true,\"gridcolor\":\"white\",\"linecolor\":\"white\",\"ticks\":\"\",\"title\":{\"standoff\":15},\"zerolinecolor\":\"white\",\"zerolinewidth\":2},\"yaxis\":{\"automargin\":true,\"gridcolor\":\"white\",\"linecolor\":\"white\",\"ticks\":\"\",\"title\":{\"standoff\":15},\"zerolinecolor\":\"white\",\"zerolinewidth\":2}}},\"xaxis\":{\"anchor\":\"y\",\"domain\":[0.0,1.0],\"title\":{\"text\":\"Recency\"}},\"yaxis\":{\"anchor\":\"x\",\"domain\":[0.0,0.8316],\"title\":{\"text\":\"count\"}},\"xaxis2\":{\"anchor\":\"y2\",\"domain\":[0.0,1.0],\"matches\":\"x\",\"showticklabels\":false,\"showgrid\":true},\"yaxis2\":{\"anchor\":\"x2\",\"domain\":[0.8416,1.0],\"matches\":\"y2\",\"showticklabels\":false,\"showline\":false,\"ticks\":\"\",\"showgrid\":false},\"legend\":{\"tracegroupgap\":0},\"title\":{\"text\":\"Recency of purchase\"},\"barmode\":\"relative\"},                        {\"responsive\": true}                    ).then(function(){\n",
              "                            \n",
              "var gd = document.getElementById('322090b8-1f40-4d3a-bcca-b06a9b189ab2');\n",
              "var x = new MutationObserver(function (mutations, observer) {{\n",
              "        var display = window.getComputedStyle(gd).display;\n",
              "        if (!display || display === 'none') {{\n",
              "            console.log([gd, 'removed!']);\n",
              "            Plotly.purge(gd);\n",
              "            observer.disconnect();\n",
              "        }}\n",
              "}});\n",
              "\n",
              "// Listen for the removal of the full notebook cells\n",
              "var notebookContainer = gd.closest('#notebook-container');\n",
              "if (notebookContainer) {{\n",
              "    x.observe(notebookContainer, {childList: true});\n",
              "}}\n",
              "\n",
              "// Listen for the clearing of the current output cell\n",
              "var outputEl = gd.closest('.output');\n",
              "if (outputEl) {{\n",
              "    x.observe(outputEl, {childList: true});\n",
              "}}\n",
              "\n",
              "                        })                };                            </script>        </div>\n",
              "</body>\n",
              "</html>"
            ]
          },
          "metadata": {}
        }
      ],
      "source": [
        "px.histogram(rfm, x=rfm['recency'],title='Recency of purchase',\n",
        "                   labels={'recency':'Recency'}, nbins=50,\n",
        "                   opacity=0.8, marginal='violin',\n",
        "                   color_discrete_sequence=['indianred'])"
      ]
    },
    {
      "cell_type": "markdown",
      "id": "79cdb874",
      "metadata": {
        "papermill": {
          "duration": 0.106597,
          "end_time": "2021-11-09T00:08:24.234257",
          "exception": false,
          "start_time": "2021-11-09T00:08:24.127660",
          "status": "completed"
        },
        "tags": [],
        "id": "79cdb874"
      },
      "source": [
        "As with the previous variable, most users have zero recency, having made only a single purchase in their time as a customer."
      ]
    },
    {
      "cell_type": "code",
      "execution_count": 20,
      "id": "41cb6751",
      "metadata": {
        "execution": {
          "iopub.execute_input": "2021-11-09T00:08:24.444775Z",
          "iopub.status.busy": "2021-11-09T00:08:24.443719Z",
          "iopub.status.idle": "2021-11-09T00:08:25.073200Z",
          "shell.execute_reply": "2021-11-09T00:08:25.073732Z",
          "shell.execute_reply.started": "2021-11-09T00:05:14.460287Z"
        },
        "papermill": {
          "duration": 0.735902,
          "end_time": "2021-11-09T00:08:25.073919",
          "exception": false,
          "start_time": "2021-11-09T00:08:24.338017",
          "status": "completed"
        },
        "tags": [],
        "colab": {
          "base_uri": "https://localhost:8080/",
          "height": 542
        },
        "id": "41cb6751",
        "outputId": "099c59ab-c69a-4534-a854-0e2f691f7035"
      },
      "outputs": [
        {
          "output_type": "display_data",
          "data": {
            "text/html": [
              "<html>\n",
              "<head><meta charset=\"utf-8\" /></head>\n",
              "<body>\n",
              "    <div>            <script src=\"https://cdnjs.cloudflare.com/ajax/libs/mathjax/2.7.5/MathJax.js?config=TeX-AMS-MML_SVG\"></script><script type=\"text/javascript\">if (window.MathJax) {MathJax.Hub.Config({SVG: {font: \"STIX-Web\"}});}</script>                <script type=\"text/javascript\">window.PlotlyConfig = {MathJaxConfig: 'local'};</script>\n",
              "        <script src=\"https://cdn.plot.ly/plotly-2.8.3.min.js\"></script>                <div id=\"34b5d498-b210-4f21-8861-92f591c86a64\" class=\"plotly-graph-div\" style=\"height:525px; width:100%;\"></div>            <script type=\"text/javascript\">                                    window.PLOTLYENV=window.PLOTLYENV || {};                                    if (document.getElementById(\"34b5d498-b210-4f21-8861-92f591c86a64\")) {                    Plotly.newPlot(                        \"34b5d498-b210-4f21-8861-92f591c86a64\",                        [{\"alignmentgroup\":\"True\",\"bingroup\":\"x\",\"hovertemplate\":\"x=%{x}<br>count=%{y}<extra></extra>\",\"legendgroup\":\"\",\"marker\":{\"color\":\"indianred\",\"opacity\":0.8,\"pattern\":{\"shape\":\"\"}},\"name\":\"\",\"offsetgroup\":\"\",\"orientation\":\"v\",\"showlegend\":false,\"x\":[104.0,58.0,63.0,84.0,44.0,54.0,56.0,58.0,33.0,81.0,61.0,55.0,105.0,105.0,94.0,98.0,106.0,35.0,16.0,42.0,90.0,1.0,90.0,92.0,96.0,92.0,42.0,96.0,84.0,14.0,60.0,84.0,80.0,76.0,95.0,17.0,50.0,17.0,54.0,52.0,59.0,83.0,94.0,11.0,95.0,84.0,61.0,31.0,86.0,96.0,19.0,6.0,92.0,59.0,43.0,96.0,74.0,98.0,21.0,100.0,38.0,71.0,81.0,72.0,58.0,77.0,57.0,66.0,75.0,94.0,105.0,90.0,59.0,9.0,72.0,103.0,66.0,78.0,64.0,95.0,53.0,40.0,78.0,6.0,99.0,25.0,68.0,54.0,105.0,14.0,105.0,20.0,104.0,103.0,52.0,0.0,105.0,24.0,60.0,8.0,35.0,6.0,63.0,68.0,76.0,2.0,19.0,60.0,103.0,36.0,62.0,70.0,86.0,65.0,22.0,43.0,34.0,44.0,24.0,98.0,60.0,98.0,77.0,99.0,105.0,104.0,27.0,95.0,58.0,72.0,89.0,0.0,2.0,72.0,87.0,93.0,97.0,97.0,76.0,62.0,104.0,11.0,48.0,106.0,5.0,58.0,28.0,82.0,91.0,89.0,92.0,8.0,80.0,96.0,48.0,44.0,83.0,85.0,58.0,33.0,83.0,4.0,41.0,105.0,61.0,9.0,16.0,92.0,50.0,86.0,27.0,16.0,68.0,39.0,20.0,7.0,105.0,96.0,92.0,13.0,76.0,45.0,75.0,92.0,98.0,4.0,106.0,19.0,27.0,8.0,58.0,54.0,102.0,105.0,40.0,91.0,64.0,5.0,37.0,11.0,71.0,24.0,100.0,11.0,51.0,6.0,60.0,64.0,98.0,22.0,103.0,1.0,46.0,20.0,43.0,62.0,58.0,37.0,41.0,12.0,95.0,92.0,36.0,98.0,17.0,7.0,66.0,45.0,75.0,75.0,105.0,63.0,11.0,82.0,6.0,82.0,105.0,40.0,50.0,103.0,1.0,85.0,99.0,30.0,58.0,74.0,31.0,92.0,72.0,35.0,38.0,93.0,82.0,105.0,58.0,8.0,3.0,37.0,65.0,98.0,9.0,58.0,103.0,18.0,7.0,11.0,104.0,40.0,90.0,55.0,4.0,3.0,80.0,29.0,96.0,33.0,100.0,25.0,85.0,47.0,20.0,9.0,60.0,6.0,99.0,81.0,75.0,78.0,65.0,106.0,78.0,91.0,90.0,12.0,16.0,15.0,87.0,99.0,96.0,7.0,99.0,100.0,100.0,0.0,66.0,62.0,75.0,42.0,60.0,80.0,11.0,3.0,4.0,2.0,62.0,88.0,96.0,104.0,96.0,56.0,8.0,97.0,37.0,95.0,87.0,85.0,57.0,30.0,83.0,69.0,95.0,100.0,40.0,16.0,104.0,106.0,104.0,30.0,13.0,53.0,69.0,16.0,18.0,29.0,60.0,91.0,75.0,60.0,95.0,73.0,24.0,84.0,60.0,31.0,90.0,3.0,98.0,24.0,76.0,42.0,103.0,104.0,29.0,97.0,104.0,0.0,105.0,15.0,19.0,84.0,10.0,9.0,72.0,67.0,21.0,9.0,76.0,83.0,89.0,94.0,55.0,16.0,74.0,92.0,26.0,99.0,56.0,48.0,47.0,71.0,53.0,56.0,9.0,76.0,89.0,19.0,84.0,98.0,77.0,105.0,105.0,74.0,18.0,63.0,12.0,52.0,44.0,99.0,12.0,30.0,106.0,105.0,65.0,66.0,4.0,53.0,45.0,92.0,58.0,54.0,64.0,34.0,65.0,69.0,8.0,81.0,76.0,58.0,95.0,65.0,86.0,105.0,85.0,41.0,74.0,11.0,76.0,105.0,87.0,59.0,75.0,99.0,59.0,89.0,76.0,57.0,14.0,3.0,90.0,61.0,60.0,76.0,97.0,71.0,80.0,56.0,71.0,96.0,84.0,55.0,66.0,92.0,97.0,61.0,6.0,99.0,14.0,28.0,25.0,62.0,37.0,65.0,105.0,87.0,12.0,97.0,8.0,92.0,103.0,6.0,19.0,79.0,24.0,66.0,14.0,21.0,40.0,105.0,106.0,81.0,85.0,105.0,96.0,74.0,105.0,104.0,85.0,41.0,98.0,55.0,97.0,84.0,64.0,68.0,42.0,96.0,104.0,57.0,9.0,98.0,55.0,65.0,99.0,88.0,71.0,84.0,73.0,68.0,72.0,103.0,56.0,97.0,89.0,63.0,105.0,97.0,79.0,100.0,84.0,99.0,38.0,13.0,82.0,39.0,5.0,13.0,13.0,18.0,31.0,55.0,36.0,72.0,55.0,94.0,57.0,4.0,82.0,12.0,78.0,94.0,59.0,60.0,39.0,38.0,61.0,25.0,98.0,11.0,71.0,90.0,93.0,89.0,79.0,6.0,106.0,57.0,84.0,98.0,104.0,89.0,24.0,104.0,106.0,23.0,82.0,104.0,85.0,104.0,56.0,78.0,44.0,24.0,106.0,95.0,104.0,105.0,87.0,11.0,105.0,4.0,100.0,12.0,104.0,52.0,86.0,51.0,94.0,62.0,53.0,105.0,105.0,3.0,100.0,11.0,75.0,91.0,38.0,104.0,104.0,83.0,69.0,95.0,54.0,16.0,74.0,62.0,13.0,1.0,55.0,16.0,86.0,105.0,104.0,95.0,59.0,81.0,105.0,95.0,73.0,104.0,104.0,105.0,19.0,87.0,85.0,3.0,4.0,98.0,98.0,42.0,104.0,88.0,56.0,104.0,94.0,38.0,12.0,54.0,87.0,93.0,35.0,104.0,105.0,62.0,31.0,104.0,65.0,8.0,83.0,103.0,96.0,93.0,53.0,85.0,104.0,62.0,86.0,18.0,1.0,93.0,105.0,94.0,105.0,61.0,75.0,83.0,105.0,104.0,98.0,6.0,75.0,53.0,79.0,66.0,61.0,57.0,62.0,98.0,105.0,41.0,103.0,5.0,84.0,105.0,39.0,100.0,69.0,65.0,103.0,97.0,57.0,104.0,88.0,94.0,89.0,61.0,79.0,90.0,22.0,88.0,36.0,10.0,27.0,69.0,84.0,78.0,5.0,64.0,46.0,78.0,105.0,87.0,38.0,62.0,103.0,18.0,65.0,104.0,106.0,60.0,87.0,105.0,103.0,61.0,70.0,106.0,55.0,104.0,60.0,105.0,71.0,104.0,95.0,105.0,56.0,10.0,56.0,106.0,45.0,14.0,97.0,83.0,82.0,93.0,62.0,59.0,96.0,62.0,79.0,106.0,103.0,77.0,89.0,104.0,86.0,20.0,89.0,63.0,96.0,34.0,38.0,34.0,76.0,55.0,75.0,92.0,11.0,90.0,76.0,13.0,96.0,37.0,66.0,59.0,70.0,105.0,72.0,57.0,62.0,70.0,104.0,3.0,83.0,62.0,86.0,4.0,14.0,105.0,41.0,90.0,90.0,99.0,1.0,105.0,70.0,97.0,92.0,55.0,16.0,3.0,71.0,105.0,87.0,95.0,59.0,59.0,56.0,77.0,80.0,4.0,43.0,57.0,104.0,105.0,105.0,7.0,61.0,103.0,88.0,87.0,54.0,6.0,91.0,41.0,38.0,18.0,89.0,2.0,16.0,105.0,94.0,98.0,9.0,60.0,59.0,88.0,87.0,62.0,105.0,18.0,92.0,104.0,103.0,105.0,63.0,105.0,87.0,105.0,98.0,13.0,105.0,9.0,81.0,92.0,57.0,38.0,94.0,18.0,88.0,82.0,51.0,82.0,95.0,22.0,103.0,56.0,29.0,12.0,32.0,90.0,35.0,99.0,105.0,30.0,15.0,55.0,84.0,72.0,93.0,59.0,96.0,90.0,13.0,62.0,75.0,12.0,27.0,98.0,72.0,57.0,89.0,101.0,54.0,73.0,62.0,57.0,100.0,9.0,41.0,86.0,59.0,63.0,39.0,103.0,105.0,38.0,105.0,52.0,5.0,13.0,16.0,58.0,90.0,92.0,77.0,87.0,11.0,92.0,63.0,58.0,91.0,47.0,89.0,86.0,101.0,95.0,103.0,63.0,95.0,75.0,96.0,92.0,82.0,82.0,77.0,0.0,75.0,82.0,42.0,75.0,57.0,96.0,91.0,61.0,85.0,85.0,56.0,57.0,21.0,64.0,105.0,10.0,99.0,91.0,104.0,5.0,105.0,68.0,12.0,2.0,12.0,80.0,12.0,62.0,103.0,45.0,105.0,94.0,57.0,2.0,94.0,93.0,11.0,78.0,101.0,29.0,94.0,37.0,25.0,40.0,41.0,85.0,10.0,9.0,1.0,11.0,9.0,9.0,10.0,17.0,11.0,90.0,38.0,58.0,100.0,88.0,61.0,58.0,10.0,31.0,7.0,62.0,60.0,52.0,53.0,90.0,13.0,105.0,64.0,63.0,33.0,92.0,19.0,62.0,106.0,105.0,78.0,71.0,47.0,62.0,60.0,86.0,33.0,11.0,29.0,97.0,105.0,106.0,60.0,46.0,98.0,64.0,74.0,83.0,81.0,103.0,30.0,104.0,90.0,95.0,105.0,105.0,15.0,89.0,98.0,86.0,104.0,105.0,96.0,104.0,9.0,24.0,95.0,9.0,61.0,64.0,83.0,104.0,103.0,73.0,11.0,12.0,94.0,87.0,100.0,94.0,71.0,0.0,27.0,78.0,75.0,64.0,62.0,106.0,97.0,72.0,89.0,95.0,5.0,105.0,3.0,86.0,90.0,67.0,57.0,92.0,104.0,30.0,105.0,55.0,98.0,7.0,85.0,104.0,88.0,84.0,90.0,5.0,105.0,93.0,16.0,7.0,79.0,104.0,71.0,43.0,92.0,98.0,97.0,68.0,97.0,105.0,90.0,9.0,91.0,105.0,22.0,105.0,98.0,42.0,94.0,105.0,31.0,41.0,44.0,105.0,51.0,96.0,104.0,38.0,57.0,81.0,78.0,95.0,9.0,33.0,66.0,21.0,92.0,72.0,103.0,97.0,83.0,94.0,98.0,92.0,60.0,26.0,12.0,63.0,103.0,1.0,4.0,57.0,31.0,35.0,106.0,98.0,29.0,91.0,105.0,5.0,38.0,74.0,57.0,11.0,64.0,97.0,84.0,94.0,81.0,104.0,98.0,92.0,78.0,61.0,58.0,67.0,55.0,55.0,95.0,94.0,96.0,64.0,99.0,62.0,105.0,10.0,78.0,1.0,93.0,99.0,20.0,105.0,59.0,91.0,77.0,25.0,61.0,35.0,105.0,29.0,91.0,59.0,25.0,105.0,104.0,58.0,94.0,58.0,59.0,88.0,97.0,97.0,106.0,77.0,95.0,36.0,105.0,106.0,104.0,38.0,92.0,69.0,92.0,2.0,57.0,93.0,106.0,91.0,78.0,80.0,4.0,94.0,82.0,44.0,57.0,77.0,85.0,101.0,105.0,90.0,94.0,79.0,97.0,99.0,71.0,25.0,96.0,75.0,17.0,100.0,105.0,55.0,85.0,54.0,91.0,97.0,95.0,41.0,38.0,87.0,100.0,106.0,41.0,32.0,2.0,62.0,87.0,105.0,62.0,105.0,15.0,17.0,57.0,86.0,106.0,75.0,98.0,54.0,93.0,70.0,105.0,84.0,85.0,29.0,96.0,94.0,57.0,86.0,94.0,92.0,72.0,105.0,21.0,104.0,58.0,11.0,56.0,104.0,5.0,62.0,41.0,88.0,74.0,22.0,105.0,105.0,22.0,27.0,65.0,89.0,9.0,57.0,63.0,91.0,63.0,8.0,57.0,60.0,105.0,105.0,82.0,95.0,5.0,97.0,79.0,96.0,64.0,64.0,59.0,13.0,89.0,89.0,77.0,39.0,100.0,87.0,104.0,87.0,83.0,66.0,91.0,38.0,69.0,42.0,82.0,36.0,56.0,92.0,87.0,91.0,44.0,14.0,104.0,104.0,98.0,23.0,35.0,4.0,105.0,86.0,104.0,105.0,29.0,57.0,75.0,105.0,31.0,46.0,37.0,42.0,78.0,59.0,61.0,106.0,88.0,41.0,75.0,105.0,62.0,9.0,104.0,96.0,106.0,10.0,85.0,94.0,100.0,62.0,92.0,93.0,71.0,106.0,104.0,103.0,104.0,93.0,94.0,94.0,12.0,84.0,61.0,105.0,81.0,74.0,58.0,103.0,105.0,96.0,64.0,66.0,105.0,99.0,72.0,55.0,1.0,24.0,60.0,92.0,78.0,91.0,71.0,92.0,105.0,92.0,105.0,9.0,95.0,88.0,62.0,18.0,9.0,105.0,14.0,66.0,8.0,34.0,15.0,105.0,75.0,95.0,9.0,50.0,61.0,106.0,97.0,101.0,6.0,104.0,91.0,104.0,25.0,20.0,3.0,60.0,83.0,104.0,60.0,58.0,96.0,92.0,59.0,45.0,83.0,69.0,59.0,36.0,95.0,54.0,2.0,9.0,57.0,103.0,104.0,89.0,18.0,97.0,87.0,8.0,100.0,105.0,88.0,82.0,8.0,76.0,12.0,76.0,56.0,85.0,55.0,41.0,11.0,31.0,5.0,99.0,96.0,103.0,104.0,92.0,96.0,103.0,9.0,99.0,86.0,92.0,80.0,92.0,9.0,105.0,67.0,29.0,10.0,29.0,82.0,98.0,105.0,83.0,82.0,42.0,44.0,105.0,89.0,97.0,59.0,39.0,89.0,101.0,104.0,57.0,42.0,105.0,58.0,99.0,39.0,74.0,93.0,60.0,72.0,5.0,56.0,97.0,27.0,36.0,77.0,80.0,103.0,67.0,8.0,10.0,19.0,3.0,62.0,19.0,99.0,19.0,105.0,42.0,21.0,38.0,93.0,59.0,57.0,5.0,87.0,21.0,103.0,76.0,82.0,93.0,68.0,105.0,9.0,105.0,13.0,35.0,42.0,103.0,104.0,10.0,54.0,39.0,94.0,105.0,73.0,10.0,56.0,62.0,85.0,61.0,101.0,62.0,57.0,60.0,89.0,62.0,98.0,29.0,41.0,83.0,97.0,96.0,59.0,6.0,105.0,94.0,59.0,98.0,104.0,105.0,96.0,2.0,57.0,89.0,80.0,30.0,20.0,66.0,105.0,21.0,103.0,57.0,79.0,82.0,105.0,105.0,70.0,22.0,105.0,62.0,31.0,93.0,73.0,62.0,66.0,81.0,87.0,40.0,89.0,82.0,7.0,100.0,82.0,92.0,20.0,76.0,85.0,69.0,36.0,56.0,83.0,89.0,9.0,79.0,21.0,104.0,105.0,104.0,79.0,22.0,87.0,41.0,105.0,96.0,82.0,106.0,38.0,104.0,104.0,98.0,100.0,41.0,97.0,55.0,88.0,15.0,105.0,56.0,69.0,9.0,103.0,41.0,105.0,76.0,38.0,91.0,106.0,104.0,105.0,98.0,62.0,38.0,14.0,97.0,80.0,98.0,38.0,95.0,5.0,89.0,77.0,18.0,56.0,89.0,98.0,105.0,104.0,56.0,103.0,73.0,105.0,66.0,105.0,60.0,8.0,46.0,100.0,103.0,2.0,63.0,103.0,14.0,92.0,5.0,104.0,20.0,89.0,6.0,80.0,103.0,105.0,104.0,106.0,10.0,106.0,34.0,94.0,105.0,87.0,95.0,17.0,20.0,61.0,103.0,8.0,105.0,105.0,12.0,11.0,63.0,61.0,79.0,83.0,104.0,93.0,26.0,105.0,104.0,105.0,105.0,99.0,9.0,77.0,4.0,15.0,92.0,19.0,69.0,87.0,99.0,91.0,59.0,31.0,51.0,102.0,94.0,69.0,99.0,38.0,106.0,92.0,6.0,105.0,100.0,104.0,42.0,66.0,11.0,39.0,89.0,97.0,81.0,63.0,56.0,104.0,92.0,104.0,5.0,90.0,54.0,93.0,26.0,7.0,78.0,80.0,85.0,69.0,9.0,47.0,92.0,68.0,44.0,55.0,95.0,104.0,55.0,57.0,100.0,91.0,15.0,59.0,101.0,76.0,88.0,84.0,89.0,57.0,105.0,92.0,57.0,98.0,79.0,98.0,100.0,104.0,64.0,58.0,40.0,105.0,59.0,75.0,6.0,70.0,81.0,87.0,25.0,38.0,78.0,100.0,63.0,96.0,78.0,67.0,78.0,64.0,38.0,92.0,8.0,88.0,72.0,84.0,105.0,105.0,60.0,100.0,46.0,68.0,94.0,38.0,35.0,79.0,74.0,97.0,13.0,8.0,54.0,89.0,62.0,78.0,99.0,93.0,105.0,20.0,78.0,11.0,34.0,60.0,87.0,87.0,61.0,37.0,67.0,63.0,47.0,58.0,83.0,35.0,98.0,87.0,94.0,104.0,58.0,97.0,28.0,58.0,95.0,81.0,93.0,105.0,105.0,28.0,30.0,41.0,105.0,104.0,90.0,104.0,58.0,105.0,82.0,39.0,104.0,105.0,3.0,95.0,105.0,62.0,81.0,19.0,97.0,105.0,78.0,79.0,62.0,81.0,72.0,61.0,91.0,90.0,9.0,66.0,61.0,98.0,68.0,94.0,34.0,99.0,81.0,76.0,100.0,63.0,103.0,89.0,19.0,59.0,10.0,81.0,14.0,39.0,77.0,61.0,31.0,106.0,67.0,99.0,89.0,5.0,71.0,105.0,37.0,1.0,61.0,23.0,39.0,62.0,4.0,90.0,12.0,6.0,61.0,12.0,13.0,83.0,3.0,64.0,30.0,97.0,75.0,39.0,46.0,95.0,97.0,42.0,86.0,51.0,77.0,77.0,98.0,37.0,89.0,69.0,98.0,64.0,56.0,23.0,71.0,3.0,42.0,16.0,98.0,84.0,61.0,82.0,62.0,31.0,81.0,86.0,105.0,30.0,75.0,96.0,90.0,104.0,93.0,91.0,103.0,55.0,17.0,39.0,105.0,81.0,62.0,44.0,61.0,99.0,53.0,103.0,6.0,55.0,15.0,55.0,99.0,99.0,103.0,99.0,2.0,105.0,92.0,90.0,46.0,58.0,87.0,98.0,13.0,66.0,10.0,72.0,79.0,83.0,44.0,98.0,105.0,99.0,99.0,54.0,65.0,65.0,55.0,57.0,52.0,62.0,87.0,99.0,74.0,27.0,105.0,71.0,20.0,44.0,54.0,93.0,104.0,99.0,62.0,71.0,90.0,100.0,104.0,105.0,105.0,97.0,61.0,105.0,99.0,40.0,83.0,58.0,37.0,101.0,106.0,105.0,103.0,97.0,67.0,105.0,103.0,5.0,79.0,54.0,10.0,87.0,61.0,53.0,88.0,92.0,105.0,94.0,90.0,96.0,79.0,67.0,27.0,46.0,45.0,25.0,40.0,104.0,86.0,104.0,77.0,76.0,62.0,19.0,105.0,81.0,104.0,79.0,74.0,20.0,9.0,104.0,41.0,70.0,98.0,15.0,59.0,104.0,56.0,105.0,5.0,16.0,98.0,68.0,100.0,87.0,91.0,93.0,37.0,89.0,98.0,6.0,105.0,100.0,26.0,106.0,67.0,96.0,105.0,8.0,105.0,105.0,69.0,97.0,85.0,73.0,7.0,103.0,98.0,12.0,105.0,56.0,105.0,26.0,96.0,85.0,105.0,68.0,76.0,19.0,62.0,86.0,63.0,61.0,89.0,100.0,105.0,70.0,53.0,104.0,0.0,62.0,74.0,78.0,6.0,89.0,94.0,59.0,39.0,47.0,83.0,53.0,105.0,30.0,9.0,104.0,53.0,98.0,89.0,62.0,81.0,73.0,56.0,1.0,94.0,39.0,90.0,105.0,105.0,104.0,105.0,96.0,73.0,85.0,59.0,97.0,55.0,78.0,78.0,59.0,78.0,77.0,40.0,98.0,26.0,86.0,86.0,103.0,104.0,54.0,98.0,7.0,69.0,70.0,37.0,38.0,77.0,65.0,38.0,97.0,7.0,95.0,98.0,3.0,8.0,104.0,105.0,91.0,105.0,75.0,104.0,98.0,84.0,90.0,11.0,105.0,106.0,85.0,86.0,62.0,17.0,45.0,14.0,4.0,105.0,61.0,5.0,85.0,3.0,105.0,64.0,105.0,105.0,81.0,97.0,58.0,73.0,55.0,91.0,85.0,83.0,105.0,105.0,93.0,96.0,84.0,56.0,104.0,94.0,79.0,65.0,30.0,59.0,30.0,88.0,75.0,88.0,105.0,60.0,31.0,7.0,75.0,69.0,98.0,104.0,2.0,89.0,28.0,88.0,82.0,65.0,105.0,105.0,37.0,60.0,105.0,98.0,99.0,63.0,105.0,59.0,36.0,18.0,54.0,69.0,105.0,84.0,76.0,94.0,78.0,59.0,89.0,39.0,30.0,104.0,57.0,79.0,105.0,69.0,57.0,105.0,105.0,93.0,60.0,62.0,85.0,81.0,91.0,60.0,36.0,92.0,68.0,105.0,104.0,6.0,66.0,99.0,105.0,61.0,11.0,87.0,33.0,42.0,63.0,89.0,7.0,25.0,79.0,68.0,18.0,103.0,93.0,105.0,16.0,85.0,75.0,53.0,64.0,58.0,44.0,46.0,11.0,46.0,94.0,56.0,2.0,79.0,67.0,85.0,4.0,104.0,87.0,9.0,76.0,70.0,24.0,104.0,72.0,93.0,105.0,62.0,9.0,63.0,42.0,1.0,89.0,63.0,93.0,25.0,89.0,61.0,55.0,85.0,87.0,83.0,10.0,28.0,90.0,92.0,103.0,97.0,97.0,69.0,28.0,91.0,87.0,99.0,105.0,62.0,8.0,105.0,90.0,71.0,58.0,88.0,4.0,98.0,105.0,101.0,77.0,105.0,44.0,62.0,87.0,86.0,61.0,81.0,58.0,100.0,81.0,90.0,92.0,86.0,98.0,87.0,8.0,91.0,72.0,79.0,3.0,105.0,21.0,4.0,106.0,67.0,105.0,60.0,103.0,98.0,106.0,90.0,90.0,76.0,63.0,80.0,92.0,94.0,98.0,41.0,3.0,88.0,30.0,96.0,66.0,36.0,11.0,30.0,48.0,94.0,62.0,99.0,88.0,105.0,104.0,105.0,104.0,105.0,56.0,75.0,71.0,79.0,40.0,61.0,105.0,64.0,86.0,66.0,95.0,8.0,106.0,98.0,69.0,105.0,88.0,85.0,87.0,77.0,81.0,29.0,72.0,7.0,91.0,85.0,57.0,90.0,60.0,87.0,34.0,55.0,63.0,63.0,88.0,83.0,19.0,80.0,105.0,83.0,104.0,95.0,94.0,59.0,2.0,89.0,31.0,103.0,3.0,11.0,105.0,62.0,101.0,105.0,60.0,92.0,105.0,42.0,24.0,105.0,83.0,75.0,35.0,14.0,104.0,105.0,65.0,101.0,95.0,6.0,54.0,32.0,5.0,60.0,47.0,104.0,84.0,105.0,105.0,60.0,82.0,99.0,100.0,51.0,98.0,105.0,86.0,95.0,104.0,61.0,63.0,80.0,89.0,40.0,69.0,94.0,86.0,85.0,7.0,56.0,100.0,98.0,21.0,106.0,65.0,23.0,91.0,4.0,5.0,59.0,82.0,97.0,25.0,104.0,78.0,5.0,52.0,38.0,54.0,71.0,97.0,96.0,61.0,81.0,64.0,89.0,56.0,88.0,92.0,105.0,104.0,47.0,82.0,13.0,26.0,54.0,61.0,104.0,77.0,63.0,85.0,76.0,103.0,37.0,99.0,38.0,53.0,39.0,69.0,106.0,46.0,40.0,6.0,103.0,74.0,105.0,93.0,105.0,1.0,106.0,87.0,30.0,103.0,59.0,8.0,87.0,89.0,26.0,104.0,81.0,68.0,97.0,67.0,11.0,75.0,104.0,105.0,105.0,72.0,76.0,96.0,37.0,92.0,104.0,89.0,40.0,10.0,18.0,44.0,96.0,66.0,105.0,92.0,98.0,6.0,83.0,26.0,12.0,100.0,84.0,78.0,12.0,40.0,89.0,38.0,64.0,32.0,105.0,69.0,85.0,87.0,8.0,60.0,105.0,29.0,91.0,19.0,35.0,19.0,41.0,88.0,90.0,93.0,88.0,98.0,74.0,61.0,87.0,24.0,56.0,37.0,74.0,60.0,79.0,14.0,97.0,56.0,48.0,63.0,89.0,71.0,62.0,104.0,35.0,42.0,34.0,1.0,93.0,78.0,73.0,100.0,4.0,68.0,55.0,5.0,104.0,57.0,62.0,60.0,55.0,105.0,27.0,99.0,53.0,67.0,96.0,4.0,104.0,58.0,47.0,34.0,88.0,59.0,10.0,95.0,61.0,37.0,105.0,84.0,105.0,94.0,83.0,103.0,10.0,100.0,30.0,104.0,73.0,62.0,98.0,97.0,9.0,105.0,0.0,104.0,104.0,99.0,82.0,71.0,87.0,60.0,105.0,51.0,18.0,39.0,78.0,60.0,104.0,82.0,52.0,54.0,47.0,35.0,87.0,88.0,80.0,98.0,93.0,40.0,91.0,103.0,105.0,99.0,33.0,44.0,90.0,71.0,84.0,34.0,89.0,20.0,57.0,39.0,55.0,43.0,32.0,26.0,11.0,105.0,94.0,60.0,62.0,95.0,85.0,79.0,77.0,76.0,89.0,91.0,97.0,87.0,84.0,80.0,105.0,80.0,59.0,31.0,98.0,105.0,62.0,70.0,15.0,76.0,106.0,100.0,26.0,86.0,56.0,103.0,70.0,95.0,86.0,3.0,5.0,62.0,61.0,95.0,97.0,82.0,61.0,81.0,74.0,71.0,58.0,7.0,105.0,95.0,89.0,93.0,105.0,29.0,95.0,59.0,94.0,98.0,9.0,105.0,100.0,9.0,64.0,104.0,98.0,60.0,79.0,94.0,14.0,39.0,105.0,68.0,106.0,103.0,16.0,61.0,17.0,47.0,97.0,0.0,40.0,6.0,96.0,68.0,95.0,100.0,95.0,106.0,7.0,58.0,104.0,9.0,87.0,73.0,30.0,25.0,8.0,57.0,59.0,97.0,96.0,80.0,64.0,18.0,12.0,11.0,6.0,62.0,62.0,10.0,27.0,55.0,62.0,78.0,105.0,86.0,8.0,60.0,105.0,99.0,6.0,78.0,106.0,70.0,36.0,96.0,93.0,104.0,56.0,105.0,59.0,95.0,95.0,84.0,89.0,99.0,32.0,59.0,72.0,57.0,106.0,83.0,105.0,85.0,97.0,27.0,70.0,39.0,97.0,58.0,83.0,62.0,104.0,104.0,46.0,83.0,41.0,11.0,11.0,80.0,81.0,84.0,104.0,54.0,82.0,65.0,44.0,38.0,103.0,86.0,26.0,24.0,106.0,35.0,45.0,97.0,12.0,84.0,3.0,105.0,105.0,96.0,89.0,66.0,95.0,84.0,7.0,103.0,11.0,75.0,72.0,77.0,38.0,98.0,3.0,33.0,91.0,19.0,93.0,30.0,104.0,35.0,92.0,6.0,84.0,104.0,89.0,96.0,37.0,4.0,86.0,73.0,27.0,88.0,85.0,105.0,37.0,57.0,71.0,51.0,90.0,64.0,4.0,48.0,104.0,105.0,22.0,56.0,63.0,82.0,79.0,16.0,63.0,85.0,11.0,63.0,93.0,82.0,105.0,97.0,57.0,105.0,98.0,105.0,106.0,75.0,97.0,83.0,99.0,61.0,34.0,11.0,94.0,104.0,54.0,90.0,103.0,103.0,103.0,12.0,59.0,79.0,104.0,95.0,22.0,68.0,24.0,34.0,54.0,47.0,12.0,97.0,99.0,105.0,55.0,7.0,33.0,103.0,64.0,0.0,101.0,12.0,105.0,87.0,55.0,5.0,104.0,36.0,56.0,73.0,4.0,78.0,13.0,104.0,64.0,58.0,23.0,95.0,1.0,54.0,16.0,105.0,66.0,97.0,53.0,87.0,105.0,85.0,100.0,105.0,79.0,89.0,9.0,40.0,105.0,3.0,4.0,91.0,81.0,57.0,95.0,104.0,97.0,97.0,10.0,104.0,3.0,10.0,93.0,89.0,105.0,86.0,104.0,66.0,88.0,5.0,104.0,23.0,62.0,96.0,105.0,31.0,54.0,96.0,25.0,100.0,70.0,97.0,44.0,87.0,96.0,7.0,10.0,33.0,70.0,71.0,82.0,61.0,64.0,85.0,106.0,105.0,93.0,7.0,99.0,92.0,100.0,59.0,26.0,7.0,98.0,9.0,87.0,89.0,105.0,63.0,72.0,19.0,1.0,58.0,3.0,92.0,104.0,37.0,77.0,60.0,75.0,104.0,76.0,92.0,92.0,39.0,105.0,55.0,56.0,81.0,104.0,87.0,86.0,104.0,105.0,104.0,40.0,37.0,61.0,59.0,59.0,38.0,55.0,90.0,85.0,69.0,16.0,4.0,35.0,41.0,3.0,105.0,93.0,96.0,83.0,106.0,15.0,93.0,91.0,71.0,6.0,31.0,38.0,79.0,39.0,104.0,94.0,105.0,58.0,40.0,66.0,75.0,26.0,105.0,81.0,98.0,68.0,105.0,64.0,60.0,47.0,60.0,88.0,14.0,105.0,4.0,94.0,105.0,97.0,98.0,99.0,89.0,2.0,25.0,16.0,98.0,38.0,83.0,29.0,17.0,12.0,61.0,84.0,60.0,98.0,106.0,103.0,79.0,88.0,105.0,85.0,77.0,106.0,79.0,2.0,91.0,82.0,57.0,2.0,56.0,98.0,63.0,58.0,62.0,79.0,96.0,40.0,78.0,60.0,62.0,35.0,104.0,9.0,7.0,88.0,88.0,26.0,11.0,34.0,19.0,99.0,64.0,47.0,106.0,105.0,65.0,43.0,94.0,105.0,36.0,78.0,3.0,105.0,90.0,63.0,11.0,11.0,68.0,95.0,98.0,105.0,104.0,87.0,99.0,60.0,58.0,94.0,90.0,19.0,81.0,62.0,76.0,51.0,44.0,61.0,1.0,96.0,104.0,77.0,9.0,73.0,89.0,1.0,92.0,88.0,106.0,105.0,99.0,88.0,97.0,97.0,60.0,88.0,16.0,20.0,97.0,28.0,104.0,39.0,95.0,106.0,76.0,96.0,55.0,104.0,34.0,86.0,37.0,77.0,78.0,84.0,90.0,46.0,9.0,105.0,105.0,76.0,25.0,81.0,100.0,54.0,20.0,5.0,46.0,36.0,105.0,61.0,47.0,7.0,69.0,104.0,21.0,25.0,104.0,75.0,43.0,7.0,98.0,55.0,92.0,89.0,104.0,75.0,75.0,7.0,104.0,68.0,105.0,61.0,104.0,62.0,105.0,97.0,103.0,103.0,54.0,101.0,14.0,104.0,83.0,89.0,64.0,62.0,79.0,71.0,100.0,92.0,64.0,2.0,105.0,103.0,53.0,52.0,104.0,5.0,105.0,98.0,85.0,79.0,75.0,104.0,86.0,32.0,96.0,69.0,53.0,21.0,28.0,104.0,53.0,80.0,78.0,54.0,99.0,1.0,78.0,64.0,30.0,73.0,25.0,98.0,104.0,104.0,76.0,54.0,57.0,104.0,105.0,90.0,53.0,104.0,91.0,53.0,53.0,105.0,28.0,77.0,92.0,94.0,92.0,10.0,61.0,41.0,12.0,61.0,34.0,67.0,9.0,79.0,53.0,44.0,91.0,19.0,97.0,104.0,106.0,90.0,12.0,61.0,10.0,98.0,54.0,32.0,105.0,84.0,94.0,104.0,60.0,79.0,98.0,62.0,54.0,64.0,6.0,95.0,105.0,64.0,106.0,55.0,75.0,85.0,105.0,86.0,61.0,41.0,12.0,79.0,6.0,92.0,86.0,79.0,89.0,86.0,105.0,106.0,80.0,54.0,54.0,94.0,105.0,93.0,76.0,65.0,6.0,91.0,59.0,57.0,106.0,105.0,0.0,54.0,89.0,105.0,98.0,64.0,55.0,78.0,90.0,23.0,59.0,106.0,76.0,105.0,97.0,7.0,57.0,101.0,105.0,104.0,9.0,78.0,37.0,38.0,59.0,4.0,6.0,100.0,85.0,105.0,44.0,35.0,75.0,69.0,58.0,80.0,89.0,93.0,29.0,90.0,87.0,20.0,65.0,69.0,62.0,71.0,80.0,98.0,78.0,74.0,57.0,97.0,8.0,87.0,88.0,31.0,6.0,100.0,58.0,81.0,71.0,62.0,77.0,37.0,104.0,66.0,18.0,97.0,85.0,60.0,5.0,94.0,78.0,42.0,56.0,81.0,30.0,89.0,96.0,6.0,64.0,96.0,96.0,55.0,43.0,98.0,105.0,99.0,84.0,73.0,89.0,28.0,83.0,15.0,86.0,65.0,92.0,34.0,104.0,92.0,66.0,80.0,18.0,100.0,105.0,86.0,9.0,26.0,90.0,100.0,75.0,61.0,48.0,26.0,24.0,82.0,30.0,84.0,93.0,103.0,60.0,81.0,61.0,7.0,105.0,104.0,105.0,104.0,73.0,72.0,88.0,105.0,90.0,88.0,77.0,83.0,95.0,97.0,84.0,105.0,63.0,60.0,36.0,104.0,35.0,83.0,64.0,96.0,62.0,61.0,103.0,38.0,80.0,77.0,105.0,10.0,105.0,105.0,12.0,96.0,36.0,105.0,6.0,72.0,99.0,106.0,105.0,11.0,94.0,8.0,73.0,14.0,86.0,80.0,89.0,92.0,57.0,9.0,76.0,10.0,91.0,58.0,30.0,81.0,104.0,41.0,58.0,12.0,104.0,104.0,105.0,59.0,54.0,103.0,70.0,103.0,62.0,90.0,105.0,59.0,105.0,72.0,105.0,77.0,98.0,4.0,93.0,78.0,105.0,63.0,96.0,11.0,62.0,11.0,38.0,40.0,80.0,71.0,69.0,103.0,56.0,55.0,96.0,59.0,76.0,57.0,81.0,31.0,85.0,79.0,105.0,80.0,67.0,11.0,62.0,60.0,66.0,11.0,59.0,91.0,8.0,53.0,37.0,96.0,24.0,9.0,34.0,55.0,73.0,55.0,105.0,90.0,98.0,85.0,25.0,91.0,86.0,7.0,63.0,54.0,60.0,64.0,58.0,96.0,84.0,10.0,62.0,50.0,92.0,17.0,94.0,53.0,92.0,87.0,105.0,71.0,85.0,104.0,98.0,103.0,93.0,56.0,92.0,89.0,99.0,67.0,66.0,81.0,98.0,86.0,104.0,68.0,9.0,103.0,38.0,63.0,68.0,97.0,105.0,18.0,90.0,99.0,20.0,62.0,82.0,104.0,34.0,92.0,7.0,62.0,7.0,67.0,77.0,70.0,83.0,5.0,31.0,97.0,106.0,5.0,82.0,25.0,105.0,97.0,104.0,80.0,106.0,95.0,92.0,84.0,44.0,70.0,105.0,90.0,5.0,22.0,41.0,79.0,87.0,26.0,58.0,96.0,69.0,55.0,91.0,61.0,41.0,61.0,105.0,5.0,105.0,84.0,54.0,79.0,54.0,56.0,95.0,13.0,10.0,62.0,8.0,20.0,104.0,103.0,55.0,62.0,87.0,32.0,64.0,87.0,59.0,84.0,67.0,2.0,88.0,44.0,11.0,9.0,60.0,79.0,96.0,84.0,90.0,55.0,91.0,93.0,40.0,97.0,80.0,80.0,106.0,41.0,105.0,68.0,90.0,36.0,56.0,105.0,79.0,53.0,45.0,10.0,44.0,93.0,62.0,84.0,104.0,105.0,61.0,96.0,54.0,99.0,97.0,94.0,70.0,60.0,96.0,57.0,67.0,100.0,3.0,55.0,43.0,39.0,41.0,71.0,15.0,97.0,42.0,9.0,58.0,99.0,73.0,105.0,61.0,12.0,103.0,70.0,90.0,104.0,74.0,89.0,59.0,29.0,94.0,67.0,40.0,94.0,105.0,99.0,78.0,87.0,88.0,89.0,31.0,80.0,104.0,12.0,92.0,40.0,29.0,20.0,63.0,92.0,105.0,69.0,73.0,104.0,93.0,85.0,53.0,21.0,39.0,62.0,69.0,9.0,1.0,11.0,98.0,2.0,27.0,27.0,105.0,77.0,94.0,21.0,62.0,62.0,59.0,77.0,89.0,42.0,39.0,73.0,105.0,23.0,78.0,78.0,55.0,89.0,77.0,4.0,4.0,6.0,82.0,90.0,42.0,99.0,93.0,6.0,77.0,4.0,40.0,79.0,93.0,92.0,93.0,64.0,98.0,99.0,105.0,83.0,61.0,0.0,76.0,96.0,63.0,89.0,10.0,92.0,97.0,16.0,92.0,85.0,76.0,59.0,105.0,57.0,84.0,95.0,54.0,63.0,78.0,86.0,89.0,105.0,104.0,53.0,95.0,104.0,72.0,105.0,20.0,105.0,57.0,105.0,8.0,68.0,106.0,81.0,79.0,42.0,48.0,92.0,103.0,88.0,90.0,39.0,41.0,94.0,74.0,95.0,89.0,61.0,26.0,16.0,96.0,95.0,99.0,91.0,33.0,82.0,64.0,59.0,10.0,103.0,105.0,11.0,99.0,104.0,1.0,41.0,55.0,103.0,89.0,55.0,13.0,81.0,104.0,62.0,84.0,95.0,36.0,31.0,91.0,105.0,10.0,83.0,89.0,22.0,34.0,46.0,94.0,106.0,40.0,78.0,85.0,28.0,78.0,38.0,11.0,92.0,14.0,58.0,93.0,83.0,33.0,98.0,58.0,92.0,32.0,68.0,58.0,57.0,100.0,59.0,60.0,30.0,105.0,64.0,78.0,84.0,74.0,74.0,84.0,90.0,10.0,87.0,97.0,105.0,36.0,88.0,27.0,99.0,103.0,56.0,104.0,81.0,52.0,89.0,41.0,90.0,11.0,104.0,23.0,38.0,97.0,14.0,68.0,60.0,93.0,40.0,78.0,76.0,92.0,27.0,76.0,105.0,9.0,105.0,56.0,9.0,12.0,64.0,80.0,63.0,94.0,103.0,80.0,35.0,34.0,36.0,105.0,105.0,106.0,105.0,96.0,104.0,16.0,91.0,6.0,104.0,105.0,105.0,57.0,104.0,96.0,80.0,90.0,105.0,105.0,104.0,103.0,37.0,105.0,105.0,58.0,104.0,59.0,98.0,38.0,34.0,46.0,93.0,105.0,76.0,16.0,105.0,105.0,82.0,42.0,77.0,56.0,89.0,103.0,85.0,25.0,44.0,105.0,10.0,104.0,104.0,33.0,4.0,53.0,8.0,92.0,104.0,91.0,58.0,9.0,4.0,61.0,14.0,21.0,106.0,20.0,55.0,39.0,84.0,105.0,104.0,68.0,104.0,103.0,105.0,95.0,63.0,59.0,90.0,39.0,105.0,58.0,96.0,104.0,62.0,89.0,58.0,56.0,100.0,96.0,1.0,5.0,105.0,101.0,8.0,89.0,98.0,13.0,105.0,104.0,65.0,2.0,39.0,104.0,9.0,39.0,105.0,34.0,89.0,39.0,86.0,60.0,2.0,55.0,29.0,87.0,77.0,51.0,62.0,29.0,66.0,14.0,54.0,98.0,105.0,56.0,76.0,7.0,84.0,16.0,55.0,104.0,81.0,65.0,89.0,96.0,81.0,82.0,35.0,95.0,95.0,96.0,100.0,43.0,104.0,83.0,88.0,91.0,88.0,62.0,27.0,48.0,7.0,25.0,91.0,6.0,63.0,63.0,104.0,92.0,95.0,73.0,100.0,58.0,85.0,57.0,23.0,99.0,85.0,25.0,67.0,39.0,66.0,96.0,54.0,101.0,58.0,30.0,12.0,70.0,9.0,45.0,105.0,81.0,55.0,65.0,106.0,100.0,81.0,83.0,105.0,105.0,54.0,76.0,95.0,79.0,45.0,82.0,57.0,9.0,104.0,17.0,59.0,59.0,104.0,82.0,75.0,103.0,10.0,13.0,95.0,104.0,93.0,5.0,81.0,59.0,90.0,105.0,68.0,59.0,86.0,82.0,97.0,12.0,77.0,75.0,52.0,96.0,22.0,10.0,57.0,82.0,104.0,89.0,60.0,55.0,71.0,94.0,93.0,105.0,87.0,32.0,89.0,87.0,104.0,92.0,92.0,94.0,45.0,98.0,43.0,104.0,4.0,99.0,97.0,2.0,40.0,62.0,12.0,92.0,76.0,58.0,27.0,105.0,32.0,34.0,27.0,15.0,27.0,89.0,5.0,65.0,55.0,81.0,72.0,38.0,90.0,95.0,64.0,61.0,9.0,64.0,92.0,104.0,96.0,105.0,54.0,21.0,60.0,60.0,95.0,82.0,60.0,46.0,63.0,11.0,58.0,89.0,92.0,83.0,61.0,84.0,92.0,62.0,61.0,79.0,3.0,93.0,104.0,9.0,26.0,82.0,105.0,105.0,105.0,92.0,84.0,62.0,100.0,22.0,92.0,60.0,104.0,103.0,95.0,9.0,83.0,104.0,57.0,73.0,105.0,55.0,12.0,59.0,86.0,79.0,86.0,35.0,104.0,105.0,61.0,89.0,105.0,99.0,92.0,98.0,90.0,4.0,19.0,35.0,64.0,106.0,85.0,34.0,98.0,38.0,33.0,63.0,106.0,47.0,91.0,104.0,105.0,89.0,105.0,59.0,98.0,89.0,16.0,80.0,104.0,105.0,83.0,5.0,11.0,75.0,94.0,104.0,96.0,57.0,105.0,9.0,105.0,36.0,55.0,73.0,103.0,97.0,85.0,60.0,104.0,79.0,61.0,77.0,76.0,3.0,79.0,37.0,103.0,60.0,44.0,56.0,97.0,95.0,71.0,87.0,61.0,72.0,100.0,48.0,105.0,93.0,41.0,45.0,8.0,33.0,57.0,71.0,82.0,26.0,7.0,66.0,105.0,48.0,74.0,11.0,70.0,90.0,63.0,83.0,95.0,97.0,96.0,100.0,35.0,98.0,98.0,74.0,12.0,94.0,97.0,100.0,7.0,64.0,105.0,105.0,61.0,3.0,11.0,105.0,70.0,105.0,92.0,92.0,105.0,63.0,44.0,97.0,39.0,104.0,29.0,64.0,71.0,83.0,56.0,95.0,104.0,19.0,31.0,42.0,97.0,72.0,105.0,80.0,98.0,85.0,103.0,15.0,104.0,85.0,9.0,75.0,105.0,105.0,92.0,106.0,77.0,105.0,76.0,94.0,61.0,4.0,53.0,83.0,93.0,95.0,60.0,55.0,78.0,81.0,8.0,93.0,56.0,105.0,56.0,104.0,69.0,104.0,51.0,66.0,79.0,88.0,98.0,59.0,98.0,87.0,100.0,54.0,72.0,83.0,95.0,99.0,91.0,20.0,105.0,105.0,2.0,104.0,26.0,79.0,92.0,54.0,106.0,75.0,85.0,95.0,98.0,106.0,105.0,99.0,106.0,2.0,69.0,61.0,37.0,104.0,27.0,3.0,57.0,64.0,86.0,62.0,95.0,94.0,59.0,73.0,104.0,30.0,61.0,26.0,91.0,18.0,105.0,55.0,105.0,105.0,37.0,61.0,56.0,55.0,57.0,46.0,81.0,8.0,63.0,96.0,78.0,54.0,64.0,95.0,57.0,105.0,56.0,92.0,104.0,44.0,83.0,105.0,96.0,9.0,104.0,2.0,92.0,69.0,69.0,89.0,44.0,52.0,76.0,93.0,58.0,99.0,65.0,96.0,76.0,96.0,23.0,4.0,105.0,63.0,60.0,13.0,104.0,96.0,98.0,82.0,105.0,100.0,103.0,92.0,76.0,80.0,96.0,105.0,92.0,18.0,94.0,12.0,58.0,98.0,67.0,44.0,91.0,73.0,95.0,77.0,96.0,105.0,104.0,106.0,86.0,12.0,91.0,90.0,97.0,104.0,100.0,89.0,61.0,55.0,98.0,3.0,93.0,93.0,62.0,97.0,100.0,57.0,105.0,97.0,65.0,34.0,104.0,65.0,24.0,105.0,105.0,93.0,56.0,62.0,75.0,105.0,53.0,2.0,76.0,78.0,81.0,65.0,67.0,2.0,55.0,5.0,104.0,105.0,60.0,23.0,64.0,70.0,31.0,73.0,63.0,59.0,36.0,103.0,77.0,103.0,64.0,100.0,21.0,105.0,59.0,73.0,104.0,31.0,105.0,105.0,81.0,105.0,11.0,104.0,78.0,55.0,98.0,57.0,105.0,76.0,56.0,9.0,94.0,10.0,106.0,61.0,68.0,45.0,105.0,55.0,12.0,59.0,105.0,76.0,92.0,94.0,78.0,105.0,95.0,31.0,25.0,44.0,10.0,92.0,104.0,63.0,15.0,9.0,99.0,29.0,65.0,105.0,54.0,9.0,98.0,4.0,41.0,84.0,88.0,105.0,11.0,56.0,54.0,103.0,73.0,68.0,90.0,65.0,86.0,11.0,105.0,92.0,90.0,90.0,63.0,13.0,83.0,59.0,89.0,37.0,104.0,92.0,30.0,81.0,84.0,74.0,55.0,72.0,56.0,99.0,87.0,11.0,80.0,4.0,31.0,4.0,5.0,96.0,86.0,11.0,44.0,105.0,9.0,60.0,105.0,104.0,68.0,96.0,79.0,54.0,44.0,89.0,106.0,8.0,62.0,31.0,3.0,63.0,61.0,103.0,31.0,10.0,100.0,105.0,88.0,55.0,62.0,93.0,40.0,98.0,43.0,4.0,104.0,86.0,73.0,92.0,78.0,56.0,82.0,95.0,57.0,7.0,96.0,51.0,90.0,87.0,21.0,84.0,54.0,105.0,56.0,73.0,94.0,105.0,25.0,87.0,11.0,84.0,4.0,63.0,90.0,47.0,54.0,77.0,104.0,13.0,35.0,95.0,105.0,96.0,76.0,83.0,60.0,105.0,89.0,80.0,98.0,68.0,88.0,90.0,91.0,92.0,6.0,99.0,106.0,105.0,86.0,5.0,104.0,83.0,54.0,68.0,2.0,54.0,88.0,104.0,97.0,84.0,105.0,54.0,87.0,87.0,105.0,106.0,103.0,44.0,8.0,69.0,64.0,80.0,98.0,45.0,8.0,62.0,85.0,104.0,103.0,104.0,86.0,68.0,12.0,60.0,33.0,104.0,56.0,48.0,84.0,3.0,16.0,103.0,69.0,89.0,105.0,72.0,95.0,103.0,96.0,55.0,67.0,3.0,75.0,40.0,17.0,40.0,59.0,18.0,61.0,30.0,55.0,105.0,103.0,92.0,89.0,70.0,75.0,94.0,5.0,88.0,32.0,54.0,98.0,90.0,53.0,104.0,88.0,103.0,86.0,105.0,73.0,99.0,92.0,79.0,6.0,95.0,76.0,60.0,56.0,68.0,96.0,78.0,77.0,20.0,80.0,97.0,104.0,34.0,37.0,80.0,106.0,36.0,57.0,60.0,34.0,82.0,99.0,105.0,60.0,86.0,60.0,41.0,6.0,78.0,73.0,85.0,105.0,60.0,92.0,36.0,83.0,94.0,54.0,54.0,20.0,38.0,98.0,2.0,65.0,85.0,84.0,96.0,70.0,37.0,92.0,71.0,16.0,8.0,90.0,105.0,100.0,80.0,106.0,64.0,54.0,79.0,87.0,16.0,75.0,78.0,23.0,60.0,51.0,100.0,104.0,56.0,99.0,81.0,83.0,93.0,5.0,65.0,94.0,105.0,64.0,54.0,59.0,105.0,99.0,40.0,84.0,56.0,99.0,96.0,36.0,103.0,14.0,95.0,20.0,98.0,36.0,55.0,73.0,79.0,81.0,45.0,53.0,18.0,95.0,78.0,4.0,68.0,4.0,98.0,38.0,60.0,104.0,83.0,104.0,48.0,99.0,104.0,56.0,106.0,87.0,2.0,101.0,83.0,105.0,98.0,64.0,76.0,10.0,60.0,56.0,104.0,60.0,105.0,104.0,53.0,58.0,80.0,60.0,7.0,104.0,53.0,89.0,26.0,94.0,41.0,5.0,7.0,103.0,64.0,3.0,7.0,23.0,90.0,6.0,63.0,105.0,86.0,59.0,15.0,82.0,12.0,92.0,105.0,91.0,105.0,105.0,105.0,105.0,105.0,53.0,40.0,92.0,105.0,43.0,104.0,104.0,80.0,93.0,61.0,106.0,104.0,105.0,55.0,78.0,54.0,99.0,54.0,103.0,36.0,98.0,97.0,24.0,56.0,25.0,104.0,43.0,54.0,93.0,105.0,2.0,84.0,18.0,103.0,88.0,52.0,23.0,22.0,32.0,67.0,6.0,3.0,82.0,81.0,23.0,27.0,74.0,78.0,56.0,3.0,97.0,35.0,91.0,104.0,105.0,104.0,1.0,54.0,105.0,0.0,79.0,105.0,52.0,72.0,63.0,105.0,73.0,78.0,78.0,59.0,53.0,83.0,103.0,82.0,104.0,92.0,95.0,30.0,90.0,58.0,105.0,1.0,52.0,60.0,23.0,105.0,100.0,1.0,60.0,100.0,37.0,5.0,21.0,105.0,101.0,58.0,77.0,77.0,104.0,95.0,36.0,9.0,104.0,85.0,92.0,106.0,99.0,99.0,53.0,104.0,99.0,59.0,73.0,105.0,30.0,78.0,34.0,7.0,58.0,70.0,53.0,57.0,105.0,37.0,56.0,59.0,97.0,56.0,106.0,3.0,8.0,79.0,105.0,54.0,105.0,84.0,56.0,88.0,89.0,55.0,78.0,23.0,106.0,54.0,81.0,105.0,105.0,54.0,52.0,7.0,103.0,56.0,100.0,93.0,37.0,81.0,103.0,22.0,4.0,1.0,97.0,62.0,60.0,7.0,78.0,73.0,78.0,22.0,88.0,72.0,14.0,83.0,92.0,6.0,54.0,48.0,9.0,54.0,55.0,103.0,106.0,79.0,91.0,35.0,99.0,77.0,52.0,80.0,6.0,93.0,54.0,70.0,84.0,56.0,104.0,81.0,75.0,56.0,59.0,88.0,99.0,95.0,10.0,81.0,105.0,85.0,90.0,97.0,104.0,59.0,6.0,41.0,93.0,96.0,105.0,26.0,28.0,72.0,71.0,54.0,105.0,90.0,70.0,35.0,19.0,4.0,57.0,55.0,90.0,39.0,106.0,9.0,64.0,60.0,85.0,105.0,88.0,100.0,86.0,73.0,103.0,57.0,18.0,79.0,96.0,106.0,78.0,5.0,5.0,99.0,63.0,105.0,75.0,59.0,84.0,79.0,53.0,41.0,100.0,59.0,4.0,54.0,52.0,31.0,22.0,21.0,73.0,67.0,45.0,9.0,58.0,77.0,35.0,8.0,90.0,72.0,30.0,99.0,91.0,64.0,79.0,42.0,3.0,68.0,84.0,31.0,20.0,103.0,105.0,31.0,15.0,92.0,91.0,29.0,92.0,92.0,94.0,70.0,42.0,53.0,82.0,13.0,43.0,55.0,54.0,105.0,83.0,5.0,25.0,89.0,15.0,105.0,9.0,100.0,101.0,104.0,87.0,86.0,97.0,51.0,104.0,94.0,95.0,20.0,105.0,66.0,39.0,2.0,36.0,103.0,90.0,89.0,89.0,103.0,68.0,10.0,63.0,97.0,55.0,90.0,82.0,48.0,98.0,15.0,103.0,44.0,105.0,27.0,11.0,79.0,71.0,81.0,4.0,55.0,40.0,97.0,34.0,79.0,89.0,4.0,75.0,94.0,105.0,104.0,56.0,13.0,105.0,38.0,105.0,92.0,69.0,11.0,105.0,75.0,100.0,28.0,46.0,79.0,31.0,86.0,19.0,74.0,60.0,7.0,88.0,100.0,59.0,72.0,92.0,87.0,90.0,27.0,2.0,44.0,103.0,103.0,92.0,83.0,65.0,55.0,94.0,82.0,105.0,104.0,14.0,86.0,36.0,71.0,23.0,62.0,96.0,104.0,52.0,62.0,105.0,92.0,84.0,4.0,105.0,104.0,71.0,58.0,74.0,56.0,82.0,18.0,94.0,62.0,94.0,103.0,82.0],\"xaxis\":\"x\",\"yaxis\":\"y\",\"type\":\"histogram\"},{\"alignmentgroup\":\"True\",\"hovertemplate\":\"x=%{x}<extra></extra>\",\"legendgroup\":\"\",\"marker\":{\"color\":\"indianred\"},\"name\":\"\",\"offsetgroup\":\"\",\"scalegroup\":\"x\",\"showlegend\":false,\"x\":[104.0,58.0,63.0,84.0,44.0,54.0,56.0,58.0,33.0,81.0,61.0,55.0,105.0,105.0,94.0,98.0,106.0,35.0,16.0,42.0,90.0,1.0,90.0,92.0,96.0,92.0,42.0,96.0,84.0,14.0,60.0,84.0,80.0,76.0,95.0,17.0,50.0,17.0,54.0,52.0,59.0,83.0,94.0,11.0,95.0,84.0,61.0,31.0,86.0,96.0,19.0,6.0,92.0,59.0,43.0,96.0,74.0,98.0,21.0,100.0,38.0,71.0,81.0,72.0,58.0,77.0,57.0,66.0,75.0,94.0,105.0,90.0,59.0,9.0,72.0,103.0,66.0,78.0,64.0,95.0,53.0,40.0,78.0,6.0,99.0,25.0,68.0,54.0,105.0,14.0,105.0,20.0,104.0,103.0,52.0,0.0,105.0,24.0,60.0,8.0,35.0,6.0,63.0,68.0,76.0,2.0,19.0,60.0,103.0,36.0,62.0,70.0,86.0,65.0,22.0,43.0,34.0,44.0,24.0,98.0,60.0,98.0,77.0,99.0,105.0,104.0,27.0,95.0,58.0,72.0,89.0,0.0,2.0,72.0,87.0,93.0,97.0,97.0,76.0,62.0,104.0,11.0,48.0,106.0,5.0,58.0,28.0,82.0,91.0,89.0,92.0,8.0,80.0,96.0,48.0,44.0,83.0,85.0,58.0,33.0,83.0,4.0,41.0,105.0,61.0,9.0,16.0,92.0,50.0,86.0,27.0,16.0,68.0,39.0,20.0,7.0,105.0,96.0,92.0,13.0,76.0,45.0,75.0,92.0,98.0,4.0,106.0,19.0,27.0,8.0,58.0,54.0,102.0,105.0,40.0,91.0,64.0,5.0,37.0,11.0,71.0,24.0,100.0,11.0,51.0,6.0,60.0,64.0,98.0,22.0,103.0,1.0,46.0,20.0,43.0,62.0,58.0,37.0,41.0,12.0,95.0,92.0,36.0,98.0,17.0,7.0,66.0,45.0,75.0,75.0,105.0,63.0,11.0,82.0,6.0,82.0,105.0,40.0,50.0,103.0,1.0,85.0,99.0,30.0,58.0,74.0,31.0,92.0,72.0,35.0,38.0,93.0,82.0,105.0,58.0,8.0,3.0,37.0,65.0,98.0,9.0,58.0,103.0,18.0,7.0,11.0,104.0,40.0,90.0,55.0,4.0,3.0,80.0,29.0,96.0,33.0,100.0,25.0,85.0,47.0,20.0,9.0,60.0,6.0,99.0,81.0,75.0,78.0,65.0,106.0,78.0,91.0,90.0,12.0,16.0,15.0,87.0,99.0,96.0,7.0,99.0,100.0,100.0,0.0,66.0,62.0,75.0,42.0,60.0,80.0,11.0,3.0,4.0,2.0,62.0,88.0,96.0,104.0,96.0,56.0,8.0,97.0,37.0,95.0,87.0,85.0,57.0,30.0,83.0,69.0,95.0,100.0,40.0,16.0,104.0,106.0,104.0,30.0,13.0,53.0,69.0,16.0,18.0,29.0,60.0,91.0,75.0,60.0,95.0,73.0,24.0,84.0,60.0,31.0,90.0,3.0,98.0,24.0,76.0,42.0,103.0,104.0,29.0,97.0,104.0,0.0,105.0,15.0,19.0,84.0,10.0,9.0,72.0,67.0,21.0,9.0,76.0,83.0,89.0,94.0,55.0,16.0,74.0,92.0,26.0,99.0,56.0,48.0,47.0,71.0,53.0,56.0,9.0,76.0,89.0,19.0,84.0,98.0,77.0,105.0,105.0,74.0,18.0,63.0,12.0,52.0,44.0,99.0,12.0,30.0,106.0,105.0,65.0,66.0,4.0,53.0,45.0,92.0,58.0,54.0,64.0,34.0,65.0,69.0,8.0,81.0,76.0,58.0,95.0,65.0,86.0,105.0,85.0,41.0,74.0,11.0,76.0,105.0,87.0,59.0,75.0,99.0,59.0,89.0,76.0,57.0,14.0,3.0,90.0,61.0,60.0,76.0,97.0,71.0,80.0,56.0,71.0,96.0,84.0,55.0,66.0,92.0,97.0,61.0,6.0,99.0,14.0,28.0,25.0,62.0,37.0,65.0,105.0,87.0,12.0,97.0,8.0,92.0,103.0,6.0,19.0,79.0,24.0,66.0,14.0,21.0,40.0,105.0,106.0,81.0,85.0,105.0,96.0,74.0,105.0,104.0,85.0,41.0,98.0,55.0,97.0,84.0,64.0,68.0,42.0,96.0,104.0,57.0,9.0,98.0,55.0,65.0,99.0,88.0,71.0,84.0,73.0,68.0,72.0,103.0,56.0,97.0,89.0,63.0,105.0,97.0,79.0,100.0,84.0,99.0,38.0,13.0,82.0,39.0,5.0,13.0,13.0,18.0,31.0,55.0,36.0,72.0,55.0,94.0,57.0,4.0,82.0,12.0,78.0,94.0,59.0,60.0,39.0,38.0,61.0,25.0,98.0,11.0,71.0,90.0,93.0,89.0,79.0,6.0,106.0,57.0,84.0,98.0,104.0,89.0,24.0,104.0,106.0,23.0,82.0,104.0,85.0,104.0,56.0,78.0,44.0,24.0,106.0,95.0,104.0,105.0,87.0,11.0,105.0,4.0,100.0,12.0,104.0,52.0,86.0,51.0,94.0,62.0,53.0,105.0,105.0,3.0,100.0,11.0,75.0,91.0,38.0,104.0,104.0,83.0,69.0,95.0,54.0,16.0,74.0,62.0,13.0,1.0,55.0,16.0,86.0,105.0,104.0,95.0,59.0,81.0,105.0,95.0,73.0,104.0,104.0,105.0,19.0,87.0,85.0,3.0,4.0,98.0,98.0,42.0,104.0,88.0,56.0,104.0,94.0,38.0,12.0,54.0,87.0,93.0,35.0,104.0,105.0,62.0,31.0,104.0,65.0,8.0,83.0,103.0,96.0,93.0,53.0,85.0,104.0,62.0,86.0,18.0,1.0,93.0,105.0,94.0,105.0,61.0,75.0,83.0,105.0,104.0,98.0,6.0,75.0,53.0,79.0,66.0,61.0,57.0,62.0,98.0,105.0,41.0,103.0,5.0,84.0,105.0,39.0,100.0,69.0,65.0,103.0,97.0,57.0,104.0,88.0,94.0,89.0,61.0,79.0,90.0,22.0,88.0,36.0,10.0,27.0,69.0,84.0,78.0,5.0,64.0,46.0,78.0,105.0,87.0,38.0,62.0,103.0,18.0,65.0,104.0,106.0,60.0,87.0,105.0,103.0,61.0,70.0,106.0,55.0,104.0,60.0,105.0,71.0,104.0,95.0,105.0,56.0,10.0,56.0,106.0,45.0,14.0,97.0,83.0,82.0,93.0,62.0,59.0,96.0,62.0,79.0,106.0,103.0,77.0,89.0,104.0,86.0,20.0,89.0,63.0,96.0,34.0,38.0,34.0,76.0,55.0,75.0,92.0,11.0,90.0,76.0,13.0,96.0,37.0,66.0,59.0,70.0,105.0,72.0,57.0,62.0,70.0,104.0,3.0,83.0,62.0,86.0,4.0,14.0,105.0,41.0,90.0,90.0,99.0,1.0,105.0,70.0,97.0,92.0,55.0,16.0,3.0,71.0,105.0,87.0,95.0,59.0,59.0,56.0,77.0,80.0,4.0,43.0,57.0,104.0,105.0,105.0,7.0,61.0,103.0,88.0,87.0,54.0,6.0,91.0,41.0,38.0,18.0,89.0,2.0,16.0,105.0,94.0,98.0,9.0,60.0,59.0,88.0,87.0,62.0,105.0,18.0,92.0,104.0,103.0,105.0,63.0,105.0,87.0,105.0,98.0,13.0,105.0,9.0,81.0,92.0,57.0,38.0,94.0,18.0,88.0,82.0,51.0,82.0,95.0,22.0,103.0,56.0,29.0,12.0,32.0,90.0,35.0,99.0,105.0,30.0,15.0,55.0,84.0,72.0,93.0,59.0,96.0,90.0,13.0,62.0,75.0,12.0,27.0,98.0,72.0,57.0,89.0,101.0,54.0,73.0,62.0,57.0,100.0,9.0,41.0,86.0,59.0,63.0,39.0,103.0,105.0,38.0,105.0,52.0,5.0,13.0,16.0,58.0,90.0,92.0,77.0,87.0,11.0,92.0,63.0,58.0,91.0,47.0,89.0,86.0,101.0,95.0,103.0,63.0,95.0,75.0,96.0,92.0,82.0,82.0,77.0,0.0,75.0,82.0,42.0,75.0,57.0,96.0,91.0,61.0,85.0,85.0,56.0,57.0,21.0,64.0,105.0,10.0,99.0,91.0,104.0,5.0,105.0,68.0,12.0,2.0,12.0,80.0,12.0,62.0,103.0,45.0,105.0,94.0,57.0,2.0,94.0,93.0,11.0,78.0,101.0,29.0,94.0,37.0,25.0,40.0,41.0,85.0,10.0,9.0,1.0,11.0,9.0,9.0,10.0,17.0,11.0,90.0,38.0,58.0,100.0,88.0,61.0,58.0,10.0,31.0,7.0,62.0,60.0,52.0,53.0,90.0,13.0,105.0,64.0,63.0,33.0,92.0,19.0,62.0,106.0,105.0,78.0,71.0,47.0,62.0,60.0,86.0,33.0,11.0,29.0,97.0,105.0,106.0,60.0,46.0,98.0,64.0,74.0,83.0,81.0,103.0,30.0,104.0,90.0,95.0,105.0,105.0,15.0,89.0,98.0,86.0,104.0,105.0,96.0,104.0,9.0,24.0,95.0,9.0,61.0,64.0,83.0,104.0,103.0,73.0,11.0,12.0,94.0,87.0,100.0,94.0,71.0,0.0,27.0,78.0,75.0,64.0,62.0,106.0,97.0,72.0,89.0,95.0,5.0,105.0,3.0,86.0,90.0,67.0,57.0,92.0,104.0,30.0,105.0,55.0,98.0,7.0,85.0,104.0,88.0,84.0,90.0,5.0,105.0,93.0,16.0,7.0,79.0,104.0,71.0,43.0,92.0,98.0,97.0,68.0,97.0,105.0,90.0,9.0,91.0,105.0,22.0,105.0,98.0,42.0,94.0,105.0,31.0,41.0,44.0,105.0,51.0,96.0,104.0,38.0,57.0,81.0,78.0,95.0,9.0,33.0,66.0,21.0,92.0,72.0,103.0,97.0,83.0,94.0,98.0,92.0,60.0,26.0,12.0,63.0,103.0,1.0,4.0,57.0,31.0,35.0,106.0,98.0,29.0,91.0,105.0,5.0,38.0,74.0,57.0,11.0,64.0,97.0,84.0,94.0,81.0,104.0,98.0,92.0,78.0,61.0,58.0,67.0,55.0,55.0,95.0,94.0,96.0,64.0,99.0,62.0,105.0,10.0,78.0,1.0,93.0,99.0,20.0,105.0,59.0,91.0,77.0,25.0,61.0,35.0,105.0,29.0,91.0,59.0,25.0,105.0,104.0,58.0,94.0,58.0,59.0,88.0,97.0,97.0,106.0,77.0,95.0,36.0,105.0,106.0,104.0,38.0,92.0,69.0,92.0,2.0,57.0,93.0,106.0,91.0,78.0,80.0,4.0,94.0,82.0,44.0,57.0,77.0,85.0,101.0,105.0,90.0,94.0,79.0,97.0,99.0,71.0,25.0,96.0,75.0,17.0,100.0,105.0,55.0,85.0,54.0,91.0,97.0,95.0,41.0,38.0,87.0,100.0,106.0,41.0,32.0,2.0,62.0,87.0,105.0,62.0,105.0,15.0,17.0,57.0,86.0,106.0,75.0,98.0,54.0,93.0,70.0,105.0,84.0,85.0,29.0,96.0,94.0,57.0,86.0,94.0,92.0,72.0,105.0,21.0,104.0,58.0,11.0,56.0,104.0,5.0,62.0,41.0,88.0,74.0,22.0,105.0,105.0,22.0,27.0,65.0,89.0,9.0,57.0,63.0,91.0,63.0,8.0,57.0,60.0,105.0,105.0,82.0,95.0,5.0,97.0,79.0,96.0,64.0,64.0,59.0,13.0,89.0,89.0,77.0,39.0,100.0,87.0,104.0,87.0,83.0,66.0,91.0,38.0,69.0,42.0,82.0,36.0,56.0,92.0,87.0,91.0,44.0,14.0,104.0,104.0,98.0,23.0,35.0,4.0,105.0,86.0,104.0,105.0,29.0,57.0,75.0,105.0,31.0,46.0,37.0,42.0,78.0,59.0,61.0,106.0,88.0,41.0,75.0,105.0,62.0,9.0,104.0,96.0,106.0,10.0,85.0,94.0,100.0,62.0,92.0,93.0,71.0,106.0,104.0,103.0,104.0,93.0,94.0,94.0,12.0,84.0,61.0,105.0,81.0,74.0,58.0,103.0,105.0,96.0,64.0,66.0,105.0,99.0,72.0,55.0,1.0,24.0,60.0,92.0,78.0,91.0,71.0,92.0,105.0,92.0,105.0,9.0,95.0,88.0,62.0,18.0,9.0,105.0,14.0,66.0,8.0,34.0,15.0,105.0,75.0,95.0,9.0,50.0,61.0,106.0,97.0,101.0,6.0,104.0,91.0,104.0,25.0,20.0,3.0,60.0,83.0,104.0,60.0,58.0,96.0,92.0,59.0,45.0,83.0,69.0,59.0,36.0,95.0,54.0,2.0,9.0,57.0,103.0,104.0,89.0,18.0,97.0,87.0,8.0,100.0,105.0,88.0,82.0,8.0,76.0,12.0,76.0,56.0,85.0,55.0,41.0,11.0,31.0,5.0,99.0,96.0,103.0,104.0,92.0,96.0,103.0,9.0,99.0,86.0,92.0,80.0,92.0,9.0,105.0,67.0,29.0,10.0,29.0,82.0,98.0,105.0,83.0,82.0,42.0,44.0,105.0,89.0,97.0,59.0,39.0,89.0,101.0,104.0,57.0,42.0,105.0,58.0,99.0,39.0,74.0,93.0,60.0,72.0,5.0,56.0,97.0,27.0,36.0,77.0,80.0,103.0,67.0,8.0,10.0,19.0,3.0,62.0,19.0,99.0,19.0,105.0,42.0,21.0,38.0,93.0,59.0,57.0,5.0,87.0,21.0,103.0,76.0,82.0,93.0,68.0,105.0,9.0,105.0,13.0,35.0,42.0,103.0,104.0,10.0,54.0,39.0,94.0,105.0,73.0,10.0,56.0,62.0,85.0,61.0,101.0,62.0,57.0,60.0,89.0,62.0,98.0,29.0,41.0,83.0,97.0,96.0,59.0,6.0,105.0,94.0,59.0,98.0,104.0,105.0,96.0,2.0,57.0,89.0,80.0,30.0,20.0,66.0,105.0,21.0,103.0,57.0,79.0,82.0,105.0,105.0,70.0,22.0,105.0,62.0,31.0,93.0,73.0,62.0,66.0,81.0,87.0,40.0,89.0,82.0,7.0,100.0,82.0,92.0,20.0,76.0,85.0,69.0,36.0,56.0,83.0,89.0,9.0,79.0,21.0,104.0,105.0,104.0,79.0,22.0,87.0,41.0,105.0,96.0,82.0,106.0,38.0,104.0,104.0,98.0,100.0,41.0,97.0,55.0,88.0,15.0,105.0,56.0,69.0,9.0,103.0,41.0,105.0,76.0,38.0,91.0,106.0,104.0,105.0,98.0,62.0,38.0,14.0,97.0,80.0,98.0,38.0,95.0,5.0,89.0,77.0,18.0,56.0,89.0,98.0,105.0,104.0,56.0,103.0,73.0,105.0,66.0,105.0,60.0,8.0,46.0,100.0,103.0,2.0,63.0,103.0,14.0,92.0,5.0,104.0,20.0,89.0,6.0,80.0,103.0,105.0,104.0,106.0,10.0,106.0,34.0,94.0,105.0,87.0,95.0,17.0,20.0,61.0,103.0,8.0,105.0,105.0,12.0,11.0,63.0,61.0,79.0,83.0,104.0,93.0,26.0,105.0,104.0,105.0,105.0,99.0,9.0,77.0,4.0,15.0,92.0,19.0,69.0,87.0,99.0,91.0,59.0,31.0,51.0,102.0,94.0,69.0,99.0,38.0,106.0,92.0,6.0,105.0,100.0,104.0,42.0,66.0,11.0,39.0,89.0,97.0,81.0,63.0,56.0,104.0,92.0,104.0,5.0,90.0,54.0,93.0,26.0,7.0,78.0,80.0,85.0,69.0,9.0,47.0,92.0,68.0,44.0,55.0,95.0,104.0,55.0,57.0,100.0,91.0,15.0,59.0,101.0,76.0,88.0,84.0,89.0,57.0,105.0,92.0,57.0,98.0,79.0,98.0,100.0,104.0,64.0,58.0,40.0,105.0,59.0,75.0,6.0,70.0,81.0,87.0,25.0,38.0,78.0,100.0,63.0,96.0,78.0,67.0,78.0,64.0,38.0,92.0,8.0,88.0,72.0,84.0,105.0,105.0,60.0,100.0,46.0,68.0,94.0,38.0,35.0,79.0,74.0,97.0,13.0,8.0,54.0,89.0,62.0,78.0,99.0,93.0,105.0,20.0,78.0,11.0,34.0,60.0,87.0,87.0,61.0,37.0,67.0,63.0,47.0,58.0,83.0,35.0,98.0,87.0,94.0,104.0,58.0,97.0,28.0,58.0,95.0,81.0,93.0,105.0,105.0,28.0,30.0,41.0,105.0,104.0,90.0,104.0,58.0,105.0,82.0,39.0,104.0,105.0,3.0,95.0,105.0,62.0,81.0,19.0,97.0,105.0,78.0,79.0,62.0,81.0,72.0,61.0,91.0,90.0,9.0,66.0,61.0,98.0,68.0,94.0,34.0,99.0,81.0,76.0,100.0,63.0,103.0,89.0,19.0,59.0,10.0,81.0,14.0,39.0,77.0,61.0,31.0,106.0,67.0,99.0,89.0,5.0,71.0,105.0,37.0,1.0,61.0,23.0,39.0,62.0,4.0,90.0,12.0,6.0,61.0,12.0,13.0,83.0,3.0,64.0,30.0,97.0,75.0,39.0,46.0,95.0,97.0,42.0,86.0,51.0,77.0,77.0,98.0,37.0,89.0,69.0,98.0,64.0,56.0,23.0,71.0,3.0,42.0,16.0,98.0,84.0,61.0,82.0,62.0,31.0,81.0,86.0,105.0,30.0,75.0,96.0,90.0,104.0,93.0,91.0,103.0,55.0,17.0,39.0,105.0,81.0,62.0,44.0,61.0,99.0,53.0,103.0,6.0,55.0,15.0,55.0,99.0,99.0,103.0,99.0,2.0,105.0,92.0,90.0,46.0,58.0,87.0,98.0,13.0,66.0,10.0,72.0,79.0,83.0,44.0,98.0,105.0,99.0,99.0,54.0,65.0,65.0,55.0,57.0,52.0,62.0,87.0,99.0,74.0,27.0,105.0,71.0,20.0,44.0,54.0,93.0,104.0,99.0,62.0,71.0,90.0,100.0,104.0,105.0,105.0,97.0,61.0,105.0,99.0,40.0,83.0,58.0,37.0,101.0,106.0,105.0,103.0,97.0,67.0,105.0,103.0,5.0,79.0,54.0,10.0,87.0,61.0,53.0,88.0,92.0,105.0,94.0,90.0,96.0,79.0,67.0,27.0,46.0,45.0,25.0,40.0,104.0,86.0,104.0,77.0,76.0,62.0,19.0,105.0,81.0,104.0,79.0,74.0,20.0,9.0,104.0,41.0,70.0,98.0,15.0,59.0,104.0,56.0,105.0,5.0,16.0,98.0,68.0,100.0,87.0,91.0,93.0,37.0,89.0,98.0,6.0,105.0,100.0,26.0,106.0,67.0,96.0,105.0,8.0,105.0,105.0,69.0,97.0,85.0,73.0,7.0,103.0,98.0,12.0,105.0,56.0,105.0,26.0,96.0,85.0,105.0,68.0,76.0,19.0,62.0,86.0,63.0,61.0,89.0,100.0,105.0,70.0,53.0,104.0,0.0,62.0,74.0,78.0,6.0,89.0,94.0,59.0,39.0,47.0,83.0,53.0,105.0,30.0,9.0,104.0,53.0,98.0,89.0,62.0,81.0,73.0,56.0,1.0,94.0,39.0,90.0,105.0,105.0,104.0,105.0,96.0,73.0,85.0,59.0,97.0,55.0,78.0,78.0,59.0,78.0,77.0,40.0,98.0,26.0,86.0,86.0,103.0,104.0,54.0,98.0,7.0,69.0,70.0,37.0,38.0,77.0,65.0,38.0,97.0,7.0,95.0,98.0,3.0,8.0,104.0,105.0,91.0,105.0,75.0,104.0,98.0,84.0,90.0,11.0,105.0,106.0,85.0,86.0,62.0,17.0,45.0,14.0,4.0,105.0,61.0,5.0,85.0,3.0,105.0,64.0,105.0,105.0,81.0,97.0,58.0,73.0,55.0,91.0,85.0,83.0,105.0,105.0,93.0,96.0,84.0,56.0,104.0,94.0,79.0,65.0,30.0,59.0,30.0,88.0,75.0,88.0,105.0,60.0,31.0,7.0,75.0,69.0,98.0,104.0,2.0,89.0,28.0,88.0,82.0,65.0,105.0,105.0,37.0,60.0,105.0,98.0,99.0,63.0,105.0,59.0,36.0,18.0,54.0,69.0,105.0,84.0,76.0,94.0,78.0,59.0,89.0,39.0,30.0,104.0,57.0,79.0,105.0,69.0,57.0,105.0,105.0,93.0,60.0,62.0,85.0,81.0,91.0,60.0,36.0,92.0,68.0,105.0,104.0,6.0,66.0,99.0,105.0,61.0,11.0,87.0,33.0,42.0,63.0,89.0,7.0,25.0,79.0,68.0,18.0,103.0,93.0,105.0,16.0,85.0,75.0,53.0,64.0,58.0,44.0,46.0,11.0,46.0,94.0,56.0,2.0,79.0,67.0,85.0,4.0,104.0,87.0,9.0,76.0,70.0,24.0,104.0,72.0,93.0,105.0,62.0,9.0,63.0,42.0,1.0,89.0,63.0,93.0,25.0,89.0,61.0,55.0,85.0,87.0,83.0,10.0,28.0,90.0,92.0,103.0,97.0,97.0,69.0,28.0,91.0,87.0,99.0,105.0,62.0,8.0,105.0,90.0,71.0,58.0,88.0,4.0,98.0,105.0,101.0,77.0,105.0,44.0,62.0,87.0,86.0,61.0,81.0,58.0,100.0,81.0,90.0,92.0,86.0,98.0,87.0,8.0,91.0,72.0,79.0,3.0,105.0,21.0,4.0,106.0,67.0,105.0,60.0,103.0,98.0,106.0,90.0,90.0,76.0,63.0,80.0,92.0,94.0,98.0,41.0,3.0,88.0,30.0,96.0,66.0,36.0,11.0,30.0,48.0,94.0,62.0,99.0,88.0,105.0,104.0,105.0,104.0,105.0,56.0,75.0,71.0,79.0,40.0,61.0,105.0,64.0,86.0,66.0,95.0,8.0,106.0,98.0,69.0,105.0,88.0,85.0,87.0,77.0,81.0,29.0,72.0,7.0,91.0,85.0,57.0,90.0,60.0,87.0,34.0,55.0,63.0,63.0,88.0,83.0,19.0,80.0,105.0,83.0,104.0,95.0,94.0,59.0,2.0,89.0,31.0,103.0,3.0,11.0,105.0,62.0,101.0,105.0,60.0,92.0,105.0,42.0,24.0,105.0,83.0,75.0,35.0,14.0,104.0,105.0,65.0,101.0,95.0,6.0,54.0,32.0,5.0,60.0,47.0,104.0,84.0,105.0,105.0,60.0,82.0,99.0,100.0,51.0,98.0,105.0,86.0,95.0,104.0,61.0,63.0,80.0,89.0,40.0,69.0,94.0,86.0,85.0,7.0,56.0,100.0,98.0,21.0,106.0,65.0,23.0,91.0,4.0,5.0,59.0,82.0,97.0,25.0,104.0,78.0,5.0,52.0,38.0,54.0,71.0,97.0,96.0,61.0,81.0,64.0,89.0,56.0,88.0,92.0,105.0,104.0,47.0,82.0,13.0,26.0,54.0,61.0,104.0,77.0,63.0,85.0,76.0,103.0,37.0,99.0,38.0,53.0,39.0,69.0,106.0,46.0,40.0,6.0,103.0,74.0,105.0,93.0,105.0,1.0,106.0,87.0,30.0,103.0,59.0,8.0,87.0,89.0,26.0,104.0,81.0,68.0,97.0,67.0,11.0,75.0,104.0,105.0,105.0,72.0,76.0,96.0,37.0,92.0,104.0,89.0,40.0,10.0,18.0,44.0,96.0,66.0,105.0,92.0,98.0,6.0,83.0,26.0,12.0,100.0,84.0,78.0,12.0,40.0,89.0,38.0,64.0,32.0,105.0,69.0,85.0,87.0,8.0,60.0,105.0,29.0,91.0,19.0,35.0,19.0,41.0,88.0,90.0,93.0,88.0,98.0,74.0,61.0,87.0,24.0,56.0,37.0,74.0,60.0,79.0,14.0,97.0,56.0,48.0,63.0,89.0,71.0,62.0,104.0,35.0,42.0,34.0,1.0,93.0,78.0,73.0,100.0,4.0,68.0,55.0,5.0,104.0,57.0,62.0,60.0,55.0,105.0,27.0,99.0,53.0,67.0,96.0,4.0,104.0,58.0,47.0,34.0,88.0,59.0,10.0,95.0,61.0,37.0,105.0,84.0,105.0,94.0,83.0,103.0,10.0,100.0,30.0,104.0,73.0,62.0,98.0,97.0,9.0,105.0,0.0,104.0,104.0,99.0,82.0,71.0,87.0,60.0,105.0,51.0,18.0,39.0,78.0,60.0,104.0,82.0,52.0,54.0,47.0,35.0,87.0,88.0,80.0,98.0,93.0,40.0,91.0,103.0,105.0,99.0,33.0,44.0,90.0,71.0,84.0,34.0,89.0,20.0,57.0,39.0,55.0,43.0,32.0,26.0,11.0,105.0,94.0,60.0,62.0,95.0,85.0,79.0,77.0,76.0,89.0,91.0,97.0,87.0,84.0,80.0,105.0,80.0,59.0,31.0,98.0,105.0,62.0,70.0,15.0,76.0,106.0,100.0,26.0,86.0,56.0,103.0,70.0,95.0,86.0,3.0,5.0,62.0,61.0,95.0,97.0,82.0,61.0,81.0,74.0,71.0,58.0,7.0,105.0,95.0,89.0,93.0,105.0,29.0,95.0,59.0,94.0,98.0,9.0,105.0,100.0,9.0,64.0,104.0,98.0,60.0,79.0,94.0,14.0,39.0,105.0,68.0,106.0,103.0,16.0,61.0,17.0,47.0,97.0,0.0,40.0,6.0,96.0,68.0,95.0,100.0,95.0,106.0,7.0,58.0,104.0,9.0,87.0,73.0,30.0,25.0,8.0,57.0,59.0,97.0,96.0,80.0,64.0,18.0,12.0,11.0,6.0,62.0,62.0,10.0,27.0,55.0,62.0,78.0,105.0,86.0,8.0,60.0,105.0,99.0,6.0,78.0,106.0,70.0,36.0,96.0,93.0,104.0,56.0,105.0,59.0,95.0,95.0,84.0,89.0,99.0,32.0,59.0,72.0,57.0,106.0,83.0,105.0,85.0,97.0,27.0,70.0,39.0,97.0,58.0,83.0,62.0,104.0,104.0,46.0,83.0,41.0,11.0,11.0,80.0,81.0,84.0,104.0,54.0,82.0,65.0,44.0,38.0,103.0,86.0,26.0,24.0,106.0,35.0,45.0,97.0,12.0,84.0,3.0,105.0,105.0,96.0,89.0,66.0,95.0,84.0,7.0,103.0,11.0,75.0,72.0,77.0,38.0,98.0,3.0,33.0,91.0,19.0,93.0,30.0,104.0,35.0,92.0,6.0,84.0,104.0,89.0,96.0,37.0,4.0,86.0,73.0,27.0,88.0,85.0,105.0,37.0,57.0,71.0,51.0,90.0,64.0,4.0,48.0,104.0,105.0,22.0,56.0,63.0,82.0,79.0,16.0,63.0,85.0,11.0,63.0,93.0,82.0,105.0,97.0,57.0,105.0,98.0,105.0,106.0,75.0,97.0,83.0,99.0,61.0,34.0,11.0,94.0,104.0,54.0,90.0,103.0,103.0,103.0,12.0,59.0,79.0,104.0,95.0,22.0,68.0,24.0,34.0,54.0,47.0,12.0,97.0,99.0,105.0,55.0,7.0,33.0,103.0,64.0,0.0,101.0,12.0,105.0,87.0,55.0,5.0,104.0,36.0,56.0,73.0,4.0,78.0,13.0,104.0,64.0,58.0,23.0,95.0,1.0,54.0,16.0,105.0,66.0,97.0,53.0,87.0,105.0,85.0,100.0,105.0,79.0,89.0,9.0,40.0,105.0,3.0,4.0,91.0,81.0,57.0,95.0,104.0,97.0,97.0,10.0,104.0,3.0,10.0,93.0,89.0,105.0,86.0,104.0,66.0,88.0,5.0,104.0,23.0,62.0,96.0,105.0,31.0,54.0,96.0,25.0,100.0,70.0,97.0,44.0,87.0,96.0,7.0,10.0,33.0,70.0,71.0,82.0,61.0,64.0,85.0,106.0,105.0,93.0,7.0,99.0,92.0,100.0,59.0,26.0,7.0,98.0,9.0,87.0,89.0,105.0,63.0,72.0,19.0,1.0,58.0,3.0,92.0,104.0,37.0,77.0,60.0,75.0,104.0,76.0,92.0,92.0,39.0,105.0,55.0,56.0,81.0,104.0,87.0,86.0,104.0,105.0,104.0,40.0,37.0,61.0,59.0,59.0,38.0,55.0,90.0,85.0,69.0,16.0,4.0,35.0,41.0,3.0,105.0,93.0,96.0,83.0,106.0,15.0,93.0,91.0,71.0,6.0,31.0,38.0,79.0,39.0,104.0,94.0,105.0,58.0,40.0,66.0,75.0,26.0,105.0,81.0,98.0,68.0,105.0,64.0,60.0,47.0,60.0,88.0,14.0,105.0,4.0,94.0,105.0,97.0,98.0,99.0,89.0,2.0,25.0,16.0,98.0,38.0,83.0,29.0,17.0,12.0,61.0,84.0,60.0,98.0,106.0,103.0,79.0,88.0,105.0,85.0,77.0,106.0,79.0,2.0,91.0,82.0,57.0,2.0,56.0,98.0,63.0,58.0,62.0,79.0,96.0,40.0,78.0,60.0,62.0,35.0,104.0,9.0,7.0,88.0,88.0,26.0,11.0,34.0,19.0,99.0,64.0,47.0,106.0,105.0,65.0,43.0,94.0,105.0,36.0,78.0,3.0,105.0,90.0,63.0,11.0,11.0,68.0,95.0,98.0,105.0,104.0,87.0,99.0,60.0,58.0,94.0,90.0,19.0,81.0,62.0,76.0,51.0,44.0,61.0,1.0,96.0,104.0,77.0,9.0,73.0,89.0,1.0,92.0,88.0,106.0,105.0,99.0,88.0,97.0,97.0,60.0,88.0,16.0,20.0,97.0,28.0,104.0,39.0,95.0,106.0,76.0,96.0,55.0,104.0,34.0,86.0,37.0,77.0,78.0,84.0,90.0,46.0,9.0,105.0,105.0,76.0,25.0,81.0,100.0,54.0,20.0,5.0,46.0,36.0,105.0,61.0,47.0,7.0,69.0,104.0,21.0,25.0,104.0,75.0,43.0,7.0,98.0,55.0,92.0,89.0,104.0,75.0,75.0,7.0,104.0,68.0,105.0,61.0,104.0,62.0,105.0,97.0,103.0,103.0,54.0,101.0,14.0,104.0,83.0,89.0,64.0,62.0,79.0,71.0,100.0,92.0,64.0,2.0,105.0,103.0,53.0,52.0,104.0,5.0,105.0,98.0,85.0,79.0,75.0,104.0,86.0,32.0,96.0,69.0,53.0,21.0,28.0,104.0,53.0,80.0,78.0,54.0,99.0,1.0,78.0,64.0,30.0,73.0,25.0,98.0,104.0,104.0,76.0,54.0,57.0,104.0,105.0,90.0,53.0,104.0,91.0,53.0,53.0,105.0,28.0,77.0,92.0,94.0,92.0,10.0,61.0,41.0,12.0,61.0,34.0,67.0,9.0,79.0,53.0,44.0,91.0,19.0,97.0,104.0,106.0,90.0,12.0,61.0,10.0,98.0,54.0,32.0,105.0,84.0,94.0,104.0,60.0,79.0,98.0,62.0,54.0,64.0,6.0,95.0,105.0,64.0,106.0,55.0,75.0,85.0,105.0,86.0,61.0,41.0,12.0,79.0,6.0,92.0,86.0,79.0,89.0,86.0,105.0,106.0,80.0,54.0,54.0,94.0,105.0,93.0,76.0,65.0,6.0,91.0,59.0,57.0,106.0,105.0,0.0,54.0,89.0,105.0,98.0,64.0,55.0,78.0,90.0,23.0,59.0,106.0,76.0,105.0,97.0,7.0,57.0,101.0,105.0,104.0,9.0,78.0,37.0,38.0,59.0,4.0,6.0,100.0,85.0,105.0,44.0,35.0,75.0,69.0,58.0,80.0,89.0,93.0,29.0,90.0,87.0,20.0,65.0,69.0,62.0,71.0,80.0,98.0,78.0,74.0,57.0,97.0,8.0,87.0,88.0,31.0,6.0,100.0,58.0,81.0,71.0,62.0,77.0,37.0,104.0,66.0,18.0,97.0,85.0,60.0,5.0,94.0,78.0,42.0,56.0,81.0,30.0,89.0,96.0,6.0,64.0,96.0,96.0,55.0,43.0,98.0,105.0,99.0,84.0,73.0,89.0,28.0,83.0,15.0,86.0,65.0,92.0,34.0,104.0,92.0,66.0,80.0,18.0,100.0,105.0,86.0,9.0,26.0,90.0,100.0,75.0,61.0,48.0,26.0,24.0,82.0,30.0,84.0,93.0,103.0,60.0,81.0,61.0,7.0,105.0,104.0,105.0,104.0,73.0,72.0,88.0,105.0,90.0,88.0,77.0,83.0,95.0,97.0,84.0,105.0,63.0,60.0,36.0,104.0,35.0,83.0,64.0,96.0,62.0,61.0,103.0,38.0,80.0,77.0,105.0,10.0,105.0,105.0,12.0,96.0,36.0,105.0,6.0,72.0,99.0,106.0,105.0,11.0,94.0,8.0,73.0,14.0,86.0,80.0,89.0,92.0,57.0,9.0,76.0,10.0,91.0,58.0,30.0,81.0,104.0,41.0,58.0,12.0,104.0,104.0,105.0,59.0,54.0,103.0,70.0,103.0,62.0,90.0,105.0,59.0,105.0,72.0,105.0,77.0,98.0,4.0,93.0,78.0,105.0,63.0,96.0,11.0,62.0,11.0,38.0,40.0,80.0,71.0,69.0,103.0,56.0,55.0,96.0,59.0,76.0,57.0,81.0,31.0,85.0,79.0,105.0,80.0,67.0,11.0,62.0,60.0,66.0,11.0,59.0,91.0,8.0,53.0,37.0,96.0,24.0,9.0,34.0,55.0,73.0,55.0,105.0,90.0,98.0,85.0,25.0,91.0,86.0,7.0,63.0,54.0,60.0,64.0,58.0,96.0,84.0,10.0,62.0,50.0,92.0,17.0,94.0,53.0,92.0,87.0,105.0,71.0,85.0,104.0,98.0,103.0,93.0,56.0,92.0,89.0,99.0,67.0,66.0,81.0,98.0,86.0,104.0,68.0,9.0,103.0,38.0,63.0,68.0,97.0,105.0,18.0,90.0,99.0,20.0,62.0,82.0,104.0,34.0,92.0,7.0,62.0,7.0,67.0,77.0,70.0,83.0,5.0,31.0,97.0,106.0,5.0,82.0,25.0,105.0,97.0,104.0,80.0,106.0,95.0,92.0,84.0,44.0,70.0,105.0,90.0,5.0,22.0,41.0,79.0,87.0,26.0,58.0,96.0,69.0,55.0,91.0,61.0,41.0,61.0,105.0,5.0,105.0,84.0,54.0,79.0,54.0,56.0,95.0,13.0,10.0,62.0,8.0,20.0,104.0,103.0,55.0,62.0,87.0,32.0,64.0,87.0,59.0,84.0,67.0,2.0,88.0,44.0,11.0,9.0,60.0,79.0,96.0,84.0,90.0,55.0,91.0,93.0,40.0,97.0,80.0,80.0,106.0,41.0,105.0,68.0,90.0,36.0,56.0,105.0,79.0,53.0,45.0,10.0,44.0,93.0,62.0,84.0,104.0,105.0,61.0,96.0,54.0,99.0,97.0,94.0,70.0,60.0,96.0,57.0,67.0,100.0,3.0,55.0,43.0,39.0,41.0,71.0,15.0,97.0,42.0,9.0,58.0,99.0,73.0,105.0,61.0,12.0,103.0,70.0,90.0,104.0,74.0,89.0,59.0,29.0,94.0,67.0,40.0,94.0,105.0,99.0,78.0,87.0,88.0,89.0,31.0,80.0,104.0,12.0,92.0,40.0,29.0,20.0,63.0,92.0,105.0,69.0,73.0,104.0,93.0,85.0,53.0,21.0,39.0,62.0,69.0,9.0,1.0,11.0,98.0,2.0,27.0,27.0,105.0,77.0,94.0,21.0,62.0,62.0,59.0,77.0,89.0,42.0,39.0,73.0,105.0,23.0,78.0,78.0,55.0,89.0,77.0,4.0,4.0,6.0,82.0,90.0,42.0,99.0,93.0,6.0,77.0,4.0,40.0,79.0,93.0,92.0,93.0,64.0,98.0,99.0,105.0,83.0,61.0,0.0,76.0,96.0,63.0,89.0,10.0,92.0,97.0,16.0,92.0,85.0,76.0,59.0,105.0,57.0,84.0,95.0,54.0,63.0,78.0,86.0,89.0,105.0,104.0,53.0,95.0,104.0,72.0,105.0,20.0,105.0,57.0,105.0,8.0,68.0,106.0,81.0,79.0,42.0,48.0,92.0,103.0,88.0,90.0,39.0,41.0,94.0,74.0,95.0,89.0,61.0,26.0,16.0,96.0,95.0,99.0,91.0,33.0,82.0,64.0,59.0,10.0,103.0,105.0,11.0,99.0,104.0,1.0,41.0,55.0,103.0,89.0,55.0,13.0,81.0,104.0,62.0,84.0,95.0,36.0,31.0,91.0,105.0,10.0,83.0,89.0,22.0,34.0,46.0,94.0,106.0,40.0,78.0,85.0,28.0,78.0,38.0,11.0,92.0,14.0,58.0,93.0,83.0,33.0,98.0,58.0,92.0,32.0,68.0,58.0,57.0,100.0,59.0,60.0,30.0,105.0,64.0,78.0,84.0,74.0,74.0,84.0,90.0,10.0,87.0,97.0,105.0,36.0,88.0,27.0,99.0,103.0,56.0,104.0,81.0,52.0,89.0,41.0,90.0,11.0,104.0,23.0,38.0,97.0,14.0,68.0,60.0,93.0,40.0,78.0,76.0,92.0,27.0,76.0,105.0,9.0,105.0,56.0,9.0,12.0,64.0,80.0,63.0,94.0,103.0,80.0,35.0,34.0,36.0,105.0,105.0,106.0,105.0,96.0,104.0,16.0,91.0,6.0,104.0,105.0,105.0,57.0,104.0,96.0,80.0,90.0,105.0,105.0,104.0,103.0,37.0,105.0,105.0,58.0,104.0,59.0,98.0,38.0,34.0,46.0,93.0,105.0,76.0,16.0,105.0,105.0,82.0,42.0,77.0,56.0,89.0,103.0,85.0,25.0,44.0,105.0,10.0,104.0,104.0,33.0,4.0,53.0,8.0,92.0,104.0,91.0,58.0,9.0,4.0,61.0,14.0,21.0,106.0,20.0,55.0,39.0,84.0,105.0,104.0,68.0,104.0,103.0,105.0,95.0,63.0,59.0,90.0,39.0,105.0,58.0,96.0,104.0,62.0,89.0,58.0,56.0,100.0,96.0,1.0,5.0,105.0,101.0,8.0,89.0,98.0,13.0,105.0,104.0,65.0,2.0,39.0,104.0,9.0,39.0,105.0,34.0,89.0,39.0,86.0,60.0,2.0,55.0,29.0,87.0,77.0,51.0,62.0,29.0,66.0,14.0,54.0,98.0,105.0,56.0,76.0,7.0,84.0,16.0,55.0,104.0,81.0,65.0,89.0,96.0,81.0,82.0,35.0,95.0,95.0,96.0,100.0,43.0,104.0,83.0,88.0,91.0,88.0,62.0,27.0,48.0,7.0,25.0,91.0,6.0,63.0,63.0,104.0,92.0,95.0,73.0,100.0,58.0,85.0,57.0,23.0,99.0,85.0,25.0,67.0,39.0,66.0,96.0,54.0,101.0,58.0,30.0,12.0,70.0,9.0,45.0,105.0,81.0,55.0,65.0,106.0,100.0,81.0,83.0,105.0,105.0,54.0,76.0,95.0,79.0,45.0,82.0,57.0,9.0,104.0,17.0,59.0,59.0,104.0,82.0,75.0,103.0,10.0,13.0,95.0,104.0,93.0,5.0,81.0,59.0,90.0,105.0,68.0,59.0,86.0,82.0,97.0,12.0,77.0,75.0,52.0,96.0,22.0,10.0,57.0,82.0,104.0,89.0,60.0,55.0,71.0,94.0,93.0,105.0,87.0,32.0,89.0,87.0,104.0,92.0,92.0,94.0,45.0,98.0,43.0,104.0,4.0,99.0,97.0,2.0,40.0,62.0,12.0,92.0,76.0,58.0,27.0,105.0,32.0,34.0,27.0,15.0,27.0,89.0,5.0,65.0,55.0,81.0,72.0,38.0,90.0,95.0,64.0,61.0,9.0,64.0,92.0,104.0,96.0,105.0,54.0,21.0,60.0,60.0,95.0,82.0,60.0,46.0,63.0,11.0,58.0,89.0,92.0,83.0,61.0,84.0,92.0,62.0,61.0,79.0,3.0,93.0,104.0,9.0,26.0,82.0,105.0,105.0,105.0,92.0,84.0,62.0,100.0,22.0,92.0,60.0,104.0,103.0,95.0,9.0,83.0,104.0,57.0,73.0,105.0,55.0,12.0,59.0,86.0,79.0,86.0,35.0,104.0,105.0,61.0,89.0,105.0,99.0,92.0,98.0,90.0,4.0,19.0,35.0,64.0,106.0,85.0,34.0,98.0,38.0,33.0,63.0,106.0,47.0,91.0,104.0,105.0,89.0,105.0,59.0,98.0,89.0,16.0,80.0,104.0,105.0,83.0,5.0,11.0,75.0,94.0,104.0,96.0,57.0,105.0,9.0,105.0,36.0,55.0,73.0,103.0,97.0,85.0,60.0,104.0,79.0,61.0,77.0,76.0,3.0,79.0,37.0,103.0,60.0,44.0,56.0,97.0,95.0,71.0,87.0,61.0,72.0,100.0,48.0,105.0,93.0,41.0,45.0,8.0,33.0,57.0,71.0,82.0,26.0,7.0,66.0,105.0,48.0,74.0,11.0,70.0,90.0,63.0,83.0,95.0,97.0,96.0,100.0,35.0,98.0,98.0,74.0,12.0,94.0,97.0,100.0,7.0,64.0,105.0,105.0,61.0,3.0,11.0,105.0,70.0,105.0,92.0,92.0,105.0,63.0,44.0,97.0,39.0,104.0,29.0,64.0,71.0,83.0,56.0,95.0,104.0,19.0,31.0,42.0,97.0,72.0,105.0,80.0,98.0,85.0,103.0,15.0,104.0,85.0,9.0,75.0,105.0,105.0,92.0,106.0,77.0,105.0,76.0,94.0,61.0,4.0,53.0,83.0,93.0,95.0,60.0,55.0,78.0,81.0,8.0,93.0,56.0,105.0,56.0,104.0,69.0,104.0,51.0,66.0,79.0,88.0,98.0,59.0,98.0,87.0,100.0,54.0,72.0,83.0,95.0,99.0,91.0,20.0,105.0,105.0,2.0,104.0,26.0,79.0,92.0,54.0,106.0,75.0,85.0,95.0,98.0,106.0,105.0,99.0,106.0,2.0,69.0,61.0,37.0,104.0,27.0,3.0,57.0,64.0,86.0,62.0,95.0,94.0,59.0,73.0,104.0,30.0,61.0,26.0,91.0,18.0,105.0,55.0,105.0,105.0,37.0,61.0,56.0,55.0,57.0,46.0,81.0,8.0,63.0,96.0,78.0,54.0,64.0,95.0,57.0,105.0,56.0,92.0,104.0,44.0,83.0,105.0,96.0,9.0,104.0,2.0,92.0,69.0,69.0,89.0,44.0,52.0,76.0,93.0,58.0,99.0,65.0,96.0,76.0,96.0,23.0,4.0,105.0,63.0,60.0,13.0,104.0,96.0,98.0,82.0,105.0,100.0,103.0,92.0,76.0,80.0,96.0,105.0,92.0,18.0,94.0,12.0,58.0,98.0,67.0,44.0,91.0,73.0,95.0,77.0,96.0,105.0,104.0,106.0,86.0,12.0,91.0,90.0,97.0,104.0,100.0,89.0,61.0,55.0,98.0,3.0,93.0,93.0,62.0,97.0,100.0,57.0,105.0,97.0,65.0,34.0,104.0,65.0,24.0,105.0,105.0,93.0,56.0,62.0,75.0,105.0,53.0,2.0,76.0,78.0,81.0,65.0,67.0,2.0,55.0,5.0,104.0,105.0,60.0,23.0,64.0,70.0,31.0,73.0,63.0,59.0,36.0,103.0,77.0,103.0,64.0,100.0,21.0,105.0,59.0,73.0,104.0,31.0,105.0,105.0,81.0,105.0,11.0,104.0,78.0,55.0,98.0,57.0,105.0,76.0,56.0,9.0,94.0,10.0,106.0,61.0,68.0,45.0,105.0,55.0,12.0,59.0,105.0,76.0,92.0,94.0,78.0,105.0,95.0,31.0,25.0,44.0,10.0,92.0,104.0,63.0,15.0,9.0,99.0,29.0,65.0,105.0,54.0,9.0,98.0,4.0,41.0,84.0,88.0,105.0,11.0,56.0,54.0,103.0,73.0,68.0,90.0,65.0,86.0,11.0,105.0,92.0,90.0,90.0,63.0,13.0,83.0,59.0,89.0,37.0,104.0,92.0,30.0,81.0,84.0,74.0,55.0,72.0,56.0,99.0,87.0,11.0,80.0,4.0,31.0,4.0,5.0,96.0,86.0,11.0,44.0,105.0,9.0,60.0,105.0,104.0,68.0,96.0,79.0,54.0,44.0,89.0,106.0,8.0,62.0,31.0,3.0,63.0,61.0,103.0,31.0,10.0,100.0,105.0,88.0,55.0,62.0,93.0,40.0,98.0,43.0,4.0,104.0,86.0,73.0,92.0,78.0,56.0,82.0,95.0,57.0,7.0,96.0,51.0,90.0,87.0,21.0,84.0,54.0,105.0,56.0,73.0,94.0,105.0,25.0,87.0,11.0,84.0,4.0,63.0,90.0,47.0,54.0,77.0,104.0,13.0,35.0,95.0,105.0,96.0,76.0,83.0,60.0,105.0,89.0,80.0,98.0,68.0,88.0,90.0,91.0,92.0,6.0,99.0,106.0,105.0,86.0,5.0,104.0,83.0,54.0,68.0,2.0,54.0,88.0,104.0,97.0,84.0,105.0,54.0,87.0,87.0,105.0,106.0,103.0,44.0,8.0,69.0,64.0,80.0,98.0,45.0,8.0,62.0,85.0,104.0,103.0,104.0,86.0,68.0,12.0,60.0,33.0,104.0,56.0,48.0,84.0,3.0,16.0,103.0,69.0,89.0,105.0,72.0,95.0,103.0,96.0,55.0,67.0,3.0,75.0,40.0,17.0,40.0,59.0,18.0,61.0,30.0,55.0,105.0,103.0,92.0,89.0,70.0,75.0,94.0,5.0,88.0,32.0,54.0,98.0,90.0,53.0,104.0,88.0,103.0,86.0,105.0,73.0,99.0,92.0,79.0,6.0,95.0,76.0,60.0,56.0,68.0,96.0,78.0,77.0,20.0,80.0,97.0,104.0,34.0,37.0,80.0,106.0,36.0,57.0,60.0,34.0,82.0,99.0,105.0,60.0,86.0,60.0,41.0,6.0,78.0,73.0,85.0,105.0,60.0,92.0,36.0,83.0,94.0,54.0,54.0,20.0,38.0,98.0,2.0,65.0,85.0,84.0,96.0,70.0,37.0,92.0,71.0,16.0,8.0,90.0,105.0,100.0,80.0,106.0,64.0,54.0,79.0,87.0,16.0,75.0,78.0,23.0,60.0,51.0,100.0,104.0,56.0,99.0,81.0,83.0,93.0,5.0,65.0,94.0,105.0,64.0,54.0,59.0,105.0,99.0,40.0,84.0,56.0,99.0,96.0,36.0,103.0,14.0,95.0,20.0,98.0,36.0,55.0,73.0,79.0,81.0,45.0,53.0,18.0,95.0,78.0,4.0,68.0,4.0,98.0,38.0,60.0,104.0,83.0,104.0,48.0,99.0,104.0,56.0,106.0,87.0,2.0,101.0,83.0,105.0,98.0,64.0,76.0,10.0,60.0,56.0,104.0,60.0,105.0,104.0,53.0,58.0,80.0,60.0,7.0,104.0,53.0,89.0,26.0,94.0,41.0,5.0,7.0,103.0,64.0,3.0,7.0,23.0,90.0,6.0,63.0,105.0,86.0,59.0,15.0,82.0,12.0,92.0,105.0,91.0,105.0,105.0,105.0,105.0,105.0,53.0,40.0,92.0,105.0,43.0,104.0,104.0,80.0,93.0,61.0,106.0,104.0,105.0,55.0,78.0,54.0,99.0,54.0,103.0,36.0,98.0,97.0,24.0,56.0,25.0,104.0,43.0,54.0,93.0,105.0,2.0,84.0,18.0,103.0,88.0,52.0,23.0,22.0,32.0,67.0,6.0,3.0,82.0,81.0,23.0,27.0,74.0,78.0,56.0,3.0,97.0,35.0,91.0,104.0,105.0,104.0,1.0,54.0,105.0,0.0,79.0,105.0,52.0,72.0,63.0,105.0,73.0,78.0,78.0,59.0,53.0,83.0,103.0,82.0,104.0,92.0,95.0,30.0,90.0,58.0,105.0,1.0,52.0,60.0,23.0,105.0,100.0,1.0,60.0,100.0,37.0,5.0,21.0,105.0,101.0,58.0,77.0,77.0,104.0,95.0,36.0,9.0,104.0,85.0,92.0,106.0,99.0,99.0,53.0,104.0,99.0,59.0,73.0,105.0,30.0,78.0,34.0,7.0,58.0,70.0,53.0,57.0,105.0,37.0,56.0,59.0,97.0,56.0,106.0,3.0,8.0,79.0,105.0,54.0,105.0,84.0,56.0,88.0,89.0,55.0,78.0,23.0,106.0,54.0,81.0,105.0,105.0,54.0,52.0,7.0,103.0,56.0,100.0,93.0,37.0,81.0,103.0,22.0,4.0,1.0,97.0,62.0,60.0,7.0,78.0,73.0,78.0,22.0,88.0,72.0,14.0,83.0,92.0,6.0,54.0,48.0,9.0,54.0,55.0,103.0,106.0,79.0,91.0,35.0,99.0,77.0,52.0,80.0,6.0,93.0,54.0,70.0,84.0,56.0,104.0,81.0,75.0,56.0,59.0,88.0,99.0,95.0,10.0,81.0,105.0,85.0,90.0,97.0,104.0,59.0,6.0,41.0,93.0,96.0,105.0,26.0,28.0,72.0,71.0,54.0,105.0,90.0,70.0,35.0,19.0,4.0,57.0,55.0,90.0,39.0,106.0,9.0,64.0,60.0,85.0,105.0,88.0,100.0,86.0,73.0,103.0,57.0,18.0,79.0,96.0,106.0,78.0,5.0,5.0,99.0,63.0,105.0,75.0,59.0,84.0,79.0,53.0,41.0,100.0,59.0,4.0,54.0,52.0,31.0,22.0,21.0,73.0,67.0,45.0,9.0,58.0,77.0,35.0,8.0,90.0,72.0,30.0,99.0,91.0,64.0,79.0,42.0,3.0,68.0,84.0,31.0,20.0,103.0,105.0,31.0,15.0,92.0,91.0,29.0,92.0,92.0,94.0,70.0,42.0,53.0,82.0,13.0,43.0,55.0,54.0,105.0,83.0,5.0,25.0,89.0,15.0,105.0,9.0,100.0,101.0,104.0,87.0,86.0,97.0,51.0,104.0,94.0,95.0,20.0,105.0,66.0,39.0,2.0,36.0,103.0,90.0,89.0,89.0,103.0,68.0,10.0,63.0,97.0,55.0,90.0,82.0,48.0,98.0,15.0,103.0,44.0,105.0,27.0,11.0,79.0,71.0,81.0,4.0,55.0,40.0,97.0,34.0,79.0,89.0,4.0,75.0,94.0,105.0,104.0,56.0,13.0,105.0,38.0,105.0,92.0,69.0,11.0,105.0,75.0,100.0,28.0,46.0,79.0,31.0,86.0,19.0,74.0,60.0,7.0,88.0,100.0,59.0,72.0,92.0,87.0,90.0,27.0,2.0,44.0,103.0,103.0,92.0,83.0,65.0,55.0,94.0,82.0,105.0,104.0,14.0,86.0,36.0,71.0,23.0,62.0,96.0,104.0,52.0,62.0,105.0,92.0,84.0,4.0,105.0,104.0,71.0,58.0,74.0,56.0,82.0,18.0,94.0,62.0,94.0,103.0,82.0],\"xaxis\":\"x2\",\"yaxis\":\"y2\",\"type\":\"violin\"}],                        {\"template\":{\"data\":{\"bar\":[{\"error_x\":{\"color\":\"#2a3f5f\"},\"error_y\":{\"color\":\"#2a3f5f\"},\"marker\":{\"line\":{\"color\":\"#E5ECF6\",\"width\":0.5},\"pattern\":{\"fillmode\":\"overlay\",\"size\":10,\"solidity\":0.2}},\"type\":\"bar\"}],\"barpolar\":[{\"marker\":{\"line\":{\"color\":\"#E5ECF6\",\"width\":0.5},\"pattern\":{\"fillmode\":\"overlay\",\"size\":10,\"solidity\":0.2}},\"type\":\"barpolar\"}],\"carpet\":[{\"aaxis\":{\"endlinecolor\":\"#2a3f5f\",\"gridcolor\":\"white\",\"linecolor\":\"white\",\"minorgridcolor\":\"white\",\"startlinecolor\":\"#2a3f5f\"},\"baxis\":{\"endlinecolor\":\"#2a3f5f\",\"gridcolor\":\"white\",\"linecolor\":\"white\",\"minorgridcolor\":\"white\",\"startlinecolor\":\"#2a3f5f\"},\"type\":\"carpet\"}],\"choropleth\":[{\"colorbar\":{\"outlinewidth\":0,\"ticks\":\"\"},\"type\":\"choropleth\"}],\"contour\":[{\"colorbar\":{\"outlinewidth\":0,\"ticks\":\"\"},\"colorscale\":[[0.0,\"#0d0887\"],[0.1111111111111111,\"#46039f\"],[0.2222222222222222,\"#7201a8\"],[0.3333333333333333,\"#9c179e\"],[0.4444444444444444,\"#bd3786\"],[0.5555555555555556,\"#d8576b\"],[0.6666666666666666,\"#ed7953\"],[0.7777777777777778,\"#fb9f3a\"],[0.8888888888888888,\"#fdca26\"],[1.0,\"#f0f921\"]],\"type\":\"contour\"}],\"contourcarpet\":[{\"colorbar\":{\"outlinewidth\":0,\"ticks\":\"\"},\"type\":\"contourcarpet\"}],\"heatmap\":[{\"colorbar\":{\"outlinewidth\":0,\"ticks\":\"\"},\"colorscale\":[[0.0,\"#0d0887\"],[0.1111111111111111,\"#46039f\"],[0.2222222222222222,\"#7201a8\"],[0.3333333333333333,\"#9c179e\"],[0.4444444444444444,\"#bd3786\"],[0.5555555555555556,\"#d8576b\"],[0.6666666666666666,\"#ed7953\"],[0.7777777777777778,\"#fb9f3a\"],[0.8888888888888888,\"#fdca26\"],[1.0,\"#f0f921\"]],\"type\":\"heatmap\"}],\"heatmapgl\":[{\"colorbar\":{\"outlinewidth\":0,\"ticks\":\"\"},\"colorscale\":[[0.0,\"#0d0887\"],[0.1111111111111111,\"#46039f\"],[0.2222222222222222,\"#7201a8\"],[0.3333333333333333,\"#9c179e\"],[0.4444444444444444,\"#bd3786\"],[0.5555555555555556,\"#d8576b\"],[0.6666666666666666,\"#ed7953\"],[0.7777777777777778,\"#fb9f3a\"],[0.8888888888888888,\"#fdca26\"],[1.0,\"#f0f921\"]],\"type\":\"heatmapgl\"}],\"histogram\":[{\"marker\":{\"pattern\":{\"fillmode\":\"overlay\",\"size\":10,\"solidity\":0.2}},\"type\":\"histogram\"}],\"histogram2d\":[{\"colorbar\":{\"outlinewidth\":0,\"ticks\":\"\"},\"colorscale\":[[0.0,\"#0d0887\"],[0.1111111111111111,\"#46039f\"],[0.2222222222222222,\"#7201a8\"],[0.3333333333333333,\"#9c179e\"],[0.4444444444444444,\"#bd3786\"],[0.5555555555555556,\"#d8576b\"],[0.6666666666666666,\"#ed7953\"],[0.7777777777777778,\"#fb9f3a\"],[0.8888888888888888,\"#fdca26\"],[1.0,\"#f0f921\"]],\"type\":\"histogram2d\"}],\"histogram2dcontour\":[{\"colorbar\":{\"outlinewidth\":0,\"ticks\":\"\"},\"colorscale\":[[0.0,\"#0d0887\"],[0.1111111111111111,\"#46039f\"],[0.2222222222222222,\"#7201a8\"],[0.3333333333333333,\"#9c179e\"],[0.4444444444444444,\"#bd3786\"],[0.5555555555555556,\"#d8576b\"],[0.6666666666666666,\"#ed7953\"],[0.7777777777777778,\"#fb9f3a\"],[0.8888888888888888,\"#fdca26\"],[1.0,\"#f0f921\"]],\"type\":\"histogram2dcontour\"}],\"mesh3d\":[{\"colorbar\":{\"outlinewidth\":0,\"ticks\":\"\"},\"type\":\"mesh3d\"}],\"parcoords\":[{\"line\":{\"colorbar\":{\"outlinewidth\":0,\"ticks\":\"\"}},\"type\":\"parcoords\"}],\"pie\":[{\"automargin\":true,\"type\":\"pie\"}],\"scatter\":[{\"marker\":{\"colorbar\":{\"outlinewidth\":0,\"ticks\":\"\"}},\"type\":\"scatter\"}],\"scatter3d\":[{\"line\":{\"colorbar\":{\"outlinewidth\":0,\"ticks\":\"\"}},\"marker\":{\"colorbar\":{\"outlinewidth\":0,\"ticks\":\"\"}},\"type\":\"scatter3d\"}],\"scattercarpet\":[{\"marker\":{\"colorbar\":{\"outlinewidth\":0,\"ticks\":\"\"}},\"type\":\"scattercarpet\"}],\"scattergeo\":[{\"marker\":{\"colorbar\":{\"outlinewidth\":0,\"ticks\":\"\"}},\"type\":\"scattergeo\"}],\"scattergl\":[{\"marker\":{\"colorbar\":{\"outlinewidth\":0,\"ticks\":\"\"}},\"type\":\"scattergl\"}],\"scattermapbox\":[{\"marker\":{\"colorbar\":{\"outlinewidth\":0,\"ticks\":\"\"}},\"type\":\"scattermapbox\"}],\"scatterpolar\":[{\"marker\":{\"colorbar\":{\"outlinewidth\":0,\"ticks\":\"\"}},\"type\":\"scatterpolar\"}],\"scatterpolargl\":[{\"marker\":{\"colorbar\":{\"outlinewidth\":0,\"ticks\":\"\"}},\"type\":\"scatterpolargl\"}],\"scatterternary\":[{\"marker\":{\"colorbar\":{\"outlinewidth\":0,\"ticks\":\"\"}},\"type\":\"scatterternary\"}],\"surface\":[{\"colorbar\":{\"outlinewidth\":0,\"ticks\":\"\"},\"colorscale\":[[0.0,\"#0d0887\"],[0.1111111111111111,\"#46039f\"],[0.2222222222222222,\"#7201a8\"],[0.3333333333333333,\"#9c179e\"],[0.4444444444444444,\"#bd3786\"],[0.5555555555555556,\"#d8576b\"],[0.6666666666666666,\"#ed7953\"],[0.7777777777777778,\"#fb9f3a\"],[0.8888888888888888,\"#fdca26\"],[1.0,\"#f0f921\"]],\"type\":\"surface\"}],\"table\":[{\"cells\":{\"fill\":{\"color\":\"#EBF0F8\"},\"line\":{\"color\":\"white\"}},\"header\":{\"fill\":{\"color\":\"#C8D4E3\"},\"line\":{\"color\":\"white\"}},\"type\":\"table\"}]},\"layout\":{\"annotationdefaults\":{\"arrowcolor\":\"#2a3f5f\",\"arrowhead\":0,\"arrowwidth\":1},\"autotypenumbers\":\"strict\",\"coloraxis\":{\"colorbar\":{\"outlinewidth\":0,\"ticks\":\"\"}},\"colorscale\":{\"diverging\":[[0,\"#8e0152\"],[0.1,\"#c51b7d\"],[0.2,\"#de77ae\"],[0.3,\"#f1b6da\"],[0.4,\"#fde0ef\"],[0.5,\"#f7f7f7\"],[0.6,\"#e6f5d0\"],[0.7,\"#b8e186\"],[0.8,\"#7fbc41\"],[0.9,\"#4d9221\"],[1,\"#276419\"]],\"sequential\":[[0.0,\"#0d0887\"],[0.1111111111111111,\"#46039f\"],[0.2222222222222222,\"#7201a8\"],[0.3333333333333333,\"#9c179e\"],[0.4444444444444444,\"#bd3786\"],[0.5555555555555556,\"#d8576b\"],[0.6666666666666666,\"#ed7953\"],[0.7777777777777778,\"#fb9f3a\"],[0.8888888888888888,\"#fdca26\"],[1.0,\"#f0f921\"]],\"sequentialminus\":[[0.0,\"#0d0887\"],[0.1111111111111111,\"#46039f\"],[0.2222222222222222,\"#7201a8\"],[0.3333333333333333,\"#9c179e\"],[0.4444444444444444,\"#bd3786\"],[0.5555555555555556,\"#d8576b\"],[0.6666666666666666,\"#ed7953\"],[0.7777777777777778,\"#fb9f3a\"],[0.8888888888888888,\"#fdca26\"],[1.0,\"#f0f921\"]]},\"colorway\":[\"#636efa\",\"#EF553B\",\"#00cc96\",\"#ab63fa\",\"#FFA15A\",\"#19d3f3\",\"#FF6692\",\"#B6E880\",\"#FF97FF\",\"#FECB52\"],\"font\":{\"color\":\"#2a3f5f\"},\"geo\":{\"bgcolor\":\"white\",\"lakecolor\":\"white\",\"landcolor\":\"#E5ECF6\",\"showlakes\":true,\"showland\":true,\"subunitcolor\":\"white\"},\"hoverlabel\":{\"align\":\"left\"},\"hovermode\":\"closest\",\"mapbox\":{\"style\":\"light\"},\"paper_bgcolor\":\"white\",\"plot_bgcolor\":\"#E5ECF6\",\"polar\":{\"angularaxis\":{\"gridcolor\":\"white\",\"linecolor\":\"white\",\"ticks\":\"\"},\"bgcolor\":\"#E5ECF6\",\"radialaxis\":{\"gridcolor\":\"white\",\"linecolor\":\"white\",\"ticks\":\"\"}},\"scene\":{\"xaxis\":{\"backgroundcolor\":\"#E5ECF6\",\"gridcolor\":\"white\",\"gridwidth\":2,\"linecolor\":\"white\",\"showbackground\":true,\"ticks\":\"\",\"zerolinecolor\":\"white\"},\"yaxis\":{\"backgroundcolor\":\"#E5ECF6\",\"gridcolor\":\"white\",\"gridwidth\":2,\"linecolor\":\"white\",\"showbackground\":true,\"ticks\":\"\",\"zerolinecolor\":\"white\"},\"zaxis\":{\"backgroundcolor\":\"#E5ECF6\",\"gridcolor\":\"white\",\"gridwidth\":2,\"linecolor\":\"white\",\"showbackground\":true,\"ticks\":\"\",\"zerolinecolor\":\"white\"}},\"shapedefaults\":{\"line\":{\"color\":\"#2a3f5f\"}},\"ternary\":{\"aaxis\":{\"gridcolor\":\"white\",\"linecolor\":\"white\",\"ticks\":\"\"},\"baxis\":{\"gridcolor\":\"white\",\"linecolor\":\"white\",\"ticks\":\"\"},\"bgcolor\":\"#E5ECF6\",\"caxis\":{\"gridcolor\":\"white\",\"linecolor\":\"white\",\"ticks\":\"\"}},\"title\":{\"x\":0.05},\"xaxis\":{\"automargin\":true,\"gridcolor\":\"white\",\"linecolor\":\"white\",\"ticks\":\"\",\"title\":{\"standoff\":15},\"zerolinecolor\":\"white\",\"zerolinewidth\":2},\"yaxis\":{\"automargin\":true,\"gridcolor\":\"white\",\"linecolor\":\"white\",\"ticks\":\"\",\"title\":{\"standoff\":15},\"zerolinecolor\":\"white\",\"zerolinewidth\":2}}},\"xaxis\":{\"anchor\":\"y\",\"domain\":[0.0,1.0],\"title\":{\"text\":\"x\"}},\"yaxis\":{\"anchor\":\"x\",\"domain\":[0.0,0.8316],\"title\":{\"text\":\"count\"}},\"xaxis2\":{\"anchor\":\"y2\",\"domain\":[0.0,1.0],\"matches\":\"x\",\"showticklabels\":false,\"showgrid\":true},\"yaxis2\":{\"anchor\":\"x2\",\"domain\":[0.8416,1.0],\"matches\":\"y2\",\"showticklabels\":false,\"showline\":false,\"ticks\":\"\",\"showgrid\":false},\"legend\":{\"tracegroupgap\":0},\"title\":{\"text\":\"Time from first purchase\"},\"barmode\":\"relative\"},                        {\"responsive\": true}                    ).then(function(){\n",
              "                            \n",
              "var gd = document.getElementById('34b5d498-b210-4f21-8861-92f591c86a64');\n",
              "var x = new MutationObserver(function (mutations, observer) {{\n",
              "        var display = window.getComputedStyle(gd).display;\n",
              "        if (!display || display === 'none') {{\n",
              "            console.log([gd, 'removed!']);\n",
              "            Plotly.purge(gd);\n",
              "            observer.disconnect();\n",
              "        }}\n",
              "}});\n",
              "\n",
              "// Listen for the removal of the full notebook cells\n",
              "var notebookContainer = gd.closest('#notebook-container');\n",
              "if (notebookContainer) {{\n",
              "    x.observe(notebookContainer, {childList: true});\n",
              "}}\n",
              "\n",
              "// Listen for the clearing of the current output cell\n",
              "var outputEl = gd.closest('.output');\n",
              "if (outputEl) {{\n",
              "    x.observe(outputEl, {childList: true});\n",
              "}}\n",
              "\n",
              "                        })                };                            </script>        </div>\n",
              "</body>\n",
              "</html>"
            ]
          },
          "metadata": {}
        }
      ],
      "source": [
        "px.histogram(rfm, x=rfm['T'],title='Time from first purchase',\n",
        "                   labels={'T':'Weeks'}, \n",
        "                   opacity=0.8, marginal='violin',\n",
        "                   color_discrete_sequence=['indianred'])"
      ]
    },
    {
      "cell_type": "markdown",
      "id": "f5c394b2",
      "metadata": {
        "papermill": {
          "duration": 0.128972,
          "end_time": "2021-11-09T00:08:25.331226",
          "exception": false,
          "start_time": "2021-11-09T00:08:25.202254",
          "status": "completed"
        },
        "tags": [],
        "id": "f5c394b2"
      },
      "source": [
        "In the case of the customer's lifetime in his last purchase, we can observe a distribution more similar to a Gaussian distribution, with 40 weeks as the mode. We can also observe a greater concentration in the left area, corroborating that most of them are sporadic purchases. Seeing this, let's move on to our first model.\n",
        "\n",
        "## BetaGeoFitter\n",
        "\n",
        "Also known as BG / NBD, this model is intended to estimate transactions in a future period of time for each user, in addition to the probability that this is \"alive\". This is an alternative to the well-known Pareto / NBD model which uses the Bayesian probability in a hierarchical way to make its estimates. Its main difference with Pareto is that BG assumes that customer abandonment occurs immediately after the purchase of the product, while its alternate assumes that abandonment can occur at any time. Without delving further into theory, let's move on to its application in our data set.\n",
        "\n",
        "http://brucehardie.com/papers/018/fader_et_al_mksc_05.pdf"
      ]
    },
    {
      "cell_type": "code",
      "execution_count": 21,
      "id": "2fcc6a96",
      "metadata": {
        "execution": {
          "iopub.execute_input": "2021-11-09T00:08:25.579978Z",
          "iopub.status.busy": "2021-11-09T00:08:25.578905Z",
          "iopub.status.idle": "2021-11-09T00:08:28.584254Z",
          "shell.execute_reply": "2021-11-09T00:08:28.585234Z",
          "shell.execute_reply.started": "2021-11-09T00:05:15.070018Z"
        },
        "papermill": {
          "duration": 3.132046,
          "end_time": "2021-11-09T00:08:28.585573",
          "exception": false,
          "start_time": "2021-11-09T00:08:25.453527",
          "status": "completed"
        },
        "tags": [],
        "colab": {
          "base_uri": "https://localhost:8080/"
        },
        "id": "2fcc6a96",
        "outputId": "8257ff48-46f1-4529-f67a-13820877d4e2"
      },
      "outputs": [
        {
          "output_type": "stream",
          "name": "stdout",
          "text": [
            "Optimization terminated successfully.\n",
            "         Current function value: -5.781217\n",
            "         Iterations: 26\n",
            "         Function evaluations: 27\n",
            "         Gradient evaluations: 27\n",
            "<lifetimes.BetaGeoFitter: fitted with 5878 subjects, a: 0.06, alpha: 10.51, b: 1.18, r: 0.72>\n"
          ]
        }
      ],
      "source": [
        "from lifetimes import BetaGeoFitter\n",
        "\n",
        "# penalizer_coef es un parámetro que penaliza al likelihood, usualmente se utilizan valores como 0.001 o \n",
        "# 0.01 con muestras pequeñas para evitar que los parámetros se vuelvan demasiado grandes\n",
        "\n",
        "bgf = BetaGeoFitter(penalizer_coef=0.001)\n",
        "bgf.fit(rfm['frequency'], rfm['recency'], rfm['T'], verbose=True)\n",
        "print(bgf)"
      ]
    },
    {
      "cell_type": "code",
      "execution_count": 22,
      "id": "332db938",
      "metadata": {
        "execution": {
          "iopub.execute_input": "2021-11-09T00:08:28.897728Z",
          "iopub.status.busy": "2021-11-09T00:08:28.896978Z",
          "iopub.status.idle": "2021-11-09T00:08:28.909497Z",
          "shell.execute_reply": "2021-11-09T00:08:28.908869Z",
          "shell.execute_reply.started": "2021-11-09T00:05:17.942824Z"
        },
        "papermill": {
          "duration": 0.141578,
          "end_time": "2021-11-09T00:08:28.909648",
          "exception": false,
          "start_time": "2021-11-09T00:08:28.768070",
          "status": "completed"
        },
        "tags": [],
        "colab": {
          "base_uri": "https://localhost:8080/",
          "height": 175
        },
        "id": "332db938",
        "outputId": "03b57fbe-b129-408f-eddf-da8579329439"
      },
      "outputs": [
        {
          "output_type": "execute_result",
          "data": {
            "text/plain": [
              "            coef  se(coef)  lower 95% bound  upper 95% bound\n",
              "r       0.715728  0.017564         0.681303         0.750153\n",
              "alpha  10.505332  0.324168         9.869963        11.140701\n",
              "a       0.064158  0.007186         0.050072         0.078243\n",
              "b       1.177305  0.153793         0.875871         1.478738"
            ],
            "text/html": [
              "\n",
              "  <div id=\"df-22ca1161-a5d3-4d11-bba7-0b651b5a14a1\">\n",
              "    <div class=\"colab-df-container\">\n",
              "      <div>\n",
              "<style scoped>\n",
              "    .dataframe tbody tr th:only-of-type {\n",
              "        vertical-align: middle;\n",
              "    }\n",
              "\n",
              "    .dataframe tbody tr th {\n",
              "        vertical-align: top;\n",
              "    }\n",
              "\n",
              "    .dataframe thead th {\n",
              "        text-align: right;\n",
              "    }\n",
              "</style>\n",
              "<table border=\"1\" class=\"dataframe\">\n",
              "  <thead>\n",
              "    <tr style=\"text-align: right;\">\n",
              "      <th></th>\n",
              "      <th>coef</th>\n",
              "      <th>se(coef)</th>\n",
              "      <th>lower 95% bound</th>\n",
              "      <th>upper 95% bound</th>\n",
              "    </tr>\n",
              "  </thead>\n",
              "  <tbody>\n",
              "    <tr>\n",
              "      <th>r</th>\n",
              "      <td>0.715728</td>\n",
              "      <td>0.017564</td>\n",
              "      <td>0.681303</td>\n",
              "      <td>0.750153</td>\n",
              "    </tr>\n",
              "    <tr>\n",
              "      <th>alpha</th>\n",
              "      <td>10.505332</td>\n",
              "      <td>0.324168</td>\n",
              "      <td>9.869963</td>\n",
              "      <td>11.140701</td>\n",
              "    </tr>\n",
              "    <tr>\n",
              "      <th>a</th>\n",
              "      <td>0.064158</td>\n",
              "      <td>0.007186</td>\n",
              "      <td>0.050072</td>\n",
              "      <td>0.078243</td>\n",
              "    </tr>\n",
              "    <tr>\n",
              "      <th>b</th>\n",
              "      <td>1.177305</td>\n",
              "      <td>0.153793</td>\n",
              "      <td>0.875871</td>\n",
              "      <td>1.478738</td>\n",
              "    </tr>\n",
              "  </tbody>\n",
              "</table>\n",
              "</div>\n",
              "      <button class=\"colab-df-convert\" onclick=\"convertToInteractive('df-22ca1161-a5d3-4d11-bba7-0b651b5a14a1')\"\n",
              "              title=\"Convert this dataframe to an interactive table.\"\n",
              "              style=\"display:none;\">\n",
              "        \n",
              "  <svg xmlns=\"http://www.w3.org/2000/svg\" height=\"24px\"viewBox=\"0 0 24 24\"\n",
              "       width=\"24px\">\n",
              "    <path d=\"M0 0h24v24H0V0z\" fill=\"none\"/>\n",
              "    <path d=\"M18.56 5.44l.94 2.06.94-2.06 2.06-.94-2.06-.94-.94-2.06-.94 2.06-2.06.94zm-11 1L8.5 8.5l.94-2.06 2.06-.94-2.06-.94L8.5 2.5l-.94 2.06-2.06.94zm10 10l.94 2.06.94-2.06 2.06-.94-2.06-.94-.94-2.06-.94 2.06-2.06.94z\"/><path d=\"M17.41 7.96l-1.37-1.37c-.4-.4-.92-.59-1.43-.59-.52 0-1.04.2-1.43.59L10.3 9.45l-7.72 7.72c-.78.78-.78 2.05 0 2.83L4 21.41c.39.39.9.59 1.41.59.51 0 1.02-.2 1.41-.59l7.78-7.78 2.81-2.81c.8-.78.8-2.07 0-2.86zM5.41 20L4 18.59l7.72-7.72 1.47 1.35L5.41 20z\"/>\n",
              "  </svg>\n",
              "      </button>\n",
              "      \n",
              "  <style>\n",
              "    .colab-df-container {\n",
              "      display:flex;\n",
              "      flex-wrap:wrap;\n",
              "      gap: 12px;\n",
              "    }\n",
              "\n",
              "    .colab-df-convert {\n",
              "      background-color: #E8F0FE;\n",
              "      border: none;\n",
              "      border-radius: 50%;\n",
              "      cursor: pointer;\n",
              "      display: none;\n",
              "      fill: #1967D2;\n",
              "      height: 32px;\n",
              "      padding: 0 0 0 0;\n",
              "      width: 32px;\n",
              "    }\n",
              "\n",
              "    .colab-df-convert:hover {\n",
              "      background-color: #E2EBFA;\n",
              "      box-shadow: 0px 1px 2px rgba(60, 64, 67, 0.3), 0px 1px 3px 1px rgba(60, 64, 67, 0.15);\n",
              "      fill: #174EA6;\n",
              "    }\n",
              "\n",
              "    [theme=dark] .colab-df-convert {\n",
              "      background-color: #3B4455;\n",
              "      fill: #D2E3FC;\n",
              "    }\n",
              "\n",
              "    [theme=dark] .colab-df-convert:hover {\n",
              "      background-color: #434B5C;\n",
              "      box-shadow: 0px 1px 3px 1px rgba(0, 0, 0, 0.15);\n",
              "      filter: drop-shadow(0px 1px 2px rgba(0, 0, 0, 0.3));\n",
              "      fill: #FFFFFF;\n",
              "    }\n",
              "  </style>\n",
              "\n",
              "      <script>\n",
              "        const buttonEl =\n",
              "          document.querySelector('#df-22ca1161-a5d3-4d11-bba7-0b651b5a14a1 button.colab-df-convert');\n",
              "        buttonEl.style.display =\n",
              "          google.colab.kernel.accessAllowed ? 'block' : 'none';\n",
              "\n",
              "        async function convertToInteractive(key) {\n",
              "          const element = document.querySelector('#df-22ca1161-a5d3-4d11-bba7-0b651b5a14a1');\n",
              "          const dataTable =\n",
              "            await google.colab.kernel.invokeFunction('convertToInteractive',\n",
              "                                                     [key], {});\n",
              "          if (!dataTable) return;\n",
              "\n",
              "          const docLinkHtml = 'Like what you see? Visit the ' +\n",
              "            '<a target=\"_blank\" href=https://colab.research.google.com/notebooks/data_table.ipynb>data table notebook</a>'\n",
              "            + ' to learn more about interactive tables.';\n",
              "          element.innerHTML = '';\n",
              "          dataTable['output_type'] = 'display_data';\n",
              "          await google.colab.output.renderOutput(dataTable, element);\n",
              "          const docLink = document.createElement('div');\n",
              "          docLink.innerHTML = docLinkHtml;\n",
              "          element.appendChild(docLink);\n",
              "        }\n",
              "      </script>\n",
              "    </div>\n",
              "  </div>\n",
              "  "
            ]
          },
          "metadata": {},
          "execution_count": 22
        }
      ],
      "source": [
        "bgf.summary"
      ]
    },
    {
      "cell_type": "markdown",
      "id": "97943593",
      "metadata": {
        "papermill": {
          "duration": 0.129509,
          "end_time": "2021-11-09T00:08:29.169799",
          "exception": false,
          "start_time": "2021-11-09T00:08:29.040290",
          "status": "completed"
        },
        "tags": [],
        "id": "97943593"
      },
      "source": [
        "We have already trained our model, we can make greater use of the library with the following visualizations.\n",
        "\n",
        "**Frequency recency matrix:** This matrix shows us the probability of future customer purchases in a given time, using recency and frequency as estimators.\n",
        "\n",
        "**Probability alive matrix:** Like the previous one, using recency and frequency as indicators, this matrix indicates the probability that a client is \"alive\" at the current moment."
      ]
    },
    {
      "cell_type": "code",
      "execution_count": 23,
      "id": "62e6689a",
      "metadata": {
        "execution": {
          "iopub.execute_input": "2021-11-09T00:08:29.427721Z",
          "iopub.status.busy": "2021-11-09T00:08:29.426998Z",
          "iopub.status.idle": "2021-11-09T00:08:29.939229Z",
          "shell.execute_reply": "2021-11-09T00:08:29.938332Z",
          "shell.execute_reply.started": "2021-11-09T00:05:17.968210Z"
        },
        "papermill": {
          "duration": 0.643045,
          "end_time": "2021-11-09T00:08:29.939409",
          "exception": false,
          "start_time": "2021-11-09T00:08:29.296364",
          "status": "completed"
        },
        "tags": [],
        "colab": {
          "base_uri": "https://localhost:8080/",
          "height": 545
        },
        "id": "62e6689a",
        "outputId": "59fb5e70-b191-43b9-8047-cdb95eebf885"
      },
      "outputs": [
        {
          "output_type": "execute_result",
          "data": {
            "text/plain": [
              "<matplotlib.axes._subplots.AxesSubplot at 0x7fee6dd4a850>"
            ]
          },
          "metadata": {},
          "execution_count": 23
        },
        {
          "output_type": "display_data",
          "data": {
            "text/plain": [
              "<Figure size 864x576 with 2 Axes>"
            ],
            "image/png": "[encoded data removed]"
          },
          "metadata": {
            "needs_background": "light"
          }
        }
      ],
      "source": [
        "from lifetimes.plotting import plot_frequency_recency_matrix\n",
        "\n",
        "# T = Unit times(weeks)\n",
        "\n",
        "fig = plt.figure(figsize=(12,8))\n",
        "plot_frequency_recency_matrix(bgf, T=4)"
      ]
    },
    {
      "cell_type": "code",
      "execution_count": 24,
      "id": "ca191130",
      "metadata": {
        "execution": {
          "iopub.execute_input": "2021-11-09T00:08:30.199133Z",
          "iopub.status.busy": "2021-11-09T00:08:30.198356Z",
          "iopub.status.idle": "2021-11-09T00:08:30.563842Z",
          "shell.execute_reply": "2021-11-09T00:08:30.564431Z",
          "shell.execute_reply.started": "2021-11-09T00:05:18.495438Z"
        },
        "papermill": {
          "duration": 0.495719,
          "end_time": "2021-11-09T00:08:30.564621",
          "exception": false,
          "start_time": "2021-11-09T00:08:30.068902",
          "status": "completed"
        },
        "tags": [],
        "colab": {
          "base_uri": "https://localhost:8080/",
          "height": 545
        },
        "id": "ca191130",
        "outputId": "9d12c18c-1c4d-411c-c15c-30b8a23a7a5a"
      },
      "outputs": [
        {
          "output_type": "execute_result",
          "data": {
            "text/plain": [
              "<matplotlib.axes._subplots.AxesSubplot at 0x7fee6b8b9d50>"
            ]
          },
          "metadata": {},
          "execution_count": 24
        },
        {
          "output_type": "display_data",
          "data": {
            "text/plain": [
              "<Figure size 864x576 with 2 Axes>"
            ],
            "image/png": "[encoded data removed]"
          },
          "metadata": {
            "needs_background": "light"
          }
        }
      ],
      "source": [
        "from lifetimes.plotting import plot_probability_alive_matrix\n",
        "\n",
        "fig = plt.figure(figsize=(12,8))\n",
        "plot_probability_alive_matrix(bgf)"
      ]
    },
    {
      "cell_type": "markdown",
      "id": "36c8d9c4",
      "metadata": {
        "papermill": {
          "duration": 0.128772,
          "end_time": "2021-11-09T00:08:30.820726",
          "exception": false,
          "start_time": "2021-11-09T00:08:30.691954",
          "status": "completed"
        },
        "tags": [],
        "id": "36c8d9c4"
      },
      "source": [
        "As we can see, both probabilities increase the greater the number of purchases and the time the customer had on his last purchase. It should be noted that the probabilities of future purchases are quite low in the next four weeks and are restricted to a few customer quadrants, this can be easily explained by the trend in sporadic purchases in our dataset.\n",
        "\n",
        "Based on our model we can create predictions for the period of time we choose, in our case we will do it for the first 4, 8 and 12 weeks, these being a strong short-term indicator to increase our advertising efforts in users with the greatest possibility of invest in our company."
      ]
    },
    {
      "cell_type": "code",
      "execution_count": 25,
      "id": "568eaca9",
      "metadata": {
        "execution": {
          "iopub.execute_input": "2021-11-09T00:08:31.090908Z",
          "iopub.status.busy": "2021-11-09T00:08:31.089575Z",
          "iopub.status.idle": "2021-11-09T00:08:31.183177Z",
          "shell.execute_reply": "2021-11-09T00:08:31.182490Z",
          "shell.execute_reply.started": "2021-11-09T00:05:18.806857Z"
        },
        "papermill": {
          "duration": 0.232881,
          "end_time": "2021-11-09T00:08:31.183324",
          "exception": false,
          "start_time": "2021-11-09T00:08:30.950443",
          "status": "completed"
        },
        "tags": [],
        "colab": {
          "base_uri": "https://localhost:8080/",
          "height": 455
        },
        "id": "568eaca9",
        "outputId": "3275034e-a6d7-41e0-9dd4-7f379699f46e"
      },
      "outputs": [
        {
          "output_type": "execute_result",
          "data": {
            "text/plain": [
              "            frequency  recency      T  monetary_value  expected_4week\n",
              "CustomerID                                                           \n",
              "14606           101.0    105.0  105.0      289.483564            3.52\n",
              "17841           101.0    105.0  105.0      665.993168            3.52\n",
              "15311            97.0    106.0  106.0     1176.736082            3.35\n",
              "14911            94.0    106.0  106.0     3092.416809            3.25\n",
              "14527            90.0    105.0  105.0      277.068000            3.14\n",
              "...               ...      ...    ...             ...             ...\n",
              "14160             6.0     13.0  100.0      794.515000            0.00\n",
              "15015             9.0     32.0  104.0      247.263333            0.00\n",
              "15633            12.0     32.0  105.0      345.339167            0.00\n",
              "16754            16.0     39.0   92.0     3944.129375            0.00\n",
              "18051             6.0     13.0  104.0      324.830000            0.00\n",
              "\n",
              "[5878 rows x 5 columns]"
            ],
            "text/html": [
              "\n",
              "  <div id=\"df-454e829c-b1fd-49c3-b731-944d68bc6eb3\">\n",
              "    <div class=\"colab-df-container\">\n",
              "      <div>\n",
              "<style scoped>\n",
              "    .dataframe tbody tr th:only-of-type {\n",
              "        vertical-align: middle;\n",
              "    }\n",
              "\n",
              "    .dataframe tbody tr th {\n",
              "        vertical-align: top;\n",
              "    }\n",
              "\n",
              "    .dataframe thead th {\n",
              "        text-align: right;\n",
              "    }\n",
              "</style>\n",
              "<table border=\"1\" class=\"dataframe\">\n",
              "  <thead>\n",
              "    <tr style=\"text-align: right;\">\n",
              "      <th></th>\n",
              "      <th>frequency</th>\n",
              "      <th>recency</th>\n",
              "      <th>T</th>\n",
              "      <th>monetary_value</th>\n",
              "      <th>expected_4week</th>\n",
              "    </tr>\n",
              "    <tr>\n",
              "      <th>CustomerID</th>\n",
              "      <th></th>\n",
              "      <th></th>\n",
              "      <th></th>\n",
              "      <th></th>\n",
              "      <th></th>\n",
              "    </tr>\n",
              "  </thead>\n",
              "  <tbody>\n",
              "    <tr>\n",
              "      <th>14606</th>\n",
              "      <td>101.0</td>\n",
              "      <td>105.0</td>\n",
              "      <td>105.0</td>\n",
              "      <td>289.483564</td>\n",
              "      <td>3.52</td>\n",
              "    </tr>\n",
              "    <tr>\n",
              "      <th>17841</th>\n",
              "      <td>101.0</td>\n",
              "      <td>105.0</td>\n",
              "      <td>105.0</td>\n",
              "      <td>665.993168</td>\n",
              "      <td>3.52</td>\n",
              "    </tr>\n",
              "    <tr>\n",
              "      <th>15311</th>\n",
              "      <td>97.0</td>\n",
              "      <td>106.0</td>\n",
              "      <td>106.0</td>\n",
              "      <td>1176.736082</td>\n",
              "      <td>3.35</td>\n",
              "    </tr>\n",
              "    <tr>\n",
              "      <th>14911</th>\n",
              "      <td>94.0</td>\n",
              "      <td>106.0</td>\n",
              "      <td>106.0</td>\n",
              "      <td>3092.416809</td>\n",
              "      <td>3.25</td>\n",
              "    </tr>\n",
              "    <tr>\n",
              "      <th>14527</th>\n",
              "      <td>90.0</td>\n",
              "      <td>105.0</td>\n",
              "      <td>105.0</td>\n",
              "      <td>277.068000</td>\n",
              "      <td>3.14</td>\n",
              "    </tr>\n",
              "    <tr>\n",
              "      <th>...</th>\n",
              "      <td>...</td>\n",
              "      <td>...</td>\n",
              "      <td>...</td>\n",
              "      <td>...</td>\n",
              "      <td>...</td>\n",
              "    </tr>\n",
              "    <tr>\n",
              "      <th>14160</th>\n",
              "      <td>6.0</td>\n",
              "      <td>13.0</td>\n",
              "      <td>100.0</td>\n",
              "      <td>794.515000</td>\n",
              "      <td>0.00</td>\n",
              "    </tr>\n",
              "    <tr>\n",
              "      <th>15015</th>\n",
              "      <td>9.0</td>\n",
              "      <td>32.0</td>\n",
              "      <td>104.0</td>\n",
              "      <td>247.263333</td>\n",
              "      <td>0.00</td>\n",
              "    </tr>\n",
              "    <tr>\n",
              "      <th>15633</th>\n",
              "      <td>12.0</td>\n",
              "      <td>32.0</td>\n",
              "      <td>105.0</td>\n",
              "      <td>345.339167</td>\n",
              "      <td>0.00</td>\n",
              "    </tr>\n",
              "    <tr>\n",
              "      <th>16754</th>\n",
              "      <td>16.0</td>\n",
              "      <td>39.0</td>\n",
              "      <td>92.0</td>\n",
              "      <td>3944.129375</td>\n",
              "      <td>0.00</td>\n",
              "    </tr>\n",
              "    <tr>\n",
              "      <th>18051</th>\n",
              "      <td>6.0</td>\n",
              "      <td>13.0</td>\n",
              "      <td>104.0</td>\n",
              "      <td>324.830000</td>\n",
              "      <td>0.00</td>\n",
              "    </tr>\n",
              "  </tbody>\n",
              "</table>\n",
              "<p>5878 rows × 5 columns</p>\n",
              "</div>\n",
              "      <button class=\"colab-df-convert\" onclick=\"convertToInteractive('df-454e829c-b1fd-49c3-b731-944d68bc6eb3')\"\n",
              "              title=\"Convert this dataframe to an interactive table.\"\n",
              "              style=\"display:none;\">\n",
              "        \n",
              "  <svg xmlns=\"http://www.w3.org/2000/svg\" height=\"24px\"viewBox=\"0 0 24 24\"\n",
              "       width=\"24px\">\n",
              "    <path d=\"M0 0h24v24H0V0z\" fill=\"none\"/>\n",
              "    <path d=\"M18.56 5.44l.94 2.06.94-2.06 2.06-.94-2.06-.94-.94-2.06-.94 2.06-2.06.94zm-11 1L8.5 8.5l.94-2.06 2.06-.94-2.06-.94L8.5 2.5l-.94 2.06-2.06.94zm10 10l.94 2.06.94-2.06 2.06-.94-2.06-.94-.94-2.06-.94 2.06-2.06.94z\"/><path d=\"M17.41 7.96l-1.37-1.37c-.4-.4-.92-.59-1.43-.59-.52 0-1.04.2-1.43.59L10.3 9.45l-7.72 7.72c-.78.78-.78 2.05 0 2.83L4 21.41c.39.39.9.59 1.41.59.51 0 1.02-.2 1.41-.59l7.78-7.78 2.81-2.81c.8-.78.8-2.07 0-2.86zM5.41 20L4 18.59l7.72-7.72 1.47 1.35L5.41 20z\"/>\n",
              "  </svg>\n",
              "      </button>\n",
              "      \n",
              "  <style>\n",
              "    .colab-df-container {\n",
              "      display:flex;\n",
              "      flex-wrap:wrap;\n",
              "      gap: 12px;\n",
              "    }\n",
              "\n",
              "    .colab-df-convert {\n",
              "      background-color: #E8F0FE;\n",
              "      border: none;\n",
              "      border-radius: 50%;\n",
              "      cursor: pointer;\n",
              "      display: none;\n",
              "      fill: #1967D2;\n",
              "      height: 32px;\n",
              "      padding: 0 0 0 0;\n",
              "      width: 32px;\n",
              "    }\n",
              "\n",
              "    .colab-df-convert:hover {\n",
              "      background-color: #E2EBFA;\n",
              "      box-shadow: 0px 1px 2px rgba(60, 64, 67, 0.3), 0px 1px 3px 1px rgba(60, 64, 67, 0.15);\n",
              "      fill: #174EA6;\n",
              "    }\n",
              "\n",
              "    [theme=dark] .colab-df-convert {\n",
              "      background-color: #3B4455;\n",
              "      fill: #D2E3FC;\n",
              "    }\n",
              "\n",
              "    [theme=dark] .colab-df-convert:hover {\n",
              "      background-color: #434B5C;\n",
              "      box-shadow: 0px 1px 3px 1px rgba(0, 0, 0, 0.15);\n",
              "      filter: drop-shadow(0px 1px 2px rgba(0, 0, 0, 0.3));\n",
              "      fill: #FFFFFF;\n",
              "    }\n",
              "  </style>\n",
              "\n",
              "      <script>\n",
              "        const buttonEl =\n",
              "          document.querySelector('#df-454e829c-b1fd-49c3-b731-944d68bc6eb3 button.colab-df-convert');\n",
              "        buttonEl.style.display =\n",
              "          google.colab.kernel.accessAllowed ? 'block' : 'none';\n",
              "\n",
              "        async function convertToInteractive(key) {\n",
              "          const element = document.querySelector('#df-454e829c-b1fd-49c3-b731-944d68bc6eb3');\n",
              "          const dataTable =\n",
              "            await google.colab.kernel.invokeFunction('convertToInteractive',\n",
              "                                                     [key], {});\n",
              "          if (!dataTable) return;\n",
              "\n",
              "          const docLinkHtml = 'Like what you see? Visit the ' +\n",
              "            '<a target=\"_blank\" href=https://colab.research.google.com/notebooks/data_table.ipynb>data table notebook</a>'\n",
              "            + ' to learn more about interactive tables.';\n",
              "          element.innerHTML = '';\n",
              "          dataTable['output_type'] = 'display_data';\n",
              "          await google.colab.output.renderOutput(dataTable, element);\n",
              "          const docLink = document.createElement('div');\n",
              "          docLink.innerHTML = docLinkHtml;\n",
              "          element.appendChild(docLink);\n",
              "        }\n",
              "      </script>\n",
              "    </div>\n",
              "  </div>\n",
              "  "
            ]
          },
          "metadata": {},
          "execution_count": 25
        }
      ],
      "source": [
        "t = 4 # Weeks for a future transaction \n",
        "rfm['expected_4week'] = round(bgf.conditional_expected_number_of_purchases_up_to_time(t, rfm['frequency'], rfm['recency'], rfm['T']), 2)\n",
        "rfm.sort_values(by='expected_4week', ascending=False)"
      ]
    },
    {
      "cell_type": "code",
      "execution_count": 26,
      "id": "a6e4da06",
      "metadata": {
        "execution": {
          "iopub.execute_input": "2021-11-09T00:08:31.447919Z",
          "iopub.status.busy": "2021-11-09T00:08:31.447186Z",
          "iopub.status.idle": "2021-11-09T00:08:31.590265Z",
          "shell.execute_reply": "2021-11-09T00:08:31.590772Z",
          "shell.execute_reply.started": "2021-11-09T00:05:18.905166Z"
        },
        "papermill": {
          "duration": 0.278933,
          "end_time": "2021-11-09T00:08:31.590970",
          "exception": false,
          "start_time": "2021-11-09T00:08:31.312037",
          "status": "completed"
        },
        "tags": [],
        "id": "a6e4da06"
      },
      "outputs": [],
      "source": [
        "rfm['expected_8week'] = round(bgf.predict(8, rfm['frequency'], rfm['recency'], rfm['T']), 2)\n",
        "rfm['expected_12week'] = round(bgf.predict(12, rfm['frequency'], rfm['recency'], rfm['T']), 2)"
      ]
    },
    {
      "cell_type": "markdown",
      "id": "00db9b91",
      "metadata": {
        "papermill": {
          "duration": 0.1364,
          "end_time": "2021-11-09T00:08:31.860584",
          "exception": false,
          "start_time": "2021-11-09T00:08:31.724184",
          "status": "completed"
        },
        "tags": [],
        "id": "00db9b91"
      },
      "source": [
        "In turn, we can have more molecular analyzes, by seeing the individual probabilities for each client:"
      ]
    },
    {
      "cell_type": "code",
      "execution_count": 38,
      "id": "479fcea2",
      "metadata": {
        "execution": {
          "iopub.execute_input": "2021-11-09T00:08:32.125350Z",
          "iopub.status.busy": "2021-11-09T00:08:32.124240Z",
          "iopub.status.idle": "2021-11-09T00:08:32.132663Z",
          "shell.execute_reply": "2021-11-09T00:08:32.132126Z",
          "shell.execute_reply.started": "2021-11-09T00:06:23.321371Z"
        },
        "papermill": {
          "duration": 0.142738,
          "end_time": "2021-11-09T00:08:32.132813",
          "exception": false,
          "start_time": "2021-11-09T00:08:31.990075",
          "status": "completed"
        },
        "tags": [],
        "id": "479fcea2"
      },
      "outputs": [],
      "source": [
        "t=12\n",
        "#random_person = rfm.iloc[[0,65432]]\n",
        "prediction = bgf.predict(t, rfm['frequency'], rfm['recency'], rfm['T'])\n",
        "\n",
        "#print(\"Customer '{}' has \".format(random_person.name), round(prediction, 2), \"% of probability to buy an item for the next {} weeks\".format(t))"
      ]
    },
    {
      "cell_type": "markdown",
      "id": "2b3a66d1",
      "metadata": {
        "papermill": {
          "duration": 0.12966,
          "end_time": "2021-11-09T00:08:32.392411",
          "exception": false,
          "start_time": "2021-11-09T00:08:32.262751",
          "status": "completed"
        },
        "tags": [],
        "id": "2b3a66d1"
      },
      "source": [
        "## Validating our model\n",
        "\n",
        "Well we have our predictions, but we cannot blindly use the results of a model, we need to validate them with reality. When we talk about making predictions for the future, instead of doing the classic partition of the sample in Train and Test, we do it with respect to time. We will use the last three months of results whose numbers we already know and compare them with what we obtain with our BG/NBD model, for this task the *Lifetimes* library has a very useful function that divides our data set according to the indicated date.\n"
      ]
    },
    {
      "cell_type": "code",
      "execution_count": 42,
      "id": "4958f9ba",
      "metadata": {
        "execution": {
          "iopub.execute_input": "2021-11-09T00:08:32.663048Z",
          "iopub.status.busy": "2021-11-09T00:08:32.662101Z",
          "iopub.status.idle": "2021-11-09T00:08:34.200762Z",
          "shell.execute_reply": "2021-11-09T00:08:34.201346Z",
          "shell.execute_reply.started": "2021-11-08T17:38:05.132225Z"
        },
        "papermill": {
          "duration": 1.679118,
          "end_time": "2021-11-09T00:08:34.201534",
          "exception": false,
          "start_time": "2021-11-09T00:08:32.522416",
          "status": "completed"
        },
        "tags": [],
        "colab": {
          "base_uri": "https://localhost:8080/",
          "height": 238
        },
        "id": "4958f9ba",
        "outputId": "78285660-a9cc-44dd-8bd2-c8899bce855b"
      },
      "outputs": [
        {
          "output_type": "execute_result",
          "data": {
            "text/plain": [
              "            frequency_cal  recency_cal  T_cal  monetary_value_cal  \\\n",
              "CustomerID                                                          \n",
              "12346                 7.0         58.0   76.0        11066.637143   \n",
              "12347                 3.0         23.0   30.0          607.810000   \n",
              "12348                 3.0         28.0   35.0          495.746667   \n",
              "12349                 2.0         26.0   56.0          801.310000   \n",
              "12350                 0.0          0.0   16.0            0.000000   \n",
              "\n",
              "            frequency_holdout  monetary_value_holdout  duration_holdout  \n",
              "CustomerID                                                               \n",
              "12346                     0.0                0.000000              28.0  \n",
              "12347                     4.0               25.373163              28.0  \n",
              "12348                     1.0              103.333333              28.0  \n",
              "12349                     1.0               24.076027              28.0  \n",
              "12350                     0.0                0.000000              28.0  "
            ],
            "text/html": [
              "\n",
              "  <div id=\"df-4097348d-fa55-4cb1-85df-8cbb11c74678\">\n",
              "    <div class=\"colab-df-container\">\n",
              "      <div>\n",
              "<style scoped>\n",
              "    .dataframe tbody tr th:only-of-type {\n",
              "        vertical-align: middle;\n",
              "    }\n",
              "\n",
              "    .dataframe tbody tr th {\n",
              "        vertical-align: top;\n",
              "    }\n",
              "\n",
              "    .dataframe thead th {\n",
              "        text-align: right;\n",
              "    }\n",
              "</style>\n",
              "<table border=\"1\" class=\"dataframe\">\n",
              "  <thead>\n",
              "    <tr style=\"text-align: right;\">\n",
              "      <th></th>\n",
              "      <th>frequency_cal</th>\n",
              "      <th>recency_cal</th>\n",
              "      <th>T_cal</th>\n",
              "      <th>monetary_value_cal</th>\n",
              "      <th>frequency_holdout</th>\n",
              "      <th>monetary_value_holdout</th>\n",
              "      <th>duration_holdout</th>\n",
              "    </tr>\n",
              "    <tr>\n",
              "      <th>CustomerID</th>\n",
              "      <th></th>\n",
              "      <th></th>\n",
              "      <th></th>\n",
              "      <th></th>\n",
              "      <th></th>\n",
              "      <th></th>\n",
              "      <th></th>\n",
              "    </tr>\n",
              "  </thead>\n",
              "  <tbody>\n",
              "    <tr>\n",
              "      <th>12346</th>\n",
              "      <td>7.0</td>\n",
              "      <td>58.0</td>\n",
              "      <td>76.0</td>\n",
              "      <td>11066.637143</td>\n",
              "      <td>0.0</td>\n",
              "      <td>0.000000</td>\n",
              "      <td>28.0</td>\n",
              "    </tr>\n",
              "    <tr>\n",
              "      <th>12347</th>\n",
              "      <td>3.0</td>\n",
              "      <td>23.0</td>\n",
              "      <td>30.0</td>\n",
              "      <td>607.810000</td>\n",
              "      <td>4.0</td>\n",
              "      <td>25.373163</td>\n",
              "      <td>28.0</td>\n",
              "    </tr>\n",
              "    <tr>\n",
              "      <th>12348</th>\n",
              "      <td>3.0</td>\n",
              "      <td>28.0</td>\n",
              "      <td>35.0</td>\n",
              "      <td>495.746667</td>\n",
              "      <td>1.0</td>\n",
              "      <td>103.333333</td>\n",
              "      <td>28.0</td>\n",
              "    </tr>\n",
              "    <tr>\n",
              "      <th>12349</th>\n",
              "      <td>2.0</td>\n",
              "      <td>26.0</td>\n",
              "      <td>56.0</td>\n",
              "      <td>801.310000</td>\n",
              "      <td>1.0</td>\n",
              "      <td>24.076027</td>\n",
              "      <td>28.0</td>\n",
              "    </tr>\n",
              "    <tr>\n",
              "      <th>12350</th>\n",
              "      <td>0.0</td>\n",
              "      <td>0.0</td>\n",
              "      <td>16.0</td>\n",
              "      <td>0.000000</td>\n",
              "      <td>0.0</td>\n",
              "      <td>0.000000</td>\n",
              "      <td>28.0</td>\n",
              "    </tr>\n",
              "  </tbody>\n",
              "</table>\n",
              "</div>\n",
              "      <button class=\"colab-df-convert\" onclick=\"convertToInteractive('df-4097348d-fa55-4cb1-85df-8cbb11c74678')\"\n",
              "              title=\"Convert this dataframe to an interactive table.\"\n",
              "              style=\"display:none;\">\n",
              "        \n",
              "  <svg xmlns=\"http://www.w3.org/2000/svg\" height=\"24px\"viewBox=\"0 0 24 24\"\n",
              "       width=\"24px\">\n",
              "    <path d=\"M0 0h24v24H0V0z\" fill=\"none\"/>\n",
              "    <path d=\"M18.56 5.44l.94 2.06.94-2.06 2.06-.94-2.06-.94-.94-2.06-.94 2.06-2.06.94zm-11 1L8.5 8.5l.94-2.06 2.06-.94-2.06-.94L8.5 2.5l-.94 2.06-2.06.94zm10 10l.94 2.06.94-2.06 2.06-.94-2.06-.94-.94-2.06-.94 2.06-2.06.94z\"/><path d=\"M17.41 7.96l-1.37-1.37c-.4-.4-.92-.59-1.43-.59-.52 0-1.04.2-1.43.59L10.3 9.45l-7.72 7.72c-.78.78-.78 2.05 0 2.83L4 21.41c.39.39.9.59 1.41.59.51 0 1.02-.2 1.41-.59l7.78-7.78 2.81-2.81c.8-.78.8-2.07 0-2.86zM5.41 20L4 18.59l7.72-7.72 1.47 1.35L5.41 20z\"/>\n",
              "  </svg>\n",
              "      </button>\n",
              "      \n",
              "  <style>\n",
              "    .colab-df-container {\n",
              "      display:flex;\n",
              "      flex-wrap:wrap;\n",
              "      gap: 12px;\n",
              "    }\n",
              "\n",
              "    .colab-df-convert {\n",
              "      background-color: #E8F0FE;\n",
              "      border: none;\n",
              "      border-radius: 50%;\n",
              "      cursor: pointer;\n",
              "      display: none;\n",
              "      fill: #1967D2;\n",
              "      height: 32px;\n",
              "      padding: 0 0 0 0;\n",
              "      width: 32px;\n",
              "    }\n",
              "\n",
              "    .colab-df-convert:hover {\n",
              "      background-color: #E2EBFA;\n",
              "      box-shadow: 0px 1px 2px rgba(60, 64, 67, 0.3), 0px 1px 3px 1px rgba(60, 64, 67, 0.15);\n",
              "      fill: #174EA6;\n",
              "    }\n",
              "\n",
              "    [theme=dark] .colab-df-convert {\n",
              "      background-color: #3B4455;\n",
              "      fill: #D2E3FC;\n",
              "    }\n",
              "\n",
              "    [theme=dark] .colab-df-convert:hover {\n",
              "      background-color: #434B5C;\n",
              "      box-shadow: 0px 1px 3px 1px rgba(0, 0, 0, 0.15);\n",
              "      filter: drop-shadow(0px 1px 2px rgba(0, 0, 0, 0.3));\n",
              "      fill: #FFFFFF;\n",
              "    }\n",
              "  </style>\n",
              "\n",
              "      <script>\n",
              "        const buttonEl =\n",
              "          document.querySelector('#df-4097348d-fa55-4cb1-85df-8cbb11c74678 button.colab-df-convert');\n",
              "        buttonEl.style.display =\n",
              "          google.colab.kernel.accessAllowed ? 'block' : 'none';\n",
              "\n",
              "        async function convertToInteractive(key) {\n",
              "          const element = document.querySelector('#df-4097348d-fa55-4cb1-85df-8cbb11c74678');\n",
              "          const dataTable =\n",
              "            await google.colab.kernel.invokeFunction('convertToInteractive',\n",
              "                                                     [key], {});\n",
              "          if (!dataTable) return;\n",
              "\n",
              "          const docLinkHtml = 'Like what you see? Visit the ' +\n",
              "            '<a target=\"_blank\" href=https://colab.research.google.com/notebooks/data_table.ipynb>data table notebook</a>'\n",
              "            + ' to learn more about interactive tables.';\n",
              "          element.innerHTML = '';\n",
              "          dataTable['output_type'] = 'display_data';\n",
              "          await google.colab.output.renderOutput(dataTable, element);\n",
              "          const docLink = document.createElement('div');\n",
              "          docLink.innerHTML = docLinkHtml;\n",
              "          element.appendChild(docLink);\n",
              "        }\n",
              "      </script>\n",
              "    </div>\n",
              "  </div>\n",
              "  "
            ]
          },
          "metadata": {},
          "execution_count": 42
        }
      ],
      "source": [
        "from lifetimes.utils import calibration_and_holdout_data\n",
        "\n",
        "rfm_val = calibration_and_holdout_data(data, customer_id_col='CustomerID', datetime_col='InvoiceDate', \n",
        "                                    monetary_value_col ='Total Amount', calibration_period_end='2021-05-29',\n",
        "                                    observation_period_end='2021-12-09', datetime_format='%Y-%m-%d', freq='W')\n",
        "\n",
        "\n",
        "rfm_val.head(5)"
      ]
    },
    {
      "cell_type": "markdown",
      "id": "663de2a8",
      "metadata": {
        "papermill": {
          "duration": 0.128306,
          "end_time": "2021-11-09T00:08:34.460448",
          "exception": false,
          "start_time": "2021-11-09T00:08:34.332142",
          "status": "completed"
        },
        "tags": [],
        "id": "663de2a8"
      },
      "source": [
        "Our metrics are divided into *cal* and *holdout*, the first being those used in training and the second being the result in the two months that we established, while duration refers to the time in weeks that was taken for the test. Now it is time to train this new table with the same model that we configured previously."
      ]
    },
    {
      "cell_type": "code",
      "execution_count": 43,
      "id": "34bae0ce",
      "metadata": {
        "execution": {
          "iopub.execute_input": "2021-11-09T00:08:34.726015Z",
          "iopub.status.busy": "2021-11-09T00:08:34.724971Z",
          "iopub.status.idle": "2021-11-09T00:08:37.176758Z",
          "shell.execute_reply": "2021-11-09T00:08:37.169831Z",
          "shell.execute_reply.started": "2021-11-08T17:38:07.111639Z"
        },
        "papermill": {
          "duration": 2.585766,
          "end_time": "2021-11-09T00:08:37.177166",
          "exception": false,
          "start_time": "2021-11-09T00:08:34.591400",
          "status": "completed"
        },
        "tags": [],
        "colab": {
          "base_uri": "https://localhost:8080/"
        },
        "id": "34bae0ce",
        "outputId": "33656d8f-f8bf-4abb-fa95-8212ebb07de5"
      },
      "outputs": [
        {
          "output_type": "stream",
          "name": "stdout",
          "text": [
            "Optimization terminated successfully.\n",
            "         Current function value: -3.509595\n",
            "         Iterations: 27\n",
            "         Function evaluations: 28\n",
            "         Gradient evaluations: 28\n",
            "<lifetimes.BetaGeoFitter: fitted with 4930 subjects, a: 0.06, alpha: 11.33, b: 1.10, r: 0.75>\n"
          ]
        }
      ],
      "source": [
        "bgf_val = BetaGeoFitter(penalizer_coef=0.001)\n",
        "bgf_val.fit(rfm_val['frequency_cal'], rfm_val['recency_cal'], rfm_val['T_cal'], verbose=True)\n",
        "print(bgf_val)"
      ]
    },
    {
      "cell_type": "markdown",
      "id": "4cb3c593",
      "metadata": {
        "papermill": {
          "duration": 0.128762,
          "end_time": "2021-11-09T00:08:37.490277",
          "exception": false,
          "start_time": "2021-11-09T00:08:37.361515",
          "status": "completed"
        },
        "tags": [],
        "id": "4cb3c593"
      },
      "source": [
        "Our first validation visualization shows the comparison between the frequency of real transactions and those established by the new model. We can see that as frequencies increase, the model performs a worse job of predicting, this may be due to the great heterogeneity of e-commerce as mentioned above or to the lack of a sufficient sample to establish reliable estimates.\n",
        "- It should be noted that a logarithmic scaling is carried out to be able to visualize the high frequencies, since compared to frequency 0 their heights are very small."
      ]
    },
    {
      "cell_type": "code",
      "execution_count": 44,
      "id": "a93eb775",
      "metadata": {
        "execution": {
          "iopub.execute_input": "2021-11-09T00:08:37.755247Z",
          "iopub.status.busy": "2021-11-09T00:08:37.753068Z",
          "iopub.status.idle": "2021-11-09T00:08:48.049778Z",
          "shell.execute_reply": "2021-11-09T00:08:48.049142Z",
          "shell.execute_reply.started": "2021-11-08T17:38:09.687761Z"
        },
        "papermill": {
          "duration": 10.430665,
          "end_time": "2021-11-09T00:08:48.049943",
          "exception": false,
          "start_time": "2021-11-09T00:08:37.619278",
          "status": "completed"
        },
        "tags": [],
        "colab": {
          "base_uri": "https://localhost:8080/",
          "height": 309
        },
        "id": "a93eb775",
        "outputId": "87fb6746-5876-43c6-f388-b5ee07f8eea5"
      },
      "outputs": [
        {
          "output_type": "display_data",
          "data": {
            "text/plain": [
              "<Figure size 864x576 with 0 Axes>"
            ]
          },
          "metadata": {}
        },
        {
          "output_type": "display_data",
          "data": {
            "text/plain": [
              "<Figure size 432x288 with 1 Axes>"
            ],
            "image/png": "[encoded data removed]"
          },
          "metadata": {
            "needs_background": "light"
          }
        }
      ],
      "source": [
        "from lifetimes.plotting import plot_period_transactions\n",
        "\n",
        "fig = plt.figure(figsize=(12,8))\n",
        "ax = plot_period_transactions(bgf_val)\n",
        "ax.set_yscale('log')"
      ]
    },
    {
      "cell_type": "markdown",
      "id": "7f81f3bd",
      "metadata": {
        "papermill": {
          "duration": 0.134471,
          "end_time": "2021-11-09T00:08:48.320818",
          "exception": false,
          "start_time": "2021-11-09T00:08:48.186347",
          "status": "completed"
        },
        "tags": [],
        "id": "7f81f3bd"
      },
      "source": [
        "Our second visualization will give us a more accurate understanding of the effectiveness of our model estimates, when comparing actual purchases versus predictions."
      ]
    },
    {
      "cell_type": "code",
      "execution_count": 45,
      "id": "0f77f1a0",
      "metadata": {
        "execution": {
          "iopub.execute_input": "2021-11-09T00:08:48.593839Z",
          "iopub.status.busy": "2021-11-09T00:08:48.592625Z",
          "iopub.status.idle": "2021-11-09T00:08:48.942273Z",
          "shell.execute_reply": "2021-11-09T00:08:48.942829Z",
          "shell.execute_reply.started": "2021-11-08T17:38:19.605729Z"
        },
        "papermill": {
          "duration": 0.490291,
          "end_time": "2021-11-09T00:08:48.943019",
          "exception": false,
          "start_time": "2021-11-09T00:08:48.452728",
          "status": "completed"
        },
        "tags": [],
        "colab": {
          "base_uri": "https://localhost:8080/",
          "height": 330
        },
        "id": "0f77f1a0",
        "outputId": "201712b9-19e3-41a9-8ada-5a8b1051a6ac"
      },
      "outputs": [
        {
          "output_type": "execute_result",
          "data": {
            "text/plain": [
              "<matplotlib.axes._subplots.AxesSubplot at 0x7fee691a6650>"
            ]
          },
          "metadata": {},
          "execution_count": 45
        },
        {
          "output_type": "display_data",
          "data": {
            "text/plain": [
              "<Figure size 864x576 with 0 Axes>"
            ]
          },
          "metadata": {}
        },
        {
          "output_type": "display_data",
          "data": {
            "text/plain": [
              "<Figure size 432x288 with 1 Axes>"
            ],
            "image/png": "[encoded data removed]"
          },
          "metadata": {
            "needs_background": "light"
          }
        }
      ],
      "source": [
        "from lifetimes.plotting import plot_calibration_purchases_vs_holdout_purchases\n",
        "\n",
        "fig = plt.figure(figsize=(12,8))\n",
        "plot_calibration_purchases_vs_holdout_purchases(model=bgf_val, calibration_holdout_matrix=rfm_val)"
      ]
    },
    {
      "cell_type": "markdown",
      "id": "3fb246a6",
      "metadata": {
        "papermill": {
          "duration": 0.134376,
          "end_time": "2021-11-09T00:08:49.211626",
          "exception": false,
          "start_time": "2021-11-09T00:08:49.077250",
          "status": "completed"
        },
        "tags": [],
        "id": "3fb246a6"
      },
      "source": [
        "In this last graph we can see how the model starts making predictions quite close to the margin of error, said distance increases as the number of purchases increases until it shoots up violently, this is most likely due to some anomalous data that the model did not reach to take into account. In any case, our model maintains a coherent exponential growth and is similar in some points to the reality of the business. Extending the time that is taken for the test could improve the validation of our model.\n",
        "\n",
        "## Gamma-Gamma model\n",
        "\n",
        "We have predictions for our next few months but we do not know exactly what will be the remuneration that we will obtain from our clients, a client who buys 13 times an average of 7 dollars is not the same as another who buys 2 times 300 dollars. This is when the second model in this case will help us to give an estimate of the profitability of each client, using the *monetary_value* column which we had left until now.\n",
        "\n",
        "\n",
        "We begin first of all with the fact that one of the requirements of this model is to work only with observations with a purchase frequency greater than 0, we see that our sample is considerably reduced to 1918 subjects who are still well to be able to train a model of this type."
      ]
    },
    {
      "cell_type": "code",
      "execution_count": 46,
      "id": "b9cf9214",
      "metadata": {
        "execution": {
          "iopub.execute_input": "2021-11-09T00:08:49.484684Z",
          "iopub.status.busy": "2021-11-09T00:08:49.481359Z",
          "iopub.status.idle": "2021-11-09T00:08:49.491341Z",
          "shell.execute_reply": "2021-11-09T00:08:49.491862Z",
          "shell.execute_reply.started": "2021-11-08T17:38:20.030254Z"
        },
        "papermill": {
          "duration": 0.148175,
          "end_time": "2021-11-09T00:08:49.492050",
          "exception": false,
          "start_time": "2021-11-09T00:08:49.343875",
          "status": "completed"
        },
        "tags": [],
        "colab": {
          "base_uri": "https://localhost:8080/"
        },
        "id": "b9cf9214",
        "outputId": "c90c8083-9206-4bf2-a8ac-293444cebc78"
      },
      "outputs": [
        {
          "output_type": "execute_result",
          "data": {
            "text/plain": [
              "4172"
            ]
          },
          "metadata": {},
          "execution_count": 46
        }
      ],
      "source": [
        "rfm_gg = rfm[rfm['frequency'] > 0]\n",
        "len(rfm_gg)"
      ]
    },
    {
      "cell_type": "markdown",
      "id": "f08add94",
      "metadata": {
        "papermill": {
          "duration": 0.135044,
          "end_time": "2021-11-09T00:08:49.759796",
          "exception": false,
          "start_time": "2021-11-09T00:08:49.624752",
          "status": "completed"
        },
        "tags": [],
        "id": "f08add94"
      },
      "source": [
        "On the other hand, we need to make sure that there is no correlation between the frequency of purchase and the monetary value of each consumer. This is due to the fact that the Gamma-Gamma model assumes that there is no such correlation. In practice, check if the Pearson correlation between the two vectors is close to 0 in order to use this model."
      ]
    },
    {
      "cell_type": "code",
      "execution_count": 47,
      "id": "8487d425",
      "metadata": {
        "execution": {
          "iopub.execute_input": "2021-11-09T00:08:50.030814Z",
          "iopub.status.busy": "2021-11-09T00:08:50.030063Z",
          "iopub.status.idle": "2021-11-09T00:08:50.041419Z",
          "shell.execute_reply": "2021-11-09T00:08:50.040688Z",
          "shell.execute_reply.started": "2021-11-08T17:38:20.013038Z"
        },
        "papermill": {
          "duration": 0.147788,
          "end_time": "2021-11-09T00:08:50.041584",
          "exception": false,
          "start_time": "2021-11-09T00:08:49.893796",
          "status": "completed"
        },
        "tags": [],
        "colab": {
          "base_uri": "https://localhost:8080/",
          "height": 112
        },
        "id": "8487d425",
        "outputId": "70e6a3b3-12d1-403e-8c46-0d90e1f4fb9f"
      },
      "outputs": [
        {
          "output_type": "execute_result",
          "data": {
            "text/plain": [
              "                monetary_value  frequency\n",
              "monetary_value        1.000000   0.034331\n",
              "frequency             0.034331   1.000000"
            ],
            "text/html": [
              "\n",
              "  <div id=\"df-5cff3b96-6ae7-4b99-a61f-1f49f2544620\">\n",
              "    <div class=\"colab-df-container\">\n",
              "      <div>\n",
              "<style scoped>\n",
              "    .dataframe tbody tr th:only-of-type {\n",
              "        vertical-align: middle;\n",
              "    }\n",
              "\n",
              "    .dataframe tbody tr th {\n",
              "        vertical-align: top;\n",
              "    }\n",
              "\n",
              "    .dataframe thead th {\n",
              "        text-align: right;\n",
              "    }\n",
              "</style>\n",
              "<table border=\"1\" class=\"dataframe\">\n",
              "  <thead>\n",
              "    <tr style=\"text-align: right;\">\n",
              "      <th></th>\n",
              "      <th>monetary_value</th>\n",
              "      <th>frequency</th>\n",
              "    </tr>\n",
              "  </thead>\n",
              "  <tbody>\n",
              "    <tr>\n",
              "      <th>monetary_value</th>\n",
              "      <td>1.000000</td>\n",
              "      <td>0.034331</td>\n",
              "    </tr>\n",
              "    <tr>\n",
              "      <th>frequency</th>\n",
              "      <td>0.034331</td>\n",
              "      <td>1.000000</td>\n",
              "    </tr>\n",
              "  </tbody>\n",
              "</table>\n",
              "</div>\n",
              "      <button class=\"colab-df-convert\" onclick=\"convertToInteractive('df-5cff3b96-6ae7-4b99-a61f-1f49f2544620')\"\n",
              "              title=\"Convert this dataframe to an interactive table.\"\n",
              "              style=\"display:none;\">\n",
              "        \n",
              "  <svg xmlns=\"http://www.w3.org/2000/svg\" height=\"24px\"viewBox=\"0 0 24 24\"\n",
              "       width=\"24px\">\n",
              "    <path d=\"M0 0h24v24H0V0z\" fill=\"none\"/>\n",
              "    <path d=\"M18.56 5.44l.94 2.06.94-2.06 2.06-.94-2.06-.94-.94-2.06-.94 2.06-2.06.94zm-11 1L8.5 8.5l.94-2.06 2.06-.94-2.06-.94L8.5 2.5l-.94 2.06-2.06.94zm10 10l.94 2.06.94-2.06 2.06-.94-2.06-.94-.94-2.06-.94 2.06-2.06.94z\"/><path d=\"M17.41 7.96l-1.37-1.37c-.4-.4-.92-.59-1.43-.59-.52 0-1.04.2-1.43.59L10.3 9.45l-7.72 7.72c-.78.78-.78 2.05 0 2.83L4 21.41c.39.39.9.59 1.41.59.51 0 1.02-.2 1.41-.59l7.78-7.78 2.81-2.81c.8-.78.8-2.07 0-2.86zM5.41 20L4 18.59l7.72-7.72 1.47 1.35L5.41 20z\"/>\n",
              "  </svg>\n",
              "      </button>\n",
              "      \n",
              "  <style>\n",
              "    .colab-df-container {\n",
              "      display:flex;\n",
              "      flex-wrap:wrap;\n",
              "      gap: 12px;\n",
              "    }\n",
              "\n",
              "    .colab-df-convert {\n",
              "      background-color: #E8F0FE;\n",
              "      border: none;\n",
              "      border-radius: 50%;\n",
              "      cursor: pointer;\n",
              "      display: none;\n",
              "      fill: #1967D2;\n",
              "      height: 32px;\n",
              "      padding: 0 0 0 0;\n",
              "      width: 32px;\n",
              "    }\n",
              "\n",
              "    .colab-df-convert:hover {\n",
              "      background-color: #E2EBFA;\n",
              "      box-shadow: 0px 1px 2px rgba(60, 64, 67, 0.3), 0px 1px 3px 1px rgba(60, 64, 67, 0.15);\n",
              "      fill: #174EA6;\n",
              "    }\n",
              "\n",
              "    [theme=dark] .colab-df-convert {\n",
              "      background-color: #3B4455;\n",
              "      fill: #D2E3FC;\n",
              "    }\n",
              "\n",
              "    [theme=dark] .colab-df-convert:hover {\n",
              "      background-color: #434B5C;\n",
              "      box-shadow: 0px 1px 3px 1px rgba(0, 0, 0, 0.15);\n",
              "      filter: drop-shadow(0px 1px 2px rgba(0, 0, 0, 0.3));\n",
              "      fill: #FFFFFF;\n",
              "    }\n",
              "  </style>\n",
              "\n",
              "      <script>\n",
              "        const buttonEl =\n",
              "          document.querySelector('#df-5cff3b96-6ae7-4b99-a61f-1f49f2544620 button.colab-df-convert');\n",
              "        buttonEl.style.display =\n",
              "          google.colab.kernel.accessAllowed ? 'block' : 'none';\n",
              "\n",
              "        async function convertToInteractive(key) {\n",
              "          const element = document.querySelector('#df-5cff3b96-6ae7-4b99-a61f-1f49f2544620');\n",
              "          const dataTable =\n",
              "            await google.colab.kernel.invokeFunction('convertToInteractive',\n",
              "                                                     [key], {});\n",
              "          if (!dataTable) return;\n",
              "\n",
              "          const docLinkHtml = 'Like what you see? Visit the ' +\n",
              "            '<a target=\"_blank\" href=https://colab.research.google.com/notebooks/data_table.ipynb>data table notebook</a>'\n",
              "            + ' to learn more about interactive tables.';\n",
              "          element.innerHTML = '';\n",
              "          dataTable['output_type'] = 'display_data';\n",
              "          await google.colab.output.renderOutput(dataTable, element);\n",
              "          const docLink = document.createElement('div');\n",
              "          docLink.innerHTML = docLinkHtml;\n",
              "          element.appendChild(docLink);\n",
              "        }\n",
              "      </script>\n",
              "    </div>\n",
              "  </div>\n",
              "  "
            ]
          },
          "metadata": {},
          "execution_count": 47
        }
      ],
      "source": [
        "rfm_gg[['monetary_value', 'frequency']].corr()"
      ]
    },
    {
      "cell_type": "code",
      "execution_count": 48,
      "id": "7d34c6c9",
      "metadata": {
        "execution": {
          "iopub.execute_input": "2021-11-09T00:08:50.314792Z",
          "iopub.status.busy": "2021-11-09T00:08:50.314063Z",
          "iopub.status.idle": "2021-11-09T00:08:50.426154Z",
          "shell.execute_reply": "2021-11-09T00:08:50.427218Z",
          "shell.execute_reply.started": "2021-11-08T17:38:20.049868Z"
        },
        "papermill": {
          "duration": 0.2497,
          "end_time": "2021-11-09T00:08:50.427555",
          "exception": false,
          "start_time": "2021-11-09T00:08:50.177855",
          "status": "completed"
        },
        "tags": [],
        "colab": {
          "base_uri": "https://localhost:8080/"
        },
        "id": "7d34c6c9",
        "outputId": "f9d49622-ee55-41c7-995d-69abb0ed9604"
      },
      "outputs": [
        {
          "output_type": "stream",
          "name": "stdout",
          "text": [
            "<lifetimes.GammaGammaFitter: fitted with 4172 subjects, p: 2.30, q: 3.42, v: 432.70>\n"
          ]
        }
      ],
      "source": [
        "from lifetimes import GammaGammaFitter\n",
        "\n",
        "ggf = GammaGammaFitter(penalizer_coef = 0.0)\n",
        "ggf.fit(rfm_gg['frequency'], rfm_gg['monetary_value'])\n",
        "print(ggf)"
      ]
    },
    {
      "cell_type": "markdown",
      "id": "ec8c577c",
      "metadata": {
        "papermill": {
          "duration": 0.135462,
          "end_time": "2021-11-09T00:08:50.754523",
          "exception": false,
          "start_time": "2021-11-09T00:08:50.619061",
          "status": "completed"
        },
        "tags": [],
        "id": "ec8c577c"
      },
      "source": [
        "One of the faculties of this model is to calculate the conditional expectation for the average profit per transaction for a group of one or more customers."
      ]
    },
    {
      "cell_type": "code",
      "execution_count": 49,
      "id": "33137099",
      "metadata": {
        "execution": {
          "iopub.execute_input": "2021-11-09T00:08:51.031444Z",
          "iopub.status.busy": "2021-11-09T00:08:51.030626Z",
          "iopub.status.idle": "2021-11-09T00:08:51.092433Z",
          "shell.execute_reply": "2021-11-09T00:08:51.093043Z",
          "shell.execute_reply.started": "2021-11-08T17:38:20.17171Z"
        },
        "papermill": {
          "duration": 0.202836,
          "end_time": "2021-11-09T00:08:51.093241",
          "exception": false,
          "start_time": "2021-11-09T00:08:50.890405",
          "status": "completed"
        },
        "tags": [],
        "colab": {
          "base_uri": "https://localhost:8080/",
          "height": 455
        },
        "id": "33137099",
        "outputId": "791f9687-49e9-4c73-cb39-fec02bc11e07"
      },
      "outputs": [
        {
          "output_type": "execute_result",
          "data": {
            "text/plain": [
              "            frequency  recency      T  monetary_value  expected_4week  \\\n",
              "CustomerID                                                              \n",
              "16446             1.0     29.0   29.0   168469.600000            0.16   \n",
              "18102            53.0    106.0  106.0    10918.883019            1.84   \n",
              "15749             1.0     13.0   47.0    21535.900000            0.10   \n",
              "12346             7.0     58.0  104.0    11066.637143            0.18   \n",
              "14646            60.0    105.0  105.0     8713.122167            2.10   \n",
              "...               ...      ...    ...             ...             ...   \n",
              "17079             0.0      0.0   11.0        0.000000            0.13   \n",
              "17078             0.0      0.0    5.0        0.000000            0.18   \n",
              "17077             0.0      0.0   83.0        0.000000            0.03   \n",
              "12661             0.0      0.0   62.0        0.000000            0.04   \n",
              "15578             0.0      0.0   23.0        0.000000            0.09   \n",
              "\n",
              "            expected_8week  expected_12week  avg_transaction  \n",
              "CustomerID                                                    \n",
              "16446                 0.33             0.49         82288.71  \n",
              "18102                 3.68             5.51         10714.27  \n",
              "15749                 0.19             0.28         10703.04  \n",
              "12346                 0.37             0.55          9673.84  \n",
              "14646                 4.19             6.28          8569.99  \n",
              "...                    ...              ...              ...  \n",
              "17079                 0.26             0.39             0.00  \n",
              "17078                 0.36             0.54             0.00  \n",
              "17077                 0.06             0.09             0.00  \n",
              "12661                 0.08             0.12             0.00  \n",
              "15578                 0.17             0.25             0.00  \n",
              "\n",
              "[5878 rows x 8 columns]"
            ],
            "text/html": [
              "\n",
              "  <div id=\"df-ce3f43c9-19bc-4641-9a39-9d6994f773c2\">\n",
              "    <div class=\"colab-df-container\">\n",
              "      <div>\n",
              "<style scoped>\n",
              "    .dataframe tbody tr th:only-of-type {\n",
              "        vertical-align: middle;\n",
              "    }\n",
              "\n",
              "    .dataframe tbody tr th {\n",
              "        vertical-align: top;\n",
              "    }\n",
              "\n",
              "    .dataframe thead th {\n",
              "        text-align: right;\n",
              "    }\n",
              "</style>\n",
              "<table border=\"1\" class=\"dataframe\">\n",
              "  <thead>\n",
              "    <tr style=\"text-align: right;\">\n",
              "      <th></th>\n",
              "      <th>frequency</th>\n",
              "      <th>recency</th>\n",
              "      <th>T</th>\n",
              "      <th>monetary_value</th>\n",
              "      <th>expected_4week</th>\n",
              "      <th>expected_8week</th>\n",
              "      <th>expected_12week</th>\n",
              "      <th>avg_transaction</th>\n",
              "    </tr>\n",
              "    <tr>\n",
              "      <th>CustomerID</th>\n",
              "      <th></th>\n",
              "      <th></th>\n",
              "      <th></th>\n",
              "      <th></th>\n",
              "      <th></th>\n",
              "      <th></th>\n",
              "      <th></th>\n",
              "      <th></th>\n",
              "    </tr>\n",
              "  </thead>\n",
              "  <tbody>\n",
              "    <tr>\n",
              "      <th>16446</th>\n",
              "      <td>1.0</td>\n",
              "      <td>29.0</td>\n",
              "      <td>29.0</td>\n",
              "      <td>168469.600000</td>\n",
              "      <td>0.16</td>\n",
              "      <td>0.33</td>\n",
              "      <td>0.49</td>\n",
              "      <td>82288.71</td>\n",
              "    </tr>\n",
              "    <tr>\n",
              "      <th>18102</th>\n",
              "      <td>53.0</td>\n",
              "      <td>106.0</td>\n",
              "      <td>106.0</td>\n",
              "      <td>10918.883019</td>\n",
              "      <td>1.84</td>\n",
              "      <td>3.68</td>\n",
              "      <td>5.51</td>\n",
              "      <td>10714.27</td>\n",
              "    </tr>\n",
              "    <tr>\n",
              "      <th>15749</th>\n",
              "      <td>1.0</td>\n",
              "      <td>13.0</td>\n",
              "      <td>47.0</td>\n",
              "      <td>21535.900000</td>\n",
              "      <td>0.10</td>\n",
              "      <td>0.19</td>\n",
              "      <td>0.28</td>\n",
              "      <td>10703.04</td>\n",
              "    </tr>\n",
              "    <tr>\n",
              "      <th>12346</th>\n",
              "      <td>7.0</td>\n",
              "      <td>58.0</td>\n",
              "      <td>104.0</td>\n",
              "      <td>11066.637143</td>\n",
              "      <td>0.18</td>\n",
              "      <td>0.37</td>\n",
              "      <td>0.55</td>\n",
              "      <td>9673.84</td>\n",
              "    </tr>\n",
              "    <tr>\n",
              "      <th>14646</th>\n",
              "      <td>60.0</td>\n",
              "      <td>105.0</td>\n",
              "      <td>105.0</td>\n",
              "      <td>8713.122167</td>\n",
              "      <td>2.10</td>\n",
              "      <td>4.19</td>\n",
              "      <td>6.28</td>\n",
              "      <td>8569.99</td>\n",
              "    </tr>\n",
              "    <tr>\n",
              "      <th>...</th>\n",
              "      <td>...</td>\n",
              "      <td>...</td>\n",
              "      <td>...</td>\n",
              "      <td>...</td>\n",
              "      <td>...</td>\n",
              "      <td>...</td>\n",
              "      <td>...</td>\n",
              "      <td>...</td>\n",
              "    </tr>\n",
              "    <tr>\n",
              "      <th>17079</th>\n",
              "      <td>0.0</td>\n",
              "      <td>0.0</td>\n",
              "      <td>11.0</td>\n",
              "      <td>0.000000</td>\n",
              "      <td>0.13</td>\n",
              "      <td>0.26</td>\n",
              "      <td>0.39</td>\n",
              "      <td>0.00</td>\n",
              "    </tr>\n",
              "    <tr>\n",
              "      <th>17078</th>\n",
              "      <td>0.0</td>\n",
              "      <td>0.0</td>\n",
              "      <td>5.0</td>\n",
              "      <td>0.000000</td>\n",
              "      <td>0.18</td>\n",
              "      <td>0.36</td>\n",
              "      <td>0.54</td>\n",
              "      <td>0.00</td>\n",
              "    </tr>\n",
              "    <tr>\n",
              "      <th>17077</th>\n",
              "      <td>0.0</td>\n",
              "      <td>0.0</td>\n",
              "      <td>83.0</td>\n",
              "      <td>0.000000</td>\n",
              "      <td>0.03</td>\n",
              "      <td>0.06</td>\n",
              "      <td>0.09</td>\n",
              "      <td>0.00</td>\n",
              "    </tr>\n",
              "    <tr>\n",
              "      <th>12661</th>\n",
              "      <td>0.0</td>\n",
              "      <td>0.0</td>\n",
              "      <td>62.0</td>\n",
              "      <td>0.000000</td>\n",
              "      <td>0.04</td>\n",
              "      <td>0.08</td>\n",
              "      <td>0.12</td>\n",
              "      <td>0.00</td>\n",
              "    </tr>\n",
              "    <tr>\n",
              "      <th>15578</th>\n",
              "      <td>0.0</td>\n",
              "      <td>0.0</td>\n",
              "      <td>23.0</td>\n",
              "      <td>0.000000</td>\n",
              "      <td>0.09</td>\n",
              "      <td>0.17</td>\n",
              "      <td>0.25</td>\n",
              "      <td>0.00</td>\n",
              "    </tr>\n",
              "  </tbody>\n",
              "</table>\n",
              "<p>5878 rows × 8 columns</p>\n",
              "</div>\n",
              "      <button class=\"colab-df-convert\" onclick=\"convertToInteractive('df-ce3f43c9-19bc-4641-9a39-9d6994f773c2')\"\n",
              "              title=\"Convert this dataframe to an interactive table.\"\n",
              "              style=\"display:none;\">\n",
              "        \n",
              "  <svg xmlns=\"http://www.w3.org/2000/svg\" height=\"24px\"viewBox=\"0 0 24 24\"\n",
              "       width=\"24px\">\n",
              "    <path d=\"M0 0h24v24H0V0z\" fill=\"none\"/>\n",
              "    <path d=\"M18.56 5.44l.94 2.06.94-2.06 2.06-.94-2.06-.94-.94-2.06-.94 2.06-2.06.94zm-11 1L8.5 8.5l.94-2.06 2.06-.94-2.06-.94L8.5 2.5l-.94 2.06-2.06.94zm10 10l.94 2.06.94-2.06 2.06-.94-2.06-.94-.94-2.06-.94 2.06-2.06.94z\"/><path d=\"M17.41 7.96l-1.37-1.37c-.4-.4-.92-.59-1.43-.59-.52 0-1.04.2-1.43.59L10.3 9.45l-7.72 7.72c-.78.78-.78 2.05 0 2.83L4 21.41c.39.39.9.59 1.41.59.51 0 1.02-.2 1.41-.59l7.78-7.78 2.81-2.81c.8-.78.8-2.07 0-2.86zM5.41 20L4 18.59l7.72-7.72 1.47 1.35L5.41 20z\"/>\n",
              "  </svg>\n",
              "      </button>\n",
              "      \n",
              "  <style>\n",
              "    .colab-df-container {\n",
              "      display:flex;\n",
              "      flex-wrap:wrap;\n",
              "      gap: 12px;\n",
              "    }\n",
              "\n",
              "    .colab-df-convert {\n",
              "      background-color: #E8F0FE;\n",
              "      border: none;\n",
              "      border-radius: 50%;\n",
              "      cursor: pointer;\n",
              "      display: none;\n",
              "      fill: #1967D2;\n",
              "      height: 32px;\n",
              "      padding: 0 0 0 0;\n",
              "      width: 32px;\n",
              "    }\n",
              "\n",
              "    .colab-df-convert:hover {\n",
              "      background-color: #E2EBFA;\n",
              "      box-shadow: 0px 1px 2px rgba(60, 64, 67, 0.3), 0px 1px 3px 1px rgba(60, 64, 67, 0.15);\n",
              "      fill: #174EA6;\n",
              "    }\n",
              "\n",
              "    [theme=dark] .colab-df-convert {\n",
              "      background-color: #3B4455;\n",
              "      fill: #D2E3FC;\n",
              "    }\n",
              "\n",
              "    [theme=dark] .colab-df-convert:hover {\n",
              "      background-color: #434B5C;\n",
              "      box-shadow: 0px 1px 3px 1px rgba(0, 0, 0, 0.15);\n",
              "      filter: drop-shadow(0px 1px 2px rgba(0, 0, 0, 0.3));\n",
              "      fill: #FFFFFF;\n",
              "    }\n",
              "  </style>\n",
              "\n",
              "      <script>\n",
              "        const buttonEl =\n",
              "          document.querySelector('#df-ce3f43c9-19bc-4641-9a39-9d6994f773c2 button.colab-df-convert');\n",
              "        buttonEl.style.display =\n",
              "          google.colab.kernel.accessAllowed ? 'block' : 'none';\n",
              "\n",
              "        async function convertToInteractive(key) {\n",
              "          const element = document.querySelector('#df-ce3f43c9-19bc-4641-9a39-9d6994f773c2');\n",
              "          const dataTable =\n",
              "            await google.colab.kernel.invokeFunction('convertToInteractive',\n",
              "                                                     [key], {});\n",
              "          if (!dataTable) return;\n",
              "\n",
              "          const docLinkHtml = 'Like what you see? Visit the ' +\n",
              "            '<a target=\"_blank\" href=https://colab.research.google.com/notebooks/data_table.ipynb>data table notebook</a>'\n",
              "            + ' to learn more about interactive tables.';\n",
              "          element.innerHTML = '';\n",
              "          dataTable['output_type'] = 'display_data';\n",
              "          await google.colab.output.renderOutput(dataTable, element);\n",
              "          const docLink = document.createElement('div');\n",
              "          docLink.innerHTML = docLinkHtml;\n",
              "          element.appendChild(docLink);\n",
              "        }\n",
              "      </script>\n",
              "    </div>\n",
              "  </div>\n",
              "  "
            ]
          },
          "metadata": {},
          "execution_count": 49
        }
      ],
      "source": [
        "rfm['avg_transaction'] = round(ggf.conditional_expected_average_profit(rfm_gg['frequency'],\n",
        "                                                     rfm_gg['monetary_value']), 2)\n",
        "\n",
        "rfm['avg_transaction'] = rfm['avg_transaction'].fillna(0)\n",
        "rfm.sort_values(by='avg_transaction', ascending=False)"
      ]
    },
    {
      "cell_type": "markdown",
      "id": "bef01839",
      "metadata": {
        "papermill": {
          "duration": 0.135744,
          "end_time": "2021-11-09T00:08:51.367219",
          "exception": false,
          "start_time": "2021-11-09T00:08:51.231475",
          "status": "completed"
        },
        "tags": [],
        "id": "bef01839"
      },
      "source": [
        "The column that we have just created gives us the approximate amount that the customer will make in a future purchase, but if we review well we will find that this metric does not really tell us anything by itself, because customers with the highest number of transaction are unlikely to buy in the following periods. In summary, this new indicator is conditioned on the assumption that a purchase is actually made.\n",
        "\n",
        "To find the value we are looking for, and which is found in the title of this article, we will use another module of this model which uses the model we created previously to estimate the CLV of each client in the period we choose. For our reality we will use an estimate of the next 26 weeks (6 months) to calculate the Lifetime Value.\n",
        "- *discount_rate* refers to external factors that may influence the company's income, such as currency inflation, new company taxes, among others."
      ]
    },
    {
      "cell_type": "code",
      "execution_count": 50,
      "id": "1b1b0896",
      "metadata": {
        "execution": {
          "iopub.execute_input": "2021-11-09T00:08:51.641995Z",
          "iopub.status.busy": "2021-11-09T00:08:51.638464Z",
          "iopub.status.idle": "2021-11-09T00:08:56.530594Z",
          "shell.execute_reply": "2021-11-09T00:08:56.530038Z",
          "shell.execute_reply.started": "2021-11-08T17:38:20.3107Z"
        },
        "papermill": {
          "duration": 5.029502,
          "end_time": "2021-11-09T00:08:56.530747",
          "exception": false,
          "start_time": "2021-11-09T00:08:51.501245",
          "status": "completed"
        },
        "tags": [],
        "colab": {
          "base_uri": "https://localhost:8080/",
          "height": 455
        },
        "id": "1b1b0896",
        "outputId": "abe105ce-85f4-476a-d98a-3e3078fcf261"
      },
      "outputs": [
        {
          "output_type": "execute_result",
          "data": {
            "text/plain": [
              "            frequency  recency      T  monetary_value  expected_4week  \\\n",
              "CustomerID                                                              \n",
              "18102            53.0    106.0  106.0    10918.883019            1.84   \n",
              "14646            60.0    105.0  105.0     8713.122167            2.10   \n",
              "16446             1.0     29.0   29.0   168469.600000            0.16   \n",
              "17450            26.0     62.0   63.0     7905.648077            1.45   \n",
              "14156            75.0    105.0  106.0     4164.944267            2.59   \n",
              "...               ...      ...    ...             ...             ...   \n",
              "17448            10.0     21.0   92.0     1344.273000            0.00   \n",
              "18051             6.0     13.0  104.0      324.830000            0.00   \n",
              "14590            16.0     44.0  105.0      180.310625            0.00   \n",
              "15633            12.0     32.0  105.0      345.339167            0.00   \n",
              "12835            30.0     44.0  105.0      183.907000            0.00   \n",
              "\n",
              "            expected_8week  expected_12week  avg_transaction       CLV  \n",
              "CustomerID                                                              \n",
              "18102                 3.68             5.51         10714.27  477408.0  \n",
              "14646                 4.19             6.28          8569.99  435362.0  \n",
              "16446                 0.33             0.49         82288.71  316730.0  \n",
              "17450                 2.89             4.32          7614.05  264140.0  \n",
              "14156                 5.18             7.76          4112.99  258227.0  \n",
              "...                    ...              ...              ...       ...  \n",
              "17448                 0.00             0.00          1255.40       6.0  \n",
              "18051                 0.00             0.00           337.70       4.0  \n",
              "14590                 0.00             0.00           194.56       2.0  \n",
              "15633                 0.00             0.00           350.64       2.0  \n",
              "12835                 0.00             0.00           191.61       0.0  \n",
              "\n",
              "[5878 rows x 9 columns]"
            ],
            "text/html": [
              "\n",
              "  <div id=\"df-be6d1c89-c2c4-43a9-aefa-bec9a0edf5ef\">\n",
              "    <div class=\"colab-df-container\">\n",
              "      <div>\n",
              "<style scoped>\n",
              "    .dataframe tbody tr th:only-of-type {\n",
              "        vertical-align: middle;\n",
              "    }\n",
              "\n",
              "    .dataframe tbody tr th {\n",
              "        vertical-align: top;\n",
              "    }\n",
              "\n",
              "    .dataframe thead th {\n",
              "        text-align: right;\n",
              "    }\n",
              "</style>\n",
              "<table border=\"1\" class=\"dataframe\">\n",
              "  <thead>\n",
              "    <tr style=\"text-align: right;\">\n",
              "      <th></th>\n",
              "      <th>frequency</th>\n",
              "      <th>recency</th>\n",
              "      <th>T</th>\n",
              "      <th>monetary_value</th>\n",
              "      <th>expected_4week</th>\n",
              "      <th>expected_8week</th>\n",
              "      <th>expected_12week</th>\n",
              "      <th>avg_transaction</th>\n",
              "      <th>CLV</th>\n",
              "    </tr>\n",
              "    <tr>\n",
              "      <th>CustomerID</th>\n",
              "      <th></th>\n",
              "      <th></th>\n",
              "      <th></th>\n",
              "      <th></th>\n",
              "      <th></th>\n",
              "      <th></th>\n",
              "      <th></th>\n",
              "      <th></th>\n",
              "      <th></th>\n",
              "    </tr>\n",
              "  </thead>\n",
              "  <tbody>\n",
              "    <tr>\n",
              "      <th>18102</th>\n",
              "      <td>53.0</td>\n",
              "      <td>106.0</td>\n",
              "      <td>106.0</td>\n",
              "      <td>10918.883019</td>\n",
              "      <td>1.84</td>\n",
              "      <td>3.68</td>\n",
              "      <td>5.51</td>\n",
              "      <td>10714.27</td>\n",
              "      <td>477408.0</td>\n",
              "    </tr>\n",
              "    <tr>\n",
              "      <th>14646</th>\n",
              "      <td>60.0</td>\n",
              "      <td>105.0</td>\n",
              "      <td>105.0</td>\n",
              "      <td>8713.122167</td>\n",
              "      <td>2.10</td>\n",
              "      <td>4.19</td>\n",
              "      <td>6.28</td>\n",
              "      <td>8569.99</td>\n",
              "      <td>435362.0</td>\n",
              "    </tr>\n",
              "    <tr>\n",
              "      <th>16446</th>\n",
              "      <td>1.0</td>\n",
              "      <td>29.0</td>\n",
              "      <td>29.0</td>\n",
              "      <td>168469.600000</td>\n",
              "      <td>0.16</td>\n",
              "      <td>0.33</td>\n",
              "      <td>0.49</td>\n",
              "      <td>82288.71</td>\n",
              "      <td>316730.0</td>\n",
              "    </tr>\n",
              "    <tr>\n",
              "      <th>17450</th>\n",
              "      <td>26.0</td>\n",
              "      <td>62.0</td>\n",
              "      <td>63.0</td>\n",
              "      <td>7905.648077</td>\n",
              "      <td>1.45</td>\n",
              "      <td>2.89</td>\n",
              "      <td>4.32</td>\n",
              "      <td>7614.05</td>\n",
              "      <td>264140.0</td>\n",
              "    </tr>\n",
              "    <tr>\n",
              "      <th>14156</th>\n",
              "      <td>75.0</td>\n",
              "      <td>105.0</td>\n",
              "      <td>106.0</td>\n",
              "      <td>4164.944267</td>\n",
              "      <td>2.59</td>\n",
              "      <td>5.18</td>\n",
              "      <td>7.76</td>\n",
              "      <td>4112.99</td>\n",
              "      <td>258227.0</td>\n",
              "    </tr>\n",
              "    <tr>\n",
              "      <th>...</th>\n",
              "      <td>...</td>\n",
              "      <td>...</td>\n",
              "      <td>...</td>\n",
              "      <td>...</td>\n",
              "      <td>...</td>\n",
              "      <td>...</td>\n",
              "      <td>...</td>\n",
              "      <td>...</td>\n",
              "      <td>...</td>\n",
              "    </tr>\n",
              "    <tr>\n",
              "      <th>17448</th>\n",
              "      <td>10.0</td>\n",
              "      <td>21.0</td>\n",
              "      <td>92.0</td>\n",
              "      <td>1344.273000</td>\n",
              "      <td>0.00</td>\n",
              "      <td>0.00</td>\n",
              "      <td>0.00</td>\n",
              "      <td>1255.40</td>\n",
              "      <td>6.0</td>\n",
              "    </tr>\n",
              "    <tr>\n",
              "      <th>18051</th>\n",
              "      <td>6.0</td>\n",
              "      <td>13.0</td>\n",
              "      <td>104.0</td>\n",
              "      <td>324.830000</td>\n",
              "      <td>0.00</td>\n",
              "      <td>0.00</td>\n",
              "      <td>0.00</td>\n",
              "      <td>337.70</td>\n",
              "      <td>4.0</td>\n",
              "    </tr>\n",
              "    <tr>\n",
              "      <th>14590</th>\n",
              "      <td>16.0</td>\n",
              "      <td>44.0</td>\n",
              "      <td>105.0</td>\n",
              "      <td>180.310625</td>\n",
              "      <td>0.00</td>\n",
              "      <td>0.00</td>\n",
              "      <td>0.00</td>\n",
              "      <td>194.56</td>\n",
              "      <td>2.0</td>\n",
              "    </tr>\n",
              "    <tr>\n",
              "      <th>15633</th>\n",
              "      <td>12.0</td>\n",
              "      <td>32.0</td>\n",
              "      <td>105.0</td>\n",
              "      <td>345.339167</td>\n",
              "      <td>0.00</td>\n",
              "      <td>0.00</td>\n",
              "      <td>0.00</td>\n",
              "      <td>350.64</td>\n",
              "      <td>2.0</td>\n",
              "    </tr>\n",
              "    <tr>\n",
              "      <th>12835</th>\n",
              "      <td>30.0</td>\n",
              "      <td>44.0</td>\n",
              "      <td>105.0</td>\n",
              "      <td>183.907000</td>\n",
              "      <td>0.00</td>\n",
              "      <td>0.00</td>\n",
              "      <td>0.00</td>\n",
              "      <td>191.61</td>\n",
              "      <td>0.0</td>\n",
              "    </tr>\n",
              "  </tbody>\n",
              "</table>\n",
              "<p>5878 rows × 9 columns</p>\n",
              "</div>\n",
              "      <button class=\"colab-df-convert\" onclick=\"convertToInteractive('df-be6d1c89-c2c4-43a9-aefa-bec9a0edf5ef')\"\n",
              "              title=\"Convert this dataframe to an interactive table.\"\n",
              "              style=\"display:none;\">\n",
              "        \n",
              "  <svg xmlns=\"http://www.w3.org/2000/svg\" height=\"24px\"viewBox=\"0 0 24 24\"\n",
              "       width=\"24px\">\n",
              "    <path d=\"M0 0h24v24H0V0z\" fill=\"none\"/>\n",
              "    <path d=\"M18.56 5.44l.94 2.06.94-2.06 2.06-.94-2.06-.94-.94-2.06-.94 2.06-2.06.94zm-11 1L8.5 8.5l.94-2.06 2.06-.94-2.06-.94L8.5 2.5l-.94 2.06-2.06.94zm10 10l.94 2.06.94-2.06 2.06-.94-2.06-.94-.94-2.06-.94 2.06-2.06.94z\"/><path d=\"M17.41 7.96l-1.37-1.37c-.4-.4-.92-.59-1.43-.59-.52 0-1.04.2-1.43.59L10.3 9.45l-7.72 7.72c-.78.78-.78 2.05 0 2.83L4 21.41c.39.39.9.59 1.41.59.51 0 1.02-.2 1.41-.59l7.78-7.78 2.81-2.81c.8-.78.8-2.07 0-2.86zM5.41 20L4 18.59l7.72-7.72 1.47 1.35L5.41 20z\"/>\n",
              "  </svg>\n",
              "      </button>\n",
              "      \n",
              "  <style>\n",
              "    .colab-df-container {\n",
              "      display:flex;\n",
              "      flex-wrap:wrap;\n",
              "      gap: 12px;\n",
              "    }\n",
              "\n",
              "    .colab-df-convert {\n",
              "      background-color: #E8F0FE;\n",
              "      border: none;\n",
              "      border-radius: 50%;\n",
              "      cursor: pointer;\n",
              "      display: none;\n",
              "      fill: #1967D2;\n",
              "      height: 32px;\n",
              "      padding: 0 0 0 0;\n",
              "      width: 32px;\n",
              "    }\n",
              "\n",
              "    .colab-df-convert:hover {\n",
              "      background-color: #E2EBFA;\n",
              "      box-shadow: 0px 1px 2px rgba(60, 64, 67, 0.3), 0px 1px 3px 1px rgba(60, 64, 67, 0.15);\n",
              "      fill: #174EA6;\n",
              "    }\n",
              "\n",
              "    [theme=dark] .colab-df-convert {\n",
              "      background-color: #3B4455;\n",
              "      fill: #D2E3FC;\n",
              "    }\n",
              "\n",
              "    [theme=dark] .colab-df-convert:hover {\n",
              "      background-color: #434B5C;\n",
              "      box-shadow: 0px 1px 3px 1px rgba(0, 0, 0, 0.15);\n",
              "      filter: drop-shadow(0px 1px 2px rgba(0, 0, 0, 0.3));\n",
              "      fill: #FFFFFF;\n",
              "    }\n",
              "  </style>\n",
              "\n",
              "      <script>\n",
              "        const buttonEl =\n",
              "          document.querySelector('#df-be6d1c89-c2c4-43a9-aefa-bec9a0edf5ef button.colab-df-convert');\n",
              "        buttonEl.style.display =\n",
              "          google.colab.kernel.accessAllowed ? 'block' : 'none';\n",
              "\n",
              "        async function convertToInteractive(key) {\n",
              "          const element = document.querySelector('#df-be6d1c89-c2c4-43a9-aefa-bec9a0edf5ef');\n",
              "          const dataTable =\n",
              "            await google.colab.kernel.invokeFunction('convertToInteractive',\n",
              "                                                     [key], {});\n",
              "          if (!dataTable) return;\n",
              "\n",
              "          const docLinkHtml = 'Like what you see? Visit the ' +\n",
              "            '<a target=\"_blank\" href=https://colab.research.google.com/notebooks/data_table.ipynb>data table notebook</a>'\n",
              "            + ' to learn more about interactive tables.';\n",
              "          element.innerHTML = '';\n",
              "          dataTable['output_type'] = 'display_data';\n",
              "          await google.colab.output.renderOutput(dataTable, element);\n",
              "          const docLink = document.createElement('div');\n",
              "          docLink.innerHTML = docLinkHtml;\n",
              "          element.appendChild(docLink);\n",
              "        }\n",
              "      </script>\n",
              "    </div>\n",
              "  </div>\n",
              "  "
            ]
          },
          "metadata": {},
          "execution_count": 50
        }
      ],
      "source": [
        "rfm['CLV'] = round(ggf.customer_lifetime_value(bgf, rfm['frequency'],\n",
        "                    rfm['recency'], rfm['T'], rfm['monetary_value'],\n",
        "                    time=26, discount_rate=0.01, freq='W'))\n",
        "\n",
        "rfm.sort_values(by='CLV', ascending=False)"
      ]
    },
    {
      "cell_type": "markdown",
      "id": "58f5f94d",
      "metadata": {
        "execution": {
          "iopub.execute_input": "2021-11-08T17:49:31.8285Z",
          "iopub.status.busy": "2021-11-08T17:49:31.828122Z",
          "iopub.status.idle": "2021-11-08T17:49:31.858126Z",
          "shell.execute_reply": "2021-11-08T17:49:31.857296Z",
          "shell.execute_reply.started": "2021-11-08T17:49:31.828466Z"
        },
        "papermill": {
          "duration": 0.136282,
          "end_time": "2021-11-09T00:08:56.802675",
          "exception": false,
          "start_time": "2021-11-09T00:08:56.666393",
          "status": "completed"
        },
        "tags": [],
        "id": "58f5f94d"
      },
      "source": [
        "Now that we have our final variable, we will move on to the last step of this case, the clustering of our consumers based on the profitability provided to the company. For this we can already eliminate our initial variables that we use to build the models."
      ]
    },
    {
      "cell_type": "code",
      "execution_count": 51,
      "id": "0be3d05f",
      "metadata": {
        "execution": {
          "iopub.execute_input": "2021-11-09T00:08:57.077366Z",
          "iopub.status.busy": "2021-11-09T00:08:57.076633Z",
          "iopub.status.idle": "2021-11-09T00:08:57.092025Z",
          "shell.execute_reply": "2021-11-09T00:08:57.091416Z",
          "shell.execute_reply.started": "2021-11-08T17:51:52.443296Z"
        },
        "papermill": {
          "duration": 0.154278,
          "end_time": "2021-11-09T00:08:57.092238",
          "exception": false,
          "start_time": "2021-11-09T00:08:56.937960",
          "status": "completed"
        },
        "tags": [],
        "id": "0be3d05f"
      },
      "outputs": [],
      "source": [
        "clusters = rfm.drop(rfm.iloc[:, 0:4], axis=1)"
      ]
    },
    {
      "cell_type": "markdown",
      "id": "73c7de20",
      "metadata": {
        "papermill": {
          "duration": 0.135246,
          "end_time": "2021-11-09T00:08:57.364940",
          "exception": false,
          "start_time": "2021-11-09T00:08:57.229694",
          "status": "completed"
        },
        "tags": [],
        "id": "73c7de20"
      },
      "source": [
        "## Clustering our forecasts\n",
        "\n",
        "We have four variables to be able to carry out our segmentation, for this we will use an unsupervised Machine Learning method already known to many, K-Means. To make use of it, it is necessary to normalize our variables, since as this is a model that works with the distances of the data, the dimensions and magnitudes play a very important role in its implementation."
      ]
    },
    {
      "cell_type": "code",
      "execution_count": 52,
      "id": "b0f73233",
      "metadata": {
        "execution": {
          "iopub.execute_input": "2021-11-09T00:08:57.644721Z",
          "iopub.status.busy": "2021-11-09T00:08:57.643992Z",
          "iopub.status.idle": "2021-11-09T00:08:57.792225Z",
          "shell.execute_reply": "2021-11-09T00:08:57.791498Z",
          "shell.execute_reply.started": "2021-11-08T17:55:22.298815Z"
        },
        "papermill": {
          "duration": 0.291313,
          "end_time": "2021-11-09T00:08:57.792378",
          "exception": false,
          "start_time": "2021-11-09T00:08:57.501065",
          "status": "completed"
        },
        "tags": [],
        "colab": {
          "base_uri": "https://localhost:8080/"
        },
        "id": "b0f73233",
        "outputId": "64d92b65-120b-4d58-822c-cdaa36416c64"
      },
      "outputs": [
        {
          "output_type": "execute_result",
          "data": {
            "text/plain": [
              "array([[-0.19157179, -0.17245921, -0.17677225,  8.08474315,  3.06285977],\n",
              "       [ 0.72966543,  0.71646476,  0.71368073,  0.23706997,  0.25634913],\n",
              "       [ 0.04726749,  0.04977179,  0.04013296,  0.10955318, -0.02457064],\n",
              "       ...,\n",
              "       [-0.70337024, -0.71948934, -0.71332725, -0.27169285, -0.2050687 ],\n",
              "       [-0.63513044, -0.63401588, -0.64483087,  0.26117913, -0.17113414],\n",
              "       [ 0.0131476 ,  0.0155824 ,  0.0287169 ,  0.23411571,  0.03654227]])"
            ]
          },
          "metadata": {},
          "execution_count": 52
        }
      ],
      "source": [
        "from sklearn.preprocessing import StandardScaler\n",
        "\n",
        "scaler = StandardScaler()\n",
        "scaled = scaler.fit_transform(clusters)\n",
        "scaled"
      ]
    },
    {
      "cell_type": "markdown",
      "id": "0dae49f3",
      "metadata": {
        "papermill": {
          "duration": 0.136194,
          "end_time": "2021-11-09T00:08:58.065547",
          "exception": false,
          "start_time": "2021-11-09T00:08:57.929353",
          "status": "completed"
        },
        "tags": [],
        "id": "0dae49f3"
      },
      "source": [
        "When choosing the number of clusters to create, it is advisable to discuss it with the department involved and set a number that responds to the nature of the business and the needs of the problem. But in our case we will use the famous \"Elbow Method\" that will indicate the number of clusters that reduces the inertia (closeness of the points to their centroid) to a relevant point."
      ]
    },
    {
      "cell_type": "code",
      "execution_count": 53,
      "id": "041f4af8",
      "metadata": {
        "execution": {
          "iopub.execute_input": "2021-11-09T00:08:58.343325Z",
          "iopub.status.busy": "2021-11-09T00:08:58.342537Z",
          "iopub.status.idle": "2021-11-09T00:09:06.391184Z",
          "shell.execute_reply": "2021-11-09T00:09:06.391956Z",
          "shell.execute_reply.started": "2021-11-08T17:58:57.176235Z"
        },
        "papermill": {
          "duration": 8.187479,
          "end_time": "2021-11-09T00:09:06.392206",
          "exception": false,
          "start_time": "2021-11-09T00:08:58.204727",
          "status": "completed"
        },
        "tags": [],
        "colab": {
          "base_uri": "https://localhost:8080/",
          "height": 295
        },
        "id": "041f4af8",
        "outputId": "6d01f362-45ed-454b-8e6a-e5ffbcccfbbd"
      },
      "outputs": [
        {
          "output_type": "display_data",
          "data": {
            "text/plain": [
              "<Figure size 432x288 with 1 Axes>"
            ],
            "image/png": "[encoded data removed]"
          },
          "metadata": {
            "needs_background": "light"
          }
        }
      ],
      "source": [
        "from sklearn.cluster import KMeans\n",
        "\n",
        "wcss = []\n",
        "for i in range(1, 6):\n",
        "    kmeans = KMeans(n_clusters=i, max_iter=1000, random_state=0)\n",
        "    kmeans.fit(scaled)\n",
        "    wcss.append(kmeans.inertia_)\n",
        "plt.plot(range(1, 6), wcss)\n",
        "plt.title('Elbow Method')\n",
        "plt.xlabel('Number of clusters')\n",
        "plt.ylabel('WCSS')\n",
        "plt.show()"
      ]
    },
    {
      "cell_type": "markdown",
      "id": "6281440a",
      "metadata": {
        "papermill": {
          "duration": 0.173751,
          "end_time": "2021-11-09T00:09:06.736376",
          "exception": false,
          "start_time": "2021-11-09T00:09:06.562625",
          "status": "completed"
        },
        "tags": [],
        "id": "6281440a"
      },
      "source": [
        "I consider that the number three is the most appropriate for our segmentation, due to being a symbolically very powerful number in time and of course this is the result of our graph. With this number of clusters we can now train our model with the scaled database and attach the created labels to our initial table."
      ]
    },
    {
      "cell_type": "code",
      "execution_count": 54,
      "id": "aea027d6",
      "metadata": {
        "execution": {
          "iopub.execute_input": "2021-11-09T00:09:07.091712Z",
          "iopub.status.busy": "2021-11-09T00:09:07.090909Z",
          "iopub.status.idle": "2021-11-09T00:09:08.632586Z",
          "shell.execute_reply": "2021-11-09T00:09:08.633271Z",
          "shell.execute_reply.started": "2021-11-08T18:02:30.489678Z"
        },
        "papermill": {
          "duration": 1.72265,
          "end_time": "2021-11-09T00:09:08.633482",
          "exception": false,
          "start_time": "2021-11-09T00:09:06.910832",
          "status": "completed"
        },
        "tags": [],
        "id": "aea027d6"
      },
      "outputs": [],
      "source": [
        "model = KMeans(n_clusters = 3, max_iter = 1000)\n",
        "model.fit(scaled)\n",
        "labels = model.labels_"
      ]
    },
    {
      "cell_type": "code",
      "execution_count": 55,
      "id": "933cc044",
      "metadata": {
        "execution": {
          "iopub.execute_input": "2021-11-09T00:09:08.985090Z",
          "iopub.status.busy": "2021-11-09T00:09:08.984073Z",
          "iopub.status.idle": "2021-11-09T00:09:08.997834Z",
          "shell.execute_reply": "2021-11-09T00:09:08.997200Z",
          "shell.execute_reply.started": "2021-11-08T18:03:49.015865Z"
        },
        "papermill": {
          "duration": 0.191504,
          "end_time": "2021-11-09T00:09:08.998013",
          "exception": false,
          "start_time": "2021-11-09T00:09:08.806509",
          "status": "completed"
        },
        "tags": [],
        "colab": {
          "base_uri": "https://localhost:8080/"
        },
        "id": "933cc044",
        "outputId": "a47de6af-12b6-4bbc-f605-55867a4b8bc5"
      },
      "outputs": [
        {
          "output_type": "execute_result",
          "data": {
            "text/plain": [
              "1    5258\n",
              "0     613\n",
              "2       7\n",
              "Name: cluster, dtype: int64"
            ]
          },
          "metadata": {},
          "execution_count": 55
        }
      ],
      "source": [
        "clusters['cluster'] = labels\n",
        "clusters['cluster'].value_counts()"
      ]
    },
    {
      "cell_type": "markdown",
      "id": "51574621",
      "metadata": {
        "papermill": {
          "duration": 0.180038,
          "end_time": "2021-11-09T00:09:09.352583",
          "exception": false,
          "start_time": "2021-11-09T00:09:09.172545",
          "status": "completed"
        },
        "tags": [],
        "id": "51574621"
      },
      "source": [
        "At first glance, we see that our cluster \"0\" makes a clear reference to the entire group of sporadic shopping users that represented the vast majority of our e-commerce. We can get a better visualization of these new segments by using PCA to reduce our variables to two and be able to translate them into a scatter plot."
      ]
    },
    {
      "cell_type": "code",
      "execution_count": 56,
      "id": "3264dfc8",
      "metadata": {
        "execution": {
          "iopub.execute_input": "2021-11-09T00:09:09.721699Z",
          "iopub.status.busy": "2021-11-09T00:09:09.720814Z",
          "iopub.status.idle": "2021-11-09T00:09:09.937156Z",
          "shell.execute_reply": "2021-11-09T00:09:09.938353Z",
          "shell.execute_reply.started": "2021-11-08T18:06:44.118295Z"
        },
        "papermill": {
          "duration": 0.4076,
          "end_time": "2021-11-09T00:09:09.938667",
          "exception": false,
          "start_time": "2021-11-09T00:09:09.531067",
          "status": "completed"
        },
        "tags": [],
        "colab": {
          "base_uri": "https://localhost:8080/",
          "height": 455
        },
        "id": "3264dfc8",
        "outputId": "e8049f8a-f217-45bf-9b96-01aa3d200a97"
      },
      "outputs": [
        {
          "output_type": "execute_result",
          "data": {
            "text/plain": [
              "                     PC1          PC2  label\n",
              "CustomerID                                  \n",
              "12346       40294.633268  7447.670073      1\n",
              "12347        3348.250373   115.025353      1\n",
              "12348        -313.627421   141.930465      1\n",
              "12349         546.987677   596.006637      1\n",
              "12350       -2446.257024  -198.182502      1\n",
              "...                  ...          ...    ...\n",
              "18283        -235.257778  -145.981338      0\n",
              "18284       -2568.118436  -192.368996      1\n",
              "18285       -2682.987799  -186.889051      1\n",
              "18286       -2212.094564   408.228143      1\n",
              "18287         488.339700   248.035966      1\n",
              "\n",
              "[5878 rows x 3 columns]"
            ],
            "text/html": [
              "\n",
              "  <div id=\"df-f21d9f1c-a176-4995-b2ce-5fa11bd576b9\">\n",
              "    <div class=\"colab-df-container\">\n",
              "      <div>\n",
              "<style scoped>\n",
              "    .dataframe tbody tr th:only-of-type {\n",
              "        vertical-align: middle;\n",
              "    }\n",
              "\n",
              "    .dataframe tbody tr th {\n",
              "        vertical-align: top;\n",
              "    }\n",
              "\n",
              "    .dataframe thead th {\n",
              "        text-align: right;\n",
              "    }\n",
              "</style>\n",
              "<table border=\"1\" class=\"dataframe\">\n",
              "  <thead>\n",
              "    <tr style=\"text-align: right;\">\n",
              "      <th></th>\n",
              "      <th>PC1</th>\n",
              "      <th>PC2</th>\n",
              "      <th>label</th>\n",
              "    </tr>\n",
              "    <tr>\n",
              "      <th>CustomerID</th>\n",
              "      <th></th>\n",
              "      <th></th>\n",
              "      <th></th>\n",
              "    </tr>\n",
              "  </thead>\n",
              "  <tbody>\n",
              "    <tr>\n",
              "      <th>12346</th>\n",
              "      <td>40294.633268</td>\n",
              "      <td>7447.670073</td>\n",
              "      <td>1</td>\n",
              "    </tr>\n",
              "    <tr>\n",
              "      <th>12347</th>\n",
              "      <td>3348.250373</td>\n",
              "      <td>115.025353</td>\n",
              "      <td>1</td>\n",
              "    </tr>\n",
              "    <tr>\n",
              "      <th>12348</th>\n",
              "      <td>-313.627421</td>\n",
              "      <td>141.930465</td>\n",
              "      <td>1</td>\n",
              "    </tr>\n",
              "    <tr>\n",
              "      <th>12349</th>\n",
              "      <td>546.987677</td>\n",
              "      <td>596.006637</td>\n",
              "      <td>1</td>\n",
              "    </tr>\n",
              "    <tr>\n",
              "      <th>12350</th>\n",
              "      <td>-2446.257024</td>\n",
              "      <td>-198.182502</td>\n",
              "      <td>1</td>\n",
              "    </tr>\n",
              "    <tr>\n",
              "      <th>...</th>\n",
              "      <td>...</td>\n",
              "      <td>...</td>\n",
              "      <td>...</td>\n",
              "    </tr>\n",
              "    <tr>\n",
              "      <th>18283</th>\n",
              "      <td>-235.257778</td>\n",
              "      <td>-145.981338</td>\n",
              "      <td>0</td>\n",
              "    </tr>\n",
              "    <tr>\n",
              "      <th>18284</th>\n",
              "      <td>-2568.118436</td>\n",
              "      <td>-192.368996</td>\n",
              "      <td>1</td>\n",
              "    </tr>\n",
              "    <tr>\n",
              "      <th>18285</th>\n",
              "      <td>-2682.987799</td>\n",
              "      <td>-186.889051</td>\n",
              "      <td>1</td>\n",
              "    </tr>\n",
              "    <tr>\n",
              "      <th>18286</th>\n",
              "      <td>-2212.094564</td>\n",
              "      <td>408.228143</td>\n",
              "      <td>1</td>\n",
              "    </tr>\n",
              "    <tr>\n",
              "      <th>18287</th>\n",
              "      <td>488.339700</td>\n",
              "      <td>248.035966</td>\n",
              "      <td>1</td>\n",
              "    </tr>\n",
              "  </tbody>\n",
              "</table>\n",
              "<p>5878 rows × 3 columns</p>\n",
              "</div>\n",
              "      <button class=\"colab-df-convert\" onclick=\"convertToInteractive('df-f21d9f1c-a176-4995-b2ce-5fa11bd576b9')\"\n",
              "              title=\"Convert this dataframe to an interactive table.\"\n",
              "              style=\"display:none;\">\n",
              "        \n",
              "  <svg xmlns=\"http://www.w3.org/2000/svg\" height=\"24px\"viewBox=\"0 0 24 24\"\n",
              "       width=\"24px\">\n",
              "    <path d=\"M0 0h24v24H0V0z\" fill=\"none\"/>\n",
              "    <path d=\"M18.56 5.44l.94 2.06.94-2.06 2.06-.94-2.06-.94-.94-2.06-.94 2.06-2.06.94zm-11 1L8.5 8.5l.94-2.06 2.06-.94-2.06-.94L8.5 2.5l-.94 2.06-2.06.94zm10 10l.94 2.06.94-2.06 2.06-.94-2.06-.94-.94-2.06-.94 2.06-2.06.94z\"/><path d=\"M17.41 7.96l-1.37-1.37c-.4-.4-.92-.59-1.43-.59-.52 0-1.04.2-1.43.59L10.3 9.45l-7.72 7.72c-.78.78-.78 2.05 0 2.83L4 21.41c.39.39.9.59 1.41.59.51 0 1.02-.2 1.41-.59l7.78-7.78 2.81-2.81c.8-.78.8-2.07 0-2.86zM5.41 20L4 18.59l7.72-7.72 1.47 1.35L5.41 20z\"/>\n",
              "  </svg>\n",
              "      </button>\n",
              "      \n",
              "  <style>\n",
              "    .colab-df-container {\n",
              "      display:flex;\n",
              "      flex-wrap:wrap;\n",
              "      gap: 12px;\n",
              "    }\n",
              "\n",
              "    .colab-df-convert {\n",
              "      background-color: #E8F0FE;\n",
              "      border: none;\n",
              "      border-radius: 50%;\n",
              "      cursor: pointer;\n",
              "      display: none;\n",
              "      fill: #1967D2;\n",
              "      height: 32px;\n",
              "      padding: 0 0 0 0;\n",
              "      width: 32px;\n",
              "    }\n",
              "\n",
              "    .colab-df-convert:hover {\n",
              "      background-color: #E2EBFA;\n",
              "      box-shadow: 0px 1px 2px rgba(60, 64, 67, 0.3), 0px 1px 3px 1px rgba(60, 64, 67, 0.15);\n",
              "      fill: #174EA6;\n",
              "    }\n",
              "\n",
              "    [theme=dark] .colab-df-convert {\n",
              "      background-color: #3B4455;\n",
              "      fill: #D2E3FC;\n",
              "    }\n",
              "\n",
              "    [theme=dark] .colab-df-convert:hover {\n",
              "      background-color: #434B5C;\n",
              "      box-shadow: 0px 1px 3px 1px rgba(0, 0, 0, 0.15);\n",
              "      filter: drop-shadow(0px 1px 2px rgba(0, 0, 0, 0.3));\n",
              "      fill: #FFFFFF;\n",
              "    }\n",
              "  </style>\n",
              "\n",
              "      <script>\n",
              "        const buttonEl =\n",
              "          document.querySelector('#df-f21d9f1c-a176-4995-b2ce-5fa11bd576b9 button.colab-df-convert');\n",
              "        buttonEl.style.display =\n",
              "          google.colab.kernel.accessAllowed ? 'block' : 'none';\n",
              "\n",
              "        async function convertToInteractive(key) {\n",
              "          const element = document.querySelector('#df-f21d9f1c-a176-4995-b2ce-5fa11bd576b9');\n",
              "          const dataTable =\n",
              "            await google.colab.kernel.invokeFunction('convertToInteractive',\n",
              "                                                     [key], {});\n",
              "          if (!dataTable) return;\n",
              "\n",
              "          const docLinkHtml = 'Like what you see? Visit the ' +\n",
              "            '<a target=\"_blank\" href=https://colab.research.google.com/notebooks/data_table.ipynb>data table notebook</a>'\n",
              "            + ' to learn more about interactive tables.';\n",
              "          element.innerHTML = '';\n",
              "          dataTable['output_type'] = 'display_data';\n",
              "          await google.colab.output.renderOutput(dataTable, element);\n",
              "          const docLink = document.createElement('div');\n",
              "          docLink.innerHTML = docLinkHtml;\n",
              "          element.appendChild(docLink);\n",
              "        }\n",
              "      </script>\n",
              "    </div>\n",
              "  </div>\n",
              "  "
            ]
          },
          "metadata": {},
          "execution_count": 56
        }
      ],
      "source": [
        "from sklearn.decomposition import PCA\n",
        "\n",
        "features = [\"expected_4week\", \"expected_8week\", \"expected_12week\", \"avg_transaction\", \"CLV\"]\n",
        "\n",
        "pca = PCA(n_components=2)\n",
        "components = pca.fit_transform(clusters[features])\n",
        "npc = np.array(components)\n",
        "dfc = pd.DataFrame(npc, columns=['PC1','PC2'])\n",
        "dfc = dfc.set_index(clusters.index)\n",
        "dfc['label'] = clusters['cluster']\n",
        "dfc"
      ]
    },
    {
      "cell_type": "code",
      "execution_count": 57,
      "id": "e7c9130b",
      "metadata": {
        "execution": {
          "iopub.execute_input": "2021-11-09T00:09:10.250619Z",
          "iopub.status.busy": "2021-11-09T00:09:10.249861Z",
          "iopub.status.idle": "2021-11-09T00:09:11.023525Z",
          "shell.execute_reply": "2021-11-09T00:09:11.024068Z",
          "shell.execute_reply.started": "2021-11-08T18:06:53.350716Z"
        },
        "papermill": {
          "duration": 0.927241,
          "end_time": "2021-11-09T00:09:11.024263",
          "exception": false,
          "start_time": "2021-11-09T00:09:10.097022",
          "status": "completed"
        },
        "tags": [],
        "colab": {
          "base_uri": "https://localhost:8080/",
          "height": 542
        },
        "id": "e7c9130b",
        "outputId": "1be3f970-2039-4d2b-d69e-1558b83e46fc"
      },
      "outputs": [
        {
          "output_type": "display_data",
          "data": {
            "text/html": [
              "<html>\n",
              "<head><meta charset=\"utf-8\" /></head>\n",
              "<body>\n",
              "    <div>            <script src=\"https://cdnjs.cloudflare.com/ajax/libs/mathjax/2.7.5/MathJax.js?config=TeX-AMS-MML_SVG\"></script><script type=\"text/javascript\">if (window.MathJax) {MathJax.Hub.Config({SVG: {font: \"STIX-Web\"}});}</script>                <script type=\"text/javascript\">window.PlotlyConfig = {MathJaxConfig: 'local'};</script>\n",
              "        <script src=\"https://cdn.plot.ly/plotly-2.8.3.min.js\"></script>                <div id=\"1df1c5f1-9024-43ee-80a8-9917131a8a4a\" class=\"plotly-graph-div\" style=\"height:525px; width:100%;\"></div>            <script type=\"text/javascript\">                                    window.PLOTLYENV=window.PLOTLYENV || {};                                    if (document.getElementById(\"1df1c5f1-9024-43ee-80a8-9917131a8a4a\")) {                    Plotly.newPlot(                        \"1df1c5f1-9024-43ee-80a8-9917131a8a4a\",                        [{\"hovertemplate\":\"PC1=%{x}<br>PC2=%{y}<br>label=%{marker.color}<extra></extra>\",\"legendgroup\":\"\",\"marker\":{\"color\":[1,1,1,1,1,1,1,1,1,1,1,1,1,1,1,1,1,1,0,1,1,1,1,1,1,1,1,1,1,1,1,1,1,1,1,1,1,1,1,1,1,1,1,1,1,1,1,1,0,1,1,1,1,1,1,1,1,1,1,1,1,1,1,1,1,1,1,1,0,1,0,1,1,1,1,1,1,1,1,1,1,0,1,1,0,1,1,1,1,1,0,1,1,1,1,1,1,0,1,1,1,1,1,1,1,1,1,1,1,1,1,1,1,1,1,1,1,1,1,1,1,1,1,1,0,0,1,0,1,0,1,1,1,1,1,1,0,1,1,1,1,1,1,0,1,1,1,1,1,1,1,1,1,0,1,1,1,1,1,1,1,1,1,1,1,1,1,1,1,1,1,0,1,1,1,1,0,0,1,1,1,1,1,1,1,1,1,1,1,1,1,1,1,0,1,1,1,1,1,1,1,1,1,1,1,1,0,1,1,1,1,1,1,1,1,1,1,1,1,1,1,1,0,1,1,1,1,1,1,1,1,1,1,1,1,1,0,0,1,1,1,1,1,1,1,1,1,0,1,1,1,1,0,0,1,1,1,1,1,1,1,1,1,1,1,1,1,1,1,1,1,1,1,1,0,1,1,1,1,0,0,0,1,1,1,1,1,1,1,1,1,1,1,1,1,1,1,1,1,1,0,1,1,1,1,1,1,1,1,1,1,1,1,1,1,0,1,1,1,1,1,1,1,1,1,1,1,1,1,1,1,0,1,0,0,0,0,0,0,1,1,1,1,1,1,1,1,1,1,1,1,1,1,1,1,1,1,0,1,1,0,0,1,1,0,1,1,1,1,1,1,1,0,1,1,0,1,1,1,1,1,1,1,0,1,1,1,1,1,1,1,1,1,1,1,1,1,1,1,0,0,1,1,1,1,1,1,1,1,0,1,1,1,1,1,1,1,1,0,1,1,1,1,1,1,1,1,1,1,1,1,1,1,1,1,0,1,1,1,1,1,1,1,1,1,1,1,1,1,1,1,1,1,1,1,1,1,1,1,1,1,1,1,1,1,1,1,1,1,1,1,1,1,1,1,0,1,1,1,0,0,1,0,1,1,1,1,1,1,1,1,0,1,0,1,0,1,1,1,1,1,1,1,1,1,1,1,1,0,1,1,1,1,1,1,1,1,1,1,1,1,1,1,1,1,1,1,1,1,0,1,1,1,1,1,1,1,1,1,1,1,1,1,1,1,1,1,1,1,1,1,1,0,1,1,1,1,1,1,1,1,1,1,0,1,1,1,1,1,1,0,1,0,1,1,1,1,1,1,1,1,1,0,1,1,1,1,1,1,1,0,1,1,1,1,1,1,1,1,1,0,0,0,1,1,1,0,1,1,1,1,1,1,1,1,1,1,1,1,1,1,1,0,1,1,1,1,1,1,1,1,0,1,1,1,1,1,1,1,1,0,1,1,1,1,1,1,1,1,1,1,1,0,1,1,0,1,1,1,1,1,1,1,1,0,0,1,1,1,0,1,1,0,1,1,1,1,1,0,1,1,1,1,1,1,1,1,1,1,1,1,1,1,1,1,1,1,1,0,1,1,0,1,1,1,1,1,1,1,1,1,1,1,1,1,1,1,1,1,0,1,1,1,1,1,1,1,1,0,1,1,0,0,1,1,1,1,1,1,0,0,1,1,1,0,1,1,0,0,1,1,0,1,1,1,1,1,1,1,1,1,1,0,1,1,1,0,1,1,1,1,1,1,1,1,1,1,1,1,1,1,1,1,1,1,1,0,1,1,1,1,1,1,1,1,1,0,0,1,1,1,1,1,1,1,1,1,1,0,1,1,0,1,1,1,1,1,1,1,1,1,1,1,1,1,1,1,0,1,1,1,1,0,0,1,1,1,1,1,1,1,1,1,1,1,1,1,1,0,1,1,1,1,1,1,1,1,1,1,1,1,1,1,1,1,1,1,1,1,1,1,1,1,1,0,1,1,1,1,0,0,1,1,1,1,1,1,1,1,1,1,1,1,1,1,0,1,1,1,1,1,1,1,1,1,1,1,1,1,1,0,1,1,0,0,0,0,1,1,1,1,1,1,1,1,1,1,1,1,1,1,1,1,1,1,1,1,1,1,1,1,1,1,1,1,1,1,1,1,1,1,1,0,1,1,1,1,1,1,1,1,1,1,1,1,0,0,1,1,1,0,1,1,1,0,1,1,1,1,1,1,1,1,1,1,1,1,1,1,1,1,1,1,1,1,1,1,1,1,1,1,1,1,1,1,1,1,1,1,1,1,1,1,1,1,1,1,1,1,1,1,1,1,1,1,1,1,1,1,1,1,1,1,1,1,1,1,0,1,1,1,1,1,1,1,1,1,1,1,1,0,1,1,1,1,1,1,1,1,0,1,1,1,1,1,1,1,0,1,1,0,1,1,1,1,1,1,1,0,1,1,1,1,1,1,1,1,1,1,1,1,1,1,1,1,1,1,0,1,0,1,1,1,1,1,1,1,1,0,1,1,0,1,1,1,1,1,1,1,1,1,1,1,1,1,1,1,1,0,1,1,0,1,1,1,1,1,1,1,1,1,1,1,1,1,1,1,1,1,1,1,1,1,1,1,1,1,1,1,1,1,0,1,1,1,1,1,1,1,1,1,1,1,0,1,0,1,1,1,1,1,1,1,1,1,1,1,1,1,1,1,1,1,1,1,1,1,0,1,1,1,1,1,0,1,1,1,1,1,1,0,1,1,1,1,0,1,1,1,1,1,1,1,1,1,1,1,0,1,0,1,1,1,1,1,1,1,1,0,1,1,1,1,1,1,1,1,1,1,1,1,1,1,1,1,1,1,1,1,1,1,1,1,1,1,1,1,1,0,1,1,1,0,1,1,1,1,1,1,1,1,1,0,1,1,1,1,1,1,1,1,1,1,1,1,1,1,1,1,1,1,1,1,1,1,0,1,1,1,1,1,1,1,1,1,1,1,1,1,1,1,1,0,1,1,1,1,1,1,1,1,0,0,1,1,1,1,1,1,1,1,0,1,1,1,1,1,1,1,1,1,1,1,1,1,1,1,1,1,1,1,1,1,1,1,0,1,1,1,1,1,1,1,1,1,1,1,1,1,0,0,1,1,1,1,1,1,1,1,1,1,0,0,1,1,1,1,1,1,1,1,1,1,0,1,0,1,1,1,1,1,1,1,0,1,1,1,1,1,1,0,1,1,1,1,1,1,1,1,1,1,1,1,1,0,1,1,1,0,1,1,1,1,1,0,1,1,1,1,1,1,1,1,1,1,1,1,1,1,1,1,1,1,1,1,1,1,0,1,1,1,1,1,1,1,1,1,1,0,1,1,1,1,1,1,1,1,1,1,1,0,1,1,1,1,1,0,1,1,1,1,1,1,1,1,1,1,0,1,1,1,1,1,1,1,1,0,0,0,1,1,1,1,1,1,1,1,1,1,1,1,1,1,1,1,1,1,1,1,1,1,1,1,1,1,1,0,1,1,1,1,1,1,1,1,1,1,1,1,0,1,1,1,1,1,1,1,1,1,1,1,1,1,1,1,1,1,1,1,1,1,1,1,1,0,1,1,1,1,1,1,1,1,1,1,1,1,1,1,1,1,1,1,1,0,1,1,1,1,1,1,1,1,1,1,1,1,1,0,1,0,1,1,1,1,1,1,1,0,0,1,1,1,1,0,1,1,1,1,1,1,1,1,1,1,1,1,1,1,1,1,1,1,1,1,1,1,1,1,1,1,1,1,1,1,1,0,0,1,1,1,1,1,1,1,0,1,1,1,1,1,1,1,1,1,1,0,1,1,1,1,0,0,1,1,0,1,0,1,1,1,1,1,1,1,1,0,1,1,1,1,1,1,1,1,1,1,1,1,1,0,1,1,0,1,1,1,0,1,1,1,2,1,1,0,1,1,0,1,1,1,1,1,1,0,1,1,1,1,1,0,1,1,1,0,1,1,1,1,1,1,1,1,1,1,0,1,1,0,1,1,1,1,1,0,1,1,1,1,1,1,1,1,1,1,1,1,1,1,2,1,1,0,1,1,1,1,1,1,1,1,1,1,1,1,1,1,1,1,1,1,0,1,0,1,1,1,1,1,1,1,1,0,1,1,1,1,0,1,1,1,1,1,1,1,1,1,1,1,1,1,1,0,1,1,1,1,1,1,1,0,1,1,1,0,1,1,1,1,1,1,1,1,1,1,1,1,0,1,1,1,1,0,1,1,1,0,1,1,1,1,1,1,1,0,1,1,1,1,1,1,0,1,1,1,0,1,1,1,1,1,1,1,1,1,1,1,1,1,1,1,1,1,1,1,0,1,1,1,1,1,1,1,1,1,1,1,1,1,1,1,0,0,1,1,1,1,1,1,1,1,1,1,1,1,1,1,1,1,1,1,1,1,1,1,1,1,1,1,1,1,1,1,1,1,1,1,1,1,1,1,1,1,1,1,0,1,1,1,1,1,1,1,1,1,1,1,1,1,1,1,1,1,1,1,0,1,1,0,1,1,1,1,1,1,1,1,1,1,1,1,1,1,1,1,1,0,1,1,0,1,0,1,1,1,1,0,1,0,1,1,1,0,1,1,1,1,1,1,1,1,1,1,1,1,1,0,1,1,1,1,1,1,0,1,1,1,1,1,1,1,1,1,0,1,0,1,1,1,1,1,1,1,1,1,1,1,1,1,1,1,1,1,1,1,1,1,0,1,1,1,1,1,1,1,1,1,1,1,1,1,1,1,1,1,1,1,1,1,1,1,1,1,1,1,1,1,1,1,1,1,1,1,1,1,1,1,1,1,1,1,1,1,0,0,1,0,1,1,1,1,1,0,1,1,1,1,1,1,1,1,1,1,1,1,1,0,1,0,1,1,0,1,1,1,0,1,1,1,1,1,1,1,1,0,1,1,1,0,1,1,1,1,1,1,0,1,1,1,1,1,0,1,0,1,1,1,1,1,1,1,1,1,1,1,1,1,1,1,1,1,1,1,1,1,1,1,1,0,1,1,1,1,1,1,1,1,1,1,1,1,1,1,1,1,1,1,0,1,1,1,1,1,1,1,1,1,1,1,1,1,1,1,1,1,1,1,1,1,1,1,1,1,1,1,1,1,1,1,1,1,1,1,1,1,1,1,2,1,1,1,1,1,1,1,1,1,1,1,1,0,1,1,1,1,1,1,1,0,1,1,1,1,1,1,1,1,1,1,1,1,0,1,1,1,1,1,1,1,0,1,1,1,1,1,1,1,1,1,0,1,1,1,0,1,1,1,1,1,1,0,1,0,1,0,1,1,1,1,1,1,1,1,1,1,1,1,1,1,1,1,0,1,0,0,1,0,1,1,1,0,1,1,1,1,1,1,1,1,1,1,1,1,1,1,1,0,1,1,1,1,1,1,1,1,1,1,1,1,0,1,1,1,1,1,1,0,1,1,1,1,1,1,1,1,1,1,1,1,1,1,1,1,1,1,0,1,1,1,0,1,1,1,1,1,1,1,0,1,0,1,1,1,1,1,1,1,1,1,1,1,1,1,1,0,1,1,1,1,1,1,1,1,1,1,1,1,1,1,1,1,1,1,1,1,1,1,0,1,1,1,1,1,1,1,1,1,1,1,1,1,1,1,0,1,0,1,1,1,1,1,1,1,1,1,0,1,1,1,1,1,1,1,1,1,1,1,1,1,1,1,1,0,1,1,1,1,1,0,1,1,1,1,1,1,1,1,0,2,1,1,1,1,1,1,1,1,1,1,1,1,1,1,1,1,1,1,1,1,1,1,1,1,1,1,1,1,1,1,1,1,1,0,1,1,1,0,1,1,1,1,1,1,1,1,0,1,1,1,1,1,1,1,1,1,1,1,1,1,1,1,1,1,1,1,1,1,1,1,1,1,1,1,1,1,1,1,1,1,1,1,1,1,1,1,1,1,1,1,0,1,1,1,0,1,1,1,1,1,1,1,1,1,1,1,1,1,0,0,1,1,1,1,1,1,1,1,0,0,1,1,1,1,0,1,1,1,1,0,1,0,1,1,1,1,1,1,1,1,1,1,1,1,0,1,0,1,1,1,1,1,1,1,1,1,1,1,1,1,1,1,1,0,1,1,0,1,1,1,1,1,1,1,0,1,1,1,0,1,1,1,1,1,1,1,1,1,1,1,1,1,1,1,1,1,1,1,0,0,1,1,1,1,1,1,1,1,1,1,0,1,1,1,0,1,1,1,1,0,1,1,1,1,1,1,1,1,1,0,1,1,1,1,1,1,1,1,1,1,1,0,1,1,0,1,1,1,1,1,1,1,1,1,1,1,1,1,1,1,1,1,1,1,1,1,1,1,1,1,1,1,0,1,0,1,1,1,1,0,1,1,1,1,1,1,1,1,1,1,1,1,1,1,1,1,1,1,1,0,1,1,1,0,1,1,1,1,1,1,1,1,1,1,1,1,1,1,1,1,1,1,1,1,1,1,1,1,1,1,1,1,1,1,0,1,0,1,1,1,1,1,1,1,1,0,1,1,1,1,1,1,1,1,1,1,0,1,1,1,1,1,1,1,1,1,0,1,1,1,1,1,1,1,1,0,0,1,1,1,1,1,0,0,1,1,0,1,1,1,1,1,1,1,1,1,0,1,1,1,1,1,1,1,1,1,1,1,1,1,1,1,1,1,1,1,1,1,1,1,1,1,1,1,1,1,1,1,1,1,1,1,1,1,1,1,1,1,1,1,1,0,0,1,1,1,1,1,1,1,1,1,1,1,1,1,1,0,1,1,1,1,1,1,1,1,1,1,1,1,1,1,1,1,1,1,1,1,1,1,1,1,1,1,1,1,1,1,1,1,1,1,1,1,1,1,1,1,1,1,1,1,1,1,1,1,1,1,1,1,1,1,1,1,1,1,1,1,1,1,1,1,1,1,1,1,1,1,1,1,1,1,1,1,1,1,0,1,1,1,1,1,1,1,1,1,1,1,0,1,1,1,1,1,1,1,1,1,1,1,1,1,1,1,1,0,1,1,1,1,1,1,1,1,1,1,1,1,1,1,1,0,1,0,1,1,1,1,0,1,1,1,1,1,0,1,0,1,1,1,1,1,1,1,1,1,0,1,1,1,0,1,0,1,1,1,1,1,1,1,1,1,1,1,1,1,1,0,1,1,0,1,1,1,1,1,1,1,0,1,1,1,1,1,1,1,1,1,1,1,1,1,1,0,1,1,1,1,1,1,1,1,1,1,0,1,1,1,1,1,1,1,1,1,1,1,1,1,1,1,1,1,1,1,0,0,1,1,1,0,1,1,1,1,0,1,1,1,0,1,1,1,1,1,0,1,1,1,1,1,1,0,1,1,1,0,1,1,1,1,1,1,1,0,1,1,1,1,1,1,1,1,1,1,1,1,1,1,1,1,1,1,1,1,1,1,1,1,1,1,1,1,1,1,0,1,1,1,1,1,1,1,1,1,1,1,1,1,1,1,0,1,1,1,1,1,1,0,1,1,1,1,1,1,1,1,1,1,1,1,0,1,1,1,1,1,1,1,1,1,1,1,0,1,1,1,1,1,1,1,1,1,1,1,1,1,1,1,1,1,1,0,1,1,1,1,1,1,1,1,1,1,1,0,1,1,1,1,0,1,1,1,1,1,1,1,1,1,1,1,0,0,1,1,1,1,1,1,1,1,1,1,1,1,1,1,1,1,1,1,1,1,1,1,1,1,1,1,0,1,1,1,1,1,1,1,0,0,1,1,1,1,1,1,1,1,1,1,1,1,1,1,1,1,1,1,1,1,1,0,1,1,1,1,1,1,1,1,1,1,0,1,1,1,1,1,1,1,1,1,1,1,1,1,1,0,1,0,1,1,1,0,1,1,1,1,1,1,0,1,1,1,1,1,1,0,1,1,1,1,1,1,1,1,1,1,1,1,1,1,1,1,1,1,1,1,1,1,0,1,1,1,1,1,1,1,1,1,1,1,0,1,1,1,1,1,1,1,1,1,1,1,1,1,1,1,1,1,1,1,1,1,0,1,1,1,1,1,1,0,1,1,1,1,1,1,1,1,1,1,1,1,1,0,1,0,1,1,1,1,1,1,1,1,1,1,1,1,1,1,1,0,1,1,1,1,1,1,1,1,1,0,1,1,0,1,1,1,1,1,1,1,1,0,1,1,1,1,1,1,1,1,1,1,1,1,1,0,1,1,0,1,0,1,0,0,1,1,0,1,1,1,1,1,1,1,1,1,0,1,1,1,0,1,1,1,1,1,1,1,1,1,1,1,1,1,1,1,1,1,1,1,1,1,1,1,1,1,1,1,1,1,1,1,1,0,1,1,1,1,1,1,1,1,1,0,1,1,0,1,1,1,1,1,1,1,1,1,1,1,1,1,1,1,1,1,1,1,1,1,1,1,0,1,1,1,0,1,1,1,1,1,1,1,1,1,1,1,1,1,1,1,1,1,1,0,1,1,1,1,1,1,0,1,1,1,1,1,1,1,1,1,1,1,0,1,1,1,1,1,1,1,1,0,1,1,1,1,0,1,1,0,1,1,1,0,0,0,1,1,0,1,1,1,1,1,1,1,1,1,1,0,1,0,0,1,1,1,0,1,1,1,1,1,1,1,1,1,1,1,1,1,1,1,1,1,1,0,1,1,1,1,1,1,1,1,1,1,1,1,1,1,1,1,1,1,1,1,1,1,1,1,1,1,1,1,1,0,1,1,1,1,1,1,1,1,1,1,1,1,1,0,1,1,1,1,1,1,1,1,1,0,1,1,1,1,1,1,1,1,1,1,1,1,1,1,1,1,1,1,1,1,1,1,1,1,1,1,1,1,1,0,1,1,1,1,1,1,1,1,1,1,1,1,1,1,1,1,1,1,1,1,0,1,1,1,1,1,1,1,1,1,0,1,1,1,1,1,1,0,1,1,1,1,1,1,1,1,1,1,1,1,1,1,1,1,1,1,1,0,1,1,1,1,1,0,0,0,1,1,1,1,1,1,1,1,1,1,1,1,1,1,1,1,1,0,1,1,1,1,1,1,1,1,1,1,1,1,1,0,1,1,1,1,1,1,1,0,1,1,1,1,1,0,1,1,1,1,1,1,1,1,1,1,1,1,1,1,0,1,1,1,0,1,1,1,1,1,1,1,1,1,1,1,0,1,1,1,1,1,0,1,2,1,1,1,1,1,1,1,1,1,1,1,0,1,1,1,1,1,1,1,0,1,1,1,1,1,1,1,0,1,1,0,1,1,1,1,1,1,1,1,1,1,1,1,1,1,1,1,1,1,1,0,1,1,1,1,1,1,1,1,1,1,1,1,1,1,0,1,1,1,1,1,1,1,1,0,1,0,1,1,1,1,1,0,1,1,1,1,1,1,1,1,1,1,1,1,1,1,1,1,1,0,0,1,1,1,1,1,0,1,0,1,1,1,1,1,1,1,1,1,1,1,0,1,1,1,1,1,1,1,1,1,1,1,1,1,1,1,1,1,1,1,0,1,1,1,1,1,1,1,1,1,1,1,1,1,1,0,1,0,1,1,1,1,1,1,1,1,1,1,1,1,1,1,1,1,0,1,1,1,1,1,1,1,1,1,1,1,0,1,1,1,1,1,1,1,1,1,1,1,1,1,1,1,1,1,0,1,1,1,1,1,1,1,1,1,1,1,1,1,0,1,0,1,1,1,1,1,0,1,1,1,1,1,0,1,1,1,0,1,1,1,1,1,1,1,1,1,1,1,0,0,1,1,0,1,1,1,1,0,1,0,0,1,1,1,1,1,1,1,1,0,1,1,1,1,1,1,0,1,1,1,1,1,1,1,1,1,1,1,1,1,0,0,0,0,1,1,1,1,1,1,1,1,1,1,1,1,1,1,1,1,1,0,1,1,1,1,1,1,1,1,1,1,0,1,1,1,0,1,1,0,1,1,1,1,1,1,1,0,1,1,1,1,1,1,1,1,1,1,1,1,1,1,1,1,1,1,1,1,1,1,0,0,1,1,0,0,1,1,1,1,1,1,1,1,1,1,1,1,1,1,1,1,1,1,0,1,0,1,1,1,0,1,1,1,1,1,1,1,0,1,1,1,1,1,1,1,1,1,1,1,1,1,1,1,1,1,1,1,1,1,1,1,1,0,1,1,1,1,1,1,1,1,1,1,1,1,1,1,1,1,1,1,1,1,1,0,1,1,1,0,1,1,1,1,1,0,1,1,1,1,1,1,1,1,1,1,1,1,0,1,1,1,1,0,0,1,0,1,1,1,1,1,1,1,1,1,1,0,1,1,0,1,1,1,1,1,1,1,1,0,1,1,1,1,1,1,1,1,1,1,1,0,1,1,1,1,1,1,1,1,1,1,1,1,1,1,1,0,1,0,1,1,1,0,1,1,1,1,1,1,1,1,1,0,1,1,1,1,1,1,1,1,1,1,1,0,1,1,0,1,1,1,1,1,1,1,1,1,1,1,1,1,1,1,1,1,1,1,1,1,1,1,1,1,1,1,1,1,1,1,0,1,1,1,1,1,1,1,1,1,1,1,0,1,1,1,1,1,1,0,1,1,1,1,0,1,1,1,1,1,1,1,1,1,1,1,0,0,1,1,1,0,0,1,1,1,1,1,1,1,1,1,1,1,1,1,1,1,1,1,1,1,1,1,1,1,1,1,1,1,1,1,1,1,1,1,1,1,1,1,1,0,1,1,1,1,1,1,1,0,1,1,1,1,1,1,1,1,1,1,1,1,1,1,1,1,1,0,1,1,0,1,1,1,1,1,1,1,1,1,1,1,1,0,1,1,1,1,1,1,1,1,1,0,1,1,1,1,1,1,1,1,1,1,1,1,1,1,1,1,1,1,1,1,1,1,1,1,1,1,1,1,1,1,1,1,1,1,0,1,1,1,1,1,1,1,1,1,1,1,1,0,1,1,1,1,1,1,0,1,1,1,1,0,1,1,1,1,1,1,1,1,1,1,1,1,1,1,1,1,1,1,1,1,1,1,1,1,1,1,1,1,1,1,1,1,1,1,1,1,1,1,1,1,1,1,1,0,1,1,1,1,1,0,1,1,1,1,1,1,1,1,1,1,1,1,0,1,1,1,1,1,1,1,0,0,1,1,1,1,1,1,1,1,1,1,1,1,1,1,1,1,1,1,1,1,1,1,0,1,0,1,1,1,1,1,0,1,1,1,1,1,1,1,1,1,1,1,1,1,1,1,1,1,0,1,1,1,1,1,1,1,0,1,1,1,1,0,1,1,1,0,1,1,1,1,1,1,1,0,1,1,1,1,1,1,1,1,1,1,1,0,1,0,1,1,1,1,1,1,1,0,1,1,1,0,1,1,0,1,1,1,1,1,1,1,0,1,1,1,1,1,0,1,1,1,1,1,1,1,1,1,1,1,1,1,1,2,0,1,1,1,1,1,1,1,1,1,1,1,1,1,1,1,1,1,1,1,1,1,1,1,1,1,1,1,1,0,1,1,1,1,1,1,1,1,0,1,1,1,1,1,1,1,1,0,1,0,1,1,1,1,1,1,1,1,0,0,1,1,1,1,1,1,1,1,1,1,1,1,1,1,1,0,1,1,1,1,1,1,1,1,1,1,1,1,1,1,1,1,1,1,1,1,1,1,1,1,0,1,1,1,1,1,1,1,0,1,1,1,1,1,1,1,1,1,1,1,1,1,0,1,1,1,1,0,1,1,1,1,1,1,1,0,0,1,1,1,1,1,1,1,1,1,1,1,1,1,1,1,1,1,1,1,1,0,0,0,1,1,1,1,1,1,1,1,1,1,1,1,1,1,1,0,1,1,1,0,1,1,1,1,1,1,1,1,0,1,1,1,1,1,0,0,1,1,1,0,1,1,0,1,1,0,1,1,1,1,1,1,1,1,1,1,1,0,1,0,1,1,1,1,1,1,1,1,1,1,1,1,0,1,1,1,1,1,0,1,1,1,1,1,1,1,1,1,0,1,1,1,1,1,1,1,1,1,0,1,1,0,1,1,1,1,1,0,1,1,1,1,0,1,1,1,1,0,1,1,1,0,1,1,1,1,1,1,1,1,1,1,0,1,1,1,1,1,0,1,1,1,1,1,1,1,1,1,1,1,0,1,1,1,1,1,1,1,1,1,1,1,1,1,1,1,1,1,1,1,1,0,1,1,1,1,1,1,1,1,0,1,1,1,1,1,1,1,1,1,0,1,0,1,0,1,1,1,1,1,1,1,1,1,1,1,1,1,1,1,1,1,1,1,1,1,0,1,0,1,1,1,0,1,1,1,1,1,1,0,1,1,1,1,1,1,1,1,0,0,1,1,0,1,1,1,0,1,1,1,1,0,1,1,1,1,1,1,1,1,1,1,1,1,1,1,1,1,1,0,1,1,1,1,1,0,1,1,1,1,1,1,1,1,1,1,1,1,1,1,1,1,1,1,1,1,1,1,1,1,1,0,1,1,1,1,1,1,1,1,1,1,1,1,1,1,1,1,1,1,1,1,1,1,1,1,1,1,1,0,1,1,1,1,0,1,1,1,1,1,1,0,1,1,1,0,1,1,1,1,1,1,1,1,1,0,1,1,1,1,1,1,1,1,1,1,1,1,1,1,1,1,1,1,1,1,1,0,1,1,1,1,1,1,1,1,1,1,0,1,1,1,1,1,1,1,1,1,1,1,1,1,1,1,1,1,1,1,1,1,1,1,1,1,1,1,1,1,1,1,0,1,1,0,1,1,1,1,1,1,1,1,1,1,0,1,1,1,1,1,0,1,1,1,0,1,1,1,1,1,1,1,1,1,0,1,0,1,1,1,1,1,1,1,1,1,1,1,1,1,1,0,1,1,1,1,1,1,1,1,1,2,1,1,1,1,1,1,0,1,1,1,1,1,1,0,1,0,1,1,1,0,1,1,1,1,1,1,1,0,1,1,1,1,1,1,1,1,1,1,1,1,1,0,1,1,1,1,1,1,1,1,1,1,1,1,1,1,1,1,1,1,1,1,1,1,1,1,1,1,1,0,1,1,1,1,1,1,1,0,1,1,1,1,1,1,1,1,1,1,1,1,1,1,1,1,1,0,1,1,1,1,1,1,1,1,1,1,1,1,1,1,1,1,1,1,1,1,0,1,1,1,0,1,0,0,1,1,0,1,1,1,1,1,1,1,0,1,1,1,0,1,1,1,0,1,1,1,1,1,1,1,1,1,1,1,1,1,1,1,1,1,1,1,1,1,1,1,1,1,1,1,1,1,1,1,1,1,1,1,1,1,0,1,1,1,1],\"coloraxis\":\"coloraxis\",\"symbol\":\"circle\"},\"mode\":\"markers\",\"name\":\"\",\"showlegend\":false,\"x\":[40294.633267952966,3348.2503732192768,-313.62742050660665,546.987676774988,-2446.2570240371983,-2522.170690446554,1329.9894464365175,-2410.1726678825576,-2323.396748076375,-2229.7688471267265,4409.402162388039,4769.872692435091,-705.9494430756175,3897.082173010009,1048.8278288268395,-2334.5576014817057,1577.022473209197,-1876.969750303312,561.528766067073,-2427.2786075398885,-2672.999158724211,-712.2290658506921,-2672.999158724211,-1721.7700275842385,546.8656443090815,360.3715639664882,-907.198058938915,-2133.0712892090396,-1142.9614206842898,-988.5773566515314,-2629.3508506309186,-904.8376176292991,787.2913983704942,-1278.743941040489,3227.304165050772,98.72982587594302,-911.116358073332,-1041.9971774940493,-2522.170690446554,-2501.8133098534504,-2552.1366114253783,844.9398364315433,-1812.3914449616348,-1716.087417536895,-882.9481647491647,-2656.0184704677936,125.69046028669814,-619.5594441283806,952.5534911592359,-2687.9821194767837,1045.6048890093666,-1361.4906862873206,-1046.042016065492,-2552.1366114253783,-2437.2672476907233,-1966.9958232198794,-2167.5766303827345,-2692.976439552201,-2094.6568851484717,1857.950442085714,434.5434462216566,2123.5222567482188,13655.813501723853,-2019.5708672629937,-2546.1434273348773,-555.8155134462212,-1449.3728550381463,-1941.117325525754,153712.31355530635,-2682.9877994013673,2736.314237688796,-1144.8989784552368,-2549.8965835373656,-1595.2248696062386,-1370.024412645813,1574.146193911669,369.6210691835862,102.8261445911427,-1717.9646147242556,-2221.9116180819233,-1708.171648214717,3060.613716030825,2373.4823210296586,-1361.4906862873206,5449.844619269357,1925.767885966182,17031.57168738973,-1389.0983590426079,7460.70458874167,-1860.922702039649,7418.785542894056,2951.535389817415,-2798.02163690749,-2523.3563778894763,-2509.185457829371,-510.4585315407642,-2707.9594001995497,5878.963386675858,-2336.2248895031416,-1526.3032517235656,-2349.367213100367,-1361.4906862873206,2630.1479231886346,-1912.68188167153,8558.305857724814,-882.0359510467565,-2038.7204993563803,11804.668485160393,834.6546275385618,1702.8075111874184,413.8891982815459,-1001.3629792382501,-2662.0116545582937,-2583.1013962085603,-1604.508985195519,-1737.0709986234772,-282.92007761980335,-600.6773379782953,-1378.4127906045007,-2692.976439552201,-2558.1297955158784,-52.40134969571541,-2359.4142246594893,-2694.974167582368,29569.81418043371,9740.4325909447,5295.482966637045,8434.526485513492,-1670.2697026651938,12113.665278992825,14376.093818830577,-510.4585315407642,-882.0359510467565,3021.3608713764856,5975.145218121676,-2203.5402651536597,1640.9109066069095,2329.3865827651084,-2629.04914153422,-2568.1184356667127,-2705.9616721693833,1374.8071086865198,-2479.219536850548,4910.340254795738,-1264.6008753504893,-2116.7557702479576,-1944.0941663991223,-1056.8079699199563,-2675.995751085058,-2670.0025666789606,1514.7156457029153,-695.5550120902961,-2643.033238271709,2220.0147619008453,-2479.219536850548,2484.5532485749804,-2652.0230144074594,-1968.1186693274635,-2546.1434273348773,-2323.396748076375,-1370.0275859230292,-1154.7258315857503,-2417.289966967957,1067.4041935067826,-2563.1241155912953,-1595.2248696062386,-1939.832960389382,-1906.161372601048,-2494.20249760312,-807.9637488921744,1874.3104541503585,4003.847076151316,-2208.7810068536887,592.9213967125968,-2067.687556214898,-861.6007978101818,919.663307938537,6783.935708377064,-2533.030648906257,1211.7906163995874,-2075.498061824055,41.673743458483166,-2625.053685473886,482.62168928220945,-2548.173718608547,-1154.7258315857503,-2576.872148217828,-2038.7204993563803,-1484.2781699380175,29591.787490826064,-2546.1434273348773,-2011.2356956302272,2284.582557241947,15418.784699310885,-1170.4937282066076,-2626.2738137126985,-2578.107076133143,-1264.6008753504893,-1708.3878582551456,-265.3534509747659,-2330.3791634786385,-2165.576231377537,-2413.7120092585847,-1716.087417536895,-2502.193409723787,-651.4524199351001,2956.4240020094267,-2578.107076133143,-2692.976439552201,-1343.6950958194873,10513.206945857073,-712.2290658506921,-2529.348653241067,404.41771604631333,-2437.2672476907233,3329.3850674265314,-2546.1434273348773,-2374.338813793049,-2417.289966967957,-1769.0272111782344,7407.218354766931,-2677.993479115225,5433.793914556025,-2692.976439552201,-1118.4054668730366,811.4298981420852,-1971.3732676404795,-2455.246800488546,-2527.5762731260443,-607.3108460353998,-1527.9355202661718,1821.7213675470277,-1716.087417536895,-2279.7276870636956,-1361.4906862873206,-1584.6845395296982,7953.205541688356,1188.767822080858,-1617.078395115594,-1348.10295848564,-712.2290658506921,-2018.1379854880433,648.888744370155,-2278.4478668713004,-2062.709942722706,-2101.048204548527,-1819.361997320054,1943.9756687300176,-2614.0661813079682,-1679.9759421464464,3571.781514341932,940.4750023364791,-707.0848090430562,1240.1397948269207,-1853.9718211852169,-1526.3032517235656,-1027.8700998808195,-2166.7591005425543,-2416.708083858021,-2692.976439552201,-1595.2248696062386,-2546.1434273348773,-91.29084628100327,1646.7521066071565,-1448.3918570733185,-1716.087417536895,1787.9812676796755,-2407.301326817123,1611.0733005272548,-1534.3843403186563,-1154.7258315857503,-1027.8700998808195,1210.9170732233256,-466.591153998702,18961.988224414305,-2323.396748076375,-1123.1687659783831,-1448.4048376967846,1046.2496610069934,6434.037473490149,8946.812238204215,616.0992817024093,-2085.7645163542907,1377.6779332485178,-369.6303490855293,-2551.5383086520164,1151.9944378537714,-2741.8423136585798,10.929133492940974,-2709.957128229717,5309.9755514048675,-2102.978829640151,-1765.7219087517587,-262.1548166510981,-1939.832960389382,374.40584013118126,2986.724972005459,-1629.4181226969627,149.1091846413044,1332.8023472771079,10957.08787702442,-1913.1013545880137,-978.5492549768151,-510.4585315407642,-2489.8322244872024,-1803.5488671207793,-436.2449774446846,-1540.0685141550134,-2558.1297955158784,3014.459535498685,2376.03590181372,-1027.8700998808195,-1154.7258315857503,-882.0359510467565,-2568.1184356667127,3458.7607340170352,-2763.8482096947414,1906.4904395584588,-2535.130480099109,-2535.155922642639,-1526.3032517235656,5744.169363957275,224.59350417774405,486.24484932887384,-2664.0093825884605,-2466.9261489765568,-1666.8399566690641,801.4336321512443,-2778.526027780389,173.05490520192032,-2631.2392394777467,24572.313952695982,-1702.2546510649224,194.53166603935298,21476.37893638038,15938.272582705673,6799.2622359065645,1806.224968139099,3011.487034020206,-2515.178642340971,-2601.080948690786,-1939.832960389382,27.10667809959393,-2261.467178614883,-1077.8798938018288,-2675.995751085058,-1359.9646819215602,-1434.0544753209156,-1785.9019139523748,-2336.895735336663,-631.6955580442545,-2656.0184704677936,-2558.1297955158784,5778.775293837157,-900.9976782194892,-1027.8700998808195,-2245.1064200657393,3284.757306673023,8458.309429364597,-2427.2786075398885,1492.3879926246777,21435.430357066896,-1281.099005679446,-2451.8385221424464,2688.362185275891,-510.4585315407642,8283.336371730806,-1901.8761272898914,-929.1957651847824,-1683.2503006889308,-1659.1521675189967,-20.560197769082446,5387.914272825104,1382.2744489122688,-216.52103726682952,521.7819650958089,-662.5473213468305,-1837.0493692510227,842.5522852504763,1787.1374056146071,-1274.60720962096,-1939.832960389382,-2621.0582294135525,19560.622562658114,-2207.528520642234,-1637.84227451362,-2416.5692447471833,-2211.7802405192465,-2471.2286247298807,-2609.0718611270504,-2515.178642340971,-768.990678024524,-1595.2248696062386,-2629.04914153422,-2670.0025666789606,-2038.7204993563803,20691.555754610385,-2308.339090106629,-2632.0457335794704,4435.30666850847,41860.83723121209,4039.316111692734,-2007.7557143624736,-2573.1127557421296,-1769.0272111782344,23027.786795994896,796.1577712059322,763.6596843974099,-1769.0272111782344,12675.64805985375,3138.7026130311765,980.1428647811052,-2583.1013962085603,-2744.280170090384,6173.39438252634,-2253.375490081958,-2455.246800488546,-2701.6437757633817,8373.113018414488,-2522.170690446554,-2578.107076133143,-2336.381980693558,-1246.1545362865945,-2601.080948690786,-1526.3032517235656,-2646.0298303169593,-2629.04914153422,-390.4267845598995,-2685.984391446617,-2583.1013962085603,-1205.0258246691274,2356.4661276434986,-2659.0150625130436,-1927.3409500216178,2272.9338857363023,5947.502896892065,-2014.658509249392,-2181.3327795672108,-2664.0093825884605,-1838.3967325952972,-2819.398272918141,-2477.581953816747,-2165.9670899514304,-2367.091727617131,-2259.1036877646507,-2277.1619959003115,-175.15288787002356,-1027.8700998808195,-2672.999158724211,-2429.3153525642488,6130.214979289201,-2629.04914153422,-2582.84003590953,-2609.0718611270504,-1036.5062415813643,-2535.155922642639,-2646.5537686658754,-1897.0330645774543,-2046.6724086885195,-2528.1638745370547,-1778.3880819745102,-1707.795505992711,-2516.3969055496095,-1827.02780349308,-1361.4906862873206,-1970.4752568537237,-1860.922702039649,-1458.9083761724592,-1606.2623483255372,-2077.172763997483,-2374.338813793049,-2583.1013962085603,-544.5835009627276,-2549.927383912925,-898.9636848625022,2661.5906315304246,-1526.3032517235656,-2549.02234931481,-660.3033522231915,91.93810137847258,649.8728112781992,-2382.987866569237,9383.739184506863,-2361.298638078057,-1354.7632550723692,-2094.6568851484717,-2407.301326817123,-2943.5505585878427,2330.6633960407135,-2486.038293474609,122.91481294053425,5100.025286400156,652.4725778931482,4964.638125641774,-1475.36507158,2729.2280255930013,-2078.394851854307,-2386.046881933894,-2692.976439552201,-1463.7095339679129,-2690.978711522034,-83.21698245213136,-2578.107076133143,-2407.180927802731,-2427.2786075398885,331.1493115430915,-666.7910064207271,-2657.6672905063724,6676.7946376159925,123.68688074962657,-2528.1638745370547,-2583.1013962085603,-2694.974167582368,-2667.00597463371,-2357.821759587126,-489.04571343623803,-2428.8004555027746,35.85728440008309,-1779.4298429877176,3630.9812203201036,-820.2185112605574,-2690.978711522034,-1613.5053052577498,-2044.0032684533815,-2194.4443310865427,-1502.5804976683387,-2308.684823461308,-1776.0037773942945,379.24874184679504,-289.3937117368507,-1830.3544501533456,-119.37819617589926,-2424.183882176431,-2396.3138226512056,3574.9896874179467,-362.9971971814671,-1816.9726845340604,-574.0141359079514,-1134.6677044956841,-2528.1638745370547,-2302.4726151581012,-2570.654439722848,-2007.9427107633808,-1943.885603544346,-2541.1491069438634,-1154.7258315857503,-2649.0264223622094,-1272.0948443048337,-2173.6456636780786,-2593.4848390023485,-2552.1366114253783,-2558.1297955158784,30261.743334676652,-2385.3263179589662,-2563.1241155912953,-1528.40146440285,-2539.222191192982,1790.8331749016897,-2509.9329681769523,-1339.6635129019357,-92.93716958540173,1899.5313593536061,-2639.037781895779,6027.883348724419,2031.231008852191,-2541.1491069438634,-1873.764269988439,762.7568606707322,-459.9337128255804,-2670.0025666789606,992.141709006393,-2374.1420850529757,26144.397717934582,-2143.6012227294764,-2250.338219914964,-850.6299741358471,-1957.2040308088976,-1990.1070660981995,-2535.155922642639,1473.4676453426662,-2446.2570240371983,-1661.5781360823578,72127.89388576972,-2920.174677669364,-1422.477297854535,-2707.9594001995497,1079.0769107683693,-399.6736943119791,-255.04108254765373,-1154.7258315857503,18311.01014541109,21.50753258853982,-2705.9616721693833,-1875.62896264277,-2698.7144587922367,-2026.2971946642574,-2321.581900457907,-2568.1184356667127,-716.8640326641362,-848.2587479201014,8602.273428176914,8325.188323251836,12.969609132440258,1047.7874417288303,-2259.7459449315547,-2675.995751085058,5921.5821447703975,-2321.7854587676543,3603.529607963172,-2442.2215699625776,-2601.080948690786,-2148.8080108895447,-2522.170690446554,-1492.0574589450218,275.6586637843428,-2568.1184356667127,-1816.9726845340604,-712.2290658506921,-1943.1102014944513,-1939.832960389382,-2662.0116545582937,-1672.5738295122485,10541.583179052535,-2279.21101398052,-2552.1366114253783,-2480.795231891773,-1744.438498119911,-387.8746249366178,-2252.20005399783,-1763.2448490934328,-2705.9616721693833,7541.469403834871,-1428.0574304855827,-1104.1176553333999,-2659.0150625130436,-1027.8700998808195,1556.5200406018128,-2273.116851996302,-1755.233487170745,-2427.2786075398885,8350.396900803962,-1777.4186720092332,-1785.37342392701,-2705.9616721693833,-1621.8938821579243,-1169.2293572849171,-1769.0272111782344,-2522.170690446554,-562.3478477889581,-2402.8564589668995,-2194.661747087653,-2219.125559222689,16575.1810379572,-2388.9071035155453,-1989.6076655394224,6867.649709259824,-1658.995159867946,-1526.3032517235656,-2652.0230144074594,-2362.981692167924,-2687.9821194767837,-2556.5187687197804,-2515.178642340971,-31.725087725119586,6005.499495069306,1994.196202285068,3005.620989265753,-999.3707065754355,-712.2290658506921,5628.844934770323,-2177.467756187446,-2658.9848129340126,1206.7042096881046,-2563.1241155912953,-1859.3801620734744,-2504.973692830089,-2707.9594001995497,-1469.724796982357,11192.059507893664,189.89952106410098,-868.0520576903303,-2010.5589566324143,-2033.5077886762824,-65.22456371426985,-2464.75011704859,-1641.3646789863694,-1414.2612165862993,-2692.976439552201,184.16508174396594,-1477.573675058142,-2664.932814357576,743.8581250979134,-2554.648573873614,-2488.577948583492,-2396.3138226512056,-832.0651004613391,-2005.43991796196,-1781.415786785411,4169.639826979654,565.8565874407798,-941.2116785343875,7119.43997321099,-2758.966347465591,-531.8589392922026,-2670.0025666789606,-1061.0912196409733,-2639.037781895779,-2543.8127299385665,-1334.2610637086418,-1537.1725564829178,-2362.3524456120485,-1659.1521675189967,-2226.506937139543,-2601.080948690786,-1176.042060394293,-2326.1175094654045,436.9348666744078,-2191.7658761125017,-2129.4000797085837,6656.608453383298,-2192.418401581639,-2664.0093825884605,-2385.3263179589662,-2635.307429663438,-2329.753629732896,-2007.7557143624736,-2583.1013962085603,-547.3933891062394,20801.220128201046,-2124.477387308538,-2398.7401363143717,42286.658257374904,3002.0625145504173,-2094.1479487990487,-2605.0764047511193,-1287.6618508596455,-2528.1638745370547,-2705.9616721693833,-2558.1297955158784,90558.22690212751,12249.846671921596,-2417.1957325825756,-1091.3868165409588,-2864.8549867726124,314.94409777925705,-1659.1521675189967,-2535.155922642639,7782.691443481535,45293.77272200337,-1860.922702039649,-2211.228520601952,8379.547119970775,-2028.8066138694267,-1122.9842105436362,-2568.1184356667127,-2408.4651377513915,1444.0868320787717,-2369.1516201430222,-1814.9203593525724,-528.3710434651115,-2703.963943718118,-2632.0457335794704,14436.968515117418,-2705.9616721693833,1992.954946231873,-2067.687556214898,-529.6709769537953,296.1857520381064,-2687.9821194767837,-2336.381980693558,-2385.3263179589662,-2219.023496879885,-2622.4828695254414,2431.5081857521827,-2625.053685473886,460.2516193832795,-1716.087417536895,-2672.999158724211,-2617.1120151934647,-1816.9726845340604,-322.27770366651686,-2374.338813793049,-2443.781551010037,361.31160627213217,269.66863967516446,1964.1799642611616,5195.833815242477,-1092.3600410577794,3896.716947627769,-1623.5290715617627,3307.7209232202745,-1027.8700998808195,-2652.0230144074594,-2490.5712596031935,-1579.372067746116,-1154.7258315857503,513.4633033016286,4079.0461733805146,-85.55277306732697,-2533.74529173041,-1419.2926173982105,-2379.1375319759754,-712.2290658506921,-1850.0475962772532,-1210.307753216365,-2124.4733821275004,2337.41509221699,-813.6879963912899,1447.850639159009,-1027.8700998808195,-2500.5179663198264,4092.095378382291,-2664.0093825884605,-2698.6723527005643,-1224.9199081236814,-2147.8428493828887,-1335.9624905623316,-1199.319172922251,-1895.9793147012824,-1154.7258315857503,-1785.1196541121672,-2541.1491069438634,-895.0155257482287,3353.803682678774,-2486.2477844138784,-1448.3918570733185,-2191.9246020222126,8616.59825196732,-2667.00597463371,-2664.0093825884605,-2522.170690446554,-1361.4906862873206,3508.0786802473704,363.50284255722397,-2385.3263179589662,-148.92496431263456,-2475.681002577522,-882.0359510467565,-1400.2826140357017,-2547.75962626141,-2682.9877994013673,-1106.3818920220929,-1595.2248696062386,-2432.8047916626515,-2552.1366114253783,75.89718656136041,-2664.0093825884605,2806.932395085177,10555.452959918855,-208.43214281500764,-2525.286831266636,-2242.0384384309173,-703.2313375994308,-2707.9594001995497,-2573.1127557421296,-2308.1235679640918,-2276.5700288208686,-1086.8933788674285,4500.329115729929,-1816.9726845340604,-690.4159231259558,433.038647310266,1047.698151786105,-2559.266143162413,-2541.1491069438634,-2385.3263179589662,-2156.2071316409456,-2007.7557143624736,-2667.00597463371,-1761.215059054421,-2107.468304737453,-2649.0264223622094,-1995.4279654375148,74.86587524480487,9736.275194351236,-2422.7118814557825,-2261.467178614883,-1769.0272111782344,-2308.413787850124,2989.2427956880465,255.7879223933669,-1904.3517423507255,-2762.0959737285325,-2278.4478668713004,-854.9065396762061,-2528.1638745370547,-1689.6951258433326,-1425.9159712965984,-1428.5552130435237,-2552.1366114253783,-2103.6459012062337,-1821.0658121282902,-1816.9726845340604,-2043.6522077795391,960.0827750305153,-661.8847050511944,-2031.8538434223672,-1306.910137707618,-2652.177090254306,-2541.1491069438634,-2622.7814720603296,-1098.4268491983287,-2522.170690446554,-2116.625856482531,-2568.1184356667127,-1249.2877527676255,-1579.975214809772,-1595.2248696062386,-2412.937196490809,-2326.3014447563305,8894.820797500573,-2573.1127557421296,882.8982761586235,2279.073812343282,4939.195404834262,2575.0741727091845,4259.982835111748,-2509.185457829371,-1264.6008753504893,-1220.4427711993721,-1939.832960389382,-2546.1434273348773,-2615.578327234848,-1273.271977924625,-1967.381351724261,-1549.7848159397686,-1716.087417536895,-1009.1762785074109,-2573.1127557421296,-985.4971626716642,-2371.357668487706,-2471.2286247298807,184.99819383223348,-2662.0116545582937,-2659.1697876388816,-2542.7568581994265,-2703.963943718118,-2573.1127557421296,-39.78280198262149,-1693.6244351515136,-2311.4618280806094,-1911.44810470557,-2101.1917230721883,-1913.1626850367036,1315.1337339285608,-510.4585315407642,-1801.6702708973921,-1717.156315140606,-1589.9083124518177,-2515.6395064073718,-2541.1491069438634,-2018.9351967278362,420.28694252686205,-2563.1241155912953,-2537.678019449953,-1292.1658362965143,-415.67351370881397,-709.9496561887622,-1683.5467740973672,-2578.107076133143,-128.81083671547276,-216.71193532849713,-2694.974167582368,7355.441297180813,2349.895020191916,927.9470893455075,14559.569567054192,-352.56557416315775,-748.9645286530232,-882.0359510467565,1183.004033830083,7874.74030112879,-1769.0272111782344,-2568.1184356667127,4235.010963063994,-2455.246800488546,899.6129270046283,-727.7160814214294,-2541.1491069438634,-882.0359510467565,-2110.537023927454,1710.5511988842889,-1716.087417536895,-2636.0411898505286,-1320.5665758948048,-2261.467178614883,11581.677417971245,-2374.338813793049,-2187.551240024969,-1063.8875445869605,-2417.289966967957,-2815.3583276583254,-1659.1521675189967,-1595.2248696062386,-712.2290658506921,-388.81071242232224,-1595.2248696062386,-1595.2248696062386,-1659.1521675189967,-1974.7932013383993,-1716.087417536895,-791.3855862323117,-2385.3263179589662,-1986.5068147061618,-2220.401150952887,-2301.6464216523905,3391.049944123312,-1223.3743935337463,-1659.1521675189967,544.8369011582217,-1448.3918570733185,-2568.1184356667127,-1915.0120943500935,-2509.185457829371,-2515.178642340971,-2081.8472490543845,-1816.9726845340604,2731.1681296173088,-2611.1493281460193,-1705.9444138861154,-1030.044642285785,-2174.3667634155418,-615.7583475717456,-2568.1184356667127,3984.626297277389,-1842.1652428548864,-2636.0411898505286,3972.5636498793688,-2471.2286247298807,-2400.1258039453037,-2558.1297955158784,-2072.887584980246,-1130.5509038531175,-1716.087417536895,-2261.467178614883,-2690.978711522034,-2567.8111984962425,2543.969012778864,-1736.8720308147604,-1069.135153960797,-150.20020893855008,-2080.98623470971,-2726.433478537184,-2652.0230144074594,-1678.015685088185,-2516.057236542953,-2086.802714261753,-1773.1990451802542,-2391.297394282516,-2577.8943615315006,38396.63791923942,-904.5534730206706,-1901.8761272898914,-2670.0025666789606,-2810.642420517153,-490.1452097189113,-2516.456818239339,-2112.7390042655575,-1693.9677907670266,6330.936565441682,-1595.2248696062386,-1991.2993491157767,194.73458304594823,-1595.2248696062386,-2563.1241155912953,-2578.107076133143,-145.55011976638215,3683.89626638317,-1879.314419965128,-2363.604195425838,1285.5527097877598,-475.46600143051046,43.285650886900356,-2667.770899133151,-2427.715515642692,-1460.7566067601067,2184.4869335317435,-510.4585315407642,2686.1394532770046,-2636.0411898505286,-1934.1010222296943,-2788.315701596248,-2192.5941935911565,-2818.6040070522586,-2349.4298825149285,-2259.1686666386145,-2670.0025666789606,-2886.469142746145,1140.7634007247623,3728.374181010914,-1027.8700998808195,1215.3427045099138,3200.052445035939,-1979.8046177108938,-2037.3809960474216,-2677.993479115225,-1090.2740057025774,1351.123408765989,-2804.962135397893,12773.331680987685,-2579.7388235501694,-920.1696292354613,1059.3024687768825,-1919.4984495258634,-44.48156823102369,-2472.741288839899,-1959.8752908977626,411.5515570579959,7792.567571185708,-2680.990071160475,-1774.8130888937355,6353.195490895527,-2492.4764991779143,-822.8083880808124,-2267.0729392749004,-966.7246004782819,-1063.5532032201063,-535.0042762722405,-1870.2807661464035,-2042.1607086050005,-2590.9237825376335,209.550985313655,-2493.8544111271776,-1595.2248696062386,-2118.101107909657,-611.1066975394152,223.85053647206922,-2044.6135970282744,9488.926706315246,-1701.6280345545597,-2682.9877994013673,870.2215931982773,-518.7691747375561,-2108.3744212582706,-2446.2570240371983,954.8620542568364,-2225.91049771189,-1942.9319839688224,-2705.9616721693833,-383.06781985247807,-913.1720081410703,-699.6935650976852,-2043.1674957921286,-1769.740797750507,-1595.2248696062386,4270.03360058489,-2159.8977052313176,1492.9159963438753,-2557.494673571226,-1387.0939374630127,926.3272849039115,-2690.978711522034,-2114.9468300004623,-2190.58152005637,-2227.8836615300706,-1630.2800032626105,-724.7653221640276,207.5302100543864,-1769.0272111782344,-2378.424490621492,2321.1579768669594,1934.320117050608,-1154.7258315857503,2757.346787342316,-991.9064922469955,-1667.0469388734953,-2709.957128229717,652.2422569214558,-1930.8423869350686,-2675.995751085058,-1795.3239431951242,-1264.6008753504893,-2190.6051717400433,5953.978935011934,-2541.1491069438634,10680.785480660443,-2547.066554297746,-430.0237798085938,-1366.1985957556508,-2529.98904685154,-2347.2750328911147,-2920.9276592748147,-2499.3571229606205,-2047.8755198488561,-2466.442008418056,-1316.0172254443971,-2546.1434273348773,-1776.6579055961176,-1088.7976416145518,-2528.1638745370547,-2591.9011168324696,2948.907634980102,-2687.9821194767837,-2823.4143460693226,4180.049588303753,-2687.7501312674367,-367.9842258848957,384.34747332334575,-2452.8528532091796,-712.2290658506921,-1443.7319353767746,628.5455870957294,-913.0978456243347,6890.330108235059,-2148.079848004037,-1348.2252910209709,-2326.240884366574,-2187.551240024969,-1837.0809858740415,-2349.367213100367,1050.018927281006,-2261.467178614883,-1853.0786244820315,-2552.1366114253783,-360.46773544374366,6382.929711331692,138.87730928051442,-2546.1434273348773,-1735.6245530198078,-2546.1434273348773,-2457.444824551599,-2544.2726991565128,-2085.4574676221746,-2360.584557098906,-2400.048653756901,-2632.0457335794704,-1726.0414308746476,2436.76796342071,-1942.7069803157,2241.320744613738,-986.1861164356837,-1900.767761520444,1868.3890997670705,-2151.3092864977075,-2649.3223268819884,1076.4280877653787,-2541.1491069438634,-2172.6640421048037,4874.262021178301,-2489.0493538769874,-1570.6516639986266,-1721.9131982621593,-1154.7258315857503,-2682.9877994013673,-2393.06145666932,-1990.7820661045114,-1702.3457230336012,-2632.0457335794704,-2659.0150625130436,-1099.3242650862253,-254.64873350333966,-2672.999158724211,-2355.661021421793,-477.09070747579926,275.58343689610587,-2684.469058992438,-1170.2337923942468,-2187.551240024969,-2664.0543364138493,-2625.053685473886,-1974.7932013383993,-2697.970759627618,-1070.7278281809213,-2528.1638745370547,-2659.0150625130436,-2242.4534418326234,-830.0353965935792,-2690.978711522034,8810.850962774646,805.6917964247809,2864.684003691722,539.3404248745317,1443.724615316807,-665.3842042711353,-889.4392907863626,-1402.619621669858,-882.0359510467565,-1418.3521471995464,-2664.0093825884605,-2628.903529770031,-2219.2004172113548,-1126.7543655133088,4188.165109718263,-1974.7932013383993,-2541.1491069438634,33.290991208051665,-1977.5494844986013,-1672.715091077036,-208.8559439350351,-2278.21361791305,-973.2084689434993,-2605.0764047511193,2334.535595032336,-980.7874971679337,-1902.9090675312355,-1699.708032032196,1751.0107358822322,701.2975341028267,-2541.1491069438634,-2662.0116545582937,-908.003020166959,-1358.7181304499557,-1943.206634650153,-2542.777561350983,-2094.6568851484717,7711.5648744596365,-2168.394978360801,-1716.087417536895,-2535.155922642639,-2523.4939612619946,-174.5230912394295,-2568.1184356667127,-2120.4245986406668,-2684.2427137510126,-2456.7436528631656,-2119.6284860518776,-2624.877665254013,6115.319300256068,-235.3278185681228,-2226.506937139543,-2583.1013962085603,-2295.574742306338,6605.390779407234,-2246.8519836456358,-2573.1127557421296,-2675.995751085058,-1561.0564959550507,-1526.3032517235656,-2541.1491069438634,72.74694205384006,-2252.5098763938054,157335.77770912266,15.251527323525126,-1567.7008598207583,-1264.6008753504893,-2645.757682695051,-2327.1635057740195,-396.0522790421461,-2578.107076133143,-2578.107076133143,-2481.846902518961,6894.832142518976,-1209.8145605326727,-2396.5683976694463,-268.49924324013443,-2396.3138226512056,3574.3632419858127,-2336.2204265145247,-1402.012453525193,-2450.876182378324,-2338.915645098415,-2588.095716494702,-2334.3314299548083,-2385.3263179589662,-647.3591907049631,-2247.951352305982,-107.68241266026796,-1324.1567205844322,-1855.689632676328,1698.6194552140316,-1840.6095458177438,-2675.995751085058,-935.5559229895991,603.6222031409034,-1863.072894552251,-362.25713568105067,-2452.754045357841,-1278.1659270869309,-2022.6519774509377,-1154.7258315857503,-2482.3048767687487,-282.68386822942955,4979.71466435733,-1006.3919108721883,-2261.467178614883,-2541.1491069438634,-2364.2523436565107,-1694.8829630975642,-1164.0533086843834,2020.2971208371478,115.8726205810361,-1980.6123986905843,-2329.3594645840444,-2552.1366114253783,-2574.204614715503,-1136.978105803945,535.4160251993977,-2417.289966967957,-1307.6744666909817,-1622.0035783454,-2165.3975209273194,6231.9297091060635,4431.110140021232,-2687.9821194767837,3629.6142750880745,-1129.3969050019198,-1563.1170785706395,-1188.1151163534864,-1063.6229483096906,-160.51059661300968,-864.2437448074578,-2680.990071160475,-2609.0718611270504,24327.38416949306,-2705.9616721693833,1800.9663633339558,-2329.103618467701,1683.8424803922521,-362.5359318264189,-2530.220547390893,-1769.0272111782344,-2656.0184704677936,-2563.1241155912953,32991.434685572895,-1823.7862825971142,-2621.0582294135525,-1989.3878706410012,-2313.3883400205937,-1256.9842010564969,-2342.882770061622,738.1488118588262,-2562.7103562476113,-1306.1876640976493,-1729.321457625601,-2614.0661813079682,-2528.1638745370547,-712.2290658506921,-1021.363306032324,-2218.6974729297867,-2677.993479115225,-2636.0411898505286,-2275.132557281934,-2609.0718611270504,-2164.9221770392596,59841.8243841651,-446.4700896077639,-1833.4246853790892,-1595.2248696062386,17536.483502636976,-1877.9914448070638,801.4851832401673,-804.2044245910163,-1595.2248696062386,-2458.569402487938,2596.180790425927,-2096.2561008827406,-373.8390104558779,-1852.136036320066,-845.2480648104488,-632.0507397647654,-1005.4546056352409,3252.7589087605365,-644.6011228998818,-2089.6958629242545,-2563.1241155912953,-1296.231166121402,-2401.894979753098,-1741.0066685590743,-374.7528760175264,-198.512827220618,394.9609238561879,-2717.2833758690135,-2187.551240024969,-1093.3910122173118,-1027.8700998808195,-2558.1297955158784,-2652.0230144074594,2093.7196825063393,-2425.011157289247,-2080.694433867299,-2691.0922837991698,-1704.6065198224142,-2524.15034021213,-2243.7690154755883,-1134.9118479138156,-2601.080948690786,-2552.1366114253783,-2362.3524456120485,1814.9089118246484,-2522.170690446554,-882.0359510467565,-1595.2248696062386,-1298.2857257395854,-2703.963943718118,-590.7856734876254,74.90590177189638,-2007.7557143624736,1105.4423367619731,-2664.0093825884605,-1526.3032517235656,7548.909765026372,-2291.6041974573977,-1711.7598304399382,-2411.7867139116984,-1526.3032517235656,-2453.51673047304,1722.9834953446755,-2569.693654823463,666.1268238412163,-1800.89025653794,-2528.1638745370547,-1628.6404351465656,-1716.087417536895,-420.2608545728709,11340.525445493664,2972.733201971657,1910.6892447716007,3496.060296040089,-2397.1197267103316,-1796.163982708118,-1618.8212745664223,1222.1472123554772,-1595.2248696062386,-2393.946303767314,-911.296964492101,-2677.993479115225,1691.3176639687233,36664.92835512546,3213.818231483698,2686.9812455433007,-603.7610206740411,-2173.00873751928,-1659.1521675189967,-2261.467178614883,-927.6713927065277,-1215.0694110848037,-404.9975609253665,-2314.4429561269167,-1808.7199664173531,-2427.2786075398885,-1791.5600320774654,-118.44879634465698,-2670.0025666789606,-2081.3128652193163,-2440.582398613145,-2156.437375815199,-1417.3753733720166,1891.885144015656,-1469.414729992735,-2541.1491069438634,-2144.486356853401,-2707.9594001995497,-2546.1434273348773,-2694.974167582368,909.0754977991221,-2547.125383279847,1130.338516180761,-2558.1297955158784,-2614.0661813079682,405.6541522170194,-2535.155922642639,-2284.619687231231,-1706.2387258747215,-640.6711786388297,-1790.1584664400518,-2272.634140986694,-2289.9492137413736,-2295.7580733534164,-1526.3032517235656,3687.3199095422915,-1156.3022923701863,-1027.8700998808195,-2134.4433516558743,-709.8956537978404,42.65929636283927,-1600.2026650096077,572.8172238694326,-2427.2786075398885,-1399.2369271696944,-2385.3263179589662,-2046.6108250905463,-1873.8396468922492,-2315.656728992279,-1264.6008753504893,-1244.2567414636042,-163.4548764248382,5060.064136395078,-2629.04914153422,-2649.0264223622094,-2680.990071160475,-2400.384683601831,-1370.4899334067416,-1595.2248696062386,-2405.5822584437665,5543.9588367334845,-1091.044476257264,-1716.1067202841843,5418.720421707433,2428.2176797527195,-669.2820498090888,-2033.9163780901247,-604.7564582724686,-2443.9429623074207,-314.793847189441,-1407.975527865328,-1090.3687774100897,-2535.155922642639,-2261.05575387006,-2901.8593994117577,-2563.9692255037885,-2471.085353459519,-2568.1184356667127,-2393.384491684104,-2558.1297955158784,9528.540288462948,-2260.4421765931647,1227.9718902290792,-2076.5896352502814,-2417.289966967957,-2250.8097112786227,1502.4602562658688,-1887.005089577645,-2552.1366114253783,-933.0423136246262,-134.44158046083936,-2116.3353072683985,-2552.1366114253783,119.87116656174926,2828.2710164945534,-1283.6572324977726,6151.1452381496165,-882.0359510467565,-2469.083682623937,1549.111764075032,-908.2058898559868,-2278.4478668713004,213.3645621970626,-2325.388090741117,2472.7264991711018,3728.7812065492594,519.5978256532676,-2437.8341136466775,-2654.550095228512,-2546.6505137977565,4964.053690188104,-1254.0188731942264,1740.6324012598816,-1524.1611666098443,-2707.9594001995497,4379.80884486543,3554.3798564066055,-963.3941845119922,-2617.0627733532187,-2568.1184356667127,-1798.3603474475653,-2646.0298303169593,-2599.1802004067627,-2407.301326817123,-1769.3456784109153,-1055.9526442281735,-1448.3918570733185,5462.697644835217,-2649.0264223622094,-2677.993479115225,820.0020697642401,-1568.045814685698,-1269.0939651921472,-2159.2998084834244,-1747.7680438515122,-2032.8436540488917,-2818.037547542205,-2488.5615743718977,-1595.2248696062386,-2639.037781895779,-1289.4857773267697,2996.4829451326113,27661.634727746892,900.8146024431583,-2639.037781895779,-1578.1205283658708,-88.9664391267801,-2417.289966967957,-2154.3025356606263,-623.9109876962384,-2461.6452694224063,7068.853862221244,-2385.3263179589662,-2705.9616721693833,-2624.7831854046713,-163.59875742237008,6118.291769053306,-2417.289966967957,409.2107352933954,-2186.9672332668624,8900.606264042612,-993.8000156779291,14678.095598580343,-2196.2468614603486,-2068.8659601808604,-1595.2248696062386,-1710.8485001448873,11519.173574295393,4127.493326857962,-2612.571901320414,-2385.3263179589662,5632.138386176934,-2425.0329474165524,16945.828548655685,2551.0161772251126,-117.76721703765605,-2488.380325521286,-2385.3263179589662,-1312.003272787943,-1901.6703007620729,-2689.356639417161,-2692.976439552201,76.99983603925105,-2685.984391446617,-1264.6008753504893,-2670.0025666789606,-731.2017918233136,-2007.7557143624736,-1710.746764475253,-1476.8134861463898,-2377.5600467111303,-1935.4358704227413,-202.0768215015034,-2517.882899896014,-1767.3837186593498,-2617.0627733532187,5079.724360308654,-2588.095716494702,-2196.495213253915,65150.09769861122,-1526.3032517235656,-2463.2377126092138,-1516.0551941759834,3346.4357512030597,-882.0359510467565,-2573.1127557421296,-2703.963943718118,234800.07795983405,-2522.353225227713,-1264.6008753504893,1843.3847751828962,-2067.687556214898,6081.635396597371,3706.2516293372623,-1990.1663202453885,1333.9730095523153,-2707.9594001995497,1225.78159184213,-2029.306392136986,-1659.1521675189967,7822.245033687668,-988.7738908431477,1693.8721091603593,2721.8750045351017,-1887.860472098918,-2417.4986653254846,1635.2212643454882,-2067.687556214898,-2563.1241155912953,-2605.3024342433278,10243.388579820097,-2504.166821847912,-2707.9594001995497,-1769.0272111782344,3872.592430259998,-1758.5704870408492,-734.6246878236998,-1955.090422515934,-385.11433215009447,-1603.2420632504106,-2680.990071160475,6237.888385153906,-2200.3095931211087,-528.7361079984425,4066.6698114960777,-1975.7338723911148,-2694.974167582368,-69.90337843865123,-1790.1694262093984,1109.9141101744235,510.88937826498864,-2445.953512510262,-2038.7204993563803,-2601.080948690786,3233.260873705681,4776.664205898399,-482.7211756505511,-2359.6448679071877,-2293.4308274131486,-1983.5343518083027,-2715.2846490388238,-1125.979905855046,-2601.080948690786,1889.9646433836049,-2385.3263179589662,255176.9679936999,-1857.0440600156078,-1361.4906862873206,3513.84084473604,-2904.5627850568235,-772.3784895291177,-2238.8403673204916,319.7766957223823,-519.0710217683599,-2396.3138226512056,-2629.710793198405,-1625.9774036678132,-2614.439843944527,-2646.597608165267,-2412.4465142260706,-2410.7851202152574,-2833.168586495418,-2173.1719196756826,-1264.6008753504893,3642.826269580505,-2261.5820898490647,-1040.4207226904336,1484.6888952412894,-628.4733952377368,4015.3779013256826,-2590.84030569868,-2523.936341991187,-2571.8324312566615,-1595.2248696062386,-2471.2286247298807,-2190.7503803251584,-2597.085492630453,428.9387998870067,4270.225827870404,-2685.984391446617,1361.0028349346492,-2528.1638745370547,-1390.3584407912972,12889.822918278629,-1086.642869238099,-1901.8761272898914,-2552.1366114253783,-1402.604105267062,-1738.7142407162485,-2667.00597463371,-1551.420753186783,-2220.272101943868,-2541.1491069438634,-2124.8354895838597,-607.8600589023226,-1810.176036097032,-2692.976439552201,-2451.667112630122,1533.5990290601897,1471.2795798328164,843.7296360315202,-1424.4821775332466,-2546.1434273348773,-1581.7017426620812,-337.4887777824248,-65.51268046944618,708.3261451254847,-1361.4906862873206,-2253.9908866260116,-2041.0723075085707,3265.3299427871375,-2187.551240024969,-1126.2716205262057,-1028.784024458963,-1913.4349596633344,219.7084384876964,2589.214559079204,-2341.230039304695,77.65804759283203,-2339.6006135526723,-1485.3588206250981,220.58840238457233,-370.9218755368115,693.0422090229724,1422.6527087754114,-1162.7948327213646,-2527.365870399923,-2473.1643920664837,768.5025174589872,-1394.7761769883705,-2505.166509273201,-2294.06817443049,3120.651687524412,-2682.9877994013673,-1543.2285201599154,-485.71478160751064,-2142.1428043497576,-1991.7439849096315,-1435.167743023871,477.16891275646583,6139.145918279052,-2522.170690446554,-2608.342475757891,-2568.1184356667127,-2636.0411898505286,-1488.3541159064662,1653.4722191904905,22737.64629778085,-2067.687556214898,-2534.4649175106156,-850.9080474393897,2706.5355884569008,-2558.1297955158784,-1643.6030848825958,-1583.9496651224622,-2563.1241155912953,-1354.639543497436,-2592.0911725550354,-2573.1127557421296,-2471.2286247298807,-2395.64724915716,-1862.0433208589568,-1334.164331532024,-2692.976439552201,-2224.870176884404,-1049.2890428378216,11060.446759943177,-2546.1434273348773,-2667.0579897167167,-2244.4864898321434,-2546.1434273348773,3147.759586845007,-2703.216582352099,-2113.5704378763426,-106.79204265661699,2784.347610114491,-1932.6146354276382,-2278.4478668713004,-1196.6249253480194,304.7773187801892,3568.8173819188205,5346.529823961195,-857.6723233865409,-2546.1434273348773,-796.8312105879515,-2466.479739586923,-363.9034423772548,71767.5143814719,7306.346597648627,-1027.8700998808195,-1222.7203108933884,-2293.848760929793,-2617.325017978553,-1663.9273631190817,259.16166912639915,-197.9454712831444,596.8831434221165,-2636.0411898505286,729.4511496637999,-2568.1184356667127,-2358.089216431512,94.66956180914966,-2371.4962954890802,-7.687036652895454,-2153.901056641039,-1595.2248696062386,-2588.095716494702,-2563.1241155912953,-1723.3194831854873,-327.28695745220875,-2450.9273861522406,-1772.8716397693918,-2462.284233168389,-2646.0298303169593,-1999.1023872457297,-1363.731854382248,-2573.1127557421296,5332.843035205498,-2670.0025666789606,-1889.9965656711074,-688.368337542124,-1659.1521675189967,1396.291394665388,-1351.949168242831,-350.82719556830267,-2005.8027205746525,-2231.250639102575,-2293.4308274131486,726.0028511983068,-1577.8661021140526,-2202.6755812362567,-450.22321379958294,-1264.6008753504893,-796.700471412257,-2707.9594001995497,-2374.338813793049,-712.2290658506921,-1968.8423689087567,-2143.6012227294764,-1038.8478871772688,-2298.670449741517,-470.68414606135747,-2256.28877857755,-651.9618712087163,-1361.4906862873206,-2568.560889728716,49.36835566569102,1790.2145828972698,-2652.0230144074594,-1027.8700998808195,-2563.59611324266,3218.5085690620135,-2469.9638940808836,-2625.053685473886,13123.750539869223,-2463.2377126092138,-2740.905264613427,-2400.5491254919148,-2427.2786075398885,-2498.8713001260594,-2502.193409723787,-2632.0457335794704,-1850.203678245955,-2692.976439552201,-1947.737651572963,-2670.0025666789606,-1453.1311821134825,-2692.976439552201,-2300.6547944954664,-1748.6884135676391,466.907968217048,-2609.0718611270504,353.61770619352137,-2427.2786075398885,2131.410117200331,2696.207395557667,-986.0677268112692,4636.697763773652,-2649.0264223622094,-2568.1184356667127,-2293.4308274131486,-2646.0298303169593,4552.982694078159,-1468.4061589751582,3583.9427160212135,-2459.1125867736737,-2467.865664984482,-1713.508888845816,2531.379087211757,-2680.990071160475,-1096.9494723289295,-551.8618436132599,-2528.1638745370547,-1974.7932013383993,732.7301359529307,457.629298951123,275.9598510089606,230.16971137709118,-2446.2570240371983,-1559.4689623870722,-2229.8539267988253,-326.4582087027749,7024.608330943001,-560.3413610703842,-2528.1638745370547,4003.095233260408,-909.962565647006,-1628.5155149740222,-1365.297295222699,5638.298382398691,-2130.3548884312627,-882.0359510467565,-2416.6787566932167,7744.001834038012,-1998.8037396756968,-700.5212197042096,-2546.1434273348773,-2400.64585556801,-1118.224093141898,5915.402739294294,-2588.095716494702,3086.563562729425,-2614.0661813079682,-2506.062186202833,-2415.411178621687,-2446.2570240371983,1294.3740665674543,1494.9502362076619,1035.9609115632948,934.000785603939,-455.02641393869,-2583.1013962085603,-2583.1013962085603,-1011.2637146977825,-873.9762715925034,-2089.261280481816,47.214535871911444,-1759.8037426660917,81.04266784755998,-1958.4449176469245,-2226.506937139543,-2170.446727916468,-2769.1892609774395,6619.028541809276,-2446.2570240371983,-2522.170690446554,-1272.8174590345727,-1867.7934273389192,2523.023424933307,57.34848930592931,-1945.4982827446358,-2738.6821038657336,-253.41711858427072,715.5284332524687,-909.1019826871594,-2707.9594001995497,-1683.3486359144608,-1911.8950315366037,-2649.5037484952954,-1055.7945147677406,-2102.120451757236,-2139.8197931927944,-1264.6084396371455,-2374.338813793049,-1117.6342905302286,-2045.9131897572147,-2086.513255812772,-1847.123998654784,-1081.9402638338418,2037.6037664287185,-2582.858533663794,-2129.0429953966864,-1264.6008753504893,-2712.085020331316,-751.5875664246636,-1659.1521675189967,-1630.858153474983,-2223.943133001802,-2222.4870340770362,-2453.3777608978944,1547.7716771501935,-2424.032306958669,-2504.4935373706253,-1694.2970628969404,-2328.2856564140843,1192.740720036456,-415.8374349996386,-1921.965576612993,-2193.2049134591443,1466.5766844652294,5249.893659743605,-1353.2143155395197,6460.556229062254,-117.60267194730655,-127.38891650424887,-1995.4238534484323,-2629.04914153422,-2273.641754952608,1686.2385266241952,-1821.85157876127,-2033.245001130429,251.67196124287833,1138.4623076279868,-2621.0582294135525,-1736.1948525412251,-1595.2248696062386,-2796.937476475112,-2160.0711565318716,-2605.0764047511193,-1272.8558399904025,-1901.8761272898914,451.9203862446177,3692.308531374851,-2535.155922642639,18192.563174209852,-1264.6008753504893,-453.8313455677811,2533.8891768308386,-2597.085492630453,-376.33487646474526,298.86823104063876,2900.105064772483,2277.4712102558947,-2374.338813793049,-2337.060265081835,-1845.1850090148698,902.8069404297061,272.8547905372467,-659.3429937519116,-2207.528520642234,9074.01865887439,-328.57945389752814,-2687.9821194767837,1151.5392407464108,15344.13757810997,-1128.0145008239945,-2234.3373350217203,-1328.0092757385394,-1986.8086182807854,-2293.445194445554,-1028.879031754713,8094.739769577781,-1006.6144436676346,-2686.652801036194,-1769.0272111782344,-2788.6501712172517,-2535.155922642639,2245.953777317499,-208.61985594322388,3244.6490156474188,-2644.554611086816,-1719.457442544063,947.230991159562,673.5113621598247,-145.85881405112846,-2568.1184356667127,-2183.570451171338,-2355.2354060917896,-2563.1241155912953,2255.878805586102,-1123.5661247982623,-2707.9594001995497,-2605.0764047511193,-2515.178642340971,-1688.4346555389354,-510.4585315407642,-2568.1184356667127,-2621.0582294135525,-2450.9732185192693,-1361.4906862873206,-1239.6454492678974,-1302.1904680983941,-1283.6364138294186,-2396.3138226512056,-108.40414303522887,-2652.0230144074594,-2515.178642340971,-2941.412258249843,-97.92841719559411,-106.54145261730535,-10.13369196557849,-2300.8476098859355,-935.7758418546423,-2670.0025666789606,110.59885434456294,-2398.0960215912264,-2437.725208891975,-2203.334559193066,-712.2290658506921,-2682.9877994013673,-2396.3138226512056,-2672.999158724211,-2199.6330273070885,21788.052358460784,14940.556430492068,-69.99859500125446,-1340.6606246618446,-2631.7358996087005,-2470.8989049120705,-2552.1366114253783,-2690.978711522034,-2528.1638745370547,-2541.9434457211078,-2146.929751875698,-2635.451814101652,-1415.9891021331941,-2265.2383971955796,-2169.391332593167,-462.15218636083887,-2207.528520642234,-855.6689052433305,-2038.3143133433502,287.26129029698103,1454.6457361949133,-2522.170690446554,-1279.2133090674392,256.90861863689537,-2601.080948690786,-580.5081767104962,-2374.338813793049,-2385.3263179589662,-2645.7085599550437,-2583.1013962085603,-1806.7300897093367,-2690.978711522034,-1448.3918570733185,1071.3061655703139,296.63730893586086,-1027.8700998808195,-1526.3032517235656,-1612.5691679950376,-1124.3016184018977,-2116.538438943728,432323.12854666053,-2374.7952587484624,-2800.234876246858,77.00513325176159,-2656.0184704677936,-1067.494498127543,-1716.087417536895,37.85641326983287,-2709.957128229717,235.27729870384732,-1995.5810154452763,-903.922001281804,-1467.430943169944,923.3973516071717,-1367.7824090436986,-1154.7258315857503,-1606.7232638391947,-2563.1241155912953,120.66444573376677,-229.89837505278427,-1027.8700998808195,14115.191628305458,-2578.107076133143,-876.2466623839094,-2417.102421664344,-2718.6255038548416,-1878.540044056327,894.6707773244489,-2617.0627733532187,-1750.1313902458926,4493.956800271386,-2659.0150625130436,-2652.0230144074594,-2113.578408504692,42957.306718527216,-1899.2712990792263,-1689.8177678212717,-2656.0184704677936,-767.285864942586,-2494.4895096110563,-2314.575729205266,-1545.4781521277923,6119.302615591146,-2278.4478668713004,-1757.6417951708654,1416.1583669566505,-1206.833715502087,-1773.2290653914145,-2667.00597463371,-2369.8179170273993,289.51162857930086,-2293.4308274131486,1895.0271248021133,-2114.124188739354,562.2278253421218,873.1652239272325,2228.0011804477645,-882.0359510467565,-1027.9429776146806,-2244.4864898321434,-2667.00597463371,-2622.3821518239242,-700.1093886322989,4503.594245623322,-1088.4192916742734,2935.880997662205,-1303.667064272031,1476.4906975836866,-1991.7660333342978,-1294.8851714957764,-2117.0632102731684,-2707.9594001995497,-2552.1366114253783,401.4156716866953,-308.98614323537925,-2522.170690446554,-2207.071049000387,-1263.6638413393307,-2656.0184704677936,-1577.0751873411282,-2682.9877994013673,-2384.028621409301,-2552.1366114253783,-2434.9269340079304,803.1131983962541,-1599.5138349730125,1785.0736467983797,13727.842439075072,-2413.100425050875,7233.001884185801,-2601.080948690786,-909.2027603716105,-1397.2085604690126,6435.327432166268,477.7480157907103,-605.9506938641227,-2568.1184356667127,-2659.0150625130436,1008.6673442804704,-669.0873653839085,-2728.2136118030785,-2362.3524456120485,-476.9987743341524,-2597.085492630453,-2707.9594001995497,-2803.368102526935,-1361.4906862873206,-1962.6615672344744,-1612.4048959154022,5242.54511686103,-971.3546062260292,-1716.087417536895,-386.28652479122894,-162.62424561593903,-2427.2786075398885,-2177.8008405532437,-2410.2564914046943,-1448.3918570733185,-1582.763689381029,2742.5336124451846,-2597.085492630453,-1687.6822371467267,9530.022256517814,-550.8454957019887,-2628.851416836106,-1939.832960389382,-2659.0150625130436,-2625.053685473886,-1611.9829660411522,1785.1827690305618,-2546.1434273348773,-1850.6550251404399,-2488.2693404649553,-1209.936070188533,-2463.2377126092138,-2682.9877994013673,-2053.4094315571674,-311.7464956607653,-2639.037781895779,-2592.0911725550354,-1970.4175143115974,-1154.7258315857503,-797.5534202115558,-2664.0093825884605,-1595.2248696062386,-2358.977355902825,-354.8863526581589,-2165.576231377537,5651.460561664318,-2614.0661813079682,-2101.090470660779,-2551.415326412182,6135.287966793735,-1595.2248696062386,-2573.1127557421296,-1908.3649552415623,-712.2290658506921,-1745.1424290459724,-2305.8649764537577,-2561.4783035265614,3027.0939512408895,-2670.0025666789606,461.14659160590634,-2528.1638745370547,-2659.0150625130436,-2316.558860198922,-2652.0230144074594,-689.9236808429731,-2244.4864898321434,255.68937545162757,-1656.4844371569677,-2291.317679324867,-1582.8479424894786,-1960.95286743074,-2601.080948690786,-2139.9737939124484,395.8804173371589,1821.621339690219,-2648.1522624198856,3703.7981758578953,-1053.6814697935217,-1526.3032517235656,-2530.515373255813,-2672.999158724211,-2609.0718611270504,-119.33969031649858,-2665.189960606384,-726.6119690483446,87.91323585355433,-2294.2464755959436,-2365.9250015058706,-2545.626394418893,2442.676861765312,1633.7988220280265,-2568.1184356667127,2626.36841570812,-2662.0116545582937,-2563.1241155912953,-1630.1046525332906,-2546.1434273348773,10215.095190542044,-1552.2317255544492,-2159.8287848149557,2597.3027324021396,-1671.022897638083,813.1733414423923,1823.2051519694146,-165.63269805927905,-117.30381553628261,-2614.0661813079682,-1214.6280301080963,-1027.8700998808195,-1674.7110322427095,-701.7009982073881,-1154.7258315857503,-2592.370137018092,22623.454377569116,-705.4361685084685,2280.399769278677,-680.8849636822735,-1486.0400234534466,-1744.0672321470008,-2461.4661860969027,-2239.3568235580124,-2629.04914153422,-846.413949017295,-2727.6459948267225,-2528.013628706019,723.3341560568299,-2692.976439552201,-1402.9077012893313,-1027.8700998808195,609.3325606644512,-1074.4728380398399,-2687.9821194767837,-1057.8675025054956,-2362.3524456120485,-1716.087417536895,-2278.4478668713004,-2479.219536850548,-2227.6876861304727,-1430.656220856554,-2694.974167582368,-1520.2027075365436,-1766.621354044408,16757.021079126574,-1491.7280993808388,-315.29570132822647,-117.07722585975678,-2535.155922642639,-2625.053685473886,-472.87887479947364,-1950.1003910871964,1690.5142312745754,-899.0493330160283,-1295.8517217314438,-2578.107076133143,2533.6203633400974,-2244.9725649686393,-2021.5340276072259,-175.63976450710882,237696.74442623337,-1070.2726845297059,1454.1415834256484,-1328.8377916364936,-390.1544865926031,-2659.0150625130436,2131.317146118482,-2632.0457335794704,-1806.2024538130054,-1364.829706059711,-2420.1769897249515,-1448.3918570733185,-2124.158145184055,-2548.8480753404688,-2541.1491069438634,-2672.999158724211,-2240.2311882448757,1314.2458106669458,-227.5862141155995,-2403.7992668215447,-2573.1127557421296,469.22296203081413,-1320.0003339721445,8436.378644026268,173.86223311148058,-2643.033238271709,-2477.042278017706,-2652.0230144074594,-2284.8457714337737,-2685.984391446617,5146.0262198120445,-2552.1366114253783,-882.0359510467565,-1907.7271124488248,-307.7871642472124,-2511.0448961769894,-1027.8700998808195,-1716.087417536895,11477.250318891518,-1652.4313721864787,-2439.3550666558854,-2707.9594001995497,-2558.1297955158784,-2596.6694818014116,-2041.350932757611,-1435.2298124923057,-1735.9176090691747,10001.109804208967,-2389.3415100370803,698.6975511397196,-2349.367213100367,-1860.922702039649,-1888.0513432362009,-1299.9093068362652,-2361.8656051435973,-2699.968487657785,1367.9256416020557,895.4197726683046,-2325.6695846718526,-978.8514531120267,-1264.6008753504893,-2182.992960874786,-1348.4252832910781,-2705.9616721693833,227.06620112871002,-2707.9594001995497,-2707.9594001995497,-2427.847726871628,-2649.0264223622094,-2694.974167582368,-1676.2504093669497,-2264.4039746494805,-2514.5509271796022,-1543.267327347345,-1168.5000253630772,-2685.984391446617,-2708.486588412748,-2563.1241155912953,-2573.1127557421296,-2643.033238271709,-2299.1156903055416,-2141.9276826539485,-2601.080948690786,-2136.086419722934,-2015.1234138666257,-2659.0150625130436,-1448.3918570733185,-2535.155922642639,242.2013811101308,-2592.723020117299,-2094.6568851484717,8455.814862014091,-2026.5124497766212,-2143.6012227294764,-2553.499953066009,2867.8940206632674,-1264.6008753504893,-2562.5682685358597,-2194.451002103986,-2936.0180548300013,-1772.713563349048,-2920.103762596026,-2093.906744223626,-1264.6008753504893,-1874.1291931963187,-2385.3263179589662,-2522.170690446554,113.47833976748129,-1904.7448676645356,7105.811783404463,1214.519381044961,-2278.977478174684,-1654.6705547733004,-78.59754002299428,-1305.8154937059653,-2667.00597463371,-1157.7558423676433,-285.70569362022417,4093.5248685419965,911.4720705252905,5085.289119820638,-1816.9726845340604,-1221.0055356839823,-2522.170690446554,-979.6955936660896,29866.633078645984,-2632.0457335794704,-2339.1400840639244,-2504.97430002142,46.677362271742176,9944.815290298286,-1821.8508499480797,3660.296058881555,-2385.3263179589662,-1996.351926959522,-2396.3138226512056,565.3738258122452,53.81786987964443,-2463.2377126092138,-1481.226905298657,-521.2822598136993,-2529.637898633793,-2621.0582294135525,-537.4711285634507,222.560758165921,11.773945360132803,-712.2290658506921,98953.5692614014,-684.848742816294,-2278.4478668713004,-2125.5873031003985,1581.0673528112447,-1526.3032517235656,182.31917742987625,-1838.9651786660995,-2207.528520642234,-2394.111352221947,-1333.251645643259,-2597.085492630453,-603.109802921213,-1234.2215859043918,-1716.087417536895,-1705.4000173182424,-1821.777975682593,11375.58150026187,-495.80894681123937,-2551.7828067538617,-793.1748631297771,-2687.9821194767837,-2374.338813793049,-2242.119618653043,-2705.9616721693833,-2719.3678298653685,-2407.301326817123,-415.6327094384847,1997.5521633924336,-2446.2570240371983,-2284.211744986682,-2056.782733463932,8435.401506824273,-2666.1829335576977,-200.2643225786628,-1361.4906862873206,-2384.50466066442,-2207.528520642234,-1769.0272111782344,-1580.943368514822,-1266.7191895693675,-2715.2743836840746,-273.1032464806011,-1582.7974068420094,-50.78119364717197,-363.98599952928436,-2796.8426942362726,-332.5694070245675,-2119.1158703570836,-1106.8781948380758,-541.9844264229334,-2664.0093825884605,4669.770354694389,1509.7657101807815,-2425.319116234014,-166.4779476952149,-672.1051562606933,-2038.7204993563803,-2349.367213100367,-2038.7204993563803,-2088.8283431709106,917.0198496869906,1164.3734073715652,-2318.5795008838413,10717.6614340878,-2586.0669579840583,-2189.044063002453,-630.347586029866,3755.3247135181405,-2165.576231377537,-2535.155922642639,-951.6003560503865,-1197.429613776074,-420.32943817673026,-2484.924589031771,747.8717770537485,-2473.1618346214996,-2535.155922642639,-2408.9211633220048,447.3041507545948,-2716.8386998870997,-125.19080164779984,-2275.364491202043,7190.225160771254,-702.0533925745041,-1719.5695648560784,-2336.381980693558,-712.2290658506921,-1619.2003212419986,4788.397512478603,-1915.8590335303372,1435.8248352203666,-1154.7258315857503,-2285.473213775504,-2528.1638745370547,2467.976250348326,-884.120177995943,-2011.3653947601558,24489.858909861356,-2605.238407875637,-2528.1638745370547,-2707.9594001995497,-1801.4595173824605,-1060.9365548954563,-2515.178642340971,-2592.0911725550354,-1939.3425672504673,-1154.7258315857503,-2549.131298889521,-2546.1434273348773,-2471.2286247298807,382.6746490032956,-2490.848417957263,-2458.0315023902385,-1659.1521675189967,-2685.984391446617,-2563.1241155912953,-2374.338813793049,2864.8766030784536,-2367.8939650587827,-1818.0899676337829,-538.0352323159414,-2794.6614629270666,-2183.843669983073,-1659.1521675189967,-1597.4307761269565,7811.541342074976,-2705.9616721693833,17255.196418464482,-2568.1184356667127,-2542.389507695275,-1490.4633032940599,-1595.2248696062386,6786.850375204037,-510.4585315407642,-2591.223597459533,-1213.380076112443,-2205.813173386313,277.0891591833615,-2609.0718611270504,-1137.1193307593512,-2558.1297955158784,769.6244307214761,-2502.193409723787,-1491.1740880052669,-1513.4846851169711,-2510.109972253471,-1297.2949940578972,-2705.9616721693833,-1829.532677227951,-1814.0346893706947,-2390.8969052154603,-2589.6849709434214,164.12992309569202,-685.8799744883867,-2536.8520900310673,-2643.033238271709,7113.294909704244,-2409.136115733688,318.53920374467657,-1465.8088907500326,-1436.5722971619098,-1757.7398324325347,-2167.0492987571515,-2323.396748076375,-2446.2570240371983,-594.0365478415741,2561.871247123213,-2656.0184704677936,-2336.381980693558,-2670.0025666789606,-1379.401171261034,-2541.1491069438634,-2396.3138226512056,-2379.2054999915645,-2437.2672476907233,-1143.0725181952569,-300.87216870913505,-422.09249052396154,556.5178800688229,-135.12843728656364,-2558.1297955158784,-2168.1559008062654,-2104.013607346284,1231.211698953056,-2123.82631634144,-1920.7073288688769,-2281.195746448257,5467.6909536124585,-2675.995751085058,14554.205130122451,-1185.3919568080487,-969.5709150214861,-1978.0561945068894,106.0742037337602,-2507.8421462849337,-2242.061355722032,-1810.776056181633,-2289.922268742001,4107.58817906969,-1722.4562503947068,-2350.044413881476,-1901.8761272898914,-2217.3091254993774,-377.59457440372495,-2229.3733363844044,-338.13343592897945,-2445.5715190969486,-1485.9585391665337,4028.2358690901387,2167.9603188504393,-1220.6617579563656,-2662.0116545582937,1042.5619232884198,-1264.6008753504893,-2186.01905042161,-2217.5128144885703,-2622.457786819133,-1883.2131054501244,-2340.4793957719103,3698.2627118495097,-2646.0298303169593,-2634.518751524407,-2609.0718611270504,-2546.1434273348773,-1448.3918570733185,-1998.1478791187972,378.6273724990296,-1533.3189785518857,6795.37051164217,8191.158560326803,-2261.467178614883,-2685.984391446617,-2552.1366114253783,-2682.9877994013673,5184.363479464497,449.6426521314278,4614.595767073526,1861.4674304415537,-1595.2248696062386,5458.903876823923,-2705.9616721693833,-1965.6322547421757,-1514.3769145764675,-2639.037781895779,146.3968597695491,-1860.922702039649,-2396.3138226512056,-2784.607930072891,-2597.085492630453,91770.33831744552,-472.4641108809087,-1939.832960389382,-2109.4426380127875,-991.0232729352934,-2471.2286247298807,-2690.978711522034,-510.4585315407642,-2407.301326817123,-1361.4906862873206,2778.330208710327,-1873.0547389099872,-2683.124157763849,-2697.970759627618,-1403.1414060684594,-1747.8156960076074,-1448.3918570733185,-2546.1434273348773,-455.2566916693395,16.169908880641938,-2478.8123176389013,-742.5908719309488,-2278.4478668713004,-1831.5004630025412,-1526.3032517235656,-2541.1491069438634,-2552.1366114253783,-2690.978711522034,-1163.019835742664,-2643.033238271709,-449.50987378660636,-2007.7557143624736,-1769.0272111782344,-415.81467404933767,-1361.4906862873206,-2344.3963139718844,-2548.911365311123,-1659.1521675189967,-2062.1338763912654,-2596.3417253910143,1073.5568150852089,-2636.0411898505286,-847.0841014794077,-2662.0116545582937,-735.6406149911072,1595.8434675411734,10609.947704046992,-2932.5590700551697,-1361.4906862873206,-2264.0993070251125,-2517.0930090581587,-2375.7032811237464,-1374.9058960080376,1045.3256940202957,-764.223869279382,854.9068577440245,-1941.386387739124,-2118.534205781682,707.854880144176,-2685.984391446617,385.60784563395083,422.2508384262108,-2489.2465452429037,-2694.974167582368,-1035.0479280001737,-2400.3649289561454,-2643.803059030258,1497.760246604856,-209.04732503978954,-1206.03120504972,7238.727645032103,-1025.1635647525225,-2114.958702088024,-2226.506937139543,-2605.0764047511193,-2396.3138226512056,-1095.9658169629122,-2497.2688627244374,-2652.0230144074594,730.1050470148351,-2062.964832012011,1458.034324495604,-2463.2377126092138,-2361.5985398024022,-2417.289966967957,878.5363298196851,526.1046949445517,-1421.2931873584112,-2632.112044151409,-1406.2047986715806,-2661.209666580729,-2522.170690446554,-2318.2319510079396,-1912.1205105478798,-902.539243683182,-2385.3263179589662,-2703.963943718118,1037.1097009227453,765.2226275654348,-2165.576231377537,-2845.9081150440156,-846.7694255390451,-2455.246800488546,913.3089046712809,-1769.0272111782344,-2504.4879504863216,-1027.8700998808195,-2520.6712101259272,238.75296428585824,-1798.171774826713,-2490.672885302162,-2202.5677586149804,-1944.8613152396345,-847.2899929186872,2991.509014450419,-2169.670396801703,-1010.2472184215382,-2646.2301278235873,-2614.0661813079682,-2417.2544746570074,-2190.7567907251705,-635.0122805546725,-1027.8700998808195,-1048.962453358193,-2490.497572760837,-2038.7204993563803,-2319.509317176462,-1593.4344014326216,-2060.0459152859116,-2349.367213100367,1755.7802917920817,3565.9558965989486,-2530.4662566167326,-2486.131040653278,-2342.6714548071895,-2317.849567459675,-1132.1651250661143,-1154.7258315857503,-2590.198438666727,-1506.7157357568342,847.8879567287182,-2522.950127280582,-2659.0150625130436,-1529.1116855845892,-2374.338813793049,-2279.6328172853646,-2597.5874248483256,-2502.193409723787,-2548.9769076090533,-2191.69127463627,-1154.7258315857503,-2479.219536850548,7115.872043072298,-2007.010211820476,-1293.1108375436597,-1923.9282301523735,-1857.7472708698394,-2649.0264223622094,-1583.4920805909403,-1939.832960389382,-304.8835264648914,-2659.0150625130436,-1716.087417536895,-1923.6386366071356,-2680.990071160475,-1290.930273518983,-2707.9594001995497,1121.430880516111,-2541.1491069438634,8898.874221371032,-2071.0889910910273,508.02665002559036,427.6962883062165,-2625.053685473886,-2690.978711522034,-2190.8164819372937,-734.5733131816501,-2563.1241155912953,1571.724827729537,-951.9085432099217,668.6344854225663,-416.9573048132139,-2522.170690446554,-2672.999158724211,4247.600485959717,15595.160127771902,-2703.963943718118,1287.1314899266897,-2626.135234272503,9195.74177404241,-2589.7590908509374,-2387.2289417898837,4981.5607010261565,-364.7517277685745,-2165.576231377537,-1619.9941054289002,-2522.170690446554,-2471.2286247298807,1260.200089241239,-2375.799231447086,19176.023080558785,2203.9440365887194,-2528.1638745370547,-1231.3804485260393,-2323.396748076375,640.2471910882534,-2501.5470240454606,-510.4585315407642,2900.3661640950536,-1151.4434805283443,10525.216271851474,-2254.1918913900895,-1415.6907156020432,-1264.6008753504893,1744.0134824237655,-2362.3524456120485,3114.3902410508827,-904.786930239728,1489.417934180274,970.7266229851737,-307.33370696850864,-2705.9616721693833,-1574.33265706935,-2546.1434273348773,-2143.6012227294764,-2163.3768700408873,-712.2290658506921,-2186.537935849965,-1939.832960389382,-2518.0781404819545,-2454.2195051045337,3900.028295707138,-2254.847057738076,-2664.0093825884605,5135.44898989089,-2659.0150625130436,-891.2404870460749,-949.1743335133859,-1138.4500249859186,-2558.9772013129154,-1595.2248696062386,-2407.301326817123,5898.49885749058,-1027.8700998808195,-1154.7258315857503,-2675.995751085058,-2646.0298303169593,-2541.1491069438634,-1193.9438528648986,-2451.5992736057287,-540.8552993273543,-2668.1182379528614,-1216.637831592607,-2627.9097800178565,-1027.8700998808195,763.1380578421864,322.85092036729964,5055.259201532269,459.0900837055871,947.1555339845085,-1903.1939364221937,-1465.2535699692717,-2667.00597463371,-1264.6008753504893,-2422.9750454426385,-2143.6012227294764,-1702.279996704953,-2464.1154405810466,2346.1441776729193,-1365.7955527176941,-2522.170690446554,-1806.3525525427137,-2187.551240024969,-2671.0674377227538,-969.9455768747528,-2690.978711522034,-2155.707225119515,-1963.5799438678278,-2767.3697500426265,-1448.3918570733185,-1659.1521675189967,899.2234581207565,-2605.0764047511193,-141.32509267805355,-2316.803659427248,-2234.846601321611,-1618.531552657398,-2300.0782104070263,8990.57879356659,-245.92430706740322,-2591.9077013636934,-1448.3918570733185,-1225.857676718755,1914.783493860003,-2240.1220188719835,-1062.8619061152363,-2207.528520642234,-1448.3918570733185,-108.19132446338779,-949.9850617615488,-2664.0093825884605,-1552.0780245879926,14566.198617572762,-2573.1127557421296,-2300.917528159312,-311.26462764110084,-712.2290658506921,-476.1203072373515,3677.9450214117414,3211.747311496532,-945.7820248323052,-1564.4076907080566,245.28773456135602,-1662.824097736695,-2523.447869018642,1572.5019244049822,-2241.088741664664,-1621.8918566860734,-2677.993479115225,3074.153493575678,-2933.9747918747576,-2162.8616784801816,-2535.155922642639,-1553.7515939041948,-2218.6273371789302,-1584.9103654348817,-2008.5087250070503,15730.860417869422,1513.5154257460647,-2705.9616721693833,-1951.1655773545142,-1797.0980569330034,-1716.4834301456988,-1621.5622278673416,-2552.1366114253783,-1940.8610072138774,-2378.033227394784,-2612.483355775884,-1675.6472280102012,-1052.441844057415,195.07386349248458,757.7679747272872,-2349.367213100367,-1412.387934001716,-1027.8700998808195,-1271.3919863449776,-2255.084839370647,-388.01049645715733,-2403.4399703704307,-2726.746981441088,-1901.8761272898914,-1877.87989548457,294.77238700494325,-2622.7308306577365,-1361.4906862873206,-2293.4308274131486,-1356.6869457869664,-2472.148633556144,1958.225184834622,-2705.9616721693833,2188.5613521967057,2616.272006392155,-2017.840414572528,1864.2666156387093,-1436.5622489734544,-1447.292131637912,-576.1911021265597,395.20540585209915,67.7246491443161,-2683.496576031201,-2350.8057573028696,-2718.1764969278615,-2578.107076133143,-2558.1297955158784,1877.027477388245,-2558.1297955158784,-2374.605171354885,-1281.5321572047503,-2346.4562909795204,-1154.7258315857503,-2682.9877994013673,5330.703036623615,-2050.7166001917567,615.6920639553279,-2694.974167582368,-2670.0025666789606,-882.0359510467565,-2187.551240024969,393.8259859731259,-2628.376851844665,-2385.3263179589662,122.22761581967707,-2261.467178614883,-69.65636654955003,1292.5089264736014,2096.526171683902,-2519.0203437723917,-2558.1297955158784,-2568.7723315531825,-15.575530273302876,-2171.4622700019727,-2011.8033911933603,-2754.4857116435373,-861.3891381926395,-2128.4956038980736,-2632.0457335794704,5405.562552940443,-2057.7262351066706,-882.0359510467565,1759.3179732903359,-2192.2783931188715,-2223.337265827107,-882.0359510467565,-2535.155922642639,4727.701428234537,-2419.327751827357,-2347.7671846827093,-699.5770332307819,-2639.037781895779,-1610.0108273161832,-2407.301326817123,-651.2188161742741,-2558.1297955158784,-2568.1184356667127,-740.1727390771681,8043.800623071112,-1595.2248696062386,-1448.3918570733185,-2589.656163646223,-2667.00597463371,-913.5691857766259,-1716.087417536895,-625.9133813448217,-2038.7204993563803,-664.0212709526136,-2358.9443026733898,21648.937405856857,2461.8032334817085,-2642.6557389866603,1571.9515766899465,-2437.2672476907233,-1156.5792382998252,2056.734937285589,-1455.5291270086727,-83.52805973946523,-1027.8700998808195,-2109.942148820177,-2672.999158724211,-2573.1127557421296,-754.8847174737822,347.74095060244576,1607.219543938563,-2685.984391446617,-2128.019223859151,7301.339117353838,69733.1492868504,-2664.0093825884605,-2634.492932319975,-2558.1297955158784,-1755.2115700573486,-1639.1277781734584,-2554.6386538338074,-2038.7204993563803,-1093.565473481039,-2568.1184356667127,-2666.6318980807896,-2054.2810657207547,-1907.011475772195,733.0011263043774,-712.2290658506921,-2460.3023163466705,2007.7418462561425,4118.417331332147,258.2799401599688,-2617.0627733532187,-1687.132952219815,-712.2290658506921,288.88555243018544,-2347.6905547871447,-939.9184531747894,-2707.9594001995497,-1089.2448581217923,2249.6059402244246,-505.18838565621184,-2085.6339966561377,-1363.9863132433215,-1817.6835874024985,1008.0598209257705,-2067.687556214898,-1524.6037222072948,6752.564490169084,5267.437139858312,-1451.058941409593,-1423.662313194665,-2686.0162470210266,-1343.1107460529204,-285.2424900118286,686.1151804816714,1322.6071613549545,-1691.6643589663915,-391.4110686010017,814.9217643307993,-2632.0457335794704,-1569.4214280231135,-2656.0184704677936,542.1067719036105,-2463.2377126092138,-292.2873410447091,-1537.1156403028922,-2611.965252722716,-2392.7295838486157,-2187.551240024969,-1045.2343715597538,256.72741105545845,-2522.170690446554,-1307.2742469839773,-1264.6008753504893,-1629.8484562599592,-2362.3524456120485,-2707.9594001995497,772.9777386005017,-1346.7270748508372,-1448.3918570733185,-2158.417128063642,57905.49271663346,24.405837496389285,-1837.247465772129,-635.1119612634086,-2369.5424496777905,-2437.2672476907233,-1448.3918570733185,1038.8197907140961,-2528.1638745370547,-1931.7510141860234,-2670.0025666789606,-1896.3775457517788,-2625.053685473886,-2397.0389771315754,-1448.3918570733185,1527.543604308348,-1701.0799534833939,23361.185425306405,-2169.6117436352824,110.49204758079775,-2568.1184356667127,-842.836351633816,840.8292397691577,-996.593645442241,-2440.121860281948,346.59164927546107,-1376.895565659988,-1860.922702039649,4327.388562609789,-2652.0230144074594,-2524.6332683836195,-1923.4358579266407,-2568.1184356667127,-1973.4959803576126,-2609.0718611270504,6423.651718184604,-2677.993479115225,-2212.7700917596917,913.813000016883,-2668.190364782015,-2059.6337729820552,-2515.178642340971,-2269.3562315630843,-1910.0233166545702,208.65406559882246,-2687.7418573065825,-1045.621574641673,-1908.2526321803698,-2291.5283449847107,-2195.350663926695,-1715.6650251274186,-2466.214276974002,-2308.413787850124,-2687.9821194767837,-2601.080948690786,-2392.778363268979,-2094.6568851484717,-2244.4864898321434,1228.9770303083938,-2515.178642340971,-1815.0481065402475,-2016.493991729458,-2522.170690446554,5003.553325508455,-712.2290658506921,-2636.0411898505286,529.2564483292023,-753.1110406953366,-2498.771358698802,-2187.551240024969,-354.15233700714265,-2916.0174636328766,-2132.1678940534525,-2629.04914153422,-2522.170690446554,-2541.1491069438634,-344.0234014829171,-2334.3055246758004,-2330.4031639510595,-2058.398556883294,-2280.1346271348775,-2029.6903763123719,-2515.178642340971,-2515.178642340971,-2707.9594001995497,-2244.4864898321434,-2632.0457335794704,-2677.993479115225,-2682.9877994013673,-2677.993479115225,-1659.1521675189967,-2563.1241155912953,1612.5941996921063,979.4810031228266,-2428.741754568863,-2336.381980693558,-2546.5024039267337,-1595.2248696062386,-1902.314522580388,5555.394551235059,-2446.2570240371983,-2675.995751085058,-2038.7204993563803,-2778.4386072941024,-1512.67479586276,-2328.15946649809,-2058.9315975508157,-1769.0272111782344,-1333.8312626451007,-988.8897722640879,3031.7182069931196,-1484.5202402172679,-1013.3270222664547,-84.69158225613191,-2656.0184704677936,4374.728509770216,-2574.2865306987064,-2016.720524159809,-2152.8110437543355,-2692.976439552201,-2718.90994157583,-2522.170690446554,-2578.107076133143,-298.21021030559444,-2685.984391446617,-497.3729024355853,-2578.107076133143,-354.64265072177426,-2528.1638745370547,-1438.6555346656257,-2391.961485028494,2081.8061295689004,-2338.7519833727306,-2389.1107067596263,2375.2668945746973,-1769.0272111782344,-1120.57798926643,1906.0986590966602,-406.9259028796039,-2662.0116545582937,1702.1032665990724,5975.5625503609745,-2662.0116545582937,-372.6057549317242,4005.6030997440553,-378.6422146765515,-2242.524269050872,-351.02116725775255,-2222.4026043109902,-2540.7901472900166,-983.7774560675097,-2629.04914153422,-1835.1904361384672,6763.516069060332,-1943.7947859102726,-2552.1366114253783,-1053.928599725805,3507.3468733622262,-2707.9594001995497,-510.4585315407642,-2522.170690446554,-2670.0025666789606,1559.7109483833972,-1959.802861161965,178.18369314954953,-2380.9177950749845,242.8499183176099,2155.114808158656,-555.0690529146269,-2052.7623236878567,1838.8221753179841,-459.5165428461226,42923.99828349057,-1884.7525525294177,800.1238484773476,96.48344924586459,-1838.8006055702485,-2243.480461655476,10966.072756767368,-144.09712508272534,-2400.382777536641,-2374.338813793049,-1325.2993701625269,-2197.6484680231442,-1154.7258315857503,-1361.4906862873206,-980.4241808747672,-2659.0150625130436,91266.53567770772,-2446.2570240371983,-1877.2165853244405,-2890.0756756524993,9754.1127790109,-1817.2908867274552,-2643.033238271709,-1090.5972160111332,-1721.0849270816661,-1743.8738571219671,-2462.9084693077007,-656.5528847861331,-897.0468391910609,-542.3916223750762,-934.5205533514595,-2568.1184356667127,157.39047089747098,-2643.033238271709,-2692.976439552201,-2188.133571453608,-804.7185856762751,-2212.4769908808626,-2690.978711522034,-1526.3032517235656,180.1878509202671,-1144.1102579167318,-2293.4308274131486,-1361.4906862873206,234.7251440423195,-2546.1434273348773,354.57377873081936,-2572.282955477358,-2568.1184356667127,-91.31419505327108,-2374.338813793049,-2705.9616721693833,-2684.292530169199,1925.2314960374529,-2255.706645165742,-2659.0150625130436,-2558.1297955158784,-255.84945777059863,-1912.2062837970698,-527.6446729315535,-2427.2786075398885,-2535.155922642639,-2590.8249261865226,2263.379989445828,-2670.0025666789606,-2597.187541398399,3032.4613838936616,-2120.0509604068716,1009.135351239839,-2687.9821194767837,-786.7902400257136,-2437.2672476907233,-784.1800329203625,-679.8076353411899,-1900.634268475766,-2573.500577512759,-2554.5471627046422,-2670.0025666789606,-1969.0752101944936,-1507.7154306563318,-1901.8761272898914,690.180683595854,-2583.1013962085603,-1822.006583974994,-2336.381980693558,515.9335466305229,-1294.9209992313395,-2588.095716494702,-244.34898293463704,991.2610727769826,2562.6035716933693,-955.0400793280849,-1099.7958349602627,-1595.2248696062386,4531.803374424216,-935.412266029572,-2181.2334909934884,-1177.0566980616522,-2563.1241155912953,-2295.7346741773595,-2207.528520642234,-2165.576231377537,-133.81432401178057,-2278.4478668713004,-2135.707374946962,-2680.990071160475,-1350.8310878245459,-1071.3365682478106,-1313.1609544627293,-1455.814559323597,-1448.3918570733185,-1748.5417771177467,-2675.247868172359,9186.745679156184,-2205.221777003497,1366.9581951588689,-2138.012585300375,-2286.168840241434,4262.859218758509,-2588.81441838694,19081.038086816185,-1257.827487935862,-2210.439324604833,-2009.309486917245,-2690.978711522034,-2362.4302764300946,-2030.5103717426723,-1652.06493167984,-1826.4854437801082,-2362.3524456120485,886.5065020739144,-2349.367213100367,3487.980912358544,-1662.4129916885731,-1179.3317585771022,-2490.376277634973,-2121.4799061088793,386.9147656119781,-2385.3263179589662,1294.488657348205,-2354.577943223302,2223.1153242489318,569.7078103753547,-2923.2975069722374,-1996.9006234376855,-969.6847123511193,8536.492385771056,-2362.3524456120485,-1481.447969935766,1782.7151107076227,-2614.0661813079682,-2559.5159240837747,-2144.907381572461,5846.297013615938,3423.7049194008173,3311.6765064871342,-1526.3032517235656,-862.4350569623564,2007.8826551236946,-680.5189504462877,-996.515676374493,-1974.1111195517256,-879.2222806545357,-2263.8078533928347,-1595.2248696062386,12254.322880068159,-1659.1521675189967,5979.381912835387,-1640.7371462628876,61.267227926792906,-2067.6516728215784,4310.191161585525,8786.749926749015,-1144.3813860007344,-1335.8128633922,-576.8511345503235,10055.36711132586,-2707.9594001995497,-2207.163538302794,-2522.170690446554,-2703.963943718118,-2605.0764047511193,-2744.1022118231244,-2080.303690818751,-2599.2255128013135,1074.1578564729932,-35.318508710327855,-1558.4919312140166,-1770.399462159081,-2115.8456715755847,-846.3267788234253,-656.6748116065511,-1154.7258315857503,218.5573172661437,939.0358387360278,24447.5901855581,-1526.3035407489301,-1747.8009240023773,-1716.087417536895,-1279.9794589980133,-1716.087417536895,-2385.3263179589662,-2310.5365216010896,1447.2882593352026,-2609.0718611270504,-440.0167086061074,-2167.5382462551074,-2323.6345139280643,-656.9765066166772,-227.4121057462478,-2114.3073796327153,-1918.0458142677849,-2416.068858340873,-152.16472119231753,-1947.5826968685299,-2161.226969066445,-480.0491782172304,-1394.1419205279954,-2664.4673028601946,-823.5588739809431,-1716.087417536895,-2568.1184356667127,-2558.1297955158784,-1047.1529492656323,4798.581514196868,2463.978303663915,3802.393837501269,-594.7932509849306,-1967.910650556113,-559.6420687334812,-2290.1666761509105,-2165.576231377537,-1595.2248696062386,-233.3854572310652,-2111.788786259046,-2617.0627733532187,-2528.1638745370547,2824.3028626110818,-2081.2868300067335,1093.50234987375,-1734.7452113767301,-2187.551240024969,7689.210817399906,-2537.841120072094,-1448.3918570733185,-1343.0902558521177,-2522.170690446554,-2558.1297955158784,-2617.8214163383427,6706.326126359028,-1186.890360239373,-2656.0184704677936,-1659.1521675189967,-2568.1184356667127,-2494.20249760312,-83.92819032836358,-1974.7932013383993,-2825.9903063724455,-2515.178642340971,-1450.8834578996757,-1273.26071587983,-2707.9594001995497,-1648.9998949978296,2495.8770455195513,-2705.9616721693833,-567.3340729958688,-1947.8463407450276,540.6227274949845,-1401.9816172772973,-2677.993479115225,-2658.6571871986484,-1991.3207051259085,-2592.0911725550354,-2588.095716494702,-2503.6241128198712,-2692.976439552201,-1709.120302834682,611.0814593321104,-2597.085492630453,2941.159517454252,-2784.7403555206383,-2385.3263179589662,-1313.5164142470019,-2597.085492630453,-2070.977667360591,-2707.9594001995497,-2007.7557143624736,4065.710457897272,-2694.974167582368,-2067.687556214898,-1894.4906664139041,-2224.883476099698,713.2163152407298,-1657.4424570292608,-2491.879728536773,-321.625901747427,-2568.1184356667127,-735.6695927353403,-2075.8782865935505,-2436.949268017383,2931.145730613421,-855.8147404990555,-1264.6008753504893,-2293.4308274131486,1255.9943822315006,-2309.4705071867447,-431.84909742526236,-2434.391070650454,-1668.1995429952135,159.46708947164825,1364.5017515625293,5189.415253486952,-2643.033238271709,-1866.1676550649383,-2100.1457219212507,-1880.4359279626267,-679.2331643737283,41054.553956186144,-2605.0764047511193,-2840.2100134323455,-1554.4754634106143,-1264.6008753504893,-2119.6284860518776,-2417.289966967957,-1507.8988063174568,307.36518799062947,-1597.944696255332,-2099.9572440022857,-2098.1039417565357,-1986.5804577811537,-2528.1638745370547,387.8599608904348,-650.7305919151814,-2417.289966967957,62.95732958978406,-2366.387135196633,333.3675960328633,5069.3264888292815,-1695.4221155602384,-2522.170690446554,-2257.3879619438108,-1503.479157734365,309.8374860652844,-315.9066420182141,10459.056068263086,1002.463050756781,-1595.7726275594791,-1526.3032517235656,-1043.4403293561586,-158.31227097831604,-1608.7599009214252,-1397.1750440968676,-1901.6138106945564,-274.3336988901263,-164.63621809942583,-2578.107076133143,-1512.3422303068837,-2592.3667595314832,-1361.4305858915213,-2592.0911725550354,107.51651758194582,-2124.849481429104,-2263.284203117099,5116.9943810586365,-1595.2248696062386,-2646.9610169166476,-2541.4352633439826,-513.0488595125274,-1609.881445313167,-1890.523115653786,-2024.2460498787595,-2119.534594871463,-2680.990071160475,-133.93235213856917,-2577.689114629629,-2224.895605958299,-2105.0619422538857,1446.9742217498795,-160.03588735781042,24.93789282911053,-2597.085492630453,-2672.999158724211,-1525.7928889878697,-1904.734209332854,-637.9400438286802,4635.980654646745,-2425.183266054077,-2455.246800488546,-1659.1521675189967,-2458.458070858061,-2334.5520582592653,755.6111586579602,-2656.0184704677936,1593.2063039621153,-2707.9594001995497,-1927.8474366530472,-2152.548871935491,-2137.457401304751,-2254.403848651132,-2206.6786617680787,-533.1221321199739,-2605.0764047511193,-1250.6969851701494,-1534.9141749853088,-2541.1491069438634,-2537.0210792910525,50744.4098912248,-1027.8700998808195,-2335.222213357677,-2437.2672476907233,601.5895886466603,-2380.2244643880977,-2510.0031024540663,-1901.8761272898914,-1729.2931654535153,-2057.932437141661,-1595.2248696062386,-2264.1247365201057,-707.8165368100586,-2617.0627733532187,-2758.9001978708275,-2511.851117985397,891.6403208794121,-2703.963943718118,1594.2538489106862,-1872.3329431786847,-2035.6805260163574,-2621.0582294135525,522.3740688501238,-1934.4899870454735,317338.70957758266,-2171.2085482752586,-2372.0315961596357,-2009.933117549692,-1740.1470390573352,-2121.8379026334896,-2734.6534643220302,-2751.4763398288706,-2573.242482854128,333.3013576355919,2278.026189616615,-2293.4308274131486,3353.6834170425745,-2705.9616721693833,457.83542429417525,-1973.6744574392053,-2101.293169166076,316.6789205169667,583.4115666384802,-2544.357778096329,452.25859887845627,-2667.5572876829897,-1789.5221031788979,-1852.4763088291115,-801.5117084217648,-1945.5315125261677,-2517.713823412763,-2015.9317947744416,2289.3489325391106,-1848.0853757979896,-2568.1184356667127,1647.4046327081169,-1041.5874074554906,-712.2290658506921,-1716.087417536895,-2692.976439552201,-882.0359510467565,-2226.506937139543,-2096.841087712506,-1334.6869980607485,-2632.0457335794704,-2704.4148897447762,-1158.5873584648716,-2499.6527000519027,-2568.1184356667127,-1676.0746630288122,-2632.0457335794704,-1048.646347868937,-2427.2786075398885,-1676.7378436670108,-496.6588364089868,2606.1133088536703,-2143.6012227294764,-2561.6138930884367,-1783.3220881675982,-2528.1638745370547,-2670.0025666789606,900.8480738897949,-1154.7258315857503,-1154.7258315857503,-961.073406830086,-2649.0264223622094,-2672.999158724211,-2427.2786075398885,-2092.248947286878,-1298.6412064765984,2706.6183223720295,130.76524397703943,-1154.7258315857503,-2407.301326817123,-1758.476525470693,-2355.030846762407,-1027.7215424267724,-1988.4328436081018,-2571.9785907694372,7504.134064585266,-2562.3061845721045,16801.626089748148,-2368.540077391151,-2253.119211116221,-510.4585315407642,-1001.765419506101,-2687.9821194767837,-18.911985849605863,4514.456428903591,1423.3349724970435,-2677.993479115225,-1860.2826399633004,-1939.832960389382,-2677.993479115225,-2675.0290613366724,834.8144920864166,-2552.1366114253783,-2707.9594001995497,-2331.5503112316837,-2656.0184704677936,-2651.403141510656,-2084.725065646817,-64.0002660436943,-2636.0411898505286,-2662.0116545582937,9508.837860420113,3916.5172455423535,-1075.7378414216041,-2199.869292377596,9946.469657416563,-657.3544715802744,-2225.277899756634,3737.8125517511294,-1479.100040825482,8182.439156326756,-2541.1491069438634,-564.6593882660968,-318.89815306478636,-2597.085492630453,389.46402910223077,-2646.0298303169593,-2362.86611418499,-1370.4874033028275,-2077.4598870056857,-2321.7073965860873,-1794.158687663363,3963.6980941611155,984.122432624827,-1242.4395765008987,-1802.3101446408891,-2033.8540009640076,-2450.9092347655624,-2685.984391446617,-2670.0025666789606,-2563.1241155912953,-2207.528520642234,-1939.832960389382,-2510.7008085900793,-721.1304603716128,-2643.112759677531,-1719.5874558398323,-2323.396748076375,-1983.2174689966296,-1929.345300560629,-2530.384165032987,-1659.1521675189967,3658.7504652549187,-1819.5320237831943,-1716.087417536895,-1581.3040907203858,-2342.0037689872106,-712.2290658506921,-2417.289966967957,-2528.1638745370547,-1069.5037744863478,-2071.391803053994,-1835.6208610347703,-1205.2916895225285,-2771.907350027333,-2705.9616721693833,-2614.2269279618854,2894.9299529933874,-2314.374249192671,7310.961496679792,-2293.4308274131486,-1325.3136661777805,-415.87525770777444,-1659.1521675189967,-1808.3635435998917,-2670.0025666789606,-1311.7428833068655,-2336.381980693558,597.9698137427139,-1888.6954649113688,-1884.1038386643409,-1145.9830408167961,-2636.0411898505286,-1925.4912444288336,-1426.431822443311,-1450.2361753684177,4712.404381311014,-1716.087417536895,-575.3052310884551,-1247.3578660775117,-2546.1434273348773,-2710.508877286597,-2585.3472462433256,2835.3441908350333,-1571.2323612342923,-2546.1434273348773,-1436.9927136417589,-418.45329104931784,227.81848865894352,-830.1982394399183,-2541.1491069438634,-2485.7840069554104,-1609.688932728881,-2049.3209712844505,-2121.9804223527162,-2707.9594001995497,-2578.107076133143,-2168.796680652373,-2195.216850175798,-2621.0582294135525,-1243.095174334801,-2656.0184704677936,12284.43587003095,-1104.5225131076547,-1463.616772464102,2754.756331867945,10955.43364473501,-956.1002351824144,-2373.982190422529,-2226.506937139543,-1155.6160780821565,-2583.35029806196,-2535.155922642639,-2705.9616721693833,-2646.0298303169593,-2509.185457829371,-2519.351522493818,-1801.408966256118,-1878.3250090292663,565.8668094448511,3466.7802586713074,-1181.0985362234453,11157.806175833864,-2690.978711522034,-1183.2404382674586,-2539.0799308237583,48.64256241359601,-2267.0545276963007,2911.4369911029657,-2278.244163570555,-2262.3092527719914,-1006.9919688291883,-803.2955906768995,-2629.04914153422,118050.14434110065,-1595.2248696062386,1220.056177091607,-2535.155922642639,3405.8608797841157,-1316.499546003457,-2103.9361878028712,-2562.745445796172,-1269.6861101922057,-1759.7607344719333,-2703.963943718118,-2643.033238271709,-1201.2512644833346,-2336.381980693558,-1421.4002479304604,-2242.3218773518834,4325.175936126975,5199.036149443437,-2151.0301780959458,-2740.0342391149125,30866.080456768937,-964.4321503141965,-2458.8508486467695,-1361.4906862873206,3696.374103285942,1711.2669220851383,-572.7835478714342,2546.256757208111,8652.747935367985,-1760.6295131214542,-2327.3226622174634,-1907.0237845035936,2485.693297146688,-1223.2956392485507,6.1809397359357,-2182.4386862498945,-2374.338813793049,3857.49132431307,-2019.1738440642348,-2546.1434273348773,-2297.8410482390073,-165.7127549028635,-2085.5344928109607,-775.3660636370466,10914.739605371622,-1522.8542990407109,-2680.990071160475,108.24880747189731,-2629.04914153422,-871.9869076939397,2108.5460171012814,-2047.8691132432878,-2240.7281504497296,-2427.2786075398885,-2305.852847016256,-2535.155922642639,-2670.0025666789606,-470.2774999494971,1280.3541628550504,1045.6940102221308,7164.122682756354,12062.290749059996,-248.42890283897225,304.1343439582039,-1866.6944928143773,-1107.9233940290474,-1154.7258315857503,-2515.178642340971,-1526.3032517235656,-2698.2157265726246,-520.5466658568212,-1756.0880900539394,-2473.685874080001,-1595.2248696062386,969.5365903958979,-2563.1241155912953,-1860.922702039649,413.210603306734,-2265.185459066523,6068.196367147728,-2512.3349980313383,-2396.3138226512056,4628.1924261602635,-1428.3687166186705,-2137.552878274413,-590.6020651905083,436.29702030236433,-912.4613447497154,-2428.0849449747307,-1529.5513297856244,1036.7505502329125,-2073.988295224761,-1609.7920744635908,-2081.065205419463,22425.791031036108,-1937.4746661832805,-2458.9516110674836,5301.388310075971,-2568.1184356667127,-1954.2930759647465,-2546.1434273348773,-2535.155922642639,-2194.3152822878988,-1347.1021435809455,-712.2290658506921,1463.215469410808,363.47950691934625,-2337.4350647681185,-1526.3032517235656,-829.8559798245051,-1653.6633386358174,-1816.9726845340604,-1745.6237234591767,-2469.587359929547,-2605.0853157846277,-882.0359510467565,-1088.7916031620537,-2710.3808666388786,-1595.2248696062386,-1657.360106722922,-1816.7246631120609,-1226.2570847050263,-939.9792342046454,-2136.718453728252,-1138.7381707710442,-2191.295601035521,778.5317745907656,-2125.8198403213487,1367.3932349015854,8324.783244363414,-2584.024741280731,-1906.7592213612713,534.1517258401985,4019.8923563070457,-2588.095716494702,-1860.922702039649,-2522.170690446554,-2692.976439552201,-1122.9423334081903,-1836.9888060142428,-1011.983693687961,-1448.3918570733185,-2482.076798430788,-1836.5448170784966,-2250.838822540149,-1926.077056668867,-2646.0298303169593,-2160.601552096105,-681.3869087383081,-2353.695565719338,-1431.8964137008054,-2019.0377745119793,3840.799881660103,-1954.089478409948,16844.51567888619,-2759.0982560987163,547.745960683647,-1202.287825163469,12975.19265985485,-2680.682271303086,-2667.00597463371,-2191.1809770326013,-2457.6913566613234,-1706.0273279278836,-2226.506937139543,-2479.219536850548,12.324891529552273,-1979.9900209494333,-2592.2881343423564,-356.4583474206408,-2263.971814660993,-2573.1127557421296,-2013.73783746854,-1149.1224649713633,-2042.86430980932,-1643.4444052710464,-2541.6230972521394,-1820.3489133975556,-2474.2528841806234,-2541.1491069438634,-1970.492012348365,-2694.974167582368,-2515.2805160302837,-558.440276098729,-2592.0911725550354,1800.5012552111382,-1186.6271195555378,8984.531853482962,-2522.170690446554,361.7485702434159,-2546.1434273348773,-356.16340570430754,-1769.0272111782344,-791.1237484553452,-1595.2248696062386,-1302.9299820463423,-1297.9257145568117,-1956.8451276553533,-1792.6048069414821,-2583.1013962085603,-2318.7891281823845,-2515.757119130468,-586.8600518457059,-2693.383199501156,-1444.3556003023143,-2095.066016941627,-2566.6713304770365,-2750.4591955370015,-1786.9278175638456,-2639.037781895779,-2515.337871801629,-1872.2852032727237,-444.4977318263524,-679.4030910863469,-2705.9616721693833,-1974.7932013383993,-1707.798623914179,3665.0994926852363,1090.4150386531082,-1508.4986448973748,-1022.3961955451057,-2703.963943718118,-1659.1521675189967,3720.1530935702,-2782.124241905881,707.5561369292485,-2565.4279272198664,-1264.6008753504893,-1250.3824157986344,-1444.0687996847969,-2349.2106412506055,-183.22859641228382,-604.3676234998991,-2552.1366114253783,-2344.4276770343645,-2649.0264223622094,8609.616165802541,501.885032864072,-2632.0457335794704,-2433.959476507094,-1979.9467464532509,673.9181743547929,1107.840490559586,-856.9764323024239,4336.382449179441,-2292.023573566708,-551.7747005877362,-1050.6984490553332,-2608.140173493235,-2143.4572569390166,-2609.0718611270504,2833.653362114953,-2587.150209677527,1981.4590799738348,-2664.0093825884605,1377.6122135844896,-1697.0330011591511,-2664.0093825884605,4237.09015319351,-2389.922558272282,-2248.1282674747695,-1942.7763723008134,-319.71329189771456,94.84208468583248,-2070.4223961417015,-2210.995028142382,-1154.7258315857503,2300.547052803001,-1957.080566157798,-882.0359510467565,-2101.577484637795,-2568.1184356667127,-1769.0272111782344,-1193.291415040126,-1940.1851339198927,-2546.1434273348773,-2226.506937139543,-2707.9594001995497,-2308.413787850124,1400.1045292207173,-2226.506937139543,-1179.3150301028923,-1491.625558416172,-2670.0025666789606,-1264.6008753504893,-2299.3957950905783,-2528.1638745370547,-2630.569820460773,-2398.997762662918,-2385.3263179589662,-2411.9731184810585,-2379.2732086565225,724.8766389729478,-1482.5177052568222,-1595.2248696062386,1696.2332682631666,5073.851550992665,5613.467385043854,-664.5107511559868,-695.9776829938093,-2289.44696608988,-1000.3188239350625,-2337.163799267156,-2558.1297955158784,2196.6403479825603,-1931.1715250308225,-181.06274956341036,-2382.690997126471,-2135.04440430727,-714.6146145944323,-2591.048325843313,3212.4744687636917,-518.4756418562943,-2196.091690752178,-328.91483445905357,-2515.4135939148805,-1257.4224835866019,-1333.0982797716024,-2563.1241155912953,-2639.037781895779,-1027.8700998808195,-2323.3339202052425,-2705.9616721693833,384.4648905458011,901.2971119472458,-2649.0264223622094,7512.707303914896,-1096.121852743367,115.97235471807173,-2411.857884975912,-2776.5311585324116,-2419.5803482851024,-2257.428864600557,-1742.2858398841208,-2160.5909479576144,-2303.2377238853937,-1672.637152302254,-2291.5740868695275,-998.3525195010418,-1595.2248696062386,-1650.5249966055007,-2463.850754667896,-1119.545468199162,-1340.1759804519365,-2235.8222447130765,-2528.1638745370547,-1769.0272111782344,-2352.6941893907406,-2662.0116545582937,-2205.0216853995535,-1231.0065307547413,-650.9318873748716,-823.4074059920465,6257.069706628959,-1877.4084801860686,-1261.3046290493307,-1106.1275193322713,-1076.3187135255284,6017.1072674055995,1076.3676855013607,-2143.1651937947067,-1154.7258315857503,-2038.7204993563803,-154.93655440740778,-2578.107076133143,-2709.957128229717,-2659.0150625130436,-1127.6616158299466,1193.2519671989148,-2385.3263179589662,4281.728166167378,-2574.138118121959,76.87197362218004,-1329.6453282143207,-2675.995751085058,-2705.9616721693833,-2817.485491257918,5835.0318172520365,1459.8699132571157,-2159.455369747644,418.99408751175196,-2670.0025666789606,1495.035505700572,-2643.033238271709,-935.198337658181,-1691.4433375703254,-2652.0230144074594,-1264.6008753504893,-1716.087417536895,-1813.4344826234892,-1854.9255965990144,371.72793330819457,388.2490080874356,643.1553625563702,2750.251251799496,6064.382436509008,-2707.9594001995497,-393.0186068963581,-2528.1638745370547,333.26702595899445,3425.472306559194,1912.631255846169,-2659.0150625130436,-2314.3312347831866,-791.8543009754516,733.4751967019977,-1197.2946119306644,-2436.94796809088,-2629.04914153422,-1027.8700998808195,-134.14002496819515,-2374.338813793049,-2703.963943718118,-2558.1297955158784,-1944.7197030967607,-2535.155922642639,9820.183362046428,-2685.984391446617,-1259.4708114624345,-2329.791707159715,-2244.0469976609625,-2614.0661813079682,-2752.921997793932,-1262.1270960455292,-761.5033553543775,-2680.990071160475,-2417.289966967957,-2455.246800488546,-1032.421230855245,-2323.396748076375,-2541.1491069438634,-2016.1378268937594,-1900.2412298589,-2207.528520642234,-1448.3918570733185,-594.7036683421176,-2200.847405890042,-2479.219536850548,-2621.0582294135525,5097.955923718536,-2399.4849760116954,8569.915129287108,-2013.5293816274914,-1006.1381744036469,-2685.984391446617,-2368.6367656907687,-731.0934968962401,13645.720540623512,-2349.367213100367,-2472.5702194890114,-1819.5185212007766,-2501.601909801048,-292.6158369051263,-1678.6126235539289,1507.4777159522025,-119.07549259994238,-1448.3918570733185,-2578.107076133143,-2043.6987750654482,-2707.9594001995497,-660.1222990927699,-1027.8700998808195,-1716.087417536895,-2125.3240418846417,-2605.0764047511193,767.7999510417034,-1114.8092054271228,-975.487341273734,5064.661961459605,-2573.1127557421296,-162.26788085396345,-2144.9308589141965,1015.2672529241903,-1663.554898237971,-1995.8818724130044,-2337.094877587778,-2609.0718611270504,-1817.1483315569926,-2590.5677383763746,-2492.9194864666138,-2178.1139577434215,8013.298858582655,-2293.4308274131486,-764.1918538849246,-2155.1991728911016,-2614.0661813079682,-2707.9594001995497,-1316.7736320982635,-825.2422859127312,-2362.8399057886145,-2598.7078869006796,8686.277504576336,-2657.523165738801,-2792.34971065669,-1183.9621799060299,-2407.50417903639,857.5794720580852,-2064.7576583497475,-1432.849884413858,645.9638178054513,-2632.0457335794704,-816.861640074867,-2346.504029938061,-2682.9877994013673,-2563.1241155912953,-1154.7258315857503,-1841.6151687053602,-2652.0230144074594,-2534.6453442143898,-2014.3752844373225,-2558.1297955158784,2272.378767480467,2395.3741999430476,-1894.8008041474536,-1526.3032517235656,-2680.990071160475,-2535.155922642639,-2791.7991622016534,-2535.155922642639,173.72259186381774,-2217.349498389013,1119.4680765536477,-1071.4101954136538,-2588.095716494702,-2639.037781895779,-2539.4560327524828,477.81983362655035,-2350.6540514100748,978.2774155466524,-2047.838527708908,-1470.0383118869172,-2269.180916911783,-2614.0661813079682,-2652.0230144074594,-2286.261284403195,-1157.3966630167042,-71.53737522188024,-1638.3759242581373,1292.2750043944818,2977.176844945541,680.1189337114022,-2349.642321981274,-2207.528520642234,-1034.734413306337,-1011.457202291503,-1992.0932241102912,3199.57157110767,-1918.392544001324,-2659.0150625130436,-2707.4905834954507,-609.146834936869,13626.431788705275,-1489.119225690815,-2533.116508221196,-2715.5351691950673,-882.0359510467565,-2239.029501470749,-2563.1241155912953,-1915.7061631184806,-2336.920776166034,-2142.2691687081497,-1027.8700998808195,-2085.666614079242,-1977.8573509519179,-2259.311055362169,-2568.1184356667127,-2582.9428770484938,-1639.2900573854565,-2552.1366114253783,-2617.0627733532187,-734.700930431338,-2278.4478668713004,-2563.1241155912953,-1875.8472939095798,-2244.83710102875,-2007.7557143624736,-1360.9482073495901,-2528.1638745370547,-2576.129218590234,-2707.9594001995497,456.0872435971943,-2563.1241155912953,-2332.823171802369,-2528.1638745370547,-2541.1491069438634,-2045.559701361238,-2407.525708651135,-1526.3032517235656,-2573.1127557421296,-2359.543410334553,-624.7784616773922,-2522.170690446554,656.9351212591641,-2741.1466862452303,-2290.8585796001507,326.18501002319294,-425.59317440777266,-768.3766966031326,-1458.7699638059537,-2446.2570240371983,-2611.9809349405973,373.6251937609496,-2687.9821194767837,-417.2872580899162,-2705.9616721693833,-882.0359510467565,-1864.9744548820597,-1588.7106523380692,-2470.6447490679043,-2484.3627768430597,-733.1238748576785,-2509.185457829371,-2629.04914153422,-2680.990071160475,9884.084245391354,-2495.889348674311,-2182.0048811340084,-2525.6774431087874,-2447.153856537941,-11.519747726985091,-1231.0858443582756,-1154.7258315857503,1278.9092815853473,9004.999006749436,-2558.1297955158784,43.2723099043052,-2705.9616721693833,-2687.9821194767837,-846.9463886904604,-1328.6053091400975,-2196.825566775797,-1398.1814168277222,-893.2207023320051,-2232.803517756311,-2546.6544991119313,-2548.6417439942725,-2687.9821194767837,-2249.543089397896,-2263.969909122123,-2007.7557143624736,-2819.37072135422,-1769.0272111782344,-2301.8606820611835,-2442.9941750123594,-2592.0911725550354,-942.1998833752416,8236.318219521838,-2283.8762767716157,14133.761992956393,-1915.4356765189002,-2063.8278490097787,-2063.9056488938586,-2548.420640432123,-1623.764470191746,2212.3281347672378,-1769.0272111782344,-715.2748877361603,-2044.6201799802554,-1278.9456341093392,-1097.9363674534115,-2697.970759627618,-80.71544865652238,-1003.4635446271554,-2528.1638745370547,-2184.380138742541,-1027.8700998808195,-2085.5589220277766,-2528.135443694447,-1286.1159866390442,-2204.6910682024914,-1976.9589426520495,-2590.4425877738627,6909.868761246475,4165.063650520477,-2399.453525936045,-2336.381980693558,-508.51527387194625,-2583.1013962085603,-1168.6673075079052,-2241.4975056305398,840.1675177570152,-1689.4010270114409,-1921.343779669522,-2048.905357423292,-2201.7638707736114,11146.593676775832,-2515.178642340971,-882.0359510467565,-2561.646816691069,27757.986491905514,-1864.1421043217392,-2312.8570245593414,-2124.6033391336914,-882.0359510467565,1239.0020853567405,972.0846039473796,-635.6527163538959,44115.72496041068,-2558.1297955158784,-2143.6012227294764,-2213.2383358814996,-2535.762384271312,-2293.4308274131486,-2617.0627733532187,7606.134552027775,-1724.1839712934875,-1654.9609293298988,411.28698675769044,-2632.0457335794704,1177.8123368887036,-2235.3060494139777,38342.01307967495,-210.06542636437987,-1446.4010898230058,-2552.1366114253783,-2489.7358805506956,2651.5046285227827,-154.1639435681608,-1777.7251264980948,489.90703565706036,-2417.323915466667,-1037.6073430178858,-1716.087417536895,11071.474722140101,-2636.0411898505286,-1823.9592574868714,2564.7897228219003,-1431.3120285885034,-2068.411845732898,1033.8425068666186,-1551.5975685283702,-1118.0790865547585,4036.4072842861565,-1659.1521675189967,22153.787306672988,-1459.4713931643373,-2023.796519826137,-2455.246800488546,-1365.9452676376925,-2110.5358109086205,5939.81091108927,-2552.1366114253783,-2261.0618603057437,-2629.04914153422,-1690.0877389795132,-2682.9877994013673,-2382.65365451331,-2707.9594001995497,1070.14098034244,-2293.4308274131486,933.3016079412871,-2334.100710312137,-909.0193362062998,-2886.8660472603356,1156.503717689364,261250.0819609753,3075.535273427757,-832.6714752783903,-1545.6359907446986,-2261.467178614883,-2423.418901282189,1781.5147026962552,-2064.2783300949327,-149.5165850244914,-959.493780648857,815.3012503825572,-2020.7503316872026,-523.3947102290672,-2042.654037231911,-1869.6787978040768,-476.4009239855095,-2535.155922642639,-2219.6114286624625,1310.9385087646035,70.71683828973451,-2597.085492630453,-2008.4497651347795,-2466.9968460460937,-2662.0116545582937,-1716.087417536895,-2542.7564252445327,-2656.3718569116368,-2285.2141171678195,-2672.999158724211,-1976.8380897538036,2079.4024152324305,-2412.0287819849245,-1912.895925870624,-2743.1026987397727,-2374.338813793049,-2705.9616721693833,-2677.993479115225,-1865.9534800808965,-133.74356435589786,2694.758407983124,-1859.1629574441522,-2528.1638745370547,-2614.0661813079682,-1789.4656125850602,-1939.282613210122,-2598.106350675463,-1716.087417536895,-2119.0949452013233,3833.647069115245,-2293.4308274131486,2017.2051367539016,51.039015594995256,2791.192852705606,-1248.7344416011556,-1716.087417536895,-2206.3132605701594,-78.87670324977046,1585.7402878457324,-2146.3714986779287,137840.70998162482,1195.688682495015,-1683.3004644177101,-2488.3030434997054,-1031.0023784823395,-1321.229223402354,-2446.2570240371983,-2554.9890659701164,1010.3363672888688,-1526.3032517235656,-1172.8666865667053,-120.09963942951204,1373.8343645809,-2507.760272284168,-2200.372189939905,46.631281397222345,-797.4190420892725,9495.145014891066,-2600.147093009891,-540.5670781852936,-2011.9447513549385,-2528.1638745370547,-2568.1184356667127,-1580.1412177701134,-2407.301326817123,-2372.4207362647726,-1965.5431890144434,-1154.7258315857503,-2767.1709974001415,-1361.0748412733656,-2617.0627733532187,-2517.150885007664,-2636.0411898505286,-2535.155922642639,-1590.7443930819375,-2449.682119864962,-1922.3156958382096,-721.3571777424515,-815.1302841288142,-2502.193409723787,-396.8132731484711,10.670082858644793,1438.5521725279139,-1702.5685545251902,-2308.6866003207947,-2211.056974945491,-2535.155922642639,-2617.0627733532187,-1125.2870876620152,-2233.3626855879556,155.27366769452414,-2785.0582376586567,-161.85884815985975,-2656.0184704677936,1477.3762901087357,2985.6720505925396,-2672.999158724211,-2471.2286247298807,-2522.170690446554,-1076.2683784029236,-2128.764945543725,-829.1160465009323,-2349.367213100367,-2685.984391446617,4358.06821590795,-2748.3632598031722,-1722.582527002883,-2129.2396204963757,-2231.7935562393245,11828.288201052668,-1657.272945586639,-2643.033238271709,1460.916589339238,-552.8481115696352,-2667.00597463371,-2672.999158724211,-323.58261739855595,9436.548284533974,4409.191094731327,-753.5631660701049,-2709.957128229717,2881.9900138995185,-876.7447077700709,67.30770148942325,693.4371549439859,233.69508782784675,-2522.170690446554,-2597.085492630453,-882.0359510467565,-2376.583059726258,4080.3539386309076,-1481.619862696859,-1994.1708304309764,-2656.0184704677936,-2707.9594001995497,-2522.170690446554,-2292.4782570224183,-1128.231173585684,-2608.1876944479754,3802.3710072515196,1666.715360774902,4388.9197782125875,-1526.3032517235656,-1836.817681522744,-1861.1047988087312,-2643.033238271709,486.66410982092634,-2455.246800488546,-1526.3032517235656,-85.60834934288616,-2659.0150625130436,-876.445538227497,-1648.3350686967362,1665.0519851318677,-2662.0116545582937,-2597.085492630453,-1769.0272111782344,368.6346864477376,-2049.7439862348488,-1856.6759244999694,-110.15901022411433,141.36990828967703,-2232.3796784482875,-1027.8700998808195,-1204.7751473295225,-2694.4794014154886,-2175.3579589722226,-514.5015007754877,-1441.7407201328117,-2547.7247538747315,2272.706950041023,-341.2300742091912,-2538.0030492319775,-56.72109503036888,-1695.867790877672,-1027.8700998808195,3391.387989367863,6180.032517204555,1267.602276122432,-2407.301326817123,1120.9986130299867,1856.5223111998373,-2563.1241155912953,-1649.64912451462,1889.3565345602478,-2542.935508570036,-2784.4230419600935,1048.7494992088855,-1819.782813088486,-2605.0764047511193,-696.7660685379749,480.6889799984679,-99.5482475809178,1797.9727765122034,-2308.413787850124,-220.8529718165865,2118.603178997499,788.9859649532971,-2144.723922797832,28574.46040590552,-586.4508805771275,26056.617434744443,-2398.3258751042067,-175.89534719188322,-2246.480389314811,-2838.194747307758,797.8559566302808,-2430.6236053841762,-1361.4906862873206,1698.8119839134274,4861.7223421090575,-2558.1297955158784,-2535.155922642639,-2524.5994357264804,3316.294970509431,-2343.8071663284904,95.08165434104077,-2067.687556214898,-1577.5247148673668,-1424.716581248935,3396.722518734157,-2336.381980693558,-2374.338813793049,-2553.0520282724565,2219.8861328986463,-2362.3524456120485,669.855192976141,-1450.8926381691028,-1572.6212357999252,-510.97837335127736,12994.021037673241,-2200.6651451816942,-1824.0710632118846,-2196.4945126237144,-2558.1297955158784,-2074.797547941466,-1361.4906862873206,-2181.9263447429785,-1976.6353529502467,-2356.7158109220036,10062.271319569538,-2558.1297955158784,-2534.8606431996195,7231.555863541538,-20.93486035904525,-2682.9877994013673,825.9944257077137,1840.9567217721637,-217.71610669038103,3674.0365653039253,-2276.2900136846715,-882.0359510467565,1365.1663462473157,-2659.0150625130436,4899.0680680811065,-1480.6562155370668,-2770.8967454466806,-1523.2041078803127,-1588.9887285890948,16694.59727538486,-1438.5473010615312,-960.0112569499753,869.9105719467186,3397.5828289704123,-2559.8278216186936,-2610.6254640773345,-1138.7619965859315,-2578.107076133143,899.5741721158283,-2641.3959172242103,-2191.9758925985752,-1939.832960389382,-2625.053685473886,-1941.5271764717932,1982.4822934078447,-2558.1297955158784,-2502.193409723787,-2489.949795969597,826.2830331946948,-2603.6756947208946,5266.920352277661,2011.0687008099785,-1494.9464095526903,-2057.902281303509,-1264.6008753504893,-2583.1013962085603,-2572.287069572004,-1592.6185720797212,-2072.260918798376,-2522.170690446554,-2175.2050441706338,-322.32409977310886,3249.133120787513,-1755.590697104628,-2214.0552973457543,-2253.388356021997,-2591.177461759999,-251.0803233745461,-2362.3524456120485,-2603.167469835009,-88.02266950231349,-2685.984391446617,-964.066278179349,-2780.3158630822895,-2196.4848579385125,-2528.1638745370547,-2240.2989817078023,-2639.037781895779,-2294.164733002494,-2155.730313905544,-1042.032051670696,804.6968037530808,-2490.898885654155,223.64100484661577,-1154.7258315857503,-2714.1690838771237,-1154.7258315857503,-2692.976439552201,-2104.239778456496,-1009.5563905697607,-1194.8065220213377,-2652.0230144074594,2272.2334990549402,-675.4800675033322,-2453.4293551223586,935.4873900986117,-2535.155922642639,-2503.384772748299,-2201.5710597039065,-882.0359510467565,-2504.549464434995,-2836.849369562872,5042.3027043341945,-2827.276033198766,9404.787163367748,-1676.3935762598824,4471.099859209238,-2079.819850544812,-2535.155922642639,-2554.160391702184,-1554.7269685724727,-2707.9594001995497,1834.2621944939026,-2515.178642340971,-2546.1434273348773,-1923.5067680616082,-2558.1297955158784,-1448.3918570733185,-2621.8530879529008,-2515.178642340971,-824.6132588479861,305.3250654888377,-106.29157555796446,-1924.8027162510014,-1264.6008753504893,-1448.3918570733185,-2703.963943718118,-2515.6833021394,866.3698518755094,-1448.3918570733185,1791.4654781849886,2236.5757594470747,-1361.4906862873206,-2573.1127557421296,53497.76577931332,-2662.0116545582937,-2370.5104708085532,-1901.8761272898914,-2737.5013832823865,-1769.0272111782344,-2666.8797730424612,75.86364728838804,-1891.058540472585,6848.074557599803,-2215.37234757282,-2189.748222252919,-2033.1495797272396,-1926.9570064551092,-2515.178642340971,-638.2106153358661,22234.060541439143,7295.561409221764,-2437.2672476907233,-2355.2458030689927,1337.9643383974808,-1769.9356524119978,1936.3609346032322,-1592.8200854379893,18435.591830075202,-1918.693832665343,-1390.822930636661,-2528.1638745370547,-1865.3172787351623,317.5083030949928,-1960.8067914573305,-2522.170690446554,2042.9870114474531,-1449.9649499506409,-2692.976439552201,-909.8801025748464,-2165.576231377537,-2022.8622945327572,-2187.551240024969,-2230.530060289773,-2437.2672476907233,-2522.170690446554,-1856.055025553356,-674.7900784309975,-882.0359510467565,-1179.02959884061,-2007.7557143624736,-1132.2464474902254,-1965.825325587745,-2480.282414184785,-2143.6012227294764,-1769.5991841338914,-2308.413787850124,97.10653719194873,-1361.4906862873206,-1027.8700998808195,-892.6052258278918,-2372.0781590243205,-2143.6012227294764,-2226.506937139543,-2455.6238840678934,-2636.0411898505286,-2535.155922642639,-1027.8700998808195,-1065.3698371570974,-2349.367213100367,-2675.995751085058,-2223.4050187857497,-2707.9594001995497,-2705.9616721693833,-712.2290658506921,-2530.4177806293333,-56.87290885611722,-510.4585315407642,-2639.037781895779,-2760.41495648439,-2083.346197186739,-2743.6317178960126,-1165.3484387501085,16239.072944329475,-47.355063754462996,-2636.0411898505286,-2319.801637038889,1411.1166955309798,-2515.178642340971,-1756.8622164026071,-2703.963943718118,-2367.2627964416965,-406.1003051777596,1112.0136014253908,-12.015221763489238,-607.9804044693958,-2672.999158724211,-1582.47086281421,-2181.996821698737,-712.2290658506921,726.4703131600658,-2558.1297955158784,-2143.6012227294764,18368.412422847436,-1820.8843022387964,-712.2290658506921,-2558.1297955158784,-2697.970759627618,-2281.3192937917615,-1264.6008753504893,-2094.6568851484717,91089.21198947034,-1767.4660381464,-1148.7665078232749,-2319.3887145750464,-2632.0457335794704,279.5929253341621,-1868.93213979619,-2362.3524456120485,-1595.2248696062386,-2313.533415930965,-2659.0150625130436,-2505.486683190137,-244.18450123487554,-2395.8520642575186,-2507.5374791868862,-2191.8072058291764,2988.2108548636647,-1272.9632337624107,-2560.4607685734204,-2433.7401922076897,-1216.930428892015,-2278.4478668713004,-2636.0411898505286,-2336.381980693558,-1448.3918570733185,-395.1053548824172,5253.173890343934,-2515.178642340971,-2136.8550852307326,-1987.4792106542277,-1354.9101994863656,-1462.7298572752331,-2552.1366114253783,-2690.978711522034,-2535.155922642639,-1918.8998582534598,-1027.8700998808195,-1526.3032517235656,-1804.4282961930842,-2346.39380251891,-2522.170690446554,-1762.2063872956521,-2538.925107320679,-2535.155922642639,-2667.00597463371,-1035.6701951438772,-2457.418529773877,-2475.067163731011,1926.1068512132538,-2405.139360273172,-1907.1045725815302,-2646.0298303169593,-2036.579321924513,-2544.6962761626373,-2522.170690446554,-2509.185457829371,-785.8944146214732,-1908.992011132521,-2535.155922642639,14020.429966237174,-1147.0098090791728,-2374.338813793049,-2562.6786471331425,-2703.963943718118,-2119.6284860518776,-1154.7258315857503,-712.2290658506921,-1098.0029595869764,-1831.7054538130772,-2249.542386346534,-1448.3918570733185,-2636.0411898505286,-2617.0627733532187,-1183.0056936532887,-2119.6284860518776,-2193.7790278480525,-2256.535472195812,-1860.922702039649,-2652.0230144074594,-2677.993479115225,-608.7438119764976,-2522.170690446554,-2479.219536850548,-1595.2248696062386,-1945.0391422000378,-1506.4066170440453,-1392.4038019193792,-2520.210244921744,-2639.037781895779,-2374.215770737188,-2044.909211790406,3773.8194765235926,-2425.3878651506984,-2061.160568651305,1071.0538717368515,-1361.4906862873206,-2680.990071160475,-2522.170690446554,-2402.24578212958,-2512.5798840621087,-2577.3217653840807,-2932.593675933863,-2646.0298303169593,-2294.3996999406,-2535.155922642639,9295.954746536174,-2363.8418465941004,-2073.9913275063395,-2225.355833373146,-614.7271914384878,-2152.7748737659895,2155.870347553512,-1480.4085525790063,-2602.056537687511,765.6049149424829,1996.4547638088566,-1629.6543001231055,-1361.4906862873206,-2417.289966967957,1092.1597684011074,-2687.9821194767837,-1960.8249864054114,-2207.528520642234,3118.416222763122,-2254.0394924509374,3475.0015868055634,-2522.170690446554,572.6727492886646,-2208.9085804364713,1388.009004055344,-1598.1001523239863,-1178.339157544477,-1154.7258315857503,-2541.1491069438634,-2341.2167396683035,-1836.1070371759795,-2396.3138226512056,8746.25543769587,-1595.2248696062386,-2578.107076133143,-2558.1297955158784,-2659.0150625130436,8558.530005688292,1210.458436430594,1991.1550984034784,-1706.9074525823842,-941.2427763474858,1058.9597746558054,-2541.1491069438634,-2007.7557143624736,-2639.037781895779,-2161.6844620583497,474423.54332375765,-2636.0411898505286,-1264.6008753504893,-1264.6008753504893,-1844.466383091742,-2573.1127557421296,-2398.991698099758,7906.892800401215,-2255.79645086064,-2656.0184704677936,-1926.4398992595227,-2515.178642340971,-2417.289966967957,-2697.970759627618,75.140484709216,-1154.7258315857503,6295.4191905018815,-2509.185457829371,-2293.4308274131486,-2121.0295106680246,2853.3199981174193,-1943.0896715172335,-2592.0911725550354,-1387.4631207087211,-1595.2248696062386,-2007.5694658227435,-2632.0457335794704,-2349.367213100367,2010.088445041734,-2672.999158724211,-2614.0661813079682,-2278.4478668713004,-2692.5996767696893,-1597.3628749088423,-1331.4829845353445,-2639.037781895779,-2427.2786075398885,8731.522001457726,-2597.085492630453,-2359.439531996846,-1088.6139562325925,-953.8121470218804,990.3293417104185,1683.7900716044446,-2108.6386686371575,-1520.3830379588367,-2677.993479115225,-1498.3407526583348,-1381.4079894995148,-1448.614631227099,-2677.993479115225,-2682.9877994013673,-1656.0521492305554,-1895.0942018225428,-1843.525914051222,-2649.0264223622094,-1273.9858331054065,-2437.2672476907233,-1609.474889898027,-118.7350826739374,-2707.9594001995497,-2652.0230144074594,-1264.6008753504893,-2187.551240024969,-2670.0025666789606,1134.28559987506,-468.77591460888243,-1595.2248696062386,-400.4981308589302,-831.5611090815224,11778.316121174836,-656.3147632116762,-2517.7016510454023,-2690.978711522034,-2502.193409723787,-1091.0861122539263,2237.5328128079623,-633.2183784043361,2663.504950915828,-1947.26143860773,-2588.095716494702,-2033.2492154008312,-882.0359510467565,-2362.3524456120485,-2703.963943718118,-2672.999158724211,148.6969505874555,-1671.3374025046305,-2202.2257026056104,-2378.447536903174,-1659.1521675189967,-1921.9142560592607,354.80473002882593,-2528.1638745370547,-1580.442724754158,-2649.0264223622094,5857.815805534186,-2692.976439552201,-1901.8761272898914,-2703.963943718118,-1284.3420933353027,-2344.7649624024766,948.0615174047183,-573.5523418434776,-2639.037781895779,-2609.0718611270504,-2646.0298303169593,-1154.7258315857503,1254.1935977007581,-1415.979510560939,-2515.099873533498,-2336.381980693558,-2693.697564113526,-1285.810627968382,-1154.7258315857503,-1859.2477304151644,-1950.0759147303002,20.736083866211775,-1388.9008202564626,-978.3062641687229,-1816.9726845340604,7969.1257133010395,-2385.3263179589662,8085.319308879499,7971.536853263839,-2471.9921630266927,-431.136201277544,5459.743090112926,1821.265526432994,-1004.9755682819998,-1049.0415854618063,-2463.2377126092138,-2639.037781895779,477.5285068510803,-1044.4007484137217,227.05492815554922,-2621.0582294135525,-1034.143891254661,-1448.3918570733185,111.79539269134237,97.95424302517344,-2552.1366114253783,-2499.9602257214146,2962.024266157438,-2063.6138935076906,-2238.5143014978694,-1603.010907916086,-882.0359510467565,-2446.2570240371983,15762.500466915068,-1675.3817577129755,-2677.993479115225,-2652.0230144074594,-2414.83485651955,-2528.1638745370547,1196.7675369488327,-2698.6969140705683,232.87647828457722,2912.6092511487077,-1412.0649452806806,-2261.836636459725,-610.4301323572184,-2609.0718611270504,-1366.1548084493868,-2568.1184356667127,-2687.9821194767837,-1750.8485423220282,-2509.185457829371,-2133.425294309372,-2530.754849155924,825.0698596256335,-2363.855660404051,-1154.7258315857503,-2556.493468535993,-1473.614910963458,-1604.1982977275384,-2282.344929521964,-2621.0582294135525,-2359.1016398540887,-2535.2203262019652,-1636.312260742105,-235.25777812250374,-2568.1184356667127,-2682.9877994013673,-2212.09456420147,488.33969967060887],\"xaxis\":\"x\",\"y\":[7447.6700731911915,115.02535296353047,141.93046498935803,596.0066370870977,-198.1825023911683,-194.56097341469274,-31.207400318832217,54.55509886256682,-204.04366140698787,226.61403068259642,449.6699797363606,2696.415347425163,291.4251249955737,350.2398984264957,202.94654593184595,2.7029924122001905,173.45368469659502,109.058998250814,-64.5268699723033,-199.08788416112017,-187.36556945792003,-280.90584465438855,-187.36556945792003,382.3639806195678,488.52033795180455,629.4972509104863,165.09141309586082,155.00487389318943,406.52023219861604,54.14319324933875,56.041004502657955,382.4558984832545,1813.8192262770408,162.49324562435265,412.8370435320062,-70.26024920915843,61.97094679371735,88.57787082677153,-194.56097341469274,85.26682486598578,-193.13142237805067,126.21495104296946,329.5121979229558,-233.0158898987186,211.72885809063945,-188.17564703303367,180.0996097357126,360.5069827246845,-73.32984668333029,-186.65079275226066,429.18717620455504,-249.93224233279068,45.7619609379896,-193.13142237805067,-198.6113679404651,26.715327201922275,208.17952303585363,-186.41253464193306,-214.95589853507437,773.829126088451,43.73728157221084,233.8707191864022,1853.7685313740112,330.6859759117866,-193.4173321104438,101.78551350500378,48.43439439901478,23.54857323189077,-530.239585742197,-186.88905086258816,-99.88918672567107,260.9772065733382,105.65123538574926,-238.78174567040716,-9.102088117831942,8.232967958835475,-58.01473384309304,771.0905710053163,357.20406142335895,286.3875259927288,79.81225118339879,24.57891241480098,436.9304318912235,-249.93224233279068,-111.47652192783717,306.6967860531355,760.9065897660491,157.68635648291115,1537.4862710618045,-226.10639425036945,-264.58388110600924,739.0484902604995,66.97087690353646,158.32639117321335,-195.180446402395,-290.5314870359991,-185.69775841009994,111.62885765423785,72.68195640608415,-242.06971139157355,-202.80471638172673,-249.93224233279068,318.86574833829434,-30.94836381986504,831.4116367237082,-272.80505702681336,-217.6243936462701,2125.6975245769177,162.44623289850625,480.7289484347506,219.3710861385128,184.8609941881179,-187.8897373006406,-191.6542206700504,70.26169478626863,187.54175855008464,51.11399962859857,-83.11694272974643,108.86169116009658,-186.41253464193306,-192.84551264565766,413.26089696793963,551.9314175205208,-186.31723139780206,-855.0073638164678,29.420119009850172,346.29932197597907,-231.27769149264,328.6789131019145,-64.24474119590383,1066.0110701952335,-290.5314870359991,-272.80505702681336,314.0082882275527,176.108919816473,3294.6894722639695,-103.22521397708284,184.1444408887719,-189.4622432034792,-192.36899642500256,-185.79306165423097,5.869104203187879,-196.609997439037,-67.22794961973703,-254.55445632334914,14.33757990647168,87.06259651584178,-53.99842646292498,-187.22261316775402,-187.50852432411656,1406.6537335511666,5.655069444075958,-188.79511811988525,-30.90823320263436,-196.609997439037,267.88564640612367,-188.36625352129573,45.14978251855337,-193.4173321104438,-204.04366140698787,179.70261954543943,-259.79614425231716,-199.5644022826259,277.55612819744675,-192.6072545353301,-238.78174567040716,-222.34191088095966,483.4753999686233,-195.89522073337764,314.5425394460905,130.43853323603565,-76.95313826572873,162.90154174214845,68.87888466324151,-216.24249470551982,-12.333017521382404,-154.18456672741078,47.502573961618445,81.45005022334445,30.394990125721087,-44.19494738908236,-7.11963108170325,-189.65284969174124,86.20454349344922,78.80864151293272,-259.79614425231716,232.7210252264585,-217.6243936462701,135.19627857118752,2543.5870656512902,-193.4173321104438,169.6358238615329,651.0098725883881,-308.4165914387425,102.2064371114154,78.56997324260314,-191.89247878037796,-254.55445632334914,159.22278292277434,104.55765372540573,6.348025109501218,-211.57262814218856,274.1632484232618,-233.0158898987186,-195.51400775685357,-14.22909814685452,-81.84726600577787,-191.89247878037796,-186.41253464193306,102.109661876338,1244.416613291045,-280.90584465438855,53.70307089138398,83.7883407764835,-198.6113679404651,76.3303393716052,-193.4173321104438,-201.61342440611955,-199.5644022826259,-230.4903501306004,227.44662741255684,-187.127309923623,-363.9891378504288,-186.41253464193306,81.8311872034121,95.32664095875231,-23.072664812368895,-197.7536363686092,153.81234821952083,-12.310325787218208,122.44213620853107,602.0002884437304,-233.0158898987186,207.68314559497122,-249.93224233279068,150.04768890438282,-205.5527131888684,-116.43488537589083,352.4112201253974,261.54085566699496,-280.90584465438855,129.87956074504018,528.5442398985386,-206.18798677461248,139.924902256798,70.78322768997127,-26.46011769930623,-25.147965815216615,-190.17701753446184,146.20411505180527,435.62802300029904,72.21117012456006,-110.11716441050797,-130.83922583886465,-59.418367365456525,-242.06971139157355,-265.8479083288103,36.44544531642667,148.40314641602592,-186.41253464193306,-238.78174567040716,-193.4173321104438,80.73621740865904,-1.768203749238411,-245.78654456288734,-233.0158898987186,335.44521622848777,-200.04091850328095,320.6083141792498,134.1627495423973,-259.79614425231716,-265.8479083288103,33.069667369286286,104.36675361380381,-430.58485283022884,-204.04366140698787,107.89779293848211,131.68286212452443,778.4732762107109,36.99384994497103,-153.55057300817404,-53.85511284054552,412.14275195370936,108.01840744779014,332.0751463429599,218.1372557316836,182.99781766507257,90.38042926522067,334.7438878662901,-185.60245516596885,230.3770112598526,324.11303825437716,258.50764906543924,108.64988507252664,-222.34191088095966,21.29742729382313,133.6037492223952,177.69072727485104,125.37147896520484,132.68483537254903,-321.6045402319276,107.15857276231634,75.47959089487684,-290.5314870359991,-20.344091184192276,430.9260465817873,572.592693269502,-26.959497587114164,-192.84551264565766,274.27199811554095,49.75878747136041,-265.8479083288103,-259.79614425231716,-272.80505702681336,-192.36899642500256,-128.72774462365783,69.79566227962847,133.44853054202753,-4.537588367083842,-193.94150232784108,-242.06971139157355,412.9644309977122,343.5924790040257,225.1097408736057,-187.79443405650963,124.03844259011274,106.77336113900621,95.64334606642626,34.93548407173973,-23.238484057488375,121.38522718491531,533.7598729384293,-47.9849529651362,-76.70269533260105,-608.2416143739255,-541.4059899087493,53.989613349155285,-37.61810255522009,-123.80884581738546,-194.89453476915125,-190.79649052216402,-222.34191088095966,254.14141628263005,-206.99806434972612,-55.00545999109069,-187.22261316775402,-29.07415515130577,180.66469997144137,-38.58833115878011,268.47636349402575,43.154687493638,-188.17564703303367,-192.84551264565766,466.826594564831,190.13441233779866,-265.8479083288103,10.038824212268265,-124.65157369224524,246.27180782954605,-199.08788416112017,-89.67243709738257,-291.4001516031266,29.183979648444783,398.33109783591465,-118.72561654745768,-290.5314870359991,439.87954799426086,-224.15267489412574,123.69259766846001,245.45290816398685,-235.7320375826872,73.39743322442892,-255.43920515760178,78.45579006458755,-26.037730048696076,-58.26575139766945,26.015350112361272,190.37911988603872,13.210287691811537,191.8422560166811,-2.6215137810399867,-222.34191088095966,-189.8434561800033,386.8982656176898,-209.57125716749823,189.97610993304326,109.34215328947155,225.94608327081934,-196.99121041556106,-190.41527612167044,-194.89453476915125,145.16295774366984,-238.78174567040716,-189.4622432034792,-187.50852432411656,-217.6243936462701,1743.588784093793,174.54888356176272,-189.31928833728267,-182.5229396833364,-1714.1515408856774,414.71547343466005,-219.1015963049778,-192.13073831467503,-230.4903501306004,1608.8004434339823,761.5213060677269,353.11590679768875,-230.4903501306004,-36.032078863546374,654.1532210696171,253.16656165389148,-191.6542206700504,39.27854272846255,302.525656166327,88.5320490493935,-197.7536363686092,93.58854378919773,223.1953320069175,-194.56097341469274,-191.89247878037796,-203.42418841928557,614.7841525669191,-190.79649052216402,-242.06971139157355,-188.65216325368874,-189.4622432034792,-19.913861788878453,-186.7460959963917,-191.6542206700504,-55.03677435174072,38.268271271689734,-188.0326921668371,123.45562835133069,8.104433276293761,-25.58312171905439,97.88740941131604,171.65353115055035,-187.79443405650963,-5.749536329882447,-3.3804127643962945,5.601644584995699,157.97578939660903,13.255291378266362,199.30085419385202,114.56509394155614,169.57332879661058,-265.8479083288103,-187.36556945792003,135.95976700469743,1223.1591860682233,-189.4622432034792,107.62328688875377,-190.41527612167044,77.76393453000448,-193.94150232784108,94.16406462756922,171.16561437875328,266.2442002985833,-194.27506368229962,-27.9843250584904,276.567877816337,199.28128871552732,64.6787515100632,-249.93224233279068,394.4789614397147,-226.10639425036945,184.3231846041041,96.46502092505422,88.5857501182551,-201.61342440611955,-191.6542206700504,-19.527593083977425,63.034284993748024,64.88515889173331,-8.364422028500325,-242.06971139157355,165.94807858509571,-52.8612480494012,-107.69920912049513,-143.35629660619227,36.799521676998786,233.22873910967397,113.70336916324202,17.000354833222996,-214.95589853507437,-200.04091850328095,17.369235790550704,43.02321900238109,80.1693282004293,-3.997350254550787,-183.2887304820068,267.89733176608985,-356.0741128547904,238.0884635265689,-143.5011237848956,20.997184991501463,35.63396327868217,-186.41253464193306,377.4814211333072,-186.50783788606412,187.0222640625811,-191.89247878037796,75.29610294261984,-199.08788416112017,226.8022227176288,125.93111997924004,29.08971252981381,-267.6903908659725,326.97196533636844,-194.27506368229962,-191.6542206700504,-186.31723139780206,-187.65147919031315,249.54201368707356,137.33421764635926,83.79596644583363,353.6274749965962,202.00666447426394,123.62253586707915,-5.296945672632339,-186.50783788606412,385.33836548433936,49.38061948598928,64.69679726789785,402.10165861159896,230.2586494212492,63.96656249075929,563.5127575331859,-147.54345173753097,246.77416709545952,-25.35597619705095,159.58208066100556,-200.56508634600155,209.07772113458378,114.36168315172064,-228.20306941989807,181.99384734726823,244.60106181779713,-194.27506368229962,45.692935346832606,-14.686341295730813,175.70580450188714,-97.43705718245403,-193.65559164474078,-259.79614425231716,-188.50920838749224,8.070915603280412,-2.9812002808405307,94.34544582369449,-193.13142237805067,-192.84551264565766,-872.9893594910338,-201.08925656339895,-192.6072545353301,91.68939191330051,224.47757514976922,290.29801270889,103.93495038768037,123.66204449871267,151.15469058760644,113.48745606027727,-188.98572603211682,-250.3590072404931,62.07331821462138,-193.65559164474078,71.32337463917636,292.219738547889,348.8473059823224,-187.50852432411656,-103.90107285309657,54.33793267018473,-677.1585582167307,-212.62096525521818,47.270435042464754,-13.206776838516685,148.02657334983692,171.8315045994852,-193.94150232784108,38.364716372894094,-198.1825023911683,70.17103367836388,-1280.2918455506262,66.67134041339703,24.61570703143088,-185.69775841009994,-44.37597222755221,-66.8466057366016,68.89573290116023,-259.79614425231716,487.7789516152524,157.75870642828872,-185.79306165423097,53.22166072349736,113.02103365403033,147.71862914639038,232.72602033283798,-192.36899642500256,62.63525254827501,15.512876125951388,158.1415435991455,-67.88180426664796,-84.16943985969793,-7.7333298955615035,164.85232212196695,-187.22261316775402,-170.20237297591004,18.602444112903495,240.71370996934,159.22119815235513,-190.79649052216402,118.93377201663924,-194.56097341469274,14.099361818011701,-33.99996032463374,-192.36899642500256,-228.20306941989807,-280.90584465438855,464.4444530743623,-222.34191088095966,-187.8897373006406,91.50924758821641,-574.1226910209778,71.61393289883073,-193.13142237805067,85.14514017226799,284.9334826741501,159.49843316652397,29.22865534148746,163.5317079965755,-185.79306165423097,82.61476113742565,54.54561916703593,45.559133685910105,-188.0326921668371,-265.8479083288103,58.469970131233595,199.35867223719274,58.650781670063495,-199.08788416112017,-211.0057256495159,-49.635131958219766,77.41832682615856,-185.79306165423097,-21.34399335974346,86.7386102506936,-230.4903501306004,-194.56097341469274,27.81272058989063,144.95918083524788,-23.803413974308626,30.003477938773504,-390.6242088414446,17.649823839774523,-48.54272046275549,-296.26742943229203,61.35793786459576,-242.06971139157355,-188.36625352129573,78.4234860183805,-186.65079275226066,92.75213841181386,-194.89453476915125,-13.739577238235494,-152.95154305148586,-21.717159860046316,235.89956805436108,121.69428030238737,-280.90584465438855,-157.70875213759788,21.829123639253368,106.40032641392392,-55.239975858294564,-192.6072545353301,141.9982526966485,165.919051419545,-185.69775841009994,-42.4090569778329,154.87029172471483,36.05623385349642,125.25077175502621,162.83585159666205,332.34197540508416,186.43422577083723,106.69504536124268,116.14006497260553,196.83989546014365,-186.41253464193306,41.76599126010901,65.87803263976122,128.61900039215163,42.9670381144769,48.012190854839176,215.80444004715784,-200.56508634600155,187.07618533310892,81.26924429375059,118.40631084482759,-64.26899776427321,110.13545920052417,123.64512667922344,-264.69971613388657,67.2000851283216,205.23149043481038,-187.50852432411656,275.9306165190496,-188.98572603211682,191.20852777811493,-35.906749027741206,-8.22619827145651,-202.18524387090565,-235.7320375826872,-208.66587539754636,-190.79649052216402,48.86020385406966,53.70876382549458,30.90873537410108,15.913730210758972,85.06046467472537,-334.0740261752696,44.206977487013404,-187.79443405650963,-201.08925656339895,78.07988438478047,166.36002024528997,-219.1015963049778,-191.6542206700504,5.5147706359291915,-763.3656977979853,-105.55077220874651,-41.56891121047445,55.729446971470544,14.407417689226397,26.554160521218282,-190.60588403390202,185.41424400850616,-194.27506368229962,-185.79306165423097,-192.84551264565766,-3265.6134179113383,-273.5419272113126,180.1524536319542,-86.30743115765281,1352.1855732144284,-133.87558830103862,-235.7320375826872,-193.94150232784108,-86.36192301166024,-1230.7263639778412,-226.10639425036945,27.65450193072466,-355.4491137709292,116.10228530509661,-35.13356596791545,-192.36899642500256,48.376711481231794,177.97342317678704,179.93282045502255,171.57326957564695,-15.4555144234591,-185.8883667992125,-189.31928833728267,-470.0252547281745,-185.79306165423097,162.12093634493516,-216.24249470551982,-147.6339449324243,-2.442234052693623,-186.65079275226066,-203.42418841928557,-201.08925656339895,11.157196804017046,95.07808363800126,603.9751872383044,-189.65284969174124,-25.95697718082197,-233.0158898987186,-187.36556945792003,81.74700768551172,-228.20306941989807,212.4327783000445,-201.61342440611955,-20.37852525780621,103.57490926980033,1393.3771776635551,272.4574892015547,-84.66200722351664,-64.73652245222509,279.6270655288513,7.336525948921703,41.92356909917028,-265.8479083288103,-188.36625352129573,69.09274734004077,-32.39279105270765,-259.79614425231716,-85.74059848975436,-32.596053643446105,117.0740807159814,150.41244979038254,406.1574589879625,96.52390514017446,-280.90584465438855,337.62579377874056,2.1299092993013113,188.33303362824344,310.46540543838654,47.65204828688049,-36.93019664924666,-265.8479083288103,70.44826388106104,52.06836675586168,-187.79443405650963,71.93234755734079,220.47431856984173,202.12229317774614,-8.614643078741507,85.57111678710726,151.28281243484346,-259.79614425231716,19.78073491922827,-193.65559164474078,-20.239726706954702,231.43301534954313,264.6488920421275,-245.78654456288734,138.50058140498393,-66.22605264356427,-187.65147919031315,-187.79443405650963,-194.56097341469274,-249.93224233279068,-18.302266644117307,-123.3074665242297,-201.08925656339895,26.83130436152252,129.39170671074817,-272.80505702681336,28.17212773769866,87.48877110050843,-186.88905086258816,186.96771555399695,-238.78174567040716,41.82909760760859,-193.13142237805067,227.5963121577583,-187.79443405650963,121.25712816480173,-493.24135297151946,17.606436483710144,138.8462515871659,32.37801544233878,-8.355056247424667,-185.69775841009994,-192.13073831467503,493.85135315039497,-19.925933584541088,28.869398682595723,257.0983573448274,-228.20306941989807,29.437226990559694,117.12238510791813,32.3665202686797,98.11915390103137,-193.65559164474078,-201.08925656339895,26.791657658355163,-219.1015963049778,-187.65147919031315,17.20871809438586,167.04853134705036,-188.50920838749224,-23.647069111952597,352.8777965009748,236.0730637609694,64.52393984486058,-206.99806434972612,-230.4903501306004,-204.75843573797044,-233.33350660881746,-93.77106655181551,101.69543217766572,85.54005192809346,-206.18798677461248,86.01978066672197,-194.27506368229962,-15.556569409380263,99.4345901478558,2.139784471913325,-193.13142237805067,-46.62641782884313,231.6243372847387,-228.20306941989807,203.63915655541825,0.5553780500749556,-127.98137552075086,31.24106290612728,-8.208573557898406,81.21731793241888,-193.65559164474078,46.847517563667814,332.73425826403513,-194.56097341469274,59.032176444216965,-192.36899642500256,3.4789047712023877,38.90699112723366,-238.78174567040716,59.562521410784356,49.8531487838927,-466.91970062674466,-192.13073831467503,82.46644658214873,-94.03427193326353,-196.8703760056248,-143.05494319058215,-101.19597602904511,-195.180446402395,-254.55445632334914,20.523760759650166,-222.34191088095966,-193.4173321104438,50.938923731047666,130.29591363177508,-86.29476870740811,147.1113220000051,-233.0158898987186,105.02259273699124,-192.13073831467503,118.70979548718427,-34.19535317193797,-196.99121041556106,248.1007654560474,-187.8897373006406,123.50857753775419,3.4849384881422782,-185.8883667992125,-192.13073831467503,6.227085258233047,7.006313361337796,25.147943716016417,204.77069531565039,88.7604938189827,-41.02690871113752,307.94593542682753,-290.5314870359991,197.49132767739368,227.2479030599623,-22.40937447585298,47.27250052539563,-193.65559164474078,113.16856364342065,-108.20613354149486,-192.6072545353301,-36.95302863494421,195.9308155346619,17.48169792220557,60.67354049846326,29.381521966396036,-191.89247878037796,7.761164831142791,-72.0109166837247,-186.31723139780206,590.1159601965361,5.45409680611501,-106.45500938364036,-481.32023770489786,165.14230945329936,82.27721249414806,-272.80505702681336,-153.3122112472407,269.22591446886287,-230.4903501306004,-192.36899642500256,-37.053098614632965,-197.7536363686092,453.8219280327989,149.94158460178105,-193.65559164474078,-272.80505702681336,207.65089036435174,685.0220506338876,-233.0158898987186,-189.12868089831335,272.1407444268718,-206.99806434972612,956.0045949585825,-201.61342440611955,-210.5242910327779,364.2141659335748,-199.5644022826259,-44.60976452400385,-235.7320375826872,-238.78174567040716,-280.90584465438855,76.91918959329568,-238.78174567040716,-238.78174567040716,-235.7320375826872,-220.67410220781628,-233.0158898987186,389.23742491626035,-201.08925656339895,205.32800196483754,108.19310449294981,314.83934572045604,235.71303016095314,210.8997935870957,-235.7320375826872,613.8794279606603,-245.78654456288734,-192.36899642500256,46.120263900329725,-195.180446402395,-194.89453476915125,536.2270502195571,-228.20306941989807,757.5804103060327,80.82182499285302,357.3414353988674,87.29685934566027,359.64515908868043,-0.5143845883786831,-192.36899642500256,212.67196140958526,83.14105657534583,-189.12868089831335,106.71635650448638,-196.99121041556106,265.15561036017226,-192.84551264565766,325.31050001265277,58.08295176187483,-233.0158898987186,-206.99806434972612,-186.50783788606412,191.81278157143248,-81.56278010241839,128.75548491911593,422.09998654107517,21.085550007415723,218.5050759055661,14.650135249157772,-188.36625352129573,103.3520176040571,-3.455232200179421,12.638331314190253,17.830483133869492,219.37291086000224,232.2792334883206,-1404.905005927548,10.66990967849912,-224.15267489412574,-187.50852432411656,96.21550103900314,156.25811394851695,51.12582636371902,161.493378254971,62.766044272308044,-151.5375408588734,-238.78174567040716,41.91069721270115,284.30795031648637,-238.78174567040716,-192.6072545353301,-191.89247878037796,286.4455090426174,-110.26482227205628,-3.0466651746812174,107.34601001398495,-102.27074199754408,86.2190284568983,173.56891679230552,174.05585879678475,127.5239493571013,103.60954793586704,84.77622104330959,-290.5314870359991,-102.36109938879028,-189.12868089831335,149.63750605948525,-23.374266688369808,145.45038469388646,34.25449546881262,89.68050979731366,239.91008557034232,-187.50852432411656,164.6164776739131,73.48853281774772,255.4614187364757,-265.8479083288103,-42.04661376877068,135.39037472875478,114.97597698886145,41.29586921278307,-187.127309923623,125.89074834984824,-49.88570936085666,47.39937030767956,-233.87173532339133,277.55856332999184,-22.87409715334516,338.57151462967687,57.006418905285216,327.4460085064796,170.02779105181972,71.04639646519658,23.46983716350699,-487.92968690979524,-186.98435505742643,4.982787687050348,-125.64880270931248,176.05505403920768,171.25711236658273,32.25080693739821,113.4893179106195,182.35161152546735,-7.60050049567157,333.2149279617917,4.061317508365691,85.07287256973551,112.21637872474695,105.20021835547466,-238.78174567040716,133.03655998509655,117.97863335514164,118.16173047234238,15.60131726950137,24.799532790696816,-34.84988043394757,-186.88905086258816,-183.26170493395082,164.83183321537413,211.01165656165657,-198.1825023911683,121.96214322682086,76.64979456094237,6.495666516647527,-185.79306165423097,-12.556166064614183,123.8091748873349,611.4305754134826,-38.0285464919832,48.35037527974727,-238.78174567040716,424.2722626525897,54.35884432179879,26.32427642430414,72.29540130863813,-73.11147451385719,111.41989140419346,-186.50783788606412,31.2706229416651,103.69703907418315,14.302975759262766,12.724342944126375,169.82356753927277,153.7999217399071,-230.4903501306004,69.4992227453585,158.55747240758055,-17.689406383626956,-259.79614425231716,424.93502851098594,-78.59907595165242,144.40598444446397,-185.60245516596885,74.19819620028193,50.059079749374284,-187.22261316775402,78.69393614799624,-254.55445632334914,61.2299140067168,-267.57690614092525,-193.65559164474078,-258.40643996399217,164.97377311974896,-52.48402802016629,-12.848653299129216,145.20754602003728,239.77835336363322,71.87313027760392,430.55204200818736,-10.803254717785508,134.18690083432898,10.746939020134997,-193.4173321104438,134.19753263873272,-94.99069270112878,-194.27506368229962,64.58616906966617,54.3957871831401,-186.65079275226066,143.27756926476863,426.7529714479384,70.0397360340517,-32.14719172589314,-127.06503755403995,335.0975992247016,-280.90584465438855,-43.17853734686845,269.99988013606037,167.33509531836006,11.271528760339935,8.283345627373416,112.07686437558844,156.05092000885466,-210.5242910327779,0.8452605023695967,-202.80471638172673,-170.81516137373725,-206.99806434972612,22.261918081129487,-193.13142237805067,-84.44484829188121,-215.87827358765338,57.79224510439717,-193.4173321104438,49.97652623001806,-193.4173321104438,70.95633169777915,97.62412774928944,376.60775160017783,65.71481965228665,161.8445679728484,-189.31928833728267,271.84195725119633,-83.22637389839208,-9.773545973919415,-45.9806341782798,83.28236767001164,-75.00618715908881,48.28733478477174,192.41644899985087,36.130059553254256,-15.957460062681728,-193.65559164474078,17.59540715258914,-68.00965122641621,121.98031123426327,108.43171203395342,85.56359450598602,-259.79614425231716,-186.88905086258816,182.39496128911205,-10.20317534434589,306.86260441938657,-189.31928833728267,-188.0326921668371,-105.79136719712503,35.14868153243582,-187.36556945792003,126.94977695936741,115.11929784565474,405.1226340078338,75.85999925033266,-60.23058007037932,-210.5242910327779,84.07653690886258,-189.65284969174124,-220.67410220781628,-186.17427653160553,-30.99896968186741,-194.27506368229962,-188.0326921668371,128.60712631783588,61.73703792927131,-186.50783788606412,-44.56789342898026,-45.94050089419571,114.66767831320877,120.92125486647406,-39.47646706965244,470.2052380305267,-29.26570831941768,21.155519298874967,-272.80505702681336,467.8427221971786,-187.79443405650963,212.31722927698948,154.3483250243752,-9.234467937668153,30.255680992872104,-220.67410220781628,-193.65559164474078,131.94788287629433,99.29069590153098,25.59107026990683,50.694246637041516,-33.392918538294474,187.43230701190623,-190.60588403390202,229.12019049725598,154.47601331234537,68.97951133220494,89.33976956787247,378.9163132480931,95.17446993568345,-193.65559164474078,-187.8897373006406,64.27521158009542,227.89846351193236,273.5521852015578,-59.90611196202897,-214.95589853507437,-318.16625786481734,2.1544323057413286,-233.0158898987186,-193.94150232784108,8.54277385052448,-6.096337215434964,-192.36899642500256,84.33193897516074,80.60460325230386,148.61114534587978,-213.7646056087599,2.907481160531571,512.1912687221727,-42.52029462309891,-208.66587539754636,-191.6542206700504,1.413926405647284,-190.52008808036985,-5.5657297023732255,-192.13073831467503,-187.22261316775402,414.49221245212027,-242.06971139157355,-193.65559164474078,161.56139171574142,43.71988468508109,-4762.041548209403,-120.27926230492432,464.085167426663,-254.55445632334914,152.82276896538454,157.6967540315841,30.05100197032112,-191.89247878037796,-191.89247878037796,63.100207884462954,-314.0730153728338,12.46815930450779,171.84008271086407,458.329521496156,-200.56508634600155,153.97496931342567,30.8041601481554,12.897203218721513,124.70438978298127,100.22146445194319,-191.4159616090156,280.2575555895057,-201.08925656339895,-33.3558811552336,97.30354422280921,-53.004727085744555,-12.972163755304535,240.34412627463809,497.8679920823037,31.808593315223938,-187.22261316775402,-93.57130629529487,251.21617133162212,1.634718625239584,-100.96836991043166,64.35530990480812,174.60946737335598,140.18636940352033,-259.79614425231716,179.41417558014606,1944.7740601856717,253.76105752178321,142.4023885108836,-206.99806434972612,-193.65559164474078,114.74530162981205,106.53939435171628,48.338323313776876,-104.16466592476384,-88.65805305217617,119.0290732525911,153.63678303398876,-193.13142237805067,57.795185335345224,28.285357503284917,-3.3129423530350723,-199.5644022826259,-24.230366375670368,228.18478077048167,23.01530386449042,-317.2082409850699,-81.61821085495097,-186.65079275226066,52.997408027097705,-1.669957823915641,56.51368079202128,152.54332568385496,222.86096125126963,497.4881706924606,205.0800068943319,-186.98435505742643,-190.41527612167044,-739.0553393397952,-185.79306165423097,-84.89126738944474,54.071470195751914,356.00095615891286,124.03069760146924,119.36922353258005,-230.4903501306004,-188.17564703303367,-192.6072545353301,-881.5832789512175,69.66995998067644,-189.8434561800033,40.007450604700125,89.69308327211543,-94.89620502764821,163.96292300159564,-139.66858385803985,130.85046031953524,216.7926810295421,14.215532309033295,-190.17701753446184,-194.27506368229962,-280.90584465438855,227.3022630756371,-2.9944187794354713,-187.127309923623,-189.12868089831335,52.17750442499978,-190.41527612167044,200.86472464667753,-2227.0171315985435,22.484895728612607,308.3304041150698,-238.78174567040716,306.3202346382845,213.556411471792,75.73827146590664,141.51680518219703,-238.78174567040716,47.383138913308656,-120.334870797271,108.27747643358515,33.99697678519286,146.94867952970847,-47.29199694374992,77.68085705821348,392.8923218604418,547.6872941860097,24.45840566242236,119.8780506808072,-192.6072545353301,152.68539887505497,81.17089251483202,21.100177005795647,-6.145106689874251,183.56237207192783,-30.500933250589167,80.53897409531244,-210.5242910327779,-23.39038766768548,-265.8479083288103,-192.84551264565766,-188.36625352129573,-76.0614039444777,37.312587669366465,182.6504362203438,83.92476939197276,-34.3273534489471,162.66915942103284,80.04464117073346,50.612271366953905,-190.79649052216402,-193.13142237805067,-202.18524387090565,-65.44353838267011,-194.56097341469274,-272.80505702681336,-238.78174567040716,67.64666968546332,-185.8883667992125,82.25971111624169,353.7168460599696,-219.1015963049778,319.4211146922491,-187.79443405650963,-242.06971139157355,-328.03671816229894,147.60082239821668,-100.33154977013284,41.707413864598074,-242.06971139157355,111.32501576066343,-82.67274874539632,89.39613267786441,-54.46969563820547,108.91351741975217,-194.27506368229962,-36.85013867517024,-233.0158898987186,131.1795070177673,664.7649862403276,260.0241381588189,53.57767623572651,2.5841711631205433,160.2832248020931,-64.82916197208726,147.99202690775968,16.645865769063917,-238.78174567040716,37.9329989346493,289.02755064415237,-187.127309923623,-74.90497165985931,-644.0111290891948,-184.63947194705713,188.09895957918457,-0.856460106834746,52.3413134968476,-235.7320375826872,-206.99806434972612,155.64627129285103,91.18802558081848,-10.558901504605123,88.5720625897259,-34.226054294389016,-199.08788416112017,178.5780683607985,287.9257685279982,-187.50852432411656,148.70133614866631,88.6529143732506,42.95098988264185,47.61873355853643,79.12275651921983,6511.611520813961,-193.65559164474078,62.623857354546914,-185.69775841009994,-193.4173321104438,-186.31723139780206,211.47566433731646,100.78365189673923,-103.06541679017663,-192.84551264565766,-190.17701753446184,25.763465911410915,-193.94150232784108,126.12359935825131,78.35849052402662,421.62242526405345,61.0577520781907,209.47716456139665,56.37831601828135,81.51367715324817,-242.06971139157355,-227.37123396873469,-20.028736363235428,-265.8479083288103,168.21526288673883,-85.09476182226236,97.48230109821357,34.6159823401305,214.07188150083894,-199.08788416112017,113.04875566032345,-201.08925656339895,1169.91784327301,90.72901723948847,84.11483756991983,-254.55445632334914,4.009774315871117,-46.90014171397176,133.26534570571567,-189.4622432034792,-188.50920838749224,-186.98435505742643,175.78641784068643,86.06825684286189,-238.78174567040716,3.8787762121078386,-195.2665318440921,-16.173997403897896,60.37828589547105,516.2299348272234,115.28672568048101,31.742773266795613,29.977913010544547,-21.722751400793012,60.18070292998561,558.1789720584095,-7.1714590006465535,-2.0101001785164656,-193.94150232784108,-9.503370035369226,9.894086291321015,83.47662808228027,78.82526812521573,-192.36899642500256,49.709608351099874,-192.84551264565766,-361.9979158413098,276.1719664901911,-29.143744567550314,16.866465959459237,-199.5644022826259,205.2724162599673,79.48991368485503,108.55663012573922,-193.13142237805067,-40.88116662292077,288.45845576095087,-18.82013932733112,-193.13142237805067,79.10213775060357,-61.01687650085247,-66.41278952710566,-121.88647680526019,-272.80505702681336,162.7552378499082,217.96425337154372,143.9654347377303,-206.18798677461248,-38.686879808597254,-14.94400547735057,-63.96795088649759,-92.76377530459243,-41.09213064578831,209.21892880456312,136.40308945492842,47.78080652767012,-221.42284907647337,198.10551888315152,119.39596773820428,117.61679553210887,-185.69775841009994,123.13911780075068,133.81429221195205,57.386865509747714,-190.03406266826534,-192.36899642500256,140.95937420519388,-188.65216325368874,100.87425555868121,-200.04091850328095,35.64711012221971,425.61581336664887,-245.78654456288734,388.7895518964981,-188.50920838749224,-187.127309923623,128.11543028554829,100.09806951279616,8.017865624206472,213.79149406181952,131.1974716426333,31.47850058912226,423.87010502706283,174.17636739024425,-238.78174567040716,-188.98572603211682,105.21001990630705,23.36347359542565,-687.3689481178932,-66.61676615063712,-188.98572603211682,56.79894075126757,24.531573729382288,-199.5644022826259,-38.21297644060813,269.29070748240986,87.83566833054776,-254.80795174951007,-201.08925656339895,-185.79306165423097,88.83060047949712,55.01257467748588,238.72890981429043,-199.5644022826259,16.373328629531,200.44473025150864,514.7707178655277,70.58074194261582,-389.16337250021127,110.85513550410809,-10.102227479857584,-238.78174567040716,317.4998619537752,-501.09309586001535,-3.381429705286753,92.97341814596247,-201.08925656339895,-256.5581450070161,120.79847882731936,75.81398539338606,2500.4949159297653,-75.52978524147746,136.00436417476652,-201.08925656339895,31.92973816370982,136.9176750604576,78.3357127215898,-186.41253464193306,-85.06160835672564,-186.7460959963917,-254.55445632334914,-187.50852432411656,76.87465446975749,-219.1015963049778,-79.09566644632,-65.08705721579697,192.54782728264448,37.71394065775151,255.75422956685307,105.17518640456136,-70.12661491849467,-190.03406266826534,-168.13411930661093,-191.4159616090156,126.63489940823703,548.1989264850882,-242.06971139157355,-197.3724233920851,1924.4130891758919,-132.86998611490543,-272.80505702681336,-192.13073831467503,-185.8883667992125,-6077.795630090017,158.3686373111852,-254.55445632334914,-98.1076066135136,-216.24249470551982,141.88559648226334,-229.25551101014804,-18.28169780527527,765.8083982460803,-185.69775841009994,92.8292696321441,84.64035421977559,-235.7320375826872,-264.55934756418606,-12.933681037448828,125.54115791640264,17.15193384804664,-14.3022244531959,257.7450381625778,-96.57654483757369,-216.24249470551982,-192.6072545353301,77.46940135521649,-67.43666035624977,35.932922860608564,-185.69775841009994,-230.4903501306004,109.70353271250615,324.47181339883554,26.110065415219236,129.37466428042322,28.4880136663183,243.71841172096308,-186.98435505742643,-276.2455281010021,130.62118909807597,795.3330915033625,-103.15652385503738,116.36357704522462,-186.31723139780206,67.37187007145815,60.82801288121419,35.41527809199678,-76.7377066394686,164.9355225629121,-217.6243936462701,-190.79649052216402,474.74353224802735,467.3994870381152,102.0227163242076,85.41242201599755,-205.4732110196603,162.70793766669797,185.39284877521632,90.94248104532514,-190.79649052216402,647.4500192831233,-201.08925656339895,-8370.642582351102,23.08180888965295,-249.93224233279068,-44.4165301745759,561.8098724501499,137.10523726560874,57.44410301886548,240.23941335569899,95.54748184098933,-200.56508634600155,90.46726819040562,-43.98514534291795,53.81794363019802,93.24510974718744,216.74771955257876,188.61659254319642,43.73929809811559,-14.036337463006573,-254.55445632334914,413.8879267092988,42.420714562952725,-25.276649252922358,-125.14592650585702,5.76864633153313,-296.9329415746546,65.83704064814013,41.24100661925546,86.5347965799165,-238.78174567040716,-196.99121041556106,142.12875072841507,-190.98709701042608,10.196227017200023,-180.28402873954064,-186.7460959963917,-31.665756470881828,-194.27506368229962,173.2440787289936,-163.38259501790674,181.02036026267282,-224.15267489412574,-193.13142237805067,-41.47641398471219,90.13939316131042,-187.65147919031315,-97.03823717563604,131.88387175419157,-193.65559164474078,54.82860365883625,39.1343226175474,124.12328192205571,-186.41253464193306,87.1394020298014,-44.25456401666295,-28.487011374589418,-46.05319040659549,486.2457342698515,-193.4173321104438,-81.22731188483364,61.46605950582178,138.42339885086358,-198.19415261283646,-249.93224233279068,12.67518062645172,131.80460754756808,-7.242318462006273,-210.5242910327779,105.81327823219539,-54.16400385183155,226.0795826261679,199.2212248649636,195.32591560890134,156.6358420197833,117.60742093651744,253.74852497199842,91.55819104528044,28.795611957770166,116.13132611370247,-140.83052208466637,295.2880963104277,74.71833771670292,95.26580859885577,35.244822762228885,-111.98347863402624,185.56859504298876,119.90596580080964,74.9657105655857,-164.92748076317565,-186.88905086258816,305.52888843939076,186.17098350501158,-14.165076572711728,158.50436488131726,535.0703862922578,202.74680630956502,-100.60051002670359,-194.56097341469274,97.68723389973803,-192.36899642500256,-189.12868089831335,238.62802549338727,181.06938142428493,17.858593092829732,-216.24249470551982,156.31344587884936,43.92139965081773,-94.53410396604441,-192.84551264565766,6.261865420096704,144.46632881916773,-192.6072545353301,292.4074007877423,-191.22535512075362,-192.13073831467503,-196.99121041556106,65.23507119836393,65.187880317402,-33.87905225534088,-186.41253464193306,77.47115509611899,103.6124305658222,1320.3460023824769,-193.4173321104438,63.0858182526753,-207.80814429951647,-193.4173321104438,-142.32349649419044,18.64835196909076,123.07935372676168,133.54488749356153,760.0791602586481,33.895161994500434,-206.18798677461248,-88.79549084388682,177.65304497519088,79.69482156010864,241.13736803294267,49.02954280369868,-193.4173321104438,275.0872293728999,154.38164171944152,74.37943549265565,-1321.6361605313748,-145.2002081394097,-265.8479083288103,266.5818898538784,142.52201012019805,77.28208560365668,251.76931406774256,81.87786065096415,237.42653918277546,151.92448183449594,-189.12868089831335,-28.18731841245315,-192.36899642500256,159.99302517063197,-71.42808968366826,67.82718267963655,91.41449038330144,138.08822699239877,-238.78174567040716,-191.4159616090156,-192.6072545353301,77.07095654982663,23.48675757538508,60.67408252451052,129.62191128779827,179.37010795524404,-188.65216325368874,130.17281672629352,80.83027134551513,-192.13073831467503,143.10816963337157,-187.50852432411656,24.864073857901893,72.35843541368092,-235.7320375826872,-26.451387905638615,13.031748470760329,75.66779464659663,115.63558041700075,153.58166910328205,-205.4732110196603,67.41567287587725,-42.79638170685285,102.01142732200086,-140.13121720030594,-254.55445632334914,235.85642556762866,-185.69775841009994,-201.61342440611955,-280.90584465438855,113.92241122592091,-212.62096525521818,154.59281921501463,-0.5207558490193819,-44.38730171519342,111.40686126260734,101.0061562802177,-249.93224233279068,92.15528889696506,-34.69765246259285,67.47427689300059,-188.36625352129573,-265.8479083288103,91.29773320552958,18.60817446733602,165.29006083300703,-189.65284969174124,-275.4069876135206,-197.3724233920851,172.97961164120187,67.41112737034724,-199.08788416112017,146.93669680266194,-195.51400775685357,-189.31928833728267,166.4687798490956,-186.41253464193306,136.60250340910616,-187.50852432411656,95.56704570148321,-186.41253464193306,104.78345228454363,279.79015397622663,134.55827300941567,-190.41527612167044,-141.64731919683288,-199.08788416112017,147.38656666781685,-38.21790591536544,148.72108646947572,51.72677810244461,-188.50920838749224,-192.36899642500256,-205.4732110196603,-188.65216325368874,-129.16970916865424,69.17493361427738,-316.76705288990024,140.92529660280857,62.373151434670326,261.7332767364328,-135.61432661530927,-186.98435505742643,90.88907122512678,-46.18107204359316,-194.27506368229962,-220.67410220781628,19.560709435005506,44.98862894120671,77.24213680581896,-1.2050524878091395,-198.1825023911683,153.9705801340192,56.94531794024682,19.873156722484556,-132.99104013703845,-14.070512979182984,-194.27506368229962,222.07255884646383,-60.74353116776649,175.62537037194727,69.00142525329292,-43.48935821550328,148.98859728058332,-272.80505702681336,86.06092074222609,214.87405711304788,52.49031876054748,6.482666339529278,-193.4173321104438,296.2256891087299,358.44684197320504,-194.80591053130175,-191.4159616090156,-165.96432665622257,-190.17701753446184,59.15963142659958,-13.282359462845191,-198.1825023911683,1089.9535943025228,68.9658176553058,59.146258526305076,461.1416056862857,73.9711333741731,-191.6542206700504,-191.6542206700504,19.29463361344275,43.039643364588,128.9876922654425,25.082949041190464,-37.15032018604791,-21.30174497827416,17.086920883983293,-208.66587539754636,43.088717046015766,20.79450404988021,-219.43282781805783,-198.1825023911683,-194.56097341469274,853.3356842441731,-55.34510939024341,129.9357230897976,-77.27633000061078,15.658367582118776,51.69589150339287,102.93703418726913,-5.247797746947858,-42.70402262030588,-185.69775841009994,285.36293569089395,69.4882850508277,116.26974965961287,-11.76870677814017,69.29262732380931,265.37183758399937,81.05712996217264,-201.61342440611955,56.02511888910241,135.2592096400825,81.66297424982093,126.0961571772129,195.65289933921545,6.786802335134697,86.24988648315156,50.57426534525155,-254.55445632334914,63.59200998443953,-14.677990347384842,-235.7320375826872,147.50505053210588,390.7028364405916,106.44050743546244,156.20938743360665,105.93079962935602,36.84541316712665,-12.886979624173863,55.86389117788258,239.10270984051448,29.802086820782044,14.045604336808506,-57.66635777541614,90.67725561818855,-85.097288211586,104.17659206605258,-13.488106415342664,89.21954780859231,116.79099305685389,37.567286554138484,18.41053311490128,-189.4622432034792,251.31270708044207,-76.44470334670928,-15.68923751899324,-60.87734469459122,113.75098678478786,25.253371714683883,-189.8434561800033,17.036262172967316,-238.78174567040716,68.71119184221378,50.7229765087304,-190.60588403390202,-7.880946281993237,-224.15267489412574,-11.723800696939549,-17.870631458995117,-193.94150232784108,-903.839405942016,-254.55445632334914,-5.906608966401945,-41.026369228245855,-190.98709701042608,65.62186376959622,11.816151689547022,-213.11292091517268,229.12941151386534,-201.61342440611955,181.0849231193312,40.82687026472662,80.07503952777165,33.139974432694956,-74.70184955805979,-209.57125716749823,-257.1799832374426,500.04984057052746,-186.65079275226066,89.51327268611854,-488.1039132315167,132.236356825749,46.90755468958262,116.12813915238785,10.130593674403626,46.053174259278165,-14.184021169905217,-113.77272019031228,137.73769220497616,114.02741930989991,-230.4903501306004,74.54291294827095,-193.94150232784108,-242.66524491681812,118.60016474376529,-167.939578672772,94.09872730345066,766.6102935625506,339.7432362708411,562.0089512809178,258.989018323433,-192.36899642500256,-1.166203924952587,114.88578951145905,-192.6072545353301,133.2693936022684,-26.345845317337908,-185.69775841009994,-190.60588403390202,-194.89453476915125,-10.120452442932839,-290.5314870359991,-192.36899642500256,-189.8434561800033,80.6990184304032,-249.93224233279068,-25.24321565469639,27.767418057050804,80.92369317169292,-200.56508634600155,-110.10528956174012,-188.36625352129573,-194.89453476915125,20.220581347643886,445.25668557602734,-71.05964258388511,208.01357635953838,58.77036191645467,69.70480367515852,-187.50852432411656,178.53697414574904,118.83265513659168,148.54480886301423,193.1263464411996,-280.90584465438855,-186.88905086258816,-200.56508634600155,-187.36556945792003,165.78890562493663,-1063.2316157292162,789.4493058587328,44.39029720121821,-65.12501593976096,27.03169807712407,166.67619021562865,-193.13142237805067,-186.50783788606412,-194.27506368229962,20.535550773872377,-30.565610629485803,75.05332646352306,55.69184863452152,196.62013784501258,86.19740665170293,29.53018194376791,-209.57125716749823,-55.87517720685878,-20.239587672367193,104.28433852097459,105.50792429098942,-194.56097341469274,152.65443284558825,55.63539183149473,-190.79649052216402,66.85246111628295,-201.61342440611955,-201.08925656339895,27.93855052081755,-191.6542206700504,133.39961695444927,-186.50783788606412,-245.78654456288734,296.39159361466227,48.99471871399264,-265.8479083288103,-242.06971139157355,111.16225563036127,126.1224844403493,123.82162699320719,-12359.475478840675,124.58887344796234,209.44819765134565,124.90683042783036,-188.17564703303367,-5.1937080206558335,-233.0158898987186,17.79059206501434,-185.60245516596885,147.83094831085452,-5.869570556789518,2.921008539060435,26.660141249660533,-96.89731689842024,37.89448827492141,-259.79614425231716,2.8606132167576637,-192.6072545353301,11.7878134305561,176.21960085761748,-265.8479083288103,-520.6296530891757,-191.89247878037796,289.247596832644,203.09407004438182,115.36248943059408,118.11411537731377,56.42587338432735,-190.03406266826534,270.52839073974775,207.46560991645418,-188.0326921668371,-188.36625352129573,206.85491307015818,-1205.7916515088898,19.31973410868659,23.844057427927595,-188.17564703303367,-7.972316941663398,532.5860025021362,274.65980317158915,258.37251232959505,-327.6832830905063,-206.18798677461248,8.168170862950168,138.16902219523763,-92.9337286798257,17.20119738963855,-187.65147919031315,312.8655897373906,-16.430101811962242,-205.4732110196603,-148.81616249143138,6.54332252156894,285.8980955499323,46.32917602841579,-199.27032624232925,-272.80505702681336,-36.534034293894585,-207.80814429951647,-187.65147919031315,55.21799978799604,99.05825885177619,-136.14419882151614,-87.05969448807198,-176.69625512714757,80.75799935650782,-129.10976765561077,74.09951456745515,-7.971314133055613,28.878753400793325,-185.69775841009994,-193.13142237805067,20.859871223791185,8.377512143596404,-194.56097341469274,30.86003304387358,-46.04234528604804,-188.17564703303367,225.61094388267858,-186.88905086258816,140.89738787384127,-193.13142237805067,165.2304232005318,-58.0213650163823,-13.901985041657259,-82.26096195697433,-36.050868529627,119.0979406673876,-318.57243069151394,-190.79649052216402,123.06919272196352,-33.30422818666463,-166.80930067595352,67.986076952301,-25.77044265731004,-192.36899642500256,-188.0326921668371,-9.320985083118536,-27.133421873469157,61.27793576691672,-202.18524387090565,12.117853895472715,-190.98709701042608,-185.69775841009994,59.82753005079723,-249.93224233279068,264.4689260166526,30.662951681682937,-112.81989024493305,289.249649381664,-233.0158898987186,108.84519742668425,180.3685883067512,-199.08788416112017,14.847061901675888,157.7263097915946,-245.78654456288734,-40.53042967568288,51.46651953489751,-190.98709701042608,5.6516139222660815,109.767826206208,101.03783475446463,171.43830462038716,-222.34191088095966,-188.0326921668371,-189.65284969174124,102.46443701534841,-79.97356339602403,-193.4173321104438,177.99337931281045,33.40250525214912,9.921047078568664,-197.3724233920851,-186.88905086258816,20.095560724456714,-70.47061357406547,-188.98572603211682,-191.22535512075362,143.86148587470066,-259.79614425231716,-12.865577402325007,-187.79443405650963,-238.78174567040716,120.39035438277939,-72.37707769095631,-211.57262814218856,-187.30007817709483,-190.17701753446184,-77.0027248091089,94.80127886243662,-160.48474498096635,-238.78174567040716,-192.13073831467503,17.571072811694716,-280.90584465438855,-44.60743507088648,100.49685647299125,93.71956914329492,-48.48688020154822,-187.50852432411656,-133.11150877407175,-194.27506368229962,-188.0326921668371,86.1901831128278,-188.36625352129573,39.75548783931918,-207.80814429951647,218.94909163176393,9.05886287579197,6.707085654340269,-63.2822799777935,90.42977020754515,-190.79649052216402,52.2870803977587,30.7448749259038,-197.55372014261528,123.61369164061827,243.95943562214785,-9.446759141266922,-242.06971139157355,427.97385540124037,-187.36556945792003,-190.41527612167044,-3.563027734427357,81.25744884973709,-57.75711329909167,80.74685523760026,323.05606020954986,100.6690153353023,48.26255282582457,124.57828133122872,335.2920865003448,-192.36899642500256,302.59736387902626,-187.8897373006406,-192.6072545353301,247.2424632523381,-193.4173321104438,-135.8762072983269,326.6619164641553,97.7748916136289,71.0692902768005,40.07689792805305,47.92970708650013,654.0887611376207,54.348729404862745,332.91232055361496,-190.17701753446184,184.382887176125,-265.8479083288103,-58.21908755239948,191.60926575487613,-259.79614425231716,-29.18802794276529,-151.33224197818558,-54.572538674085656,-24.268131507941575,187.2524000740756,140.2359633667263,-64.04076531366408,112.57524231839919,256.4748370690631,-189.4622432034792,347.982747472016,52.19056399038833,123.65893325027078,-156.4116982029041,-186.41253464193306,78.07393197344553,-265.8479083288103,77.11623000413654,-88.5159297329051,-186.65079275226066,322.51993172656387,-202.18524387090565,-233.0158898987186,-206.18798677461248,-196.609997439037,102.35368632484371,84.01294565942742,-186.31723139780206,305.5216628923364,302.61061524010347,-83.53011019925971,0.01766671458824287,106.96022398512822,-61.066214564856026,-193.94150232784108,-189.65284969174124,-111.3789065216947,129.04650841005832,139.09656758177508,147.03259414059323,13.739421755140764,-191.89247878037796,79.25316170133021,138.75870036904115,268.54893374839804,-92.46133805001219,-8588.18911749865,188.39867733697633,94.93993651639465,-48.139078855301655,48.751216707419395,-188.0326921668371,271.3518701332269,-189.31928833728267,459.2446656964121,162.7456629959161,159.6312015328431,-245.78654456288734,131.98399195693347,85.6585584017938,-193.65559164474078,-187.36556945792003,112.23262907021902,562.1470568504612,-27.14170815197514,188.153178868684,-192.13073831467503,392.94155014102415,829.6371039684298,730.9174964248663,308.47000039549994,-188.79511811988525,184.79952179215488,-188.36625352129573,58.427456468904055,-186.7460959963917,193.3774222870356,-193.13142237805067,-272.80505702681336,-32.015679050537045,-92.40421914798846,17.66992573061855,-265.8479083288103,-233.0158898987186,-57.78118375038421,135.9899662956051,156.35134361431847,-185.69775841009994,-192.84551264565766,48.575199096520336,-20.935678566519268,-11.858074302036234,43.833505977261716,37.41751342213845,-33.42751888685717,-43.26900687860652,-202.80471638172673,-226.10639425036945,44.65387458448636,285.4415012714836,80.83303983733589,-186.07897328747453,113.44930526246971,93.11186746734616,63.09808780407225,90.13063847853682,-254.55445632334914,136.85310272588802,-39.01533128968548,-185.79306165423097,38.66816003532908,-185.69775841009994,-185.69775841009994,61.79557187395563,-188.50920838749224,-186.31723139780206,77.39840889296363,88.19719385175728,133.0480794475774,10.915985511224534,39.0696862941395,-186.7460959963917,76.06470839419156,-192.6072545353301,-192.13073831467503,-188.79511811988525,32.117548405070764,53.30133947297881,-190.79649052216402,28.845204907586886,46.170798473772244,-188.0326921668371,-245.78654456288734,-193.94150232784108,104.10130934366283,26.371917341539813,-214.95589853507437,-456.578598802619,227.1491296111006,-212.62096525521818,135.04633604286704,-90.85893480187364,-254.55445632334914,112.84323397000823,64.55695535713251,7.37894970606493,48.992759294593405,89.14348884477906,10.624564642350343,-254.55445632334914,42.688224399502346,-201.08925656339895,-194.56097341469274,-75.88943299459443,93.45480132268422,-25.728579999768087,-80.29087369281105,181.4375804452991,-15.875913579759093,32.02599698139228,-6.248509489837057,-187.65147919031315,-8.526390082399063,-28.263486955997422,900.474216588421,-116.03082488418006,53.442615960444186,-228.20306941989807,8.72717121525226,-194.56097341469274,-95.45011127138741,-1180.6717907488446,-189.31928833728267,95.51681405928136,81.96369893075055,160.7226967685815,-240.23558130730936,152.21151967052367,-185.25553806200267,-201.08925656339895,-43.015058231965355,-200.56508634600155,456.772324102173,100.54405501698275,-197.3724233920851,52.25663588074229,-13.761394210395157,47.639966408865,-189.8434561800033,381.38906500233423,-55.77451528188511,-88.24710320955046,-280.90584465438855,-2975.895484109332,20.221465020283016,-206.18798677461248,123.01190023128216,321.19881660398556,-242.06971139157355,548.6999486773447,87.26325241489079,-209.57125716749823,76.44462113650278,174.12384477190298,-190.98709701042608,54.765730446913565,277.32214674373984,-233.0158898987186,200.86772417617354,741.3373260733445,-363.19373853400765,121.47848038269264,108.08388039085135,-109.95464290118625,-186.65079275226066,-201.61342440611955,303.4899001174707,-185.79306165423097,78.81634485868821,-200.04091850328095,60.30842305470216,-140.24188291039178,-198.1825023911683,239.60308249603435,75.29903315027826,-24.06380772151233,39.45727678409039,104.87641839880162,-249.93224233279068,130.9187341350188,-209.57125716749823,-230.4903501306004,102.55545321196917,99.76897419699513,122.6510827274851,109.99312139558754,273.5480785691644,216.38000212156518,-11.294012002958361,-34.230275140483876,206.55651425182563,174.72227622946377,8.678759463374814,223.82511232056552,-187.79443405650963,52.46163616412595,-103.14584284594284,177.75682468732458,15.645021016124785,140.4508483677508,-217.6243936462701,-202.80471638172673,-217.6243936462701,75.10584087651135,63.21862580164071,547.4119833900008,-19.123195608083584,199.79718506775103,144.90941505000063,198.88191925495082,92.39642153560452,-144.94795145878948,-211.57262814218856,-193.94150232784108,-52.149649238718574,83.20839083806469,-101.10128190871673,82.52893881936393,22.172147949877395,224.16933757909683,-193.94150232784108,38.817580622583584,59.39701399060707,68.87453224757002,209.5579911101135,131.2584058180037,-103.00886387841152,16.336876567211586,218.63310984579797,-203.42418841928557,-280.90584465438855,307.9318019113905,125.75216647698193,532.0226597480181,46.7579998482918,-259.79614425231716,129.21778618158254,-194.27506368229962,-79.599391016741,250.11832503448792,187.90275864981405,-565.0797072021622,36.8401903240411,-194.27506368229962,-185.69775841009994,55.00939052265333,-14.626927069099093,-194.89453476915125,-191.22535512075362,123.70781371066076,-259.79614425231716,121.69299360709076,-193.4173321104438,-196.99121041556106,5.755741817900029,21.31166579036667,79.64415882428493,-235.7320375826872,-186.7460959963917,-192.6072545353301,-201.61342440611955,97.71924352859423,59.395946763981364,63.1611251510213,117.73638050705782,74.44925436050629,35.07800221857464,-235.7320375826872,92.71993021976365,-321.04358753807753,-185.79306165423097,-658.3425733116666,-192.36899642500256,137.09923732121712,110.4729210356172,-238.78174567040716,-185.2008555498246,-290.5314870359991,99.77386050185832,105.6139185510008,-26.715335918338845,-4.014033579801336,-190.41527612167044,67.29642215419626,-192.84551264565766,-25.5085951584919,-195.51400775685357,53.60216140708167,-36.326911595090564,37.26764216811407,-37.50005358806399,-185.79306165423097,201.04305355082602,232.10984298665093,59.882628455204454,27.097973204997093,-126.38051659308665,124.51913631752195,64.30266639079964,-188.79511811988525,-78.72540526346805,160.2257613705873,-16.543446797569604,291.503780684645,106.90086516813739,90.05590004773265,30.36236260319212,-204.04366140698787,-198.1825023911683,35.10102442858551,398.6298724662178,-188.17564703303367,-203.42418841928557,-187.50852432411656,109.12909286225343,-193.65559164474078,-200.56508634600155,53.127837979910545,-198.6113679404651,-36.507890923099566,94.518774889716,71.79930289470755,19.307233191384103,-19.739054099312547,-192.84551264565766,154.06564704836867,134.5369707331104,269.61140225773795,96.96839518412087,136.59445458316134,155.92429802121762,-52.16950289757327,-187.22261316775402,35.80326788122925,125.6830413596319,74.8109979854804,130.6404603688511,230.59173101763136,63.8197431526271,157.81162238754226,132.53142617830193,224.82841325615505,-42.887825641221184,32.20884138514595,34.82746875002477,-224.15267489412574,193.99324385105027,563.8579826212066,4.062323901526515,-77.96173991243138,214.914098263295,141.94402080743598,140.48185882398187,-219.68253932768144,78.89053526332218,-187.8897373006406,8.64428838527898,-254.55445632334914,10.463691221543677,126.76657179125165,137.5751679752759,104.10087198102839,25.471047290153038,-144.88878961683614,-188.65216325368874,-31.30197427148904,-190.41527612167044,-193.4173321104438,-245.78654456288734,24.266994338998913,88.80299932060574,72.55197571800518,-132.51694606440404,-296.1546153803314,-206.99806434972612,-186.7460959963917,-193.13142237805067,-186.88905086258816,388.41220214057637,-59.46956214328999,-117.77271090432983,427.8384544816552,-238.78174567040716,-89.46318548841427,-185.79306165423097,223.18358102601846,-117.98728388903292,-188.98572603211682,68.51611346076716,-226.10639425036945,-200.56508634600155,54.34734925809407,-190.98709701042608,-3523.0152388423558,-39.72716861096509,-222.34191088095966,41.720212010454716,107.80072232799968,-196.99121041556106,-186.50783788606412,-290.5314870359991,-200.04091850328095,-249.93224233279068,508.02954406978597,317.038735215193,62.08025682583956,-186.17427653160553,10.217954218803465,130.1986100168951,-245.78654456288734,-193.4173321104438,-14.798790148050566,87.84360005628204,210.65323840371,614.6083138574451,-206.18798677461248,-8.090820024672034,-242.06971139157355,-193.65559164474078,-193.13142237805067,-186.50783788606412,90.98754735571197,-188.79511811988525,903.1202780514379,-219.1015963049778,-230.4903501306004,-69.42038982046692,-249.93224233279068,48.29362710006763,63.34622441183192,-235.7320375826872,47.07194980185292,76.43122876566648,-13.187472924781373,-189.12868089831335,145.0641285325478,-187.8897373006406,4.814259749524587,-124.55194094248002,-274.29895082648363,-25.042707448340806,-249.93224233279068,52.61224364800077,163.7040403231733,168.51204315184467,245.32963995480208,297.4207757722479,77.19857989825117,167.25664573959065,206.77958747253308,690.5705791838964,1.7858532709863186,-186.7460959963917,465.968918404426,-109.01063260059729,96.86117082710486,-186.31723139780206,66.36148177629492,239.15747058335583,88.86697151923136,127.86885578456372,4.711100814383122,133.7456981814689,598.9075449110949,273.5559059835666,135.9501299108772,-208.66587539754636,-190.60588403390202,-200.56508634600155,195.45101036777154,201.5123389567351,-188.36625352129573,69.46252127166369,8.667907263443611,155.5533246150247,-197.3724233920851,149.38820244165592,-199.5644022826259,200.88887194720408,-30.610289305265685,-55.49178305412049,61.11834990558127,29.946351480914192,59.76336195902071,-194.56097341469274,177.03311879792872,85.74750367515585,52.89191377821099,-201.08925656339895,-185.8883667992125,104.21273582392116,50.107107530922164,-211.57262814218856,1140.7625541672649,109.68893311867434,-197.7536363686092,405.14398647808173,-230.4903501306004,134.1297910675697,-265.8479083288103,-16.229883288861817,115.75888120689304,60.96949897451977,-16.980210130041765,188.21422713711303,175.91010195444593,35.81979313082685,275.85741975837004,38.376369591305,19.616556445296148,79.9625082187727,-190.17701753446184,94.9784865888273,79.03737183168813,15.601423329843417,-265.8479083288103,68.48694830049467,112.60867533241543,-217.6243936462701,108.28588235642513,-12.379950933299172,237.7390863366123,-202.80471638172673,-3.775849166820404,250.55532866940388,72.24739649870723,36.25385318391913,0.5071362676536186,248.00552658375614,87.20296458051845,-259.79614425231716,79.29174063458069,-20.351300676349833,-126.77316651661033,103.88518401822344,-188.0326921668371,13.844774627770905,-201.61342440611955,83.75782994059854,71.3047648655824,-195.51400775685357,124.92931296843528,-45.47959841190529,-259.79614425231716,-196.609997439037,-276.53316295795497,90.32436189713145,-33.735158634682655,215.97812718157758,92.28395576740309,-188.50920838749224,238.0007951461155,-222.34191088095966,136.3474607246576,-188.0326921668371,-233.0158898987186,368.9481140153861,-186.98435505742643,347.7444183561484,-185.69775841009994,885.4122549621441,-193.65559164474078,226.63586531746736,-35.71540770353815,387.8967602422644,382.87893272071767,-189.65284969174124,-186.50783788606412,-6.156590067382695,48.172694330808824,-192.6072545353301,230.29070665165932,25.33311772901991,165.9813844897672,347.32768415372556,-194.56097341469274,-187.36556945792003,457.68920836130184,-241.78542100865818,-185.8883667992125,-90.16219973465404,102.46051283010186,552.5499516204767,88.50126766911409,-31.115558939280827,61.61472436191665,77.58349973070925,-211.57262814218856,39.46459103326325,-194.56097341469274,-196.99121041556106,-151.0381410682883,-22.370264582622923,-246.08422960845613,30.94788069959648,-194.27506368229962,-40.8648283004145,-204.04366140698787,-9.355190255225976,111.83431997459651,-290.5314870359991,128.13267159605343,18.86394050760236,299.9713392380722,218.31840480824704,40.96088955615155,-254.55445632334914,-82.54470033633692,-202.18524387090565,-65.33584170500964,110.70472184795177,57.926878872040085,13.813251336887978,-40.92728617117634,-185.79306165423097,10.2855841783492,-193.4173321104438,-212.62096525521818,590.0131725292702,-280.90584465438855,104.51528522634025,-222.34191088095966,185.02520595079957,75.60792593442523,-112.64657498115402,78.67096741266563,-187.79443405650963,-133.2698376111657,-188.0326921668371,37.90648013723248,-22.281288896483876,102.35967672601633,62.204581902522,-238.78174567040716,-200.04091850328095,-213.37150963648764,-265.8479083288103,-259.79614425231716,-187.22261316775402,-188.65216325368874,-193.65559164474078,30.36223222698791,46.59009774398247,184.53666635237414,40.861091868765065,-4.646161800940656,65.2628131791203,-265.8479083288103,-35.56095300724105,136.79537814136626,-135.34102108389672,12.652265967053253,149.29042675614366,42.02245451407872,30.33056193729815,-187.65147919031315,-254.55445632334914,-24.93516991201271,-212.62096525521818,-27.530489863980048,15.0707018031861,-136.1281639223894,16.58559479108088,-194.56097341469274,-5.586309499246893,-210.5242910327779,104.9544420218412,-16.98548488197022,-186.50783788606412,142.19896351819798,161.275448604338,16.963449444197135,-245.78654456288734,-235.7320375826872,25.944280219423327,-190.60588403390202,-23.718298874926113,165.0013883741618,120.17506712329019,154.06512003028286,116.86970954112287,-159.49285937804143,-96.75703169130773,43.46248324019816,-245.78654456288734,-30.02566279467678,-91.44229186181629,-11.393045910672114,112.8997524462597,-209.57125716749823,-245.78654456288734,-168.6020360855216,2.6957270468349006,-187.79443405650963,497.7689800666941,-405.3196758152822,-192.13073831467503,141.24740043398853,23.573358421778313,-280.90584465438855,198.41770734721555,-109.09993787302618,212.65089138083175,48.82788821916489,-33.49712661937949,63.86851575539946,127.9961138918904,156.40857229241655,-68.20558541322812,283.1276439302429,293.4836438855099,-187.127309923623,-48.35919543282348,176.12327453241525,118.14255328495048,-193.94150232784108,126.91740011825563,-22.509938794470035,250.24228748685064,142.8554534066965,-167.36717163684838,80.38413272272375,-185.79306165423097,148.68958299386856,167.41928680242154,115.43880345509608,-14.391895167501618,-193.13142237805067,154.83553651993432,182.62910775852365,115.81514910905591,111.02787913471253,79.49525998742465,291.41985819717604,19.757827967505836,-202.80471638172673,-15.720920116927074,-265.8479083288103,22.804175761367638,73.6866360505948,-53.20685307794438,-35.15766882822877,113.00681504598114,-224.15267489412574,89.9806915673604,429.6160755158638,131.85167725289799,-249.93224233279068,-205.4732110196603,-23.323810040377108,98.50829679216145,-20.251417465791747,-185.79306165423097,233.14067095624654,90.95797824467942,-31.768310176555655,570.4570996904099,212.0398472028635,259.9355609311185,-31.52508526459936,79.55251476866245,14.31336650270147,117.23065884509359,102.81099062153706,-22.125106347489403,-191.89247878037796,-192.84551264565766,-22.464727777039226,-192.84551264565766,23.645125914475994,20.10429781049892,5.11272306171937,-259.79614425231716,-186.88905086258816,-132.59324356447502,181.47060213451292,0.5661806849196401,-186.31723139780206,-187.50852432411656,-272.80505702681336,-210.5242910327779,29.651520507778958,76.45778704581704,-201.08925656339895,338.35443321277734,-206.99806434972612,30.57828207749854,-82.36957940520632,24.73945854967359,81.33230033997881,-192.84551264565766,171.66569325909265,-10.985999535146133,42.78676626793603,-31.135264077859635,56.19407166955095,-28.881904804980255,-21.89417346405972,-189.31928833728267,-242.25516435899965,286.3637911030485,-272.80505702681336,175.30911081881186,68.1274853692013,4.6753917695069465,-272.80505702681336,-193.94150232784108,91.60563086308412,156.44711694947446,-22.36603746613572,89.23172486700167,-188.98572603211682,-45.067210627656785,-200.04091850328095,305.45305709093327,-192.84551264565766,-192.36899642500256,-90.1877965069765,-342.12509059274544,-238.78174567040716,-245.78654456288734,90.65881533397999,-187.65147919031315,-52.40218826279514,-233.0158898987186,17.45995349355788,-217.6243936462701,16.104322424054743,79.11187985048366,9367.548720371276,-41.11145134631327,28.974255175110684,25.186813453778246,-198.6113679404651,-4.848276608239922,-53.87379009670605,-38.64122589958422,159.51583204422667,-265.8479083288103,-52.69328693773567,-187.36556945792003,-192.13073831467503,63.10753215068084,154.87987121978256,281.7978536814856,-186.7460959963917,134.99139587707305,-187.20936159286188,-1154.8858932574167,-187.79443405650963,179.0958325766934,-192.84551264565766,289.95253899561936,16.129825115510485,69.20579764121739,-217.6243936462701,98.86688495783147,-192.36899642500256,51.03182039491442,22.810179227630233,3.9711216317489355,402.9834932969699,-280.90584465438855,199.92902208570922,94.33928776978179,1254.3801025199054,105.3665682865762,-190.03406266826534,164.0654546857958,-280.90584465438855,411.1456085237418,231.068257856045,45.82506840564305,-185.69775841009994,63.52083313578728,-103.15044883813358,197.68201508091232,309.95043867081984,75.49633378465285,92.66528659417521,82.8727484817227,-216.24249470551982,192.28272469348266,-295.312367244132,-115.67928747591002,55.06226820585985,209.63240955526902,610.0405557941405,-32.54121524305065,86.37474397360107,28.75243861673472,65.87473724453021,236.96420739285628,253.2534795026577,63.59419189045928,-189.31928833728267,511.96154557026404,-188.17564703303367,136.93763602321044,-197.3724233920851,64.61570478934183,55.92399879099938,-20.224099567922753,252.30857323449953,-210.5242910327779,419.4480629708763,-137.03505916766946,-194.56097341469274,110.07319564600093,-254.55445632334914,63.74175573158375,-202.18524387090565,-185.69775841009994,254.6399959912889,17.56806693262054,-245.78654456288734,190.32277083330098,-466.9872700756547,71.61270127163047,39.326925332210386,34.49765194014804,192.72597814635284,-198.6113679404651,-245.78654456288734,56.116585274939666,-194.27506368229962,10.026886515611793,-187.50852432411656,-3.9646213695782615,-189.65284969174124,-5.909448345897546,-245.78654456288734,-87.24489909329716,-44.34679215014302,-615.263650513424,144.53419148248497,-33.55899270514619,-192.36899642500256,-122.65264037548059,82.02060360738021,-29.950397819049023,-69.57883644069128,4.874158086706777,140.66553423371815,-226.10639425036945,-220.20334378509853,-188.36625352129573,89.5891471703602,79.39948719502132,-192.36899642500256,121.30254931389237,-190.41527612167044,71.11753540983636,-187.127309923623,352.0965650432814,-24.98884894970543,81.3204945959004,141.45005264597125,-194.89453476915125,173.2598204067677,3.794441441782175,9.472328359367385,28.241854122390787,-92.32506819466388,166.8253145394529,128.20517271343607,45.69839875377015,-35.29149201613755,34.03225918655452,-204.75843573797044,-186.65079275226066,-190.79649052216402,62.41515986034805,-214.95589853507437,-207.80814429951647,-154.97477179006796,-194.89453476915125,63.967091085218975,-66.50195577658602,-194.56097341469274,291.7783038183038,-280.90584465438855,-189.12868089831335,14.470785438374318,79.30142152506413,295.9311987384408,-210.5242910327779,-98.9622941273176,132.82839473883695,-35.91511914862859,-189.4622432034792,-194.56097341469274,-193.65559164474078,-33.54055093109647,7.986984398365013,47.816288551229334,146.35676646596409,-31.689442829525856,55.605659803905134,-194.89453476915125,-194.89453476915125,-185.69775841009994,-207.80814429951647,-189.31928833728267,-187.127309923623,-186.88905086258816,-187.127309923623,-235.7320375826872,-192.6072545353301,-67.22493998485325,8.44998479895896,294.8829799561593,-203.42418841928557,71.87111844198957,-238.78174567040716,-107.42936153866505,-144.42361799716863,-198.1825023911683,-187.22261316775402,-217.6243936462701,99.72492132032167,253.46380208933996,31.891277252241355,554.8962899023076,-230.4903501306004,203.94534731858815,5.6229300140684035,237.3176041217617,130.1220494490794,-23.956213707104823,-116.70273638242855,-188.17564703303367,-46.311393913729276,161.00634417418547,201.5634601993216,-6.9485147009760935,-186.41253464193306,-16.51378129240516,-194.56097341469274,-191.89247878037796,3.4183791141523683,-186.7460959963917,-16.233511808050004,-191.89247878037796,-4.311294792737189,-194.27506368229962,42.24666339841385,163.48105885319313,-52.97745488747643,166.6090902745121,160.28157919501948,12.653262433993714,-230.4903501306004,57.276812795759525,146.22170145158745,725.489290628427,-187.8897373006406,801.7372038367496,-129.92881967768727,-187.8897373006406,164.77684283803123,-166.0581360920541,143.1699386090788,85.15112779080934,-33.326855631364474,87.22465327075655,128.65343103361684,49.829573815964324,-189.4622432034792,103.4317495270289,-254.61793397033287,177.28083721296971,-193.13142237805067,-56.598591996376996,50.30058463555407,-185.69775841009994,-290.5314870359991,-194.56097341469274,-187.50852432411656,314.2285664209306,303.4069410801375,-41.64380670802169,59.20633801049685,117.69585503951498,-27.261497341913415,-50.453109359639136,33.66013954958914,-193.74903178469611,189.7066131541427,-1106.5416211279714,29.85986975995302,-78.71246009814251,-96.36288894138961,48.74163635041737,23.136227585017487,-70.30697741851007,65.07471535656317,175.82637240070298,-201.61342440611955,68.00431996084609,123.4462292942812,-259.79614425231716,-249.93224233279068,-110.7227698625186,-188.0326921668371,-2814.33236492854,-198.1825023911683,103.88488082781376,151.97397333479776,-334.3753778317633,-25.01716610727081,-188.79511811988525,266.01536171425573,81.94000976243491,-39.00151502663366,166.28498859910042,67.72711266764779,147.03717444494578,47.404039508011905,-50.88208541744168,-192.36899642500256,89.10564755991889,-188.79511811988525,-186.41253464193306,134.02484835494153,130.73906261771933,1.48425419412047,-186.50783788606412,-242.06971139157355,357.1238568279392,256.5245637587354,-205.4732110196603,-249.93224233279068,220.19949169524344,-193.4173321104438,-58.648423537993914,14.134008047260897,-192.36899642500256,80.24677167377891,-201.61342440611955,-185.79306165423097,142.51731313039792,-82.28976054244038,396.4229195231076,-188.0326921668371,-192.84551264565766,-11.006581751772398,83.94954989837835,650.3263489810207,-199.08788416112017,-193.94150232784108,150.10203955309376,-129.2064517857502,-187.50852432411656,58.70139085744982,-40.904034616214766,-33.75005125227764,210.34636709227618,-186.65079275226066,296.6933069981417,-198.6113679404651,-68.30587858992685,-0.021760740809736723,137.64913735871573,366.3521698574675,71.12361652201412,-187.50852432411656,67.07026844727926,63.62177599175304,-224.15267489412574,30.030166007729004,-191.6542206700504,127.96138904287557,-203.42418841928557,-33.959411280468466,12.263393188512316,-191.4159616090156,397.9501229869862,108.48234233356305,-131.64771192375534,43.6331470714486,178.12382911735645,-238.78174567040716,-90.45646893052891,308.16843155877484,131.76347947968205,174.4913105480438,-192.6072545353301,-43.90996537809095,-209.57125716749823,-211.57262814218856,-76.13580296899785,-206.18798677461248,99.74770646450087,-186.98435505742643,-5.502590871235523,585.8108733846327,175.54810865158046,-44.624425537597354,-245.78654456288734,198.92129077488832,122.25329820996404,238.0613021150952,321.4520625312877,9.226946628945276,240.29723489276805,93.65052405455589,609.6547593288882,171.260272083808,-684.2062303999334,76.29859966190615,254.05412051802443,63.113006396817134,-186.50783788606412,68.99649905774149,17.43135456162173,143.67123283347306,285.9042583738597,-202.18524387090565,32.18736702816895,-202.80471638172673,-145.78954149293418,52.670932115565925,168.77322530975962,52.19425575544702,20.239399273828973,73.65087033101835,-201.08925656339895,1.1010040813026079,44.724744119041986,-49.857523194625514,-39.97870247560793,-61.74573366161965,113.36880605764763,51.43985295381973,-402.31116014466414,-202.18524387090565,152.5511384391873,-68.74322097677899,-190.17701753446184,113.86894998429729,116.75542616755136,-363.2646884593617,-66.10608278806679,-106.00309514043074,-242.06971139157355,54.122281856893714,-175.52430619204839,69.01059493195481,13.65545690885634,213.336426638293,58.98775202304573,100.69298534850664,-238.78174567040716,428.8730465522154,-235.7320375826872,495.76023883066676,24.36587376166992,-79.07511513045232,99.29422197585056,-139.99260483452744,-130.0566252127097,19.998715883957992,-5.478214866791945,80.55376794604234,188.42366815388738,-185.69775841009994,154.83530140002904,-194.56097341469274,-185.8883667992125,-190.60588403390202,105.96582300180245,190.8411224477163,-5.003876811471176,188.2828663663306,141.77840875088611,132.4796052516456,-49.3993422564113,159.3289572802089,14.03913913727819,-60.743116842620644,-259.79614425231716,28.191714677138084,63.02931173258694,-338.8683978730965,177.63708259391638,130.50825785702375,-233.0158898987186,115.6088477224201,-233.0158898987186,-201.08925656339895,65.52973412368955,-27.732929405179043,-190.41527612167044,-52.09740955954858,376.8693352835621,252.6564719979627,58.84720647772391,-65.4635737416547,-60.253873643748676,150.413329716369,224.7594325880597,168.77700591546306,118.86496559033766,89.4520610113662,116.06134391218328,-31.978852972251115,33.448697233533174,-75.31738667793799,-233.0158898987186,-192.36899642500256,-192.84551264565766,64.44613225472445,591.0555742771662,-163.40419370502883,65.23808885499771,19.239042723794704,217.3955738837357,168.4736327323192,324.63344300202226,-211.57262814218856,-238.78174567040716,-22.790416711658462,55.49766475784319,-190.03406266826534,-194.27506368229962,590.302344007748,191.218400140626,-56.77746866379846,257.2801647815122,-210.5242910327779,283.5229444094787,106.52776682071428,-245.78654456288734,-32.111703722872235,-194.56097341469274,-192.84551264565766,150.81928229259546,15.574506562507947,-73.61208403829248,-188.17564703303367,-235.7320375826872,-192.36899642500256,-195.89522073337764,4.228414227413949,-220.67410220781628,68.29513605604332,-194.89453476915125,373.5257428610999,403.3456030187669,-185.69775841009994,186.9343332942824,190.46808125713426,-185.79306165423097,720.7476162084477,260.2381504042091,147.80069746734245,160.44339890532765,-187.127309923623,50.310992234279716,20.477361168427727,-191.22535512075362,-191.4159616090156,173.22303884053383,-186.41253464193306,38.94101218928767,92.79070677348386,-190.98709701042608,-108.0196683909983,156.4997065569975,-201.08925656339895,-62.74578122868347,-190.98709701042608,239.43192648378798,-185.69775841009994,-219.1015963049778,590.2471713217847,-186.31723139780206,-216.24249470551982,-48.354995501900966,182.1206852195871,303.0427247301986,156.86246687519733,146.59314680819915,16.238750085014555,-192.36899642500256,-16.778905937427865,283.605634042695,122.83862979668504,-24.12708696197298,171.9106629152133,-254.55445632334914,-205.4732110196603,663.1876239817274,-38.038753152838126,-27.788984150949478,113.50612470270107,99.25960990325349,27.70691155231037,-147.19389036792137,95.57872453145782,-188.79511811988525,230.56230921103122,-15.227518238569878,267.2438903184992,-50.937023575056465,-273.84326067348013,-190.60588403390202,231.908594459228,468.49997090190294,-254.55445632334914,-213.7646056087599,-199.5644022826259,269.6345888785827,252.88521223378166,-85.93866778114494,156.60875551167067,48.5576737516432,266.74128364137044,-194.27506368229962,30.506793646140064,21.88757005674429,-199.5644022826259,-22.66149671357418,69.99618776101642,21.473163976919714,-197.22173247171324,32.280701679234355,-194.56097341469274,-58.53387623903438,26.50773061344695,157.80936861291033,-115.70381566904597,-205.47047996121555,-118.38939267263936,43.535022185857294,-242.06971139157355,121.28380540690492,-65.01578715418063,191.01146282344055,156.2696142586883,75.14479521669018,105.18630062584036,54.2511412329806,-191.89247878037796,155.50665886780175,75.81111075722606,87.0977336848782,-191.22535512075362,-53.96042150231343,327.348888475404,6.741279167721053,-37.44151155340976,-238.78174567040716,43.65608863228958,94.14496617099957,116.85473589469814,125.53050738776659,13.826624278639498,22.82898099158997,19.04534562924146,-186.98435505742643,110.26170753134524,152.6389777568463,118.90944834230727,112.56195844845331,-139.24479011643146,24.768419669402903,19.80847512712367,-190.98709701042608,-187.36556945792003,230.31259584477326,51.70685453687043,80.14429268618798,-194.14860924464358,54.69053207330875,-197.7536363686092,-235.7320375826872,91.68816946601119,44.79055295815514,-109.3962440423876,-188.17564703303367,71.99719918537829,-185.69775841009994,-13.075383288592624,-22.43861279433822,126.02094785708086,-37.9526789994901,102.04221652090376,52.83851086738568,-190.60588403390202,15.91018744533936,-2.8577111577901664,-193.65559164474078,18.789006598948717,-1850.9532108903536,-265.8479083288103,72.71421390405183,-198.6113679404651,-64.20546290776356,73.7398115912117,123.4504637525108,-224.15267489412574,-27.16284714994684,135.1418110437316,-238.78174567040716,94.05053879503967,-62.49812380213737,-190.03406266826534,89.57234858363151,105.69835651250445,-153.99903628825456,-185.8883667992125,282.8268590085074,17.383873963294587,13.983803086448455,-189.8434561800033,-108.81144214905515,57.541397716193124,66928.50859867343,111.06225217837456,98.57762732273821,133.98324713037937,269.96197818302477,159.63484429261024,94.172176232476,77.30465257819962,-47.95081643720622,20.084754892781667,51.89154802469235,-205.4732110196603,-274.74687594904026,-185.79306165423097,-13.647859266451997,180.51833209036286,-39.28018141832459,49.39014554615741,100.37783845923919,158.79767969104586,-88.57730566970572,262.47612671723004,137.35412066131514,34.887563321902334,-11.89585509288868,98.90454610434992,129.70499895232555,-33.73149052543215,-109.49149220788563,-61.94173673430654,-192.36899642500256,-30.06145387705073,-7.761152615319297,-280.90584465438855,-233.0158898987186,-186.41253464193306,-272.80505702681336,-208.66587539754636,54.04372869187669,165.02189977549043,-189.31928833728267,77.47228430659355,-25.95658874110366,109.57148184956503,-192.36899642500256,332.91033658665407,-189.31928833728267,33.141718806633705,-199.08788416112017,172.10924838868056,166.62027414266942,-38.04457675962154,-212.62096525521818,153.8343247677304,-89.43909039664908,-194.27506368229962,-187.50852432411656,18.027871852042896,-259.79614425231716,-259.79614425231716,-40.86541883407643,-188.50920838749224,-187.36556945792003,-199.08788416112017,45.37505794116553,60.19514234151684,-50.82836141412801,-28.3090773292025,-259.79614425231716,-200.04091850328095,74.61345737508229,-27.72600233801208,115.00765159553559,500.7253687211114,167.41364652346329,-154.37553606783013,118.33698597229063,-575.5550092774822,150.78056058726165,114.88978271791721,-290.5314870359991,239.38211853731462,-186.65079275226066,-101.91041381999545,1119.845355037258,-5.195907090499385,-187.127309923623,228.0089772469889,-222.34191088095966,-187.127309923623,105.85424290110518,-2.0883858606327212,-193.13142237805067,-185.69775841009994,65.74131800141413,-188.17564703303367,76.45502632754408,161.1180394259773,526.8826890010375,-189.12868089831335,-187.8897373006406,-334.29754384520817,-18.83564099316274,73.83892665212605,139.85069388588,382.0428134044405,71.91006362610807,26.9531819097805,-8.378180772934773,54.868251703059165,-332.0299448184849,-193.65559164474078,84.28705422389544,31.44605377609155,-190.98709701042608,378.91626138751565,-188.65216325368874,17.889198012008727,-60.77878012105658,145.52412392448667,272.0666930048318,61.148472166411274,-79.12242615148162,63.77170570083836,105.05801847938821,163.09273500688315,157.19949554137173,165.98286051357576,-186.7460959963917,-187.50852432411656,-192.6072545353301,-209.57125716749823,-222.34191088095966,129.81093775804965,246.01693391842159,145.3081977761254,281.2150638267858,-204.04366140698787,169.35038564413443,-2.5019900299042326,157.9108059513302,-235.7320375826872,-49.76779560760089,-51.00992130131319,-233.0158898987186,94.99404987726984,-6.48262300885396,-280.90584465438855,-199.5644022826259,-194.27506368229962,-89.28358053721792,125.8225853264541,241.30891176341737,44.31883072130439,89.73234318099954,-185.79306165423097,79.2667110583441,-174.69258354600214,299.868841338785,98.43681269123522,-205.4732110196603,67.70466313539838,55.22421194279404,-235.7320375826872,204.08776773842368,-187.50852432411656,100.34508070929151,-203.42418841928557,237.66011902018815,115.09460759651643,1.4867109889886383,7.4107274519234805,-189.12868089831335,78.28616499865022,151.57841817606487,114.28035823537054,-229.0500482371892,-233.0158898987186,91.9730807482378,43.93291626174069,-193.4173321104438,138.60211848592928,118.02457741388905,24.29304989361348,54.28785777675495,-193.4173321104438,475.8300497300727,22.169484940997553,-134.43454377173612,142.26630922193152,-193.65559164474078,127.47095075437674,129.56591794944316,231.71117642763568,51.71902033673042,-185.69775841009994,-191.89247878037796,-6.265995493284409,69.48905431590404,-189.8434561800033,70.3297964132133,-188.17564703303367,472.49768024191025,-4.89893473504621,-40.28770446922581,55.84906931081599,-188.39423952552315,0.4245501644002224,-5.267414667358963,-208.66587539754636,99.28417333951568,75.94160809801821,-193.94150232784108,-185.79306165423097,-188.65216325368874,-195.180446402395,74.3901950602135,160.9974112332596,-129.20729899069295,173.30674959196105,-23.58032930108225,-15.16161963986641,-437.23065834882584,-186.50783788606412,44.868676012557664,164.50266238318753,76.0027755545614,305.4503178502787,-185.43140111229198,91.8808886934855,27.178045641092627,45.88129649740583,-91.26110943854259,-189.4622432034792,-1068.6810734158892,-238.78174567040716,-6.200464025024961,-193.94150232784108,-104.37930852266535,21.622277357406197,-31.725648068137446,88.14361454217342,184.4766033166171,47.69406163816685,-185.8883667992125,-188.79511811988525,3.099452877323191,-203.42418841928557,361.97769950025406,5.4509226433744224,-119.68355693391318,-164.43531373298651,114.32442581881564,86.30964729943804,-19.90741454086705,-48.313834646561205,-0.4878441950489903,-249.93224233279068,193.26559982467234,-97.43120390767132,39.9037416315904,-33.60727289106579,-168.8753373835896,281.31089614225766,154.36054827019808,213.5698672058,123.89770526298041,296.49329016060096,-58.58685252700627,127.48604855598116,-201.61342440611955,-122.9012804891956,87.18040728037376,-193.4173321104438,-46.09207063093661,52.67064738592757,102.17964746854888,32.50873099727916,-432.83314825074166,82.05411276234645,-186.98435505742643,674.9028977138423,-189.4622432034792,105.72608257661282,108.81225096057724,283.1304092905408,206.74368484012146,-199.08788416112017,163.70809525112165,-193.94150232784108,-187.50852432411656,-77.83470100725968,-43.35600691781326,-135.55894841060044,-209.46609818511675,-448.62373105135833,81.58506225863047,-24.696294636286314,870.073915926688,-76.18793017293994,-259.79614425231716,-194.89453476915125,-242.06971139157355,3544.1349271582626,148.558044695982,-22.220405886424615,66.28493938942039,-238.78174567040716,30.83929796046466,-192.6072545353301,-226.10639425036945,100.2180170011173,302.65808180502717,-370.6670061640443,32.5983617555889,-200.56508634600155,104.28180260312584,-35.92237030433531,165.9909110226591,-60.79165167098075,80.49550338829897,789.261332418521,35.8373828548907,-37.34246118810435,-155.14506385203893,176.3236894394259,64.44683848166974,69.95005607715305,-748.1417386665375,57.93406858249339,165.28530227050223,-285.40021107237885,-192.36899642500256,-0.8112636794127603,-193.4173321104438,-193.94150232784108,88.38756547928301,135.62009551557384,-280.90584465438855,-176.5411991800122,-18.867564359884938,5.34310870340368,-242.06971139157355,-102.38811451570845,382.97928250915714,-228.20306941989807,176.14636496171605,152.19724346467117,123.99190903813306,-272.80505702681336,52.03617920720812,183.2567471632497,-238.78174567040716,179.57434789291352,70.79474006682379,-17.4122953971866,107.50806093822358,57.56795800452284,-50.58042636490621,151.6855885851385,-27.665517279969716,348.9796995684821,-191.5121507713523,-391.16018911572826,103.77536890920085,-32.71259512443015,-113.7582992360672,-202.30029351696905,-191.4159616090156,-226.10639425036945,-194.56097341469274,-186.41253464193306,91.65854921948554,65.73461027492844,109.13103816171642,-245.78654456288734,-4.675846025768087,-8.90137006548747,99.73389955080664,107.97781759995827,-188.65216325368874,-65.32363841090164,218.70205189214448,210.1206095668634,16.04480033607728,27.075624617802482,-116.02809938227027,87.39927462799655,-557.9086906890196,43.44938840173162,3.317051900698253,128.27109685548422,-220.6156603584595,176.2235690842796,-187.65147919031315,91.13132757428578,107.75989360736516,124.76114497936263,-208.66587539754636,-196.609997439037,-97.6841101634187,6.161162132199873,77.45923635791074,-0.4003405687829397,-7.672335008471355,-192.13073831467503,222.11467821844522,88.50248979136282,283.1119012603047,9.588083965448101,111.19328593168605,78.76649901916916,159.32766507871273,-193.65559164474078,-46.57137391151223,-186.31723139780206,12.826255755938373,-37.17736879085572,-191.22535512075362,136.20221528001701,-5.136774026988447,385.2944158312776,-194.56097341469274,112.73449880380996,-193.4173321104438,-99.14668087747644,-230.4903501306004,-4.00188719141991,-238.78174567040716,117.19427839013012,-92.69276444868501,134.56417582752135,-11.207804300426503,-191.6542206700504,81.41103003493367,23.82146109807957,143.56231109963065,-6.068307189915505,-77.23754903499633,-34.66166273535704,89.79256247104139,35.66888285923712,44.83537173306404,-188.98572603211682,53.59531059872975,-2.601114032785587,-62.08524053592353,-96.47073095122221,-185.79306165423097,-220.67410220781628,108.61720687917378,-231.46703600899195,-16.56463098096153,5.232738807059365,-67.1631764066372,-185.8883667992125,-235.7320375826872,-189.68288274292863,85.42430274051742,100.45223648424815,73.8852397256643,-254.55445632334914,-103.41048059526734,54.688753715354146,199.20449386813016,-62.665810086534144,-13.572009757849026,-193.13142237805067,26.650530562795428,-188.50920838749224,-275.5413415689275,-13.656904876467017,-189.31928833728267,38.61046394831707,28.053981319779925,-184.94945507545458,-154.9524068229359,21.64524989138314,-283.504006306985,33.881600500776386,81.55997819531758,158.01140487962977,38.97088597503296,126.16701805338533,-190.41527612167044,366.59260950869697,38.25987009710086,361.8456750435606,-187.79443405650963,-124.20247148707703,61.47063497790699,-187.79443405650963,-140.36965146534703,-3.6359746592730233,9.652381158244827,-53.1996042310428,-27.612231313761065,37.117096970953156,104.17179220401415,32.548937907434876,-259.79614425231716,-105.60066264212907,24.700558519777488,-272.80505702681336,143.63121771676686,-192.36899642500256,-230.4903501306004,23.052834095670814,127.03173925408738,-193.4173321104438,-208.66587539754636,-185.69775841009994,-204.75843573797044,-72.43538218403451,-208.66587539754636,43.20973944368561,-18.81863528192611,-187.50852432411656,-254.55445632334914,236.1026507452657,-194.27506368229962,156.4031098361863,141.90183276494417,-201.08925656339895,58.78570049238541,177.62250753848932,-19.149061808265408,235.0558512987783,-238.78174567040716,-55.80749292552603,443.26059640961404,65.57784970739608,257.6721528487041,-3.2048499640775514,66.90634495733205,-150.0095121466037,94.97202201496357,-192.84551264565766,24.74886626510638,588.7868113239515,-38.251257161589535,43.02244535029143,-33.25502557741683,46.830094003605296,124.43352346882598,-107.87808933336105,170.98484068416514,156.07912283804296,241.19172417856248,156.93632555627016,-20.140307805549394,-32.51830088746776,-192.6072545353301,-188.98572603211682,-265.8479083288103,49.10088687744305,-185.79306165423097,-61.6462086312231,216.3118107556913,-188.50920838749224,-37.62133341375222,129.22319518435762,102.30429158017274,313.0290495309669,34.78024756361432,46.223923802840204,150.46556423517592,-68.67092299611792,18.8415201685583,-12.316524015941344,-35.732345473639825,358.08851465673547,59.0946292167339,-238.78174567040716,-12.920096092037147,314.4181749658599,99.9060543314517,49.962715666463104,36.766789231887884,-194.27506368229962,-230.4903501306004,63.22600126021021,-187.8897373006406,220.71808831432736,113.8732342667824,-45.28920820602045,53.77215133611487,419.6314652135808,-47.03749275613064,234.25376916146206,213.2854956132113,61.662768787570435,6.426517032391203,66.71941585918078,27.360833781290154,-259.79614425231716,-217.6243936462701,-15.240053983266913,-191.89247878037796,-185.60245516596885,-188.0326921668371,76.67640299038912,166.43300576206656,-201.08925656339895,-107.05885234845265,-3.767931640746716,59.15845476335671,123.8048215836381,-187.22261316775402,-185.79306165423097,141.64319123096473,-389.547878464111,68.11648857052234,147.57367654329056,-9.392153878258247,-187.50852432411656,-34.175501456662246,-188.79511811988525,-23.11822038632214,31.74049279082705,-188.36625352129573,-254.55445632334914,-233.0158898987186,-49.108318872797426,-16.454073377125763,510.7912420659834,101.61907659375356,1205.8168534637614,-122.5290581660761,-261.7411975315256,-185.69775841009994,51.67101254406235,-194.27506368229962,-85.56373281084045,-29.058163811041776,157.24294930656552,-188.0326921668371,153.87092712872362,106.59862782487632,-27.778606500466164,-60.86180515540736,38.92322711855363,-189.4622432034792,-265.8479083288103,84.92280849304073,-201.61342440611955,-185.8883667992125,-192.84551264565766,157.89288268938742,-193.94150232784108,861.7155411558672,-186.7460959963917,-0.11994460671685697,39.64787023111323,116.18895284004556,-190.17701753446184,256.8575158181348,-118.75829924568899,113.23990028626419,-186.98435505742643,-199.5644022826259,-197.7536363686092,-25.478077635103237,-204.04366140698787,-193.65559164474078,3.9211233604421896,166.87361308310724,-209.57125716749823,-245.78654456288734,21.116917970306396,77.37632146613196,-196.609997439037,-189.8434561800033,-37.7946993746879,299.57417508807544,403.2219515134276,58.598961068447835,-20.16446008964535,-186.7460959963917,22.839805001016533,163.08746192477895,110.24863570149893,-202.80471638172673,173.61371281330958,138.14439873769157,131.66946981955974,99.70123391862231,636.4661254221282,16.77954528036028,64.93224150712318,-245.78654456288734,-191.89247878037796,55.76336282331782,-185.69775841009994,412.61907519918157,-265.8479083288103,-233.0158898987186,-39.35515039593567,-190.60588403390202,-84.73900815874474,157.21548514178247,181.63431122961939,19.787282891598974,-192.13073831467503,-22.018410011259952,32.32060708211891,87.05405905934407,70.70584088494266,29.795295417204283,138.38806360729677,-190.41527612167044,187.82790504406464,71.5505427305139,124.79793146758622,134.1975937345562,-79.11251628489352,-205.4732110196603,56.883964407357254,131.86301269185822,-190.17701753446184,-185.69775841009994,36.86266562704262,-26.66184046167302,18.438573212236953,89.78915673203007,-158.56136975928234,95.06780316512426,80.93646487911003,-12.231835636481568,110.4914938115377,34.40831410394464,13.0583271333286,100.98676558282068,26.53319897628743,-189.31928833728267,107.04077037620277,25.097706782272184,-186.88905086258816,-192.6072545353301,-259.79614425231716,52.70025312216869,-188.36625352129573,110.5600634762524,61.8529685065222,-192.84551264565766,563.0815059878145,371.18254579150624,155.00087857122355,-242.06971139157355,-186.98435505742643,-193.94150232784108,50.5056600415252,-193.94150232784108,-30.22824713264218,46.247303862973354,46.81298606049091,-45.30272069445296,-191.4159616090156,-188.98572603211682,72.6762610972968,-119.38038483007772,64.0196869764485,-37.76519132175007,31.9435612946779,55.94767697133085,72.00642835853672,-190.17701753446184,-188.36625352129573,91.71272789375081,-84.94039489498263,-71.80848259935736,52.87575341323093,353.4268666825972,-129.5003632737571,-33.983164696791505,64.24173100917184,-209.57125716749823,-31.995251222161567,-89.69006222624219,25.269617743171693,-189.4760732515793,101.17390672608904,-188.0326921668371,75.95712493210115,284.9749913082252,-629.8538809095598,411.4608388888929,100.63593846803786,33.241934697275425,-272.80505702681336,158.4078268816528,-192.6072545353301,94.52834294166355,100.06622936778726,4.171782497863621,-265.8479083288103,15.467410387996654,-12.091206086401307,-14.902643973261695,-192.36899642500256,84.48189720241699,75.6852382779143,-193.13142237805067,-190.03406266826534,24.511883014555234,-206.18798677461248,-192.6072545353301,69.63070894788775,-5.301441906354868,-219.1015963049778,-49.69072711977631,-194.27506368229962,122.38027042657997,-185.69775841009994,138.57847007982335,-192.6072545353301,60.04550019712394,-194.27506368229962,-193.65559164474078,163.65462539257163,131.0258484567914,-242.06971139157355,-192.13073831467503,-17.389222533284883,188.14984992124238,-194.56097341469274,25.6694135747795,125.94768711671995,79.28767778124417,-108.10190111362732,-64.53886578204606,-9.85247284039883,19.33911742288426,-198.1825023911683,84.37548925637515,-79.00941010818383,-186.65079275226066,46.611697956883816,-185.79306165423097,-272.80505702681336,24.731580570673582,-39.27561758735991,130.03244892078587,94.30554775893334,-5.38725560085086,-195.180446402395,-189.4622432034792,-186.98435505742643,-233.14359077560508,230.4294546203069,325.4502806751903,-16.241341178638024,139.7741360177817,262.90198881093346,49.253576346747195,-259.79614425231716,-52.657731364512955,-486.7925234605551,-192.84551264565766,173.2892282219852,-185.79306165423097,-186.65079275226066,147.95084739459773,82.6484975599939,35.76739473616255,-95.66879539379242,-45.57405636358317,100.04484075723191,89.66858619936839,89.98364047429793,-186.65079275226066,105.90917302600326,-7.632378073777992,-219.1015963049778,18.182771801284844,-230.4903501306004,37.53450661742791,184.99729674800608,-191.22535512075362,81.94482771321002,-0.07990602114701635,15.792813724645665,288.35504853275967,142.16958590595627,116.49154853153503,30.91802306165997,94.61836943622352,2.4021358860210458,-192.0352435168302,-230.4903501306004,-8.981873583136537,-5.522375687051907,74.32266900404512,-34.72667459577028,-186.17427653160553,512.2725970369918,623.4994266652739,-194.27506368229962,2.8469401534371888,-265.8479083288103,17.7248458804924,79.13415261747697,91.90432671791946,17.79177421366085,-35.23031702136498,116.14524384333681,-166.76191128560092,112.62012697813216,300.23342532834914,-203.42418841928557,-18.955654341354883,-191.6542206700504,-69.36562104490886,22.731276500757833,-183.68005704742995,-30.37743052331495,81.28193467171201,-11.404864695989756,-25.777227036839133,-525.366724717118,-194.89453476915125,-272.80505702681336,48.21589988924381,-577.355205654135,-41.76366196500648,100.83041782744978,38.70922504385891,-272.80505702681336,244.04112269452955,63.264737317179616,2.1766816661228447,-1035.7588562301048,-192.84551264565766,-212.62096525521818,69.46778319271803,108.13053237728873,-205.4732110196603,-190.03406266826534,388.83131936562694,310.77768026289993,20.008706749853392,269.75233179405063,-189.31928833728267,-136.22534917603028,131.5298616047302,388.05577341994075,46.32691130309917,173.68510759309015,-193.13142237805067,-39.31023504829132,598.6559548913611,-41.01617870285337,69.85527931197396,-75.86685874418073,177.46550947083787,138.6255646296127,-233.0158898987186,292.3725967330761,-189.12868089831335,66.04408128449327,-64.83590120974036,-13.676829110974696,230.25923962987045,-27.23098499968356,130.0983707954858,-16.25585109096284,626.5547659504902,-235.7320375826872,-384.9773859708447,4.635827460336892,-9.719429301109079,-197.7536363686092,34.43301620094976,144.71933350633756,-270.76543267533793,-193.13142237805067,-30.61707435191835,-189.4622432034792,81.14203462400958,-186.88905086258816,1.8338652526490034,-185.69775841009994,-42.81838845693583,-205.4732110196603,362.54289602567593,33.26594874508674,21.985568129459416,1079.664861059618,46.678022463892894,-5155.323064409637,-103.33756312141632,6.4798386735314635,-59.721444872005414,-206.99806434972612,133.64616335146204,32.00854202373553,149.0199725193448,77.38695430415677,-112.68237001649683,29.577433941214608,96.1056682881733,67.87206764542428,140.61999541617251,198.9336870526287,66.62130584302471,-193.94150232784108,-22.15264170695263,-10.836428907284395,-69.86492407527548,-190.98709701042608,60.148669518863095,164.52781028655326,-187.8897373006406,-233.0158898987186,129.40798451802172,224.1295594831465,281.5484995782444,-187.36556945792003,240.11679519227874,-61.39249810372817,267.47544277639184,-14.449410711407017,63.96047407956749,-201.61342440611955,-185.79306165423097,-187.127309923623,67.16645146555621,93.2333612520208,-89.57725823902827,167.5369178848319,-194.27506368229962,-190.17701753446184,75.58123844287093,145.95022864818188,60.42713400021256,-233.0158898987186,301.0748247546408,-77.09299716822007,-205.4732110196603,-189.96499196546137,0.32254741674263904,190.05532834327386,224.9341883554684,-233.0158898987186,130.6873487503778,236.03112837925914,251.2666766777493,149.02185393729806,-3501.257426687534,-76.28900402342951,160.45873189214498,116.63868040999832,-58.69344567897545,-14.563471422102785,-198.1825023911683,103.83183365522193,-37.29231522701638,-242.06971139157355,31.479137469815242,-40.47878808906537,27.449983972684098,86.52163457963192,171.28036604926376,12.85684702590686,-10.0487832958315,-348.5112634932377,206.5203509805788,-19.27869941205687,154.77272516068112,-194.27506368229962,-192.36899642500256,77.39864269566412,-200.04091850328095,48.44921727293956,120.12224276235959,-259.79614425231716,126.05791487080482,31.597709314866524,-190.03406266826534,99.53389638017187,-189.12868089831335,-193.94150232784108,253.8644029806298,170.71976935434864,18.937402695579113,-10.5638514079583,101.36181499507525,-195.51400775685357,14.099132957962212,518.1846421724376,-63.95783986889593,29.377941771497735,83.3217973513009,31.25041328292587,-193.94150232784108,-190.03406266826534,0.5367211652570527,25.366632805487043,-144.13872041552779,44.9080830302029,-55.41588415668614,-188.17564703303367,57.34001609634479,69.56113704599922,-187.36556945792003,-196.99121041556106,-194.56097341469274,104.68926434547332,-111.48321249187877,-65.89186754310157,-202.80471638172673,-186.7460959963917,-290.6154635739996,142.5604420008382,29.561850833338994,4.481254931397916,-46.670007655044046,18.588085396676682,76.47304841903392,-188.79511811988525,488.7846056527171,17.08785164718526,-187.65147919031315,-187.36556945792003,122.12233924004303,144.02093673207057,-16.43965491018106,48.83834874066114,-185.60245516596885,267.57678212364385,299.79330909907105,5.573287972427408,-6.636690222519235,387.4786364497007,-194.56097341469274,-190.98709701042608,-272.80505702681336,66.127644629159,57.77435145830815,232.89060799583302,-18.280874053122584,-188.17564703303367,-185.69775841009994,-194.56097341469274,45.33628375693458,-19.20543031393863,121.91738582340828,-166.0838257799043,-65.9724718045972,-126.57890472363904,-242.06971139157355,-56.59257760438285,21.90397169734645,-188.79511811988525,24.04126298675486,-197.7536363686092,-242.06971139157355,73.93770774335616,-188.0326921668371,96.20773383239906,179.8846440786006,318.8741704472105,-187.8897373006406,-190.98709701042608,-230.4903501306004,-78.69124572938097,75.94435614154959,-32.15851749045501,41.981267701195165,-99.81573279976205,171.88626544965507,-265.8479083288103,55.14652313600697,138.83855653329613,3.0973007004530464,254.2901201702382,145.46096416817852,67.23409695140145,-80.59559874139417,25.012907600186487,82.14778577386288,238.76848630468362,400.6805039960349,-265.8479083288103,-30.015080156561954,-187.8980778823598,109.05487793501102,-200.04091850328095,-26.03275656872047,-53.562987057638836,-192.6072545353301,110.36827285501543,-141.7679087976197,104.66841053017032,58.22294253041145,-92.49554237139401,90.63300809345273,-190.60588403390202,148.154734576771,150.6198426059331,-8.41164688002937,104.1863206123226,-204.75843573797044,93.01401906458337,592.4425244419791,-18.383104188165454,120.60105256914909,-1006.5895943138157,-36.732102831628836,-481.5833584112932,155.98581707164615,279.9241002612793,23.20926197118499,22.32447625740145,20.648597014044128,45.579423139752,-249.93224233279068,40.21879394714471,508.5630945316577,-192.84551264565766,-193.94150232784108,90.29834061065489,-30.176957011642934,18.671895929495918,-41.80403795964801,-216.24249470551982,258.1593427758199,124.5760036885052,-128.0507511249846,-203.42418841928557,-201.61342440611955,144.4356600214447,71.32410399387102,-202.18524387090565,107.62690065652384,58.54830784283555,214.04556373211767,-70.5869943746429,-14.808937988637464,-86.68883073593092,21.729051166055086,-41.235891384386285,-192.84551264565766,75.41760298715033,-249.93224233279068,117.23999263812081,76.48121816087784,167.7964460157977,-2.622437754839426,-192.84551264565766,85.0613547489362,-285.9263842515344,-18.399046318201563,-186.88905086258816,211.75493324587268,123.81036332079034,53.84001704123249,-170.04299621563374,27.91509025400827,-272.80505702681336,349.4089088600334,-188.0326921668371,-135.62858676488523,106.19073154941148,131.90209255212295,200.63551883802614,17.852572202382767,-405.7217564038148,-81.39906676408464,-18.600717939537176,104.01983169170938,-47.05965096234099,-60.55437297596334,49.831653940359075,-51.079858365113694,-191.89247878037796,33.29592828735848,76.3680670670508,95.45411949280424,-222.34191088095966,-189.65284969174124,140.87141541945613,-204.30671156665164,-192.84551264565766,-195.51400775685357,61.134090460011784,28.933416669559733,132.55446509964477,-378.34373313257726,206.04770192241972,142.4128413900116,-11.125829697462425,-254.55445632334914,-191.6542206700504,-27.92358467783093,109.64985697414194,-18.309780406483878,-194.56097341469274,132.21672673291934,253.43157281001965,9.999085697223308,9.191594348576688,-10.614286602183341,88.26235576928153,121.7266020277013,46.99210132142331,-202.18524387090565,80.2508278562501,-18.64248645144418,-186.7460959963917,-19.658688600235998,123.33119393094304,42.909273763099215,-194.27506368229962,26.868866941281787,-188.98572603211682,30.97032310365829,78.75798364529544,108.832553053671,394.8878749761112,125.18208294365441,-138.05960441526344,-259.79614425231716,82.86321140929033,-259.79614425231716,-186.41253464193306,87.82467366388045,-49.845324048055204,54.25048926141223,-188.36625352129573,-27.562737576063554,-98.17960169523411,71.18524951366098,177.51851116416657,-193.94150232784108,31.340440036654858,251.0781508175261,-272.80505702681336,27.912044937276193,8.554722472912466,54.75247920051191,62.32962639561058,-500.7689716237006,11.44027368925346,-166.73060230440572,389.8541574954526,-193.94150232784108,-109.64024543967854,-19.44245133551296,-185.69775841009994,88.40914059590285,-194.89453476915125,-193.4173321104438,518.6118524567664,-192.84551264565766,-245.78654456288734,150.25075356451163,-194.89453476915125,322.29472419876487,21.249188681191825,458.8206170063086,-12.209486465077255,-254.55445632334914,-245.78654456288734,-185.8883667992125,151.28275531392134,-138.086750121404,-245.78654456288734,-137.14799161125114,43.42710872952251,-249.93224233279068,-192.13073831467503,-2202.925576789039,-187.8897373006406,109.47752751989776,-224.15267489412574,97.43158677996732,-230.4903501306004,66.82157151507798,-171.83624128368447,-39.368324379423576,3763.3476624520995,66.70633539566218,37.22179994244685,255.90807169097235,47.56109884412312,-194.89453476915125,53.486886517131545,59.5426388783171,-203.39244902393864,-198.6113679404651,93.68219598592728,-73.89595289689579,149.19424591133523,46.07585155318666,-20.488437890271506,-447.34026511777364,241.75798897963264,-88.32107928465145,-194.27506368229962,-45.41180999603429,-101.11049100743038,30.53475088591158,-194.56097341469274,-6.284574676743805,98.98004525279453,-186.41253464193306,738.4405984792394,-211.57262814218856,177.749068904129,-210.5242910327779,147.70065029482348,-198.6113679404651,-194.56097341469274,-19.143311490874073,-83.71602151685067,-272.80505702681336,49.192943831052304,-219.1015963049778,-166.33154490255714,9.279736359532327,74.90907432200014,-212.62096525521818,30.333149364484584,-204.75843573797044,-146.25936607152292,-249.93224233279068,-265.8479083288103,9.298997589411512,-49.29818635997462,-212.62096525521818,-208.66587539754636,67.15524301210851,-189.12868089831335,-193.94150232784108,-265.8479083288103,-44.599750790907784,-202.80471638172673,-187.22261316775402,24.240854033854948,-185.69775841009994,-185.79306165423097,-280.90584465438855,-10.679135094540717,-37.22794450950933,-290.5314870359991,-188.98572603211682,36.834617141029156,1.1505687057072973,73.85692569643206,587.802956872434,-510.79478137189227,-47.573250831553906,-189.12868089831335,39.201318029619934,179.38610751417522,-194.89453476915125,24.509594460794116,-185.8883667992125,9.669367242099792,-12.688774827413797,-25.504002718531503,0.6876171724170336,99.56873514960921,-187.36556945792003,133.49339423584064,-10.151401048304386,-280.90584465438855,77.21453109462504,-192.84551264565766,-212.62096525521818,830.6231592656534,130.5007951818849,-280.90584465438855,-192.84551264565766,-186.17427653160553,69.39187166199898,-254.55445632334914,-214.95589853507437,-2565.0692883587653,12.09077216056432,95.9640062491395,215.74221699567528,-189.31928833728267,-98.43070818681801,109.6566729454039,-202.18524387090565,-238.78174567040716,254.53727481828702,-188.0326921668371,-12.719464322058533,-249.1640700103013,39.95611017646236,28.23479532354746,98.99009805427328,-192.00727405119,31.839318459416926,73.07762913510021,22.221393003934978,-115.70852041159802,-206.18798677461248,-189.12868089831335,-203.42418841928557,-245.78654456288734,28.91458668695262,-246.7787533058665,-194.89453476915125,138.64659119700306,142.97349607307834,55.89156150358148,62.24657400359731,-193.13142237805067,-186.50783788606412,-193.94150232784108,48.568305404206434,-265.8479083288103,-242.06971139157355,13.763988215597063,-119.49191844202802,-194.56097341469274,38.400040903720246,62.81976309030548,-193.94150232784108,-187.65147919031315,-72.59682781250454,50.52186345256697,121.27323396532957,-63.94060510555839,76.11975457887061,43.99103892307942,-188.65216325368874,16.129070533354938,-37.168841530006645,-194.56097341469274,-195.180446402395,-20.299611076604986,109.35525123504615,-193.94150232784108,74.23219444226292,69.83060059038297,-201.61342440611955,68.55818069731399,-185.8883667992125,-213.7646056087599,-259.79614425231716,-280.90584465438855,47.82032715457528,8.597919144715485,-61.961628692351546,-245.78654456288734,-189.12868089831335,-190.03406266826534,91.76078570091695,-213.7646056087599,57.65709479136956,651.8625952575891,-226.10639425036945,-188.36625352129573,-187.127309923623,-21.362345159545665,-194.56097341469274,-196.609997439037,-238.78174567040716,193.1681826783385,133.02827454996927,-58.501833640931295,-153.46796779558144,-188.98572603211682,10.821999451575415,51.37605590886402,-260.92125760870687,92.37309620411058,4.517211902100357,-107.62559406157837,-249.93224233279068,-186.98435505742643,-194.56097341469274,94.80309691721817,132.393412363214,55.41101428049184,163.10267112291422,-188.65216325368874,151.95898477013395,-193.94150232784108,-53.954552542339286,186.30704345141174,218.23144639113244,88.27657437733075,-83.82826136628287,350.56595493905223,-179.31044909994785,27.43943722678267,61.5666612888688,142.0634029389423,-58.31639241445535,130.76866639085708,-249.93224233279068,-199.5644022826259,82.9653612801256,-186.65079275226066,51.139030286721706,-209.57125716749823,40.042102838793426,242.49861258118918,-187.01796439448242,-194.56097341469274,-103.74249115903062,13.327672559138428,618.3759995041041,162.63126151292755,-41.262784899709786,-259.79614425231716,-193.65559164474078,51.98630999546464,147.1751298877784,-200.56508634600155,322.21700664540543,-238.78174567040716,-191.89247878037796,-192.84551264565766,-188.0326921668371,101.61175007736341,191.34139317073846,250.30691041416065,106.3121226161704,39.05047225467006,121.53122417836047,-193.65559164474078,-219.1015963049778,-188.98572603211682,-25.06627203701849,-12221.191310866569,-189.12868089831335,-254.55445632334914,-254.55445632334914,160.8189690105046,-192.13073831467503,58.08631886153108,-420.87091834737316,100.74128294145376,-188.17564703303367,37.41492695524636,-194.89453476915125,-199.5644022826259,-186.17427653160553,-124.0373505296366,-259.79614425231716,-350.4214229827316,-195.180446402395,-205.4732110196603,8.69481540607552,-102.55775221674035,108.11865629479384,-191.22535512075362,3.092755558230956,-238.78174567040716,36.62999644011972,-189.31928833728267,-202.80471638172673,-24.357466285840783,-187.36556945792003,-190.17701753446184,-206.18798677461248,94.29838415108131,-73.7425155339076,22.32707112255833,-188.98572603211682,-199.08788416112017,370.13350525385516,-190.98709701042608,215.63057897213412,307.58808616088106,195.2869596776548,-99.92017012070829,124.05990164695157,37.587204252015134,7.942124381175651,-187.127309923623,-12.681664583294452,4.105369026377402,43.34247720017686,-187.127309923623,-186.88905086258816,-2.865289785381372,1.9509465148032015,222.5042374459553,-188.50920838749224,10.40367610919158,-198.6113679404651,113.06697101430815,30.096423151711832,-185.69775841009994,-188.36625352129573,-254.55445632334914,-210.5242910327779,-187.50852432411656,63.615994241950816,-67.34432222368817,-238.78174567040716,41.78619375030606,8.769540688875837,-357.3780730180318,219.61836343067515,67.0031831890836,-186.50783788606412,-195.51400775685357,24.92470630828909,126.44585626157962,95.1763802144545,-115.13706189658606,104.61346598152043,-191.4159616090156,148.89123626119755,-272.80505702681336,-202.18524387090565,-185.8883667992125,-187.36556945792003,242.64438032742615,264.3266820608833,-14.47237052918535,110.98745824086028,-235.7320375826872,90.30937603218497,323.9353672883739,-194.27506368229962,155.02121024897355,-188.50920838749224,-247.72198954322172,-186.41253464193306,-224.15267489412574,-185.8883667992125,401.90200687981934,-1.4052780797567777,252.22421662740484,65.75975409662813,-188.98572603211682,-190.41527612167044,-188.65216325368874,-259.79614425231716,58.82674311447575,-70.02151575772041,121.54116426194614,-203.42418841928557,302.12679756566,119.29089695707472,-259.79614425231716,39.84586737295904,87.58823645989223,-89.25531035235024,98.87011455725323,-24.35546319887058,-228.20306941989807,-165.63594500949557,-201.08925656339895,-143.35742865020737,-220.02268708436102,59.816881921791115,92.08330316932337,-197.7863585097752,88.78888194797811,25.19169774311535,-38.10043593782009,-197.3724233920851,-188.98572603211682,252.25592970398736,-66.73413402677654,-108.46861921698579,-189.8434561800033,64.32609316808032,-245.78654456288734,-132.1532526877543,207.28217483206302,-193.13142237805067,145.096495463943,-27.412233461431637,120.97644931736778,148.22170565537522,122.64983855672243,-272.80505702681336,-198.1825023911683,2258.661433081801,-9.321538073164671,-187.127309923623,-188.36625352129573,61.755440956637436,-194.27506368229962,51.25458684481647,134.37445677962435,244.40508698164115,48.99933247057418,12.03523455173524,58.07062662085386,153.14635273356012,-190.41527612167044,113.98339792164539,-192.36899642500256,-186.65079275226066,24.65319719928678,-195.180446402395,21.67024367982256,255.0688456228354,108.43157976424554,-44.82491839363121,-259.79614425231716,198.21074125158776,64.91830182188686,76.77429329520899,89.86400479012312,-189.8434561800033,96.79947399540522,56.53608619951201,12.191179920651722,-145.981338091823,-192.36899642500256,-186.88905086258816,408.22814250933953,248.0359664873196],\"yaxis\":\"y\",\"type\":\"scattergl\"}],                        {\"template\":{\"data\":{\"bar\":[{\"error_x\":{\"color\":\"#2a3f5f\"},\"error_y\":{\"color\":\"#2a3f5f\"},\"marker\":{\"line\":{\"color\":\"#E5ECF6\",\"width\":0.5},\"pattern\":{\"fillmode\":\"overlay\",\"size\":10,\"solidity\":0.2}},\"type\":\"bar\"}],\"barpolar\":[{\"marker\":{\"line\":{\"color\":\"#E5ECF6\",\"width\":0.5},\"pattern\":{\"fillmode\":\"overlay\",\"size\":10,\"solidity\":0.2}},\"type\":\"barpolar\"}],\"carpet\":[{\"aaxis\":{\"endlinecolor\":\"#2a3f5f\",\"gridcolor\":\"white\",\"linecolor\":\"white\",\"minorgridcolor\":\"white\",\"startlinecolor\":\"#2a3f5f\"},\"baxis\":{\"endlinecolor\":\"#2a3f5f\",\"gridcolor\":\"white\",\"linecolor\":\"white\",\"minorgridcolor\":\"white\",\"startlinecolor\":\"#2a3f5f\"},\"type\":\"carpet\"}],\"choropleth\":[{\"colorbar\":{\"outlinewidth\":0,\"ticks\":\"\"},\"type\":\"choropleth\"}],\"contour\":[{\"colorbar\":{\"outlinewidth\":0,\"ticks\":\"\"},\"colorscale\":[[0.0,\"#0d0887\"],[0.1111111111111111,\"#46039f\"],[0.2222222222222222,\"#7201a8\"],[0.3333333333333333,\"#9c179e\"],[0.4444444444444444,\"#bd3786\"],[0.5555555555555556,\"#d8576b\"],[0.6666666666666666,\"#ed7953\"],[0.7777777777777778,\"#fb9f3a\"],[0.8888888888888888,\"#fdca26\"],[1.0,\"#f0f921\"]],\"type\":\"contour\"}],\"contourcarpet\":[{\"colorbar\":{\"outlinewidth\":0,\"ticks\":\"\"},\"type\":\"contourcarpet\"}],\"heatmap\":[{\"colorbar\":{\"outlinewidth\":0,\"ticks\":\"\"},\"colorscale\":[[0.0,\"#0d0887\"],[0.1111111111111111,\"#46039f\"],[0.2222222222222222,\"#7201a8\"],[0.3333333333333333,\"#9c179e\"],[0.4444444444444444,\"#bd3786\"],[0.5555555555555556,\"#d8576b\"],[0.6666666666666666,\"#ed7953\"],[0.7777777777777778,\"#fb9f3a\"],[0.8888888888888888,\"#fdca26\"],[1.0,\"#f0f921\"]],\"type\":\"heatmap\"}],\"heatmapgl\":[{\"colorbar\":{\"outlinewidth\":0,\"ticks\":\"\"},\"colorscale\":[[0.0,\"#0d0887\"],[0.1111111111111111,\"#46039f\"],[0.2222222222222222,\"#7201a8\"],[0.3333333333333333,\"#9c179e\"],[0.4444444444444444,\"#bd3786\"],[0.5555555555555556,\"#d8576b\"],[0.6666666666666666,\"#ed7953\"],[0.7777777777777778,\"#fb9f3a\"],[0.8888888888888888,\"#fdca26\"],[1.0,\"#f0f921\"]],\"type\":\"heatmapgl\"}],\"histogram\":[{\"marker\":{\"pattern\":{\"fillmode\":\"overlay\",\"size\":10,\"solidity\":0.2}},\"type\":\"histogram\"}],\"histogram2d\":[{\"colorbar\":{\"outlinewidth\":0,\"ticks\":\"\"},\"colorscale\":[[0.0,\"#0d0887\"],[0.1111111111111111,\"#46039f\"],[0.2222222222222222,\"#7201a8\"],[0.3333333333333333,\"#9c179e\"],[0.4444444444444444,\"#bd3786\"],[0.5555555555555556,\"#d8576b\"],[0.6666666666666666,\"#ed7953\"],[0.7777777777777778,\"#fb9f3a\"],[0.8888888888888888,\"#fdca26\"],[1.0,\"#f0f921\"]],\"type\":\"histogram2d\"}],\"histogram2dcontour\":[{\"colorbar\":{\"outlinewidth\":0,\"ticks\":\"\"},\"colorscale\":[[0.0,\"#0d0887\"],[0.1111111111111111,\"#46039f\"],[0.2222222222222222,\"#7201a8\"],[0.3333333333333333,\"#9c179e\"],[0.4444444444444444,\"#bd3786\"],[0.5555555555555556,\"#d8576b\"],[0.6666666666666666,\"#ed7953\"],[0.7777777777777778,\"#fb9f3a\"],[0.8888888888888888,\"#fdca26\"],[1.0,\"#f0f921\"]],\"type\":\"histogram2dcontour\"}],\"mesh3d\":[{\"colorbar\":{\"outlinewidth\":0,\"ticks\":\"\"},\"type\":\"mesh3d\"}],\"parcoords\":[{\"line\":{\"colorbar\":{\"outlinewidth\":0,\"ticks\":\"\"}},\"type\":\"parcoords\"}],\"pie\":[{\"automargin\":true,\"type\":\"pie\"}],\"scatter\":[{\"marker\":{\"colorbar\":{\"outlinewidth\":0,\"ticks\":\"\"}},\"type\":\"scatter\"}],\"scatter3d\":[{\"line\":{\"colorbar\":{\"outlinewidth\":0,\"ticks\":\"\"}},\"marker\":{\"colorbar\":{\"outlinewidth\":0,\"ticks\":\"\"}},\"type\":\"scatter3d\"}],\"scattercarpet\":[{\"marker\":{\"colorbar\":{\"outlinewidth\":0,\"ticks\":\"\"}},\"type\":\"scattercarpet\"}],\"scattergeo\":[{\"marker\":{\"colorbar\":{\"outlinewidth\":0,\"ticks\":\"\"}},\"type\":\"scattergeo\"}],\"scattergl\":[{\"marker\":{\"colorbar\":{\"outlinewidth\":0,\"ticks\":\"\"}},\"type\":\"scattergl\"}],\"scattermapbox\":[{\"marker\":{\"colorbar\":{\"outlinewidth\":0,\"ticks\":\"\"}},\"type\":\"scattermapbox\"}],\"scatterpolar\":[{\"marker\":{\"colorbar\":{\"outlinewidth\":0,\"ticks\":\"\"}},\"type\":\"scatterpolar\"}],\"scatterpolargl\":[{\"marker\":{\"colorbar\":{\"outlinewidth\":0,\"ticks\":\"\"}},\"type\":\"scatterpolargl\"}],\"scatterternary\":[{\"marker\":{\"colorbar\":{\"outlinewidth\":0,\"ticks\":\"\"}},\"type\":\"scatterternary\"}],\"surface\":[{\"colorbar\":{\"outlinewidth\":0,\"ticks\":\"\"},\"colorscale\":[[0.0,\"#0d0887\"],[0.1111111111111111,\"#46039f\"],[0.2222222222222222,\"#7201a8\"],[0.3333333333333333,\"#9c179e\"],[0.4444444444444444,\"#bd3786\"],[0.5555555555555556,\"#d8576b\"],[0.6666666666666666,\"#ed7953\"],[0.7777777777777778,\"#fb9f3a\"],[0.8888888888888888,\"#fdca26\"],[1.0,\"#f0f921\"]],\"type\":\"surface\"}],\"table\":[{\"cells\":{\"fill\":{\"color\":\"#EBF0F8\"},\"line\":{\"color\":\"white\"}},\"header\":{\"fill\":{\"color\":\"#C8D4E3\"},\"line\":{\"color\":\"white\"}},\"type\":\"table\"}]},\"layout\":{\"annotationdefaults\":{\"arrowcolor\":\"#2a3f5f\",\"arrowhead\":0,\"arrowwidth\":1},\"autotypenumbers\":\"strict\",\"coloraxis\":{\"colorbar\":{\"outlinewidth\":0,\"ticks\":\"\"}},\"colorscale\":{\"diverging\":[[0,\"#8e0152\"],[0.1,\"#c51b7d\"],[0.2,\"#de77ae\"],[0.3,\"#f1b6da\"],[0.4,\"#fde0ef\"],[0.5,\"#f7f7f7\"],[0.6,\"#e6f5d0\"],[0.7,\"#b8e186\"],[0.8,\"#7fbc41\"],[0.9,\"#4d9221\"],[1,\"#276419\"]],\"sequential\":[[0.0,\"#0d0887\"],[0.1111111111111111,\"#46039f\"],[0.2222222222222222,\"#7201a8\"],[0.3333333333333333,\"#9c179e\"],[0.4444444444444444,\"#bd3786\"],[0.5555555555555556,\"#d8576b\"],[0.6666666666666666,\"#ed7953\"],[0.7777777777777778,\"#fb9f3a\"],[0.8888888888888888,\"#fdca26\"],[1.0,\"#f0f921\"]],\"sequentialminus\":[[0.0,\"#0d0887\"],[0.1111111111111111,\"#46039f\"],[0.2222222222222222,\"#7201a8\"],[0.3333333333333333,\"#9c179e\"],[0.4444444444444444,\"#bd3786\"],[0.5555555555555556,\"#d8576b\"],[0.6666666666666666,\"#ed7953\"],[0.7777777777777778,\"#fb9f3a\"],[0.8888888888888888,\"#fdca26\"],[1.0,\"#f0f921\"]]},\"colorway\":[\"#636efa\",\"#EF553B\",\"#00cc96\",\"#ab63fa\",\"#FFA15A\",\"#19d3f3\",\"#FF6692\",\"#B6E880\",\"#FF97FF\",\"#FECB52\"],\"font\":{\"color\":\"#2a3f5f\"},\"geo\":{\"bgcolor\":\"white\",\"lakecolor\":\"white\",\"landcolor\":\"#E5ECF6\",\"showlakes\":true,\"showland\":true,\"subunitcolor\":\"white\"},\"hoverlabel\":{\"align\":\"left\"},\"hovermode\":\"closest\",\"mapbox\":{\"style\":\"light\"},\"paper_bgcolor\":\"white\",\"plot_bgcolor\":\"#E5ECF6\",\"polar\":{\"angularaxis\":{\"gridcolor\":\"white\",\"linecolor\":\"white\",\"ticks\":\"\"},\"bgcolor\":\"#E5ECF6\",\"radialaxis\":{\"gridcolor\":\"white\",\"linecolor\":\"white\",\"ticks\":\"\"}},\"scene\":{\"xaxis\":{\"backgroundcolor\":\"#E5ECF6\",\"gridcolor\":\"white\",\"gridwidth\":2,\"linecolor\":\"white\",\"showbackground\":true,\"ticks\":\"\",\"zerolinecolor\":\"white\"},\"yaxis\":{\"backgroundcolor\":\"#E5ECF6\",\"gridcolor\":\"white\",\"gridwidth\":2,\"linecolor\":\"white\",\"showbackground\":true,\"ticks\":\"\",\"zerolinecolor\":\"white\"},\"zaxis\":{\"backgroundcolor\":\"#E5ECF6\",\"gridcolor\":\"white\",\"gridwidth\":2,\"linecolor\":\"white\",\"showbackground\":true,\"ticks\":\"\",\"zerolinecolor\":\"white\"}},\"shapedefaults\":{\"line\":{\"color\":\"#2a3f5f\"}},\"ternary\":{\"aaxis\":{\"gridcolor\":\"white\",\"linecolor\":\"white\",\"ticks\":\"\"},\"baxis\":{\"gridcolor\":\"white\",\"linecolor\":\"white\",\"ticks\":\"\"},\"bgcolor\":\"#E5ECF6\",\"caxis\":{\"gridcolor\":\"white\",\"linecolor\":\"white\",\"ticks\":\"\"}},\"title\":{\"x\":0.05},\"xaxis\":{\"automargin\":true,\"gridcolor\":\"white\",\"linecolor\":\"white\",\"ticks\":\"\",\"title\":{\"standoff\":15},\"zerolinecolor\":\"white\",\"zerolinewidth\":2},\"yaxis\":{\"automargin\":true,\"gridcolor\":\"white\",\"linecolor\":\"white\",\"ticks\":\"\",\"title\":{\"standoff\":15},\"zerolinecolor\":\"white\",\"zerolinewidth\":2}}},\"xaxis\":{\"anchor\":\"y\",\"domain\":[0.0,1.0],\"title\":{\"text\":\"PC1\"}},\"yaxis\":{\"anchor\":\"x\",\"domain\":[0.0,1.0],\"title\":{\"text\":\"PC2\"}},\"coloraxis\":{\"colorbar\":{\"title\":{\"text\":\"label\"}},\"colorscale\":[[0.0,\"#0d0887\"],[0.1111111111111111,\"#46039f\"],[0.2222222222222222,\"#7201a8\"],[0.3333333333333333,\"#9c179e\"],[0.4444444444444444,\"#bd3786\"],[0.5555555555555556,\"#d8576b\"],[0.6666666666666666,\"#ed7953\"],[0.7777777777777778,\"#fb9f3a\"],[0.8888888888888888,\"#fdca26\"],[1.0,\"#f0f921\"]]},\"legend\":{\"tracegroupgap\":0},\"margin\":{\"t\":60}},                        {\"responsive\": true}                    ).then(function(){\n",
              "                            \n",
              "var gd = document.getElementById('1df1c5f1-9024-43ee-80a8-9917131a8a4a');\n",
              "var x = new MutationObserver(function (mutations, observer) {{\n",
              "        var display = window.getComputedStyle(gd).display;\n",
              "        if (!display || display === 'none') {{\n",
              "            console.log([gd, 'removed!']);\n",
              "            Plotly.purge(gd);\n",
              "            observer.disconnect();\n",
              "        }}\n",
              "}});\n",
              "\n",
              "// Listen for the removal of the full notebook cells\n",
              "var notebookContainer = gd.closest('#notebook-container');\n",
              "if (notebookContainer) {{\n",
              "    x.observe(notebookContainer, {childList: true});\n",
              "}}\n",
              "\n",
              "// Listen for the clearing of the current output cell\n",
              "var outputEl = gd.closest('.output');\n",
              "if (outputEl) {{\n",
              "    x.observe(outputEl, {childList: true});\n",
              "}}\n",
              "\n",
              "                        })                };                            </script>        </div>\n",
              "</body>\n",
              "</html>"
            ]
          },
          "metadata": {}
        }
      ],
      "source": [
        "px.scatter(dfc, x=\"PC1\", y=\"PC2\", color=\"label\")"
      ]
    },
    {
      "cell_type": "markdown",
      "id": "56eeb9c6",
      "metadata": {
        "papermill": {
          "duration": 0.226763,
          "end_time": "2021-11-09T00:09:11.486345",
          "exception": false,
          "start_time": "2021-11-09T00:09:11.259582",
          "status": "completed"
        },
        "tags": [],
        "id": "56eeb9c6"
      },
      "source": [
        "We saw that the K-Means model did a good job clustering our users, but my intuition together with the result of the graph and the number of users per cluster tell me that the order of the clusters does not really represent the importance of the client with respect to the cost effectiveness. Let's corroborate this mini theory by looking at the maximums and minimums of each cluster."
      ]
    },
    {
      "cell_type": "code",
      "execution_count": 58,
      "id": "818168c0",
      "metadata": {
        "execution": {
          "iopub.execute_input": "2021-11-09T00:09:11.938382Z",
          "iopub.status.busy": "2021-11-09T00:09:11.937645Z",
          "iopub.status.idle": "2021-11-09T00:09:11.960689Z",
          "shell.execute_reply": "2021-11-09T00:09:11.961216Z",
          "shell.execute_reply.started": "2021-11-08T18:09:19.240141Z"
        },
        "papermill": {
          "duration": 0.256892,
          "end_time": "2021-11-09T00:09:11.961421",
          "exception": false,
          "start_time": "2021-11-09T00:09:11.704529",
          "status": "completed"
        },
        "tags": [],
        "colab": {
          "base_uri": "https://localhost:8080/",
          "height": 175
        },
        "id": "818168c0",
        "outputId": "16a386b1-d553-44c8-cef1-a739d98112b7"
      },
      "outputs": [
        {
          "output_type": "execute_result",
          "data": {
            "text/plain": [
              "              max       min\n",
              "cluster                    \n",
              "0        160325.0    1818.0\n",
              "1         42835.0       0.0\n",
              "2        477408.0  237764.0"
            ],
            "text/html": [
              "\n",
              "  <div id=\"df-91feec20-1700-4655-8605-3364c868d9b5\">\n",
              "    <div class=\"colab-df-container\">\n",
              "      <div>\n",
              "<style scoped>\n",
              "    .dataframe tbody tr th:only-of-type {\n",
              "        vertical-align: middle;\n",
              "    }\n",
              "\n",
              "    .dataframe tbody tr th {\n",
              "        vertical-align: top;\n",
              "    }\n",
              "\n",
              "    .dataframe thead th {\n",
              "        text-align: right;\n",
              "    }\n",
              "</style>\n",
              "<table border=\"1\" class=\"dataframe\">\n",
              "  <thead>\n",
              "    <tr style=\"text-align: right;\">\n",
              "      <th></th>\n",
              "      <th>max</th>\n",
              "      <th>min</th>\n",
              "    </tr>\n",
              "    <tr>\n",
              "      <th>cluster</th>\n",
              "      <th></th>\n",
              "      <th></th>\n",
              "    </tr>\n",
              "  </thead>\n",
              "  <tbody>\n",
              "    <tr>\n",
              "      <th>0</th>\n",
              "      <td>160325.0</td>\n",
              "      <td>1818.0</td>\n",
              "    </tr>\n",
              "    <tr>\n",
              "      <th>1</th>\n",
              "      <td>42835.0</td>\n",
              "      <td>0.0</td>\n",
              "    </tr>\n",
              "    <tr>\n",
              "      <th>2</th>\n",
              "      <td>477408.0</td>\n",
              "      <td>237764.0</td>\n",
              "    </tr>\n",
              "  </tbody>\n",
              "</table>\n",
              "</div>\n",
              "      <button class=\"colab-df-convert\" onclick=\"convertToInteractive('df-91feec20-1700-4655-8605-3364c868d9b5')\"\n",
              "              title=\"Convert this dataframe to an interactive table.\"\n",
              "              style=\"display:none;\">\n",
              "        \n",
              "  <svg xmlns=\"http://www.w3.org/2000/svg\" height=\"24px\"viewBox=\"0 0 24 24\"\n",
              "       width=\"24px\">\n",
              "    <path d=\"M0 0h24v24H0V0z\" fill=\"none\"/>\n",
              "    <path d=\"M18.56 5.44l.94 2.06.94-2.06 2.06-.94-2.06-.94-.94-2.06-.94 2.06-2.06.94zm-11 1L8.5 8.5l.94-2.06 2.06-.94-2.06-.94L8.5 2.5l-.94 2.06-2.06.94zm10 10l.94 2.06.94-2.06 2.06-.94-2.06-.94-.94-2.06-.94 2.06-2.06.94z\"/><path d=\"M17.41 7.96l-1.37-1.37c-.4-.4-.92-.59-1.43-.59-.52 0-1.04.2-1.43.59L10.3 9.45l-7.72 7.72c-.78.78-.78 2.05 0 2.83L4 21.41c.39.39.9.59 1.41.59.51 0 1.02-.2 1.41-.59l7.78-7.78 2.81-2.81c.8-.78.8-2.07 0-2.86zM5.41 20L4 18.59l7.72-7.72 1.47 1.35L5.41 20z\"/>\n",
              "  </svg>\n",
              "      </button>\n",
              "      \n",
              "  <style>\n",
              "    .colab-df-container {\n",
              "      display:flex;\n",
              "      flex-wrap:wrap;\n",
              "      gap: 12px;\n",
              "    }\n",
              "\n",
              "    .colab-df-convert {\n",
              "      background-color: #E8F0FE;\n",
              "      border: none;\n",
              "      border-radius: 50%;\n",
              "      cursor: pointer;\n",
              "      display: none;\n",
              "      fill: #1967D2;\n",
              "      height: 32px;\n",
              "      padding: 0 0 0 0;\n",
              "      width: 32px;\n",
              "    }\n",
              "\n",
              "    .colab-df-convert:hover {\n",
              "      background-color: #E2EBFA;\n",
              "      box-shadow: 0px 1px 2px rgba(60, 64, 67, 0.3), 0px 1px 3px 1px rgba(60, 64, 67, 0.15);\n",
              "      fill: #174EA6;\n",
              "    }\n",
              "\n",
              "    [theme=dark] .colab-df-convert {\n",
              "      background-color: #3B4455;\n",
              "      fill: #D2E3FC;\n",
              "    }\n",
              "\n",
              "    [theme=dark] .colab-df-convert:hover {\n",
              "      background-color: #434B5C;\n",
              "      box-shadow: 0px 1px 3px 1px rgba(0, 0, 0, 0.15);\n",
              "      filter: drop-shadow(0px 1px 2px rgba(0, 0, 0, 0.3));\n",
              "      fill: #FFFFFF;\n",
              "    }\n",
              "  </style>\n",
              "\n",
              "      <script>\n",
              "        const buttonEl =\n",
              "          document.querySelector('#df-91feec20-1700-4655-8605-3364c868d9b5 button.colab-df-convert');\n",
              "        buttonEl.style.display =\n",
              "          google.colab.kernel.accessAllowed ? 'block' : 'none';\n",
              "\n",
              "        async function convertToInteractive(key) {\n",
              "          const element = document.querySelector('#df-91feec20-1700-4655-8605-3364c868d9b5');\n",
              "          const dataTable =\n",
              "            await google.colab.kernel.invokeFunction('convertToInteractive',\n",
              "                                                     [key], {});\n",
              "          if (!dataTable) return;\n",
              "\n",
              "          const docLinkHtml = 'Like what you see? Visit the ' +\n",
              "            '<a target=\"_blank\" href=https://colab.research.google.com/notebooks/data_table.ipynb>data table notebook</a>'\n",
              "            + ' to learn more about interactive tables.';\n",
              "          element.innerHTML = '';\n",
              "          dataTable['output_type'] = 'display_data';\n",
              "          await google.colab.output.renderOutput(dataTable, element);\n",
              "          const docLink = document.createElement('div');\n",
              "          docLink.innerHTML = docLinkHtml;\n",
              "          element.appendChild(docLink);\n",
              "        }\n",
              "      </script>\n",
              "    </div>\n",
              "  </div>\n",
              "  "
            ]
          },
          "metadata": {},
          "execution_count": 58
        }
      ],
      "source": [
        "clusters.groupby('cluster').agg(['max','min'])['CLV']"
      ]
    },
    {
      "cell_type": "markdown",
      "id": "3fe25d0c",
      "metadata": {
        "papermill": {
          "duration": 0.221831,
          "end_time": "2021-11-09T00:09:12.408720",
          "exception": false,
          "start_time": "2021-11-09T00:09:12.186889",
          "status": "completed"
        },
        "tags": [],
        "id": "3fe25d0c"
      },
      "source": [
        "Indeed, group 1 represents the group with the highest profitability, while group 2 represents the group with moderate profitability. Let's finish our final table by assigning the corresponding names to each segment."
      ]
    },
    {
      "cell_type": "code",
      "execution_count": 59,
      "id": "a4857d40",
      "metadata": {
        "execution": {
          "iopub.execute_input": "2021-11-09T00:09:12.856434Z",
          "iopub.status.busy": "2021-11-09T00:09:12.855688Z",
          "iopub.status.idle": "2021-11-09T00:09:12.896129Z",
          "shell.execute_reply": "2021-11-09T00:09:12.896705Z",
          "shell.execute_reply.started": "2021-11-08T18:10:55.879067Z"
        },
        "papermill": {
          "duration": 0.265723,
          "end_time": "2021-11-09T00:09:12.896891",
          "exception": false,
          "start_time": "2021-11-09T00:09:12.631168",
          "status": "completed"
        },
        "tags": [],
        "colab": {
          "base_uri": "https://localhost:8080/",
          "height": 455
        },
        "id": "a4857d40",
        "outputId": "26b9065b-0f99-4280-f3bb-2e04a4452c0b"
      },
      "outputs": [
        {
          "output_type": "execute_result",
          "data": {
            "text/plain": [
              "            expected_4week  expected_8week  expected_12week  avg_transaction  \\\n",
              "CustomerID                                                                     \n",
              "18102                 1.84            3.68             5.51         10714.27   \n",
              "14646                 2.10            4.19             6.28          8569.99   \n",
              "16446                 0.16            0.33             0.49         82288.71   \n",
              "17450                 1.45            2.89             4.32          7614.05   \n",
              "14156                 2.59            5.18             7.76          4112.99   \n",
              "...                    ...             ...              ...              ...   \n",
              "17448                 0.00            0.00             0.00          1255.40   \n",
              "18051                 0.00            0.00             0.00           337.70   \n",
              "14590                 0.00            0.00             0.00           194.56   \n",
              "15633                 0.00            0.00             0.00           350.64   \n",
              "12835                 0.00            0.00             0.00           191.61   \n",
              "\n",
              "                 CLV          cluster  \n",
              "CustomerID                             \n",
              "18102       477408.0       Profitable  \n",
              "14646       435362.0       Profitable  \n",
              "16446       316730.0       Profitable  \n",
              "17450       264140.0       Profitable  \n",
              "14156       258227.0       Profitable  \n",
              "...              ...              ...  \n",
              "17448            6.0  Very Profitable  \n",
              "18051            4.0  Very Profitable  \n",
              "14590            2.0  Very Profitable  \n",
              "15633            2.0  Very Profitable  \n",
              "12835            0.0  Very Profitable  \n",
              "\n",
              "[5878 rows x 6 columns]"
            ],
            "text/html": [
              "\n",
              "  <div id=\"df-f524ee76-d79e-478d-a315-c052597b42d2\">\n",
              "    <div class=\"colab-df-container\">\n",
              "      <div>\n",
              "<style scoped>\n",
              "    .dataframe tbody tr th:only-of-type {\n",
              "        vertical-align: middle;\n",
              "    }\n",
              "\n",
              "    .dataframe tbody tr th {\n",
              "        vertical-align: top;\n",
              "    }\n",
              "\n",
              "    .dataframe thead th {\n",
              "        text-align: right;\n",
              "    }\n",
              "</style>\n",
              "<table border=\"1\" class=\"dataframe\">\n",
              "  <thead>\n",
              "    <tr style=\"text-align: right;\">\n",
              "      <th></th>\n",
              "      <th>expected_4week</th>\n",
              "      <th>expected_8week</th>\n",
              "      <th>expected_12week</th>\n",
              "      <th>avg_transaction</th>\n",
              "      <th>CLV</th>\n",
              "      <th>cluster</th>\n",
              "    </tr>\n",
              "    <tr>\n",
              "      <th>CustomerID</th>\n",
              "      <th></th>\n",
              "      <th></th>\n",
              "      <th></th>\n",
              "      <th></th>\n",
              "      <th></th>\n",
              "      <th></th>\n",
              "    </tr>\n",
              "  </thead>\n",
              "  <tbody>\n",
              "    <tr>\n",
              "      <th>18102</th>\n",
              "      <td>1.84</td>\n",
              "      <td>3.68</td>\n",
              "      <td>5.51</td>\n",
              "      <td>10714.27</td>\n",
              "      <td>477408.0</td>\n",
              "      <td>Profitable</td>\n",
              "    </tr>\n",
              "    <tr>\n",
              "      <th>14646</th>\n",
              "      <td>2.10</td>\n",
              "      <td>4.19</td>\n",
              "      <td>6.28</td>\n",
              "      <td>8569.99</td>\n",
              "      <td>435362.0</td>\n",
              "      <td>Profitable</td>\n",
              "    </tr>\n",
              "    <tr>\n",
              "      <th>16446</th>\n",
              "      <td>0.16</td>\n",
              "      <td>0.33</td>\n",
              "      <td>0.49</td>\n",
              "      <td>82288.71</td>\n",
              "      <td>316730.0</td>\n",
              "      <td>Profitable</td>\n",
              "    </tr>\n",
              "    <tr>\n",
              "      <th>17450</th>\n",
              "      <td>1.45</td>\n",
              "      <td>2.89</td>\n",
              "      <td>4.32</td>\n",
              "      <td>7614.05</td>\n",
              "      <td>264140.0</td>\n",
              "      <td>Profitable</td>\n",
              "    </tr>\n",
              "    <tr>\n",
              "      <th>14156</th>\n",
              "      <td>2.59</td>\n",
              "      <td>5.18</td>\n",
              "      <td>7.76</td>\n",
              "      <td>4112.99</td>\n",
              "      <td>258227.0</td>\n",
              "      <td>Profitable</td>\n",
              "    </tr>\n",
              "    <tr>\n",
              "      <th>...</th>\n",
              "      <td>...</td>\n",
              "      <td>...</td>\n",
              "      <td>...</td>\n",
              "      <td>...</td>\n",
              "      <td>...</td>\n",
              "      <td>...</td>\n",
              "    </tr>\n",
              "    <tr>\n",
              "      <th>17448</th>\n",
              "      <td>0.00</td>\n",
              "      <td>0.00</td>\n",
              "      <td>0.00</td>\n",
              "      <td>1255.40</td>\n",
              "      <td>6.0</td>\n",
              "      <td>Very Profitable</td>\n",
              "    </tr>\n",
              "    <tr>\n",
              "      <th>18051</th>\n",
              "      <td>0.00</td>\n",
              "      <td>0.00</td>\n",
              "      <td>0.00</td>\n",
              "      <td>337.70</td>\n",
              "      <td>4.0</td>\n",
              "      <td>Very Profitable</td>\n",
              "    </tr>\n",
              "    <tr>\n",
              "      <th>14590</th>\n",
              "      <td>0.00</td>\n",
              "      <td>0.00</td>\n",
              "      <td>0.00</td>\n",
              "      <td>194.56</td>\n",
              "      <td>2.0</td>\n",
              "      <td>Very Profitable</td>\n",
              "    </tr>\n",
              "    <tr>\n",
              "      <th>15633</th>\n",
              "      <td>0.00</td>\n",
              "      <td>0.00</td>\n",
              "      <td>0.00</td>\n",
              "      <td>350.64</td>\n",
              "      <td>2.0</td>\n",
              "      <td>Very Profitable</td>\n",
              "    </tr>\n",
              "    <tr>\n",
              "      <th>12835</th>\n",
              "      <td>0.00</td>\n",
              "      <td>0.00</td>\n",
              "      <td>0.00</td>\n",
              "      <td>191.61</td>\n",
              "      <td>0.0</td>\n",
              "      <td>Very Profitable</td>\n",
              "    </tr>\n",
              "  </tbody>\n",
              "</table>\n",
              "<p>5878 rows × 6 columns</p>\n",
              "</div>\n",
              "      <button class=\"colab-df-convert\" onclick=\"convertToInteractive('df-f524ee76-d79e-478d-a315-c052597b42d2')\"\n",
              "              title=\"Convert this dataframe to an interactive table.\"\n",
              "              style=\"display:none;\">\n",
              "        \n",
              "  <svg xmlns=\"http://www.w3.org/2000/svg\" height=\"24px\"viewBox=\"0 0 24 24\"\n",
              "       width=\"24px\">\n",
              "    <path d=\"M0 0h24v24H0V0z\" fill=\"none\"/>\n",
              "    <path d=\"M18.56 5.44l.94 2.06.94-2.06 2.06-.94-2.06-.94-.94-2.06-.94 2.06-2.06.94zm-11 1L8.5 8.5l.94-2.06 2.06-.94-2.06-.94L8.5 2.5l-.94 2.06-2.06.94zm10 10l.94 2.06.94-2.06 2.06-.94-2.06-.94-.94-2.06-.94 2.06-2.06.94z\"/><path d=\"M17.41 7.96l-1.37-1.37c-.4-.4-.92-.59-1.43-.59-.52 0-1.04.2-1.43.59L10.3 9.45l-7.72 7.72c-.78.78-.78 2.05 0 2.83L4 21.41c.39.39.9.59 1.41.59.51 0 1.02-.2 1.41-.59l7.78-7.78 2.81-2.81c.8-.78.8-2.07 0-2.86zM5.41 20L4 18.59l7.72-7.72 1.47 1.35L5.41 20z\"/>\n",
              "  </svg>\n",
              "      </button>\n",
              "      \n",
              "  <style>\n",
              "    .colab-df-container {\n",
              "      display:flex;\n",
              "      flex-wrap:wrap;\n",
              "      gap: 12px;\n",
              "    }\n",
              "\n",
              "    .colab-df-convert {\n",
              "      background-color: #E8F0FE;\n",
              "      border: none;\n",
              "      border-radius: 50%;\n",
              "      cursor: pointer;\n",
              "      display: none;\n",
              "      fill: #1967D2;\n",
              "      height: 32px;\n",
              "      padding: 0 0 0 0;\n",
              "      width: 32px;\n",
              "    }\n",
              "\n",
              "    .colab-df-convert:hover {\n",
              "      background-color: #E2EBFA;\n",
              "      box-shadow: 0px 1px 2px rgba(60, 64, 67, 0.3), 0px 1px 3px 1px rgba(60, 64, 67, 0.15);\n",
              "      fill: #174EA6;\n",
              "    }\n",
              "\n",
              "    [theme=dark] .colab-df-convert {\n",
              "      background-color: #3B4455;\n",
              "      fill: #D2E3FC;\n",
              "    }\n",
              "\n",
              "    [theme=dark] .colab-df-convert:hover {\n",
              "      background-color: #434B5C;\n",
              "      box-shadow: 0px 1px 3px 1px rgba(0, 0, 0, 0.15);\n",
              "      filter: drop-shadow(0px 1px 2px rgba(0, 0, 0, 0.3));\n",
              "      fill: #FFFFFF;\n",
              "    }\n",
              "  </style>\n",
              "\n",
              "      <script>\n",
              "        const buttonEl =\n",
              "          document.querySelector('#df-f524ee76-d79e-478d-a315-c052597b42d2 button.colab-df-convert');\n",
              "        buttonEl.style.display =\n",
              "          google.colab.kernel.accessAllowed ? 'block' : 'none';\n",
              "\n",
              "        async function convertToInteractive(key) {\n",
              "          const element = document.querySelector('#df-f524ee76-d79e-478d-a315-c052597b42d2');\n",
              "          const dataTable =\n",
              "            await google.colab.kernel.invokeFunction('convertToInteractive',\n",
              "                                                     [key], {});\n",
              "          if (!dataTable) return;\n",
              "\n",
              "          const docLinkHtml = 'Like what you see? Visit the ' +\n",
              "            '<a target=\"_blank\" href=https://colab.research.google.com/notebooks/data_table.ipynb>data table notebook</a>'\n",
              "            + ' to learn more about interactive tables.';\n",
              "          element.innerHTML = '';\n",
              "          dataTable['output_type'] = 'display_data';\n",
              "          await google.colab.output.renderOutput(dataTable, element);\n",
              "          const docLink = document.createElement('div');\n",
              "          docLink.innerHTML = docLinkHtml;\n",
              "          element.appendChild(docLink);\n",
              "        }\n",
              "      </script>\n",
              "    </div>\n",
              "  </div>\n",
              "  "
            ]
          },
          "metadata": {},
          "execution_count": 59
        }
      ],
      "source": [
        "clusters['cluster'].replace(to_replace=[0,1,2], value = ['Non-Profitable', 'Very Profitable', 'Profitable'], inplace=True)\n",
        "clusters.sort_values(by='CLV', ascending=False)"
      ]
    },
    {
      "cell_type": "markdown",
      "id": "7853e07e",
      "metadata": {
        "papermill": {
          "duration": 0.225772,
          "end_time": "2021-11-09T00:09:13.344024",
          "exception": false,
          "start_time": "2021-11-09T00:09:13.118252",
          "status": "completed"
        },
        "tags": [],
        "id": "7853e07e"
      },
      "source": [
        "We begin our case study with a typical relational database of various E-Commerce, ending with a segmentation of each of its users regarding their probability of future purchase and the profitability of the company. The *Lifetimes* package is a very powerful package, although at the beginning it feels like a black box, the study and understanding of each of its functions together with the validation of its models, makes it an ally for all that company with the intention to know your consumers better and optimize your investment in each area of contact with the customer. I hope you reader have enjoyed this case and it has been \"profitable\" for a better understanding of both the library and the application capacity it brings to the business.\n",
        "\n",
        "## Recomendations\n",
        "\n",
        "- A better performance of each model should be given with the application in more homogeneous databases referring to each company.\n",
        "- The use of more specific variables at the time of clustering can give more precise and enriching results for the area to which the study is intended.\n",
        "- *Lifetimes* has other models based on Bayesian probability, each with its own advantages and particular applications. Studying them and seeing if they fit the case at hand could yield better results.\n"
      ]
    }
  ],
  "metadata": {
    "kernelspec": {
      "display_name": "Python 3",
      "language": "python",
      "name": "python3"
    },
    "language_info": {
      "codemirror_mode": {
        "name": "ipython",
        "version": 3
      },
      "file_extension": ".py",
      "mimetype": "text/x-python",
      "name": "python",
      "nbconvert_exporter": "python",
      "pygments_lexer": "ipython3",
      "version": "3.7.10"
    },
    "papermill": {
      "default_parameters": {},
      "duration": 90.60568,
      "end_time": "2021-11-09T00:09:14.680365",
      "environment_variables": {},
      "exception": null,
      "input_path": "__notebook__.ipynb",
      "output_path": "__notebook__.ipynb",
      "parameters": {},
      "start_time": "2021-11-09T00:07:44.074685",
      "version": "2.3.3"
    },
    "colab": {
      "name": "clustering-consumers-by-lifetime-value.ipynb",
      "provenance": [],
      "include_colab_link": true
    }
  },
  "nbformat": 4,
  "nbformat_minor": 5
}