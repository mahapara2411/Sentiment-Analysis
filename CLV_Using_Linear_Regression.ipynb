{
  "nbformat": 4,
  "nbformat_minor": 0,
  "metadata": {
    "colab": {
      "name": "CLV Using Linear Regression.ipynb",
      "provenance": [],
      "authorship_tag": "ABX9TyNWETabj4+6CXbNJiNlxjNp",
      "include_colab_link": true
    },
    "kernelspec": {
      "name": "python3",
      "display_name": "Python 3"
    },
    "language_info": {
      "name": "python"
    }
  },
  "cells": [
    {
      "cell_type": "markdown",
      "metadata": {
        "id": "view-in-github",
        "colab_type": "text"
      },
      "source": [
        "<a href=\"https://colab.research.google.com/github/mahapara2411/Sentiment-Analysis/blob/master/CLV_Using_Linear_Regression.ipynb\" target=\"_parent\"><img src=\"https://colab.research.google.com/assets/colab-badge.svg\" alt=\"Open In Colab\"/></a>"
      ]
    },
    {
      "cell_type": "code",
      "metadata": {
        "id": "TOfkxKN6mDPb"
      },
      "source": [
        "import pandas as pd\n",
        "import numpy as np\n",
        "import matplotlib.pyplot as plt\n",
        "import seaborn as sns\n",
        "%matplotlib inline"
      ],
      "execution_count": 1,
      "outputs": []
    },
    {
      "cell_type": "code",
      "metadata": {
        "colab": {
          "resources": {
            "http://localhost:8080/nbextensions/google.colab/files.js": {
              "data": "Ly8gQ29weXJpZ2h0IDIwMTcgR29vZ2xlIExMQwovLwovLyBMaWNlbnNlZCB1bmRlciB0aGUgQXBhY2hlIExpY2Vuc2UsIFZlcnNpb24gMi4wICh0aGUgIkxpY2Vuc2UiKTsKLy8geW91IG1heSBub3QgdXNlIHRoaXMgZmlsZSBleGNlcHQgaW4gY29tcGxpYW5jZSB3aXRoIHRoZSBMaWNlbnNlLgovLyBZb3UgbWF5IG9idGFpbiBhIGNvcHkgb2YgdGhlIExpY2Vuc2UgYXQKLy8KLy8gICAgICBodHRwOi8vd3d3LmFwYWNoZS5vcmcvbGljZW5zZXMvTElDRU5TRS0yLjAKLy8KLy8gVW5sZXNzIHJlcXVpcmVkIGJ5IGFwcGxpY2FibGUgbGF3IG9yIGFncmVlZCB0byBpbiB3cml0aW5nLCBzb2Z0d2FyZQovLyBkaXN0cmlidXRlZCB1bmRlciB0aGUgTGljZW5zZSBpcyBkaXN0cmlidXRlZCBvbiBhbiAiQVMgSVMiIEJBU0lTLAovLyBXSVRIT1VUIFdBUlJBTlRJRVMgT1IgQ09ORElUSU9OUyBPRiBBTlkgS0lORCwgZWl0aGVyIGV4cHJlc3Mgb3IgaW1wbGllZC4KLy8gU2VlIHRoZSBMaWNlbnNlIGZvciB0aGUgc3BlY2lmaWMgbGFuZ3VhZ2UgZ292ZXJuaW5nIHBlcm1pc3Npb25zIGFuZAovLyBsaW1pdGF0aW9ucyB1bmRlciB0aGUgTGljZW5zZS4KCi8qKgogKiBAZmlsZW92ZXJ2aWV3IEhlbHBlcnMgZm9yIGdvb2dsZS5jb2xhYiBQeXRob24gbW9kdWxlLgogKi8KKGZ1bmN0aW9uKHNjb3BlKSB7CmZ1bmN0aW9uIHNwYW4odGV4dCwgc3R5bGVBdHRyaWJ1dGVzID0ge30pIHsKICBjb25zdCBlbGVtZW50ID0gZG9jdW1lbnQuY3JlYXRlRWxlbWVudCgnc3BhbicpOwogIGVsZW1lbnQudGV4dENvbnRlbnQgPSB0ZXh0OwogIGZvciAoY29uc3Qga2V5IG9mIE9iamVjdC5rZXlzKHN0eWxlQXR0cmlidXRlcykpIHsKICAgIGVsZW1lbnQuc3R5bGVba2V5XSA9IHN0eWxlQXR0cmlidXRlc1trZXldOwogIH0KICByZXR1cm4gZWxlbWVudDsKfQoKLy8gTWF4IG51bWJlciBvZiBieXRlcyB3aGljaCB3aWxsIGJlIHVwbG9hZGVkIGF0IGEgdGltZS4KY29uc3QgTUFYX1BBWUxPQURfU0laRSA9IDEwMCAqIDEwMjQ7CgpmdW5jdGlvbiBfdXBsb2FkRmlsZXMoaW5wdXRJZCwgb3V0cHV0SWQpIHsKICBjb25zdCBzdGVwcyA9IHVwbG9hZEZpbGVzU3RlcChpbnB1dElkLCBvdXRwdXRJZCk7CiAgY29uc3Qgb3V0cHV0RWxlbWVudCA9IGRvY3VtZW50LmdldEVsZW1lbnRCeUlkKG91dHB1dElkKTsKICAvLyBDYWNoZSBzdGVwcyBvbiB0aGUgb3V0cHV0RWxlbWVudCB0byBtYWtlIGl0IGF2YWlsYWJsZSBmb3IgdGhlIG5leHQgY2FsbAogIC8vIHRvIHVwbG9hZEZpbGVzQ29udGludWUgZnJvbSBQeXRob24uCiAgb3V0cHV0RWxlbWVudC5zdGVwcyA9IHN0ZXBzOwoKICByZXR1cm4gX3VwbG9hZEZpbGVzQ29udGludWUob3V0cHV0SWQpOwp9CgovLyBUaGlzIGlzIHJvdWdobHkgYW4gYXN5bmMgZ2VuZXJhdG9yIChub3Qgc3VwcG9ydGVkIGluIHRoZSBicm93c2VyIHlldCksCi8vIHdoZXJlIHRoZXJlIGFyZSBtdWx0aXBsZSBhc3luY2hyb25vdXMgc3RlcHMgYW5kIHRoZSBQeXRob24gc2lkZSBpcyBnb2luZwovLyB0byBwb2xsIGZvciBjb21wbGV0aW9uIG9mIGVhY2ggc3RlcC4KLy8gVGhpcyB1c2VzIGEgUHJvbWlzZSB0byBibG9jayB0aGUgcHl0aG9uIHNpZGUgb24gY29tcGxldGlvbiBvZiBlYWNoIHN0ZXAsCi8vIHRoZW4gcGFzc2VzIHRoZSByZXN1bHQgb2YgdGhlIHByZXZpb3VzIHN0ZXAgYXMgdGhlIGlucHV0IHRvIHRoZSBuZXh0IHN0ZXAuCmZ1bmN0aW9uIF91cGxvYWRGaWxlc0NvbnRpbnVlKG91dHB1dElkKSB7CiAgY29uc3Qgb3V0cHV0RWxlbWVudCA9IGRvY3VtZW50LmdldEVsZW1lbnRCeUlkKG91dHB1dElkKTsKICBjb25zdCBzdGVwcyA9IG91dHB1dEVsZW1lbnQuc3RlcHM7CgogIGNvbnN0IG5leHQgPSBzdGVwcy5uZXh0KG91dHB1dEVsZW1lbnQubGFzdFByb21pc2VWYWx1ZSk7CiAgcmV0dXJuIFByb21pc2UucmVzb2x2ZShuZXh0LnZhbHVlLnByb21pc2UpLnRoZW4oKHZhbHVlKSA9PiB7CiAgICAvLyBDYWNoZSB0aGUgbGFzdCBwcm9taXNlIHZhbHVlIHRvIG1ha2UgaXQgYXZhaWxhYmxlIHRvIHRoZSBuZXh0CiAgICAvLyBzdGVwIG9mIHRoZSBnZW5lcmF0b3IuCiAgICBvdXRwdXRFbGVtZW50Lmxhc3RQcm9taXNlVmFsdWUgPSB2YWx1ZTsKICAgIHJldHVybiBuZXh0LnZhbHVlLnJlc3BvbnNlOwogIH0pOwp9CgovKioKICogR2VuZXJhdG9yIGZ1bmN0aW9uIHdoaWNoIGlzIGNhbGxlZCBiZXR3ZWVuIGVhY2ggYXN5bmMgc3RlcCBvZiB0aGUgdXBsb2FkCiAqIHByb2Nlc3MuCiAqIEBwYXJhbSB7c3RyaW5nfSBpbnB1dElkIEVsZW1lbnQgSUQgb2YgdGhlIGlucHV0IGZpbGUgcGlja2VyIGVsZW1lbnQuCiAqIEBwYXJhbSB7c3RyaW5nfSBvdXRwdXRJZCBFbGVtZW50IElEIG9mIHRoZSBvdXRwdXQgZGlzcGxheS4KICogQHJldHVybiB7IUl0ZXJhYmxlPCFPYmplY3Q+fSBJdGVyYWJsZSBvZiBuZXh0IHN0ZXBzLgogKi8KZnVuY3Rpb24qIHVwbG9hZEZpbGVzU3RlcChpbnB1dElkLCBvdXRwdXRJZCkgewogIGNvbnN0IGlucHV0RWxlbWVudCA9IGRvY3VtZW50LmdldEVsZW1lbnRCeUlkKGlucHV0SWQpOwogIGlucHV0RWxlbWVudC5kaXNhYmxlZCA9IGZhbHNlOwoKICBjb25zdCBvdXRwdXRFbGVtZW50ID0gZG9jdW1lbnQuZ2V0RWxlbWVudEJ5SWQob3V0cHV0SWQpOwogIG91dHB1dEVsZW1lbnQuaW5uZXJIVE1MID0gJyc7CgogIGNvbnN0IHBpY2tlZFByb21pc2UgPSBuZXcgUHJvbWlzZSgocmVzb2x2ZSkgPT4gewogICAgaW5wdXRFbGVtZW50LmFkZEV2ZW50TGlzdGVuZXIoJ2NoYW5nZScsIChlKSA9PiB7CiAgICAgIHJlc29sdmUoZS50YXJnZXQuZmlsZXMpOwogICAgfSk7CiAgfSk7CgogIGNvbnN0IGNhbmNlbCA9IGRvY3VtZW50LmNyZWF0ZUVsZW1lbnQoJ2J1dHRvbicpOwogIGlucHV0RWxlbWVudC5wYXJlbnRFbGVtZW50LmFwcGVuZENoaWxkKGNhbmNlbCk7CiAgY2FuY2VsLnRleHRDb250ZW50ID0gJ0NhbmNlbCB1cGxvYWQnOwogIGNvbnN0IGNhbmNlbFByb21pc2UgPSBuZXcgUHJvbWlzZSgocmVzb2x2ZSkgPT4gewogICAgY2FuY2VsLm9uY2xpY2sgPSAoKSA9PiB7CiAgICAgIHJlc29sdmUobnVsbCk7CiAgICB9OwogIH0pOwoKICAvLyBXYWl0IGZvciB0aGUgdXNlciB0byBwaWNrIHRoZSBmaWxlcy4KICBjb25zdCBmaWxlcyA9IHlpZWxkIHsKICAgIHByb21pc2U6IFByb21pc2UucmFjZShbcGlja2VkUHJvbWlzZSwgY2FuY2VsUHJvbWlzZV0pLAogICAgcmVzcG9uc2U6IHsKICAgICAgYWN0aW9uOiAnc3RhcnRpbmcnLAogICAgfQogIH07CgogIGNhbmNlbC5yZW1vdmUoKTsKCiAgLy8gRGlzYWJsZSB0aGUgaW5wdXQgZWxlbWVudCBzaW5jZSBmdXJ0aGVyIHBpY2tzIGFyZSBub3QgYWxsb3dlZC4KICBpbnB1dEVsZW1lbnQuZGlzYWJsZWQgPSB0cnVlOwoKICBpZiAoIWZpbGVzKSB7CiAgICByZXR1cm4gewogICAgICByZXNwb25zZTogewogICAgICAgIGFjdGlvbjogJ2NvbXBsZXRlJywKICAgICAgfQogICAgfTsKICB9CgogIGZvciAoY29uc3QgZmlsZSBvZiBmaWxlcykgewogICAgY29uc3QgbGkgPSBkb2N1bWVudC5jcmVhdGVFbGVtZW50KCdsaScpOwogICAgbGkuYXBwZW5kKHNwYW4oZmlsZS5uYW1lLCB7Zm9udFdlaWdodDogJ2JvbGQnfSkpOwogICAgbGkuYXBwZW5kKHNwYW4oCiAgICAgICAgYCgke2ZpbGUudHlwZSB8fCAnbi9hJ30pIC0gJHtmaWxlLnNpemV9IGJ5dGVzLCBgICsKICAgICAgICBgbGFzdCBtb2RpZmllZDogJHsKICAgICAgICAgICAgZmlsZS5sYXN0TW9kaWZpZWREYXRlID8gZmlsZS5sYXN0TW9kaWZpZWREYXRlLnRvTG9jYWxlRGF0ZVN0cmluZygpIDoKICAgICAgICAgICAgICAgICAgICAgICAgICAgICAgICAgICAgJ24vYSd9IC0gYCkpOwogICAgY29uc3QgcGVyY2VudCA9IHNwYW4oJzAlIGRvbmUnKTsKICAgIGxpLmFwcGVuZENoaWxkKHBlcmNlbnQpOwoKICAgIG91dHB1dEVsZW1lbnQuYXBwZW5kQ2hpbGQobGkpOwoKICAgIGNvbnN0IGZpbGVEYXRhUHJvbWlzZSA9IG5ldyBQcm9taXNlKChyZXNvbHZlKSA9PiB7CiAgICAgIGNvbnN0IHJlYWRlciA9IG5ldyBGaWxlUmVhZGVyKCk7CiAgICAgIHJlYWRlci5vbmxvYWQgPSAoZSkgPT4gewogICAgICAgIHJlc29sdmUoZS50YXJnZXQucmVzdWx0KTsKICAgICAgfTsKICAgICAgcmVhZGVyLnJlYWRBc0FycmF5QnVmZmVyKGZpbGUpOwogICAgfSk7CiAgICAvLyBXYWl0IGZvciB0aGUgZGF0YSB0byBiZSByZWFkeS4KICAgIGxldCBmaWxlRGF0YSA9IHlpZWxkIHsKICAgICAgcHJvbWlzZTogZmlsZURhdGFQcm9taXNlLAogICAgICByZXNwb25zZTogewogICAgICAgIGFjdGlvbjogJ2NvbnRpbnVlJywKICAgICAgfQogICAgfTsKCiAgICAvLyBVc2UgYSBjaHVua2VkIHNlbmRpbmcgdG8gYXZvaWQgbWVzc2FnZSBzaXplIGxpbWl0cy4gU2VlIGIvNjIxMTU2NjAuCiAgICBsZXQgcG9zaXRpb24gPSAwOwogICAgZG8gewogICAgICBjb25zdCBsZW5ndGggPSBNYXRoLm1pbihmaWxlRGF0YS5ieXRlTGVuZ3RoIC0gcG9zaXRpb24sIE1BWF9QQVlMT0FEX1NJWkUpOwogICAgICBjb25zdCBjaHVuayA9IG5ldyBVaW50OEFycmF5KGZpbGVEYXRhLCBwb3NpdGlvbiwgbGVuZ3RoKTsKICAgICAgcG9zaXRpb24gKz0gbGVuZ3RoOwoKICAgICAgY29uc3QgYmFzZTY0ID0gYnRvYShTdHJpbmcuZnJvbUNoYXJDb2RlLmFwcGx5KG51bGwsIGNodW5rKSk7CiAgICAgIHlpZWxkIHsKICAgICAgICByZXNwb25zZTogewogICAgICAgICAgYWN0aW9uOiAnYXBwZW5kJywKICAgICAgICAgIGZpbGU6IGZpbGUubmFtZSwKICAgICAgICAgIGRhdGE6IGJhc2U2NCwKICAgICAgICB9LAogICAgICB9OwoKICAgICAgbGV0IHBlcmNlbnREb25lID0gZmlsZURhdGEuYnl0ZUxlbmd0aCA9PT0gMCA/CiAgICAgICAgICAxMDAgOgogICAgICAgICAgTWF0aC5yb3VuZCgocG9zaXRpb24gLyBmaWxlRGF0YS5ieXRlTGVuZ3RoKSAqIDEwMCk7CiAgICAgIHBlcmNlbnQudGV4dENvbnRlbnQgPSBgJHtwZXJjZW50RG9uZX0lIGRvbmVgOwoKICAgIH0gd2hpbGUgKHBvc2l0aW9uIDwgZmlsZURhdGEuYnl0ZUxlbmd0aCk7CiAgfQoKICAvLyBBbGwgZG9uZS4KICB5aWVsZCB7CiAgICByZXNwb25zZTogewogICAgICBhY3Rpb246ICdjb21wbGV0ZScsCiAgICB9CiAgfTsKfQoKc2NvcGUuZ29vZ2xlID0gc2NvcGUuZ29vZ2xlIHx8IHt9OwpzY29wZS5nb29nbGUuY29sYWIgPSBzY29wZS5nb29nbGUuY29sYWIgfHwge307CnNjb3BlLmdvb2dsZS5jb2xhYi5fZmlsZXMgPSB7CiAgX3VwbG9hZEZpbGVzLAogIF91cGxvYWRGaWxlc0NvbnRpbnVlLAp9Owp9KShzZWxmKTsK",
              "ok": true,
              "headers": [
                [
                  "content-type",
                  "application/javascript"
                ]
              ],
              "status": 200,
              "status_text": ""
            }
          },
          "base_uri": "https://localhost:8080/",
          "height": 70
        },
        "id": "v36v0UPvmMGM",
        "outputId": "614e73b3-7eae-47af-daf2-c2d38c4e6751"
      },
      "source": [
        "from google.colab import files\n",
        "uploaded = files.upload()"
      ],
      "execution_count": 2,
      "outputs": [
        {
          "output_type": "display_data",
          "data": {
            "text/html": [
              "\n",
              "     <input type=\"file\" id=\"files-53a5c4e3-41f1-42c0-9f5c-0d64609160c3\" name=\"files[]\" multiple disabled\n",
              "        style=\"border:none\" />\n",
              "     <output id=\"result-53a5c4e3-41f1-42c0-9f5c-0d64609160c3\">\n",
              "      Upload widget is only available when the cell has been executed in the\n",
              "      current browser session. Please rerun this cell to enable.\n",
              "      </output>\n",
              "      <script src=\"/nbextensions/google.colab/files.js\"></script> "
            ],
            "text/plain": [
              "<IPython.core.display.HTML object>"
            ]
          },
          "metadata": {}
        },
        {
          "output_type": "stream",
          "name": "stdout",
          "text": [
            "Saving Online_Retail_Dataset.xlsx to Online_Retail_Dataset.xlsx\n"
          ]
        }
      ]
    },
    {
      "cell_type": "code",
      "metadata": {
        "id": "oRHwNFQvm-vd"
      },
      "source": [
        "# Dataset is now stored in a Pandas Dataframe\n",
        "import io\n",
        "df = pd.read_excel(io.BytesIO(uploaded.get('Online_Retail_Dataset.xlsx')))"
      ],
      "execution_count": 6,
      "outputs": []
    },
    {
      "cell_type": "code",
      "metadata": {
        "colab": {
          "base_uri": "https://localhost:8080/",
          "height": 200
        },
        "id": "RzMEzm6LqUqX",
        "outputId": "e57afe54-02da-4a33-faff-f8ffa10a6899"
      },
      "source": [
        "df.head()"
      ],
      "execution_count": 7,
      "outputs": [
        {
          "output_type": "execute_result",
          "data": {
            "text/html": [
              "<div>\n",
              "<style scoped>\n",
              "    .dataframe tbody tr th:only-of-type {\n",
              "        vertical-align: middle;\n",
              "    }\n",
              "\n",
              "    .dataframe tbody tr th {\n",
              "        vertical-align: top;\n",
              "    }\n",
              "\n",
              "    .dataframe thead th {\n",
              "        text-align: right;\n",
              "    }\n",
              "</style>\n",
              "<table border=\"1\" class=\"dataframe\">\n",
              "  <thead>\n",
              "    <tr style=\"text-align: right;\">\n",
              "      <th></th>\n",
              "      <th>InvoiceNo</th>\n",
              "      <th>StockCode</th>\n",
              "      <th>Description</th>\n",
              "      <th>Quantity</th>\n",
              "      <th>InvoiceDate</th>\n",
              "      <th>UnitPrice</th>\n",
              "      <th>CustomerID</th>\n",
              "      <th>Country</th>\n",
              "    </tr>\n",
              "  </thead>\n",
              "  <tbody>\n",
              "    <tr>\n",
              "      <th>0</th>\n",
              "      <td>536365</td>\n",
              "      <td>85123A</td>\n",
              "      <td>WHITE HANGING HEART T-LIGHT HOLDER</td>\n",
              "      <td>6</td>\n",
              "      <td>2010-12-01 08:26:00</td>\n",
              "      <td>2.55</td>\n",
              "      <td>17850.0</td>\n",
              "      <td>United Kingdom</td>\n",
              "    </tr>\n",
              "    <tr>\n",
              "      <th>1</th>\n",
              "      <td>536365</td>\n",
              "      <td>71053</td>\n",
              "      <td>WHITE METAL LANTERN</td>\n",
              "      <td>6</td>\n",
              "      <td>2010-12-01 08:26:00</td>\n",
              "      <td>3.39</td>\n",
              "      <td>17850.0</td>\n",
              "      <td>United Kingdom</td>\n",
              "    </tr>\n",
              "    <tr>\n",
              "      <th>2</th>\n",
              "      <td>536365</td>\n",
              "      <td>84406B</td>\n",
              "      <td>CREAM CUPID HEARTS COAT HANGER</td>\n",
              "      <td>8</td>\n",
              "      <td>2010-12-01 08:26:00</td>\n",
              "      <td>2.75</td>\n",
              "      <td>17850.0</td>\n",
              "      <td>United Kingdom</td>\n",
              "    </tr>\n",
              "    <tr>\n",
              "      <th>3</th>\n",
              "      <td>536365</td>\n",
              "      <td>84029G</td>\n",
              "      <td>KNITTED UNION FLAG HOT WATER BOTTLE</td>\n",
              "      <td>6</td>\n",
              "      <td>2010-12-01 08:26:00</td>\n",
              "      <td>3.39</td>\n",
              "      <td>17850.0</td>\n",
              "      <td>United Kingdom</td>\n",
              "    </tr>\n",
              "    <tr>\n",
              "      <th>4</th>\n",
              "      <td>536365</td>\n",
              "      <td>84029E</td>\n",
              "      <td>RED WOOLLY HOTTIE WHITE HEART.</td>\n",
              "      <td>6</td>\n",
              "      <td>2010-12-01 08:26:00</td>\n",
              "      <td>3.39</td>\n",
              "      <td>17850.0</td>\n",
              "      <td>United Kingdom</td>\n",
              "    </tr>\n",
              "  </tbody>\n",
              "</table>\n",
              "</div>"
            ],
            "text/plain": [
              "  InvoiceNo StockCode  ... CustomerID         Country\n",
              "0    536365    85123A  ...    17850.0  United Kingdom\n",
              "1    536365     71053  ...    17850.0  United Kingdom\n",
              "2    536365    84406B  ...    17850.0  United Kingdom\n",
              "3    536365    84029G  ...    17850.0  United Kingdom\n",
              "4    536365    84029E  ...    17850.0  United Kingdom\n",
              "\n",
              "[5 rows x 8 columns]"
            ]
          },
          "metadata": {},
          "execution_count": 7
        }
      ]
    },
    {
      "cell_type": "code",
      "metadata": {
        "colab": {
          "base_uri": "https://localhost:8080/"
        },
        "id": "PQ028nG7q1bm",
        "outputId": "752802f3-e72b-4f58-cb8c-2a8639e34038"
      },
      "source": [
        "df.info()"
      ],
      "execution_count": 8,
      "outputs": [
        {
          "output_type": "stream",
          "name": "stdout",
          "text": [
            "<class 'pandas.core.frame.DataFrame'>\n",
            "RangeIndex: 541909 entries, 0 to 541908\n",
            "Data columns (total 8 columns):\n",
            " #   Column       Non-Null Count   Dtype         \n",
            "---  ------       --------------   -----         \n",
            " 0   InvoiceNo    541909 non-null  object        \n",
            " 1   StockCode    541909 non-null  object        \n",
            " 2   Description  540455 non-null  object        \n",
            " 3   Quantity     541909 non-null  int64         \n",
            " 4   InvoiceDate  541909 non-null  datetime64[ns]\n",
            " 5   UnitPrice    541909 non-null  float64       \n",
            " 6   CustomerID   406829 non-null  float64       \n",
            " 7   Country      541909 non-null  object        \n",
            "dtypes: datetime64[ns](1), float64(2), int64(1), object(4)\n",
            "memory usage: 33.1+ MB\n"
          ]
        }
      ]
    },
    {
      "cell_type": "code",
      "metadata": {
        "colab": {
          "base_uri": "https://localhost:8080/"
        },
        "id": "IL7kO4SJq5kC",
        "outputId": "f5b57d7e-37ab-4c39-ebf2-f086b28ea9e5"
      },
      "source": [
        "df.shape"
      ],
      "execution_count": 9,
      "outputs": [
        {
          "output_type": "execute_result",
          "data": {
            "text/plain": [
              "(541909, 8)"
            ]
          },
          "metadata": {},
          "execution_count": 9
        }
      ]
    },
    {
      "cell_type": "markdown",
      "metadata": {
        "id": "0wiX4RU3rIK_"
      },
      "source": [
        "**Exploratory data analysis (EDA) **\n",
        "\n",
        "Let us have a look at the data and decide whether we need any data cleaning and data transformation for further analysis.\n",
        "\n",
        "NULL values"
      ]
    },
    {
      "cell_type": "code",
      "metadata": {
        "colab": {
          "base_uri": "https://localhost:8080/"
        },
        "id": "IrLS14--q-7L",
        "outputId": "bdb5be39-5bfe-4981-b177-bc119131e444"
      },
      "source": [
        "print('Number of missing values in the dataset:', df.isnull().sum().sum())\n",
        "print('Percentage of missing values in the dataset:', df.isnull().sum().sum()*100/(df.shape[0]*df.shape[1]))"
      ],
      "execution_count": 10,
      "outputs": [
        {
          "output_type": "stream",
          "name": "stdout",
          "text": [
            "Number of missing values in the dataset: 136534\n",
            "Percentage of missing values in the dataset: 3.149375633178264\n"
          ]
        }
      ]
    },
    {
      "cell_type": "code",
      "metadata": {
        "colab": {
          "base_uri": "https://localhost:8080/"
        },
        "id": "hr9_O6-frZKQ",
        "outputId": "3e15dd5c-f246-4478-9e78-149dbcd843ab"
      },
      "source": [
        "print(\"Number of missing values in 'Description' column:\", df['Description'].isnull().sum())\n",
        "print(\"Percentage of missing values in 'Description' column:\", df['Description'].isnull().sum()*100/df.shape[0])"
      ],
      "execution_count": 11,
      "outputs": [
        {
          "output_type": "stream",
          "name": "stdout",
          "text": [
            "Number of missing values in 'Description' column: 1454\n",
            "Percentage of missing values in 'Description' column: 0.2683107311375157\n"
          ]
        }
      ]
    },
    {
      "cell_type": "code",
      "metadata": {
        "colab": {
          "base_uri": "https://localhost:8080/"
        },
        "id": "2qnPRzr1rda1",
        "outputId": "072fb82a-cad3-42a7-e975-b19bb46eed4b"
      },
      "source": [
        "print(\"Number of missing values in 'CustomerID' column:\", df['CustomerID'].isnull().sum())\n",
        "print(\"Percentage of missing values in 'CustomerID' column:\", df['CustomerID'].isnull().sum()*100/df.shape[0])"
      ],
      "execution_count": 12,
      "outputs": [
        {
          "output_type": "stream",
          "name": "stdout",
          "text": [
            "Number of missing values in 'CustomerID' column: 135080\n",
            "Percentage of missing values in 'CustomerID' column: 24.926694334288598\n"
          ]
        }
      ]
    },
    {
      "cell_type": "markdown",
      "metadata": {
        "id": "WIkpKvGjrjOC"
      },
      "source": [
        "\n",
        "Number of missing values in 'CustomerID' column: 135080\n",
        "Percentage of missing values in 'CustomerID' column: 24.926694334288598\n",
        "About 25% of CustomerIDs is missing"
      ]
    },
    {
      "cell_type": "markdown",
      "metadata": {
        "id": "6HBbtBOnrn60"
      },
      "source": [
        "**Duplicates**"
      ]
    },
    {
      "cell_type": "code",
      "metadata": {
        "colab": {
          "base_uri": "https://localhost:8080/"
        },
        "id": "AlzpzrU0rkvK",
        "outputId": "bebe65d0-8e83-4acb-96da-d46919f0e499"
      },
      "source": [
        "# Check the number of duplicated values\n",
        "df.duplicated().sum().sum()"
      ],
      "execution_count": 13,
      "outputs": [
        {
          "output_type": "execute_result",
          "data": {
            "text/plain": [
              "5268"
            ]
          },
          "metadata": {},
          "execution_count": 13
        }
      ]
    },
    {
      "cell_type": "code",
      "metadata": {
        "id": "RXPa2sTdrs8h"
      },
      "source": [
        "# Let's get the duplicated rows\n",
        "duplicates = df[df.duplicated()]"
      ],
      "execution_count": 14,
      "outputs": []
    },
    {
      "cell_type": "code",
      "metadata": {
        "colab": {
          "base_uri": "https://localhost:8080/",
          "height": 653
        },
        "id": "TGYF24MFrvms",
        "outputId": "d7fb009f-b1ce-44b5-c665-12b0618f5744"
      },
      "source": [
        "  duplicates[:20]"
      ],
      "execution_count": 15,
      "outputs": [
        {
          "output_type": "execute_result",
          "data": {
            "text/html": [
              "<div>\n",
              "<style scoped>\n",
              "    .dataframe tbody tr th:only-of-type {\n",
              "        vertical-align: middle;\n",
              "    }\n",
              "\n",
              "    .dataframe tbody tr th {\n",
              "        vertical-align: top;\n",
              "    }\n",
              "\n",
              "    .dataframe thead th {\n",
              "        text-align: right;\n",
              "    }\n",
              "</style>\n",
              "<table border=\"1\" class=\"dataframe\">\n",
              "  <thead>\n",
              "    <tr style=\"text-align: right;\">\n",
              "      <th></th>\n",
              "      <th>InvoiceNo</th>\n",
              "      <th>StockCode</th>\n",
              "      <th>Description</th>\n",
              "      <th>Quantity</th>\n",
              "      <th>InvoiceDate</th>\n",
              "      <th>UnitPrice</th>\n",
              "      <th>CustomerID</th>\n",
              "      <th>Country</th>\n",
              "    </tr>\n",
              "  </thead>\n",
              "  <tbody>\n",
              "    <tr>\n",
              "      <th>517</th>\n",
              "      <td>536409</td>\n",
              "      <td>21866</td>\n",
              "      <td>UNION JACK FLAG LUGGAGE TAG</td>\n",
              "      <td>1</td>\n",
              "      <td>2010-12-01 11:45:00</td>\n",
              "      <td>1.25</td>\n",
              "      <td>17908.0</td>\n",
              "      <td>United Kingdom</td>\n",
              "    </tr>\n",
              "    <tr>\n",
              "      <th>527</th>\n",
              "      <td>536409</td>\n",
              "      <td>22866</td>\n",
              "      <td>HAND WARMER SCOTTY DOG DESIGN</td>\n",
              "      <td>1</td>\n",
              "      <td>2010-12-01 11:45:00</td>\n",
              "      <td>2.10</td>\n",
              "      <td>17908.0</td>\n",
              "      <td>United Kingdom</td>\n",
              "    </tr>\n",
              "    <tr>\n",
              "      <th>537</th>\n",
              "      <td>536409</td>\n",
              "      <td>22900</td>\n",
              "      <td>SET 2 TEA TOWELS I LOVE LONDON</td>\n",
              "      <td>1</td>\n",
              "      <td>2010-12-01 11:45:00</td>\n",
              "      <td>2.95</td>\n",
              "      <td>17908.0</td>\n",
              "      <td>United Kingdom</td>\n",
              "    </tr>\n",
              "    <tr>\n",
              "      <th>539</th>\n",
              "      <td>536409</td>\n",
              "      <td>22111</td>\n",
              "      <td>SCOTTIE DOG HOT WATER BOTTLE</td>\n",
              "      <td>1</td>\n",
              "      <td>2010-12-01 11:45:00</td>\n",
              "      <td>4.95</td>\n",
              "      <td>17908.0</td>\n",
              "      <td>United Kingdom</td>\n",
              "    </tr>\n",
              "    <tr>\n",
              "      <th>555</th>\n",
              "      <td>536412</td>\n",
              "      <td>22327</td>\n",
              "      <td>ROUND SNACK BOXES SET OF 4 SKULLS</td>\n",
              "      <td>1</td>\n",
              "      <td>2010-12-01 11:49:00</td>\n",
              "      <td>2.95</td>\n",
              "      <td>17920.0</td>\n",
              "      <td>United Kingdom</td>\n",
              "    </tr>\n",
              "    <tr>\n",
              "      <th>587</th>\n",
              "      <td>536412</td>\n",
              "      <td>22273</td>\n",
              "      <td>FELTCRAFT DOLL MOLLY</td>\n",
              "      <td>1</td>\n",
              "      <td>2010-12-01 11:49:00</td>\n",
              "      <td>2.95</td>\n",
              "      <td>17920.0</td>\n",
              "      <td>United Kingdom</td>\n",
              "    </tr>\n",
              "    <tr>\n",
              "      <th>589</th>\n",
              "      <td>536412</td>\n",
              "      <td>22749</td>\n",
              "      <td>FELTCRAFT PRINCESS CHARLOTTE DOLL</td>\n",
              "      <td>1</td>\n",
              "      <td>2010-12-01 11:49:00</td>\n",
              "      <td>3.75</td>\n",
              "      <td>17920.0</td>\n",
              "      <td>United Kingdom</td>\n",
              "    </tr>\n",
              "    <tr>\n",
              "      <th>594</th>\n",
              "      <td>536412</td>\n",
              "      <td>22141</td>\n",
              "      <td>CHRISTMAS CRAFT TREE TOP ANGEL</td>\n",
              "      <td>1</td>\n",
              "      <td>2010-12-01 11:49:00</td>\n",
              "      <td>2.10</td>\n",
              "      <td>17920.0</td>\n",
              "      <td>United Kingdom</td>\n",
              "    </tr>\n",
              "    <tr>\n",
              "      <th>598</th>\n",
              "      <td>536412</td>\n",
              "      <td>21448</td>\n",
              "      <td>12 DAISY PEGS IN WOOD BOX</td>\n",
              "      <td>1</td>\n",
              "      <td>2010-12-01 11:49:00</td>\n",
              "      <td>1.65</td>\n",
              "      <td>17920.0</td>\n",
              "      <td>United Kingdom</td>\n",
              "    </tr>\n",
              "    <tr>\n",
              "      <th>600</th>\n",
              "      <td>536412</td>\n",
              "      <td>22569</td>\n",
              "      <td>FELTCRAFT CUSHION BUTTERFLY</td>\n",
              "      <td>2</td>\n",
              "      <td>2010-12-01 11:49:00</td>\n",
              "      <td>3.75</td>\n",
              "      <td>17920.0</td>\n",
              "      <td>United Kingdom</td>\n",
              "    </tr>\n",
              "    <tr>\n",
              "      <th>601</th>\n",
              "      <td>536412</td>\n",
              "      <td>21448</td>\n",
              "      <td>12 DAISY PEGS IN WOOD BOX</td>\n",
              "      <td>2</td>\n",
              "      <td>2010-12-01 11:49:00</td>\n",
              "      <td>1.65</td>\n",
              "      <td>17920.0</td>\n",
              "      <td>United Kingdom</td>\n",
              "    </tr>\n",
              "    <tr>\n",
              "      <th>604</th>\n",
              "      <td>536412</td>\n",
              "      <td>21448</td>\n",
              "      <td>12 DAISY PEGS IN WOOD BOX</td>\n",
              "      <td>2</td>\n",
              "      <td>2010-12-01 11:49:00</td>\n",
              "      <td>1.65</td>\n",
              "      <td>17920.0</td>\n",
              "      <td>United Kingdom</td>\n",
              "    </tr>\n",
              "    <tr>\n",
              "      <th>605</th>\n",
              "      <td>536412</td>\n",
              "      <td>22902</td>\n",
              "      <td>TOTE BAG I LOVE LONDON</td>\n",
              "      <td>7</td>\n",
              "      <td>2010-12-01 11:49:00</td>\n",
              "      <td>2.10</td>\n",
              "      <td>17920.0</td>\n",
              "      <td>United Kingdom</td>\n",
              "    </tr>\n",
              "    <tr>\n",
              "      <th>616</th>\n",
              "      <td>536412</td>\n",
              "      <td>21708</td>\n",
              "      <td>FOLDING UMBRELLA CREAM POLKADOT</td>\n",
              "      <td>1</td>\n",
              "      <td>2010-12-01 11:49:00</td>\n",
              "      <td>4.95</td>\n",
              "      <td>17920.0</td>\n",
              "      <td>United Kingdom</td>\n",
              "    </tr>\n",
              "    <tr>\n",
              "      <th>617</th>\n",
              "      <td>536412</td>\n",
              "      <td>22900</td>\n",
              "      <td>SET 2 TEA TOWELS I LOVE LONDON</td>\n",
              "      <td>2</td>\n",
              "      <td>2010-12-01 11:49:00</td>\n",
              "      <td>2.95</td>\n",
              "      <td>17920.0</td>\n",
              "      <td>United Kingdom</td>\n",
              "    </tr>\n",
              "    <tr>\n",
              "      <th>618</th>\n",
              "      <td>536412</td>\n",
              "      <td>21706</td>\n",
              "      <td>FOLDING UMBRELLA RED/WHITE POLKADOT</td>\n",
              "      <td>1</td>\n",
              "      <td>2010-12-01 11:49:00</td>\n",
              "      <td>4.95</td>\n",
              "      <td>17920.0</td>\n",
              "      <td>United Kingdom</td>\n",
              "    </tr>\n",
              "    <tr>\n",
              "      <th>620</th>\n",
              "      <td>536412</td>\n",
              "      <td>85184C</td>\n",
              "      <td>S/4 VALENTINE DECOUPAGE HEART BOX</td>\n",
              "      <td>1</td>\n",
              "      <td>2010-12-01 11:49:00</td>\n",
              "      <td>2.95</td>\n",
              "      <td>17920.0</td>\n",
              "      <td>United Kingdom</td>\n",
              "    </tr>\n",
              "    <tr>\n",
              "      <th>758</th>\n",
              "      <td>536446</td>\n",
              "      <td>21651</td>\n",
              "      <td>HANGING GLASS ETCHED TEALIGHT</td>\n",
              "      <td>6</td>\n",
              "      <td>2010-12-01 12:15:00</td>\n",
              "      <td>1.65</td>\n",
              "      <td>15983.0</td>\n",
              "      <td>United Kingdom</td>\n",
              "    </tr>\n",
              "    <tr>\n",
              "      <th>831</th>\n",
              "      <td>536464</td>\n",
              "      <td>22866</td>\n",
              "      <td>HAND WARMER SCOTTY DOG DESIGN</td>\n",
              "      <td>1</td>\n",
              "      <td>2010-12-01 12:23:00</td>\n",
              "      <td>2.10</td>\n",
              "      <td>17968.0</td>\n",
              "      <td>United Kingdom</td>\n",
              "    </tr>\n",
              "    <tr>\n",
              "      <th>835</th>\n",
              "      <td>536464</td>\n",
              "      <td>22945</td>\n",
              "      <td>CHRISTMAS METAL TAGS ASSORTED</td>\n",
              "      <td>6</td>\n",
              "      <td>2010-12-01 12:23:00</td>\n",
              "      <td>0.85</td>\n",
              "      <td>17968.0</td>\n",
              "      <td>United Kingdom</td>\n",
              "    </tr>\n",
              "  </tbody>\n",
              "</table>\n",
              "</div>"
            ],
            "text/plain": [
              "    InvoiceNo StockCode  ... CustomerID         Country\n",
              "517    536409     21866  ...    17908.0  United Kingdom\n",
              "527    536409     22866  ...    17908.0  United Kingdom\n",
              "537    536409     22900  ...    17908.0  United Kingdom\n",
              "539    536409     22111  ...    17908.0  United Kingdom\n",
              "555    536412     22327  ...    17920.0  United Kingdom\n",
              "587    536412     22273  ...    17920.0  United Kingdom\n",
              "589    536412     22749  ...    17920.0  United Kingdom\n",
              "594    536412     22141  ...    17920.0  United Kingdom\n",
              "598    536412     21448  ...    17920.0  United Kingdom\n",
              "600    536412     22569  ...    17920.0  United Kingdom\n",
              "601    536412     21448  ...    17920.0  United Kingdom\n",
              "604    536412     21448  ...    17920.0  United Kingdom\n",
              "605    536412     22902  ...    17920.0  United Kingdom\n",
              "616    536412     21708  ...    17920.0  United Kingdom\n",
              "617    536412     22900  ...    17920.0  United Kingdom\n",
              "618    536412     21706  ...    17920.0  United Kingdom\n",
              "620    536412    85184C  ...    17920.0  United Kingdom\n",
              "758    536446     21651  ...    15983.0  United Kingdom\n",
              "831    536464     22866  ...    17968.0  United Kingdom\n",
              "835    536464     22945  ...    17968.0  United Kingdom\n",
              "\n",
              "[20 rows x 8 columns]"
            ]
          },
          "metadata": {},
          "execution_count": 15
        }
      ]
    },
    {
      "cell_type": "markdown",
      "metadata": {
        "id": "Zo4nzjHur2o_"
      },
      "source": [
        "**Number of unique customers**"
      ]
    },
    {
      "cell_type": "code",
      "metadata": {
        "colab": {
          "base_uri": "https://localhost:8080/"
        },
        "id": "FwOztmOOryy9",
        "outputId": "8aa2aa79-01d6-4f2e-864d-701dc65c230d"
      },
      "source": [
        "df['CustomerID'].nunique()"
      ],
      "execution_count": 16,
      "outputs": [
        {
          "output_type": "execute_result",
          "data": {
            "text/plain": [
              "4372"
            ]
          },
          "metadata": {},
          "execution_count": 16
        }
      ]
    },
    {
      "cell_type": "markdown",
      "metadata": {
        "id": "-kOHQuG6sGdu"
      },
      "source": [
        "**Number of purchases**"
      ]
    },
    {
      "cell_type": "code",
      "metadata": {
        "colab": {
          "base_uri": "https://localhost:8080/"
        },
        "id": "tbIMVVX9sCjM",
        "outputId": "556ddcb9-af45-4229-f415-3bf14049edaa"
      },
      "source": [
        "df['InvoiceNo'].nunique()"
      ],
      "execution_count": 17,
      "outputs": [
        {
          "output_type": "execute_result",
          "data": {
            "text/plain": [
              "25900"
            ]
          },
          "metadata": {},
          "execution_count": 17
        }
      ]
    },
    {
      "cell_type": "markdown",
      "metadata": {
        "id": "Lo_G4ICYsPA_"
      },
      "source": [
        "**Period of Time**"
      ]
    },
    {
      "cell_type": "code",
      "metadata": {
        "colab": {
          "base_uri": "https://localhost:8080/"
        },
        "id": "dI9GGAIEsK7N",
        "outputId": "e435bdb8-35df-4250-ffd9-5f9c9053ecec"
      },
      "source": [
        "df['InvoiceDate'].min()"
      ],
      "execution_count": 18,
      "outputs": [
        {
          "output_type": "execute_result",
          "data": {
            "text/plain": [
              "Timestamp('2010-12-01 08:26:00')"
            ]
          },
          "metadata": {},
          "execution_count": 18
        }
      ]
    },
    {
      "cell_type": "code",
      "metadata": {
        "colab": {
          "base_uri": "https://localhost:8080/"
        },
        "id": "AG1O8V1ksVRB",
        "outputId": "cc1b8546-3d68-498b-87be-2cbfc8defd03"
      },
      "source": [
        "df['InvoiceDate'].max()"
      ],
      "execution_count": 19,
      "outputs": [
        {
          "output_type": "execute_result",
          "data": {
            "text/plain": [
              "Timestamp('2011-12-09 12:50:00')"
            ]
          },
          "metadata": {},
          "execution_count": 19
        }
      ]
    },
    {
      "cell_type": "markdown",
      "metadata": {
        "id": "P1nBpcWcscU0"
      },
      "source": [
        "**Country**"
      ]
    },
    {
      "cell_type": "code",
      "metadata": {
        "colab": {
          "base_uri": "https://localhost:8080/",
          "height": 378
        },
        "id": "WYwoKbFqsYye",
        "outputId": "d5f64a50-24bc-4b45-da65-4a5d4ba45af2"
      },
      "source": [
        "df['Country'].value_counts().plot.bar(color='dodgerblue')"
      ],
      "execution_count": 20,
      "outputs": [
        {
          "output_type": "execute_result",
          "data": {
            "text/plain": [
              "<matplotlib.axes._subplots.AxesSubplot at 0x7fcb1b87e850>"
            ]
          },
          "metadata": {},
          "execution_count": 20
        },
        {
          "output_type": "display_data",
          "data": {
            "image/png": "[encoded data removed]",
            "text/plain": [
              "<Figure size 432x288 with 1 Axes>"
            ]
          },
          "metadata": {
            "needs_background": "light"
          }
        }
      ]
    },
    {
      "cell_type": "code",
      "metadata": {
        "colab": {
          "base_uri": "https://localhost:8080/"
        },
        "id": "aP0yeJvcsix-",
        "outputId": "cceef260-2995-4eca-f9be-69e85745ce1c"
      },
      "source": [
        "df['Country'].nunique()"
      ],
      "execution_count": 21,
      "outputs": [
        {
          "output_type": "execute_result",
          "data": {
            "text/plain": [
              "38"
            ]
          },
          "metadata": {},
          "execution_count": 21
        }
      ]
    },
    {
      "cell_type": "markdown",
      "metadata": {
        "id": "c5lQWBJbsstC"
      },
      "source": [
        "**Quantity and unit price of the products**"
      ]
    },
    {
      "cell_type": "code",
      "metadata": {
        "colab": {
          "base_uri": "https://localhost:8080/",
          "height": 301
        },
        "id": "dY-zxNRlsmgV",
        "outputId": "651f1ae3-2913-4dfd-a5c4-273e3e086747"
      },
      "source": [
        "# Let's look at the price distribution of the products\n",
        "\n",
        "plt.hist(data=df, x='UnitPrice', color='dodgerblue')\n",
        "plt.xlabel('Unit price', fontsize=14)\n",
        "plt.ylabel('Count', fontsize=14)\n",
        "plt.title(\"Unit price distribution\", fontsize=16);"
      ],
      "execution_count": 22,
      "outputs": [
        {
          "output_type": "display_data",
          "data": {
            "image/png": "[encoded data removed]",
            "text/plain": [
              "<Figure size 432x288 with 1 Axes>"
            ]
          },
          "metadata": {
            "needs_background": "light"
          }
        }
      ]
    },
    {
      "cell_type": "code",
      "metadata": {
        "colab": {
          "base_uri": "https://localhost:8080/"
        },
        "id": "8n9E6z8lsv6T",
        "outputId": "b945fbfe-ab43-4484-fb63-27165e1976fd"
      },
      "source": [
        "df['UnitPrice'].describe(percentiles=[.99])"
      ],
      "execution_count": 23,
      "outputs": [
        {
          "output_type": "execute_result",
          "data": {
            "text/plain": [
              "count    541909.000000\n",
              "mean          4.611114\n",
              "std          96.759853\n",
              "min      -11062.060000\n",
              "50%           2.080000\n",
              "99%          18.000000\n",
              "max       38970.000000\n",
              "Name: UnitPrice, dtype: float64"
            ]
          },
          "metadata": {},
          "execution_count": 23
        }
      ]
    },
    {
      "cell_type": "code",
      "metadata": {
        "colab": {
          "base_uri": "https://localhost:8080/",
          "height": 301
        },
        "id": "3pBhhnYMs2F1",
        "outputId": "3e3081d7-f96e-4e2b-d8aa-fe761e7b8e79"
      },
      "source": [
        "bins = np.arange(0, 21, 2)\n",
        "ticks = np.arange(0, 21, 2)\n",
        "plt.hist(data=df, x='UnitPrice', bins=bins, color='dodgerblue')\n",
        "plt.xticks(ticks, ticks)\n",
        "plt.xlabel('Unit price', fontsize=14)\n",
        "plt.ylabel('Count', fontsize=14)\n",
        "plt.title('Unit price distribution', fontsize=16);"
      ],
      "execution_count": 24,
      "outputs": [
        {
          "output_type": "display_data",
          "data": {
            "image/png": "[encoded data removed]",
            "text/plain": [
              "<Figure size 432x288 with 1 Axes>"
            ]
          },
          "metadata": {
            "needs_background": "light"
          }
        }
      ]
    },
    {
      "cell_type": "code",
      "metadata": {
        "colab": {
          "base_uri": "https://localhost:8080/",
          "height": 108
        },
        "id": "97N2_up4s6lt",
        "outputId": "493b83a4-d82a-4bc8-c9e0-2125aba80dee"
      },
      "source": [
        "df[df['UnitPrice'] < 0]"
      ],
      "execution_count": 25,
      "outputs": [
        {
          "output_type": "execute_result",
          "data": {
            "text/html": [
              "<div>\n",
              "<style scoped>\n",
              "    .dataframe tbody tr th:only-of-type {\n",
              "        vertical-align: middle;\n",
              "    }\n",
              "\n",
              "    .dataframe tbody tr th {\n",
              "        vertical-align: top;\n",
              "    }\n",
              "\n",
              "    .dataframe thead th {\n",
              "        text-align: right;\n",
              "    }\n",
              "</style>\n",
              "<table border=\"1\" class=\"dataframe\">\n",
              "  <thead>\n",
              "    <tr style=\"text-align: right;\">\n",
              "      <th></th>\n",
              "      <th>InvoiceNo</th>\n",
              "      <th>StockCode</th>\n",
              "      <th>Description</th>\n",
              "      <th>Quantity</th>\n",
              "      <th>InvoiceDate</th>\n",
              "      <th>UnitPrice</th>\n",
              "      <th>CustomerID</th>\n",
              "      <th>Country</th>\n",
              "    </tr>\n",
              "  </thead>\n",
              "  <tbody>\n",
              "    <tr>\n",
              "      <th>299983</th>\n",
              "      <td>A563186</td>\n",
              "      <td>B</td>\n",
              "      <td>Adjust bad debt</td>\n",
              "      <td>1</td>\n",
              "      <td>2011-08-12 14:51:00</td>\n",
              "      <td>-11062.06</td>\n",
              "      <td>NaN</td>\n",
              "      <td>United Kingdom</td>\n",
              "    </tr>\n",
              "    <tr>\n",
              "      <th>299984</th>\n",
              "      <td>A563187</td>\n",
              "      <td>B</td>\n",
              "      <td>Adjust bad debt</td>\n",
              "      <td>1</td>\n",
              "      <td>2011-08-12 14:52:00</td>\n",
              "      <td>-11062.06</td>\n",
              "      <td>NaN</td>\n",
              "      <td>United Kingdom</td>\n",
              "    </tr>\n",
              "  </tbody>\n",
              "</table>\n",
              "</div>"
            ],
            "text/plain": [
              "       InvoiceNo StockCode  ... CustomerID         Country\n",
              "299983   A563186         B  ...        NaN  United Kingdom\n",
              "299984   A563187         B  ...        NaN  United Kingdom\n",
              "\n",
              "[2 rows x 8 columns]"
            ]
          },
          "metadata": {},
          "execution_count": 25
        }
      ]
    },
    {
      "cell_type": "code",
      "metadata": {
        "colab": {
          "base_uri": "https://localhost:8080/",
          "height": 301
        },
        "id": "sVsRTRbGs_Nu",
        "outputId": "68275104-4ea4-4407-e588-f6e2dec0dfb7"
      },
      "source": [
        "# Let's look at the quantity of the products\n",
        "\n",
        "plt.hist(data=df, x='Quantity', color='dodgerblue')\n",
        "plt.xlabel('Quantity', fontsize=14)\n",
        "plt.ylabel('Count', fontsize=14)\n",
        "plt.title(\"Distribution of quantity of products\", fontsize=16);"
      ],
      "execution_count": 26,
      "outputs": [
        {
          "output_type": "display_data",
          "data": {
            "image/png": "[encoded data removed]",
            "text/plain": [
              "<Figure size 432x288 with 1 Axes>"
            ]
          },
          "metadata": {
            "needs_background": "light"
          }
        }
      ]
    },
    {
      "cell_type": "code",
      "metadata": {
        "colab": {
          "base_uri": "https://localhost:8080/"
        },
        "id": "NbUXIMWRtDUM",
        "outputId": "21e4b120-4f35-4ac6-e92b-6d6c01f6e534"
      },
      "source": [
        "df['Quantity'].describe(percentiles=[.99])"
      ],
      "execution_count": 27,
      "outputs": [
        {
          "output_type": "execute_result",
          "data": {
            "text/plain": [
              "count    541909.000000\n",
              "mean          9.552250\n",
              "std         218.081158\n",
              "min      -80995.000000\n",
              "50%           3.000000\n",
              "99%         100.000000\n",
              "max       80995.000000\n",
              "Name: Quantity, dtype: float64"
            ]
          },
          "metadata": {},
          "execution_count": 27
        }
      ]
    },
    {
      "cell_type": "code",
      "metadata": {
        "colab": {
          "base_uri": "https://localhost:8080/",
          "height": 301
        },
        "id": "vlXZ5zmKtHQZ",
        "outputId": "e254304d-b54a-4ad4-95b8-02dfc11c6066"
      },
      "source": [
        "bins = np.arange(0, 110, 10)\n",
        "ticks = np.arange(0, 110, 10)\n",
        "plt.hist(data=df, x='Quantity', bins=bins, color='dodgerblue')\n",
        "plt.xticks(ticks, ticks)\n",
        "plt.xlabel('Quantity', fontsize=14)\n",
        "plt.ylabel('Count', fontsize=14)\n",
        "plt.title('Distribution of quantity of products', fontsize=16);"
      ],
      "execution_count": 28,
      "outputs": [
        {
          "output_type": "display_data",
          "data": {
            "image/png": "[encoded data removed]",
            "text/plain": [
              "<Figure size 432x288 with 1 Axes>"
            ]
          },
          "metadata": {
            "needs_background": "light"
          }
        }
      ]
    },
    {
      "cell_type": "code",
      "metadata": {
        "id": "78Ax2AoHtK6q"
      },
      "source": [
        "neg_quantity = df[df['Quantity']<0]"
      ],
      "execution_count": 29,
      "outputs": []
    },
    {
      "cell_type": "code",
      "metadata": {
        "colab": {
          "base_uri": "https://localhost:8080/",
          "height": 351
        },
        "id": "a2BGhR2UtPe0",
        "outputId": "baa4c390-a2c4-40b8-8d51-ac14936d5808"
      },
      "source": [
        "neg_quantity.head(10)"
      ],
      "execution_count": 30,
      "outputs": [
        {
          "output_type": "execute_result",
          "data": {
            "text/html": [
              "<div>\n",
              "<style scoped>\n",
              "    .dataframe tbody tr th:only-of-type {\n",
              "        vertical-align: middle;\n",
              "    }\n",
              "\n",
              "    .dataframe tbody tr th {\n",
              "        vertical-align: top;\n",
              "    }\n",
              "\n",
              "    .dataframe thead th {\n",
              "        text-align: right;\n",
              "    }\n",
              "</style>\n",
              "<table border=\"1\" class=\"dataframe\">\n",
              "  <thead>\n",
              "    <tr style=\"text-align: right;\">\n",
              "      <th></th>\n",
              "      <th>InvoiceNo</th>\n",
              "      <th>StockCode</th>\n",
              "      <th>Description</th>\n",
              "      <th>Quantity</th>\n",
              "      <th>InvoiceDate</th>\n",
              "      <th>UnitPrice</th>\n",
              "      <th>CustomerID</th>\n",
              "      <th>Country</th>\n",
              "    </tr>\n",
              "  </thead>\n",
              "  <tbody>\n",
              "    <tr>\n",
              "      <th>141</th>\n",
              "      <td>C536379</td>\n",
              "      <td>D</td>\n",
              "      <td>Discount</td>\n",
              "      <td>-1</td>\n",
              "      <td>2010-12-01 09:41:00</td>\n",
              "      <td>27.50</td>\n",
              "      <td>14527.0</td>\n",
              "      <td>United Kingdom</td>\n",
              "    </tr>\n",
              "    <tr>\n",
              "      <th>154</th>\n",
              "      <td>C536383</td>\n",
              "      <td>35004C</td>\n",
              "      <td>SET OF 3 COLOURED  FLYING DUCKS</td>\n",
              "      <td>-1</td>\n",
              "      <td>2010-12-01 09:49:00</td>\n",
              "      <td>4.65</td>\n",
              "      <td>15311.0</td>\n",
              "      <td>United Kingdom</td>\n",
              "    </tr>\n",
              "    <tr>\n",
              "      <th>235</th>\n",
              "      <td>C536391</td>\n",
              "      <td>22556</td>\n",
              "      <td>PLASTERS IN TIN CIRCUS PARADE</td>\n",
              "      <td>-12</td>\n",
              "      <td>2010-12-01 10:24:00</td>\n",
              "      <td>1.65</td>\n",
              "      <td>17548.0</td>\n",
              "      <td>United Kingdom</td>\n",
              "    </tr>\n",
              "    <tr>\n",
              "      <th>236</th>\n",
              "      <td>C536391</td>\n",
              "      <td>21984</td>\n",
              "      <td>PACK OF 12 PINK PAISLEY TISSUES</td>\n",
              "      <td>-24</td>\n",
              "      <td>2010-12-01 10:24:00</td>\n",
              "      <td>0.29</td>\n",
              "      <td>17548.0</td>\n",
              "      <td>United Kingdom</td>\n",
              "    </tr>\n",
              "    <tr>\n",
              "      <th>237</th>\n",
              "      <td>C536391</td>\n",
              "      <td>21983</td>\n",
              "      <td>PACK OF 12 BLUE PAISLEY TISSUES</td>\n",
              "      <td>-24</td>\n",
              "      <td>2010-12-01 10:24:00</td>\n",
              "      <td>0.29</td>\n",
              "      <td>17548.0</td>\n",
              "      <td>United Kingdom</td>\n",
              "    </tr>\n",
              "    <tr>\n",
              "      <th>238</th>\n",
              "      <td>C536391</td>\n",
              "      <td>21980</td>\n",
              "      <td>PACK OF 12 RED RETROSPOT TISSUES</td>\n",
              "      <td>-24</td>\n",
              "      <td>2010-12-01 10:24:00</td>\n",
              "      <td>0.29</td>\n",
              "      <td>17548.0</td>\n",
              "      <td>United Kingdom</td>\n",
              "    </tr>\n",
              "    <tr>\n",
              "      <th>239</th>\n",
              "      <td>C536391</td>\n",
              "      <td>21484</td>\n",
              "      <td>CHICK GREY HOT WATER BOTTLE</td>\n",
              "      <td>-12</td>\n",
              "      <td>2010-12-01 10:24:00</td>\n",
              "      <td>3.45</td>\n",
              "      <td>17548.0</td>\n",
              "      <td>United Kingdom</td>\n",
              "    </tr>\n",
              "    <tr>\n",
              "      <th>240</th>\n",
              "      <td>C536391</td>\n",
              "      <td>22557</td>\n",
              "      <td>PLASTERS IN TIN VINTAGE PAISLEY</td>\n",
              "      <td>-12</td>\n",
              "      <td>2010-12-01 10:24:00</td>\n",
              "      <td>1.65</td>\n",
              "      <td>17548.0</td>\n",
              "      <td>United Kingdom</td>\n",
              "    </tr>\n",
              "    <tr>\n",
              "      <th>241</th>\n",
              "      <td>C536391</td>\n",
              "      <td>22553</td>\n",
              "      <td>PLASTERS IN TIN SKULLS</td>\n",
              "      <td>-24</td>\n",
              "      <td>2010-12-01 10:24:00</td>\n",
              "      <td>1.65</td>\n",
              "      <td>17548.0</td>\n",
              "      <td>United Kingdom</td>\n",
              "    </tr>\n",
              "    <tr>\n",
              "      <th>939</th>\n",
              "      <td>C536506</td>\n",
              "      <td>22960</td>\n",
              "      <td>JAM MAKING SET WITH JARS</td>\n",
              "      <td>-6</td>\n",
              "      <td>2010-12-01 12:38:00</td>\n",
              "      <td>4.25</td>\n",
              "      <td>17897.0</td>\n",
              "      <td>United Kingdom</td>\n",
              "    </tr>\n",
              "  </tbody>\n",
              "</table>\n",
              "</div>"
            ],
            "text/plain": [
              "    InvoiceNo StockCode  ... CustomerID         Country\n",
              "141   C536379         D  ...    14527.0  United Kingdom\n",
              "154   C536383    35004C  ...    15311.0  United Kingdom\n",
              "235   C536391     22556  ...    17548.0  United Kingdom\n",
              "236   C536391     21984  ...    17548.0  United Kingdom\n",
              "237   C536391     21983  ...    17548.0  United Kingdom\n",
              "238   C536391     21980  ...    17548.0  United Kingdom\n",
              "239   C536391     21484  ...    17548.0  United Kingdom\n",
              "240   C536391     22557  ...    17548.0  United Kingdom\n",
              "241   C536391     22553  ...    17548.0  United Kingdom\n",
              "939   C536506     22960  ...    17897.0  United Kingdom\n",
              "\n",
              "[10 rows x 8 columns]"
            ]
          },
          "metadata": {},
          "execution_count": 30
        }
      ]
    },
    {
      "cell_type": "code",
      "metadata": {
        "colab": {
          "base_uri": "https://localhost:8080/"
        },
        "id": "9kZ6f7_WtRzu",
        "outputId": "5b15fb4e-bf13-409a-d05f-7783469bc3ff"
      },
      "source": [
        "neg_quantity.shape"
      ],
      "execution_count": 31,
      "outputs": [
        {
          "output_type": "execute_result",
          "data": {
            "text/plain": [
              "(10624, 8)"
            ]
          },
          "metadata": {},
          "execution_count": 31
        }
      ]
    },
    {
      "cell_type": "code",
      "metadata": {
        "colab": {
          "base_uri": "https://localhost:8080/"
        },
        "id": "I2p3fG9BtUAm",
        "outputId": "34e3ff99-75d0-4b4f-a023-a2391f8ca769"
      },
      "source": [
        "print(\"The percentage of records with negative Quantity:\", neg_quantity.shape[0]*100/df.shape[0])"
      ],
      "execution_count": 32,
      "outputs": [
        {
          "output_type": "stream",
          "name": "stdout",
          "text": [
            "The percentage of records with negative Quantity: 1.9604767590130445\n"
          ]
        }
      ]
    },
    {
      "cell_type": "markdown",
      "metadata": {
        "id": "x2XH-KPqtd0g"
      },
      "source": [
        "**Data cleaning and transformation**\n",
        "\n",
        "Dropping NULL values"
      ]
    },
    {
      "cell_type": "code",
      "metadata": {
        "id": "Xfa3DHZctWxJ"
      },
      "source": [
        "df.dropna(subset=['CustomerID'], inplace=True)"
      ],
      "execution_count": 33,
      "outputs": []
    },
    {
      "cell_type": "code",
      "metadata": {
        "colab": {
          "base_uri": "https://localhost:8080/"
        },
        "id": "uiW5PKb2tp3X",
        "outputId": "5a3948cb-3f3c-4335-cae9-63cb3cd6b432"
      },
      "source": [
        "df.shape"
      ],
      "execution_count": 34,
      "outputs": [
        {
          "output_type": "execute_result",
          "data": {
            "text/plain": [
              "(406829, 8)"
            ]
          },
          "metadata": {},
          "execution_count": 34
        }
      ]
    },
    {
      "cell_type": "code",
      "metadata": {
        "colab": {
          "base_uri": "https://localhost:8080/"
        },
        "id": "l576txtVtrKT",
        "outputId": "b3171a52-2fa7-4d63-ce86-77122eedd908"
      },
      "source": [
        "# Let's check NULL records in the CustomerId column\n",
        "df['CustomerID'].isnull().sum()"
      ],
      "execution_count": 35,
      "outputs": [
        {
          "output_type": "execute_result",
          "data": {
            "text/plain": [
              "0"
            ]
          },
          "metadata": {},
          "execution_count": 35
        }
      ]
    },
    {
      "cell_type": "code",
      "metadata": {
        "colab": {
          "base_uri": "https://localhost:8080/"
        },
        "id": "7_hCokKYtuFZ",
        "outputId": "ad0a4c04-8789-4d2e-e65e-91a6eba036a4"
      },
      "source": [
        "df.info()"
      ],
      "execution_count": 36,
      "outputs": [
        {
          "output_type": "stream",
          "name": "stdout",
          "text": [
            "<class 'pandas.core.frame.DataFrame'>\n",
            "Int64Index: 406829 entries, 0 to 541908\n",
            "Data columns (total 8 columns):\n",
            " #   Column       Non-Null Count   Dtype         \n",
            "---  ------       --------------   -----         \n",
            " 0   InvoiceNo    406829 non-null  object        \n",
            " 1   StockCode    406829 non-null  object        \n",
            " 2   Description  406829 non-null  object        \n",
            " 3   Quantity     406829 non-null  int64         \n",
            " 4   InvoiceDate  406829 non-null  datetime64[ns]\n",
            " 5   UnitPrice    406829 non-null  float64       \n",
            " 6   CustomerID   406829 non-null  float64       \n",
            " 7   Country      406829 non-null  object        \n",
            "dtypes: datetime64[ns](1), float64(2), int64(1), object(4)\n",
            "memory usage: 27.9+ MB\n"
          ]
        }
      ]
    },
    {
      "cell_type": "markdown",
      "metadata": {
        "id": "QkrlMpSHtyS3"
      },
      "source": [
        "**Handle negative quantity**"
      ]
    },
    {
      "cell_type": "code",
      "metadata": {
        "id": "8dodiGDWtwPV"
      },
      "source": [
        "df = df.loc[df['Quantity'] > 0]"
      ],
      "execution_count": 37,
      "outputs": []
    },
    {
      "cell_type": "code",
      "metadata": {
        "colab": {
          "base_uri": "https://localhost:8080/",
          "height": 48
        },
        "id": "Fkx4fbdtt3s2",
        "outputId": "6de4e615-e85a-4b22-f2bf-b0e193cbdea6"
      },
      "source": [
        "# Let's check negative records\n",
        "df[df['Quantity'] < 0]"
      ],
      "execution_count": 38,
      "outputs": [
        {
          "output_type": "execute_result",
          "data": {
            "text/html": [
              "<div>\n",
              "<style scoped>\n",
              "    .dataframe tbody tr th:only-of-type {\n",
              "        vertical-align: middle;\n",
              "    }\n",
              "\n",
              "    .dataframe tbody tr th {\n",
              "        vertical-align: top;\n",
              "    }\n",
              "\n",
              "    .dataframe thead th {\n",
              "        text-align: right;\n",
              "    }\n",
              "</style>\n",
              "<table border=\"1\" class=\"dataframe\">\n",
              "  <thead>\n",
              "    <tr style=\"text-align: right;\">\n",
              "      <th></th>\n",
              "      <th>InvoiceNo</th>\n",
              "      <th>StockCode</th>\n",
              "      <th>Description</th>\n",
              "      <th>Quantity</th>\n",
              "      <th>InvoiceDate</th>\n",
              "      <th>UnitPrice</th>\n",
              "      <th>CustomerID</th>\n",
              "      <th>Country</th>\n",
              "    </tr>\n",
              "  </thead>\n",
              "  <tbody>\n",
              "  </tbody>\n",
              "</table>\n",
              "</div>"
            ],
            "text/plain": [
              "Empty DataFrame\n",
              "Columns: [InvoiceNo, StockCode, Description, Quantity, InvoiceDate, UnitPrice, CustomerID, Country]\n",
              "Index: []"
            ]
          },
          "metadata": {},
          "execution_count": 38
        }
      ]
    },
    {
      "cell_type": "markdown",
      "metadata": {
        "id": "DKaCaU2bt-KZ"
      },
      "source": [
        "**Removing Rows with Negative Price**"
      ]
    },
    {
      "cell_type": "code",
      "metadata": {
        "id": "eQ6rVHFit8Cr"
      },
      "source": [
        "df = df.loc[df['UnitPrice'] > 0]"
      ],
      "execution_count": 39,
      "outputs": []
    },
    {
      "cell_type": "code",
      "metadata": {
        "colab": {
          "base_uri": "https://localhost:8080/",
          "height": 48
        },
        "id": "KrTlkhJ7uD7j",
        "outputId": "21fd0367-c05b-4927-8df2-f0dc81b1781e"
      },
      "source": [
        "# Let's check negative records\n",
        "df[df['UnitPrice'] < 0]"
      ],
      "execution_count": 40,
      "outputs": [
        {
          "output_type": "execute_result",
          "data": {
            "text/html": [
              "<div>\n",
              "<style scoped>\n",
              "    .dataframe tbody tr th:only-of-type {\n",
              "        vertical-align: middle;\n",
              "    }\n",
              "\n",
              "    .dataframe tbody tr th {\n",
              "        vertical-align: top;\n",
              "    }\n",
              "\n",
              "    .dataframe thead th {\n",
              "        text-align: right;\n",
              "    }\n",
              "</style>\n",
              "<table border=\"1\" class=\"dataframe\">\n",
              "  <thead>\n",
              "    <tr style=\"text-align: right;\">\n",
              "      <th></th>\n",
              "      <th>InvoiceNo</th>\n",
              "      <th>StockCode</th>\n",
              "      <th>Description</th>\n",
              "      <th>Quantity</th>\n",
              "      <th>InvoiceDate</th>\n",
              "      <th>UnitPrice</th>\n",
              "      <th>CustomerID</th>\n",
              "      <th>Country</th>\n",
              "    </tr>\n",
              "  </thead>\n",
              "  <tbody>\n",
              "  </tbody>\n",
              "</table>\n",
              "</div>"
            ],
            "text/plain": [
              "Empty DataFrame\n",
              "Columns: [InvoiceNo, StockCode, Description, Quantity, InvoiceDate, UnitPrice, CustomerID, Country]\n",
              "Index: []"
            ]
          },
          "metadata": {},
          "execution_count": 40
        }
      ]
    },
    {
      "cell_type": "markdown",
      "metadata": {
        "id": "9cHN7XwtuINg"
      },
      "source": [
        "**Handling Incomplete Data**"
      ]
    },
    {
      "cell_type": "code",
      "metadata": {
        "id": "PBgcwP28uGKG"
      },
      "source": [
        "df = df.loc[df['InvoiceDate'] < '2011-12-01']"
      ],
      "execution_count": 41,
      "outputs": []
    },
    {
      "cell_type": "code",
      "metadata": {
        "colab": {
          "base_uri": "https://localhost:8080/"
        },
        "id": "xi8myAXluNWK",
        "outputId": "1e6ca2fc-c469-4329-a283-af485bf73d1e"
      },
      "source": [
        "# Let's check the time period\n",
        "df['InvoiceDate'].min(), df['InvoiceDate'].max()"
      ],
      "execution_count": 42,
      "outputs": [
        {
          "output_type": "execute_result",
          "data": {
            "text/plain": [
              "(Timestamp('2010-12-01 08:26:00'), Timestamp('2011-11-30 17:37:00'))"
            ]
          },
          "metadata": {},
          "execution_count": 42
        }
      ]
    },
    {
      "cell_type": "markdown",
      "metadata": {
        "id": "ZtrkAE_FuSeQ"
      },
      "source": [
        "**Calculating Total Sales**"
      ]
    },
    {
      "cell_type": "code",
      "metadata": {
        "id": "2yvj63CUuPe6"
      },
      "source": [
        "df['Sales'] = df['Quantity'] * df['UnitPrice']"
      ],
      "execution_count": 43,
      "outputs": []
    },
    {
      "cell_type": "code",
      "metadata": {
        "id": "0cstPUdwuWgm"
      },
      "source": [
        "df_orders = df.groupby(['CustomerID', 'InvoiceNo']).agg({'Sales': sum, 'InvoiceDate': max})"
      ],
      "execution_count": 44,
      "outputs": []
    },
    {
      "cell_type": "code",
      "metadata": {
        "colab": {
          "base_uri": "https://localhost:8080/",
          "height": 320
        },
        "id": "cUvsU97Oumbw",
        "outputId": "1dd43c37-e572-4fa9-902d-da352754bf70"
      },
      "source": [
        "df_orders.head(8)"
      ],
      "execution_count": 45,
      "outputs": [
        {
          "output_type": "execute_result",
          "data": {
            "text/html": [
              "<div>\n",
              "<style scoped>\n",
              "    .dataframe tbody tr th:only-of-type {\n",
              "        vertical-align: middle;\n",
              "    }\n",
              "\n",
              "    .dataframe tbody tr th {\n",
              "        vertical-align: top;\n",
              "    }\n",
              "\n",
              "    .dataframe thead th {\n",
              "        text-align: right;\n",
              "    }\n",
              "</style>\n",
              "<table border=\"1\" class=\"dataframe\">\n",
              "  <thead>\n",
              "    <tr style=\"text-align: right;\">\n",
              "      <th></th>\n",
              "      <th></th>\n",
              "      <th>Sales</th>\n",
              "      <th>InvoiceDate</th>\n",
              "    </tr>\n",
              "    <tr>\n",
              "      <th>CustomerID</th>\n",
              "      <th>InvoiceNo</th>\n",
              "      <th></th>\n",
              "      <th></th>\n",
              "    </tr>\n",
              "  </thead>\n",
              "  <tbody>\n",
              "    <tr>\n",
              "      <th>12346.0</th>\n",
              "      <th>541431</th>\n",
              "      <td>77183.60</td>\n",
              "      <td>2011-01-18 10:01:00</td>\n",
              "    </tr>\n",
              "    <tr>\n",
              "      <th rowspan=\"6\" valign=\"top\">12347.0</th>\n",
              "      <th>537626</th>\n",
              "      <td>711.79</td>\n",
              "      <td>2010-12-07 14:57:00</td>\n",
              "    </tr>\n",
              "    <tr>\n",
              "      <th>542237</th>\n",
              "      <td>475.39</td>\n",
              "      <td>2011-01-26 14:30:00</td>\n",
              "    </tr>\n",
              "    <tr>\n",
              "      <th>549222</th>\n",
              "      <td>636.25</td>\n",
              "      <td>2011-04-07 10:43:00</td>\n",
              "    </tr>\n",
              "    <tr>\n",
              "      <th>556201</th>\n",
              "      <td>382.52</td>\n",
              "      <td>2011-06-09 13:01:00</td>\n",
              "    </tr>\n",
              "    <tr>\n",
              "      <th>562032</th>\n",
              "      <td>584.91</td>\n",
              "      <td>2011-08-02 08:48:00</td>\n",
              "    </tr>\n",
              "    <tr>\n",
              "      <th>573511</th>\n",
              "      <td>1294.32</td>\n",
              "      <td>2011-10-31 12:25:00</td>\n",
              "    </tr>\n",
              "    <tr>\n",
              "      <th>12348.0</th>\n",
              "      <th>539318</th>\n",
              "      <td>892.80</td>\n",
              "      <td>2010-12-16 19:09:00</td>\n",
              "    </tr>\n",
              "  </tbody>\n",
              "</table>\n",
              "</div>"
            ],
            "text/plain": [
              "                         Sales         InvoiceDate\n",
              "CustomerID InvoiceNo                              \n",
              "12346.0    541431     77183.60 2011-01-18 10:01:00\n",
              "12347.0    537626       711.79 2010-12-07 14:57:00\n",
              "           542237       475.39 2011-01-26 14:30:00\n",
              "           549222       636.25 2011-04-07 10:43:00\n",
              "           556201       382.52 2011-06-09 13:01:00\n",
              "           562032       584.91 2011-08-02 08:48:00\n",
              "           573511      1294.32 2011-10-31 12:25:00\n",
              "12348.0    539318       892.80 2010-12-16 19:09:00"
            ]
          },
          "metadata": {},
          "execution_count": 45
        }
      ]
    },
    {
      "cell_type": "code",
      "metadata": {
        "colab": {
          "base_uri": "https://localhost:8080/"
        },
        "id": "ANTY5WMAupQ-",
        "outputId": "52808fa4-9ac3-4add-b28b-217ccaef1aa0"
      },
      "source": [
        "df_orders['InvoiceDate'].max(), df_orders['InvoiceDate'].min()"
      ],
      "execution_count": 46,
      "outputs": [
        {
          "output_type": "execute_result",
          "data": {
            "text/plain": [
              "(Timestamp('2011-11-30 17:37:00'), Timestamp('2010-12-01 08:26:00'))"
            ]
          },
          "metadata": {},
          "execution_count": 46
        }
      ]
    },
    {
      "cell_type": "markdown",
      "metadata": {
        "id": "_zvRZS5EuwZn"
      },
      "source": [
        "**Data Analysis**"
      ]
    },
    {
      "cell_type": "code",
      "metadata": {
        "id": "WFUC2Nv0uuI_"
      },
      "source": [
        "def groupby_mean(x):\n",
        "    return x.mean()\n",
        "\n",
        "def groupby_count(x):\n",
        "    return x.count()\n",
        "\n",
        "def purchase_duration(x):\n",
        "    return (x.max() - x.min()).days\n",
        "\n",
        "def avg_frequency(x):\n",
        "    return (x.max() - x.min()).days / x.count()\n",
        "\n",
        "groupby_mean.__name__ = 'avg'\n",
        "groupby_count.__name__ = 'count'\n",
        "purchase_duration.__name__ = 'purchase_duration'\n",
        "avg_frequency.__name__ = 'purchase_frequency'"
      ],
      "execution_count": 47,
      "outputs": []
    },
    {
      "cell_type": "code",
      "metadata": {
        "id": "REFPiMnauzuN"
      },
      "source": [
        "df_summary = df_orders.reset_index().groupby('CustomerID').agg({\n",
        "            'Sales': [min, max, sum, groupby_mean, groupby_count],\n",
        "            'InvoiceDate': [min, max, purchase_duration, avg_frequency]\n",
        "             })"
      ],
      "execution_count": 48,
      "outputs": []
    },
    {
      "cell_type": "code",
      "metadata": {
        "colab": {
          "base_uri": "https://localhost:8080/",
          "height": 260
        },
        "id": "7_rTdByOu25s",
        "outputId": "5c286c9a-5d10-447f-cc58-d77891792f8d"
      },
      "source": [
        "df_summary.head()"
      ],
      "execution_count": 49,
      "outputs": [
        {
          "output_type": "execute_result",
          "data": {
            "text/html": [
              "<div>\n",
              "<style scoped>\n",
              "    .dataframe tbody tr th:only-of-type {\n",
              "        vertical-align: middle;\n",
              "    }\n",
              "\n",
              "    .dataframe tbody tr th {\n",
              "        vertical-align: top;\n",
              "    }\n",
              "\n",
              "    .dataframe thead tr th {\n",
              "        text-align: left;\n",
              "    }\n",
              "\n",
              "    .dataframe thead tr:last-of-type th {\n",
              "        text-align: right;\n",
              "    }\n",
              "</style>\n",
              "<table border=\"1\" class=\"dataframe\">\n",
              "  <thead>\n",
              "    <tr>\n",
              "      <th></th>\n",
              "      <th colspan=\"5\" halign=\"left\">Sales</th>\n",
              "      <th colspan=\"4\" halign=\"left\">InvoiceDate</th>\n",
              "    </tr>\n",
              "    <tr>\n",
              "      <th></th>\n",
              "      <th>min</th>\n",
              "      <th>max</th>\n",
              "      <th>sum</th>\n",
              "      <th>avg</th>\n",
              "      <th>count</th>\n",
              "      <th>min</th>\n",
              "      <th>max</th>\n",
              "      <th>purchase_duration</th>\n",
              "      <th>purchase_frequency</th>\n",
              "    </tr>\n",
              "    <tr>\n",
              "      <th>CustomerID</th>\n",
              "      <th></th>\n",
              "      <th></th>\n",
              "      <th></th>\n",
              "      <th></th>\n",
              "      <th></th>\n",
              "      <th></th>\n",
              "      <th></th>\n",
              "      <th></th>\n",
              "      <th></th>\n",
              "    </tr>\n",
              "  </thead>\n",
              "  <tbody>\n",
              "    <tr>\n",
              "      <th>12346.0</th>\n",
              "      <td>77183.60</td>\n",
              "      <td>77183.60</td>\n",
              "      <td>77183.60</td>\n",
              "      <td>77183.600000</td>\n",
              "      <td>1.0</td>\n",
              "      <td>2011-01-18 10:01:00</td>\n",
              "      <td>2011-01-18 10:01:00</td>\n",
              "      <td>0</td>\n",
              "      <td>0.0</td>\n",
              "    </tr>\n",
              "    <tr>\n",
              "      <th>12347.0</th>\n",
              "      <td>382.52</td>\n",
              "      <td>1294.32</td>\n",
              "      <td>4085.18</td>\n",
              "      <td>680.863333</td>\n",
              "      <td>6.0</td>\n",
              "      <td>2010-12-07 14:57:00</td>\n",
              "      <td>2011-10-31 12:25:00</td>\n",
              "      <td>327</td>\n",
              "      <td>54.5</td>\n",
              "    </tr>\n",
              "    <tr>\n",
              "      <th>12348.0</th>\n",
              "      <td>227.44</td>\n",
              "      <td>892.80</td>\n",
              "      <td>1797.24</td>\n",
              "      <td>449.310000</td>\n",
              "      <td>4.0</td>\n",
              "      <td>2010-12-16 19:09:00</td>\n",
              "      <td>2011-09-25 13:13:00</td>\n",
              "      <td>282</td>\n",
              "      <td>70.5</td>\n",
              "    </tr>\n",
              "    <tr>\n",
              "      <th>12349.0</th>\n",
              "      <td>1757.55</td>\n",
              "      <td>1757.55</td>\n",
              "      <td>1757.55</td>\n",
              "      <td>1757.550000</td>\n",
              "      <td>1.0</td>\n",
              "      <td>2011-11-21 09:51:00</td>\n",
              "      <td>2011-11-21 09:51:00</td>\n",
              "      <td>0</td>\n",
              "      <td>0.0</td>\n",
              "    </tr>\n",
              "    <tr>\n",
              "      <th>12350.0</th>\n",
              "      <td>334.40</td>\n",
              "      <td>334.40</td>\n",
              "      <td>334.40</td>\n",
              "      <td>334.400000</td>\n",
              "      <td>1.0</td>\n",
              "      <td>2011-02-02 16:01:00</td>\n",
              "      <td>2011-02-02 16:01:00</td>\n",
              "      <td>0</td>\n",
              "      <td>0.0</td>\n",
              "    </tr>\n",
              "  </tbody>\n",
              "</table>\n",
              "</div>"
            ],
            "text/plain": [
              "               Sales            ...       InvoiceDate                   \n",
              "                 min       max  ... purchase_duration purchase_frequency\n",
              "CustomerID                      ...                                     \n",
              "12346.0     77183.60  77183.60  ...                 0                0.0\n",
              "12347.0       382.52   1294.32  ...               327               54.5\n",
              "12348.0       227.44    892.80  ...               282               70.5\n",
              "12349.0      1757.55   1757.55  ...                 0                0.0\n",
              "12350.0       334.40    334.40  ...                 0                0.0\n",
              "\n",
              "[5 rows x 9 columns]"
            ]
          },
          "metadata": {},
          "execution_count": 49
        }
      ]
    },
    {
      "cell_type": "markdown",
      "metadata": {
        "id": "NNDWN82ju7_R"
      },
      "source": [
        "**Repeat customers**\n",
        "\n",
        "Number of purchases"
      ]
    },
    {
      "cell_type": "code",
      "metadata": {
        "id": "b1ivmA8eu5Xo"
      },
      "source": [
        "df_summary.columns = ['_'.join(col).lower() for col in df_summary.columns]"
      ],
      "execution_count": 50,
      "outputs": []
    },
    {
      "cell_type": "code",
      "metadata": {
        "colab": {
          "base_uri": "https://localhost:8080/",
          "height": 440
        },
        "id": "ubli2J5kvBP4",
        "outputId": "c64ff0d9-015b-4a35-8e37-3f39d964cee8"
      },
      "source": [
        "df_summary"
      ],
      "execution_count": 51,
      "outputs": [
        {
          "output_type": "execute_result",
          "data": {
            "text/html": [
              "<div>\n",
              "<style scoped>\n",
              "    .dataframe tbody tr th:only-of-type {\n",
              "        vertical-align: middle;\n",
              "    }\n",
              "\n",
              "    .dataframe tbody tr th {\n",
              "        vertical-align: top;\n",
              "    }\n",
              "\n",
              "    .dataframe thead th {\n",
              "        text-align: right;\n",
              "    }\n",
              "</style>\n",
              "<table border=\"1\" class=\"dataframe\">\n",
              "  <thead>\n",
              "    <tr style=\"text-align: right;\">\n",
              "      <th></th>\n",
              "      <th>sales_min</th>\n",
              "      <th>sales_max</th>\n",
              "      <th>sales_sum</th>\n",
              "      <th>sales_avg</th>\n",
              "      <th>sales_count</th>\n",
              "      <th>invoicedate_min</th>\n",
              "      <th>invoicedate_max</th>\n",
              "      <th>invoicedate_purchase_duration</th>\n",
              "      <th>invoicedate_purchase_frequency</th>\n",
              "    </tr>\n",
              "    <tr>\n",
              "      <th>CustomerID</th>\n",
              "      <th></th>\n",
              "      <th></th>\n",
              "      <th></th>\n",
              "      <th></th>\n",
              "      <th></th>\n",
              "      <th></th>\n",
              "      <th></th>\n",
              "      <th></th>\n",
              "      <th></th>\n",
              "    </tr>\n",
              "  </thead>\n",
              "  <tbody>\n",
              "    <tr>\n",
              "      <th>12346.0</th>\n",
              "      <td>77183.60</td>\n",
              "      <td>77183.60</td>\n",
              "      <td>77183.60</td>\n",
              "      <td>77183.600000</td>\n",
              "      <td>1.0</td>\n",
              "      <td>2011-01-18 10:01:00</td>\n",
              "      <td>2011-01-18 10:01:00</td>\n",
              "      <td>0</td>\n",
              "      <td>0.000000</td>\n",
              "    </tr>\n",
              "    <tr>\n",
              "      <th>12347.0</th>\n",
              "      <td>382.52</td>\n",
              "      <td>1294.32</td>\n",
              "      <td>4085.18</td>\n",
              "      <td>680.863333</td>\n",
              "      <td>6.0</td>\n",
              "      <td>2010-12-07 14:57:00</td>\n",
              "      <td>2011-10-31 12:25:00</td>\n",
              "      <td>327</td>\n",
              "      <td>54.500000</td>\n",
              "    </tr>\n",
              "    <tr>\n",
              "      <th>12348.0</th>\n",
              "      <td>227.44</td>\n",
              "      <td>892.80</td>\n",
              "      <td>1797.24</td>\n",
              "      <td>449.310000</td>\n",
              "      <td>4.0</td>\n",
              "      <td>2010-12-16 19:09:00</td>\n",
              "      <td>2011-09-25 13:13:00</td>\n",
              "      <td>282</td>\n",
              "      <td>70.500000</td>\n",
              "    </tr>\n",
              "    <tr>\n",
              "      <th>12349.0</th>\n",
              "      <td>1757.55</td>\n",
              "      <td>1757.55</td>\n",
              "      <td>1757.55</td>\n",
              "      <td>1757.550000</td>\n",
              "      <td>1.0</td>\n",
              "      <td>2011-11-21 09:51:00</td>\n",
              "      <td>2011-11-21 09:51:00</td>\n",
              "      <td>0</td>\n",
              "      <td>0.000000</td>\n",
              "    </tr>\n",
              "    <tr>\n",
              "      <th>12350.0</th>\n",
              "      <td>334.40</td>\n",
              "      <td>334.40</td>\n",
              "      <td>334.40</td>\n",
              "      <td>334.400000</td>\n",
              "      <td>1.0</td>\n",
              "      <td>2011-02-02 16:01:00</td>\n",
              "      <td>2011-02-02 16:01:00</td>\n",
              "      <td>0</td>\n",
              "      <td>0.000000</td>\n",
              "    </tr>\n",
              "    <tr>\n",
              "      <th>...</th>\n",
              "      <td>...</td>\n",
              "      <td>...</td>\n",
              "      <td>...</td>\n",
              "      <td>...</td>\n",
              "      <td>...</td>\n",
              "      <td>...</td>\n",
              "      <td>...</td>\n",
              "      <td>...</td>\n",
              "      <td>...</td>\n",
              "    </tr>\n",
              "    <tr>\n",
              "      <th>18280.0</th>\n",
              "      <td>180.60</td>\n",
              "      <td>180.60</td>\n",
              "      <td>180.60</td>\n",
              "      <td>180.600000</td>\n",
              "      <td>1.0</td>\n",
              "      <td>2011-03-07 09:52:00</td>\n",
              "      <td>2011-03-07 09:52:00</td>\n",
              "      <td>0</td>\n",
              "      <td>0.000000</td>\n",
              "    </tr>\n",
              "    <tr>\n",
              "      <th>18281.0</th>\n",
              "      <td>80.82</td>\n",
              "      <td>80.82</td>\n",
              "      <td>80.82</td>\n",
              "      <td>80.820000</td>\n",
              "      <td>1.0</td>\n",
              "      <td>2011-06-12 10:53:00</td>\n",
              "      <td>2011-06-12 10:53:00</td>\n",
              "      <td>0</td>\n",
              "      <td>0.000000</td>\n",
              "    </tr>\n",
              "    <tr>\n",
              "      <th>18282.0</th>\n",
              "      <td>100.21</td>\n",
              "      <td>100.21</td>\n",
              "      <td>100.21</td>\n",
              "      <td>100.210000</td>\n",
              "      <td>1.0</td>\n",
              "      <td>2011-08-05 13:35:00</td>\n",
              "      <td>2011-08-05 13:35:00</td>\n",
              "      <td>0</td>\n",
              "      <td>0.000000</td>\n",
              "    </tr>\n",
              "    <tr>\n",
              "      <th>18283.0</th>\n",
              "      <td>1.95</td>\n",
              "      <td>313.65</td>\n",
              "      <td>1886.88</td>\n",
              "      <td>125.792000</td>\n",
              "      <td>15.0</td>\n",
              "      <td>2011-01-06 14:14:00</td>\n",
              "      <td>2011-11-30 12:59:00</td>\n",
              "      <td>327</td>\n",
              "      <td>21.800000</td>\n",
              "    </tr>\n",
              "    <tr>\n",
              "      <th>18287.0</th>\n",
              "      <td>70.68</td>\n",
              "      <td>1001.32</td>\n",
              "      <td>1837.28</td>\n",
              "      <td>612.426667</td>\n",
              "      <td>3.0</td>\n",
              "      <td>2011-05-22 10:39:00</td>\n",
              "      <td>2011-10-28 09:29:00</td>\n",
              "      <td>158</td>\n",
              "      <td>52.666667</td>\n",
              "    </tr>\n",
              "  </tbody>\n",
              "</table>\n",
              "<p>4297 rows × 9 columns</p>\n",
              "</div>"
            ],
            "text/plain": [
              "            sales_min  ...  invoicedate_purchase_frequency\n",
              "CustomerID             ...                                \n",
              "12346.0      77183.60  ...                        0.000000\n",
              "12347.0        382.52  ...                       54.500000\n",
              "12348.0        227.44  ...                       70.500000\n",
              "12349.0       1757.55  ...                        0.000000\n",
              "12350.0        334.40  ...                        0.000000\n",
              "...               ...  ...                             ...\n",
              "18280.0        180.60  ...                        0.000000\n",
              "18281.0         80.82  ...                        0.000000\n",
              "18282.0        100.21  ...                        0.000000\n",
              "18283.0          1.95  ...                       21.800000\n",
              "18287.0         70.68  ...                       52.666667\n",
              "\n",
              "[4297 rows x 9 columns]"
            ]
          },
          "metadata": {},
          "execution_count": 51
        }
      ]
    },
    {
      "cell_type": "code",
      "metadata": {
        "id": "IwjMHrqgvFZR"
      },
      "source": [
        "df_summary = df_summary.loc[df_summary['invoicedate_purchase_duration'] > 0]"
      ],
      "execution_count": 52,
      "outputs": []
    },
    {
      "cell_type": "code",
      "metadata": {
        "colab": {
          "base_uri": "https://localhost:8080/"
        },
        "id": "XIb6UQ8WvJmV",
        "outputId": "8db46dc7-ed5f-4f88-fb96-2f78f6f8cdaf"
      },
      "source": [
        "df_summary.shape"
      ],
      "execution_count": 53,
      "outputs": [
        {
          "output_type": "execute_result",
          "data": {
            "text/plain": [
              "(2692, 9)"
            ]
          },
          "metadata": {},
          "execution_count": 53
        }
      ]
    },
    {
      "cell_type": "code",
      "metadata": {
        "colab": {
          "base_uri": "https://localhost:8080/",
          "height": 547
        },
        "id": "BdMg1r9HvL-O",
        "outputId": "fb6841bc-c691-43e5-8634-2e0cb9cb00e4"
      },
      "source": [
        "# Let's look at the number of purchases\n",
        "ax = df_summary.groupby('sales_count').count()['sales_avg'][:20].plot(\n",
        "        kind='bar', \n",
        "        color='dodgerblue', \n",
        "        figsize=(10,8), \n",
        "        grid=False)\n",
        "plt.xlabel('Sales count', fontsize=14)\n",
        "plt.ylabel('Number of customers', fontsize=14)\n",
        "plt.title('Number of purchases made by repeat customers', fontsize=16)"
      ],
      "execution_count": 54,
      "outputs": [
        {
          "output_type": "execute_result",
          "data": {
            "text/plain": [
              "Text(0.5, 1.0, 'Number of purchases made by repeat customers')"
            ]
          },
          "metadata": {},
          "execution_count": 54
        },
        {
          "output_type": "display_data",
          "data": {
            "image/png": "[encoded data removed]",
            "text/plain": [
              "<Figure size 720x576 with 1 Axes>"
            ]
          },
          "metadata": {
            "needs_background": "light"
          }
        }
      ]
    },
    {
      "cell_type": "markdown",
      "metadata": {
        "id": "I8U6bsuOvVfc"
      },
      "source": [
        "**Average number of days between purchases**"
      ]
    },
    {
      "cell_type": "code",
      "metadata": {
        "colab": {
          "base_uri": "https://localhost:8080/",
          "height": 518
        },
        "id": "Vka7e7mRvPeL",
        "outputId": "3e065c88-a4be-436e-b0cf-68121a20b0fa"
      },
      "source": [
        "ax = df_summary['invoicedate_purchase_frequency'].hist(\n",
        "        bins=20,\n",
        "        color='dodgerblue',\n",
        "        rwidth=0.7,\n",
        "        figsize=(10,8),\n",
        "        grid=False)\n",
        "plt.xlabel('Avearge number of days between purchases', fontsize=14)\n",
        "plt.ylabel('Number of customers', fontsize=14)\n",
        "plt.title('Frequency of purchases made by repeat customers', fontsize=16);"
      ],
      "execution_count": 55,
      "outputs": [
        {
          "output_type": "display_data",
          "data": {
            "image/png": "[encoded data removed]",
            "text/plain": [
              "<Figure size 720x576 with 1 Axes>"
            ]
          },
          "metadata": {
            "needs_background": "light"
          }
        }
      ]
    },
    {
      "cell_type": "markdown",
      "metadata": {
        "id": "oYJ4FlqKwy61"
      },
      "source": [
        "**Predict 3-month CLTV**"
      ]
    },
    {
      "cell_type": "code",
      "metadata": {
        "id": "hVw7SV-kvZCF"
      },
      "source": [
        "clv_freq = '3M'"
      ],
      "execution_count": 56,
      "outputs": []
    },
    {
      "cell_type": "code",
      "metadata": {
        "id": "Up0eiyS_w3yL"
      },
      "source": [
        "df_data = df_orders.reset_index().groupby([\n",
        "            'CustomerID',\n",
        "            pd.Grouper(key='InvoiceDate', freq=clv_freq)\n",
        "            ]).agg({'Sales': [sum, groupby_mean, groupby_count],})"
      ],
      "execution_count": 57,
      "outputs": []
    },
    {
      "cell_type": "code",
      "metadata": {
        "id": "D37saQ1rw7bO"
      },
      "source": [
        "df_data.columns = ['_'.join(col).lower() for col in df_data.columns]"
      ],
      "execution_count": 58,
      "outputs": []
    },
    {
      "cell_type": "code",
      "metadata": {
        "id": "5STXYGlgw99s"
      },
      "source": [
        "df_data = df_data.reset_index()"
      ],
      "execution_count": 59,
      "outputs": []
    },
    {
      "cell_type": "code",
      "metadata": {
        "colab": {
          "base_uri": "https://localhost:8080/",
          "height": 200
        },
        "id": "txQbx9_YxAO-",
        "outputId": "919b17f6-194c-4700-bb4e-6a6ac16a21a2"
      },
      "source": [
        "df_data.head()"
      ],
      "execution_count": 60,
      "outputs": [
        {
          "output_type": "execute_result",
          "data": {
            "text/html": [
              "<div>\n",
              "<style scoped>\n",
              "    .dataframe tbody tr th:only-of-type {\n",
              "        vertical-align: middle;\n",
              "    }\n",
              "\n",
              "    .dataframe tbody tr th {\n",
              "        vertical-align: top;\n",
              "    }\n",
              "\n",
              "    .dataframe thead th {\n",
              "        text-align: right;\n",
              "    }\n",
              "</style>\n",
              "<table border=\"1\" class=\"dataframe\">\n",
              "  <thead>\n",
              "    <tr style=\"text-align: right;\">\n",
              "      <th></th>\n",
              "      <th>CustomerID</th>\n",
              "      <th>InvoiceDate</th>\n",
              "      <th>sales_sum</th>\n",
              "      <th>sales_avg</th>\n",
              "      <th>sales_count</th>\n",
              "    </tr>\n",
              "  </thead>\n",
              "  <tbody>\n",
              "    <tr>\n",
              "      <th>0</th>\n",
              "      <td>12346.0</td>\n",
              "      <td>2011-03-31</td>\n",
              "      <td>77183.60</td>\n",
              "      <td>77183.600</td>\n",
              "      <td>1.0</td>\n",
              "    </tr>\n",
              "    <tr>\n",
              "      <th>1</th>\n",
              "      <td>12347.0</td>\n",
              "      <td>2010-12-31</td>\n",
              "      <td>711.79</td>\n",
              "      <td>711.790</td>\n",
              "      <td>1.0</td>\n",
              "    </tr>\n",
              "    <tr>\n",
              "      <th>2</th>\n",
              "      <td>12347.0</td>\n",
              "      <td>2011-03-31</td>\n",
              "      <td>475.39</td>\n",
              "      <td>475.390</td>\n",
              "      <td>1.0</td>\n",
              "    </tr>\n",
              "    <tr>\n",
              "      <th>3</th>\n",
              "      <td>12347.0</td>\n",
              "      <td>2011-06-30</td>\n",
              "      <td>1018.77</td>\n",
              "      <td>509.385</td>\n",
              "      <td>2.0</td>\n",
              "    </tr>\n",
              "    <tr>\n",
              "      <th>4</th>\n",
              "      <td>12347.0</td>\n",
              "      <td>2011-09-30</td>\n",
              "      <td>584.91</td>\n",
              "      <td>584.910</td>\n",
              "      <td>1.0</td>\n",
              "    </tr>\n",
              "  </tbody>\n",
              "</table>\n",
              "</div>"
            ],
            "text/plain": [
              "   CustomerID InvoiceDate  sales_sum  sales_avg  sales_count\n",
              "0     12346.0  2011-03-31   77183.60  77183.600          1.0\n",
              "1     12347.0  2010-12-31     711.79    711.790          1.0\n",
              "2     12347.0  2011-03-31     475.39    475.390          1.0\n",
              "3     12347.0  2011-06-30    1018.77    509.385          2.0\n",
              "4     12347.0  2011-09-30     584.91    584.910          1.0"
            ]
          },
          "metadata": {},
          "execution_count": 60
        }
      ]
    },
    {
      "cell_type": "code",
      "metadata": {
        "colab": {
          "base_uri": "https://localhost:8080/"
        },
        "id": "MPX7bno3xDGj",
        "outputId": "60c22e0a-a37e-431c-abf1-f82d09755ebc"
      },
      "source": [
        "df_data.info()"
      ],
      "execution_count": 61,
      "outputs": [
        {
          "output_type": "stream",
          "name": "stdout",
          "text": [
            "<class 'pandas.core.frame.DataFrame'>\n",
            "RangeIndex: 9219 entries, 0 to 9218\n",
            "Data columns (total 5 columns):\n",
            " #   Column       Non-Null Count  Dtype         \n",
            "---  ------       --------------  -----         \n",
            " 0   CustomerID   9219 non-null   float64       \n",
            " 1   InvoiceDate  9219 non-null   datetime64[ns]\n",
            " 2   sales_sum    9219 non-null   float64       \n",
            " 3   sales_avg    9219 non-null   float64       \n",
            " 4   sales_count  9219 non-null   float64       \n",
            "dtypes: datetime64[ns](1), float64(4)\n",
            "memory usage: 360.2 KB\n"
          ]
        }
      ]
    },
    {
      "cell_type": "code",
      "metadata": {
        "id": "sVv-7FnGxHYj"
      },
      "source": [
        "map_date_month = {str(x)[:10]: 'M_%s' % (i+1) for i, x in enumerate(\n",
        "                    sorted(df_data.reset_index()['InvoiceDate'].unique(), reverse=True))}"
      ],
      "execution_count": 62,
      "outputs": []
    },
    {
      "cell_type": "code",
      "metadata": {
        "colab": {
          "base_uri": "https://localhost:8080/"
        },
        "id": "WHXjVH0vxKXg",
        "outputId": "337aa352-648b-4c8c-f479-b10ee9782ff3"
      },
      "source": [
        "map_date_month"
      ],
      "execution_count": 63,
      "outputs": [
        {
          "output_type": "execute_result",
          "data": {
            "text/plain": [
              "{'2010-12-31': 'M_5',\n",
              " '2011-03-31': 'M_4',\n",
              " '2011-06-30': 'M_3',\n",
              " '2011-09-30': 'M_2',\n",
              " '2011-12-31': 'M_1'}"
            ]
          },
          "metadata": {},
          "execution_count": 63
        }
      ]
    },
    {
      "cell_type": "code",
      "metadata": {
        "id": "zSFU5pi6xQta"
      },
      "source": [
        "df_data['M'] = df_data['InvoiceDate'].apply(lambda x: map_date_month[str(x)[:10]])"
      ],
      "execution_count": 64,
      "outputs": []
    },
    {
      "cell_type": "code",
      "metadata": {
        "colab": {
          "base_uri": "https://localhost:8080/",
          "height": 200
        },
        "id": "33l7qqdoxTov",
        "outputId": "079cb4bf-b395-4afe-d629-268d6bacf290"
      },
      "source": [
        "df_data.head()"
      ],
      "execution_count": 65,
      "outputs": [
        {
          "output_type": "execute_result",
          "data": {
            "text/html": [
              "<div>\n",
              "<style scoped>\n",
              "    .dataframe tbody tr th:only-of-type {\n",
              "        vertical-align: middle;\n",
              "    }\n",
              "\n",
              "    .dataframe tbody tr th {\n",
              "        vertical-align: top;\n",
              "    }\n",
              "\n",
              "    .dataframe thead th {\n",
              "        text-align: right;\n",
              "    }\n",
              "</style>\n",
              "<table border=\"1\" class=\"dataframe\">\n",
              "  <thead>\n",
              "    <tr style=\"text-align: right;\">\n",
              "      <th></th>\n",
              "      <th>CustomerID</th>\n",
              "      <th>InvoiceDate</th>\n",
              "      <th>sales_sum</th>\n",
              "      <th>sales_avg</th>\n",
              "      <th>sales_count</th>\n",
              "      <th>M</th>\n",
              "    </tr>\n",
              "  </thead>\n",
              "  <tbody>\n",
              "    <tr>\n",
              "      <th>0</th>\n",
              "      <td>12346.0</td>\n",
              "      <td>2011-03-31</td>\n",
              "      <td>77183.60</td>\n",
              "      <td>77183.600</td>\n",
              "      <td>1.0</td>\n",
              "      <td>M_4</td>\n",
              "    </tr>\n",
              "    <tr>\n",
              "      <th>1</th>\n",
              "      <td>12347.0</td>\n",
              "      <td>2010-12-31</td>\n",
              "      <td>711.79</td>\n",
              "      <td>711.790</td>\n",
              "      <td>1.0</td>\n",
              "      <td>M_5</td>\n",
              "    </tr>\n",
              "    <tr>\n",
              "      <th>2</th>\n",
              "      <td>12347.0</td>\n",
              "      <td>2011-03-31</td>\n",
              "      <td>475.39</td>\n",
              "      <td>475.390</td>\n",
              "      <td>1.0</td>\n",
              "      <td>M_4</td>\n",
              "    </tr>\n",
              "    <tr>\n",
              "      <th>3</th>\n",
              "      <td>12347.0</td>\n",
              "      <td>2011-06-30</td>\n",
              "      <td>1018.77</td>\n",
              "      <td>509.385</td>\n",
              "      <td>2.0</td>\n",
              "      <td>M_3</td>\n",
              "    </tr>\n",
              "    <tr>\n",
              "      <th>4</th>\n",
              "      <td>12347.0</td>\n",
              "      <td>2011-09-30</td>\n",
              "      <td>584.91</td>\n",
              "      <td>584.910</td>\n",
              "      <td>1.0</td>\n",
              "      <td>M_2</td>\n",
              "    </tr>\n",
              "  </tbody>\n",
              "</table>\n",
              "</div>"
            ],
            "text/plain": [
              "   CustomerID InvoiceDate  sales_sum  sales_avg  sales_count    M\n",
              "0     12346.0  2011-03-31   77183.60  77183.600          1.0  M_4\n",
              "1     12347.0  2010-12-31     711.79    711.790          1.0  M_5\n",
              "2     12347.0  2011-03-31     475.39    475.390          1.0  M_4\n",
              "3     12347.0  2011-06-30    1018.77    509.385          2.0  M_3\n",
              "4     12347.0  2011-09-30     584.91    584.910          1.0  M_2"
            ]
          },
          "metadata": {},
          "execution_count": 65
        }
      ]
    },
    {
      "cell_type": "code",
      "metadata": {
        "colab": {
          "base_uri": "https://localhost:8080/"
        },
        "id": "Ql22BULExV_U",
        "outputId": "a91c2189-4257-4718-82b0-37ee5c248292"
      },
      "source": [
        "# Number of purchases made in each chunk\n",
        "df_data['M'].value_counts()"
      ],
      "execution_count": 66,
      "outputs": [
        {
          "output_type": "execute_result",
          "data": {
            "text/plain": [
              "M_1    2406\n",
              "M_2    2161\n",
              "M_3    1991\n",
              "M_4    1776\n",
              "M_5     885\n",
              "Name: M, dtype: int64"
            ]
          },
          "metadata": {},
          "execution_count": 66
        }
      ]
    },
    {
      "cell_type": "code",
      "metadata": {
        "id": "mTx9mSgnxZ21"
      },
      "source": [
        "df_features = pd.pivot_table(\n",
        "                df_data.loc[df_data['M'] != 'M_1'], \n",
        "                values=['sales_sum', 'sales_avg', 'sales_count'], \n",
        "                columns='M', \n",
        "                index='CustomerID')"
      ],
      "execution_count": 67,
      "outputs": []
    },
    {
      "cell_type": "code",
      "metadata": {
        "colab": {
          "base_uri": "https://localhost:8080/",
          "height": 440
        },
        "id": "3VBQiK7IxceT",
        "outputId": "4a3c9df4-e0c5-4061-ec4d-9597ba38ec26"
      },
      "source": [
        "df_features.reset_index()"
      ],
      "execution_count": 68,
      "outputs": [
        {
          "output_type": "execute_result",
          "data": {
            "text/html": [
              "<div>\n",
              "<style scoped>\n",
              "    .dataframe tbody tr th:only-of-type {\n",
              "        vertical-align: middle;\n",
              "    }\n",
              "\n",
              "    .dataframe tbody tr th {\n",
              "        vertical-align: top;\n",
              "    }\n",
              "\n",
              "    .dataframe thead tr th {\n",
              "        text-align: left;\n",
              "    }\n",
              "</style>\n",
              "<table border=\"1\" class=\"dataframe\">\n",
              "  <thead>\n",
              "    <tr>\n",
              "      <th></th>\n",
              "      <th>CustomerID</th>\n",
              "      <th colspan=\"4\" halign=\"left\">sales_avg</th>\n",
              "      <th colspan=\"4\" halign=\"left\">sales_count</th>\n",
              "      <th colspan=\"4\" halign=\"left\">sales_sum</th>\n",
              "    </tr>\n",
              "    <tr>\n",
              "      <th>M</th>\n",
              "      <th></th>\n",
              "      <th>M_2</th>\n",
              "      <th>M_3</th>\n",
              "      <th>M_4</th>\n",
              "      <th>M_5</th>\n",
              "      <th>M_2</th>\n",
              "      <th>M_3</th>\n",
              "      <th>M_4</th>\n",
              "      <th>M_5</th>\n",
              "      <th>M_2</th>\n",
              "      <th>M_3</th>\n",
              "      <th>M_4</th>\n",
              "      <th>M_5</th>\n",
              "    </tr>\n",
              "  </thead>\n",
              "  <tbody>\n",
              "    <tr>\n",
              "      <th>0</th>\n",
              "      <td>12346.0</td>\n",
              "      <td>NaN</td>\n",
              "      <td>NaN</td>\n",
              "      <td>77183.600000</td>\n",
              "      <td>NaN</td>\n",
              "      <td>NaN</td>\n",
              "      <td>NaN</td>\n",
              "      <td>1.0</td>\n",
              "      <td>NaN</td>\n",
              "      <td>NaN</td>\n",
              "      <td>NaN</td>\n",
              "      <td>77183.60</td>\n",
              "      <td>NaN</td>\n",
              "    </tr>\n",
              "    <tr>\n",
              "      <th>1</th>\n",
              "      <td>12347.0</td>\n",
              "      <td>584.910000</td>\n",
              "      <td>509.385</td>\n",
              "      <td>475.390000</td>\n",
              "      <td>711.79</td>\n",
              "      <td>1.0</td>\n",
              "      <td>2.0</td>\n",
              "      <td>1.0</td>\n",
              "      <td>1.0</td>\n",
              "      <td>584.91</td>\n",
              "      <td>1018.77</td>\n",
              "      <td>475.39</td>\n",
              "      <td>711.79</td>\n",
              "    </tr>\n",
              "    <tr>\n",
              "      <th>2</th>\n",
              "      <td>12348.0</td>\n",
              "      <td>310.000000</td>\n",
              "      <td>367.000</td>\n",
              "      <td>227.440000</td>\n",
              "      <td>892.80</td>\n",
              "      <td>1.0</td>\n",
              "      <td>1.0</td>\n",
              "      <td>1.0</td>\n",
              "      <td>1.0</td>\n",
              "      <td>310.00</td>\n",
              "      <td>367.00</td>\n",
              "      <td>227.44</td>\n",
              "      <td>892.80</td>\n",
              "    </tr>\n",
              "    <tr>\n",
              "      <th>3</th>\n",
              "      <td>12350.0</td>\n",
              "      <td>NaN</td>\n",
              "      <td>NaN</td>\n",
              "      <td>334.400000</td>\n",
              "      <td>NaN</td>\n",
              "      <td>NaN</td>\n",
              "      <td>NaN</td>\n",
              "      <td>1.0</td>\n",
              "      <td>NaN</td>\n",
              "      <td>NaN</td>\n",
              "      <td>NaN</td>\n",
              "      <td>334.40</td>\n",
              "      <td>NaN</td>\n",
              "    </tr>\n",
              "    <tr>\n",
              "      <th>4</th>\n",
              "      <td>12352.0</td>\n",
              "      <td>316.250000</td>\n",
              "      <td>NaN</td>\n",
              "      <td>312.362000</td>\n",
              "      <td>NaN</td>\n",
              "      <td>2.0</td>\n",
              "      <td>NaN</td>\n",
              "      <td>5.0</td>\n",
              "      <td>NaN</td>\n",
              "      <td>632.50</td>\n",
              "      <td>NaN</td>\n",
              "      <td>1561.81</td>\n",
              "      <td>NaN</td>\n",
              "    </tr>\n",
              "    <tr>\n",
              "      <th>...</th>\n",
              "      <td>...</td>\n",
              "      <td>...</td>\n",
              "      <td>...</td>\n",
              "      <td>...</td>\n",
              "      <td>...</td>\n",
              "      <td>...</td>\n",
              "      <td>...</td>\n",
              "      <td>...</td>\n",
              "      <td>...</td>\n",
              "      <td>...</td>\n",
              "      <td>...</td>\n",
              "      <td>...</td>\n",
              "      <td>...</td>\n",
              "    </tr>\n",
              "    <tr>\n",
              "      <th>3611</th>\n",
              "      <td>18280.0</td>\n",
              "      <td>NaN</td>\n",
              "      <td>NaN</td>\n",
              "      <td>180.600000</td>\n",
              "      <td>NaN</td>\n",
              "      <td>NaN</td>\n",
              "      <td>NaN</td>\n",
              "      <td>1.0</td>\n",
              "      <td>NaN</td>\n",
              "      <td>NaN</td>\n",
              "      <td>NaN</td>\n",
              "      <td>180.60</td>\n",
              "      <td>NaN</td>\n",
              "    </tr>\n",
              "    <tr>\n",
              "      <th>3612</th>\n",
              "      <td>18281.0</td>\n",
              "      <td>NaN</td>\n",
              "      <td>80.820</td>\n",
              "      <td>NaN</td>\n",
              "      <td>NaN</td>\n",
              "      <td>NaN</td>\n",
              "      <td>1.0</td>\n",
              "      <td>NaN</td>\n",
              "      <td>NaN</td>\n",
              "      <td>NaN</td>\n",
              "      <td>80.82</td>\n",
              "      <td>NaN</td>\n",
              "      <td>NaN</td>\n",
              "    </tr>\n",
              "    <tr>\n",
              "      <th>3613</th>\n",
              "      <td>18282.0</td>\n",
              "      <td>100.210000</td>\n",
              "      <td>NaN</td>\n",
              "      <td>NaN</td>\n",
              "      <td>NaN</td>\n",
              "      <td>1.0</td>\n",
              "      <td>NaN</td>\n",
              "      <td>NaN</td>\n",
              "      <td>NaN</td>\n",
              "      <td>100.21</td>\n",
              "      <td>NaN</td>\n",
              "      <td>NaN</td>\n",
              "      <td>NaN</td>\n",
              "    </tr>\n",
              "    <tr>\n",
              "      <th>3614</th>\n",
              "      <td>18283.0</td>\n",
              "      <td>92.696667</td>\n",
              "      <td>131.170</td>\n",
              "      <td>105.966667</td>\n",
              "      <td>NaN</td>\n",
              "      <td>3.0</td>\n",
              "      <td>4.0</td>\n",
              "      <td>3.0</td>\n",
              "      <td>NaN</td>\n",
              "      <td>278.09</td>\n",
              "      <td>524.68</td>\n",
              "      <td>317.90</td>\n",
              "      <td>NaN</td>\n",
              "    </tr>\n",
              "    <tr>\n",
              "      <th>3615</th>\n",
              "      <td>18287.0</td>\n",
              "      <td>NaN</td>\n",
              "      <td>765.280</td>\n",
              "      <td>NaN</td>\n",
              "      <td>NaN</td>\n",
              "      <td>NaN</td>\n",
              "      <td>1.0</td>\n",
              "      <td>NaN</td>\n",
              "      <td>NaN</td>\n",
              "      <td>NaN</td>\n",
              "      <td>765.28</td>\n",
              "      <td>NaN</td>\n",
              "      <td>NaN</td>\n",
              "    </tr>\n",
              "  </tbody>\n",
              "</table>\n",
              "<p>3616 rows × 13 columns</p>\n",
              "</div>"
            ],
            "text/plain": [
              "     CustomerID   sales_avg           ... sales_sum                  \n",
              "M                       M_2      M_3  ...       M_3       M_4     M_5\n",
              "0       12346.0         NaN      NaN  ...       NaN  77183.60     NaN\n",
              "1       12347.0  584.910000  509.385  ...   1018.77    475.39  711.79\n",
              "2       12348.0  310.000000  367.000  ...    367.00    227.44  892.80\n",
              "3       12350.0         NaN      NaN  ...       NaN    334.40     NaN\n",
              "4       12352.0  316.250000      NaN  ...       NaN   1561.81     NaN\n",
              "...         ...         ...      ...  ...       ...       ...     ...\n",
              "3611    18280.0         NaN      NaN  ...       NaN    180.60     NaN\n",
              "3612    18281.0         NaN   80.820  ...     80.82       NaN     NaN\n",
              "3613    18282.0  100.210000      NaN  ...       NaN       NaN     NaN\n",
              "3614    18283.0   92.696667  131.170  ...    524.68    317.90     NaN\n",
              "3615    18287.0         NaN  765.280  ...    765.28       NaN     NaN\n",
              "\n",
              "[3616 rows x 13 columns]"
            ]
          },
          "metadata": {},
          "execution_count": 68
        }
      ]
    },
    {
      "cell_type": "code",
      "metadata": {
        "id": "6RvW0s64xffz"
      },
      "source": [
        "df_features.columns = ['_'.join(col) for col in df_features.columns]"
      ],
      "execution_count": 69,
      "outputs": []
    },
    {
      "cell_type": "code",
      "metadata": {
        "colab": {
          "base_uri": "https://localhost:8080/",
          "height": 230
        },
        "id": "mDNn1ZfVxjkc",
        "outputId": "2f56d36d-313e-447c-a4a6-72588cb1a272"
      },
      "source": [
        "df_features.head()"
      ],
      "execution_count": 70,
      "outputs": [
        {
          "output_type": "execute_result",
          "data": {
            "text/html": [
              "<div>\n",
              "<style scoped>\n",
              "    .dataframe tbody tr th:only-of-type {\n",
              "        vertical-align: middle;\n",
              "    }\n",
              "\n",
              "    .dataframe tbody tr th {\n",
              "        vertical-align: top;\n",
              "    }\n",
              "\n",
              "    .dataframe thead th {\n",
              "        text-align: right;\n",
              "    }\n",
              "</style>\n",
              "<table border=\"1\" class=\"dataframe\">\n",
              "  <thead>\n",
              "    <tr style=\"text-align: right;\">\n",
              "      <th></th>\n",
              "      <th>sales_avg_M_2</th>\n",
              "      <th>sales_avg_M_3</th>\n",
              "      <th>sales_avg_M_4</th>\n",
              "      <th>sales_avg_M_5</th>\n",
              "      <th>sales_count_M_2</th>\n",
              "      <th>sales_count_M_3</th>\n",
              "      <th>sales_count_M_4</th>\n",
              "      <th>sales_count_M_5</th>\n",
              "      <th>sales_sum_M_2</th>\n",
              "      <th>sales_sum_M_3</th>\n",
              "      <th>sales_sum_M_4</th>\n",
              "      <th>sales_sum_M_5</th>\n",
              "    </tr>\n",
              "    <tr>\n",
              "      <th>CustomerID</th>\n",
              "      <th></th>\n",
              "      <th></th>\n",
              "      <th></th>\n",
              "      <th></th>\n",
              "      <th></th>\n",
              "      <th></th>\n",
              "      <th></th>\n",
              "      <th></th>\n",
              "      <th></th>\n",
              "      <th></th>\n",
              "      <th></th>\n",
              "      <th></th>\n",
              "    </tr>\n",
              "  </thead>\n",
              "  <tbody>\n",
              "    <tr>\n",
              "      <th>12346.0</th>\n",
              "      <td>NaN</td>\n",
              "      <td>NaN</td>\n",
              "      <td>77183.600</td>\n",
              "      <td>NaN</td>\n",
              "      <td>NaN</td>\n",
              "      <td>NaN</td>\n",
              "      <td>1.0</td>\n",
              "      <td>NaN</td>\n",
              "      <td>NaN</td>\n",
              "      <td>NaN</td>\n",
              "      <td>77183.60</td>\n",
              "      <td>NaN</td>\n",
              "    </tr>\n",
              "    <tr>\n",
              "      <th>12347.0</th>\n",
              "      <td>584.91</td>\n",
              "      <td>509.385</td>\n",
              "      <td>475.390</td>\n",
              "      <td>711.79</td>\n",
              "      <td>1.0</td>\n",
              "      <td>2.0</td>\n",
              "      <td>1.0</td>\n",
              "      <td>1.0</td>\n",
              "      <td>584.91</td>\n",
              "      <td>1018.77</td>\n",
              "      <td>475.39</td>\n",
              "      <td>711.79</td>\n",
              "    </tr>\n",
              "    <tr>\n",
              "      <th>12348.0</th>\n",
              "      <td>310.00</td>\n",
              "      <td>367.000</td>\n",
              "      <td>227.440</td>\n",
              "      <td>892.80</td>\n",
              "      <td>1.0</td>\n",
              "      <td>1.0</td>\n",
              "      <td>1.0</td>\n",
              "      <td>1.0</td>\n",
              "      <td>310.00</td>\n",
              "      <td>367.00</td>\n",
              "      <td>227.44</td>\n",
              "      <td>892.80</td>\n",
              "    </tr>\n",
              "    <tr>\n",
              "      <th>12350.0</th>\n",
              "      <td>NaN</td>\n",
              "      <td>NaN</td>\n",
              "      <td>334.400</td>\n",
              "      <td>NaN</td>\n",
              "      <td>NaN</td>\n",
              "      <td>NaN</td>\n",
              "      <td>1.0</td>\n",
              "      <td>NaN</td>\n",
              "      <td>NaN</td>\n",
              "      <td>NaN</td>\n",
              "      <td>334.40</td>\n",
              "      <td>NaN</td>\n",
              "    </tr>\n",
              "    <tr>\n",
              "      <th>12352.0</th>\n",
              "      <td>316.25</td>\n",
              "      <td>NaN</td>\n",
              "      <td>312.362</td>\n",
              "      <td>NaN</td>\n",
              "      <td>2.0</td>\n",
              "      <td>NaN</td>\n",
              "      <td>5.0</td>\n",
              "      <td>NaN</td>\n",
              "      <td>632.50</td>\n",
              "      <td>NaN</td>\n",
              "      <td>1561.81</td>\n",
              "      <td>NaN</td>\n",
              "    </tr>\n",
              "  </tbody>\n",
              "</table>\n",
              "</div>"
            ],
            "text/plain": [
              "            sales_avg_M_2  sales_avg_M_3  ...  sales_sum_M_4  sales_sum_M_5\n",
              "CustomerID                                ...                              \n",
              "12346.0               NaN            NaN  ...       77183.60            NaN\n",
              "12347.0            584.91        509.385  ...         475.39         711.79\n",
              "12348.0            310.00        367.000  ...         227.44         892.80\n",
              "12350.0               NaN            NaN  ...         334.40            NaN\n",
              "12352.0            316.25            NaN  ...        1561.81            NaN\n",
              "\n",
              "[5 rows x 12 columns]"
            ]
          },
          "metadata": {},
          "execution_count": 70
        }
      ]
    },
    {
      "cell_type": "code",
      "metadata": {
        "id": "fV_x6HBexnyw"
      },
      "source": [
        "df_features.reset_index(level=0, inplace=True)"
      ],
      "execution_count": 71,
      "outputs": []
    },
    {
      "cell_type": "code",
      "metadata": {
        "colab": {
          "base_uri": "https://localhost:8080/",
          "height": 200
        },
        "id": "uAUPvfQoxsny",
        "outputId": "09ab84eb-8e94-4df3-fd4c-1267bc3bf1d2"
      },
      "source": [
        "df_features.head()"
      ],
      "execution_count": 72,
      "outputs": [
        {
          "output_type": "execute_result",
          "data": {
            "text/html": [
              "<div>\n",
              "<style scoped>\n",
              "    .dataframe tbody tr th:only-of-type {\n",
              "        vertical-align: middle;\n",
              "    }\n",
              "\n",
              "    .dataframe tbody tr th {\n",
              "        vertical-align: top;\n",
              "    }\n",
              "\n",
              "    .dataframe thead th {\n",
              "        text-align: right;\n",
              "    }\n",
              "</style>\n",
              "<table border=\"1\" class=\"dataframe\">\n",
              "  <thead>\n",
              "    <tr style=\"text-align: right;\">\n",
              "      <th></th>\n",
              "      <th>CustomerID</th>\n",
              "      <th>sales_avg_M_2</th>\n",
              "      <th>sales_avg_M_3</th>\n",
              "      <th>sales_avg_M_4</th>\n",
              "      <th>sales_avg_M_5</th>\n",
              "      <th>sales_count_M_2</th>\n",
              "      <th>sales_count_M_3</th>\n",
              "      <th>sales_count_M_4</th>\n",
              "      <th>sales_count_M_5</th>\n",
              "      <th>sales_sum_M_2</th>\n",
              "      <th>sales_sum_M_3</th>\n",
              "      <th>sales_sum_M_4</th>\n",
              "      <th>sales_sum_M_5</th>\n",
              "    </tr>\n",
              "  </thead>\n",
              "  <tbody>\n",
              "    <tr>\n",
              "      <th>0</th>\n",
              "      <td>12346.0</td>\n",
              "      <td>NaN</td>\n",
              "      <td>NaN</td>\n",
              "      <td>77183.600</td>\n",
              "      <td>NaN</td>\n",
              "      <td>NaN</td>\n",
              "      <td>NaN</td>\n",
              "      <td>1.0</td>\n",
              "      <td>NaN</td>\n",
              "      <td>NaN</td>\n",
              "      <td>NaN</td>\n",
              "      <td>77183.60</td>\n",
              "      <td>NaN</td>\n",
              "    </tr>\n",
              "    <tr>\n",
              "      <th>1</th>\n",
              "      <td>12347.0</td>\n",
              "      <td>584.91</td>\n",
              "      <td>509.385</td>\n",
              "      <td>475.390</td>\n",
              "      <td>711.79</td>\n",
              "      <td>1.0</td>\n",
              "      <td>2.0</td>\n",
              "      <td>1.0</td>\n",
              "      <td>1.0</td>\n",
              "      <td>584.91</td>\n",
              "      <td>1018.77</td>\n",
              "      <td>475.39</td>\n",
              "      <td>711.79</td>\n",
              "    </tr>\n",
              "    <tr>\n",
              "      <th>2</th>\n",
              "      <td>12348.0</td>\n",
              "      <td>310.00</td>\n",
              "      <td>367.000</td>\n",
              "      <td>227.440</td>\n",
              "      <td>892.80</td>\n",
              "      <td>1.0</td>\n",
              "      <td>1.0</td>\n",
              "      <td>1.0</td>\n",
              "      <td>1.0</td>\n",
              "      <td>310.00</td>\n",
              "      <td>367.00</td>\n",
              "      <td>227.44</td>\n",
              "      <td>892.80</td>\n",
              "    </tr>\n",
              "    <tr>\n",
              "      <th>3</th>\n",
              "      <td>12350.0</td>\n",
              "      <td>NaN</td>\n",
              "      <td>NaN</td>\n",
              "      <td>334.400</td>\n",
              "      <td>NaN</td>\n",
              "      <td>NaN</td>\n",
              "      <td>NaN</td>\n",
              "      <td>1.0</td>\n",
              "      <td>NaN</td>\n",
              "      <td>NaN</td>\n",
              "      <td>NaN</td>\n",
              "      <td>334.40</td>\n",
              "      <td>NaN</td>\n",
              "    </tr>\n",
              "    <tr>\n",
              "      <th>4</th>\n",
              "      <td>12352.0</td>\n",
              "      <td>316.25</td>\n",
              "      <td>NaN</td>\n",
              "      <td>312.362</td>\n",
              "      <td>NaN</td>\n",
              "      <td>2.0</td>\n",
              "      <td>NaN</td>\n",
              "      <td>5.0</td>\n",
              "      <td>NaN</td>\n",
              "      <td>632.50</td>\n",
              "      <td>NaN</td>\n",
              "      <td>1561.81</td>\n",
              "      <td>NaN</td>\n",
              "    </tr>\n",
              "  </tbody>\n",
              "</table>\n",
              "</div>"
            ],
            "text/plain": [
              "   CustomerID  sales_avg_M_2  ...  sales_sum_M_4  sales_sum_M_5\n",
              "0     12346.0            NaN  ...       77183.60            NaN\n",
              "1     12347.0         584.91  ...         475.39         711.79\n",
              "2     12348.0         310.00  ...         227.44         892.80\n",
              "3     12350.0            NaN  ...         334.40            NaN\n",
              "4     12352.0         316.25  ...        1561.81            NaN\n",
              "\n",
              "[5 rows x 13 columns]"
            ]
          },
          "metadata": {},
          "execution_count": 72
        }
      ]
    },
    {
      "cell_type": "code",
      "metadata": {
        "id": "7e888PqDxxvG"
      },
      "source": [
        "df_features.fillna(0, inplace=True)"
      ],
      "execution_count": 73,
      "outputs": []
    },
    {
      "cell_type": "code",
      "metadata": {
        "colab": {
          "base_uri": "https://localhost:8080/"
        },
        "id": "vDG2-ckZx1ZO",
        "outputId": "76dcaf86-2818-4c74-8195-7aff89ae49df"
      },
      "source": [
        "# Let's check the Null values\n",
        "df_features.isnull().sum().sum()"
      ],
      "execution_count": 74,
      "outputs": [
        {
          "output_type": "execute_result",
          "data": {
            "text/plain": [
              "0"
            ]
          },
          "metadata": {},
          "execution_count": 74
        }
      ]
    },
    {
      "cell_type": "code",
      "metadata": {
        "colab": {
          "base_uri": "https://localhost:8080/"
        },
        "id": "7sWXu3MDx30C",
        "outputId": "de33d858-7c9b-47c2-9470-ece700a64144"
      },
      "source": [
        "df_features.info()"
      ],
      "execution_count": 75,
      "outputs": [
        {
          "output_type": "stream",
          "name": "stdout",
          "text": [
            "<class 'pandas.core.frame.DataFrame'>\n",
            "RangeIndex: 3616 entries, 0 to 3615\n",
            "Data columns (total 13 columns):\n",
            " #   Column           Non-Null Count  Dtype  \n",
            "---  ------           --------------  -----  \n",
            " 0   CustomerID       3616 non-null   float64\n",
            " 1   sales_avg_M_2    3616 non-null   float64\n",
            " 2   sales_avg_M_3    3616 non-null   float64\n",
            " 3   sales_avg_M_4    3616 non-null   float64\n",
            " 4   sales_avg_M_5    3616 non-null   float64\n",
            " 5   sales_count_M_2  3616 non-null   float64\n",
            " 6   sales_count_M_3  3616 non-null   float64\n",
            " 7   sales_count_M_4  3616 non-null   float64\n",
            " 8   sales_count_M_5  3616 non-null   float64\n",
            " 9   sales_sum_M_2    3616 non-null   float64\n",
            " 10  sales_sum_M_3    3616 non-null   float64\n",
            " 11  sales_sum_M_4    3616 non-null   float64\n",
            " 12  sales_sum_M_5    3616 non-null   float64\n",
            "dtypes: float64(13)\n",
            "memory usage: 367.4 KB\n"
          ]
        }
      ]
    },
    {
      "cell_type": "code",
      "metadata": {
        "colab": {
          "base_uri": "https://localhost:8080/",
          "height": 200
        },
        "id": "SW7LABmMx8_y",
        "outputId": "c8532046-2285-475c-d6c2-01071f2f011d"
      },
      "source": [
        "df_features.head()"
      ],
      "execution_count": 76,
      "outputs": [
        {
          "output_type": "execute_result",
          "data": {
            "text/html": [
              "<div>\n",
              "<style scoped>\n",
              "    .dataframe tbody tr th:only-of-type {\n",
              "        vertical-align: middle;\n",
              "    }\n",
              "\n",
              "    .dataframe tbody tr th {\n",
              "        vertical-align: top;\n",
              "    }\n",
              "\n",
              "    .dataframe thead th {\n",
              "        text-align: right;\n",
              "    }\n",
              "</style>\n",
              "<table border=\"1\" class=\"dataframe\">\n",
              "  <thead>\n",
              "    <tr style=\"text-align: right;\">\n",
              "      <th></th>\n",
              "      <th>CustomerID</th>\n",
              "      <th>sales_avg_M_2</th>\n",
              "      <th>sales_avg_M_3</th>\n",
              "      <th>sales_avg_M_4</th>\n",
              "      <th>sales_avg_M_5</th>\n",
              "      <th>sales_count_M_2</th>\n",
              "      <th>sales_count_M_3</th>\n",
              "      <th>sales_count_M_4</th>\n",
              "      <th>sales_count_M_5</th>\n",
              "      <th>sales_sum_M_2</th>\n",
              "      <th>sales_sum_M_3</th>\n",
              "      <th>sales_sum_M_4</th>\n",
              "      <th>sales_sum_M_5</th>\n",
              "    </tr>\n",
              "  </thead>\n",
              "  <tbody>\n",
              "    <tr>\n",
              "      <th>0</th>\n",
              "      <td>12346.0</td>\n",
              "      <td>0.00</td>\n",
              "      <td>0.000</td>\n",
              "      <td>77183.600</td>\n",
              "      <td>0.00</td>\n",
              "      <td>0.0</td>\n",
              "      <td>0.0</td>\n",
              "      <td>1.0</td>\n",
              "      <td>0.0</td>\n",
              "      <td>0.00</td>\n",
              "      <td>0.00</td>\n",
              "      <td>77183.60</td>\n",
              "      <td>0.00</td>\n",
              "    </tr>\n",
              "    <tr>\n",
              "      <th>1</th>\n",
              "      <td>12347.0</td>\n",
              "      <td>584.91</td>\n",
              "      <td>509.385</td>\n",
              "      <td>475.390</td>\n",
              "      <td>711.79</td>\n",
              "      <td>1.0</td>\n",
              "      <td>2.0</td>\n",
              "      <td>1.0</td>\n",
              "      <td>1.0</td>\n",
              "      <td>584.91</td>\n",
              "      <td>1018.77</td>\n",
              "      <td>475.39</td>\n",
              "      <td>711.79</td>\n",
              "    </tr>\n",
              "    <tr>\n",
              "      <th>2</th>\n",
              "      <td>12348.0</td>\n",
              "      <td>310.00</td>\n",
              "      <td>367.000</td>\n",
              "      <td>227.440</td>\n",
              "      <td>892.80</td>\n",
              "      <td>1.0</td>\n",
              "      <td>1.0</td>\n",
              "      <td>1.0</td>\n",
              "      <td>1.0</td>\n",
              "      <td>310.00</td>\n",
              "      <td>367.00</td>\n",
              "      <td>227.44</td>\n",
              "      <td>892.80</td>\n",
              "    </tr>\n",
              "    <tr>\n",
              "      <th>3</th>\n",
              "      <td>12350.0</td>\n",
              "      <td>0.00</td>\n",
              "      <td>0.000</td>\n",
              "      <td>334.400</td>\n",
              "      <td>0.00</td>\n",
              "      <td>0.0</td>\n",
              "      <td>0.0</td>\n",
              "      <td>1.0</td>\n",
              "      <td>0.0</td>\n",
              "      <td>0.00</td>\n",
              "      <td>0.00</td>\n",
              "      <td>334.40</td>\n",
              "      <td>0.00</td>\n",
              "    </tr>\n",
              "    <tr>\n",
              "      <th>4</th>\n",
              "      <td>12352.0</td>\n",
              "      <td>316.25</td>\n",
              "      <td>0.000</td>\n",
              "      <td>312.362</td>\n",
              "      <td>0.00</td>\n",
              "      <td>2.0</td>\n",
              "      <td>0.0</td>\n",
              "      <td>5.0</td>\n",
              "      <td>0.0</td>\n",
              "      <td>632.50</td>\n",
              "      <td>0.00</td>\n",
              "      <td>1561.81</td>\n",
              "      <td>0.00</td>\n",
              "    </tr>\n",
              "  </tbody>\n",
              "</table>\n",
              "</div>"
            ],
            "text/plain": [
              "   CustomerID  sales_avg_M_2  ...  sales_sum_M_4  sales_sum_M_5\n",
              "0     12346.0           0.00  ...       77183.60           0.00\n",
              "1     12347.0         584.91  ...         475.39         711.79\n",
              "2     12348.0         310.00  ...         227.44         892.80\n",
              "3     12350.0           0.00  ...         334.40           0.00\n",
              "4     12352.0         316.25  ...        1561.81           0.00\n",
              "\n",
              "[5 rows x 13 columns]"
            ]
          },
          "metadata": {},
          "execution_count": 76
        }
      ]
    },
    {
      "cell_type": "code",
      "metadata": {
        "id": "SDMEK0iVyCYp"
      },
      "source": [
        "df_target = df_data.loc[df_data['M'] == 'M_1', ['CustomerID', 'sales_sum']]"
      ],
      "execution_count": 77,
      "outputs": []
    },
    {
      "cell_type": "code",
      "metadata": {
        "id": "BK3JgOTtyUfK"
      },
      "source": [
        "df_target.columns = ['CustomerID', 'CLV_'+clv_freq]"
      ],
      "execution_count": 78,
      "outputs": []
    },
    {
      "cell_type": "code",
      "metadata": {
        "colab": {
          "base_uri": "https://localhost:8080/"
        },
        "id": "3iwxDBGuyYNT",
        "outputId": "d5cd9fcb-3c79-4c1a-8503-534fdee5973d"
      },
      "source": [
        "df_target.shape"
      ],
      "execution_count": 79,
      "outputs": [
        {
          "output_type": "execute_result",
          "data": {
            "text/plain": [
              "(2406, 2)"
            ]
          },
          "metadata": {},
          "execution_count": 79
        }
      ]
    },
    {
      "cell_type": "code",
      "metadata": {
        "colab": {
          "base_uri": "https://localhost:8080/",
          "height": 200
        },
        "id": "vAk7lb-9ybVQ",
        "outputId": "5b122f25-d93a-4327-b121-ae5483a9f9ae"
      },
      "source": [
        "df_target.head()"
      ],
      "execution_count": 80,
      "outputs": [
        {
          "output_type": "execute_result",
          "data": {
            "text/html": [
              "<div>\n",
              "<style scoped>\n",
              "    .dataframe tbody tr th:only-of-type {\n",
              "        vertical-align: middle;\n",
              "    }\n",
              "\n",
              "    .dataframe tbody tr th {\n",
              "        vertical-align: top;\n",
              "    }\n",
              "\n",
              "    .dataframe thead th {\n",
              "        text-align: right;\n",
              "    }\n",
              "</style>\n",
              "<table border=\"1\" class=\"dataframe\">\n",
              "  <thead>\n",
              "    <tr style=\"text-align: right;\">\n",
              "      <th></th>\n",
              "      <th>CustomerID</th>\n",
              "      <th>CLV_3M</th>\n",
              "    </tr>\n",
              "  </thead>\n",
              "  <tbody>\n",
              "    <tr>\n",
              "      <th>5</th>\n",
              "      <td>12347.0</td>\n",
              "      <td>1294.32</td>\n",
              "    </tr>\n",
              "    <tr>\n",
              "      <th>10</th>\n",
              "      <td>12349.0</td>\n",
              "      <td>1757.55</td>\n",
              "    </tr>\n",
              "    <tr>\n",
              "      <th>14</th>\n",
              "      <td>12352.0</td>\n",
              "      <td>311.73</td>\n",
              "    </tr>\n",
              "    <tr>\n",
              "      <th>20</th>\n",
              "      <td>12356.0</td>\n",
              "      <td>58.35</td>\n",
              "    </tr>\n",
              "    <tr>\n",
              "      <th>21</th>\n",
              "      <td>12357.0</td>\n",
              "      <td>6207.67</td>\n",
              "    </tr>\n",
              "  </tbody>\n",
              "</table>\n",
              "</div>"
            ],
            "text/plain": [
              "    CustomerID   CLV_3M\n",
              "5      12347.0  1294.32\n",
              "10     12349.0  1757.55\n",
              "14     12352.0   311.73\n",
              "20     12356.0    58.35\n",
              "21     12357.0  6207.67"
            ]
          },
          "metadata": {},
          "execution_count": 80
        }
      ]
    },
    {
      "cell_type": "code",
      "metadata": {
        "id": "IO95RZW4yeWO"
      },
      "source": [
        "df_sample_set = df_features.merge(\n",
        "                df_target, \n",
        "                left_on='CustomerID', \n",
        "                right_on='CustomerID',\n",
        "                how='left')"
      ],
      "execution_count": 81,
      "outputs": []
    },
    {
      "cell_type": "code",
      "metadata": {
        "colab": {
          "base_uri": "https://localhost:8080/",
          "height": 220
        },
        "id": "jdDLONaRyi2s",
        "outputId": "e873dfa9-dd34-4aa2-e387-88c30e4d4a63"
      },
      "source": [
        "df_sample_set.head()"
      ],
      "execution_count": 82,
      "outputs": [
        {
          "output_type": "execute_result",
          "data": {
            "text/html": [
              "<div>\n",
              "<style scoped>\n",
              "    .dataframe tbody tr th:only-of-type {\n",
              "        vertical-align: middle;\n",
              "    }\n",
              "\n",
              "    .dataframe tbody tr th {\n",
              "        vertical-align: top;\n",
              "    }\n",
              "\n",
              "    .dataframe thead th {\n",
              "        text-align: right;\n",
              "    }\n",
              "</style>\n",
              "<table border=\"1\" class=\"dataframe\">\n",
              "  <thead>\n",
              "    <tr style=\"text-align: right;\">\n",
              "      <th></th>\n",
              "      <th>CustomerID</th>\n",
              "      <th>sales_avg_M_2</th>\n",
              "      <th>sales_avg_M_3</th>\n",
              "      <th>sales_avg_M_4</th>\n",
              "      <th>sales_avg_M_5</th>\n",
              "      <th>sales_count_M_2</th>\n",
              "      <th>sales_count_M_3</th>\n",
              "      <th>sales_count_M_4</th>\n",
              "      <th>sales_count_M_5</th>\n",
              "      <th>sales_sum_M_2</th>\n",
              "      <th>sales_sum_M_3</th>\n",
              "      <th>sales_sum_M_4</th>\n",
              "      <th>sales_sum_M_5</th>\n",
              "      <th>CLV_3M</th>\n",
              "    </tr>\n",
              "  </thead>\n",
              "  <tbody>\n",
              "    <tr>\n",
              "      <th>0</th>\n",
              "      <td>12346.0</td>\n",
              "      <td>0.00</td>\n",
              "      <td>0.000</td>\n",
              "      <td>77183.600</td>\n",
              "      <td>0.00</td>\n",
              "      <td>0.0</td>\n",
              "      <td>0.0</td>\n",
              "      <td>1.0</td>\n",
              "      <td>0.0</td>\n",
              "      <td>0.00</td>\n",
              "      <td>0.00</td>\n",
              "      <td>77183.60</td>\n",
              "      <td>0.00</td>\n",
              "      <td>NaN</td>\n",
              "    </tr>\n",
              "    <tr>\n",
              "      <th>1</th>\n",
              "      <td>12347.0</td>\n",
              "      <td>584.91</td>\n",
              "      <td>509.385</td>\n",
              "      <td>475.390</td>\n",
              "      <td>711.79</td>\n",
              "      <td>1.0</td>\n",
              "      <td>2.0</td>\n",
              "      <td>1.0</td>\n",
              "      <td>1.0</td>\n",
              "      <td>584.91</td>\n",
              "      <td>1018.77</td>\n",
              "      <td>475.39</td>\n",
              "      <td>711.79</td>\n",
              "      <td>1294.32</td>\n",
              "    </tr>\n",
              "    <tr>\n",
              "      <th>2</th>\n",
              "      <td>12348.0</td>\n",
              "      <td>310.00</td>\n",
              "      <td>367.000</td>\n",
              "      <td>227.440</td>\n",
              "      <td>892.80</td>\n",
              "      <td>1.0</td>\n",
              "      <td>1.0</td>\n",
              "      <td>1.0</td>\n",
              "      <td>1.0</td>\n",
              "      <td>310.00</td>\n",
              "      <td>367.00</td>\n",
              "      <td>227.44</td>\n",
              "      <td>892.80</td>\n",
              "      <td>NaN</td>\n",
              "    </tr>\n",
              "    <tr>\n",
              "      <th>3</th>\n",
              "      <td>12350.0</td>\n",
              "      <td>0.00</td>\n",
              "      <td>0.000</td>\n",
              "      <td>334.400</td>\n",
              "      <td>0.00</td>\n",
              "      <td>0.0</td>\n",
              "      <td>0.0</td>\n",
              "      <td>1.0</td>\n",
              "      <td>0.0</td>\n",
              "      <td>0.00</td>\n",
              "      <td>0.00</td>\n",
              "      <td>334.40</td>\n",
              "      <td>0.00</td>\n",
              "      <td>NaN</td>\n",
              "    </tr>\n",
              "    <tr>\n",
              "      <th>4</th>\n",
              "      <td>12352.0</td>\n",
              "      <td>316.25</td>\n",
              "      <td>0.000</td>\n",
              "      <td>312.362</td>\n",
              "      <td>0.00</td>\n",
              "      <td>2.0</td>\n",
              "      <td>0.0</td>\n",
              "      <td>5.0</td>\n",
              "      <td>0.0</td>\n",
              "      <td>632.50</td>\n",
              "      <td>0.00</td>\n",
              "      <td>1561.81</td>\n",
              "      <td>0.00</td>\n",
              "      <td>311.73</td>\n",
              "    </tr>\n",
              "  </tbody>\n",
              "</table>\n",
              "</div>"
            ],
            "text/plain": [
              "   CustomerID  sales_avg_M_2  ...  sales_sum_M_5   CLV_3M\n",
              "0     12346.0           0.00  ...           0.00      NaN\n",
              "1     12347.0         584.91  ...         711.79  1294.32\n",
              "2     12348.0         310.00  ...         892.80      NaN\n",
              "3     12350.0           0.00  ...           0.00      NaN\n",
              "4     12352.0         316.25  ...           0.00   311.73\n",
              "\n",
              "[5 rows x 14 columns]"
            ]
          },
          "metadata": {},
          "execution_count": 82
        }
      ]
    },
    {
      "cell_type": "code",
      "metadata": {
        "id": "jxMbBvs8ymav"
      },
      "source": [
        "df_sample_set.fillna(0, inplace=True)"
      ],
      "execution_count": 83,
      "outputs": []
    },
    {
      "cell_type": "code",
      "metadata": {
        "colab": {
          "base_uri": "https://localhost:8080/",
          "height": 220
        },
        "id": "lgs_cCKTyqlV",
        "outputId": "09b7df63-6be0-4f0e-834b-b3b32ea9bf78"
      },
      "source": [
        "df_sample_set.head()"
      ],
      "execution_count": 84,
      "outputs": [
        {
          "output_type": "execute_result",
          "data": {
            "text/html": [
              "<div>\n",
              "<style scoped>\n",
              "    .dataframe tbody tr th:only-of-type {\n",
              "        vertical-align: middle;\n",
              "    }\n",
              "\n",
              "    .dataframe tbody tr th {\n",
              "        vertical-align: top;\n",
              "    }\n",
              "\n",
              "    .dataframe thead th {\n",
              "        text-align: right;\n",
              "    }\n",
              "</style>\n",
              "<table border=\"1\" class=\"dataframe\">\n",
              "  <thead>\n",
              "    <tr style=\"text-align: right;\">\n",
              "      <th></th>\n",
              "      <th>CustomerID</th>\n",
              "      <th>sales_avg_M_2</th>\n",
              "      <th>sales_avg_M_3</th>\n",
              "      <th>sales_avg_M_4</th>\n",
              "      <th>sales_avg_M_5</th>\n",
              "      <th>sales_count_M_2</th>\n",
              "      <th>sales_count_M_3</th>\n",
              "      <th>sales_count_M_4</th>\n",
              "      <th>sales_count_M_5</th>\n",
              "      <th>sales_sum_M_2</th>\n",
              "      <th>sales_sum_M_3</th>\n",
              "      <th>sales_sum_M_4</th>\n",
              "      <th>sales_sum_M_5</th>\n",
              "      <th>CLV_3M</th>\n",
              "    </tr>\n",
              "  </thead>\n",
              "  <tbody>\n",
              "    <tr>\n",
              "      <th>0</th>\n",
              "      <td>12346.0</td>\n",
              "      <td>0.00</td>\n",
              "      <td>0.000</td>\n",
              "      <td>77183.600</td>\n",
              "      <td>0.00</td>\n",
              "      <td>0.0</td>\n",
              "      <td>0.0</td>\n",
              "      <td>1.0</td>\n",
              "      <td>0.0</td>\n",
              "      <td>0.00</td>\n",
              "      <td>0.00</td>\n",
              "      <td>77183.60</td>\n",
              "      <td>0.00</td>\n",
              "      <td>0.00</td>\n",
              "    </tr>\n",
              "    <tr>\n",
              "      <th>1</th>\n",
              "      <td>12347.0</td>\n",
              "      <td>584.91</td>\n",
              "      <td>509.385</td>\n",
              "      <td>475.390</td>\n",
              "      <td>711.79</td>\n",
              "      <td>1.0</td>\n",
              "      <td>2.0</td>\n",
              "      <td>1.0</td>\n",
              "      <td>1.0</td>\n",
              "      <td>584.91</td>\n",
              "      <td>1018.77</td>\n",
              "      <td>475.39</td>\n",
              "      <td>711.79</td>\n",
              "      <td>1294.32</td>\n",
              "    </tr>\n",
              "    <tr>\n",
              "      <th>2</th>\n",
              "      <td>12348.0</td>\n",
              "      <td>310.00</td>\n",
              "      <td>367.000</td>\n",
              "      <td>227.440</td>\n",
              "      <td>892.80</td>\n",
              "      <td>1.0</td>\n",
              "      <td>1.0</td>\n",
              "      <td>1.0</td>\n",
              "      <td>1.0</td>\n",
              "      <td>310.00</td>\n",
              "      <td>367.00</td>\n",
              "      <td>227.44</td>\n",
              "      <td>892.80</td>\n",
              "      <td>0.00</td>\n",
              "    </tr>\n",
              "    <tr>\n",
              "      <th>3</th>\n",
              "      <td>12350.0</td>\n",
              "      <td>0.00</td>\n",
              "      <td>0.000</td>\n",
              "      <td>334.400</td>\n",
              "      <td>0.00</td>\n",
              "      <td>0.0</td>\n",
              "      <td>0.0</td>\n",
              "      <td>1.0</td>\n",
              "      <td>0.0</td>\n",
              "      <td>0.00</td>\n",
              "      <td>0.00</td>\n",
              "      <td>334.40</td>\n",
              "      <td>0.00</td>\n",
              "      <td>0.00</td>\n",
              "    </tr>\n",
              "    <tr>\n",
              "      <th>4</th>\n",
              "      <td>12352.0</td>\n",
              "      <td>316.25</td>\n",
              "      <td>0.000</td>\n",
              "      <td>312.362</td>\n",
              "      <td>0.00</td>\n",
              "      <td>2.0</td>\n",
              "      <td>0.0</td>\n",
              "      <td>5.0</td>\n",
              "      <td>0.0</td>\n",
              "      <td>632.50</td>\n",
              "      <td>0.00</td>\n",
              "      <td>1561.81</td>\n",
              "      <td>0.00</td>\n",
              "      <td>311.73</td>\n",
              "    </tr>\n",
              "  </tbody>\n",
              "</table>\n",
              "</div>"
            ],
            "text/plain": [
              "   CustomerID  sales_avg_M_2  ...  sales_sum_M_5   CLV_3M\n",
              "0     12346.0           0.00  ...           0.00     0.00\n",
              "1     12347.0         584.91  ...         711.79  1294.32\n",
              "2     12348.0         310.00  ...         892.80     0.00\n",
              "3     12350.0           0.00  ...           0.00     0.00\n",
              "4     12352.0         316.25  ...           0.00   311.73\n",
              "\n",
              "[5 rows x 14 columns]"
            ]
          },
          "metadata": {},
          "execution_count": 84
        }
      ]
    },
    {
      "cell_type": "code",
      "metadata": {
        "colab": {
          "base_uri": "https://localhost:8080/"
        },
        "id": "Fn2i6rUfyxkU",
        "outputId": "506fa39f-2634-45b7-bb8c-8629bfb226b2"
      },
      "source": [
        "df_sample_set['CLV_3M'].describe()"
      ],
      "execution_count": 85,
      "outputs": [
        {
          "output_type": "execute_result",
          "data": {
            "text/plain": [
              "count     3616.000000\n",
              "mean       511.558520\n",
              "std       2371.743293\n",
              "min          0.000000\n",
              "25%          0.000000\n",
              "50%          0.000000\n",
              "75%        458.662500\n",
              "max      68012.350000\n",
              "Name: CLV_3M, dtype: float64"
            ]
          },
          "metadata": {},
          "execution_count": 85
        }
      ]
    },
    {
      "cell_type": "markdown",
      "metadata": {
        "id": "f9CnFehuy6jM"
      },
      "source": [
        "**Building Linear Regression**"
      ]
    },
    {
      "cell_type": "code",
      "metadata": {
        "id": "BA2eFSkly04g"
      },
      "source": [
        "from sklearn.model_selection import train_test_split\n",
        "from sklearn.linear_model import LinearRegression"
      ],
      "execution_count": 86,
      "outputs": []
    },
    {
      "cell_type": "code",
      "metadata": {
        "id": "kDMDLQA0zDog"
      },
      "source": [
        "target_var = 'CLV_3M'\n",
        "all_features = [x for x in df_sample_set.columns if x not in ['CustomerID', target_var]]"
      ],
      "execution_count": 87,
      "outputs": []
    },
    {
      "cell_type": "code",
      "metadata": {
        "colab": {
          "base_uri": "https://localhost:8080/"
        },
        "id": "xDRSA4nZzz2T",
        "outputId": "e6cc201c-56b6-42bc-fa8a-67d1ebfd986a"
      },
      "source": [
        "all_features"
      ],
      "execution_count": 88,
      "outputs": [
        {
          "output_type": "execute_result",
          "data": {
            "text/plain": [
              "['sales_avg_M_2',\n",
              " 'sales_avg_M_3',\n",
              " 'sales_avg_M_4',\n",
              " 'sales_avg_M_5',\n",
              " 'sales_count_M_2',\n",
              " 'sales_count_M_3',\n",
              " 'sales_count_M_4',\n",
              " 'sales_count_M_5',\n",
              " 'sales_sum_M_2',\n",
              " 'sales_sum_M_3',\n",
              " 'sales_sum_M_4',\n",
              " 'sales_sum_M_5']"
            ]
          },
          "metadata": {},
          "execution_count": 88
        }
      ]
    },
    {
      "cell_type": "code",
      "metadata": {
        "colab": {
          "base_uri": "https://localhost:8080/",
          "height": 428
        },
        "id": "oeQ1Z7U3z2qI",
        "outputId": "d09f6b2b-ee8f-4ad7-eafb-da0d98b86c7f"
      },
      "source": [
        "df_sample_set"
      ],
      "execution_count": 89,
      "outputs": [
        {
          "output_type": "execute_result",
          "data": {
            "text/html": [
              "<div>\n",
              "<style scoped>\n",
              "    .dataframe tbody tr th:only-of-type {\n",
              "        vertical-align: middle;\n",
              "    }\n",
              "\n",
              "    .dataframe tbody tr th {\n",
              "        vertical-align: top;\n",
              "    }\n",
              "\n",
              "    .dataframe thead th {\n",
              "        text-align: right;\n",
              "    }\n",
              "</style>\n",
              "<table border=\"1\" class=\"dataframe\">\n",
              "  <thead>\n",
              "    <tr style=\"text-align: right;\">\n",
              "      <th></th>\n",
              "      <th>CustomerID</th>\n",
              "      <th>sales_avg_M_2</th>\n",
              "      <th>sales_avg_M_3</th>\n",
              "      <th>sales_avg_M_4</th>\n",
              "      <th>sales_avg_M_5</th>\n",
              "      <th>sales_count_M_2</th>\n",
              "      <th>sales_count_M_3</th>\n",
              "      <th>sales_count_M_4</th>\n",
              "      <th>sales_count_M_5</th>\n",
              "      <th>sales_sum_M_2</th>\n",
              "      <th>sales_sum_M_3</th>\n",
              "      <th>sales_sum_M_4</th>\n",
              "      <th>sales_sum_M_5</th>\n",
              "      <th>CLV_3M</th>\n",
              "    </tr>\n",
              "  </thead>\n",
              "  <tbody>\n",
              "    <tr>\n",
              "      <th>0</th>\n",
              "      <td>12346.0</td>\n",
              "      <td>0.000000</td>\n",
              "      <td>0.000</td>\n",
              "      <td>77183.600000</td>\n",
              "      <td>0.00</td>\n",
              "      <td>0.0</td>\n",
              "      <td>0.0</td>\n",
              "      <td>1.0</td>\n",
              "      <td>0.0</td>\n",
              "      <td>0.00</td>\n",
              "      <td>0.00</td>\n",
              "      <td>77183.60</td>\n",
              "      <td>0.00</td>\n",
              "      <td>0.00</td>\n",
              "    </tr>\n",
              "    <tr>\n",
              "      <th>1</th>\n",
              "      <td>12347.0</td>\n",
              "      <td>584.910000</td>\n",
              "      <td>509.385</td>\n",
              "      <td>475.390000</td>\n",
              "      <td>711.79</td>\n",
              "      <td>1.0</td>\n",
              "      <td>2.0</td>\n",
              "      <td>1.0</td>\n",
              "      <td>1.0</td>\n",
              "      <td>584.91</td>\n",
              "      <td>1018.77</td>\n",
              "      <td>475.39</td>\n",
              "      <td>711.79</td>\n",
              "      <td>1294.32</td>\n",
              "    </tr>\n",
              "    <tr>\n",
              "      <th>2</th>\n",
              "      <td>12348.0</td>\n",
              "      <td>310.000000</td>\n",
              "      <td>367.000</td>\n",
              "      <td>227.440000</td>\n",
              "      <td>892.80</td>\n",
              "      <td>1.0</td>\n",
              "      <td>1.0</td>\n",
              "      <td>1.0</td>\n",
              "      <td>1.0</td>\n",
              "      <td>310.00</td>\n",
              "      <td>367.00</td>\n",
              "      <td>227.44</td>\n",
              "      <td>892.80</td>\n",
              "      <td>0.00</td>\n",
              "    </tr>\n",
              "    <tr>\n",
              "      <th>3</th>\n",
              "      <td>12350.0</td>\n",
              "      <td>0.000000</td>\n",
              "      <td>0.000</td>\n",
              "      <td>334.400000</td>\n",
              "      <td>0.00</td>\n",
              "      <td>0.0</td>\n",
              "      <td>0.0</td>\n",
              "      <td>1.0</td>\n",
              "      <td>0.0</td>\n",
              "      <td>0.00</td>\n",
              "      <td>0.00</td>\n",
              "      <td>334.40</td>\n",
              "      <td>0.00</td>\n",
              "      <td>0.00</td>\n",
              "    </tr>\n",
              "    <tr>\n",
              "      <th>4</th>\n",
              "      <td>12352.0</td>\n",
              "      <td>316.250000</td>\n",
              "      <td>0.000</td>\n",
              "      <td>312.362000</td>\n",
              "      <td>0.00</td>\n",
              "      <td>2.0</td>\n",
              "      <td>0.0</td>\n",
              "      <td>5.0</td>\n",
              "      <td>0.0</td>\n",
              "      <td>632.50</td>\n",
              "      <td>0.00</td>\n",
              "      <td>1561.81</td>\n",
              "      <td>0.00</td>\n",
              "      <td>311.73</td>\n",
              "    </tr>\n",
              "    <tr>\n",
              "      <th>...</th>\n",
              "      <td>...</td>\n",
              "      <td>...</td>\n",
              "      <td>...</td>\n",
              "      <td>...</td>\n",
              "      <td>...</td>\n",
              "      <td>...</td>\n",
              "      <td>...</td>\n",
              "      <td>...</td>\n",
              "      <td>...</td>\n",
              "      <td>...</td>\n",
              "      <td>...</td>\n",
              "      <td>...</td>\n",
              "      <td>...</td>\n",
              "      <td>...</td>\n",
              "    </tr>\n",
              "    <tr>\n",
              "      <th>3611</th>\n",
              "      <td>18280.0</td>\n",
              "      <td>0.000000</td>\n",
              "      <td>0.000</td>\n",
              "      <td>180.600000</td>\n",
              "      <td>0.00</td>\n",
              "      <td>0.0</td>\n",
              "      <td>0.0</td>\n",
              "      <td>1.0</td>\n",
              "      <td>0.0</td>\n",
              "      <td>0.00</td>\n",
              "      <td>0.00</td>\n",
              "      <td>180.60</td>\n",
              "      <td>0.00</td>\n",
              "      <td>0.00</td>\n",
              "    </tr>\n",
              "    <tr>\n",
              "      <th>3612</th>\n",
              "      <td>18281.0</td>\n",
              "      <td>0.000000</td>\n",
              "      <td>80.820</td>\n",
              "      <td>0.000000</td>\n",
              "      <td>0.00</td>\n",
              "      <td>0.0</td>\n",
              "      <td>1.0</td>\n",
              "      <td>0.0</td>\n",
              "      <td>0.0</td>\n",
              "      <td>0.00</td>\n",
              "      <td>80.82</td>\n",
              "      <td>0.00</td>\n",
              "      <td>0.00</td>\n",
              "      <td>0.00</td>\n",
              "    </tr>\n",
              "    <tr>\n",
              "      <th>3613</th>\n",
              "      <td>18282.0</td>\n",
              "      <td>100.210000</td>\n",
              "      <td>0.000</td>\n",
              "      <td>0.000000</td>\n",
              "      <td>0.00</td>\n",
              "      <td>1.0</td>\n",
              "      <td>0.0</td>\n",
              "      <td>0.0</td>\n",
              "      <td>0.0</td>\n",
              "      <td>100.21</td>\n",
              "      <td>0.00</td>\n",
              "      <td>0.00</td>\n",
              "      <td>0.00</td>\n",
              "      <td>0.00</td>\n",
              "    </tr>\n",
              "    <tr>\n",
              "      <th>3614</th>\n",
              "      <td>18283.0</td>\n",
              "      <td>92.696667</td>\n",
              "      <td>131.170</td>\n",
              "      <td>105.966667</td>\n",
              "      <td>0.00</td>\n",
              "      <td>3.0</td>\n",
              "      <td>4.0</td>\n",
              "      <td>3.0</td>\n",
              "      <td>0.0</td>\n",
              "      <td>278.09</td>\n",
              "      <td>524.68</td>\n",
              "      <td>317.90</td>\n",
              "      <td>0.00</td>\n",
              "      <td>766.21</td>\n",
              "    </tr>\n",
              "    <tr>\n",
              "      <th>3615</th>\n",
              "      <td>18287.0</td>\n",
              "      <td>0.000000</td>\n",
              "      <td>765.280</td>\n",
              "      <td>0.000000</td>\n",
              "      <td>0.00</td>\n",
              "      <td>0.0</td>\n",
              "      <td>1.0</td>\n",
              "      <td>0.0</td>\n",
              "      <td>0.0</td>\n",
              "      <td>0.00</td>\n",
              "      <td>765.28</td>\n",
              "      <td>0.00</td>\n",
              "      <td>0.00</td>\n",
              "      <td>1072.00</td>\n",
              "    </tr>\n",
              "  </tbody>\n",
              "</table>\n",
              "<p>3616 rows × 14 columns</p>\n",
              "</div>"
            ],
            "text/plain": [
              "      CustomerID  sales_avg_M_2  ...  sales_sum_M_5   CLV_3M\n",
              "0        12346.0       0.000000  ...           0.00     0.00\n",
              "1        12347.0     584.910000  ...         711.79  1294.32\n",
              "2        12348.0     310.000000  ...         892.80     0.00\n",
              "3        12350.0       0.000000  ...           0.00     0.00\n",
              "4        12352.0     316.250000  ...           0.00   311.73\n",
              "...          ...            ...  ...            ...      ...\n",
              "3611     18280.0       0.000000  ...           0.00     0.00\n",
              "3612     18281.0       0.000000  ...           0.00     0.00\n",
              "3613     18282.0     100.210000  ...           0.00     0.00\n",
              "3614     18283.0      92.696667  ...           0.00   766.21\n",
              "3615     18287.0       0.000000  ...           0.00  1072.00\n",
              "\n",
              "[3616 rows x 14 columns]"
            ]
          },
          "metadata": {},
          "execution_count": 89
        }
      ]
    },
    {
      "cell_type": "code",
      "metadata": {
        "id": "aS5Sp1qWz5ZO"
      },
      "source": [
        "X_train, X_test, y_train, y_test = train_test_split(\n",
        "                                    df_sample_set[all_features], \n",
        "                                    df_sample_set[target_var], \n",
        "                                    random_state=2,\n",
        "                                    test_size=0.35)"
      ],
      "execution_count": 90,
      "outputs": []
    },
    {
      "cell_type": "code",
      "metadata": {
        "id": "HmU_C46Uz9Oi"
      },
      "source": [
        "lin_reg = LinearRegression(n_jobs=1)"
      ],
      "execution_count": 91,
      "outputs": []
    },
    {
      "cell_type": "code",
      "metadata": {
        "colab": {
          "base_uri": "https://localhost:8080/"
        },
        "id": "CdcYON1C0AS5",
        "outputId": "0179c070-81ab-460a-8e5d-3142f1be032e"
      },
      "source": [
        "lin_reg.fit(X_train, y_train)"
      ],
      "execution_count": 92,
      "outputs": [
        {
          "output_type": "execute_result",
          "data": {
            "text/plain": [
              "LinearRegression(copy_X=True, fit_intercept=True, n_jobs=1, normalize=False)"
            ]
          },
          "metadata": {},
          "execution_count": 92
        }
      ]
    },
    {
      "cell_type": "code",
      "metadata": {
        "colab": {
          "base_uri": "https://localhost:8080/"
        },
        "id": "4e12T9nb0DcC",
        "outputId": "37a17c7e-3442-4385-8368-1e63a92bcd67"
      },
      "source": [
        "lin_reg.intercept_"
      ],
      "execution_count": 93,
      "outputs": [
        {
          "output_type": "execute_result",
          "data": {
            "text/plain": [
              "-17.526580313487784"
            ]
          },
          "metadata": {},
          "execution_count": 93
        }
      ]
    },
    {
      "cell_type": "code",
      "metadata": {
        "id": "Yzbjk7c_0GKZ"
      },
      "source": [
        "coef = pd.DataFrame(list(zip(all_features, lin_reg.coef_)))\n",
        "coef.columns = ['feature', 'coef']"
      ],
      "execution_count": 94,
      "outputs": []
    },
    {
      "cell_type": "code",
      "metadata": {
        "colab": {
          "base_uri": "https://localhost:8080/",
          "height": 411
        },
        "id": "UJbXTwtz0I5Q",
        "outputId": "2b8993ff-4dbb-41e2-a3f6-0d98d432b28a"
      },
      "source": [
        "coef"
      ],
      "execution_count": 95,
      "outputs": [
        {
          "output_type": "execute_result",
          "data": {
            "text/html": [
              "<div>\n",
              "<style scoped>\n",
              "    .dataframe tbody tr th:only-of-type {\n",
              "        vertical-align: middle;\n",
              "    }\n",
              "\n",
              "    .dataframe tbody tr th {\n",
              "        vertical-align: top;\n",
              "    }\n",
              "\n",
              "    .dataframe thead th {\n",
              "        text-align: right;\n",
              "    }\n",
              "</style>\n",
              "<table border=\"1\" class=\"dataframe\">\n",
              "  <thead>\n",
              "    <tr style=\"text-align: right;\">\n",
              "      <th></th>\n",
              "      <th>feature</th>\n",
              "      <th>coef</th>\n",
              "    </tr>\n",
              "  </thead>\n",
              "  <tbody>\n",
              "    <tr>\n",
              "      <th>0</th>\n",
              "      <td>sales_avg_M_2</td>\n",
              "      <td>0.211380</td>\n",
              "    </tr>\n",
              "    <tr>\n",
              "      <th>1</th>\n",
              "      <td>sales_avg_M_3</td>\n",
              "      <td>-0.059222</td>\n",
              "    </tr>\n",
              "    <tr>\n",
              "      <th>2</th>\n",
              "      <td>sales_avg_M_4</td>\n",
              "      <td>0.091413</td>\n",
              "    </tr>\n",
              "    <tr>\n",
              "      <th>3</th>\n",
              "      <td>sales_avg_M_5</td>\n",
              "      <td>-0.581033</td>\n",
              "    </tr>\n",
              "    <tr>\n",
              "      <th>4</th>\n",
              "      <td>sales_count_M_2</td>\n",
              "      <td>128.559625</td>\n",
              "    </tr>\n",
              "    <tr>\n",
              "      <th>5</th>\n",
              "      <td>sales_count_M_3</td>\n",
              "      <td>-55.323992</td>\n",
              "    </tr>\n",
              "    <tr>\n",
              "      <th>6</th>\n",
              "      <td>sales_count_M_4</td>\n",
              "      <td>18.092563</td>\n",
              "    </tr>\n",
              "    <tr>\n",
              "      <th>7</th>\n",
              "      <td>sales_count_M_5</td>\n",
              "      <td>-39.690706</td>\n",
              "    </tr>\n",
              "    <tr>\n",
              "      <th>8</th>\n",
              "      <td>sales_sum_M_2</td>\n",
              "      <td>0.251125</td>\n",
              "    </tr>\n",
              "    <tr>\n",
              "      <th>9</th>\n",
              "      <td>sales_sum_M_3</td>\n",
              "      <td>0.377412</td>\n",
              "    </tr>\n",
              "    <tr>\n",
              "      <th>10</th>\n",
              "      <td>sales_sum_M_4</td>\n",
              "      <td>-0.076224</td>\n",
              "    </tr>\n",
              "    <tr>\n",
              "      <th>11</th>\n",
              "      <td>sales_sum_M_5</td>\n",
              "      <td>0.907732</td>\n",
              "    </tr>\n",
              "  </tbody>\n",
              "</table>\n",
              "</div>"
            ],
            "text/plain": [
              "            feature        coef\n",
              "0     sales_avg_M_2    0.211380\n",
              "1     sales_avg_M_3   -0.059222\n",
              "2     sales_avg_M_4    0.091413\n",
              "3     sales_avg_M_5   -0.581033\n",
              "4   sales_count_M_2  128.559625\n",
              "5   sales_count_M_3  -55.323992\n",
              "6   sales_count_M_4   18.092563\n",
              "7   sales_count_M_5  -39.690706\n",
              "8     sales_sum_M_2    0.251125\n",
              "9     sales_sum_M_3    0.377412\n",
              "10    sales_sum_M_4   -0.076224\n",
              "11    sales_sum_M_5    0.907732"
            ]
          },
          "metadata": {},
          "execution_count": 95
        }
      ]
    },
    {
      "cell_type": "markdown",
      "metadata": {
        "id": "BaFC1xZ80RUi"
      },
      "source": [
        "**Evaluating the model**"
      ]
    },
    {
      "cell_type": "code",
      "metadata": {
        "id": "Zbo56xLB0LJD"
      },
      "source": [
        "from sklearn.metrics import r2_score, median_absolute_error"
      ],
      "execution_count": 96,
      "outputs": []
    },
    {
      "cell_type": "code",
      "metadata": {
        "id": "aj95ArXL0Xh5"
      },
      "source": [
        "train_preds =  lin_reg.predict(X_train)\n",
        "test_preds = lin_reg.predict(X_test)"
      ],
      "execution_count": 97,
      "outputs": []
    },
    {
      "cell_type": "markdown",
      "metadata": {
        "id": "zvqdUVlg1G33"
      },
      "source": [
        "**R-Squared**"
      ]
    },
    {
      "cell_type": "code",
      "metadata": {
        "colab": {
          "base_uri": "https://localhost:8080/"
        },
        "id": "XYllhoI90aX_",
        "outputId": "35e78ad2-81ac-40e9-9a00-307309ec32a5"
      },
      "source": [
        "print('R-Squared for Train set: %0.2f' % r2_score(y_true=y_train, y_pred=train_preds))\n",
        "print('R-Squared for Test set: %0.2f' % r2_score(y_true=y_test, y_pred=test_preds))"
      ],
      "execution_count": 98,
      "outputs": [
        {
          "output_type": "stream",
          "name": "stdout",
          "text": [
            "R-Squared for Train set: 0.71\n",
            "R-Squared for Test set: 0.71\n"
          ]
        }
      ]
    },
    {
      "cell_type": "markdown",
      "metadata": {
        "id": "zHGNA95j1LaY"
      },
      "source": [
        "**MAE**"
      ]
    },
    {
      "cell_type": "code",
      "metadata": {
        "colab": {
          "base_uri": "https://localhost:8080/"
        },
        "id": "RdseLd-U0dB8",
        "outputId": "899fda54-2191-4ff9-a99b-6822a6074fa7"
      },
      "source": [
        "print('MedAE for Train set: %0.2f' % median_absolute_error(y_true=y_train, y_pred=train_preds))\n",
        "print('MedAE for Test set: %0.2f' % median_absolute_error(y_true=y_test, y_pred=test_preds))"
      ],
      "execution_count": 99,
      "outputs": [
        {
          "output_type": "stream",
          "name": "stdout",
          "text": [
            "MedAE for Train set: 202.41\n",
            "MedAE for Test set: 205.20\n"
          ]
        }
      ]
    },
    {
      "cell_type": "markdown",
      "metadata": {
        "id": "Xw2XUvXW0jx0"
      },
      "source": [
        "**Scatter Plot**"
      ]
    },
    {
      "cell_type": "code",
      "metadata": {
        "colab": {
          "base_uri": "https://localhost:8080/",
          "height": 452
        },
        "id": "ys92ruNJ0gD9",
        "outputId": "fe033574-4014-4498-f64f-392e2d84e245"
      },
      "source": [
        "plt.figure(figsize=(8, 6), dpi=80)\n",
        "plt.scatter(y_train, train_preds, color='dodgerblue')\n",
        "plt.plot([0, max(y_train)], [0, max(train_preds)], color='gray', lw=1, linestyle='--')\n",
        "\n",
        "plt.xlabel('Actual Values', fontsize=14)\n",
        "plt.ylabel('Predicted Values', fontsize=14)\n",
        "plt.title('Actual vs. Predicted for Train Set', fontsize=16)\n",
        "plt.grid()"
      ],
      "execution_count": 100,
      "outputs": [
        {
          "output_type": "display_data",
          "data": {
            "image/png": "[encoded data removed]",
            "text/plain": [
              "<Figure size 640x480 with 1 Axes>"
            ]
          },
          "metadata": {
            "needs_background": "light"
          }
        }
      ]
    },
    {
      "cell_type": "code",
      "metadata": {
        "colab": {
          "base_uri": "https://localhost:8080/",
          "height": 452
        },
        "id": "ug__PiZ60tyA",
        "outputId": "fa628382-9c68-4137-8bab-d0c08998c7d3"
      },
      "source": [
        "plt.figure(figsize=(8, 6), dpi=80)\n",
        "plt.scatter(y_test, test_preds, color='dodgerblue')\n",
        "plt.plot([0, max(y_test)], [0, max(test_preds)], color='gray', lw=1, linestyle='--')\n",
        "\n",
        "plt.xlabel('Actual Values', fontsize=14)\n",
        "plt.ylabel('Predicted Values', fontsize=14)\n",
        "plt.title('Actual vs. Predicted for Test Set', fontsize=16)\n",
        "plt.grid()"
      ],
      "execution_count": 101,
      "outputs": [
        {
          "output_type": "display_data",
          "data": {
            "image/png": "[encoded data removed]",
            "text/plain": [
              "<Figure size 640x480 with 1 Axes>"
            ]
          },
          "metadata": {
            "needs_background": "light"
          }
        }
      ]
    },
    {
      "cell_type": "markdown",
      "metadata": {
        "id": "TYtNoUJi04TT"
      },
      "source": [
        "As you can see on this plot, the x-axis is the actual values and the y-axis represents the predicted values. Closer the dots are located to the straight diagonal line, better predictions are.\n",
        "\n",
        "\n"
      ]
    },
    {
      "cell_type": "markdown",
      "metadata": {
        "id": "LfBmnArN06ib"
      },
      "source": [
        "**Summary**\n",
        "\n",
        "Based on the data analysis, we found that the repeat customers tend to make about 12 purchases or less within a year and the majority of repeat customers tend to make a purchase every 12 to 50 days\n",
        "We predicted 3-month CLTV for customers of the online retail using linear regression\n",
        "R-squared value for the test set is 0.71, which is not great but it is a good benchmark to try other regression models such as Epsilon-Support Vector Regression and Random Forest Regressor\n",
        "By knowing CLTV, we can develop positive ROI strategies and make decisions about how much money to invest in acquiring new customers and retaining existing one"
      ]
    }
  ]
}