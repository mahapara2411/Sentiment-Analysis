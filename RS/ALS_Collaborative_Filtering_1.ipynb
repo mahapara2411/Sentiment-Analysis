{
  "nbformat": 4,
  "nbformat_minor": 0,
  "metadata": {
    "colab": {
      "name": "ALS_Collaborative_Filtering_1.ipynb",
      "provenance": [],
      "collapsed_sections": []
    },
    "kernelspec": {
      "name": "python3",
      "display_name": "Python 3"
    },
    "accelerator": "GPU",
    "widgets": {
      "application/vnd.jupyter.widget-state+json": {
        "61d210bb22404665a23249c33e92c63d": {
          "model_module": "@jupyter-widgets/controls",
          "model_name": "HBoxModel",
          "state": {
            "_view_name": "HBoxView",
            "_dom_classes": [],
            "_model_name": "HBoxModel",
            "_view_module": "@jupyter-widgets/controls",
            "_model_module_version": "1.5.0",
            "_view_count": null,
            "_view_module_version": "1.5.0",
            "box_style": "",
            "layout": "IPY_MODEL_4b5f6e5f9f294d4a98833c1d2917487b",
            "_model_module": "@jupyter-widgets/controls",
            "children": [
              "IPY_MODEL_df8256474e2a46a9864ec5a76f183a3a",
              "IPY_MODEL_2bb66eacc5ab4e38b5d18e3ebb955eb5"
            ]
          }
        },
        "4b5f6e5f9f294d4a98833c1d2917487b": {
          "model_module": "@jupyter-widgets/base",
          "model_name": "LayoutModel",
          "state": {
            "_view_name": "LayoutView",
            "grid_template_rows": null,
            "right": null,
            "justify_content": null,
            "_view_module": "@jupyter-widgets/base",
            "overflow": null,
            "_model_module_version": "1.2.0",
            "_view_count": null,
            "flex_flow": null,
            "width": null,
            "min_width": null,
            "border": null,
            "align_items": null,
            "bottom": null,
            "_model_module": "@jupyter-widgets/base",
            "top": null,
            "grid_column": null,
            "overflow_y": null,
            "overflow_x": null,
            "grid_auto_flow": null,
            "grid_area": null,
            "grid_template_columns": null,
            "flex": null,
            "_model_name": "LayoutModel",
            "justify_items": null,
            "grid_row": null,
            "max_height": null,
            "align_content": null,
            "visibility": null,
            "align_self": null,
            "height": null,
            "min_height": null,
            "padding": null,
            "grid_auto_rows": null,
            "grid_gap": null,
            "max_width": null,
            "order": null,
            "_view_module_version": "1.2.0",
            "grid_template_areas": null,
            "object_position": null,
            "object_fit": null,
            "grid_auto_columns": null,
            "margin": null,
            "display": null,
            "left": null
          }
        },
        "df8256474e2a46a9864ec5a76f183a3a": {
          "model_module": "@jupyter-widgets/controls",
          "model_name": "FloatProgressModel",
          "state": {
            "_view_name": "ProgressView",
            "style": "IPY_MODEL_e6dbcefae5984b62831d38f0143deefe",
            "_dom_classes": [],
            "description": "100%",
            "_model_name": "FloatProgressModel",
            "bar_style": "success",
            "max": 20,
            "_view_module": "@jupyter-widgets/controls",
            "_model_module_version": "1.5.0",
            "value": 20,
            "_view_count": null,
            "_view_module_version": "1.5.0",
            "orientation": "horizontal",
            "min": 0,
            "description_tooltip": null,
            "_model_module": "@jupyter-widgets/controls",
            "layout": "IPY_MODEL_3a2ea722e24b4fbd85010a279c7dcf79"
          }
        },
        "2bb66eacc5ab4e38b5d18e3ebb955eb5": {
          "model_module": "@jupyter-widgets/controls",
          "model_name": "HTMLModel",
          "state": {
            "_view_name": "HTMLView",
            "style": "IPY_MODEL_df2db2e6b78e42e3a15226365dcffa5c",
            "_dom_classes": [],
            "description": "",
            "_model_name": "HTMLModel",
            "placeholder": "​",
            "_view_module": "@jupyter-widgets/controls",
            "_model_module_version": "1.5.0",
            "value": " 20/20 [00:00&lt;00:00, 147.58it/s]",
            "_view_count": null,
            "_view_module_version": "1.5.0",
            "description_tooltip": null,
            "_model_module": "@jupyter-widgets/controls",
            "layout": "IPY_MODEL_8d6bef02b9294e568814651b2def32f4"
          }
        },
        "e6dbcefae5984b62831d38f0143deefe": {
          "model_module": "@jupyter-widgets/controls",
          "model_name": "ProgressStyleModel",
          "state": {
            "_view_name": "StyleView",
            "_model_name": "ProgressStyleModel",
            "description_width": "initial",
            "_view_module": "@jupyter-widgets/base",
            "_model_module_version": "1.5.0",
            "_view_count": null,
            "_view_module_version": "1.2.0",
            "bar_color": null,
            "_model_module": "@jupyter-widgets/controls"
          }
        },
        "3a2ea722e24b4fbd85010a279c7dcf79": {
          "model_module": "@jupyter-widgets/base",
          "model_name": "LayoutModel",
          "state": {
            "_view_name": "LayoutView",
            "grid_template_rows": null,
            "right": null,
            "justify_content": null,
            "_view_module": "@jupyter-widgets/base",
            "overflow": null,
            "_model_module_version": "1.2.0",
            "_view_count": null,
            "flex_flow": null,
            "width": null,
            "min_width": null,
            "border": null,
            "align_items": null,
            "bottom": null,
            "_model_module": "@jupyter-widgets/base",
            "top": null,
            "grid_column": null,
            "overflow_y": null,
            "overflow_x": null,
            "grid_auto_flow": null,
            "grid_area": null,
            "grid_template_columns": null,
            "flex": null,
            "_model_name": "LayoutModel",
            "justify_items": null,
            "grid_row": null,
            "max_height": null,
            "align_content": null,
            "visibility": null,
            "align_self": null,
            "height": null,
            "min_height": null,
            "padding": null,
            "grid_auto_rows": null,
            "grid_gap": null,
            "max_width": null,
            "order": null,
            "_view_module_version": "1.2.0",
            "grid_template_areas": null,
            "object_position": null,
            "object_fit": null,
            "grid_auto_columns": null,
            "margin": null,
            "display": null,
            "left": null
          }
        },
        "df2db2e6b78e42e3a15226365dcffa5c": {
          "model_module": "@jupyter-widgets/controls",
          "model_name": "DescriptionStyleModel",
          "state": {
            "_view_name": "StyleView",
            "_model_name": "DescriptionStyleModel",
            "description_width": "",
            "_view_module": "@jupyter-widgets/base",
            "_model_module_version": "1.5.0",
            "_view_count": null,
            "_view_module_version": "1.2.0",
            "_model_module": "@jupyter-widgets/controls"
          }
        },
        "8d6bef02b9294e568814651b2def32f4": {
          "model_module": "@jupyter-widgets/base",
          "model_name": "LayoutModel",
          "state": {
            "_view_name": "LayoutView",
            "grid_template_rows": null,
            "right": null,
            "justify_content": null,
            "_view_module": "@jupyter-widgets/base",
            "overflow": null,
            "_model_module_version": "1.2.0",
            "_view_count": null,
            "flex_flow": null,
            "width": null,
            "min_width": null,
            "border": null,
            "align_items": null,
            "bottom": null,
            "_model_module": "@jupyter-widgets/base",
            "top": null,
            "grid_column": null,
            "overflow_y": null,
            "overflow_x": null,
            "grid_auto_flow": null,
            "grid_area": null,
            "grid_template_columns": null,
            "flex": null,
            "_model_name": "LayoutModel",
            "justify_items": null,
            "grid_row": null,
            "max_height": null,
            "align_content": null,
            "visibility": null,
            "align_self": null,
            "height": null,
            "min_height": null,
            "padding": null,
            "grid_auto_rows": null,
            "grid_gap": null,
            "max_width": null,
            "order": null,
            "_view_module_version": "1.2.0",
            "grid_template_areas": null,
            "object_position": null,
            "object_fit": null,
            "grid_auto_columns": null,
            "margin": null,
            "display": null,
            "left": null
          }
        }
      }
    }
  },
  "cells": [
    {
      "cell_type": "code",
      "metadata": {
        "id": "-u8-V_fG_NCh",
        "outputId": "ef161dae-01aa-446c-bbd0-a2f4e4484631",
        "colab": {
          "base_uri": "https://localhost:8080/",
          "height": 277
        }
      },
      "source": [
        "!pip install surprise"
      ],
      "execution_count": 1,
      "outputs": [
        {
          "output_type": "stream",
          "text": [
            "Collecting surprise\n",
            "  Downloading https://files.pythonhosted.org/packages/61/de/e5cba8682201fcf9c3719a6fdda95693468ed061945493dea2dd37c5618b/surprise-0.1-py2.py3-none-any.whl\n",
            "Collecting scikit-surprise\n",
            "\u001b[?25l  Downloading https://files.pythonhosted.org/packages/97/37/5d334adaf5ddd65da99fc65f6507e0e4599d092ba048f4302fe8775619e8/scikit-surprise-1.1.1.tar.gz (11.8MB)\n",
            "\u001b[K     |████████████████████████████████| 11.8MB 210kB/s \n",
            "\u001b[?25hRequirement already satisfied: joblib>=0.11 in /usr/local/lib/python3.6/dist-packages (from scikit-surprise->surprise) (0.16.0)\n",
            "Requirement already satisfied: numpy>=1.11.2 in /usr/local/lib/python3.6/dist-packages (from scikit-surprise->surprise) (1.18.5)\n",
            "Requirement already satisfied: scipy>=1.0.0 in /usr/local/lib/python3.6/dist-packages (from scikit-surprise->surprise) (1.4.1)\n",
            "Requirement already satisfied: six>=1.10.0 in /usr/local/lib/python3.6/dist-packages (from scikit-surprise->surprise) (1.15.0)\n",
            "Building wheels for collected packages: scikit-surprise\n",
            "  Building wheel for scikit-surprise (setup.py) ... \u001b[?25l\u001b[?25hdone\n",
            "  Created wheel for scikit-surprise: filename=scikit_surprise-1.1.1-cp36-cp36m-linux_x86_64.whl size=1670951 sha256=fbcd7b88fc26dab9ccbfb718ef607e2db931f509102f60541399f2129010d0f5\n",
            "  Stored in directory: /root/.cache/pip/wheels/78/9c/3d/41b419c9d2aff5b6e2b4c0fc8d25c538202834058f9ed110d0\n",
            "Successfully built scikit-surprise\n",
            "Installing collected packages: scikit-surprise, surprise\n",
            "Successfully installed scikit-surprise-1.1.1 surprise-0.1\n"
          ],
          "name": "stdout"
        }
      ]
    },
    {
      "cell_type": "code",
      "metadata": {
        "id": "vc0I51nYEAv0",
        "outputId": "595bda6f-5528-4d58-cdd4-5dcd60310dc4",
        "colab": {
          "base_uri": "https://localhost:8080/",
          "height": 228
        }
      },
      "source": [
        "!pip install implicit"
      ],
      "execution_count": 2,
      "outputs": [
        {
          "output_type": "stream",
          "text": [
            "Collecting implicit\n",
            "\u001b[?25l  Downloading https://files.pythonhosted.org/packages/bc/07/c0121884722d16e2c5beeb815f6b84b41cbf22e738e4075f1475be2791bc/implicit-0.4.4.tar.gz (1.1MB)\n",
            "\u001b[K     |████████████████████████████████| 1.1MB 4.5MB/s \n",
            "\u001b[?25hRequirement already satisfied: numpy in /usr/local/lib/python3.6/dist-packages (from implicit) (1.18.5)\n",
            "Requirement already satisfied: scipy>=0.16 in /usr/local/lib/python3.6/dist-packages (from implicit) (1.4.1)\n",
            "Requirement already satisfied: tqdm>=4.27 in /usr/local/lib/python3.6/dist-packages (from implicit) (4.41.1)\n",
            "Building wheels for collected packages: implicit\n",
            "  Building wheel for implicit (setup.py) ... \u001b[?25l\u001b[?25hdone\n",
            "  Created wheel for implicit: filename=implicit-0.4.4-cp36-cp36m-linux_x86_64.whl size=3419504 sha256=7146640513e3a8e21611250bdec3cf7fecbf4528cf1eca4a17a965ff77288e91\n",
            "  Stored in directory: /root/.cache/pip/wheels/bf/d4/ec/fd4f622fcbefb7521f149905295b2c26adecb23af38aa28217\n",
            "Successfully built implicit\n",
            "Installing collected packages: implicit\n",
            "Successfully installed implicit-0.4.4\n"
          ],
          "name": "stdout"
        }
      ]
    },
    {
      "cell_type": "markdown",
      "metadata": {
        "id": "-n_RaAQ1bwfH"
      },
      "source": [
        "**Import libraries, Read the data¶**\n"
      ]
    },
    {
      "cell_type": "code",
      "metadata": {
        "id": "6DxkRx70EM5c"
      },
      "source": [
        "%matplotlib inline\n",
        "import pandas as pd\n",
        "import numpy as np\n",
        "import matplotlib.pyplot as plt\n",
        "import seaborn as sns\n",
        "from scipy import stats\n",
        "import time\n",
        "from ast import literal_eval\n",
        "from sklearn.feature_extraction.text import TfidfVectorizer, CountVectorizer\n",
        "from sklearn.metrics.pairwise import linear_kernel, cosine_similarity\n",
        "from nltk.stem.snowball import SnowballStemmer\n",
        "from nltk.stem.wordnet import WordNetLemmatizer\n",
        "from nltk.corpus import wordnet\n",
        "from surprise import Reader, Dataset, SVD, SlopeOne, NMF, SVDpp, KNNBaseline, CoClustering, accuracy\n",
        "from surprise.model_selection import cross_validate\n",
        "from __future__ import (absolute_import, division, print_function,unicode_literals)\n",
        "from sklearn.model_selection import train_test_split\n",
        "from wordcloud import WordCloud, STOPWORDS, ImageColorGenerator\n",
        "import sys\n",
        "import scipy.sparse as sparse\n",
        "from scipy.sparse.linalg import spsolve\n",
        "import random\n",
        "from sklearn.preprocessing import MinMaxScaler\n",
        "import implicit\n"
      ],
      "execution_count": 3,
      "outputs": []
    },
    {
      "cell_type": "code",
      "metadata": {
        "id": "fsaElaRnFiFp",
        "outputId": "3f631a73-811a-45d8-c529-fcbd0368deea",
        "colab": {
          "resources": {
            "http://localhost:8080/nbextensions/google.colab/files.js": {
              "data": "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",
              "ok": true,
              "headers": [
                [
                  "content-type",
                  "application/javascript"
                ]
              ],
              "status": 200,
              "status_text": ""
            }
          },
          "base_uri": "https://localhost:8080/",
          "height": 70
        }
      },
      "source": [
        "from google.colab import files\n",
        "uploaded = files.upload()"
      ],
      "execution_count": 5,
      "outputs": [
        {
          "output_type": "display_data",
          "data": {
            "text/html": [
              "\n",
              "     <input type=\"file\" id=\"files-156d9c83-1539-424f-b3c4-8f196339fea5\" name=\"files[]\" multiple disabled\n",
              "        style=\"border:none\" />\n",
              "     <output id=\"result-156d9c83-1539-424f-b3c4-8f196339fea5\">\n",
              "      Upload widget is only available when the cell has been executed in the\n",
              "      current browser session. Please rerun this cell to enable.\n",
              "      </output>\n",
              "      <script src=\"/nbextensions/google.colab/files.js\"></script> "
            ],
            "text/plain": [
              "<IPython.core.display.HTML object>"
            ]
          },
          "metadata": {
            "tags": []
          }
        },
        {
          "output_type": "stream",
          "text": [
            "Saving hotel_data_final.csv to hotel_data_final.csv\n"
          ],
          "name": "stdout"
        }
      ]
    },
    {
      "cell_type": "code",
      "metadata": {
        "id": "XyvP1JtVFvhW"
      },
      "source": [
        "import io\n",
        "df = pd.read_csv(io.BytesIO(uploaded['hotel_data_final.csv']))"
      ],
      "execution_count": 6,
      "outputs": []
    },
    {
      "cell_type": "code",
      "metadata": {
        "id": "lD2z6DvPh3vQ"
      },
      "source": [
        "from IPython.core.interactiveshell import InteractiveShell\n",
        "InteractiveShell.ast_node_interactivity = \"all\""
      ],
      "execution_count": 7,
      "outputs": []
    },
    {
      "cell_type": "code",
      "metadata": {
        "id": "siyEkCbzGHkf",
        "outputId": "b83f56c5-dcd9-4781-da43-7357a8d4cb4d",
        "colab": {
          "base_uri": "https://localhost:8080/",
          "height": 543
        }
      },
      "source": [
        "# Explore Data\n",
        "type(df)\n",
        "df.size\n",
        "df.shape\n",
        "df.head()\n",
        "df.tail()"
      ],
      "execution_count": 8,
      "outputs": [
        {
          "output_type": "execute_result",
          "data": {
            "text/plain": [
              "pandas.core.frame.DataFrame"
            ]
          },
          "metadata": {
            "tags": []
          },
          "execution_count": 8
        },
        {
          "output_type": "execute_result",
          "data": {
            "text/plain": [
              "280728"
            ]
          },
          "metadata": {
            "tags": []
          },
          "execution_count": 8
        },
        {
          "output_type": "execute_result",
          "data": {
            "text/plain": [
              "(23394, 12)"
            ]
          },
          "metadata": {
            "tags": []
          },
          "execution_count": 8
        },
        {
          "output_type": "execute_result",
          "data": {
            "text/html": [
              "<div>\n",
              "<style scoped>\n",
              "    .dataframe tbody tr th:only-of-type {\n",
              "        vertical-align: middle;\n",
              "    }\n",
              "\n",
              "    .dataframe tbody tr th {\n",
              "        vertical-align: top;\n",
              "    }\n",
              "\n",
              "    .dataframe thead th {\n",
              "        text-align: right;\n",
              "    }\n",
              "</style>\n",
              "<table border=\"1\" class=\"dataframe\">\n",
              "  <thead>\n",
              "    <tr style=\"text-align: right;\">\n",
              "      <th></th>\n",
              "      <th>Hotel_id</th>\n",
              "      <th>Hotel</th>\n",
              "      <th>Address</th>\n",
              "      <th>City</th>\n",
              "      <th>Title</th>\n",
              "      <th>Users</th>\n",
              "      <th>Reviews</th>\n",
              "      <th>Rating</th>\n",
              "      <th>Hotel_Type</th>\n",
              "      <th>Price</th>\n",
              "      <th>Hotel_Category</th>\n",
              "      <th>User_id</th>\n",
              "    </tr>\n",
              "  </thead>\n",
              "  <tbody>\n",
              "    <tr>\n",
              "      <th>0</th>\n",
              "      <td>0</td>\n",
              "      <td>La Quinta</td>\n",
              "      <td>5820 Walden Rd</td>\n",
              "      <td>Beaumont</td>\n",
              "      <td>This hotel is a dump! Upon ch...</td>\n",
              "      <td>margierodriguez.mcqueen</td>\n",
              "      <td>This hotel is a dump! Upon checking in was tol...</td>\n",
              "      <td>1.0</td>\n",
              "      <td>2.0</td>\n",
              "      <td>Rs.8989</td>\n",
              "      <td>Hotels and Motels,Lodging,Meeting &amp; Event Plan...</td>\n",
              "      <td>15400</td>\n",
              "    </tr>\n",
              "    <tr>\n",
              "      <th>1</th>\n",
              "      <td>1</td>\n",
              "      <td>The Point</td>\n",
              "      <td>Po Box 1327</td>\n",
              "      <td>Saranac Lake</td>\n",
              "      <td>Great family time</td>\n",
              "      <td>motomomMaryland</td>\n",
              "      <td>The point is possibly one of our favorite rest...</td>\n",
              "      <td>5.0</td>\n",
              "      <td>NaN</td>\n",
              "      <td>NaN</td>\n",
              "      <td>Hotels,Restaurants</td>\n",
              "      <td>15740</td>\n",
              "    </tr>\n",
              "    <tr>\n",
              "      <th>2</th>\n",
              "      <td>1</td>\n",
              "      <td>The Point</td>\n",
              "      <td>Po Box 1327</td>\n",
              "      <td>Saranac Lake</td>\n",
              "      <td>Throw back to the Gatsby Era - don't miss The ...</td>\n",
              "      <td>ellen00007</td>\n",
              "      <td>From the minute you arrive until the minute yo...</td>\n",
              "      <td>5.0</td>\n",
              "      <td>NaN</td>\n",
              "      <td>NaN</td>\n",
              "      <td>Hotels,Restaurants</td>\n",
              "      <td>13760</td>\n",
              "    </tr>\n",
              "    <tr>\n",
              "      <th>3</th>\n",
              "      <td>1</td>\n",
              "      <td>The Point</td>\n",
              "      <td>Po Box 1327</td>\n",
              "      <td>Saranac Lake</td>\n",
              "      <td>The Point of it all</td>\n",
              "      <td>Szerzek</td>\n",
              "      <td>That is the name on one of their boats. And th...</td>\n",
              "      <td>5.0</td>\n",
              "      <td>NaN</td>\n",
              "      <td>NaN</td>\n",
              "      <td>Hotels,Restaurants</td>\n",
              "      <td>11027</td>\n",
              "    </tr>\n",
              "    <tr>\n",
              "      <th>4</th>\n",
              "      <td>1</td>\n",
              "      <td>The Point</td>\n",
              "      <td>Po Box 1327</td>\n",
              "      <td>Saranac Lake</td>\n",
              "      <td>The most amazing week end!</td>\n",
              "      <td>Sarahbnyc83</td>\n",
              "      <td>I was lucky enough to spend 2 nights at The Po...</td>\n",
              "      <td>5.0</td>\n",
              "      <td>NaN</td>\n",
              "      <td>NaN</td>\n",
              "      <td>Hotels,Restaurants</td>\n",
              "      <td>10306</td>\n",
              "    </tr>\n",
              "  </tbody>\n",
              "</table>\n",
              "</div>"
            ],
            "text/plain": [
              "   Hotel_id  ... User_id\n",
              "0         0  ...   15400\n",
              "1         1  ...   15740\n",
              "2         1  ...   13760\n",
              "3         1  ...   11027\n",
              "4         1  ...   10306\n",
              "\n",
              "[5 rows x 12 columns]"
            ]
          },
          "metadata": {
            "tags": []
          },
          "execution_count": 8
        },
        {
          "output_type": "execute_result",
          "data": {
            "text/html": [
              "<div>\n",
              "<style scoped>\n",
              "    .dataframe tbody tr th:only-of-type {\n",
              "        vertical-align: middle;\n",
              "    }\n",
              "\n",
              "    .dataframe tbody tr th {\n",
              "        vertical-align: top;\n",
              "    }\n",
              "\n",
              "    .dataframe thead th {\n",
              "        text-align: right;\n",
              "    }\n",
              "</style>\n",
              "<table border=\"1\" class=\"dataframe\">\n",
              "  <thead>\n",
              "    <tr style=\"text-align: right;\">\n",
              "      <th></th>\n",
              "      <th>Hotel_id</th>\n",
              "      <th>Hotel</th>\n",
              "      <th>Address</th>\n",
              "      <th>City</th>\n",
              "      <th>Title</th>\n",
              "      <th>Users</th>\n",
              "      <th>Reviews</th>\n",
              "      <th>Rating</th>\n",
              "      <th>Hotel_Type</th>\n",
              "      <th>Price</th>\n",
              "      <th>Hotel_Category</th>\n",
              "      <th>User_id</th>\n",
              "    </tr>\n",
              "  </thead>\n",
              "  <tbody>\n",
              "    <tr>\n",
              "      <th>23389</th>\n",
              "      <td>3128</td>\n",
              "      <td>Polynesian Plaza</td>\n",
              "      <td>2131 Kalakaua Ave</td>\n",
              "      <td>Honolulu</td>\n",
              "      <td>IN SEVERE NEED OF UPDATE - OVERHAUL</td>\n",
              "      <td>fordpipefitter</td>\n",
              "      <td>We spent 2 weeks in this hotel due to the cost...</td>\n",
              "      <td>2.0</td>\n",
              "      <td>2.0</td>\n",
              "      <td>Rs.17718</td>\n",
              "      <td>Vacation Rentals,Resorts &amp; Vacation Cottages,V...</td>\n",
              "      <td>13911</td>\n",
              "    </tr>\n",
              "    <tr>\n",
              "      <th>23390</th>\n",
              "      <td>3129</td>\n",
              "      <td>Quality Inn</td>\n",
              "      <td>2120 Jameson Pl S W</td>\n",
              "      <td>Decatur</td>\n",
              "      <td>NaN</td>\n",
              "      <td>RABBITS</td>\n",
              "      <td>VERY FRIENDLY AND GREAT PRICE. I HAVE STAYED A...</td>\n",
              "      <td>5.0</td>\n",
              "      <td>2.0</td>\n",
              "      <td>Rs.7373</td>\n",
              "      <td>Hotels and Motels,Lodging</td>\n",
              "      <td>9306</td>\n",
              "    </tr>\n",
              "    <tr>\n",
              "      <th>23391</th>\n",
              "      <td>3129</td>\n",
              "      <td>Quality Inn</td>\n",
              "      <td>2120 Jameson Pl S W</td>\n",
              "      <td>Decatur</td>\n",
              "      <td>NaN</td>\n",
              "      <td>Contributor</td>\n",
              "      <td>Editorial Review by Citysearch Editors Colonia...</td>\n",
              "      <td>5.0</td>\n",
              "      <td>2.0</td>\n",
              "      <td>Rs.7373</td>\n",
              "      <td>Hotels and Motels,Lodging</td>\n",
              "      <td>2888</td>\n",
              "    </tr>\n",
              "    <tr>\n",
              "      <th>23392</th>\n",
              "      <td>3130</td>\n",
              "      <td>Quality Inn</td>\n",
              "      <td>12439 Northwest Fwy</td>\n",
              "      <td>Houston</td>\n",
              "      <td>NaN</td>\n",
              "      <td>Houstontraveler</td>\n",
              "      <td>What Happened to this Place!!!! I come this ho...</td>\n",
              "      <td>NaN</td>\n",
              "      <td>2.0</td>\n",
              "      <td>Rs.7373</td>\n",
              "      <td>Hotel &amp; Motel Reservations,Hotels and Motels</td>\n",
              "      <td>4949</td>\n",
              "    </tr>\n",
              "    <tr>\n",
              "      <th>23393</th>\n",
              "      <td>3130</td>\n",
              "      <td>Quality Inn</td>\n",
              "      <td>12439 Northwest Fwy</td>\n",
              "      <td>Houston</td>\n",
              "      <td>NaN</td>\n",
              "      <td>Robyn Galbos</td>\n",
              "      <td>Budget-minded travelers appreciate amenities l...</td>\n",
              "      <td>NaN</td>\n",
              "      <td>2.0</td>\n",
              "      <td>Rs.7373</td>\n",
              "      <td>Hotel &amp; Motel Reservations,Hotels and Motels</td>\n",
              "      <td>9807</td>\n",
              "    </tr>\n",
              "  </tbody>\n",
              "</table>\n",
              "</div>"
            ],
            "text/plain": [
              "       Hotel_id  ... User_id\n",
              "23389      3128  ...   13911\n",
              "23390      3129  ...    9306\n",
              "23391      3129  ...    2888\n",
              "23392      3130  ...    4949\n",
              "23393      3130  ...    9807\n",
              "\n",
              "[5 rows x 12 columns]"
            ]
          },
          "metadata": {
            "tags": []
          },
          "execution_count": 8
        }
      ]
    },
    {
      "cell_type": "code",
      "metadata": {
        "id": "7N-2yq9xiEQt",
        "outputId": "37f90e00-d535-438f-ab53-945c646aa49a",
        "colab": {
          "base_uri": "https://localhost:8080/",
          "height": 326
        }
      },
      "source": [
        "df.info()"
      ],
      "execution_count": 9,
      "outputs": [
        {
          "output_type": "stream",
          "text": [
            "<class 'pandas.core.frame.DataFrame'>\n",
            "RangeIndex: 23394 entries, 0 to 23393\n",
            "Data columns (total 12 columns):\n",
            " #   Column          Non-Null Count  Dtype  \n",
            "---  ------          --------------  -----  \n",
            " 0   Hotel_id        23394 non-null  int64  \n",
            " 1   Hotel           23394 non-null  object \n",
            " 2   Address         23394 non-null  object \n",
            " 3   City            23394 non-null  object \n",
            " 4   Title           23342 non-null  object \n",
            " 5   Users           23394 non-null  object \n",
            " 6   Reviews         23393 non-null  object \n",
            " 7   Rating          23365 non-null  float64\n",
            " 8   Hotel_Type      22432 non-null  float64\n",
            " 9   Price           21881 non-null  object \n",
            " 10  Hotel_Category  23394 non-null  object \n",
            " 11  User_id         23394 non-null  int64  \n",
            "dtypes: float64(2), int64(2), object(8)\n",
            "memory usage: 2.1+ MB\n"
          ],
          "name": "stdout"
        }
      ]
    },
    {
      "cell_type": "code",
      "metadata": {
        "id": "695fs0pHI_Em",
        "outputId": "30550b98-d7dc-4223-9e18-9d43417cced2",
        "colab": {
          "base_uri": "https://localhost:8080/",
          "height": 423
        }
      },
      "source": [
        "# Checking for missing values\n",
        "pd.isnull(df).any()\n",
        "pd.isnull(df).sum()"
      ],
      "execution_count": 10,
      "outputs": [
        {
          "output_type": "execute_result",
          "data": {
            "text/plain": [
              "Hotel_id          False\n",
              "Hotel             False\n",
              "Address           False\n",
              "City              False\n",
              "Title              True\n",
              "Users             False\n",
              "Reviews            True\n",
              "Rating             True\n",
              "Hotel_Type         True\n",
              "Price              True\n",
              "Hotel_Category    False\n",
              "User_id           False\n",
              "dtype: bool"
            ]
          },
          "metadata": {
            "tags": []
          },
          "execution_count": 10
        },
        {
          "output_type": "execute_result",
          "data": {
            "text/plain": [
              "Hotel_id             0\n",
              "Hotel                0\n",
              "Address              0\n",
              "City                 0\n",
              "Title               52\n",
              "Users                0\n",
              "Reviews              1\n",
              "Rating              29\n",
              "Hotel_Type         962\n",
              "Price             1513\n",
              "Hotel_Category       0\n",
              "User_id              0\n",
              "dtype: int64"
            ]
          },
          "metadata": {
            "tags": []
          },
          "execution_count": 10
        }
      ]
    },
    {
      "cell_type": "code",
      "metadata": {
        "id": "577mftAHJDsW",
        "outputId": "d0e83b40-210e-475e-f399-59617802f344",
        "colab": {
          "base_uri": "https://localhost:8080/",
          "height": 82
        }
      },
      "source": [
        "# Dropping the missing values\n",
        "df = df.dropna()\n",
        "df = df.reset_index(drop=True)\n",
        "print('Shape of dataset ',df.shape)\n",
        "print(df.columns)"
      ],
      "execution_count": 11,
      "outputs": [
        {
          "output_type": "stream",
          "text": [
            "Shape of dataset  (21770, 12)\n",
            "Index(['Hotel_id', 'Hotel', 'Address', 'City', 'Title', 'Users', 'Reviews',\n",
            "       'Rating', 'Hotel_Type', 'Price', 'Hotel_Category', 'User_id'],\n",
            "      dtype='object')\n"
          ],
          "name": "stdout"
        }
      ]
    },
    {
      "cell_type": "markdown",
      "metadata": {
        "id": "-UGrkNeHBdh8"
      },
      "source": [
        "**Train-Test Split**"
      ]
    },
    {
      "cell_type": "code",
      "metadata": {
        "id": "AwoqftxBO6PG"
      },
      "source": [
        "from sklearn.model_selection import train_test_split\n",
        "X_train, X_test, y_train, y_test=train_test_split(df[['User_id','Hotel_id']],df['Rating'],test_size=0.25, \n",
        "                                                  random_state=0)\n",
        "\n",
        "y_train=pd.DataFrame(y_train)\n",
        "train=X_train.join(y_train)\n",
        "\n",
        "y_test=pd.DataFrame(y_test)\n",
        "test=X_test.join(y_test)"
      ],
      "execution_count": 12,
      "outputs": []
    },
    {
      "cell_type": "code",
      "metadata": {
        "id": "qPbkm7GrUhxg",
        "outputId": "fe8453f1-174f-4310-9f56-808587dc9e56",
        "colab": {
          "base_uri": "https://localhost:8080/",
          "height": 33
        }
      },
      "source": [
        "X_train.shape\n",
        "X_test.shape\n",
        "y_train.shape\n",
        "y_test.shape"
      ],
      "execution_count": 13,
      "outputs": [
        {
          "output_type": "execute_result",
          "data": {
            "text/plain": [
              "(16327, 2)"
            ]
          },
          "metadata": {
            "tags": []
          },
          "execution_count": 13
        },
        {
          "output_type": "execute_result",
          "data": {
            "text/plain": [
              "(5443, 2)"
            ]
          },
          "metadata": {
            "tags": []
          },
          "execution_count": 13
        },
        {
          "output_type": "execute_result",
          "data": {
            "text/plain": [
              "(16327, 1)"
            ]
          },
          "metadata": {
            "tags": []
          },
          "execution_count": 13
        },
        {
          "output_type": "execute_result",
          "data": {
            "text/plain": [
              "(5443, 1)"
            ]
          },
          "metadata": {
            "tags": []
          },
          "execution_count": 13
        }
      ]
    },
    {
      "cell_type": "markdown",
      "metadata": {
        "id": "w8X0Auv-kji9"
      },
      "source": [
        "**Collaborative Filtering**\n",
        "\n",
        "Collaborative Filtering is based on the idea that users similar to a me can be used to predict how much I will like a particular product or service those users have used/experienced but I have not.\n",
        "\n",
        "**1- Simple Collaborative filtering base on mean**\n",
        "\n",
        "Recommend based on other user's rating histories."
      ]
    },
    {
      "cell_type": "code",
      "metadata": {
        "id": "x_XtTuYGP2sj",
        "outputId": "8daeda65-9e88-4d5d-967f-939916922cc0",
        "colab": {
          "base_uri": "https://localhost:8080/",
          "height": 163
        }
      },
      "source": [
        "def collab_mean(user_id, hotel_id):\n",
        "    user_condition = X_train.Hotel_id == hotel_id\n",
        "    return y_train[user_condition].mean()\n",
        "\n",
        "i=30\n",
        "j=96\n",
        "print('Collaborative mean filter for userId:',i, 'and hotelid:', j, 'is:',collab_mean(i,j).values)\n",
        "print('Actual rating value is:', df[(df.User_id==i)&(df.Hotel_id==j)]['Rating'].mean())\n",
        "print('')\n",
        "\n",
        "i=3529\n",
        "j=25\n",
        "print('Collaborative mean filter for userId:',i, 'and hotelid:', j, 'is:',collab_mean(i,j).values)\n",
        "print('Actual rating value is:', df[(df.User_id==i)&(df.Hotel_id==j)]['Rating'].mean())\n",
        "print('')\n",
        "\n",
        "\n",
        "\n",
        "i=13532\n",
        "j=9\n",
        "print('Collaborative mean filter for userId:',i, 'and hotelid:', j, 'is:',collab_mean(i,j).values)\n",
        "print('Actual rating value is:', df[(df.User_id==i)&(df.Hotel_id==j)]['Rating'].mean())\n",
        "print('')"
      ],
      "execution_count": 14,
      "outputs": [
        {
          "output_type": "stream",
          "text": [
            "Collaborative mean filter for userId: 30 and hotelid: 96 is: [4.18181818]\n",
            "Actual rating value is: 5.0\n",
            "\n",
            "Collaborative mean filter for userId: 3529 and hotelid: 25 is: [4.20930233]\n",
            "Actual rating value is: 4.0\n",
            "\n",
            "Collaborative mean filter for userId: 13532 and hotelid: 9 is: [4.20430108]\n",
            "Actual rating value is: 4.0\n",
            "\n"
          ],
          "name": "stdout"
        }
      ]
    },
    {
      "cell_type": "markdown",
      "metadata": {
        "id": "6mrAoZdkk19M"
      },
      "source": [
        "**2- Matrix Factorization-based algorithms**\n",
        "\n",
        "The idea is basically to take a large (or potentially huge) matrix and factor it into some smaller representation of the original matrix. You can think of it in the same way as we would take a large number and factor it into two much smaller primes. We end up with two or more lower dimensional matrices whose product equals the original one. When we talk about collaborative filtering for recommender systems we want to solve the problem of our original matrix having millions of different dimensions, but our “tastes” not being nearly as complex. Even if i’ve viewed hundreds of items they might just express a couple of different tastes. Here we can actually use matrix factorization to mathematically reduce the dimensionality of our original “all users by all items” matrix into something much smaller that represents “all items by some taste dimensions” and “all users by some taste dimensions”. These dimensions are called latent or hidden features and we learn them from our data. Doing this reduction and working with fewer dimensions makes it both much more computationally efficient and but also gives us better results since we can reason about items in this more compact “taste space”. If we can express each user as a vector of their taste values, and at the same time express each item as a vector of what tastes they represent. You can see we can quite easily make a recommendation. This also gives us the ability to find connections between users who have no specific items in common but share common tastes.\n",
        "\n",
        "**SVD**\n",
        "\n",
        "SVD is a matrix factorization technique that is usually used to reduce the number of features of a data set by reducing space dimensions from N to K where K < N. For the purpose of the recommendation systems however, we are only interested in the matrix factorization part keeping same dimensionality. The matrix factorization is done on the user-item ratings matrix.\n",
        "\n",
        "I have used Surprise library which has several powerful algorithms like Singular Value Decomposition (SVD), Non-negative Matrix Factorization (NMF), K Nearest Neighbor (KNN), and CoClusternig to minimise RMSE (Root Mean Square Error) and give recommendations."
      ]
    },
    {
      "cell_type": "code",
      "metadata": {
        "id": "lj8ZpNGaYX1B"
      },
      "source": [
        "data = Dataset.load_from_df(df[['User_id', 'Hotel_id', 'Rating']], Reader())\n"
      ],
      "execution_count": 15,
      "outputs": []
    },
    {
      "cell_type": "code",
      "metadata": {
        "id": "XQJ8YJ_GYhLR",
        "outputId": "eb6b140e-01f5-4eca-80a2-0776cad1ac80",
        "colab": {
          "base_uri": "https://localhost:8080/",
          "height": 1000
        }
      },
      "source": [
        "Models=[SVD(), NMF(), SlopeOne(), KNNBaseline(), CoClustering()]\n",
        "\n",
        "for i in Models:\n",
        "    start = time.time()\n",
        "    cross_validate(i, data, measures=['RMSE', 'MAE'], cv=5, verbose=True)\n",
        "    end = time.time()\n",
        "    print('Total Elapsed time with model is:',end - start)\n",
        "    print(' ')\n",
        "    print(' ')"
      ],
      "execution_count": 16,
      "outputs": [
        {
          "output_type": "stream",
          "text": [
            "Evaluating RMSE, MAE of algorithm SVD on 5 split(s).\n",
            "\n",
            "                  Fold 1  Fold 2  Fold 3  Fold 4  Fold 5  Mean    Std     \n",
            "RMSE (testset)    1.0782  1.1069  1.0607  1.0629  1.0717  1.0761  0.0166  \n",
            "MAE (testset)     0.8350  0.8553  0.8236  0.8313  0.8348  0.8360  0.0105  \n",
            "Fit time          0.96    0.95    0.95    0.96    0.96    0.96    0.00    \n",
            "Test time         0.10    0.02    0.02    0.02    0.02    0.04    0.03    \n"
          ],
          "name": "stdout"
        },
        {
          "output_type": "execute_result",
          "data": {
            "text/plain": [
              "{'fit_time': (0.9581828117370605,\n",
              "  0.9506053924560547,\n",
              "  0.9534204006195068,\n",
              "  0.9585602283477783,\n",
              "  0.9617354869842529),\n",
              " 'test_mae': array([0.83502231, 0.85528282, 0.8236316 , 0.83133511, 0.8348427 ]),\n",
              " 'test_rmse': array([1.0781598 , 1.10690976, 1.06065746, 1.06293639, 1.0717246 ]),\n",
              " 'test_time': (0.09820270538330078,\n",
              "  0.021178245544433594,\n",
              "  0.02171778678894043,\n",
              "  0.021506071090698242,\n",
              "  0.020934581756591797)}"
            ]
          },
          "metadata": {
            "tags": []
          },
          "execution_count": 16
        },
        {
          "output_type": "stream",
          "text": [
            "Total Elapsed time with model is: 5.1907594203948975\n",
            " \n",
            " \n",
            "Evaluating RMSE, MAE of algorithm NMF on 5 split(s).\n",
            "\n",
            "                  Fold 1  Fold 2  Fold 3  Fold 4  Fold 5  Mean    Std     \n",
            "RMSE (testset)    1.1979  1.2050  1.2201  1.2086  1.2166  1.2097  0.0080  \n",
            "MAE (testset)     0.9218  0.9427  0.9558  0.9416  0.9418  0.9408  0.0109  \n",
            "Fit time          1.71    1.71    1.73    1.72    1.70    1.71    0.01    \n",
            "Test time         0.02    0.02    0.02    0.02    0.02    0.02    0.00    \n"
          ],
          "name": "stdout"
        },
        {
          "output_type": "execute_result",
          "data": {
            "text/plain": [
              "{'fit_time': (1.712583303451538,\n",
              "  1.7123665809631348,\n",
              "  1.730083703994751,\n",
              "  1.7189643383026123,\n",
              "  1.6955337524414062),\n",
              " 'test_mae': array([0.92182737, 0.94274674, 0.95582021, 0.94158454, 0.9418012 ]),\n",
              " 'test_rmse': array([1.19790562, 1.20503334, 1.22014944, 1.20863953, 1.21655955]),\n",
              " 'test_time': (0.0215301513671875,\n",
              "  0.021588802337646484,\n",
              "  0.02376270294189453,\n",
              "  0.02187800407409668,\n",
              "  0.021091222763061523)}"
            ]
          },
          "metadata": {
            "tags": []
          },
          "execution_count": 16
        },
        {
          "output_type": "stream",
          "text": [
            "Total Elapsed time with model is: 8.97967004776001\n",
            " \n",
            " \n",
            "Evaluating RMSE, MAE of algorithm SlopeOne on 5 split(s).\n",
            "\n",
            "                  Fold 1  Fold 2  Fold 3  Fold 4  Fold 5  Mean    Std     \n",
            "RMSE (testset)    1.2026  1.2323  1.2177  1.2008  1.2109  1.2129  0.0115  \n",
            "MAE (testset)     0.9202  0.9259  0.9273  0.9132  0.9233  0.9220  0.0050  \n",
            "Fit time          0.23    0.24    0.21    0.21    0.24    0.22    0.01    \n",
            "Test time         0.04    0.04    0.04    0.04    0.04    0.04    0.00    \n"
          ],
          "name": "stdout"
        },
        {
          "output_type": "execute_result",
          "data": {
            "text/plain": [
              "{'fit_time': (0.22652029991149902,\n",
              "  0.2377612590789795,\n",
              "  0.20621776580810547,\n",
              "  0.21223664283752441,\n",
              "  0.24073266983032227),\n",
              " 'test_mae': array([0.92016931, 0.92591034, 0.92728917, 0.91318813, 0.92330719]),\n",
              " 'test_rmse': array([1.20263419, 1.23231634, 1.21774736, 1.20083022, 1.21085276]),\n",
              " 'test_time': (0.03904533386230469,\n",
              "  0.03757452964782715,\n",
              "  0.037909507751464844,\n",
              "  0.03842878341674805,\n",
              "  0.036667585372924805)}"
            ]
          },
          "metadata": {
            "tags": []
          },
          "execution_count": 16
        },
        {
          "output_type": "stream",
          "text": [
            "Total Elapsed time with model is: 1.545750379562378\n",
            " \n",
            " \n",
            "Estimating biases using als...\n",
            "Computing the msd similarity matrix...\n",
            "Done computing similarity matrix.\n",
            "Estimating biases using als...\n",
            "Computing the msd similarity matrix...\n",
            "Done computing similarity matrix.\n",
            "Estimating biases using als...\n",
            "Computing the msd similarity matrix...\n",
            "Done computing similarity matrix.\n",
            "Estimating biases using als...\n",
            "Computing the msd similarity matrix...\n",
            "Done computing similarity matrix.\n",
            "Estimating biases using als...\n",
            "Computing the msd similarity matrix...\n",
            "Done computing similarity matrix.\n",
            "Evaluating RMSE, MAE of algorithm KNNBaseline on 5 split(s).\n",
            "\n",
            "                  Fold 1  Fold 2  Fold 3  Fold 4  Fold 5  Mean    Std     \n",
            "RMSE (testset)    1.0885  1.0756  1.0792  1.1071  1.0857  1.0872  0.0109  \n",
            "MAE (testset)     0.8468  0.8365  0.8381  0.8495  0.8405  0.8423  0.0050  \n",
            "Fit time          6.57    5.86    5.63    6.53    5.54    6.02    0.44    \n",
            "Test time         0.10    0.09    0.10    0.10    0.09    0.10    0.00    \n"
          ],
          "name": "stdout"
        },
        {
          "output_type": "execute_result",
          "data": {
            "text/plain": [
              "{'fit_time': (6.568473815917969,\n",
              "  5.859039068222046,\n",
              "  5.625234127044678,\n",
              "  6.525378942489624,\n",
              "  5.535629987716675),\n",
              " 'test_mae': array([0.84682128, 0.83646407, 0.83810339, 0.84948785, 0.84048743]),\n",
              " 'test_rmse': array([1.08852186, 1.07555529, 1.07920855, 1.10708831, 1.08572116]),\n",
              " 'test_time': (0.09599471092224121,\n",
              "  0.09494137763977051,\n",
              "  0.0950920581817627,\n",
              "  0.10105466842651367,\n",
              "  0.09331393241882324)}"
            ]
          },
          "metadata": {
            "tags": []
          },
          "execution_count": 16
        },
        {
          "output_type": "stream",
          "text": [
            "Total Elapsed time with model is: 30.92216444015503\n",
            " \n",
            " \n",
            "Evaluating RMSE, MAE of algorithm CoClustering on 5 split(s).\n",
            "\n",
            "                  Fold 1  Fold 2  Fold 3  Fold 4  Fold 5  Mean    Std     \n",
            "RMSE (testset)    1.1680  1.2148  1.2260  1.1752  1.1873  1.1943  0.0225  \n",
            "MAE (testset)     0.9066  0.9271  0.9393  0.8968  0.9108  0.9161  0.0152  \n",
            "Fit time          1.31    1.28    1.29    1.31    1.28    1.30    0.01    \n",
            "Test time         0.02    0.02    0.02    0.02    0.02    0.02    0.00    \n"
          ],
          "name": "stdout"
        },
        {
          "output_type": "execute_result",
          "data": {
            "text/plain": [
              "{'fit_time': (1.309453010559082,\n",
              "  1.2844417095184326,\n",
              "  1.2912521362304688,\n",
              "  1.3104567527770996,\n",
              "  1.2843718528747559),\n",
              " 'test_mae': array([0.90664148, 0.92706454, 0.93933833, 0.89683381, 0.91077642]),\n",
              " 'test_rmse': array([1.16797688, 1.21482458, 1.22601991, 1.17516431, 1.18727847]),\n",
              " 'test_time': (0.018099308013916016,\n",
              "  0.018281936645507812,\n",
              "  0.01789569854736328,\n",
              "  0.01903247833251953,\n",
              "  0.017935514450073242)}"
            ]
          },
          "metadata": {
            "tags": []
          },
          "execution_count": 16
        },
        {
          "output_type": "stream",
          "text": [
            "Total Elapsed time with model is: 6.824107885360718\n",
            " \n",
            " \n"
          ],
          "name": "stdout"
        }
      ]
    },
    {
      "cell_type": "markdown",
      "metadata": {
        "id": "zqpRkwbqlkhi"
      },
      "source": [
        "**Comparing the predicted rating values of some samples with their actual values**"
      ]
    },
    {
      "cell_type": "code",
      "metadata": {
        "id": "LiNqRYXWYlRc",
        "outputId": "e0c06c13-7906-424d-81aa-1885f9af586b",
        "colab": {
          "base_uri": "https://localhost:8080/",
          "height": 1000
        }
      },
      "source": [
        "from surprise.model_selection import train_test_split\n",
        "trainset, testset = train_test_split(data, test_size=.25, random_state=0)\n",
        "\n",
        "Models=[SVD(), NMF(), SlopeOne(), KNNBaseline(), CoClustering()]\n",
        "m=['SVD','NMF','Slop One','KNN Baseline', 'CoClustering']\n",
        "\n",
        "count=0\n",
        "\n",
        "for algo in Models:\n",
        "    print(m[count])\n",
        "    start = time.time()\n",
        "    algo.fit(trainset)\n",
        "    predictions = algo.test(testset)\n",
        "    end = time.time()    \n",
        "    print('Total Elapsed time with model is:',round(end - start,3)) \n",
        "    i=30\n",
        "    j=96\n",
        "    print('Prediction of a particular user:', algo.predict(i,j, 3).est)\n",
        "    print('Actual rating value is:', df[(df.User_id==i)&(df.Hotel_id==j)]['Rating'].mean())\n",
        "    print('')\n",
        "    i=3529\n",
        "    j=25\n",
        "    print('Prediction of a particular user:', algo.predict(i,j, 3).est)\n",
        "    print('Actual rating value is:', df[(df.User_id==i)&(df.Hotel_id==j)]['Rating'].mean())\n",
        "    print('')\n",
        "    i=13532\n",
        "    j=9\n",
        "    print('Prediction of a particular user:', algo.predict(i,j, 3).est)\n",
        "    print('Actual rating value is:', df[(df.User_id==i)&(df.Hotel_id==j)]['Rating'].mean())\n",
        "    print('')\n",
        "    print('')\n",
        "    count+=1"
      ],
      "execution_count": 17,
      "outputs": [
        {
          "output_type": "stream",
          "text": [
            "SVD\n"
          ],
          "name": "stdout"
        },
        {
          "output_type": "execute_result",
          "data": {
            "text/plain": [
              "<surprise.prediction_algorithms.matrix_factorization.SVD at 0x7f01e2161c50>"
            ]
          },
          "metadata": {
            "tags": []
          },
          "execution_count": 17
        },
        {
          "output_type": "stream",
          "text": [
            "Total Elapsed time with model is: 0.955\n",
            "Prediction of a particular user: 4.286017891468428\n",
            "Actual rating value is: 5.0\n",
            "\n",
            "Prediction of a particular user: 4.10336259464257\n",
            "Actual rating value is: 4.0\n",
            "\n",
            "Prediction of a particular user: 4.055758815311502\n",
            "Actual rating value is: 4.0\n",
            "\n",
            "\n",
            "NMF\n"
          ],
          "name": "stdout"
        },
        {
          "output_type": "execute_result",
          "data": {
            "text/plain": [
              "<surprise.prediction_algorithms.matrix_factorization.NMF at 0x7f01e1f0e240>"
            ]
          },
          "metadata": {
            "tags": []
          },
          "execution_count": 17
        },
        {
          "output_type": "stream",
          "text": [
            "Total Elapsed time with model is: 1.684\n",
            "Prediction of a particular user: 4.896922967469765\n",
            "Actual rating value is: 5.0\n",
            "\n",
            "Prediction of a particular user: 3.6828028773477195\n",
            "Actual rating value is: 4.0\n",
            "\n",
            "Prediction of a particular user: 3.9313629456937025\n",
            "Actual rating value is: 4.0\n",
            "\n",
            "\n",
            "Slop One\n"
          ],
          "name": "stdout"
        },
        {
          "output_type": "execute_result",
          "data": {
            "text/plain": [
              "<surprise.prediction_algorithms.slope_one.SlopeOne at 0x7f01e1f0e080>"
            ]
          },
          "metadata": {
            "tags": []
          },
          "execution_count": 17
        },
        {
          "output_type": "stream",
          "text": [
            "Total Elapsed time with model is: 0.251\n",
            "Prediction of a particular user: 5\n",
            "Actual rating value is: 5.0\n",
            "\n",
            "Prediction of a particular user: 3.606837606837607\n",
            "Actual rating value is: 4.0\n",
            "\n",
            "Prediction of a particular user: 4.0\n",
            "Actual rating value is: 4.0\n",
            "\n",
            "\n",
            "KNN Baseline\n",
            "Estimating biases using als...\n",
            "Computing the msd similarity matrix...\n",
            "Done computing similarity matrix.\n"
          ],
          "name": "stdout"
        },
        {
          "output_type": "execute_result",
          "data": {
            "text/plain": [
              "<surprise.prediction_algorithms.knns.KNNBaseline at 0x7f01ee4c0be0>"
            ]
          },
          "metadata": {
            "tags": []
          },
          "execution_count": 17
        },
        {
          "output_type": "stream",
          "text": [
            "Total Elapsed time with model is: 4.971\n",
            "Prediction of a particular user: 4.994851594864499\n",
            "Actual rating value is: 5.0\n",
            "\n",
            "Prediction of a particular user: 4.172558808838583\n",
            "Actual rating value is: 4.0\n",
            "\n",
            "Prediction of a particular user: 4.014300280182937\n",
            "Actual rating value is: 4.0\n",
            "\n",
            "\n",
            "CoClustering\n"
          ],
          "name": "stdout"
        },
        {
          "output_type": "execute_result",
          "data": {
            "text/plain": [
              "<surprise.prediction_algorithms.co_clustering.CoClustering at 0x7f01ee450198>"
            ]
          },
          "metadata": {
            "tags": []
          },
          "execution_count": 17
        },
        {
          "output_type": "stream",
          "text": [
            "Total Elapsed time with model is: 1.256\n",
            "Prediction of a particular user: 5\n",
            "Actual rating value is: 5.0\n",
            "\n",
            "Prediction of a particular user: 2.0998074250596535\n",
            "Actual rating value is: 4.0\n",
            "\n",
            "Prediction of a particular user: 4.172034148342725\n",
            "Actual rating value is: 4.0\n",
            "\n",
            "\n"
          ],
          "name": "stdout"
        }
      ]
    },
    {
      "cell_type": "markdown",
      "metadata": {
        "id": "Q9_35Hanl4pL"
      },
      "source": [
        "**3- Alternating Least Squares (ALS) Collaborative Filtering**\n",
        "\n",
        "Alternating Least Squares (ALS) is a the model we’ll use to fit our data and find similarities. ALS is an iterative optimization process where we for every iteration try to arrive closer and closer to a factorized representation of our original data. We have our original matrix R of size u x i with our users, items and some type of feedback data. We then want to find a way to turn that into one matrix with users and hidden features of size u x f and one with items and hidden features of size f x i. In U and V we have weights for how each user/item relates to each feature. What we do is we calculate U and V so that their product approximates R as closely as possible: R ≈ U x V.\n",
        "\n",
        "By randomly assigning the values in U and V and using least squares iteratively we can arrive at what weights yield the best approximation of R. The least squares approach in it’s basic forms means fitting some line to the data, measuring the sum of squared distances from all points to the line and trying to get an optimal fit by minimising this value.\n",
        "\n",
        "With the alternating least squares approach we use the same idea but iteratively alternate between optimizing U and fixing V and vice versa. We do this for each iteration to arrive closer to R = U x V."
      ]
    },
    {
      "cell_type": "code",
      "metadata": {
        "id": "NUTgFuAlZBP_",
        "outputId": "f9b90de9-3af4-4c78-9b5e-60c9bdcd33ff",
        "colab": {
          "base_uri": "https://localhost:8080/",
          "height": 97,
          "referenced_widgets": [
            "61d210bb22404665a23249c33e92c63d",
            "4b5f6e5f9f294d4a98833c1d2917487b",
            "df8256474e2a46a9864ec5a76f183a3a",
            "2bb66eacc5ab4e38b5d18e3ebb955eb5",
            "e6dbcefae5984b62831d38f0143deefe",
            "3a2ea722e24b4fbd85010a279c7dcf79",
            "df2db2e6b78e42e3a15226365dcffa5c",
            "8d6bef02b9294e568814651b2def32f4"
          ]
        }
      },
      "source": [
        "data=df\n",
        "sparse_item_user = sparse.csr_matrix((data['Rating'].astype(float), (data['Hotel_id'], data['User_id'])))\n",
        "sparse_user_item = sparse.csr_matrix((data['Rating'].astype(float), (data['Hotel_id'], data['User_id'])))\n",
        "\n",
        "# Initialize the als model and fit it using the sparse item-user matrix\n",
        "model = implicit.als.AlternatingLeastSquares(factors=20, regularization=0.1, iterations=20)\n",
        "\n",
        "# Calculate the confidence by multiplying it by our alpha value.\n",
        "alpha_val = 15\n",
        "data_conf = (sparse_item_user * alpha_val).astype('double')\n",
        "\n",
        "model.fit(data_conf)"
      ],
      "execution_count": 18,
      "outputs": [
        {
          "output_type": "stream",
          "text": [
            "GPU training requires factor size to be a multiple of 32. Increasing factors from 20 to 32.\n",
            "WARNING:root:OpenBLAS detected. Its highly recommend to set the environment variable 'export OPENBLAS_NUM_THREADS=1' to disable its internal multithreading\n"
          ],
          "name": "stderr"
        },
        {
          "output_type": "display_data",
          "data": {
            "application/vnd.jupyter.widget-view+json": {
              "model_id": "61d210bb22404665a23249c33e92c63d",
              "version_minor": 0,
              "version_major": 2
            },
            "text/plain": [
              "HBox(children=(FloatProgress(value=0.0, max=20.0), HTML(value='')))"
            ]
          },
          "metadata": {
            "tags": []
          }
        },
        {
          "output_type": "stream",
          "text": [
            "\n"
          ],
          "name": "stdout"
        }
      ]
    },
    {
      "cell_type": "markdown",
      "metadata": {
        "id": "wKBe5veHmJOU"
      },
      "source": [
        "**Finding Hotels Similar to Best Western Lamplighter Inn Suites at SDSU:**"
      ]
    },
    {
      "cell_type": "code",
      "metadata": {
        "id": "Gdrn9ScHZvwu",
        "outputId": "082f0c36-6298-4f25-f6cf-4fa85c4ae10b",
        "colab": {
          "base_uri": "https://localhost:8080/",
          "height": 335
        }
      },
      "source": [
        "#---------------------\n",
        "# FIND SIMILAR HOTELS\n",
        "#---------------------\n",
        "Hotel_id = 318 #Best Western Lamplighter Inn Suites at SDSU\n",
        "n_similar = 10\n",
        "\n",
        "# Use implicit to get similar items.\n",
        "similar = model.similar_items(Hotel_id, n_similar)\n",
        "\n",
        "a=[]\n",
        "b=[]\n",
        "c=[]\n",
        "# Print the names of our most similar movies\n",
        "for item in similar:\n",
        "    idx, score = item\n",
        "    a.append(data.Hotel_id.loc[data.Hotel_id == idx].iloc[0])\n",
        "    b.append(score)\n",
        "    recommendations = pd.DataFrame({'HotelId': a, 'Score': b})\n",
        "\n",
        "for i in a:\n",
        "    c.append(df[df.Hotel_id==i].Hotel.iloc[0])\n",
        "recommendations['Hotel']=c\n",
        "recommendations"
      ],
      "execution_count": 19,
      "outputs": [
        {
          "output_type": "execute_result",
          "data": {
            "text/html": [
              "<div>\n",
              "<style scoped>\n",
              "    .dataframe tbody tr th:only-of-type {\n",
              "        vertical-align: middle;\n",
              "    }\n",
              "\n",
              "    .dataframe tbody tr th {\n",
              "        vertical-align: top;\n",
              "    }\n",
              "\n",
              "    .dataframe thead th {\n",
              "        text-align: right;\n",
              "    }\n",
              "</style>\n",
              "<table border=\"1\" class=\"dataframe\">\n",
              "  <thead>\n",
              "    <tr style=\"text-align: right;\">\n",
              "      <th></th>\n",
              "      <th>HotelId</th>\n",
              "      <th>Score</th>\n",
              "      <th>Hotel</th>\n",
              "    </tr>\n",
              "  </thead>\n",
              "  <tbody>\n",
              "    <tr>\n",
              "      <th>0</th>\n",
              "      <td>318</td>\n",
              "      <td>1.000000</td>\n",
              "      <td>Best Western Lamplighter Inn Suites at SDSU</td>\n",
              "    </tr>\n",
              "    <tr>\n",
              "      <th>1</th>\n",
              "      <td>1049</td>\n",
              "      <td>0.999451</td>\n",
              "      <td>Hampton Inn Myrtle Beach-Northwood</td>\n",
              "    </tr>\n",
              "    <tr>\n",
              "      <th>2</th>\n",
              "      <td>1045</td>\n",
              "      <td>0.854283</td>\n",
              "      <td>Courtyard Macon</td>\n",
              "    </tr>\n",
              "    <tr>\n",
              "      <th>3</th>\n",
              "      <td>2292</td>\n",
              "      <td>0.829147</td>\n",
              "      <td>Home2 Suites By Hilton Greenville Airport</td>\n",
              "    </tr>\n",
              "    <tr>\n",
              "      <th>4</th>\n",
              "      <td>2894</td>\n",
              "      <td>0.770329</td>\n",
              "      <td>Americas Best Value Inn</td>\n",
              "    </tr>\n",
              "    <tr>\n",
              "      <th>5</th>\n",
              "      <td>1324</td>\n",
              "      <td>0.720670</td>\n",
              "      <td>The Westin Poinsett, Greenville</td>\n",
              "    </tr>\n",
              "    <tr>\n",
              "      <th>6</th>\n",
              "      <td>2425</td>\n",
              "      <td>0.605194</td>\n",
              "      <td>W Austin</td>\n",
              "    </tr>\n",
              "    <tr>\n",
              "      <th>7</th>\n",
              "      <td>1216</td>\n",
              "      <td>0.588287</td>\n",
              "      <td>Ramada Costa Mesa/Newport Beach</td>\n",
              "    </tr>\n",
              "    <tr>\n",
              "      <th>8</th>\n",
              "      <td>2771</td>\n",
              "      <td>0.578541</td>\n",
              "      <td>Hampton Inn Suites Indianapolis-Keystone</td>\n",
              "    </tr>\n",
              "    <tr>\n",
              "      <th>9</th>\n",
              "      <td>431</td>\n",
              "      <td>0.554224</td>\n",
              "      <td>Hilton Garden Inn Atlanta Midtown</td>\n",
              "    </tr>\n",
              "  </tbody>\n",
              "</table>\n",
              "</div>"
            ],
            "text/plain": [
              "   HotelId     Score                                        Hotel\n",
              "0      318  1.000000  Best Western Lamplighter Inn Suites at SDSU\n",
              "1     1049  0.999451           Hampton Inn Myrtle Beach-Northwood\n",
              "2     1045  0.854283                              Courtyard Macon\n",
              "3     2292  0.829147    Home2 Suites By Hilton Greenville Airport\n",
              "4     2894  0.770329                      Americas Best Value Inn\n",
              "5     1324  0.720670              The Westin Poinsett, Greenville\n",
              "6     2425  0.605194                                     W Austin\n",
              "7     1216  0.588287              Ramada Costa Mesa/Newport Beach\n",
              "8     2771  0.578541     Hampton Inn Suites Indianapolis-Keystone\n",
              "9      431  0.554224            Hilton Garden Inn Atlanta Midtown"
            ]
          },
          "metadata": {
            "tags": []
          },
          "execution_count": 19
        }
      ]
    },
    {
      "cell_type": "markdown",
      "metadata": {
        "id": "j4yL7RPImZgu"
      },
      "source": [
        "**Finding Hotels Similar to Nob Hill Hotel:**"
      ]
    },
    {
      "cell_type": "code",
      "metadata": {
        "id": "1NQlJar3Z_Ug",
        "outputId": "62ea32f8-6c5b-43c8-aa5c-3435d0a6b2dc",
        "colab": {
          "base_uri": "https://localhost:8080/",
          "height": 335
        }
      },
      "source": [
        "#---------------------\n",
        "# FIND SIMILAR HOTELS\n",
        "#---------------------\n",
        "Hotel_id = 296 #Nob Hill Hotel\n",
        "n_similar = 10\n",
        "\n",
        "# Use implicit to get similar items.\n",
        "similar = model.similar_items(Hotel_id, n_similar)\n",
        "\n",
        "a=[]\n",
        "b=[]\n",
        "c=[]\n",
        "# Print the names of our most similar movies\n",
        "for item in similar:\n",
        "    idx, score = item\n",
        "    a.append(data.Hotel_id.loc[data.Hotel_id == idx].iloc[0])\n",
        "    b.append(score)\n",
        "    recommendations = pd.DataFrame({'HotelId': a, 'Score': b})\n",
        "\n",
        "for i in a:\n",
        "    c.append(df[df.Hotel_id==i].Hotel.iloc[0])\n",
        "\n",
        "recommendations['Hotel']=c\n",
        "recommendations"
      ],
      "execution_count": 20,
      "outputs": [
        {
          "output_type": "execute_result",
          "data": {
            "text/html": [
              "<div>\n",
              "<style scoped>\n",
              "    .dataframe tbody tr th:only-of-type {\n",
              "        vertical-align: middle;\n",
              "    }\n",
              "\n",
              "    .dataframe tbody tr th {\n",
              "        vertical-align: top;\n",
              "    }\n",
              "\n",
              "    .dataframe thead th {\n",
              "        text-align: right;\n",
              "    }\n",
              "</style>\n",
              "<table border=\"1\" class=\"dataframe\">\n",
              "  <thead>\n",
              "    <tr style=\"text-align: right;\">\n",
              "      <th></th>\n",
              "      <th>HotelId</th>\n",
              "      <th>Score</th>\n",
              "      <th>Hotel</th>\n",
              "    </tr>\n",
              "  </thead>\n",
              "  <tbody>\n",
              "    <tr>\n",
              "      <th>0</th>\n",
              "      <td>296</td>\n",
              "      <td>1.000000</td>\n",
              "      <td>Nob Hill Hotel</td>\n",
              "    </tr>\n",
              "    <tr>\n",
              "      <th>1</th>\n",
              "      <td>713</td>\n",
              "      <td>0.927863</td>\n",
              "      <td>Barn Motor Inn</td>\n",
              "    </tr>\n",
              "    <tr>\n",
              "      <th>2</th>\n",
              "      <td>1291</td>\n",
              "      <td>0.927658</td>\n",
              "      <td>Magnuson Grand Hotel</td>\n",
              "    </tr>\n",
              "    <tr>\n",
              "      <th>3</th>\n",
              "      <td>2400</td>\n",
              "      <td>0.591689</td>\n",
              "      <td>Red Roof Inn</td>\n",
              "    </tr>\n",
              "    <tr>\n",
              "      <th>4</th>\n",
              "      <td>1942</td>\n",
              "      <td>0.589663</td>\n",
              "      <td>Comfort Suites-independence</td>\n",
              "    </tr>\n",
              "    <tr>\n",
              "      <th>5</th>\n",
              "      <td>369</td>\n",
              "      <td>0.589618</td>\n",
              "      <td>Comfort Inn Suites</td>\n",
              "    </tr>\n",
              "    <tr>\n",
              "      <th>6</th>\n",
              "      <td>519</td>\n",
              "      <td>0.589613</td>\n",
              "      <td>Mountain View Inn</td>\n",
              "    </tr>\n",
              "    <tr>\n",
              "      <th>7</th>\n",
              "      <td>3061</td>\n",
              "      <td>0.575069</td>\n",
              "      <td>Sheraton Grand Bangalore Hotel at Brigade Gateway</td>\n",
              "    </tr>\n",
              "    <tr>\n",
              "      <th>8</th>\n",
              "      <td>872</td>\n",
              "      <td>0.565855</td>\n",
              "      <td>Americas Best Value Inn</td>\n",
              "    </tr>\n",
              "    <tr>\n",
              "      <th>9</th>\n",
              "      <td>1922</td>\n",
              "      <td>0.565839</td>\n",
              "      <td>Best Western Lake Okeechobee</td>\n",
              "    </tr>\n",
              "  </tbody>\n",
              "</table>\n",
              "</div>"
            ],
            "text/plain": [
              "   HotelId     Score                                              Hotel\n",
              "0      296  1.000000                                     Nob Hill Hotel\n",
              "1      713  0.927863                                     Barn Motor Inn\n",
              "2     1291  0.927658                               Magnuson Grand Hotel\n",
              "3     2400  0.591689                                       Red Roof Inn\n",
              "4     1942  0.589663                        Comfort Suites-independence\n",
              "5      369  0.589618                                 Comfort Inn Suites\n",
              "6      519  0.589613                                  Mountain View Inn\n",
              "7     3061  0.575069  Sheraton Grand Bangalore Hotel at Brigade Gateway\n",
              "8      872  0.565855                            Americas Best Value Inn\n",
              "9     1922  0.565839                       Best Western Lake Okeechobee"
            ]
          },
          "metadata": {
            "tags": []
          },
          "execution_count": 20
        }
      ]
    },
    {
      "cell_type": "markdown",
      "metadata": {
        "id": "iEuzczODmgqD"
      },
      "source": [
        "**Recommend Hotels to User_id = 20:**"
      ]
    },
    {
      "cell_type": "code",
      "metadata": {
        "id": "anSh80fJaEj0",
        "outputId": "bfa91950-09e4-4e0e-bc87-63e07da423ad",
        "colab": {
          "base_uri": "https://localhost:8080/",
          "height": 335
        }
      },
      "source": [
        "#------------------------------\n",
        "# CREATE USER RECOMMENDATIONS\n",
        "#------------------------------\n",
        "\n",
        "# Create recommendations for user with id 20\n",
        "User_id =20\n",
        "\n",
        "# Use the implicit recommender.\n",
        "recommended = model.recommend(User_id, sparse_user_item)\n",
        "\n",
        "hotels = []\n",
        "scores = []\n",
        "c=[]\n",
        "\n",
        "for item in recommended:\n",
        "    idx, score=item\n",
        "    hotels.append(data.Hotel_id.loc[data.Hotel_id==idx].iloc[0])\n",
        "    scores.append(score)\n",
        "\n",
        "\n",
        "recommendations = pd.DataFrame({'HotelId': hotels, 'Score': scores})\n",
        "\n",
        "for i in hotels:\n",
        "    c.append(df[df.Hotel_id==i].Hotel.iloc[0])\n",
        "recommendations['Hotel']=c\n",
        "recommendations"
      ],
      "execution_count": 21,
      "outputs": [
        {
          "output_type": "execute_result",
          "data": {
            "text/html": [
              "<div>\n",
              "<style scoped>\n",
              "    .dataframe tbody tr th:only-of-type {\n",
              "        vertical-align: middle;\n",
              "    }\n",
              "\n",
              "    .dataframe tbody tr th {\n",
              "        vertical-align: top;\n",
              "    }\n",
              "\n",
              "    .dataframe thead th {\n",
              "        text-align: right;\n",
              "    }\n",
              "</style>\n",
              "<table border=\"1\" class=\"dataframe\">\n",
              "  <thead>\n",
              "    <tr style=\"text-align: right;\">\n",
              "      <th></th>\n",
              "      <th>HotelId</th>\n",
              "      <th>Score</th>\n",
              "      <th>Hotel</th>\n",
              "    </tr>\n",
              "  </thead>\n",
              "  <tbody>\n",
              "    <tr>\n",
              "      <th>0</th>\n",
              "      <td>9</td>\n",
              "      <td>0.947020</td>\n",
              "      <td>Doubletree By Hilton West Palm Beach Airport</td>\n",
              "    </tr>\n",
              "    <tr>\n",
              "      <th>1</th>\n",
              "      <td>38</td>\n",
              "      <td>0.264315</td>\n",
              "      <td>Doubletree By Hilton Hotel Bay City - Riverfront</td>\n",
              "    </tr>\n",
              "    <tr>\n",
              "      <th>2</th>\n",
              "      <td>2822</td>\n",
              "      <td>0.260166</td>\n",
              "      <td>French Market Inn</td>\n",
              "    </tr>\n",
              "    <tr>\n",
              "      <th>3</th>\n",
              "      <td>14</td>\n",
              "      <td>0.258840</td>\n",
              "      <td>Staybridge Suites Tyler University Area</td>\n",
              "    </tr>\n",
              "    <tr>\n",
              "      <th>4</th>\n",
              "      <td>1283</td>\n",
              "      <td>0.228071</td>\n",
              "      <td>Hampton Inn &amp; Suites By Hilton Miami/Brickell-...</td>\n",
              "    </tr>\n",
              "    <tr>\n",
              "      <th>5</th>\n",
              "      <td>620</td>\n",
              "      <td>0.213321</td>\n",
              "      <td>SpringHill Suites Seattle Downtown/South Lake ...</td>\n",
              "    </tr>\n",
              "    <tr>\n",
              "      <th>6</th>\n",
              "      <td>3001</td>\n",
              "      <td>0.207065</td>\n",
              "      <td>Waikiki Resort Hotel</td>\n",
              "    </tr>\n",
              "    <tr>\n",
              "      <th>7</th>\n",
              "      <td>3025</td>\n",
              "      <td>0.204718</td>\n",
              "      <td>Breeze Suites</td>\n",
              "    </tr>\n",
              "    <tr>\n",
              "      <th>8</th>\n",
              "      <td>294</td>\n",
              "      <td>0.203978</td>\n",
              "      <td>Greenwich Inn</td>\n",
              "    </tr>\n",
              "    <tr>\n",
              "      <th>9</th>\n",
              "      <td>5</td>\n",
              "      <td>0.200620</td>\n",
              "      <td>Country Inn and Suites By Carlson Corbin</td>\n",
              "    </tr>\n",
              "  </tbody>\n",
              "</table>\n",
              "</div>"
            ],
            "text/plain": [
              "   HotelId     Score                                              Hotel\n",
              "0        9  0.947020       Doubletree By Hilton West Palm Beach Airport\n",
              "1       38  0.264315   Doubletree By Hilton Hotel Bay City - Riverfront\n",
              "2     2822  0.260166                                  French Market Inn\n",
              "3       14  0.258840            Staybridge Suites Tyler University Area\n",
              "4     1283  0.228071  Hampton Inn & Suites By Hilton Miami/Brickell-...\n",
              "5      620  0.213321  SpringHill Suites Seattle Downtown/South Lake ...\n",
              "6     3001  0.207065                               Waikiki Resort Hotel\n",
              "7     3025  0.204718                                      Breeze Suites\n",
              "8      294  0.203978                                      Greenwich Inn\n",
              "9        5  0.200620           Country Inn and Suites By Carlson Corbin"
            ]
          },
          "metadata": {
            "tags": []
          },
          "execution_count": 21
        }
      ]
    },
    {
      "cell_type": "markdown",
      "metadata": {
        "id": "1ijKdRGimqif"
      },
      "source": [
        "**Recommend Hotels to User_id = 995:**"
      ]
    },
    {
      "cell_type": "code",
      "metadata": {
        "id": "gVlq1_RPaLc2",
        "outputId": "91afe8c0-0824-49cf-de63-4cb0d27e2461",
        "colab": {
          "base_uri": "https://localhost:8080/",
          "height": 335
        }
      },
      "source": [
        "#------------------------------\n",
        "# CREATE USER RECOMMENDATIONS\n",
        "#------------------------------\n",
        "\n",
        "# Create recommendations for user with id 995\n",
        "User_id =995\n",
        "\n",
        "# Use the implicit recommender.\n",
        "recommended = model.recommend(User_id, sparse_user_item)\n",
        "\n",
        "hotels = []\n",
        "scores = []\n",
        "c=[]\n",
        "\n",
        "for item in recommended:\n",
        "    idx, score=item\n",
        "    hotels.append(data.Hotel_id.loc[data.Hotel_id==idx].iloc[0])\n",
        "    scores.append(score)\n",
        "\n",
        "\n",
        "recommendations = pd.DataFrame({'HotelId': hotels, 'Score': scores})\n",
        "\n",
        "for i in hotels:\n",
        "    c.append(df[df.Hotel_id==i].Hotel.iloc[0])\n",
        "    \n",
        "recommendations['Hotel']=c\n",
        "recommendations"
      ],
      "execution_count": 22,
      "outputs": [
        {
          "output_type": "execute_result",
          "data": {
            "text/html": [
              "<div>\n",
              "<style scoped>\n",
              "    .dataframe tbody tr th:only-of-type {\n",
              "        vertical-align: middle;\n",
              "    }\n",
              "\n",
              "    .dataframe tbody tr th {\n",
              "        vertical-align: top;\n",
              "    }\n",
              "\n",
              "    .dataframe thead th {\n",
              "        text-align: right;\n",
              "    }\n",
              "</style>\n",
              "<table border=\"1\" class=\"dataframe\">\n",
              "  <thead>\n",
              "    <tr style=\"text-align: right;\">\n",
              "      <th></th>\n",
              "      <th>HotelId</th>\n",
              "      <th>Score</th>\n",
              "      <th>Hotel</th>\n",
              "    </tr>\n",
              "  </thead>\n",
              "  <tbody>\n",
              "    <tr>\n",
              "      <th>0</th>\n",
              "      <td>3113</td>\n",
              "      <td>0.969817</td>\n",
              "      <td>Best Western Plus Waterville Grand Hotel</td>\n",
              "    </tr>\n",
              "    <tr>\n",
              "      <th>1</th>\n",
              "      <td>2</td>\n",
              "      <td>0.899147</td>\n",
              "      <td>Inn At Queen Anne</td>\n",
              "    </tr>\n",
              "    <tr>\n",
              "      <th>2</th>\n",
              "      <td>85</td>\n",
              "      <td>0.705014</td>\n",
              "      <td>Homewood Suites by Hilton Baltimore</td>\n",
              "    </tr>\n",
              "    <tr>\n",
              "      <th>3</th>\n",
              "      <td>25</td>\n",
              "      <td>0.697006</td>\n",
              "      <td>Best Western Plus Arlington North Hotel and Su...</td>\n",
              "    </tr>\n",
              "    <tr>\n",
              "      <th>4</th>\n",
              "      <td>46</td>\n",
              "      <td>0.640948</td>\n",
              "      <td>Howard Johnson Inn Columbia</td>\n",
              "    </tr>\n",
              "    <tr>\n",
              "      <th>5</th>\n",
              "      <td>42</td>\n",
              "      <td>0.636532</td>\n",
              "      <td>Super 8 Ithaca</td>\n",
              "    </tr>\n",
              "    <tr>\n",
              "      <th>6</th>\n",
              "      <td>6</td>\n",
              "      <td>0.624031</td>\n",
              "      <td>Ambassadors Inn and Suites</td>\n",
              "    </tr>\n",
              "    <tr>\n",
              "      <th>7</th>\n",
              "      <td>2189</td>\n",
              "      <td>0.619027</td>\n",
              "      <td>Metro Points Hotel-Washington North</td>\n",
              "    </tr>\n",
              "    <tr>\n",
              "      <th>8</th>\n",
              "      <td>2741</td>\n",
              "      <td>0.615025</td>\n",
              "      <td>Best Western Springfield</td>\n",
              "    </tr>\n",
              "    <tr>\n",
              "      <th>9</th>\n",
              "      <td>3118</td>\n",
              "      <td>0.586928</td>\n",
              "      <td>Fairfield Inn By Marriott Binghamton</td>\n",
              "    </tr>\n",
              "  </tbody>\n",
              "</table>\n",
              "</div>"
            ],
            "text/plain": [
              "   HotelId     Score                                              Hotel\n",
              "0     3113  0.969817           Best Western Plus Waterville Grand Hotel\n",
              "1        2  0.899147                                  Inn At Queen Anne\n",
              "2       85  0.705014                Homewood Suites by Hilton Baltimore\n",
              "3       25  0.697006  Best Western Plus Arlington North Hotel and Su...\n",
              "4       46  0.640948                        Howard Johnson Inn Columbia\n",
              "5       42  0.636532                                     Super 8 Ithaca\n",
              "6        6  0.624031                         Ambassadors Inn and Suites\n",
              "7     2189  0.619027                Metro Points Hotel-Washington North\n",
              "8     2741  0.615025                           Best Western Springfield\n",
              "9     3118  0.586928               Fairfield Inn By Marriott Binghamton"
            ]
          },
          "metadata": {
            "tags": []
          },
          "execution_count": 22
        }
      ]
    }
  ]
}