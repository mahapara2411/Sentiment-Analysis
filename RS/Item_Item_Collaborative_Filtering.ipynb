{
  "nbformat": 4,
  "nbformat_minor": 0,
  "metadata": {
    "colab": {
      "name": " Item-Item Collaborative Filtering.ipynb",
      "provenance": [],
      "collapsed_sections": []
    },
    "kernelspec": {
      "name": "python3",
      "display_name": "Python 3"
    },
    "accelerator": "GPU"
  },
  "cells": [
    {
      "cell_type": "markdown",
      "metadata": {
        "id": "Q3MvQ6sb69LZ"
      },
      "source": [
        "# **Import libraries, Read the data**"
      ]
    },
    {
      "cell_type": "code",
      "metadata": {
        "id": "qDVNytqwcdBF"
      },
      "source": [
        "# Importing Necessary Libraries\n",
        "import numpy as np\n",
        "import pandas as pd\n",
        "import re\n",
        "import string\n",
        "import matplotlib.pyplot as plt\n",
        "%matplotlib inline\n",
        "import seaborn as sns\n",
        "import itertools\n",
        "import collections\n",
        "from sklearn.model_selection import train_test_split\n",
        "from sklearn.metrics import confusion_matrix, average_precision_score, recall_score\n",
        "import seaborn as sns"
      ],
      "execution_count": 2,
      "outputs": []
    },
    {
      "cell_type": "code",
      "metadata": {
        "id": "WmIcJv3Eo0aM",
        "outputId": "b01d272e-821c-4863-bf60-6ac22a3a2359",
        "colab": {
          "resources": {
            "http://localhost:8080/nbextensions/google.colab/files.js": {
              "data": "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",
              "ok": true,
              "headers": [
                [
                  "content-type",
                  "application/javascript"
                ]
              ],
              "status": 200,
              "status_text": ""
            }
          },
          "base_uri": "https://localhost:8080/",
          "height": 70
        }
      },
      "source": [
        "#Upload the Dataset\n",
        "from google.colab import files\n",
        "uploaded = files.upload()"
      ],
      "execution_count": 3,
      "outputs": [
        {
          "output_type": "display_data",
          "data": {
            "text/html": [
              "\n",
              "     <input type=\"file\" id=\"files-060224d5-8317-4965-a916-dac082428c17\" name=\"files[]\" multiple disabled\n",
              "        style=\"border:none\" />\n",
              "     <output id=\"result-060224d5-8317-4965-a916-dac082428c17\">\n",
              "      Upload widget is only available when the cell has been executed in the\n",
              "      current browser session. Please rerun this cell to enable.\n",
              "      </output>\n",
              "      <script src=\"/nbextensions/google.colab/files.js\"></script> "
            ],
            "text/plain": [
              "<IPython.core.display.HTML object>"
            ]
          },
          "metadata": {
            "tags": []
          }
        },
        {
          "output_type": "stream",
          "text": [
            "Saving hotel_data_final.csv to hotel_data_final.csv\n"
          ],
          "name": "stdout"
        }
      ]
    },
    {
      "cell_type": "code",
      "metadata": {
        "id": "zzvJ2qfDpGqf"
      },
      "source": [
        "# Dataset is now stored in a Pandas Dataframe\n",
        "import io\n",
        "df = pd.read_csv(io.BytesIO(uploaded['hotel_data_final.csv']))"
      ],
      "execution_count": 89,
      "outputs": []
    },
    {
      "cell_type": "code",
      "metadata": {
        "id": "Ktd9ZoJXspTy"
      },
      "source": [
        "# Print Multiple statements in same line\n",
        "from IPython.core.interactiveshell import InteractiveShell\n",
        "InteractiveShell.ast_node_interactivity=\"all\""
      ],
      "execution_count": 90,
      "outputs": []
    },
    {
      "cell_type": "code",
      "metadata": {
        "id": "HpqHr8yhsvcb",
        "outputId": "e7fe2b78-101d-43b8-94d9-0574e446095a",
        "colab": {
          "base_uri": "https://localhost:8080/",
          "height": 885
        }
      },
      "source": [
        "#Explore Data\n",
        "df.shape\n",
        "type(df)\n",
        "df.size\n",
        "df.shape\n",
        "df.head()\n",
        "df.tail()\n",
        "df.info()"
      ],
      "execution_count": 91,
      "outputs": [
        {
          "output_type": "execute_result",
          "data": {
            "text/plain": [
              "(23394, 12)"
            ]
          },
          "metadata": {
            "tags": []
          },
          "execution_count": 91
        },
        {
          "output_type": "execute_result",
          "data": {
            "text/plain": [
              "pandas.core.frame.DataFrame"
            ]
          },
          "metadata": {
            "tags": []
          },
          "execution_count": 91
        },
        {
          "output_type": "execute_result",
          "data": {
            "text/plain": [
              "280728"
            ]
          },
          "metadata": {
            "tags": []
          },
          "execution_count": 91
        },
        {
          "output_type": "execute_result",
          "data": {
            "text/plain": [
              "(23394, 12)"
            ]
          },
          "metadata": {
            "tags": []
          },
          "execution_count": 91
        },
        {
          "output_type": "execute_result",
          "data": {
            "text/html": [
              "<div>\n",
              "<style scoped>\n",
              "    .dataframe tbody tr th:only-of-type {\n",
              "        vertical-align: middle;\n",
              "    }\n",
              "\n",
              "    .dataframe tbody tr th {\n",
              "        vertical-align: top;\n",
              "    }\n",
              "\n",
              "    .dataframe thead th {\n",
              "        text-align: right;\n",
              "    }\n",
              "</style>\n",
              "<table border=\"1\" class=\"dataframe\">\n",
              "  <thead>\n",
              "    <tr style=\"text-align: right;\">\n",
              "      <th></th>\n",
              "      <th>Hotel_id</th>\n",
              "      <th>Hotel</th>\n",
              "      <th>Address</th>\n",
              "      <th>City</th>\n",
              "      <th>Title</th>\n",
              "      <th>Users</th>\n",
              "      <th>Reviews</th>\n",
              "      <th>Rating</th>\n",
              "      <th>Hotel_Type</th>\n",
              "      <th>Price</th>\n",
              "      <th>Hotel_Category</th>\n",
              "      <th>User_id</th>\n",
              "    </tr>\n",
              "  </thead>\n",
              "  <tbody>\n",
              "    <tr>\n",
              "      <th>0</th>\n",
              "      <td>0</td>\n",
              "      <td>La Quinta</td>\n",
              "      <td>5820 Walden Rd</td>\n",
              "      <td>Beaumont</td>\n",
              "      <td>This hotel is a dump! Upon ch...</td>\n",
              "      <td>margierodriguez.mcqueen</td>\n",
              "      <td>This hotel is a dump! Upon checking in was tol...</td>\n",
              "      <td>1.0</td>\n",
              "      <td>NaN</td>\n",
              "      <td>NaN</td>\n",
              "      <td>Lodging,Motels,Hotels,Meeting &amp; Event Planning...</td>\n",
              "      <td>15400</td>\n",
              "    </tr>\n",
              "    <tr>\n",
              "      <th>1</th>\n",
              "      <td>1</td>\n",
              "      <td>The Point</td>\n",
              "      <td>Po Box 1327</td>\n",
              "      <td>Saranac Lake</td>\n",
              "      <td>Great family time</td>\n",
              "      <td>motomomMaryland</td>\n",
              "      <td>The point is possibly one of our favorite rest...</td>\n",
              "      <td>5.0</td>\n",
              "      <td>NaN</td>\n",
              "      <td>NaN</td>\n",
              "      <td>Hotels,Hotel,Restaurants</td>\n",
              "      <td>15740</td>\n",
              "    </tr>\n",
              "    <tr>\n",
              "      <th>2</th>\n",
              "      <td>1</td>\n",
              "      <td>The Point</td>\n",
              "      <td>Po Box 1327</td>\n",
              "      <td>Saranac Lake</td>\n",
              "      <td>Throw back to the Gatsby Era - don't miss The ...</td>\n",
              "      <td>ellen00007</td>\n",
              "      <td>From the minute you arrive until the minute yo...</td>\n",
              "      <td>5.0</td>\n",
              "      <td>NaN</td>\n",
              "      <td>NaN</td>\n",
              "      <td>Hotels,Hotel,Restaurants</td>\n",
              "      <td>13760</td>\n",
              "    </tr>\n",
              "    <tr>\n",
              "      <th>3</th>\n",
              "      <td>1</td>\n",
              "      <td>The Point</td>\n",
              "      <td>Po Box 1327</td>\n",
              "      <td>Saranac Lake</td>\n",
              "      <td>The Point of it all</td>\n",
              "      <td>Szerzek</td>\n",
              "      <td>That is the name on one of their boats. And th...</td>\n",
              "      <td>5.0</td>\n",
              "      <td>NaN</td>\n",
              "      <td>NaN</td>\n",
              "      <td>Hotels,Hotel,Restaurants</td>\n",
              "      <td>11027</td>\n",
              "    </tr>\n",
              "    <tr>\n",
              "      <th>4</th>\n",
              "      <td>1</td>\n",
              "      <td>The Point</td>\n",
              "      <td>Po Box 1327</td>\n",
              "      <td>Saranac Lake</td>\n",
              "      <td>The most amazing week end!</td>\n",
              "      <td>Sarahbnyc83</td>\n",
              "      <td>I was lucky enough to spend 2 nights at The Po...</td>\n",
              "      <td>5.0</td>\n",
              "      <td>NaN</td>\n",
              "      <td>NaN</td>\n",
              "      <td>Hotels,Hotel,Restaurants</td>\n",
              "      <td>10306</td>\n",
              "    </tr>\n",
              "  </tbody>\n",
              "</table>\n",
              "</div>"
            ],
            "text/plain": [
              "   Hotel_id  ... User_id\n",
              "0         0  ...   15400\n",
              "1         1  ...   15740\n",
              "2         1  ...   13760\n",
              "3         1  ...   11027\n",
              "4         1  ...   10306\n",
              "\n",
              "[5 rows x 12 columns]"
            ]
          },
          "metadata": {
            "tags": []
          },
          "execution_count": 91
        },
        {
          "output_type": "execute_result",
          "data": {
            "text/html": [
              "<div>\n",
              "<style scoped>\n",
              "    .dataframe tbody tr th:only-of-type {\n",
              "        vertical-align: middle;\n",
              "    }\n",
              "\n",
              "    .dataframe tbody tr th {\n",
              "        vertical-align: top;\n",
              "    }\n",
              "\n",
              "    .dataframe thead th {\n",
              "        text-align: right;\n",
              "    }\n",
              "</style>\n",
              "<table border=\"1\" class=\"dataframe\">\n",
              "  <thead>\n",
              "    <tr style=\"text-align: right;\">\n",
              "      <th></th>\n",
              "      <th>Hotel_id</th>\n",
              "      <th>Hotel</th>\n",
              "      <th>Address</th>\n",
              "      <th>City</th>\n",
              "      <th>Title</th>\n",
              "      <th>Users</th>\n",
              "      <th>Reviews</th>\n",
              "      <th>Rating</th>\n",
              "      <th>Hotel_Type</th>\n",
              "      <th>Price</th>\n",
              "      <th>Hotel_Category</th>\n",
              "      <th>User_id</th>\n",
              "    </tr>\n",
              "  </thead>\n",
              "  <tbody>\n",
              "    <tr>\n",
              "      <th>23389</th>\n",
              "      <td>3128</td>\n",
              "      <td>Polynesian Plaza</td>\n",
              "      <td>2131 Kalakaua Ave</td>\n",
              "      <td>Honolulu</td>\n",
              "      <td>IN SEVERE NEED OF UPDATE - OVERHAUL</td>\n",
              "      <td>fordpipefitter</td>\n",
              "      <td>We spent 2 weeks in this hotel due to the cost...</td>\n",
              "      <td>2.0</td>\n",
              "      <td>2.0</td>\n",
              "      <td>Rs.17718</td>\n",
              "      <td>Vacation Rentals,Resorts &amp; Vacation Cottages,V...</td>\n",
              "      <td>13911</td>\n",
              "    </tr>\n",
              "    <tr>\n",
              "      <th>23390</th>\n",
              "      <td>3129</td>\n",
              "      <td>Quality Inn</td>\n",
              "      <td>2120 Jameson Pl S W</td>\n",
              "      <td>Decatur</td>\n",
              "      <td>NaN</td>\n",
              "      <td>RABBITS</td>\n",
              "      <td>VERY FRIENDLY AND GREAT PRICE. I HAVE STAYED A...</td>\n",
              "      <td>5.0</td>\n",
              "      <td>2.0</td>\n",
              "      <td>Rs.7373</td>\n",
              "      <td>Lodges,Hotels,Hotels &amp; Motels,Lodging,Motels</td>\n",
              "      <td>9306</td>\n",
              "    </tr>\n",
              "    <tr>\n",
              "      <th>23391</th>\n",
              "      <td>3130</td>\n",
              "      <td>Quality Inn</td>\n",
              "      <td>2120 Jameson Pl S W</td>\n",
              "      <td>Decatur</td>\n",
              "      <td>NaN</td>\n",
              "      <td>Contributor</td>\n",
              "      <td>Editorial Review by Citysearch Editors Colonia...</td>\n",
              "      <td>5.0</td>\n",
              "      <td>2.0</td>\n",
              "      <td>Rs.7373</td>\n",
              "      <td>Lodges,Hotels,Hotels &amp; Motels,Lodging,Motels</td>\n",
              "      <td>2888</td>\n",
              "    </tr>\n",
              "    <tr>\n",
              "      <th>23392</th>\n",
              "      <td>3130</td>\n",
              "      <td>Quality Inn</td>\n",
              "      <td>12439 Northwest Fwy</td>\n",
              "      <td>Houston</td>\n",
              "      <td>NaN</td>\n",
              "      <td>Houstontraveler</td>\n",
              "      <td>What Happened to this Place!!!! I come this ho...</td>\n",
              "      <td>NaN</td>\n",
              "      <td>2.0</td>\n",
              "      <td>Rs.7373</td>\n",
              "      <td>Hotel &amp; Motel Reservations,Hotels,Hotels &amp; Mot...</td>\n",
              "      <td>4949</td>\n",
              "    </tr>\n",
              "    <tr>\n",
              "      <th>23393</th>\n",
              "      <td>3130</td>\n",
              "      <td>Quality Inn</td>\n",
              "      <td>12439 Northwest Fwy</td>\n",
              "      <td>Houston</td>\n",
              "      <td>NaN</td>\n",
              "      <td>Robyn Galbos</td>\n",
              "      <td>Budget-minded travelers appreciate amenities l...</td>\n",
              "      <td>NaN</td>\n",
              "      <td>2.0</td>\n",
              "      <td>Rs.7373</td>\n",
              "      <td>Hotel &amp; Motel Reservations,Hotels,Hotels &amp; Mot...</td>\n",
              "      <td>9807</td>\n",
              "    </tr>\n",
              "  </tbody>\n",
              "</table>\n",
              "</div>"
            ],
            "text/plain": [
              "       Hotel_id  ... User_id\n",
              "23389      3128  ...   13911\n",
              "23390      3129  ...    9306\n",
              "23391      3130  ...    2888\n",
              "23392      3130  ...    4949\n",
              "23393      3130  ...    9807\n",
              "\n",
              "[5 rows x 12 columns]"
            ]
          },
          "metadata": {
            "tags": []
          },
          "execution_count": 91
        },
        {
          "output_type": "stream",
          "text": [
            "<class 'pandas.core.frame.DataFrame'>\n",
            "RangeIndex: 23394 entries, 0 to 23393\n",
            "Data columns (total 12 columns):\n",
            " #   Column          Non-Null Count  Dtype  \n",
            "---  ------          --------------  -----  \n",
            " 0   Hotel_id        23394 non-null  int64  \n",
            " 1   Hotel           23394 non-null  object \n",
            " 2   Address         23394 non-null  object \n",
            " 3   City            23394 non-null  object \n",
            " 4   Title           23342 non-null  object \n",
            " 5   Users           23394 non-null  object \n",
            " 6   Reviews         23393 non-null  object \n",
            " 7   Rating          23365 non-null  float64\n",
            " 8   Hotel_Type      22431 non-null  float64\n",
            " 9   Price           21880 non-null  object \n",
            " 10  Hotel_Category  23394 non-null  object \n",
            " 11  User_id         23394 non-null  int64  \n",
            "dtypes: float64(2), int64(2), object(8)\n",
            "memory usage: 2.1+ MB\n"
          ],
          "name": "stdout"
        }
      ]
    },
    {
      "cell_type": "code",
      "metadata": {
        "id": "3gV4S4zIpdtz",
        "outputId": "7c50f891-f5f5-4489-9734-a39e20a4c0dc",
        "colab": {
          "base_uri": "https://localhost:8080/",
          "height": 326
        }
      },
      "source": [
        "df.info()"
      ],
      "execution_count": 92,
      "outputs": [
        {
          "output_type": "stream",
          "text": [
            "<class 'pandas.core.frame.DataFrame'>\n",
            "RangeIndex: 23394 entries, 0 to 23393\n",
            "Data columns (total 12 columns):\n",
            " #   Column          Non-Null Count  Dtype  \n",
            "---  ------          --------------  -----  \n",
            " 0   Hotel_id        23394 non-null  int64  \n",
            " 1   Hotel           23394 non-null  object \n",
            " 2   Address         23394 non-null  object \n",
            " 3   City            23394 non-null  object \n",
            " 4   Title           23342 non-null  object \n",
            " 5   Users           23394 non-null  object \n",
            " 6   Reviews         23393 non-null  object \n",
            " 7   Rating          23365 non-null  float64\n",
            " 8   Hotel_Type      22431 non-null  float64\n",
            " 9   Price           21880 non-null  object \n",
            " 10  Hotel_Category  23394 non-null  object \n",
            " 11  User_id         23394 non-null  int64  \n",
            "dtypes: float64(2), int64(2), object(8)\n",
            "memory usage: 2.1+ MB\n"
          ],
          "name": "stdout"
        }
      ]
    },
    {
      "cell_type": "code",
      "metadata": {
        "id": "X21io0cVtFK5",
        "outputId": "5ead8bf4-ebfc-43f0-ac33-5057c85a75af",
        "colab": {
          "base_uri": "https://localhost:8080/",
          "height": 423
        }
      },
      "source": [
        "# Checking for the missing value\n",
        "df.isnull().any()\n",
        "df.isnull().sum()\n"
      ],
      "execution_count": 93,
      "outputs": [
        {
          "output_type": "execute_result",
          "data": {
            "text/plain": [
              "Hotel_id          False\n",
              "Hotel             False\n",
              "Address           False\n",
              "City              False\n",
              "Title              True\n",
              "Users             False\n",
              "Reviews            True\n",
              "Rating             True\n",
              "Hotel_Type         True\n",
              "Price              True\n",
              "Hotel_Category    False\n",
              "User_id           False\n",
              "dtype: bool"
            ]
          },
          "metadata": {
            "tags": []
          },
          "execution_count": 93
        },
        {
          "output_type": "execute_result",
          "data": {
            "text/plain": [
              "Hotel_id             0\n",
              "Hotel                0\n",
              "Address              0\n",
              "City                 0\n",
              "Title               52\n",
              "Users                0\n",
              "Reviews              1\n",
              "Rating              29\n",
              "Hotel_Type         963\n",
              "Price             1514\n",
              "Hotel_Category       0\n",
              "User_id              0\n",
              "dtype: int64"
            ]
          },
          "metadata": {
            "tags": []
          },
          "execution_count": 93
        }
      ]
    },
    {
      "cell_type": "code",
      "metadata": {
        "id": "2nDSnnyUtL1_",
        "outputId": "4ac3c5a2-dcd4-4f5d-ae5d-a3095783ac18",
        "colab": {
          "base_uri": "https://localhost:8080/",
          "height": 82
        }
      },
      "source": [
        "# Dropping the missing values and checking the shape of the Dataset\n",
        "df = df.dropna()\n",
        "df = df.reset_index(drop=True)\n",
        "print('Shape of dataset ',df.shape)\n",
        "print(df.columns)"
      ],
      "execution_count": 94,
      "outputs": [
        {
          "output_type": "stream",
          "text": [
            "Shape of dataset  (21769, 12)\n",
            "Index(['Hotel_id', 'Hotel', 'Address', 'City', 'Title', 'Users', 'Reviews',\n",
            "       'Rating', 'Hotel_Type', 'Price', 'Hotel_Category', 'User_id'],\n",
            "      dtype='object')\n"
          ],
          "name": "stdout"
        }
      ]
    },
    {
      "cell_type": "code",
      "metadata": {
        "id": "j5FCZ8lNtd8p",
        "outputId": "4785f0d7-a4f2-43af-e4f4-a74e36fb83ad",
        "colab": {
          "base_uri": "https://localhost:8080/",
          "height": 228
        }
      },
      "source": [
        "# ReChecking for missing value\n",
        "df.isnull().sum()"
      ],
      "execution_count": 95,
      "outputs": [
        {
          "output_type": "execute_result",
          "data": {
            "text/plain": [
              "Hotel_id          0\n",
              "Hotel             0\n",
              "Address           0\n",
              "City              0\n",
              "Title             0\n",
              "Users             0\n",
              "Reviews           0\n",
              "Rating            0\n",
              "Hotel_Type        0\n",
              "Price             0\n",
              "Hotel_Category    0\n",
              "User_id           0\n",
              "dtype: int64"
            ]
          },
          "metadata": {
            "tags": []
          },
          "execution_count": 95
        }
      ]
    },
    {
      "cell_type": "markdown",
      "metadata": {
        "id": "6Lv1H_P-ujuP"
      },
      "source": [
        "# **Exploratory Data Analysis**"
      ]
    },
    {
      "cell_type": "code",
      "metadata": {
        "id": "Gl6aNNUFtlyI",
        "outputId": "18d4ae66-903a-40b0-f20f-d0a6b40b1ddb",
        "colab": {
          "base_uri": "https://localhost:8080/",
          "height": 115
        }
      },
      "source": [
        "# Unique Hotels and Users\n",
        "print(\"Total data \")\n",
        "print(\"-\"*50)\n",
        "print(\"\\nTotal no of Ratings :\",df.shape[0])\n",
        "print(\"Total No of Users   :\", len(np.unique(df.User_id)))\n",
        "print(\"Total No of Hotels  :\", len(np.unique(df.Hotel_id)))"
      ],
      "execution_count": 96,
      "outputs": [
        {
          "output_type": "stream",
          "text": [
            "Total data \n",
            "--------------------------------------------------\n",
            "\n",
            "Total no of Ratings : 21769\n",
            "Total No of Users   : 16501\n",
            "Total No of Hotels  : 2421\n"
          ],
          "name": "stdout"
        }
      ]
    },
    {
      "cell_type": "code",
      "metadata": {
        "id": "Qs7jIgle5XXq",
        "outputId": "9c455d39-c476-42ce-8f07-bc787a5abf2d",
        "colab": {
          "base_uri": "https://localhost:8080/",
          "height": 82
        }
      },
      "source": [
        "df['Hotel'].unique()\n"
      ],
      "execution_count": 97,
      "outputs": [
        {
          "output_type": "execute_result",
          "data": {
            "text/plain": [
              "array(['Inn At Queen Anne', 'Economy Inn',\n",
              "       'Holiday Inn Express & Suites Lenoir City (knoxville Area)', ...,\n",
              "       'Sheraton Mission Valley San Diego Hotel',\n",
              "       'Holiday Inn Canyon De Chelly', 'Polynesian Plaza'], dtype=object)"
            ]
          },
          "metadata": {
            "tags": []
          },
          "execution_count": 97
        }
      ]
    },
    {
      "cell_type": "code",
      "metadata": {
        "id": "aIqGwz5AtxVC",
        "outputId": "81e9b1d5-961c-4a98-94ee-c4389276703d",
        "colab": {
          "base_uri": "https://localhost:8080/",
          "height": 33
        }
      },
      "source": [
        "# Maximum and Minimum Rating\n",
        "max_rating = df.Rating.max()\n",
        "min_rating = df.Rating.min()\n",
        "min_rating, max_rating"
      ],
      "execution_count": 98,
      "outputs": [
        {
          "output_type": "execute_result",
          "data": {
            "text/plain": [
              "(1.0, 5.0)"
            ]
          },
          "metadata": {
            "tags": []
          },
          "execution_count": 98
        }
      ]
    },
    {
      "cell_type": "code",
      "metadata": {
        "id": "LQ9bm8FGDhZI",
        "outputId": "d2c62a14-71ee-432d-f05a-6cd6045bd900",
        "colab": {
          "base_uri": "https://localhost:8080/",
          "height": 115
        }
      },
      "source": [
        "df.Rating.value_counts()"
      ],
      "execution_count": 99,
      "outputs": [
        {
          "output_type": "execute_result",
          "data": {
            "text/plain": [
              "5.0    10125\n",
              "4.0     6244\n",
              "3.0     2880\n",
              "2.0     1299\n",
              "1.0     1221\n",
              "Name: Rating, dtype: int64"
            ]
          },
          "metadata": {
            "tags": []
          },
          "execution_count": 99
        }
      ]
    },
    {
      "cell_type": "code",
      "metadata": {
        "id": "HIurz5-jDiwr",
        "outputId": "ddb7ab77-a860-4ed2-d9f0-862557a872d4",
        "colab": {
          "base_uri": "https://localhost:8080/",
          "height": 50
        }
      },
      "source": [
        "print(\"Mean rating : {}\".format(df['Rating'].mean()))\n",
        "print(\"Mean rating standard deviation: {}\".format(df['Rating'].std()))"
      ],
      "execution_count": 100,
      "outputs": [
        {
          "output_type": "stream",
          "text": [
            "Mean rating : 4.045201892599568\n",
            "Mean rating standard deviation: 1.1571153361772608\n"
          ],
          "name": "stdout"
        }
      ]
    },
    {
      "cell_type": "code",
      "metadata": {
        "id": "qavKpq4R81E0",
        "outputId": "5eaec62d-cf28-40f8-9476-15cc79d460e2",
        "colab": {
          "base_uri": "https://localhost:8080/",
          "height": 220
        }
      },
      "source": [
        "ratings = pd.DataFrame(df.groupby('Hotel')['Rating'].mean())\n",
        "ratings['num of ratings'] = pd.DataFrame(df.groupby('Hotel')['Rating'].count())\n",
        "ratings.head()"
      ],
      "execution_count": 101,
      "outputs": [
        {
          "output_type": "execute_result",
          "data": {
            "text/html": [
              "<div>\n",
              "<style scoped>\n",
              "    .dataframe tbody tr th:only-of-type {\n",
              "        vertical-align: middle;\n",
              "    }\n",
              "\n",
              "    .dataframe tbody tr th {\n",
              "        vertical-align: top;\n",
              "    }\n",
              "\n",
              "    .dataframe thead th {\n",
              "        text-align: right;\n",
              "    }\n",
              "</style>\n",
              "<table border=\"1\" class=\"dataframe\">\n",
              "  <thead>\n",
              "    <tr style=\"text-align: right;\">\n",
              "      <th></th>\n",
              "      <th>Rating</th>\n",
              "      <th>num of ratings</th>\n",
              "    </tr>\n",
              "    <tr>\n",
              "      <th>Hotel</th>\n",
              "      <th></th>\n",
              "      <th></th>\n",
              "    </tr>\n",
              "  </thead>\n",
              "  <tbody>\n",
              "    <tr>\n",
              "      <th>11th Avenue Hotel Hostel</th>\n",
              "      <td>1.0</td>\n",
              "      <td>1</td>\n",
              "    </tr>\n",
              "    <tr>\n",
              "      <th>1906 Lodge At Coronado Beach</th>\n",
              "      <td>5.0</td>\n",
              "      <td>1</td>\n",
              "    </tr>\n",
              "    <tr>\n",
              "      <th>21c Museum Hotel Lexington</th>\n",
              "      <td>2.5</td>\n",
              "      <td>2</td>\n",
              "    </tr>\n",
              "    <tr>\n",
              "      <th>250 Main Hotel</th>\n",
              "      <td>5.0</td>\n",
              "      <td>2</td>\n",
              "    </tr>\n",
              "    <tr>\n",
              "      <th>402 Hotel #Thebigo</th>\n",
              "      <td>4.0</td>\n",
              "      <td>1</td>\n",
              "    </tr>\n",
              "  </tbody>\n",
              "</table>\n",
              "</div>"
            ],
            "text/plain": [
              "                              Rating  num of ratings\n",
              "Hotel                                               \n",
              "11th Avenue Hotel Hostel         1.0               1\n",
              "1906 Lodge At Coronado Beach     5.0               1\n",
              "21c Museum Hotel Lexington       2.5               2\n",
              "250 Main Hotel                   5.0               2\n",
              "402 Hotel #Thebigo               4.0               1"
            ]
          },
          "metadata": {
            "tags": []
          },
          "execution_count": 101
        }
      ]
    },
    {
      "cell_type": "code",
      "metadata": {
        "id": "Q880e1WY9IQe",
        "outputId": "56fa5735-c6d7-43ef-c58c-74f55c23fa63",
        "colab": {
          "base_uri": "https://localhost:8080/",
          "height": 336
        }
      },
      "source": [
        "ratings['num of ratings'].plot(logy=True, kind='hist')\n",
        "plt.show()"
      ],
      "execution_count": 102,
      "outputs": [
        {
          "output_type": "execute_result",
          "data": {
            "text/plain": [
              "<matplotlib.axes._subplots.AxesSubplot at 0x7f1c82614518>"
            ]
          },
          "metadata": {
            "tags": []
          },
          "execution_count": 102
        },
        {
          "output_type": "display_data",
          "data": {
            "image/png": "[encoded data removed]",
            "text/plain": [
              "<Figure size 576x360 with 1 Axes>"
            ]
          },
          "metadata": {
            "tags": [],
            "needs_background": "light"
          }
        }
      ]
    },
    {
      "cell_type": "code",
      "metadata": {
        "id": "AlMEuYMZ9MbY",
        "outputId": "d5db2936-4936-4e2b-9296-15552098d430",
        "colab": {
          "base_uri": "https://localhost:8080/",
          "height": 285
        }
      },
      "source": [
        "plt.figure(figsize=(10,4))\n",
        "ratings['Rating'].hist(bins=70)\n",
        "plt.show()"
      ],
      "execution_count": 103,
      "outputs": [
        {
          "output_type": "execute_result",
          "data": {
            "text/plain": [
              "<Figure size 720x288 with 0 Axes>"
            ]
          },
          "metadata": {
            "tags": []
          },
          "execution_count": 103
        },
        {
          "output_type": "execute_result",
          "data": {
            "text/plain": [
              "<matplotlib.axes._subplots.AxesSubplot at 0x7f1c82d258d0>"
            ]
          },
          "metadata": {
            "tags": []
          },
          "execution_count": 103
        },
        {
          "output_type": "display_data",
          "data": {
            "image/png": "[encoded data removed]",
            "text/plain": [
              "<Figure size 720x288 with 1 Axes>"
            ]
          },
          "metadata": {
            "tags": [],
            "needs_background": "light"
          }
        }
      ]
    },
    {
      "cell_type": "code",
      "metadata": {
        "id": "j8_0axIBu-Y1",
        "outputId": "19c96cdf-db60-4105-bc64-88cefc7c238f",
        "colab": {
          "base_uri": "https://localhost:8080/",
          "height": 368
        }
      },
      "source": [
        "plt.rcParams['figure.figsize'] = (8, 5.0)\n",
        "scores = pd.DataFrame({\"Ratings\":df[\"Rating\"]})\n",
        "scores.hist(bins=20)"
      ],
      "execution_count": 104,
      "outputs": [
        {
          "output_type": "execute_result",
          "data": {
            "text/plain": [
              "array([[<matplotlib.axes._subplots.AxesSubplot object at 0x7f1c82e81518>]],\n",
              "      dtype=object)"
            ]
          },
          "metadata": {
            "tags": []
          },
          "execution_count": 104
        },
        {
          "output_type": "display_data",
          "data": {
            "image/png": "[encoded data removed]",
            "text/plain": [
              "<Figure size 576x360 with 1 Axes>"
            ]
          },
          "metadata": {
            "tags": [],
            "needs_background": "light"
          }
        }
      ]
    },
    {
      "cell_type": "code",
      "metadata": {
        "id": "wV7v2wp3vHtR",
        "outputId": "dc63a84b-ec2c-497d-aa4a-7a1867dc64ec",
        "colab": {
          "base_uri": "https://localhost:8080/",
          "height": 368
        }
      },
      "source": [
        "plt.rcParams['figure.figsize'] = (8, 5.0)\n",
        "scores = pd.DataFrame({\"Hotel Type\":df[\"Hotel_Type\"]})\n",
        "scores.hist(bins=20)"
      ],
      "execution_count": 105,
      "outputs": [
        {
          "output_type": "execute_result",
          "data": {
            "text/plain": [
              "array([[<matplotlib.axes._subplots.AxesSubplot object at 0x7f1c83d6ab70>]],\n",
              "      dtype=object)"
            ]
          },
          "metadata": {
            "tags": []
          },
          "execution_count": 105
        },
        {
          "output_type": "display_data",
          "data": {
            "image/png": "[encoded data removed]",
            "text/plain": [
              "<Figure size 576x360 with 1 Axes>"
            ]
          },
          "metadata": {
            "tags": [],
            "needs_background": "light"
          }
        }
      ]
    },
    {
      "cell_type": "code",
      "metadata": {
        "id": "ZGHj-jhbvn2m",
        "outputId": "c9c597bb-4b32-47fc-d60b-f262d4840d08",
        "colab": {
          "base_uri": "https://localhost:8080/",
          "height": 358
        }
      },
      "source": [
        "#Hotel Name\n",
        "hotel_name = df['Hotel'].value_counts()\n",
        "hotel_name[:20]"
      ],
      "execution_count": 106,
      "outputs": [
        {
          "output_type": "execute_result",
          "data": {
            "text/plain": [
              "Best Western Plus Waterville Grand Hotel              269\n",
              "Doubletree By Hilton West Palm Beach Airport          260\n",
              "Doubletree By Hilton Hotel Bay City - Riverfront      211\n",
              "Metro Points Hotel-Washington North                   199\n",
              "Hyatt House Seattle/Downtown                          195\n",
              "The Westin Las Vegas Hotel & Spa                      156\n",
              "Best Western Springfield                              156\n",
              "Best Western Seven Seas                               146\n",
              "French Market Inn                                     144\n",
              "Hotel Emma                                            143\n",
              "ARIA Resort Casino                                    139\n",
              "St. James Hotel, an Ascend Hotel Collection Member    136\n",
              "Grand Hyatt Seattle                                   134\n",
              "Drury Inn & Suites New Orleans                        131\n",
              "Luana Waikiki Hotel & Suites                          131\n",
              "Galleria Park Hotel                                   124\n",
              "Homewood Suites by Hilton Lake Buena Vista-Orlando    122\n",
              "Hotel Diva                                            119\n",
              "River Hotel                                           113\n",
              "JW Marriott Atlanta Buckhead                          109\n",
              "Name: Hotel, dtype: int64"
            ]
          },
          "metadata": {
            "tags": []
          },
          "execution_count": 106
        }
      ]
    },
    {
      "cell_type": "code",
      "metadata": {
        "id": "4b6C13yyz6ta",
        "outputId": "76fc11bf-ba57-431d-fc65-0150caf665a0",
        "colab": {
          "base_uri": "https://localhost:8080/",
          "height": 440
        }
      },
      "source": [
        "List=[]\n",
        "for i in np.arange(4,5.5, 1):\n",
        "    M=df.loc[df[df.Rating==i].Hotel_id.value_counts().head(10).index,'Hotel']\n",
        "    print('Rate: %f' %i)\n",
        "    print(M)\n",
        "    print(' ')"
      ],
      "execution_count": 107,
      "outputs": [
        {
          "output_type": "stream",
          "text": [
            "Rate: 4.000000\n",
            "3113                                          Pacific Inn\n",
            "9                                       Inn At Queen Anne\n",
            "2189                                            The Boxer\n",
            "2741    Homewood Suites by Hilton Lake Buena Vista-Orl...\n",
            "2968          Americas Best Value Inn & Suites Canon City\n",
            "2822                         JW Marriott Atlanta Buckhead\n",
            "3018                                          Chablis Inn\n",
            "38                                      Inn At Queen Anne\n",
            "56                                      Inn At Queen Anne\n",
            "2936          Hampton Inn and Suites Williamsburg-Central\n",
            "Name: Hotel, dtype: object\n",
            " \n",
            "Rate: 5.000000\n",
            "38                                 Inn At Queen Anne\n",
            "2126                    Hampton Inn Suites Bremerton\n",
            "656     Doubletree By Hilton West Palm Beach Airport\n",
            "9                                  Inn At Queen Anne\n",
            "1462                Best Western Owasso Inn & Suites\n",
            "2915                    JW Marriott Atlanta Buckhead\n",
            "2984                     Aloft Philadelphia Downtown\n",
            "2822                    JW Marriott Atlanta Buckhead\n",
            "2684                                      Hotel Abri\n",
            "2682                                      Hotel Abri\n",
            "Name: Hotel, dtype: object\n",
            " \n"
          ],
          "name": "stdout"
        }
      ]
    },
    {
      "cell_type": "code",
      "metadata": {
        "id": "hbjnJ1UzvRIe",
        "outputId": "65aadbbb-cabc-49bb-c77b-dc579c1f8d34",
        "colab": {
          "base_uri": "https://localhost:8080/",
          "height": 392
        }
      },
      "source": [
        "info = pd.pivot_table(df,index=['Hotel'],values=['Rating'],\n",
        "               columns=[],aggfunc=[np.sum, np.mean],fill_value=0)\n",
        "info = info.sort_values(by=('sum', 'Rating'), ascending = False)\n",
        "\n",
        "info.head(10)"
      ],
      "execution_count": 108,
      "outputs": [
        {
          "output_type": "execute_result",
          "data": {
            "text/html": [
              "<div>\n",
              "<style scoped>\n",
              "    .dataframe tbody tr th:only-of-type {\n",
              "        vertical-align: middle;\n",
              "    }\n",
              "\n",
              "    .dataframe tbody tr th {\n",
              "        vertical-align: top;\n",
              "    }\n",
              "\n",
              "    .dataframe thead tr th {\n",
              "        text-align: left;\n",
              "    }\n",
              "\n",
              "    .dataframe thead tr:last-of-type th {\n",
              "        text-align: right;\n",
              "    }\n",
              "</style>\n",
              "<table border=\"1\" class=\"dataframe\">\n",
              "  <thead>\n",
              "    <tr>\n",
              "      <th></th>\n",
              "      <th>sum</th>\n",
              "      <th>mean</th>\n",
              "    </tr>\n",
              "    <tr>\n",
              "      <th></th>\n",
              "      <th>Rating</th>\n",
              "      <th>Rating</th>\n",
              "    </tr>\n",
              "    <tr>\n",
              "      <th>Hotel</th>\n",
              "      <th></th>\n",
              "      <th></th>\n",
              "    </tr>\n",
              "  </thead>\n",
              "  <tbody>\n",
              "    <tr>\n",
              "      <th>Doubletree By Hilton West Palm Beach Airport</th>\n",
              "      <td>1082</td>\n",
              "      <td>4.161538</td>\n",
              "    </tr>\n",
              "    <tr>\n",
              "      <th>Best Western Plus Waterville Grand Hotel</th>\n",
              "      <td>982</td>\n",
              "      <td>3.650558</td>\n",
              "    </tr>\n",
              "    <tr>\n",
              "      <th>Doubletree By Hilton Hotel Bay City - Riverfront</th>\n",
              "      <td>943</td>\n",
              "      <td>4.469194</td>\n",
              "    </tr>\n",
              "    <tr>\n",
              "      <th>Hyatt House Seattle/Downtown</th>\n",
              "      <td>847</td>\n",
              "      <td>4.343590</td>\n",
              "    </tr>\n",
              "    <tr>\n",
              "      <th>Metro Points Hotel-Washington North</th>\n",
              "      <td>737</td>\n",
              "      <td>3.703518</td>\n",
              "    </tr>\n",
              "    <tr>\n",
              "      <th>Hotel Emma</th>\n",
              "      <td>696</td>\n",
              "      <td>4.867133</td>\n",
              "    </tr>\n",
              "    <tr>\n",
              "      <th>French Market Inn</th>\n",
              "      <td>642</td>\n",
              "      <td>4.458333</td>\n",
              "    </tr>\n",
              "    <tr>\n",
              "      <th>ARIA Resort Casino</th>\n",
              "      <td>626</td>\n",
              "      <td>4.503597</td>\n",
              "    </tr>\n",
              "    <tr>\n",
              "      <th>Grand Hyatt Seattle</th>\n",
              "      <td>612</td>\n",
              "      <td>4.567164</td>\n",
              "    </tr>\n",
              "    <tr>\n",
              "      <th>Drury Inn &amp; Suites New Orleans</th>\n",
              "      <td>604</td>\n",
              "      <td>4.610687</td>\n",
              "    </tr>\n",
              "  </tbody>\n",
              "</table>\n",
              "</div>"
            ],
            "text/plain": [
              "                                                    sum      mean\n",
              "                                                 Rating    Rating\n",
              "Hotel                                                            \n",
              "Doubletree By Hilton West Palm Beach Airport       1082  4.161538\n",
              "Best Western Plus Waterville Grand Hotel            982  3.650558\n",
              "Doubletree By Hilton Hotel Bay City - Riverfront    943  4.469194\n",
              "Hyatt House Seattle/Downtown                        847  4.343590\n",
              "Metro Points Hotel-Washington North                 737  3.703518\n",
              "Hotel Emma                                          696  4.867133\n",
              "French Market Inn                                   642  4.458333\n",
              "ARIA Resort Casino                                  626  4.503597\n",
              "Grand Hyatt Seattle                                 612  4.567164\n",
              "Drury Inn & Suites New Orleans                      604  4.610687"
            ]
          },
          "metadata": {
            "tags": []
          },
          "execution_count": 108
        }
      ]
    },
    {
      "cell_type": "markdown",
      "metadata": {
        "id": "9GzSVejA0M8y"
      },
      "source": [
        "**Average rating for the 'Best Western Lamplighter Inn Suites at SDSU' is:**\n"
      ]
    },
    {
      "cell_type": "code",
      "metadata": {
        "id": "ylHxij090H2L",
        "outputId": "7c5a222b-0b15-44ef-f106-1a8cd526002d",
        "colab": {
          "base_uri": "https://localhost:8080/",
          "height": 33
        }
      },
      "source": [
        "df[df.Hotel_id==318].Rating.mean()# Average rating for 'Best Western Lamplighter Inn Suites at SDSU'\n"
      ],
      "execution_count": 109,
      "outputs": [
        {
          "output_type": "execute_result",
          "data": {
            "text/plain": [
              "4.25"
            ]
          },
          "metadata": {
            "tags": []
          },
          "execution_count": 109
        }
      ]
    },
    {
      "cell_type": "markdown",
      "metadata": {
        "id": "vBGnGwpx0Rv2"
      },
      "source": [
        "**Average rating for 'Nob Hill Hotel' is:**"
      ]
    },
    {
      "cell_type": "code",
      "metadata": {
        "id": "2Yb2FgYl0KiA",
        "outputId": "f9b9850f-cb0f-4a2c-8d50-32a98065965b",
        "colab": {
          "base_uri": "https://localhost:8080/",
          "height": 33
        }
      },
      "source": [
        "df[df.Hotel_id==296].Rating.mean() #Average rating for 'Nob Hill Hotel'\n"
      ],
      "execution_count": 110,
      "outputs": [
        {
          "output_type": "execute_result",
          "data": {
            "text/plain": [
              "3.1333333333333333"
            ]
          },
          "metadata": {
            "tags": []
          },
          "execution_count": 110
        }
      ]
    },
    {
      "cell_type": "markdown",
      "metadata": {
        "id": "BUVvmLX70gz6"
      },
      "source": [
        "**The Hotels with the max number of ratings are:**\n",
        "\n",
        "1.Pacific Inn(3113)\n",
        "\n",
        "2.Inn At Queen Anne(9)\n",
        "\n",
        "3.Inn At Queen Anne(28)"
      ]
    },
    {
      "cell_type": "code",
      "metadata": {
        "id": "zTh8N-f70fsF"
      },
      "source": [
        "MaxRating=df['Hotel_id'].value_counts().head(10)\n"
      ],
      "execution_count": 111,
      "outputs": []
    },
    {
      "cell_type": "code",
      "metadata": {
        "id": "rZyk0ytY0qsW",
        "outputId": "5d717b0e-5c76-496e-f431-7a9e6e224e2c",
        "colab": {
          "base_uri": "https://localhost:8080/",
          "height": 196
        }
      },
      "source": [
        "df.loc[MaxRating.index,'Hotel']\n"
      ],
      "execution_count": 112,
      "outputs": [
        {
          "output_type": "execute_result",
          "data": {
            "text/plain": [
              "3113                                          Pacific Inn\n",
              "9                                       Inn At Queen Anne\n",
              "38                                      Inn At Queen Anne\n",
              "2189                                            The Boxer\n",
              "656          Doubletree By Hilton West Palm Beach Airport\n",
              "2741    Homewood Suites by Hilton Lake Buena Vista-Orl...\n",
              "2968          Americas Best Value Inn & Suites Canon City\n",
              "1300                                  Gran Melia Victoria\n",
              "2822                         JW Marriott Atlanta Buckhead\n",
              "2126                         Hampton Inn Suites Bremerton\n",
              "Name: Hotel, dtype: object"
            ]
          },
          "metadata": {
            "tags": []
          },
          "execution_count": 112
        }
      ]
    },
    {
      "cell_type": "code",
      "metadata": {
        "id": "jYsdpRdh0tPL",
        "outputId": "b2ecd2bb-e8d6-46ea-be5f-a43c1c33f692",
        "colab": {
          "base_uri": "https://localhost:8080/",
          "height": 918
        }
      },
      "source": [
        "plt.plot(range(len(MaxRating)), MaxRating,'mo--')\n",
        "plt.xticks(range(len(MaxRating)), df.loc[MaxRating.index,'Hotel'],rotation=90)\n",
        "plt.xlabel('10 hotels with the max number of rating')\n",
        "plt.ylabel('number of ratings')\n",
        "plt.savefig('foo4.png',dpi=300,bbox_inches='tight')\n",
        "plt.show()"
      ],
      "execution_count": 113,
      "outputs": [
        {
          "output_type": "execute_result",
          "data": {
            "text/plain": [
              "[<matplotlib.lines.Line2D at 0x7f1c83cc6860>]"
            ]
          },
          "metadata": {
            "tags": []
          },
          "execution_count": 113
        },
        {
          "output_type": "execute_result",
          "data": {
            "text/plain": [
              "([<matplotlib.axis.XTick at 0x7f1c7a3bae10>,\n",
              "  <matplotlib.axis.XTick at 0x7f1c7a3baeb8>,\n",
              "  <matplotlib.axis.XTick at 0x7f1c7a3cc978>,\n",
              "  <matplotlib.axis.XTick at 0x7f1c83cb2320>,\n",
              "  <matplotlib.axis.XTick at 0x7f1c83cb27b8>,\n",
              "  <matplotlib.axis.XTick at 0x7f1c83cb2c50>,\n",
              "  <matplotlib.axis.XTick at 0x7f1c83ca9160>,\n",
              "  <matplotlib.axis.XTick at 0x7f1c83ca95c0>,\n",
              "  <matplotlib.axis.XTick at 0x7f1c83ca9a58>,\n",
              "  <matplotlib.axis.XTick at 0x7f1c83ca9ef0>],\n",
              " [Text(0, 0, 'Pacific Inn'),\n",
              "  Text(0, 0, 'Inn At Queen Anne'),\n",
              "  Text(0, 0, 'Inn At Queen Anne'),\n",
              "  Text(0, 0, 'The Boxer'),\n",
              "  Text(0, 0, 'Doubletree By Hilton West Palm Beach Airport'),\n",
              "  Text(0, 0, 'Homewood Suites by Hilton Lake Buena Vista-Orlando'),\n",
              "  Text(0, 0, 'Americas Best Value Inn & Suites Canon City'),\n",
              "  Text(0, 0, 'Gran Melia Victoria'),\n",
              "  Text(0, 0, 'JW Marriott Atlanta Buckhead'),\n",
              "  Text(0, 0, 'Hampton Inn Suites Bremerton')])"
            ]
          },
          "metadata": {
            "tags": []
          },
          "execution_count": 113
        },
        {
          "output_type": "execute_result",
          "data": {
            "text/plain": [
              "Text(0.5, 0, '10 hotels with the max number of rating')"
            ]
          },
          "metadata": {
            "tags": []
          },
          "execution_count": 113
        },
        {
          "output_type": "execute_result",
          "data": {
            "text/plain": [
              "Text(0, 0.5, 'number of ratings')"
            ]
          },
          "metadata": {
            "tags": []
          },
          "execution_count": 113
        },
        {
          "output_type": "display_data",
          "data": {
            "image/png": "[encoded data removed]",
            "text/plain": [
              "<Figure size 576x360 with 1 Axes>"
            ]
          },
          "metadata": {
            "tags": [],
            "needs_background": "light"
          }
        }
      ]
    },
    {
      "cell_type": "markdown",
      "metadata": {
        "id": "-hc84RNo00cr"
      },
      "source": [
        "**The Hotels with the highest average rating are:**\n",
        "\n",
        "1.Pacific Inn(3113)\n",
        "\n",
        "2.Inn At Queen Anne(9)\n",
        "\n",
        "3.Inn At Queen Anne(28)"
      ]
    },
    {
      "cell_type": "code",
      "metadata": {
        "id": "DcMOvzWD0wf_",
        "outputId": "fe2327b9-14fa-4686-9cc1-cedb3c7ff3c7",
        "colab": {
          "base_uri": "https://localhost:8080/",
          "height": 918
        }
      },
      "source": [
        "#The Hotels with the highest average rating are:\n",
        "List5=[]\n",
        "for i in MaxRating.index:\n",
        "    List5.append(df[df.Hotel_id==i].Rating.mean())\n",
        "plt.plot(range(len(List5)), sorted(List5,reverse=True),'mo--')\n",
        "plt.xticks(range(len(List5)), df.loc[MaxRating.index,'Hotel'],rotation=90)\n",
        "plt.xlabel('Hotels with highest number of rating')\n",
        "plt.ylabel('Average Rating')\n",
        "plt.savefig('foo5.png',dpi=300,bbox_inches='tight')\n",
        "plt.show()"
      ],
      "execution_count": 114,
      "outputs": [
        {
          "output_type": "execute_result",
          "data": {
            "text/plain": [
              "[<matplotlib.lines.Line2D at 0x7f1c76fdde10>]"
            ]
          },
          "metadata": {
            "tags": []
          },
          "execution_count": 114
        },
        {
          "output_type": "execute_result",
          "data": {
            "text/plain": [
              "([<matplotlib.axis.XTick at 0x7f1c77000b38>,\n",
              "  <matplotlib.axis.XTick at 0x7f1c77000780>,\n",
              "  <matplotlib.axis.XTick at 0x7f1c77000080>,\n",
              "  <matplotlib.axis.XTick at 0x7f1c7e5890f0>,\n",
              "  <matplotlib.axis.XTick at 0x7f1c7e589908>,\n",
              "  <matplotlib.axis.XTick at 0x7f1c7e589e48>,\n",
              "  <matplotlib.axis.XTick at 0x7f1c7e578898>,\n",
              "  <matplotlib.axis.XTick at 0x7f1c7e578128>,\n",
              "  <matplotlib.axis.XTick at 0x7f1c7e578c18>,\n",
              "  <matplotlib.axis.XTick at 0x7f1c7e569198>],\n",
              " [Text(0, 0, 'Pacific Inn'),\n",
              "  Text(0, 0, 'Inn At Queen Anne'),\n",
              "  Text(0, 0, 'Inn At Queen Anne'),\n",
              "  Text(0, 0, 'The Boxer'),\n",
              "  Text(0, 0, 'Doubletree By Hilton West Palm Beach Airport'),\n",
              "  Text(0, 0, 'Homewood Suites by Hilton Lake Buena Vista-Orlando'),\n",
              "  Text(0, 0, 'Americas Best Value Inn & Suites Canon City'),\n",
              "  Text(0, 0, 'Gran Melia Victoria'),\n",
              "  Text(0, 0, 'JW Marriott Atlanta Buckhead'),\n",
              "  Text(0, 0, 'Hampton Inn Suites Bremerton')])"
            ]
          },
          "metadata": {
            "tags": []
          },
          "execution_count": 114
        },
        {
          "output_type": "execute_result",
          "data": {
            "text/plain": [
              "Text(0.5, 0, 'Hotels with highest number of rating')"
            ]
          },
          "metadata": {
            "tags": []
          },
          "execution_count": 114
        },
        {
          "output_type": "execute_result",
          "data": {
            "text/plain": [
              "Text(0, 0.5, 'Average Rating')"
            ]
          },
          "metadata": {
            "tags": []
          },
          "execution_count": 114
        },
        {
          "output_type": "display_data",
          "data": {
            "image/png": "[encoded data removed]",
            "text/plain": [
              "<Figure size 576x360 with 1 Axes>"
            ]
          },
          "metadata": {
            "tags": [],
            "needs_background": "light"
          }
        }
      ]
    },
    {
      "cell_type": "code",
      "metadata": {
        "id": "Vl6Zxtx81242",
        "outputId": "41ad6eab-805f-4e39-fef5-6c3b0719a634",
        "colab": {
          "base_uri": "https://localhost:8080/",
          "height": 33
        }
      },
      "source": [
        "MinRating=df['Hotel_id'].value_counts()\n",
        "MinRating=MinRating[MinRating==1]\n",
        "print('Number of hotels which are rated once:',df.loc[MinRating.index,'Hotel'].shape)"
      ],
      "execution_count": 115,
      "outputs": [
        {
          "output_type": "stream",
          "text": [
            "Number of hotels which are rated once: (749,)\n"
          ],
          "name": "stdout"
        }
      ]
    },
    {
      "cell_type": "markdown",
      "metadata": {
        "id": "L38BfFA617GD"
      },
      "source": [
        "**Average rating of the people with highest number of rating**"
      ]
    },
    {
      "cell_type": "code",
      "metadata": {
        "id": "ayQ105Kp14C7",
        "outputId": "bc691e35-60a6-4d31-b873-ff2bd39babf6",
        "colab": {
          "base_uri": "https://localhost:8080/",
          "height": 180
        }
      },
      "source": [
        "ID=df.User_id.value_counts().head(10) #UserID wih highest number of rating\n",
        "List5=[]\n",
        "for i in ID.index:\n",
        "    List5.append(df[df.User_id==i]['Rating'].mean())\n",
        "\n",
        "List5"
      ],
      "execution_count": 116,
      "outputs": [
        {
          "output_type": "execute_result",
          "data": {
            "text/plain": [
              "[3.5275229357798166,\n",
              " 3.6134453781512605,\n",
              " 3.4657534246575343,\n",
              " 3.9215686274509802,\n",
              " 3.764705882352941,\n",
              " 3.8,\n",
              " 3.8958333333333335,\n",
              " 3.869565217391304,\n",
              " 3.9565217391304346,\n",
              " 4.066666666666666]"
            ]
          },
          "metadata": {
            "tags": []
          },
          "execution_count": 116
        }
      ]
    },
    {
      "cell_type": "markdown",
      "metadata": {
        "id": "8MgcKifqvz9q"
      },
      "source": [
        "**Frequent Name - User Name**\n",
        "\n"
      ]
    },
    {
      "cell_type": "code",
      "metadata": {
        "id": "pT73Tu4Svy2t",
        "outputId": "1bd135b9-937c-4317-c13b-e05cfde8e82d",
        "colab": {
          "base_uri": "https://localhost:8080/",
          "height": 850
        }
      },
      "source": [
        "User_Ferq=df['Users'].value_counts()[:25]\n",
        "sns.barplot(User_Ferq.index,User_Ferq.values)\n",
        "plt.ylabel('User_Name_Count')\n",
        "plt.xlabel('User_Name')\n",
        "plt.xticks(rotation='vertical')\n",
        "plt.show()\n",
        "\n",
        "User_Ferq.plot()"
      ],
      "execution_count": 117,
      "outputs": [
        {
          "output_type": "stream",
          "text": [
            "/usr/local/lib/python3.6/dist-packages/seaborn/_decorators.py:43: FutureWarning: Pass the following variables as keyword args: x, y. From version 0.12, the only valid positional argument will be `data`, and passing other arguments without an explicit keyword will result in an error or misinterpretation.\n",
            "  FutureWarning\n"
          ],
          "name": "stderr"
        },
        {
          "output_type": "execute_result",
          "data": {
            "text/plain": [
              "<matplotlib.axes._subplots.AxesSubplot at 0x7f1c83c9c390>"
            ]
          },
          "metadata": {
            "tags": []
          },
          "execution_count": 117
        },
        {
          "output_type": "execute_result",
          "data": {
            "text/plain": [
              "Text(0, 0.5, 'User_Name_Count')"
            ]
          },
          "metadata": {
            "tags": []
          },
          "execution_count": 117
        },
        {
          "output_type": "execute_result",
          "data": {
            "text/plain": [
              "Text(0.5, 0, 'User_Name')"
            ]
          },
          "metadata": {
            "tags": []
          },
          "execution_count": 117
        },
        {
          "output_type": "execute_result",
          "data": {
            "text/plain": [
              "(array([ 0,  1,  2,  3,  4,  5,  6,  7,  8,  9, 10, 11, 12, 13, 14, 15, 16,\n",
              "        17, 18, 19, 20, 21, 22, 23, 24]),\n",
              " <a list of 25 Text major ticklabel objects>)"
            ]
          },
          "metadata": {
            "tags": []
          },
          "execution_count": 117
        },
        {
          "output_type": "display_data",
          "data": {
            "image/png": "[encoded data removed]",
            "text/plain": [
              "<Figure size 576x360 with 1 Axes>"
            ]
          },
          "metadata": {
            "tags": [],
            "needs_background": "light"
          }
        },
        {
          "output_type": "execute_result",
          "data": {
            "text/plain": [
              "<matplotlib.axes._subplots.AxesSubplot at 0x7f1c773d7080>"
            ]
          },
          "metadata": {
            "tags": []
          },
          "execution_count": 117
        },
        {
          "output_type": "display_data",
          "data": {
            "image/png": "[encoded data removed]",
            "text/plain": [
              "<Figure size 576x360 with 1 Axes>"
            ]
          },
          "metadata": {
            "tags": [],
            "needs_background": "light"
          }
        }
      ]
    },
    {
      "cell_type": "markdown",
      "metadata": {
        "id": "Kfp3kP1ewObf"
      },
      "source": [
        "**Hotels by City**\n",
        "\n"
      ]
    },
    {
      "cell_type": "code",
      "metadata": {
        "id": "XUu2IXWjwIMK",
        "outputId": "ca80995d-a14d-48a5-c6e1-59276d978f3a",
        "colab": {
          "base_uri": "https://localhost:8080/",
          "height": 511
        }
      },
      "source": [
        "City_Counts = df['City'].value_counts()[:25]\n",
        "sns.barplot(City_Counts.index,City_Counts.values)\n",
        "plt.ylabel('Number of Hotels By City')\n",
        "plt.xlabel('City Name')\n",
        "plt.xticks(rotation='vertical')\n",
        "plt.show()"
      ],
      "execution_count": 118,
      "outputs": [
        {
          "output_type": "stream",
          "text": [
            "/usr/local/lib/python3.6/dist-packages/seaborn/_decorators.py:43: FutureWarning: Pass the following variables as keyword args: x, y. From version 0.12, the only valid positional argument will be `data`, and passing other arguments without an explicit keyword will result in an error or misinterpretation.\n",
            "  FutureWarning\n"
          ],
          "name": "stderr"
        },
        {
          "output_type": "execute_result",
          "data": {
            "text/plain": [
              "<matplotlib.axes._subplots.AxesSubplot at 0x7f1c82e75470>"
            ]
          },
          "metadata": {
            "tags": []
          },
          "execution_count": 118
        },
        {
          "output_type": "execute_result",
          "data": {
            "text/plain": [
              "Text(0, 0.5, 'Number of Hotels By City')"
            ]
          },
          "metadata": {
            "tags": []
          },
          "execution_count": 118
        },
        {
          "output_type": "execute_result",
          "data": {
            "text/plain": [
              "Text(0.5, 0, 'City Name')"
            ]
          },
          "metadata": {
            "tags": []
          },
          "execution_count": 118
        },
        {
          "output_type": "execute_result",
          "data": {
            "text/plain": [
              "(array([ 0,  1,  2,  3,  4,  5,  6,  7,  8,  9, 10, 11, 12, 13, 14, 15, 16,\n",
              "        17, 18, 19, 20, 21, 22, 23, 24]),\n",
              " <a list of 25 Text major ticklabel objects>)"
            ]
          },
          "metadata": {
            "tags": []
          },
          "execution_count": 118
        },
        {
          "output_type": "display_data",
          "data": {
            "image/png": "[encoded data removed]",
            "text/plain": [
              "<Figure size 576x360 with 1 Axes>"
            ]
          },
          "metadata": {
            "tags": [],
            "needs_background": "light"
          }
        }
      ]
    },
    {
      "cell_type": "markdown",
      "metadata": {
        "id": "6GRcfLKFynxO"
      },
      "source": [
        "**Analyzing the Rating given by the Users**"
      ]
    },
    {
      "cell_type": "code",
      "metadata": {
        "id": "ai7_fPCWwTOc",
        "outputId": "c748ce2f-097e-4288-969e-f58b8df580a7",
        "colab": {
          "base_uri": "https://localhost:8080/",
          "height": 131
        }
      },
      "source": [
        "#Analysis of rating given by the user \n",
        "\n",
        "no_of_rated_products_per_user = df.groupby(by='User_id')['Rating'].count().sort_values(ascending=False)\n",
        "\n",
        "no_of_rated_products_per_user.head()"
      ],
      "execution_count": 119,
      "outputs": [
        {
          "output_type": "execute_result",
          "data": {
            "text/plain": [
              "User_id\n",
              "710      218\n",
              "17580    119\n",
              "17618     73\n",
              "712       51\n",
              "5834      51\n",
              "Name: Rating, dtype: int64"
            ]
          },
          "metadata": {
            "tags": []
          },
          "execution_count": 119
        }
      ]
    },
    {
      "cell_type": "code",
      "metadata": {
        "id": "jEqfGpWgy1t6",
        "outputId": "e8a3262c-41ca-40f2-e72e-006d52ffbf96",
        "colab": {
          "base_uri": "https://localhost:8080/",
          "height": 163
        }
      },
      "source": [
        "no_of_rated_products_per_user.describe()"
      ],
      "execution_count": 120,
      "outputs": [
        {
          "output_type": "execute_result",
          "data": {
            "text/plain": [
              "count    16501.000000\n",
              "mean         1.319253\n",
              "std          2.793870\n",
              "min          1.000000\n",
              "25%          1.000000\n",
              "50%          1.000000\n",
              "75%          1.000000\n",
              "max        218.000000\n",
              "Name: Rating, dtype: float64"
            ]
          },
          "metadata": {
            "tags": []
          },
          "execution_count": 120
        }
      ]
    },
    {
      "cell_type": "code",
      "metadata": {
        "id": "Nm7bKXAmy5D7"
      },
      "source": [
        "quantiles = no_of_rated_products_per_user.quantile(np.arange(0,1.01,0.01), interpolation='higher')"
      ],
      "execution_count": 121,
      "outputs": []
    },
    {
      "cell_type": "code",
      "metadata": {
        "id": "A1s1pkyay7u1",
        "outputId": "427e2751-a6bb-4d32-ce7e-7068913cfdd5",
        "colab": {
          "base_uri": "https://localhost:8080/",
          "height": 653
        }
      },
      "source": [
        "plt.figure(figsize=(10,10))\n",
        "plt.title(\"Quantiles and their Values\")\n",
        "quantiles.plot()\n",
        "# quantiles with 0.05 difference\n",
        "plt.scatter(x=quantiles.index[::5], y=quantiles.values[::5], c='orange', label=\"quantiles with 0.05 intervals\")\n",
        "# quantiles with 0.25 difference\n",
        "plt.scatter(x=quantiles.index[::25], y=quantiles.values[::25], c='m', label = \"quantiles with 0.25 intervals\")\n",
        "plt.ylabel('No of Ratings by User')\n",
        "plt.xlabel('Value at the quantile')\n",
        "plt.legend(loc='best')\n",
        "plt.show()"
      ],
      "execution_count": 122,
      "outputs": [
        {
          "output_type": "execute_result",
          "data": {
            "text/plain": [
              "<Figure size 720x720 with 0 Axes>"
            ]
          },
          "metadata": {
            "tags": []
          },
          "execution_count": 122
        },
        {
          "output_type": "execute_result",
          "data": {
            "text/plain": [
              "Text(0.5, 1.0, 'Quantiles and their Values')"
            ]
          },
          "metadata": {
            "tags": []
          },
          "execution_count": 122
        },
        {
          "output_type": "execute_result",
          "data": {
            "text/plain": [
              "<matplotlib.axes._subplots.AxesSubplot at 0x7f1c7a56f780>"
            ]
          },
          "metadata": {
            "tags": []
          },
          "execution_count": 122
        },
        {
          "output_type": "execute_result",
          "data": {
            "text/plain": [
              "<matplotlib.collections.PathCollection at 0x7f1c7a375780>"
            ]
          },
          "metadata": {
            "tags": []
          },
          "execution_count": 122
        },
        {
          "output_type": "execute_result",
          "data": {
            "text/plain": [
              "<matplotlib.collections.PathCollection at 0x7f1c7a3753c8>"
            ]
          },
          "metadata": {
            "tags": []
          },
          "execution_count": 122
        },
        {
          "output_type": "execute_result",
          "data": {
            "text/plain": [
              "Text(0, 0.5, 'No of Ratings by User')"
            ]
          },
          "metadata": {
            "tags": []
          },
          "execution_count": 122
        },
        {
          "output_type": "execute_result",
          "data": {
            "text/plain": [
              "Text(0.5, 0, 'Value at the quantile')"
            ]
          },
          "metadata": {
            "tags": []
          },
          "execution_count": 122
        },
        {
          "output_type": "execute_result",
          "data": {
            "text/plain": [
              "<matplotlib.legend.Legend at 0x7f1c7a375358>"
            ]
          },
          "metadata": {
            "tags": []
          },
          "execution_count": 122
        },
        {
          "output_type": "display_data",
          "data": {
            "image/png": "[encoded data removed]",
            "text/plain": [
              "<Figure size 720x720 with 1 Axes>"
            ]
          },
          "metadata": {
            "tags": [],
            "needs_background": "light"
          }
        }
      ]
    },
    {
      "cell_type": "code",
      "metadata": {
        "id": "fa8sGDm7y-N0",
        "outputId": "a14ee556-a9d5-4879-c11e-93bece49e4ee",
        "colab": {
          "base_uri": "https://localhost:8080/",
          "height": 66
        }
      },
      "source": [
        "print('\\n No of rated product more than 30 per user : {}\\n'.format(sum(no_of_rated_products_per_user >= 30)) )"
      ],
      "execution_count": 123,
      "outputs": [
        {
          "output_type": "stream",
          "text": [
            "\n",
            " No of rated product more than 30 per user : 25\n",
            "\n"
          ],
          "name": "stdout"
        }
      ]
    },
    {
      "cell_type": "markdown",
      "metadata": {
        "id": "cFqVLaoN2RbU"
      },
      "source": [
        "**Reviews Wordclouds**\n",
        "\n",
        "There are certain words that use more often in titles. I use WordCloud library to find out what are these words.\n",
        "\n",
        "The word hotel is the most commonly used word in hotel reviews. room, front, desk and good are also among the most commonly occuring words."
      ]
    },
    {
      "cell_type": "code",
      "metadata": {
        "id": "8WsLx5ofzByZ",
        "outputId": "395db426-8de7-40ab-9edb-2238246ed712",
        "colab": {
          "base_uri": "https://localhost:8080/",
          "height": 482
        }
      },
      "source": [
        "df['Reviews'] = df['Reviews'].astype('str')\n",
        "\n",
        "title_corpus = ' '.join(df['Reviews'])\n",
        "\n",
        "\n",
        "title_wordcloud = WordCloud(stopwords=STOPWORDS, background_color='white', height=2000, width=4000).generate(title_corpus)\n",
        "plt.figure(figsize=(16,8))\n",
        "plt.imshow(title_wordcloud)\n",
        "plt.axis('off')\n",
        "plt.savefig('world1.png',dpi=300,bbox_inches='tight')\n",
        "plt.show()"
      ],
      "execution_count": 124,
      "outputs": [
        {
          "output_type": "execute_result",
          "data": {
            "text/plain": [
              "<Figure size 1152x576 with 0 Axes>"
            ]
          },
          "metadata": {
            "tags": []
          },
          "execution_count": 124
        },
        {
          "output_type": "execute_result",
          "data": {
            "text/plain": [
              "<matplotlib.image.AxesImage at 0x7f1c7fc82cc0>"
            ]
          },
          "metadata": {
            "tags": []
          },
          "execution_count": 124
        },
        {
          "output_type": "execute_result",
          "data": {
            "text/plain": [
              "(-0.5, 3999.5, 1999.5, -0.5)"
            ]
          },
          "metadata": {
            "tags": []
          },
          "execution_count": 124
        },
        {
          "output_type": "display_data",
          "data": {
            "image/png": "[encoded data removed]",
            "text/plain": [
              "<Figure size 1152x576 with 1 Axes>"
            ]
          },
          "metadata": {
            "tags": [],
            "needs_background": "light"
          }
        }
      ]
    },
    {
      "cell_type": "markdown",
      "metadata": {
        "id": "HsV1w3CR-Pqg"
      },
      "source": [
        "# **Recommender System**"
      ]
    },
    {
      "cell_type": "markdown",
      "metadata": {
        "id": "AsgNkp2u-H7T"
      },
      "source": [
        "**Popularity Based Recommendation**\n",
        "\n",
        "Popularity based recommendation system works with the trend. It basically uses the items which are in trend right now. For example, if any product which is usually bought by every new user then there are chances that it may suggest that item to the user who just signed up.\n",
        "\n",
        "The problems with popularity based recommendation system is that the personalization is not available with this method i.e. even though you know the behaviour of the user you cannot recommend items accordingly"
      ]
    },
    {
      "cell_type": "code",
      "metadata": {
        "id": "pZRw8rUI5H-3"
      },
      "source": [
        "#Getting the new dataframe which contains users who has given 20 or more ratings\n",
        "\n",
        "new_df=df.groupby(\"Hotel_id\").filter(lambda x:x['Rating'].count() >=20)"
      ],
      "execution_count": 125,
      "outputs": []
    },
    {
      "cell_type": "code",
      "metadata": {
        "id": "KyTS2W9v5OAj",
        "outputId": "3c14debd-db34-4b96-a83f-c7201db3b899",
        "colab": {
          "base_uri": "https://localhost:8080/",
          "height": 356
        }
      },
      "source": [
        "no_of_ratings_per_hotel = new_df.groupby(by='Hotel_id')['Rating'].count().sort_values(ascending=False)\n",
        "\n",
        "fig = plt.figure(figsize=plt.figaspect(.5))\n",
        "ax = plt.gca()\n",
        "plt.plot(no_of_ratings_per_hotel.values)\n",
        "plt.title('# RATINGS per Hotel')\n",
        "plt.xlabel('Hotels')\n",
        "plt.ylabel('No of Ratings per Hotel')\n",
        "ax.set_xticklabels([])\n",
        "\n",
        "plt.show()"
      ],
      "execution_count": 126,
      "outputs": [
        {
          "output_type": "execute_result",
          "data": {
            "text/plain": [
              "[<matplotlib.lines.Line2D at 0x7f1c7fc82ba8>]"
            ]
          },
          "metadata": {
            "tags": []
          },
          "execution_count": 126
        },
        {
          "output_type": "execute_result",
          "data": {
            "text/plain": [
              "Text(0.5, 1.0, '# RATINGS per Hotel')"
            ]
          },
          "metadata": {
            "tags": []
          },
          "execution_count": 126
        },
        {
          "output_type": "execute_result",
          "data": {
            "text/plain": [
              "Text(0.5, 0, 'Hotels')"
            ]
          },
          "metadata": {
            "tags": []
          },
          "execution_count": 126
        },
        {
          "output_type": "execute_result",
          "data": {
            "text/plain": [
              "Text(0, 0.5, 'No of Ratings per Hotel')"
            ]
          },
          "metadata": {
            "tags": []
          },
          "execution_count": 126
        },
        {
          "output_type": "execute_result",
          "data": {
            "text/plain": [
              "[]"
            ]
          },
          "metadata": {
            "tags": []
          },
          "execution_count": 126
        },
        {
          "output_type": "display_data",
          "data": {
            "image/png": "[encoded data removed]",
            "text/plain": [
              "<Figure size 720x360 with 1 Axes>"
            ]
          },
          "metadata": {
            "tags": [],
            "needs_background": "light"
          }
        }
      ]
    },
    {
      "cell_type": "code",
      "metadata": {
        "id": "yH4eCGGr-ka8",
        "outputId": "f998d6f3-a107-4a4f-e864-7837509f940b",
        "colab": {
          "base_uri": "https://localhost:8080/",
          "height": 131
        }
      },
      "source": [
        "#Average rating of the Hotel \n",
        "\n",
        "new_df.groupby('Hotel_id')['Rating'].mean().head()"
      ],
      "execution_count": 127,
      "outputs": [
        {
          "output_type": "execute_result",
          "data": {
            "text/plain": [
              "Hotel_id\n",
              "2    3.013889\n",
              "3    2.033333\n",
              "4    3.562500\n",
              "5    4.011765\n",
              "6    2.618557\n",
              "Name: Rating, dtype: float64"
            ]
          },
          "metadata": {
            "tags": []
          },
          "execution_count": 127
        }
      ]
    },
    {
      "cell_type": "code",
      "metadata": {
        "id": "lVdfCyYf-mEm",
        "outputId": "bef1c14f-3aab-420a-f2b4-66dd0061ee74",
        "colab": {
          "base_uri": "https://localhost:8080/",
          "height": 131
        }
      },
      "source": [
        "new_df.groupby('Hotel_id')['Rating'].mean().sort_values(ascending=False).head()"
      ],
      "execution_count": 128,
      "outputs": [
        {
          "output_type": "execute_result",
          "data": {
            "text/plain": [
              "Hotel_id\n",
              "16      4.966667\n",
              "52      4.913043\n",
              "2576    4.903226\n",
              "628     4.900000\n",
              "90      4.888889\n",
              "Name: Rating, dtype: float64"
            ]
          },
          "metadata": {
            "tags": []
          },
          "execution_count": 128
        }
      ]
    },
    {
      "cell_type": "code",
      "metadata": {
        "id": "mnYB0DDO-oPC",
        "outputId": "0705cdef-5372-4ab1-8eab-5c72478a6e1c",
        "colab": {
          "base_uri": "https://localhost:8080/",
          "height": 131
        }
      },
      "source": [
        "#Total no of rating for Hotel\n",
        "\n",
        "new_df.groupby('Hotel_id')['Rating'].count().sort_values(ascending=False).head()"
      ],
      "execution_count": 129,
      "outputs": [
        {
          "output_type": "execute_result",
          "data": {
            "text/plain": [
              "Hotel_id\n",
              "3113    269\n",
              "9       260\n",
              "38      211\n",
              "2189    199\n",
              "656     195\n",
              "Name: Rating, dtype: int64"
            ]
          },
          "metadata": {
            "tags": []
          },
          "execution_count": 129
        }
      ]
    },
    {
      "cell_type": "code",
      "metadata": {
        "id": "n-Q4aoo2_6su"
      },
      "source": [
        "ratings_mean_count = pd.DataFrame(new_df.groupby('Hotel_id')['Rating'].mean())"
      ],
      "execution_count": 130,
      "outputs": []
    },
    {
      "cell_type": "code",
      "metadata": {
        "id": "7hzJXVTX_7y_"
      },
      "source": [
        "ratings_mean_count['rating_counts'] = pd.DataFrame(new_df.groupby('Hotel_id')['Rating'].count())"
      ],
      "execution_count": 131,
      "outputs": []
    },
    {
      "cell_type": "code",
      "metadata": {
        "id": "_MY9VODv_-ck",
        "outputId": "9ad76ae1-3066-4a66-a5d7-df0f0ce49f80",
        "colab": {
          "base_uri": "https://localhost:8080/",
          "height": 220
        }
      },
      "source": [
        "ratings_mean_count.head()"
      ],
      "execution_count": 132,
      "outputs": [
        {
          "output_type": "execute_result",
          "data": {
            "text/html": [
              "<div>\n",
              "<style scoped>\n",
              "    .dataframe tbody tr th:only-of-type {\n",
              "        vertical-align: middle;\n",
              "    }\n",
              "\n",
              "    .dataframe tbody tr th {\n",
              "        vertical-align: top;\n",
              "    }\n",
              "\n",
              "    .dataframe thead th {\n",
              "        text-align: right;\n",
              "    }\n",
              "</style>\n",
              "<table border=\"1\" class=\"dataframe\">\n",
              "  <thead>\n",
              "    <tr style=\"text-align: right;\">\n",
              "      <th></th>\n",
              "      <th>Rating</th>\n",
              "      <th>rating_counts</th>\n",
              "    </tr>\n",
              "    <tr>\n",
              "      <th>Hotel_id</th>\n",
              "      <th></th>\n",
              "      <th></th>\n",
              "    </tr>\n",
              "  </thead>\n",
              "  <tbody>\n",
              "    <tr>\n",
              "      <th>2</th>\n",
              "      <td>3.013889</td>\n",
              "      <td>72</td>\n",
              "    </tr>\n",
              "    <tr>\n",
              "      <th>3</th>\n",
              "      <td>2.033333</td>\n",
              "      <td>30</td>\n",
              "    </tr>\n",
              "    <tr>\n",
              "      <th>4</th>\n",
              "      <td>3.562500</td>\n",
              "      <td>32</td>\n",
              "    </tr>\n",
              "    <tr>\n",
              "      <th>5</th>\n",
              "      <td>4.011765</td>\n",
              "      <td>85</td>\n",
              "    </tr>\n",
              "    <tr>\n",
              "      <th>6</th>\n",
              "      <td>2.618557</td>\n",
              "      <td>97</td>\n",
              "    </tr>\n",
              "  </tbody>\n",
              "</table>\n",
              "</div>"
            ],
            "text/plain": [
              "            Rating  rating_counts\n",
              "Hotel_id                         \n",
              "2         3.013889             72\n",
              "3         2.033333             30\n",
              "4         3.562500             32\n",
              "5         4.011765             85\n",
              "6         2.618557             97"
            ]
          },
          "metadata": {
            "tags": []
          },
          "execution_count": 132
        }
      ]
    },
    {
      "cell_type": "code",
      "metadata": {
        "id": "02fXGOTMAAe3",
        "outputId": "12baaddb-3454-4de9-fa3f-819feb473d11",
        "colab": {
          "base_uri": "https://localhost:8080/",
          "height": 33
        }
      },
      "source": [
        "ratings_mean_count['rating_counts'].max()"
      ],
      "execution_count": 133,
      "outputs": [
        {
          "output_type": "execute_result",
          "data": {
            "text/plain": [
              "269"
            ]
          },
          "metadata": {
            "tags": []
          },
          "execution_count": 133
        }
      ]
    },
    {
      "cell_type": "code",
      "metadata": {
        "id": "WE0KjCwOACfy",
        "outputId": "f43ec98d-b5e8-4fe5-eb0a-e264ce3174c5",
        "colab": {
          "base_uri": "https://localhost:8080/",
          "height": 390
        }
      },
      "source": [
        "plt.figure(figsize=(8,6))\n",
        "plt.rcParams['patch.force_edgecolor'] = True\n",
        "ratings_mean_count['rating_counts'].hist(bins=50)"
      ],
      "execution_count": 134,
      "outputs": [
        {
          "output_type": "execute_result",
          "data": {
            "text/plain": [
              "<Figure size 576x432 with 0 Axes>"
            ]
          },
          "metadata": {
            "tags": []
          },
          "execution_count": 134
        },
        {
          "output_type": "execute_result",
          "data": {
            "text/plain": [
              "<matplotlib.axes._subplots.AxesSubplot at 0x7f1c82d292e8>"
            ]
          },
          "metadata": {
            "tags": []
          },
          "execution_count": 134
        },
        {
          "output_type": "display_data",
          "data": {
            "image/png": "[encoded data removed]",
            "text/plain": [
              "<Figure size 576x432 with 1 Axes>"
            ]
          },
          "metadata": {
            "tags": [],
            "needs_background": "light"
          }
        }
      ]
    },
    {
      "cell_type": "code",
      "metadata": {
        "id": "lpKO_CTsAGWV",
        "outputId": "f8bf7970-2dd7-4582-da4c-ac84923ead0b",
        "colab": {
          "base_uri": "https://localhost:8080/",
          "height": 390
        }
      },
      "source": [
        "plt.figure(figsize=(8,6))\n",
        "plt.rcParams['patch.force_edgecolor'] = True\n",
        "ratings_mean_count['Rating'].hist(bins=50)"
      ],
      "execution_count": 135,
      "outputs": [
        {
          "output_type": "execute_result",
          "data": {
            "text/plain": [
              "<Figure size 576x432 with 0 Axes>"
            ]
          },
          "metadata": {
            "tags": []
          },
          "execution_count": 135
        },
        {
          "output_type": "execute_result",
          "data": {
            "text/plain": [
              "<matplotlib.axes._subplots.AxesSubplot at 0x7f1c7fc73080>"
            ]
          },
          "metadata": {
            "tags": []
          },
          "execution_count": 135
        },
        {
          "output_type": "display_data",
          "data": {
            "image/png": "[encoded data removed]",
            "text/plain": [
              "<Figure size 576x432 with 1 Axes>"
            ]
          },
          "metadata": {
            "tags": [],
            "needs_background": "light"
          }
        }
      ]
    },
    {
      "cell_type": "code",
      "metadata": {
        "id": "5EEzXJoDAJtO",
        "outputId": "121de9c7-4fbe-4d59-ce82-616b3d9ef068",
        "colab": {
          "base_uri": "https://localhost:8080/",
          "height": 473
        }
      },
      "source": [
        "plt.figure(figsize=(8,6))\n",
        "plt.rcParams['patch.force_edgecolor'] = True\n",
        "sns.jointplot(x='Rating', y='rating_counts', data=ratings_mean_count, alpha=0.4)"
      ],
      "execution_count": 136,
      "outputs": [
        {
          "output_type": "execute_result",
          "data": {
            "text/plain": [
              "<Figure size 576x432 with 0 Axes>"
            ]
          },
          "metadata": {
            "tags": []
          },
          "execution_count": 136
        },
        {
          "output_type": "execute_result",
          "data": {
            "text/plain": [
              "<seaborn.axisgrid.JointGrid at 0x7f1c7efeb4a8>"
            ]
          },
          "metadata": {
            "tags": []
          },
          "execution_count": 136
        },
        {
          "output_type": "display_data",
          "data": {
            "text/plain": [
              "<Figure size 576x432 with 0 Axes>"
            ]
          },
          "metadata": {
            "tags": []
          }
        },
        {
          "output_type": "display_data",
          "data": {
            "image/png": "[encoded data removed]",
            "text/plain": [
              "<Figure size 432x432 with 3 Axes>"
            ]
          },
          "metadata": {
            "tags": [],
            "needs_background": "light"
          }
        }
      ]
    },
    {
      "cell_type": "code",
      "metadata": {
        "id": "OH_hZ8RvAMtw",
        "outputId": "417a1046-56c8-40b8-97cd-b15f1916d429",
        "colab": {
          "base_uri": "https://localhost:8080/",
          "height": 366
        }
      },
      "source": [
        "popular_products = pd.DataFrame(new_df.groupby('Hotel_id')['Rating'].count())\n",
        "most_popular = popular_products.sort_values('Rating', ascending=False)\n",
        "most_popular.head(30).plot(kind = \"bar\")"
      ],
      "execution_count": 137,
      "outputs": [
        {
          "output_type": "execute_result",
          "data": {
            "text/plain": [
              "<matplotlib.axes._subplots.AxesSubplot at 0x7f1c82982710>"
            ]
          },
          "metadata": {
            "tags": []
          },
          "execution_count": 137
        },
        {
          "output_type": "display_data",
          "data": {
            "image/png": "[encoded data removed]",
            "text/plain": [
              "<Figure size 576x360 with 1 Axes>"
            ]
          },
          "metadata": {
            "tags": [],
            "needs_background": "light"
          }
        }
      ]
    },
    {
      "cell_type": "markdown",
      "metadata": {
        "id": "bHv69QJcDQ23"
      },
      "source": [
        "**2.Simple Recommender**\n",
        "\n",
        "The Simple Recommender offers generalized recommnendations to every user based on hotel popularity, ratings, and City. The basic idea behind this recommender is that hotels that are more popular and more critically acclaimed will have a higher probability of being liked by the average Customers. This model does not give personalized recommendations based on the user.\n",
        "\n",
        "So I sort the hotel based on their location, and I recommend the ones with the highest number of votes and the higher average rankings to the new Customers."
      ]
    },
    {
      "cell_type": "code",
      "metadata": {
        "id": "PhLz5sHCDN8F",
        "outputId": "7713eaba-817f-4d32-f3a3-d815e54ef072",
        "colab": {
          "base_uri": "https://localhost:8080/",
          "height": 191
        }
      },
      "source": [
        "df=df[['User_id','Hotel_id','Rating','City','Hotel','Hotel_Type','Price']]\n",
        "df.head()"
      ],
      "execution_count": 138,
      "outputs": [
        {
          "output_type": "execute_result",
          "data": {
            "text/html": [
              "<div>\n",
              "<style scoped>\n",
              "    .dataframe tbody tr th:only-of-type {\n",
              "        vertical-align: middle;\n",
              "    }\n",
              "\n",
              "    .dataframe tbody tr th {\n",
              "        vertical-align: top;\n",
              "    }\n",
              "\n",
              "    .dataframe thead th {\n",
              "        text-align: right;\n",
              "    }\n",
              "</style>\n",
              "<table border=\"1\" class=\"dataframe\">\n",
              "  <thead>\n",
              "    <tr style=\"text-align: right;\">\n",
              "      <th></th>\n",
              "      <th>User_id</th>\n",
              "      <th>Hotel_id</th>\n",
              "      <th>Rating</th>\n",
              "      <th>City</th>\n",
              "      <th>Hotel</th>\n",
              "      <th>Hotel_Type</th>\n",
              "      <th>Price</th>\n",
              "    </tr>\n",
              "  </thead>\n",
              "  <tbody>\n",
              "    <tr>\n",
              "      <th>0</th>\n",
              "      <td>17618</td>\n",
              "      <td>2</td>\n",
              "      <td>2.0</td>\n",
              "      <td>Seattle</td>\n",
              "      <td>Inn At Queen Anne</td>\n",
              "      <td>2.0</td>\n",
              "      <td>Rs.8457</td>\n",
              "    </tr>\n",
              "    <tr>\n",
              "      <th>1</th>\n",
              "      <td>17602</td>\n",
              "      <td>2</td>\n",
              "      <td>4.0</td>\n",
              "      <td>Seattle</td>\n",
              "      <td>Inn At Queen Anne</td>\n",
              "      <td>2.0</td>\n",
              "      <td>Rs.8457</td>\n",
              "    </tr>\n",
              "    <tr>\n",
              "      <th>2</th>\n",
              "      <td>17601</td>\n",
              "      <td>2</td>\n",
              "      <td>4.0</td>\n",
              "      <td>Seattle</td>\n",
              "      <td>Inn At Queen Anne</td>\n",
              "      <td>2.0</td>\n",
              "      <td>Rs.8457</td>\n",
              "    </tr>\n",
              "    <tr>\n",
              "      <th>3</th>\n",
              "      <td>17600</td>\n",
              "      <td>2</td>\n",
              "      <td>1.0</td>\n",
              "      <td>Seattle</td>\n",
              "      <td>Inn At Queen Anne</td>\n",
              "      <td>2.0</td>\n",
              "      <td>Rs.8457</td>\n",
              "    </tr>\n",
              "    <tr>\n",
              "      <th>4</th>\n",
              "      <td>17599</td>\n",
              "      <td>2</td>\n",
              "      <td>4.0</td>\n",
              "      <td>Seattle</td>\n",
              "      <td>Inn At Queen Anne</td>\n",
              "      <td>2.0</td>\n",
              "      <td>Rs.8457</td>\n",
              "    </tr>\n",
              "  </tbody>\n",
              "</table>\n",
              "</div>"
            ],
            "text/plain": [
              "   User_id  Hotel_id  Rating     City              Hotel  Hotel_Type    Price\n",
              "0    17618         2     2.0  Seattle  Inn At Queen Anne         2.0  Rs.8457\n",
              "1    17602         2     4.0  Seattle  Inn At Queen Anne         2.0  Rs.8457\n",
              "2    17601         2     4.0  Seattle  Inn At Queen Anne         2.0  Rs.8457\n",
              "3    17600         2     1.0  Seattle  Inn At Queen Anne         2.0  Rs.8457\n",
              "4    17599         2     4.0  Seattle  Inn At Queen Anne         2.0  Rs.8457"
            ]
          },
          "metadata": {
            "tags": []
          },
          "execution_count": 138
        }
      ]
    },
    {
      "cell_type": "markdown",
      "metadata": {
        "id": "m-_flOqjDdbP"
      },
      "source": [
        "**The list of the 10 best Hotels to recommend in 'San Francisco' are:**"
      ]
    },
    {
      "cell_type": "code",
      "metadata": {
        "id": "jbnsMUPNDZaF",
        "outputId": "08129909-5f2f-406c-9963-01cefed142c4",
        "colab": {
          "base_uri": "https://localhost:8080/",
          "height": 180
        }
      },
      "source": [
        "a=df[df.City=='San Francisco'].Hotel_id.value_counts().head(30).index\n",
        "count=0\n",
        "for i in a:\n",
        "    if (df[(df.Hotel_id==i)].Rating.mean()>4.1)&(count<10):\n",
        "        count+=1\n",
        "        print(count,':',df[(df.City=='San Francisco')&(df.Hotel_id==i)].Hotel.iloc[0])"
      ],
      "execution_count": 139,
      "outputs": [
        {
          "output_type": "stream",
          "text": [
            "1 : Galleria Park Hotel\n",
            "2 : Hotel Abri\n",
            "3 : The Orchard Garden Hotel\n",
            "4 : The St. Regis San Francisco\n",
            "5 : Columbus Motor Inn\n",
            "6 : InterContinental San Francisco\n",
            "7 : Hotel Nikko San Francisco\n",
            "8 : Kensington Park Hotel\n",
            "9 : San Francisco Marriott Marquis\n",
            "10 : Inn San Francisco\n"
          ],
          "name": "stdout"
        }
      ]
    },
    {
      "cell_type": "markdown",
      "metadata": {
        "id": "pasMGF6mDpdv"
      },
      "source": [
        "**The list of the 10 best Hotels to recommend in 'San Diego' are:**"
      ]
    },
    {
      "cell_type": "code",
      "metadata": {
        "id": "if-OcFAPDl0y",
        "outputId": "5cff37bd-ca5d-4be3-b063-3123f67f3fea",
        "colab": {
          "base_uri": "https://localhost:8080/",
          "height": 180
        }
      },
      "source": [
        "a=df[df.City=='San Diego'].Hotel_id.value_counts().head(30).index\n",
        "count=0\n",
        "for i in a:\n",
        "    if (df[(df.Hotel_id==i)].Rating.mean()>3)&(count<10):\n",
        "        count+=1\n",
        "        print(count,':',df[(df.City=='San Diego')&(df.Hotel_id==i)].Hotel.iloc[0])"
      ],
      "execution_count": 140,
      "outputs": [
        {
          "output_type": "stream",
          "text": [
            "1 : Best Western Seven Seas\n",
            "2 : Hampton Inn San Diego Del Mar\n",
            "3 : Ocean Park Inn\n",
            "4 : The Pearl Hotel\n",
            "5 : Best Western Mission Bay\n",
            "6 : Best Western Yacht Harbor Hotel\n",
            "7 : Best Western San Diego/Miramar Hotel\n",
            "8 : Best Western Plus Hacienda Hotel Old Town\n",
            "9 : Best Western Plus Bayside Inn\n",
            "10 : Quality Suites San Diego SeaWorld Area\n"
          ],
          "name": "stdout"
        }
      ]
    },
    {
      "cell_type": "markdown",
      "metadata": {
        "id": "kDq4VgmoDyK4"
      },
      "source": [
        "**The list of the 10 best Hotels to recommend in 'Bengaluru' are:**"
      ]
    },
    {
      "cell_type": "code",
      "metadata": {
        "id": "8kA1drlzDtP6",
        "outputId": "c415a827-d536-4b09-9263-714850e2096a",
        "colab": {
          "base_uri": "https://localhost:8080/",
          "height": 180
        }
      },
      "source": [
        "a=df[df.City=='Bengaluru'].Hotel_id.value_counts().head(30).index\n",
        "count=0\n",
        "for i in a:\n",
        "    if (df[(df.Hotel_id==i)].Rating.mean()>4)&(count<10):\n",
        "        count+=1\n",
        "        print(count,':',df[(df.City=='Bengaluru')&(df.Hotel_id==i)].Hotel.iloc[0])"
      ],
      "execution_count": 141,
      "outputs": [
        {
          "output_type": "stream",
          "text": [
            "1 : Shreyas Yoga Retreat\n",
            "2 : Treebo Trend Rajathadri Palace\n",
            "3 : Zone by the Park Electronic City\n",
            "4 : Fortune Park JP Celestial\n",
            "5 : Wonderla Resort\n",
            "6 : Gokulam Grand Hotel & Spa\n",
            "7 : Signature Club Resort\n",
            "8 : Royal Orchid Resort & Convention Centre\n",
            "9 : Sheraton Grand Bengaluru Whitefield Hotel & Convention Center\n",
            "10 : Welcomhotel Bengaluru\n"
          ],
          "name": "stdout"
        }
      ]
    },
    {
      "cell_type": "code",
      "metadata": {
        "id": "odXrpBham8hb",
        "outputId": "1ea3d8c7-ec77-4fd2-c2b1-38e7d4596b00",
        "colab": {
          "base_uri": "https://localhost:8080/",
          "height": 420
        }
      },
      "source": [
        "df.set_index(['Hotel_id', 'User_id', 'Rating'], append=True)\n"
      ],
      "execution_count": 142,
      "outputs": [
        {
          "output_type": "execute_result",
          "data": {
            "text/html": [
              "<div>\n",
              "<style scoped>\n",
              "    .dataframe tbody tr th:only-of-type {\n",
              "        vertical-align: middle;\n",
              "    }\n",
              "\n",
              "    .dataframe tbody tr th {\n",
              "        vertical-align: top;\n",
              "    }\n",
              "\n",
              "    .dataframe thead th {\n",
              "        text-align: right;\n",
              "    }\n",
              "</style>\n",
              "<table border=\"1\" class=\"dataframe\">\n",
              "  <thead>\n",
              "    <tr style=\"text-align: right;\">\n",
              "      <th></th>\n",
              "      <th></th>\n",
              "      <th></th>\n",
              "      <th></th>\n",
              "      <th>City</th>\n",
              "      <th>Hotel</th>\n",
              "      <th>Hotel_Type</th>\n",
              "      <th>Price</th>\n",
              "    </tr>\n",
              "    <tr>\n",
              "      <th></th>\n",
              "      <th>Hotel_id</th>\n",
              "      <th>User_id</th>\n",
              "      <th>Rating</th>\n",
              "      <th></th>\n",
              "      <th></th>\n",
              "      <th></th>\n",
              "      <th></th>\n",
              "    </tr>\n",
              "  </thead>\n",
              "  <tbody>\n",
              "    <tr>\n",
              "      <th>0</th>\n",
              "      <th>2</th>\n",
              "      <th>17618</th>\n",
              "      <th>2.0</th>\n",
              "      <td>Seattle</td>\n",
              "      <td>Inn At Queen Anne</td>\n",
              "      <td>2.0</td>\n",
              "      <td>Rs.8457</td>\n",
              "    </tr>\n",
              "    <tr>\n",
              "      <th>1</th>\n",
              "      <th>2</th>\n",
              "      <th>17602</th>\n",
              "      <th>4.0</th>\n",
              "      <td>Seattle</td>\n",
              "      <td>Inn At Queen Anne</td>\n",
              "      <td>2.0</td>\n",
              "      <td>Rs.8457</td>\n",
              "    </tr>\n",
              "    <tr>\n",
              "      <th>2</th>\n",
              "      <th>2</th>\n",
              "      <th>17601</th>\n",
              "      <th>4.0</th>\n",
              "      <td>Seattle</td>\n",
              "      <td>Inn At Queen Anne</td>\n",
              "      <td>2.0</td>\n",
              "      <td>Rs.8457</td>\n",
              "    </tr>\n",
              "    <tr>\n",
              "      <th>3</th>\n",
              "      <th>2</th>\n",
              "      <th>17600</th>\n",
              "      <th>1.0</th>\n",
              "      <td>Seattle</td>\n",
              "      <td>Inn At Queen Anne</td>\n",
              "      <td>2.0</td>\n",
              "      <td>Rs.8457</td>\n",
              "    </tr>\n",
              "    <tr>\n",
              "      <th>4</th>\n",
              "      <th>2</th>\n",
              "      <th>17599</th>\n",
              "      <th>4.0</th>\n",
              "      <td>Seattle</td>\n",
              "      <td>Inn At Queen Anne</td>\n",
              "      <td>2.0</td>\n",
              "      <td>Rs.8457</td>\n",
              "    </tr>\n",
              "    <tr>\n",
              "      <th>...</th>\n",
              "      <th>...</th>\n",
              "      <th>...</th>\n",
              "      <th>...</th>\n",
              "      <td>...</td>\n",
              "      <td>...</td>\n",
              "      <td>...</td>\n",
              "      <td>...</td>\n",
              "    </tr>\n",
              "    <tr>\n",
              "      <th>21764</th>\n",
              "      <th>3128</th>\n",
              "      <th>10476</th>\n",
              "      <th>1.0</th>\n",
              "      <td>Honolulu</td>\n",
              "      <td>Polynesian Plaza</td>\n",
              "      <td>2.0</td>\n",
              "      <td>Rs.17718</td>\n",
              "    </tr>\n",
              "    <tr>\n",
              "      <th>21765</th>\n",
              "      <th>3128</th>\n",
              "      <th>10490</th>\n",
              "      <th>1.0</th>\n",
              "      <td>Honolulu</td>\n",
              "      <td>Polynesian Plaza</td>\n",
              "      <td>2.0</td>\n",
              "      <td>Rs.17718</td>\n",
              "    </tr>\n",
              "    <tr>\n",
              "      <th>21766</th>\n",
              "      <th>3128</th>\n",
              "      <th>10799</th>\n",
              "      <th>3.0</th>\n",
              "      <td>Honolulu</td>\n",
              "      <td>Polynesian Plaza</td>\n",
              "      <td>2.0</td>\n",
              "      <td>Rs.17718</td>\n",
              "    </tr>\n",
              "    <tr>\n",
              "      <th>21767</th>\n",
              "      <th>3128</th>\n",
              "      <th>11901</th>\n",
              "      <th>4.0</th>\n",
              "      <td>Honolulu</td>\n",
              "      <td>Polynesian Plaza</td>\n",
              "      <td>2.0</td>\n",
              "      <td>Rs.17718</td>\n",
              "    </tr>\n",
              "    <tr>\n",
              "      <th>21768</th>\n",
              "      <th>3128</th>\n",
              "      <th>13911</th>\n",
              "      <th>2.0</th>\n",
              "      <td>Honolulu</td>\n",
              "      <td>Polynesian Plaza</td>\n",
              "      <td>2.0</td>\n",
              "      <td>Rs.17718</td>\n",
              "    </tr>\n",
              "  </tbody>\n",
              "</table>\n",
              "<p>21769 rows × 4 columns</p>\n",
              "</div>"
            ],
            "text/plain": [
              "                                   City  ...       Price\n",
              "      Hotel_id User_id Rating            ...            \n",
              "0     2        17618   2.0      Seattle  ...     Rs.8457\n",
              "1     2        17602   4.0      Seattle  ...     Rs.8457\n",
              "2     2        17601   4.0      Seattle  ...     Rs.8457\n",
              "3     2        17600   1.0      Seattle  ...     Rs.8457\n",
              "4     2        17599   4.0      Seattle  ...     Rs.8457\n",
              "...                                 ...  ...         ...\n",
              "21764 3128     10476   1.0     Honolulu  ...   Rs.17718 \n",
              "21765 3128     10490   1.0     Honolulu  ...   Rs.17718 \n",
              "21766 3128     10799   3.0     Honolulu  ...   Rs.17718 \n",
              "21767 3128     11901   4.0     Honolulu  ...   Rs.17718 \n",
              "21768 3128     13911   2.0     Honolulu  ...   Rs.17718 \n",
              "\n",
              "[21769 rows x 4 columns]"
            ]
          },
          "metadata": {
            "tags": []
          },
          "execution_count": 142
        }
      ]
    },
    {
      "cell_type": "markdown",
      "metadata": {
        "id": "m9bdTciebfbf"
      },
      "source": [
        "**3. Item-Item Collaborative Filtering**\n",
        "\n",
        "In this filtering, the similarity between each item pair was computed and based on that, similar items were recommended which are liked by the users in the past. The weighted sum of ratings of “item-users” were taken.\n",
        "\n",
        "This collaborative filtering is useful when the number of users is more than the items being recommended."
      ]
    },
    {
      "cell_type": "code",
      "metadata": {
        "id": "icH6-1ehI5u8",
        "outputId": "bbb04996-0bd5-4cb8-adef-f289e5fdc6b3",
        "colab": {
          "base_uri": "https://localhost:8080/",
          "height": 411
        }
      },
      "source": [
        "ratingsd=df.pivot(index='Hotel_id',columns= 'User_id',values='Rating').fillna(0)\n",
        "ratingsd.head(10)"
      ],
      "execution_count": 143,
      "outputs": [
        {
          "output_type": "execute_result",
          "data": {
            "text/html": [
              "<div>\n",
              "<style scoped>\n",
              "    .dataframe tbody tr th:only-of-type {\n",
              "        vertical-align: middle;\n",
              "    }\n",
              "\n",
              "    .dataframe tbody tr th {\n",
              "        vertical-align: top;\n",
              "    }\n",
              "\n",
              "    .dataframe thead th {\n",
              "        text-align: right;\n",
              "    }\n",
              "</style>\n",
              "<table border=\"1\" class=\"dataframe\">\n",
              "  <thead>\n",
              "    <tr style=\"text-align: right;\">\n",
              "      <th>User_id</th>\n",
              "      <th>0</th>\n",
              "      <th>1</th>\n",
              "      <th>2</th>\n",
              "      <th>3</th>\n",
              "      <th>4</th>\n",
              "      <th>5</th>\n",
              "      <th>6</th>\n",
              "      <th>7</th>\n",
              "      <th>8</th>\n",
              "      <th>9</th>\n",
              "      <th>10</th>\n",
              "      <th>11</th>\n",
              "      <th>12</th>\n",
              "      <th>13</th>\n",
              "      <th>14</th>\n",
              "      <th>15</th>\n",
              "      <th>16</th>\n",
              "      <th>17</th>\n",
              "      <th>18</th>\n",
              "      <th>19</th>\n",
              "      <th>20</th>\n",
              "      <th>21</th>\n",
              "      <th>22</th>\n",
              "      <th>23</th>\n",
              "      <th>24</th>\n",
              "      <th>25</th>\n",
              "      <th>26</th>\n",
              "      <th>27</th>\n",
              "      <th>28</th>\n",
              "      <th>29</th>\n",
              "      <th>30</th>\n",
              "      <th>31</th>\n",
              "      <th>32</th>\n",
              "      <th>33</th>\n",
              "      <th>34</th>\n",
              "      <th>35</th>\n",
              "      <th>36</th>\n",
              "      <th>37</th>\n",
              "      <th>38</th>\n",
              "      <th>39</th>\n",
              "      <th>...</th>\n",
              "      <th>17722</th>\n",
              "      <th>17723</th>\n",
              "      <th>17724</th>\n",
              "      <th>17725</th>\n",
              "      <th>17726</th>\n",
              "      <th>17727</th>\n",
              "      <th>17728</th>\n",
              "      <th>17729</th>\n",
              "      <th>17730</th>\n",
              "      <th>17731</th>\n",
              "      <th>17732</th>\n",
              "      <th>17733</th>\n",
              "      <th>17734</th>\n",
              "      <th>17735</th>\n",
              "      <th>17736</th>\n",
              "      <th>17737</th>\n",
              "      <th>17739</th>\n",
              "      <th>17740</th>\n",
              "      <th>17741</th>\n",
              "      <th>17742</th>\n",
              "      <th>17743</th>\n",
              "      <th>17746</th>\n",
              "      <th>17747</th>\n",
              "      <th>17748</th>\n",
              "      <th>17749</th>\n",
              "      <th>17750</th>\n",
              "      <th>17751</th>\n",
              "      <th>17752</th>\n",
              "      <th>17753</th>\n",
              "      <th>17754</th>\n",
              "      <th>17755</th>\n",
              "      <th>17756</th>\n",
              "      <th>17757</th>\n",
              "      <th>17758</th>\n",
              "      <th>17759</th>\n",
              "      <th>17760</th>\n",
              "      <th>17761</th>\n",
              "      <th>17762</th>\n",
              "      <th>17763</th>\n",
              "      <th>17764</th>\n",
              "    </tr>\n",
              "    <tr>\n",
              "      <th>Hotel_id</th>\n",
              "      <th></th>\n",
              "      <th></th>\n",
              "      <th></th>\n",
              "      <th></th>\n",
              "      <th></th>\n",
              "      <th></th>\n",
              "      <th></th>\n",
              "      <th></th>\n",
              "      <th></th>\n",
              "      <th></th>\n",
              "      <th></th>\n",
              "      <th></th>\n",
              "      <th></th>\n",
              "      <th></th>\n",
              "      <th></th>\n",
              "      <th></th>\n",
              "      <th></th>\n",
              "      <th></th>\n",
              "      <th></th>\n",
              "      <th></th>\n",
              "      <th></th>\n",
              "      <th></th>\n",
              "      <th></th>\n",
              "      <th></th>\n",
              "      <th></th>\n",
              "      <th></th>\n",
              "      <th></th>\n",
              "      <th></th>\n",
              "      <th></th>\n",
              "      <th></th>\n",
              "      <th></th>\n",
              "      <th></th>\n",
              "      <th></th>\n",
              "      <th></th>\n",
              "      <th></th>\n",
              "      <th></th>\n",
              "      <th></th>\n",
              "      <th></th>\n",
              "      <th></th>\n",
              "      <th></th>\n",
              "      <th></th>\n",
              "      <th></th>\n",
              "      <th></th>\n",
              "      <th></th>\n",
              "      <th></th>\n",
              "      <th></th>\n",
              "      <th></th>\n",
              "      <th></th>\n",
              "      <th></th>\n",
              "      <th></th>\n",
              "      <th></th>\n",
              "      <th></th>\n",
              "      <th></th>\n",
              "      <th></th>\n",
              "      <th></th>\n",
              "      <th></th>\n",
              "      <th></th>\n",
              "      <th></th>\n",
              "      <th></th>\n",
              "      <th></th>\n",
              "      <th></th>\n",
              "      <th></th>\n",
              "      <th></th>\n",
              "      <th></th>\n",
              "      <th></th>\n",
              "      <th></th>\n",
              "      <th></th>\n",
              "      <th></th>\n",
              "      <th></th>\n",
              "      <th></th>\n",
              "      <th></th>\n",
              "      <th></th>\n",
              "      <th></th>\n",
              "      <th></th>\n",
              "      <th></th>\n",
              "      <th></th>\n",
              "      <th></th>\n",
              "      <th></th>\n",
              "      <th></th>\n",
              "      <th></th>\n",
              "      <th></th>\n",
              "    </tr>\n",
              "  </thead>\n",
              "  <tbody>\n",
              "    <tr>\n",
              "      <th>2</th>\n",
              "      <td>0.0</td>\n",
              "      <td>0.0</td>\n",
              "      <td>0.0</td>\n",
              "      <td>0.0</td>\n",
              "      <td>0.0</td>\n",
              "      <td>0.0</td>\n",
              "      <td>0.0</td>\n",
              "      <td>0.0</td>\n",
              "      <td>0.0</td>\n",
              "      <td>0.0</td>\n",
              "      <td>0.0</td>\n",
              "      <td>0.0</td>\n",
              "      <td>0.0</td>\n",
              "      <td>0.0</td>\n",
              "      <td>0.0</td>\n",
              "      <td>0.0</td>\n",
              "      <td>0.0</td>\n",
              "      <td>0.0</td>\n",
              "      <td>0.0</td>\n",
              "      <td>0.0</td>\n",
              "      <td>0.0</td>\n",
              "      <td>0.0</td>\n",
              "      <td>0.0</td>\n",
              "      <td>0.0</td>\n",
              "      <td>0.0</td>\n",
              "      <td>0.0</td>\n",
              "      <td>0.0</td>\n",
              "      <td>0.0</td>\n",
              "      <td>0.0</td>\n",
              "      <td>0.0</td>\n",
              "      <td>0.0</td>\n",
              "      <td>0.0</td>\n",
              "      <td>0.0</td>\n",
              "      <td>0.0</td>\n",
              "      <td>0.0</td>\n",
              "      <td>0.0</td>\n",
              "      <td>0.0</td>\n",
              "      <td>0.0</td>\n",
              "      <td>0.0</td>\n",
              "      <td>0.0</td>\n",
              "      <td>...</td>\n",
              "      <td>0.0</td>\n",
              "      <td>0.0</td>\n",
              "      <td>0.0</td>\n",
              "      <td>0.0</td>\n",
              "      <td>0.0</td>\n",
              "      <td>0.0</td>\n",
              "      <td>0.0</td>\n",
              "      <td>0.0</td>\n",
              "      <td>0.0</td>\n",
              "      <td>0.0</td>\n",
              "      <td>0.0</td>\n",
              "      <td>0.0</td>\n",
              "      <td>0.0</td>\n",
              "      <td>0.0</td>\n",
              "      <td>0.0</td>\n",
              "      <td>0.0</td>\n",
              "      <td>0.0</td>\n",
              "      <td>0.0</td>\n",
              "      <td>0.0</td>\n",
              "      <td>0.0</td>\n",
              "      <td>0.0</td>\n",
              "      <td>0.0</td>\n",
              "      <td>0.0</td>\n",
              "      <td>0.0</td>\n",
              "      <td>0.0</td>\n",
              "      <td>0.0</td>\n",
              "      <td>0.0</td>\n",
              "      <td>0.0</td>\n",
              "      <td>0.0</td>\n",
              "      <td>0.0</td>\n",
              "      <td>0.0</td>\n",
              "      <td>0.0</td>\n",
              "      <td>0.0</td>\n",
              "      <td>0.0</td>\n",
              "      <td>0.0</td>\n",
              "      <td>0.0</td>\n",
              "      <td>0.0</td>\n",
              "      <td>0.0</td>\n",
              "      <td>0.0</td>\n",
              "      <td>0.0</td>\n",
              "    </tr>\n",
              "    <tr>\n",
              "      <th>3</th>\n",
              "      <td>0.0</td>\n",
              "      <td>0.0</td>\n",
              "      <td>0.0</td>\n",
              "      <td>0.0</td>\n",
              "      <td>0.0</td>\n",
              "      <td>0.0</td>\n",
              "      <td>0.0</td>\n",
              "      <td>0.0</td>\n",
              "      <td>0.0</td>\n",
              "      <td>0.0</td>\n",
              "      <td>0.0</td>\n",
              "      <td>0.0</td>\n",
              "      <td>0.0</td>\n",
              "      <td>0.0</td>\n",
              "      <td>0.0</td>\n",
              "      <td>0.0</td>\n",
              "      <td>0.0</td>\n",
              "      <td>0.0</td>\n",
              "      <td>0.0</td>\n",
              "      <td>0.0</td>\n",
              "      <td>0.0</td>\n",
              "      <td>0.0</td>\n",
              "      <td>0.0</td>\n",
              "      <td>0.0</td>\n",
              "      <td>0.0</td>\n",
              "      <td>0.0</td>\n",
              "      <td>0.0</td>\n",
              "      <td>0.0</td>\n",
              "      <td>0.0</td>\n",
              "      <td>0.0</td>\n",
              "      <td>0.0</td>\n",
              "      <td>0.0</td>\n",
              "      <td>0.0</td>\n",
              "      <td>0.0</td>\n",
              "      <td>0.0</td>\n",
              "      <td>0.0</td>\n",
              "      <td>0.0</td>\n",
              "      <td>0.0</td>\n",
              "      <td>0.0</td>\n",
              "      <td>0.0</td>\n",
              "      <td>...</td>\n",
              "      <td>0.0</td>\n",
              "      <td>0.0</td>\n",
              "      <td>0.0</td>\n",
              "      <td>0.0</td>\n",
              "      <td>0.0</td>\n",
              "      <td>0.0</td>\n",
              "      <td>0.0</td>\n",
              "      <td>0.0</td>\n",
              "      <td>0.0</td>\n",
              "      <td>0.0</td>\n",
              "      <td>0.0</td>\n",
              "      <td>0.0</td>\n",
              "      <td>0.0</td>\n",
              "      <td>0.0</td>\n",
              "      <td>0.0</td>\n",
              "      <td>0.0</td>\n",
              "      <td>0.0</td>\n",
              "      <td>0.0</td>\n",
              "      <td>0.0</td>\n",
              "      <td>0.0</td>\n",
              "      <td>0.0</td>\n",
              "      <td>0.0</td>\n",
              "      <td>0.0</td>\n",
              "      <td>0.0</td>\n",
              "      <td>0.0</td>\n",
              "      <td>0.0</td>\n",
              "      <td>0.0</td>\n",
              "      <td>0.0</td>\n",
              "      <td>0.0</td>\n",
              "      <td>0.0</td>\n",
              "      <td>0.0</td>\n",
              "      <td>0.0</td>\n",
              "      <td>0.0</td>\n",
              "      <td>0.0</td>\n",
              "      <td>0.0</td>\n",
              "      <td>0.0</td>\n",
              "      <td>0.0</td>\n",
              "      <td>0.0</td>\n",
              "      <td>0.0</td>\n",
              "      <td>0.0</td>\n",
              "    </tr>\n",
              "    <tr>\n",
              "      <th>4</th>\n",
              "      <td>0.0</td>\n",
              "      <td>0.0</td>\n",
              "      <td>0.0</td>\n",
              "      <td>0.0</td>\n",
              "      <td>0.0</td>\n",
              "      <td>0.0</td>\n",
              "      <td>0.0</td>\n",
              "      <td>0.0</td>\n",
              "      <td>0.0</td>\n",
              "      <td>0.0</td>\n",
              "      <td>0.0</td>\n",
              "      <td>0.0</td>\n",
              "      <td>0.0</td>\n",
              "      <td>0.0</td>\n",
              "      <td>0.0</td>\n",
              "      <td>0.0</td>\n",
              "      <td>0.0</td>\n",
              "      <td>0.0</td>\n",
              "      <td>0.0</td>\n",
              "      <td>0.0</td>\n",
              "      <td>0.0</td>\n",
              "      <td>0.0</td>\n",
              "      <td>0.0</td>\n",
              "      <td>0.0</td>\n",
              "      <td>0.0</td>\n",
              "      <td>0.0</td>\n",
              "      <td>0.0</td>\n",
              "      <td>0.0</td>\n",
              "      <td>0.0</td>\n",
              "      <td>0.0</td>\n",
              "      <td>0.0</td>\n",
              "      <td>0.0</td>\n",
              "      <td>0.0</td>\n",
              "      <td>0.0</td>\n",
              "      <td>0.0</td>\n",
              "      <td>0.0</td>\n",
              "      <td>0.0</td>\n",
              "      <td>0.0</td>\n",
              "      <td>0.0</td>\n",
              "      <td>0.0</td>\n",
              "      <td>...</td>\n",
              "      <td>0.0</td>\n",
              "      <td>0.0</td>\n",
              "      <td>0.0</td>\n",
              "      <td>0.0</td>\n",
              "      <td>0.0</td>\n",
              "      <td>0.0</td>\n",
              "      <td>0.0</td>\n",
              "      <td>0.0</td>\n",
              "      <td>0.0</td>\n",
              "      <td>0.0</td>\n",
              "      <td>0.0</td>\n",
              "      <td>0.0</td>\n",
              "      <td>0.0</td>\n",
              "      <td>0.0</td>\n",
              "      <td>0.0</td>\n",
              "      <td>0.0</td>\n",
              "      <td>0.0</td>\n",
              "      <td>0.0</td>\n",
              "      <td>0.0</td>\n",
              "      <td>0.0</td>\n",
              "      <td>0.0</td>\n",
              "      <td>0.0</td>\n",
              "      <td>0.0</td>\n",
              "      <td>0.0</td>\n",
              "      <td>0.0</td>\n",
              "      <td>0.0</td>\n",
              "      <td>0.0</td>\n",
              "      <td>0.0</td>\n",
              "      <td>0.0</td>\n",
              "      <td>0.0</td>\n",
              "      <td>0.0</td>\n",
              "      <td>0.0</td>\n",
              "      <td>0.0</td>\n",
              "      <td>0.0</td>\n",
              "      <td>0.0</td>\n",
              "      <td>0.0</td>\n",
              "      <td>0.0</td>\n",
              "      <td>0.0</td>\n",
              "      <td>0.0</td>\n",
              "      <td>0.0</td>\n",
              "    </tr>\n",
              "    <tr>\n",
              "      <th>5</th>\n",
              "      <td>0.0</td>\n",
              "      <td>0.0</td>\n",
              "      <td>0.0</td>\n",
              "      <td>0.0</td>\n",
              "      <td>0.0</td>\n",
              "      <td>0.0</td>\n",
              "      <td>0.0</td>\n",
              "      <td>0.0</td>\n",
              "      <td>0.0</td>\n",
              "      <td>0.0</td>\n",
              "      <td>0.0</td>\n",
              "      <td>0.0</td>\n",
              "      <td>0.0</td>\n",
              "      <td>0.0</td>\n",
              "      <td>0.0</td>\n",
              "      <td>0.0</td>\n",
              "      <td>0.0</td>\n",
              "      <td>0.0</td>\n",
              "      <td>0.0</td>\n",
              "      <td>0.0</td>\n",
              "      <td>0.0</td>\n",
              "      <td>0.0</td>\n",
              "      <td>0.0</td>\n",
              "      <td>0.0</td>\n",
              "      <td>0.0</td>\n",
              "      <td>0.0</td>\n",
              "      <td>0.0</td>\n",
              "      <td>0.0</td>\n",
              "      <td>0.0</td>\n",
              "      <td>0.0</td>\n",
              "      <td>0.0</td>\n",
              "      <td>0.0</td>\n",
              "      <td>0.0</td>\n",
              "      <td>0.0</td>\n",
              "      <td>0.0</td>\n",
              "      <td>0.0</td>\n",
              "      <td>0.0</td>\n",
              "      <td>0.0</td>\n",
              "      <td>0.0</td>\n",
              "      <td>0.0</td>\n",
              "      <td>...</td>\n",
              "      <td>0.0</td>\n",
              "      <td>0.0</td>\n",
              "      <td>0.0</td>\n",
              "      <td>0.0</td>\n",
              "      <td>0.0</td>\n",
              "      <td>0.0</td>\n",
              "      <td>0.0</td>\n",
              "      <td>0.0</td>\n",
              "      <td>0.0</td>\n",
              "      <td>0.0</td>\n",
              "      <td>0.0</td>\n",
              "      <td>0.0</td>\n",
              "      <td>0.0</td>\n",
              "      <td>0.0</td>\n",
              "      <td>0.0</td>\n",
              "      <td>0.0</td>\n",
              "      <td>0.0</td>\n",
              "      <td>0.0</td>\n",
              "      <td>0.0</td>\n",
              "      <td>0.0</td>\n",
              "      <td>0.0</td>\n",
              "      <td>0.0</td>\n",
              "      <td>0.0</td>\n",
              "      <td>0.0</td>\n",
              "      <td>0.0</td>\n",
              "      <td>0.0</td>\n",
              "      <td>0.0</td>\n",
              "      <td>0.0</td>\n",
              "      <td>0.0</td>\n",
              "      <td>0.0</td>\n",
              "      <td>0.0</td>\n",
              "      <td>0.0</td>\n",
              "      <td>0.0</td>\n",
              "      <td>0.0</td>\n",
              "      <td>0.0</td>\n",
              "      <td>0.0</td>\n",
              "      <td>0.0</td>\n",
              "      <td>0.0</td>\n",
              "      <td>0.0</td>\n",
              "      <td>0.0</td>\n",
              "    </tr>\n",
              "    <tr>\n",
              "      <th>6</th>\n",
              "      <td>0.0</td>\n",
              "      <td>0.0</td>\n",
              "      <td>0.0</td>\n",
              "      <td>0.0</td>\n",
              "      <td>0.0</td>\n",
              "      <td>0.0</td>\n",
              "      <td>0.0</td>\n",
              "      <td>0.0</td>\n",
              "      <td>0.0</td>\n",
              "      <td>0.0</td>\n",
              "      <td>0.0</td>\n",
              "      <td>0.0</td>\n",
              "      <td>0.0</td>\n",
              "      <td>0.0</td>\n",
              "      <td>0.0</td>\n",
              "      <td>0.0</td>\n",
              "      <td>0.0</td>\n",
              "      <td>0.0</td>\n",
              "      <td>0.0</td>\n",
              "      <td>0.0</td>\n",
              "      <td>0.0</td>\n",
              "      <td>0.0</td>\n",
              "      <td>0.0</td>\n",
              "      <td>0.0</td>\n",
              "      <td>0.0</td>\n",
              "      <td>0.0</td>\n",
              "      <td>0.0</td>\n",
              "      <td>0.0</td>\n",
              "      <td>0.0</td>\n",
              "      <td>0.0</td>\n",
              "      <td>0.0</td>\n",
              "      <td>0.0</td>\n",
              "      <td>0.0</td>\n",
              "      <td>0.0</td>\n",
              "      <td>0.0</td>\n",
              "      <td>0.0</td>\n",
              "      <td>0.0</td>\n",
              "      <td>0.0</td>\n",
              "      <td>0.0</td>\n",
              "      <td>0.0</td>\n",
              "      <td>...</td>\n",
              "      <td>0.0</td>\n",
              "      <td>0.0</td>\n",
              "      <td>0.0</td>\n",
              "      <td>0.0</td>\n",
              "      <td>0.0</td>\n",
              "      <td>0.0</td>\n",
              "      <td>0.0</td>\n",
              "      <td>0.0</td>\n",
              "      <td>0.0</td>\n",
              "      <td>0.0</td>\n",
              "      <td>0.0</td>\n",
              "      <td>0.0</td>\n",
              "      <td>0.0</td>\n",
              "      <td>0.0</td>\n",
              "      <td>0.0</td>\n",
              "      <td>0.0</td>\n",
              "      <td>0.0</td>\n",
              "      <td>0.0</td>\n",
              "      <td>0.0</td>\n",
              "      <td>0.0</td>\n",
              "      <td>0.0</td>\n",
              "      <td>0.0</td>\n",
              "      <td>0.0</td>\n",
              "      <td>0.0</td>\n",
              "      <td>0.0</td>\n",
              "      <td>0.0</td>\n",
              "      <td>0.0</td>\n",
              "      <td>0.0</td>\n",
              "      <td>0.0</td>\n",
              "      <td>0.0</td>\n",
              "      <td>0.0</td>\n",
              "      <td>0.0</td>\n",
              "      <td>0.0</td>\n",
              "      <td>0.0</td>\n",
              "      <td>0.0</td>\n",
              "      <td>0.0</td>\n",
              "      <td>0.0</td>\n",
              "      <td>0.0</td>\n",
              "      <td>0.0</td>\n",
              "      <td>0.0</td>\n",
              "    </tr>\n",
              "    <tr>\n",
              "      <th>7</th>\n",
              "      <td>0.0</td>\n",
              "      <td>0.0</td>\n",
              "      <td>0.0</td>\n",
              "      <td>0.0</td>\n",
              "      <td>0.0</td>\n",
              "      <td>0.0</td>\n",
              "      <td>0.0</td>\n",
              "      <td>0.0</td>\n",
              "      <td>0.0</td>\n",
              "      <td>0.0</td>\n",
              "      <td>0.0</td>\n",
              "      <td>0.0</td>\n",
              "      <td>0.0</td>\n",
              "      <td>0.0</td>\n",
              "      <td>0.0</td>\n",
              "      <td>0.0</td>\n",
              "      <td>0.0</td>\n",
              "      <td>0.0</td>\n",
              "      <td>0.0</td>\n",
              "      <td>0.0</td>\n",
              "      <td>0.0</td>\n",
              "      <td>0.0</td>\n",
              "      <td>0.0</td>\n",
              "      <td>0.0</td>\n",
              "      <td>0.0</td>\n",
              "      <td>0.0</td>\n",
              "      <td>0.0</td>\n",
              "      <td>0.0</td>\n",
              "      <td>0.0</td>\n",
              "      <td>0.0</td>\n",
              "      <td>0.0</td>\n",
              "      <td>0.0</td>\n",
              "      <td>0.0</td>\n",
              "      <td>0.0</td>\n",
              "      <td>0.0</td>\n",
              "      <td>0.0</td>\n",
              "      <td>0.0</td>\n",
              "      <td>0.0</td>\n",
              "      <td>0.0</td>\n",
              "      <td>0.0</td>\n",
              "      <td>...</td>\n",
              "      <td>0.0</td>\n",
              "      <td>0.0</td>\n",
              "      <td>0.0</td>\n",
              "      <td>0.0</td>\n",
              "      <td>0.0</td>\n",
              "      <td>0.0</td>\n",
              "      <td>0.0</td>\n",
              "      <td>0.0</td>\n",
              "      <td>0.0</td>\n",
              "      <td>0.0</td>\n",
              "      <td>0.0</td>\n",
              "      <td>0.0</td>\n",
              "      <td>0.0</td>\n",
              "      <td>0.0</td>\n",
              "      <td>0.0</td>\n",
              "      <td>0.0</td>\n",
              "      <td>0.0</td>\n",
              "      <td>0.0</td>\n",
              "      <td>0.0</td>\n",
              "      <td>0.0</td>\n",
              "      <td>0.0</td>\n",
              "      <td>0.0</td>\n",
              "      <td>0.0</td>\n",
              "      <td>0.0</td>\n",
              "      <td>0.0</td>\n",
              "      <td>0.0</td>\n",
              "      <td>0.0</td>\n",
              "      <td>0.0</td>\n",
              "      <td>0.0</td>\n",
              "      <td>0.0</td>\n",
              "      <td>0.0</td>\n",
              "      <td>0.0</td>\n",
              "      <td>0.0</td>\n",
              "      <td>0.0</td>\n",
              "      <td>0.0</td>\n",
              "      <td>0.0</td>\n",
              "      <td>0.0</td>\n",
              "      <td>0.0</td>\n",
              "      <td>0.0</td>\n",
              "      <td>0.0</td>\n",
              "    </tr>\n",
              "    <tr>\n",
              "      <th>8</th>\n",
              "      <td>0.0</td>\n",
              "      <td>0.0</td>\n",
              "      <td>0.0</td>\n",
              "      <td>0.0</td>\n",
              "      <td>0.0</td>\n",
              "      <td>0.0</td>\n",
              "      <td>0.0</td>\n",
              "      <td>0.0</td>\n",
              "      <td>0.0</td>\n",
              "      <td>0.0</td>\n",
              "      <td>0.0</td>\n",
              "      <td>0.0</td>\n",
              "      <td>0.0</td>\n",
              "      <td>0.0</td>\n",
              "      <td>0.0</td>\n",
              "      <td>0.0</td>\n",
              "      <td>0.0</td>\n",
              "      <td>0.0</td>\n",
              "      <td>0.0</td>\n",
              "      <td>0.0</td>\n",
              "      <td>0.0</td>\n",
              "      <td>0.0</td>\n",
              "      <td>0.0</td>\n",
              "      <td>0.0</td>\n",
              "      <td>0.0</td>\n",
              "      <td>0.0</td>\n",
              "      <td>0.0</td>\n",
              "      <td>0.0</td>\n",
              "      <td>0.0</td>\n",
              "      <td>0.0</td>\n",
              "      <td>0.0</td>\n",
              "      <td>0.0</td>\n",
              "      <td>0.0</td>\n",
              "      <td>0.0</td>\n",
              "      <td>0.0</td>\n",
              "      <td>0.0</td>\n",
              "      <td>0.0</td>\n",
              "      <td>0.0</td>\n",
              "      <td>0.0</td>\n",
              "      <td>0.0</td>\n",
              "      <td>...</td>\n",
              "      <td>0.0</td>\n",
              "      <td>0.0</td>\n",
              "      <td>0.0</td>\n",
              "      <td>0.0</td>\n",
              "      <td>0.0</td>\n",
              "      <td>0.0</td>\n",
              "      <td>0.0</td>\n",
              "      <td>0.0</td>\n",
              "      <td>0.0</td>\n",
              "      <td>0.0</td>\n",
              "      <td>0.0</td>\n",
              "      <td>0.0</td>\n",
              "      <td>0.0</td>\n",
              "      <td>0.0</td>\n",
              "      <td>0.0</td>\n",
              "      <td>0.0</td>\n",
              "      <td>0.0</td>\n",
              "      <td>0.0</td>\n",
              "      <td>0.0</td>\n",
              "      <td>0.0</td>\n",
              "      <td>0.0</td>\n",
              "      <td>0.0</td>\n",
              "      <td>0.0</td>\n",
              "      <td>0.0</td>\n",
              "      <td>0.0</td>\n",
              "      <td>0.0</td>\n",
              "      <td>0.0</td>\n",
              "      <td>0.0</td>\n",
              "      <td>0.0</td>\n",
              "      <td>0.0</td>\n",
              "      <td>0.0</td>\n",
              "      <td>0.0</td>\n",
              "      <td>0.0</td>\n",
              "      <td>0.0</td>\n",
              "      <td>0.0</td>\n",
              "      <td>0.0</td>\n",
              "      <td>0.0</td>\n",
              "      <td>0.0</td>\n",
              "      <td>0.0</td>\n",
              "      <td>0.0</td>\n",
              "    </tr>\n",
              "    <tr>\n",
              "      <th>9</th>\n",
              "      <td>0.0</td>\n",
              "      <td>0.0</td>\n",
              "      <td>0.0</td>\n",
              "      <td>0.0</td>\n",
              "      <td>0.0</td>\n",
              "      <td>0.0</td>\n",
              "      <td>0.0</td>\n",
              "      <td>0.0</td>\n",
              "      <td>0.0</td>\n",
              "      <td>0.0</td>\n",
              "      <td>0.0</td>\n",
              "      <td>0.0</td>\n",
              "      <td>0.0</td>\n",
              "      <td>0.0</td>\n",
              "      <td>0.0</td>\n",
              "      <td>0.0</td>\n",
              "      <td>0.0</td>\n",
              "      <td>0.0</td>\n",
              "      <td>0.0</td>\n",
              "      <td>0.0</td>\n",
              "      <td>5.0</td>\n",
              "      <td>0.0</td>\n",
              "      <td>0.0</td>\n",
              "      <td>0.0</td>\n",
              "      <td>0.0</td>\n",
              "      <td>0.0</td>\n",
              "      <td>0.0</td>\n",
              "      <td>0.0</td>\n",
              "      <td>0.0</td>\n",
              "      <td>0.0</td>\n",
              "      <td>0.0</td>\n",
              "      <td>0.0</td>\n",
              "      <td>0.0</td>\n",
              "      <td>0.0</td>\n",
              "      <td>0.0</td>\n",
              "      <td>0.0</td>\n",
              "      <td>0.0</td>\n",
              "      <td>0.0</td>\n",
              "      <td>0.0</td>\n",
              "      <td>0.0</td>\n",
              "      <td>...</td>\n",
              "      <td>0.0</td>\n",
              "      <td>0.0</td>\n",
              "      <td>0.0</td>\n",
              "      <td>0.0</td>\n",
              "      <td>0.0</td>\n",
              "      <td>0.0</td>\n",
              "      <td>0.0</td>\n",
              "      <td>0.0</td>\n",
              "      <td>0.0</td>\n",
              "      <td>0.0</td>\n",
              "      <td>0.0</td>\n",
              "      <td>0.0</td>\n",
              "      <td>0.0</td>\n",
              "      <td>0.0</td>\n",
              "      <td>0.0</td>\n",
              "      <td>0.0</td>\n",
              "      <td>0.0</td>\n",
              "      <td>0.0</td>\n",
              "      <td>0.0</td>\n",
              "      <td>0.0</td>\n",
              "      <td>0.0</td>\n",
              "      <td>0.0</td>\n",
              "      <td>0.0</td>\n",
              "      <td>0.0</td>\n",
              "      <td>0.0</td>\n",
              "      <td>0.0</td>\n",
              "      <td>0.0</td>\n",
              "      <td>0.0</td>\n",
              "      <td>0.0</td>\n",
              "      <td>0.0</td>\n",
              "      <td>0.0</td>\n",
              "      <td>0.0</td>\n",
              "      <td>0.0</td>\n",
              "      <td>0.0</td>\n",
              "      <td>0.0</td>\n",
              "      <td>0.0</td>\n",
              "      <td>0.0</td>\n",
              "      <td>0.0</td>\n",
              "      <td>0.0</td>\n",
              "      <td>0.0</td>\n",
              "    </tr>\n",
              "    <tr>\n",
              "      <th>10</th>\n",
              "      <td>0.0</td>\n",
              "      <td>0.0</td>\n",
              "      <td>0.0</td>\n",
              "      <td>0.0</td>\n",
              "      <td>0.0</td>\n",
              "      <td>0.0</td>\n",
              "      <td>0.0</td>\n",
              "      <td>0.0</td>\n",
              "      <td>0.0</td>\n",
              "      <td>0.0</td>\n",
              "      <td>0.0</td>\n",
              "      <td>0.0</td>\n",
              "      <td>0.0</td>\n",
              "      <td>0.0</td>\n",
              "      <td>0.0</td>\n",
              "      <td>0.0</td>\n",
              "      <td>0.0</td>\n",
              "      <td>0.0</td>\n",
              "      <td>0.0</td>\n",
              "      <td>0.0</td>\n",
              "      <td>0.0</td>\n",
              "      <td>0.0</td>\n",
              "      <td>0.0</td>\n",
              "      <td>0.0</td>\n",
              "      <td>0.0</td>\n",
              "      <td>0.0</td>\n",
              "      <td>0.0</td>\n",
              "      <td>0.0</td>\n",
              "      <td>0.0</td>\n",
              "      <td>0.0</td>\n",
              "      <td>0.0</td>\n",
              "      <td>0.0</td>\n",
              "      <td>0.0</td>\n",
              "      <td>0.0</td>\n",
              "      <td>0.0</td>\n",
              "      <td>0.0</td>\n",
              "      <td>0.0</td>\n",
              "      <td>0.0</td>\n",
              "      <td>0.0</td>\n",
              "      <td>0.0</td>\n",
              "      <td>...</td>\n",
              "      <td>0.0</td>\n",
              "      <td>0.0</td>\n",
              "      <td>0.0</td>\n",
              "      <td>0.0</td>\n",
              "      <td>0.0</td>\n",
              "      <td>0.0</td>\n",
              "      <td>0.0</td>\n",
              "      <td>0.0</td>\n",
              "      <td>0.0</td>\n",
              "      <td>0.0</td>\n",
              "      <td>0.0</td>\n",
              "      <td>0.0</td>\n",
              "      <td>0.0</td>\n",
              "      <td>0.0</td>\n",
              "      <td>0.0</td>\n",
              "      <td>0.0</td>\n",
              "      <td>0.0</td>\n",
              "      <td>0.0</td>\n",
              "      <td>0.0</td>\n",
              "      <td>0.0</td>\n",
              "      <td>0.0</td>\n",
              "      <td>0.0</td>\n",
              "      <td>0.0</td>\n",
              "      <td>0.0</td>\n",
              "      <td>0.0</td>\n",
              "      <td>0.0</td>\n",
              "      <td>0.0</td>\n",
              "      <td>0.0</td>\n",
              "      <td>0.0</td>\n",
              "      <td>0.0</td>\n",
              "      <td>0.0</td>\n",
              "      <td>0.0</td>\n",
              "      <td>0.0</td>\n",
              "      <td>0.0</td>\n",
              "      <td>0.0</td>\n",
              "      <td>0.0</td>\n",
              "      <td>0.0</td>\n",
              "      <td>0.0</td>\n",
              "      <td>0.0</td>\n",
              "      <td>0.0</td>\n",
              "    </tr>\n",
              "    <tr>\n",
              "      <th>11</th>\n",
              "      <td>0.0</td>\n",
              "      <td>0.0</td>\n",
              "      <td>0.0</td>\n",
              "      <td>0.0</td>\n",
              "      <td>0.0</td>\n",
              "      <td>0.0</td>\n",
              "      <td>0.0</td>\n",
              "      <td>0.0</td>\n",
              "      <td>0.0</td>\n",
              "      <td>0.0</td>\n",
              "      <td>0.0</td>\n",
              "      <td>0.0</td>\n",
              "      <td>0.0</td>\n",
              "      <td>0.0</td>\n",
              "      <td>0.0</td>\n",
              "      <td>0.0</td>\n",
              "      <td>0.0</td>\n",
              "      <td>0.0</td>\n",
              "      <td>0.0</td>\n",
              "      <td>0.0</td>\n",
              "      <td>0.0</td>\n",
              "      <td>0.0</td>\n",
              "      <td>0.0</td>\n",
              "      <td>0.0</td>\n",
              "      <td>0.0</td>\n",
              "      <td>0.0</td>\n",
              "      <td>0.0</td>\n",
              "      <td>0.0</td>\n",
              "      <td>0.0</td>\n",
              "      <td>0.0</td>\n",
              "      <td>0.0</td>\n",
              "      <td>0.0</td>\n",
              "      <td>0.0</td>\n",
              "      <td>0.0</td>\n",
              "      <td>0.0</td>\n",
              "      <td>0.0</td>\n",
              "      <td>0.0</td>\n",
              "      <td>0.0</td>\n",
              "      <td>0.0</td>\n",
              "      <td>0.0</td>\n",
              "      <td>...</td>\n",
              "      <td>0.0</td>\n",
              "      <td>0.0</td>\n",
              "      <td>0.0</td>\n",
              "      <td>0.0</td>\n",
              "      <td>0.0</td>\n",
              "      <td>0.0</td>\n",
              "      <td>0.0</td>\n",
              "      <td>0.0</td>\n",
              "      <td>0.0</td>\n",
              "      <td>0.0</td>\n",
              "      <td>0.0</td>\n",
              "      <td>0.0</td>\n",
              "      <td>0.0</td>\n",
              "      <td>0.0</td>\n",
              "      <td>0.0</td>\n",
              "      <td>0.0</td>\n",
              "      <td>0.0</td>\n",
              "      <td>0.0</td>\n",
              "      <td>0.0</td>\n",
              "      <td>0.0</td>\n",
              "      <td>0.0</td>\n",
              "      <td>0.0</td>\n",
              "      <td>0.0</td>\n",
              "      <td>0.0</td>\n",
              "      <td>0.0</td>\n",
              "      <td>0.0</td>\n",
              "      <td>0.0</td>\n",
              "      <td>0.0</td>\n",
              "      <td>0.0</td>\n",
              "      <td>0.0</td>\n",
              "      <td>0.0</td>\n",
              "      <td>0.0</td>\n",
              "      <td>0.0</td>\n",
              "      <td>0.0</td>\n",
              "      <td>0.0</td>\n",
              "      <td>0.0</td>\n",
              "      <td>0.0</td>\n",
              "      <td>0.0</td>\n",
              "      <td>0.0</td>\n",
              "      <td>0.0</td>\n",
              "    </tr>\n",
              "  </tbody>\n",
              "</table>\n",
              "<p>10 rows × 16501 columns</p>\n",
              "</div>"
            ],
            "text/plain": [
              "User_id   0      1      2      3      4      ...  17760  17761  17762  17763  17764\n",
              "Hotel_id                                     ...                                   \n",
              "2           0.0    0.0    0.0    0.0    0.0  ...    0.0    0.0    0.0    0.0    0.0\n",
              "3           0.0    0.0    0.0    0.0    0.0  ...    0.0    0.0    0.0    0.0    0.0\n",
              "4           0.0    0.0    0.0    0.0    0.0  ...    0.0    0.0    0.0    0.0    0.0\n",
              "5           0.0    0.0    0.0    0.0    0.0  ...    0.0    0.0    0.0    0.0    0.0\n",
              "6           0.0    0.0    0.0    0.0    0.0  ...    0.0    0.0    0.0    0.0    0.0\n",
              "7           0.0    0.0    0.0    0.0    0.0  ...    0.0    0.0    0.0    0.0    0.0\n",
              "8           0.0    0.0    0.0    0.0    0.0  ...    0.0    0.0    0.0    0.0    0.0\n",
              "9           0.0    0.0    0.0    0.0    0.0  ...    0.0    0.0    0.0    0.0    0.0\n",
              "10          0.0    0.0    0.0    0.0    0.0  ...    0.0    0.0    0.0    0.0    0.0\n",
              "11          0.0    0.0    0.0    0.0    0.0  ...    0.0    0.0    0.0    0.0    0.0\n",
              "\n",
              "[10 rows x 16501 columns]"
            ]
          },
          "metadata": {
            "tags": []
          },
          "execution_count": 143
        }
      ]
    },
    {
      "cell_type": "code",
      "metadata": {
        "id": "PXXRP4ahJNQ4",
        "outputId": "4cea62b7-2ba5-4aae-d27d-36c5bf0186f3",
        "colab": {
          "base_uri": "https://localhost:8080/",
          "height": 33
        }
      },
      "source": [
        "ratingsd.shape\n"
      ],
      "execution_count": 144,
      "outputs": [
        {
          "output_type": "execute_result",
          "data": {
            "text/plain": [
              "(2421, 16501)"
            ]
          },
          "metadata": {
            "tags": []
          },
          "execution_count": 144
        }
      ]
    },
    {
      "cell_type": "markdown",
      "metadata": {
        "id": "MeiVnwkXbMTi"
      },
      "source": [
        "**Train-Test Split**"
      ]
    },
    {
      "cell_type": "code",
      "metadata": {
        "id": "_iX943nZJVXh"
      },
      "source": [
        "from sklearn.model_selection import train_test_split\n",
        "traind, testd = train_test_split(ratingsd, test_size=0.25,random_state=42)"
      ],
      "execution_count": 145,
      "outputs": []
    },
    {
      "cell_type": "code",
      "metadata": {
        "id": "4LNykPC5JYfb"
      },
      "source": [
        "train = traind.to_numpy()\n",
        "test = testd.to_numpy()"
      ],
      "execution_count": 146,
      "outputs": []
    },
    {
      "cell_type": "code",
      "metadata": {
        "id": "LtftZi5tJzbh",
        "outputId": "6efcf8ad-521b-461c-a9ad-7cfc82f213c4",
        "colab": {
          "base_uri": "https://localhost:8080/",
          "height": 33
        }
      },
      "source": [
        "sparsity = float(len(train.nonzero()[0]))\n",
        "sparsity /= (train.shape[0] * train.shape[1])\n",
        "sparsity *= 100\n",
        "print ('Sparsity: {:5.2f}%'.format(sparsity))"
      ],
      "execution_count": 147,
      "outputs": [
        {
          "output_type": "stream",
          "text": [
            "Sparsity:  0.05%\n"
          ],
          "name": "stdout"
        }
      ]
    },
    {
      "cell_type": "code",
      "metadata": {
        "id": "98X49TZHLRpJ"
      },
      "source": [
        "def item_similarity(Rating, epsilon=1e-9):\n",
        "    # epsilon -> for handling dived-by-zero errors\n",
        "    sim = Rating.T.dot(Rating) + epsilon\n",
        "    norms = np.array([np.sqrt(np.diagonal(sim))])\n",
        "    return (sim / norms / norms.T)"
      ],
      "execution_count": 148,
      "outputs": []
    },
    {
      "cell_type": "code",
      "metadata": {
        "id": "lc_Ox9OTLkqP"
      },
      "source": [
        "item_sim = item_similarity(train)\n"
      ],
      "execution_count": 149,
      "outputs": []
    },
    {
      "cell_type": "code",
      "metadata": {
        "id": "1IfqjIedLnUu"
      },
      "source": [
        "def predict_item(ratings, similarity):\n",
        "    return ratings.dot(similarity) / np.array([np.abs(similarity).sum(axis=1)])"
      ],
      "execution_count": 150,
      "outputs": []
    },
    {
      "cell_type": "code",
      "metadata": {
        "id": "brnjLMUvLqu1"
      },
      "source": [
        "item_prediction = predict_item(train, item_sim)\n"
      ],
      "execution_count": 151,
      "outputs": []
    },
    {
      "cell_type": "code",
      "metadata": {
        "id": "TgqOCs-nLuSI",
        "outputId": "57861a49-1bb0-42c9-cb85-2dd2b8ed62a0",
        "colab": {
          "base_uri": "https://localhost:8080/",
          "height": 82
        }
      },
      "source": [
        "item_prediction[:4, :4]\n"
      ],
      "execution_count": 152,
      "outputs": [
        {
          "output_type": "execute_result",
          "data": {
            "text/plain": [
              "array([[1.25104576e-10, 4.63299121e-08, 4.63299121e-08, 4.63299121e-08],\n",
              "       [2.23830641e-10, 8.28910838e-08, 8.28910838e-08, 8.28910838e-08],\n",
              "       [1.99459940e-11, 7.38658951e-09, 7.38658951e-09, 7.38658951e-09],\n",
              "       [1.99459940e-11, 7.38658951e-09, 7.38658951e-09, 7.38658951e-09]])"
            ]
          },
          "metadata": {
            "tags": []
          },
          "execution_count": 152
        }
      ]
    },
    {
      "cell_type": "code",
      "metadata": {
        "id": "R_BEGn6HLvxu"
      },
      "source": [
        "from sklearn.metrics import mean_squared_error\n",
        "\n",
        "def get_mse(pred, actual):\n",
        "    # Ignore nonzero terms.\n",
        "    pred = pred[actual.nonzero()].flatten()\n",
        "    actual = actual[actual.nonzero()].flatten()\n",
        "    return mean_squared_error(pred, actual)"
      ],
      "execution_count": 153,
      "outputs": []
    },
    {
      "cell_type": "code",
      "metadata": {
        "id": "YHd4MrE2Lzvx",
        "outputId": "d538edd2-d03f-4609-b0ef-40a1270a1dfc",
        "colab": {
          "base_uri": "https://localhost:8080/",
          "height": 33
        }
      },
      "source": [
        "print ('Item-based CF MSE: ' + str(get_mse(item_prediction, test)))\n"
      ],
      "execution_count": 154,
      "outputs": [
        {
          "output_type": "stream",
          "text": [
            "Item-based CF MSE: 18.075246885306353\n"
          ],
          "name": "stdout"
        }
      ]
    },
    {
      "cell_type": "code",
      "metadata": {
        "id": "z86slf_sMAVy",
        "outputId": "c94ddb87-db9b-4a3c-b047-5c691d84d3f3",
        "colab": {
          "base_uri": "https://localhost:8080/",
          "height": 180
        }
      },
      "source": [
        "from sklearn.decomposition import TruncatedSVD\n",
        "from sklearn.metrics.pairwise import cosine_similarity\n",
        "\n",
        "svd = TruncatedSVD(n_components=50, n_iter=7, random_state=42)\n",
        "r_mat_tr=svd.fit_transform(traind) \n",
        "print(svd.explained_variance_ratio_)  \n",
        "print(svd.explained_variance_ratio_.sum())\n",
        "\n",
        "#pm=pd.DataFrame(cosine_similarity(r_mat_tr))\n",
        "#pm.head()\n",
        "ctrain = cosine_similarity(r_mat_tr)"
      ],
      "execution_count": 155,
      "outputs": [
        {
          "output_type": "stream",
          "text": [
            "[0.03448138 0.02547496 0.01597967 0.01394439 0.01329294 0.01250943\n",
            " 0.01089528 0.00860496 0.00825016 0.00808078 0.00722212 0.00715953\n",
            " 0.00713273 0.00707803 0.00700126 0.00690115 0.00650456 0.00645489\n",
            " 0.00641945 0.00621576 0.00617995 0.00601301 0.00569593 0.005617\n",
            " 0.00560874 0.00558877 0.00537924 0.00534062 0.00522897 0.00515892\n",
            " 0.00498812 0.00499265 0.00479722 0.00472449 0.00465292 0.00454246\n",
            " 0.00432487 0.00411803 0.00410552 0.0040846  0.00406822 0.0040326\n",
            " 0.00400535 0.00392212 0.00386107 0.00381975 0.0038101  0.00377431\n",
            " 0.00369944 0.00349548]\n",
            "0.35923388470758527\n"
          ],
          "name": "stdout"
        }
      ]
    },
    {
      "cell_type": "code",
      "metadata": {
        "id": "DXC8JeQzMCQU",
        "outputId": "7f31482e-49bf-41dd-cd50-f3745d906231",
        "colab": {
          "base_uri": "https://localhost:8080/",
          "height": 180
        }
      },
      "source": [
        "from sklearn.decomposition import TruncatedSVD\n",
        "from sklearn.metrics.pairwise import cosine_similarity\n",
        "\n",
        "svd = TruncatedSVD(n_components=50, n_iter=7, random_state=42)\n",
        "r_mat_tr=svd.fit_transform(testd) \n",
        "print(svd.explained_variance_ratio_)  \n",
        "print(svd.explained_variance_ratio_.sum())\n",
        "\n",
        "#pmtt=pd.DataFrame(cosine_similarity(r_mat_tr))\n",
        "#print (pmtt[:2])\n",
        "#pmtt.head()\n",
        "ctest = cosine_similarity(r_mat_tr)"
      ],
      "execution_count": 156,
      "outputs": [
        {
          "output_type": "stream",
          "text": [
            "[0.03820927 0.03279976 0.02833042 0.02820274 0.02732435 0.02740248\n",
            " 0.02523699 0.02483927 0.0212594  0.02011175 0.02020752 0.01553272\n",
            " 0.01522707 0.01485331 0.01478236 0.01414522 0.01408061 0.01229343\n",
            " 0.01147194 0.01138759 0.01064512 0.01052912 0.01012896 0.00987038\n",
            " 0.00975163 0.00948125 0.0090703  0.00883785 0.00883206 0.0076041\n",
            " 0.00737845 0.00726877 0.00652014 0.00645427 0.00636112 0.0060497\n",
            " 0.00601886 0.00588185 0.00578476 0.00560021 0.00508939 0.00498518\n",
            " 0.00487878 0.00467558 0.0046333  0.00461111 0.0042128  0.00420678\n",
            " 0.00415709 0.00403282]\n",
            "0.6212499462510105\n"
          ],
          "name": "stdout"
        }
      ]
    },
    {
      "cell_type": "code",
      "metadata": {
        "id": "j0ZLZnoVMF8N",
        "outputId": "2abe5414-23bc-455b-de07-9bfa8db870c7",
        "colab": {
          "base_uri": "https://localhost:8080/",
          "height": 33
        }
      },
      "source": [
        "print (' CF MSE: ' + str(get_mse(ctrain, ctest)))\n"
      ],
      "execution_count": 157,
      "outputs": [
        {
          "output_type": "stream",
          "text": [
            " CF MSE: 0.17494786424915804\n"
          ],
          "name": "stdout"
        }
      ]
    },
    {
      "cell_type": "code",
      "metadata": {
        "id": "vGkQSMdMMKIc"
      },
      "source": [
        "df = df.sort_values(by='Rating')\n",
        "df = df.reset_index(drop=True)\n",
        "count_users = df.groupby(\"User_id\", as_index=False).count()"
      ],
      "execution_count": 158,
      "outputs": []
    },
    {
      "cell_type": "code",
      "metadata": {
        "id": "nPHQQZlmMVoM"
      },
      "source": [
        "count = df.groupby(\"Hotel_id\", as_index=False).mean()\n"
      ],
      "execution_count": 159,
      "outputs": []
    },
    {
      "cell_type": "code",
      "metadata": {
        "id": "HRTJVY85McMj",
        "outputId": "5245aa96-db20-4b0b-f276-b472656658f0",
        "colab": {
          "base_uri": "https://localhost:8080/",
          "height": 207
        }
      },
      "source": [
        "items_df = count[['Hotel_id']]\n",
        "items_df.head()\n",
        "print(len(items_df))"
      ],
      "execution_count": 160,
      "outputs": [
        {
          "output_type": "execute_result",
          "data": {
            "text/html": [
              "<div>\n",
              "<style scoped>\n",
              "    .dataframe tbody tr th:only-of-type {\n",
              "        vertical-align: middle;\n",
              "    }\n",
              "\n",
              "    .dataframe tbody tr th {\n",
              "        vertical-align: top;\n",
              "    }\n",
              "\n",
              "    .dataframe thead th {\n",
              "        text-align: right;\n",
              "    }\n",
              "</style>\n",
              "<table border=\"1\" class=\"dataframe\">\n",
              "  <thead>\n",
              "    <tr style=\"text-align: right;\">\n",
              "      <th></th>\n",
              "      <th>Hotel_id</th>\n",
              "    </tr>\n",
              "  </thead>\n",
              "  <tbody>\n",
              "    <tr>\n",
              "      <th>0</th>\n",
              "      <td>2</td>\n",
              "    </tr>\n",
              "    <tr>\n",
              "      <th>1</th>\n",
              "      <td>3</td>\n",
              "    </tr>\n",
              "    <tr>\n",
              "      <th>2</th>\n",
              "      <td>4</td>\n",
              "    </tr>\n",
              "    <tr>\n",
              "      <th>3</th>\n",
              "      <td>5</td>\n",
              "    </tr>\n",
              "    <tr>\n",
              "      <th>4</th>\n",
              "      <td>6</td>\n",
              "    </tr>\n",
              "  </tbody>\n",
              "</table>\n",
              "</div>"
            ],
            "text/plain": [
              "   Hotel_id\n",
              "0         2\n",
              "1         3\n",
              "2         4\n",
              "3         5\n",
              "4         6"
            ]
          },
          "metadata": {
            "tags": []
          },
          "execution_count": 160
        },
        {
          "output_type": "stream",
          "text": [
            "2421\n"
          ],
          "name": "stdout"
        }
      ]
    },
    {
      "cell_type": "code",
      "metadata": {
        "id": "ihDBE1yNMgkY",
        "outputId": "025fc7eb-7bb6-4848-deb9-c52d067ce979",
        "colab": {
          "base_uri": "https://localhost:8080/",
          "height": 207
        }
      },
      "source": [
        "users_df = count_users[['User_id']]\n",
        "users_df.head()\n",
        "print(len(users_df))"
      ],
      "execution_count": 161,
      "outputs": [
        {
          "output_type": "execute_result",
          "data": {
            "text/html": [
              "<div>\n",
              "<style scoped>\n",
              "    .dataframe tbody tr th:only-of-type {\n",
              "        vertical-align: middle;\n",
              "    }\n",
              "\n",
              "    .dataframe tbody tr th {\n",
              "        vertical-align: top;\n",
              "    }\n",
              "\n",
              "    .dataframe thead th {\n",
              "        text-align: right;\n",
              "    }\n",
              "</style>\n",
              "<table border=\"1\" class=\"dataframe\">\n",
              "  <thead>\n",
              "    <tr style=\"text-align: right;\">\n",
              "      <th></th>\n",
              "      <th>User_id</th>\n",
              "    </tr>\n",
              "  </thead>\n",
              "  <tbody>\n",
              "    <tr>\n",
              "      <th>0</th>\n",
              "      <td>0</td>\n",
              "    </tr>\n",
              "    <tr>\n",
              "      <th>1</th>\n",
              "      <td>1</td>\n",
              "    </tr>\n",
              "    <tr>\n",
              "      <th>2</th>\n",
              "      <td>2</td>\n",
              "    </tr>\n",
              "    <tr>\n",
              "      <th>3</th>\n",
              "      <td>3</td>\n",
              "    </tr>\n",
              "    <tr>\n",
              "      <th>4</th>\n",
              "      <td>4</td>\n",
              "    </tr>\n",
              "  </tbody>\n",
              "</table>\n",
              "</div>"
            ],
            "text/plain": [
              "   User_id\n",
              "0        0\n",
              "1        1\n",
              "2        2\n",
              "3        3\n",
              "4        4"
            ]
          },
          "metadata": {
            "tags": []
          },
          "execution_count": 161
        },
        {
          "output_type": "stream",
          "text": [
            "16501\n"
          ],
          "name": "stdout"
        }
      ]
    },
    {
      "cell_type": "code",
      "metadata": {
        "id": "3wOzqYMPMvbL",
        "outputId": "44fb5c7a-1d1f-4909-f00d-88df16c3f74b",
        "colab": {
          "base_uri": "https://localhost:8080/",
          "height": 33
        }
      },
      "source": [
        "users_list = users_df.values\n",
        "len(users_list)"
      ],
      "execution_count": 162,
      "outputs": [
        {
          "output_type": "execute_result",
          "data": {
            "text/plain": [
              "16501"
            ]
          },
          "metadata": {
            "tags": []
          },
          "execution_count": 162
        }
      ]
    },
    {
      "cell_type": "code",
      "metadata": {
        "id": "Rk7IjPCwM2Bu",
        "outputId": "d02012fa-1920-42cc-e79e-64a23bf95e33",
        "colab": {
          "base_uri": "https://localhost:8080/",
          "height": 131
        }
      },
      "source": [
        "df_clean_matrix = df.pivot(index='Hotel_id', columns='User_id', values='Rating').fillna(0)\n",
        "df_clean_matrix = df_clean_matrix.T\n",
        "R = (df_clean_matrix).to_numpy()\n",
        "R"
      ],
      "execution_count": 163,
      "outputs": [
        {
          "output_type": "execute_result",
          "data": {
            "text/plain": [
              "array([[0., 0., 0., ..., 0., 0., 0.],\n",
              "       [0., 0., 0., ..., 0., 0., 0.],\n",
              "       [0., 0., 0., ..., 0., 0., 0.],\n",
              "       ...,\n",
              "       [0., 0., 0., ..., 0., 0., 0.],\n",
              "       [0., 0., 0., ..., 0., 0., 0.],\n",
              "       [0., 0., 0., ..., 0., 0., 0.]])"
            ]
          },
          "metadata": {
            "tags": []
          },
          "execution_count": 163
        }
      ]
    },
    {
      "cell_type": "code",
      "metadata": {
        "id": "xkm-JdsCNN2N",
        "outputId": "7e3a2fef-ee41-460d-91b4-aabe3ff1f914",
        "colab": {
          "base_uri": "https://localhost:8080/",
          "height": 228
        }
      },
      "source": [
        "user_ratings_mean = np.mean(R, axis = 1)\n",
        "R_demeaned = R - user_ratings_mean.reshape(-1, 1)\n",
        "R_demeaned"
      ],
      "execution_count": 164,
      "outputs": [
        {
          "output_type": "execute_result",
          "data": {
            "text/plain": [
              "array([[-0.00206526, -0.00206526, -0.00206526, ..., -0.00206526,\n",
              "        -0.00206526, -0.00206526],\n",
              "       [-0.00206526, -0.00206526, -0.00206526, ..., -0.00206526,\n",
              "        -0.00206526, -0.00206526],\n",
              "       [-0.00206526, -0.00206526, -0.00206526, ..., -0.00206526,\n",
              "        -0.00206526, -0.00206526],\n",
              "       ...,\n",
              "       [-0.00206526, -0.00206526, -0.00206526, ..., -0.00206526,\n",
              "        -0.00206526, -0.00206526],\n",
              "       [-0.00123916, -0.00123916, -0.00123916, ..., -0.00123916,\n",
              "        -0.00123916, -0.00123916],\n",
              "       [-0.0008261 , -0.0008261 , -0.0008261 , ..., -0.0008261 ,\n",
              "        -0.0008261 , -0.0008261 ]])"
            ]
          },
          "metadata": {
            "tags": []
          },
          "execution_count": 164
        }
      ]
    },
    {
      "cell_type": "code",
      "metadata": {
        "id": "fMrzO3rENSbY"
      },
      "source": [
        "from scipy.sparse.linalg import svds\n",
        "U, sigma, Vt = svds(R_demeaned)"
      ],
      "execution_count": 165,
      "outputs": []
    },
    {
      "cell_type": "code",
      "metadata": {
        "id": "Aunb5rtONXg2"
      },
      "source": [
        "sigma = np.diag(sigma)\n"
      ],
      "execution_count": 166,
      "outputs": []
    },
    {
      "cell_type": "code",
      "metadata": {
        "id": "6rAm4fZFNZuO",
        "outputId": "d57bed59-7557-4b16-a830-dbcd361be86b",
        "colab": {
          "base_uri": "https://localhost:8080/",
          "height": 267
        }
      },
      "source": [
        "all_user_predicted_ratings = np.dot(np.dot(U, sigma), Vt) + user_ratings_mean.reshape(-1, 1)\n",
        "preds_df = pd.DataFrame(all_user_predicted_ratings, columns = df_clean_matrix.columns)\n",
        "preds_df['User_id'] = users_df\n",
        "preds_df.set_index('User_id', inplace=True)\n",
        "preds_df.head()"
      ],
      "execution_count": 167,
      "outputs": [
        {
          "output_type": "execute_result",
          "data": {
            "text/html": [
              "<div>\n",
              "<style scoped>\n",
              "    .dataframe tbody tr th:only-of-type {\n",
              "        vertical-align: middle;\n",
              "    }\n",
              "\n",
              "    .dataframe tbody tr th {\n",
              "        vertical-align: top;\n",
              "    }\n",
              "\n",
              "    .dataframe thead th {\n",
              "        text-align: right;\n",
              "    }\n",
              "</style>\n",
              "<table border=\"1\" class=\"dataframe\">\n",
              "  <thead>\n",
              "    <tr style=\"text-align: right;\">\n",
              "      <th>Hotel_id</th>\n",
              "      <th>2</th>\n",
              "      <th>3</th>\n",
              "      <th>4</th>\n",
              "      <th>5</th>\n",
              "      <th>6</th>\n",
              "      <th>7</th>\n",
              "      <th>8</th>\n",
              "      <th>9</th>\n",
              "      <th>10</th>\n",
              "      <th>11</th>\n",
              "      <th>12</th>\n",
              "      <th>13</th>\n",
              "      <th>14</th>\n",
              "      <th>15</th>\n",
              "      <th>16</th>\n",
              "      <th>17</th>\n",
              "      <th>18</th>\n",
              "      <th>19</th>\n",
              "      <th>20</th>\n",
              "      <th>22</th>\n",
              "      <th>23</th>\n",
              "      <th>24</th>\n",
              "      <th>25</th>\n",
              "      <th>26</th>\n",
              "      <th>28</th>\n",
              "      <th>29</th>\n",
              "      <th>30</th>\n",
              "      <th>32</th>\n",
              "      <th>33</th>\n",
              "      <th>34</th>\n",
              "      <th>36</th>\n",
              "      <th>37</th>\n",
              "      <th>38</th>\n",
              "      <th>40</th>\n",
              "      <th>42</th>\n",
              "      <th>43</th>\n",
              "      <th>44</th>\n",
              "      <th>45</th>\n",
              "      <th>46</th>\n",
              "      <th>47</th>\n",
              "      <th>...</th>\n",
              "      <th>3082</th>\n",
              "      <th>3083</th>\n",
              "      <th>3084</th>\n",
              "      <th>3085</th>\n",
              "      <th>3086</th>\n",
              "      <th>3087</th>\n",
              "      <th>3088</th>\n",
              "      <th>3089</th>\n",
              "      <th>3090</th>\n",
              "      <th>3091</th>\n",
              "      <th>3092</th>\n",
              "      <th>3093</th>\n",
              "      <th>3094</th>\n",
              "      <th>3095</th>\n",
              "      <th>3096</th>\n",
              "      <th>3097</th>\n",
              "      <th>3098</th>\n",
              "      <th>3099</th>\n",
              "      <th>3100</th>\n",
              "      <th>3101</th>\n",
              "      <th>3106</th>\n",
              "      <th>3107</th>\n",
              "      <th>3108</th>\n",
              "      <th>3111</th>\n",
              "      <th>3112</th>\n",
              "      <th>3113</th>\n",
              "      <th>3114</th>\n",
              "      <th>3115</th>\n",
              "      <th>3116</th>\n",
              "      <th>3117</th>\n",
              "      <th>3118</th>\n",
              "      <th>3119</th>\n",
              "      <th>3120</th>\n",
              "      <th>3121</th>\n",
              "      <th>3122</th>\n",
              "      <th>3123</th>\n",
              "      <th>3124</th>\n",
              "      <th>3126</th>\n",
              "      <th>3127</th>\n",
              "      <th>3128</th>\n",
              "    </tr>\n",
              "    <tr>\n",
              "      <th>User_id</th>\n",
              "      <th></th>\n",
              "      <th></th>\n",
              "      <th></th>\n",
              "      <th></th>\n",
              "      <th></th>\n",
              "      <th></th>\n",
              "      <th></th>\n",
              "      <th></th>\n",
              "      <th></th>\n",
              "      <th></th>\n",
              "      <th></th>\n",
              "      <th></th>\n",
              "      <th></th>\n",
              "      <th></th>\n",
              "      <th></th>\n",
              "      <th></th>\n",
              "      <th></th>\n",
              "      <th></th>\n",
              "      <th></th>\n",
              "      <th></th>\n",
              "      <th></th>\n",
              "      <th></th>\n",
              "      <th></th>\n",
              "      <th></th>\n",
              "      <th></th>\n",
              "      <th></th>\n",
              "      <th></th>\n",
              "      <th></th>\n",
              "      <th></th>\n",
              "      <th></th>\n",
              "      <th></th>\n",
              "      <th></th>\n",
              "      <th></th>\n",
              "      <th></th>\n",
              "      <th></th>\n",
              "      <th></th>\n",
              "      <th></th>\n",
              "      <th></th>\n",
              "      <th></th>\n",
              "      <th></th>\n",
              "      <th></th>\n",
              "      <th></th>\n",
              "      <th></th>\n",
              "      <th></th>\n",
              "      <th></th>\n",
              "      <th></th>\n",
              "      <th></th>\n",
              "      <th></th>\n",
              "      <th></th>\n",
              "      <th></th>\n",
              "      <th></th>\n",
              "      <th></th>\n",
              "      <th></th>\n",
              "      <th></th>\n",
              "      <th></th>\n",
              "      <th></th>\n",
              "      <th></th>\n",
              "      <th></th>\n",
              "      <th></th>\n",
              "      <th></th>\n",
              "      <th></th>\n",
              "      <th></th>\n",
              "      <th></th>\n",
              "      <th></th>\n",
              "      <th></th>\n",
              "      <th></th>\n",
              "      <th></th>\n",
              "      <th></th>\n",
              "      <th></th>\n",
              "      <th></th>\n",
              "      <th></th>\n",
              "      <th></th>\n",
              "      <th></th>\n",
              "      <th></th>\n",
              "      <th></th>\n",
              "      <th></th>\n",
              "      <th></th>\n",
              "      <th></th>\n",
              "      <th></th>\n",
              "      <th></th>\n",
              "      <th></th>\n",
              "    </tr>\n",
              "  </thead>\n",
              "  <tbody>\n",
              "    <tr>\n",
              "      <th>0</th>\n",
              "      <td>-0.001154</td>\n",
              "      <td>0.000802</td>\n",
              "      <td>0.002231</td>\n",
              "      <td>-0.002625</td>\n",
              "      <td>-0.001534</td>\n",
              "      <td>-0.002205</td>\n",
              "      <td>0.002218</td>\n",
              "      <td>-0.000970</td>\n",
              "      <td>0.000513</td>\n",
              "      <td>-0.000074</td>\n",
              "      <td>-0.001639</td>\n",
              "      <td>-0.002245</td>\n",
              "      <td>0.002250</td>\n",
              "      <td>0.002253</td>\n",
              "      <td>0.002240</td>\n",
              "      <td>0.002230</td>\n",
              "      <td>-0.001026</td>\n",
              "      <td>0.002224</td>\n",
              "      <td>-0.000317</td>\n",
              "      <td>0.002226</td>\n",
              "      <td>0.002222</td>\n",
              "      <td>0.002266</td>\n",
              "      <td>-0.000918</td>\n",
              "      <td>0.002239</td>\n",
              "      <td>0.002223</td>\n",
              "      <td>-0.000671</td>\n",
              "      <td>-0.002784</td>\n",
              "      <td>-0.003503</td>\n",
              "      <td>0.002221</td>\n",
              "      <td>0.002220</td>\n",
              "      <td>0.002226</td>\n",
              "      <td>0.001193</td>\n",
              "      <td>0.002169</td>\n",
              "      <td>-0.001517</td>\n",
              "      <td>-0.002566</td>\n",
              "      <td>0.002228</td>\n",
              "      <td>0.002217</td>\n",
              "      <td>0.002218</td>\n",
              "      <td>-0.001922</td>\n",
              "      <td>0.002360</td>\n",
              "      <td>...</td>\n",
              "      <td>0.002223</td>\n",
              "      <td>0.002224</td>\n",
              "      <td>0.002225</td>\n",
              "      <td>0.002223</td>\n",
              "      <td>0.002207</td>\n",
              "      <td>0.002224</td>\n",
              "      <td>0.002160</td>\n",
              "      <td>0.002241</td>\n",
              "      <td>0.002224</td>\n",
              "      <td>0.002227</td>\n",
              "      <td>0.002231</td>\n",
              "      <td>0.002223</td>\n",
              "      <td>0.002223</td>\n",
              "      <td>0.002227</td>\n",
              "      <td>0.002224</td>\n",
              "      <td>0.002232</td>\n",
              "      <td>0.002223</td>\n",
              "      <td>0.002225</td>\n",
              "      <td>0.002226</td>\n",
              "      <td>0.002250</td>\n",
              "      <td>0.002226</td>\n",
              "      <td>-0.003295</td>\n",
              "      <td>0.002231</td>\n",
              "      <td>0.002298</td>\n",
              "      <td>-0.000616</td>\n",
              "      <td>-0.001164</td>\n",
              "      <td>0.002229</td>\n",
              "      <td>-0.001421</td>\n",
              "      <td>0.002233</td>\n",
              "      <td>0.002223</td>\n",
              "      <td>-0.002592</td>\n",
              "      <td>-0.002289</td>\n",
              "      <td>0.000381</td>\n",
              "      <td>0.002230</td>\n",
              "      <td>0.001344</td>\n",
              "      <td>0.002222</td>\n",
              "      <td>-0.003296</td>\n",
              "      <td>0.002226</td>\n",
              "      <td>-0.002622</td>\n",
              "      <td>0.002211</td>\n",
              "    </tr>\n",
              "    <tr>\n",
              "      <th>1</th>\n",
              "      <td>-0.001196</td>\n",
              "      <td>0.000785</td>\n",
              "      <td>0.002233</td>\n",
              "      <td>-0.002691</td>\n",
              "      <td>-0.001588</td>\n",
              "      <td>-0.002273</td>\n",
              "      <td>0.002220</td>\n",
              "      <td>-0.000959</td>\n",
              "      <td>0.000490</td>\n",
              "      <td>-0.000104</td>\n",
              "      <td>-0.001687</td>\n",
              "      <td>-0.002306</td>\n",
              "      <td>0.002254</td>\n",
              "      <td>0.002256</td>\n",
              "      <td>0.002242</td>\n",
              "      <td>0.002232</td>\n",
              "      <td>-0.001072</td>\n",
              "      <td>0.002226</td>\n",
              "      <td>-0.000355</td>\n",
              "      <td>0.002229</td>\n",
              "      <td>0.002225</td>\n",
              "      <td>0.002270</td>\n",
              "      <td>-0.000953</td>\n",
              "      <td>0.002241</td>\n",
              "      <td>0.002225</td>\n",
              "      <td>-0.000710</td>\n",
              "      <td>-0.002857</td>\n",
              "      <td>-0.003584</td>\n",
              "      <td>0.002223</td>\n",
              "      <td>0.002222</td>\n",
              "      <td>0.002228</td>\n",
              "      <td>0.001179</td>\n",
              "      <td>0.002300</td>\n",
              "      <td>-0.001563</td>\n",
              "      <td>-0.002632</td>\n",
              "      <td>0.002230</td>\n",
              "      <td>0.002219</td>\n",
              "      <td>0.002220</td>\n",
              "      <td>-0.001977</td>\n",
              "      <td>0.002367</td>\n",
              "      <td>...</td>\n",
              "      <td>0.002226</td>\n",
              "      <td>0.002226</td>\n",
              "      <td>0.002227</td>\n",
              "      <td>0.002225</td>\n",
              "      <td>0.002208</td>\n",
              "      <td>0.002226</td>\n",
              "      <td>0.002161</td>\n",
              "      <td>0.002244</td>\n",
              "      <td>0.002226</td>\n",
              "      <td>0.002229</td>\n",
              "      <td>0.002234</td>\n",
              "      <td>0.002225</td>\n",
              "      <td>0.002225</td>\n",
              "      <td>0.002229</td>\n",
              "      <td>0.002226</td>\n",
              "      <td>0.002234</td>\n",
              "      <td>0.002225</td>\n",
              "      <td>0.002228</td>\n",
              "      <td>0.002228</td>\n",
              "      <td>0.002253</td>\n",
              "      <td>0.002228</td>\n",
              "      <td>-0.003376</td>\n",
              "      <td>0.002234</td>\n",
              "      <td>0.002302</td>\n",
              "      <td>-0.000658</td>\n",
              "      <td>-0.001117</td>\n",
              "      <td>0.002231</td>\n",
              "      <td>-0.001469</td>\n",
              "      <td>0.002236</td>\n",
              "      <td>0.002226</td>\n",
              "      <td>-0.002658</td>\n",
              "      <td>-0.002350</td>\n",
              "      <td>0.000355</td>\n",
              "      <td>0.002232</td>\n",
              "      <td>0.001333</td>\n",
              "      <td>0.002224</td>\n",
              "      <td>-0.003374</td>\n",
              "      <td>0.002228</td>\n",
              "      <td>-0.002687</td>\n",
              "      <td>0.002213</td>\n",
              "    </tr>\n",
              "    <tr>\n",
              "      <th>2</th>\n",
              "      <td>-0.001146</td>\n",
              "      <td>0.000805</td>\n",
              "      <td>0.002230</td>\n",
              "      <td>-0.002613</td>\n",
              "      <td>-0.001525</td>\n",
              "      <td>-0.002193</td>\n",
              "      <td>0.002218</td>\n",
              "      <td>-0.000973</td>\n",
              "      <td>0.000517</td>\n",
              "      <td>-0.000069</td>\n",
              "      <td>-0.001630</td>\n",
              "      <td>-0.002234</td>\n",
              "      <td>0.002249</td>\n",
              "      <td>0.002253</td>\n",
              "      <td>0.002239</td>\n",
              "      <td>0.002229</td>\n",
              "      <td>-0.001018</td>\n",
              "      <td>0.002224</td>\n",
              "      <td>-0.000311</td>\n",
              "      <td>0.002226</td>\n",
              "      <td>0.002222</td>\n",
              "      <td>0.002265</td>\n",
              "      <td>-0.000911</td>\n",
              "      <td>0.002238</td>\n",
              "      <td>0.002222</td>\n",
              "      <td>-0.000664</td>\n",
              "      <td>-0.002771</td>\n",
              "      <td>-0.003488</td>\n",
              "      <td>0.002221</td>\n",
              "      <td>0.002219</td>\n",
              "      <td>0.002226</td>\n",
              "      <td>0.001195</td>\n",
              "      <td>0.002149</td>\n",
              "      <td>-0.001509</td>\n",
              "      <td>-0.002555</td>\n",
              "      <td>0.002228</td>\n",
              "      <td>0.002216</td>\n",
              "      <td>0.002218</td>\n",
              "      <td>-0.001912</td>\n",
              "      <td>0.002359</td>\n",
              "      <td>...</td>\n",
              "      <td>0.002223</td>\n",
              "      <td>0.002223</td>\n",
              "      <td>0.002225</td>\n",
              "      <td>0.002223</td>\n",
              "      <td>0.002206</td>\n",
              "      <td>0.002224</td>\n",
              "      <td>0.002160</td>\n",
              "      <td>0.002241</td>\n",
              "      <td>0.002223</td>\n",
              "      <td>0.002226</td>\n",
              "      <td>0.002231</td>\n",
              "      <td>0.002223</td>\n",
              "      <td>0.002223</td>\n",
              "      <td>0.002226</td>\n",
              "      <td>0.002223</td>\n",
              "      <td>0.002231</td>\n",
              "      <td>0.002223</td>\n",
              "      <td>0.002225</td>\n",
              "      <td>0.002225</td>\n",
              "      <td>0.002249</td>\n",
              "      <td>0.002225</td>\n",
              "      <td>-0.003281</td>\n",
              "      <td>0.002231</td>\n",
              "      <td>0.002298</td>\n",
              "      <td>-0.000609</td>\n",
              "      <td>-0.001172</td>\n",
              "      <td>0.002229</td>\n",
              "      <td>-0.001413</td>\n",
              "      <td>0.002233</td>\n",
              "      <td>0.002223</td>\n",
              "      <td>-0.002581</td>\n",
              "      <td>-0.002278</td>\n",
              "      <td>0.000385</td>\n",
              "      <td>0.002229</td>\n",
              "      <td>0.001346</td>\n",
              "      <td>0.002221</td>\n",
              "      <td>-0.003283</td>\n",
              "      <td>0.002225</td>\n",
              "      <td>-0.002611</td>\n",
              "      <td>0.002211</td>\n",
              "    </tr>\n",
              "    <tr>\n",
              "      <th>3</th>\n",
              "      <td>-0.000856</td>\n",
              "      <td>0.000669</td>\n",
              "      <td>0.001781</td>\n",
              "      <td>-0.001997</td>\n",
              "      <td>-0.001145</td>\n",
              "      <td>-0.001659</td>\n",
              "      <td>0.001771</td>\n",
              "      <td>-0.000790</td>\n",
              "      <td>0.000445</td>\n",
              "      <td>-0.000013</td>\n",
              "      <td>-0.001235</td>\n",
              "      <td>-0.001699</td>\n",
              "      <td>0.001795</td>\n",
              "      <td>0.001798</td>\n",
              "      <td>0.001788</td>\n",
              "      <td>0.001780</td>\n",
              "      <td>-0.000750</td>\n",
              "      <td>0.001776</td>\n",
              "      <td>-0.000196</td>\n",
              "      <td>0.001778</td>\n",
              "      <td>0.001775</td>\n",
              "      <td>0.001807</td>\n",
              "      <td>-0.000678</td>\n",
              "      <td>0.001787</td>\n",
              "      <td>0.001775</td>\n",
              "      <td>-0.000477</td>\n",
              "      <td>-0.002114</td>\n",
              "      <td>-0.002675</td>\n",
              "      <td>0.001773</td>\n",
              "      <td>0.001773</td>\n",
              "      <td>0.001777</td>\n",
              "      <td>0.000975</td>\n",
              "      <td>0.001559</td>\n",
              "      <td>-0.001141</td>\n",
              "      <td>-0.001951</td>\n",
              "      <td>0.001779</td>\n",
              "      <td>0.001770</td>\n",
              "      <td>0.001772</td>\n",
              "      <td>-0.001451</td>\n",
              "      <td>0.001877</td>\n",
              "      <td>...</td>\n",
              "      <td>0.001775</td>\n",
              "      <td>0.001776</td>\n",
              "      <td>0.001777</td>\n",
              "      <td>0.001775</td>\n",
              "      <td>0.001762</td>\n",
              "      <td>0.001776</td>\n",
              "      <td>0.001727</td>\n",
              "      <td>0.001789</td>\n",
              "      <td>0.001775</td>\n",
              "      <td>0.001778</td>\n",
              "      <td>0.001781</td>\n",
              "      <td>0.001775</td>\n",
              "      <td>0.001775</td>\n",
              "      <td>0.001778</td>\n",
              "      <td>0.001776</td>\n",
              "      <td>0.001782</td>\n",
              "      <td>0.001775</td>\n",
              "      <td>0.001777</td>\n",
              "      <td>0.001777</td>\n",
              "      <td>0.001795</td>\n",
              "      <td>0.001777</td>\n",
              "      <td>-0.002512</td>\n",
              "      <td>0.001781</td>\n",
              "      <td>0.001832</td>\n",
              "      <td>-0.000429</td>\n",
              "      <td>-0.001000</td>\n",
              "      <td>0.001780</td>\n",
              "      <td>-0.001062</td>\n",
              "      <td>0.001783</td>\n",
              "      <td>0.001775</td>\n",
              "      <td>-0.001972</td>\n",
              "      <td>-0.001736</td>\n",
              "      <td>0.000345</td>\n",
              "      <td>0.001780</td>\n",
              "      <td>0.001093</td>\n",
              "      <td>0.001774</td>\n",
              "      <td>-0.002516</td>\n",
              "      <td>0.001777</td>\n",
              "      <td>-0.001996</td>\n",
              "      <td>0.001766</td>\n",
              "    </tr>\n",
              "    <tr>\n",
              "      <th>4</th>\n",
              "      <td>0.002792</td>\n",
              "      <td>-0.008001</td>\n",
              "      <td>0.002251</td>\n",
              "      <td>-0.008599</td>\n",
              "      <td>-0.027460</td>\n",
              "      <td>-0.058525</td>\n",
              "      <td>0.001988</td>\n",
              "      <td>-0.072185</td>\n",
              "      <td>-0.004583</td>\n",
              "      <td>-0.079155</td>\n",
              "      <td>0.000607</td>\n",
              "      <td>-0.041223</td>\n",
              "      <td>0.002212</td>\n",
              "      <td>0.003378</td>\n",
              "      <td>0.002855</td>\n",
              "      <td>0.002449</td>\n",
              "      <td>-0.049110</td>\n",
              "      <td>0.002211</td>\n",
              "      <td>-0.025187</td>\n",
              "      <td>0.002282</td>\n",
              "      <td>0.002151</td>\n",
              "      <td>0.002454</td>\n",
              "      <td>0.032007</td>\n",
              "      <td>0.002808</td>\n",
              "      <td>0.002159</td>\n",
              "      <td>-0.007120</td>\n",
              "      <td>-0.052012</td>\n",
              "      <td>-0.091155</td>\n",
              "      <td>0.002101</td>\n",
              "      <td>0.002041</td>\n",
              "      <td>0.002334</td>\n",
              "      <td>-0.012225</td>\n",
              "      <td>0.014703</td>\n",
              "      <td>0.001799</td>\n",
              "      <td>-0.032525</td>\n",
              "      <td>0.002405</td>\n",
              "      <td>0.001846</td>\n",
              "      <td>0.002976</td>\n",
              "      <td>-0.022042</td>\n",
              "      <td>0.003507</td>\n",
              "      <td>...</td>\n",
              "      <td>0.002185</td>\n",
              "      <td>0.002230</td>\n",
              "      <td>0.002253</td>\n",
              "      <td>0.002222</td>\n",
              "      <td>0.001764</td>\n",
              "      <td>0.002208</td>\n",
              "      <td>-0.000663</td>\n",
              "      <td>0.002468</td>\n",
              "      <td>0.002191</td>\n",
              "      <td>0.002347</td>\n",
              "      <td>0.011877</td>\n",
              "      <td>0.002177</td>\n",
              "      <td>0.002177</td>\n",
              "      <td>0.002361</td>\n",
              "      <td>0.002199</td>\n",
              "      <td>0.005279</td>\n",
              "      <td>0.002177</td>\n",
              "      <td>0.002258</td>\n",
              "      <td>0.002320</td>\n",
              "      <td>0.010072</td>\n",
              "      <td>0.002285</td>\n",
              "      <td>-0.072182</td>\n",
              "      <td>0.002583</td>\n",
              "      <td>0.007533</td>\n",
              "      <td>-0.033495</td>\n",
              "      <td>1.772556</td>\n",
              "      <td>0.002519</td>\n",
              "      <td>-0.023695</td>\n",
              "      <td>0.002346</td>\n",
              "      <td>0.002167</td>\n",
              "      <td>-0.057968</td>\n",
              "      <td>-0.035111</td>\n",
              "      <td>-0.026124</td>\n",
              "      <td>0.002372</td>\n",
              "      <td>-0.012707</td>\n",
              "      <td>0.002020</td>\n",
              "      <td>-0.040757</td>\n",
              "      <td>0.002352</td>\n",
              "      <td>-0.038044</td>\n",
              "      <td>0.002129</td>\n",
              "    </tr>\n",
              "  </tbody>\n",
              "</table>\n",
              "<p>5 rows × 2421 columns</p>\n",
              "</div>"
            ],
            "text/plain": [
              "Hotel_id      2         3         4     ...      3126      3127      3128\n",
              "User_id                                 ...                              \n",
              "0        -0.001154  0.000802  0.002231  ...  0.002226 -0.002622  0.002211\n",
              "1        -0.001196  0.000785  0.002233  ...  0.002228 -0.002687  0.002213\n",
              "2        -0.001146  0.000805  0.002230  ...  0.002225 -0.002611  0.002211\n",
              "3        -0.000856  0.000669  0.001781  ...  0.001777 -0.001996  0.001766\n",
              "4         0.002792 -0.008001  0.002251  ...  0.002352 -0.038044  0.002129\n",
              "\n",
              "[5 rows x 2421 columns]"
            ]
          },
          "metadata": {
            "tags": []
          },
          "execution_count": 167
        }
      ]
    },
    {
      "cell_type": "code",
      "metadata": {
        "id": "dGqYbqZONla7",
        "outputId": "70e3c4c7-d5ff-41e6-d89c-84e08920e8ed",
        "colab": {
          "base_uri": "https://localhost:8080/",
          "height": 33
        }
      },
      "source": [
        "preds_df.shape\n"
      ],
      "execution_count": 168,
      "outputs": [
        {
          "output_type": "execute_result",
          "data": {
            "text/plain": [
              "(16501, 2421)"
            ]
          },
          "metadata": {
            "tags": []
          },
          "execution_count": 168
        }
      ]
    },
    {
      "cell_type": "code",
      "metadata": {
        "id": "pVGO-XeObj5w"
      },
      "source": [
        "def recommend_it(predictions_df, itm_df, original_ratings_df, num_recommendations=10,rUsersid= 1):\n",
        "    \n",
        "    # Get and sort the user's predictions\n",
        "    sorted_user_predictions = predictions_df.loc[rUsersid].sort_values(ascending=False)\n",
        "    \n",
        "    # Get the user's data and merge in the item information.\n",
        "    user_data = original_ratings_df[original_ratings_df.User_id == rUsersid]\n",
        "    user_full = (user_data.merge(itm_df, how = 'left', left_on = 'Hotel_id', right_on = 'Hotel_id').\n",
        "                     sort_values(['Rating'], ascending=False)\n",
        "                 )\n",
        "\n",
        "    print ('User {0} has already stayed in {1} hotel.'.format(rUsersid, user_full.shape[0]))\n",
        "    print ('Recommending the highest {0} predicted  hotels never opted for the stay.'.format(num_recommendations))\n",
        "    \n",
        "    # Recommend the highest predicted rating items that the user hasn't bought yet.\n",
        "    recommendations = (itm_df[~itm_df['Hotel_id'].isin(user_full['Hotel_id'])].\n",
        "         merge(pd.DataFrame(sorted_user_predictions).reset_index(), how = 'left',\n",
        "               left_on = 'Hotel_id',\n",
        "               right_on = 'Hotel_id').\n",
        "         rename(columns = {rUsersid: 'Predictions'}).\n",
        "         sort_values('Predictions', ascending = False).\n",
        "                       iloc[:num_recommendations, :-1]\n",
        "                      )\n",
        "    topk=recommendations.merge(original_ratings_df,left_index = True, right_on = 'Hotel_id',left_on='Hotel_id').drop_duplicates(\n",
        "    ['Hotel_id', 'Hotel'])[['Hotel_id', 'Hotel']]\n",
        "\n",
        "    return topk"
      ],
      "execution_count": 169,
      "outputs": []
    },
    {
      "cell_type": "code",
      "metadata": {
        "id": "r5fUophDbm3c",
        "outputId": "cc26d9bb-ec36-43cf-d525-0e2f104e2f64",
        "colab": {
          "base_uri": "https://localhost:8080/",
          "height": 367
        }
      },
      "source": [
        "recommend_it(preds_df, items_df, df, 10)\n"
      ],
      "execution_count": 170,
      "outputs": [
        {
          "output_type": "stream",
          "text": [
            "User 1 has already stayed in 1 hotel.\n",
            "Recommending the highest 10 predicted  hotels never opted for the stay.\n"
          ],
          "name": "stdout"
        },
        {
          "output_type": "execute_result",
          "data": {
            "text/html": [
              "<div>\n",
              "<style scoped>\n",
              "    .dataframe tbody tr th:only-of-type {\n",
              "        vertical-align: middle;\n",
              "    }\n",
              "\n",
              "    .dataframe tbody tr th {\n",
              "        vertical-align: top;\n",
              "    }\n",
              "\n",
              "    .dataframe thead th {\n",
              "        text-align: right;\n",
              "    }\n",
              "</style>\n",
              "<table border=\"1\" class=\"dataframe\">\n",
              "  <thead>\n",
              "    <tr style=\"text-align: right;\">\n",
              "      <th></th>\n",
              "      <th>Hotel_id</th>\n",
              "      <th>Hotel</th>\n",
              "    </tr>\n",
              "  </thead>\n",
              "  <tbody>\n",
              "    <tr>\n",
              "      <th>124</th>\n",
              "      <td>2126</td>\n",
              "      <td>Hotel Emma</td>\n",
              "    </tr>\n",
              "    <tr>\n",
              "      <th>1683</th>\n",
              "      <td>2822</td>\n",
              "      <td>French Market Inn</td>\n",
              "    </tr>\n",
              "    <tr>\n",
              "      <th>556</th>\n",
              "      <td>1910</td>\n",
              "      <td>St. James Hotel, an Ascend Hotel Collection Me...</td>\n",
              "    </tr>\n",
              "    <tr>\n",
              "      <th>1219</th>\n",
              "      <td>2915</td>\n",
              "      <td>Drury Inn &amp; Suites New Orleans</td>\n",
              "    </tr>\n",
              "    <tr>\n",
              "      <th>1019</th>\n",
              "      <td>95</td>\n",
              "      <td>Homewood Suites by Hilton Lake Buena Vista-Orl...</td>\n",
              "    </tr>\n",
              "    <tr>\n",
              "      <th>224</th>\n",
              "      <td>2791</td>\n",
              "      <td>Hilton Garden Inn Orlando Airport</td>\n",
              "    </tr>\n",
              "    <tr>\n",
              "      <th>1139</th>\n",
              "      <td>2929</td>\n",
              "      <td>Hampton Inn San Diego Del Mar</td>\n",
              "    </tr>\n",
              "    <tr>\n",
              "      <th>713</th>\n",
              "      <td>2984</td>\n",
              "      <td>Grand Hyatt Seattle</td>\n",
              "    </tr>\n",
              "    <tr>\n",
              "      <th>1040</th>\n",
              "      <td>2846</td>\n",
              "      <td>Anaheim Del Sol Inn</td>\n",
              "    </tr>\n",
              "    <tr>\n",
              "      <th>1123</th>\n",
              "      <td>2936</td>\n",
              "      <td>Hotel Diva</td>\n",
              "    </tr>\n",
              "  </tbody>\n",
              "</table>\n",
              "</div>"
            ],
            "text/plain": [
              "      Hotel_id                                              Hotel\n",
              "124       2126                                         Hotel Emma\n",
              "1683      2822                                  French Market Inn\n",
              "556       1910  St. James Hotel, an Ascend Hotel Collection Me...\n",
              "1219      2915                     Drury Inn & Suites New Orleans\n",
              "1019        95  Homewood Suites by Hilton Lake Buena Vista-Orl...\n",
              "224       2791                  Hilton Garden Inn Orlando Airport\n",
              "1139      2929                      Hampton Inn San Diego Del Mar\n",
              "713       2984                                Grand Hyatt Seattle\n",
              "1040      2846                                Anaheim Del Sol Inn\n",
              "1123      2936                                         Hotel Diva"
            ]
          },
          "metadata": {
            "tags": []
          },
          "execution_count": 170
        }
      ]
    },
    {
      "cell_type": "code",
      "metadata": {
        "id": "_-HDwMjcPQFz"
      },
      "source": [
        "def recommend_it(predictions_df, itm_df, original_ratings_df, num_recommendations=10,rUsersid= 75):\n",
        "    \n",
        "    # Get and sort the user's predictions\n",
        "    sorted_user_predictions = predictions_df.loc[rUsersid].sort_values(ascending=False)\n",
        "    \n",
        "    # Get the user's data and merge in the item information.\n",
        "    user_data = original_ratings_df[original_ratings_df.User_id == rUsersid]\n",
        "    user_full = (user_data.merge(itm_df, how = 'left', left_on = 'Hotel_id', right_on = 'Hotel_id').\n",
        "                     sort_values(['Rating'], ascending=False)\n",
        "                 )\n",
        "\n",
        "    print ('User {0} has already stayed in {1} hotel.'.format(rUsersid, user_full.shape[0]))\n",
        "    print ('Recommending the highest {0} predicted  hotels never opted for the stay.'.format(num_recommendations))\n",
        "    \n",
        "    # Recommend the highest predicted rating items that the user hasn't bought yet.\n",
        "    recommendations = (itm_df[~itm_df['Hotel_id'].isin(user_full['Hotel_id'])].\n",
        "         merge(pd.DataFrame(sorted_user_predictions).reset_index(), how = 'left',\n",
        "               left_on = 'Hotel_id',\n",
        "               right_on = 'Hotel_id').\n",
        "         rename(columns = {rUsersid: 'Predictions'}).\n",
        "         sort_values('Predictions', ascending = False).\n",
        "                       iloc[:num_recommendations, :-1]\n",
        "                      )\n",
        "    topk=recommendations.merge(original_ratings_df,left_index = True, right_on = 'Hotel_id',left_on='Hotel_id').drop_duplicates(\n",
        "    ['Hotel_id', 'Hotel'])[['Hotel_id', 'Hotel']]\n",
        "\n",
        "    return topk"
      ],
      "execution_count": 171,
      "outputs": []
    },
    {
      "cell_type": "code",
      "metadata": {
        "id": "SQAfekOUPmHD",
        "outputId": "11875cf4-849f-4143-bb47-ad0aa9cebd91",
        "colab": {
          "base_uri": "https://localhost:8080/",
          "height": 367
        }
      },
      "source": [
        "recommend_it(preds_df, items_df, df, 10)\n"
      ],
      "execution_count": 172,
      "outputs": [
        {
          "output_type": "stream",
          "text": [
            "User 75 has already stayed in 1 hotel.\n",
            "Recommending the highest 10 predicted  hotels never opted for the stay.\n"
          ],
          "name": "stdout"
        },
        {
          "output_type": "execute_result",
          "data": {
            "text/html": [
              "<div>\n",
              "<style scoped>\n",
              "    .dataframe tbody tr th:only-of-type {\n",
              "        vertical-align: middle;\n",
              "    }\n",
              "\n",
              "    .dataframe tbody tr th {\n",
              "        vertical-align: top;\n",
              "    }\n",
              "\n",
              "    .dataframe thead th {\n",
              "        text-align: right;\n",
              "    }\n",
              "</style>\n",
              "<table border=\"1\" class=\"dataframe\">\n",
              "  <thead>\n",
              "    <tr style=\"text-align: right;\">\n",
              "      <th></th>\n",
              "      <th>Hotel_id</th>\n",
              "      <th>Hotel</th>\n",
              "    </tr>\n",
              "  </thead>\n",
              "  <tbody>\n",
              "    <tr>\n",
              "      <th>211</th>\n",
              "      <td>38</td>\n",
              "      <td>Doubletree By Hilton Hotel Bay City - Riverfront</td>\n",
              "    </tr>\n",
              "    <tr>\n",
              "      <th>1007</th>\n",
              "      <td>656</td>\n",
              "      <td>Hyatt House Seattle/Downtown</td>\n",
              "    </tr>\n",
              "    <tr>\n",
              "      <th>124</th>\n",
              "      <td>2126</td>\n",
              "      <td>Hotel Emma</td>\n",
              "    </tr>\n",
              "    <tr>\n",
              "      <th>556</th>\n",
              "      <td>1910</td>\n",
              "      <td>St. James Hotel, an Ascend Hotel Collection Me...</td>\n",
              "    </tr>\n",
              "    <tr>\n",
              "      <th>1683</th>\n",
              "      <td>2822</td>\n",
              "      <td>French Market Inn</td>\n",
              "    </tr>\n",
              "    <tr>\n",
              "      <th>97</th>\n",
              "      <td>2189</td>\n",
              "      <td>Metro Points Hotel-Washington North</td>\n",
              "    </tr>\n",
              "    <tr>\n",
              "      <th>1019</th>\n",
              "      <td>95</td>\n",
              "      <td>Homewood Suites by Hilton Lake Buena Vista-Orl...</td>\n",
              "    </tr>\n",
              "    <tr>\n",
              "      <th>224</th>\n",
              "      <td>2791</td>\n",
              "      <td>Hilton Garden Inn Orlando Airport</td>\n",
              "    </tr>\n",
              "    <tr>\n",
              "      <th>1139</th>\n",
              "      <td>2929</td>\n",
              "      <td>Hampton Inn San Diego Del Mar</td>\n",
              "    </tr>\n",
              "    <tr>\n",
              "      <th>1219</th>\n",
              "      <td>2915</td>\n",
              "      <td>Drury Inn &amp; Suites New Orleans</td>\n",
              "    </tr>\n",
              "  </tbody>\n",
              "</table>\n",
              "</div>"
            ],
            "text/plain": [
              "      Hotel_id                                              Hotel\n",
              "211         38   Doubletree By Hilton Hotel Bay City - Riverfront\n",
              "1007       656                       Hyatt House Seattle/Downtown\n",
              "124       2126                                         Hotel Emma\n",
              "556       1910  St. James Hotel, an Ascend Hotel Collection Me...\n",
              "1683      2822                                  French Market Inn\n",
              "97        2189                Metro Points Hotel-Washington North\n",
              "1019        95  Homewood Suites by Hilton Lake Buena Vista-Orl...\n",
              "224       2791                  Hilton Garden Inn Orlando Airport\n",
              "1139      2929                      Hampton Inn San Diego Del Mar\n",
              "1219      2915                     Drury Inn & Suites New Orleans"
            ]
          },
          "metadata": {
            "tags": []
          },
          "execution_count": 172
        }
      ]
    }
  ]
}