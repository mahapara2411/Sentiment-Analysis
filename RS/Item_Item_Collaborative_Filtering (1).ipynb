{
  "nbformat": 4,
  "nbformat_minor": 0,
  "metadata": {
    "colab": {
      "name": "Item_Item_Collaborative_Filtering.ipynb",
      "provenance": [],
      "collapsed_sections": []
    },
    "kernelspec": {
      "name": "python3",
      "display_name": "Python 3"
    },
    "accelerator": "GPU"
  },
  "cells": [
    {
      "cell_type": "markdown",
      "metadata": {
        "id": "Q3MvQ6sb69LZ"
      },
      "source": [
        "# **Import libraries, Read the data**"
      ]
    },
    {
      "cell_type": "code",
      "metadata": {
        "id": "qDVNytqwcdBF"
      },
      "source": [
        "# Importing Necessary Libraries\n",
        "import numpy as np\n",
        "import pandas as pd\n",
        "import re\n",
        "import string\n",
        "import matplotlib.pyplot as plt\n",
        "%matplotlib inline\n",
        "import seaborn as sns\n",
        "import itertools\n",
        "import collections\n",
        "from sklearn.model_selection import train_test_split\n",
        "from sklearn.metrics import confusion_matrix, average_precision_score, recall_score\n",
        "import seaborn as sns\n",
        "from wordcloud import WordCloud\n",
        "from nltk.corpus import stopwords\n",
        "from wordcloud import WordCloud, STOPWORDS, ImageColorGenerator\n"
      ],
      "execution_count": 43,
      "outputs": []
    },
    {
      "cell_type": "code",
      "metadata": {
        "id": "WmIcJv3Eo0aM",
        "outputId": "23f4cd95-bcf7-40c0-f8e7-41d7c8cab788",
        "colab": {
          "resources": {
            "http://localhost:8080/nbextensions/google.colab/files.js": {
              "data": "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",
              "ok": true,
              "headers": [
                [
                  "content-type",
                  "application/javascript"
                ]
              ],
              "status": 200,
              "status_text": ""
            }
          },
          "base_uri": "https://localhost:8080/",
          "height": 70
        }
      },
      "source": [
        "#Upload the Dataset\n",
        "from google.colab import files\n",
        "uploaded = files.upload()"
      ],
      "execution_count": 2,
      "outputs": [
        {
          "output_type": "display_data",
          "data": {
            "text/html": [
              "\n",
              "     <input type=\"file\" id=\"files-ae8051fa-4425-40b5-9f55-72e921bbab40\" name=\"files[]\" multiple disabled\n",
              "        style=\"border:none\" />\n",
              "     <output id=\"result-ae8051fa-4425-40b5-9f55-72e921bbab40\">\n",
              "      Upload widget is only available when the cell has been executed in the\n",
              "      current browser session. Please rerun this cell to enable.\n",
              "      </output>\n",
              "      <script src=\"/nbextensions/google.colab/files.js\"></script> "
            ],
            "text/plain": [
              "<IPython.core.display.HTML object>"
            ]
          },
          "metadata": {
            "tags": []
          }
        },
        {
          "output_type": "stream",
          "text": [
            "Saving hotel_data_final.csv to hotel_data_final.csv\n"
          ],
          "name": "stdout"
        }
      ]
    },
    {
      "cell_type": "code",
      "metadata": {
        "id": "zzvJ2qfDpGqf"
      },
      "source": [
        "# Dataset is now stored in a Pandas Dataframe\n",
        "import io\n",
        "df = pd.read_csv(io.BytesIO(uploaded['hotel_data_final.csv']))"
      ],
      "execution_count": 3,
      "outputs": []
    },
    {
      "cell_type": "code",
      "metadata": {
        "id": "Ktd9ZoJXspTy"
      },
      "source": [
        "# Print Multiple statements in same line\n",
        "from IPython.core.interactiveshell import InteractiveShell\n",
        "InteractiveShell.ast_node_interactivity=\"all\""
      ],
      "execution_count": 4,
      "outputs": []
    },
    {
      "cell_type": "code",
      "metadata": {
        "id": "HpqHr8yhsvcb",
        "outputId": "a3dda4f9-0812-4c7d-d715-5227a8840117",
        "colab": {
          "base_uri": "https://localhost:8080/",
          "height": 885
        }
      },
      "source": [
        "#Explore Data\n",
        "df.shape\n",
        "type(df)\n",
        "df.size\n",
        "df.shape\n",
        "df.head()\n",
        "df.tail()\n",
        "df.info()"
      ],
      "execution_count": 5,
      "outputs": [
        {
          "output_type": "execute_result",
          "data": {
            "text/plain": [
              "(23394, 12)"
            ]
          },
          "metadata": {
            "tags": []
          },
          "execution_count": 5
        },
        {
          "output_type": "execute_result",
          "data": {
            "text/plain": [
              "pandas.core.frame.DataFrame"
            ]
          },
          "metadata": {
            "tags": []
          },
          "execution_count": 5
        },
        {
          "output_type": "execute_result",
          "data": {
            "text/plain": [
              "280728"
            ]
          },
          "metadata": {
            "tags": []
          },
          "execution_count": 5
        },
        {
          "output_type": "execute_result",
          "data": {
            "text/plain": [
              "(23394, 12)"
            ]
          },
          "metadata": {
            "tags": []
          },
          "execution_count": 5
        },
        {
          "output_type": "execute_result",
          "data": {
            "text/html": [
              "<div>\n",
              "<style scoped>\n",
              "    .dataframe tbody tr th:only-of-type {\n",
              "        vertical-align: middle;\n",
              "    }\n",
              "\n",
              "    .dataframe tbody tr th {\n",
              "        vertical-align: top;\n",
              "    }\n",
              "\n",
              "    .dataframe thead th {\n",
              "        text-align: right;\n",
              "    }\n",
              "</style>\n",
              "<table border=\"1\" class=\"dataframe\">\n",
              "  <thead>\n",
              "    <tr style=\"text-align: right;\">\n",
              "      <th></th>\n",
              "      <th>Hotel_id</th>\n",
              "      <th>Hotel</th>\n",
              "      <th>Address</th>\n",
              "      <th>City</th>\n",
              "      <th>Title</th>\n",
              "      <th>Users</th>\n",
              "      <th>Reviews</th>\n",
              "      <th>Rating</th>\n",
              "      <th>Hotel_Type</th>\n",
              "      <th>Price</th>\n",
              "      <th>Hotel_Category</th>\n",
              "      <th>User_id</th>\n",
              "    </tr>\n",
              "  </thead>\n",
              "  <tbody>\n",
              "    <tr>\n",
              "      <th>0</th>\n",
              "      <td>0</td>\n",
              "      <td>La Quinta</td>\n",
              "      <td>5820 Walden Rd</td>\n",
              "      <td>Beaumont</td>\n",
              "      <td>This hotel is a dump! Upon ch...</td>\n",
              "      <td>margierodriguez.mcqueen</td>\n",
              "      <td>This hotel is a dump! Upon checking in was tol...</td>\n",
              "      <td>1.0</td>\n",
              "      <td>2.0</td>\n",
              "      <td>Rs.8989</td>\n",
              "      <td>Lodging,Motels,Hotels,Meeting &amp; Event Planning...</td>\n",
              "      <td>15400</td>\n",
              "    </tr>\n",
              "    <tr>\n",
              "      <th>1</th>\n",
              "      <td>1</td>\n",
              "      <td>The Point</td>\n",
              "      <td>Po Box 1327</td>\n",
              "      <td>Saranac Lake</td>\n",
              "      <td>Great family time</td>\n",
              "      <td>motomomMaryland</td>\n",
              "      <td>The point is possibly one of our favorite rest...</td>\n",
              "      <td>5.0</td>\n",
              "      <td>NaN</td>\n",
              "      <td>NaN</td>\n",
              "      <td>Hotels,Hotel,Restaurants</td>\n",
              "      <td>15740</td>\n",
              "    </tr>\n",
              "    <tr>\n",
              "      <th>2</th>\n",
              "      <td>1</td>\n",
              "      <td>The Point</td>\n",
              "      <td>Po Box 1327</td>\n",
              "      <td>Saranac Lake</td>\n",
              "      <td>Throw back to the Gatsby Era - don't miss The ...</td>\n",
              "      <td>ellen00007</td>\n",
              "      <td>From the minute you arrive until the minute yo...</td>\n",
              "      <td>5.0</td>\n",
              "      <td>NaN</td>\n",
              "      <td>NaN</td>\n",
              "      <td>Hotels,Hotel,Restaurants</td>\n",
              "      <td>13760</td>\n",
              "    </tr>\n",
              "    <tr>\n",
              "      <th>3</th>\n",
              "      <td>1</td>\n",
              "      <td>The Point</td>\n",
              "      <td>Po Box 1327</td>\n",
              "      <td>Saranac Lake</td>\n",
              "      <td>The Point of it all</td>\n",
              "      <td>Szerzek</td>\n",
              "      <td>That is the name on one of their boats. And th...</td>\n",
              "      <td>5.0</td>\n",
              "      <td>NaN</td>\n",
              "      <td>NaN</td>\n",
              "      <td>Hotels,Hotel,Restaurants</td>\n",
              "      <td>11027</td>\n",
              "    </tr>\n",
              "    <tr>\n",
              "      <th>4</th>\n",
              "      <td>1</td>\n",
              "      <td>The Point</td>\n",
              "      <td>Po Box 1327</td>\n",
              "      <td>Saranac Lake</td>\n",
              "      <td>The most amazing week end!</td>\n",
              "      <td>Sarahbnyc83</td>\n",
              "      <td>I was lucky enough to spend 2 nights at The Po...</td>\n",
              "      <td>5.0</td>\n",
              "      <td>NaN</td>\n",
              "      <td>NaN</td>\n",
              "      <td>Hotels,Hotel,Restaurants</td>\n",
              "      <td>10306</td>\n",
              "    </tr>\n",
              "  </tbody>\n",
              "</table>\n",
              "</div>"
            ],
            "text/plain": [
              "   Hotel_id  ... User_id\n",
              "0         0  ...   15400\n",
              "1         1  ...   15740\n",
              "2         1  ...   13760\n",
              "3         1  ...   11027\n",
              "4         1  ...   10306\n",
              "\n",
              "[5 rows x 12 columns]"
            ]
          },
          "metadata": {
            "tags": []
          },
          "execution_count": 5
        },
        {
          "output_type": "execute_result",
          "data": {
            "text/html": [
              "<div>\n",
              "<style scoped>\n",
              "    .dataframe tbody tr th:only-of-type {\n",
              "        vertical-align: middle;\n",
              "    }\n",
              "\n",
              "    .dataframe tbody tr th {\n",
              "        vertical-align: top;\n",
              "    }\n",
              "\n",
              "    .dataframe thead th {\n",
              "        text-align: right;\n",
              "    }\n",
              "</style>\n",
              "<table border=\"1\" class=\"dataframe\">\n",
              "  <thead>\n",
              "    <tr style=\"text-align: right;\">\n",
              "      <th></th>\n",
              "      <th>Hotel_id</th>\n",
              "      <th>Hotel</th>\n",
              "      <th>Address</th>\n",
              "      <th>City</th>\n",
              "      <th>Title</th>\n",
              "      <th>Users</th>\n",
              "      <th>Reviews</th>\n",
              "      <th>Rating</th>\n",
              "      <th>Hotel_Type</th>\n",
              "      <th>Price</th>\n",
              "      <th>Hotel_Category</th>\n",
              "      <th>User_id</th>\n",
              "    </tr>\n",
              "  </thead>\n",
              "  <tbody>\n",
              "    <tr>\n",
              "      <th>23389</th>\n",
              "      <td>3128</td>\n",
              "      <td>Polynesian Plaza</td>\n",
              "      <td>2131 Kalakaua Ave</td>\n",
              "      <td>Honolulu</td>\n",
              "      <td>IN SEVERE NEED OF UPDATE - OVERHAUL</td>\n",
              "      <td>fordpipefitter</td>\n",
              "      <td>We spent 2 weeks in this hotel due to the cost...</td>\n",
              "      <td>2.0</td>\n",
              "      <td>2.0</td>\n",
              "      <td>Rs.17718</td>\n",
              "      <td>Vacation Rentals,Resorts &amp; Vacation Cottages,V...</td>\n",
              "      <td>13911</td>\n",
              "    </tr>\n",
              "    <tr>\n",
              "      <th>23390</th>\n",
              "      <td>3129</td>\n",
              "      <td>Quality Inn</td>\n",
              "      <td>2120 Jameson Pl S W</td>\n",
              "      <td>Decatur</td>\n",
              "      <td>NaN</td>\n",
              "      <td>RABBITS</td>\n",
              "      <td>VERY FRIENDLY AND GREAT PRICE. I HAVE STAYED A...</td>\n",
              "      <td>5.0</td>\n",
              "      <td>2.0</td>\n",
              "      <td>Rs.7373</td>\n",
              "      <td>Lodges,Hotels,Hotels &amp; Motels,Lodging,Motels</td>\n",
              "      <td>9306</td>\n",
              "    </tr>\n",
              "    <tr>\n",
              "      <th>23391</th>\n",
              "      <td>3130</td>\n",
              "      <td>Quality Inn</td>\n",
              "      <td>2120 Jameson Pl S W</td>\n",
              "      <td>Decatur</td>\n",
              "      <td>NaN</td>\n",
              "      <td>Contributor</td>\n",
              "      <td>Editorial Review by Citysearch Editors Colonia...</td>\n",
              "      <td>5.0</td>\n",
              "      <td>2.0</td>\n",
              "      <td>Rs.7373</td>\n",
              "      <td>Lodges,Hotels,Hotels &amp; Motels,Lodging,Motels</td>\n",
              "      <td>2888</td>\n",
              "    </tr>\n",
              "    <tr>\n",
              "      <th>23392</th>\n",
              "      <td>3130</td>\n",
              "      <td>Quality Inn</td>\n",
              "      <td>12439 Northwest Fwy</td>\n",
              "      <td>Houston</td>\n",
              "      <td>NaN</td>\n",
              "      <td>Houstontraveler</td>\n",
              "      <td>What Happened to this Place!!!! I come this ho...</td>\n",
              "      <td>NaN</td>\n",
              "      <td>2.0</td>\n",
              "      <td>Rs.7373</td>\n",
              "      <td>Hotel &amp; Motel Reservations,Hotels,Hotels &amp; Mot...</td>\n",
              "      <td>4949</td>\n",
              "    </tr>\n",
              "    <tr>\n",
              "      <th>23393</th>\n",
              "      <td>3130</td>\n",
              "      <td>Quality Inn</td>\n",
              "      <td>12439 Northwest Fwy</td>\n",
              "      <td>Houston</td>\n",
              "      <td>NaN</td>\n",
              "      <td>Robyn Galbos</td>\n",
              "      <td>Budget-minded travelers appreciate amenities l...</td>\n",
              "      <td>NaN</td>\n",
              "      <td>2.0</td>\n",
              "      <td>Rs.7373</td>\n",
              "      <td>Hotel &amp; Motel Reservations,Hotels,Hotels &amp; Mot...</td>\n",
              "      <td>9807</td>\n",
              "    </tr>\n",
              "  </tbody>\n",
              "</table>\n",
              "</div>"
            ],
            "text/plain": [
              "       Hotel_id  ... User_id\n",
              "23389      3128  ...   13911\n",
              "23390      3129  ...    9306\n",
              "23391      3130  ...    2888\n",
              "23392      3130  ...    4949\n",
              "23393      3130  ...    9807\n",
              "\n",
              "[5 rows x 12 columns]"
            ]
          },
          "metadata": {
            "tags": []
          },
          "execution_count": 5
        },
        {
          "output_type": "stream",
          "text": [
            "<class 'pandas.core.frame.DataFrame'>\n",
            "RangeIndex: 23394 entries, 0 to 23393\n",
            "Data columns (total 12 columns):\n",
            " #   Column          Non-Null Count  Dtype  \n",
            "---  ------          --------------  -----  \n",
            " 0   Hotel_id        23394 non-null  int64  \n",
            " 1   Hotel           23394 non-null  object \n",
            " 2   Address         23394 non-null  object \n",
            " 3   City            23394 non-null  object \n",
            " 4   Title           23342 non-null  object \n",
            " 5   Users           23394 non-null  object \n",
            " 6   Reviews         23393 non-null  object \n",
            " 7   Rating          23365 non-null  float64\n",
            " 8   Hotel_Type      22432 non-null  float64\n",
            " 9   Price           21881 non-null  object \n",
            " 10  Hotel_Category  23394 non-null  object \n",
            " 11  User_id         23394 non-null  int64  \n",
            "dtypes: float64(2), int64(2), object(8)\n",
            "memory usage: 2.1+ MB\n"
          ],
          "name": "stdout"
        }
      ]
    },
    {
      "cell_type": "code",
      "metadata": {
        "id": "3gV4S4zIpdtz",
        "outputId": "7f0f2691-6df8-41b0-c55f-ba5c888875bb",
        "colab": {
          "base_uri": "https://localhost:8080/",
          "height": 326
        }
      },
      "source": [
        "df.info()"
      ],
      "execution_count": 6,
      "outputs": [
        {
          "output_type": "stream",
          "text": [
            "<class 'pandas.core.frame.DataFrame'>\n",
            "RangeIndex: 23394 entries, 0 to 23393\n",
            "Data columns (total 12 columns):\n",
            " #   Column          Non-Null Count  Dtype  \n",
            "---  ------          --------------  -----  \n",
            " 0   Hotel_id        23394 non-null  int64  \n",
            " 1   Hotel           23394 non-null  object \n",
            " 2   Address         23394 non-null  object \n",
            " 3   City            23394 non-null  object \n",
            " 4   Title           23342 non-null  object \n",
            " 5   Users           23394 non-null  object \n",
            " 6   Reviews         23393 non-null  object \n",
            " 7   Rating          23365 non-null  float64\n",
            " 8   Hotel_Type      22432 non-null  float64\n",
            " 9   Price           21881 non-null  object \n",
            " 10  Hotel_Category  23394 non-null  object \n",
            " 11  User_id         23394 non-null  int64  \n",
            "dtypes: float64(2), int64(2), object(8)\n",
            "memory usage: 2.1+ MB\n"
          ],
          "name": "stdout"
        }
      ]
    },
    {
      "cell_type": "code",
      "metadata": {
        "id": "X21io0cVtFK5",
        "outputId": "8cdfceda-e557-450f-81c5-b2d37232df48",
        "colab": {
          "base_uri": "https://localhost:8080/",
          "height": 423
        }
      },
      "source": [
        "# Checking for the missing value\n",
        "df.isnull().any()\n",
        "df.isnull().sum()\n"
      ],
      "execution_count": 7,
      "outputs": [
        {
          "output_type": "execute_result",
          "data": {
            "text/plain": [
              "Hotel_id          False\n",
              "Hotel             False\n",
              "Address           False\n",
              "City              False\n",
              "Title              True\n",
              "Users             False\n",
              "Reviews            True\n",
              "Rating             True\n",
              "Hotel_Type         True\n",
              "Price              True\n",
              "Hotel_Category    False\n",
              "User_id           False\n",
              "dtype: bool"
            ]
          },
          "metadata": {
            "tags": []
          },
          "execution_count": 7
        },
        {
          "output_type": "execute_result",
          "data": {
            "text/plain": [
              "Hotel_id             0\n",
              "Hotel                0\n",
              "Address              0\n",
              "City                 0\n",
              "Title               52\n",
              "Users                0\n",
              "Reviews              1\n",
              "Rating              29\n",
              "Hotel_Type         962\n",
              "Price             1513\n",
              "Hotel_Category       0\n",
              "User_id              0\n",
              "dtype: int64"
            ]
          },
          "metadata": {
            "tags": []
          },
          "execution_count": 7
        }
      ]
    },
    {
      "cell_type": "code",
      "metadata": {
        "id": "2nDSnnyUtL1_",
        "outputId": "1ec9e480-cefe-49f6-9953-b2f309d0c1f1",
        "colab": {
          "base_uri": "https://localhost:8080/",
          "height": 82
        }
      },
      "source": [
        "# Dropping the missing values and checking the shape of the Dataset\n",
        "df = df.dropna()\n",
        "df = df.reset_index(drop=True)\n",
        "print('Shape of dataset ',df.shape)\n",
        "print(df.columns)"
      ],
      "execution_count": 8,
      "outputs": [
        {
          "output_type": "stream",
          "text": [
            "Shape of dataset  (21770, 12)\n",
            "Index(['Hotel_id', 'Hotel', 'Address', 'City', 'Title', 'Users', 'Reviews',\n",
            "       'Rating', 'Hotel_Type', 'Price', 'Hotel_Category', 'User_id'],\n",
            "      dtype='object')\n"
          ],
          "name": "stdout"
        }
      ]
    },
    {
      "cell_type": "code",
      "metadata": {
        "id": "j5FCZ8lNtd8p",
        "outputId": "3192df66-6f0c-4705-96dd-aa831a8096ae",
        "colab": {
          "base_uri": "https://localhost:8080/",
          "height": 228
        }
      },
      "source": [
        "# ReChecking for missing value\n",
        "df.isnull().sum()"
      ],
      "execution_count": 9,
      "outputs": [
        {
          "output_type": "execute_result",
          "data": {
            "text/plain": [
              "Hotel_id          0\n",
              "Hotel             0\n",
              "Address           0\n",
              "City              0\n",
              "Title             0\n",
              "Users             0\n",
              "Reviews           0\n",
              "Rating            0\n",
              "Hotel_Type        0\n",
              "Price             0\n",
              "Hotel_Category    0\n",
              "User_id           0\n",
              "dtype: int64"
            ]
          },
          "metadata": {
            "tags": []
          },
          "execution_count": 9
        }
      ]
    },
    {
      "cell_type": "markdown",
      "metadata": {
        "id": "6Lv1H_P-ujuP"
      },
      "source": [
        "# **Exploratory Data Analysis**"
      ]
    },
    {
      "cell_type": "code",
      "metadata": {
        "id": "Gl6aNNUFtlyI",
        "outputId": "878a6da6-cf23-4a9b-c204-c0747ef61d4a",
        "colab": {
          "base_uri": "https://localhost:8080/",
          "height": 115
        }
      },
      "source": [
        "# Unique Hotels and Users\n",
        "print(\"Total data \")\n",
        "print(\"-\"*50)\n",
        "print(\"\\nTotal no of Ratings :\",df.shape[0])\n",
        "print(\"Total No of Users   :\", len(np.unique(df.User_id)))\n",
        "print(\"Total No of Hotels  :\", len(np.unique(df.Hotel_id)))"
      ],
      "execution_count": 10,
      "outputs": [
        {
          "output_type": "stream",
          "text": [
            "Total data \n",
            "--------------------------------------------------\n",
            "\n",
            "Total no of Ratings : 21770\n",
            "Total No of Users   : 16502\n",
            "Total No of Hotels  : 2422\n"
          ],
          "name": "stdout"
        }
      ]
    },
    {
      "cell_type": "code",
      "metadata": {
        "id": "Qs7jIgle5XXq",
        "outputId": "614f46ff-e9aa-4b3d-d463-aa6cc9471014",
        "colab": {
          "base_uri": "https://localhost:8080/",
          "height": 66
        }
      },
      "source": [
        "df['Hotel'].unique()\n"
      ],
      "execution_count": 11,
      "outputs": [
        {
          "output_type": "execute_result",
          "data": {
            "text/plain": [
              "array(['La Quinta', 'Inn At Queen Anne', 'Economy Inn', ...,\n",
              "       'Sheraton Mission Valley San Diego Hotel',\n",
              "       'Holiday Inn Canyon De Chelly', 'Polynesian Plaza'], dtype=object)"
            ]
          },
          "metadata": {
            "tags": []
          },
          "execution_count": 11
        }
      ]
    },
    {
      "cell_type": "code",
      "metadata": {
        "id": "aIqGwz5AtxVC",
        "outputId": "10ae59bd-e117-4374-b0ac-3d59a745fee8",
        "colab": {
          "base_uri": "https://localhost:8080/",
          "height": 33
        }
      },
      "source": [
        "# Maximum and Minimum Rating\n",
        "max_rating = df.Rating.max()\n",
        "min_rating = df.Rating.min()\n",
        "min_rating, max_rating"
      ],
      "execution_count": 12,
      "outputs": [
        {
          "output_type": "execute_result",
          "data": {
            "text/plain": [
              "(1.0, 5.0)"
            ]
          },
          "metadata": {
            "tags": []
          },
          "execution_count": 12
        }
      ]
    },
    {
      "cell_type": "code",
      "metadata": {
        "id": "LQ9bm8FGDhZI",
        "outputId": "6a9232ca-a538-4754-8596-9e4816c0dab4",
        "colab": {
          "base_uri": "https://localhost:8080/",
          "height": 115
        }
      },
      "source": [
        "df.Rating.value_counts()"
      ],
      "execution_count": 13,
      "outputs": [
        {
          "output_type": "execute_result",
          "data": {
            "text/plain": [
              "5.0    10125\n",
              "4.0     6244\n",
              "3.0     2880\n",
              "2.0     1299\n",
              "1.0     1222\n",
              "Name: Rating, dtype: int64"
            ]
          },
          "metadata": {
            "tags": []
          },
          "execution_count": 13
        }
      ]
    },
    {
      "cell_type": "code",
      "metadata": {
        "id": "HIurz5-jDiwr",
        "outputId": "89d528bc-accc-4cf1-cd3f-499d16279d64",
        "colab": {
          "base_uri": "https://localhost:8080/",
          "height": 50
        }
      },
      "source": [
        "print(\"Mean rating : {}\".format(df['Rating'].mean()))\n",
        "print(\"Mean rating standard deviation: {}\".format(df['Rating'].std()))"
      ],
      "execution_count": 14,
      "outputs": [
        {
          "output_type": "stream",
          "text": [
            "Mean rating : 4.045062011943041\n",
            "Mean rating standard deviation: 1.157272811585155\n"
          ],
          "name": "stdout"
        }
      ]
    },
    {
      "cell_type": "code",
      "metadata": {
        "id": "qavKpq4R81E0",
        "outputId": "134529a8-f469-42fb-b72d-b46bf7377f49",
        "colab": {
          "base_uri": "https://localhost:8080/",
          "height": 220
        }
      },
      "source": [
        "ratings = pd.DataFrame(df.groupby('Hotel')['Rating'].mean())\n",
        "ratings['num of ratings'] = pd.DataFrame(df.groupby('Hotel')['Rating'].count())\n",
        "ratings.head()"
      ],
      "execution_count": 15,
      "outputs": [
        {
          "output_type": "execute_result",
          "data": {
            "text/html": [
              "<div>\n",
              "<style scoped>\n",
              "    .dataframe tbody tr th:only-of-type {\n",
              "        vertical-align: middle;\n",
              "    }\n",
              "\n",
              "    .dataframe tbody tr th {\n",
              "        vertical-align: top;\n",
              "    }\n",
              "\n",
              "    .dataframe thead th {\n",
              "        text-align: right;\n",
              "    }\n",
              "</style>\n",
              "<table border=\"1\" class=\"dataframe\">\n",
              "  <thead>\n",
              "    <tr style=\"text-align: right;\">\n",
              "      <th></th>\n",
              "      <th>Rating</th>\n",
              "      <th>num of ratings</th>\n",
              "    </tr>\n",
              "    <tr>\n",
              "      <th>Hotel</th>\n",
              "      <th></th>\n",
              "      <th></th>\n",
              "    </tr>\n",
              "  </thead>\n",
              "  <tbody>\n",
              "    <tr>\n",
              "      <th>11th Avenue Hotel Hostel</th>\n",
              "      <td>1.0</td>\n",
              "      <td>1</td>\n",
              "    </tr>\n",
              "    <tr>\n",
              "      <th>1906 Lodge At Coronado Beach</th>\n",
              "      <td>5.0</td>\n",
              "      <td>1</td>\n",
              "    </tr>\n",
              "    <tr>\n",
              "      <th>21c Museum Hotel Lexington</th>\n",
              "      <td>2.5</td>\n",
              "      <td>2</td>\n",
              "    </tr>\n",
              "    <tr>\n",
              "      <th>250 Main Hotel</th>\n",
              "      <td>5.0</td>\n",
              "      <td>2</td>\n",
              "    </tr>\n",
              "    <tr>\n",
              "      <th>402 Hotel #Thebigo</th>\n",
              "      <td>4.0</td>\n",
              "      <td>1</td>\n",
              "    </tr>\n",
              "  </tbody>\n",
              "</table>\n",
              "</div>"
            ],
            "text/plain": [
              "                              Rating  num of ratings\n",
              "Hotel                                               \n",
              "11th Avenue Hotel Hostel         1.0               1\n",
              "1906 Lodge At Coronado Beach     5.0               1\n",
              "21c Museum Hotel Lexington       2.5               2\n",
              "250 Main Hotel                   5.0               2\n",
              "402 Hotel #Thebigo               4.0               1"
            ]
          },
          "metadata": {
            "tags": []
          },
          "execution_count": 15
        }
      ]
    },
    {
      "cell_type": "code",
      "metadata": {
        "id": "Q880e1WY9IQe",
        "outputId": "35aa76ca-acd0-4cca-ffad-ab7035948069",
        "colab": {
          "base_uri": "https://localhost:8080/",
          "height": 281
        }
      },
      "source": [
        "ratings['num of ratings'].plot(logy=True, kind='hist')\n",
        "plt.show()"
      ],
      "execution_count": 16,
      "outputs": [
        {
          "output_type": "execute_result",
          "data": {
            "text/plain": [
              "<matplotlib.axes._subplots.AxesSubplot at 0x7f92757dfe80>"
            ]
          },
          "metadata": {
            "tags": []
          },
          "execution_count": 16
        },
        {
          "output_type": "display_data",
          "data": {
            "image/png": "[encoded data removed]",
            "text/plain": [
              "<Figure size 432x288 with 1 Axes>"
            ]
          },
          "metadata": {
            "tags": [],
            "needs_background": "light"
          }
        }
      ]
    },
    {
      "cell_type": "code",
      "metadata": {
        "id": "AlMEuYMZ9MbY",
        "outputId": "77ceaed8-21df-466a-b616-534340e8be7e",
        "colab": {
          "base_uri": "https://localhost:8080/",
          "height": 285
        }
      },
      "source": [
        "plt.figure(figsize=(10,4))\n",
        "ratings['Rating'].hist(bins=70)\n",
        "plt.show()"
      ],
      "execution_count": 17,
      "outputs": [
        {
          "output_type": "execute_result",
          "data": {
            "text/plain": [
              "<Figure size 720x288 with 0 Axes>"
            ]
          },
          "metadata": {
            "tags": []
          },
          "execution_count": 17
        },
        {
          "output_type": "execute_result",
          "data": {
            "text/plain": [
              "<matplotlib.axes._subplots.AxesSubplot at 0x7f9275136518>"
            ]
          },
          "metadata": {
            "tags": []
          },
          "execution_count": 17
        },
        {
          "output_type": "display_data",
          "data": {
            "image/png": "[encoded data removed]",
            "text/plain": [
              "<Figure size 720x288 with 1 Axes>"
            ]
          },
          "metadata": {
            "tags": [],
            "needs_background": "light"
          }
        }
      ]
    },
    {
      "cell_type": "code",
      "metadata": {
        "id": "j8_0axIBu-Y1",
        "outputId": "23d9851d-e0cf-4624-a815-d47ab4e62572",
        "colab": {
          "base_uri": "https://localhost:8080/",
          "height": 368
        }
      },
      "source": [
        "plt.rcParams['figure.figsize'] = (8, 5.0)\n",
        "scores = pd.DataFrame({\"Ratings\":df[\"Rating\"]})\n",
        "scores.hist(bins=20)"
      ],
      "execution_count": 18,
      "outputs": [
        {
          "output_type": "execute_result",
          "data": {
            "text/plain": [
              "array([[<matplotlib.axes._subplots.AxesSubplot object at 0x7f927516f6a0>]],\n",
              "      dtype=object)"
            ]
          },
          "metadata": {
            "tags": []
          },
          "execution_count": 18
        },
        {
          "output_type": "display_data",
          "data": {
            "image/png": "[encoded data removed]",
            "text/plain": [
              "<Figure size 576x360 with 1 Axes>"
            ]
          },
          "metadata": {
            "tags": [],
            "needs_background": "light"
          }
        }
      ]
    },
    {
      "cell_type": "code",
      "metadata": {
        "id": "wV7v2wp3vHtR",
        "outputId": "15eb4f92-413c-401c-9595-34f8615899e5",
        "colab": {
          "base_uri": "https://localhost:8080/",
          "height": 368
        }
      },
      "source": [
        "plt.rcParams['figure.figsize'] = (8, 5.0)\n",
        "scores = pd.DataFrame({\"Hotel Type\":df[\"Hotel_Type\"]})\n",
        "scores.hist(bins=20)"
      ],
      "execution_count": 19,
      "outputs": [
        {
          "output_type": "execute_result",
          "data": {
            "text/plain": [
              "array([[<matplotlib.axes._subplots.AxesSubplot object at 0x7f9274fcf0b8>]],\n",
              "      dtype=object)"
            ]
          },
          "metadata": {
            "tags": []
          },
          "execution_count": 19
        },
        {
          "output_type": "display_data",
          "data": {
            "image/png": "[encoded data removed]",
            "text/plain": [
              "<Figure size 576x360 with 1 Axes>"
            ]
          },
          "metadata": {
            "tags": [],
            "needs_background": "light"
          }
        }
      ]
    },
    {
      "cell_type": "code",
      "metadata": {
        "id": "ZGHj-jhbvn2m",
        "outputId": "62917d96-3904-4de2-88f8-76a14f2017a9",
        "colab": {
          "base_uri": "https://localhost:8080/",
          "height": 358
        }
      },
      "source": [
        "#Hotel Name\n",
        "hotel_name = df['Hotel'].value_counts()\n",
        "hotel_name[:20]"
      ],
      "execution_count": 20,
      "outputs": [
        {
          "output_type": "execute_result",
          "data": {
            "text/plain": [
              "Best Western Plus Waterville Grand Hotel              269\n",
              "Doubletree By Hilton West Palm Beach Airport          260\n",
              "Doubletree By Hilton Hotel Bay City - Riverfront      211\n",
              "Metro Points Hotel-Washington North                   199\n",
              "Hyatt House Seattle/Downtown                          195\n",
              "Best Western Springfield                              156\n",
              "The Westin Las Vegas Hotel & Spa                      156\n",
              "Best Western Seven Seas                               146\n",
              "French Market Inn                                     144\n",
              "Hotel Emma                                            143\n",
              "ARIA Resort Casino                                    139\n",
              "St. James Hotel, an Ascend Hotel Collection Member    136\n",
              "Grand Hyatt Seattle                                   134\n",
              "Drury Inn & Suites New Orleans                        131\n",
              "Luana Waikiki Hotel & Suites                          131\n",
              "Galleria Park Hotel                                   124\n",
              "Homewood Suites by Hilton Lake Buena Vista-Orlando    122\n",
              "Hotel Diva                                            119\n",
              "River Hotel                                           113\n",
              "JW Marriott Atlanta Buckhead                          109\n",
              "Name: Hotel, dtype: int64"
            ]
          },
          "metadata": {
            "tags": []
          },
          "execution_count": 20
        }
      ]
    },
    {
      "cell_type": "code",
      "metadata": {
        "id": "4b6C13yyz6ta",
        "outputId": "9922b95c-40ae-4dcb-d5e1-cc8a3ceb5b6a",
        "colab": {
          "base_uri": "https://localhost:8080/",
          "height": 440
        }
      },
      "source": [
        "List=[]\n",
        "for i in np.arange(4,5.5, 1):\n",
        "    M=df.loc[df[df.Rating==i].Hotel_id.value_counts().head(10).index,'Hotel']\n",
        "    print('Rate: %f' %i)\n",
        "    print(M)\n",
        "    print(' ')"
      ],
      "execution_count": 21,
      "outputs": [
        {
          "output_type": "stream",
          "text": [
            "Rate: 4.000000\n",
            "3113                                          Pacific Inn\n",
            "9                                       Inn At Queen Anne\n",
            "2189                                            The Boxer\n",
            "2741    Homewood Suites by Hilton Lake Buena Vista-Orl...\n",
            "2968          Americas Best Value Inn & Suites Canon City\n",
            "2822                         JW Marriott Atlanta Buckhead\n",
            "3018                                          Chablis Inn\n",
            "38                                      Inn At Queen Anne\n",
            "56                                      Inn At Queen Anne\n",
            "2936          Hampton Inn and Suites Williamsburg-Central\n",
            "Name: Hotel, dtype: object\n",
            " \n",
            "Rate: 5.000000\n",
            "38                                 Inn At Queen Anne\n",
            "2126                    Hampton Inn Suites Bremerton\n",
            "656     Doubletree By Hilton West Palm Beach Airport\n",
            "9                                  Inn At Queen Anne\n",
            "1462                Best Western Owasso Inn & Suites\n",
            "2915                    JW Marriott Atlanta Buckhead\n",
            "2984                     Aloft Philadelphia Downtown\n",
            "2822                    JW Marriott Atlanta Buckhead\n",
            "2684                                      Hotel Abri\n",
            "2682                                      Hotel Abri\n",
            "Name: Hotel, dtype: object\n",
            " \n"
          ],
          "name": "stdout"
        }
      ]
    },
    {
      "cell_type": "code",
      "metadata": {
        "id": "hbjnJ1UzvRIe",
        "outputId": "03bedbde-1beb-4c72-cb08-0b74b602429e",
        "colab": {
          "base_uri": "https://localhost:8080/",
          "height": 392
        }
      },
      "source": [
        "info = pd.pivot_table(df,index=['Hotel'],values=['Rating'],\n",
        "               columns=[],aggfunc=[np.sum, np.mean],fill_value=0)\n",
        "info = info.sort_values(by=('sum', 'Rating'), ascending = False)\n",
        "\n",
        "info.head(10)"
      ],
      "execution_count": 22,
      "outputs": [
        {
          "output_type": "execute_result",
          "data": {
            "text/html": [
              "<div>\n",
              "<style scoped>\n",
              "    .dataframe tbody tr th:only-of-type {\n",
              "        vertical-align: middle;\n",
              "    }\n",
              "\n",
              "    .dataframe tbody tr th {\n",
              "        vertical-align: top;\n",
              "    }\n",
              "\n",
              "    .dataframe thead tr th {\n",
              "        text-align: left;\n",
              "    }\n",
              "\n",
              "    .dataframe thead tr:last-of-type th {\n",
              "        text-align: right;\n",
              "    }\n",
              "</style>\n",
              "<table border=\"1\" class=\"dataframe\">\n",
              "  <thead>\n",
              "    <tr>\n",
              "      <th></th>\n",
              "      <th>sum</th>\n",
              "      <th>mean</th>\n",
              "    </tr>\n",
              "    <tr>\n",
              "      <th></th>\n",
              "      <th>Rating</th>\n",
              "      <th>Rating</th>\n",
              "    </tr>\n",
              "    <tr>\n",
              "      <th>Hotel</th>\n",
              "      <th></th>\n",
              "      <th></th>\n",
              "    </tr>\n",
              "  </thead>\n",
              "  <tbody>\n",
              "    <tr>\n",
              "      <th>Doubletree By Hilton West Palm Beach Airport</th>\n",
              "      <td>1082</td>\n",
              "      <td>4.161538</td>\n",
              "    </tr>\n",
              "    <tr>\n",
              "      <th>Best Western Plus Waterville Grand Hotel</th>\n",
              "      <td>982</td>\n",
              "      <td>3.650558</td>\n",
              "    </tr>\n",
              "    <tr>\n",
              "      <th>Doubletree By Hilton Hotel Bay City - Riverfront</th>\n",
              "      <td>943</td>\n",
              "      <td>4.469194</td>\n",
              "    </tr>\n",
              "    <tr>\n",
              "      <th>Hyatt House Seattle/Downtown</th>\n",
              "      <td>847</td>\n",
              "      <td>4.343590</td>\n",
              "    </tr>\n",
              "    <tr>\n",
              "      <th>Metro Points Hotel-Washington North</th>\n",
              "      <td>737</td>\n",
              "      <td>3.703518</td>\n",
              "    </tr>\n",
              "    <tr>\n",
              "      <th>Hotel Emma</th>\n",
              "      <td>696</td>\n",
              "      <td>4.867133</td>\n",
              "    </tr>\n",
              "    <tr>\n",
              "      <th>French Market Inn</th>\n",
              "      <td>642</td>\n",
              "      <td>4.458333</td>\n",
              "    </tr>\n",
              "    <tr>\n",
              "      <th>ARIA Resort Casino</th>\n",
              "      <td>626</td>\n",
              "      <td>4.503597</td>\n",
              "    </tr>\n",
              "    <tr>\n",
              "      <th>Grand Hyatt Seattle</th>\n",
              "      <td>612</td>\n",
              "      <td>4.567164</td>\n",
              "    </tr>\n",
              "    <tr>\n",
              "      <th>Drury Inn &amp; Suites New Orleans</th>\n",
              "      <td>604</td>\n",
              "      <td>4.610687</td>\n",
              "    </tr>\n",
              "  </tbody>\n",
              "</table>\n",
              "</div>"
            ],
            "text/plain": [
              "                                                    sum      mean\n",
              "                                                 Rating    Rating\n",
              "Hotel                                                            \n",
              "Doubletree By Hilton West Palm Beach Airport       1082  4.161538\n",
              "Best Western Plus Waterville Grand Hotel            982  3.650558\n",
              "Doubletree By Hilton Hotel Bay City - Riverfront    943  4.469194\n",
              "Hyatt House Seattle/Downtown                        847  4.343590\n",
              "Metro Points Hotel-Washington North                 737  3.703518\n",
              "Hotel Emma                                          696  4.867133\n",
              "French Market Inn                                   642  4.458333\n",
              "ARIA Resort Casino                                  626  4.503597\n",
              "Grand Hyatt Seattle                                 612  4.567164\n",
              "Drury Inn & Suites New Orleans                      604  4.610687"
            ]
          },
          "metadata": {
            "tags": []
          },
          "execution_count": 22
        }
      ]
    },
    {
      "cell_type": "markdown",
      "metadata": {
        "id": "9GzSVejA0M8y"
      },
      "source": [
        "**Average rating for the 'Best Western Lamplighter Inn Suites at SDSU' is:**\n"
      ]
    },
    {
      "cell_type": "code",
      "metadata": {
        "id": "ylHxij090H2L",
        "outputId": "6b4f82e3-0ed5-46cd-8f67-9cb4d5df4c24",
        "colab": {
          "base_uri": "https://localhost:8080/",
          "height": 33
        }
      },
      "source": [
        "df[df.Hotel_id==318].Rating.mean()# Average rating for 'Best Western Lamplighter Inn Suites at SDSU'\n"
      ],
      "execution_count": 23,
      "outputs": [
        {
          "output_type": "execute_result",
          "data": {
            "text/plain": [
              "4.25"
            ]
          },
          "metadata": {
            "tags": []
          },
          "execution_count": 23
        }
      ]
    },
    {
      "cell_type": "markdown",
      "metadata": {
        "id": "vBGnGwpx0Rv2"
      },
      "source": [
        "**Average rating for 'Nob Hill Hotel' is:**"
      ]
    },
    {
      "cell_type": "code",
      "metadata": {
        "id": "2Yb2FgYl0KiA",
        "outputId": "4d033fc7-2711-4e52-fba0-88641c006550",
        "colab": {
          "base_uri": "https://localhost:8080/",
          "height": 33
        }
      },
      "source": [
        "df[df.Hotel_id==296].Rating.mean() #Average rating for 'Nob Hill Hotel'\n"
      ],
      "execution_count": 24,
      "outputs": [
        {
          "output_type": "execute_result",
          "data": {
            "text/plain": [
              "3.1333333333333333"
            ]
          },
          "metadata": {
            "tags": []
          },
          "execution_count": 24
        }
      ]
    },
    {
      "cell_type": "markdown",
      "metadata": {
        "id": "BUVvmLX70gz6"
      },
      "source": [
        "**The Hotels with the max number of ratings are:**\n",
        "\n",
        "1.Pacific Inn(3113)\n",
        "\n",
        "2.Inn At Queen Anne(9)\n",
        "\n",
        "3.Inn At Queen Anne(28)"
      ]
    },
    {
      "cell_type": "code",
      "metadata": {
        "id": "zTh8N-f70fsF"
      },
      "source": [
        "MaxRating=df['Hotel_id'].value_counts().head(10)\n"
      ],
      "execution_count": 25,
      "outputs": []
    },
    {
      "cell_type": "code",
      "metadata": {
        "id": "rZyk0ytY0qsW",
        "outputId": "c7104329-208c-47c5-9c2e-d42e678c11b9",
        "colab": {
          "base_uri": "https://localhost:8080/",
          "height": 196
        }
      },
      "source": [
        "df.loc[MaxRating.index,'Hotel']\n"
      ],
      "execution_count": 26,
      "outputs": [
        {
          "output_type": "execute_result",
          "data": {
            "text/plain": [
              "3113                                          Pacific Inn\n",
              "9                                       Inn At Queen Anne\n",
              "38                                      Inn At Queen Anne\n",
              "2189                                            The Boxer\n",
              "656          Doubletree By Hilton West Palm Beach Airport\n",
              "2968          Americas Best Value Inn & Suites Canon City\n",
              "2741    Homewood Suites by Hilton Lake Buena Vista-Orl...\n",
              "1300                                  Gran Melia Victoria\n",
              "2822                         JW Marriott Atlanta Buckhead\n",
              "2126                         Hampton Inn Suites Bremerton\n",
              "Name: Hotel, dtype: object"
            ]
          },
          "metadata": {
            "tags": []
          },
          "execution_count": 26
        }
      ]
    },
    {
      "cell_type": "code",
      "metadata": {
        "id": "jYsdpRdh0tPL",
        "outputId": "645a4568-3648-4e9a-e3e7-c403df189d07",
        "colab": {
          "base_uri": "https://localhost:8080/",
          "height": 918
        }
      },
      "source": [
        "plt.plot(range(len(MaxRating)), MaxRating,'mo--')\n",
        "plt.xticks(range(len(MaxRating)), df.loc[MaxRating.index,'Hotel'],rotation=90)\n",
        "plt.xlabel('10 hotels with the max number of rating')\n",
        "plt.ylabel('number of ratings')\n",
        "plt.savefig('foo4.png',dpi=300,bbox_inches='tight')\n",
        "plt.show()"
      ],
      "execution_count": 27,
      "outputs": [
        {
          "output_type": "execute_result",
          "data": {
            "text/plain": [
              "[<matplotlib.lines.Line2D at 0x7f9274eabeb8>]"
            ]
          },
          "metadata": {
            "tags": []
          },
          "execution_count": 27
        },
        {
          "output_type": "execute_result",
          "data": {
            "text/plain": [
              "([<matplotlib.axis.XTick at 0x7f9274f0dc88>,\n",
              "  <matplotlib.axis.XTick at 0x7f9274f0dc50>,\n",
              "  <matplotlib.axis.XTick at 0x7f9274f0d898>,\n",
              "  <matplotlib.axis.XTick at 0x7f9274eb9630>,\n",
              "  <matplotlib.axis.XTick at 0x7f9274eb9ac8>,\n",
              "  <matplotlib.axis.XTick at 0x7f9274eb9f60>,\n",
              "  <matplotlib.axis.XTick at 0x7f9274ec5438>,\n",
              "  <matplotlib.axis.XTick at 0x7f9274ec58d0>,\n",
              "  <matplotlib.axis.XTick at 0x7f9274ec5d68>,\n",
              "  <matplotlib.axis.XTick at 0x7f9274ece240>],\n",
              " [Text(0, 0, 'Pacific Inn'),\n",
              "  Text(0, 0, 'Inn At Queen Anne'),\n",
              "  Text(0, 0, 'Inn At Queen Anne'),\n",
              "  Text(0, 0, 'The Boxer'),\n",
              "  Text(0, 0, 'Doubletree By Hilton West Palm Beach Airport'),\n",
              "  Text(0, 0, 'Americas Best Value Inn & Suites Canon City'),\n",
              "  Text(0, 0, 'Homewood Suites by Hilton Lake Buena Vista-Orlando'),\n",
              "  Text(0, 0, 'Gran Melia Victoria'),\n",
              "  Text(0, 0, 'JW Marriott Atlanta Buckhead'),\n",
              "  Text(0, 0, 'Hampton Inn Suites Bremerton')])"
            ]
          },
          "metadata": {
            "tags": []
          },
          "execution_count": 27
        },
        {
          "output_type": "execute_result",
          "data": {
            "text/plain": [
              "Text(0.5, 0, '10 hotels with the max number of rating')"
            ]
          },
          "metadata": {
            "tags": []
          },
          "execution_count": 27
        },
        {
          "output_type": "execute_result",
          "data": {
            "text/plain": [
              "Text(0, 0.5, 'number of ratings')"
            ]
          },
          "metadata": {
            "tags": []
          },
          "execution_count": 27
        },
        {
          "output_type": "display_data",
          "data": {
            "image/png": "[encoded data removed]",
            "text/plain": [
              "<Figure size 576x360 with 1 Axes>"
            ]
          },
          "metadata": {
            "tags": [],
            "needs_background": "light"
          }
        }
      ]
    },
    {
      "cell_type": "markdown",
      "metadata": {
        "id": "-hc84RNo00cr"
      },
      "source": [
        "**The Hotels with the highest average rating are:**\n",
        "\n",
        "1.Pacific Inn(3113)\n",
        "\n",
        "2.Inn At Queen Anne(9)\n",
        "\n",
        "3.Inn At Queen Anne(28)"
      ]
    },
    {
      "cell_type": "code",
      "metadata": {
        "id": "DcMOvzWD0wf_",
        "outputId": "7eb284bc-c829-4a88-f242-21cd56a2160a",
        "colab": {
          "base_uri": "https://localhost:8080/",
          "height": 918
        }
      },
      "source": [
        "#The Hotels with the highest average rating are:\n",
        "List5=[]\n",
        "for i in MaxRating.index:\n",
        "    List5.append(df[df.Hotel_id==i].Rating.mean())\n",
        "plt.plot(range(len(List5)), sorted(List5,reverse=True),'mo--')\n",
        "plt.xticks(range(len(List5)), df.loc[MaxRating.index,'Hotel'],rotation=90)\n",
        "plt.xlabel('Hotels with highest number of rating')\n",
        "plt.ylabel('Average Rating')\n",
        "plt.savefig('foo5.png',dpi=300,bbox_inches='tight')\n",
        "plt.show()"
      ],
      "execution_count": 28,
      "outputs": [
        {
          "output_type": "execute_result",
          "data": {
            "text/plain": [
              "[<matplotlib.lines.Line2D at 0x7f9274e1fbe0>]"
            ]
          },
          "metadata": {
            "tags": []
          },
          "execution_count": 28
        },
        {
          "output_type": "execute_result",
          "data": {
            "text/plain": [
              "([<matplotlib.axis.XTick at 0x7f9274e840b8>,\n",
              "  <matplotlib.axis.XTick at 0x7f9274e84390>,\n",
              "  <matplotlib.axis.XTick at 0x7f9274e849e8>,\n",
              "  <matplotlib.axis.XTick at 0x7f9274e2d438>,\n",
              "  <matplotlib.axis.XTick at 0x7f9274e2d8d0>,\n",
              "  <matplotlib.axis.XTick at 0x7f9274e2dd68>,\n",
              "  <matplotlib.axis.XTick at 0x7f9274e37240>,\n",
              "  <matplotlib.axis.XTick at 0x7f9274e376d8>,\n",
              "  <matplotlib.axis.XTick at 0x7f9274e37b70>,\n",
              "  <matplotlib.axis.XTick at 0x7f9274e400b8>],\n",
              " [Text(0, 0, 'Pacific Inn'),\n",
              "  Text(0, 0, 'Inn At Queen Anne'),\n",
              "  Text(0, 0, 'Inn At Queen Anne'),\n",
              "  Text(0, 0, 'The Boxer'),\n",
              "  Text(0, 0, 'Doubletree By Hilton West Palm Beach Airport'),\n",
              "  Text(0, 0, 'Americas Best Value Inn & Suites Canon City'),\n",
              "  Text(0, 0, 'Homewood Suites by Hilton Lake Buena Vista-Orlando'),\n",
              "  Text(0, 0, 'Gran Melia Victoria'),\n",
              "  Text(0, 0, 'JW Marriott Atlanta Buckhead'),\n",
              "  Text(0, 0, 'Hampton Inn Suites Bremerton')])"
            ]
          },
          "metadata": {
            "tags": []
          },
          "execution_count": 28
        },
        {
          "output_type": "execute_result",
          "data": {
            "text/plain": [
              "Text(0.5, 0, 'Hotels with highest number of rating')"
            ]
          },
          "metadata": {
            "tags": []
          },
          "execution_count": 28
        },
        {
          "output_type": "execute_result",
          "data": {
            "text/plain": [
              "Text(0, 0.5, 'Average Rating')"
            ]
          },
          "metadata": {
            "tags": []
          },
          "execution_count": 28
        },
        {
          "output_type": "display_data",
          "data": {
            "image/png": "[encoded data removed]",
            "text/plain": [
              "<Figure size 576x360 with 1 Axes>"
            ]
          },
          "metadata": {
            "tags": [],
            "needs_background": "light"
          }
        }
      ]
    },
    {
      "cell_type": "code",
      "metadata": {
        "id": "Vl6Zxtx81242",
        "outputId": "ed328cb9-1f2b-4575-da09-1e3ce45bf0e6",
        "colab": {
          "base_uri": "https://localhost:8080/",
          "height": 33
        }
      },
      "source": [
        "MinRating=df['Hotel_id'].value_counts()\n",
        "MinRating=MinRating[MinRating==1]\n",
        "print('Number of hotels which are rated once:',df.loc[MinRating.index,'Hotel'].shape)"
      ],
      "execution_count": 29,
      "outputs": [
        {
          "output_type": "stream",
          "text": [
            "Number of hotels which are rated once: (750,)\n"
          ],
          "name": "stdout"
        }
      ]
    },
    {
      "cell_type": "markdown",
      "metadata": {
        "id": "L38BfFA617GD"
      },
      "source": [
        "**Average rating of the people with highest number of rating**"
      ]
    },
    {
      "cell_type": "code",
      "metadata": {
        "id": "ayQ105Kp14C7",
        "outputId": "ecd59088-3872-474f-b85d-fda6747bfc38",
        "colab": {
          "base_uri": "https://localhost:8080/",
          "height": 180
        }
      },
      "source": [
        "ID=df.User_id.value_counts().head(10) #UserID wih highest number of rating\n",
        "List5=[]\n",
        "for i in ID.index:\n",
        "    List5.append(df[df.User_id==i]['Rating'].mean())\n",
        "\n",
        "List5"
      ],
      "execution_count": 30,
      "outputs": [
        {
          "output_type": "execute_result",
          "data": {
            "text/plain": [
              "[3.5275229357798166,\n",
              " 3.6134453781512605,\n",
              " 3.4657534246575343,\n",
              " 3.764705882352941,\n",
              " 3.9215686274509802,\n",
              " 3.8,\n",
              " 3.8958333333333335,\n",
              " 3.9565217391304346,\n",
              " 3.869565217391304,\n",
              " 3.5555555555555554]"
            ]
          },
          "metadata": {
            "tags": []
          },
          "execution_count": 30
        }
      ]
    },
    {
      "cell_type": "markdown",
      "metadata": {
        "id": "8MgcKifqvz9q"
      },
      "source": [
        "**Frequent Name - User Name**\n",
        "\n"
      ]
    },
    {
      "cell_type": "code",
      "metadata": {
        "id": "pT73Tu4Svy2t",
        "outputId": "82f454c9-b706-40a5-b106-78501de216a3",
        "colab": {
          "base_uri": "https://localhost:8080/",
          "height": 850
        }
      },
      "source": [
        "User_Ferq=df['Users'].value_counts()[:25]\n",
        "sns.barplot(User_Ferq.index,User_Ferq.values)\n",
        "plt.ylabel('User_Name_Count')\n",
        "plt.xlabel('User_Name')\n",
        "plt.xticks(rotation='vertical')\n",
        "plt.show()\n",
        "\n",
        "User_Ferq.plot()"
      ],
      "execution_count": 31,
      "outputs": [
        {
          "output_type": "stream",
          "text": [
            "/usr/local/lib/python3.6/dist-packages/seaborn/_decorators.py:43: FutureWarning: Pass the following variables as keyword args: x, y. From version 0.12, the only valid positional argument will be `data`, and passing other arguments without an explicit keyword will result in an error or misinterpretation.\n",
            "  FutureWarning\n"
          ],
          "name": "stderr"
        },
        {
          "output_type": "execute_result",
          "data": {
            "text/plain": [
              "<matplotlib.axes._subplots.AxesSubplot at 0x7f9274eed7f0>"
            ]
          },
          "metadata": {
            "tags": []
          },
          "execution_count": 31
        },
        {
          "output_type": "execute_result",
          "data": {
            "text/plain": [
              "Text(0, 0.5, 'User_Name_Count')"
            ]
          },
          "metadata": {
            "tags": []
          },
          "execution_count": 31
        },
        {
          "output_type": "execute_result",
          "data": {
            "text/plain": [
              "Text(0.5, 0, 'User_Name')"
            ]
          },
          "metadata": {
            "tags": []
          },
          "execution_count": 31
        },
        {
          "output_type": "execute_result",
          "data": {
            "text/plain": [
              "(array([ 0,  1,  2,  3,  4,  5,  6,  7,  8,  9, 10, 11, 12, 13, 14, 15, 16,\n",
              "        17, 18, 19, 20, 21, 22, 23, 24]),\n",
              " <a list of 25 Text major ticklabel objects>)"
            ]
          },
          "metadata": {
            "tags": []
          },
          "execution_count": 31
        },
        {
          "output_type": "display_data",
          "data": {
            "image/png": "[encoded data removed]",
            "text/plain": [
              "<Figure size 576x360 with 1 Axes>"
            ]
          },
          "metadata": {
            "tags": [],
            "needs_background": "light"
          }
        },
        {
          "output_type": "execute_result",
          "data": {
            "text/plain": [
              "<matplotlib.axes._subplots.AxesSubplot at 0x7f9274df1a20>"
            ]
          },
          "metadata": {
            "tags": []
          },
          "execution_count": 31
        },
        {
          "output_type": "display_data",
          "data": {
            "image/png": "[encoded data removed]",
            "text/plain": [
              "<Figure size 576x360 with 1 Axes>"
            ]
          },
          "metadata": {
            "tags": [],
            "needs_background": "light"
          }
        }
      ]
    },
    {
      "cell_type": "markdown",
      "metadata": {
        "id": "Kfp3kP1ewObf"
      },
      "source": [
        "**Hotels by City**\n",
        "\n"
      ]
    },
    {
      "cell_type": "code",
      "metadata": {
        "id": "XUu2IXWjwIMK",
        "outputId": "1409f4b6-d173-4176-9236-283a212dd26c",
        "colab": {
          "base_uri": "https://localhost:8080/",
          "height": 511
        }
      },
      "source": [
        "City_Counts = df['City'].value_counts()[:25]\n",
        "sns.barplot(City_Counts.index,City_Counts.values)\n",
        "plt.ylabel('Number of Hotels By City')\n",
        "plt.xlabel('City Name')\n",
        "plt.xticks(rotation='vertical')\n",
        "plt.show()"
      ],
      "execution_count": 32,
      "outputs": [
        {
          "output_type": "stream",
          "text": [
            "/usr/local/lib/python3.6/dist-packages/seaborn/_decorators.py:43: FutureWarning: Pass the following variables as keyword args: x, y. From version 0.12, the only valid positional argument will be `data`, and passing other arguments without an explicit keyword will result in an error or misinterpretation.\n",
            "  FutureWarning\n"
          ],
          "name": "stderr"
        },
        {
          "output_type": "execute_result",
          "data": {
            "text/plain": [
              "<matplotlib.axes._subplots.AxesSubplot at 0x7f9274c72710>"
            ]
          },
          "metadata": {
            "tags": []
          },
          "execution_count": 32
        },
        {
          "output_type": "execute_result",
          "data": {
            "text/plain": [
              "Text(0, 0.5, 'Number of Hotels By City')"
            ]
          },
          "metadata": {
            "tags": []
          },
          "execution_count": 32
        },
        {
          "output_type": "execute_result",
          "data": {
            "text/plain": [
              "Text(0.5, 0, 'City Name')"
            ]
          },
          "metadata": {
            "tags": []
          },
          "execution_count": 32
        },
        {
          "output_type": "execute_result",
          "data": {
            "text/plain": [
              "(array([ 0,  1,  2,  3,  4,  5,  6,  7,  8,  9, 10, 11, 12, 13, 14, 15, 16,\n",
              "        17, 18, 19, 20, 21, 22, 23, 24]),\n",
              " <a list of 25 Text major ticklabel objects>)"
            ]
          },
          "metadata": {
            "tags": []
          },
          "execution_count": 32
        },
        {
          "output_type": "display_data",
          "data": {
            "image/png": "[encoded data removed]",
            "text/plain": [
              "<Figure size 576x360 with 1 Axes>"
            ]
          },
          "metadata": {
            "tags": [],
            "needs_background": "light"
          }
        }
      ]
    },
    {
      "cell_type": "markdown",
      "metadata": {
        "id": "6GRcfLKFynxO"
      },
      "source": [
        "**Analyzing the Rating given by the Users**"
      ]
    },
    {
      "cell_type": "code",
      "metadata": {
        "id": "ai7_fPCWwTOc",
        "outputId": "5fbe963f-3c1d-41b8-cb42-15b416cf606a",
        "colab": {
          "base_uri": "https://localhost:8080/",
          "height": 131
        }
      },
      "source": [
        "#Analysis of rating given by the user \n",
        "\n",
        "no_of_rated_products_per_user = df.groupby(by='User_id')['Rating'].count().sort_values(ascending=False)\n",
        "\n",
        "no_of_rated_products_per_user.head()"
      ],
      "execution_count": 33,
      "outputs": [
        {
          "output_type": "execute_result",
          "data": {
            "text/plain": [
              "User_id\n",
              "710      218\n",
              "17580    119\n",
              "17618     73\n",
              "712       51\n",
              "5834      51\n",
              "Name: Rating, dtype: int64"
            ]
          },
          "metadata": {
            "tags": []
          },
          "execution_count": 33
        }
      ]
    },
    {
      "cell_type": "code",
      "metadata": {
        "id": "jEqfGpWgy1t6",
        "outputId": "eb004ceb-475c-4ca9-81ce-84d959aced83",
        "colab": {
          "base_uri": "https://localhost:8080/",
          "height": 163
        }
      },
      "source": [
        "no_of_rated_products_per_user.describe()"
      ],
      "execution_count": 34,
      "outputs": [
        {
          "output_type": "execute_result",
          "data": {
            "text/plain": [
              "count    16502.000000\n",
              "mean         1.319234\n",
              "std          2.793786\n",
              "min          1.000000\n",
              "25%          1.000000\n",
              "50%          1.000000\n",
              "75%          1.000000\n",
              "max        218.000000\n",
              "Name: Rating, dtype: float64"
            ]
          },
          "metadata": {
            "tags": []
          },
          "execution_count": 34
        }
      ]
    },
    {
      "cell_type": "code",
      "metadata": {
        "id": "Nm7bKXAmy5D7"
      },
      "source": [
        "quantiles = no_of_rated_products_per_user.quantile(np.arange(0,1.01,0.01), interpolation='higher')"
      ],
      "execution_count": 35,
      "outputs": []
    },
    {
      "cell_type": "code",
      "metadata": {
        "id": "A1s1pkyay7u1",
        "outputId": "3062fc5a-cab5-4188-92e6-6b79498196c8",
        "colab": {
          "base_uri": "https://localhost:8080/",
          "height": 653
        }
      },
      "source": [
        "plt.figure(figsize=(10,10))\n",
        "plt.title(\"Quantiles and their Values\")\n",
        "quantiles.plot()\n",
        "# quantiles with 0.05 difference\n",
        "plt.scatter(x=quantiles.index[::5], y=quantiles.values[::5], c='orange', label=\"quantiles with 0.05 intervals\")\n",
        "# quantiles with 0.25 difference\n",
        "plt.scatter(x=quantiles.index[::25], y=quantiles.values[::25], c='m', label = \"quantiles with 0.25 intervals\")\n",
        "plt.ylabel('No of Ratings by User')\n",
        "plt.xlabel('Value at the quantile')\n",
        "plt.legend(loc='best')\n",
        "plt.show()"
      ],
      "execution_count": 36,
      "outputs": [
        {
          "output_type": "execute_result",
          "data": {
            "text/plain": [
              "<Figure size 720x720 with 0 Axes>"
            ]
          },
          "metadata": {
            "tags": []
          },
          "execution_count": 36
        },
        {
          "output_type": "execute_result",
          "data": {
            "text/plain": [
              "Text(0.5, 1.0, 'Quantiles and their Values')"
            ]
          },
          "metadata": {
            "tags": []
          },
          "execution_count": 36
        },
        {
          "output_type": "execute_result",
          "data": {
            "text/plain": [
              "<matplotlib.axes._subplots.AxesSubplot at 0x7f9274b79ac8>"
            ]
          },
          "metadata": {
            "tags": []
          },
          "execution_count": 36
        },
        {
          "output_type": "execute_result",
          "data": {
            "text/plain": [
              "<matplotlib.collections.PathCollection at 0x7f9275094be0>"
            ]
          },
          "metadata": {
            "tags": []
          },
          "execution_count": 36
        },
        {
          "output_type": "execute_result",
          "data": {
            "text/plain": [
              "<matplotlib.collections.PathCollection at 0x7f9275094c88>"
            ]
          },
          "metadata": {
            "tags": []
          },
          "execution_count": 36
        },
        {
          "output_type": "execute_result",
          "data": {
            "text/plain": [
              "Text(0, 0.5, 'No of Ratings by User')"
            ]
          },
          "metadata": {
            "tags": []
          },
          "execution_count": 36
        },
        {
          "output_type": "execute_result",
          "data": {
            "text/plain": [
              "Text(0.5, 0, 'Value at the quantile')"
            ]
          },
          "metadata": {
            "tags": []
          },
          "execution_count": 36
        },
        {
          "output_type": "execute_result",
          "data": {
            "text/plain": [
              "<matplotlib.legend.Legend at 0x7f9274fdbba8>"
            ]
          },
          "metadata": {
            "tags": []
          },
          "execution_count": 36
        },
        {
          "output_type": "display_data",
          "data": {
            "image/png": "[encoded data removed]",
            "text/plain": [
              "<Figure size 720x720 with 1 Axes>"
            ]
          },
          "metadata": {
            "tags": [],
            "needs_background": "light"
          }
        }
      ]
    },
    {
      "cell_type": "code",
      "metadata": {
        "id": "fa8sGDm7y-N0",
        "outputId": "4062ebe5-232c-4028-967f-5a007614112b",
        "colab": {
          "base_uri": "https://localhost:8080/",
          "height": 66
        }
      },
      "source": [
        "print('\\n No of rated product more than 30 per user : {}\\n'.format(sum(no_of_rated_products_per_user >= 30)) )"
      ],
      "execution_count": 37,
      "outputs": [
        {
          "output_type": "stream",
          "text": [
            "\n",
            " No of rated product more than 30 per user : 25\n",
            "\n"
          ],
          "name": "stdout"
        }
      ]
    },
    {
      "cell_type": "markdown",
      "metadata": {
        "id": "cFqVLaoN2RbU"
      },
      "source": [
        "**Reviews Wordclouds**\n",
        "\n",
        "There are certain words that use more often in titles. I use WordCloud library to find out what are these words.\n",
        "\n",
        "The word hotel is the most commonly used word in hotel reviews. room, front, desk and good are also among the most commonly occuring words."
      ]
    },
    {
      "cell_type": "code",
      "metadata": {
        "id": "8WsLx5ofzByZ",
        "outputId": "d7d42654-3670-4211-e788-aee7905a6858",
        "colab": {
          "base_uri": "https://localhost:8080/",
          "height": 482
        }
      },
      "source": [
        "df['Reviews'] = df['Reviews'].astype('str')\n",
        "\n",
        "title_corpus = ' '.join(df['Reviews'])\n",
        "\n",
        "\n",
        "title_wordcloud = WordCloud(stopwords=STOPWORDS, background_color='white', height=2000, width=4000).generate(title_corpus)\n",
        "plt.figure(figsize=(16,8))\n",
        "plt.imshow(title_wordcloud)\n",
        "plt.axis('off')\n",
        "plt.savefig('world1.png',dpi=300,bbox_inches='tight')\n",
        "plt.show()"
      ],
      "execution_count": 44,
      "outputs": [
        {
          "output_type": "execute_result",
          "data": {
            "text/plain": [
              "<Figure size 1152x576 with 0 Axes>"
            ]
          },
          "metadata": {
            "tags": []
          },
          "execution_count": 44
        },
        {
          "output_type": "execute_result",
          "data": {
            "text/plain": [
              "<matplotlib.image.AxesImage at 0x7f926e51f518>"
            ]
          },
          "metadata": {
            "tags": []
          },
          "execution_count": 44
        },
        {
          "output_type": "execute_result",
          "data": {
            "text/plain": [
              "(-0.5, 3999.5, 1999.5, -0.5)"
            ]
          },
          "metadata": {
            "tags": []
          },
          "execution_count": 44
        },
        {
          "output_type": "display_data",
          "data": {
            "image/png": "[encoded data removed]",
            "text/plain": [
              "<Figure size 1152x576 with 1 Axes>"
            ]
          },
          "metadata": {
            "tags": [],
            "needs_background": "light"
          }
        }
      ]
    },
    {
      "cell_type": "markdown",
      "metadata": {
        "id": "HsV1w3CR-Pqg"
      },
      "source": [
        "# **Recommender System**"
      ]
    },
    {
      "cell_type": "markdown",
      "metadata": {
        "id": "AsgNkp2u-H7T"
      },
      "source": [
        "**Popularity Based Recommendation**\n",
        "\n",
        "Popularity based recommendation system works with the trend. It basically uses the items which are in trend right now. For example, if any product which is usually bought by every new user then there are chances that it may suggest that item to the user who just signed up.\n",
        "\n",
        "The problems with popularity based recommendation system is that the personalization is not available with this method i.e. even though you know the behaviour of the user you cannot recommend items accordingly"
      ]
    },
    {
      "cell_type": "code",
      "metadata": {
        "id": "pZRw8rUI5H-3"
      },
      "source": [
        "#Getting the new dataframe which contains users who has given 20 or more ratings\n",
        "\n",
        "new_df=df.groupby(\"Hotel_id\").filter(lambda x:x['Rating'].count() >=20)"
      ],
      "execution_count": 45,
      "outputs": []
    },
    {
      "cell_type": "code",
      "metadata": {
        "id": "KyTS2W9v5OAj",
        "outputId": "1ed667b5-2c50-478f-83f8-a89dabff4d8c",
        "colab": {
          "base_uri": "https://localhost:8080/",
          "height": 301
        }
      },
      "source": [
        "no_of_ratings_per_hotel = new_df.groupby(by='Hotel_id')['Rating'].count().sort_values(ascending=False)\n",
        "\n",
        "fig = plt.figure(figsize=plt.figaspect(.5))\n",
        "ax = plt.gca()\n",
        "plt.plot(no_of_ratings_per_hotel.values)\n",
        "plt.title('# RATINGS per Hotel')\n",
        "plt.xlabel('Hotels')\n",
        "plt.ylabel('No of Ratings per Hotel')\n",
        "ax.set_xticklabels([])\n",
        "\n",
        "plt.show()"
      ],
      "execution_count": 46,
      "outputs": [
        {
          "output_type": "execute_result",
          "data": {
            "text/plain": [
              "[<matplotlib.lines.Line2D at 0x7f926e86c6a0>]"
            ]
          },
          "metadata": {
            "tags": []
          },
          "execution_count": 46
        },
        {
          "output_type": "execute_result",
          "data": {
            "text/plain": [
              "Text(0.5, 1.0, '# RATINGS per Hotel')"
            ]
          },
          "metadata": {
            "tags": []
          },
          "execution_count": 46
        },
        {
          "output_type": "execute_result",
          "data": {
            "text/plain": [
              "Text(0.5, 0, 'Hotels')"
            ]
          },
          "metadata": {
            "tags": []
          },
          "execution_count": 46
        },
        {
          "output_type": "execute_result",
          "data": {
            "text/plain": [
              "Text(0, 0.5, 'No of Ratings per Hotel')"
            ]
          },
          "metadata": {
            "tags": []
          },
          "execution_count": 46
        },
        {
          "output_type": "execute_result",
          "data": {
            "text/plain": [
              "[]"
            ]
          },
          "metadata": {
            "tags": []
          },
          "execution_count": 46
        },
        {
          "output_type": "display_data",
          "data": {
            "image/png": "[encoded data removed]",
            "text/plain": [
              "<Figure size 576x288 with 1 Axes>"
            ]
          },
          "metadata": {
            "tags": [],
            "needs_background": "light"
          }
        }
      ]
    },
    {
      "cell_type": "code",
      "metadata": {
        "id": "yH4eCGGr-ka8",
        "outputId": "588a0212-94fe-4385-841f-0a939026a436",
        "colab": {
          "base_uri": "https://localhost:8080/",
          "height": 131
        }
      },
      "source": [
        "#Average rating of the Hotel \n",
        "\n",
        "new_df.groupby('Hotel_id')['Rating'].mean().head()"
      ],
      "execution_count": 47,
      "outputs": [
        {
          "output_type": "execute_result",
          "data": {
            "text/plain": [
              "Hotel_id\n",
              "2    3.013889\n",
              "3    2.033333\n",
              "4    3.562500\n",
              "5    4.011765\n",
              "6    2.618557\n",
              "Name: Rating, dtype: float64"
            ]
          },
          "metadata": {
            "tags": []
          },
          "execution_count": 47
        }
      ]
    },
    {
      "cell_type": "code",
      "metadata": {
        "id": "lVdfCyYf-mEm",
        "outputId": "9438ace4-119c-4238-91af-c26ef275533e",
        "colab": {
          "base_uri": "https://localhost:8080/",
          "height": 131
        }
      },
      "source": [
        "new_df.groupby('Hotel_id')['Rating'].mean().sort_values(ascending=False).head()"
      ],
      "execution_count": 48,
      "outputs": [
        {
          "output_type": "execute_result",
          "data": {
            "text/plain": [
              "Hotel_id\n",
              "16      4.966667\n",
              "52      4.913043\n",
              "2576    4.903226\n",
              "628     4.900000\n",
              "90      4.888889\n",
              "Name: Rating, dtype: float64"
            ]
          },
          "metadata": {
            "tags": []
          },
          "execution_count": 48
        }
      ]
    },
    {
      "cell_type": "code",
      "metadata": {
        "id": "mnYB0DDO-oPC",
        "outputId": "cf146188-a1e4-4b62-f485-06e0a5acdbb2",
        "colab": {
          "base_uri": "https://localhost:8080/",
          "height": 131
        }
      },
      "source": [
        "#Total no of rating for Hotel\n",
        "\n",
        "new_df.groupby('Hotel_id')['Rating'].count().sort_values(ascending=False).head()"
      ],
      "execution_count": 49,
      "outputs": [
        {
          "output_type": "execute_result",
          "data": {
            "text/plain": [
              "Hotel_id\n",
              "3113    269\n",
              "9       260\n",
              "38      211\n",
              "2189    199\n",
              "656     195\n",
              "Name: Rating, dtype: int64"
            ]
          },
          "metadata": {
            "tags": []
          },
          "execution_count": 49
        }
      ]
    },
    {
      "cell_type": "code",
      "metadata": {
        "id": "n-Q4aoo2_6su"
      },
      "source": [
        "ratings_mean_count = pd.DataFrame(new_df.groupby('Hotel_id')['Rating'].mean())"
      ],
      "execution_count": 50,
      "outputs": []
    },
    {
      "cell_type": "code",
      "metadata": {
        "id": "7hzJXVTX_7y_"
      },
      "source": [
        "ratings_mean_count['rating_counts'] = pd.DataFrame(new_df.groupby('Hotel_id')['Rating'].count())"
      ],
      "execution_count": 51,
      "outputs": []
    },
    {
      "cell_type": "code",
      "metadata": {
        "id": "_MY9VODv_-ck",
        "outputId": "d8558df3-140f-461c-9b02-a226a4eb6758",
        "colab": {
          "base_uri": "https://localhost:8080/",
          "height": 220
        }
      },
      "source": [
        "ratings_mean_count.head()"
      ],
      "execution_count": 52,
      "outputs": [
        {
          "output_type": "execute_result",
          "data": {
            "text/html": [
              "<div>\n",
              "<style scoped>\n",
              "    .dataframe tbody tr th:only-of-type {\n",
              "        vertical-align: middle;\n",
              "    }\n",
              "\n",
              "    .dataframe tbody tr th {\n",
              "        vertical-align: top;\n",
              "    }\n",
              "\n",
              "    .dataframe thead th {\n",
              "        text-align: right;\n",
              "    }\n",
              "</style>\n",
              "<table border=\"1\" class=\"dataframe\">\n",
              "  <thead>\n",
              "    <tr style=\"text-align: right;\">\n",
              "      <th></th>\n",
              "      <th>Rating</th>\n",
              "      <th>rating_counts</th>\n",
              "    </tr>\n",
              "    <tr>\n",
              "      <th>Hotel_id</th>\n",
              "      <th></th>\n",
              "      <th></th>\n",
              "    </tr>\n",
              "  </thead>\n",
              "  <tbody>\n",
              "    <tr>\n",
              "      <th>2</th>\n",
              "      <td>3.013889</td>\n",
              "      <td>72</td>\n",
              "    </tr>\n",
              "    <tr>\n",
              "      <th>3</th>\n",
              "      <td>2.033333</td>\n",
              "      <td>30</td>\n",
              "    </tr>\n",
              "    <tr>\n",
              "      <th>4</th>\n",
              "      <td>3.562500</td>\n",
              "      <td>32</td>\n",
              "    </tr>\n",
              "    <tr>\n",
              "      <th>5</th>\n",
              "      <td>4.011765</td>\n",
              "      <td>85</td>\n",
              "    </tr>\n",
              "    <tr>\n",
              "      <th>6</th>\n",
              "      <td>2.618557</td>\n",
              "      <td>97</td>\n",
              "    </tr>\n",
              "  </tbody>\n",
              "</table>\n",
              "</div>"
            ],
            "text/plain": [
              "            Rating  rating_counts\n",
              "Hotel_id                         \n",
              "2         3.013889             72\n",
              "3         2.033333             30\n",
              "4         3.562500             32\n",
              "5         4.011765             85\n",
              "6         2.618557             97"
            ]
          },
          "metadata": {
            "tags": []
          },
          "execution_count": 52
        }
      ]
    },
    {
      "cell_type": "code",
      "metadata": {
        "id": "02fXGOTMAAe3",
        "outputId": "382d6b67-526b-4fad-dd88-491572a3ff38",
        "colab": {
          "base_uri": "https://localhost:8080/",
          "height": 33
        }
      },
      "source": [
        "ratings_mean_count['rating_counts'].max()"
      ],
      "execution_count": 53,
      "outputs": [
        {
          "output_type": "execute_result",
          "data": {
            "text/plain": [
              "269"
            ]
          },
          "metadata": {
            "tags": []
          },
          "execution_count": 53
        }
      ]
    },
    {
      "cell_type": "code",
      "metadata": {
        "id": "WE0KjCwOACfy",
        "outputId": "7009a450-c89a-45ae-d8d6-677d28fe88a5",
        "colab": {
          "base_uri": "https://localhost:8080/",
          "height": 390
        }
      },
      "source": [
        "plt.figure(figsize=(8,6))\n",
        "plt.rcParams['patch.force_edgecolor'] = True\n",
        "ratings_mean_count['rating_counts'].hist(bins=50)"
      ],
      "execution_count": 54,
      "outputs": [
        {
          "output_type": "execute_result",
          "data": {
            "text/plain": [
              "<Figure size 576x432 with 0 Axes>"
            ]
          },
          "metadata": {
            "tags": []
          },
          "execution_count": 54
        },
        {
          "output_type": "execute_result",
          "data": {
            "text/plain": [
              "<matplotlib.axes._subplots.AxesSubplot at 0x7f926e86c8d0>"
            ]
          },
          "metadata": {
            "tags": []
          },
          "execution_count": 54
        },
        {
          "output_type": "display_data",
          "data": {
            "image/png": "[encoded data removed]",
            "text/plain": [
              "<Figure size 576x432 with 1 Axes>"
            ]
          },
          "metadata": {
            "tags": [],
            "needs_background": "light"
          }
        }
      ]
    },
    {
      "cell_type": "code",
      "metadata": {
        "id": "lpKO_CTsAGWV",
        "outputId": "b9a58ad8-4d83-4fb3-d5c0-e3fb0381f3a7",
        "colab": {
          "base_uri": "https://localhost:8080/",
          "height": 390
        }
      },
      "source": [
        "plt.figure(figsize=(8,6))\n",
        "plt.rcParams['patch.force_edgecolor'] = True\n",
        "ratings_mean_count['Rating'].hist(bins=50)"
      ],
      "execution_count": 55,
      "outputs": [
        {
          "output_type": "execute_result",
          "data": {
            "text/plain": [
              "<Figure size 576x432 with 0 Axes>"
            ]
          },
          "metadata": {
            "tags": []
          },
          "execution_count": 55
        },
        {
          "output_type": "execute_result",
          "data": {
            "text/plain": [
              "<matplotlib.axes._subplots.AxesSubplot at 0x7f926e8e4080>"
            ]
          },
          "metadata": {
            "tags": []
          },
          "execution_count": 55
        },
        {
          "output_type": "display_data",
          "data": {
            "image/png": "[encoded data removed]",
            "text/plain": [
              "<Figure size 576x432 with 1 Axes>"
            ]
          },
          "metadata": {
            "tags": [],
            "needs_background": "light"
          }
        }
      ]
    },
    {
      "cell_type": "code",
      "metadata": {
        "id": "5EEzXJoDAJtO",
        "outputId": "6648046f-72ce-4ec0-ef5b-bfe2c7b6942d",
        "colab": {
          "base_uri": "https://localhost:8080/",
          "height": 473
        }
      },
      "source": [
        "plt.figure(figsize=(8,6))\n",
        "plt.rcParams['patch.force_edgecolor'] = True\n",
        "sns.jointplot(x='Rating', y='rating_counts', data=ratings_mean_count, alpha=0.4)"
      ],
      "execution_count": 56,
      "outputs": [
        {
          "output_type": "execute_result",
          "data": {
            "text/plain": [
              "<Figure size 576x432 with 0 Axes>"
            ]
          },
          "metadata": {
            "tags": []
          },
          "execution_count": 56
        },
        {
          "output_type": "execute_result",
          "data": {
            "text/plain": [
              "<seaborn.axisgrid.JointGrid at 0x7f92649abdd8>"
            ]
          },
          "metadata": {
            "tags": []
          },
          "execution_count": 56
        },
        {
          "output_type": "display_data",
          "data": {
            "text/plain": [
              "<Figure size 576x432 with 0 Axes>"
            ]
          },
          "metadata": {
            "tags": []
          }
        },
        {
          "output_type": "display_data",
          "data": {
            "image/png": "[encoded data removed]",
            "text/plain": [
              "<Figure size 432x432 with 3 Axes>"
            ]
          },
          "metadata": {
            "tags": [],
            "needs_background": "light"
          }
        }
      ]
    },
    {
      "cell_type": "code",
      "metadata": {
        "id": "OH_hZ8RvAMtw",
        "outputId": "c95178ec-1a49-43d3-a621-77e9264d03c7",
        "colab": {
          "base_uri": "https://localhost:8080/",
          "height": 312
        }
      },
      "source": [
        "popular_products = pd.DataFrame(new_df.groupby('Hotel_id')['Rating'].count())\n",
        "most_popular = popular_products.sort_values('Rating', ascending=False)\n",
        "most_popular.head(30).plot(kind = \"bar\")"
      ],
      "execution_count": 57,
      "outputs": [
        {
          "output_type": "execute_result",
          "data": {
            "text/plain": [
              "<matplotlib.axes._subplots.AxesSubplot at 0x7f926c9b27f0>"
            ]
          },
          "metadata": {
            "tags": []
          },
          "execution_count": 57
        },
        {
          "output_type": "display_data",
          "data": {
            "image/png": "[encoded data removed]",
            "text/plain": [
              "<Figure size 432x288 with 1 Axes>"
            ]
          },
          "metadata": {
            "tags": [],
            "needs_background": "light"
          }
        }
      ]
    },
    {
      "cell_type": "markdown",
      "metadata": {
        "id": "bHv69QJcDQ23"
      },
      "source": [
        "**2.Simple Recommender**\n",
        "\n",
        "The Simple Recommender offers generalized recommnendations to every user based on hotel popularity, ratings, and City. The basic idea behind this recommender is that hotels that are more popular and more critically acclaimed will have a higher probability of being liked by the average Customers. This model does not give personalized recommendations based on the user.\n",
        "\n",
        "So I sort the hotel based on their location, and I recommend the ones with the highest number of votes and the higher average rankings to the new Customers."
      ]
    },
    {
      "cell_type": "code",
      "metadata": {
        "id": "PhLz5sHCDN8F",
        "outputId": "ea3b422f-69ca-4cd5-a4f0-bb6f4aff37e7",
        "colab": {
          "base_uri": "https://localhost:8080/",
          "height": 191
        }
      },
      "source": [
        "df=df[['User_id','Hotel_id','Rating','City','Hotel','Hotel_Type','Price']]\n",
        "df.head()"
      ],
      "execution_count": 58,
      "outputs": [
        {
          "output_type": "execute_result",
          "data": {
            "text/html": [
              "<div>\n",
              "<style scoped>\n",
              "    .dataframe tbody tr th:only-of-type {\n",
              "        vertical-align: middle;\n",
              "    }\n",
              "\n",
              "    .dataframe tbody tr th {\n",
              "        vertical-align: top;\n",
              "    }\n",
              "\n",
              "    .dataframe thead th {\n",
              "        text-align: right;\n",
              "    }\n",
              "</style>\n",
              "<table border=\"1\" class=\"dataframe\">\n",
              "  <thead>\n",
              "    <tr style=\"text-align: right;\">\n",
              "      <th></th>\n",
              "      <th>User_id</th>\n",
              "      <th>Hotel_id</th>\n",
              "      <th>Rating</th>\n",
              "      <th>City</th>\n",
              "      <th>Hotel</th>\n",
              "      <th>Hotel_Type</th>\n",
              "      <th>Price</th>\n",
              "    </tr>\n",
              "  </thead>\n",
              "  <tbody>\n",
              "    <tr>\n",
              "      <th>0</th>\n",
              "      <td>15400</td>\n",
              "      <td>0</td>\n",
              "      <td>1.0</td>\n",
              "      <td>Beaumont</td>\n",
              "      <td>La Quinta</td>\n",
              "      <td>2.0</td>\n",
              "      <td>Rs.8989</td>\n",
              "    </tr>\n",
              "    <tr>\n",
              "      <th>1</th>\n",
              "      <td>17618</td>\n",
              "      <td>2</td>\n",
              "      <td>2.0</td>\n",
              "      <td>Seattle</td>\n",
              "      <td>Inn At Queen Anne</td>\n",
              "      <td>2.0</td>\n",
              "      <td>Rs.8457</td>\n",
              "    </tr>\n",
              "    <tr>\n",
              "      <th>2</th>\n",
              "      <td>17602</td>\n",
              "      <td>2</td>\n",
              "      <td>4.0</td>\n",
              "      <td>Seattle</td>\n",
              "      <td>Inn At Queen Anne</td>\n",
              "      <td>2.0</td>\n",
              "      <td>Rs.8457</td>\n",
              "    </tr>\n",
              "    <tr>\n",
              "      <th>3</th>\n",
              "      <td>17601</td>\n",
              "      <td>2</td>\n",
              "      <td>4.0</td>\n",
              "      <td>Seattle</td>\n",
              "      <td>Inn At Queen Anne</td>\n",
              "      <td>2.0</td>\n",
              "      <td>Rs.8457</td>\n",
              "    </tr>\n",
              "    <tr>\n",
              "      <th>4</th>\n",
              "      <td>17600</td>\n",
              "      <td>2</td>\n",
              "      <td>1.0</td>\n",
              "      <td>Seattle</td>\n",
              "      <td>Inn At Queen Anne</td>\n",
              "      <td>2.0</td>\n",
              "      <td>Rs.8457</td>\n",
              "    </tr>\n",
              "  </tbody>\n",
              "</table>\n",
              "</div>"
            ],
            "text/plain": [
              "   User_id  Hotel_id  Rating      City              Hotel  Hotel_Type    Price\n",
              "0    15400         0     1.0  Beaumont          La Quinta         2.0  Rs.8989\n",
              "1    17618         2     2.0   Seattle  Inn At Queen Anne         2.0  Rs.8457\n",
              "2    17602         2     4.0   Seattle  Inn At Queen Anne         2.0  Rs.8457\n",
              "3    17601         2     4.0   Seattle  Inn At Queen Anne         2.0  Rs.8457\n",
              "4    17600         2     1.0   Seattle  Inn At Queen Anne         2.0  Rs.8457"
            ]
          },
          "metadata": {
            "tags": []
          },
          "execution_count": 58
        }
      ]
    },
    {
      "cell_type": "markdown",
      "metadata": {
        "id": "m-_flOqjDdbP"
      },
      "source": [
        "**The list of the 10 best Hotels to recommend in 'San Francisco' are:**"
      ]
    },
    {
      "cell_type": "code",
      "metadata": {
        "id": "jbnsMUPNDZaF",
        "outputId": "bbc2e0ff-ea7c-4ec4-a0dc-79ede6214942",
        "colab": {
          "base_uri": "https://localhost:8080/",
          "height": 180
        }
      },
      "source": [
        "a=df[df.City=='San Francisco'].Hotel_id.value_counts().head(30).index\n",
        "count=0\n",
        "for i in a:\n",
        "    if (df[(df.Hotel_id==i)].Rating.mean()>4.1)&(count<10):\n",
        "        count+=1\n",
        "        print(count,':',df[(df.City=='San Francisco')&(df.Hotel_id==i)].Hotel.iloc[0])"
      ],
      "execution_count": 59,
      "outputs": [
        {
          "output_type": "stream",
          "text": [
            "1 : Galleria Park Hotel\n",
            "2 : Hotel Abri\n",
            "3 : The Orchard Garden Hotel\n",
            "4 : The St. Regis San Francisco\n",
            "5 : Columbus Motor Inn\n",
            "6 : InterContinental San Francisco\n",
            "7 : Hotel Nikko San Francisco\n",
            "8 : Kensington Park Hotel\n",
            "9 : San Francisco Marriott Marquis\n",
            "10 : Inn San Francisco\n"
          ],
          "name": "stdout"
        }
      ]
    },
    {
      "cell_type": "markdown",
      "metadata": {
        "id": "pasMGF6mDpdv"
      },
      "source": [
        "**The list of the 10 best Hotels to recommend in 'San Diego' are:**"
      ]
    },
    {
      "cell_type": "code",
      "metadata": {
        "id": "if-OcFAPDl0y",
        "outputId": "8c6eeeec-5c4d-4237-c24c-46ac14c5cce7",
        "colab": {
          "base_uri": "https://localhost:8080/",
          "height": 180
        }
      },
      "source": [
        "a=df[df.City=='San Diego'].Hotel_id.value_counts().head(30).index\n",
        "count=0\n",
        "for i in a:\n",
        "    if (df[(df.Hotel_id==i)].Rating.mean()>3)&(count<10):\n",
        "        count+=1\n",
        "        print(count,':',df[(df.City=='San Diego')&(df.Hotel_id==i)].Hotel.iloc[0])"
      ],
      "execution_count": 60,
      "outputs": [
        {
          "output_type": "stream",
          "text": [
            "1 : Best Western Seven Seas\n",
            "2 : Hampton Inn San Diego Del Mar\n",
            "3 : Ocean Park Inn\n",
            "4 : The Pearl Hotel\n",
            "5 : Best Western Mission Bay\n",
            "6 : Best Western Yacht Harbor Hotel\n",
            "7 : Best Western San Diego/Miramar Hotel\n",
            "8 : Best Western Plus Hacienda Hotel Old Town\n",
            "9 : Best Western Plus Bayside Inn\n",
            "10 : Quality Suites San Diego SeaWorld Area\n"
          ],
          "name": "stdout"
        }
      ]
    },
    {
      "cell_type": "markdown",
      "metadata": {
        "id": "kDq4VgmoDyK4"
      },
      "source": [
        "**The list of the 10 best Hotels to recommend in 'Bengaluru' are:**"
      ]
    },
    {
      "cell_type": "code",
      "metadata": {
        "id": "8kA1drlzDtP6",
        "outputId": "21563ea5-d4e6-42f1-d01d-79e8b7c938ae",
        "colab": {
          "base_uri": "https://localhost:8080/",
          "height": 180
        }
      },
      "source": [
        "a=df[df.City=='Bengaluru'].Hotel_id.value_counts().head(30).index\n",
        "count=0\n",
        "for i in a:\n",
        "    if (df[(df.Hotel_id==i)].Rating.mean()>4)&(count<10):\n",
        "        count+=1\n",
        "        print(count,':',df[(df.City=='Bengaluru')&(df.Hotel_id==i)].Hotel.iloc[0])"
      ],
      "execution_count": 61,
      "outputs": [
        {
          "output_type": "stream",
          "text": [
            "1 : Shreyas Yoga Retreat\n",
            "2 : Treebo Trend Rajathadri Palace\n",
            "3 : Zone by the Park Electronic City\n",
            "4 : Fortune Park JP Celestial\n",
            "5 : Wonderla Resort\n",
            "6 : Gokulam Grand Hotel & Spa\n",
            "7 : Signature Club Resort\n",
            "8 : Royal Orchid Resort & Convention Centre\n",
            "9 : Sheraton Grand Bengaluru Whitefield Hotel & Convention Center\n",
            "10 : Welcomhotel Bengaluru\n"
          ],
          "name": "stdout"
        }
      ]
    },
    {
      "cell_type": "code",
      "metadata": {
        "id": "odXrpBham8hb",
        "outputId": "a129b5eb-4e8c-4719-856b-3f918f38d642",
        "colab": {
          "base_uri": "https://localhost:8080/",
          "height": 420
        }
      },
      "source": [
        "df.set_index(['Hotel_id', 'User_id', 'Rating'], append=True)\n"
      ],
      "execution_count": 62,
      "outputs": [
        {
          "output_type": "execute_result",
          "data": {
            "text/html": [
              "<div>\n",
              "<style scoped>\n",
              "    .dataframe tbody tr th:only-of-type {\n",
              "        vertical-align: middle;\n",
              "    }\n",
              "\n",
              "    .dataframe tbody tr th {\n",
              "        vertical-align: top;\n",
              "    }\n",
              "\n",
              "    .dataframe thead th {\n",
              "        text-align: right;\n",
              "    }\n",
              "</style>\n",
              "<table border=\"1\" class=\"dataframe\">\n",
              "  <thead>\n",
              "    <tr style=\"text-align: right;\">\n",
              "      <th></th>\n",
              "      <th></th>\n",
              "      <th></th>\n",
              "      <th></th>\n",
              "      <th>City</th>\n",
              "      <th>Hotel</th>\n",
              "      <th>Hotel_Type</th>\n",
              "      <th>Price</th>\n",
              "    </tr>\n",
              "    <tr>\n",
              "      <th></th>\n",
              "      <th>Hotel_id</th>\n",
              "      <th>User_id</th>\n",
              "      <th>Rating</th>\n",
              "      <th></th>\n",
              "      <th></th>\n",
              "      <th></th>\n",
              "      <th></th>\n",
              "    </tr>\n",
              "  </thead>\n",
              "  <tbody>\n",
              "    <tr>\n",
              "      <th>0</th>\n",
              "      <th>0</th>\n",
              "      <th>15400</th>\n",
              "      <th>1.0</th>\n",
              "      <td>Beaumont</td>\n",
              "      <td>La Quinta</td>\n",
              "      <td>2.0</td>\n",
              "      <td>Rs.8989</td>\n",
              "    </tr>\n",
              "    <tr>\n",
              "      <th>1</th>\n",
              "      <th>2</th>\n",
              "      <th>17618</th>\n",
              "      <th>2.0</th>\n",
              "      <td>Seattle</td>\n",
              "      <td>Inn At Queen Anne</td>\n",
              "      <td>2.0</td>\n",
              "      <td>Rs.8457</td>\n",
              "    </tr>\n",
              "    <tr>\n",
              "      <th>2</th>\n",
              "      <th>2</th>\n",
              "      <th>17602</th>\n",
              "      <th>4.0</th>\n",
              "      <td>Seattle</td>\n",
              "      <td>Inn At Queen Anne</td>\n",
              "      <td>2.0</td>\n",
              "      <td>Rs.8457</td>\n",
              "    </tr>\n",
              "    <tr>\n",
              "      <th>3</th>\n",
              "      <th>2</th>\n",
              "      <th>17601</th>\n",
              "      <th>4.0</th>\n",
              "      <td>Seattle</td>\n",
              "      <td>Inn At Queen Anne</td>\n",
              "      <td>2.0</td>\n",
              "      <td>Rs.8457</td>\n",
              "    </tr>\n",
              "    <tr>\n",
              "      <th>4</th>\n",
              "      <th>2</th>\n",
              "      <th>17600</th>\n",
              "      <th>1.0</th>\n",
              "      <td>Seattle</td>\n",
              "      <td>Inn At Queen Anne</td>\n",
              "      <td>2.0</td>\n",
              "      <td>Rs.8457</td>\n",
              "    </tr>\n",
              "    <tr>\n",
              "      <th>...</th>\n",
              "      <th>...</th>\n",
              "      <th>...</th>\n",
              "      <th>...</th>\n",
              "      <td>...</td>\n",
              "      <td>...</td>\n",
              "      <td>...</td>\n",
              "      <td>...</td>\n",
              "    </tr>\n",
              "    <tr>\n",
              "      <th>21765</th>\n",
              "      <th>3128</th>\n",
              "      <th>10476</th>\n",
              "      <th>1.0</th>\n",
              "      <td>Honolulu</td>\n",
              "      <td>Polynesian Plaza</td>\n",
              "      <td>2.0</td>\n",
              "      <td>Rs.17718</td>\n",
              "    </tr>\n",
              "    <tr>\n",
              "      <th>21766</th>\n",
              "      <th>3128</th>\n",
              "      <th>10490</th>\n",
              "      <th>1.0</th>\n",
              "      <td>Honolulu</td>\n",
              "      <td>Polynesian Plaza</td>\n",
              "      <td>2.0</td>\n",
              "      <td>Rs.17718</td>\n",
              "    </tr>\n",
              "    <tr>\n",
              "      <th>21767</th>\n",
              "      <th>3128</th>\n",
              "      <th>10799</th>\n",
              "      <th>3.0</th>\n",
              "      <td>Honolulu</td>\n",
              "      <td>Polynesian Plaza</td>\n",
              "      <td>2.0</td>\n",
              "      <td>Rs.17718</td>\n",
              "    </tr>\n",
              "    <tr>\n",
              "      <th>21768</th>\n",
              "      <th>3128</th>\n",
              "      <th>11901</th>\n",
              "      <th>4.0</th>\n",
              "      <td>Honolulu</td>\n",
              "      <td>Polynesian Plaza</td>\n",
              "      <td>2.0</td>\n",
              "      <td>Rs.17718</td>\n",
              "    </tr>\n",
              "    <tr>\n",
              "      <th>21769</th>\n",
              "      <th>3128</th>\n",
              "      <th>13911</th>\n",
              "      <th>2.0</th>\n",
              "      <td>Honolulu</td>\n",
              "      <td>Polynesian Plaza</td>\n",
              "      <td>2.0</td>\n",
              "      <td>Rs.17718</td>\n",
              "    </tr>\n",
              "  </tbody>\n",
              "</table>\n",
              "<p>21770 rows × 4 columns</p>\n",
              "</div>"
            ],
            "text/plain": [
              "                                   City  ...       Price\n",
              "      Hotel_id User_id Rating            ...            \n",
              "0     0        15400   1.0     Beaumont  ...     Rs.8989\n",
              "1     2        17618   2.0      Seattle  ...     Rs.8457\n",
              "2     2        17602   4.0      Seattle  ...     Rs.8457\n",
              "3     2        17601   4.0      Seattle  ...     Rs.8457\n",
              "4     2        17600   1.0      Seattle  ...     Rs.8457\n",
              "...                                 ...  ...         ...\n",
              "21765 3128     10476   1.0     Honolulu  ...   Rs.17718 \n",
              "21766 3128     10490   1.0     Honolulu  ...   Rs.17718 \n",
              "21767 3128     10799   3.0     Honolulu  ...   Rs.17718 \n",
              "21768 3128     11901   4.0     Honolulu  ...   Rs.17718 \n",
              "21769 3128     13911   2.0     Honolulu  ...   Rs.17718 \n",
              "\n",
              "[21770 rows x 4 columns]"
            ]
          },
          "metadata": {
            "tags": []
          },
          "execution_count": 62
        }
      ]
    },
    {
      "cell_type": "markdown",
      "metadata": {
        "id": "m9bdTciebfbf"
      },
      "source": [
        "**3. Item-Item Collaborative Filtering**\n",
        "\n",
        "In this filtering, the similarity between each item pair was computed and based on that, similar items were recommended which are liked by the users in the past. The weighted sum of ratings of “item-users” were taken.\n",
        "\n",
        "This collaborative filtering is useful when the number of users is more than the items being recommended."
      ]
    },
    {
      "cell_type": "code",
      "metadata": {
        "id": "icH6-1ehI5u8",
        "outputId": "454e9fe0-e4b2-497c-e2a3-dab49c9462c4",
        "colab": {
          "base_uri": "https://localhost:8080/",
          "height": 411
        }
      },
      "source": [
        "ratingsd=df.pivot(index='Hotel_id',columns= 'User_id',values='Rating').fillna(0)\n",
        "ratingsd.head(10)"
      ],
      "execution_count": 63,
      "outputs": [
        {
          "output_type": "execute_result",
          "data": {
            "text/html": [
              "<div>\n",
              "<style scoped>\n",
              "    .dataframe tbody tr th:only-of-type {\n",
              "        vertical-align: middle;\n",
              "    }\n",
              "\n",
              "    .dataframe tbody tr th {\n",
              "        vertical-align: top;\n",
              "    }\n",
              "\n",
              "    .dataframe thead th {\n",
              "        text-align: right;\n",
              "    }\n",
              "</style>\n",
              "<table border=\"1\" class=\"dataframe\">\n",
              "  <thead>\n",
              "    <tr style=\"text-align: right;\">\n",
              "      <th>User_id</th>\n",
              "      <th>0</th>\n",
              "      <th>1</th>\n",
              "      <th>2</th>\n",
              "      <th>3</th>\n",
              "      <th>4</th>\n",
              "      <th>5</th>\n",
              "      <th>6</th>\n",
              "      <th>7</th>\n",
              "      <th>8</th>\n",
              "      <th>9</th>\n",
              "      <th>10</th>\n",
              "      <th>11</th>\n",
              "      <th>12</th>\n",
              "      <th>13</th>\n",
              "      <th>14</th>\n",
              "      <th>15</th>\n",
              "      <th>16</th>\n",
              "      <th>17</th>\n",
              "      <th>18</th>\n",
              "      <th>19</th>\n",
              "      <th>20</th>\n",
              "      <th>21</th>\n",
              "      <th>22</th>\n",
              "      <th>23</th>\n",
              "      <th>24</th>\n",
              "      <th>25</th>\n",
              "      <th>26</th>\n",
              "      <th>27</th>\n",
              "      <th>28</th>\n",
              "      <th>29</th>\n",
              "      <th>30</th>\n",
              "      <th>31</th>\n",
              "      <th>32</th>\n",
              "      <th>33</th>\n",
              "      <th>34</th>\n",
              "      <th>35</th>\n",
              "      <th>36</th>\n",
              "      <th>37</th>\n",
              "      <th>38</th>\n",
              "      <th>39</th>\n",
              "      <th>...</th>\n",
              "      <th>17722</th>\n",
              "      <th>17723</th>\n",
              "      <th>17724</th>\n",
              "      <th>17725</th>\n",
              "      <th>17726</th>\n",
              "      <th>17727</th>\n",
              "      <th>17728</th>\n",
              "      <th>17729</th>\n",
              "      <th>17730</th>\n",
              "      <th>17731</th>\n",
              "      <th>17732</th>\n",
              "      <th>17733</th>\n",
              "      <th>17734</th>\n",
              "      <th>17735</th>\n",
              "      <th>17736</th>\n",
              "      <th>17737</th>\n",
              "      <th>17739</th>\n",
              "      <th>17740</th>\n",
              "      <th>17741</th>\n",
              "      <th>17742</th>\n",
              "      <th>17743</th>\n",
              "      <th>17746</th>\n",
              "      <th>17747</th>\n",
              "      <th>17748</th>\n",
              "      <th>17749</th>\n",
              "      <th>17750</th>\n",
              "      <th>17751</th>\n",
              "      <th>17752</th>\n",
              "      <th>17753</th>\n",
              "      <th>17754</th>\n",
              "      <th>17755</th>\n",
              "      <th>17756</th>\n",
              "      <th>17757</th>\n",
              "      <th>17758</th>\n",
              "      <th>17759</th>\n",
              "      <th>17760</th>\n",
              "      <th>17761</th>\n",
              "      <th>17762</th>\n",
              "      <th>17763</th>\n",
              "      <th>17764</th>\n",
              "    </tr>\n",
              "    <tr>\n",
              "      <th>Hotel_id</th>\n",
              "      <th></th>\n",
              "      <th></th>\n",
              "      <th></th>\n",
              "      <th></th>\n",
              "      <th></th>\n",
              "      <th></th>\n",
              "      <th></th>\n",
              "      <th></th>\n",
              "      <th></th>\n",
              "      <th></th>\n",
              "      <th></th>\n",
              "      <th></th>\n",
              "      <th></th>\n",
              "      <th></th>\n",
              "      <th></th>\n",
              "      <th></th>\n",
              "      <th></th>\n",
              "      <th></th>\n",
              "      <th></th>\n",
              "      <th></th>\n",
              "      <th></th>\n",
              "      <th></th>\n",
              "      <th></th>\n",
              "      <th></th>\n",
              "      <th></th>\n",
              "      <th></th>\n",
              "      <th></th>\n",
              "      <th></th>\n",
              "      <th></th>\n",
              "      <th></th>\n",
              "      <th></th>\n",
              "      <th></th>\n",
              "      <th></th>\n",
              "      <th></th>\n",
              "      <th></th>\n",
              "      <th></th>\n",
              "      <th></th>\n",
              "      <th></th>\n",
              "      <th></th>\n",
              "      <th></th>\n",
              "      <th></th>\n",
              "      <th></th>\n",
              "      <th></th>\n",
              "      <th></th>\n",
              "      <th></th>\n",
              "      <th></th>\n",
              "      <th></th>\n",
              "      <th></th>\n",
              "      <th></th>\n",
              "      <th></th>\n",
              "      <th></th>\n",
              "      <th></th>\n",
              "      <th></th>\n",
              "      <th></th>\n",
              "      <th></th>\n",
              "      <th></th>\n",
              "      <th></th>\n",
              "      <th></th>\n",
              "      <th></th>\n",
              "      <th></th>\n",
              "      <th></th>\n",
              "      <th></th>\n",
              "      <th></th>\n",
              "      <th></th>\n",
              "      <th></th>\n",
              "      <th></th>\n",
              "      <th></th>\n",
              "      <th></th>\n",
              "      <th></th>\n",
              "      <th></th>\n",
              "      <th></th>\n",
              "      <th></th>\n",
              "      <th></th>\n",
              "      <th></th>\n",
              "      <th></th>\n",
              "      <th></th>\n",
              "      <th></th>\n",
              "      <th></th>\n",
              "      <th></th>\n",
              "      <th></th>\n",
              "      <th></th>\n",
              "    </tr>\n",
              "  </thead>\n",
              "  <tbody>\n",
              "    <tr>\n",
              "      <th>0</th>\n",
              "      <td>0.0</td>\n",
              "      <td>0.0</td>\n",
              "      <td>0.0</td>\n",
              "      <td>0.0</td>\n",
              "      <td>0.0</td>\n",
              "      <td>0.0</td>\n",
              "      <td>0.0</td>\n",
              "      <td>0.0</td>\n",
              "      <td>0.0</td>\n",
              "      <td>0.0</td>\n",
              "      <td>0.0</td>\n",
              "      <td>0.0</td>\n",
              "      <td>0.0</td>\n",
              "      <td>0.0</td>\n",
              "      <td>0.0</td>\n",
              "      <td>0.0</td>\n",
              "      <td>0.0</td>\n",
              "      <td>0.0</td>\n",
              "      <td>0.0</td>\n",
              "      <td>0.0</td>\n",
              "      <td>0.0</td>\n",
              "      <td>0.0</td>\n",
              "      <td>0.0</td>\n",
              "      <td>0.0</td>\n",
              "      <td>0.0</td>\n",
              "      <td>0.0</td>\n",
              "      <td>0.0</td>\n",
              "      <td>0.0</td>\n",
              "      <td>0.0</td>\n",
              "      <td>0.0</td>\n",
              "      <td>0.0</td>\n",
              "      <td>0.0</td>\n",
              "      <td>0.0</td>\n",
              "      <td>0.0</td>\n",
              "      <td>0.0</td>\n",
              "      <td>0.0</td>\n",
              "      <td>0.0</td>\n",
              "      <td>0.0</td>\n",
              "      <td>0.0</td>\n",
              "      <td>0.0</td>\n",
              "      <td>...</td>\n",
              "      <td>0.0</td>\n",
              "      <td>0.0</td>\n",
              "      <td>0.0</td>\n",
              "      <td>0.0</td>\n",
              "      <td>0.0</td>\n",
              "      <td>0.0</td>\n",
              "      <td>0.0</td>\n",
              "      <td>0.0</td>\n",
              "      <td>0.0</td>\n",
              "      <td>0.0</td>\n",
              "      <td>0.0</td>\n",
              "      <td>0.0</td>\n",
              "      <td>0.0</td>\n",
              "      <td>0.0</td>\n",
              "      <td>0.0</td>\n",
              "      <td>0.0</td>\n",
              "      <td>0.0</td>\n",
              "      <td>0.0</td>\n",
              "      <td>0.0</td>\n",
              "      <td>0.0</td>\n",
              "      <td>0.0</td>\n",
              "      <td>0.0</td>\n",
              "      <td>0.0</td>\n",
              "      <td>0.0</td>\n",
              "      <td>0.0</td>\n",
              "      <td>0.0</td>\n",
              "      <td>0.0</td>\n",
              "      <td>0.0</td>\n",
              "      <td>0.0</td>\n",
              "      <td>0.0</td>\n",
              "      <td>0.0</td>\n",
              "      <td>0.0</td>\n",
              "      <td>0.0</td>\n",
              "      <td>0.0</td>\n",
              "      <td>0.0</td>\n",
              "      <td>0.0</td>\n",
              "      <td>0.0</td>\n",
              "      <td>0.0</td>\n",
              "      <td>0.0</td>\n",
              "      <td>0.0</td>\n",
              "    </tr>\n",
              "    <tr>\n",
              "      <th>2</th>\n",
              "      <td>0.0</td>\n",
              "      <td>0.0</td>\n",
              "      <td>0.0</td>\n",
              "      <td>0.0</td>\n",
              "      <td>0.0</td>\n",
              "      <td>0.0</td>\n",
              "      <td>0.0</td>\n",
              "      <td>0.0</td>\n",
              "      <td>0.0</td>\n",
              "      <td>0.0</td>\n",
              "      <td>0.0</td>\n",
              "      <td>0.0</td>\n",
              "      <td>0.0</td>\n",
              "      <td>0.0</td>\n",
              "      <td>0.0</td>\n",
              "      <td>0.0</td>\n",
              "      <td>0.0</td>\n",
              "      <td>0.0</td>\n",
              "      <td>0.0</td>\n",
              "      <td>0.0</td>\n",
              "      <td>0.0</td>\n",
              "      <td>0.0</td>\n",
              "      <td>0.0</td>\n",
              "      <td>0.0</td>\n",
              "      <td>0.0</td>\n",
              "      <td>0.0</td>\n",
              "      <td>0.0</td>\n",
              "      <td>0.0</td>\n",
              "      <td>0.0</td>\n",
              "      <td>0.0</td>\n",
              "      <td>0.0</td>\n",
              "      <td>0.0</td>\n",
              "      <td>0.0</td>\n",
              "      <td>0.0</td>\n",
              "      <td>0.0</td>\n",
              "      <td>0.0</td>\n",
              "      <td>0.0</td>\n",
              "      <td>0.0</td>\n",
              "      <td>0.0</td>\n",
              "      <td>0.0</td>\n",
              "      <td>...</td>\n",
              "      <td>0.0</td>\n",
              "      <td>0.0</td>\n",
              "      <td>0.0</td>\n",
              "      <td>0.0</td>\n",
              "      <td>0.0</td>\n",
              "      <td>0.0</td>\n",
              "      <td>0.0</td>\n",
              "      <td>0.0</td>\n",
              "      <td>0.0</td>\n",
              "      <td>0.0</td>\n",
              "      <td>0.0</td>\n",
              "      <td>0.0</td>\n",
              "      <td>0.0</td>\n",
              "      <td>0.0</td>\n",
              "      <td>0.0</td>\n",
              "      <td>0.0</td>\n",
              "      <td>0.0</td>\n",
              "      <td>0.0</td>\n",
              "      <td>0.0</td>\n",
              "      <td>0.0</td>\n",
              "      <td>0.0</td>\n",
              "      <td>0.0</td>\n",
              "      <td>0.0</td>\n",
              "      <td>0.0</td>\n",
              "      <td>0.0</td>\n",
              "      <td>0.0</td>\n",
              "      <td>0.0</td>\n",
              "      <td>0.0</td>\n",
              "      <td>0.0</td>\n",
              "      <td>0.0</td>\n",
              "      <td>0.0</td>\n",
              "      <td>0.0</td>\n",
              "      <td>0.0</td>\n",
              "      <td>0.0</td>\n",
              "      <td>0.0</td>\n",
              "      <td>0.0</td>\n",
              "      <td>0.0</td>\n",
              "      <td>0.0</td>\n",
              "      <td>0.0</td>\n",
              "      <td>0.0</td>\n",
              "    </tr>\n",
              "    <tr>\n",
              "      <th>3</th>\n",
              "      <td>0.0</td>\n",
              "      <td>0.0</td>\n",
              "      <td>0.0</td>\n",
              "      <td>0.0</td>\n",
              "      <td>0.0</td>\n",
              "      <td>0.0</td>\n",
              "      <td>0.0</td>\n",
              "      <td>0.0</td>\n",
              "      <td>0.0</td>\n",
              "      <td>0.0</td>\n",
              "      <td>0.0</td>\n",
              "      <td>0.0</td>\n",
              "      <td>0.0</td>\n",
              "      <td>0.0</td>\n",
              "      <td>0.0</td>\n",
              "      <td>0.0</td>\n",
              "      <td>0.0</td>\n",
              "      <td>0.0</td>\n",
              "      <td>0.0</td>\n",
              "      <td>0.0</td>\n",
              "      <td>0.0</td>\n",
              "      <td>0.0</td>\n",
              "      <td>0.0</td>\n",
              "      <td>0.0</td>\n",
              "      <td>0.0</td>\n",
              "      <td>0.0</td>\n",
              "      <td>0.0</td>\n",
              "      <td>0.0</td>\n",
              "      <td>0.0</td>\n",
              "      <td>0.0</td>\n",
              "      <td>0.0</td>\n",
              "      <td>0.0</td>\n",
              "      <td>0.0</td>\n",
              "      <td>0.0</td>\n",
              "      <td>0.0</td>\n",
              "      <td>0.0</td>\n",
              "      <td>0.0</td>\n",
              "      <td>0.0</td>\n",
              "      <td>0.0</td>\n",
              "      <td>0.0</td>\n",
              "      <td>...</td>\n",
              "      <td>0.0</td>\n",
              "      <td>0.0</td>\n",
              "      <td>0.0</td>\n",
              "      <td>0.0</td>\n",
              "      <td>0.0</td>\n",
              "      <td>0.0</td>\n",
              "      <td>0.0</td>\n",
              "      <td>0.0</td>\n",
              "      <td>0.0</td>\n",
              "      <td>0.0</td>\n",
              "      <td>0.0</td>\n",
              "      <td>0.0</td>\n",
              "      <td>0.0</td>\n",
              "      <td>0.0</td>\n",
              "      <td>0.0</td>\n",
              "      <td>0.0</td>\n",
              "      <td>0.0</td>\n",
              "      <td>0.0</td>\n",
              "      <td>0.0</td>\n",
              "      <td>0.0</td>\n",
              "      <td>0.0</td>\n",
              "      <td>0.0</td>\n",
              "      <td>0.0</td>\n",
              "      <td>0.0</td>\n",
              "      <td>0.0</td>\n",
              "      <td>0.0</td>\n",
              "      <td>0.0</td>\n",
              "      <td>0.0</td>\n",
              "      <td>0.0</td>\n",
              "      <td>0.0</td>\n",
              "      <td>0.0</td>\n",
              "      <td>0.0</td>\n",
              "      <td>0.0</td>\n",
              "      <td>0.0</td>\n",
              "      <td>0.0</td>\n",
              "      <td>0.0</td>\n",
              "      <td>0.0</td>\n",
              "      <td>0.0</td>\n",
              "      <td>0.0</td>\n",
              "      <td>0.0</td>\n",
              "    </tr>\n",
              "    <tr>\n",
              "      <th>4</th>\n",
              "      <td>0.0</td>\n",
              "      <td>0.0</td>\n",
              "      <td>0.0</td>\n",
              "      <td>0.0</td>\n",
              "      <td>0.0</td>\n",
              "      <td>0.0</td>\n",
              "      <td>0.0</td>\n",
              "      <td>0.0</td>\n",
              "      <td>0.0</td>\n",
              "      <td>0.0</td>\n",
              "      <td>0.0</td>\n",
              "      <td>0.0</td>\n",
              "      <td>0.0</td>\n",
              "      <td>0.0</td>\n",
              "      <td>0.0</td>\n",
              "      <td>0.0</td>\n",
              "      <td>0.0</td>\n",
              "      <td>0.0</td>\n",
              "      <td>0.0</td>\n",
              "      <td>0.0</td>\n",
              "      <td>0.0</td>\n",
              "      <td>0.0</td>\n",
              "      <td>0.0</td>\n",
              "      <td>0.0</td>\n",
              "      <td>0.0</td>\n",
              "      <td>0.0</td>\n",
              "      <td>0.0</td>\n",
              "      <td>0.0</td>\n",
              "      <td>0.0</td>\n",
              "      <td>0.0</td>\n",
              "      <td>0.0</td>\n",
              "      <td>0.0</td>\n",
              "      <td>0.0</td>\n",
              "      <td>0.0</td>\n",
              "      <td>0.0</td>\n",
              "      <td>0.0</td>\n",
              "      <td>0.0</td>\n",
              "      <td>0.0</td>\n",
              "      <td>0.0</td>\n",
              "      <td>0.0</td>\n",
              "      <td>...</td>\n",
              "      <td>0.0</td>\n",
              "      <td>0.0</td>\n",
              "      <td>0.0</td>\n",
              "      <td>0.0</td>\n",
              "      <td>0.0</td>\n",
              "      <td>0.0</td>\n",
              "      <td>0.0</td>\n",
              "      <td>0.0</td>\n",
              "      <td>0.0</td>\n",
              "      <td>0.0</td>\n",
              "      <td>0.0</td>\n",
              "      <td>0.0</td>\n",
              "      <td>0.0</td>\n",
              "      <td>0.0</td>\n",
              "      <td>0.0</td>\n",
              "      <td>0.0</td>\n",
              "      <td>0.0</td>\n",
              "      <td>0.0</td>\n",
              "      <td>0.0</td>\n",
              "      <td>0.0</td>\n",
              "      <td>0.0</td>\n",
              "      <td>0.0</td>\n",
              "      <td>0.0</td>\n",
              "      <td>0.0</td>\n",
              "      <td>0.0</td>\n",
              "      <td>0.0</td>\n",
              "      <td>0.0</td>\n",
              "      <td>0.0</td>\n",
              "      <td>0.0</td>\n",
              "      <td>0.0</td>\n",
              "      <td>0.0</td>\n",
              "      <td>0.0</td>\n",
              "      <td>0.0</td>\n",
              "      <td>0.0</td>\n",
              "      <td>0.0</td>\n",
              "      <td>0.0</td>\n",
              "      <td>0.0</td>\n",
              "      <td>0.0</td>\n",
              "      <td>0.0</td>\n",
              "      <td>0.0</td>\n",
              "    </tr>\n",
              "    <tr>\n",
              "      <th>5</th>\n",
              "      <td>0.0</td>\n",
              "      <td>0.0</td>\n",
              "      <td>0.0</td>\n",
              "      <td>0.0</td>\n",
              "      <td>0.0</td>\n",
              "      <td>0.0</td>\n",
              "      <td>0.0</td>\n",
              "      <td>0.0</td>\n",
              "      <td>0.0</td>\n",
              "      <td>0.0</td>\n",
              "      <td>0.0</td>\n",
              "      <td>0.0</td>\n",
              "      <td>0.0</td>\n",
              "      <td>0.0</td>\n",
              "      <td>0.0</td>\n",
              "      <td>0.0</td>\n",
              "      <td>0.0</td>\n",
              "      <td>0.0</td>\n",
              "      <td>0.0</td>\n",
              "      <td>0.0</td>\n",
              "      <td>0.0</td>\n",
              "      <td>0.0</td>\n",
              "      <td>0.0</td>\n",
              "      <td>0.0</td>\n",
              "      <td>0.0</td>\n",
              "      <td>0.0</td>\n",
              "      <td>0.0</td>\n",
              "      <td>0.0</td>\n",
              "      <td>0.0</td>\n",
              "      <td>0.0</td>\n",
              "      <td>0.0</td>\n",
              "      <td>0.0</td>\n",
              "      <td>0.0</td>\n",
              "      <td>0.0</td>\n",
              "      <td>0.0</td>\n",
              "      <td>0.0</td>\n",
              "      <td>0.0</td>\n",
              "      <td>0.0</td>\n",
              "      <td>0.0</td>\n",
              "      <td>0.0</td>\n",
              "      <td>...</td>\n",
              "      <td>0.0</td>\n",
              "      <td>0.0</td>\n",
              "      <td>0.0</td>\n",
              "      <td>0.0</td>\n",
              "      <td>0.0</td>\n",
              "      <td>0.0</td>\n",
              "      <td>0.0</td>\n",
              "      <td>0.0</td>\n",
              "      <td>0.0</td>\n",
              "      <td>0.0</td>\n",
              "      <td>0.0</td>\n",
              "      <td>0.0</td>\n",
              "      <td>0.0</td>\n",
              "      <td>0.0</td>\n",
              "      <td>0.0</td>\n",
              "      <td>0.0</td>\n",
              "      <td>0.0</td>\n",
              "      <td>0.0</td>\n",
              "      <td>0.0</td>\n",
              "      <td>0.0</td>\n",
              "      <td>0.0</td>\n",
              "      <td>0.0</td>\n",
              "      <td>0.0</td>\n",
              "      <td>0.0</td>\n",
              "      <td>0.0</td>\n",
              "      <td>0.0</td>\n",
              "      <td>0.0</td>\n",
              "      <td>0.0</td>\n",
              "      <td>0.0</td>\n",
              "      <td>0.0</td>\n",
              "      <td>0.0</td>\n",
              "      <td>0.0</td>\n",
              "      <td>0.0</td>\n",
              "      <td>0.0</td>\n",
              "      <td>0.0</td>\n",
              "      <td>0.0</td>\n",
              "      <td>0.0</td>\n",
              "      <td>0.0</td>\n",
              "      <td>0.0</td>\n",
              "      <td>0.0</td>\n",
              "    </tr>\n",
              "    <tr>\n",
              "      <th>6</th>\n",
              "      <td>0.0</td>\n",
              "      <td>0.0</td>\n",
              "      <td>0.0</td>\n",
              "      <td>0.0</td>\n",
              "      <td>0.0</td>\n",
              "      <td>0.0</td>\n",
              "      <td>0.0</td>\n",
              "      <td>0.0</td>\n",
              "      <td>0.0</td>\n",
              "      <td>0.0</td>\n",
              "      <td>0.0</td>\n",
              "      <td>0.0</td>\n",
              "      <td>0.0</td>\n",
              "      <td>0.0</td>\n",
              "      <td>0.0</td>\n",
              "      <td>0.0</td>\n",
              "      <td>0.0</td>\n",
              "      <td>0.0</td>\n",
              "      <td>0.0</td>\n",
              "      <td>0.0</td>\n",
              "      <td>0.0</td>\n",
              "      <td>0.0</td>\n",
              "      <td>0.0</td>\n",
              "      <td>0.0</td>\n",
              "      <td>0.0</td>\n",
              "      <td>0.0</td>\n",
              "      <td>0.0</td>\n",
              "      <td>0.0</td>\n",
              "      <td>0.0</td>\n",
              "      <td>0.0</td>\n",
              "      <td>0.0</td>\n",
              "      <td>0.0</td>\n",
              "      <td>0.0</td>\n",
              "      <td>0.0</td>\n",
              "      <td>0.0</td>\n",
              "      <td>0.0</td>\n",
              "      <td>0.0</td>\n",
              "      <td>0.0</td>\n",
              "      <td>0.0</td>\n",
              "      <td>0.0</td>\n",
              "      <td>...</td>\n",
              "      <td>0.0</td>\n",
              "      <td>0.0</td>\n",
              "      <td>0.0</td>\n",
              "      <td>0.0</td>\n",
              "      <td>0.0</td>\n",
              "      <td>0.0</td>\n",
              "      <td>0.0</td>\n",
              "      <td>0.0</td>\n",
              "      <td>0.0</td>\n",
              "      <td>0.0</td>\n",
              "      <td>0.0</td>\n",
              "      <td>0.0</td>\n",
              "      <td>0.0</td>\n",
              "      <td>0.0</td>\n",
              "      <td>0.0</td>\n",
              "      <td>0.0</td>\n",
              "      <td>0.0</td>\n",
              "      <td>0.0</td>\n",
              "      <td>0.0</td>\n",
              "      <td>0.0</td>\n",
              "      <td>0.0</td>\n",
              "      <td>0.0</td>\n",
              "      <td>0.0</td>\n",
              "      <td>0.0</td>\n",
              "      <td>0.0</td>\n",
              "      <td>0.0</td>\n",
              "      <td>0.0</td>\n",
              "      <td>0.0</td>\n",
              "      <td>0.0</td>\n",
              "      <td>0.0</td>\n",
              "      <td>0.0</td>\n",
              "      <td>0.0</td>\n",
              "      <td>0.0</td>\n",
              "      <td>0.0</td>\n",
              "      <td>0.0</td>\n",
              "      <td>0.0</td>\n",
              "      <td>0.0</td>\n",
              "      <td>0.0</td>\n",
              "      <td>0.0</td>\n",
              "      <td>0.0</td>\n",
              "    </tr>\n",
              "    <tr>\n",
              "      <th>7</th>\n",
              "      <td>0.0</td>\n",
              "      <td>0.0</td>\n",
              "      <td>0.0</td>\n",
              "      <td>0.0</td>\n",
              "      <td>0.0</td>\n",
              "      <td>0.0</td>\n",
              "      <td>0.0</td>\n",
              "      <td>0.0</td>\n",
              "      <td>0.0</td>\n",
              "      <td>0.0</td>\n",
              "      <td>0.0</td>\n",
              "      <td>0.0</td>\n",
              "      <td>0.0</td>\n",
              "      <td>0.0</td>\n",
              "      <td>0.0</td>\n",
              "      <td>0.0</td>\n",
              "      <td>0.0</td>\n",
              "      <td>0.0</td>\n",
              "      <td>0.0</td>\n",
              "      <td>0.0</td>\n",
              "      <td>0.0</td>\n",
              "      <td>0.0</td>\n",
              "      <td>0.0</td>\n",
              "      <td>0.0</td>\n",
              "      <td>0.0</td>\n",
              "      <td>0.0</td>\n",
              "      <td>0.0</td>\n",
              "      <td>0.0</td>\n",
              "      <td>0.0</td>\n",
              "      <td>0.0</td>\n",
              "      <td>0.0</td>\n",
              "      <td>0.0</td>\n",
              "      <td>0.0</td>\n",
              "      <td>0.0</td>\n",
              "      <td>0.0</td>\n",
              "      <td>0.0</td>\n",
              "      <td>0.0</td>\n",
              "      <td>0.0</td>\n",
              "      <td>0.0</td>\n",
              "      <td>0.0</td>\n",
              "      <td>...</td>\n",
              "      <td>0.0</td>\n",
              "      <td>0.0</td>\n",
              "      <td>0.0</td>\n",
              "      <td>0.0</td>\n",
              "      <td>0.0</td>\n",
              "      <td>0.0</td>\n",
              "      <td>0.0</td>\n",
              "      <td>0.0</td>\n",
              "      <td>0.0</td>\n",
              "      <td>0.0</td>\n",
              "      <td>0.0</td>\n",
              "      <td>0.0</td>\n",
              "      <td>0.0</td>\n",
              "      <td>0.0</td>\n",
              "      <td>0.0</td>\n",
              "      <td>0.0</td>\n",
              "      <td>0.0</td>\n",
              "      <td>0.0</td>\n",
              "      <td>0.0</td>\n",
              "      <td>0.0</td>\n",
              "      <td>0.0</td>\n",
              "      <td>0.0</td>\n",
              "      <td>0.0</td>\n",
              "      <td>0.0</td>\n",
              "      <td>0.0</td>\n",
              "      <td>0.0</td>\n",
              "      <td>0.0</td>\n",
              "      <td>0.0</td>\n",
              "      <td>0.0</td>\n",
              "      <td>0.0</td>\n",
              "      <td>0.0</td>\n",
              "      <td>0.0</td>\n",
              "      <td>0.0</td>\n",
              "      <td>0.0</td>\n",
              "      <td>0.0</td>\n",
              "      <td>0.0</td>\n",
              "      <td>0.0</td>\n",
              "      <td>0.0</td>\n",
              "      <td>0.0</td>\n",
              "      <td>0.0</td>\n",
              "    </tr>\n",
              "    <tr>\n",
              "      <th>8</th>\n",
              "      <td>0.0</td>\n",
              "      <td>0.0</td>\n",
              "      <td>0.0</td>\n",
              "      <td>0.0</td>\n",
              "      <td>0.0</td>\n",
              "      <td>0.0</td>\n",
              "      <td>0.0</td>\n",
              "      <td>0.0</td>\n",
              "      <td>0.0</td>\n",
              "      <td>0.0</td>\n",
              "      <td>0.0</td>\n",
              "      <td>0.0</td>\n",
              "      <td>0.0</td>\n",
              "      <td>0.0</td>\n",
              "      <td>0.0</td>\n",
              "      <td>0.0</td>\n",
              "      <td>0.0</td>\n",
              "      <td>0.0</td>\n",
              "      <td>0.0</td>\n",
              "      <td>0.0</td>\n",
              "      <td>0.0</td>\n",
              "      <td>0.0</td>\n",
              "      <td>0.0</td>\n",
              "      <td>0.0</td>\n",
              "      <td>0.0</td>\n",
              "      <td>0.0</td>\n",
              "      <td>0.0</td>\n",
              "      <td>0.0</td>\n",
              "      <td>0.0</td>\n",
              "      <td>0.0</td>\n",
              "      <td>0.0</td>\n",
              "      <td>0.0</td>\n",
              "      <td>0.0</td>\n",
              "      <td>0.0</td>\n",
              "      <td>0.0</td>\n",
              "      <td>0.0</td>\n",
              "      <td>0.0</td>\n",
              "      <td>0.0</td>\n",
              "      <td>0.0</td>\n",
              "      <td>0.0</td>\n",
              "      <td>...</td>\n",
              "      <td>0.0</td>\n",
              "      <td>0.0</td>\n",
              "      <td>0.0</td>\n",
              "      <td>0.0</td>\n",
              "      <td>0.0</td>\n",
              "      <td>0.0</td>\n",
              "      <td>0.0</td>\n",
              "      <td>0.0</td>\n",
              "      <td>0.0</td>\n",
              "      <td>0.0</td>\n",
              "      <td>0.0</td>\n",
              "      <td>0.0</td>\n",
              "      <td>0.0</td>\n",
              "      <td>0.0</td>\n",
              "      <td>0.0</td>\n",
              "      <td>0.0</td>\n",
              "      <td>0.0</td>\n",
              "      <td>0.0</td>\n",
              "      <td>0.0</td>\n",
              "      <td>0.0</td>\n",
              "      <td>0.0</td>\n",
              "      <td>0.0</td>\n",
              "      <td>0.0</td>\n",
              "      <td>0.0</td>\n",
              "      <td>0.0</td>\n",
              "      <td>0.0</td>\n",
              "      <td>0.0</td>\n",
              "      <td>0.0</td>\n",
              "      <td>0.0</td>\n",
              "      <td>0.0</td>\n",
              "      <td>0.0</td>\n",
              "      <td>0.0</td>\n",
              "      <td>0.0</td>\n",
              "      <td>0.0</td>\n",
              "      <td>0.0</td>\n",
              "      <td>0.0</td>\n",
              "      <td>0.0</td>\n",
              "      <td>0.0</td>\n",
              "      <td>0.0</td>\n",
              "      <td>0.0</td>\n",
              "    </tr>\n",
              "    <tr>\n",
              "      <th>9</th>\n",
              "      <td>0.0</td>\n",
              "      <td>0.0</td>\n",
              "      <td>0.0</td>\n",
              "      <td>0.0</td>\n",
              "      <td>0.0</td>\n",
              "      <td>0.0</td>\n",
              "      <td>0.0</td>\n",
              "      <td>0.0</td>\n",
              "      <td>0.0</td>\n",
              "      <td>0.0</td>\n",
              "      <td>0.0</td>\n",
              "      <td>0.0</td>\n",
              "      <td>0.0</td>\n",
              "      <td>0.0</td>\n",
              "      <td>0.0</td>\n",
              "      <td>0.0</td>\n",
              "      <td>0.0</td>\n",
              "      <td>0.0</td>\n",
              "      <td>0.0</td>\n",
              "      <td>0.0</td>\n",
              "      <td>5.0</td>\n",
              "      <td>0.0</td>\n",
              "      <td>0.0</td>\n",
              "      <td>0.0</td>\n",
              "      <td>0.0</td>\n",
              "      <td>0.0</td>\n",
              "      <td>0.0</td>\n",
              "      <td>0.0</td>\n",
              "      <td>0.0</td>\n",
              "      <td>0.0</td>\n",
              "      <td>0.0</td>\n",
              "      <td>0.0</td>\n",
              "      <td>0.0</td>\n",
              "      <td>0.0</td>\n",
              "      <td>0.0</td>\n",
              "      <td>0.0</td>\n",
              "      <td>0.0</td>\n",
              "      <td>0.0</td>\n",
              "      <td>0.0</td>\n",
              "      <td>0.0</td>\n",
              "      <td>...</td>\n",
              "      <td>0.0</td>\n",
              "      <td>0.0</td>\n",
              "      <td>0.0</td>\n",
              "      <td>0.0</td>\n",
              "      <td>0.0</td>\n",
              "      <td>0.0</td>\n",
              "      <td>0.0</td>\n",
              "      <td>0.0</td>\n",
              "      <td>0.0</td>\n",
              "      <td>0.0</td>\n",
              "      <td>0.0</td>\n",
              "      <td>0.0</td>\n",
              "      <td>0.0</td>\n",
              "      <td>0.0</td>\n",
              "      <td>0.0</td>\n",
              "      <td>0.0</td>\n",
              "      <td>0.0</td>\n",
              "      <td>0.0</td>\n",
              "      <td>0.0</td>\n",
              "      <td>0.0</td>\n",
              "      <td>0.0</td>\n",
              "      <td>0.0</td>\n",
              "      <td>0.0</td>\n",
              "      <td>0.0</td>\n",
              "      <td>0.0</td>\n",
              "      <td>0.0</td>\n",
              "      <td>0.0</td>\n",
              "      <td>0.0</td>\n",
              "      <td>0.0</td>\n",
              "      <td>0.0</td>\n",
              "      <td>0.0</td>\n",
              "      <td>0.0</td>\n",
              "      <td>0.0</td>\n",
              "      <td>0.0</td>\n",
              "      <td>0.0</td>\n",
              "      <td>0.0</td>\n",
              "      <td>0.0</td>\n",
              "      <td>0.0</td>\n",
              "      <td>0.0</td>\n",
              "      <td>0.0</td>\n",
              "    </tr>\n",
              "    <tr>\n",
              "      <th>10</th>\n",
              "      <td>0.0</td>\n",
              "      <td>0.0</td>\n",
              "      <td>0.0</td>\n",
              "      <td>0.0</td>\n",
              "      <td>0.0</td>\n",
              "      <td>0.0</td>\n",
              "      <td>0.0</td>\n",
              "      <td>0.0</td>\n",
              "      <td>0.0</td>\n",
              "      <td>0.0</td>\n",
              "      <td>0.0</td>\n",
              "      <td>0.0</td>\n",
              "      <td>0.0</td>\n",
              "      <td>0.0</td>\n",
              "      <td>0.0</td>\n",
              "      <td>0.0</td>\n",
              "      <td>0.0</td>\n",
              "      <td>0.0</td>\n",
              "      <td>0.0</td>\n",
              "      <td>0.0</td>\n",
              "      <td>0.0</td>\n",
              "      <td>0.0</td>\n",
              "      <td>0.0</td>\n",
              "      <td>0.0</td>\n",
              "      <td>0.0</td>\n",
              "      <td>0.0</td>\n",
              "      <td>0.0</td>\n",
              "      <td>0.0</td>\n",
              "      <td>0.0</td>\n",
              "      <td>0.0</td>\n",
              "      <td>0.0</td>\n",
              "      <td>0.0</td>\n",
              "      <td>0.0</td>\n",
              "      <td>0.0</td>\n",
              "      <td>0.0</td>\n",
              "      <td>0.0</td>\n",
              "      <td>0.0</td>\n",
              "      <td>0.0</td>\n",
              "      <td>0.0</td>\n",
              "      <td>0.0</td>\n",
              "      <td>...</td>\n",
              "      <td>0.0</td>\n",
              "      <td>0.0</td>\n",
              "      <td>0.0</td>\n",
              "      <td>0.0</td>\n",
              "      <td>0.0</td>\n",
              "      <td>0.0</td>\n",
              "      <td>0.0</td>\n",
              "      <td>0.0</td>\n",
              "      <td>0.0</td>\n",
              "      <td>0.0</td>\n",
              "      <td>0.0</td>\n",
              "      <td>0.0</td>\n",
              "      <td>0.0</td>\n",
              "      <td>0.0</td>\n",
              "      <td>0.0</td>\n",
              "      <td>0.0</td>\n",
              "      <td>0.0</td>\n",
              "      <td>0.0</td>\n",
              "      <td>0.0</td>\n",
              "      <td>0.0</td>\n",
              "      <td>0.0</td>\n",
              "      <td>0.0</td>\n",
              "      <td>0.0</td>\n",
              "      <td>0.0</td>\n",
              "      <td>0.0</td>\n",
              "      <td>0.0</td>\n",
              "      <td>0.0</td>\n",
              "      <td>0.0</td>\n",
              "      <td>0.0</td>\n",
              "      <td>0.0</td>\n",
              "      <td>0.0</td>\n",
              "      <td>0.0</td>\n",
              "      <td>0.0</td>\n",
              "      <td>0.0</td>\n",
              "      <td>0.0</td>\n",
              "      <td>0.0</td>\n",
              "      <td>0.0</td>\n",
              "      <td>0.0</td>\n",
              "      <td>0.0</td>\n",
              "      <td>0.0</td>\n",
              "    </tr>\n",
              "  </tbody>\n",
              "</table>\n",
              "<p>10 rows × 16502 columns</p>\n",
              "</div>"
            ],
            "text/plain": [
              "User_id   0      1      2      3      4      ...  17760  17761  17762  17763  17764\n",
              "Hotel_id                                     ...                                   \n",
              "0           0.0    0.0    0.0    0.0    0.0  ...    0.0    0.0    0.0    0.0    0.0\n",
              "2           0.0    0.0    0.0    0.0    0.0  ...    0.0    0.0    0.0    0.0    0.0\n",
              "3           0.0    0.0    0.0    0.0    0.0  ...    0.0    0.0    0.0    0.0    0.0\n",
              "4           0.0    0.0    0.0    0.0    0.0  ...    0.0    0.0    0.0    0.0    0.0\n",
              "5           0.0    0.0    0.0    0.0    0.0  ...    0.0    0.0    0.0    0.0    0.0\n",
              "6           0.0    0.0    0.0    0.0    0.0  ...    0.0    0.0    0.0    0.0    0.0\n",
              "7           0.0    0.0    0.0    0.0    0.0  ...    0.0    0.0    0.0    0.0    0.0\n",
              "8           0.0    0.0    0.0    0.0    0.0  ...    0.0    0.0    0.0    0.0    0.0\n",
              "9           0.0    0.0    0.0    0.0    0.0  ...    0.0    0.0    0.0    0.0    0.0\n",
              "10          0.0    0.0    0.0    0.0    0.0  ...    0.0    0.0    0.0    0.0    0.0\n",
              "\n",
              "[10 rows x 16502 columns]"
            ]
          },
          "metadata": {
            "tags": []
          },
          "execution_count": 63
        }
      ]
    },
    {
      "cell_type": "code",
      "metadata": {
        "id": "PXXRP4ahJNQ4",
        "outputId": "e766cbac-7aad-48a3-a3bc-3184c2bb3089",
        "colab": {
          "base_uri": "https://localhost:8080/",
          "height": 33
        }
      },
      "source": [
        "ratingsd.shape\n"
      ],
      "execution_count": 64,
      "outputs": [
        {
          "output_type": "execute_result",
          "data": {
            "text/plain": [
              "(2422, 16502)"
            ]
          },
          "metadata": {
            "tags": []
          },
          "execution_count": 64
        }
      ]
    },
    {
      "cell_type": "markdown",
      "metadata": {
        "id": "MeiVnwkXbMTi"
      },
      "source": [
        "**Train-Test Split**"
      ]
    },
    {
      "cell_type": "code",
      "metadata": {
        "id": "_iX943nZJVXh"
      },
      "source": [
        "from sklearn.model_selection import train_test_split\n",
        "traind, testd = train_test_split(ratingsd, test_size=0.25,random_state=42)"
      ],
      "execution_count": 65,
      "outputs": []
    },
    {
      "cell_type": "code",
      "metadata": {
        "id": "4LNykPC5JYfb"
      },
      "source": [
        "train = traind.to_numpy()\n",
        "test = testd.to_numpy()"
      ],
      "execution_count": 66,
      "outputs": []
    },
    {
      "cell_type": "code",
      "metadata": {
        "id": "LtftZi5tJzbh",
        "outputId": "89649fca-7f73-43c1-9dc2-5a7bdc195abb",
        "colab": {
          "base_uri": "https://localhost:8080/",
          "height": 33
        }
      },
      "source": [
        "sparsity = float(len(train.nonzero()[0]))\n",
        "sparsity /= (train.shape[0] * train.shape[1])\n",
        "sparsity *= 100\n",
        "print ('Sparsity: {:5.2f}%'.format(sparsity))"
      ],
      "execution_count": 67,
      "outputs": [
        {
          "output_type": "stream",
          "text": [
            "Sparsity:  0.06%\n"
          ],
          "name": "stdout"
        }
      ]
    },
    {
      "cell_type": "code",
      "metadata": {
        "id": "98X49TZHLRpJ"
      },
      "source": [
        "def item_similarity(Rating, epsilon=1e-9):\n",
        "    # epsilon -> for handling dived-by-zero errors\n",
        "    sim = Rating.T.dot(Rating) + epsilon\n",
        "    norms = np.array([np.sqrt(np.diagonal(sim))])\n",
        "    return (sim / norms / norms.T)"
      ],
      "execution_count": 68,
      "outputs": []
    },
    {
      "cell_type": "code",
      "metadata": {
        "id": "lc_Ox9OTLkqP"
      },
      "source": [
        "item_sim = item_similarity(train)\n"
      ],
      "execution_count": 69,
      "outputs": []
    },
    {
      "cell_type": "code",
      "metadata": {
        "id": "1IfqjIedLnUu"
      },
      "source": [
        "def predict_item(ratings, similarity):\n",
        "    return ratings.dot(similarity) / np.array([np.abs(similarity).sum(axis=1)])"
      ],
      "execution_count": 70,
      "outputs": []
    },
    {
      "cell_type": "code",
      "metadata": {
        "id": "brnjLMUvLqu1"
      },
      "source": [
        "item_prediction = predict_item(train, item_sim)\n"
      ],
      "execution_count": 71,
      "outputs": []
    },
    {
      "cell_type": "code",
      "metadata": {
        "id": "TgqOCs-nLuSI",
        "outputId": "d6348d94-6be5-42e4-fb32-30c166535dfa",
        "colab": {
          "base_uri": "https://localhost:8080/",
          "height": 82
        }
      },
      "source": [
        "item_prediction[:4, :4]\n"
      ],
      "execution_count": 72,
      "outputs": [
        {
          "output_type": "execute_result",
          "data": {
            "text/plain": [
              "array([[1.19740841e-10, 1.35876694e-10, 1.23592452e-10, 3.72480709e-10],\n",
              "       [3.99136136e-11, 4.52922314e-11, 4.11974839e-11, 1.24160236e-10],\n",
              "       [9.54108751e-11, 1.08268108e-10, 9.84798830e-11, 2.96796901e-10],\n",
              "       [1.99568068e-11, 2.26461157e-11, 2.05987420e-11, 6.20801182e-11]])"
            ]
          },
          "metadata": {
            "tags": []
          },
          "execution_count": 72
        }
      ]
    },
    {
      "cell_type": "code",
      "metadata": {
        "id": "R_BEGn6HLvxu"
      },
      "source": [
        "from sklearn.metrics import mean_squared_error\n",
        "\n",
        "def get_mse(pred, actual):\n",
        "    # Ignore nonzero terms.\n",
        "    pred = pred[actual.nonzero()].flatten()\n",
        "    actual = actual[actual.nonzero()].flatten()\n",
        "    return mean_squared_error(pred, actual)"
      ],
      "execution_count": 73,
      "outputs": []
    },
    {
      "cell_type": "code",
      "metadata": {
        "id": "YHd4MrE2Lzvx",
        "outputId": "a79699f8-6d62-4651-bd9b-2a4416b23db3",
        "colab": {
          "base_uri": "https://localhost:8080/",
          "height": 33
        }
      },
      "source": [
        "print ('Item-based CF MSE: ' + str(get_mse(item_prediction, test)))\n"
      ],
      "execution_count": 74,
      "outputs": [
        {
          "output_type": "stream",
          "text": [
            "Item-based CF MSE: 17.679626992476646\n"
          ],
          "name": "stdout"
        }
      ]
    },
    {
      "cell_type": "code",
      "metadata": {
        "id": "z86slf_sMAVy",
        "outputId": "c3d477d6-df84-4c97-ebbe-c9f674036df5",
        "colab": {
          "base_uri": "https://localhost:8080/",
          "height": 180
        }
      },
      "source": [
        "from sklearn.decomposition import TruncatedSVD\n",
        "from sklearn.metrics.pairwise import cosine_similarity\n",
        "\n",
        "svd = TruncatedSVD(n_components=50, n_iter=7, random_state=42)\n",
        "r_mat_tr=svd.fit_transform(traind) \n",
        "print(svd.explained_variance_ratio_)  \n",
        "print(svd.explained_variance_ratio_.sum())\n",
        "\n",
        "#pm=pd.DataFrame(cosine_similarity(r_mat_tr))\n",
        "#pm.head()\n",
        "ctrain = cosine_similarity(r_mat_tr)"
      ],
      "execution_count": 75,
      "outputs": [
        {
          "output_type": "stream",
          "text": [
            "[0.04001267 0.02301479 0.01478377 0.01296878 0.01292513 0.01162553\n",
            " 0.01132567 0.00983173 0.0097719  0.00975773 0.0094814  0.00875611\n",
            " 0.00861568 0.00798877 0.00757234 0.00750949 0.00736437 0.0070166\n",
            " 0.00673454 0.00668233 0.00655518 0.00651531 0.00640658 0.00604587\n",
            " 0.00591565 0.00583855 0.00573551 0.00538493 0.00529484 0.00521686\n",
            " 0.00521165 0.00503521 0.00500466 0.00486506 0.0047118  0.00463342\n",
            " 0.00463804 0.00446858 0.00438407 0.00430626 0.00426191 0.00424095\n",
            " 0.00402303 0.00392086 0.00387885 0.00379374 0.00375994 0.0036957\n",
            " 0.00365299 0.00360692]\n",
            "0.3787422462558305\n"
          ],
          "name": "stdout"
        }
      ]
    },
    {
      "cell_type": "code",
      "metadata": {
        "id": "DXC8JeQzMCQU",
        "outputId": "428f220f-97d2-4f08-880e-5fec0700035a",
        "colab": {
          "base_uri": "https://localhost:8080/",
          "height": 180
        }
      },
      "source": [
        "from sklearn.decomposition import TruncatedSVD\n",
        "from sklearn.metrics.pairwise import cosine_similarity\n",
        "\n",
        "svd = TruncatedSVD(n_components=50, n_iter=7, random_state=42)\n",
        "r_mat_tr=svd.fit_transform(testd) \n",
        "print(svd.explained_variance_ratio_)  \n",
        "print(svd.explained_variance_ratio_.sum())\n",
        "\n",
        "#pmtt=pd.DataFrame(cosine_similarity(r_mat_tr))\n",
        "#print (pmtt[:2])\n",
        "#pmtt.head()\n",
        "ctest = cosine_similarity(r_mat_tr)"
      ],
      "execution_count": 76,
      "outputs": [
        {
          "output_type": "stream",
          "text": [
            "[0.03421507 0.0273933  0.02402671 0.02384295 0.02172463 0.02025278\n",
            " 0.01910559 0.01861906 0.01849565 0.01812899 0.01772351 0.01729357\n",
            " 0.01389622 0.01426866 0.01355253 0.01328294 0.01236885 0.01233443\n",
            " 0.01189197 0.01138558 0.01009622 0.00951348 0.0092451  0.00823943\n",
            " 0.007995   0.00783456 0.00749697 0.00736444 0.00717395 0.00710163\n",
            " 0.00676707 0.00673741 0.00670952 0.00582039 0.00572383 0.00566002\n",
            " 0.00564962 0.00560585 0.00560404 0.00551853 0.00530638 0.00511517\n",
            " 0.0050731  0.00505808 0.00501632 0.0048906  0.00482353 0.00480539\n",
            " 0.00476832 0.00473363]\n",
            "0.5552505250254852\n"
          ],
          "name": "stdout"
        }
      ]
    },
    {
      "cell_type": "code",
      "metadata": {
        "id": "j0ZLZnoVMF8N",
        "outputId": "f781500e-501c-44d2-8b87-a277d35fe942",
        "colab": {
          "base_uri": "https://localhost:8080/",
          "height": 33
        }
      },
      "source": [
        "print (' CF MSE: ' + str(get_mse(ctrain, ctest)))\n"
      ],
      "execution_count": 77,
      "outputs": [
        {
          "output_type": "stream",
          "text": [
            " CF MSE: 0.1786651950141145\n"
          ],
          "name": "stdout"
        }
      ]
    },
    {
      "cell_type": "code",
      "metadata": {
        "id": "vGkQSMdMMKIc"
      },
      "source": [
        "df = df.sort_values(by='Rating')\n",
        "df = df.reset_index(drop=True)\n",
        "count_users = df.groupby(\"User_id\", as_index=False).count()"
      ],
      "execution_count": 78,
      "outputs": []
    },
    {
      "cell_type": "code",
      "metadata": {
        "id": "nPHQQZlmMVoM"
      },
      "source": [
        "count = df.groupby(\"Hotel_id\", as_index=False).mean()\n"
      ],
      "execution_count": 79,
      "outputs": []
    },
    {
      "cell_type": "code",
      "metadata": {
        "id": "HRTJVY85McMj",
        "outputId": "c92a2dc7-5b51-4149-c99d-e1b60238fb14",
        "colab": {
          "base_uri": "https://localhost:8080/",
          "height": 207
        }
      },
      "source": [
        "items_df = count[['Hotel_id']]\n",
        "items_df.head()\n",
        "print(len(items_df))"
      ],
      "execution_count": 80,
      "outputs": [
        {
          "output_type": "execute_result",
          "data": {
            "text/html": [
              "<div>\n",
              "<style scoped>\n",
              "    .dataframe tbody tr th:only-of-type {\n",
              "        vertical-align: middle;\n",
              "    }\n",
              "\n",
              "    .dataframe tbody tr th {\n",
              "        vertical-align: top;\n",
              "    }\n",
              "\n",
              "    .dataframe thead th {\n",
              "        text-align: right;\n",
              "    }\n",
              "</style>\n",
              "<table border=\"1\" class=\"dataframe\">\n",
              "  <thead>\n",
              "    <tr style=\"text-align: right;\">\n",
              "      <th></th>\n",
              "      <th>Hotel_id</th>\n",
              "    </tr>\n",
              "  </thead>\n",
              "  <tbody>\n",
              "    <tr>\n",
              "      <th>0</th>\n",
              "      <td>0</td>\n",
              "    </tr>\n",
              "    <tr>\n",
              "      <th>1</th>\n",
              "      <td>2</td>\n",
              "    </tr>\n",
              "    <tr>\n",
              "      <th>2</th>\n",
              "      <td>3</td>\n",
              "    </tr>\n",
              "    <tr>\n",
              "      <th>3</th>\n",
              "      <td>4</td>\n",
              "    </tr>\n",
              "    <tr>\n",
              "      <th>4</th>\n",
              "      <td>5</td>\n",
              "    </tr>\n",
              "  </tbody>\n",
              "</table>\n",
              "</div>"
            ],
            "text/plain": [
              "   Hotel_id\n",
              "0         0\n",
              "1         2\n",
              "2         3\n",
              "3         4\n",
              "4         5"
            ]
          },
          "metadata": {
            "tags": []
          },
          "execution_count": 80
        },
        {
          "output_type": "stream",
          "text": [
            "2422\n"
          ],
          "name": "stdout"
        }
      ]
    },
    {
      "cell_type": "code",
      "metadata": {
        "id": "ihDBE1yNMgkY",
        "outputId": "838b68fe-47e5-41d3-b783-fcce1f3dd0c8",
        "colab": {
          "base_uri": "https://localhost:8080/",
          "height": 207
        }
      },
      "source": [
        "users_df = count_users[['User_id']]\n",
        "users_df.head()\n",
        "print(len(users_df))"
      ],
      "execution_count": 81,
      "outputs": [
        {
          "output_type": "execute_result",
          "data": {
            "text/html": [
              "<div>\n",
              "<style scoped>\n",
              "    .dataframe tbody tr th:only-of-type {\n",
              "        vertical-align: middle;\n",
              "    }\n",
              "\n",
              "    .dataframe tbody tr th {\n",
              "        vertical-align: top;\n",
              "    }\n",
              "\n",
              "    .dataframe thead th {\n",
              "        text-align: right;\n",
              "    }\n",
              "</style>\n",
              "<table border=\"1\" class=\"dataframe\">\n",
              "  <thead>\n",
              "    <tr style=\"text-align: right;\">\n",
              "      <th></th>\n",
              "      <th>User_id</th>\n",
              "    </tr>\n",
              "  </thead>\n",
              "  <tbody>\n",
              "    <tr>\n",
              "      <th>0</th>\n",
              "      <td>0</td>\n",
              "    </tr>\n",
              "    <tr>\n",
              "      <th>1</th>\n",
              "      <td>1</td>\n",
              "    </tr>\n",
              "    <tr>\n",
              "      <th>2</th>\n",
              "      <td>2</td>\n",
              "    </tr>\n",
              "    <tr>\n",
              "      <th>3</th>\n",
              "      <td>3</td>\n",
              "    </tr>\n",
              "    <tr>\n",
              "      <th>4</th>\n",
              "      <td>4</td>\n",
              "    </tr>\n",
              "  </tbody>\n",
              "</table>\n",
              "</div>"
            ],
            "text/plain": [
              "   User_id\n",
              "0        0\n",
              "1        1\n",
              "2        2\n",
              "3        3\n",
              "4        4"
            ]
          },
          "metadata": {
            "tags": []
          },
          "execution_count": 81
        },
        {
          "output_type": "stream",
          "text": [
            "16502\n"
          ],
          "name": "stdout"
        }
      ]
    },
    {
      "cell_type": "code",
      "metadata": {
        "id": "3wOzqYMPMvbL",
        "outputId": "8bba3239-9c57-468f-8942-200663b59b4c",
        "colab": {
          "base_uri": "https://localhost:8080/",
          "height": 33
        }
      },
      "source": [
        "users_list = users_df.values\n",
        "len(users_list)"
      ],
      "execution_count": 82,
      "outputs": [
        {
          "output_type": "execute_result",
          "data": {
            "text/plain": [
              "16502"
            ]
          },
          "metadata": {
            "tags": []
          },
          "execution_count": 82
        }
      ]
    },
    {
      "cell_type": "code",
      "metadata": {
        "id": "Rk7IjPCwM2Bu",
        "outputId": "f7b1d41d-be42-4e95-c2a0-079bc30835e2",
        "colab": {
          "base_uri": "https://localhost:8080/",
          "height": 131
        }
      },
      "source": [
        "df_clean_matrix = df.pivot(index='Hotel_id', columns='User_id', values='Rating').fillna(0)\n",
        "df_clean_matrix = df_clean_matrix.T\n",
        "R = (df_clean_matrix).to_numpy()\n",
        "R"
      ],
      "execution_count": 83,
      "outputs": [
        {
          "output_type": "execute_result",
          "data": {
            "text/plain": [
              "array([[0., 0., 0., ..., 0., 0., 0.],\n",
              "       [0., 0., 0., ..., 0., 0., 0.],\n",
              "       [0., 0., 0., ..., 0., 0., 0.],\n",
              "       ...,\n",
              "       [0., 0., 0., ..., 0., 0., 0.],\n",
              "       [0., 0., 0., ..., 0., 0., 0.],\n",
              "       [0., 0., 0., ..., 0., 0., 0.]])"
            ]
          },
          "metadata": {
            "tags": []
          },
          "execution_count": 83
        }
      ]
    },
    {
      "cell_type": "code",
      "metadata": {
        "id": "xkm-JdsCNN2N",
        "outputId": "6bf0ec2c-c77f-448f-8f26-0d3b5d907bbc",
        "colab": {
          "base_uri": "https://localhost:8080/",
          "height": 228
        }
      },
      "source": [
        "user_ratings_mean = np.mean(R, axis = 1)\n",
        "R_demeaned = R - user_ratings_mean.reshape(-1, 1)\n",
        "R_demeaned"
      ],
      "execution_count": 84,
      "outputs": [
        {
          "output_type": "execute_result",
          "data": {
            "text/plain": [
              "array([[-0.00206441, -0.00206441, -0.00206441, ..., -0.00206441,\n",
              "        -0.00206441, -0.00206441],\n",
              "       [-0.00206441, -0.00206441, -0.00206441, ..., -0.00206441,\n",
              "        -0.00206441, -0.00206441],\n",
              "       [-0.00206441, -0.00206441, -0.00206441, ..., -0.00206441,\n",
              "        -0.00206441, -0.00206441],\n",
              "       ...,\n",
              "       [-0.00206441, -0.00206441, -0.00206441, ..., -0.00206441,\n",
              "        -0.00206441, -0.00206441],\n",
              "       [-0.00123865, -0.00123865, -0.00123865, ..., -0.00123865,\n",
              "        -0.00123865, -0.00123865],\n",
              "       [-0.00082576, -0.00082576, -0.00082576, ..., -0.00082576,\n",
              "        -0.00082576, -0.00082576]])"
            ]
          },
          "metadata": {
            "tags": []
          },
          "execution_count": 84
        }
      ]
    },
    {
      "cell_type": "code",
      "metadata": {
        "id": "fMrzO3rENSbY"
      },
      "source": [
        "from scipy.sparse.linalg import svds\n",
        "U, sigma, Vt = svds(R_demeaned)"
      ],
      "execution_count": 85,
      "outputs": []
    },
    {
      "cell_type": "code",
      "metadata": {
        "id": "Aunb5rtONXg2"
      },
      "source": [
        "sigma = np.diag(sigma)\n"
      ],
      "execution_count": 86,
      "outputs": []
    },
    {
      "cell_type": "code",
      "metadata": {
        "id": "6rAm4fZFNZuO",
        "outputId": "3d20a600-1d09-46ae-ad15-c09bcd29af16",
        "colab": {
          "base_uri": "https://localhost:8080/",
          "height": 267
        }
      },
      "source": [
        "all_user_predicted_ratings = np.dot(np.dot(U, sigma), Vt) + user_ratings_mean.reshape(-1, 1)\n",
        "preds_df = pd.DataFrame(all_user_predicted_ratings, columns = df_clean_matrix.columns)\n",
        "preds_df['User_id'] = users_df\n",
        "preds_df.set_index('User_id', inplace=True)\n",
        "preds_df.head()"
      ],
      "execution_count": 87,
      "outputs": [
        {
          "output_type": "execute_result",
          "data": {
            "text/html": [
              "<div>\n",
              "<style scoped>\n",
              "    .dataframe tbody tr th:only-of-type {\n",
              "        vertical-align: middle;\n",
              "    }\n",
              "\n",
              "    .dataframe tbody tr th {\n",
              "        vertical-align: top;\n",
              "    }\n",
              "\n",
              "    .dataframe thead th {\n",
              "        text-align: right;\n",
              "    }\n",
              "</style>\n",
              "<table border=\"1\" class=\"dataframe\">\n",
              "  <thead>\n",
              "    <tr style=\"text-align: right;\">\n",
              "      <th>Hotel_id</th>\n",
              "      <th>0</th>\n",
              "      <th>2</th>\n",
              "      <th>3</th>\n",
              "      <th>4</th>\n",
              "      <th>5</th>\n",
              "      <th>6</th>\n",
              "      <th>7</th>\n",
              "      <th>8</th>\n",
              "      <th>9</th>\n",
              "      <th>10</th>\n",
              "      <th>11</th>\n",
              "      <th>12</th>\n",
              "      <th>13</th>\n",
              "      <th>14</th>\n",
              "      <th>15</th>\n",
              "      <th>16</th>\n",
              "      <th>17</th>\n",
              "      <th>18</th>\n",
              "      <th>19</th>\n",
              "      <th>20</th>\n",
              "      <th>22</th>\n",
              "      <th>23</th>\n",
              "      <th>24</th>\n",
              "      <th>25</th>\n",
              "      <th>26</th>\n",
              "      <th>28</th>\n",
              "      <th>29</th>\n",
              "      <th>30</th>\n",
              "      <th>32</th>\n",
              "      <th>33</th>\n",
              "      <th>34</th>\n",
              "      <th>36</th>\n",
              "      <th>37</th>\n",
              "      <th>38</th>\n",
              "      <th>40</th>\n",
              "      <th>42</th>\n",
              "      <th>43</th>\n",
              "      <th>44</th>\n",
              "      <th>45</th>\n",
              "      <th>46</th>\n",
              "      <th>...</th>\n",
              "      <th>3082</th>\n",
              "      <th>3083</th>\n",
              "      <th>3084</th>\n",
              "      <th>3085</th>\n",
              "      <th>3086</th>\n",
              "      <th>3087</th>\n",
              "      <th>3088</th>\n",
              "      <th>3089</th>\n",
              "      <th>3090</th>\n",
              "      <th>3091</th>\n",
              "      <th>3092</th>\n",
              "      <th>3093</th>\n",
              "      <th>3094</th>\n",
              "      <th>3095</th>\n",
              "      <th>3096</th>\n",
              "      <th>3097</th>\n",
              "      <th>3098</th>\n",
              "      <th>3099</th>\n",
              "      <th>3100</th>\n",
              "      <th>3101</th>\n",
              "      <th>3106</th>\n",
              "      <th>3107</th>\n",
              "      <th>3108</th>\n",
              "      <th>3111</th>\n",
              "      <th>3112</th>\n",
              "      <th>3113</th>\n",
              "      <th>3114</th>\n",
              "      <th>3115</th>\n",
              "      <th>3116</th>\n",
              "      <th>3117</th>\n",
              "      <th>3118</th>\n",
              "      <th>3119</th>\n",
              "      <th>3120</th>\n",
              "      <th>3121</th>\n",
              "      <th>3122</th>\n",
              "      <th>3123</th>\n",
              "      <th>3124</th>\n",
              "      <th>3126</th>\n",
              "      <th>3127</th>\n",
              "      <th>3128</th>\n",
              "    </tr>\n",
              "    <tr>\n",
              "      <th>User_id</th>\n",
              "      <th></th>\n",
              "      <th></th>\n",
              "      <th></th>\n",
              "      <th></th>\n",
              "      <th></th>\n",
              "      <th></th>\n",
              "      <th></th>\n",
              "      <th></th>\n",
              "      <th></th>\n",
              "      <th></th>\n",
              "      <th></th>\n",
              "      <th></th>\n",
              "      <th></th>\n",
              "      <th></th>\n",
              "      <th></th>\n",
              "      <th></th>\n",
              "      <th></th>\n",
              "      <th></th>\n",
              "      <th></th>\n",
              "      <th></th>\n",
              "      <th></th>\n",
              "      <th></th>\n",
              "      <th></th>\n",
              "      <th></th>\n",
              "      <th></th>\n",
              "      <th></th>\n",
              "      <th></th>\n",
              "      <th></th>\n",
              "      <th></th>\n",
              "      <th></th>\n",
              "      <th></th>\n",
              "      <th></th>\n",
              "      <th></th>\n",
              "      <th></th>\n",
              "      <th></th>\n",
              "      <th></th>\n",
              "      <th></th>\n",
              "      <th></th>\n",
              "      <th></th>\n",
              "      <th></th>\n",
              "      <th></th>\n",
              "      <th></th>\n",
              "      <th></th>\n",
              "      <th></th>\n",
              "      <th></th>\n",
              "      <th></th>\n",
              "      <th></th>\n",
              "      <th></th>\n",
              "      <th></th>\n",
              "      <th></th>\n",
              "      <th></th>\n",
              "      <th></th>\n",
              "      <th></th>\n",
              "      <th></th>\n",
              "      <th></th>\n",
              "      <th></th>\n",
              "      <th></th>\n",
              "      <th></th>\n",
              "      <th></th>\n",
              "      <th></th>\n",
              "      <th></th>\n",
              "      <th></th>\n",
              "      <th></th>\n",
              "      <th></th>\n",
              "      <th></th>\n",
              "      <th></th>\n",
              "      <th></th>\n",
              "      <th></th>\n",
              "      <th></th>\n",
              "      <th></th>\n",
              "      <th></th>\n",
              "      <th></th>\n",
              "      <th></th>\n",
              "      <th></th>\n",
              "      <th></th>\n",
              "      <th></th>\n",
              "      <th></th>\n",
              "      <th></th>\n",
              "      <th></th>\n",
              "      <th></th>\n",
              "      <th></th>\n",
              "    </tr>\n",
              "  </thead>\n",
              "  <tbody>\n",
              "    <tr>\n",
              "      <th>0</th>\n",
              "      <td>0.002217</td>\n",
              "      <td>-0.001153</td>\n",
              "      <td>0.000802</td>\n",
              "      <td>0.002230</td>\n",
              "      <td>-0.002624</td>\n",
              "      <td>-0.001534</td>\n",
              "      <td>-0.002204</td>\n",
              "      <td>0.002217</td>\n",
              "      <td>-0.000970</td>\n",
              "      <td>0.000513</td>\n",
              "      <td>-0.000074</td>\n",
              "      <td>-0.001638</td>\n",
              "      <td>-0.002244</td>\n",
              "      <td>0.002249</td>\n",
              "      <td>0.002252</td>\n",
              "      <td>0.002239</td>\n",
              "      <td>0.002229</td>\n",
              "      <td>-0.001026</td>\n",
              "      <td>0.002223</td>\n",
              "      <td>-0.000317</td>\n",
              "      <td>0.002225</td>\n",
              "      <td>0.002221</td>\n",
              "      <td>0.002265</td>\n",
              "      <td>-0.000917</td>\n",
              "      <td>0.002238</td>\n",
              "      <td>0.002222</td>\n",
              "      <td>-0.000671</td>\n",
              "      <td>-0.002783</td>\n",
              "      <td>-0.003501</td>\n",
              "      <td>0.002220</td>\n",
              "      <td>0.002219</td>\n",
              "      <td>0.002225</td>\n",
              "      <td>0.001192</td>\n",
              "      <td>0.002169</td>\n",
              "      <td>-0.001516</td>\n",
              "      <td>-0.002565</td>\n",
              "      <td>0.002227</td>\n",
              "      <td>0.002216</td>\n",
              "      <td>0.002217</td>\n",
              "      <td>-0.001921</td>\n",
              "      <td>...</td>\n",
              "      <td>0.002222</td>\n",
              "      <td>0.002223</td>\n",
              "      <td>0.002224</td>\n",
              "      <td>0.002222</td>\n",
              "      <td>0.002206</td>\n",
              "      <td>0.002223</td>\n",
              "      <td>0.002159</td>\n",
              "      <td>0.002240</td>\n",
              "      <td>0.002223</td>\n",
              "      <td>0.002226</td>\n",
              "      <td>0.002230</td>\n",
              "      <td>0.002222</td>\n",
              "      <td>0.002222</td>\n",
              "      <td>0.002226</td>\n",
              "      <td>0.002223</td>\n",
              "      <td>0.002231</td>\n",
              "      <td>0.002222</td>\n",
              "      <td>0.002224</td>\n",
              "      <td>0.002225</td>\n",
              "      <td>0.002249</td>\n",
              "      <td>0.002225</td>\n",
              "      <td>-0.003294</td>\n",
              "      <td>0.002230</td>\n",
              "      <td>0.002297</td>\n",
              "      <td>-0.000616</td>\n",
              "      <td>-0.001164</td>\n",
              "      <td>0.002228</td>\n",
              "      <td>-0.001421</td>\n",
              "      <td>0.002232</td>\n",
              "      <td>0.002223</td>\n",
              "      <td>-0.002591</td>\n",
              "      <td>-0.002288</td>\n",
              "      <td>0.000381</td>\n",
              "      <td>0.002229</td>\n",
              "      <td>0.001344</td>\n",
              "      <td>0.002221</td>\n",
              "      <td>-0.003295</td>\n",
              "      <td>0.002225</td>\n",
              "      <td>-0.002621</td>\n",
              "      <td>0.002210</td>\n",
              "    </tr>\n",
              "    <tr>\n",
              "      <th>1</th>\n",
              "      <td>0.002219</td>\n",
              "      <td>-0.001196</td>\n",
              "      <td>0.000784</td>\n",
              "      <td>0.002232</td>\n",
              "      <td>-0.002690</td>\n",
              "      <td>-0.001587</td>\n",
              "      <td>-0.002272</td>\n",
              "      <td>0.002219</td>\n",
              "      <td>-0.000958</td>\n",
              "      <td>0.000490</td>\n",
              "      <td>-0.000104</td>\n",
              "      <td>-0.001686</td>\n",
              "      <td>-0.002305</td>\n",
              "      <td>0.002253</td>\n",
              "      <td>0.002255</td>\n",
              "      <td>0.002241</td>\n",
              "      <td>0.002231</td>\n",
              "      <td>-0.001071</td>\n",
              "      <td>0.002225</td>\n",
              "      <td>-0.000355</td>\n",
              "      <td>0.002228</td>\n",
              "      <td>0.002224</td>\n",
              "      <td>0.002269</td>\n",
              "      <td>-0.000952</td>\n",
              "      <td>0.002240</td>\n",
              "      <td>0.002224</td>\n",
              "      <td>-0.000709</td>\n",
              "      <td>-0.002855</td>\n",
              "      <td>-0.003583</td>\n",
              "      <td>0.002222</td>\n",
              "      <td>0.002221</td>\n",
              "      <td>0.002227</td>\n",
              "      <td>0.001178</td>\n",
              "      <td>0.002300</td>\n",
              "      <td>-0.001562</td>\n",
              "      <td>-0.002631</td>\n",
              "      <td>0.002229</td>\n",
              "      <td>0.002218</td>\n",
              "      <td>0.002219</td>\n",
              "      <td>-0.001977</td>\n",
              "      <td>...</td>\n",
              "      <td>0.002225</td>\n",
              "      <td>0.002225</td>\n",
              "      <td>0.002226</td>\n",
              "      <td>0.002224</td>\n",
              "      <td>0.002208</td>\n",
              "      <td>0.002225</td>\n",
              "      <td>0.002160</td>\n",
              "      <td>0.002243</td>\n",
              "      <td>0.002225</td>\n",
              "      <td>0.002228</td>\n",
              "      <td>0.002233</td>\n",
              "      <td>0.002224</td>\n",
              "      <td>0.002224</td>\n",
              "      <td>0.002228</td>\n",
              "      <td>0.002225</td>\n",
              "      <td>0.002233</td>\n",
              "      <td>0.002224</td>\n",
              "      <td>0.002227</td>\n",
              "      <td>0.002227</td>\n",
              "      <td>0.002252</td>\n",
              "      <td>0.002227</td>\n",
              "      <td>-0.003374</td>\n",
              "      <td>0.002233</td>\n",
              "      <td>0.002301</td>\n",
              "      <td>-0.000657</td>\n",
              "      <td>-0.001116</td>\n",
              "      <td>0.002230</td>\n",
              "      <td>-0.001469</td>\n",
              "      <td>0.002235</td>\n",
              "      <td>0.002225</td>\n",
              "      <td>-0.002657</td>\n",
              "      <td>-0.002349</td>\n",
              "      <td>0.000355</td>\n",
              "      <td>0.002231</td>\n",
              "      <td>0.001333</td>\n",
              "      <td>0.002223</td>\n",
              "      <td>-0.003373</td>\n",
              "      <td>0.002227</td>\n",
              "      <td>-0.002685</td>\n",
              "      <td>0.002212</td>\n",
              "    </tr>\n",
              "    <tr>\n",
              "      <th>2</th>\n",
              "      <td>0.002217</td>\n",
              "      <td>-0.001146</td>\n",
              "      <td>0.000805</td>\n",
              "      <td>0.002229</td>\n",
              "      <td>-0.002612</td>\n",
              "      <td>-0.001524</td>\n",
              "      <td>-0.002192</td>\n",
              "      <td>0.002217</td>\n",
              "      <td>-0.000973</td>\n",
              "      <td>0.000516</td>\n",
              "      <td>-0.000069</td>\n",
              "      <td>-0.001630</td>\n",
              "      <td>-0.002233</td>\n",
              "      <td>0.002248</td>\n",
              "      <td>0.002252</td>\n",
              "      <td>0.002238</td>\n",
              "      <td>0.002228</td>\n",
              "      <td>-0.001018</td>\n",
              "      <td>0.002223</td>\n",
              "      <td>-0.000311</td>\n",
              "      <td>0.002225</td>\n",
              "      <td>0.002221</td>\n",
              "      <td>0.002264</td>\n",
              "      <td>-0.000911</td>\n",
              "      <td>0.002237</td>\n",
              "      <td>0.002221</td>\n",
              "      <td>-0.000664</td>\n",
              "      <td>-0.002770</td>\n",
              "      <td>-0.003487</td>\n",
              "      <td>0.002220</td>\n",
              "      <td>0.002218</td>\n",
              "      <td>0.002225</td>\n",
              "      <td>0.001194</td>\n",
              "      <td>0.002149</td>\n",
              "      <td>-0.001508</td>\n",
              "      <td>-0.002554</td>\n",
              "      <td>0.002227</td>\n",
              "      <td>0.002215</td>\n",
              "      <td>0.002217</td>\n",
              "      <td>-0.001911</td>\n",
              "      <td>...</td>\n",
              "      <td>0.002222</td>\n",
              "      <td>0.002222</td>\n",
              "      <td>0.002224</td>\n",
              "      <td>0.002222</td>\n",
              "      <td>0.002205</td>\n",
              "      <td>0.002223</td>\n",
              "      <td>0.002159</td>\n",
              "      <td>0.002240</td>\n",
              "      <td>0.002222</td>\n",
              "      <td>0.002225</td>\n",
              "      <td>0.002230</td>\n",
              "      <td>0.002222</td>\n",
              "      <td>0.002222</td>\n",
              "      <td>0.002225</td>\n",
              "      <td>0.002222</td>\n",
              "      <td>0.002230</td>\n",
              "      <td>0.002222</td>\n",
              "      <td>0.002224</td>\n",
              "      <td>0.002224</td>\n",
              "      <td>0.002248</td>\n",
              "      <td>0.002224</td>\n",
              "      <td>-0.003280</td>\n",
              "      <td>0.002230</td>\n",
              "      <td>0.002297</td>\n",
              "      <td>-0.000609</td>\n",
              "      <td>-0.001171</td>\n",
              "      <td>0.002228</td>\n",
              "      <td>-0.001412</td>\n",
              "      <td>0.002232</td>\n",
              "      <td>0.002222</td>\n",
              "      <td>-0.002580</td>\n",
              "      <td>-0.002277</td>\n",
              "      <td>0.000385</td>\n",
              "      <td>0.002228</td>\n",
              "      <td>0.001346</td>\n",
              "      <td>0.002220</td>\n",
              "      <td>-0.003281</td>\n",
              "      <td>0.002224</td>\n",
              "      <td>-0.002610</td>\n",
              "      <td>0.002210</td>\n",
              "    </tr>\n",
              "    <tr>\n",
              "      <th>3</th>\n",
              "      <td>0.001770</td>\n",
              "      <td>-0.000855</td>\n",
              "      <td>0.000668</td>\n",
              "      <td>0.001780</td>\n",
              "      <td>-0.001996</td>\n",
              "      <td>-0.001144</td>\n",
              "      <td>-0.001658</td>\n",
              "      <td>0.001770</td>\n",
              "      <td>-0.000790</td>\n",
              "      <td>0.000445</td>\n",
              "      <td>-0.000013</td>\n",
              "      <td>-0.001235</td>\n",
              "      <td>-0.001699</td>\n",
              "      <td>0.001794</td>\n",
              "      <td>0.001797</td>\n",
              "      <td>0.001787</td>\n",
              "      <td>0.001779</td>\n",
              "      <td>-0.000750</td>\n",
              "      <td>0.001775</td>\n",
              "      <td>-0.000196</td>\n",
              "      <td>0.001777</td>\n",
              "      <td>0.001774</td>\n",
              "      <td>0.001806</td>\n",
              "      <td>-0.000678</td>\n",
              "      <td>0.001786</td>\n",
              "      <td>0.001774</td>\n",
              "      <td>-0.000477</td>\n",
              "      <td>-0.002113</td>\n",
              "      <td>-0.002674</td>\n",
              "      <td>0.001773</td>\n",
              "      <td>0.001772</td>\n",
              "      <td>0.001777</td>\n",
              "      <td>0.000975</td>\n",
              "      <td>0.001559</td>\n",
              "      <td>-0.001140</td>\n",
              "      <td>-0.001950</td>\n",
              "      <td>0.001778</td>\n",
              "      <td>0.001769</td>\n",
              "      <td>0.001771</td>\n",
              "      <td>-0.001450</td>\n",
              "      <td>...</td>\n",
              "      <td>0.001775</td>\n",
              "      <td>0.001775</td>\n",
              "      <td>0.001776</td>\n",
              "      <td>0.001774</td>\n",
              "      <td>0.001762</td>\n",
              "      <td>0.001775</td>\n",
              "      <td>0.001726</td>\n",
              "      <td>0.001788</td>\n",
              "      <td>0.001775</td>\n",
              "      <td>0.001777</td>\n",
              "      <td>0.001780</td>\n",
              "      <td>0.001774</td>\n",
              "      <td>0.001774</td>\n",
              "      <td>0.001777</td>\n",
              "      <td>0.001775</td>\n",
              "      <td>0.001781</td>\n",
              "      <td>0.001774</td>\n",
              "      <td>0.001776</td>\n",
              "      <td>0.001776</td>\n",
              "      <td>0.001795</td>\n",
              "      <td>0.001776</td>\n",
              "      <td>-0.002511</td>\n",
              "      <td>0.001781</td>\n",
              "      <td>0.001832</td>\n",
              "      <td>-0.000429</td>\n",
              "      <td>-0.001000</td>\n",
              "      <td>0.001779</td>\n",
              "      <td>-0.001061</td>\n",
              "      <td>0.001782</td>\n",
              "      <td>0.001775</td>\n",
              "      <td>-0.001971</td>\n",
              "      <td>-0.001736</td>\n",
              "      <td>0.000345</td>\n",
              "      <td>0.001779</td>\n",
              "      <td>0.001092</td>\n",
              "      <td>0.001773</td>\n",
              "      <td>-0.002515</td>\n",
              "      <td>0.001776</td>\n",
              "      <td>-0.001996</td>\n",
              "      <td>0.001765</td>\n",
              "    </tr>\n",
              "    <tr>\n",
              "      <th>4</th>\n",
              "      <td>0.001987</td>\n",
              "      <td>0.002797</td>\n",
              "      <td>-0.008000</td>\n",
              "      <td>0.002250</td>\n",
              "      <td>-0.008595</td>\n",
              "      <td>-0.027455</td>\n",
              "      <td>-0.058523</td>\n",
              "      <td>0.001988</td>\n",
              "      <td>-0.072184</td>\n",
              "      <td>-0.004583</td>\n",
              "      <td>-0.079153</td>\n",
              "      <td>0.000614</td>\n",
              "      <td>-0.041215</td>\n",
              "      <td>0.002211</td>\n",
              "      <td>0.003377</td>\n",
              "      <td>0.002854</td>\n",
              "      <td>0.002449</td>\n",
              "      <td>-0.049106</td>\n",
              "      <td>0.002210</td>\n",
              "      <td>-0.025188</td>\n",
              "      <td>0.002281</td>\n",
              "      <td>0.002150</td>\n",
              "      <td>0.002453</td>\n",
              "      <td>0.032016</td>\n",
              "      <td>0.002807</td>\n",
              "      <td>0.002158</td>\n",
              "      <td>-0.007117</td>\n",
              "      <td>-0.052008</td>\n",
              "      <td>-0.091147</td>\n",
              "      <td>0.002100</td>\n",
              "      <td>0.002040</td>\n",
              "      <td>0.002333</td>\n",
              "      <td>-0.012226</td>\n",
              "      <td>0.014693</td>\n",
              "      <td>0.001804</td>\n",
              "      <td>-0.032520</td>\n",
              "      <td>0.002405</td>\n",
              "      <td>0.001846</td>\n",
              "      <td>0.002975</td>\n",
              "      <td>-0.022036</td>\n",
              "      <td>...</td>\n",
              "      <td>0.002184</td>\n",
              "      <td>0.002230</td>\n",
              "      <td>0.002252</td>\n",
              "      <td>0.002221</td>\n",
              "      <td>0.001764</td>\n",
              "      <td>0.002207</td>\n",
              "      <td>-0.000664</td>\n",
              "      <td>0.002467</td>\n",
              "      <td>0.002190</td>\n",
              "      <td>0.002346</td>\n",
              "      <td>0.011876</td>\n",
              "      <td>0.002176</td>\n",
              "      <td>0.002176</td>\n",
              "      <td>0.002360</td>\n",
              "      <td>0.002198</td>\n",
              "      <td>0.005278</td>\n",
              "      <td>0.002176</td>\n",
              "      <td>0.002257</td>\n",
              "      <td>0.002319</td>\n",
              "      <td>0.010071</td>\n",
              "      <td>0.002284</td>\n",
              "      <td>-0.072176</td>\n",
              "      <td>0.002582</td>\n",
              "      <td>0.007532</td>\n",
              "      <td>-0.033496</td>\n",
              "      <td>1.772554</td>\n",
              "      <td>0.002518</td>\n",
              "      <td>-0.023692</td>\n",
              "      <td>0.002345</td>\n",
              "      <td>0.002167</td>\n",
              "      <td>-0.057961</td>\n",
              "      <td>-0.035105</td>\n",
              "      <td>-0.026124</td>\n",
              "      <td>0.002371</td>\n",
              "      <td>-0.012708</td>\n",
              "      <td>0.002020</td>\n",
              "      <td>-0.040750</td>\n",
              "      <td>0.002351</td>\n",
              "      <td>-0.038036</td>\n",
              "      <td>0.002129</td>\n",
              "    </tr>\n",
              "  </tbody>\n",
              "</table>\n",
              "<p>5 rows × 2422 columns</p>\n",
              "</div>"
            ],
            "text/plain": [
              "Hotel_id      0         2         3     ...      3126      3127      3128\n",
              "User_id                                 ...                              \n",
              "0         0.002217 -0.001153  0.000802  ...  0.002225 -0.002621  0.002210\n",
              "1         0.002219 -0.001196  0.000784  ...  0.002227 -0.002685  0.002212\n",
              "2         0.002217 -0.001146  0.000805  ...  0.002224 -0.002610  0.002210\n",
              "3         0.001770 -0.000855  0.000668  ...  0.001776 -0.001996  0.001765\n",
              "4         0.001987  0.002797 -0.008000  ...  0.002351 -0.038036  0.002129\n",
              "\n",
              "[5 rows x 2422 columns]"
            ]
          },
          "metadata": {
            "tags": []
          },
          "execution_count": 87
        }
      ]
    },
    {
      "cell_type": "code",
      "metadata": {
        "id": "dGqYbqZONla7",
        "outputId": "0557cf0b-65e7-4eca-92d9-f17830f91558",
        "colab": {
          "base_uri": "https://localhost:8080/",
          "height": 33
        }
      },
      "source": [
        "preds_df.shape\n"
      ],
      "execution_count": 88,
      "outputs": [
        {
          "output_type": "execute_result",
          "data": {
            "text/plain": [
              "(16502, 2422)"
            ]
          },
          "metadata": {
            "tags": []
          },
          "execution_count": 88
        }
      ]
    },
    {
      "cell_type": "code",
      "metadata": {
        "id": "pVGO-XeObj5w"
      },
      "source": [
        "def recommend_it(predictions_df, itm_df, original_ratings_df, num_recommendations=10,rUsersid= 1):\n",
        "    \n",
        "    # Get and sort the user's predictions\n",
        "    sorted_user_predictions = predictions_df.loc[rUsersid].sort_values(ascending=False)\n",
        "    \n",
        "    # Get the user's data and merge in the item information.\n",
        "    user_data = original_ratings_df[original_ratings_df.User_id == rUsersid]\n",
        "    user_full = (user_data.merge(itm_df, how = 'left', left_on = 'Hotel_id', right_on = 'Hotel_id').\n",
        "                     sort_values(['Rating'], ascending=False)\n",
        "                 )\n",
        "\n",
        "    print ('User {0} has already stayed in {1} hotel.'.format(rUsersid, user_full.shape[0]))\n",
        "    print ('Recommending the highest {0} predicted  hotels never opted for the stay.'.format(num_recommendations))\n",
        "    \n",
        "    # Recommend the highest predicted rating items that the user hasn't bought yet.\n",
        "    recommendations = (itm_df[~itm_df['Hotel_id'].isin(user_full['Hotel_id'])].\n",
        "         merge(pd.DataFrame(sorted_user_predictions).reset_index(), how = 'left',\n",
        "               left_on = 'Hotel_id',\n",
        "               right_on = 'Hotel_id').\n",
        "         rename(columns = {rUsersid: 'Predictions'}).\n",
        "         sort_values('Predictions', ascending = False).\n",
        "                       iloc[:num_recommendations, :-1]\n",
        "                      )\n",
        "    topk=recommendations.merge(original_ratings_df,left_index = True, right_on = 'Hotel_id',left_on='Hotel_id').drop_duplicates(\n",
        "    ['Hotel_id', 'Hotel'])[['Hotel_id', 'Hotel']]\n",
        "\n",
        "    return topk"
      ],
      "execution_count": 89,
      "outputs": []
    },
    {
      "cell_type": "code",
      "metadata": {
        "id": "r5fUophDbm3c",
        "outputId": "0071cc60-19ea-4ddc-8f28-69f79759d610",
        "colab": {
          "base_uri": "https://localhost:8080/",
          "height": 367
        }
      },
      "source": [
        "recommend_it(preds_df, items_df, df, 10)\n"
      ],
      "execution_count": 90,
      "outputs": [
        {
          "output_type": "stream",
          "text": [
            "User 1 has already stayed in 1 hotel.\n",
            "Recommending the highest 10 predicted  hotels never opted for the stay.\n"
          ],
          "name": "stdout"
        },
        {
          "output_type": "execute_result",
          "data": {
            "text/html": [
              "<div>\n",
              "<style scoped>\n",
              "    .dataframe tbody tr th:only-of-type {\n",
              "        vertical-align: middle;\n",
              "    }\n",
              "\n",
              "    .dataframe tbody tr th {\n",
              "        vertical-align: top;\n",
              "    }\n",
              "\n",
              "    .dataframe thead th {\n",
              "        text-align: right;\n",
              "    }\n",
              "</style>\n",
              "<table border=\"1\" class=\"dataframe\">\n",
              "  <thead>\n",
              "    <tr style=\"text-align: right;\">\n",
              "      <th></th>\n",
              "      <th>Hotel_id</th>\n",
              "      <th>Hotel</th>\n",
              "    </tr>\n",
              "  </thead>\n",
              "  <tbody>\n",
              "    <tr>\n",
              "      <th>353</th>\n",
              "      <td>2126</td>\n",
              "      <td>Hotel Emma</td>\n",
              "    </tr>\n",
              "    <tr>\n",
              "      <th>1775</th>\n",
              "      <td>2822</td>\n",
              "      <td>French Market Inn</td>\n",
              "    </tr>\n",
              "    <tr>\n",
              "      <th>61</th>\n",
              "      <td>1910</td>\n",
              "      <td>St. James Hotel, an Ascend Hotel Collection Me...</td>\n",
              "    </tr>\n",
              "    <tr>\n",
              "      <th>1209</th>\n",
              "      <td>2915</td>\n",
              "      <td>Drury Inn &amp; Suites New Orleans</td>\n",
              "    </tr>\n",
              "    <tr>\n",
              "      <th>538</th>\n",
              "      <td>95</td>\n",
              "      <td>Homewood Suites by Hilton Lake Buena Vista-Orl...</td>\n",
              "    </tr>\n",
              "    <tr>\n",
              "      <th>1160</th>\n",
              "      <td>2791</td>\n",
              "      <td>Hilton Garden Inn Orlando Airport</td>\n",
              "    </tr>\n",
              "    <tr>\n",
              "      <th>809</th>\n",
              "      <td>2929</td>\n",
              "      <td>Hampton Inn San Diego Del Mar</td>\n",
              "    </tr>\n",
              "    <tr>\n",
              "      <th>1040</th>\n",
              "      <td>2984</td>\n",
              "      <td>Grand Hyatt Seattle</td>\n",
              "    </tr>\n",
              "    <tr>\n",
              "      <th>946</th>\n",
              "      <td>2846</td>\n",
              "      <td>Anaheim Del Sol Inn</td>\n",
              "    </tr>\n",
              "    <tr>\n",
              "      <th>884</th>\n",
              "      <td>2936</td>\n",
              "      <td>Hotel Diva</td>\n",
              "    </tr>\n",
              "  </tbody>\n",
              "</table>\n",
              "</div>"
            ],
            "text/plain": [
              "      Hotel_id                                              Hotel\n",
              "353       2126                                         Hotel Emma\n",
              "1775      2822                                  French Market Inn\n",
              "61        1910  St. James Hotel, an Ascend Hotel Collection Me...\n",
              "1209      2915                     Drury Inn & Suites New Orleans\n",
              "538         95  Homewood Suites by Hilton Lake Buena Vista-Orl...\n",
              "1160      2791                  Hilton Garden Inn Orlando Airport\n",
              "809       2929                      Hampton Inn San Diego Del Mar\n",
              "1040      2984                                Grand Hyatt Seattle\n",
              "946       2846                                Anaheim Del Sol Inn\n",
              "884       2936                                         Hotel Diva"
            ]
          },
          "metadata": {
            "tags": []
          },
          "execution_count": 90
        }
      ]
    },
    {
      "cell_type": "code",
      "metadata": {
        "id": "_-HDwMjcPQFz"
      },
      "source": [
        "def recommend_it(predictions_df, itm_df, original_ratings_df, num_recommendations=10,rUsersid= 75):\n",
        "    \n",
        "    # Get and sort the user's predictions\n",
        "    sorted_user_predictions = predictions_df.loc[rUsersid].sort_values(ascending=False)\n",
        "    \n",
        "    # Get the user's data and merge in the item information.\n",
        "    user_data = original_ratings_df[original_ratings_df.User_id == rUsersid]\n",
        "    user_full = (user_data.merge(itm_df, how = 'left', left_on = 'Hotel_id', right_on = 'Hotel_id').\n",
        "                     sort_values(['Rating'], ascending=False)\n",
        "                 )\n",
        "\n",
        "    print ('User {0} has already stayed in {1} hotel.'.format(rUsersid, user_full.shape[0]))\n",
        "    print ('Recommending the highest {0} predicted  hotels never opted for the stay.'.format(num_recommendations))\n",
        "    \n",
        "    # Recommend the highest predicted rating items that the user hasn't bought yet.\n",
        "    recommendations = (itm_df[~itm_df['Hotel_id'].isin(user_full['Hotel_id'])].\n",
        "         merge(pd.DataFrame(sorted_user_predictions).reset_index(), how = 'left',\n",
        "               left_on = 'Hotel_id',\n",
        "               right_on = 'Hotel_id').\n",
        "         rename(columns = {rUsersid: 'Predictions'}).\n",
        "         sort_values('Predictions', ascending = False).\n",
        "                       iloc[:num_recommendations, :-1]\n",
        "                      )\n",
        "    topk=recommendations.merge(original_ratings_df,left_index = True, right_on = 'Hotel_id',left_on='Hotel_id').drop_duplicates(\n",
        "    ['Hotel_id', 'Hotel'])[['Hotel_id', 'Hotel']]\n",
        "\n",
        "    return topk"
      ],
      "execution_count": 91,
      "outputs": []
    },
    {
      "cell_type": "code",
      "metadata": {
        "id": "SQAfekOUPmHD",
        "outputId": "2f7bf447-c636-4227-8127-6d16f9400086",
        "colab": {
          "base_uri": "https://localhost:8080/",
          "height": 367
        }
      },
      "source": [
        "recommend_it(preds_df, items_df, df, 10)\n"
      ],
      "execution_count": 92,
      "outputs": [
        {
          "output_type": "stream",
          "text": [
            "User 75 has already stayed in 1 hotel.\n",
            "Recommending the highest 10 predicted  hotels never opted for the stay.\n"
          ],
          "name": "stdout"
        },
        {
          "output_type": "execute_result",
          "data": {
            "text/html": [
              "<div>\n",
              "<style scoped>\n",
              "    .dataframe tbody tr th:only-of-type {\n",
              "        vertical-align: middle;\n",
              "    }\n",
              "\n",
              "    .dataframe tbody tr th {\n",
              "        vertical-align: top;\n",
              "    }\n",
              "\n",
              "    .dataframe thead th {\n",
              "        text-align: right;\n",
              "    }\n",
              "</style>\n",
              "<table border=\"1\" class=\"dataframe\">\n",
              "  <thead>\n",
              "    <tr style=\"text-align: right;\">\n",
              "      <th></th>\n",
              "      <th>Hotel_id</th>\n",
              "      <th>Hotel</th>\n",
              "    </tr>\n",
              "  </thead>\n",
              "  <tbody>\n",
              "    <tr>\n",
              "      <th>137</th>\n",
              "      <td>38</td>\n",
              "      <td>Doubletree By Hilton Hotel Bay City - Riverfront</td>\n",
              "    </tr>\n",
              "    <tr>\n",
              "      <th>410</th>\n",
              "      <td>656</td>\n",
              "      <td>Hyatt House Seattle/Downtown</td>\n",
              "    </tr>\n",
              "    <tr>\n",
              "      <th>353</th>\n",
              "      <td>2126</td>\n",
              "      <td>Hotel Emma</td>\n",
              "    </tr>\n",
              "    <tr>\n",
              "      <th>61</th>\n",
              "      <td>1910</td>\n",
              "      <td>St. James Hotel, an Ascend Hotel Collection Me...</td>\n",
              "    </tr>\n",
              "    <tr>\n",
              "      <th>1775</th>\n",
              "      <td>2822</td>\n",
              "      <td>French Market Inn</td>\n",
              "    </tr>\n",
              "    <tr>\n",
              "      <th>390</th>\n",
              "      <td>2189</td>\n",
              "      <td>Metro Points Hotel-Washington North</td>\n",
              "    </tr>\n",
              "    <tr>\n",
              "      <th>538</th>\n",
              "      <td>95</td>\n",
              "      <td>Homewood Suites by Hilton Lake Buena Vista-Orl...</td>\n",
              "    </tr>\n",
              "    <tr>\n",
              "      <th>1160</th>\n",
              "      <td>2791</td>\n",
              "      <td>Hilton Garden Inn Orlando Airport</td>\n",
              "    </tr>\n",
              "    <tr>\n",
              "      <th>809</th>\n",
              "      <td>2929</td>\n",
              "      <td>Hampton Inn San Diego Del Mar</td>\n",
              "    </tr>\n",
              "    <tr>\n",
              "      <th>1209</th>\n",
              "      <td>2915</td>\n",
              "      <td>Drury Inn &amp; Suites New Orleans</td>\n",
              "    </tr>\n",
              "  </tbody>\n",
              "</table>\n",
              "</div>"
            ],
            "text/plain": [
              "      Hotel_id                                              Hotel\n",
              "137         38   Doubletree By Hilton Hotel Bay City - Riverfront\n",
              "410        656                       Hyatt House Seattle/Downtown\n",
              "353       2126                                         Hotel Emma\n",
              "61        1910  St. James Hotel, an Ascend Hotel Collection Me...\n",
              "1775      2822                                  French Market Inn\n",
              "390       2189                Metro Points Hotel-Washington North\n",
              "538         95  Homewood Suites by Hilton Lake Buena Vista-Orl...\n",
              "1160      2791                  Hilton Garden Inn Orlando Airport\n",
              "809       2929                      Hampton Inn San Diego Del Mar\n",
              "1209      2915                     Drury Inn & Suites New Orleans"
            ]
          },
          "metadata": {
            "tags": []
          },
          "execution_count": 92
        }
      ]
    }
  ]
}