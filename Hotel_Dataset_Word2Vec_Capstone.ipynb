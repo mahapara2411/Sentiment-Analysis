{
  "nbformat": 4,
  "nbformat_minor": 0,
  "metadata": {
    "colab": {
      "name": "Sentiment Analysis using Word2Vec.ipynb",
      "provenance": [],
      "authorship_tag": "ABX9TyP/shRw8LFXy+lBVdcAMtYu",
      "include_colab_link": true
    },
    "kernelspec": {
      "name": "python3",
      "display_name": "Python 3"
    }
  },
  "cells": [
    {
      "cell_type": "markdown",
      "metadata": {
        "id": "view-in-github",
        "colab_type": "text"
      },
      "source": [
        "<a href=\"https://colab.research.google.com/github/mahapara2411/Sentiment-Analysis/blob/master/Hotel_Dataset_Word2Vec_Capstone.ipynb\" target=\"_parent\"><img src=\"https://colab.research.google.com/assets/colab-badge.svg\" alt=\"Open In Colab\"/></a>"
      ]
    },
    {
      "cell_type": "code",
      "metadata": {
        "id": "h26V6h5YouW9",
        "colab_type": "code",
        "colab": {
          "base_uri": "https://localhost:8080/",
          "height": 52
        },
        "outputId": "b0a380b8-1e57-4af6-e61f-f7d0adf42ce9"
      },
      "source": [
        "import pandas as pd\n",
        "import numpy as np\n",
        "from sklearn.model_selection import train_test_split\n",
        "from keras.preprocessing.text import Tokenizer\n",
        "from keras.preprocessing import sequence\n",
        "from keras.preprocessing.sequence import pad_sequences\n",
        "from keras.utils import np_utils\n",
        "import gensim\n",
        "import nltk\n",
        "from gensim.models.word2vec import Word2Vec\n",
        "import tensorflow as tf\n",
        "from tqdm import tqdm\n",
        "tqdm.pandas(desc=\"progress-bar\")\n",
        "nltk.download('stopwords')\n",
        "import re\n",
        "import matplotlib.pyplot as plt"
      ],
      "execution_count": 1,
      "outputs": [
        {
          "output_type": "stream",
          "text": [
            "[nltk_data] Downloading package stopwords to /root/nltk_data...\n",
            "[nltk_data]   Unzipping corpora/stopwords.zip.\n"
          ],
          "name": "stdout"
        }
      ]
    },
    {
      "cell_type": "code",
      "metadata": {
        "id": "wfnAo63DpPZ8",
        "colab_type": "code",
        "colab": {
          "resources": {
            "http://localhost:8080/nbextensions/google.colab/files.js": {
              "data": "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",
              "ok": true,
              "headers": [
                [
                  "content-type",
                  "application/javascript"
                ]
              ],
              "status": 200,
              "status_text": ""
            }
          },
          "base_uri": "https://localhost:8080/",
          "height": 72
        },
        "outputId": "58e1fae3-3db7-4c10-e8e1-51252bca7bbd"
      },
      "source": [
        "#Upload the Dataset\n",
        "from google.colab import files\n",
        "uploaded = files.upload()"
      ],
      "execution_count": 2,
      "outputs": [
        {
          "output_type": "display_data",
          "data": {
            "text/html": [
              "\n",
              "     <input type=\"file\" id=\"files-4d823005-0f62-40d0-a27b-dd9eba52adf9\" name=\"files[]\" multiple disabled\n",
              "        style=\"border:none\" />\n",
              "     <output id=\"result-4d823005-0f62-40d0-a27b-dd9eba52adf9\">\n",
              "      Upload widget is only available when the cell has been executed in the\n",
              "      current browser session. Please rerun this cell to enable.\n",
              "      </output>\n",
              "      <script src=\"/nbextensions/google.colab/files.js\"></script> "
            ],
            "text/plain": [
              "<IPython.core.display.HTML object>"
            ]
          },
          "metadata": {
            "tags": []
          }
        },
        {
          "output_type": "stream",
          "text": [
            "Saving hotel_data_clean.csv to hotel_data_clean.csv\n"
          ],
          "name": "stdout"
        }
      ]
    },
    {
      "cell_type": "code",
      "metadata": {
        "id": "BGMKEAdMpcUb",
        "colab_type": "code",
        "colab": {}
      },
      "source": [
        "# Dataset is now stored in a Pandas Dataframe\n",
        "import io\n",
        "data = pd.read_csv(io.BytesIO(uploaded['hotel_data_clean.csv']))"
      ],
      "execution_count": 3,
      "outputs": []
    },
    {
      "cell_type": "code",
      "metadata": {
        "id": "gfqn2bjTqXNY",
        "colab_type": "code",
        "colab": {
          "base_uri": "https://localhost:8080/",
          "height": 289
        },
        "outputId": "9a3c05fa-b99c-451b-f674-279a86d6a7a8"
      },
      "source": [
        "data.head()"
      ],
      "execution_count": 4,
      "outputs": [
        {
          "output_type": "execute_result",
          "data": {
            "text/html": [
              "<div>\n",
              "<style scoped>\n",
              "    .dataframe tbody tr th:only-of-type {\n",
              "        vertical-align: middle;\n",
              "    }\n",
              "\n",
              "    .dataframe tbody tr th {\n",
              "        vertical-align: top;\n",
              "    }\n",
              "\n",
              "    .dataframe thead th {\n",
              "        text-align: right;\n",
              "    }\n",
              "</style>\n",
              "<table border=\"1\" class=\"dataframe\">\n",
              "  <thead>\n",
              "    <tr style=\"text-align: right;\">\n",
              "      <th></th>\n",
              "      <th>Index</th>\n",
              "      <th>Hotel_id</th>\n",
              "      <th>Hotel</th>\n",
              "      <th>Title</th>\n",
              "      <th>Users</th>\n",
              "      <th>Reviews</th>\n",
              "      <th>Text_Clean</th>\n",
              "      <th>Rating</th>\n",
              "      <th>tokens</th>\n",
              "      <th>Sentiment</th>\n",
              "      <th>User_id</th>\n",
              "    </tr>\n",
              "  </thead>\n",
              "  <tbody>\n",
              "    <tr>\n",
              "      <th>0</th>\n",
              "      <td>0</td>\n",
              "      <td>0</td>\n",
              "      <td>La Quinta</td>\n",
              "      <td>This hotel is a dump! Upon ch...</td>\n",
              "      <td>margierodriguez.mcqueen</td>\n",
              "      <td>This hotel is a dump! Upon checking in was tol...</td>\n",
              "      <td>hotel dump upon checking told place booked fol...</td>\n",
              "      <td>1.0</td>\n",
              "      <td>['hotel', 'dump', 'upon', 'checking', 'told', ...</td>\n",
              "      <td>Negative</td>\n",
              "      <td>15400</td>\n",
              "    </tr>\n",
              "    <tr>\n",
              "      <th>1</th>\n",
              "      <td>1</td>\n",
              "      <td>1</td>\n",
              "      <td>The Point</td>\n",
              "      <td>How to Feel like you are truly Royalty!</td>\n",
              "      <td>DrThought</td>\n",
              "      <td>After having stayed at The Point for five days...</td>\n",
              "      <td>stayed point five days back june 2011 wife ele...</td>\n",
              "      <td>5.0</td>\n",
              "      <td>['stayed', 'point', 'five', 'days', 'back', 'j...</td>\n",
              "      <td>Positive</td>\n",
              "      <td>3702</td>\n",
              "    </tr>\n",
              "    <tr>\n",
              "      <th>2</th>\n",
              "      <td>2</td>\n",
              "      <td>1</td>\n",
              "      <td>The Point</td>\n",
              "      <td>Not to be missed</td>\n",
              "      <td>Dushi110</td>\n",
              "      <td>The Point exceeds perfection. From the moment ...</td>\n",
              "      <td>point exceeds perfection moment arrive prepare...</td>\n",
              "      <td>5.0</td>\n",
              "      <td>['point', 'exceeds', 'perfection', 'moment', '...</td>\n",
              "      <td>Positive</td>\n",
              "      <td>3738</td>\n",
              "    </tr>\n",
              "    <tr>\n",
              "      <th>3</th>\n",
              "      <td>3</td>\n",
              "      <td>1</td>\n",
              "      <td>The Point</td>\n",
              "      <td>The most amazing place....</td>\n",
              "      <td>GracieLouNY</td>\n",
              "      <td>My review is long overdue but I tell so many p...</td>\n",
              "      <td>review long overdue tell many people place fel...</td>\n",
              "      <td>5.0</td>\n",
              "      <td>['review', 'long', 'overdue', 'tell', 'many', ...</td>\n",
              "      <td>Positive</td>\n",
              "      <td>4593</td>\n",
              "    </tr>\n",
              "    <tr>\n",
              "      <th>4</th>\n",
              "      <td>4</td>\n",
              "      <td>1</td>\n",
              "      <td>The Point</td>\n",
              "      <td>Lack of maintenance</td>\n",
              "      <td>Guillen</td>\n",
              "      <td>We were picked up from the airport in a car wh...</td>\n",
              "      <td>picked airport car vacuum cleaned long time mi...</td>\n",
              "      <td>2.0</td>\n",
              "      <td>['picked', 'airport', 'car', 'vacuum', 'cleane...</td>\n",
              "      <td>Negative</td>\n",
              "      <td>4657</td>\n",
              "    </tr>\n",
              "  </tbody>\n",
              "</table>\n",
              "</div>"
            ],
            "text/plain": [
              "   Index  Hotel_id  ... Sentiment User_id\n",
              "0      0         0  ...  Negative   15400\n",
              "1      1         1  ...  Positive    3702\n",
              "2      2         1  ...  Positive    3738\n",
              "3      3         1  ...  Positive    4593\n",
              "4      4         1  ...  Negative    4657\n",
              "\n",
              "[5 rows x 11 columns]"
            ]
          },
          "metadata": {
            "tags": []
          },
          "execution_count": 4
        }
      ]
    },
    {
      "cell_type": "code",
      "metadata": {
        "id": "kO2alJKskpHN",
        "colab_type": "code",
        "colab": {
          "base_uri": "https://localhost:8080/",
          "height": 225
        },
        "outputId": "2cdde969-d006-4978-ee8d-5ff5b9a6e039"
      },
      "source": [
        "# Checking for missing values\n",
        "pd.isnull(data).any()"
      ],
      "execution_count": 5,
      "outputs": [
        {
          "output_type": "execute_result",
          "data": {
            "text/plain": [
              "Index         False\n",
              "Hotel_id      False\n",
              "Hotel         False\n",
              "Title          True\n",
              "Users         False\n",
              "Reviews        True\n",
              "Text_Clean     True\n",
              "Rating         True\n",
              "tokens        False\n",
              "Sentiment     False\n",
              "User_id       False\n",
              "dtype: bool"
            ]
          },
          "metadata": {
            "tags": []
          },
          "execution_count": 5
        }
      ]
    },
    {
      "cell_type": "code",
      "metadata": {
        "id": "0UgjM95Vk80t",
        "colab_type": "code",
        "colab": {}
      },
      "source": [
        "#Filing the missing Review with 'na'\n",
        "data['Reviews'] = data['Reviews'].fillna('').apply(str)\n",
        "data['Title'] = data['Title'].fillna('').apply(str)\n",
        "data['Text_Clean'] = data['Text_Clean'].fillna('').apply(str)"
      ],
      "execution_count": 6,
      "outputs": []
    },
    {
      "cell_type": "code",
      "metadata": {
        "id": "FbrCNW_qlIO4",
        "colab_type": "code",
        "colab": {
          "base_uri": "https://localhost:8080/",
          "height": 104
        },
        "outputId": "fe64f8d1-dc03-4e60-a8c0-71d97dd6de0f"
      },
      "source": [
        "data = data.dropna()\n",
        "data = data.reset_index(drop=True)\n",
        "print('Shape of dataset ',data.shape)\n",
        "print(data.columns)\n",
        "print('No. of unique classes',len(set(data['Sentiment'])))"
      ],
      "execution_count": 7,
      "outputs": [
        {
          "output_type": "stream",
          "text": [
            "Shape of dataset  (24151, 11)\n",
            "Index(['Index', 'Hotel_id', 'Hotel', 'Title', 'Users', 'Reviews', 'Text_Clean',\n",
            "       'Rating', 'tokens', 'Sentiment', 'User_id'],\n",
            "      dtype='object')\n",
            "No. of unique classes 2\n"
          ],
          "name": "stdout"
        }
      ]
    },
    {
      "cell_type": "code",
      "metadata": {
        "id": "_EBp6qs-tnx9",
        "colab_type": "code",
        "colab": {}
      },
      "source": [
        "data.Text_Clean=data.Text_Clean.astype(str)\n"
      ],
      "execution_count": 8,
      "outputs": []
    },
    {
      "cell_type": "code",
      "metadata": {
        "id": "I5RV-gflptHO",
        "colab_type": "code",
        "colab": {}
      },
      "source": [
        "X = data['Text_Clean']\n",
        "y = data['Sentiment']"
      ],
      "execution_count": 9,
      "outputs": []
    },
    {
      "cell_type": "code",
      "metadata": {
        "id": "4Qpx819M3hJO",
        "colab_type": "code",
        "colab": {}
      },
      "source": [
        "y = np.array(list(map(lambda x: 1 if x==\"Positive\" else 0, y)))"
      ],
      "execution_count": 10,
      "outputs": []
    },
    {
      "cell_type": "code",
      "metadata": {
        "id": "WJimxeNr4xHe",
        "colab_type": "code",
        "colab": {
          "base_uri": "https://localhost:8080/",
          "height": 34
        },
        "outputId": "1ce48bd9-52ab-40ea-c0bb-60fcbb509507"
      },
      "source": [
        "y"
      ],
      "execution_count": 11,
      "outputs": [
        {
          "output_type": "execute_result",
          "data": {
            "text/plain": [
              "array([0, 1, 1, ..., 0, 1, 0])"
            ]
          },
          "metadata": {
            "tags": []
          },
          "execution_count": 11
        }
      ]
    },
    {
      "cell_type": "code",
      "metadata": {
        "id": "aFqWnnDorzsG",
        "colab_type": "code",
        "colab": {
          "base_uri": "https://localhost:8080/",
          "height": 121
        },
        "outputId": "74da3a4c-8001-447f-f912-c789f6521b07"
      },
      "source": [
        "data['Text_Clean'][:5]\n"
      ],
      "execution_count": 12,
      "outputs": [
        {
          "output_type": "execute_result",
          "data": {
            "text/plain": [
              "0    hotel dump upon checking told place booked fol...\n",
              "1    stayed point five days back june 2011 wife ele...\n",
              "2    point exceeds perfection moment arrive prepare...\n",
              "3    review long overdue tell many people place fel...\n",
              "4    picked airport car vacuum cleaned long time mi...\n",
              "Name: Text_Clean, dtype: object"
            ]
          },
          "metadata": {
            "tags": []
          },
          "execution_count": 12
        }
      ]
    },
    {
      "cell_type": "code",
      "metadata": {
        "id": "8mZgDnOI3EIs",
        "colab_type": "code",
        "colab": {
          "base_uri": "https://localhost:8080/",
          "height": 34
        },
        "outputId": "dfd9a5f3-67b6-4ffa-db95-074609d73ecb"
      },
      "source": [
        "\n",
        "from keras.preprocessing.text import Tokenizer\n",
        "\n",
        "samples = X\n",
        "tokenizer = Tokenizer(lower=True, split=' ') # creates tokenizer\n",
        "tokenizer.fit_on_texts(samples)  # builds the word index\n",
        "sequences = tokenizer.texts_to_sequences(samples) #turns strings into list of integers\n",
        "# word_index is a dictionary mapping words to an integer index\n",
        "word_index = tokenizer.word_index \n",
        "print(f'Found {len(word_index)} unique tokens. ')"
      ],
      "execution_count": 13,
      "outputs": [
        {
          "output_type": "stream",
          "text": [
            "Found 43606 unique tokens. \n"
          ],
          "name": "stdout"
        }
      ]
    },
    {
      "cell_type": "code",
      "metadata": {
        "id": "4BbV2SAE488w",
        "colab_type": "code",
        "colab": {
          "base_uri": "https://localhost:8080/",
          "height": 1000
        },
        "outputId": "6cacef9f-6de8-44e3-97de-d73b7123fb20"
      },
      "source": [
        "# Each number is the index of the word in the order of word in original text\n",
        "sequences[0]"
      ],
      "execution_count": 15,
      "outputs": [
        {
          "output_type": "execute_result",
          "data": {
            "text/plain": [
              "[1,\n",
              " 2387,\n",
              " 319,\n",
              " 464,\n",
              " 173,\n",
              " 21,\n",
              " 136,\n",
              " 1198,\n",
              " 746,\n",
              " 12888,\n",
              " 1198,\n",
              " 10620,\n",
              " 2284,\n",
              " 5636,\n",
              " 84,\n",
              " 2,\n",
              " 257,\n",
              " 1044,\n",
              " 575,\n",
              " 39,\n",
              " 108,\n",
              " 531,\n",
              " 1,\n",
              " 646,\n",
              " 1657,\n",
              " 931,\n",
              " 575,\n",
              " 21,\n",
              " 136,\n",
              " 2,\n",
              " 7424,\n",
              " 343,\n",
              " 1045,\n",
              " 635,\n",
              " 3285,\n",
              " 3829,\n",
              " 356,\n",
              " 343,\n",
              " 931,\n",
              " 1204,\n",
              " 715,\n",
              " 305,\n",
              " 499,\n",
              " 936,\n",
              " 545,\n",
              " 249,\n",
              " 2498,\n",
              " 106,\n",
              " 17831,\n",
              " 1037,\n",
              " 2564,\n",
              " 7424,\n",
              " 17832,\n",
              " 2226,\n",
              " 343,\n",
              " 17833,\n",
              " 272,\n",
              " 8167,\n",
              " 2226,\n",
              " 5338,\n",
              " 4330,\n",
              " 17834,\n",
              " 188,\n",
              " 1455,\n",
              " 234,\n",
              " 17835,\n",
              " 1,\n",
              " 2961,\n",
              " 318,\n",
              " 6,\n",
              " 2,\n",
              " 3143,\n",
              " 1781,\n",
              " 306,\n",
              " 397,\n",
              " 12,\n",
              " 77,\n",
              " 21,\n",
              " 5339,\n",
              " 40,\n",
              " 8,\n",
              " 206,\n",
              " 42,\n",
              " 122,\n",
              " 4489,\n",
              " 6405,\n",
              " 2195,\n",
              " 1622,\n",
              " 1934,\n",
              " 1198,\n",
              " 746,\n",
              " 12888,\n",
              " 12,\n",
              " 116,\n",
              " 844,\n",
              " 2251,\n",
              " 139,\n",
              " 21,\n",
              " 193,\n",
              " 17836,\n",
              " 378]"
            ]
          },
          "metadata": {
            "tags": []
          },
          "execution_count": 15
        }
      ]
    },
    {
      "cell_type": "code",
      "metadata": {
        "id": "38IZfQ3K5C8x",
        "colab_type": "code",
        "colab": {
          "base_uri": "https://localhost:8080/",
          "height": 1000
        },
        "outputId": "56d0c0f5-547c-43ef-f23f-721e3e948552"
      },
      "source": [
        "word_index\n"
      ],
      "execution_count": 16,
      "outputs": [
        {
          "output_type": "execute_result",
          "data": {
            "text/plain": [
              "{'hotel': 1,\n",
              " 'room': 2,\n",
              " 'stay': 3,\n",
              " 'staff': 4,\n",
              " 'great': 5,\n",
              " 'clean': 6,\n",
              " 'good': 7,\n",
              " 'breakfast': 8,\n",
              " 'us': 9,\n",
              " 'nice': 10,\n",
              " 'rooms': 11,\n",
              " 'would': 12,\n",
              " 'location': 13,\n",
              " 'time': 14,\n",
              " 'friendly': 15,\n",
              " 'stayed': 16,\n",
              " 'one': 17,\n",
              " 'service': 18,\n",
              " 'comfortable': 19,\n",
              " 'area': 20,\n",
              " 'place': 21,\n",
              " 'well': 22,\n",
              " 'night': 23,\n",
              " 'back': 24,\n",
              " 'desk': 25,\n",
              " 'like': 26,\n",
              " 'front': 27,\n",
              " 'helpful': 28,\n",
              " 'get': 29,\n",
              " 'also': 30,\n",
              " 'pool': 31,\n",
              " 'next': 32,\n",
              " 'bed': 33,\n",
              " 'experience': 34,\n",
              " 'best': 35,\n",
              " 'really': 36,\n",
              " 'could': 37,\n",
              " 'thank': 38,\n",
              " 'parking': 39,\n",
              " 'free': 40,\n",
              " 'enjoyed': 41,\n",
              " 'day': 42,\n",
              " 'close': 43,\n",
              " 'much': 44,\n",
              " 'food': 45,\n",
              " 'small': 46,\n",
              " 'didnt': 47,\n",
              " 'everything': 48,\n",
              " 'review': 49,\n",
              " 'excellent': 50,\n",
              " 'little': 51,\n",
              " 'even': 52,\n",
              " 'new': 53,\n",
              " 'right': 54,\n",
              " 'see': 55,\n",
              " 'check': 56,\n",
              " 'hope': 57,\n",
              " 'inn': 58,\n",
              " 'first': 59,\n",
              " 'two': 60,\n",
              " 'staying': 61,\n",
              " 'visit': 62,\n",
              " 'always': 63,\n",
              " 'price': 64,\n",
              " 'bathroom': 65,\n",
              " '2': 66,\n",
              " 'made': 67,\n",
              " 'family': 68,\n",
              " 'wonderful': 69,\n",
              " 'go': 70,\n",
              " 'beds': 71,\n",
              " 'restaurants': 72,\n",
              " 'walk': 73,\n",
              " 'floor': 74,\n",
              " 'hotels': 75,\n",
              " 'restaurant': 76,\n",
              " 'recommend': 77,\n",
              " 'bad': 78,\n",
              " 'make': 79,\n",
              " 'trip': 80,\n",
              " 'definitely': 81,\n",
              " 'hear': 82,\n",
              " 'many': 83,\n",
              " 'got': 84,\n",
              " 'walking': 85,\n",
              " 'every': 86,\n",
              " 'guests': 87,\n",
              " 'property': 88,\n",
              " 'quiet': 89,\n",
              " 'happy': 90,\n",
              " 'people': 91,\n",
              " 'easy': 92,\n",
              " 'look': 93,\n",
              " 'manager': 94,\n",
              " 'around': 95,\n",
              " 'morning': 96,\n",
              " 'taking': 97,\n",
              " 'away': 98,\n",
              " 'street': 99,\n",
              " 'door': 100,\n",
              " 'nights': 101,\n",
              " 'hot': 102,\n",
              " 'way': 103,\n",
              " 'lobby': 104,\n",
              " 'perfect': 105,\n",
              " 'view': 106,\n",
              " 'feedback': 107,\n",
              " 'lot': 108,\n",
              " 'went': 109,\n",
              " 'coffee': 110,\n",
              " 'business': 111,\n",
              " 'need': 112,\n",
              " 'know': 113,\n",
              " 'located': 114,\n",
              " 'water': 115,\n",
              " 'better': 116,\n",
              " 'guest': 117,\n",
              " 'found': 118,\n",
              " 'bar': 119,\n",
              " 'work': 120,\n",
              " 'san': 121,\n",
              " 'old': 122,\n",
              " 'dont': 123,\n",
              " 'never': 124,\n",
              " 'sure': 125,\n",
              " 'beautiful': 126,\n",
              " 'shower': 127,\n",
              " 'large': 128,\n",
              " 'able': 129,\n",
              " 'overall': 130,\n",
              " 'glad': 131,\n",
              " 'downtown': 132,\n",
              " 'forward': 133,\n",
              " 'distance': 134,\n",
              " 'convenient': 135,\n",
              " 'booked': 136,\n",
              " 'spacious': 137,\n",
              " 'appreciate': 138,\n",
              " 'use': 139,\n",
              " 'loved': 140,\n",
              " 'come': 141,\n",
              " 'bit': 142,\n",
              " 'want': 143,\n",
              " '3': 144,\n",
              " 'take': 145,\n",
              " 'near': 146,\n",
              " 'feel': 147,\n",
              " 'another': 148,\n",
              " 'city': 149,\n",
              " 'find': 150,\n",
              " 'amazing': 151,\n",
              " 'airport': 152,\n",
              " 'beach': 153,\n",
              " 'needed': 154,\n",
              " 'however': 155,\n",
              " 'enough': 156,\n",
              " 'extremely': 157,\n",
              " 'love': 158,\n",
              " 'shuttle': 159,\n",
              " '5': 160,\n",
              " 'team': 161,\n",
              " 'within': 162,\n",
              " 'park': 163,\n",
              " 'kind': 164,\n",
              " 'times': 165,\n",
              " 'noise': 166,\n",
              " 'suite': 167,\n",
              " 'soon': 168,\n",
              " 'minutes': 169,\n",
              " 'pleasant': 170,\n",
              " 'big': 171,\n",
              " 'though': 172,\n",
              " 'told': 173,\n",
              " 'car': 174,\n",
              " 'days': 175,\n",
              " 'im': 176,\n",
              " 'town': 177,\n",
              " 'looking': 178,\n",
              " 'value': 179,\n",
              " 'available': 180,\n",
              " 'amenities': 181,\n",
              " 'arrived': 182,\n",
              " 'please': 183,\n",
              " 'took': 184,\n",
              " 'outside': 185,\n",
              " 'needs': 186,\n",
              " 'home': 187,\n",
              " 'going': 188,\n",
              " 'say': 189,\n",
              " 'checked': 190,\n",
              " 'wasnt': 191,\n",
              " 'quite': 192,\n",
              " 'last': 193,\n",
              " 'wifi': 194,\n",
              " 'long': 195,\n",
              " 'weekend': 196,\n",
              " 'ever': 197,\n",
              " 'said': 198,\n",
              " 'across': 199,\n",
              " 'center': 200,\n",
              " 'early': 201,\n",
              " 'recent': 202,\n",
              " 'still': 203,\n",
              " 'motel': 204,\n",
              " 'space': 205,\n",
              " 'nothing': 206,\n",
              " 'since': 207,\n",
              " 'super': 208,\n",
              " 'asked': 209,\n",
              " 'came': 210,\n",
              " 'pretty': 211,\n",
              " 'sleep': 212,\n",
              " 'future': 213,\n",
              " 'several': 214,\n",
              " 'full': 215,\n",
              " 'tv': 216,\n",
              " 'felt': 217,\n",
              " 'suites': 218,\n",
              " '4': 219,\n",
              " 'cant': 220,\n",
              " 'enjoy': 221,\n",
              " 'give': 222,\n",
              " 'size': 223,\n",
              " 'especially': 224,\n",
              " 'comments': 225,\n",
              " 'return': 226,\n",
              " 'things': 227,\n",
              " 'western': 228,\n",
              " 'lots': 229,\n",
              " 'called': 230,\n",
              " 'year': 231,\n",
              " 'customer': 232,\n",
              " 'pleased': 233,\n",
              " 'thing': 234,\n",
              " 'late': 235,\n",
              " 'quality': 236,\n",
              " 'welcoming': 237,\n",
              " 'access': 238,\n",
              " 'help': 239,\n",
              " 'far': 240,\n",
              " 'shopping': 241,\n",
              " 'kids': 242,\n",
              " 'tub': 243,\n",
              " 'welcome': 244,\n",
              " 'left': 245,\n",
              " 'places': 246,\n",
              " 'short': 247,\n",
              " 'modern': 248,\n",
              " 'towels': 249,\n",
              " 'complimentary': 250,\n",
              " 'extra': 251,\n",
              " 'awesome': 252,\n",
              " 'thanks': 253,\n",
              " 'offer': 254,\n",
              " 'safe': 255,\n",
              " 'plus': 256,\n",
              " 'problem': 257,\n",
              " 'wanted': 258,\n",
              " 'although': 259,\n",
              " 'lovely': 260,\n",
              " 'gave': 261,\n",
              " 'second': 262,\n",
              " 'accommodating': 263,\n",
              " 'share': 264,\n",
              " 'housekeeping': 265,\n",
              " 'ok': 266,\n",
              " 'husband': 267,\n",
              " 'etc': 268,\n",
              " 'highly': 269,\n",
              " 'care': 270,\n",
              " 'diego': 271,\n",
              " 'used': 272,\n",
              " 'dinner': 273,\n",
              " 'ive': 274,\n",
              " 'side': 275,\n",
              " 'top': 276,\n",
              " 'open': 277,\n",
              " 'rate': 278,\n",
              " 'fantastic': 279,\n",
              " 'provide': 280,\n",
              " 'week': 281,\n",
              " 'fine': 282,\n",
              " 'king': 283,\n",
              " 'plenty': 284,\n",
              " 'hour': 285,\n",
              " 'hard': 286,\n",
              " 'buffet': 287,\n",
              " '1': 288,\n",
              " 'call': 289,\n",
              " 'couple': 290,\n",
              " 'french': 291,\n",
              " 'think': 292,\n",
              " 'checkin': 293,\n",
              " 'everyone': 294,\n",
              " 'kept': 295,\n",
              " 'working': 296,\n",
              " 'looked': 297,\n",
              " 'part': 298,\n",
              " 'included': 299,\n",
              " 'years': 300,\n",
              " 'building': 301,\n",
              " 'seattle': 302,\n",
              " '10': 303,\n",
              " 'evening': 304,\n",
              " 'high': 305,\n",
              " 'anything': 306,\n",
              " 'microwave': 307,\n",
              " 'hilton': 308,\n",
              " 'hampton': 309,\n",
              " 'provided': 310,\n",
              " 'fresh': 311,\n",
              " 'let': 312,\n",
              " 'money': 313,\n",
              " 'may': 314,\n",
              " 'special': 315,\n",
              " 'drive': 316,\n",
              " 'entire': 317,\n",
              " 'expectations': 318,\n",
              " 'upon': 319,\n",
              " 'couldnt': 320,\n",
              " 'without': 321,\n",
              " 'resort': 322,\n",
              " 'choice': 323,\n",
              " 'minute': 324,\n",
              " 'issue': 325,\n",
              " 'try': 326,\n",
              " 'fridge': 327,\n",
              " 'quick': 328,\n",
              " 'due': 329,\n",
              " 'dirty': 330,\n",
              " 'decent': 331,\n",
              " 'travel': 332,\n",
              " 'offered': 333,\n",
              " 'eat': 334,\n",
              " 'friends': 335,\n",
              " 'person': 336,\n",
              " 'nearby': 337,\n",
              " 'sorry': 338,\n",
              " 'hours': 339,\n",
              " 'elevator': 340,\n",
              " 'reservation': 341,\n",
              " 'ask': 342,\n",
              " 'air': 343,\n",
              " 'reception': 344,\n",
              " 'kitchen': 345,\n",
              " 'put': 346,\n",
              " 'three': 347,\n",
              " 'different': 348,\n",
              " 'internet': 349,\n",
              " 'house': 350,\n",
              " 'reviews': 351,\n",
              " 'given': 352,\n",
              " 'pay': 353,\n",
              " 'valet': 354,\n",
              " 'something': 355,\n",
              " 'warm': 356,\n",
              " 'worked': 357,\n",
              " 'recently': 358,\n",
              " 'ready': 359,\n",
              " 'making': 360,\n",
              " 'ac': 361,\n",
              " 'comfy': 362,\n",
              " 'pillows': 363,\n",
              " 'st': 364,\n",
              " 'wait': 365,\n",
              " 'key': 366,\n",
              " 'options': 367,\n",
              " 'thought': 368,\n",
              " 'road': 369,\n",
              " 'youre': 370,\n",
              " 'cold': 371,\n",
              " 'wife': 372,\n",
              " 'expect': 373,\n",
              " 'quarter': 374,\n",
              " 'getting': 375,\n",
              " 'seemed': 376,\n",
              " 'keep': 377,\n",
              " 'less': 378,\n",
              " 'charge': 379,\n",
              " 'visiting': 380,\n",
              " 'disappointed': 381,\n",
              " 'loud': 382,\n",
              " 'continental': 383,\n",
              " 'bedroom': 384,\n",
              " 'main': 385,\n",
              " 'garden': 386,\n",
              " 'spent': 387,\n",
              " 'huge': 388,\n",
              " 'worth': 389,\n",
              " 'star': 390,\n",
              " 'courteous': 391,\n",
              " 'end': 392,\n",
              " 'issues': 393,\n",
              " 'marriott': 394,\n",
              " 'apologize': 395,\n",
              " 'areas': 396,\n",
              " 'else': 397,\n",
              " 'noisy': 398,\n",
              " 'orleans': 399,\n",
              " 'blocks': 400,\n",
              " 'office': 401,\n",
              " 'regarding': 402,\n",
              " 'coming': 403,\n",
              " 'local': 404,\n",
              " 'fun': 405,\n",
              " 'management': 406,\n",
              " 'anyone': 407,\n",
              " 'paid': 408,\n",
              " 'reasonable': 409,\n",
              " 'expensive': 410,\n",
              " 'leave': 411,\n",
              " 'traveling': 412,\n",
              " 'professional': 413,\n",
              " 'directly': 414,\n",
              " 'hyatt': 415,\n",
              " 'walked': 416,\n",
              " 'book': 417,\n",
              " 'job': 418,\n",
              " 'along': 419,\n",
              " 'busy': 420,\n",
              " 'sharing': 421,\n",
              " 'decided': 422,\n",
              " 'rest': 423,\n",
              " 'dining': 424,\n",
              " 'eggs': 425,\n",
              " 'attractions': 426,\n",
              " 'balcony': 427,\n",
              " 'choosing': 428,\n",
              " 'smell': 429,\n",
              " 'card': 430,\n",
              " 'bring': 431,\n",
              " 'expected': 432,\n",
              " 'liked': 433,\n",
              " 'actually': 434,\n",
              " 'accommodations': 435,\n",
              " '6': 436,\n",
              " 'courtyard': 437,\n",
              " 'light': 438,\n",
              " 'arrival': 439,\n",
              " 'ocean': 440,\n",
              " 'per': 441,\n",
              " 'maintained': 442,\n",
              " 'general': 443,\n",
              " 'chicago': 444,\n",
              " 'absolutely': 445,\n",
              " 'deal': 446,\n",
              " 'choose': 447,\n",
              " 'truly': 448,\n",
              " 'market': 449,\n",
              " 'stop': 450,\n",
              " 'four': 451,\n",
              " 'someone': 452,\n",
              " 'probably': 453,\n",
              " 'facilities': 454,\n",
              " 'river': 455,\n",
              " 'atlanta': 456,\n",
              " 'decor': 457,\n",
              " 'block': 458,\n",
              " 'almost': 459,\n",
              " 'delicious': 460,\n",
              " 'views': 461,\n",
              " 'average': 462,\n",
              " 'cleaning': 463,\n",
              " 'checking': 464,\n",
              " 'opportunity': 465,\n",
              " 'phone': 466,\n",
              " 'chose': 467,\n",
              " 'including': 468,\n",
              " 'makes': 469,\n",
              " 'wedding': 470,\n",
              " '15': 471,\n",
              " 'standard': 472,\n",
              " 'comfort': 473,\n",
              " 'wish': 474,\n",
              " 'francisco': 475,\n",
              " 'must': 476,\n",
              " 'facility': 477,\n",
              " 'items': 478,\n",
              " 'surprised': 479,\n",
              " 'station': 480,\n",
              " 'carpet': 481,\n",
              " 'done': 482,\n",
              " 'square': 483,\n",
              " 'drinks': 484,\n",
              " 'updated': 485,\n",
              " 'others': 486,\n",
              " 'older': 487,\n",
              " 'thats': 488,\n",
              " 'write': 489,\n",
              " 'group': 490,\n",
              " 'orlando': 491,\n",
              " 'cleaned': 492,\n",
              " 'wine': 493,\n",
              " 'contact': 494,\n",
              " 'nicely': 495,\n",
              " 'cost': 496,\n",
              " 'queen': 497,\n",
              " 'member': 498,\n",
              " 'cool': 499,\n",
              " 'vacation': 500,\n",
              " 'positive': 501,\n",
              " 'met': 502,\n",
              " 'received': 503,\n",
              " 'relaxing': 504,\n",
              " 'either': 505,\n",
              " 'read': 506,\n",
              " 'order': 507,\n",
              " 'level': 508,\n",
              " 'past': 509,\n",
              " 'window': 510,\n",
              " 'outstanding': 511,\n",
              " 'run': 512,\n",
              " 'least': 513,\n",
              " 'double': 514,\n",
              " 'pleasure': 515,\n",
              " 'delighted': 516,\n",
              " 'seeing': 517,\n",
              " '20': 518,\n",
              " 'toilet': 519,\n",
              " 'point': 520,\n",
              " 'certainly': 521,\n",
              " 'efficient': 522,\n",
              " 'clerk': 523,\n",
              " 'conference': 524,\n",
              " 'central': 525,\n",
              " 'impressed': 526,\n",
              " 'greeted': 527,\n",
              " 'refrigerator': 528,\n",
              " 'exceptional': 529,\n",
              " 'words': 530,\n",
              " 'inside': 531,\n",
              " 'whole': 532,\n",
              " 'corner': 533,\n",
              " 'helped': 534,\n",
              " 'choices': 535,\n",
              " 'set': 536,\n",
              " 'id': 537,\n",
              " 'beyond': 538,\n",
              " 'real': 539,\n",
              " 'booking': 540,\n",
              " 'name': 541,\n",
              " 'polite': 542,\n",
              " 'highway': 543,\n",
              " 'line': 544,\n",
              " 'bath': 545,\n",
              " 'basic': 546,\n",
              " 'later': 547,\n",
              " 'services': 548,\n",
              " 'doors': 549,\n",
              " 'important': 550,\n",
              " 'chance': 551,\n",
              " 'start': 552,\n",
              " 'complaint': 553,\n",
              " 'spend': 554,\n",
              " 'lady': 555,\n",
              " 'smelled': 556,\n",
              " 'number': 557,\n",
              " 'fast': 558,\n",
              " 'sheets': 559,\n",
              " 'world': 560,\n",
              " 'attentive': 561,\n",
              " 'middle': 562,\n",
              " 'variety': 563,\n",
              " 'overnight': 564,\n",
              " 'request': 565,\n",
              " 'sink': 566,\n",
              " 'travels': 567,\n",
              " 'experienced': 568,\n",
              " 'renovated': 569,\n",
              " 'holiday': 570,\n",
              " 'appreciated': 571,\n",
              " 'fitness': 572,\n",
              " 'fruit': 573,\n",
              " 'wouldnt': 574,\n",
              " 'fact': 575,\n",
              " 'cleanliness': 576,\n",
              " 'bathrooms': 577,\n",
              " 'improve': 578,\n",
              " 'la': 579,\n",
              " 'tell': 580,\n",
              " 'half': 581,\n",
              " 'hospitality': 582,\n",
              " 'enjoyable': 583,\n",
              " 'appointed': 584,\n",
              " 'meeting': 585,\n",
              " 'flight': 586,\n",
              " 'decorated': 587,\n",
              " 'shops': 588,\n",
              " 'lounge': 589,\n",
              " 'members': 590,\n",
              " 'poor': 591,\n",
              " 'living': 592,\n",
              " 'brand': 593,\n",
              " 'tried': 594,\n",
              " 'change': 595,\n",
              " 'limited': 596,\n",
              " 'trying': 597,\n",
              " 'served': 598,\n",
              " 'traffic': 599,\n",
              " 'wall': 600,\n",
              " 'seems': 601,\n",
              " 'walls': 602,\n",
              " 'table': 603,\n",
              " 'looks': 604,\n",
              " 'selection': 605,\n",
              " 'union': 606,\n",
              " 'ensure': 607,\n",
              " 'theres': 608,\n",
              " 'priced': 609,\n",
              " 'saw': 610,\n",
              " 'head': 611,\n",
              " 'upgraded': 612,\n",
              " 'except': 613,\n",
              " 'sincerely': 614,\n",
              " 'construction': 615,\n",
              " 'meet': 616,\n",
              " 'concierge': 617,\n",
              " 'elevators': 618,\n",
              " 'throughout': 619,\n",
              " 'gym': 620,\n",
              " 'dated': 621,\n",
              " 'checkout': 622,\n",
              " 'adequate': 623,\n",
              " 'ice': 624,\n",
              " 'instead': 625,\n",
              " 'employees': 626,\n",
              " 'major': 627,\n",
              " 'yet': 628,\n",
              " 'rude': 629,\n",
              " 'requested': 630,\n",
              " 'needle': 631,\n",
              " 'immediately': 632,\n",
              " 'spa': 633,\n",
              " 'might': 634,\n",
              " 'unit': 635,\n",
              " 'luggage': 636,\n",
              " 'show': 637,\n",
              " 'bus': 638,\n",
              " 'regards': 639,\n",
              " 'children': 640,\n",
              " 'floors': 641,\n",
              " 'slept': 642,\n",
              " 'points': 643,\n",
              " 'five': 644,\n",
              " 'daughter': 645,\n",
              " 'rather': 646,\n",
              " 'thrilled': 647,\n",
              " 'usually': 648,\n",
              " 'spot': 649,\n",
              " 'site': 650,\n",
              " 'grounds': 651,\n",
              " 'mall': 652,\n",
              " 'furniture': 653,\n",
              " 'west': 654,\n",
              " 'problems': 655,\n",
              " 'reason': 656,\n",
              " 'broken': 657,\n",
              " 'bay': 658,\n",
              " 'using': 659,\n",
              " 'lake': 660,\n",
              " 'rates': 661,\n",
              " 'party': 662,\n",
              " 'providing': 663,\n",
              " 'neighborhood': 664,\n",
              " 'online': 665,\n",
              " 'birthday': 666,\n",
              " 'mile': 667,\n",
              " 'taken': 668,\n",
              " 'consider': 669,\n",
              " 'charged': 670,\n",
              " 'style': 671,\n",
              " 'separate': 672,\n",
              " 'heard': 673,\n",
              " 'waffles': 674,\n",
              " 'worst': 675,\n",
              " 'machine': 676,\n",
              " 'ride': 677,\n",
              " 'drink': 678,\n",
              " 'disney': 679,\n",
              " 'twice': 680,\n",
              " 'touch': 681,\n",
              " 'unfortunately': 682,\n",
              " 'maintenance': 683,\n",
              " 'serve': 684,\n",
              " 'cheap': 685,\n",
              " 'finally': 686,\n",
              " 'daily': 687,\n",
              " 'reservations': 688,\n",
              " 'prices': 689,\n",
              " 'attention': 690,\n",
              " 'surprise': 691,\n",
              " 'fee': 692,\n",
              " 'sit': 693,\n",
              " 'waiting': 694,\n",
              " 'smoke': 695,\n",
              " 'type': 696,\n",
              " 'easily': 697,\n",
              " 'sitting': 698,\n",
              " 'negative': 699,\n",
              " 'credit': 700,\n",
              " 'conveniently': 701,\n",
              " 'affordable': 702,\n",
              " 'anywhere': 703,\n",
              " 'upgrade': 704,\n",
              " 'atmosphere': 705,\n",
              " 'yes': 706,\n",
              " 'hair': 707,\n",
              " 'already': 708,\n",
              " 'offers': 709,\n",
              " 'driving': 710,\n",
              " 'plan': 711,\n",
              " 'convention': 712,\n",
              " 'metro': 713,\n",
              " 'behind': 714,\n",
              " 'turned': 715,\n",
              " '30': 716,\n",
              " 'course': 717,\n",
              " 'terrible': 718,\n",
              " 'otherwise': 719,\n",
              " 'smoking': 720,\n",
              " 'public': 721,\n",
              " 'shared': 722,\n",
              " 'visited': 723,\n",
              " 'heart': 724,\n",
              " 'windows': 725,\n",
              " 'son': 726,\n",
              " 'slow': 727,\n",
              " 'third': 728,\n",
              " 'maybe': 729,\n",
              " 'seem': 730,\n",
              " 'option': 731,\n",
              " 'tripadvisor': 732,\n",
              " 'isnt': 733,\n",
              " 'quickly': 734,\n",
              " 'menu': 735,\n",
              " 'satisfied': 736,\n",
              " 'low': 737,\n",
              " 'okay': 738,\n",
              " 'pm': 739,\n",
              " 'sofa': 740,\n",
              " 'possible': 741,\n",
              " 'wrong': 742,\n",
              " 'doesnt': 743,\n",
              " 'horrible': 744,\n",
              " 'brought': 745,\n",
              " 'running': 746,\n",
              " '7': 747,\n",
              " 'fabulous': 748,\n",
              " 'waikiki': 749,\n",
              " 'maker': 750,\n",
              " 'complaints': 751,\n",
              " 'historic': 752,\n",
              " 'mind': 753,\n",
              " 'chairs': 754,\n",
              " 'bourbon': 755,\n",
              " 'favorite': 756,\n",
              " 'situation': 757,\n",
              " 'freeway': 758,\n",
              " 'live': 759,\n",
              " 'fairly': 760,\n",
              " 'website': 761,\n",
              " 'recommended': 762,\n",
              " 'everywhere': 763,\n",
              " 'closed': 764,\n",
              " 'wont': 765,\n",
              " 'mini': 766,\n",
              " 'typical': 767,\n",
              " '8': 768,\n",
              " 'game': 769,\n",
              " 'seen': 770,\n",
              " 'werent': 771,\n",
              " 'complete': 772,\n",
              " 'tea': 773,\n",
              " 'turn': 774,\n",
              " 'event': 775,\n",
              " 'relax': 776,\n",
              " 'families': 777,\n",
              " 'accommodate': 778,\n",
              " 'understand': 779,\n",
              " 'friend': 780,\n",
              " 'grand': 781,\n",
              " 'district': 782,\n",
              " 'dog': 783,\n",
              " 'mentioned': 784,\n",
              " 'weeks': 785,\n",
              " 'bars': 786,\n",
              " 'anniversary': 787,\n",
              " 'young': 788,\n",
              " 'chain': 789,\n",
              " 'min': 790,\n",
              " 'proximity': 791,\n",
              " 'moment': 792,\n",
              " 'stairs': 793,\n",
              " 'swimming': 794,\n",
              " 'disneyland': 795,\n",
              " 'dark': 796,\n",
              " 'weve': 797,\n",
              " 'cozy': 798,\n",
              " 'tired': 799,\n",
              " 'returned': 800,\n",
              " 'believe': 801,\n",
              " 'train': 802,\n",
              " 'information': 803,\n",
              " 'ill': 804,\n",
              " 'often': 805,\n",
              " 'move': 806,\n",
              " 'entrance': 807,\n",
              " 'changed': 808,\n",
              " 'pressure': 809,\n",
              " 'completely': 810,\n",
              " 'questions': 811,\n",
              " 'cereal': 812,\n",
              " 'outdoor': 813,\n",
              " 'memorable': 814,\n",
              " 'cruise': 815,\n",
              " 'prior': 816,\n",
              " 'meal': 817,\n",
              " 'fan': 818,\n",
              " 'beat': 819,\n",
              " 'store': 820,\n",
              " 'smile': 821,\n",
              " 'difficult': 822,\n",
              " 'garage': 823,\n",
              " 'single': 824,\n",
              " 'ago': 825,\n",
              " 'south': 826,\n",
              " 'ended': 827,\n",
              " 'mention': 828,\n",
              " 'afternoon': 829,\n",
              " 'simple': 830,\n",
              " 'note': 831,\n",
              " 'club': 832,\n",
              " 'tiny': 833,\n",
              " 'man': 834,\n",
              " 'pass': 835,\n",
              " 'sleeping': 836,\n",
              " 'strive': 837,\n",
              " 'process': 838,\n",
              " 'thin': 839,\n",
              " 'moved': 840,\n",
              " 'cookies': 841,\n",
              " '12': 842,\n",
              " 'pride': 843,\n",
              " 'weather': 844,\n",
              " 'stays': 845,\n",
              " 'stars': 846,\n",
              " 'longer': 847,\n",
              " 'pleasantly': 848,\n",
              " 'smaller': 849,\n",
              " 'renovation': 850,\n",
              " 'mattress': 851,\n",
              " 'continue': 852,\n",
              " 'budget': 853,\n",
              " 'returning': 854,\n",
              " 'strip': 855,\n",
              " 'usual': 856,\n",
              " 'condition': 857,\n",
              " 'nicer': 858,\n",
              " 'advantage': 859,\n",
              " 'indoor': 860,\n",
              " 'allowed': 861,\n",
              " '2nd': 862,\n",
              " 'uncomfortable': 863,\n",
              " 'chair': 864,\n",
              " 'centrally': 865,\n",
              " 'security': 866,\n",
              " 'miles': 867,\n",
              " 'perfectly': 868,\n",
              " 'snacks': 869,\n",
              " 'travelers': 870,\n",
              " 'based': 871,\n",
              " 'keeping': 872,\n",
              " 'months': 873,\n",
              " 'watch': 874,\n",
              " 'pet': 875,\n",
              " 'sausage': 876,\n",
              " 'harbor': 877,\n",
              " 'getaway': 878,\n",
              " 'music': 879,\n",
              " '100': 880,\n",
              " 'hallway': 881,\n",
              " 'youll': 882,\n",
              " 'guy': 883,\n",
              " 'reasonably': 884,\n",
              " 'higher': 885,\n",
              " 'casino': 886,\n",
              " 'somewhere': 887,\n",
              " 'opened': 888,\n",
              " 'eating': 889,\n",
              " 'pick': 890,\n",
              " 'cable': 891,\n",
              " 'reach': 892,\n",
              " 'juice': 893,\n",
              " 'parks': 894,\n",
              " 'bags': 895,\n",
              " 'guess': 896,\n",
              " 'encountered': 897,\n",
              " 'literally': 898,\n",
              " 'bedding': 899,\n",
              " 'owners': 900,\n",
              " 'unique': 901,\n",
              " 'picked': 902,\n",
              " 'inconvenience': 903,\n",
              " 'fancy': 904,\n",
              " 'facing': 905,\n",
              " 'interstate': 906,\n",
              " 'directions': 907,\n",
              " 'hall': 908,\n",
              " 'miami': 909,\n",
              " 'incredibly': 910,\n",
              " 'north': 911,\n",
              " 'knew': 912,\n",
              " 'noticed': 913,\n",
              " 'closet': 914,\n",
              " 'properties': 915,\n",
              " 'feeling': 916,\n",
              " 'compared': 917,\n",
              " 'napa': 918,\n",
              " 'island': 919,\n",
              " 'previous': 920,\n",
              " 'works': 921,\n",
              " 'discount': 922,\n",
              " 'design': 923,\n",
              " 'lunch': 924,\n",
              " 'crowded': 925,\n",
              " 'mr': 926,\n",
              " 'additional': 927,\n",
              " 'personal': 928,\n",
              " 'giving': 929,\n",
              " 'bottle': 930,\n",
              " 'despite': 931,\n",
              " 'stopped': 932,\n",
              " 'leaving': 933,\n",
              " 'started': 934,\n",
              " 'whenever': 935,\n",
              " 'linens': 936,\n",
              " 'lack': 937,\n",
              " 'takes': 938,\n",
              " 'stuff': 939,\n",
              " 'sized': 940,\n",
              " 'convenience': 941,\n",
              " 'ate': 942,\n",
              " 'screen': 943,\n",
              " 'starbucks': 944,\n",
              " 'treated': 945,\n",
              " 'stocked': 946,\n",
              " 'accessible': 947,\n",
              " 'luxury': 948,\n",
              " 'soft': 949,\n",
              " 'sf': 950,\n",
              " 'boutique': 951,\n",
              " '3rd': 952,\n",
              " 'flat': 953,\n",
              " 'assist': 954,\n",
              " 'laundry': 955,\n",
              " 'hallways': 956,\n",
              " 'activities': 957,\n",
              " 'larger': 958,\n",
              " 'w': 959,\n",
              " 'simply': 960,\n",
              " 'sign': 961,\n",
              " 'company': 962,\n",
              " 'transportation': 963,\n",
              " 'unless': 964,\n",
              " 'seating': 965,\n",
              " 'remodeled': 966,\n",
              " 'rating': 967,\n",
              " 'kitchenette': 968,\n",
              " 'summer': 969,\n",
              " 'bill': 970,\n",
              " 'spotless': 971,\n",
              " 'counter': 972,\n",
              " 'concerns': 973,\n",
              " 'de': 974,\n",
              " 'bonus': 975,\n",
              " 'experiences': 976,\n",
              " 'gorgeous': 977,\n",
              " 'hesitate': 978,\n",
              " 'keys': 979,\n",
              " 'fix': 980,\n",
              " 'couch': 981,\n",
              " 'system': 982,\n",
              " 'advisor': 983,\n",
              " 'added': 984,\n",
              " 'dear': 985,\n",
              " 'private': 986,\n",
              " 'glass': 987,\n",
              " 'standards': 988,\n",
              " 'willing': 989,\n",
              " 'totally': 990,\n",
              " 'amount': 991,\n",
              " 'shop': 992,\n",
              " 'multiple': 993,\n",
              " 'mission': 994,\n",
              " 'renovations': 995,\n",
              " 'newly': 996,\n",
              " 'driver': 997,\n",
              " 'outlets': 998,\n",
              " 'incredible': 999,\n",
              " 'sea': 1000,\n",
              " ...}"
            ]
          },
          "metadata": {
            "tags": []
          },
          "execution_count": 16
        }
      ]
    },
    {
      "cell_type": "code",
      "metadata": {
        "id": "u3TdkncF5HGO",
        "colab_type": "code",
        "colab": {}
      },
      "source": [
        "\n",
        "# We reverse it, mapping integer indices to words\n",
        "reverse_word_index = dict([(value, key) for (key, value) in word_index.items()])\n",
        "# We decode the review; note that our indices were offset by 3\n",
        "# because 0, 1 and 2 are reserved indices for \"padding\", \"start of sequence\", and \"unknown\".\n",
        "decoded_review = ' '.join([reverse_word_index.get(i - 3, '?') for i in sequences[0]])"
      ],
      "execution_count": 17,
      "outputs": []
    },
    {
      "cell_type": "code",
      "metadata": {
        "id": "YdwUWI5F5Y2N",
        "colab_type": "code",
        "colab": {}
      },
      "source": [
        "def sequence_to_text(sequence):\n",
        "    words =  [reverse_word_index.get(letter) for letter in sequence]\n",
        "    return words\n",
        "\n",
        "my_text = list(map(sequence_to_text, sequences))"
      ],
      "execution_count": 18,
      "outputs": []
    },
    {
      "cell_type": "code",
      "metadata": {
        "id": "07O0ePfB5dVW",
        "colab_type": "code",
        "colab": {
          "base_uri": "https://localhost:8080/",
          "height": 54
        },
        "outputId": "2b0c6196-1e95-4b15-985d-135aedf8e466"
      },
      "source": [
        "print(sequences[0])\n"
      ],
      "execution_count": 19,
      "outputs": [
        {
          "output_type": "stream",
          "text": [
            "[1, 2387, 319, 464, 173, 21, 136, 1198, 746, 12888, 1198, 10620, 2284, 5636, 84, 2, 257, 1044, 575, 39, 108, 531, 1, 646, 1657, 931, 575, 21, 136, 2, 7424, 343, 1045, 635, 3285, 3829, 356, 343, 931, 1204, 715, 305, 499, 936, 545, 249, 2498, 106, 17831, 1037, 2564, 7424, 17832, 2226, 343, 17833, 272, 8167, 2226, 5338, 4330, 17834, 188, 1455, 234, 17835, 1, 2961, 318, 6, 2, 3143, 1781, 306, 397, 12, 77, 21, 5339, 40, 8, 206, 42, 122, 4489, 6405, 2195, 1622, 1934, 1198, 746, 12888, 12, 116, 844, 2251, 139, 21, 193, 17836, 378]\n"
          ],
          "name": "stdout"
        }
      ]
    },
    {
      "cell_type": "code",
      "metadata": {
        "id": "_W5LItxv5mKr",
        "colab_type": "code",
        "colab": {
          "base_uri": "https://localhost:8080/",
          "height": 34
        },
        "outputId": "2ca49e1d-f162-48dc-ac73-d957abeb1021"
      },
      "source": [
        "word2vec = gensim.models.Word2Vec(my_text,\n",
        "                                  size=100,\n",
        "                                  window=10,\n",
        "                                  min_count=1)\n",
        "word2vec.train(my_text, total_examples=25026, epochs=10)"
      ],
      "execution_count": 20,
      "outputs": [
        {
          "output_type": "execute_result",
          "data": {
            "text/plain": [
              "(9239477, 10251380)"
            ]
          },
          "metadata": {
            "tags": []
          },
          "execution_count": 20
        }
      ]
    },
    {
      "cell_type": "code",
      "metadata": {
        "id": "Trda56Lr5roE",
        "colab_type": "code",
        "colab": {
          "base_uri": "https://localhost:8080/",
          "height": 228
        },
        "outputId": "612be411-e749-44d5-ce5d-8a76af74a8c1"
      },
      "source": [
        "similar_words = {search_term: [item[0] for item in word2vec.wv.most_similar([search_term], topn=5)]\n",
        "                  for search_term in ['feel', 'good', 'hotel', 'cheap', 'junk', 'bad', 'great','price','love']}\n",
        "similar_words"
      ],
      "execution_count": 21,
      "outputs": [
        {
          "output_type": "stream",
          "text": [
            "/usr/local/lib/python3.6/dist-packages/gensim/matutils.py:737: FutureWarning: Conversion of the second argument of issubdtype from `int` to `np.signedinteger` is deprecated. In future, it will be treated as `np.int64 == np.dtype(int).type`.\n",
            "  if np.issubdtype(vec.dtype, np.int):\n"
          ],
          "name": "stderr"
        },
        {
          "output_type": "execute_result",
          "data": {
            "text/plain": [
              "{'bad': ['terrible', 'horrible', 'awful', 'ok', 'negative'],\n",
              " 'cheap': ['budget', 'wise', 'inexpensive', 'fancy', 'frills'],\n",
              " 'feel': ['felt', 'cruel', 'feels', 'homegrounds', 'assent'],\n",
              " 'good': ['decent', 'great', 'nice', 'excellent', 'ok'],\n",
              " 'great': ['excellent', 'fantastic', 'good', 'wonderful', 'amazing'],\n",
              " 'hotel': ['place', 'property', 'hotels', 'motel', 'however'],\n",
              " 'junk': ['restropub', 'nabayoti', 'mich', 'sri', 'mills'],\n",
              " 'love': ['favorite', 'wentmore', 'experienceana', 'spilt', 'enjoy'],\n",
              " 'price': ['rate', 'prices', 'rates', '5500', 'cost']}"
            ]
          },
          "metadata": {
            "tags": []
          },
          "execution_count": 21
        }
      ]
    },
    {
      "cell_type": "code",
      "metadata": {
        "id": "yNZgYH2m50ii",
        "colab_type": "code",
        "colab": {
          "base_uri": "https://localhost:8080/",
          "height": 1000
        },
        "outputId": "b48b0d82-c0e3-47ba-c76e-caeb5a7b5435"
      },
      "source": [
        "from sklearn.manifold import TSNE\n",
        "\n",
        "words = sum([[k] + v for k, v in similar_words.items()], [])\n",
        "wvs = word2vec.wv[words]\n",
        "\n",
        "tsne = TSNE(n_components=2, random_state=0, n_iter=10000, perplexity=2)\n",
        "np.set_printoptions(suppress=True)\n",
        "T = tsne.fit_transform(wvs)\n",
        "labels = words\n",
        "\n",
        "plt.figure(figsize=(15, 20))\n",
        "plt.scatter(T[:, 0], T[:, 1], c='orange', edgecolors='r')\n",
        "for label, x, yt in zip(labels, T[:, 0], T[:, 1]):\n",
        "    plt.annotate(label, xy=(x+1, yt+1), xytext=(0, 0), textcoords='offset points')"
      ],
      "execution_count": 22,
      "outputs": [
        {
          "output_type": "display_data",
          "data": {
            "image/png": "[encoded data removed]",
            "text/plain": [
              "<Figure size 1080x1440 with 1 Axes>"
            ]
          },
          "metadata": {
            "tags": [],
            "needs_background": "light"
          }
        }
      ]
    },
    {
      "cell_type": "code",
      "metadata": {
        "id": "PwjZUZIj545p",
        "colab_type": "code",
        "colab": {
          "base_uri": "https://localhost:8080/",
          "height": 34
        },
        "outputId": "063238f2-e770-483a-e9c4-84ba7f7555cc"
      },
      "source": [
        "len(word_index.keys())\n"
      ],
      "execution_count": 23,
      "outputs": [
        {
          "output_type": "execute_result",
          "data": {
            "text/plain": [
              "43606"
            ]
          },
          "metadata": {
            "tags": []
          },
          "execution_count": 23
        }
      ]
    },
    {
      "cell_type": "code",
      "metadata": {
        "id": "nsR7z9Mz6Cix",
        "colab_type": "code",
        "colab": {
          "base_uri": "https://localhost:8080/",
          "height": 34
        },
        "outputId": "db393817-830a-4f70-f0a1-2924fada455f"
      },
      "source": [
        "len(word2vec.wv.vocab)\n"
      ],
      "execution_count": 24,
      "outputs": [
        {
          "output_type": "execute_result",
          "data": {
            "text/plain": [
              "43606"
            ]
          },
          "metadata": {
            "tags": []
          },
          "execution_count": 24
        }
      ]
    },
    {
      "cell_type": "code",
      "metadata": {
        "id": "mZ-4F3f36FCw",
        "colab_type": "code",
        "colab": {
          "base_uri": "https://localhost:8080/",
          "height": 86
        },
        "outputId": "bb147252-425f-4276-dc70-af1c55ea7b96"
      },
      "source": [
        "max_length = 200 # fix the length of each review \n",
        "max_words = len(word_index.keys()) # fix number of words \n",
        "\n",
        "training_samples = 6000\n",
        "validation_samples = 2933\n",
        "data = pad_sequences(sequences, maxlen=max_length)\n",
        "\n",
        "#labels = np.asarray(y)\n",
        "print('Shape of data tensor:', data.shape)\n",
        "print('Shape of label tensor:', y.shape)\n",
        "\n",
        "# Split the data into a training set and a validation set\n",
        "# But first, shuffle the data, since we started from data\n",
        "# where sample are ordered (all negative first, then all positive).\n",
        "indices = np.arange(data.shape[0])\n",
        "np.random.shuffle(indices)\n",
        "data = data[indices]\n",
        "labels = y[indices]\n",
        "\n",
        "x_train = data[:training_samples]\n",
        "y_train = y[:training_samples]\n",
        "x_val = data[training_samples: training_samples + validation_samples]\n",
        "y_val = y[training_samples: training_samples + validation_samples]\n",
        "print('Shape of training data: ', x_train.shape)\n",
        "print('Shape of validation data: ', x_val.shape)"
      ],
      "execution_count": 25,
      "outputs": [
        {
          "output_type": "stream",
          "text": [
            "Shape of data tensor: (24151, 200)\n",
            "Shape of label tensor: (24151,)\n",
            "Shape of training data:  (6000, 200)\n",
            "Shape of validation data:  (2933, 200)\n"
          ],
          "name": "stdout"
        }
      ]
    },
    {
      "cell_type": "code",
      "metadata": {
        "id": "CRHHn1bP6JVU",
        "colab_type": "code",
        "colab": {}
      },
      "source": [
        "\n",
        "embedding_dim = 100\n",
        "\n",
        "embedding_matrix = np.zeros((max_words+1, embedding_dim))\n",
        "for word , i in word_index.items():\n",
        "    embedding_vector = word2vec.wv[word]\n",
        "    if embedding_vector is not None:\n",
        "        embedding_matrix[i] = embedding_vector"
      ],
      "execution_count": 26,
      "outputs": []
    },
    {
      "cell_type": "code",
      "metadata": {
        "id": "1VjpTURv6NMN",
        "colab_type": "code",
        "colab": {
          "base_uri": "https://localhost:8080/",
          "height": 34
        },
        "outputId": "3f6b2f5b-81ad-4e53-d803-af54c6f38693"
      },
      "source": [
        "embedding_matrix.shape\n"
      ],
      "execution_count": 27,
      "outputs": [
        {
          "output_type": "execute_result",
          "data": {
            "text/plain": [
              "(43607, 100)"
            ]
          },
          "metadata": {
            "tags": []
          },
          "execution_count": 27
        }
      ]
    },
    {
      "cell_type": "code",
      "metadata": {
        "id": "s4ToKGlK6QcI",
        "colab_type": "code",
        "colab": {
          "base_uri": "https://localhost:8080/",
          "height": 294
        },
        "outputId": "ea84681e-c89c-4a71-c62d-8c5806c4e269"
      },
      "source": [
        "from keras.models import Sequential\n",
        "from keras.layers import Embedding, Flatten, Dense\n",
        "\n",
        "\n",
        "model = Sequential()\n",
        "model.add(Embedding(max_words+1, embedding_dim, input_length=max_length))\n",
        "model.add(Flatten())\n",
        "model.add(Dense(32, activation='relu'))\n",
        "model.add(Dense(1, activation='sigmoid'))\n",
        "model.summary()"
      ],
      "execution_count": 28,
      "outputs": [
        {
          "output_type": "stream",
          "text": [
            "Model: \"sequential\"\n",
            "_________________________________________________________________\n",
            "Layer (type)                 Output Shape              Param #   \n",
            "=================================================================\n",
            "embedding (Embedding)        (None, 200, 100)          4360700   \n",
            "_________________________________________________________________\n",
            "flatten (Flatten)            (None, 20000)             0         \n",
            "_________________________________________________________________\n",
            "dense (Dense)                (None, 32)                640032    \n",
            "_________________________________________________________________\n",
            "dense_1 (Dense)              (None, 1)                 33        \n",
            "=================================================================\n",
            "Total params: 5,000,765\n",
            "Trainable params: 5,000,765\n",
            "Non-trainable params: 0\n",
            "_________________________________________________________________\n"
          ],
          "name": "stdout"
        }
      ]
    },
    {
      "cell_type": "code",
      "metadata": {
        "id": "VHcyBiZx6UNE",
        "colab_type": "code",
        "colab": {}
      },
      "source": [
        "model.layers[0].set_weights([embedding_matrix])\n",
        "model.layers[0].trainable = False"
      ],
      "execution_count": 29,
      "outputs": []
    },
    {
      "cell_type": "code",
      "metadata": {
        "id": "yxycbutb6ZXY",
        "colab_type": "code",
        "colab": {
          "base_uri": "https://localhost:8080/",
          "height": 364
        },
        "outputId": "7c6d687f-b6d2-4051-c01d-555816864ba2"
      },
      "source": [
        "model.compile(optimizer='rmsprop',\n",
        "              loss='binary_crossentropy',\n",
        "              metrics=['acc'])\n",
        "history = model.fit(x_train, y_train,\n",
        "                    epochs=10,\n",
        "                    batch_size=32,\n",
        "                    validation_data=(x_val, y_val))"
      ],
      "execution_count": 30,
      "outputs": [
        {
          "output_type": "stream",
          "text": [
            "Epoch 1/10\n",
            "188/188 [==============================] - 2s 13ms/step - loss: 0.6281 - acc: 0.7227 - val_loss: 0.5887 - val_acc: 0.7477\n",
            "Epoch 2/10\n",
            "188/188 [==============================] - 2s 12ms/step - loss: 0.4568 - acc: 0.7738 - val_loss: 0.6768 - val_acc: 0.7143\n",
            "Epoch 3/10\n",
            "188/188 [==============================] - 2s 12ms/step - loss: 0.2758 - acc: 0.8832 - val_loss: 0.8764 - val_acc: 0.6938\n",
            "Epoch 4/10\n",
            "188/188 [==============================] - 2s 12ms/step - loss: 0.1379 - acc: 0.9515 - val_loss: 1.1357 - val_acc: 0.6444\n",
            "Epoch 5/10\n",
            "188/188 [==============================] - 2s 12ms/step - loss: 0.0676 - acc: 0.9822 - val_loss: 1.4721 - val_acc: 0.6679\n",
            "Epoch 6/10\n",
            "188/188 [==============================] - 2s 13ms/step - loss: 0.0441 - acc: 0.9912 - val_loss: 1.7050 - val_acc: 0.6522\n",
            "Epoch 7/10\n",
            "188/188 [==============================] - 2s 13ms/step - loss: 0.0340 - acc: 0.9918 - val_loss: 1.9371 - val_acc: 0.6505\n",
            "Epoch 8/10\n",
            "188/188 [==============================] - 3s 14ms/step - loss: 0.0326 - acc: 0.9937 - val_loss: 2.1839 - val_acc: 0.6444\n",
            "Epoch 9/10\n",
            "188/188 [==============================] - 3s 13ms/step - loss: 0.0221 - acc: 0.9955 - val_loss: 2.4305 - val_acc: 0.6635\n",
            "Epoch 10/10\n",
            "188/188 [==============================] - 3s 14ms/step - loss: 0.0197 - acc: 0.9960 - val_loss: 2.7403 - val_acc: 0.6638\n"
          ],
          "name": "stdout"
        }
      ]
    },
    {
      "cell_type": "code",
      "metadata": {
        "id": "uNjtSQKm7CAd",
        "colab_type": "code",
        "colab": {
          "base_uri": "https://localhost:8080/",
          "height": 545
        },
        "outputId": "c32809ab-d618-42e1-f384-6517ebab4539"
      },
      "source": [
        "import matplotlib.pyplot as plt\n",
        "\n",
        "acc = history.history['acc']\n",
        "val_acc = history.history['val_acc']\n",
        "loss = history.history['loss']\n",
        "val_loss = history.history['val_loss']\n",
        "\n",
        "epochs = range(1, len(acc) + 1)\n",
        "\n",
        "plt.plot(epochs, acc, 'bo', label='Training acc')\n",
        "plt.plot(epochs, val_acc, 'b', label='Validation acc')\n",
        "plt.title('Training and validation accuracy')\n",
        "plt.legend()\n",
        "\n",
        "plt.figure()\n",
        "\n",
        "plt.plot(epochs, loss, 'bo', label='Training loss')\n",
        "plt.plot(epochs, val_loss, 'b', label='Validation loss')\n",
        "plt.title('Training and validation loss')\n",
        "plt.legend()\n",
        "\n",
        "plt.show()"
      ],
      "execution_count": 31,
      "outputs": [
        {
          "output_type": "display_data",
          "data": {
            "image/png": "[encoded data removed]",
            "text/plain": [
              "<Figure size 432x288 with 1 Axes>"
            ]
          },
          "metadata": {
            "tags": [],
            "needs_background": "light"
          }
        },
        {
          "output_type": "display_data",
          "data": {
            "image/png": "[encoded data removed]",
            "text/plain": [
              "<Figure size 432x288 with 1 Axes>"
            ]
          },
          "metadata": {
            "tags": [],
            "needs_background": "light"
          }
        }
      ]
    }
  ]
}