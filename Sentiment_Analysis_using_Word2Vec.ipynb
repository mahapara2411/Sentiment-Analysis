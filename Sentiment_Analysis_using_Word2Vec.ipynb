{
  "nbformat": 4,
  "nbformat_minor": 0,
  "metadata": {
    "colab": {
      "name": "Sentiment Analysis using Word2Vec.ipynb",
      "provenance": [],
      "authorship_tag": "ABX9TyMzXG3wMtmFYcsP9PHESL8L",
      "include_colab_link": true
    },
    "kernelspec": {
      "name": "python3",
      "display_name": "Python 3"
    }
  },
  "cells": [
    {
      "cell_type": "markdown",
      "metadata": {
        "id": "view-in-github",
        "colab_type": "text"
      },
      "source": [
        "<a href=\"https://colab.research.google.com/github/mahapara2411/Sentiment-Analysis/blob/master/Sentiment_Analysis_using_Word2Vec.ipynb\" target=\"_parent\"><img src=\"https://colab.research.google.com/assets/colab-badge.svg\" alt=\"Open In Colab\"/></a>"
      ]
    },
    {
      "cell_type": "code",
      "metadata": {
        "id": "h26V6h5YouW9",
        "colab_type": "code",
        "colab": {
          "base_uri": "https://localhost:8080/",
          "height": 51
        },
        "outputId": "bd73d90e-0916-41f5-c1ee-96d344b62908"
      },
      "source": [
        "import pandas as pd\n",
        "import numpy as np\n",
        "from sklearn.model_selection import train_test_split\n",
        "from keras.preprocessing.text import Tokenizer\n",
        "from keras.preprocessing import sequence\n",
        "from keras.preprocessing.sequence import pad_sequences\n",
        "from keras.utils import np_utils\n",
        "import gensim\n",
        "import nltk\n",
        "from gensim.models.word2vec import Word2Vec\n",
        "import tensorflow as tf\n",
        "from tqdm import tqdm\n",
        "tqdm.pandas(desc=\"progress-bar\")\n",
        "nltk.download('stopwords')\n",
        "import re\n",
        "import matplotlib.pyplot as plt"
      ],
      "execution_count": null,
      "outputs": [
        {
          "output_type": "stream",
          "text": [
            "[nltk_data] Downloading package stopwords to /root/nltk_data...\n",
            "[nltk_data]   Unzipping corpora/stopwords.zip.\n"
          ],
          "name": "stdout"
        }
      ]
    },
    {
      "cell_type": "code",
      "metadata": {
        "id": "wfnAo63DpPZ8",
        "colab_type": "code",
        "colab": {
          "resources": {
            "http://localhost:8080/nbextensions/google.colab/files.js": {
              "data": "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",
              "ok": true,
              "headers": [
                [
                  "content-type",
                  "application/javascript"
                ]
              ],
              "status": 200,
              "status_text": ""
            }
          },
          "base_uri": "https://localhost:8080/",
          "height": 72
        },
        "outputId": "77dc19b6-5a04-4fc1-d7c4-c50b4046092d"
      },
      "source": [
        "#Upload the Dataset\n",
        "from google.colab import files\n",
        "uploaded = files.upload()"
      ],
      "execution_count": 47,
      "outputs": [
        {
          "output_type": "display_data",
          "data": {
            "text/html": [
              "\n",
              "     <input type=\"file\" id=\"files-dbff2c61-d70b-4d61-8d89-4b740a4e0789\" name=\"files[]\" multiple disabled\n",
              "        style=\"border:none\" />\n",
              "     <output id=\"result-dbff2c61-d70b-4d61-8d89-4b740a4e0789\">\n",
              "      Upload widget is only available when the cell has been executed in the\n",
              "      current browser session. Please rerun this cell to enable.\n",
              "      </output>\n",
              "      <script src=\"/nbextensions/google.colab/files.js\"></script> "
            ],
            "text/plain": [
              "<IPython.core.display.HTML object>"
            ]
          },
          "metadata": {
            "tags": []
          }
        },
        {
          "output_type": "stream",
          "text": [
            "Saving Demo1 clean.csv to Demo1 clean (1).csv\n"
          ],
          "name": "stdout"
        }
      ]
    },
    {
      "cell_type": "code",
      "metadata": {
        "id": "BGMKEAdMpcUb",
        "colab_type": "code",
        "colab": {}
      },
      "source": [
        "# Dataset is now stored in a Pandas Dataframe\n",
        "import io\n",
        "data = pd.read_csv(io.BytesIO(uploaded['Demo1 clean.csv']))"
      ],
      "execution_count": 48,
      "outputs": []
    },
    {
      "cell_type": "code",
      "metadata": {
        "id": "gfqn2bjTqXNY",
        "colab_type": "code",
        "colab": {
          "base_uri": "https://localhost:8080/",
          "height": 408
        },
        "outputId": "858b48b5-2e13-4b44-a4af-4be728f427fa"
      },
      "source": [
        "data.head()"
      ],
      "execution_count": 49,
      "outputs": [
        {
          "output_type": "execute_result",
          "data": {
            "text/html": [
              "<div>\n",
              "<style scoped>\n",
              "    .dataframe tbody tr th:only-of-type {\n",
              "        vertical-align: middle;\n",
              "    }\n",
              "\n",
              "    .dataframe tbody tr th {\n",
              "        vertical-align: top;\n",
              "    }\n",
              "\n",
              "    .dataframe thead th {\n",
              "        text-align: right;\n",
              "    }\n",
              "</style>\n",
              "<table border=\"1\" class=\"dataframe\">\n",
              "  <thead>\n",
              "    <tr style=\"text-align: right;\">\n",
              "      <th></th>\n",
              "      <th>Unnamed: 0</th>\n",
              "      <th>Hotel_id</th>\n",
              "      <th>Hotel</th>\n",
              "      <th>Title</th>\n",
              "      <th>Users</th>\n",
              "      <th>Reviews</th>\n",
              "      <th>Text_Clean</th>\n",
              "      <th>Rating</th>\n",
              "      <th>tokens</th>\n",
              "      <th>Sentiment</th>\n",
              "    </tr>\n",
              "  </thead>\n",
              "  <tbody>\n",
              "    <tr>\n",
              "      <th>0</th>\n",
              "      <td>0</td>\n",
              "      <td>AVwc252WIN2L1WUfpqLP</td>\n",
              "      <td>Rancho Valencia Resort Spa</td>\n",
              "      <td>Best romantic vacation ever!!!!</td>\n",
              "      <td>Paula</td>\n",
              "      <td>Our experience at Rancho Valencia was absolute...</td>\n",
              "      <td>experience rancho valencia absolutely perfect ...</td>\n",
              "      <td>5</td>\n",
              "      <td>['experience', 'rancho', 'valencia', 'absolute...</td>\n",
              "      <td>Positive</td>\n",
              "    </tr>\n",
              "    <tr>\n",
              "      <th>1</th>\n",
              "      <td>1</td>\n",
              "      <td>AVwc252WIN2L1WUfpqLP</td>\n",
              "      <td>Rancho Valencia Resort Spa</td>\n",
              "      <td>Sweet sweet serenity</td>\n",
              "      <td>D</td>\n",
              "      <td>Amazing place. Everyone was extremely warm and...</td>\n",
              "      <td>amazing place everyone extremely warm welcomin...</td>\n",
              "      <td>5</td>\n",
              "      <td>['amazing', 'place', 'everyone', 'extremely', ...</td>\n",
              "      <td>Positive</td>\n",
              "    </tr>\n",
              "    <tr>\n",
              "      <th>2</th>\n",
              "      <td>2</td>\n",
              "      <td>AVwc252WIN2L1WUfpqLP</td>\n",
              "      <td>Rancho Valencia Resort Spa</td>\n",
              "      <td>Amazing Property and Experience</td>\n",
              "      <td>Ron</td>\n",
              "      <td>We booked a 3 night stay at Rancho Valencia to...</td>\n",
              "      <td>booked 3 night stay rancho valencia play tenni...</td>\n",
              "      <td>5</td>\n",
              "      <td>['booked', '3', 'night', 'stay', 'rancho', 'va...</td>\n",
              "      <td>Positive</td>\n",
              "    </tr>\n",
              "    <tr>\n",
              "      <th>3</th>\n",
              "      <td>3</td>\n",
              "      <td>AVwdOclqIN2L1WUfti38</td>\n",
              "      <td>Aloft Arundel Mills</td>\n",
              "      <td>Never again...beware, if you want sleep.</td>\n",
              "      <td>jaeem2016</td>\n",
              "      <td>Currently in bed writing this for the past hr ...</td>\n",
              "      <td>currently bed writing past hr 12 dogs barking ...</td>\n",
              "      <td>2</td>\n",
              "      <td>['currently', 'bed', 'writing', 'past', 'hr', ...</td>\n",
              "      <td>Negative</td>\n",
              "    </tr>\n",
              "    <tr>\n",
              "      <th>4</th>\n",
              "      <td>4</td>\n",
              "      <td>AVwdOclqIN2L1WUfti38</td>\n",
              "      <td>Aloft Arundel Mills</td>\n",
              "      <td>ALWAYS GREAT STAY...</td>\n",
              "      <td>MamaNiaOne</td>\n",
              "      <td>I live in Md and the Aloft is my Home away fro...</td>\n",
              "      <td>live md aloft home away homewe stayed 1 night ...</td>\n",
              "      <td>5</td>\n",
              "      <td>['live', 'md', 'aloft', 'home', 'away', 'homew...</td>\n",
              "      <td>Positive</td>\n",
              "    </tr>\n",
              "  </tbody>\n",
              "</table>\n",
              "</div>"
            ],
            "text/plain": [
              "   Unnamed: 0  ... Sentiment\n",
              "0           0  ...  Positive\n",
              "1           1  ...  Positive\n",
              "2           2  ...  Positive\n",
              "3           3  ...  Negative\n",
              "4           4  ...  Positive\n",
              "\n",
              "[5 rows x 10 columns]"
            ]
          },
          "metadata": {
            "tags": []
          },
          "execution_count": 49
        }
      ]
    },
    {
      "cell_type": "code",
      "metadata": {
        "id": "_EBp6qs-tnx9",
        "colab_type": "code",
        "colab": {}
      },
      "source": [
        "data.Text_Clean=data.Text_Clean.astype(str)\n"
      ],
      "execution_count": 50,
      "outputs": []
    },
    {
      "cell_type": "code",
      "metadata": {
        "id": "I5RV-gflptHO",
        "colab_type": "code",
        "colab": {}
      },
      "source": [
        "X = data['Text_Clean']\n",
        "y = data['Sentiment']"
      ],
      "execution_count": 51,
      "outputs": []
    },
    {
      "cell_type": "code",
      "metadata": {
        "id": "4Qpx819M3hJO",
        "colab_type": "code",
        "colab": {}
      },
      "source": [
        "y = np.array(list(map(lambda x: 1 if x==\"Positive\" else 0, y)))"
      ],
      "execution_count": 52,
      "outputs": []
    },
    {
      "cell_type": "code",
      "metadata": {
        "id": "WJimxeNr4xHe",
        "colab_type": "code",
        "colab": {
          "base_uri": "https://localhost:8080/",
          "height": 34
        },
        "outputId": "824d26a0-955d-46c4-a9c0-0ca4f124f4cc"
      },
      "source": [
        "y"
      ],
      "execution_count": 53,
      "outputs": [
        {
          "output_type": "execute_result",
          "data": {
            "text/plain": [
              "array([1, 1, 1, ..., 1, 1, 0])"
            ]
          },
          "metadata": {
            "tags": []
          },
          "execution_count": 53
        }
      ]
    },
    {
      "cell_type": "code",
      "metadata": {
        "id": "aFqWnnDorzsG",
        "colab_type": "code",
        "colab": {
          "base_uri": "https://localhost:8080/",
          "height": 119
        },
        "outputId": "c06d9319-da1d-44b6-8a96-7936dd74ecb0"
      },
      "source": [
        "data['Text_Clean'][:5]\n"
      ],
      "execution_count": 54,
      "outputs": [
        {
          "output_type": "execute_result",
          "data": {
            "text/plain": [
              "0    experience rancho valencia absolutely perfect ...\n",
              "1    amazing place everyone extremely warm welcomin...\n",
              "2    booked 3 night stay rancho valencia play tenni...\n",
              "3    currently bed writing past hr 12 dogs barking ...\n",
              "4    live md aloft home away homewe stayed 1 night ...\n",
              "Name: Text_Clean, dtype: object"
            ]
          },
          "metadata": {
            "tags": []
          },
          "execution_count": 54
        }
      ]
    },
    {
      "cell_type": "code",
      "metadata": {
        "id": "8mZgDnOI3EIs",
        "colab_type": "code",
        "colab": {
          "base_uri": "https://localhost:8080/",
          "height": 34
        },
        "outputId": "58daf46d-e2bf-4496-d99f-82bc41479f18"
      },
      "source": [
        "\n",
        "from keras.preprocessing.text import Tokenizer\n",
        "\n",
        "samples = X\n",
        "tokenizer = Tokenizer(lower=True, split=' ') # creates tokenizer\n",
        "tokenizer.fit_on_texts(samples)  # builds the word index\n",
        "sequences = tokenizer.texts_to_sequences(samples) #turns strings into list of integers\n",
        "# word_index is a dictionary mapping words to an integer index\n",
        "word_index = tokenizer.word_index \n",
        "print(f'Found {len(word_index)} unique tokens. ')"
      ],
      "execution_count": 55,
      "outputs": [
        {
          "output_type": "stream",
          "text": [
            "Found 19663 unique tokens. \n"
          ],
          "name": "stdout"
        }
      ]
    },
    {
      "cell_type": "code",
      "metadata": {
        "id": "7CgjGjtp456M",
        "colab_type": "code",
        "colab": {
          "base_uri": "https://localhost:8080/",
          "height": 34
        },
        "outputId": "d5e4d09f-4643-48f9-fa86-ac155426f457"
      },
      "source": [
        "max([max(sequence) for sequence in sequences])\n"
      ],
      "execution_count": 56,
      "outputs": [
        {
          "output_type": "execute_result",
          "data": {
            "text/plain": [
              "19663"
            ]
          },
          "metadata": {
            "tags": []
          },
          "execution_count": 56
        }
      ]
    },
    {
      "cell_type": "code",
      "metadata": {
        "id": "4BbV2SAE488w",
        "colab_type": "code",
        "colab": {
          "base_uri": "https://localhost:8080/",
          "height": 34
        },
        "outputId": "4119c27e-b932-417c-d8bd-bd5b1d46bc14"
      },
      "source": [
        "# Each number is the index of the word in the order of word in original text\n",
        "sequences[0]"
      ],
      "execution_count": 57,
      "outputs": [
        {
          "output_type": "execute_result",
          "data": {
            "text/plain": [
              "[58, 5356, 4107, 420, 74, 1384, 350, 223, 373, 158, 14, 13, 162, 32, 799, 694]"
            ]
          },
          "metadata": {
            "tags": []
          },
          "execution_count": 57
        }
      ]
    },
    {
      "cell_type": "code",
      "metadata": {
        "id": "38IZfQ3K5C8x",
        "colab_type": "code",
        "colab": {
          "base_uri": "https://localhost:8080/",
          "height": 1000
        },
        "outputId": "c4b202e1-842f-4480-e31c-3a4679264150"
      },
      "source": [
        "word_index\n"
      ],
      "execution_count": 58,
      "outputs": [
        {
          "output_type": "execute_result",
          "data": {
            "text/plain": [
              "{'hotel': 1,\n",
              " 'room': 2,\n",
              " 'staff': 3,\n",
              " 'stay': 4,\n",
              " 'good': 5,\n",
              " 'great': 6,\n",
              " 'clean': 7,\n",
              " 'breakfast': 8,\n",
              " 'nice': 9,\n",
              " 'rooms': 10,\n",
              " 'friendly': 11,\n",
              " 'location': 12,\n",
              " 'would': 13,\n",
              " 'stayed': 14,\n",
              " 'comfortable': 15,\n",
              " 'us': 16,\n",
              " 'one': 17,\n",
              " 'time': 18,\n",
              " 'place': 19,\n",
              " 'night': 20,\n",
              " 'service': 21,\n",
              " 'area': 22,\n",
              " 'helpful': 23,\n",
              " 'desk': 24,\n",
              " 'well': 25,\n",
              " 'bad': 26,\n",
              " 'front': 27,\n",
              " 'bed': 28,\n",
              " 'get': 29,\n",
              " 'pool': 30,\n",
              " 'like': 31,\n",
              " 'back': 32,\n",
              " 'could': 33,\n",
              " 'also': 34,\n",
              " 'really': 35,\n",
              " 'free': 36,\n",
              " 'close': 37,\n",
              " 'everything': 38,\n",
              " 'parking': 39,\n",
              " 'next': 40,\n",
              " 'best': 41,\n",
              " 'day': 42,\n",
              " 'didnt': 43,\n",
              " 'check': 44,\n",
              " 'price': 45,\n",
              " 'small': 46,\n",
              " 'even': 47,\n",
              " 'little': 48,\n",
              " 'excellent': 49,\n",
              " 'first': 50,\n",
              " 'right': 51,\n",
              " 'food': 52,\n",
              " 'bathroom': 53,\n",
              " 'beds': 54,\n",
              " 'two': 55,\n",
              " 'new': 56,\n",
              " 'always': 57,\n",
              " 'experience': 58,\n",
              " '2': 59,\n",
              " 'much': 60,\n",
              " 'family': 61,\n",
              " 'definitely': 62,\n",
              " 'made': 63,\n",
              " 'restaurants': 64,\n",
              " 'floor': 65,\n",
              " 'go': 66,\n",
              " 'enjoyed': 67,\n",
              " 'recommend': 68,\n",
              " 'hotels': 69,\n",
              " 'got': 70,\n",
              " 'quiet': 71,\n",
              " 'hot': 72,\n",
              " 'inn': 73,\n",
              " 'perfect': 74,\n",
              " 'view': 75,\n",
              " 'easy': 76,\n",
              " 'wonderful': 77,\n",
              " 'door': 78,\n",
              " 'trip': 79,\n",
              " 'lobby': 80,\n",
              " 'way': 81,\n",
              " 'morning': 82,\n",
              " 'staying': 83,\n",
              " 'people': 84,\n",
              " 'many': 85,\n",
              " 'bar': 86,\n",
              " 'restaurant': 87,\n",
              " 'water': 88,\n",
              " 'every': 89,\n",
              " 'walk': 90,\n",
              " 'lot': 91,\n",
              " 'need': 92,\n",
              " 'away': 93,\n",
              " 'went': 94,\n",
              " 'see': 95,\n",
              " 'walking': 96,\n",
              " 'shower': 97,\n",
              " 'coffee': 98,\n",
              " 'property': 99,\n",
              " 'loved': 100,\n",
              " 'beach': 101,\n",
              " 'located': 102,\n",
              " 'booked': 103,\n",
              " 'better': 104,\n",
              " 'needed': 105,\n",
              " 'beautiful': 106,\n",
              " 'nights': 107,\n",
              " 'spacious': 108,\n",
              " 'make': 109,\n",
              " 'around': 110,\n",
              " 'work': 111,\n",
              " 'visit': 112,\n",
              " 'old': 113,\n",
              " 'convenient': 114,\n",
              " 'shuttle': 115,\n",
              " 'overall': 116,\n",
              " 'never': 117,\n",
              " 'amazing': 118,\n",
              " '3': 119,\n",
              " 'extremely': 120,\n",
              " 'downtown': 121,\n",
              " 'large': 122,\n",
              " 'bit': 123,\n",
              " 'motel': 124,\n",
              " 'street': 125,\n",
              " 'dont': 126,\n",
              " 'near': 127,\n",
              " 'distance': 128,\n",
              " 'business': 129,\n",
              " 'found': 130,\n",
              " 'thank': 131,\n",
              " 'however': 132,\n",
              " 'find': 133,\n",
              " 'arrived': 134,\n",
              " 'enough': 135,\n",
              " 'though': 136,\n",
              " 'wasnt': 137,\n",
              " 'town': 138,\n",
              " 'pleasant': 139,\n",
              " 'told': 140,\n",
              " 'times': 141,\n",
              " 'suite': 142,\n",
              " 'manager': 143,\n",
              " 'use': 144,\n",
              " 'big': 145,\n",
              " 'minutes': 146,\n",
              " 'ever': 147,\n",
              " 'love': 148,\n",
              " 'checked': 149,\n",
              " 'within': 150,\n",
              " 'last': 151,\n",
              " 'another': 152,\n",
              " 'want': 153,\n",
              " 'nothing': 154,\n",
              " 'long': 155,\n",
              " '5': 156,\n",
              " 'take': 157,\n",
              " 'happy': 158,\n",
              " 'sure': 159,\n",
              " 'outside': 160,\n",
              " 'super': 161,\n",
              " 'come': 162,\n",
              " 'review': 163,\n",
              " 'guests': 164,\n",
              " 'available': 165,\n",
              " 'days': 166,\n",
              " 'wifi': 167,\n",
              " 'weekend': 168,\n",
              " 'feel': 169,\n",
              " 'needs': 170,\n",
              " 'looking': 171,\n",
              " 'going': 172,\n",
              " 'know': 173,\n",
              " 'amenities': 174,\n",
              " 'city': 175,\n",
              " 'able': 176,\n",
              " 'value': 177,\n",
              " 'lots': 178,\n",
              " 'look': 179,\n",
              " 'took': 180,\n",
              " 'sleep': 181,\n",
              " 'suites': 182,\n",
              " 'late': 183,\n",
              " 'tv': 184,\n",
              " 'airport': 185,\n",
              " 'say': 186,\n",
              " 'home': 187,\n",
              " 'noise': 188,\n",
              " 'early': 189,\n",
              " 'said': 190,\n",
              " 'across': 191,\n",
              " 'several': 192,\n",
              " 'since': 193,\n",
              " '4': 194,\n",
              " 'pretty': 195,\n",
              " 'hear': 196,\n",
              " 'came': 197,\n",
              " 'quite': 198,\n",
              " 'tub': 199,\n",
              " 'park': 200,\n",
              " 'ok': 201,\n",
              " 'kids': 202,\n",
              " 'size': 203,\n",
              " 'still': 204,\n",
              " 'dirty': 205,\n",
              " 'accommodating': 206,\n",
              " 'guest': 207,\n",
              " 'awesome': 208,\n",
              " 'car': 209,\n",
              " 'thing': 210,\n",
              " 'full': 211,\n",
              " 'center': 212,\n",
              " 'hope': 213,\n",
              " 'modern': 214,\n",
              " 'far': 215,\n",
              " 'year': 216,\n",
              " 'space': 217,\n",
              " 'second': 218,\n",
              " 'king': 219,\n",
              " 'towels': 220,\n",
              " 'extra': 221,\n",
              " 'left': 222,\n",
              " 'felt': 223,\n",
              " 'ive': 224,\n",
              " 'things': 225,\n",
              " 'customer': 226,\n",
              " 'asked': 227,\n",
              " 'especially': 228,\n",
              " 'plenty': 229,\n",
              " 'shopping': 230,\n",
              " 'wanted': 231,\n",
              " 'years': 232,\n",
              " '1': 233,\n",
              " 'called': 234,\n",
              " 'problem': 235,\n",
              " 'kept': 236,\n",
              " 'hampton': 237,\n",
              " 'gave': 238,\n",
              " 'give': 239,\n",
              " 'access': 240,\n",
              " 'im': 241,\n",
              " 'money': 242,\n",
              " 'drive': 243,\n",
              " 'short': 244,\n",
              " 'cant': 245,\n",
              " 'checkin': 246,\n",
              " 'complimentary': 247,\n",
              " 'although': 248,\n",
              " 'places': 249,\n",
              " 'highly': 250,\n",
              " 'resort': 251,\n",
              " 'hour': 252,\n",
              " 'couldnt': 253,\n",
              " 'kind': 254,\n",
              " 'looked': 255,\n",
              " 'microwave': 256,\n",
              " 'think': 257,\n",
              " 'taking': 258,\n",
              " 'used': 259,\n",
              " 'hours': 260,\n",
              " 'buffet': 261,\n",
              " 'help': 262,\n",
              " 'rate': 263,\n",
              " 'metro': 264,\n",
              " 'etc': 265,\n",
              " 'husband': 266,\n",
              " 'fine': 267,\n",
              " 'comfy': 268,\n",
              " 'high': 269,\n",
              " '10': 270,\n",
              " 'open': 271,\n",
              " 'hard': 272,\n",
              " 'anything': 273,\n",
              " 'everyone': 274,\n",
              " 'included': 275,\n",
              " 'offered': 276,\n",
              " 'travel': 277,\n",
              " 'air': 278,\n",
              " 'upon': 279,\n",
              " 'fantastic': 280,\n",
              " 'top': 281,\n",
              " 'return': 282,\n",
              " 'building': 283,\n",
              " 'week': 284,\n",
              " 'couple': 285,\n",
              " 'continental': 286,\n",
              " 'enjoy': 287,\n",
              " 'fresh': 288,\n",
              " 'side': 289,\n",
              " 'pillows': 290,\n",
              " 'housekeeping': 291,\n",
              " 'quality': 292,\n",
              " 'loud': 293,\n",
              " 'part': 294,\n",
              " 'nearby': 295,\n",
              " 'working': 296,\n",
              " 'plus': 297,\n",
              " 'call': 298,\n",
              " 'pay': 299,\n",
              " 'given': 300,\n",
              " 'worth': 301,\n",
              " 'issue': 302,\n",
              " 'quick': 303,\n",
              " 'minute': 304,\n",
              " 'eat': 305,\n",
              " 'kitchen': 306,\n",
              " 'welcoming': 307,\n",
              " 'lovely': 308,\n",
              " 'ready': 309,\n",
              " 'wait': 310,\n",
              " 'cold': 311,\n",
              " 'pleased': 312,\n",
              " 'fridge': 313,\n",
              " 'reservation': 314,\n",
              " 'choice': 315,\n",
              " 'ac': 316,\n",
              " 'thought': 317,\n",
              " 'getting': 318,\n",
              " 'worked': 319,\n",
              " 'western': 320,\n",
              " 'put': 321,\n",
              " 'friends': 322,\n",
              " 'elevator': 323,\n",
              " 'person': 324,\n",
              " 'dinner': 325,\n",
              " 'internet': 326,\n",
              " 'provided': 327,\n",
              " 'try': 328,\n",
              " 'house': 329,\n",
              " 'without': 330,\n",
              " 'road': 331,\n",
              " 'spent': 332,\n",
              " 'reviews': 333,\n",
              " 'evening': 334,\n",
              " 'visiting': 335,\n",
              " 'decent': 336,\n",
              " 'smell': 337,\n",
              " 'courteous': 338,\n",
              " 'wife': 339,\n",
              " 'something': 340,\n",
              " 'safe': 341,\n",
              " 'forward': 342,\n",
              " 'ask': 343,\n",
              " 'expected': 344,\n",
              " 'expensive': 345,\n",
              " 'main': 346,\n",
              " 'paid': 347,\n",
              " 'seemed': 348,\n",
              " 'reasonable': 349,\n",
              " 'end': 350,\n",
              " 'entire': 351,\n",
              " 'noisy': 352,\n",
              " 'reception': 353,\n",
              " 'due': 354,\n",
              " 'disappointed': 355,\n",
              " 'care': 356,\n",
              " 'warm': 357,\n",
              " 'offer': 358,\n",
              " 'stop': 359,\n",
              " 'anyone': 360,\n",
              " 'bedroom': 361,\n",
              " 'different': 362,\n",
              " 'options': 363,\n",
              " 'coming': 364,\n",
              " 'glad': 365,\n",
              " 'recently': 366,\n",
              " 'team': 367,\n",
              " 'decided': 368,\n",
              " '6': 369,\n",
              " 'key': 370,\n",
              " 'less': 371,\n",
              " 'valet': 372,\n",
              " 'special': 373,\n",
              " 'soon': 374,\n",
              " 'huge': 375,\n",
              " 'fun': 376,\n",
              " 'station': 377,\n",
              " 'else': 378,\n",
              " 'expect': 379,\n",
              " 'three': 380,\n",
              " 'arrival': 381,\n",
              " 'charge': 382,\n",
              " 'strip': 383,\n",
              " 'appreciate': 384,\n",
              " 'professional': 385,\n",
              " 'dc': 386,\n",
              " 'star': 387,\n",
              " 'ocean': 388,\n",
              " 'feedback': 389,\n",
              " 'toilet': 390,\n",
              " 'let': 391,\n",
              " 'local': 392,\n",
              " 'smelled': 393,\n",
              " 'may': 394,\n",
              " 'recent': 395,\n",
              " 'napa': 396,\n",
              " 'comfort': 397,\n",
              " 'traveling': 398,\n",
              " 'areas': 399,\n",
              " 'deal': 400,\n",
              " 'decor': 401,\n",
              " 'eggs': 402,\n",
              " 'someone': 403,\n",
              " 'liked': 404,\n",
              " 'carpet': 405,\n",
              " 'run': 406,\n",
              " 'casino': 407,\n",
              " 'balcony': 408,\n",
              " 'wedding': 409,\n",
              " 'please': 410,\n",
              " 'cleaning': 411,\n",
              " 'rude': 412,\n",
              " 'st': 413,\n",
              " 'probably': 414,\n",
              " 'views': 415,\n",
              " 'facility': 416,\n",
              " 'walked': 417,\n",
              " 'clerk': 418,\n",
              " 'river': 419,\n",
              " 'absolutely': 420,\n",
              " 'making': 421,\n",
              " 'expectations': 422,\n",
              " 'highway': 423,\n",
              " 'maintained': 424,\n",
              " 'actually': 425,\n",
              " 'leave': 426,\n",
              " 'keep': 427,\n",
              " 'vegas': 428,\n",
              " 'updated': 429,\n",
              " 'card': 430,\n",
              " 'dining': 431,\n",
              " 'light': 432,\n",
              " 'thats': 433,\n",
              " 'cleaned': 434,\n",
              " 'phone': 435,\n",
              " 'average': 436,\n",
              " 'rest': 437,\n",
              " 'real': 438,\n",
              " 'cool': 439,\n",
              " 'standard': 440,\n",
              " 'book': 441,\n",
              " 'future': 442,\n",
              " 'older': 443,\n",
              " 'lady': 444,\n",
              " 'overnight': 445,\n",
              " 'wish': 446,\n",
              " 'least': 447,\n",
              " 'bring': 448,\n",
              " 'sheets': 449,\n",
              " 'welcome': 450,\n",
              " 'surprised': 451,\n",
              " 'busy': 452,\n",
              " 'hyatt': 453,\n",
              " 'past': 454,\n",
              " 'youre': 455,\n",
              " 'drinks': 456,\n",
              " 'employees': 457,\n",
              " 'facilities': 458,\n",
              " 'queen': 459,\n",
              " 'checking': 460,\n",
              " 'impressed': 461,\n",
              " 'basic': 462,\n",
              " '20': 463,\n",
              " 'four': 464,\n",
              " 'almost': 465,\n",
              " 'job': 466,\n",
              " 'cost': 467,\n",
              " 'worst': 468,\n",
              " 'choose': 469,\n",
              " 'items': 470,\n",
              " 'smoking': 471,\n",
              " '15': 472,\n",
              " 'choices': 473,\n",
              " 'nicely': 474,\n",
              " 'poor': 475,\n",
              " 'met': 476,\n",
              " 'efficient': 477,\n",
              " 'saw': 478,\n",
              " 'greeted': 479,\n",
              " 'hilton': 480,\n",
              " 'beyond': 481,\n",
              " 'set': 482,\n",
              " 'outstanding': 483,\n",
              " 'wine': 484,\n",
              " 'makes': 485,\n",
              " 'thanks': 486,\n",
              " 'complaint': 487,\n",
              " 'per': 488,\n",
              " 'cleanliness': 489,\n",
              " 'whole': 490,\n",
              " 'relaxing': 491,\n",
              " 'along': 492,\n",
              " 'exceptional': 493,\n",
              " 'looks': 494,\n",
              " 'inside': 495,\n",
              " 'attractions': 496,\n",
              " 'done': 497,\n",
              " 'marriott': 498,\n",
              " 'brand': 499,\n",
              " 'provide': 500,\n",
              " 'delicious': 501,\n",
              " 'point': 502,\n",
              " 'double': 503,\n",
              " 'fast': 504,\n",
              " 'bath': 505,\n",
              " 'sink': 506,\n",
              " 'refrigerator': 507,\n",
              " 'renovated': 508,\n",
              " 'others': 509,\n",
              " 'accommodations': 510,\n",
              " 'fruit': 511,\n",
              " 'unit': 512,\n",
              " 'issues': 513,\n",
              " 'later': 514,\n",
              " 'walls': 515,\n",
              " 'seattle': 516,\n",
              " 'including': 517,\n",
              " 'window': 518,\n",
              " 'smoke': 519,\n",
              " 'either': 520,\n",
              " 'chose': 521,\n",
              " 'order': 522,\n",
              " 'wall': 523,\n",
              " 'attentive': 524,\n",
              " 'name': 525,\n",
              " 'share': 526,\n",
              " 'polite': 527,\n",
              " 'spend': 528,\n",
              " 'vacation': 529,\n",
              " 'comments': 530,\n",
              " 'line': 531,\n",
              " 'member': 532,\n",
              " 'problems': 533,\n",
              " 'general': 534,\n",
              " 'children': 535,\n",
              " 'middle': 536,\n",
              " 'wouldnt': 537,\n",
              " 'west': 538,\n",
              " 'variety': 539,\n",
              " 'block': 540,\n",
              " 'tried': 541,\n",
              " 'management': 542,\n",
              " 'broken': 543,\n",
              " 'slept': 544,\n",
              " 'except': 545,\n",
              " 'instead': 546,\n",
              " 'daughter': 547,\n",
              " 'lake': 548,\n",
              " 'corner': 549,\n",
              " 'twice': 550,\n",
              " 'group': 551,\n",
              " 'dated': 552,\n",
              " 'doors': 553,\n",
              " 'game': 554,\n",
              " 'must': 555,\n",
              " 'la': 556,\n",
              " 'holiday': 557,\n",
              " 'decorated': 558,\n",
              " 'terrible': 559,\n",
              " 'half': 560,\n",
              " 'appointed': 561,\n",
              " 'shops': 562,\n",
              " 'trying': 563,\n",
              " 'office': 564,\n",
              " 'fact': 565,\n",
              " 'floors': 566,\n",
              " 'yet': 567,\n",
              " 'received': 568,\n",
              " 'neighborhood': 569,\n",
              " 'site': 570,\n",
              " 'complaints': 571,\n",
              " 'furniture': 572,\n",
              " 'pm': 573,\n",
              " 'atmosphere': 574,\n",
              " 'driving': 575,\n",
              " 'id': 576,\n",
              " 'charged': 577,\n",
              " 'served': 578,\n",
              " 'mall': 579,\n",
              " 'upgraded': 580,\n",
              " 'bathrooms': 581,\n",
              " 'party': 582,\n",
              " 'priced': 583,\n",
              " 'adequate': 584,\n",
              " 'immediately': 585,\n",
              " 'dog': 586,\n",
              " 'type': 587,\n",
              " 'blocks': 588,\n",
              " 'aria': 589,\n",
              " 'requested': 590,\n",
              " 'pet': 591,\n",
              " 'low': 592,\n",
              " 'fitness': 593,\n",
              " 'selection': 594,\n",
              " 'using': 595,\n",
              " 'families': 596,\n",
              " 'behind': 597,\n",
              " 'checkout': 598,\n",
              " 'prices': 599,\n",
              " 'request': 600,\n",
              " 'drink': 601,\n",
              " 'table': 602,\n",
              " 'directly': 603,\n",
              " 'waffles': 604,\n",
              " 'seems': 605,\n",
              " 'grounds': 606,\n",
              " 'chicago': 607,\n",
              " 'change': 608,\n",
              " 'weve': 609,\n",
              " 'running': 610,\n",
              " 'conference': 611,\n",
              " 'flight': 612,\n",
              " 'slow': 613,\n",
              " 'living': 614,\n",
              " 'construction': 615,\n",
              " 'course': 616,\n",
              " 'ice': 617,\n",
              " 'booking': 618,\n",
              " 'certainly': 619,\n",
              " 'son': 620,\n",
              " 'tell': 621,\n",
              " 'affordable': 622,\n",
              " 'traffic': 623,\n",
              " 'negative': 624,\n",
              " 'stopped': 625,\n",
              " 'head': 626,\n",
              " 'rates': 627,\n",
              " 'five': 628,\n",
              " 'concierge': 629,\n",
              " 'quickly': 630,\n",
              " 'reason': 631,\n",
              " 'horrible': 632,\n",
              " 'start': 633,\n",
              " 'regis': 634,\n",
              " 'conveniently': 635,\n",
              " 'isnt': 636,\n",
              " 'level': 637,\n",
              " 'uncomfortable': 638,\n",
              " 'cheap': 639,\n",
              " 'satisfied': 640,\n",
              " 'south': 641,\n",
              " 'miles': 642,\n",
              " 'option': 643,\n",
              " 'finally': 644,\n",
              " 'hair': 645,\n",
              " 'harbor': 646,\n",
              " 'number': 647,\n",
              " 'helped': 648,\n",
              " 'central': 649,\n",
              " 'enjoyable': 650,\n",
              " 'indoor': 651,\n",
              " 'third': 652,\n",
              " 'rather': 653,\n",
              " 'separate': 654,\n",
              " 'lounge': 655,\n",
              " 'maintenance': 656,\n",
              " 'wrong': 657,\n",
              " 'major': 658,\n",
              " 'hallway': 659,\n",
              " 'pleasure': 660,\n",
              " 'york': 661,\n",
              " 'machine': 662,\n",
              " 'red': 663,\n",
              " 'windows': 664,\n",
              " 'usually': 665,\n",
              " 'waiting': 666,\n",
              " 'plan': 667,\n",
              " 'surprise': 668,\n",
              " 'seen': 669,\n",
              " '30': 670,\n",
              " 'throughout': 671,\n",
              " 'services': 672,\n",
              " 'recommended': 673,\n",
              " 'ride': 674,\n",
              " 'fabulous': 675,\n",
              " 'spot': 676,\n",
              " 'sitting': 677,\n",
              " 'appreciated': 678,\n",
              " 'heard': 679,\n",
              " 'gym': 680,\n",
              " 'show': 681,\n",
              " 'condition': 682,\n",
              " 'theres': 683,\n",
              " 'meeting': 684,\n",
              " 'touch': 685,\n",
              " 'limited': 686,\n",
              " 'event': 687,\n",
              " 'closed': 688,\n",
              " 'music': 689,\n",
              " 'bus': 690,\n",
              " 'hall': 691,\n",
              " 'elevators': 692,\n",
              " 'credit': 693,\n",
              " 'beat': 694,\n",
              " 'reservations': 695,\n",
              " 'members': 696,\n",
              " 'delighted': 697,\n",
              " 'outdoor': 698,\n",
              " 'interstate': 699,\n",
              " 'young': 700,\n",
              " 'anywhere': 701,\n",
              " 'might': 702,\n",
              " 'turned': 703,\n",
              " 'favorite': 704,\n",
              " 'bars': 705,\n",
              " 'truly': 706,\n",
              " 'proximity': 707,\n",
              " 'changed': 708,\n",
              " 'thin': 709,\n",
              " 'doesnt': 710,\n",
              " 'ago': 711,\n",
              " 'relax': 712,\n",
              " 'allowed': 713,\n",
              " 'longer': 714,\n",
              " 'turn': 715,\n",
              " 'las': 716,\n",
              " 'okay': 717,\n",
              " 'min': 718,\n",
              " 'courtyard': 719,\n",
              " 'attention': 720,\n",
              " 'gorgeous': 721,\n",
              " 'stars': 722,\n",
              " 'cozy': 723,\n",
              " 'read': 724,\n",
              " 'otherwise': 725,\n",
              " 'sit': 726,\n",
              " 'mattress': 727,\n",
              " 'luggage': 728,\n",
              " 'crowded': 729,\n",
              " 'upgrade': 730,\n",
              " 'mile': 731,\n",
              " 'visited': 732,\n",
              " 'points': 733,\n",
              " 'cookies': 734,\n",
              " 'live': 735,\n",
              " 'style': 736,\n",
              " 'fee': 737,\n",
              " 'moved': 738,\n",
              " 'already': 739,\n",
              " 'sofa': 740,\n",
              " 'dark': 741,\n",
              " 'anaheim': 742,\n",
              " 'getaway': 743,\n",
              " 'sleeping': 744,\n",
              " 'maybe': 745,\n",
              " 'chain': 746,\n",
              " '3rd': 747,\n",
              " 'owners': 748,\n",
              " 'swimming': 749,\n",
              " 'fairly': 750,\n",
              " 'spa': 751,\n",
              " 'wont': 752,\n",
              " 'garage': 753,\n",
              " 'offers': 754,\n",
              " 'taken': 755,\n",
              " 'werent': 756,\n",
              " '8': 757,\n",
              " 'man': 758,\n",
              " 'believe': 759,\n",
              " 'bugs': 760,\n",
              " 'website': 761,\n",
              " 'questions': 762,\n",
              " 'ill': 763,\n",
              " 'simple': 764,\n",
              " 'convention': 765,\n",
              " 'cereal': 766,\n",
              " 'online': 767,\n",
              " 'usual': 768,\n",
              " 'birthday': 769,\n",
              " 'yes': 770,\n",
              " 'menu': 771,\n",
              " '100': 772,\n",
              " 'understand': 773,\n",
              " 'chairs': 774,\n",
              " 'anniversary': 775,\n",
              " 'positive': 776,\n",
              " 'historic': 777,\n",
              " 'difficult': 778,\n",
              " 'unfortunately': 779,\n",
              " 'tired': 780,\n",
              " 'process': 781,\n",
              " 'soft': 782,\n",
              " 'de': 783,\n",
              " 'snacks': 784,\n",
              " 'easily': 785,\n",
              " 'bedding': 786,\n",
              " 'worn': 787,\n",
              " 'smaller': 788,\n",
              " 'keys': 789,\n",
              " 'seeing': 790,\n",
              " 'weeks': 791,\n",
              " 'french': 792,\n",
              " 'conditioner': 793,\n",
              " 'fan': 794,\n",
              " 'higher': 795,\n",
              " 'possible': 796,\n",
              " 'spotless': 797,\n",
              " 'brought': 798,\n",
              " 'heart': 799,\n",
              " 'sausage': 800,\n",
              " 'mind': 801,\n",
              " 'chair': 802,\n",
              " 'nicer': 803,\n",
              " 'tiny': 804,\n",
              " 'remodeled': 805,\n",
              " 'seem': 806,\n",
              " 'market': 807,\n",
              " 'fire': 808,\n",
              " 'owner': 809,\n",
              " '12': 810,\n",
              " 'hallways': 811,\n",
              " 'important': 812,\n",
              " 'roof': 813,\n",
              " 'ended': 814,\n",
              " 'garden': 815,\n",
              " 'security': 816,\n",
              " 'maker': 817,\n",
              " 'non': 818,\n",
              " 'completely': 819,\n",
              " 'serve': 820,\n",
              " 'kitchenette': 821,\n",
              " 'often': 822,\n",
              " 'grand': 823,\n",
              " 'activities': 824,\n",
              " 'mini': 825,\n",
              " 'world': 826,\n",
              " 'sunday': 827,\n",
              " 'directions': 828,\n",
              " 'meal': 829,\n",
              " 'sized': 830,\n",
              " 'opened': 831,\n",
              " 'move': 832,\n",
              " 'tripadvisor': 833,\n",
              " 'pleasantly': 834,\n",
              " 'sorry': 835,\n",
              " 'pictures': 836,\n",
              " 'stores': 837,\n",
              " 'couch': 838,\n",
              " 'outdated': 839,\n",
              " 'stairs': 840,\n",
              " 'common': 841,\n",
              " 'renovations': 842,\n",
              " 'opportunity': 843,\n",
              " 'pick': 844,\n",
              " 'fancy': 845,\n",
              " 'accommodate': 846,\n",
              " 'entrance': 847,\n",
              " 'dennys': 848,\n",
              " 'months': 849,\n",
              " 'pools': 850,\n",
              " 'stuff': 851,\n",
              " 'centrally': 852,\n",
              " 'island': 853,\n",
              " 'freeway': 854,\n",
              " 'express': 855,\n",
              " 'store': 856,\n",
              " 'incredibly': 857,\n",
              " 'daily': 858,\n",
              " 'reserved': 859,\n",
              " 'whenever': 860,\n",
              " 'needle': 861,\n",
              " 'based': 862,\n",
              " 'system': 863,\n",
              " 'stays': 864,\n",
              " 'meet': 865,\n",
              " 'rooftop': 866,\n",
              " 'public': 867,\n",
              " 'temperature': 868,\n",
              " 'pricey': 869,\n",
              " 'chance': 870,\n",
              " 'bonus': 871,\n",
              " 'totally': 872,\n",
              " 'sign': 873,\n",
              " 'flat': 874,\n",
              " 'moment': 875,\n",
              " 'newly': 876,\n",
              " 'complain': 877,\n",
              " 'eating': 878,\n",
              " 'paper': 879,\n",
              " 'updating': 880,\n",
              " 'compared': 881,\n",
              " 'art': 882,\n",
              " 'treated': 883,\n",
              " 'smile': 884,\n",
              " 'club': 885,\n",
              " 'hotelscom': 886,\n",
              " 'write': 887,\n",
              " 'facing': 888,\n",
              " 'perfectly': 889,\n",
              " 'driver': 890,\n",
              " 'typical': 891,\n",
              " '2nd': 892,\n",
              " 'guess': 893,\n",
              " 'ran': 894,\n",
              " 'pressure': 895,\n",
              " 'weather': 896,\n",
              " 'stocked': 897,\n",
              " 'returning': 898,\n",
              " 'experienced': 899,\n",
              " 'regarding': 900,\n",
              " 'luxury': 901,\n",
              " 'contact': 902,\n",
              " 'conditioning': 903,\n",
              " 'budget': 904,\n",
              " 'control': 905,\n",
              " 'somewhere': 906,\n",
              " 'single': 907,\n",
              " 'discount': 908,\n",
              " 'accessible': 909,\n",
              " 'washington': 910,\n",
              " '7': 911,\n",
              " 'started': 912,\n",
              " 'inviting': 913,\n",
              " 'despite': 914,\n",
              " 'additional': 915,\n",
              " 'july': 916,\n",
              " 'guy': 917,\n",
              " 'picked': 918,\n",
              " 'stains': 919,\n",
              " 'laundry': 920,\n",
              " 'everywhere': 921,\n",
              " 'friend': 922,\n",
              " 'quarter': 923,\n",
              " 'neat': 924,\n",
              " 'saturday': 925,\n",
              " 'mins': 926,\n",
              " 'tea': 927,\n",
              " 'somewhat': 928,\n",
              " 'train': 929,\n",
              " 'literally': 930,\n",
              " 'added': 931,\n",
              " 'ceiling': 932,\n",
              " 'personal': 933,\n",
              " 'afternoon': 934,\n",
              " 'mold': 935,\n",
              " 'atlanta': 936,\n",
              " 'shop': 937,\n",
              " 'supposed': 938,\n",
              " 'feeling': 939,\n",
              " 'linens': 940,\n",
              " 'orleans': 941,\n",
              " 'complete': 942,\n",
              " 'hospitality': 943,\n",
              " 'encountered': 944,\n",
              " 'state': 945,\n",
              " 'san': 946,\n",
              " 'expedia': 947,\n",
              " 'multiple': 948,\n",
              " 'mention': 949,\n",
              " 'exactly': 950,\n",
              " 'boston': 951,\n",
              " 'counter': 952,\n",
              " 'glass': 953,\n",
              " 'information': 954,\n",
              " 'choosing': 955,\n",
              " 'reading': 956,\n",
              " 'prior': 957,\n",
              " 'screen': 958,\n",
              " 'worse': 959,\n",
              " 'cab': 960,\n",
              " 'aloft': 961,\n",
              " 'missing': 962,\n",
              " 'leaving': 963,\n",
              " 'showed': 964,\n",
              " 'design': 965,\n",
              " 'toast': 966,\n",
              " 'dollars': 967,\n",
              " 'gone': 968,\n",
              " 'hold': 969,\n",
              " 'returned': 970,\n",
              " 'noticed': 971,\n",
              " 'knew': 972,\n",
              " 'bill': 973,\n",
              " 'larger': 974,\n",
              " 'improve': 975,\n",
              " 'disappointing': 976,\n",
              " 'golf': 977,\n",
              " '24': 978,\n",
              " 'company': 979,\n",
              " 'private': 980,\n",
              " 'minor': 981,\n",
              " 'refund': 982,\n",
              " 'equipped': 983,\n",
              " 'seating': 984,\n",
              " 'steps': 985,\n",
              " 'mentioned': 986,\n",
              " 'regards': 987,\n",
              " 'valley': 988,\n",
              " 'inns': 989,\n",
              " 'stained': 990,\n",
              " 'disney': 991,\n",
              " 'summer': 992,\n",
              " 'note': 993,\n",
              " 'layout': 994,\n",
              " 'missed': 995,\n",
              " 'downstairs': 996,\n",
              " 'cigarette': 997,\n",
              " 'waited': 998,\n",
              " 'lack': 999,\n",
              " 'reasonably': 1000,\n",
              " ...}"
            ]
          },
          "metadata": {
            "tags": []
          },
          "execution_count": 58
        }
      ]
    },
    {
      "cell_type": "code",
      "metadata": {
        "id": "u3TdkncF5HGO",
        "colab_type": "code",
        "colab": {}
      },
      "source": [
        "\n",
        "# We reverse it, mapping integer indices to words\n",
        "reverse_word_index = dict([(value, key) for (key, value) in word_index.items()])\n",
        "# We decode the review; note that our indices were offset by 3\n",
        "# because 0, 1 and 2 are reserved indices for \"padding\", \"start of sequence\", and \"unknown\".\n",
        "decoded_review = ' '.join([reverse_word_index.get(i - 3, '?') for i in sequences[0]])"
      ],
      "execution_count": 59,
      "outputs": []
    },
    {
      "cell_type": "code",
      "metadata": {
        "id": "YdwUWI5F5Y2N",
        "colab_type": "code",
        "colab": {}
      },
      "source": [
        "def sequence_to_text(sequence):\n",
        "    words =  [reverse_word_index.get(letter) for letter in sequence]\n",
        "    return words\n",
        "\n",
        "my_text = list(map(sequence_to_text, sequences))"
      ],
      "execution_count": 60,
      "outputs": []
    },
    {
      "cell_type": "code",
      "metadata": {
        "id": "07O0ePfB5dVW",
        "colab_type": "code",
        "colab": {
          "base_uri": "https://localhost:8080/",
          "height": 34
        },
        "outputId": "c93877be-a640-4e55-8170-db901971d238"
      },
      "source": [
        "print(sequences[0])\n"
      ],
      "execution_count": 61,
      "outputs": [
        {
          "output_type": "stream",
          "text": [
            "[58, 5356, 4107, 420, 74, 1384, 350, 223, 373, 158, 14, 13, 162, 32, 799, 694]\n"
          ],
          "name": "stdout"
        }
      ]
    },
    {
      "cell_type": "code",
      "metadata": {
        "id": "_W5LItxv5mKr",
        "colab_type": "code",
        "colab": {
          "base_uri": "https://localhost:8080/",
          "height": 34
        },
        "outputId": "4dd7ea3b-f81b-4bdb-918f-de9103f9ff3f"
      },
      "source": [
        "word2vec = gensim.models.Word2Vec(my_text,\n",
        "                                  size=100,\n",
        "                                  window=10,\n",
        "                                  min_count=1)\n",
        "word2vec.train(my_text, total_examples=25026, epochs=10)"
      ],
      "execution_count": 62,
      "outputs": [
        {
          "output_type": "execute_result",
          "data": {
            "text/plain": [
              "(2719328, 3074420)"
            ]
          },
          "metadata": {
            "tags": []
          },
          "execution_count": 62
        }
      ]
    },
    {
      "cell_type": "code",
      "metadata": {
        "id": "Trda56Lr5roE",
        "colab_type": "code",
        "colab": {
          "base_uri": "https://localhost:8080/",
          "height": 224
        },
        "outputId": "116c2aea-8562-4d9e-cd74-087e446226bb"
      },
      "source": [
        "similar_words = {search_term: [item[0] for item in word2vec.wv.most_similar([search_term], topn=5)]\n",
        "                  for search_term in ['feel', 'good', 'hotel', 'cheap', 'junk', 'bad', 'great','price','love']}\n",
        "similar_words"
      ],
      "execution_count": 78,
      "outputs": [
        {
          "output_type": "stream",
          "text": [
            "/usr/local/lib/python3.6/dist-packages/gensim/matutils.py:737: FutureWarning: Conversion of the second argument of issubdtype from `int` to `np.signedinteger` is deprecated. In future, it will be treated as `np.int64 == np.dtype(int).type`.\n",
            "  if np.issubdtype(vec.dtype, np.int):\n"
          ],
          "name": "stderr"
        },
        {
          "output_type": "execute_result",
          "data": {
            "text/plain": [
              "{'bad': ['okay', 'either', 'ok', 'terrible', 'horrible'],\n",
              " 'cheap': ['thats', 'low', 'budget', 'fancy', 'isnt'],\n",
              " 'feel': ['johnnie', 'home', 'quirky', 'marjean', 'viewed'],\n",
              " 'good': ['decent', 'liked', 'adequate', 'great', 'nice'],\n",
              " 'great': ['excellent', 'awesome', 'perfect', 'wonderful', 'fantastic'],\n",
              " 'hotel': ['property', 'motel', 'sacrifice', 'accommodation', 'bader'],\n",
              " 'junk': ['filling', 'miniscule', 'omelette', 'drawback', '630'],\n",
              " 'love': ['enjoy', 'loungedear', 'charlesmark', 'relaxing', 'peacefulmahalo'],\n",
              " 'price': ['value', 'rates', 'rate', 'considering', 'budget']}"
            ]
          },
          "metadata": {
            "tags": []
          },
          "execution_count": 78
        }
      ]
    },
    {
      "cell_type": "code",
      "metadata": {
        "id": "yNZgYH2m50ii",
        "colab_type": "code",
        "colab": {
          "base_uri": "https://localhost:8080/",
          "height": 1000
        },
        "outputId": "1b6d4749-b976-493e-8583-8fc5efa1cf02"
      },
      "source": [
        "from sklearn.manifold import TSNE\n",
        "\n",
        "words = sum([[k] + v for k, v in similar_words.items()], [])\n",
        "wvs = word2vec.wv[words]\n",
        "\n",
        "tsne = TSNE(n_components=2, random_state=0, n_iter=10000, perplexity=2)\n",
        "np.set_printoptions(suppress=True)\n",
        "T = tsne.fit_transform(wvs)\n",
        "labels = words\n",
        "\n",
        "plt.figure(figsize=(15, 20))\n",
        "plt.scatter(T[:, 0], T[:, 1], c='orange', edgecolors='r')\n",
        "for label, x, yt in zip(labels, T[:, 0], T[:, 1]):\n",
        "    plt.annotate(label, xy=(x+1, yt+1), xytext=(0, 0), textcoords='offset points')"
      ],
      "execution_count": 81,
      "outputs": [
        {
          "output_type": "display_data",
          "data": {
            "image/png": "[encoded data removed]",
            "text/plain": [
              "<Figure size 1080x1440 with 1 Axes>"
            ]
          },
          "metadata": {
            "tags": [],
            "needs_background": "light"
          }
        }
      ]
    },
    {
      "cell_type": "code",
      "metadata": {
        "id": "PwjZUZIj545p",
        "colab_type": "code",
        "colab": {
          "base_uri": "https://localhost:8080/",
          "height": 34
        },
        "outputId": "ada9e3b2-9343-4ab3-c05f-fb5f6e67a9a5"
      },
      "source": [
        "len(word_index.keys())\n"
      ],
      "execution_count": 66,
      "outputs": [
        {
          "output_type": "execute_result",
          "data": {
            "text/plain": [
              "19663"
            ]
          },
          "metadata": {
            "tags": []
          },
          "execution_count": 66
        }
      ]
    },
    {
      "cell_type": "code",
      "metadata": {
        "id": "nsR7z9Mz6Cix",
        "colab_type": "code",
        "colab": {
          "base_uri": "https://localhost:8080/",
          "height": 34
        },
        "outputId": "cadc1063-357e-4e51-c3a2-e6ef9d023937"
      },
      "source": [
        "len(word2vec.wv.vocab)\n"
      ],
      "execution_count": 67,
      "outputs": [
        {
          "output_type": "execute_result",
          "data": {
            "text/plain": [
              "19663"
            ]
          },
          "metadata": {
            "tags": []
          },
          "execution_count": 67
        }
      ]
    },
    {
      "cell_type": "code",
      "metadata": {
        "id": "mZ-4F3f36FCw",
        "colab_type": "code",
        "colab": {
          "base_uri": "https://localhost:8080/",
          "height": 85
        },
        "outputId": "1bc1ffed-eba1-4e15-9cf6-8d9162def75a"
      },
      "source": [
        "max_length = 200 # fix the length of each review \n",
        "max_words = len(word_index.keys()) # fix number of words \n",
        "\n",
        "training_samples = 6000\n",
        "validation_samples = 2933\n",
        "data = pad_sequences(sequences, maxlen=max_length)\n",
        "\n",
        "#labels = np.asarray(y)\n",
        "print('Shape of data tensor:', data.shape)\n",
        "print('Shape of label tensor:', y.shape)\n",
        "\n",
        "# Split the data into a training set and a validation set\n",
        "# But first, shuffle the data, since we started from data\n",
        "# where sample are ordered (all negative first, then all positive).\n",
        "indices = np.arange(data.shape[0])\n",
        "np.random.shuffle(indices)\n",
        "data = data[indices]\n",
        "labels = y[indices]\n",
        "\n",
        "x_train = data[:training_samples]\n",
        "y_train = y[:training_samples]\n",
        "x_val = data[training_samples: training_samples + validation_samples]\n",
        "y_val = y[training_samples: training_samples + validation_samples]\n",
        "print('Shape of training data: ', x_train.shape)\n",
        "print('Shape of validation data: ', x_val.shape)"
      ],
      "execution_count": 68,
      "outputs": [
        {
          "output_type": "stream",
          "text": [
            "Shape of data tensor: (9999, 200)\n",
            "Shape of label tensor: (9999,)\n",
            "Shape of training data:  (6000, 200)\n",
            "Shape of validation data:  (2933, 200)\n"
          ],
          "name": "stdout"
        }
      ]
    },
    {
      "cell_type": "code",
      "metadata": {
        "id": "CRHHn1bP6JVU",
        "colab_type": "code",
        "colab": {}
      },
      "source": [
        "\n",
        "embedding_dim = 100\n",
        "\n",
        "embedding_matrix = np.zeros((max_words+1, embedding_dim))\n",
        "for word , i in word_index.items():\n",
        "    embedding_vector = word2vec.wv[word]\n",
        "    if embedding_vector is not None:\n",
        "        embedding_matrix[i] = embedding_vector"
      ],
      "execution_count": 69,
      "outputs": []
    },
    {
      "cell_type": "code",
      "metadata": {
        "id": "1VjpTURv6NMN",
        "colab_type": "code",
        "colab": {
          "base_uri": "https://localhost:8080/",
          "height": 34
        },
        "outputId": "2727f1e4-6ea2-4b2e-8a47-995e0cfaf082"
      },
      "source": [
        "embedding_matrix.shape\n"
      ],
      "execution_count": 70,
      "outputs": [
        {
          "output_type": "execute_result",
          "data": {
            "text/plain": [
              "(19664, 100)"
            ]
          },
          "metadata": {
            "tags": []
          },
          "execution_count": 70
        }
      ]
    },
    {
      "cell_type": "code",
      "metadata": {
        "id": "s4ToKGlK6QcI",
        "colab_type": "code",
        "colab": {
          "base_uri": "https://localhost:8080/",
          "height": 289
        },
        "outputId": "08f3c94a-b27d-4a2c-aef9-d2cd1cbf4461"
      },
      "source": [
        "from keras.models import Sequential\n",
        "from keras.layers import Embedding, Flatten, Dense\n",
        "\n",
        "\n",
        "model = Sequential()\n",
        "model.add(Embedding(max_words+1, embedding_dim, input_length=max_length))\n",
        "model.add(Flatten())\n",
        "model.add(Dense(32, activation='relu'))\n",
        "model.add(Dense(1, activation='sigmoid'))\n",
        "model.summary()"
      ],
      "execution_count": 71,
      "outputs": [
        {
          "output_type": "stream",
          "text": [
            "Model: \"sequential_1\"\n",
            "_________________________________________________________________\n",
            "Layer (type)                 Output Shape              Param #   \n",
            "=================================================================\n",
            "embedding_1 (Embedding)      (None, 200, 100)          1966400   \n",
            "_________________________________________________________________\n",
            "flatten_1 (Flatten)          (None, 20000)             0         \n",
            "_________________________________________________________________\n",
            "dense_2 (Dense)              (None, 32)                640032    \n",
            "_________________________________________________________________\n",
            "dense_3 (Dense)              (None, 1)                 33        \n",
            "=================================================================\n",
            "Total params: 2,606,465\n",
            "Trainable params: 2,606,465\n",
            "Non-trainable params: 0\n",
            "_________________________________________________________________\n"
          ],
          "name": "stdout"
        }
      ]
    },
    {
      "cell_type": "code",
      "metadata": {
        "id": "VHcyBiZx6UNE",
        "colab_type": "code",
        "colab": {}
      },
      "source": [
        "model.layers[0].set_weights([embedding_matrix])\n",
        "model.layers[0].trainable = False"
      ],
      "execution_count": 72,
      "outputs": []
    },
    {
      "cell_type": "code",
      "metadata": {
        "id": "yxycbutb6ZXY",
        "colab_type": "code",
        "colab": {
          "base_uri": "https://localhost:8080/",
          "height": 357
        },
        "outputId": "7d0ff6d7-d597-4f57-9fbd-fb7985d20a19"
      },
      "source": [
        "model.compile(optimizer='rmsprop',\n",
        "              loss='binary_crossentropy',\n",
        "              metrics=['acc'])\n",
        "history = model.fit(x_train, y_train,\n",
        "                    epochs=10,\n",
        "                    batch_size=32,\n",
        "                    validation_data=(x_val, y_val))"
      ],
      "execution_count": 73,
      "outputs": [
        {
          "output_type": "stream",
          "text": [
            "Epoch 1/10\n",
            "188/188 [==============================] - 2s 10ms/step - loss: 0.6201 - acc: 0.7227 - val_loss: 0.6045 - val_acc: 0.7419\n",
            "Epoch 2/10\n",
            "188/188 [==============================] - 2s 9ms/step - loss: 0.5358 - acc: 0.7380 - val_loss: 0.6331 - val_acc: 0.7245\n",
            "Epoch 3/10\n",
            "188/188 [==============================] - 2s 9ms/step - loss: 0.4455 - acc: 0.7802 - val_loss: 0.6854 - val_acc: 0.6887\n",
            "Epoch 4/10\n",
            "188/188 [==============================] - 2s 9ms/step - loss: 0.3325 - acc: 0.8453 - val_loss: 0.7999 - val_acc: 0.6860\n",
            "Epoch 5/10\n",
            "188/188 [==============================] - 2s 9ms/step - loss: 0.2288 - acc: 0.9048 - val_loss: 0.9471 - val_acc: 0.6597\n",
            "Epoch 6/10\n",
            "188/188 [==============================] - 2s 9ms/step - loss: 0.1432 - acc: 0.9517 - val_loss: 1.1833 - val_acc: 0.6758\n",
            "Epoch 7/10\n",
            "188/188 [==============================] - 2s 9ms/step - loss: 0.0872 - acc: 0.9722 - val_loss: 1.3965 - val_acc: 0.6198\n",
            "Epoch 8/10\n",
            "188/188 [==============================] - 2s 10ms/step - loss: 0.0514 - acc: 0.9853 - val_loss: 1.6039 - val_acc: 0.6400\n",
            "Epoch 9/10\n",
            "188/188 [==============================] - 2s 9ms/step - loss: 0.0331 - acc: 0.9890 - val_loss: 1.8569 - val_acc: 0.6369\n",
            "Epoch 10/10\n",
            "188/188 [==============================] - 2s 9ms/step - loss: 0.0211 - acc: 0.9937 - val_loss: 2.1142 - val_acc: 0.6481\n"
          ],
          "name": "stdout"
        }
      ]
    },
    {
      "cell_type": "code",
      "metadata": {
        "id": "uNjtSQKm7CAd",
        "colab_type": "code",
        "colab": {
          "base_uri": "https://localhost:8080/",
          "height": 545
        },
        "outputId": "7ef759fe-9104-4692-d2df-6797b4ef9bb0"
      },
      "source": [
        "import matplotlib.pyplot as plt\n",
        "\n",
        "acc = history.history['acc']\n",
        "val_acc = history.history['val_acc']\n",
        "loss = history.history['loss']\n",
        "val_loss = history.history['val_loss']\n",
        "\n",
        "epochs = range(1, len(acc) + 1)\n",
        "\n",
        "plt.plot(epochs, acc, 'bo', label='Training acc')\n",
        "plt.plot(epochs, val_acc, 'b', label='Validation acc')\n",
        "plt.title('Training and validation accuracy')\n",
        "plt.legend()\n",
        "\n",
        "plt.figure()\n",
        "\n",
        "plt.plot(epochs, loss, 'bo', label='Training loss')\n",
        "plt.plot(epochs, val_loss, 'b', label='Validation loss')\n",
        "plt.title('Training and validation loss')\n",
        "plt.legend()\n",
        "\n",
        "plt.show()"
      ],
      "execution_count": 74,
      "outputs": [
        {
          "output_type": "display_data",
          "data": {
            "image/png": "[encoded data removed]",
            "text/plain": [
              "<Figure size 432x288 with 1 Axes>"
            ]
          },
          "metadata": {
            "tags": [],
            "needs_background": "light"
          }
        },
        {
          "output_type": "display_data",
          "data": {
            "image/png": "[encoded data removed]",
            "text/plain": [
              "<Figure size 432x288 with 1 Axes>"
            ]
          },
          "metadata": {
            "tags": [],
            "needs_background": "light"
          }
        }
      ]
    }
  ]
}