{
  "nbformat": 4,
  "nbformat_minor": 0,
  "metadata": {
    "colab": {
      "name": "ALS CF For Hotel RS_Capstone.ipynb",
      "provenance": [],
      "collapsed_sections": [],
      "authorship_tag": "ABX9TyO3XG21W9P07w+uqqeVThso",
      "include_colab_link": true
    },
    "kernelspec": {
      "name": "python3",
      "display_name": "Python 3"
    },
    "accelerator": "GPU",
    "widgets": {
      "application/vnd.jupyter.widget-state+json": {
        "9f26039a2fd24f779bdc5daed5d5ab23": {
          "model_module": "@jupyter-widgets/controls",
          "model_name": "HBoxModel",
          "state": {
            "_view_name": "HBoxView",
            "_dom_classes": [],
            "_model_name": "HBoxModel",
            "_view_module": "@jupyter-widgets/controls",
            "_model_module_version": "1.5.0",
            "_view_count": null,
            "_view_module_version": "1.5.0",
            "box_style": "",
            "layout": "IPY_MODEL_e82985695833413992defb9b8668ea69",
            "_model_module": "@jupyter-widgets/controls",
            "children": [
              "IPY_MODEL_188e16492f394f5bad60a018ed40818b",
              "IPY_MODEL_15058e7e0d7042bd85fcdc70309dda01"
            ]
          }
        },
        "e82985695833413992defb9b8668ea69": {
          "model_module": "@jupyter-widgets/base",
          "model_name": "LayoutModel",
          "state": {
            "_view_name": "LayoutView",
            "grid_template_rows": null,
            "right": null,
            "justify_content": null,
            "_view_module": "@jupyter-widgets/base",
            "overflow": null,
            "_model_module_version": "1.2.0",
            "_view_count": null,
            "flex_flow": null,
            "width": null,
            "min_width": null,
            "border": null,
            "align_items": null,
            "bottom": null,
            "_model_module": "@jupyter-widgets/base",
            "top": null,
            "grid_column": null,
            "overflow_y": null,
            "overflow_x": null,
            "grid_auto_flow": null,
            "grid_area": null,
            "grid_template_columns": null,
            "flex": null,
            "_model_name": "LayoutModel",
            "justify_items": null,
            "grid_row": null,
            "max_height": null,
            "align_content": null,
            "visibility": null,
            "align_self": null,
            "height": null,
            "min_height": null,
            "padding": null,
            "grid_auto_rows": null,
            "grid_gap": null,
            "max_width": null,
            "order": null,
            "_view_module_version": "1.2.0",
            "grid_template_areas": null,
            "object_position": null,
            "object_fit": null,
            "grid_auto_columns": null,
            "margin": null,
            "display": null,
            "left": null
          }
        },
        "188e16492f394f5bad60a018ed40818b": {
          "model_module": "@jupyter-widgets/controls",
          "model_name": "FloatProgressModel",
          "state": {
            "_view_name": "ProgressView",
            "style": "IPY_MODEL_348e0dbe287c4f75a8cb0c8a55816420",
            "_dom_classes": [],
            "description": "100%",
            "_model_name": "FloatProgressModel",
            "bar_style": "success",
            "max": 20,
            "_view_module": "@jupyter-widgets/controls",
            "_model_module_version": "1.5.0",
            "value": 20,
            "_view_count": null,
            "_view_module_version": "1.5.0",
            "orientation": "horizontal",
            "min": 0,
            "description_tooltip": null,
            "_model_module": "@jupyter-widgets/controls",
            "layout": "IPY_MODEL_1f0bbe856aa64f24a38f1a9fc931b0e4"
          }
        },
        "15058e7e0d7042bd85fcdc70309dda01": {
          "model_module": "@jupyter-widgets/controls",
          "model_name": "HTMLModel",
          "state": {
            "_view_name": "HTMLView",
            "style": "IPY_MODEL_ea8c6d7b07324b9f8d63759e1dbfd75b",
            "_dom_classes": [],
            "description": "",
            "_model_name": "HTMLModel",
            "placeholder": "​",
            "_view_module": "@jupyter-widgets/controls",
            "_model_module_version": "1.5.0",
            "value": " 20/20 [01:54&lt;00:00,  5.70s/it]",
            "_view_count": null,
            "_view_module_version": "1.5.0",
            "description_tooltip": null,
            "_model_module": "@jupyter-widgets/controls",
            "layout": "IPY_MODEL_b0a0eb9fa2c24acca491390901f0c801"
          }
        },
        "348e0dbe287c4f75a8cb0c8a55816420": {
          "model_module": "@jupyter-widgets/controls",
          "model_name": "ProgressStyleModel",
          "state": {
            "_view_name": "StyleView",
            "_model_name": "ProgressStyleModel",
            "description_width": "initial",
            "_view_module": "@jupyter-widgets/base",
            "_model_module_version": "1.5.0",
            "_view_count": null,
            "_view_module_version": "1.2.0",
            "bar_color": null,
            "_model_module": "@jupyter-widgets/controls"
          }
        },
        "1f0bbe856aa64f24a38f1a9fc931b0e4": {
          "model_module": "@jupyter-widgets/base",
          "model_name": "LayoutModel",
          "state": {
            "_view_name": "LayoutView",
            "grid_template_rows": null,
            "right": null,
            "justify_content": null,
            "_view_module": "@jupyter-widgets/base",
            "overflow": null,
            "_model_module_version": "1.2.0",
            "_view_count": null,
            "flex_flow": null,
            "width": null,
            "min_width": null,
            "border": null,
            "align_items": null,
            "bottom": null,
            "_model_module": "@jupyter-widgets/base",
            "top": null,
            "grid_column": null,
            "overflow_y": null,
            "overflow_x": null,
            "grid_auto_flow": null,
            "grid_area": null,
            "grid_template_columns": null,
            "flex": null,
            "_model_name": "LayoutModel",
            "justify_items": null,
            "grid_row": null,
            "max_height": null,
            "align_content": null,
            "visibility": null,
            "align_self": null,
            "height": null,
            "min_height": null,
            "padding": null,
            "grid_auto_rows": null,
            "grid_gap": null,
            "max_width": null,
            "order": null,
            "_view_module_version": "1.2.0",
            "grid_template_areas": null,
            "object_position": null,
            "object_fit": null,
            "grid_auto_columns": null,
            "margin": null,
            "display": null,
            "left": null
          }
        },
        "ea8c6d7b07324b9f8d63759e1dbfd75b": {
          "model_module": "@jupyter-widgets/controls",
          "model_name": "DescriptionStyleModel",
          "state": {
            "_view_name": "StyleView",
            "_model_name": "DescriptionStyleModel",
            "description_width": "",
            "_view_module": "@jupyter-widgets/base",
            "_model_module_version": "1.5.0",
            "_view_count": null,
            "_view_module_version": "1.2.0",
            "_model_module": "@jupyter-widgets/controls"
          }
        },
        "b0a0eb9fa2c24acca491390901f0c801": {
          "model_module": "@jupyter-widgets/base",
          "model_name": "LayoutModel",
          "state": {
            "_view_name": "LayoutView",
            "grid_template_rows": null,
            "right": null,
            "justify_content": null,
            "_view_module": "@jupyter-widgets/base",
            "overflow": null,
            "_model_module_version": "1.2.0",
            "_view_count": null,
            "flex_flow": null,
            "width": null,
            "min_width": null,
            "border": null,
            "align_items": null,
            "bottom": null,
            "_model_module": "@jupyter-widgets/base",
            "top": null,
            "grid_column": null,
            "overflow_y": null,
            "overflow_x": null,
            "grid_auto_flow": null,
            "grid_area": null,
            "grid_template_columns": null,
            "flex": null,
            "_model_name": "LayoutModel",
            "justify_items": null,
            "grid_row": null,
            "max_height": null,
            "align_content": null,
            "visibility": null,
            "align_self": null,
            "height": null,
            "min_height": null,
            "padding": null,
            "grid_auto_rows": null,
            "grid_gap": null,
            "max_width": null,
            "order": null,
            "_view_module_version": "1.2.0",
            "grid_template_areas": null,
            "object_position": null,
            "object_fit": null,
            "grid_auto_columns": null,
            "margin": null,
            "display": null,
            "left": null
          }
        }
      }
    }
  },
  "cells": [
    {
      "cell_type": "markdown",
      "metadata": {
        "id": "view-in-github",
        "colab_type": "text"
      },
      "source": [
        "<a href=\"https://colab.research.google.com/github/mahapara2411/Sentiment-Analysis/blob/master/ALS_CF_For_Hotel_RS_Capstone.ipynb\" target=\"_parent\"><img src=\"https://colab.research.google.com/assets/colab-badge.svg\" alt=\"Open In Colab\"/></a>"
      ]
    },
    {
      "cell_type": "code",
      "metadata": {
        "id": "lK1Ae7rfkT-y",
        "colab_type": "code",
        "colab": {
          "base_uri": "https://localhost:8080/",
          "height": 294
        },
        "outputId": "90e19ca5-a504-4662-d67d-746d79fadef4"
      },
      "source": [
        "!pip install surprise"
      ],
      "execution_count": 3,
      "outputs": [
        {
          "output_type": "stream",
          "text": [
            "Collecting surprise\n",
            "  Downloading https://files.pythonhosted.org/packages/61/de/e5cba8682201fcf9c3719a6fdda95693468ed061945493dea2dd37c5618b/surprise-0.1-py2.py3-none-any.whl\n",
            "Collecting scikit-surprise\n",
            "\u001b[?25l  Downloading https://files.pythonhosted.org/packages/97/37/5d334adaf5ddd65da99fc65f6507e0e4599d092ba048f4302fe8775619e8/scikit-surprise-1.1.1.tar.gz (11.8MB)\n",
            "\u001b[K     |████████████████████████████████| 11.8MB 255kB/s \n",
            "\u001b[?25hRequirement already satisfied: joblib>=0.11 in /usr/local/lib/python3.6/dist-packages (from scikit-surprise->surprise) (0.16.0)\n",
            "Requirement already satisfied: numpy>=1.11.2 in /usr/local/lib/python3.6/dist-packages (from scikit-surprise->surprise) (1.18.5)\n",
            "Requirement already satisfied: scipy>=1.0.0 in /usr/local/lib/python3.6/dist-packages (from scikit-surprise->surprise) (1.4.1)\n",
            "Requirement already satisfied: six>=1.10.0 in /usr/local/lib/python3.6/dist-packages (from scikit-surprise->surprise) (1.15.0)\n",
            "Building wheels for collected packages: scikit-surprise\n",
            "  Building wheel for scikit-surprise (setup.py) ... \u001b[?25l\u001b[?25hdone\n",
            "  Created wheel for scikit-surprise: filename=scikit_surprise-1.1.1-cp36-cp36m-linux_x86_64.whl size=1670907 sha256=3490952cd652f520df0710004d777a833bb8bb7efa939a4345ebc0c46ea9eeeb\n",
            "  Stored in directory: /root/.cache/pip/wheels/78/9c/3d/41b419c9d2aff5b6e2b4c0fc8d25c538202834058f9ed110d0\n",
            "Successfully built scikit-surprise\n",
            "Installing collected packages: scikit-surprise, surprise\n",
            "Successfully installed scikit-surprise-1.1.1 surprise-0.1\n"
          ],
          "name": "stdout"
        }
      ]
    },
    {
      "cell_type": "code",
      "metadata": {
        "id": "B1shLDQTkzzr",
        "colab_type": "code",
        "colab": {
          "base_uri": "https://localhost:8080/",
          "height": 242
        },
        "outputId": "ec63728f-34eb-494e-dd27-68f69dea1150"
      },
      "source": [
        "!pip install implicit"
      ],
      "execution_count": 4,
      "outputs": [
        {
          "output_type": "stream",
          "text": [
            "Collecting implicit\n",
            "\u001b[?25l  Downloading https://files.pythonhosted.org/packages/5a/d8/6b4f1374ffa2647b72ac76960c71b984c6f3238090359fb419d03827d87a/implicit-0.4.2.tar.gz (1.1MB)\n",
            "\r\u001b[K     |▎                               | 10kB 23.4MB/s eta 0:00:01\r\u001b[K     |▋                               | 20kB 3.4MB/s eta 0:00:01\r\u001b[K     |▉                               | 30kB 4.5MB/s eta 0:00:01\r\u001b[K     |█▏                              | 40kB 4.8MB/s eta 0:00:01\r\u001b[K     |█▌                              | 51kB 4.0MB/s eta 0:00:01\r\u001b[K     |█▊                              | 61kB 4.4MB/s eta 0:00:01\r\u001b[K     |██                              | 71kB 4.8MB/s eta 0:00:01\r\u001b[K     |██▍                             | 81kB 5.2MB/s eta 0:00:01\r\u001b[K     |██▋                             | 92kB 5.6MB/s eta 0:00:01\r\u001b[K     |███                             | 102kB 5.1MB/s eta 0:00:01\r\u001b[K     |███▎                            | 112kB 5.1MB/s eta 0:00:01\r\u001b[K     |███▌                            | 122kB 5.1MB/s eta 0:00:01\r\u001b[K     |███▉                            | 133kB 5.1MB/s eta 0:00:01\r\u001b[K     |████▏                           | 143kB 5.1MB/s eta 0:00:01\r\u001b[K     |████▍                           | 153kB 5.1MB/s eta 0:00:01\r\u001b[K     |████▊                           | 163kB 5.1MB/s eta 0:00:01\r\u001b[K     |█████                           | 174kB 5.1MB/s eta 0:00:01\r\u001b[K     |█████▎                          | 184kB 5.1MB/s eta 0:00:01\r\u001b[K     |█████▋                          | 194kB 5.1MB/s eta 0:00:01\r\u001b[K     |█████▉                          | 204kB 5.1MB/s eta 0:00:01\r\u001b[K     |██████▏                         | 215kB 5.1MB/s eta 0:00:01\r\u001b[K     |██████▌                         | 225kB 5.1MB/s eta 0:00:01\r\u001b[K     |██████▊                         | 235kB 5.1MB/s eta 0:00:01\r\u001b[K     |███████                         | 245kB 5.1MB/s eta 0:00:01\r\u001b[K     |███████▍                        | 256kB 5.1MB/s eta 0:00:01\r\u001b[K     |███████▋                        | 266kB 5.1MB/s eta 0:00:01\r\u001b[K     |████████                        | 276kB 5.1MB/s eta 0:00:01\r\u001b[K     |████████▎                       | 286kB 5.1MB/s eta 0:00:01\r\u001b[K     |████████▌                       | 296kB 5.1MB/s eta 0:00:01\r\u001b[K     |████████▉                       | 307kB 5.1MB/s eta 0:00:01\r\u001b[K     |█████████                       | 317kB 5.1MB/s eta 0:00:01\r\u001b[K     |█████████▍                      | 327kB 5.1MB/s eta 0:00:01\r\u001b[K     |█████████▊                      | 337kB 5.1MB/s eta 0:00:01\r\u001b[K     |██████████                      | 348kB 5.1MB/s eta 0:00:01\r\u001b[K     |██████████▎                     | 358kB 5.1MB/s eta 0:00:01\r\u001b[K     |██████████▋                     | 368kB 5.1MB/s eta 0:00:01\r\u001b[K     |██████████▉                     | 378kB 5.1MB/s eta 0:00:01\r\u001b[K     |███████████▏                    | 389kB 5.1MB/s eta 0:00:01\r\u001b[K     |███████████▌                    | 399kB 5.1MB/s eta 0:00:01\r\u001b[K     |███████████▊                    | 409kB 5.1MB/s eta 0:00:01\r\u001b[K     |████████████                    | 419kB 5.1MB/s eta 0:00:01\r\u001b[K     |████████████▍                   | 430kB 5.1MB/s eta 0:00:01\r\u001b[K     |████████████▋                   | 440kB 5.1MB/s eta 0:00:01\r\u001b[K     |█████████████                   | 450kB 5.1MB/s eta 0:00:01\r\u001b[K     |█████████████▏                  | 460kB 5.1MB/s eta 0:00:01\r\u001b[K     |█████████████▌                  | 471kB 5.1MB/s eta 0:00:01\r\u001b[K     |█████████████▉                  | 481kB 5.1MB/s eta 0:00:01\r\u001b[K     |██████████████                  | 491kB 5.1MB/s eta 0:00:01\r\u001b[K     |██████████████▍                 | 501kB 5.1MB/s eta 0:00:01\r\u001b[K     |██████████████▊                 | 512kB 5.1MB/s eta 0:00:01\r\u001b[K     |███████████████                 | 522kB 5.1MB/s eta 0:00:01\r\u001b[K     |███████████████▎                | 532kB 5.1MB/s eta 0:00:01\r\u001b[K     |███████████████▋                | 542kB 5.1MB/s eta 0:00:01\r\u001b[K     |███████████████▉                | 552kB 5.1MB/s eta 0:00:01\r\u001b[K     |████████████████▏               | 563kB 5.1MB/s eta 0:00:01\r\u001b[K     |████████████████▌               | 573kB 5.1MB/s eta 0:00:01\r\u001b[K     |████████████████▊               | 583kB 5.1MB/s eta 0:00:01\r\u001b[K     |█████████████████               | 593kB 5.1MB/s eta 0:00:01\r\u001b[K     |█████████████████▍              | 604kB 5.1MB/s eta 0:00:01\r\u001b[K     |█████████████████▋              | 614kB 5.1MB/s eta 0:00:01\r\u001b[K     |██████████████████              | 624kB 5.1MB/s eta 0:00:01\r\u001b[K     |██████████████████▏             | 634kB 5.1MB/s eta 0:00:01\r\u001b[K     |██████████████████▌             | 645kB 5.1MB/s eta 0:00:01\r\u001b[K     |██████████████████▉             | 655kB 5.1MB/s eta 0:00:01\r\u001b[K     |███████████████████             | 665kB 5.1MB/s eta 0:00:01\r\u001b[K     |███████████████████▍            | 675kB 5.1MB/s eta 0:00:01\r\u001b[K     |███████████████████▊            | 686kB 5.1MB/s eta 0:00:01\r\u001b[K     |████████████████████            | 696kB 5.1MB/s eta 0:00:01\r\u001b[K     |████████████████████▎           | 706kB 5.1MB/s eta 0:00:01\r\u001b[K     |████████████████████▋           | 716kB 5.1MB/s eta 0:00:01\r\u001b[K     |████████████████████▉           | 727kB 5.1MB/s eta 0:00:01\r\u001b[K     |█████████████████████▏          | 737kB 5.1MB/s eta 0:00:01\r\u001b[K     |█████████████████████▌          | 747kB 5.1MB/s eta 0:00:01\r\u001b[K     |█████████████████████▊          | 757kB 5.1MB/s eta 0:00:01\r\u001b[K     |██████████████████████          | 768kB 5.1MB/s eta 0:00:01\r\u001b[K     |██████████████████████▎         | 778kB 5.1MB/s eta 0:00:01\r\u001b[K     |██████████████████████▋         | 788kB 5.1MB/s eta 0:00:01\r\u001b[K     |███████████████████████         | 798kB 5.1MB/s eta 0:00:01\r\u001b[K     |███████████████████████▏        | 808kB 5.1MB/s eta 0:00:01\r\u001b[K     |███████████████████████▌        | 819kB 5.1MB/s eta 0:00:01\r\u001b[K     |███████████████████████▉        | 829kB 5.1MB/s eta 0:00:01\r\u001b[K     |████████████████████████        | 839kB 5.1MB/s eta 0:00:01\r\u001b[K     |████████████████████████▍       | 849kB 5.1MB/s eta 0:00:01\r\u001b[K     |████████████████████████▊       | 860kB 5.1MB/s eta 0:00:01\r\u001b[K     |█████████████████████████       | 870kB 5.1MB/s eta 0:00:01\r\u001b[K     |█████████████████████████▎      | 880kB 5.1MB/s eta 0:00:01\r\u001b[K     |█████████████████████████▋      | 890kB 5.1MB/s eta 0:00:01\r\u001b[K     |█████████████████████████▉      | 901kB 5.1MB/s eta 0:00:01\r\u001b[K     |██████████████████████████▏     | 911kB 5.1MB/s eta 0:00:01\r\u001b[K     |██████████████████████████▍     | 921kB 5.1MB/s eta 0:00:01\r\u001b[K     |██████████████████████████▊     | 931kB 5.1MB/s eta 0:00:01\r\u001b[K     |███████████████████████████     | 942kB 5.1MB/s eta 0:00:01\r\u001b[K     |███████████████████████████▎    | 952kB 5.1MB/s eta 0:00:01\r\u001b[K     |███████████████████████████▋    | 962kB 5.1MB/s eta 0:00:01\r\u001b[K     |████████████████████████████    | 972kB 5.1MB/s eta 0:00:01\r\u001b[K     |████████████████████████████▏   | 983kB 5.1MB/s eta 0:00:01\r\u001b[K     |████████████████████████████▌   | 993kB 5.1MB/s eta 0:00:01\r\u001b[K     |████████████████████████████▉   | 1.0MB 5.1MB/s eta 0:00:01\r\u001b[K     |█████████████████████████████   | 1.0MB 5.1MB/s eta 0:00:01\r\u001b[K     |█████████████████████████████▍  | 1.0MB 5.1MB/s eta 0:00:01\r\u001b[K     |█████████████████████████████▊  | 1.0MB 5.1MB/s eta 0:00:01\r\u001b[K     |██████████████████████████████  | 1.0MB 5.1MB/s eta 0:00:01\r\u001b[K     |██████████████████████████████▎ | 1.1MB 5.1MB/s eta 0:00:01\r\u001b[K     |██████████████████████████████▌ | 1.1MB 5.1MB/s eta 0:00:01\r\u001b[K     |██████████████████████████████▉ | 1.1MB 5.1MB/s eta 0:00:01\r\u001b[K     |███████████████████████████████▏| 1.1MB 5.1MB/s eta 0:00:01\r\u001b[K     |███████████████████████████████▍| 1.1MB 5.1MB/s eta 0:00:01\r\u001b[K     |███████████████████████████████▊| 1.1MB 5.1MB/s eta 0:00:01\r\u001b[K     |████████████████████████████████| 1.1MB 5.1MB/s \n",
            "\u001b[?25hRequirement already satisfied: numpy in /usr/local/lib/python3.6/dist-packages (from implicit) (1.18.5)\n",
            "Requirement already satisfied: scipy>=0.16 in /usr/local/lib/python3.6/dist-packages (from implicit) (1.4.1)\n",
            "Requirement already satisfied: tqdm>=4.27 in /usr/local/lib/python3.6/dist-packages (from implicit) (4.41.1)\n",
            "Building wheels for collected packages: implicit\n",
            "  Building wheel for implicit (setup.py) ... \u001b[?25l\u001b[?25hdone\n",
            "  Created wheel for implicit: filename=implicit-0.4.2-cp36-cp36m-linux_x86_64.whl size=3420110 sha256=6f6caaf2575166ee1c336c3315493236c09ae3d0074d32ea6de86c55134beef7\n",
            "  Stored in directory: /root/.cache/pip/wheels/1b/48/b1/1aebe3acc3afb5589e72d3e7c3ffc3f637dc4721c1a974dff7\n",
            "Successfully built implicit\n",
            "Installing collected packages: implicit\n",
            "Successfully installed implicit-0.4.2\n"
          ],
          "name": "stdout"
        }
      ]
    },
    {
      "cell_type": "code",
      "metadata": {
        "id": "j51CxuK2kJOx",
        "colab_type": "code",
        "colab": {}
      },
      "source": [
        "%matplotlib inline\n",
        "import pandas as pd\n",
        "import numpy as np\n",
        "import matplotlib.pyplot as plt\n",
        "import seaborn as sns\n",
        "from scipy import stats\n",
        "import time\n",
        "from ast import literal_eval\n",
        "from sklearn.feature_extraction.text import TfidfVectorizer, CountVectorizer\n",
        "from sklearn.metrics.pairwise import linear_kernel, cosine_similarity\n",
        "from nltk.stem.snowball import SnowballStemmer\n",
        "from nltk.stem.wordnet import WordNetLemmatizer\n",
        "from nltk.corpus import wordnet\n",
        "from surprise import Reader, Dataset, SVD, SlopeOne, NMF, SVDpp, KNNBaseline, CoClustering, accuracy\n",
        "from surprise.model_selection import cross_validate\n",
        "from __future__ import (absolute_import, division, print_function,unicode_literals)\n",
        "from sklearn.model_selection import train_test_split\n",
        "from wordcloud import WordCloud, STOPWORDS, ImageColorGenerator\n",
        "import sys\n",
        "import scipy.sparse as sparse\n",
        "from scipy.sparse.linalg import spsolve\n",
        "import random\n",
        "from sklearn.preprocessing import MinMaxScaler\n",
        "import implicit\n",
        "#import tensorrec"
      ],
      "execution_count": 5,
      "outputs": []
    },
    {
      "cell_type": "code",
      "metadata": {
        "id": "Szd3Gs1knUn1",
        "colab_type": "code",
        "colab": {
          "resources": {
            "http://localhost:8080/nbextensions/google.colab/files.js": {
              "data": "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",
              "ok": true,
              "headers": [
                [
                  "content-type",
                  "application/javascript"
                ]
              ],
              "status": 200,
              "status_text": ""
            }
          },
          "base_uri": "https://localhost:8080/",
          "height": 72
        },
        "outputId": "dbc0098d-8f7a-49b9-ddf3-22c4974334f8"
      },
      "source": [
        "#Upload the Dataset\n",
        "from google.colab import files\n",
        "uploaded = files.upload()"
      ],
      "execution_count": 6,
      "outputs": [
        {
          "output_type": "display_data",
          "data": {
            "text/html": [
              "\n",
              "     <input type=\"file\" id=\"files-7e86a8ad-5ef8-484a-a921-2ac421844f5a\" name=\"files[]\" multiple disabled\n",
              "        style=\"border:none\" />\n",
              "     <output id=\"result-7e86a8ad-5ef8-484a-a921-2ac421844f5a\">\n",
              "      Upload widget is only available when the cell has been executed in the\n",
              "      current browser session. Please rerun this cell to enable.\n",
              "      </output>\n",
              "      <script src=\"/nbextensions/google.colab/files.js\"></script> "
            ],
            "text/plain": [
              "<IPython.core.display.HTML object>"
            ]
          },
          "metadata": {
            "tags": []
          }
        },
        {
          "output_type": "stream",
          "text": [
            "Saving hotel_data_final.csv to hotel_data_final.csv\n"
          ],
          "name": "stdout"
        }
      ]
    },
    {
      "cell_type": "code",
      "metadata": {
        "id": "y2dI7hmRnpZ4",
        "colab_type": "code",
        "colab": {}
      },
      "source": [
        "# Dataset is now stored in a Pandas Dataframe\n",
        "import io\n",
        "hotel_data = pd.read_csv(io.BytesIO(uploaded['hotel_data_final.csv']))"
      ],
      "execution_count": 7,
      "outputs": []
    },
    {
      "cell_type": "code",
      "metadata": {
        "id": "NoLxyNKMoNan",
        "colab_type": "code",
        "colab": {
          "base_uri": "https://localhost:8080/",
          "height": 289
        },
        "outputId": "3a89be2a-d38e-47b0-c87d-d29ac0adc3ac"
      },
      "source": [
        "hotel_data.head()"
      ],
      "execution_count": 8,
      "outputs": [
        {
          "output_type": "execute_result",
          "data": {
            "text/html": [
              "<div>\n",
              "<style scoped>\n",
              "    .dataframe tbody tr th:only-of-type {\n",
              "        vertical-align: middle;\n",
              "    }\n",
              "\n",
              "    .dataframe tbody tr th {\n",
              "        vertical-align: top;\n",
              "    }\n",
              "\n",
              "    .dataframe thead th {\n",
              "        text-align: right;\n",
              "    }\n",
              "</style>\n",
              "<table border=\"1\" class=\"dataframe\">\n",
              "  <thead>\n",
              "    <tr style=\"text-align: right;\">\n",
              "      <th></th>\n",
              "      <th>Hotel_id</th>\n",
              "      <th>Hotel</th>\n",
              "      <th>Address</th>\n",
              "      <th>City</th>\n",
              "      <th>Title</th>\n",
              "      <th>Users</th>\n",
              "      <th>Reviews</th>\n",
              "      <th>Rating</th>\n",
              "      <th>Hotel_Type</th>\n",
              "      <th>Price</th>\n",
              "      <th>Hotel_Category</th>\n",
              "      <th>User_id</th>\n",
              "    </tr>\n",
              "  </thead>\n",
              "  <tbody>\n",
              "    <tr>\n",
              "      <th>0</th>\n",
              "      <td>0</td>\n",
              "      <td>La Quinta</td>\n",
              "      <td>5820 Walden Rd</td>\n",
              "      <td>Beaumont</td>\n",
              "      <td>This hotel is a dump! Upon ch...</td>\n",
              "      <td>margierodriguez.mcqueen</td>\n",
              "      <td>This hotel is a dump! Upon checking in was tol...</td>\n",
              "      <td>1.0</td>\n",
              "      <td>NaN</td>\n",
              "      <td>NaN</td>\n",
              "      <td>Lodging,Motels,Hotels,Meeting &amp; Event Planning...</td>\n",
              "      <td>15400</td>\n",
              "    </tr>\n",
              "    <tr>\n",
              "      <th>1</th>\n",
              "      <td>1</td>\n",
              "      <td>The Point</td>\n",
              "      <td>Po Box 1327</td>\n",
              "      <td>Saranac Lake</td>\n",
              "      <td>How to Feel like you are truly Royalty!</td>\n",
              "      <td>DrThought</td>\n",
              "      <td>After having stayed at The Point for five days...</td>\n",
              "      <td>5.0</td>\n",
              "      <td>NaN</td>\n",
              "      <td>NaN</td>\n",
              "      <td>Hotels,Hotel,Restaurants</td>\n",
              "      <td>3702</td>\n",
              "    </tr>\n",
              "    <tr>\n",
              "      <th>2</th>\n",
              "      <td>1</td>\n",
              "      <td>The Point</td>\n",
              "      <td>Po Box 1327</td>\n",
              "      <td>Saranac Lake</td>\n",
              "      <td>Not to be missed</td>\n",
              "      <td>Dushi110</td>\n",
              "      <td>The Point exceeds perfection. From the moment ...</td>\n",
              "      <td>5.0</td>\n",
              "      <td>NaN</td>\n",
              "      <td>NaN</td>\n",
              "      <td>Hotels,Hotel,Restaurants</td>\n",
              "      <td>3738</td>\n",
              "    </tr>\n",
              "    <tr>\n",
              "      <th>3</th>\n",
              "      <td>1</td>\n",
              "      <td>The Point</td>\n",
              "      <td>Po Box 1327</td>\n",
              "      <td>Saranac Lake</td>\n",
              "      <td>The most amazing place....</td>\n",
              "      <td>GracieLouNY</td>\n",
              "      <td>My review is long overdue but I tell so many p...</td>\n",
              "      <td>5.0</td>\n",
              "      <td>NaN</td>\n",
              "      <td>NaN</td>\n",
              "      <td>Hotels,Hotel,Restaurants</td>\n",
              "      <td>4593</td>\n",
              "    </tr>\n",
              "    <tr>\n",
              "      <th>4</th>\n",
              "      <td>1</td>\n",
              "      <td>The Point</td>\n",
              "      <td>Po Box 1327</td>\n",
              "      <td>Saranac Lake</td>\n",
              "      <td>Lack of maintenance</td>\n",
              "      <td>Guillen</td>\n",
              "      <td>We were picked up from the airport in a car wh...</td>\n",
              "      <td>2.0</td>\n",
              "      <td>NaN</td>\n",
              "      <td>NaN</td>\n",
              "      <td>Hotels,Hotel,Restaurants</td>\n",
              "      <td>4657</td>\n",
              "    </tr>\n",
              "  </tbody>\n",
              "</table>\n",
              "</div>"
            ],
            "text/plain": [
              "   Hotel_id  ... User_id\n",
              "0         0  ...   15400\n",
              "1         1  ...    3702\n",
              "2         1  ...    3738\n",
              "3         1  ...    4593\n",
              "4         1  ...    4657\n",
              "\n",
              "[5 rows x 12 columns]"
            ]
          },
          "metadata": {
            "tags": []
          },
          "execution_count": 8
        }
      ]
    },
    {
      "cell_type": "code",
      "metadata": {
        "id": "k2IVz_ae6zNC",
        "colab_type": "code",
        "colab": {
          "base_uri": "https://localhost:8080/",
          "height": 34
        },
        "outputId": "e55b1d37-2476-4c7c-bc37-74798b21e888"
      },
      "source": [
        "hotel_data.shape"
      ],
      "execution_count": 9,
      "outputs": [
        {
          "output_type": "execute_result",
          "data": {
            "text/plain": [
              "(24180, 12)"
            ]
          },
          "metadata": {
            "tags": []
          },
          "execution_count": 9
        }
      ]
    },
    {
      "cell_type": "code",
      "metadata": {
        "id": "ZvQNbtrYv7tO",
        "colab_type": "code",
        "colab": {
          "base_uri": "https://localhost:8080/",
          "height": 242
        },
        "outputId": "a385ff2f-dfc5-4ed6-dc3f-e2d8656470da"
      },
      "source": [
        "# Checking for missing values\n",
        "pd.isnull(hotel_data).any()"
      ],
      "execution_count": 10,
      "outputs": [
        {
          "output_type": "execute_result",
          "data": {
            "text/plain": [
              "Hotel_id          False\n",
              "Hotel             False\n",
              "Address           False\n",
              "City              False\n",
              "Title              True\n",
              "Users             False\n",
              "Reviews            True\n",
              "Rating             True\n",
              "Hotel_Type         True\n",
              "Price              True\n",
              "Hotel_Category    False\n",
              "User_id           False\n",
              "dtype: bool"
            ]
          },
          "metadata": {
            "tags": []
          },
          "execution_count": 10
        }
      ]
    },
    {
      "cell_type": "code",
      "metadata": {
        "id": "LS63AQkSwCny",
        "colab_type": "code",
        "colab": {
          "base_uri": "https://localhost:8080/",
          "height": 86
        },
        "outputId": "0f48c746-1ea5-4341-bc52-8289fe9b937a"
      },
      "source": [
        "hotel_data = hotel_data.dropna()\n",
        "hotel_data = hotel_data.reset_index(drop=True)\n",
        "print('Shape of dataset ',hotel_data.shape)\n",
        "print(hotel_data.columns)"
      ],
      "execution_count": 11,
      "outputs": [
        {
          "output_type": "stream",
          "text": [
            "Shape of dataset  (21128, 12)\n",
            "Index(['Hotel_id', 'Hotel', 'Address', 'City', 'Title', 'Users', 'Reviews',\n",
            "       'Rating', 'Hotel_Type', 'Price', 'Hotel_Category', 'User_id'],\n",
            "      dtype='object')\n"
          ],
          "name": "stdout"
        }
      ]
    },
    {
      "cell_type": "code",
      "metadata": {
        "id": "ttkIb0l4pAEU",
        "colab_type": "code",
        "colab": {
          "base_uri": "https://localhost:8080/",
          "height": 121
        },
        "outputId": "da96e140-2e36-44ac-e5d5-fa7afdc2921c"
      },
      "source": [
        "hotel_data.Rating.value_counts()"
      ],
      "execution_count": 12,
      "outputs": [
        {
          "output_type": "execute_result",
          "data": {
            "text/plain": [
              "5.0    9805\n",
              "4.0    6144\n",
              "3.0    2814\n",
              "2.0    1246\n",
              "1.0    1119\n",
              "Name: Rating, dtype: int64"
            ]
          },
          "metadata": {
            "tags": []
          },
          "execution_count": 12
        }
      ]
    },
    {
      "cell_type": "code",
      "metadata": {
        "id": "unuXFhUrpE_I",
        "colab_type": "code",
        "colab": {
          "base_uri": "https://localhost:8080/",
          "height": 468
        },
        "outputId": "035aec1d-bcb0-48d1-8f89-1bb72b89d7d0"
      },
      "source": [
        "List=[]\n",
        "for i in np.arange(4,5.5, 1):\n",
        "    M=hotel_data.loc[hotel_data[hotel_data.Rating==i].Hotel_id.value_counts().head(10).index,'Hotel']\n",
        "    print('Rate: %f' %i)\n",
        "    print(M)\n",
        "    print(' ')"
      ],
      "execution_count": 14,
      "outputs": [
        {
          "output_type": "stream",
          "text": [
            "Rate: 4.000000\n",
            "3113                         JW Marriott Atlanta Buckhead\n",
            "9                                       Inn At Queen Anne\n",
            "2189                             Best Western Mission Bay\n",
            "56                                      Inn At Queen Anne\n",
            "2968    Homewood Suites by Hilton Lake Buena Vista-Orl...\n",
            "2741                                       Orchid Key Inn\n",
            "38                                      Inn At Queen Anne\n",
            "3018    Homewood Suites by Hilton Lake Buena Vista-Orl...\n",
            "2822       Holiday Inn Express New York City Times Square\n",
            "656          Doubletree By Hilton West Palm Beach Airport\n",
            "Name: Hotel, dtype: object\n",
            " \n",
            "Rate: 5.000000\n",
            "2126                          Howard Johnson Inn Columbia\n",
            "656          Doubletree By Hilton West Palm Beach Airport\n",
            "38                                      Inn At Queen Anne\n",
            "9                                       Inn At Queen Anne\n",
            "1462                                  Gran Melia Victoria\n",
            "2915                                           Hotel Abri\n",
            "2984    Homewood Suites by Hilton Lake Buena Vista-Orl...\n",
            "2822       Holiday Inn Express New York City Times Square\n",
            "3113                         JW Marriott Atlanta Buckhead\n",
            "2682                  Homewood Suites by Hilton Baltimore\n",
            "Name: Hotel, dtype: object\n",
            " \n"
          ],
          "name": "stdout"
        }
      ]
    },
    {
      "cell_type": "code",
      "metadata": {
        "id": "sCEM8zQuqocI",
        "colab_type": "code",
        "colab": {
          "base_uri": "https://localhost:8080/",
          "height": 34
        },
        "outputId": "bdaea2ce-79ef-4d78-ba25-e1493543433c"
      },
      "source": [
        "hotel_data[hotel_data.Hotel_id==318].Rating.mean()# Average rating for 'Best Western Lamplighter Inn Suites at SDSU'"
      ],
      "execution_count": 15,
      "outputs": [
        {
          "output_type": "execute_result",
          "data": {
            "text/plain": [
              "4.25"
            ]
          },
          "metadata": {
            "tags": []
          },
          "execution_count": 15
        }
      ]
    },
    {
      "cell_type": "code",
      "metadata": {
        "id": "aHf1Peu4q2Tn",
        "colab_type": "code",
        "colab": {
          "base_uri": "https://localhost:8080/",
          "height": 34
        },
        "outputId": "31e84f06-9e35-42a2-de2a-1d0a4d611fc3"
      },
      "source": [
        "hotel_data[hotel_data.Hotel_id==296].Rating.mean() #Average rating for 'Nob Hill Hotel'\n"
      ],
      "execution_count": 16,
      "outputs": [
        {
          "output_type": "execute_result",
          "data": {
            "text/plain": [
              "3.1333333333333333"
            ]
          },
          "metadata": {
            "tags": []
          },
          "execution_count": 16
        }
      ]
    },
    {
      "cell_type": "markdown",
      "metadata": {
        "id": "plX0AHXAs1TI",
        "colab_type": "text"
      },
      "source": [
        "The Hotels with the max number of ratings are:"
      ]
    },
    {
      "cell_type": "code",
      "metadata": {
        "id": "zSIhnm8rr3J5",
        "colab_type": "code",
        "colab": {}
      },
      "source": [
        "MaxRating=hotel_data['Hotel_id'].value_counts().head(10)"
      ],
      "execution_count": 17,
      "outputs": []
    },
    {
      "cell_type": "code",
      "metadata": {
        "id": "6ktYgZrSsBQ4",
        "colab_type": "code",
        "colab": {
          "base_uri": "https://localhost:8080/",
          "height": 208
        },
        "outputId": "c232f9f3-2c3c-4c72-d3cd-c8ee989e38e4"
      },
      "source": [
        "hotel_data.loc[MaxRating.index,'Hotel']\n"
      ],
      "execution_count": 18,
      "outputs": [
        {
          "output_type": "execute_result",
          "data": {
            "text/plain": [
              "3113                         JW Marriott Atlanta Buckhead\n",
              "9                                       Inn At Queen Anne\n",
              "656          Doubletree By Hilton West Palm Beach Airport\n",
              "38                                      Inn At Queen Anne\n",
              "2189                             Best Western Mission Bay\n",
              "2126                          Howard Johnson Inn Columbia\n",
              "2968    Homewood Suites by Hilton Lake Buena Vista-Orl...\n",
              "2741                                       Orchid Key Inn\n",
              "1300    Best Western Plus Arlington North Hotel and Su...\n",
              "2822       Holiday Inn Express New York City Times Square\n",
              "Name: Hotel, dtype: object"
            ]
          },
          "metadata": {
            "tags": []
          },
          "execution_count": 18
        }
      ]
    },
    {
      "cell_type": "code",
      "metadata": {
        "id": "qK-hLUYqsKVc",
        "colab_type": "code",
        "colab": {
          "base_uri": "https://localhost:8080/",
          "height": 542
        },
        "outputId": "6c06d018-dc8f-4479-b70d-ce153ab3b16c"
      },
      "source": [
        "plt.plot(range(len(MaxRating)), MaxRating,'mo--')\n",
        "plt.xticks(range(len(MaxRating)), hotel_data.loc[MaxRating.index,'Hotel'],rotation=90)\n",
        "plt.xlabel('10 hotels with the max number of rating')\n",
        "plt.ylabel('number of ratings')\n",
        "plt.savefig('foo4.png',dpi=300,bbox_inches='tight')\n",
        "plt.show()"
      ],
      "execution_count": 19,
      "outputs": [
        {
          "output_type": "display_data",
          "data": {
            "image/png": "[encoded data removed]",
            "text/plain": [
              "<Figure size 432x288 with 1 Axes>"
            ]
          },
          "metadata": {
            "tags": [],
            "needs_background": "light"
          }
        }
      ]
    },
    {
      "cell_type": "code",
      "metadata": {
        "id": "rdTUcEiesU6V",
        "colab_type": "code",
        "colab": {
          "base_uri": "https://localhost:8080/",
          "height": 538
        },
        "outputId": "f44564e8-bfce-4047-c0aa-2cc5a575917e"
      },
      "source": [
        "#The Hotels with the highest average rating are:\n",
        "List5=[]\n",
        "for i in MaxRating.index:\n",
        "    List5.append(hotel_data[hotel_data.Hotel_id==i].Rating.mean())\n",
        "plt.plot(range(len(List5)), sorted(List5,reverse=True),'mo--')\n",
        "plt.xticks(range(len(List5)), hotel_data.loc[MaxRating.index,'Hotel'],rotation=90)\n",
        "plt.xlabel('Hotels with highest number of rating')\n",
        "plt.ylabel('Average Rating')\n",
        "plt.savefig('foo5.png',dpi=300,bbox_inches='tight')\n",
        "plt.show()"
      ],
      "execution_count": 20,
      "outputs": [
        {
          "output_type": "display_data",
          "data": {
            "image/png": "[encoded data removed]",
            "text/plain": [
              "<Figure size 432x288 with 1 Axes>"
            ]
          },
          "metadata": {
            "tags": [],
            "needs_background": "light"
          }
        }
      ]
    },
    {
      "cell_type": "markdown",
      "metadata": {
        "id": "_46So4_HtP8H",
        "colab_type": "text"
      },
      "source": [
        "Number of hotels rated only once"
      ]
    },
    {
      "cell_type": "code",
      "metadata": {
        "id": "pIFuzXpds7Cd",
        "colab_type": "code",
        "colab": {
          "base_uri": "https://localhost:8080/",
          "height": 34
        },
        "outputId": "cd2a7711-7558-4b50-8221-035df8bb6099"
      },
      "source": [
        "MinRating=hotel_data['Hotel_id'].value_counts()\n",
        "MinRating=MinRating[MinRating==1]\n",
        "print('Number of hotels which are rated once:',hotel_data.loc[MinRating.index,'Hotel'].shape)"
      ],
      "execution_count": 21,
      "outputs": [
        {
          "output_type": "stream",
          "text": [
            "Number of hotels which are rated once: (238,)\n"
          ],
          "name": "stdout"
        }
      ]
    },
    {
      "cell_type": "markdown",
      "metadata": {
        "id": "fb2TSNo2t0p4",
        "colab_type": "text"
      },
      "source": [
        "Average rating of the ppl with highest number of rating\n",
        "\n"
      ]
    },
    {
      "cell_type": "code",
      "metadata": {
        "id": "dLfEX8nvtOpk",
        "colab_type": "code",
        "colab": {
          "base_uri": "https://localhost:8080/",
          "height": 190
        },
        "outputId": "a03584b8-fedf-488e-a675-a8877d636ac2"
      },
      "source": [
        "ID=hotel_data.User_id.value_counts().head(10) #UserID wih highest number of rating\n",
        "List5=[]\n",
        "for i in ID.index:\n",
        "    List5.append(hotel_data[hotel_data.User_id==i]['Rating'].mean())\n",
        "\n",
        "List5"
      ],
      "execution_count": 22,
      "outputs": [
        {
          "output_type": "execute_result",
          "data": {
            "text/plain": [
              "[3.8502673796791442,\n",
              " 3.5368898978433596,\n",
              " 3.7300613496932513,\n",
              " 3.6721311475409837,\n",
              " 3.8076923076923075,\n",
              " 3.8823529411764706,\n",
              " 3.9555555555555557,\n",
              " 3.96,\n",
              " 3.8333333333333335,\n",
              " 3.739130434782609]"
            ]
          },
          "metadata": {
            "tags": []
          },
          "execution_count": 22
        }
      ]
    },
    {
      "cell_type": "markdown",
      "metadata": {
        "id": "t1q-rAfJuuwk",
        "colab_type": "text"
      },
      "source": [
        "Recommender System"
      ]
    },
    {
      "cell_type": "code",
      "metadata": {
        "id": "sksbpDrSugk-",
        "colab_type": "code",
        "colab": {}
      },
      "source": [
        "from sklearn.model_selection import train_test_split\n",
        "X_train, X_test, y_train, y_test=train_test_split(hotel_data[['User_id','Hotel_id']],hotel_data['Rating'],test_size=0.25, \n",
        "                                                  random_state=55)\n",
        "\n",
        "y_train=pd.DataFrame(y_train)\n",
        "train=X_train.join(y_train)\n",
        "\n",
        "y_test=pd.DataFrame(y_test)\n",
        "test=X_test.join(y_test)"
      ],
      "execution_count": 23,
      "outputs": []
    },
    {
      "cell_type": "markdown",
      "metadata": {
        "id": "YALDT8bNxwLJ",
        "colab_type": "text"
      },
      "source": [
        "**1- Simple Recommender**\n",
        "\n",
        "The Simple Recommender offers generalized recommnendations to every user based on hotel popularity, ratings, and City. The basic idea behind this recommender is that hotels that are more popular and more critically acclaimed will have a higher probability of being liked by the average Customers. This model does not give personalized recommendations based on the user.\n",
        "\n",
        "So I sort the hotel based on their location, and I recommend the ones with the highest number of votes and the higher average rankings to the new Customers."
      ]
    },
    {
      "cell_type": "code",
      "metadata": {
        "id": "3UhCXbSpuyuj",
        "colab_type": "code",
        "colab": {
          "base_uri": "https://localhost:8080/",
          "height": 202
        },
        "outputId": "2e6ddcc2-0f3a-46d1-f75d-45d4f2614308"
      },
      "source": [
        "hotel_data=hotel_data[['User_id','Hotel_id','Rating','City','Hotel']]\n",
        "hotel_data.head()"
      ],
      "execution_count": 55,
      "outputs": [
        {
          "output_type": "execute_result",
          "data": {
            "text/html": [
              "<div>\n",
              "<style scoped>\n",
              "    .dataframe tbody tr th:only-of-type {\n",
              "        vertical-align: middle;\n",
              "    }\n",
              "\n",
              "    .dataframe tbody tr th {\n",
              "        vertical-align: top;\n",
              "    }\n",
              "\n",
              "    .dataframe thead th {\n",
              "        text-align: right;\n",
              "    }\n",
              "</style>\n",
              "<table border=\"1\" class=\"dataframe\">\n",
              "  <thead>\n",
              "    <tr style=\"text-align: right;\">\n",
              "      <th></th>\n",
              "      <th>User_id</th>\n",
              "      <th>Hotel_id</th>\n",
              "      <th>Rating</th>\n",
              "      <th>City</th>\n",
              "      <th>Hotel</th>\n",
              "    </tr>\n",
              "  </thead>\n",
              "  <tbody>\n",
              "    <tr>\n",
              "      <th>0</th>\n",
              "      <td>710</td>\n",
              "      <td>2</td>\n",
              "      <td>2.0</td>\n",
              "      <td>Seattle</td>\n",
              "      <td>Inn At Queen Anne</td>\n",
              "    </tr>\n",
              "    <tr>\n",
              "      <th>1</th>\n",
              "      <td>710</td>\n",
              "      <td>2</td>\n",
              "      <td>1.0</td>\n",
              "      <td>Seattle</td>\n",
              "      <td>Inn At Queen Anne</td>\n",
              "    </tr>\n",
              "    <tr>\n",
              "      <th>2</th>\n",
              "      <td>710</td>\n",
              "      <td>2</td>\n",
              "      <td>2.0</td>\n",
              "      <td>Seattle</td>\n",
              "      <td>Inn At Queen Anne</td>\n",
              "    </tr>\n",
              "    <tr>\n",
              "      <th>3</th>\n",
              "      <td>710</td>\n",
              "      <td>2</td>\n",
              "      <td>3.0</td>\n",
              "      <td>Seattle</td>\n",
              "      <td>Inn At Queen Anne</td>\n",
              "    </tr>\n",
              "    <tr>\n",
              "      <th>4</th>\n",
              "      <td>710</td>\n",
              "      <td>2</td>\n",
              "      <td>3.0</td>\n",
              "      <td>Seattle</td>\n",
              "      <td>Inn At Queen Anne</td>\n",
              "    </tr>\n",
              "  </tbody>\n",
              "</table>\n",
              "</div>"
            ],
            "text/plain": [
              "   User_id  Hotel_id  Rating     City              Hotel\n",
              "0      710         2     2.0  Seattle  Inn At Queen Anne\n",
              "1      710         2     1.0  Seattle  Inn At Queen Anne\n",
              "2      710         2     2.0  Seattle  Inn At Queen Anne\n",
              "3      710         2     3.0  Seattle  Inn At Queen Anne\n",
              "4      710         2     3.0  Seattle  Inn At Queen Anne"
            ]
          },
          "metadata": {
            "tags": []
          },
          "execution_count": 55
        }
      ]
    },
    {
      "cell_type": "markdown",
      "metadata": {
        "id": "mM_Qtw0Iv7Hj",
        "colab_type": "text"
      },
      "source": [
        "The list of the 10 best Hotels to recommend in 'San Francisco' are:"
      ]
    },
    {
      "cell_type": "code",
      "metadata": {
        "id": "CiFBkdF2vDmN",
        "colab_type": "code",
        "colab": {
          "base_uri": "https://localhost:8080/",
          "height": 190
        },
        "outputId": "9c540136-45dd-4410-cb60-8e1f0f88827a"
      },
      "source": [
        "a=hotel_data[hotel_data.City=='San Francisco'].Hotel_id.value_counts().head(30).index\n",
        "count=0\n",
        "for i in a:\n",
        "    if (hotel_data[(hotel_data.Hotel_id==i)].Rating.mean()>4.1)&(count<10):\n",
        "        count+=1\n",
        "        print(count,':',hotel_data[(hotel_data.City=='San Francisco')&(hotel_data.Hotel_id==i)].Hotel.iloc[0])"
      ],
      "execution_count": 25,
      "outputs": [
        {
          "output_type": "stream",
          "text": [
            "1 : Galleria Park Hotel\n",
            "2 : Hotel Abri\n",
            "3 : The Orchard Garden Hotel\n",
            "4 : The St. Regis San Francisco\n",
            "5 : Columbus Motor Inn\n",
            "6 : InterContinental San Francisco\n",
            "7 : Hotel Nikko San Francisco\n",
            "8 : Kensington Park Hotel\n",
            "9 : San Francisco Marriott Marquis\n",
            "10 : Inn San Francisco\n"
          ],
          "name": "stdout"
        }
      ]
    },
    {
      "cell_type": "markdown",
      "metadata": {
        "id": "5Wo2yHhNwphK",
        "colab_type": "text"
      },
      "source": [
        "The list of the 10 best Hotels to recommend in 'San Diego' are:"
      ]
    },
    {
      "cell_type": "code",
      "metadata": {
        "id": "VSpZ_nQFvyDi",
        "colab_type": "code",
        "colab": {
          "base_uri": "https://localhost:8080/",
          "height": 190
        },
        "outputId": "da843b14-b0fa-4843-ae1c-dbc489b746b4"
      },
      "source": [
        "a=hotel_data[hotel_data.City=='San Diego'].Hotel_id.value_counts().head(30).index\n",
        "count=0\n",
        "for i in a:\n",
        "    if (hotel_data[(hotel_data.Hotel_id==i)].Rating.mean()>3)&(count<10):\n",
        "        count+=1\n",
        "        print(count,':',hotel_data[(hotel_data.City=='San Diego')&(hotel_data.Hotel_id==i)].Hotel.iloc[0])"
      ],
      "execution_count": 26,
      "outputs": [
        {
          "output_type": "stream",
          "text": [
            "1 : Best Western Seven Seas\n",
            "2 : Hampton Inn San Diego Del Mar\n",
            "3 : Ocean Park Inn\n",
            "4 : The Pearl Hotel\n",
            "5 : Best Western Mission Bay\n",
            "6 : Best Western Yacht Harbor Hotel\n",
            "7 : Best Western San Diego/Miramar Hotel\n",
            "8 : Best Western Plus Hacienda Hotel Old Town\n",
            "9 : Best Western Plus Bayside Inn\n",
            "10 : Quality Suites San Diego SeaWorld Area\n"
          ],
          "name": "stdout"
        }
      ]
    },
    {
      "cell_type": "code",
      "metadata": {
        "id": "HHsQ7zgDxDIX",
        "colab_type": "code",
        "colab": {
          "base_uri": "https://localhost:8080/",
          "height": 190
        },
        "outputId": "6e416c76-1923-4854-c318-f8a422445d75"
      },
      "source": [
        "a=hotel_data[hotel_data.City=='Bengaluru'].Hotel_id.value_counts().head(30).index\n",
        "count=0\n",
        "for i in a:\n",
        "    if (hotel_data[(hotel_data.Hotel_id==i)].Rating.mean()>4)&(count<10):\n",
        "        count+=1\n",
        "        print(count,':',hotel_data[(hotel_data.City=='Bengaluru')&(hotel_data.Hotel_id==i)].Hotel.iloc[0])"
      ],
      "execution_count": 27,
      "outputs": [
        {
          "output_type": "stream",
          "text": [
            "1 : Shreyas Yoga Retreat\n",
            "2 : Treebo Trend Rajathadri Palace\n",
            "3 : Zone by the Park Electronic City\n",
            "4 : Fortune Park JP Celestial\n",
            "5 : Wonderla Resort\n",
            "6 : Gokulam Grand Hotel & Spa\n",
            "7 : Signature Club Resort\n",
            "8 : Royal Orchid Resort & Convention Centre\n",
            "9 : Sheraton Grand Bengaluru Whitefield Hotel & Convention Center\n",
            "10 : Welcomhotel Bengaluru\n"
          ],
          "name": "stdout"
        }
      ]
    },
    {
      "cell_type": "markdown",
      "metadata": {
        "id": "mJL-XB2E0DUk",
        "colab_type": "text"
      },
      "source": [
        "**2- IMDB Weighted Rating Formula**"
      ]
    },
    {
      "cell_type": "code",
      "metadata": {
        "id": "hiq438oIxRIM",
        "colab_type": "code",
        "colab": {
          "base_uri": "https://localhost:8080/",
          "height": 52
        },
        "outputId": "0b6b56ce-b786-439d-8da1-5bbbe603e589"
      },
      "source": [
        "C=hotel_data.groupby('Hotel_id').Rating.mean().mean()\n",
        "m=hotel_data.Hotel_id.value_counts().quantile(0.95)\n",
        "print(' mean vote across the whole report (C):',C)\n",
        "print('minimum votes required to be listed in the chart (m):',m)"
      ],
      "execution_count": 28,
      "outputs": [
        {
          "output_type": "stream",
          "text": [
            " mean vote across the whole report (C): 3.997026417756089\n",
            "minimum votes required to be listed in the chart (m): 61.59999999999991\n"
          ],
          "name": "stdout"
        }
      ]
    },
    {
      "cell_type": "code",
      "metadata": {
        "id": "A-H-Nk0oyg3v",
        "colab_type": "code",
        "colab": {}
      },
      "source": [
        "a=hotel_data.Hotel_id.value_counts().sort_index()\n",
        "b=hotel_data.groupby('Hotel_id').Rating.mean()"
      ],
      "execution_count": 30,
      "outputs": []
    },
    {
      "cell_type": "code",
      "metadata": {
        "id": "RhhRPMjpywIX",
        "colab_type": "code",
        "colab": {
          "base_uri": "https://localhost:8080/",
          "height": 34
        },
        "outputId": "2a1b6d52-96aa-4040-9205-a1fced19f2e9"
      },
      "source": [
        "print('Number of Hotels which are qualified:',sum((a>m)&(b>C)))\n"
      ],
      "execution_count": 31,
      "outputs": [
        {
          "output_type": "stream",
          "text": [
            "Number of Hotels which are qualified: 47\n"
          ],
          "name": "stdout"
        }
      ]
    },
    {
      "cell_type": "code",
      "metadata": {
        "id": "FW8ob9X_y58Z",
        "colab_type": "code",
        "colab": {}
      },
      "source": [
        "a=pd.DataFrame(a.values,columns=['counts'],index=a.index)\n",
        "b=pd.DataFrame(b.values,columns=['mean'],index=b.index)"
      ],
      "execution_count": 32,
      "outputs": []
    },
    {
      "cell_type": "code",
      "metadata": {
        "id": "hSo8Owecy9hx",
        "colab_type": "code",
        "colab": {
          "base_uri": "https://localhost:8080/",
          "height": 34
        },
        "outputId": "a1f06d74-a65f-404f-e3bf-52fd2fd79892"
      },
      "source": [
        "df=pd.concat([a,b], axis=1, sort=False)\n",
        "qualified = df[(df['counts'] >= m)  & (df['mean']>=C)]\n",
        "\n",
        "print(qualified.shape[0],' Hotels are qualified')"
      ],
      "execution_count": 33,
      "outputs": [
        {
          "output_type": "stream",
          "text": [
            "47  Hotels are qualified\n"
          ],
          "name": "stdout"
        }
      ]
    },
    {
      "cell_type": "code",
      "metadata": {
        "id": "JaFqSk57zCpq",
        "colab_type": "code",
        "colab": {
          "base_uri": "https://localhost:8080/",
          "height": 1000
        },
        "outputId": "98a24dc4-f6f0-472d-dfa2-897d271557fd"
      },
      "source": [
        "def weighted_rating(x):\n",
        "    v = x['counts']\n",
        "    R = x['mean']\n",
        "    return (v/(v+m) * R) + (m/(m+v) * C)\n",
        "\n",
        "qualified['wr'] = qualified.apply(weighted_rating, axis=1)\n",
        "qualified = qualified.sort_values('wr', ascending=False)\n",
        "\n",
        "List1=[]\n",
        "for i in qualified.head(30).index:\n",
        "    List1.append(hotel_data[hotel_data.index==i]['Hotel'].values)\n",
        "IMDBBest=pd.DataFrame(List1,columns=['Best to Recommend'])\n",
        "IMDBBest"
      ],
      "execution_count": 34,
      "outputs": [
        {
          "output_type": "stream",
          "text": [
            "/usr/local/lib/python3.6/dist-packages/ipykernel_launcher.py:6: SettingWithCopyWarning: \n",
            "A value is trying to be set on a copy of a slice from a DataFrame.\n",
            "Try using .loc[row_indexer,col_indexer] = value instead\n",
            "\n",
            "See the caveats in the documentation: https://pandas.pydata.org/pandas-docs/stable/user_guide/indexing.html#returning-a-view-versus-a-copy\n",
            "  \n"
          ],
          "name": "stderr"
        },
        {
          "output_type": "execute_result",
          "data": {
            "text/html": [
              "<div>\n",
              "<style scoped>\n",
              "    .dataframe tbody tr th:only-of-type {\n",
              "        vertical-align: middle;\n",
              "    }\n",
              "\n",
              "    .dataframe tbody tr th {\n",
              "        vertical-align: top;\n",
              "    }\n",
              "\n",
              "    .dataframe thead th {\n",
              "        text-align: right;\n",
              "    }\n",
              "</style>\n",
              "<table border=\"1\" class=\"dataframe\">\n",
              "  <thead>\n",
              "    <tr style=\"text-align: right;\">\n",
              "      <th></th>\n",
              "      <th>Best to Recommend</th>\n",
              "    </tr>\n",
              "  </thead>\n",
              "  <tbody>\n",
              "    <tr>\n",
              "      <th>0</th>\n",
              "      <td>Howard Johnson Inn Columbia</td>\n",
              "    </tr>\n",
              "    <tr>\n",
              "      <th>1</th>\n",
              "      <td>Inn At Queen Anne</td>\n",
              "    </tr>\n",
              "    <tr>\n",
              "      <th>2</th>\n",
              "      <td>Doubletree By Hilton Hotel Bay City - Riverfront</td>\n",
              "    </tr>\n",
              "    <tr>\n",
              "      <th>3</th>\n",
              "      <td>Hotel Abri</td>\n",
              "    </tr>\n",
              "    <tr>\n",
              "      <th>4</th>\n",
              "      <td>Homewood Suites by Hilton Lake Buena Vista-Orl...</td>\n",
              "    </tr>\n",
              "    <tr>\n",
              "      <th>5</th>\n",
              "      <td>Gran Melia Victoria</td>\n",
              "    </tr>\n",
              "    <tr>\n",
              "      <th>6</th>\n",
              "      <td>Inn At Queen Anne</td>\n",
              "    </tr>\n",
              "    <tr>\n",
              "      <th>7</th>\n",
              "      <td>Homewood Suites by Hilton Baltimore</td>\n",
              "    </tr>\n",
              "    <tr>\n",
              "      <th>8</th>\n",
              "      <td>JW Marriott Atlanta Buckhead</td>\n",
              "    </tr>\n",
              "    <tr>\n",
              "      <th>9</th>\n",
              "      <td>Holiday Inn Express New York City Times Square</td>\n",
              "    </tr>\n",
              "    <tr>\n",
              "      <th>10</th>\n",
              "      <td>Inn At Queen Anne</td>\n",
              "    </tr>\n",
              "    <tr>\n",
              "      <th>11</th>\n",
              "      <td>Homewood Suites by Hilton Baltimore</td>\n",
              "    </tr>\n",
              "    <tr>\n",
              "      <th>12</th>\n",
              "      <td>La Quinta Inn and Suites Tucson - Reid Park</td>\n",
              "    </tr>\n",
              "    <tr>\n",
              "      <th>13</th>\n",
              "      <td>Inn At Queen Anne</td>\n",
              "    </tr>\n",
              "    <tr>\n",
              "      <th>14</th>\n",
              "      <td>Ambassadors Inn and Suites</td>\n",
              "    </tr>\n",
              "    <tr>\n",
              "      <th>15</th>\n",
              "      <td>Residence Inn By Marriott Irvine John Wayne Ai...</td>\n",
              "    </tr>\n",
              "    <tr>\n",
              "      <th>16</th>\n",
              "      <td>Hotel Abri</td>\n",
              "    </tr>\n",
              "    <tr>\n",
              "      <th>17</th>\n",
              "      <td>Quality Inn Spearfish</td>\n",
              "    </tr>\n",
              "    <tr>\n",
              "      <th>18</th>\n",
              "      <td>Ambassadors Inn and Suites</td>\n",
              "    </tr>\n",
              "    <tr>\n",
              "      <th>19</th>\n",
              "      <td>Doubletree By Hilton West Palm Beach Airport</td>\n",
              "    </tr>\n",
              "    <tr>\n",
              "      <th>20</th>\n",
              "      <td>Doubletree By Hilton West Palm Beach Airport</td>\n",
              "    </tr>\n",
              "    <tr>\n",
              "      <th>21</th>\n",
              "      <td>Ambassadors Inn and Suites</td>\n",
              "    </tr>\n",
              "    <tr>\n",
              "      <th>22</th>\n",
              "      <td>Days Inn Branson / Near The Strip</td>\n",
              "    </tr>\n",
              "    <tr>\n",
              "      <th>23</th>\n",
              "      <td>Inn At Queen Anne</td>\n",
              "    </tr>\n",
              "    <tr>\n",
              "      <th>24</th>\n",
              "      <td>Hotel Abri</td>\n",
              "    </tr>\n",
              "    <tr>\n",
              "      <th>25</th>\n",
              "      <td>Holiday Inn Express New York City Times Square</td>\n",
              "    </tr>\n",
              "    <tr>\n",
              "      <th>26</th>\n",
              "      <td>Days Inn Warren</td>\n",
              "    </tr>\n",
              "    <tr>\n",
              "      <th>27</th>\n",
              "      <td>Inn At Queen Anne</td>\n",
              "    </tr>\n",
              "    <tr>\n",
              "      <th>28</th>\n",
              "      <td>Inn At Queen Anne</td>\n",
              "    </tr>\n",
              "    <tr>\n",
              "      <th>29</th>\n",
              "      <td>Orchid Key Inn</td>\n",
              "    </tr>\n",
              "  </tbody>\n",
              "</table>\n",
              "</div>"
            ],
            "text/plain": [
              "                                    Best to Recommend\n",
              "0                         Howard Johnson Inn Columbia\n",
              "1                                   Inn At Queen Anne\n",
              "2    Doubletree By Hilton Hotel Bay City - Riverfront\n",
              "3                                          Hotel Abri\n",
              "4   Homewood Suites by Hilton Lake Buena Vista-Orl...\n",
              "5                                 Gran Melia Victoria\n",
              "6                                   Inn At Queen Anne\n",
              "7                 Homewood Suites by Hilton Baltimore\n",
              "8                        JW Marriott Atlanta Buckhead\n",
              "9      Holiday Inn Express New York City Times Square\n",
              "10                                  Inn At Queen Anne\n",
              "11                Homewood Suites by Hilton Baltimore\n",
              "12        La Quinta Inn and Suites Tucson - Reid Park\n",
              "13                                  Inn At Queen Anne\n",
              "14                         Ambassadors Inn and Suites\n",
              "15  Residence Inn By Marriott Irvine John Wayne Ai...\n",
              "16                                         Hotel Abri\n",
              "17                              Quality Inn Spearfish\n",
              "18                         Ambassadors Inn and Suites\n",
              "19       Doubletree By Hilton West Palm Beach Airport\n",
              "20       Doubletree By Hilton West Palm Beach Airport\n",
              "21                         Ambassadors Inn and Suites\n",
              "22                  Days Inn Branson / Near The Strip\n",
              "23                                  Inn At Queen Anne\n",
              "24                                         Hotel Abri\n",
              "25     Holiday Inn Express New York City Times Square\n",
              "26                                    Days Inn Warren\n",
              "27                                  Inn At Queen Anne\n",
              "28                                  Inn At Queen Anne\n",
              "29                                     Orchid Key Inn"
            ]
          },
          "metadata": {
            "tags": []
          },
          "execution_count": 34
        }
      ]
    },
    {
      "cell_type": "markdown",
      "metadata": {
        "id": "IlMroy3g-rhf",
        "colab_type": "text"
      },
      "source": [
        "**Alternating Least Squares (ALS) Collaborative Filtering**\n",
        "\n",
        "Alternating Least Squares (ALS) is a the model we’ll use to fit our data and find similarities. ALS is an iterative optimization process where we for every iteration try to arrive closer and closer to a factorized representation of our original data. We have our original matrix R of size u x i with our users, items and some type of feedback data. We then want to find a way to turn that into one matrix with users and hidden features of size u x f and one with items and hidden features of size f x i. In U and V we have weights for how each user/item relates to each feature. What we do is we calculate U and V so that their product approximates R as closely as possible: R ≈ U x V.\n",
        "\n",
        "By randomly assigning the values in U and V and using least squares iteratively we can arrive at what weights yield the best approximation of R. The least squares approach in it’s basic forms means fitting some line to the data, measuring the sum of squared distances from all points to the line and trying to get an optimal fit by minimising this value.\n",
        "\n",
        "With the alternating least squares approach we use the same idea but iteratively alternate between optimizing U and fixing V and vice versa. We do this for each iteration to arrive closer to R = U x V."
      ]
    },
    {
      "cell_type": "code",
      "metadata": {
        "id": "9-oMQaAk4sHg",
        "colab_type": "code",
        "colab": {
          "base_uri": "https://localhost:8080/",
          "height": 101,
          "referenced_widgets": [
            "9f26039a2fd24f779bdc5daed5d5ab23",
            "e82985695833413992defb9b8668ea69",
            "188e16492f394f5bad60a018ed40818b",
            "15058e7e0d7042bd85fcdc70309dda01",
            "348e0dbe287c4f75a8cb0c8a55816420",
            "1f0bbe856aa64f24a38f1a9fc931b0e4",
            "ea8c6d7b07324b9f8d63759e1dbfd75b",
            "b0a0eb9fa2c24acca491390901f0c801"
          ]
        },
        "outputId": "3a7bdf3a-078e-4bba-f61a-289902646e60"
      },
      "source": [
        "data=hotel_data\n",
        "sparse_item_user = sparse.csr_matrix((data['Rating'].astype(float), (data['Hotel_id'], data['User_id'])))\n",
        "sparse_user_item = sparse.csr_matrix((data['Rating'].astype(float), (data['Hotel_id'], data['User_id'])))\n",
        "\n",
        "# Initialize the als model and fit it using the sparse item-user matrix\n",
        "model = implicit.als.AlternatingLeastSquares(factors=20, regularization=0.1, iterations=20)\n",
        "\n",
        "# Calculate the confidence by multiplying it by our alpha value.\n",
        "alpha_val = 15\n",
        "data_conf = (sparse_item_user * alpha_val).astype('double')\n",
        "\n",
        "model.fit(data_conf)"
      ],
      "execution_count": 38,
      "outputs": [
        {
          "output_type": "stream",
          "text": [
            "GPU training requires factor size to be a multiple of 32. Increasing factors from 20 to 32.\n",
            "WARNING:root:OpenBLAS detected. Its highly recommend to set the environment variable 'export OPENBLAS_NUM_THREADS=1' to disable its internal multithreading\n"
          ],
          "name": "stderr"
        },
        {
          "output_type": "display_data",
          "data": {
            "application/vnd.jupyter.widget-view+json": {
              "model_id": "9f26039a2fd24f779bdc5daed5d5ab23",
              "version_minor": 0,
              "version_major": 2
            },
            "text/plain": [
              "HBox(children=(FloatProgress(value=0.0, max=20.0), HTML(value='')))"
            ]
          },
          "metadata": {
            "tags": []
          }
        },
        {
          "output_type": "stream",
          "text": [
            "\n"
          ],
          "name": "stdout"
        }
      ]
    },
    {
      "cell_type": "code",
      "metadata": {
        "id": "cd9QNj9s8Amd",
        "colab_type": "code",
        "colab": {
          "base_uri": "https://localhost:8080/",
          "height": 356
        },
        "outputId": "427da536-b809-432b-ad7d-81dd6062ad13"
      },
      "source": [
        "#---------------------\n",
        "# FIND SIMILAR HOTELS\n",
        "#---------------------\n",
        "Hotel_id = 318 #Best Western Lamplighter Inn Suites at SDSU\n",
        "n_similar = 10\n",
        "\n",
        "# Use implicit to get similar items.\n",
        "similar = model.similar_items(Hotel_id, n_similar)\n",
        "\n",
        "a=[]\n",
        "b=[]\n",
        "c=[]\n",
        "# Print the names of our most similar movies\n",
        "for item in similar:\n",
        "    idx, score = item\n",
        "    a.append(data.Hotel_id.loc[data.Hotel_id == idx].iloc[0])\n",
        "    b.append(score)\n",
        "    recommendations = pd.DataFrame({'HotelId': a, 'Score': b})\n",
        "\n",
        "for i in a:\n",
        "    c.append(hotel_data[hotel_data.Hotel_id==i].Hotel.iloc[0])\n",
        "recommendations['Hotel']=c\n",
        "recommendations"
      ],
      "execution_count": 40,
      "outputs": [
        {
          "output_type": "execute_result",
          "data": {
            "text/html": [
              "<div>\n",
              "<style scoped>\n",
              "    .dataframe tbody tr th:only-of-type {\n",
              "        vertical-align: middle;\n",
              "    }\n",
              "\n",
              "    .dataframe tbody tr th {\n",
              "        vertical-align: top;\n",
              "    }\n",
              "\n",
              "    .dataframe thead th {\n",
              "        text-align: right;\n",
              "    }\n",
              "</style>\n",
              "<table border=\"1\" class=\"dataframe\">\n",
              "  <thead>\n",
              "    <tr style=\"text-align: right;\">\n",
              "      <th></th>\n",
              "      <th>HotelId</th>\n",
              "      <th>Score</th>\n",
              "      <th>Hotel</th>\n",
              "    </tr>\n",
              "  </thead>\n",
              "  <tbody>\n",
              "    <tr>\n",
              "      <th>0</th>\n",
              "      <td>318</td>\n",
              "      <td>0.219649</td>\n",
              "      <td>Best Western Lamplighter Inn Suites at SDSU</td>\n",
              "    </tr>\n",
              "    <tr>\n",
              "      <th>1</th>\n",
              "      <td>2292</td>\n",
              "      <td>0.170312</td>\n",
              "      <td>Home2 Suites By Hilton Greenville Airport</td>\n",
              "    </tr>\n",
              "    <tr>\n",
              "      <th>2</th>\n",
              "      <td>2894</td>\n",
              "      <td>0.161787</td>\n",
              "      <td>Americas Best Value Inn</td>\n",
              "    </tr>\n",
              "    <tr>\n",
              "      <th>3</th>\n",
              "      <td>431</td>\n",
              "      <td>0.113718</td>\n",
              "      <td>Hilton Garden Inn Atlanta Midtown</td>\n",
              "    </tr>\n",
              "    <tr>\n",
              "      <th>4</th>\n",
              "      <td>2554</td>\n",
              "      <td>0.106718</td>\n",
              "      <td>Stonebrook Lodge</td>\n",
              "    </tr>\n",
              "    <tr>\n",
              "      <th>5</th>\n",
              "      <td>2908</td>\n",
              "      <td>0.105427</td>\n",
              "      <td>Hilton Garden Inn DallasMarket Center</td>\n",
              "    </tr>\n",
              "    <tr>\n",
              "      <th>6</th>\n",
              "      <td>1416</td>\n",
              "      <td>0.104780</td>\n",
              "      <td>Best Western Dunkirk &amp; Fredonia Inn</td>\n",
              "    </tr>\n",
              "    <tr>\n",
              "      <th>7</th>\n",
              "      <td>1776</td>\n",
              "      <td>0.101527</td>\n",
              "      <td>Worldmark Estes Park</td>\n",
              "    </tr>\n",
              "    <tr>\n",
              "      <th>8</th>\n",
              "      <td>2585</td>\n",
              "      <td>0.097784</td>\n",
              "      <td>Holiday Inn Express &amp; Suites Anaheim Resort Area</td>\n",
              "    </tr>\n",
              "    <tr>\n",
              "      <th>9</th>\n",
              "      <td>1324</td>\n",
              "      <td>0.097642</td>\n",
              "      <td>The Westin Poinsett, Greenville</td>\n",
              "    </tr>\n",
              "  </tbody>\n",
              "</table>\n",
              "</div>"
            ],
            "text/plain": [
              "   HotelId     Score                                             Hotel\n",
              "0      318  0.219649       Best Western Lamplighter Inn Suites at SDSU\n",
              "1     2292  0.170312         Home2 Suites By Hilton Greenville Airport\n",
              "2     2894  0.161787                           Americas Best Value Inn\n",
              "3      431  0.113718                 Hilton Garden Inn Atlanta Midtown\n",
              "4     2554  0.106718                                  Stonebrook Lodge\n",
              "5     2908  0.105427             Hilton Garden Inn DallasMarket Center\n",
              "6     1416  0.104780               Best Western Dunkirk & Fredonia Inn\n",
              "7     1776  0.101527                              Worldmark Estes Park\n",
              "8     2585  0.097784  Holiday Inn Express & Suites Anaheim Resort Area\n",
              "9     1324  0.097642                   The Westin Poinsett, Greenville"
            ]
          },
          "metadata": {
            "tags": []
          },
          "execution_count": 40
        }
      ]
    },
    {
      "cell_type": "code",
      "metadata": {
        "id": "Xw90k6ZP8j9h",
        "colab_type": "code",
        "colab": {
          "base_uri": "https://localhost:8080/",
          "height": 356
        },
        "outputId": "c00eb728-bdba-4c0b-fa2b-18b2cd434208"
      },
      "source": [
        "#---------------------\n",
        "# FIND SIMILAR HOTELS\n",
        "#---------------------\n",
        "Hotel_id = 296 #Nob Hill Hotel\n",
        "n_similar = 10\n",
        "\n",
        "# Use implicit to get similar items.\n",
        "similar = model.similar_items(Hotel_id, n_similar)\n",
        "\n",
        "a=[]\n",
        "b=[]\n",
        "c=[]\n",
        "# Print the names of our most similar movies\n",
        "for item in similar:\n",
        "    idx, score = item\n",
        "    a.append(data.Hotel_id.loc[data.Hotel_id == idx].iloc[0])\n",
        "    b.append(score)\n",
        "    recommendations = pd.DataFrame({'HotelId': a, 'Score': b})\n",
        "\n",
        "for i in a:\n",
        "    c.append(hotel_data[hotel_data.Hotel_id==i].Hotel.iloc[0])\n",
        "\n",
        "recommendations['Hotel']=c\n",
        "recommendations"
      ],
      "execution_count": 57,
      "outputs": [
        {
          "output_type": "execute_result",
          "data": {
            "text/html": [
              "<div>\n",
              "<style scoped>\n",
              "    .dataframe tbody tr th:only-of-type {\n",
              "        vertical-align: middle;\n",
              "    }\n",
              "\n",
              "    .dataframe tbody tr th {\n",
              "        vertical-align: top;\n",
              "    }\n",
              "\n",
              "    .dataframe thead th {\n",
              "        text-align: right;\n",
              "    }\n",
              "</style>\n",
              "<table border=\"1\" class=\"dataframe\">\n",
              "  <thead>\n",
              "    <tr style=\"text-align: right;\">\n",
              "      <th></th>\n",
              "      <th>HotelId</th>\n",
              "      <th>Score</th>\n",
              "      <th>Hotel</th>\n",
              "    </tr>\n",
              "  </thead>\n",
              "  <tbody>\n",
              "    <tr>\n",
              "      <th>0</th>\n",
              "      <td>296</td>\n",
              "      <td>0.176546</td>\n",
              "      <td>Nob Hill Hotel</td>\n",
              "    </tr>\n",
              "    <tr>\n",
              "      <th>1</th>\n",
              "      <td>713</td>\n",
              "      <td>0.167843</td>\n",
              "      <td>Barn Motor Inn</td>\n",
              "    </tr>\n",
              "    <tr>\n",
              "      <th>2</th>\n",
              "      <td>1291</td>\n",
              "      <td>0.167836</td>\n",
              "      <td>Magnuson Grand Hotel</td>\n",
              "    </tr>\n",
              "    <tr>\n",
              "      <th>3</th>\n",
              "      <td>2937</td>\n",
              "      <td>0.125239</td>\n",
              "      <td>Hilton Garden Inn San Diego Rancho Bernardo</td>\n",
              "    </tr>\n",
              "    <tr>\n",
              "      <th>4</th>\n",
              "      <td>2111</td>\n",
              "      <td>0.104498</td>\n",
              "      <td>Motel 6 Watsonville - Monterey Area</td>\n",
              "    </tr>\n",
              "    <tr>\n",
              "      <th>5</th>\n",
              "      <td>2620</td>\n",
              "      <td>0.104296</td>\n",
              "      <td>Americas Best Value Inn-arkansas City</td>\n",
              "    </tr>\n",
              "    <tr>\n",
              "      <th>6</th>\n",
              "      <td>1004</td>\n",
              "      <td>0.100965</td>\n",
              "      <td>Country Inn &amp; Suites By Carlson, Carlisle, PA</td>\n",
              "    </tr>\n",
              "    <tr>\n",
              "      <th>7</th>\n",
              "      <td>1251</td>\n",
              "      <td>0.098050</td>\n",
              "      <td>Best Western Fort Lauderdale Airport/Cruise Port</td>\n",
              "    </tr>\n",
              "    <tr>\n",
              "      <th>8</th>\n",
              "      <td>1533</td>\n",
              "      <td>0.097838</td>\n",
              "      <td>Biddeford Motel</td>\n",
              "    </tr>\n",
              "    <tr>\n",
              "      <th>9</th>\n",
              "      <td>847</td>\n",
              "      <td>0.097774</td>\n",
              "      <td>Hotel Del Flores</td>\n",
              "    </tr>\n",
              "  </tbody>\n",
              "</table>\n",
              "</div>"
            ],
            "text/plain": [
              "   HotelId     Score                                             Hotel\n",
              "0      296  0.176546                                    Nob Hill Hotel\n",
              "1      713  0.167843                                    Barn Motor Inn\n",
              "2     1291  0.167836                              Magnuson Grand Hotel\n",
              "3     2937  0.125239       Hilton Garden Inn San Diego Rancho Bernardo\n",
              "4     2111  0.104498               Motel 6 Watsonville - Monterey Area\n",
              "5     2620  0.104296             Americas Best Value Inn-arkansas City\n",
              "6     1004  0.100965     Country Inn & Suites By Carlson, Carlisle, PA\n",
              "7     1251  0.098050  Best Western Fort Lauderdale Airport/Cruise Port\n",
              "8     1533  0.097838                                   Biddeford Motel\n",
              "9      847  0.097774                                  Hotel Del Flores"
            ]
          },
          "metadata": {
            "tags": []
          },
          "execution_count": 57
        }
      ]
    },
    {
      "cell_type": "code",
      "metadata": {
        "id": "RTOAkx_p9Onu",
        "colab_type": "code",
        "colab": {
          "base_uri": "https://localhost:8080/",
          "height": 356
        },
        "outputId": "33f2547b-d9bf-4c7d-f5ba-7421471bee60"
      },
      "source": [
        "#------------------------------\n",
        "# CREATE USER RECOMMENDATIONS\n",
        "#------------------------------\n",
        "\n",
        "# Create recommendations for user with id 1\n",
        "User_id =20\n",
        "\n",
        "# Use the implicit recommender.\n",
        "recommended = model.recommend(User_id, sparse_user_item)\n",
        "\n",
        "hotels = []\n",
        "scores = []\n",
        "c=[]\n",
        "\n",
        "for item in recommended:\n",
        "    idx, score=item\n",
        "    hotels.append(data.Hotel_id.loc[data.Hotel_id==idx].iloc[0])\n",
        "    scores.append(score)\n",
        "\n",
        "\n",
        "recommendations = pd.DataFrame({'HotelId': hotels, 'Score': scores})\n",
        "\n",
        "for i in hotels:\n",
        "    c.append(hotel_data[hotel_data.Hotel_id==i].Hotel.iloc[0])\n",
        "recommendations['Hotel']=c\n",
        "recommendations"
      ],
      "execution_count": 49,
      "outputs": [
        {
          "output_type": "execute_result",
          "data": {
            "text/html": [
              "<div>\n",
              "<style scoped>\n",
              "    .dataframe tbody tr th:only-of-type {\n",
              "        vertical-align: middle;\n",
              "    }\n",
              "\n",
              "    .dataframe tbody tr th {\n",
              "        vertical-align: top;\n",
              "    }\n",
              "\n",
              "    .dataframe thead th {\n",
              "        text-align: right;\n",
              "    }\n",
              "</style>\n",
              "<table border=\"1\" class=\"dataframe\">\n",
              "  <thead>\n",
              "    <tr style=\"text-align: right;\">\n",
              "      <th></th>\n",
              "      <th>HotelId</th>\n",
              "      <th>Score</th>\n",
              "      <th>Hotel</th>\n",
              "    </tr>\n",
              "  </thead>\n",
              "  <tbody>\n",
              "    <tr>\n",
              "      <th>0</th>\n",
              "      <td>9</td>\n",
              "      <td>0.950521</td>\n",
              "      <td>Doubletree By Hilton West Palm Beach Airport</td>\n",
              "    </tr>\n",
              "    <tr>\n",
              "      <th>1</th>\n",
              "      <td>38</td>\n",
              "      <td>0.385040</td>\n",
              "      <td>Doubletree By Hilton Hotel Bay City - Riverfront</td>\n",
              "    </tr>\n",
              "    <tr>\n",
              "      <th>2</th>\n",
              "      <td>1357</td>\n",
              "      <td>0.244432</td>\n",
              "      <td>InterContinental San Francisco</td>\n",
              "    </tr>\n",
              "    <tr>\n",
              "      <th>3</th>\n",
              "      <td>620</td>\n",
              "      <td>0.232435</td>\n",
              "      <td>SpringHill Suites Seattle Downtown/South Lake ...</td>\n",
              "    </tr>\n",
              "    <tr>\n",
              "      <th>4</th>\n",
              "      <td>1713</td>\n",
              "      <td>0.220871</td>\n",
              "      <td>Hampton Inn Hampton-Newport News</td>\n",
              "    </tr>\n",
              "    <tr>\n",
              "      <th>5</th>\n",
              "      <td>3025</td>\n",
              "      <td>0.209366</td>\n",
              "      <td>Breeze Suites</td>\n",
              "    </tr>\n",
              "    <tr>\n",
              "      <th>6</th>\n",
              "      <td>1963</td>\n",
              "      <td>0.208355</td>\n",
              "      <td>Courtyard Seattle Downtown/Lake Union</td>\n",
              "    </tr>\n",
              "    <tr>\n",
              "      <th>7</th>\n",
              "      <td>833</td>\n",
              "      <td>0.200237</td>\n",
              "      <td>Four Points by Sheraton Punta Gorda Harborside</td>\n",
              "    </tr>\n",
              "    <tr>\n",
              "      <th>8</th>\n",
              "      <td>1899</td>\n",
              "      <td>0.199080</td>\n",
              "      <td>Hampton Inn &amp; Suites Dallas/Cockrell Hill I-30</td>\n",
              "    </tr>\n",
              "    <tr>\n",
              "      <th>9</th>\n",
              "      <td>2945</td>\n",
              "      <td>0.186421</td>\n",
              "      <td>Best Western Orlando Convention Center Hotel</td>\n",
              "    </tr>\n",
              "  </tbody>\n",
              "</table>\n",
              "</div>"
            ],
            "text/plain": [
              "   HotelId     Score                                              Hotel\n",
              "0        9  0.950521       Doubletree By Hilton West Palm Beach Airport\n",
              "1       38  0.385040   Doubletree By Hilton Hotel Bay City - Riverfront\n",
              "2     1357  0.244432                     InterContinental San Francisco\n",
              "3      620  0.232435  SpringHill Suites Seattle Downtown/South Lake ...\n",
              "4     1713  0.220871                   Hampton Inn Hampton-Newport News\n",
              "5     3025  0.209366                                      Breeze Suites\n",
              "6     1963  0.208355              Courtyard Seattle Downtown/Lake Union\n",
              "7      833  0.200237     Four Points by Sheraton Punta Gorda Harborside\n",
              "8     1899  0.199080     Hampton Inn & Suites Dallas/Cockrell Hill I-30\n",
              "9     2945  0.186421       Best Western Orlando Convention Center Hotel"
            ]
          },
          "metadata": {
            "tags": []
          },
          "execution_count": 49
        }
      ]
    },
    {
      "cell_type": "code",
      "metadata": {
        "id": "1XYupZqs9_uF",
        "colab_type": "code",
        "colab": {
          "base_uri": "https://localhost:8080/",
          "height": 356
        },
        "outputId": "efe7276a-6667-40c3-bce8-4d428d659810"
      },
      "source": [
        "#------------------------------\n",
        "# CREATE USER RECOMMENDATIONS\n",
        "#------------------------------\n",
        "\n",
        "# Create recommendations for user with id 1\n",
        "User_id =906\n",
        "\n",
        "# Use the implicit recommender.\n",
        "recommended = model.recommend(User_id, sparse_user_item)\n",
        "\n",
        "hotels = []\n",
        "scores = []\n",
        "c=[]\n",
        "\n",
        "for item in recommended:\n",
        "    idx, score=item\n",
        "    hotels.append(data.Hotel_id.loc[data.Hotel_id==idx].iloc[0])\n",
        "    scores.append(score)\n",
        "\n",
        "\n",
        "recommendations = pd.DataFrame({'HotelId': hotels, 'Score': scores})\n",
        "\n",
        "for i in hotels:\n",
        "    c.append(hotel_data[hotel_data.Hotel_id==i].Hotel.iloc[0])\n",
        "recommendations['Hotel']=c\n",
        "recommendations"
      ],
      "execution_count": 53,
      "outputs": [
        {
          "output_type": "execute_result",
          "data": {
            "text/html": [
              "<div>\n",
              "<style scoped>\n",
              "    .dataframe tbody tr th:only-of-type {\n",
              "        vertical-align: middle;\n",
              "    }\n",
              "\n",
              "    .dataframe tbody tr th {\n",
              "        vertical-align: top;\n",
              "    }\n",
              "\n",
              "    .dataframe thead th {\n",
              "        text-align: right;\n",
              "    }\n",
              "</style>\n",
              "<table border=\"1\" class=\"dataframe\">\n",
              "  <thead>\n",
              "    <tr style=\"text-align: right;\">\n",
              "      <th></th>\n",
              "      <th>HotelId</th>\n",
              "      <th>Score</th>\n",
              "      <th>Hotel</th>\n",
              "    </tr>\n",
              "  </thead>\n",
              "  <tbody>\n",
              "    <tr>\n",
              "      <th>0</th>\n",
              "      <td>2674</td>\n",
              "      <td>0.656241</td>\n",
              "      <td>Villa Paradiso</td>\n",
              "    </tr>\n",
              "    <tr>\n",
              "      <th>1</th>\n",
              "      <td>5</td>\n",
              "      <td>0.359177</td>\n",
              "      <td>Country Inn and Suites By Carlson Corbin</td>\n",
              "    </tr>\n",
              "    <tr>\n",
              "      <th>2</th>\n",
              "      <td>3127</td>\n",
              "      <td>0.352817</td>\n",
              "      <td>Holiday Inn Canyon De Chelly</td>\n",
              "    </tr>\n",
              "    <tr>\n",
              "      <th>3</th>\n",
              "      <td>2684</td>\n",
              "      <td>0.350387</td>\n",
              "      <td>Mandarin Oriental, Miami</td>\n",
              "    </tr>\n",
              "    <tr>\n",
              "      <th>4</th>\n",
              "      <td>2678</td>\n",
              "      <td>0.346196</td>\n",
              "      <td>The Charlesmark Hotel</td>\n",
              "    </tr>\n",
              "    <tr>\n",
              "      <th>5</th>\n",
              "      <td>2973</td>\n",
              "      <td>0.308582</td>\n",
              "      <td>Hotel Zetta San Francisco</td>\n",
              "    </tr>\n",
              "    <tr>\n",
              "      <th>6</th>\n",
              "      <td>2822</td>\n",
              "      <td>0.296789</td>\n",
              "      <td>French Market Inn</td>\n",
              "    </tr>\n",
              "    <tr>\n",
              "      <th>7</th>\n",
              "      <td>13</td>\n",
              "      <td>0.290184</td>\n",
              "      <td>La Quinta Inn and Suites Tucson - Reid Park</td>\n",
              "    </tr>\n",
              "    <tr>\n",
              "      <th>8</th>\n",
              "      <td>3118</td>\n",
              "      <td>0.289894</td>\n",
              "      <td>Fairfield Inn By Marriott Binghamton</td>\n",
              "    </tr>\n",
              "    <tr>\n",
              "      <th>9</th>\n",
              "      <td>1963</td>\n",
              "      <td>0.289178</td>\n",
              "      <td>Courtyard Seattle Downtown/Lake Union</td>\n",
              "    </tr>\n",
              "  </tbody>\n",
              "</table>\n",
              "</div>"
            ],
            "text/plain": [
              "   HotelId     Score                                        Hotel\n",
              "0     2674  0.656241                               Villa Paradiso\n",
              "1        5  0.359177     Country Inn and Suites By Carlson Corbin\n",
              "2     3127  0.352817                 Holiday Inn Canyon De Chelly\n",
              "3     2684  0.350387                     Mandarin Oriental, Miami\n",
              "4     2678  0.346196                        The Charlesmark Hotel\n",
              "5     2973  0.308582                    Hotel Zetta San Francisco\n",
              "6     2822  0.296789                            French Market Inn\n",
              "7       13  0.290184  La Quinta Inn and Suites Tucson - Reid Park\n",
              "8     3118  0.289894         Fairfield Inn By Marriott Binghamton\n",
              "9     1963  0.289178        Courtyard Seattle Downtown/Lake Union"
            ]
          },
          "metadata": {
            "tags": []
          },
          "execution_count": 53
        }
      ]
    }
  ]
}